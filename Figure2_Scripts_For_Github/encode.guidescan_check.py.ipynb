{
 "cells": [
  {
   "cell_type": "code",
   "execution_count": 10,
   "id": "09d14a64",
   "metadata": {},
   "outputs": [],
   "source": [
    "import pandas as pd\n",
    "import numpy as np\n",
    "import scipy\n",
    "import scipy.stats as stats\n",
    "import math\n",
    "import re\n",
    "import subprocess\n",
    "from os import listdir\n",
    "from os.path import isfile, isdir, join"
   ]
  },
  {
   "cell_type": "code",
   "execution_count": 3,
   "id": "067c9540",
   "metadata": {},
   "outputs": [
    {
     "name": "stdout",
     "output_type": "stream",
     "text": [
      "/Users/davidy/jamboree20crispr/guidescan_encode\n"
     ]
    }
   ],
   "source": [
    "cd /Users/davidy/jamboree20crispr/guidescan_encode"
   ]
  },
  {
   "cell_type": "code",
   "execution_count": 14,
   "id": "6ac9f3a0",
   "metadata": {},
   "outputs": [
    {
     "name": "stdout",
     "output_type": "stream",
     "text": [
      "['mm10-CA-TF', 'hg38-CA', 'mm10-TF', 'hg38-pELS', 'hg38-CA-CTCF', 'hg38-CA-TF', 'mm10-pELS', 'mm10-CA', 'hg38-TF', 'hg38-CA-H3K4me3', 'mm10-CA-CTCF', 'mm10-CA-H3K4me3', 'hg38-PLS', 'hg38-dELS', 'mm10-PLS', 'mm10-dELS']\n",
      "['/Users/davidy/jamboree20crispr/guidescan_encode/results/hg38-CA', '/Users/davidy/jamboree20crispr/guidescan_encode/results/hg38-pELS', '/Users/davidy/jamboree20crispr/guidescan_encode/results/hg38-CA-CTCF', '/Users/davidy/jamboree20crispr/guidescan_encode/results/hg38-CA-TF', '/Users/davidy/jamboree20crispr/guidescan_encode/results/hg38-TF', '/Users/davidy/jamboree20crispr/guidescan_encode/results/hg38-CA-H3K4me3', '/Users/davidy/jamboree20crispr/guidescan_encode/results/hg38-PLS', '/Users/davidy/jamboree20crispr/guidescan_encode/results/hg38-dELS']\n"
     ]
    }
   ],
   "source": [
    "### Get folders of interest\n",
    "folder_tag = '/Users/davidy/jamboree20crispr/guidescan_encode/results'\n",
    "# Switch tags for species\n",
    "species_tag = 'hg38'\n",
    "#species_tag = 'mm10'\n",
    "\n",
    "# Get folders\n",
    "all_eq_files = [f for f in listdir(folder_tag) if isdir(join(folder_tag, f))]\n",
    "species_folders = [folder_tag+'/'+f for f in all_eq_files if species_tag in f]\n",
    "print(species_folders)\n",
    "\n",
    "# Iterate through folders/unfiltered files\n",
    "for sf in species_folders:\n",
    "    unfiltered_df = pd.read_csv(sf+'/unfiltered_grnas.csv', )\n"
   ]
  }
 ],
 "metadata": {
  "kernelspec": {
   "display_name": "Python 3",
   "language": "python",
   "name": "python3"
  },
  "language_info": {
   "codemirror_mode": {
    "name": "ipython",
    "version": 3
   },
   "file_extension": ".py",
   "mimetype": "text/x-python",
   "name": "python",
   "nbconvert_exporter": "python",
   "pygments_lexer": "ipython3",
   "version": "3.8.5"
  }
 },
 "nbformat": 4,
 "nbformat_minor": 5
}
