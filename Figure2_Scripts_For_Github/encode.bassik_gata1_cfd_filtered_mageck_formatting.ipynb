{
 "cells": [
  {
   "cell_type": "code",
   "execution_count": 5,
   "id": "6139581a",
   "metadata": {},
   "outputs": [],
   "source": [
    "import pandas as pd\n",
    "import subprocess\n",
    "from os import listdir\n",
    "from os.path import isfile, join\n",
    "from functools import reduce\n"
   ]
  },
  {
   "cell_type": "code",
   "execution_count": 2,
   "id": "3a713a8f",
   "metadata": {},
   "outputs": [
    {
     "name": "stdout",
     "output_type": "stream",
     "text": [
      "/Users/davidy/jamboree20crispr/mageck_formatting/bassik_cfd_filtered\n"
     ]
    }
   ],
   "source": [
    "cd /Users/davidy/jamboree20crispr/mageck_formatting/bassik_cfd_filtered"
   ]
  },
  {
   "cell_type": "code",
   "execution_count": 14,
   "id": "d8632a95",
   "metadata": {},
   "outputs": [
    {
     "name": "stdout",
     "output_type": "stream",
     "text": [
      "['T21_I_R2_Bassik_guide_quantifications.bed', 'T7_D_Bassik_guide_quantifications.bed', 'T21_I_R1_Bassik_guide_quantifications.bed', 'T7_K_Bassik_guide_quantifications.bed', 'T21_K_R2_Bassik_guide_quantifications.bed', 'T7_A_Bassik_guide_quantifications.bed', 'T21_D_R2_Bassik_guide_quantifications.bed', 'Plasmid_Bassik_guide_quantifications.bed', 'T21_A_R1_Bassik_guide_quantifications.bed', 'T7_I_Bassik_guide_quantifications.bed', 'T21_K_R1_Bassik_guide_quantifications.bed', 'T21_D_R1_Bassik_guide_quantifications.bed', 'T21_A_R2_Bassik_guide_quantifications.bed']\n"
     ]
    }
   ],
   "source": [
    "cfd_filtered_set = pd.read_csv('bassik_crispri_gata1growth.removelowspec.final.txt', sep = '\\t')\n",
    "\n",
    "guide_quantification_file_directory = '/Users/davidy/jamboree20crispr/tycko_all/'\n",
    "\n",
    "all_files = [f for f in listdir(guide_quantification_file_directory) if isfile(join(guide_quantification_file_directory, f))]\n",
    "gq_files = [f for f in all_files if '_Bassik_guide_quantifications.bed' in f]\n",
    "print(gq_files)\n",
    "\n",
    "for f in gq_files:\n",
    "    temp_df = pd.read_csv(guide_quantification_file_directory+f, sep = '\\t', header=None)\n",
    "\n",
    "    temp_df = temp_df.loc[(temp_df[6].isin(cfd_filtered_set['grna_id'])) | (temp_df[15]=='negative_control')]\n",
    "\n",
    "    new_output_name = 'CFD_filtered_' + f\n",
    "    temp_df.to_csv(new_output_name, sep = '\\t', header = False, index=False)\n",
    "    \n",
    "    \n",
    "\n"
   ]
  }
 ],
 "metadata": {
  "kernelspec": {
   "display_name": "Python 3",
   "language": "python",
   "name": "python3"
  },
  "language_info": {
   "codemirror_mode": {
    "name": "ipython",
    "version": 3
   },
   "file_extension": ".py",
   "mimetype": "text/x-python",
   "name": "python",
   "nbconvert_exporter": "python",
   "pygments_lexer": "ipython3",
   "version": "3.8.5"
  }
 },
 "nbformat": 4,
 "nbformat_minor": 5
}
