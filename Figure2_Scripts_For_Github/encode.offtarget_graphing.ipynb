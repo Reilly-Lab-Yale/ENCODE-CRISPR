{
 "cells": [
  {
   "cell_type": "code",
   "execution_count": 1,
   "id": "ef21551d",
   "metadata": {},
   "outputs": [],
   "source": [
    "import pandas as pd\n",
    "import numpy as np\n",
    "import scipy\n",
    "import scipy.stats as stats\n",
    "import math\n",
    "import re\n",
    "import subprocess"
   ]
  },
  {
   "cell_type": "code",
   "execution_count": 3,
   "id": "62293977",
   "metadata": {},
   "outputs": [],
   "source": [
    "import matplotlib as mpl \n",
    "mpl.use('Agg')\n",
    "mpl.rcParams['pdf.fonttype'] = 42\n",
    "import seaborn as sns\n",
    "import matplotlib.pyplot as plt\n",
    "plt.close(\"all\")\n",
    "mpl.rcParams['font.sans-serif'] = \"Arial\"\n",
    "mpl.rcParams[\"font.family\"] = 'sans-serif'\n",
    "mpl.rcParams['font.size'] = 8\n",
    "sns.set(style=\"ticks\")"
   ]
  },
  {
   "cell_type": "code",
   "execution_count": 2,
   "id": "468279b4",
   "metadata": {
    "scrolled": true
   },
   "outputs": [
    {
     "name": "stdout",
     "output_type": "stream",
     "text": [
      "/Users/davidy/jamboree20crispr/negative_control_analysis\n"
     ]
    }
   ],
   "source": [
    "cd /Users/davidy/jamboree20crispr/negative_control_analysis"
   ]
  },
  {
   "cell_type": "code",
   "execution_count": 11,
   "id": "40687c73",
   "metadata": {
    "scrolled": true
   },
   "outputs": [
    {
     "name": "stderr",
     "output_type": "stream",
     "text": [
      "<ipython-input-11-10ff0bafa7ec>:4: SettingWithCopyWarning: \n",
      "A value is trying to be set on a copy of a slice from a DataFrame.\n",
      "Try using .loc[row_indexer,col_indexer] = value instead\n",
      "\n",
      "See the caveats in the documentation: https://pandas.pydata.org/pandas-docs/stable/user_guide/indexing.html#returning-a-view-versus-a-copy\n",
      "  nc_df['avg_log2'] = nc_df[['log2_rep1', 'log2_rep2']].mean(axis=1)\n"
     ]
    },
    {
     "data": {
      "text/html": [
       "<div>\n",
       "<style scoped>\n",
       "    .dataframe tbody tr th:only-of-type {\n",
       "        vertical-align: middle;\n",
       "    }\n",
       "\n",
       "    .dataframe tbody tr th {\n",
       "        vertical-align: top;\n",
       "    }\n",
       "\n",
       "    .dataframe thead th {\n",
       "        text-align: right;\n",
       "    }\n",
       "</style>\n",
       "<table border=\"1\" class=\"dataframe\">\n",
       "  <thead>\n",
       "    <tr style=\"text-align: right;\">\n",
       "      <th></th>\n",
       "      <th>Coordinates_x</th>\n",
       "      <th>log2_rep1</th>\n",
       "      <th>log2_rep2</th>\n",
       "      <th>Design_x</th>\n",
       "      <th>avg_log2</th>\n",
       "    </tr>\n",
       "  </thead>\n",
       "  <tbody>\n",
       "    <tr>\n",
       "      <th>53501</th>\n",
       "      <td>chr10:107843620-107843639:+</td>\n",
       "      <td>0.557577</td>\n",
       "      <td>-0.118953</td>\n",
       "      <td>ST-CTRL</td>\n",
       "      <td>0.219312</td>\n",
       "    </tr>\n",
       "    <tr>\n",
       "      <th>53502</th>\n",
       "      <td>chr10:107843650-107843669:+</td>\n",
       "      <td>-0.646121</td>\n",
       "      <td>-0.687304</td>\n",
       "      <td>ST-CTRL</td>\n",
       "      <td>-0.666713</td>\n",
       "    </tr>\n",
       "    <tr>\n",
       "      <th>53503</th>\n",
       "      <td>chr10:123598185-123598204:+</td>\n",
       "      <td>0.814645</td>\n",
       "      <td>-0.700440</td>\n",
       "      <td>ST-CTRL</td>\n",
       "      <td>0.057103</td>\n",
       "    </tr>\n",
       "    <tr>\n",
       "      <th>53504</th>\n",
       "      <td>chr10:123598305-123598324:-</td>\n",
       "      <td>-0.101339</td>\n",
       "      <td>-0.357732</td>\n",
       "      <td>ST-CTRL</td>\n",
       "      <td>-0.229535</td>\n",
       "    </tr>\n",
       "    <tr>\n",
       "      <th>53505</th>\n",
       "      <td>chr10:128283965-128283984:-</td>\n",
       "      <td>-0.359645</td>\n",
       "      <td>-0.194835</td>\n",
       "      <td>ST-CTRL</td>\n",
       "      <td>-0.277240</td>\n",
       "    </tr>\n",
       "    <tr>\n",
       "      <th>...</th>\n",
       "      <td>...</td>\n",
       "      <td>...</td>\n",
       "      <td>...</td>\n",
       "      <td>...</td>\n",
       "      <td>...</td>\n",
       "    </tr>\n",
       "    <tr>\n",
       "      <th>55496</th>\n",
       "      <td>CTRL</td>\n",
       "      <td>0.739739</td>\n",
       "      <td>-0.085656</td>\n",
       "      <td>NT-CTRL</td>\n",
       "      <td>0.327042</td>\n",
       "    </tr>\n",
       "    <tr>\n",
       "      <th>55497</th>\n",
       "      <td>CTRL</td>\n",
       "      <td>1.398478</td>\n",
       "      <td>1.091861</td>\n",
       "      <td>NT-CTRL</td>\n",
       "      <td>1.245170</td>\n",
       "    </tr>\n",
       "    <tr>\n",
       "      <th>55498</th>\n",
       "      <td>CTRL</td>\n",
       "      <td>0.846734</td>\n",
       "      <td>-0.321423</td>\n",
       "      <td>NT-CTRL</td>\n",
       "      <td>0.262656</td>\n",
       "    </tr>\n",
       "    <tr>\n",
       "      <th>55499</th>\n",
       "      <td>CTRL</td>\n",
       "      <td>0.531333</td>\n",
       "      <td>1.087309</td>\n",
       "      <td>NT-CTRL</td>\n",
       "      <td>0.809321</td>\n",
       "    </tr>\n",
       "    <tr>\n",
       "      <th>55500</th>\n",
       "      <td>CTRL</td>\n",
       "      <td>1.517976</td>\n",
       "      <td>0.632618</td>\n",
       "      <td>NT-CTRL</td>\n",
       "      <td>1.075297</td>\n",
       "    </tr>\n",
       "  </tbody>\n",
       "</table>\n",
       "<p>2000 rows × 5 columns</p>\n",
       "</div>"
      ],
      "text/plain": [
       "                     Coordinates_x  log2_rep1  log2_rep2 Design_x  avg_log2\n",
       "53501  chr10:107843620-107843639:+   0.557577  -0.118953  ST-CTRL  0.219312\n",
       "53502  chr10:107843650-107843669:+  -0.646121  -0.687304  ST-CTRL -0.666713\n",
       "53503  chr10:123598185-123598204:+   0.814645  -0.700440  ST-CTRL  0.057103\n",
       "53504  chr10:123598305-123598324:-  -0.101339  -0.357732  ST-CTRL -0.229535\n",
       "53505  chr10:128283965-128283984:-  -0.359645  -0.194835  ST-CTRL -0.277240\n",
       "...                            ...        ...        ...      ...       ...\n",
       "55496                         CTRL   0.739739  -0.085656  NT-CTRL  0.327042\n",
       "55497                         CTRL   1.398478   1.091861  NT-CTRL  1.245170\n",
       "55498                         CTRL   0.846734  -0.321423  NT-CTRL  0.262656\n",
       "55499                         CTRL   0.531333   1.087309  NT-CTRL  0.809321\n",
       "55500                         CTRL   1.517976   0.632618  NT-CTRL  1.075297\n",
       "\n",
       "[2000 rows x 5 columns]"
      ]
     },
     "metadata": {},
     "output_type": "display_data"
    }
   ],
   "source": [
    "### Load dataframe\n",
    "cd164_df = pd.read_csv('CD164_negative_control_df.csv')\n",
    "nc_df = cd164_df.loc[(cd164_df['Design_x']=='ST-CTRL') | (cd164_df['Design_x']=='NT-CTRL')]\n",
    "nc_df['avg_log2'] = nc_df[['log2_rep1', 'log2_rep2']].mean(axis=1)\n",
    "display(nc_df)"
   ]
  },
  {
   "cell_type": "code",
   "execution_count": 21,
   "id": "6d97fae3",
   "metadata": {},
   "outputs": [
    {
     "name": "stdout",
     "output_type": "stream",
     "text": [
      "Ttest_indResult(statistic=-1.2007648220430145, pvalue=0.22998809738176879)\n",
      "LeveneResult(statistic=11.800146503144951, pvalue=0.000604361649627275)\n"
     ]
    }
   ],
   "source": [
    "##### Plot\n",
    "g1 = sns.jointplot(data=nc_df, x='log2_rep1',y='log2_rep2', hue='Design_x',alpha=0.5)\n",
    "outplot = 'NTvST_Repwise_Jointplot.pdf'\n",
    "plt.savefig(outplot)\n",
    "plt.close('all')\n",
    "\n",
    "g2 = sns.violinplot(data=nc_df, x='Design_x',y='avg_log2')\n",
    "outplot = 'NTvST_AvgLog2_Boxplot.pdf'\n",
    "plt.savefig(outplot)\n",
    "plt.close('all')\n",
    "\n",
    "a = nc_df.loc[nc_df['Design_x']=='ST-CTRL']['avg_log2']\n",
    "b = nc_df.loc[nc_df['Design_x']=='NT-CTRL']['avg_log2']\n",
    "print(stats.ttest_ind(a, b,  equal_var=False, alternative='two-sided'))\n",
    "print(stats.levene(a,b, center='mean'))"
   ]
  }
 ],
 "metadata": {
  "kernelspec": {
   "display_name": "Python 3",
   "language": "python",
   "name": "python3"
  },
  "language_info": {
   "codemirror_mode": {
    "name": "ipython",
    "version": 3
   },
   "file_extension": ".py",
   "mimetype": "text/x-python",
   "name": "python",
   "nbconvert_exporter": "python",
   "pygments_lexer": "ipython3",
   "version": "3.8.5"
  }
 },
 "nbformat": 4,
 "nbformat_minor": 5
}
