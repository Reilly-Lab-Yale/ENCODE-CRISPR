{
 "cells": [
  {
   "cell_type": "markdown",
   "metadata": {},
   "source": [
    "## Call peaks for the GITR locus screen in mouse T cells using aggrDESeq2 approach, then compare peak calls across methods"
   ]
  },
  {
   "cell_type": "markdown",
   "metadata": {},
   "source": [
    "### First, generate 100bp bin mapping for gRNAs"
   ]
  },
  {
   "cell_type": "markdown",
   "metadata": {},
   "source": [
    "First need to adjust the gRNA coordinates to retrieve the PAM coordinates, write .bed file, the intersect with 100bp bins of mouse chr4 assuming a +/-150bp window of effect for KRAB perturbation."
   ]
  },
  {
   "cell_type": "markdown",
   "metadata": {},
   "source": [
    "#### Start in `R`"
   ]
  },
  {
   "cell_type": "markdown",
   "metadata": {},
   "source": [
    "#### Load libraries for data processing"
   ]
  },
  {
   "cell_type": "code",
   "execution_count": 3,
   "metadata": {},
   "outputs": [],
   "source": [
    "suppressPackageStartupMessages(library(tidyverse))"
   ]
  },
  {
   "cell_type": "markdown",
   "metadata": {},
   "source": [
    "#### Load sgRNA content"
   ]
  },
  {
   "cell_type": "code",
   "execution_count": 4,
   "metadata": {},
   "outputs": [
    {
     "data": {
      "text/html": [
       "<table class=\"dataframe\">\n",
       "<caption>A data.frame: 1 × 14</caption>\n",
       "<thead>\n",
       "\t<tr><th></th><th scope=col>chromosome</th><th scope=col>target.site.start.coordinate</th><th scope=col>target.site.end.coordinate</th><th scope=col>gRNA</th><th scope=col>cutting.efficiency.score</th><th scope=col>cutting.specificity.score</th><th scope=col>strand</th><th scope=col>offtargets.sum</th><th scope=col>offtargets.summary</th><th scope=col>annotation</th><th scope=col>gRNA.label</th><th scope=col>accessibility_cpm</th><th scope=col>peak</th><th scope=col>rank_in_peak</th></tr>\n",
       "\t<tr><th></th><th scope=col>&lt;chr&gt;</th><th scope=col>&lt;int&gt;</th><th scope=col>&lt;int&gt;</th><th scope=col>&lt;chr&gt;</th><th scope=col>&lt;int&gt;</th><th scope=col>&lt;dbl&gt;</th><th scope=col>&lt;chr&gt;</th><th scope=col>&lt;int&gt;</th><th scope=col>&lt;chr&gt;</th><th scope=col>&lt;chr&gt;</th><th scope=col>&lt;chr&gt;</th><th scope=col>&lt;dbl&gt;</th><th scope=col>&lt;chr&gt;</th><th scope=col>&lt;int&gt;</th></tr>\n",
       "</thead>\n",
       "<tbody>\n",
       "\t<tr><th scope=row>1</th><td>chr4</td><td>156026280</td><td>156026302</td><td>GGCCTGAAGCCCAGTCTGAG</td><td>56</td><td>0.2401473</td><td>+</td><td>22</td><td>2:1|3:21</td><td>*</td><td>peak_10__66</td><td>6.566831</td><td>peak_10_</td><td>1</td></tr>\n",
       "</tbody>\n",
       "</table>\n"
      ],
      "text/latex": [
       "A data.frame: 1 × 14\n",
       "\\begin{tabular}{r|llllllllllllll}\n",
       "  & chromosome & target.site.start.coordinate & target.site.end.coordinate & gRNA & cutting.efficiency.score & cutting.specificity.score & strand & offtargets.sum & offtargets.summary & annotation & gRNA.label & accessibility\\_cpm & peak & rank\\_in\\_peak\\\\\n",
       "  & <chr> & <int> & <int> & <chr> & <int> & <dbl> & <chr> & <int> & <chr> & <chr> & <chr> & <dbl> & <chr> & <int>\\\\\n",
       "\\hline\n",
       "\t1 & chr4 & 156026280 & 156026302 & GGCCTGAAGCCCAGTCTGAG & 56 & 0.2401473 & + & 22 & 2:1\\textbar{}3:21 & * & peak\\_10\\_\\_66 & 6.566831 & peak\\_10\\_ & 1\\\\\n",
       "\\end{tabular}\n"
      ],
      "text/markdown": [
       "\n",
       "A data.frame: 1 × 14\n",
       "\n",
       "| <!--/--> | chromosome &lt;chr&gt; | target.site.start.coordinate &lt;int&gt; | target.site.end.coordinate &lt;int&gt; | gRNA &lt;chr&gt; | cutting.efficiency.score &lt;int&gt; | cutting.specificity.score &lt;dbl&gt; | strand &lt;chr&gt; | offtargets.sum &lt;int&gt; | offtargets.summary &lt;chr&gt; | annotation &lt;chr&gt; | gRNA.label &lt;chr&gt; | accessibility_cpm &lt;dbl&gt; | peak &lt;chr&gt; | rank_in_peak &lt;int&gt; |\n",
       "|---|---|---|---|---|---|---|---|---|---|---|---|---|---|---|\n",
       "| 1 | chr4 | 156026280 | 156026302 | GGCCTGAAGCCCAGTCTGAG | 56 | 0.2401473 | + | 22 | 2:1|3:21 | * | peak_10__66 | 6.566831 | peak_10_ | 1 |\n",
       "\n"
      ],
      "text/plain": [
       "  chromosome target.site.start.coordinate target.site.end.coordinate\n",
       "1 chr4       156026280                    156026302                 \n",
       "  gRNA                 cutting.efficiency.score cutting.specificity.score\n",
       "1 GGCCTGAAGCCCAGTCTGAG 56                       0.2401473                \n",
       "  strand offtargets.sum offtargets.summary annotation gRNA.label \n",
       "1 +      22             2:1|3:21           *          peak_10__66\n",
       "  accessibility_cpm peak     rank_in_peak\n",
       "1 6.566831          peak_10_ 1           "
      ]
     },
     "metadata": {},
     "output_type": "display_data"
    },
    {
     "data": {
      "text/html": [
       "<style>\n",
       ".list-inline {list-style: none; margin:0; padding: 0}\n",
       ".list-inline>li {display: inline-block}\n",
       ".list-inline>li:not(:last-child)::after {content: \"\\00b7\"; padding: 0 .5ex}\n",
       "</style>\n",
       "<ol class=list-inline><li>404</li><li>14</li></ol>\n"
      ],
      "text/latex": [
       "\\begin{enumerate*}\n",
       "\\item 404\n",
       "\\item 14\n",
       "\\end{enumerate*}\n"
      ],
      "text/markdown": [
       "1. 404\n",
       "2. 14\n",
       "\n",
       "\n"
      ],
      "text/plain": [
       "[1] 404  14"
      ]
     },
     "metadata": {},
     "output_type": "display_data"
    }
   ],
   "source": [
    "guidescan <- read.delim(\"figure4_tcells/screen_data/guideScan_output.spec_score_over_0_2.noTTTTnoGGGGG.original.uniqueName.5bp_max_overlap.accessibilityScore_ranked_in_peaks.final.v2.txt\",\n",
    "                   header = TRUE)\n",
    "\n",
    "head(guidescan,n=1)\n",
    "dim(guidescan)"
   ]
  },
  {
   "cell_type": "code",
   "execution_count": 5,
   "metadata": {},
   "outputs": [
    {
     "data": {
      "text/html": [
       "<table class=\"dataframe\">\n",
       "<caption>A data.frame: 0 × 14</caption>\n",
       "<thead>\n",
       "\t<tr><th scope=col>chromosome</th><th scope=col>target.site.start.coordinate</th><th scope=col>target.site.end.coordinate</th><th scope=col>gRNA</th><th scope=col>cutting.efficiency.score</th><th scope=col>cutting.specificity.score</th><th scope=col>strand</th><th scope=col>offtargets.sum</th><th scope=col>offtargets.summary</th><th scope=col>annotation</th><th scope=col>gRNA.label</th><th scope=col>accessibility_cpm</th><th scope=col>peak</th><th scope=col>rank_in_peak</th></tr>\n",
       "\t<tr><th scope=col>&lt;chr&gt;</th><th scope=col>&lt;int&gt;</th><th scope=col>&lt;int&gt;</th><th scope=col>&lt;chr&gt;</th><th scope=col>&lt;int&gt;</th><th scope=col>&lt;dbl&gt;</th><th scope=col>&lt;chr&gt;</th><th scope=col>&lt;int&gt;</th><th scope=col>&lt;chr&gt;</th><th scope=col>&lt;chr&gt;</th><th scope=col>&lt;chr&gt;</th><th scope=col>&lt;dbl&gt;</th><th scope=col>&lt;chr&gt;</th><th scope=col>&lt;int&gt;</th></tr>\n",
       "</thead>\n",
       "<tbody>\n",
       "</tbody>\n",
       "</table>\n"
      ],
      "text/latex": [
       "A data.frame: 0 × 14\n",
       "\\begin{tabular}{llllllllllllll}\n",
       " chromosome & target.site.start.coordinate & target.site.end.coordinate & gRNA & cutting.efficiency.score & cutting.specificity.score & strand & offtargets.sum & offtargets.summary & annotation & gRNA.label & accessibility\\_cpm & peak & rank\\_in\\_peak\\\\\n",
       " <chr> & <int> & <int> & <chr> & <int> & <dbl> & <chr> & <int> & <chr> & <chr> & <chr> & <dbl> & <chr> & <int>\\\\\n",
       "\\hline\n",
       "\\end{tabular}\n"
      ],
      "text/markdown": [
       "\n",
       "A data.frame: 0 × 14\n",
       "\n",
       "| chromosome &lt;chr&gt; | target.site.start.coordinate &lt;int&gt; | target.site.end.coordinate &lt;int&gt; | gRNA &lt;chr&gt; | cutting.efficiency.score &lt;int&gt; | cutting.specificity.score &lt;dbl&gt; | strand &lt;chr&gt; | offtargets.sum &lt;int&gt; | offtargets.summary &lt;chr&gt; | annotation &lt;chr&gt; | gRNA.label &lt;chr&gt; | accessibility_cpm &lt;dbl&gt; | peak &lt;chr&gt; | rank_in_peak &lt;int&gt; |\n",
       "|---|---|---|---|---|---|---|---|---|---|---|---|---|---|\n",
       "\n"
      ],
      "text/plain": [
       "     chromosome target.site.start.coordinate target.site.end.coordinate gRNA\n",
       "     cutting.efficiency.score cutting.specificity.score strand offtargets.sum\n",
       "     offtargets.summary annotation gRNA.label accessibility_cpm peak\n",
       "     rank_in_peak"
      ]
     },
     "metadata": {},
     "output_type": "display_data"
    }
   ],
   "source": [
    "guidescan %>%\n",
    "filter(cutting.specificity.score < 0.2)"
   ]
  },
  {
   "cell_type": "code",
   "execution_count": 24,
   "metadata": {},
   "outputs": [],
   "source": [
    "guidescan %>%\n",
    "mutate(chr = chromosome,\n",
    "       start = target.site.start.coordinate,\n",
    "       end = target.site.end.coordinate,\n",
    "       protospacer = gRNA,\n",
    "       grna = paste0(chr,\":\",start,\"-\",end,\"_\",strand,\"_\",protospacer)) %>%\n",
    "select(grna, protospacer, chr, start, end, strand) %>%\n",
    "distinct() %>%\n",
    "mutate(length_seq = nchar(protospacer),\n",
    "       length_coords = end - start,\n",
    "       true_start = ifelse(strand == \"+\", start, start + 3),\n",
    "       true_end = ifelse(strand == \"+\", end - 3, end),\n",
    "       cutsite_chr = chr,\n",
    "       cutsite_start = ifelse(strand == \"+\", true_end - 3, true_start + 3),\n",
    "       cutsite_end = ifelse(strand == \"+\", true_end, true_start),\n",
    "       new_chr = chr,\n",
    "       new_start = ifelse(cutsite_start < cutsite_end, cutsite_start, cutsite_end),\n",
    "       new_end = ifelse(cutsite_start < cutsite_end, cutsite_end, cutsite_start)\n",
    "       ) %>%\n",
    "select(new_chr, new_start, new_end, grna) %>%\n",
    "distinct() %>%\n",
    "write.table(\"figure4_tcells/screen_data/GITR_grna_cutsite_coords.bed\", \n",
    "            col.names=F, row.names=F, quote=F, sep=\"\\t\")"
   ]
  },
  {
   "cell_type": "markdown",
   "metadata": {},
   "source": [
    "All guides are 20bp --> use +/-3."
   ]
  },
  {
   "cell_type": "markdown",
   "metadata": {},
   "source": [
    "GGCCTGAAGCCCAGTCTGAG chr4   +   156026280 156026299     20\n",
    "ACTCTCCTCCTTGCCTTACC\tchr4   -   156026537 156026556     20"
   ]
  },
  {
   "cell_type": "markdown",
   "metadata": {},
   "source": [
    "#### Switch to `python`"
   ]
  },
  {
   "cell_type": "markdown",
   "metadata": {},
   "source": [
    "#### Load chromosome sizes (use as input to make windows)"
   ]
  },
  {
   "cell_type": "code",
   "execution_count": 2,
   "metadata": {},
   "outputs": [
    {
     "name": "stdout",
     "output_type": "stream",
     "text": [
      "chr4\t156508116\n"
     ]
    }
   ],
   "source": [
    "%%bash\n",
    "\n",
    "grep -P 'chr4' annotations/mm10.chromSizes.noalts.txt > annotations/mm10.chr4size.bed\n",
    "head annotations/mm10.chr4size.bed"
   ]
  },
  {
   "cell_type": "markdown",
   "metadata": {},
   "source": [
    "#### Make 100bp bins along chr4, then intersect those bins with the gRNAs assuming a +/- 150bp window of effect for KRAB"
   ]
  },
  {
   "cell_type": "code",
   "execution_count": 5,
   "metadata": {},
   "outputs": [
    {
     "name": "stdout",
     "output_type": "stream",
     "text": [
      "chr4\t156026296\t156026299\tchr4:156026280-156026302_+_GGCCTGAAGCCCAGTCTGAG\tchr4\t156026100\t156026200\n",
      "1623 figure4_tcells/screen_data/GITR_grna_cutsite_coords.krab.100step.txt\n"
     ]
    }
   ],
   "source": [
    "%%bash\n",
    "\n",
    "module load bedtools2\n",
    "\n",
    "bedtools makewindows -g annotations/mm10.chr4size.bed -w 100 -s 100 |\\\n",
    "bedtools window \\\n",
    "-a figure4_tcells/screen_data/GITR_grna_cutsite_coords.bed \\\n",
    "-b stdin -w 150 \\\n",
    "> figure4_tcells/screen_data/GITR_grna_cutsite_coords.krab.100step.txt\n",
    "\n",
    "head -n 1 figure4_tcells/screen_data/GITR_grna_cutsite_coords.krab.100step.txt\n",
    "wc -l figure4_tcells/screen_data/GITR_grna_cutsite_coords.krab.100step.txt"
   ]
  },
  {
   "cell_type": "markdown",
   "metadata": {},
   "source": [
    "### Now, start processing gRNA counts and run DESeq2 in `R`"
   ]
  },
  {
   "cell_type": "markdown",
   "metadata": {},
   "source": [
    "### Load libraries for data processing"
   ]
  },
  {
   "cell_type": "code",
   "execution_count": 1,
   "metadata": {},
   "outputs": [],
   "source": [
    "suppressPackageStartupMessages(library(tidyverse))"
   ]
  },
  {
   "cell_type": "markdown",
   "metadata": {},
   "source": [
    "### Prepare input data"
   ]
  },
  {
   "cell_type": "markdown",
   "metadata": {},
   "source": [
    "#### Load sgRNA content for T cell library"
   ]
  },
  {
   "cell_type": "code",
   "execution_count": 2,
   "metadata": {},
   "outputs": [
    {
     "data": {
      "text/html": [
       "<table class=\"dataframe\">\n",
       "<caption>A data.frame: 1 × 14</caption>\n",
       "<thead>\n",
       "\t<tr><th></th><th scope=col>chromosome</th><th scope=col>target.site.start.coordinate</th><th scope=col>target.site.end.coordinate</th><th scope=col>gRNA</th><th scope=col>cutting.efficiency.score</th><th scope=col>cutting.specificity.score</th><th scope=col>strand</th><th scope=col>offtargets.sum</th><th scope=col>offtargets.summary</th><th scope=col>annotation</th><th scope=col>gRNA.label</th><th scope=col>accessibility_cpm</th><th scope=col>peak</th><th scope=col>rank_in_peak</th></tr>\n",
       "\t<tr><th></th><th scope=col>&lt;chr&gt;</th><th scope=col>&lt;int&gt;</th><th scope=col>&lt;int&gt;</th><th scope=col>&lt;chr&gt;</th><th scope=col>&lt;int&gt;</th><th scope=col>&lt;dbl&gt;</th><th scope=col>&lt;chr&gt;</th><th scope=col>&lt;int&gt;</th><th scope=col>&lt;chr&gt;</th><th scope=col>&lt;chr&gt;</th><th scope=col>&lt;chr&gt;</th><th scope=col>&lt;dbl&gt;</th><th scope=col>&lt;chr&gt;</th><th scope=col>&lt;int&gt;</th></tr>\n",
       "</thead>\n",
       "<tbody>\n",
       "\t<tr><th scope=row>1</th><td>chr4</td><td>156026280</td><td>156026302</td><td>GGCCTGAAGCCCAGTCTGAG</td><td>56</td><td>0.2401473</td><td>+</td><td>22</td><td>2:1|3:21</td><td>*</td><td>peak_10__66</td><td>6.566831</td><td>peak_10_</td><td>1</td></tr>\n",
       "</tbody>\n",
       "</table>\n"
      ],
      "text/latex": [
       "A data.frame: 1 × 14\n",
       "\\begin{tabular}{r|llllllllllllll}\n",
       "  & chromosome & target.site.start.coordinate & target.site.end.coordinate & gRNA & cutting.efficiency.score & cutting.specificity.score & strand & offtargets.sum & offtargets.summary & annotation & gRNA.label & accessibility\\_cpm & peak & rank\\_in\\_peak\\\\\n",
       "  & <chr> & <int> & <int> & <chr> & <int> & <dbl> & <chr> & <int> & <chr> & <chr> & <chr> & <dbl> & <chr> & <int>\\\\\n",
       "\\hline\n",
       "\t1 & chr4 & 156026280 & 156026302 & GGCCTGAAGCCCAGTCTGAG & 56 & 0.2401473 & + & 22 & 2:1\\textbar{}3:21 & * & peak\\_10\\_\\_66 & 6.566831 & peak\\_10\\_ & 1\\\\\n",
       "\\end{tabular}\n"
      ],
      "text/markdown": [
       "\n",
       "A data.frame: 1 × 14\n",
       "\n",
       "| <!--/--> | chromosome &lt;chr&gt; | target.site.start.coordinate &lt;int&gt; | target.site.end.coordinate &lt;int&gt; | gRNA &lt;chr&gt; | cutting.efficiency.score &lt;int&gt; | cutting.specificity.score &lt;dbl&gt; | strand &lt;chr&gt; | offtargets.sum &lt;int&gt; | offtargets.summary &lt;chr&gt; | annotation &lt;chr&gt; | gRNA.label &lt;chr&gt; | accessibility_cpm &lt;dbl&gt; | peak &lt;chr&gt; | rank_in_peak &lt;int&gt; |\n",
       "|---|---|---|---|---|---|---|---|---|---|---|---|---|---|---|\n",
       "| 1 | chr4 | 156026280 | 156026302 | GGCCTGAAGCCCAGTCTGAG | 56 | 0.2401473 | + | 22 | 2:1|3:21 | * | peak_10__66 | 6.566831 | peak_10_ | 1 |\n",
       "\n"
      ],
      "text/plain": [
       "  chromosome target.site.start.coordinate target.site.end.coordinate\n",
       "1 chr4       156026280                    156026302                 \n",
       "  gRNA                 cutting.efficiency.score cutting.specificity.score\n",
       "1 GGCCTGAAGCCCAGTCTGAG 56                       0.2401473                \n",
       "  strand offtargets.sum offtargets.summary annotation gRNA.label \n",
       "1 +      22             2:1|3:21           *          peak_10__66\n",
       "  accessibility_cpm peak     rank_in_peak\n",
       "1 6.566831          peak_10_ 1           "
      ]
     },
     "metadata": {},
     "output_type": "display_data"
    },
    {
     "data": {
      "text/html": [
       "<style>\n",
       ".list-inline {list-style: none; margin:0; padding: 0}\n",
       ".list-inline>li {display: inline-block}\n",
       ".list-inline>li:not(:last-child)::after {content: \"\\00b7\"; padding: 0 .5ex}\n",
       "</style>\n",
       "<ol class=list-inline><li>404</li><li>14</li></ol>\n"
      ],
      "text/latex": [
       "\\begin{enumerate*}\n",
       "\\item 404\n",
       "\\item 14\n",
       "\\end{enumerate*}\n"
      ],
      "text/markdown": [
       "1. 404\n",
       "2. 14\n",
       "\n",
       "\n"
      ],
      "text/plain": [
       "[1] 404  14"
      ]
     },
     "metadata": {},
     "output_type": "display_data"
    }
   ],
   "source": [
    "guidescan <- read.delim(\"figure4_tcells/screen_data/guideScan_output.spec_score_over_0_2.noTTTTnoGGGGG.original.uniqueName.5bp_max_overlap.accessibilityScore_ranked_in_peaks.final.v2.txt\",\n",
    "                   header = TRUE)\n",
    "\n",
    "head(guidescan,n=1)\n",
    "dim(guidescan)"
   ]
  },
  {
   "cell_type": "code",
   "execution_count": 3,
   "metadata": {},
   "outputs": [
    {
     "data": {
      "text/html": [
       "<table class=\"dataframe\">\n",
       "<caption>A data.frame: 0 × 14</caption>\n",
       "<thead>\n",
       "\t<tr><th scope=col>chromosome</th><th scope=col>target.site.start.coordinate</th><th scope=col>target.site.end.coordinate</th><th scope=col>gRNA</th><th scope=col>cutting.efficiency.score</th><th scope=col>cutting.specificity.score</th><th scope=col>strand</th><th scope=col>offtargets.sum</th><th scope=col>offtargets.summary</th><th scope=col>annotation</th><th scope=col>gRNA.label</th><th scope=col>accessibility_cpm</th><th scope=col>peak</th><th scope=col>rank_in_peak</th></tr>\n",
       "\t<tr><th scope=col>&lt;chr&gt;</th><th scope=col>&lt;int&gt;</th><th scope=col>&lt;int&gt;</th><th scope=col>&lt;chr&gt;</th><th scope=col>&lt;int&gt;</th><th scope=col>&lt;dbl&gt;</th><th scope=col>&lt;chr&gt;</th><th scope=col>&lt;int&gt;</th><th scope=col>&lt;chr&gt;</th><th scope=col>&lt;chr&gt;</th><th scope=col>&lt;chr&gt;</th><th scope=col>&lt;dbl&gt;</th><th scope=col>&lt;chr&gt;</th><th scope=col>&lt;int&gt;</th></tr>\n",
       "</thead>\n",
       "<tbody>\n",
       "</tbody>\n",
       "</table>\n"
      ],
      "text/latex": [
       "A data.frame: 0 × 14\n",
       "\\begin{tabular}{llllllllllllll}\n",
       " chromosome & target.site.start.coordinate & target.site.end.coordinate & gRNA & cutting.efficiency.score & cutting.specificity.score & strand & offtargets.sum & offtargets.summary & annotation & gRNA.label & accessibility\\_cpm & peak & rank\\_in\\_peak\\\\\n",
       " <chr> & <int> & <int> & <chr> & <int> & <dbl> & <chr> & <int> & <chr> & <chr> & <chr> & <dbl> & <chr> & <int>\\\\\n",
       "\\hline\n",
       "\\end{tabular}\n"
      ],
      "text/markdown": [
       "\n",
       "A data.frame: 0 × 14\n",
       "\n",
       "| chromosome &lt;chr&gt; | target.site.start.coordinate &lt;int&gt; | target.site.end.coordinate &lt;int&gt; | gRNA &lt;chr&gt; | cutting.efficiency.score &lt;int&gt; | cutting.specificity.score &lt;dbl&gt; | strand &lt;chr&gt; | offtargets.sum &lt;int&gt; | offtargets.summary &lt;chr&gt; | annotation &lt;chr&gt; | gRNA.label &lt;chr&gt; | accessibility_cpm &lt;dbl&gt; | peak &lt;chr&gt; | rank_in_peak &lt;int&gt; |\n",
       "|---|---|---|---|---|---|---|---|---|---|---|---|---|---|\n",
       "\n"
      ],
      "text/plain": [
       "     chromosome target.site.start.coordinate target.site.end.coordinate gRNA\n",
       "     cutting.efficiency.score cutting.specificity.score strand offtargets.sum\n",
       "     offtargets.summary annotation gRNA.label accessibility_cpm peak\n",
       "     rank_in_peak"
      ]
     },
     "metadata": {},
     "output_type": "display_data"
    }
   ],
   "source": [
    "guidescan %>%\n",
    "filter(cutting.specificity.score < 0.2)"
   ]
  },
  {
   "cell_type": "markdown",
   "metadata": {},
   "source": [
    "#### Load counts "
   ]
  },
  {
   "cell_type": "code",
   "execution_count": 4,
   "metadata": {},
   "outputs": [
    {
     "data": {
      "text/html": [
       "<table class=\"dataframe\">\n",
       "<caption>A data.frame: 1 × 15</caption>\n",
       "<thead>\n",
       "\t<tr><th></th><th scope=col>chr</th><th scope=col>start</th><th scope=col>end</th><th scope=col>strand</th><th scope=col>locus</th><th scope=col>guideID</th><th scope=col>sequence</th><th scope=col>TG2.GITR.Hi.rep1</th><th scope=col>TG2.GITR.Hi.rep2</th><th scope=col>TG2.GITR.Hi.rep3</th><th scope=col>TG2.GITR.Hi.rep4</th><th scope=col>TG2.GITR.Lo.rep1</th><th scope=col>TG2.GITR.Lo.rep2</th><th scope=col>TG2.GITR.Lo.rep3</th><th scope=col>TG2.GITR.Lo.rep4</th></tr>\n",
       "\t<tr><th></th><th scope=col>&lt;chr&gt;</th><th scope=col>&lt;int&gt;</th><th scope=col>&lt;int&gt;</th><th scope=col>&lt;chr&gt;</th><th scope=col>&lt;chr&gt;</th><th scope=col>&lt;int&gt;</th><th scope=col>&lt;chr&gt;</th><th scope=col>&lt;int&gt;</th><th scope=col>&lt;int&gt;</th><th scope=col>&lt;int&gt;</th><th scope=col>&lt;int&gt;</th><th scope=col>&lt;int&gt;</th><th scope=col>&lt;int&gt;</th><th scope=col>&lt;int&gt;</th><th scope=col>&lt;int&gt;</th></tr>\n",
       "</thead>\n",
       "<tbody>\n",
       "\t<tr><th scope=row>1</th><td>chr4</td><td>156026280</td><td>156026302</td><td>+</td><td>peak_10</td><td>66</td><td>GGCCTGAAGCCCAGTCTGAG</td><td>71</td><td>78</td><td>86</td><td>81</td><td>1055</td><td>993</td><td>1426</td><td>840</td></tr>\n",
       "</tbody>\n",
       "</table>\n"
      ],
      "text/latex": [
       "A data.frame: 1 × 15\n",
       "\\begin{tabular}{r|lllllllllllllll}\n",
       "  & chr & start & end & strand & locus & guideID & sequence & TG2.GITR.Hi.rep1 & TG2.GITR.Hi.rep2 & TG2.GITR.Hi.rep3 & TG2.GITR.Hi.rep4 & TG2.GITR.Lo.rep1 & TG2.GITR.Lo.rep2 & TG2.GITR.Lo.rep3 & TG2.GITR.Lo.rep4\\\\\n",
       "  & <chr> & <int> & <int> & <chr> & <chr> & <int> & <chr> & <int> & <int> & <int> & <int> & <int> & <int> & <int> & <int>\\\\\n",
       "\\hline\n",
       "\t1 & chr4 & 156026280 & 156026302 & + & peak\\_10 & 66 & GGCCTGAAGCCCAGTCTGAG & 71 & 78 & 86 & 81 & 1055 & 993 & 1426 & 840\\\\\n",
       "\\end{tabular}\n"
      ],
      "text/markdown": [
       "\n",
       "A data.frame: 1 × 15\n",
       "\n",
       "| <!--/--> | chr &lt;chr&gt; | start &lt;int&gt; | end &lt;int&gt; | strand &lt;chr&gt; | locus &lt;chr&gt; | guideID &lt;int&gt; | sequence &lt;chr&gt; | TG2.GITR.Hi.rep1 &lt;int&gt; | TG2.GITR.Hi.rep2 &lt;int&gt; | TG2.GITR.Hi.rep3 &lt;int&gt; | TG2.GITR.Hi.rep4 &lt;int&gt; | TG2.GITR.Lo.rep1 &lt;int&gt; | TG2.GITR.Lo.rep2 &lt;int&gt; | TG2.GITR.Lo.rep3 &lt;int&gt; | TG2.GITR.Lo.rep4 &lt;int&gt; |\n",
       "|---|---|---|---|---|---|---|---|---|---|---|---|---|---|---|---|\n",
       "| 1 | chr4 | 156026280 | 156026302 | + | peak_10 | 66 | GGCCTGAAGCCCAGTCTGAG | 71 | 78 | 86 | 81 | 1055 | 993 | 1426 | 840 |\n",
       "\n"
      ],
      "text/plain": [
       "  chr  start     end       strand locus   guideID sequence            \n",
       "1 chr4 156026280 156026302 +      peak_10 66      GGCCTGAAGCCCAGTCTGAG\n",
       "  TG2.GITR.Hi.rep1 TG2.GITR.Hi.rep2 TG2.GITR.Hi.rep3 TG2.GITR.Hi.rep4\n",
       "1 71               78               86               81              \n",
       "  TG2.GITR.Lo.rep1 TG2.GITR.Lo.rep2 TG2.GITR.Lo.rep3 TG2.GITR.Lo.rep4\n",
       "1 1055             993              1426             840             "
      ]
     },
     "metadata": {},
     "output_type": "display_data"
    },
    {
     "data": {
      "text/html": [
       "<style>\n",
       ".list-inline {list-style: none; margin:0; padding: 0}\n",
       ".list-inline>li {display: inline-block}\n",
       ".list-inline>li:not(:last-child)::after {content: \"\\00b7\"; padding: 0 .5ex}\n",
       "</style>\n",
       "<ol class=list-inline><li>444</li><li>15</li></ol>\n"
      ],
      "text/latex": [
       "\\begin{enumerate*}\n",
       "\\item 444\n",
       "\\item 15\n",
       "\\end{enumerate*}\n"
      ],
      "text/markdown": [
       "1. 444\n",
       "2. 15\n",
       "\n",
       "\n"
      ],
      "text/plain": [
       "[1] 444  15"
      ]
     },
     "metadata": {},
     "output_type": "display_data"
    }
   ],
   "source": [
    "guide_counts <- read.delim(\"figure4_tcells/screen_data/220304_TG2_GITR_KRAB_Output_CountTable.txt\", header = TRUE)\n",
    "head(guide_counts,n=1)\n",
    "dim(guide_counts)"
   ]
  },
  {
   "cell_type": "markdown",
   "metadata": {},
   "source": [
    "#### Combine replicates into one df, then filter out low-specificity sgRNAs (guidescan < 0.2 and 'NA')"
   ]
  },
  {
   "cell_type": "code",
   "execution_count": 5,
   "metadata": {},
   "outputs": [
    {
     "data": {
      "text/html": [
       "<table class=\"dataframe\">\n",
       "<caption>A data.frame: 1 × 9</caption>\n",
       "<thead>\n",
       "\t<tr><th></th><th scope=col>grna</th><th scope=col>high_rep1</th><th scope=col>high_rep2</th><th scope=col>high_rep3</th><th scope=col>high_rep4</th><th scope=col>low_rep1</th><th scope=col>low_rep2</th><th scope=col>low_rep3</th><th scope=col>low_rep4</th></tr>\n",
       "\t<tr><th></th><th scope=col>&lt;chr&gt;</th><th scope=col>&lt;int&gt;</th><th scope=col>&lt;int&gt;</th><th scope=col>&lt;int&gt;</th><th scope=col>&lt;int&gt;</th><th scope=col>&lt;int&gt;</th><th scope=col>&lt;int&gt;</th><th scope=col>&lt;int&gt;</th><th scope=col>&lt;int&gt;</th></tr>\n",
       "</thead>\n",
       "<tbody>\n",
       "\t<tr><th scope=row>1</th><td>chr4:156026280-156026302_+_GGCCTGAAGCCCAGTCTGAG</td><td>71</td><td>78</td><td>86</td><td>81</td><td>1055</td><td>993</td><td>1426</td><td>840</td></tr>\n",
       "</tbody>\n",
       "</table>\n"
      ],
      "text/latex": [
       "A data.frame: 1 × 9\n",
       "\\begin{tabular}{r|lllllllll}\n",
       "  & grna & high\\_rep1 & high\\_rep2 & high\\_rep3 & high\\_rep4 & low\\_rep1 & low\\_rep2 & low\\_rep3 & low\\_rep4\\\\\n",
       "  & <chr> & <int> & <int> & <int> & <int> & <int> & <int> & <int> & <int>\\\\\n",
       "\\hline\n",
       "\t1 & chr4:156026280-156026302\\_+\\_GGCCTGAAGCCCAGTCTGAG & 71 & 78 & 86 & 81 & 1055 & 993 & 1426 & 840\\\\\n",
       "\\end{tabular}\n"
      ],
      "text/markdown": [
       "\n",
       "A data.frame: 1 × 9\n",
       "\n",
       "| <!--/--> | grna &lt;chr&gt; | high_rep1 &lt;int&gt; | high_rep2 &lt;int&gt; | high_rep3 &lt;int&gt; | high_rep4 &lt;int&gt; | low_rep1 &lt;int&gt; | low_rep2 &lt;int&gt; | low_rep3 &lt;int&gt; | low_rep4 &lt;int&gt; |\n",
       "|---|---|---|---|---|---|---|---|---|---|\n",
       "| 1 | chr4:156026280-156026302_+_GGCCTGAAGCCCAGTCTGAG | 71 | 78 | 86 | 81 | 1055 | 993 | 1426 | 840 |\n",
       "\n"
      ],
      "text/plain": [
       "  grna                                            high_rep1 high_rep2 high_rep3\n",
       "1 chr4:156026280-156026302_+_GGCCTGAAGCCCAGTCTGAG 71        78        86       \n",
       "  high_rep4 low_rep1 low_rep2 low_rep3 low_rep4\n",
       "1 81        1055     993      1426     840     "
      ]
     },
     "metadata": {},
     "output_type": "display_data"
    },
    {
     "data": {
      "text/html": [
       "<style>\n",
       ".list-inline {list-style: none; margin:0; padding: 0}\n",
       ".list-inline>li {display: inline-block}\n",
       ".list-inline>li:not(:last-child)::after {content: \"\\00b7\"; padding: 0 .5ex}\n",
       "</style>\n",
       "<ol class=list-inline><li>444</li><li>9</li></ol>\n"
      ],
      "text/latex": [
       "\\begin{enumerate*}\n",
       "\\item 444\n",
       "\\item 9\n",
       "\\end{enumerate*}\n"
      ],
      "text/markdown": [
       "1. 444\n",
       "2. 9\n",
       "\n",
       "\n"
      ],
      "text/plain": [
       "[1] 444   9"
      ]
     },
     "metadata": {},
     "output_type": "display_data"
    }
   ],
   "source": [
    "df <- \n",
    "guide_counts %>%\n",
    "mutate(grna = paste0(chr,\":\",start,\"-\",end,\"_\",strand,\"_\",sequence),\n",
    "       high_rep1 = TG2.GITR.Hi.rep1,\n",
    "       high_rep2 = TG2.GITR.Hi.rep2,\n",
    "       high_rep3 = TG2.GITR.Hi.rep3,\n",
    "       high_rep4 = TG2.GITR.Hi.rep4,\n",
    "       low_rep1 = TG2.GITR.Lo.rep1,\n",
    "       low_rep2 = TG2.GITR.Lo.rep2,\n",
    "       low_rep3 = TG2.GITR.Lo.rep3,\n",
    "       low_rep4 = TG2.GITR.Lo.rep4) %>%\n",
    "select(grna:low_rep4)\n",
    "\n",
    "head(df,n=1)\n",
    "dim(df) "
   ]
  },
  {
   "cell_type": "markdown",
   "metadata": {},
   "source": [
    "#### Check for duplicates (sgRNAs with >1 value for count in at least one replicate)"
   ]
  },
  {
   "cell_type": "code",
   "execution_count": 6,
   "metadata": {},
   "outputs": [
    {
     "data": {
      "text/html": [
       "<table class=\"dataframe\">\n",
       "<caption>A data.frame: 0 × 9</caption>\n",
       "<thead>\n",
       "\t<tr><th scope=col>grna</th><th scope=col>high_rep1</th><th scope=col>high_rep2</th><th scope=col>high_rep3</th><th scope=col>high_rep4</th><th scope=col>low_rep1</th><th scope=col>low_rep2</th><th scope=col>low_rep3</th><th scope=col>low_rep4</th></tr>\n",
       "\t<tr><th scope=col>&lt;chr&gt;</th><th scope=col>&lt;int&gt;</th><th scope=col>&lt;int&gt;</th><th scope=col>&lt;int&gt;</th><th scope=col>&lt;int&gt;</th><th scope=col>&lt;int&gt;</th><th scope=col>&lt;int&gt;</th><th scope=col>&lt;int&gt;</th><th scope=col>&lt;int&gt;</th></tr>\n",
       "</thead>\n",
       "<tbody>\n",
       "</tbody>\n",
       "</table>\n"
      ],
      "text/latex": [
       "A data.frame: 0 × 9\n",
       "\\begin{tabular}{lllllllll}\n",
       " grna & high\\_rep1 & high\\_rep2 & high\\_rep3 & high\\_rep4 & low\\_rep1 & low\\_rep2 & low\\_rep3 & low\\_rep4\\\\\n",
       " <chr> & <int> & <int> & <int> & <int> & <int> & <int> & <int> & <int>\\\\\n",
       "\\hline\n",
       "\\end{tabular}\n"
      ],
      "text/markdown": [
       "\n",
       "A data.frame: 0 × 9\n",
       "\n",
       "| grna &lt;chr&gt; | high_rep1 &lt;int&gt; | high_rep2 &lt;int&gt; | high_rep3 &lt;int&gt; | high_rep4 &lt;int&gt; | low_rep1 &lt;int&gt; | low_rep2 &lt;int&gt; | low_rep3 &lt;int&gt; | low_rep4 &lt;int&gt; |\n",
       "|---|---|---|---|---|---|---|---|---|\n",
       "\n"
      ],
      "text/plain": [
       "     grna high_rep1 high_rep2 high_rep3 high_rep4 low_rep1 low_rep2 low_rep3\n",
       "     low_rep4"
      ]
     },
     "metadata": {},
     "output_type": "display_data"
    }
   ],
   "source": [
    "df[duplicated(df$grna),]"
   ]
  },
  {
   "cell_type": "markdown",
   "metadata": {},
   "source": [
    "#### Generate metadata"
   ]
  },
  {
   "cell_type": "code",
   "execution_count": 7,
   "metadata": {},
   "outputs": [
    {
     "data": {
      "text/html": [
       "<table class=\"dataframe\">\n",
       "<caption>A data.frame: 8 × 2</caption>\n",
       "<thead>\n",
       "\t<tr><th scope=col>sample</th><th scope=col>group</th></tr>\n",
       "\t<tr><th scope=col>&lt;chr&gt;</th><th scope=col>&lt;chr&gt;</th></tr>\n",
       "</thead>\n",
       "<tbody>\n",
       "\t<tr><td>high_rep1</td><td>high</td></tr>\n",
       "\t<tr><td>high_rep2</td><td>high</td></tr>\n",
       "\t<tr><td>high_rep3</td><td>high</td></tr>\n",
       "\t<tr><td>high_rep4</td><td>high</td></tr>\n",
       "\t<tr><td>low_rep1 </td><td>low </td></tr>\n",
       "\t<tr><td>low_rep2 </td><td>low </td></tr>\n",
       "\t<tr><td>low_rep3 </td><td>low </td></tr>\n",
       "\t<tr><td>low_rep4 </td><td>low </td></tr>\n",
       "</tbody>\n",
       "</table>\n"
      ],
      "text/latex": [
       "A data.frame: 8 × 2\n",
       "\\begin{tabular}{ll}\n",
       " sample & group\\\\\n",
       " <chr> & <chr>\\\\\n",
       "\\hline\n",
       "\t high\\_rep1 & high\\\\\n",
       "\t high\\_rep2 & high\\\\\n",
       "\t high\\_rep3 & high\\\\\n",
       "\t high\\_rep4 & high\\\\\n",
       "\t low\\_rep1  & low \\\\\n",
       "\t low\\_rep2  & low \\\\\n",
       "\t low\\_rep3  & low \\\\\n",
       "\t low\\_rep4  & low \\\\\n",
       "\\end{tabular}\n"
      ],
      "text/markdown": [
       "\n",
       "A data.frame: 8 × 2\n",
       "\n",
       "| sample &lt;chr&gt; | group &lt;chr&gt; |\n",
       "|---|---|\n",
       "| high_rep1 | high |\n",
       "| high_rep2 | high |\n",
       "| high_rep3 | high |\n",
       "| high_rep4 | high |\n",
       "| low_rep1  | low  |\n",
       "| low_rep2  | low  |\n",
       "| low_rep3  | low  |\n",
       "| low_rep4  | low  |\n",
       "\n"
      ],
      "text/plain": [
       "  sample    group\n",
       "1 high_rep1 high \n",
       "2 high_rep2 high \n",
       "3 high_rep3 high \n",
       "4 high_rep4 high \n",
       "5 low_rep1  low  \n",
       "6 low_rep2  low  \n",
       "7 low_rep3  low  \n",
       "8 low_rep4  low  "
      ]
     },
     "metadata": {},
     "output_type": "display_data"
    }
   ],
   "source": [
    "samples <- colnames(df %>% select(-grna))\n",
    "meta <- data.frame(sample = samples, group = c(\"high\",\"high\",\"high\",\"high\",\"low\",\"low\",\"low\",\"low\"))\n",
    "\n",
    "meta"
   ]
  },
  {
   "cell_type": "markdown",
   "metadata": {},
   "source": [
    "#### Prepare counts and metadata for summarized experiment"
   ]
  },
  {
   "cell_type": "code",
   "execution_count": 8,
   "metadata": {},
   "outputs": [],
   "source": [
    "df.clean <- as.matrix(df %>% select(-grna))\n",
    "row.names(df.clean) <- df$grna\n",
    "coldata <- meta[,c(\"sample\",\"group\")]"
   ]
  },
  {
   "cell_type": "markdown",
   "metadata": {},
   "source": [
    "### DESeq2"
   ]
  },
  {
   "cell_type": "code",
   "execution_count": 9,
   "metadata": {},
   "outputs": [],
   "source": [
    "suppressPackageStartupMessages(library(DESeq2))"
   ]
  },
  {
   "cell_type": "markdown",
   "metadata": {},
   "source": [
    "#### Make DESeq2 summarized experiment"
   ]
  },
  {
   "cell_type": "code",
   "execution_count": 10,
   "metadata": {},
   "outputs": [
    {
     "name": "stderr",
     "output_type": "stream",
     "text": [
      "Warning message in DESeqDataSet(se, design = design, ignoreRank):\n",
      "“some variables in design formula are characters, converting to factors”\n"
     ]
    }
   ],
   "source": [
    "se <- DESeqDataSetFromMatrix(\n",
    "  countData = df.clean,\n",
    "  colData = coldata,\n",
    "  design = ~ group\n",
    ")"
   ]
  },
  {
   "cell_type": "markdown",
   "metadata": {},
   "source": [
    "#### Run DESeq2"
   ]
  },
  {
   "cell_type": "code",
   "execution_count": 11,
   "metadata": {},
   "outputs": [
    {
     "name": "stderr",
     "output_type": "stream",
     "text": [
      "estimating size factors\n",
      "\n",
      "estimating dispersions\n",
      "\n",
      "gene-wise dispersion estimates\n",
      "\n",
      "mean-dispersion relationship\n",
      "\n",
      "final dispersion estimates\n",
      "\n",
      "fitting model and testing\n",
      "\n"
     ]
    }
   ],
   "source": [
    "dds <- DESeq(se)"
   ]
  },
  {
   "cell_type": "markdown",
   "metadata": {},
   "source": [
    "#### Generate results object"
   ]
  },
  {
   "cell_type": "code",
   "execution_count": 12,
   "metadata": {},
   "outputs": [],
   "source": [
    "res <- results(dds, contrast = c(\"group\",\"high\",\"low\"))"
   ]
  },
  {
   "cell_type": "markdown",
   "metadata": {},
   "source": [
    "#### DESeq2 results"
   ]
  },
  {
   "cell_type": "code",
   "execution_count": 13,
   "metadata": {},
   "outputs": [
    {
     "name": "stdout",
     "output_type": "stream",
     "text": [
      "\n",
      "out of 444 with nonzero total read count\n",
      "adjusted p-value < 0.1\n",
      "LFC > 0 (up)       : 30, 6.8%\n",
      "LFC < 0 (down)     : 70, 16%\n",
      "outliers [1]       : 0, 0%\n",
      "low counts [2]     : 0, 0%\n",
      "(mean count < 77)\n",
      "[1] see 'cooksCutoff' argument of ?results\n",
      "[2] see 'independentFiltering' argument of ?results\n",
      "\n"
     ]
    }
   ],
   "source": [
    "summary(res)"
   ]
  },
  {
   "cell_type": "markdown",
   "metadata": {},
   "source": [
    "#### Add grna and locus to results"
   ]
  },
  {
   "cell_type": "code",
   "execution_count": 34,
   "metadata": {},
   "outputs": [
    {
     "data": {
      "text/html": [
       "<table class=\"dataframe\">\n",
       "<caption>A data.frame: 1 × 8</caption>\n",
       "<thead>\n",
       "\t<tr><th></th><th scope=col>baseMean</th><th scope=col>log2FoldChange</th><th scope=col>lfcSE</th><th scope=col>stat</th><th scope=col>pvalue</th><th scope=col>padj</th><th scope=col>grna</th><th scope=col>locus</th></tr>\n",
       "\t<tr><th></th><th scope=col>&lt;dbl&gt;</th><th scope=col>&lt;dbl&gt;</th><th scope=col>&lt;dbl&gt;</th><th scope=col>&lt;dbl&gt;</th><th scope=col>&lt;dbl&gt;</th><th scope=col>&lt;dbl&gt;</th><th scope=col>&lt;chr&gt;</th><th scope=col>&lt;chr&gt;</th></tr>\n",
       "</thead>\n",
       "<tbody>\n",
       "\t<tr><th scope=row>1</th><td>598.3767</td><td>-3.917804</td><td>0.1653469</td><td>-23.69446</td><td>4.112898e-124</td><td>9.130634e-122</td><td>chr4:156026280-156026302_+_GGCCTGAAGCCCAGTCTGAG</td><td>peak_10</td></tr>\n",
       "</tbody>\n",
       "</table>\n"
      ],
      "text/latex": [
       "A data.frame: 1 × 8\n",
       "\\begin{tabular}{r|llllllll}\n",
       "  & baseMean & log2FoldChange & lfcSE & stat & pvalue & padj & grna & locus\\\\\n",
       "  & <dbl> & <dbl> & <dbl> & <dbl> & <dbl> & <dbl> & <chr> & <chr>\\\\\n",
       "\\hline\n",
       "\t1 & 598.3767 & -3.917804 & 0.1653469 & -23.69446 & 4.112898e-124 & 9.130634e-122 & chr4:156026280-156026302\\_+\\_GGCCTGAAGCCCAGTCTGAG & peak\\_10\\\\\n",
       "\\end{tabular}\n"
      ],
      "text/markdown": [
       "\n",
       "A data.frame: 1 × 8\n",
       "\n",
       "| <!--/--> | baseMean &lt;dbl&gt; | log2FoldChange &lt;dbl&gt; | lfcSE &lt;dbl&gt; | stat &lt;dbl&gt; | pvalue &lt;dbl&gt; | padj &lt;dbl&gt; | grna &lt;chr&gt; | locus &lt;chr&gt; |\n",
       "|---|---|---|---|---|---|---|---|---|\n",
       "| 1 | 598.3767 | -3.917804 | 0.1653469 | -23.69446 | 4.112898e-124 | 9.130634e-122 | chr4:156026280-156026302_+_GGCCTGAAGCCCAGTCTGAG | peak_10 |\n",
       "\n"
      ],
      "text/plain": [
       "  baseMean log2FoldChange lfcSE     stat      pvalue        padj         \n",
       "1 598.3767 -3.917804      0.1653469 -23.69446 4.112898e-124 9.130634e-122\n",
       "  grna                                            locus  \n",
       "1 chr4:156026280-156026302_+_GGCCTGAAGCCCAGTCTGAG peak_10"
      ]
     },
     "metadata": {},
     "output_type": "display_data"
    },
    {
     "data": {
      "text/html": [
       "<style>\n",
       ".list-inline {list-style: none; margin:0; padding: 0}\n",
       ".list-inline>li {display: inline-block}\n",
       ".list-inline>li:not(:last-child)::after {content: \"\\00b7\"; padding: 0 .5ex}\n",
       "</style>\n",
       "<ol class=list-inline><li>444</li><li>8</li></ol>\n"
      ],
      "text/latex": [
       "\\begin{enumerate*}\n",
       "\\item 444\n",
       "\\item 8\n",
       "\\end{enumerate*}\n"
      ],
      "text/markdown": [
       "1. 444\n",
       "2. 8\n",
       "\n",
       "\n"
      ],
      "text/plain": [
       "[1] 444   8"
      ]
     },
     "metadata": {},
     "output_type": "display_data"
    }
   ],
   "source": [
    "res_labeled <- as.data.frame(res, row.names = NULL)\n",
    "res_labeled$grna <- rownames(res)\n",
    "\n",
    "res_labeled <- res_labeled %>% left_join(guide_counts %>%\n",
    "                                         mutate(grna = paste0(chr,\":\",start,\"-\",end,\"_\",strand,\"_\",sequence)) %>%\n",
    "                                         select(grna, locus) %>%\n",
    "                                         distinct(),\n",
    "                                         by = \"grna\")\n",
    "\n",
    "head(res_labeled,n=1)\n",
    "dim(res_labeled)"
   ]
  },
  {
   "cell_type": "markdown",
   "metadata": {},
   "source": [
    "#### Write .tsv file with results"
   ]
  },
  {
   "cell_type": "code",
   "execution_count": 35,
   "metadata": {},
   "outputs": [],
   "source": [
    "write_tsv(res_labeled, \"figure4_tcells/deseq2_results/high_vs_low_deseq2_results.tsv\", col_names = TRUE)"
   ]
  },
  {
   "cell_type": "markdown",
   "metadata": {},
   "source": [
    "### Visualization and QC"
   ]
  },
  {
   "cell_type": "code",
   "execution_count": 16,
   "metadata": {},
   "outputs": [],
   "source": [
    "suppressPackageStartupMessages(library(vsn))\n",
    "suppressPackageStartupMessages(library(RColorBrewer))\n",
    "suppressPackageStartupMessages(library(pheatmap))"
   ]
  },
  {
   "cell_type": "markdown",
   "metadata": {},
   "source": [
    "#### Extract transformed values"
   ]
  },
  {
   "cell_type": "code",
   "execution_count": 17,
   "metadata": {},
   "outputs": [],
   "source": [
    "vsd <- vst(dds, blind = FALSE, nsub=nrow(dds))"
   ]
  },
  {
   "cell_type": "code",
   "execution_count": 18,
   "metadata": {},
   "outputs": [],
   "source": [
    "rld <- rlog(dds, blind = FALSE)"
   ]
  },
  {
   "cell_type": "markdown",
   "metadata": {},
   "source": [
    "#### Log-transform, scale-shift"
   ]
  },
  {
   "cell_type": "code",
   "execution_count": 19,
   "metadata": {},
   "outputs": [],
   "source": [
    "ntd <- normTransform(dds) # this gives log2(n+1)"
   ]
  },
  {
   "cell_type": "markdown",
   "metadata": {},
   "source": [
    "#### Variance plots with different types of transformations/scaling"
   ]
  },
  {
   "cell_type": "code",
   "execution_count": 20,
   "metadata": {},
   "outputs": [
    {
     "data": {
      "image/png": "[encoded data removed]",
      "text/plain": [
       "plot without title"
      ]
     },
     "metadata": {
      "image/png": {
       "height": 420,
       "width": 420
      }
     },
     "output_type": "display_data"
    }
   ],
   "source": [
    "meanSdPlot(assay(ntd))"
   ]
  },
  {
   "cell_type": "code",
   "execution_count": 21,
   "metadata": {},
   "outputs": [
    {
     "data": {
      "image/png": "[encoded data removed]",
      "text/plain": [
       "plot without title"
      ]
     },
     "metadata": {
      "image/png": {
       "height": 420,
       "width": 420
      }
     },
     "output_type": "display_data"
    }
   ],
   "source": [
    "meanSdPlot(assay(vsd))"
   ]
  },
  {
   "cell_type": "code",
   "execution_count": 22,
   "metadata": {},
   "outputs": [
    {
     "data": {
      "image/png": "[encoded data removed]",
      "text/plain": [
       "plot without title"
      ]
     },
     "metadata": {
      "image/png": {
       "height": 420,
       "width": 420
      }
     },
     "output_type": "display_data"
    }
   ],
   "source": [
    "meanSdPlot(assay(rld))"
   ]
  },
  {
   "cell_type": "markdown",
   "metadata": {},
   "source": [
    "#### PCA"
   ]
  },
  {
   "cell_type": "code",
   "execution_count": 23,
   "metadata": {},
   "outputs": [
    {
     "data": {
      "image/png": "[encoded data removed]",
      "text/plain": [
       "plot without title"
      ]
     },
     "metadata": {
      "image/png": {
       "height": 420,
       "width": 420
      }
     },
     "output_type": "display_data"
    }
   ],
   "source": [
    "plotPCA(vsd, intgroup=c(\"sample\", \"group\"))"
   ]
  },
  {
   "cell_type": "markdown",
   "metadata": {},
   "source": [
    "#### Heatmap of sample-sample distance"
   ]
  },
  {
   "cell_type": "code",
   "execution_count": 24,
   "metadata": {},
   "outputs": [],
   "source": [
    "sampleDists <- dist(t(assay(vsd)))"
   ]
  },
  {
   "cell_type": "code",
   "execution_count": 25,
   "metadata": {},
   "outputs": [
    {
     "data": {
      "image/png": "[encoded data removed]",
      "text/plain": [
       "plot without title"
      ]
     },
     "metadata": {
      "image/png": {
       "height": 420,
       "width": 420
      }
     },
     "output_type": "display_data"
    }
   ],
   "source": [
    "sampleDistMatrix <- as.matrix(sampleDists)\n",
    "rownames(sampleDistMatrix) <- paste(vsd$sample, vsd$type, sep=\"-\")\n",
    "colnames(sampleDistMatrix) <- paste(vsd$sample, vsd$type, sep=\"-\") # change to 'NULL' to get rid of bottom labels\n",
    "colors <- colorRampPalette(rev(brewer.pal(9, \"Blues\")))(255)\n",
    "pheatmap(sampleDistMatrix,\n",
    "         clustering_distance_rows=sampleDists,\n",
    "         clustering_distance_cols=sampleDists,\n",
    "         col=colors,\n",
    "         main = \"GITR FACS Screen\")"
   ]
  },
  {
   "cell_type": "code",
   "execution_count": null,
   "metadata": {},
   "outputs": [],
   "source": []
  },
  {
   "cell_type": "markdown",
   "metadata": {},
   "source": [
    "### Aggregate sgRNA-level effects to call \"peaks\""
   ]
  },
  {
   "cell_type": "code",
   "execution_count": null,
   "metadata": {},
   "outputs": [],
   "source": [
    "suppressPackageStartupMessages(library(tidyverse))"
   ]
  },
  {
   "cell_type": "markdown",
   "metadata": {},
   "source": [
    "#### Define fisher's method to aggregate p values\n",
    " - https://mikelove.wordpress.com/2012/03/12/combining-p-values-fishers-method-sum-of-p-values-binomial/\n",
    " - https://www.biostars.org/p/211307/"
   ]
  },
  {
   "cell_type": "code",
   "execution_count": 36,
   "metadata": {},
   "outputs": [],
   "source": [
    "fishersMethod = function(x) pchisq(-2 * sum(log(x)),df=2*length(x),lower=FALSE)"
   ]
  },
  {
   "cell_type": "markdown",
   "metadata": {},
   "source": [
    "#### Re-load results (if needed)"
   ]
  },
  {
   "cell_type": "code",
   "execution_count": 37,
   "metadata": {},
   "outputs": [
    {
     "data": {
      "text/html": [
       "<table class=\"dataframe\">\n",
       "<caption>A tibble: 1 × 8</caption>\n",
       "<thead>\n",
       "\t<tr><th scope=col>baseMean</th><th scope=col>log2FoldChange</th><th scope=col>lfcSE</th><th scope=col>stat</th><th scope=col>pvalue</th><th scope=col>padj</th><th scope=col>grna</th><th scope=col>locus</th></tr>\n",
       "\t<tr><th scope=col>&lt;dbl&gt;</th><th scope=col>&lt;dbl&gt;</th><th scope=col>&lt;dbl&gt;</th><th scope=col>&lt;dbl&gt;</th><th scope=col>&lt;dbl&gt;</th><th scope=col>&lt;dbl&gt;</th><th scope=col>&lt;chr&gt;</th><th scope=col>&lt;chr&gt;</th></tr>\n",
       "</thead>\n",
       "<tbody>\n",
       "\t<tr><td>598.3767</td><td>-3.917804</td><td>0.1653469</td><td>-23.69446</td><td>4.112898e-124</td><td>9.130634e-122</td><td>chr4:156026280-156026302_+_GGCCTGAAGCCCAGTCTGAG</td><td>peak_10</td></tr>\n",
       "</tbody>\n",
       "</table>\n"
      ],
      "text/latex": [
       "A tibble: 1 × 8\n",
       "\\begin{tabular}{llllllll}\n",
       " baseMean & log2FoldChange & lfcSE & stat & pvalue & padj & grna & locus\\\\\n",
       " <dbl> & <dbl> & <dbl> & <dbl> & <dbl> & <dbl> & <chr> & <chr>\\\\\n",
       "\\hline\n",
       "\t 598.3767 & -3.917804 & 0.1653469 & -23.69446 & 4.112898e-124 & 9.130634e-122 & chr4:156026280-156026302\\_+\\_GGCCTGAAGCCCAGTCTGAG & peak\\_10\\\\\n",
       "\\end{tabular}\n"
      ],
      "text/markdown": [
       "\n",
       "A tibble: 1 × 8\n",
       "\n",
       "| baseMean &lt;dbl&gt; | log2FoldChange &lt;dbl&gt; | lfcSE &lt;dbl&gt; | stat &lt;dbl&gt; | pvalue &lt;dbl&gt; | padj &lt;dbl&gt; | grna &lt;chr&gt; | locus &lt;chr&gt; |\n",
       "|---|---|---|---|---|---|---|---|\n",
       "| 598.3767 | -3.917804 | 0.1653469 | -23.69446 | 4.112898e-124 | 9.130634e-122 | chr4:156026280-156026302_+_GGCCTGAAGCCCAGTCTGAG | peak_10 |\n",
       "\n"
      ],
      "text/plain": [
       "  baseMean log2FoldChange lfcSE     stat      pvalue        padj         \n",
       "1 598.3767 -3.917804      0.1653469 -23.69446 4.112898e-124 9.130634e-122\n",
       "  grna                                            locus  \n",
       "1 chr4:156026280-156026302_+_GGCCTGAAGCCCAGTCTGAG peak_10"
      ]
     },
     "metadata": {},
     "output_type": "display_data"
    }
   ],
   "source": [
    "res_labeled <- read_tsv(\"figure4_tcells/deseq2_results/high_vs_low_deseq2_results.tsv\", show_col_types = FALSE)\n",
    "head(res_labeled,n=1)"
   ]
  },
  {
   "cell_type": "markdown",
   "metadata": {},
   "source": [
    "#### Load output of bedtools intersect \n",
    "\n",
    "Defines \"bins\" and which sgRNAs belong to each bin after adjusting for perturbation modality."
   ]
  },
  {
   "cell_type": "code",
   "execution_count": 38,
   "metadata": {},
   "outputs": [
    {
     "data": {
      "text/html": [
       "<table class=\"dataframe\">\n",
       "<caption>A data.frame: 1 × 8</caption>\n",
       "<thead>\n",
       "\t<tr><th></th><th scope=col>grna_chrom</th><th scope=col>grna_start</th><th scope=col>grna_end</th><th scope=col>grna</th><th scope=col>bin_chr</th><th scope=col>bin_start</th><th scope=col>bin_end</th><th scope=col>bin</th></tr>\n",
       "\t<tr><th></th><th scope=col>&lt;chr&gt;</th><th scope=col>&lt;int&gt;</th><th scope=col>&lt;int&gt;</th><th scope=col>&lt;chr&gt;</th><th scope=col>&lt;chr&gt;</th><th scope=col>&lt;int&gt;</th><th scope=col>&lt;int&gt;</th><th scope=col>&lt;chr&gt;</th></tr>\n",
       "</thead>\n",
       "<tbody>\n",
       "\t<tr><th scope=row>1</th><td>chr4</td><td>156026296</td><td>156026299</td><td>chr4:156026280-156026302_+_GGCCTGAAGCCCAGTCTGAG</td><td>chr4</td><td>156026100</td><td>156026200</td><td>chr4:156026100-156026200</td></tr>\n",
       "</tbody>\n",
       "</table>\n"
      ],
      "text/latex": [
       "A data.frame: 1 × 8\n",
       "\\begin{tabular}{r|llllllll}\n",
       "  & grna\\_chrom & grna\\_start & grna\\_end & grna & bin\\_chr & bin\\_start & bin\\_end & bin\\\\\n",
       "  & <chr> & <int> & <int> & <chr> & <chr> & <int> & <int> & <chr>\\\\\n",
       "\\hline\n",
       "\t1 & chr4 & 156026296 & 156026299 & chr4:156026280-156026302\\_+\\_GGCCTGAAGCCCAGTCTGAG & chr4 & 156026100 & 156026200 & chr4:156026100-156026200\\\\\n",
       "\\end{tabular}\n"
      ],
      "text/markdown": [
       "\n",
       "A data.frame: 1 × 8\n",
       "\n",
       "| <!--/--> | grna_chrom &lt;chr&gt; | grna_start &lt;int&gt; | grna_end &lt;int&gt; | grna &lt;chr&gt; | bin_chr &lt;chr&gt; | bin_start &lt;int&gt; | bin_end &lt;int&gt; | bin &lt;chr&gt; |\n",
       "|---|---|---|---|---|---|---|---|---|\n",
       "| 1 | chr4 | 156026296 | 156026299 | chr4:156026280-156026302_+_GGCCTGAAGCCCAGTCTGAG | chr4 | 156026100 | 156026200 | chr4:156026100-156026200 |\n",
       "\n"
      ],
      "text/plain": [
       "  grna_chrom grna_start grna_end \n",
       "1 chr4       156026296  156026299\n",
       "  grna                                            bin_chr bin_start bin_end  \n",
       "1 chr4:156026280-156026302_+_GGCCTGAAGCCCAGTCTGAG chr4    156026100 156026200\n",
       "  bin                     \n",
       "1 chr4:156026100-156026200"
      ]
     },
     "metadata": {},
     "output_type": "display_data"
    },
    {
     "data": {
      "text/html": [
       "<style>\n",
       ".list-inline {list-style: none; margin:0; padding: 0}\n",
       ".list-inline>li {display: inline-block}\n",
       ".list-inline>li:not(:last-child)::after {content: \"\\00b7\"; padding: 0 .5ex}\n",
       "</style>\n",
       "<ol class=list-inline><li>1623</li><li>8</li></ol>\n"
      ],
      "text/latex": [
       "\\begin{enumerate*}\n",
       "\\item 1623\n",
       "\\item 8\n",
       "\\end{enumerate*}\n"
      ],
      "text/markdown": [
       "1. 1623\n",
       "2. 8\n",
       "\n",
       "\n"
      ],
      "text/plain": [
       "[1] 1623    8"
      ]
     },
     "metadata": {},
     "output_type": "display_data"
    }
   ],
   "source": [
    "grna_int_bins <- read.delim(\"figure4_tcells/screen_data/GITR_grna_cutsite_coords.krab.100step.txt\", \n",
    "                            header = FALSE, \n",
    "                            col.names = c(\"grna_chrom\",\"grna_start\",\"grna_end\",\"grna\",\"bin_chr\",\"bin_start\",\"bin_end\")) %>%\n",
    "mutate(bin = paste0(bin_chr,\":\",bin_start,\"-\",bin_end))\n",
    "\n",
    "head(grna_int_bins,n=1)\n",
    "dim(grna_int_bins)"
   ]
  },
  {
   "cell_type": "markdown",
   "metadata": {},
   "source": [
    "#### Subset DESeq2 results for only targeting sgRNAs\n",
    "\n",
    "Want to remove the promoter positive controls and non-targeting negative controls prior to aggregating gRNA p-values and logFC. If a promoter positive control was included in a bin calculation, it could skew the result towards being more significant (assuming it worked as intended). The negative controls do not have coordinates so they will not have a bin assignment."
   ]
  },
  {
   "cell_type": "code",
   "execution_count": 39,
   "metadata": {},
   "outputs": [
    {
     "data": {
      "text/html": [
       "<table class=\"dataframe\">\n",
       "<caption>A tibble: 1 × 8</caption>\n",
       "<thead>\n",
       "\t<tr><th scope=col>baseMean</th><th scope=col>log2FoldChange</th><th scope=col>lfcSE</th><th scope=col>stat</th><th scope=col>pvalue</th><th scope=col>padj</th><th scope=col>grna</th><th scope=col>locus</th></tr>\n",
       "\t<tr><th scope=col>&lt;dbl&gt;</th><th scope=col>&lt;dbl&gt;</th><th scope=col>&lt;dbl&gt;</th><th scope=col>&lt;dbl&gt;</th><th scope=col>&lt;dbl&gt;</th><th scope=col>&lt;dbl&gt;</th><th scope=col>&lt;chr&gt;</th><th scope=col>&lt;chr&gt;</th></tr>\n",
       "</thead>\n",
       "<tbody>\n",
       "\t<tr><td>598.3767</td><td>-3.917804</td><td>0.1653469</td><td>-23.69446</td><td>4.112898e-124</td><td>9.130634e-122</td><td>chr4:156026280-156026302_+_GGCCTGAAGCCCAGTCTGAG</td><td>peak_10</td></tr>\n",
       "</tbody>\n",
       "</table>\n"
      ],
      "text/latex": [
       "A tibble: 1 × 8\n",
       "\\begin{tabular}{llllllll}\n",
       " baseMean & log2FoldChange & lfcSE & stat & pvalue & padj & grna & locus\\\\\n",
       " <dbl> & <dbl> & <dbl> & <dbl> & <dbl> & <dbl> & <chr> & <chr>\\\\\n",
       "\\hline\n",
       "\t 598.3767 & -3.917804 & 0.1653469 & -23.69446 & 4.112898e-124 & 9.130634e-122 & chr4:156026280-156026302\\_+\\_GGCCTGAAGCCCAGTCTGAG & peak\\_10\\\\\n",
       "\\end{tabular}\n"
      ],
      "text/markdown": [
       "\n",
       "A tibble: 1 × 8\n",
       "\n",
       "| baseMean &lt;dbl&gt; | log2FoldChange &lt;dbl&gt; | lfcSE &lt;dbl&gt; | stat &lt;dbl&gt; | pvalue &lt;dbl&gt; | padj &lt;dbl&gt; | grna &lt;chr&gt; | locus &lt;chr&gt; |\n",
       "|---|---|---|---|---|---|---|---|\n",
       "| 598.3767 | -3.917804 | 0.1653469 | -23.69446 | 4.112898e-124 | 9.130634e-122 | chr4:156026280-156026302_+_GGCCTGAAGCCCAGTCTGAG | peak_10 |\n",
       "\n"
      ],
      "text/plain": [
       "  baseMean log2FoldChange lfcSE     stat      pvalue        padj         \n",
       "1 598.3767 -3.917804      0.1653469 -23.69446 4.112898e-124 9.130634e-122\n",
       "  grna                                            locus  \n",
       "1 chr4:156026280-156026302_+_GGCCTGAAGCCCAGTCTGAG peak_10"
      ]
     },
     "metadata": {},
     "output_type": "display_data"
    },
    {
     "data": {
      "text/html": [
       "<style>\n",
       ".list-inline {list-style: none; margin:0; padding: 0}\n",
       ".list-inline>li {display: inline-block}\n",
       ".list-inline>li:not(:last-child)::after {content: \"\\00b7\"; padding: 0 .5ex}\n",
       "</style>\n",
       "<ol class=list-inline><li>386</li><li>8</li></ol>\n"
      ],
      "text/latex": [
       "\\begin{enumerate*}\n",
       "\\item 386\n",
       "\\item 8\n",
       "\\end{enumerate*}\n"
      ],
      "text/markdown": [
       "1. 386\n",
       "2. 8\n",
       "\n",
       "\n"
      ],
      "text/plain": [
       "[1] 386   8"
      ]
     },
     "metadata": {},
     "output_type": "display_data"
    }
   ],
   "source": [
    "target_grna <- res_labeled %>% filter(grepl(\"peak\", locus))\n",
    "\n",
    "head(target_grna,n=1)\n",
    "dim(target_grna)"
   ]
  },
  {
   "cell_type": "markdown",
   "metadata": {},
   "source": [
    "#### Number of significant bins (CREs)"
   ]
  },
  {
   "cell_type": "code",
   "execution_count": 51,
   "metadata": {},
   "outputs": [
    {
     "name": "stderr",
     "output_type": "stream",
     "text": [
      "\u001b[1m\u001b[22m`summarise()` has grouped output by 'bin'. You can override using the `.groups`\n",
      "argument.\n"
     ]
    },
    {
     "data": {
      "text/html": [
       "112"
      ],
      "text/latex": [
       "112"
      ],
      "text/markdown": [
       "112"
      ],
      "text/plain": [
       "[1] 112"
      ]
     },
     "metadata": {},
     "output_type": "display_data"
    }
   ],
   "source": [
    "target_grna %>%\n",
    "left_join(grna_int_bins, by = \"grna\") %>%\n",
    "group_by(bin) %>%\n",
    "summarize(n = n(),\n",
    "          fisher = fishersMethod(pvalue), \n",
    "          mean_logfc = mean(abs(log2FoldChange)),\n",
    "          max_logfc = max(abs(log2FoldChange)),\n",
    "          bin_mid = (bin_end+bin_start)/2) %>%\n",
    "select(bin, bin_mid, mean_logfc, max_logfc, fisher, n) %>%\n",
    "ungroup() %>%\n",
    "distinct() %>%\n",
    "mutate(fdr = p.adjust(fisher, method = \"fdr\")) %>% # then correct for the number of comparisons here\n",
    "mutate(sep = bin,\n",
    "       sig = -log10(fdr)) %>%\n",
    "separate(sep, into = c(\"chrom\",\"start\",\"end\")) %>%\n",
    "select(chrom, start, end, bin:sig) %>%\n",
    "filter(fdr < 0.1) %>%\n",
    "select(bin) %>%\n",
    "distinct() %>%\n",
    "pull() %>% length()"
   ]
  },
  {
   "cell_type": "markdown",
   "metadata": {},
   "source": [
    "#### Filter for FDR < 0.1, write .bed files"
   ]
  },
  {
   "cell_type": "code",
   "execution_count": 52,
   "metadata": {},
   "outputs": [
    {
     "name": "stderr",
     "output_type": "stream",
     "text": [
      "\u001b[1m\u001b[22m`summarise()` has grouped output by 'bin'. You can override using the `.groups`\n",
      "argument.\n"
     ]
    }
   ],
   "source": [
    "target_grna %>%\n",
    "left_join(grna_int_bins, by = \"grna\") %>%\n",
    "group_by(bin) %>%\n",
    "summarize(n = n(),\n",
    "          fisher = fishersMethod(pvalue), \n",
    "          mean_logfc = mean(abs(log2FoldChange)),\n",
    "          max_logfc = max(abs(log2FoldChange)),\n",
    "          bin_mid = (bin_end+bin_start)/2) %>%\n",
    "select(bin, bin_mid, mean_logfc, max_logfc, fisher, n) %>%\n",
    "ungroup() %>%\n",
    "distinct() %>%\n",
    "mutate(fdr = p.adjust(fisher, method = \"fdr\")) %>% # then correct for the number of comparisons here\n",
    "mutate(sep = bin,\n",
    "       sig = -log10(fdr)) %>%\n",
    "separate(sep, into = c(\"chrom\",\"start\",\"end\")) %>%\n",
    "select(chrom, start, end, bin:sig) %>%\n",
    "filter(fdr < 0.1) %>%\n",
    "mutate(strand = \".\") %>%\n",
    "select(chrom:bin, sig, strand) %>%\n",
    "write.table(\"figure4_tcells/deseq2_peakcalls/gitr.deseq2.peakcalls.fdr01.adjp.mm10.bed\", \n",
    "            col.names = FALSE, row.names = FALSE, quote = FALSE, sep = \"\\t\")\n"
   ]
  },
  {
   "cell_type": "code",
   "execution_count": 53,
   "metadata": {},
   "outputs": [
    {
     "name": "stderr",
     "output_type": "stream",
     "text": [
      "\u001b[1m\u001b[22m`summarise()` has grouped output by 'bin'. You can override using the `.groups`\n",
      "argument.\n"
     ]
    }
   ],
   "source": [
    "target_grna %>%\n",
    "left_join(grna_int_bins, by = \"grna\") %>%\n",
    "group_by(bin) %>%\n",
    "summarize(n = n(),\n",
    "          fisher = fishersMethod(pvalue), \n",
    "          mean_logfc = mean(abs(log2FoldChange)),\n",
    "          max_logfc = max(abs(log2FoldChange)),\n",
    "          bin_mid = (bin_end+bin_start)/2) %>%\n",
    "select(bin, bin_mid, mean_logfc, max_logfc, fisher, n) %>%\n",
    "ungroup() %>%\n",
    "distinct() %>%\n",
    "mutate(fdr = p.adjust(fisher, method = \"fdr\")) %>% # then correct for the number of comparisons here\n",
    "mutate(sep = bin,\n",
    "       sig = -log10(fdr)) %>%\n",
    "separate(sep, into = c(\"chrom\",\"start\",\"end\")) %>%\n",
    "select(chrom, start, end, bin:sig) %>%\n",
    "filter(fdr < 0.1) %>%\n",
    "mutate(strand = \".\") %>%\n",
    "select(chrom:bin, mean_logfc, strand) %>%\n",
    "write.table(\"figure4_tcells/deseq2_peakcalls/gitr.deseq2.peakcalls.fdr01.abslog2fc.mm10.bed\", \n",
    "            col.names = FALSE, row.names = FALSE, quote = FALSE, sep = \"\\t\")\n"
   ]
  },
  {
   "cell_type": "code",
   "execution_count": 54,
   "metadata": {},
   "outputs": [
    {
     "name": "stderr",
     "output_type": "stream",
     "text": [
      "\u001b[1m\u001b[22m`summarise()` has grouped output by 'bin'. You can override using the `.groups`\n",
      "argument.\n"
     ]
    }
   ],
   "source": [
    "target_grna %>%\n",
    "left_join(grna_int_bins, by = \"grna\") %>%\n",
    "group_by(bin) %>%\n",
    "summarize(n = n(),\n",
    "          fisher = fishersMethod(pvalue), \n",
    "          mean_logfc = mean(abs(log2FoldChange)),\n",
    "          max_logfc = max(abs(log2FoldChange)),\n",
    "          bin_mid = (bin_end+bin_start)/2) %>%\n",
    "select(bin, bin_mid, mean_logfc, max_logfc, fisher, n) %>%\n",
    "ungroup() %>%\n",
    "distinct() %>%\n",
    "mutate(fdr = p.adjust(fisher, method = \"fdr\")) %>% # then correct for the number of comparisons here\n",
    "mutate(sep = bin,\n",
    "       sig = -log10(fdr)) %>%\n",
    "separate(sep, into = c(\"chrom\",\"start\",\"end\")) %>%\n",
    "select(chrom, start, end, bin:sig) %>%\n",
    "filter(fdr < 0.1) %>%\n",
    "mutate(strand = \".\") %>%\n",
    "select(chrom:bin, max_logfc, strand) %>%\n",
    "write.table(\"figure4_tcells/deseq2_peakcalls/gitr.deseq2.peakcalls.fdr01.maxlog2fc.mm10.bed\", \n",
    "            col.names = FALSE, row.names = FALSE, quote = FALSE, sep = \"\\t\")\n",
    " "
   ]
  },
  {
   "cell_type": "markdown",
   "metadata": {},
   "source": [
    "### Switch to `python` kernel"
   ]
  },
  {
   "cell_type": "markdown",
   "metadata": {},
   "source": [
    "#### Sort bins and then merge adjacent bins to generate final peak calls for aggrDESeq2"
   ]
  },
  {
   "cell_type": "code",
   "execution_count": 2,
   "metadata": {},
   "outputs": [
    {
     "name": "stdout",
     "output_type": "stream",
     "text": [
      "chr4\t155991300\t155991400\tchr4:155991300-155991400\t1.03732450825604\t.\n",
      "112 figure4_tcells/deseq2_peakcalls/gitr.deseq2.peakcalls.fdr01.adjp.mm10.bed\n"
     ]
    }
   ],
   "source": [
    "%%bash\n",
    "head -n 1 figure4_tcells/deseq2_peakcalls/gitr.deseq2.peakcalls.fdr01.adjp.mm10.bed\n",
    "wc -l figure4_tcells/deseq2_peakcalls/gitr.deseq2.peakcalls.fdr01.adjp.mm10.bed"
   ]
  },
  {
   "cell_type": "code",
   "execution_count": 3,
   "metadata": {},
   "outputs": [
    {
     "name": "stdout",
     "output_type": "stream",
     "text": [
      "chr4\t155991300\t155991400\tchr4:155991300-155991400\t1.03732450825604\t.\n",
      "112 figure4_tcells/deseq2_peakcalls/gitr.deseq2.peakcalls.fdr01.sorted.mm10.bed\n"
     ]
    }
   ],
   "source": [
    "%%bash\n",
    "\n",
    "sort -k1,1 -k2,2n figure4_tcells/deseq2_peakcalls/gitr.deseq2.peakcalls.fdr01.adjp.mm10.bed > figure4_tcells/deseq2_peakcalls/gitr.deseq2.peakcalls.fdr01.sorted.mm10.bed\n",
    "\n",
    "head -n 1 figure4_tcells/deseq2_peakcalls/gitr.deseq2.peakcalls.fdr01.sorted.mm10.bed\n",
    "wc -l figure4_tcells/deseq2_peakcalls/gitr.deseq2.peakcalls.fdr01.sorted.mm10.bed"
   ]
  },
  {
   "cell_type": "code",
   "execution_count": 4,
   "metadata": {},
   "outputs": [
    {
     "name": "stdout",
     "output_type": "stream",
     "text": [
      "chr4\t155991300\t155992700\n",
      "12 figure4_tcells/deseq2_peakcalls/gitr.deseq2.peakcalls.fdr01.sorted.merge.mm10.bed\n"
     ]
    }
   ],
   "source": [
    "%%bash\n",
    "module load bedtools2\n",
    "\n",
    "bedtools merge -d 1 -i figure4_tcells/deseq2_peakcalls/gitr.deseq2.peakcalls.fdr01.sorted.mm10.bed > figure4_tcells/deseq2_peakcalls/gitr.deseq2.peakcalls.fdr01.sorted.merge.mm10.bed\n",
    "\n",
    "head -n 1 figure4_tcells/deseq2_peakcalls/gitr.deseq2.peakcalls.fdr01.sorted.merge.mm10.bed\n",
    "wc -l figure4_tcells/deseq2_peakcalls/gitr.deseq2.peakcalls.fdr01.sorted.merge.mm10.bed"
   ]
  },
  {
   "cell_type": "markdown",
   "metadata": {},
   "source": [
    "#### Intersect peak calls from other methods. The output will be used to generate an upset plot comparing the results of each method."
   ]
  },
  {
   "cell_type": "code",
   "execution_count": 1,
   "metadata": {},
   "outputs": [
    {
     "name": "stdout",
     "output_type": "stream",
     "text": [
      "chrom\tstart\tend\tnum\tlist\tfigure4_tcells/screen_data/gitr.perturbationregion.mm10.bed\tfigure4_tcells/deseq2_peakcalls/gitr.deseq2.peakcalls.fdr01.sorted.merge.mm10.bed\tfigure4_tcells/other_peakcalls/gitr_casa_peaks_mm10.bed\n",
      "chr4\t155991300\t155991530\t1\t2\t0\t1\t0\n",
      "chr4\t155991530\t155992700\t2\t1,2\t1\t1\t0\n",
      "chr4\t155992700\t155993100\t1\t1\t1\t0\t0\n",
      "chr4\t155993100\t155994100\t2\t1,2\t1\t1\t0\n",
      "chr4\t155994100\t156008500\t1\t1\t1\t0\t0\n",
      "chr4\t156008500\t156009300\t2\t1,2\t1\t1\t0\n",
      "chr4\t156009300\t156013600\t1\t1\t1\t0\t0\n",
      "chr4\t156013600\t156014700\t2\t1,2\t1\t1\t0\n",
      "chr4\t156014700\t156015400\t1\t1\t1\t0\t0\n"
     ]
    }
   ],
   "source": [
    "%%bash\n",
    "module load bedtools2\n",
    "\n",
    "bedtools multiinter -header -i figure4_tcells/screen_data/gitr.perturbationregion.mm10.bed \\\n",
    "figure4_tcells/deseq2_peakcalls/gitr.deseq2.peakcalls.fdr01.sorted.merge.mm10.bed \\\n",
    "figure4_tcells/other_peakcalls/gitr_casa_peaks_mm10.bed \\\n",
    "> figure4_tcells/upset/gitr.peakcallerupset.txt\n",
    "\n",
    "head figure4_tcells/upset/gitr.peakcallerupset.txt"
   ]
  },
  {
   "cell_type": "markdown",
   "metadata": {},
   "source": [
    "### Change to `R`"
   ]
  },
  {
   "cell_type": "markdown",
   "metadata": {},
   "source": [
    "### Load packages"
   ]
  },
  {
   "cell_type": "code",
   "execution_count": 3,
   "metadata": {},
   "outputs": [],
   "source": [
    "suppressPackageStartupMessages(library(tidyverse))\n",
    "suppressPackageStartupMessages(library(UpSetR))\n",
    "suppressPackageStartupMessages(library(ggpubr))\n",
    "suppressPackageStartupMessages(library(ggplotify))"
   ]
  },
  {
   "cell_type": "markdown",
   "metadata": {},
   "source": [
    "### Common region coordinates"
   ]
  },
  {
   "cell_type": "code",
   "execution_count": 4,
   "metadata": {},
   "outputs": [
    {
     "data": {
      "text/html": [
       "<table class=\"dataframe\">\n",
       "<caption>A data.frame: 1 × 3</caption>\n",
       "<thead>\n",
       "\t<tr><th></th><th scope=col>chrom</th><th scope=col>start</th><th scope=col>end</th></tr>\n",
       "\t<tr><th></th><th scope=col>&lt;chr&gt;</th><th scope=col>&lt;int&gt;</th><th scope=col>&lt;int&gt;</th></tr>\n",
       "</thead>\n",
       "<tbody>\n",
       "\t<tr><th scope=row>1</th><td>chr4</td><td>155991530</td><td>156035049</td></tr>\n",
       "</tbody>\n",
       "</table>\n"
      ],
      "text/latex": [
       "A data.frame: 1 × 3\n",
       "\\begin{tabular}{r|lll}\n",
       "  & chrom & start & end\\\\\n",
       "  & <chr> & <int> & <int>\\\\\n",
       "\\hline\n",
       "\t1 & chr4 & 155991530 & 156035049\\\\\n",
       "\\end{tabular}\n"
      ],
      "text/markdown": [
       "\n",
       "A data.frame: 1 × 3\n",
       "\n",
       "| <!--/--> | chrom &lt;chr&gt; | start &lt;int&gt; | end &lt;int&gt; |\n",
       "|---|---|---|---|\n",
       "| 1 | chr4 | 155991530 | 156035049 |\n",
       "\n"
      ],
      "text/plain": [
       "  chrom start     end      \n",
       "1 chr4  155991530 156035049"
      ]
     },
     "metadata": {},
     "output_type": "display_data"
    }
   ],
   "source": [
    "commonregion <- read.delim(\"figure4_tcells/screen_data/gitr.perturbationregion.mm10.bed\", header = FALSE,\n",
    "                           col.names = c(\"chrom\",\"start\",\"end\"))\n",
    "head(commonregion)"
   ]
  },
  {
   "cell_type": "markdown",
   "metadata": {},
   "source": [
    "### Now, generate the upset plot"
   ]
  },
  {
   "cell_type": "code",
   "execution_count": 7,
   "metadata": {},
   "outputs": [
    {
     "data": {
      "text/html": [
       "<table class=\"dataframe\">\n",
       "<caption>A data.frame: 1 × 9</caption>\n",
       "<thead>\n",
       "\t<tr><th></th><th scope=col>chrom</th><th scope=col>start</th><th scope=col>end</th><th scope=col>num</th><th scope=col>list</th><th scope=col>commonregion_coords</th><th scope=col>deseq2</th><th scope=col>casa</th><th scope=col>name</th></tr>\n",
       "\t<tr><th></th><th scope=col>&lt;chr&gt;</th><th scope=col>&lt;int&gt;</th><th scope=col>&lt;int&gt;</th><th scope=col>&lt;int&gt;</th><th scope=col>&lt;chr&gt;</th><th scope=col>&lt;int&gt;</th><th scope=col>&lt;int&gt;</th><th scope=col>&lt;int&gt;</th><th scope=col>&lt;chr&gt;</th></tr>\n",
       "</thead>\n",
       "<tbody>\n",
       "\t<tr><th scope=row>1</th><td>chr4</td><td>155991300</td><td>155991530</td><td>1</td><td>2</td><td>0</td><td>1</td><td>0</td><td>chr4:155991300-155991530</td></tr>\n",
       "</tbody>\n",
       "</table>\n"
      ],
      "text/latex": [
       "A data.frame: 1 × 9\n",
       "\\begin{tabular}{r|lllllllll}\n",
       "  & chrom & start & end & num & list & commonregion\\_coords & deseq2 & casa & name\\\\\n",
       "  & <chr> & <int> & <int> & <int> & <chr> & <int> & <int> & <int> & <chr>\\\\\n",
       "\\hline\n",
       "\t1 & chr4 & 155991300 & 155991530 & 1 & 2 & 0 & 1 & 0 & chr4:155991300-155991530\\\\\n",
       "\\end{tabular}\n"
      ],
      "text/markdown": [
       "\n",
       "A data.frame: 1 × 9\n",
       "\n",
       "| <!--/--> | chrom &lt;chr&gt; | start &lt;int&gt; | end &lt;int&gt; | num &lt;int&gt; | list &lt;chr&gt; | commonregion_coords &lt;int&gt; | deseq2 &lt;int&gt; | casa &lt;int&gt; | name &lt;chr&gt; |\n",
       "|---|---|---|---|---|---|---|---|---|---|\n",
       "| 1 | chr4 | 155991300 | 155991530 | 1 | 2 | 0 | 1 | 0 | chr4:155991300-155991530 |\n",
       "\n"
      ],
      "text/plain": [
       "  chrom start     end       num list commonregion_coords deseq2 casa\n",
       "1 chr4  155991300 155991530 1   2    0                   1      0   \n",
       "  name                    \n",
       "1 chr4:155991300-155991530"
      ]
     },
     "metadata": {},
     "output_type": "display_data"
    },
    {
     "data": {
      "text/html": [
       "<style>\n",
       ".list-inline {list-style: none; margin:0; padding: 0}\n",
       ".list-inline>li {display: inline-block}\n",
       ".list-inline>li:not(:last-child)::after {content: \"\\00b7\"; padding: 0 .5ex}\n",
       "</style>\n",
       "<ol class=list-inline><li>27</li><li>9</li></ol>\n"
      ],
      "text/latex": [
       "\\begin{enumerate*}\n",
       "\\item 27\n",
       "\\item 9\n",
       "\\end{enumerate*}\n"
      ],
      "text/markdown": [
       "1. 27\n",
       "2. 9\n",
       "\n",
       "\n"
      ],
      "text/plain": [
       "[1] 27  9"
      ]
     },
     "metadata": {},
     "output_type": "display_data"
    },
    {
     "data": {
      "text/html": [
       "<style>\n",
       ".list-inline {list-style: none; margin:0; padding: 0}\n",
       ".list-inline>li {display: inline-block}\n",
       ".list-inline>li:not(:last-child)::after {content: \"\\00b7\"; padding: 0 .5ex}\n",
       "</style>\n",
       "<ol class=list-inline><li>'chrom'</li><li>'start'</li><li>'end'</li><li>'num'</li><li>'list'</li><li>'commonregion_coords'</li><li>'deseq2'</li><li>'casa'</li><li>'name'</li></ol>\n"
      ],
      "text/latex": [
       "\\begin{enumerate*}\n",
       "\\item 'chrom'\n",
       "\\item 'start'\n",
       "\\item 'end'\n",
       "\\item 'num'\n",
       "\\item 'list'\n",
       "\\item 'commonregion\\_coords'\n",
       "\\item 'deseq2'\n",
       "\\item 'casa'\n",
       "\\item 'name'\n",
       "\\end{enumerate*}\n"
      ],
      "text/markdown": [
       "1. 'chrom'\n",
       "2. 'start'\n",
       "3. 'end'\n",
       "4. 'num'\n",
       "5. 'list'\n",
       "6. 'commonregion_coords'\n",
       "7. 'deseq2'\n",
       "8. 'casa'\n",
       "9. 'name'\n",
       "\n",
       "\n"
      ],
      "text/plain": [
       "[1] \"chrom\"               \"start\"               \"end\"                \n",
       "[4] \"num\"                 \"list\"                \"commonregion_coords\"\n",
       "[7] \"deseq2\"              \"casa\"                \"name\"               "
      ]
     },
     "metadata": {},
     "output_type": "display_data"
    }
   ],
   "source": [
    "df <- read.delim(\"figure4_tcells/upset/gitr.peakcallerupset.txt\", header = TRUE) %>%\n",
    "  mutate(name = paste0(chrom,\":\",start,\"-\",end)) %>%\n",
    "#   filter(chrom == commonregion$chrom) %>%\n",
    "#   filter(start >= commonregion$start) %>%\n",
    "#   filter(end <= commonregion$end) %>%\n",
    "  rename(casa = `figure4_tcells.other_peakcalls.gitr_casa_peaks_mm10.bed`,\n",
    "         deseq2 = `figure4_tcells.deseq2_peakcalls.gitr.deseq2.peakcalls.fdr01.sorted.merge.mm10.bed`,\n",
    "         commonregion_coords = `figure4_tcells.screen_data.gitr.perturbationregion.mm10.bed`)\n",
    "\n",
    "head(df,n=1)\n",
    "dim(df)\n",
    "colnames(df)"
   ]
  },
  {
   "cell_type": "code",
   "execution_count": 12,
   "metadata": {},
   "outputs": [
    {
     "data": {
      "image/png": "[encoded data removed]",
      "text/plain": [
       "plot without title"
      ]
     },
     "metadata": {
      "image/png": {
       "height": 480,
       "width": 720
      }
     },
     "output_type": "display_data"
    }
   ],
   "source": [
    "options(repr.plot.width = 12, repr.plot.height = 8)\n",
    "screen1 <- df %>% filter(casa == 1) %>% select(name) %>% distinct() %>% pull()\n",
    "screen2 <- df %>% filter(deseq2 == 1) %>% select(name) %>% distinct() %>% pull()\n",
    "\n",
    "listInput <- list(\"CASA\" = screen1, \n",
    "                  \"aggrDESeq2\" = screen2\n",
    "                 )\n",
    "\n",
    "p1 <- upset(fromList(listInput), \n",
    "      order.by = \"freq\",\n",
    "      nsets = 3,\n",
    "      queries = list(list(query = intersects, params = list(\"CASA\",\"aggrDESeq2\"), color = \"lightblue\", active = T)),\n",
    "      # set_size.show = TRUE, ### these do not look good when added in R, add later in Illustrator\n",
    "      # set_size.numbers_size = 5,\n",
    "      point.size = 3.5, \n",
    "      line.size = 2, \n",
    "      mainbar.y.label = \"Intersection Size\", \n",
    "      sets.x.label = \"Set Size\", \n",
    "      main.bar.color = \"black\", \n",
    "      text.scale = c(2, 2, 1.5, 2, 2, 3) # intersection size title, intersection size tick labels, set size title, set size tick labels, set names, numbers above bars\n",
    "      ) \n",
    "\n",
    "p1"
   ]
  },
  {
   "cell_type": "code",
   "execution_count": 14,
   "metadata": {},
   "outputs": [
    {
     "data": {
      "text/html": [
       "<strong>png:</strong> 2"
      ],
      "text/latex": [
       "\\textbf{png:} 2"
      ],
      "text/markdown": [
       "**png:** 2"
      ],
      "text/plain": [
       "png \n",
       "  2 "
      ]
     },
     "metadata": {},
     "output_type": "display_data"
    }
   ],
   "source": [
    "pdf(\"figure4_tcells/plot_pdfs/gitr_upsetplot_aggrdeseq2_casa.pdf\")\n",
    "print(p1)\n",
    "dev.off()"
   ]
  },
  {
   "cell_type": "markdown",
   "metadata": {},
   "source": [
    "### Now, remove the most significant gRNA per bin, then re-aggregate sgRNA-level effects to call \"peaks\""
   ]
  },
  {
   "cell_type": "code",
   "execution_count": 5,
   "metadata": {},
   "outputs": [],
   "source": [
    "suppressPackageStartupMessages(library(tidyverse))"
   ]
  },
  {
   "cell_type": "markdown",
   "metadata": {},
   "source": [
    "#### Define fisher's method to aggregate p values\n",
    " - https://mikelove.wordpress.com/2012/03/12/combining-p-values-fishers-method-sum-of-p-values-binomial/\n",
    " - https://www.biostars.org/p/211307/"
   ]
  },
  {
   "cell_type": "code",
   "execution_count": 6,
   "metadata": {},
   "outputs": [],
   "source": [
    "fishersMethod = function(x) pchisq(-2 * sum(log(x)),df=2*length(x),lower=FALSE)"
   ]
  },
  {
   "cell_type": "markdown",
   "metadata": {},
   "source": [
    "#### Re-load results (if needed)"
   ]
  },
  {
   "cell_type": "code",
   "execution_count": 7,
   "metadata": {},
   "outputs": [
    {
     "data": {
      "text/html": [
       "<table class=\"dataframe\">\n",
       "<caption>A tibble: 1 × 8</caption>\n",
       "<thead>\n",
       "\t<tr><th scope=col>baseMean</th><th scope=col>log2FoldChange</th><th scope=col>lfcSE</th><th scope=col>stat</th><th scope=col>pvalue</th><th scope=col>padj</th><th scope=col>grna</th><th scope=col>locus</th></tr>\n",
       "\t<tr><th scope=col>&lt;dbl&gt;</th><th scope=col>&lt;dbl&gt;</th><th scope=col>&lt;dbl&gt;</th><th scope=col>&lt;dbl&gt;</th><th scope=col>&lt;dbl&gt;</th><th scope=col>&lt;dbl&gt;</th><th scope=col>&lt;chr&gt;</th><th scope=col>&lt;chr&gt;</th></tr>\n",
       "</thead>\n",
       "<tbody>\n",
       "\t<tr><td>598.3767</td><td>-3.917804</td><td>0.1653469</td><td>-23.69446</td><td>4.112898e-124</td><td>9.130634e-122</td><td>chr4:156026280-156026302_+_GGCCTGAAGCCCAGTCTGAG</td><td>peak_10</td></tr>\n",
       "</tbody>\n",
       "</table>\n"
      ],
      "text/latex": [
       "A tibble: 1 × 8\n",
       "\\begin{tabular}{llllllll}\n",
       " baseMean & log2FoldChange & lfcSE & stat & pvalue & padj & grna & locus\\\\\n",
       " <dbl> & <dbl> & <dbl> & <dbl> & <dbl> & <dbl> & <chr> & <chr>\\\\\n",
       "\\hline\n",
       "\t 598.3767 & -3.917804 & 0.1653469 & -23.69446 & 4.112898e-124 & 9.130634e-122 & chr4:156026280-156026302\\_+\\_GGCCTGAAGCCCAGTCTGAG & peak\\_10\\\\\n",
       "\\end{tabular}\n"
      ],
      "text/markdown": [
       "\n",
       "A tibble: 1 × 8\n",
       "\n",
       "| baseMean &lt;dbl&gt; | log2FoldChange &lt;dbl&gt; | lfcSE &lt;dbl&gt; | stat &lt;dbl&gt; | pvalue &lt;dbl&gt; | padj &lt;dbl&gt; | grna &lt;chr&gt; | locus &lt;chr&gt; |\n",
       "|---|---|---|---|---|---|---|---|\n",
       "| 598.3767 | -3.917804 | 0.1653469 | -23.69446 | 4.112898e-124 | 9.130634e-122 | chr4:156026280-156026302_+_GGCCTGAAGCCCAGTCTGAG | peak_10 |\n",
       "\n"
      ],
      "text/plain": [
       "  baseMean log2FoldChange lfcSE     stat      pvalue        padj         \n",
       "1 598.3767 -3.917804      0.1653469 -23.69446 4.112898e-124 9.130634e-122\n",
       "  grna                                            locus  \n",
       "1 chr4:156026280-156026302_+_GGCCTGAAGCCCAGTCTGAG peak_10"
      ]
     },
     "metadata": {},
     "output_type": "display_data"
    }
   ],
   "source": [
    "res_labeled <- read_tsv(\"figure4_tcells/deseq2_results/high_vs_low_deseq2_results.tsv\", show_col_types = FALSE)\n",
    "head(res_labeled,n=1)"
   ]
  },
  {
   "cell_type": "markdown",
   "metadata": {},
   "source": [
    "#### Load output of bedtools intersect \n",
    "\n",
    "Defines \"bins\" and which sgRNAs belong to each bin after adjusting for perturbation modality."
   ]
  },
  {
   "cell_type": "code",
   "execution_count": 8,
   "metadata": {},
   "outputs": [
    {
     "data": {
      "text/html": [
       "<table class=\"dataframe\">\n",
       "<caption>A data.frame: 1 × 8</caption>\n",
       "<thead>\n",
       "\t<tr><th></th><th scope=col>grna_chrom</th><th scope=col>grna_start</th><th scope=col>grna_end</th><th scope=col>grna</th><th scope=col>bin_chr</th><th scope=col>bin_start</th><th scope=col>bin_end</th><th scope=col>bin</th></tr>\n",
       "\t<tr><th></th><th scope=col>&lt;chr&gt;</th><th scope=col>&lt;int&gt;</th><th scope=col>&lt;int&gt;</th><th scope=col>&lt;chr&gt;</th><th scope=col>&lt;chr&gt;</th><th scope=col>&lt;int&gt;</th><th scope=col>&lt;int&gt;</th><th scope=col>&lt;chr&gt;</th></tr>\n",
       "</thead>\n",
       "<tbody>\n",
       "\t<tr><th scope=row>1</th><td>chr4</td><td>156026296</td><td>156026299</td><td>chr4:156026280-156026302_+_GGCCTGAAGCCCAGTCTGAG</td><td>chr4</td><td>156026100</td><td>156026200</td><td>chr4:156026100-156026200</td></tr>\n",
       "</tbody>\n",
       "</table>\n"
      ],
      "text/latex": [
       "A data.frame: 1 × 8\n",
       "\\begin{tabular}{r|llllllll}\n",
       "  & grna\\_chrom & grna\\_start & grna\\_end & grna & bin\\_chr & bin\\_start & bin\\_end & bin\\\\\n",
       "  & <chr> & <int> & <int> & <chr> & <chr> & <int> & <int> & <chr>\\\\\n",
       "\\hline\n",
       "\t1 & chr4 & 156026296 & 156026299 & chr4:156026280-156026302\\_+\\_GGCCTGAAGCCCAGTCTGAG & chr4 & 156026100 & 156026200 & chr4:156026100-156026200\\\\\n",
       "\\end{tabular}\n"
      ],
      "text/markdown": [
       "\n",
       "A data.frame: 1 × 8\n",
       "\n",
       "| <!--/--> | grna_chrom &lt;chr&gt; | grna_start &lt;int&gt; | grna_end &lt;int&gt; | grna &lt;chr&gt; | bin_chr &lt;chr&gt; | bin_start &lt;int&gt; | bin_end &lt;int&gt; | bin &lt;chr&gt; |\n",
       "|---|---|---|---|---|---|---|---|---|\n",
       "| 1 | chr4 | 156026296 | 156026299 | chr4:156026280-156026302_+_GGCCTGAAGCCCAGTCTGAG | chr4 | 156026100 | 156026200 | chr4:156026100-156026200 |\n",
       "\n"
      ],
      "text/plain": [
       "  grna_chrom grna_start grna_end \n",
       "1 chr4       156026296  156026299\n",
       "  grna                                            bin_chr bin_start bin_end  \n",
       "1 chr4:156026280-156026302_+_GGCCTGAAGCCCAGTCTGAG chr4    156026100 156026200\n",
       "  bin                     \n",
       "1 chr4:156026100-156026200"
      ]
     },
     "metadata": {},
     "output_type": "display_data"
    },
    {
     "data": {
      "text/html": [
       "<style>\n",
       ".list-inline {list-style: none; margin:0; padding: 0}\n",
       ".list-inline>li {display: inline-block}\n",
       ".list-inline>li:not(:last-child)::after {content: \"\\00b7\"; padding: 0 .5ex}\n",
       "</style>\n",
       "<ol class=list-inline><li>1623</li><li>8</li></ol>\n"
      ],
      "text/latex": [
       "\\begin{enumerate*}\n",
       "\\item 1623\n",
       "\\item 8\n",
       "\\end{enumerate*}\n"
      ],
      "text/markdown": [
       "1. 1623\n",
       "2. 8\n",
       "\n",
       "\n"
      ],
      "text/plain": [
       "[1] 1623    8"
      ]
     },
     "metadata": {},
     "output_type": "display_data"
    }
   ],
   "source": [
    "grna_int_bins <- read.delim(\"figure4_tcells/screen_data/GITR_grna_cutsite_coords.krab.100step.txt\", \n",
    "                            header = FALSE, \n",
    "                            col.names = c(\"grna_chrom\",\"grna_start\",\"grna_end\",\"grna\",\"bin_chr\",\"bin_start\",\"bin_end\")) %>%\n",
    "mutate(bin = paste0(bin_chr,\":\",bin_start,\"-\",bin_end))\n",
    "\n",
    "head(grna_int_bins,n=1)\n",
    "dim(grna_int_bins)"
   ]
  },
  {
   "cell_type": "markdown",
   "metadata": {},
   "source": [
    "#### Subset DESeq2 results for only targeting sgRNAs\n",
    "\n",
    "Want to remove the promoter positive controls and non-targeting negative controls prior to aggregating gRNA p-values and logFC. If a promoter positive control was included in a bin calculation, it could skew the result towards being more significant (assuming it worked as intended). The negative controls do not have coordinates so they will not have a bin assignment."
   ]
  },
  {
   "cell_type": "code",
   "execution_count": 9,
   "metadata": {},
   "outputs": [
    {
     "data": {
      "text/html": [
       "<table class=\"dataframe\">\n",
       "<caption>A tibble: 1 × 8</caption>\n",
       "<thead>\n",
       "\t<tr><th scope=col>baseMean</th><th scope=col>log2FoldChange</th><th scope=col>lfcSE</th><th scope=col>stat</th><th scope=col>pvalue</th><th scope=col>padj</th><th scope=col>grna</th><th scope=col>locus</th></tr>\n",
       "\t<tr><th scope=col>&lt;dbl&gt;</th><th scope=col>&lt;dbl&gt;</th><th scope=col>&lt;dbl&gt;</th><th scope=col>&lt;dbl&gt;</th><th scope=col>&lt;dbl&gt;</th><th scope=col>&lt;dbl&gt;</th><th scope=col>&lt;chr&gt;</th><th scope=col>&lt;chr&gt;</th></tr>\n",
       "</thead>\n",
       "<tbody>\n",
       "\t<tr><td>598.3767</td><td>-3.917804</td><td>0.1653469</td><td>-23.69446</td><td>4.112898e-124</td><td>9.130634e-122</td><td>chr4:156026280-156026302_+_GGCCTGAAGCCCAGTCTGAG</td><td>peak_10</td></tr>\n",
       "</tbody>\n",
       "</table>\n"
      ],
      "text/latex": [
       "A tibble: 1 × 8\n",
       "\\begin{tabular}{llllllll}\n",
       " baseMean & log2FoldChange & lfcSE & stat & pvalue & padj & grna & locus\\\\\n",
       " <dbl> & <dbl> & <dbl> & <dbl> & <dbl> & <dbl> & <chr> & <chr>\\\\\n",
       "\\hline\n",
       "\t 598.3767 & -3.917804 & 0.1653469 & -23.69446 & 4.112898e-124 & 9.130634e-122 & chr4:156026280-156026302\\_+\\_GGCCTGAAGCCCAGTCTGAG & peak\\_10\\\\\n",
       "\\end{tabular}\n"
      ],
      "text/markdown": [
       "\n",
       "A tibble: 1 × 8\n",
       "\n",
       "| baseMean &lt;dbl&gt; | log2FoldChange &lt;dbl&gt; | lfcSE &lt;dbl&gt; | stat &lt;dbl&gt; | pvalue &lt;dbl&gt; | padj &lt;dbl&gt; | grna &lt;chr&gt; | locus &lt;chr&gt; |\n",
       "|---|---|---|---|---|---|---|---|\n",
       "| 598.3767 | -3.917804 | 0.1653469 | -23.69446 | 4.112898e-124 | 9.130634e-122 | chr4:156026280-156026302_+_GGCCTGAAGCCCAGTCTGAG | peak_10 |\n",
       "\n"
      ],
      "text/plain": [
       "  baseMean log2FoldChange lfcSE     stat      pvalue        padj         \n",
       "1 598.3767 -3.917804      0.1653469 -23.69446 4.112898e-124 9.130634e-122\n",
       "  grna                                            locus  \n",
       "1 chr4:156026280-156026302_+_GGCCTGAAGCCCAGTCTGAG peak_10"
      ]
     },
     "metadata": {},
     "output_type": "display_data"
    },
    {
     "data": {
      "text/html": [
       "<style>\n",
       ".list-inline {list-style: none; margin:0; padding: 0}\n",
       ".list-inline>li {display: inline-block}\n",
       ".list-inline>li:not(:last-child)::after {content: \"\\00b7\"; padding: 0 .5ex}\n",
       "</style>\n",
       "<ol class=list-inline><li>386</li><li>8</li></ol>\n"
      ],
      "text/latex": [
       "\\begin{enumerate*}\n",
       "\\item 386\n",
       "\\item 8\n",
       "\\end{enumerate*}\n"
      ],
      "text/markdown": [
       "1. 386\n",
       "2. 8\n",
       "\n",
       "\n"
      ],
      "text/plain": [
       "[1] 386   8"
      ]
     },
     "metadata": {},
     "output_type": "display_data"
    }
   ],
   "source": [
    "target_grna <- res_labeled %>% filter(grepl(\"peak\", locus))\n",
    "\n",
    "head(target_grna,n=1)\n",
    "dim(target_grna)"
   ]
  },
  {
   "cell_type": "markdown",
   "metadata": {},
   "source": [
    "#### Number of significant bins (CREs)"
   ]
  },
  {
   "cell_type": "code",
   "execution_count": 11,
   "metadata": {},
   "outputs": [
    {
     "name": "stderr",
     "output_type": "stream",
     "text": [
      "\u001b[1m\u001b[22m`summarise()` has grouped output by 'bin'. You can override using the `.groups`\n",
      "argument.\n"
     ]
    },
    {
     "data": {
      "text/html": [
       "69"
      ],
      "text/latex": [
       "69"
      ],
      "text/markdown": [
       "69"
      ],
      "text/plain": [
       "[1] 69"
      ]
     },
     "metadata": {},
     "output_type": "display_data"
    }
   ],
   "source": [
    "target_grna %>%\n",
    "left_join(grna_int_bins, by = \"grna\") %>%\n",
    "group_by(bin) %>%\n",
    "mutate(grna_count = n()) %>%\n",
    "top_n(n = first(grna_count - 1), pvalue) %>%\n",
    "mutate(new_count = n()) %>%\n",
    "summarize(n = n(),\n",
    "          fisher = fishersMethod(pvalue), \n",
    "          mean_logfc = mean(abs(log2FoldChange)),\n",
    "          max_logfc = max(abs(log2FoldChange)),\n",
    "          bin_mid = (bin_end+bin_start)/2) %>%\n",
    "select(bin, bin_mid, mean_logfc, max_logfc, fisher, n) %>%\n",
    "ungroup() %>%\n",
    "distinct() %>%\n",
    "mutate(fdr = p.adjust(fisher, method = \"fdr\")) %>% # then correct for the number of comparisons here\n",
    "mutate(sep = bin,\n",
    "       sig = -log10(fdr)) %>%\n",
    "separate(sep, into = c(\"chrom\",\"start\",\"end\")) %>%\n",
    "select(chrom, start, end, bin:sig) %>%\n",
    "filter(fdr < 0.1) %>%\n",
    "select(bin) %>%\n",
    "distinct() %>%\n",
    "pull() %>% length()"
   ]
  },
  {
   "cell_type": "markdown",
   "metadata": {},
   "source": [
    "#### Filter for FDR < 0.1, write .bed files"
   ]
  },
  {
   "cell_type": "code",
   "execution_count": 12,
   "metadata": {},
   "outputs": [
    {
     "name": "stderr",
     "output_type": "stream",
     "text": [
      "\u001b[1m\u001b[22m`summarise()` has grouped output by 'bin'. You can override using the `.groups`\n",
      "argument.\n"
     ]
    }
   ],
   "source": [
    "target_grna %>%\n",
    "left_join(grna_int_bins, by = \"grna\") %>%\n",
    "group_by(bin) %>%\n",
    "mutate(grna_count = n()) %>%\n",
    "top_n(n = first(grna_count - 1), pvalue) %>%\n",
    "mutate(new_count = n()) %>%\n",
    "summarize(n = n(),\n",
    "          fisher = fishersMethod(pvalue), \n",
    "          mean_logfc = mean(abs(log2FoldChange)),\n",
    "          max_logfc = max(abs(log2FoldChange)),\n",
    "          bin_mid = (bin_end+bin_start)/2) %>%\n",
    "select(bin, bin_mid, mean_logfc, max_logfc, fisher, n) %>%\n",
    "ungroup() %>%\n",
    "distinct() %>%\n",
    "mutate(fdr = p.adjust(fisher, method = \"fdr\")) %>% # then correct for the number of comparisons here\n",
    "mutate(sep = bin,\n",
    "       sig = -log10(fdr)) %>%\n",
    "separate(sep, into = c(\"chrom\",\"start\",\"end\")) %>%\n",
    "select(chrom, start, end, bin:sig) %>%\n",
    "filter(fdr < 0.1) %>%\n",
    "mutate(strand = \".\") %>%\n",
    "select(chrom:bin, sig, strand) %>%\n",
    "write.table(\"figure4_tcells/deseq2_peakcalls/gitr.deseq2.removemostsig.peakcalls.fdr01.adjp.mm10.bed\", \n",
    "            col.names = FALSE, row.names = FALSE, quote = FALSE, sep = \"\\t\")\n"
   ]
  },
  {
   "cell_type": "code",
   "execution_count": 13,
   "metadata": {},
   "outputs": [
    {
     "name": "stderr",
     "output_type": "stream",
     "text": [
      "\u001b[1m\u001b[22m`summarise()` has grouped output by 'bin'. You can override using the `.groups`\n",
      "argument.\n"
     ]
    }
   ],
   "source": [
    "target_grna %>%\n",
    "left_join(grna_int_bins, by = \"grna\") %>%\n",
    "group_by(bin) %>%\n",
    "mutate(grna_count = n()) %>%\n",
    "top_n(n = first(grna_count - 1), pvalue) %>%\n",
    "mutate(new_count = n()) %>%\n",
    "summarize(n = n(),\n",
    "          fisher = fishersMethod(pvalue), \n",
    "          mean_logfc = mean(abs(log2FoldChange)),\n",
    "          max_logfc = max(abs(log2FoldChange)),\n",
    "          bin_mid = (bin_end+bin_start)/2) %>%\n",
    "select(bin, bin_mid, mean_logfc, max_logfc, fisher, n) %>%\n",
    "ungroup() %>%\n",
    "distinct() %>%\n",
    "mutate(fdr = p.adjust(fisher, method = \"fdr\")) %>% # then correct for the number of comparisons here\n",
    "mutate(sep = bin,\n",
    "       sig = -log10(fdr)) %>%\n",
    "separate(sep, into = c(\"chrom\",\"start\",\"end\")) %>%\n",
    "select(chrom, start, end, bin:sig) %>%\n",
    "filter(fdr < 0.1) %>%\n",
    "mutate(strand = \".\") %>%\n",
    "select(chrom:bin, mean_logfc, strand) %>%\n",
    "write.table(\"figure4_tcells/deseq2_peakcalls/gitr.deseq2.removemostsig.peakcalls.fdr01.abslog2fc.mm10.bed\", \n",
    "            col.names = FALSE, row.names = FALSE, quote = FALSE, sep = \"\\t\")\n"
   ]
  },
  {
   "cell_type": "code",
   "execution_count": 14,
   "metadata": {},
   "outputs": [
    {
     "name": "stderr",
     "output_type": "stream",
     "text": [
      "\u001b[1m\u001b[22m`summarise()` has grouped output by 'bin'. You can override using the `.groups`\n",
      "argument.\n"
     ]
    }
   ],
   "source": [
    "target_grna %>%\n",
    "left_join(grna_int_bins, by = \"grna\") %>%\n",
    "group_by(bin) %>%\n",
    "mutate(grna_count = n()) %>%\n",
    "top_n(n = first(grna_count - 1), pvalue) %>%\n",
    "mutate(new_count = n()) %>%\n",
    "summarize(n = n(),\n",
    "          fisher = fishersMethod(pvalue), \n",
    "          mean_logfc = mean(abs(log2FoldChange)),\n",
    "          max_logfc = max(abs(log2FoldChange)),\n",
    "          bin_mid = (bin_end+bin_start)/2) %>%\n",
    "select(bin, bin_mid, mean_logfc, max_logfc, fisher, n) %>%\n",
    "ungroup() %>%\n",
    "distinct() %>%\n",
    "mutate(fdr = p.adjust(fisher, method = \"fdr\")) %>% # then correct for the number of comparisons here\n",
    "mutate(sep = bin,\n",
    "       sig = -log10(fdr)) %>%\n",
    "separate(sep, into = c(\"chrom\",\"start\",\"end\")) %>%\n",
    "select(chrom, start, end, bin:sig) %>%\n",
    "filter(fdr < 0.1) %>%\n",
    "mutate(strand = \".\") %>%\n",
    "select(chrom:bin, max_logfc, strand) %>%\n",
    "write.table(\"figure4_tcells/deseq2_peakcalls/gitr.deseq2.removemostsig.peakcalls.fdr01.maxlog2fc.mm10.bed\", \n",
    "            col.names = FALSE, row.names = FALSE, quote = FALSE, sep = \"\\t\")\n",
    " "
   ]
  },
  {
   "cell_type": "markdown",
   "metadata": {},
   "source": [
    "### Switch to `python` kernel"
   ]
  },
  {
   "cell_type": "markdown",
   "metadata": {},
   "source": [
    "#### Sort bins and then merge adjacent bins to generate final peak calls for aggrDESeq2"
   ]
  },
  {
   "cell_type": "code",
   "execution_count": 1,
   "metadata": {},
   "outputs": [
    {
     "name": "stdout",
     "output_type": "stream",
     "text": [
      "chr4\t155991500\t155991600\tchr4:155991500-155991600\t2.58267546283058\t.\n",
      "69 figure4_tcells/deseq2_peakcalls/gitr.deseq2.removemostsig.peakcalls.fdr01.adjp.mm10.bed\n"
     ]
    }
   ],
   "source": [
    "%%bash\n",
    "head -n 1 figure4_tcells/deseq2_peakcalls/gitr.deseq2.removemostsig.peakcalls.fdr01.adjp.mm10.bed\n",
    "wc -l figure4_tcells/deseq2_peakcalls/gitr.deseq2.removemostsig.peakcalls.fdr01.adjp.mm10.bed"
   ]
  },
  {
   "cell_type": "code",
   "execution_count": 2,
   "metadata": {},
   "outputs": [
    {
     "name": "stdout",
     "output_type": "stream",
     "text": [
      "chr4\t155991500\t155991600\tchr4:155991500-155991600\t2.58267546283058\t.\n",
      "69 figure4_tcells/deseq2_peakcalls/gitr.deseq2.removemostsig.peakcalls.fdr01.sorted.mm10.bed\n"
     ]
    }
   ],
   "source": [
    "%%bash\n",
    "\n",
    "sort -k1,1 -k2,2n figure4_tcells/deseq2_peakcalls/gitr.deseq2.removemostsig.peakcalls.fdr01.adjp.mm10.bed > figure4_tcells/deseq2_peakcalls/gitr.deseq2.removemostsig.peakcalls.fdr01.sorted.mm10.bed\n",
    "\n",
    "head -n 1 figure4_tcells/deseq2_peakcalls/gitr.deseq2.removemostsig.peakcalls.fdr01.sorted.mm10.bed\n",
    "wc -l figure4_tcells/deseq2_peakcalls/gitr.deseq2.removemostsig.peakcalls.fdr01.sorted.mm10.bed"
   ]
  },
  {
   "cell_type": "code",
   "execution_count": 3,
   "metadata": {},
   "outputs": [
    {
     "name": "stdout",
     "output_type": "stream",
     "text": [
      "chr4\t155991500\t155992300\n",
      "8 figure4_tcells/deseq2_peakcalls/gitr.deseq2.removemostsig.peakcalls.fdr01.sorted.merge.mm10.bed\n"
     ]
    }
   ],
   "source": [
    "%%bash\n",
    "module load bedtools2\n",
    "\n",
    "bedtools merge -d 1 -i figure4_tcells/deseq2_peakcalls/gitr.deseq2.removemostsig.peakcalls.fdr01.sorted.mm10.bed > figure4_tcells/deseq2_peakcalls/gitr.deseq2.removemostsig.peakcalls.fdr01.sorted.merge.mm10.bed\n",
    "\n",
    "head -n 1 figure4_tcells/deseq2_peakcalls/gitr.deseq2.removemostsig.peakcalls.fdr01.sorted.merge.mm10.bed\n",
    "wc -l figure4_tcells/deseq2_peakcalls/gitr.deseq2.removemostsig.peakcalls.fdr01.sorted.merge.mm10.bed"
   ]
  },
  {
   "cell_type": "markdown",
   "metadata": {},
   "source": [
    "#### Intersect peak calls from other methods. The output will be used to generate an upset plot comparing the results of each method."
   ]
  },
  {
   "cell_type": "code",
   "execution_count": 2,
   "metadata": {},
   "outputs": [
    {
     "name": "stdout",
     "output_type": "stream",
     "text": [
      "chrom\tstart\tend\tnum\tlist\tfigure4_tcells/screen_data/gitr.perturbationregion.mm10.bed\tfigure4_tcells/deseq2_peakcalls/gitr.deseq2.removemostsig.peakcalls.fdr01.sorted.merge.mm10.bed\tfigure4_tcells/other_peakcalls/gitr_casa_peaks_mm10.bed\n",
      "chr4\t155991500\t155991530\t1\t2\t0\t1\t0\n",
      "chr4\t155991530\t155992300\t2\t1,2\t1\t1\t0\n",
      "chr4\t155992300\t155993200\t1\t1\t1\t0\t0\n",
      "chr4\t155993200\t155993500\t2\t1,2\t1\t1\t0\n",
      "chr4\t155993500\t156013600\t1\t1\t1\t0\t0\n",
      "chr4\t156013600\t156014600\t2\t1,2\t1\t1\t0\n",
      "chr4\t156014600\t156021700\t1\t1\t1\t0\t0\n",
      "chr4\t156021700\t156022200\t2\t1,2\t1\t1\t0\n",
      "chr4\t156022200\t156022800\t3\t1,2,3\t1\t1\t1\n"
     ]
    }
   ],
   "source": [
    "%%bash\n",
    "module load bedtools2\n",
    "\n",
    "bedtools multiinter -header -i figure4_tcells/screen_data/gitr.perturbationregion.mm10.bed \\\n",
    "figure4_tcells/deseq2_peakcalls/gitr.deseq2.removemostsig.peakcalls.fdr01.sorted.merge.mm10.bed \\\n",
    "figure4_tcells/other_peakcalls/gitr_casa_peaks_mm10.bed \\\n",
    "> figure4_tcells/upset/gitr.peakcallerupset.deseq2removemostsig.txt\n",
    "\n",
    "head figure4_tcells/upset/gitr.peakcallerupset.deseq2removemostsig.txt"
   ]
  },
  {
   "cell_type": "markdown",
   "metadata": {},
   "source": [
    "### Change to `R`"
   ]
  },
  {
   "cell_type": "markdown",
   "metadata": {},
   "source": [
    "### Load packages"
   ]
  },
  {
   "cell_type": "code",
   "execution_count": 15,
   "metadata": {},
   "outputs": [],
   "source": [
    "suppressPackageStartupMessages(library(tidyverse))\n",
    "suppressPackageStartupMessages(library(UpSetR))\n",
    "suppressPackageStartupMessages(library(ggpubr))\n",
    "suppressPackageStartupMessages(library(ggplotify))"
   ]
  },
  {
   "cell_type": "markdown",
   "metadata": {},
   "source": [
    "### Common region coordinates"
   ]
  },
  {
   "cell_type": "code",
   "execution_count": 16,
   "metadata": {},
   "outputs": [
    {
     "data": {
      "text/html": [
       "<table class=\"dataframe\">\n",
       "<caption>A data.frame: 1 × 3</caption>\n",
       "<thead>\n",
       "\t<tr><th></th><th scope=col>chrom</th><th scope=col>start</th><th scope=col>end</th></tr>\n",
       "\t<tr><th></th><th scope=col>&lt;chr&gt;</th><th scope=col>&lt;int&gt;</th><th scope=col>&lt;int&gt;</th></tr>\n",
       "</thead>\n",
       "<tbody>\n",
       "\t<tr><th scope=row>1</th><td>chr4</td><td>155991530</td><td>156035049</td></tr>\n",
       "</tbody>\n",
       "</table>\n"
      ],
      "text/latex": [
       "A data.frame: 1 × 3\n",
       "\\begin{tabular}{r|lll}\n",
       "  & chrom & start & end\\\\\n",
       "  & <chr> & <int> & <int>\\\\\n",
       "\\hline\n",
       "\t1 & chr4 & 155991530 & 156035049\\\\\n",
       "\\end{tabular}\n"
      ],
      "text/markdown": [
       "\n",
       "A data.frame: 1 × 3\n",
       "\n",
       "| <!--/--> | chrom &lt;chr&gt; | start &lt;int&gt; | end &lt;int&gt; |\n",
       "|---|---|---|---|\n",
       "| 1 | chr4 | 155991530 | 156035049 |\n",
       "\n"
      ],
      "text/plain": [
       "  chrom start     end      \n",
       "1 chr4  155991530 156035049"
      ]
     },
     "metadata": {},
     "output_type": "display_data"
    }
   ],
   "source": [
    "commonregion <- read.delim(\"figure4_tcells/screen_data/gitr.perturbationregion.mm10.bed\", header = FALSE,\n",
    "                           col.names = c(\"chrom\",\"start\",\"end\"))\n",
    "head(commonregion)"
   ]
  },
  {
   "cell_type": "markdown",
   "metadata": {},
   "source": [
    "### Now, generate the upset plot"
   ]
  },
  {
   "cell_type": "code",
   "execution_count": 18,
   "metadata": {},
   "outputs": [
    {
     "data": {
      "text/html": [
       "<table class=\"dataframe\">\n",
       "<caption>A data.frame: 1 × 9</caption>\n",
       "<thead>\n",
       "\t<tr><th></th><th scope=col>chrom</th><th scope=col>start</th><th scope=col>end</th><th scope=col>num</th><th scope=col>list</th><th scope=col>commonregion_coords</th><th scope=col>deseq2</th><th scope=col>casa</th><th scope=col>name</th></tr>\n",
       "\t<tr><th></th><th scope=col>&lt;chr&gt;</th><th scope=col>&lt;int&gt;</th><th scope=col>&lt;int&gt;</th><th scope=col>&lt;int&gt;</th><th scope=col>&lt;chr&gt;</th><th scope=col>&lt;int&gt;</th><th scope=col>&lt;int&gt;</th><th scope=col>&lt;int&gt;</th><th scope=col>&lt;chr&gt;</th></tr>\n",
       "</thead>\n",
       "<tbody>\n",
       "\t<tr><th scope=row>1</th><td>chr4</td><td>155991500</td><td>155991530</td><td>1</td><td>2</td><td>0</td><td>1</td><td>0</td><td>chr4:155991500-155991530</td></tr>\n",
       "</tbody>\n",
       "</table>\n"
      ],
      "text/latex": [
       "A data.frame: 1 × 9\n",
       "\\begin{tabular}{r|lllllllll}\n",
       "  & chrom & start & end & num & list & commonregion\\_coords & deseq2 & casa & name\\\\\n",
       "  & <chr> & <int> & <int> & <int> & <chr> & <int> & <int> & <int> & <chr>\\\\\n",
       "\\hline\n",
       "\t1 & chr4 & 155991500 & 155991530 & 1 & 2 & 0 & 1 & 0 & chr4:155991500-155991530\\\\\n",
       "\\end{tabular}\n"
      ],
      "text/markdown": [
       "\n",
       "A data.frame: 1 × 9\n",
       "\n",
       "| <!--/--> | chrom &lt;chr&gt; | start &lt;int&gt; | end &lt;int&gt; | num &lt;int&gt; | list &lt;chr&gt; | commonregion_coords &lt;int&gt; | deseq2 &lt;int&gt; | casa &lt;int&gt; | name &lt;chr&gt; |\n",
       "|---|---|---|---|---|---|---|---|---|---|\n",
       "| 1 | chr4 | 155991500 | 155991530 | 1 | 2 | 0 | 1 | 0 | chr4:155991500-155991530 |\n",
       "\n"
      ],
      "text/plain": [
       "  chrom start     end       num list commonregion_coords deseq2 casa\n",
       "1 chr4  155991500 155991530 1   2    0                   1      0   \n",
       "  name                    \n",
       "1 chr4:155991500-155991530"
      ]
     },
     "metadata": {},
     "output_type": "display_data"
    },
    {
     "data": {
      "text/html": [
       "<style>\n",
       ".list-inline {list-style: none; margin:0; padding: 0}\n",
       ".list-inline>li {display: inline-block}\n",
       ".list-inline>li:not(:last-child)::after {content: \"\\00b7\"; padding: 0 .5ex}\n",
       "</style>\n",
       "<ol class=list-inline><li>19</li><li>9</li></ol>\n"
      ],
      "text/latex": [
       "\\begin{enumerate*}\n",
       "\\item 19\n",
       "\\item 9\n",
       "\\end{enumerate*}\n"
      ],
      "text/markdown": [
       "1. 19\n",
       "2. 9\n",
       "\n",
       "\n"
      ],
      "text/plain": [
       "[1] 19  9"
      ]
     },
     "metadata": {},
     "output_type": "display_data"
    },
    {
     "data": {
      "text/html": [
       "<style>\n",
       ".list-inline {list-style: none; margin:0; padding: 0}\n",
       ".list-inline>li {display: inline-block}\n",
       ".list-inline>li:not(:last-child)::after {content: \"\\00b7\"; padding: 0 .5ex}\n",
       "</style>\n",
       "<ol class=list-inline><li>'chrom'</li><li>'start'</li><li>'end'</li><li>'num'</li><li>'list'</li><li>'commonregion_coords'</li><li>'deseq2'</li><li>'casa'</li><li>'name'</li></ol>\n"
      ],
      "text/latex": [
       "\\begin{enumerate*}\n",
       "\\item 'chrom'\n",
       "\\item 'start'\n",
       "\\item 'end'\n",
       "\\item 'num'\n",
       "\\item 'list'\n",
       "\\item 'commonregion\\_coords'\n",
       "\\item 'deseq2'\n",
       "\\item 'casa'\n",
       "\\item 'name'\n",
       "\\end{enumerate*}\n"
      ],
      "text/markdown": [
       "1. 'chrom'\n",
       "2. 'start'\n",
       "3. 'end'\n",
       "4. 'num'\n",
       "5. 'list'\n",
       "6. 'commonregion_coords'\n",
       "7. 'deseq2'\n",
       "8. 'casa'\n",
       "9. 'name'\n",
       "\n",
       "\n"
      ],
      "text/plain": [
       "[1] \"chrom\"               \"start\"               \"end\"                \n",
       "[4] \"num\"                 \"list\"                \"commonregion_coords\"\n",
       "[7] \"deseq2\"              \"casa\"                \"name\"               "
      ]
     },
     "metadata": {},
     "output_type": "display_data"
    }
   ],
   "source": [
    "df <- read.delim(\"figure4_tcells/upset/gitr.peakcallerupset.deseq2removemostsig.txt\", header = TRUE) %>%\n",
    "  mutate(name = paste0(chrom,\":\",start,\"-\",end)) %>%\n",
    "  rename(casa = `figure4_tcells.other_peakcalls.gitr_casa_peaks_mm10.bed`,\n",
    "         deseq2 = `figure4_tcells.deseq2_peakcalls.gitr.deseq2.removemostsig.peakcalls.fdr01.sorted.merge.mm10.bed`,\n",
    "         commonregion_coords = `figure4_tcells.screen_data.gitr.perturbationregion.mm10.bed`)\n",
    "\n",
    "head(df,n=1)\n",
    "dim(df)\n",
    "colnames(df)"
   ]
  },
  {
   "cell_type": "code",
   "execution_count": 20,
   "metadata": {},
   "outputs": [
    {
     "data": {
      "image/png": "[encoded data removed]",
      "text/plain": [
       "plot without title"
      ]
     },
     "metadata": {
      "image/png": {
       "height": 480,
       "width": 720
      }
     },
     "output_type": "display_data"
    }
   ],
   "source": [
    "options(repr.plot.width = 12, repr.plot.height = 8)\n",
    "screen1 <- df %>% filter(casa == 1) %>% select(name) %>% distinct() %>% pull()\n",
    "screen2 <- df %>% filter(deseq2 == 1) %>% select(name) %>% distinct() %>% pull()\n",
    "\n",
    "listInput <- list(\"CASA\" = screen1, \n",
    "                  \"aggrDESeq2\" = screen2\n",
    "                 )\n",
    "\n",
    "p1 <- upset(fromList(listInput), \n",
    "      order.by = \"freq\",\n",
    "      nsets = 3,\n",
    "      queries = list(list(query = intersects, params = list(\"CASA\",\"aggrDESeq2\"), color = \"lightblue\", active = T)),\n",
    "      # set_size.show = TRUE, ### these do not look good when added in R, add later in Illustrator\n",
    "      # set_size.numbers_size = 5,\n",
    "      point.size = 3.5, \n",
    "      line.size = 2, \n",
    "      mainbar.y.label = \"Intersection Size\", \n",
    "      sets.x.label = \"Set Size\", \n",
    "      main.bar.color = \"black\", \n",
    "      text.scale = c(2, 2, 1.5, 2, 2, 3) # intersection size title, intersection size tick labels, set size title, set size tick labels, set names, numbers above bars\n",
    "      ) \n",
    "\n",
    "p1"
   ]
  },
  {
   "cell_type": "code",
   "execution_count": 21,
   "metadata": {},
   "outputs": [
    {
     "data": {
      "text/html": [
       "<strong>png:</strong> 2"
      ],
      "text/latex": [
       "\\textbf{png:} 2"
      ],
      "text/markdown": [
       "**png:** 2"
      ],
      "text/plain": [
       "png \n",
       "  2 "
      ]
     },
     "metadata": {},
     "output_type": "display_data"
    }
   ],
   "source": [
    "pdf(\"figure4_tcells/plot_pdfs/gitr_upsetplot_aggrdeseq2_removemostsig_casa.pdf\")\n",
    "print(p1)\n",
    "dev.off()"
   ]
  },
  {
   "cell_type": "code",
   "execution_count": null,
   "metadata": {},
   "outputs": [],
   "source": []
  },
  {
   "cell_type": "code",
   "execution_count": null,
   "metadata": {},
   "outputs": [],
   "source": []
  }
 ],
 "metadata": {
  "kernelspec": {
   "display_name": "Python 3",
   "language": "python",
   "name": "python3"
  },
  "language_info": {
   "codemirror_mode": {
    "name": "ipython",
    "version": 3
   },
   "file_extension": ".py",
   "mimetype": "text/x-python",
   "name": "python",
   "nbconvert_exporter": "python",
   "pygments_lexer": "ipython3",
   "version": "3.6.7"
  }
 },
 "nbformat": 4,
 "nbformat_minor": 2
}
