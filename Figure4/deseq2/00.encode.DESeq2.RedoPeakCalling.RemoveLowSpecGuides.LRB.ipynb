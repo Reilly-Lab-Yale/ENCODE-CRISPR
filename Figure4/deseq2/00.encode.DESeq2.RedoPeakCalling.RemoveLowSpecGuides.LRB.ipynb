{
 "cells": [
  {
   "cell_type": "markdown",
   "metadata": {},
   "source": [
    "# Redo DESeq2 peak calling for Tycko CRISPRi GATA screen with low specificity sgRNAs removed prior to running DESeq2\n",
    "\n",
    "Since they were included in the original SummarizedExperiment, the counts would have contributed to the overall variance at each time point so removing them post-DESeq2 would not be appropriate/the same as removing them from the analysis."
   ]
  },
  {
   "cell_type": "markdown",
   "metadata": {},
   "source": [
    "### Load libraries for data processing"
   ]
  },
  {
   "cell_type": "code",
   "execution_count": 1,
   "metadata": {},
   "outputs": [],
   "source": [
    "suppressPackageStartupMessages(library(tidyverse))"
   ]
  },
  {
   "cell_type": "markdown",
   "metadata": {},
   "source": [
    "### Prepare input data"
   ]
  },
  {
   "cell_type": "markdown",
   "metadata": {},
   "source": [
    "#### Load sgRNA content for Bassik GATA1 library\n",
    "\n",
    "Note that some sgRNAs may not have a GuideScan score and the coordinates most likely will not match those in the updated version of the GuideQuant files. Try joining on protospacer sequences or just interesct with bedtools.\n"
   ]
  },
  {
   "cell_type": "code",
   "execution_count": 12,
   "metadata": {},
   "outputs": [
    {
     "data": {
      "text/html": [
       "<table class=\"dataframe\">\n",
       "<caption>A tibble: 1 × 26</caption>\n",
       "<thead>\n",
       "\t<tr><th scope=col>chrPerturbationTarget</th><th scope=col>startPerturbationTarget</th><th scope=col>endPerturbationTarget</th><th scope=col>chrTSS</th><th scope=col>startTSS</th><th scope=col>endTSS</th><th scope=col>name</th><th scope=col>EffectSize</th><th scope=col>strandElement</th><th scope=col>strandGene</th><th scope=col>⋯</th><th scope=col>guidescanCuttingEfficiencyScore</th><th scope=col>guidescanCuttingSpecificityScore</th><th scope=col>offtargetsSum</th><th scope=col>EnrichmentRep1</th><th scope=col>StartCountsRep1</th><th scope=col>T14CountsRep1</th><th scope=col>EnrichmentRep2</th><th scope=col>StartCountsRep2</th><th scope=col>T14CountsRep2</th><th scope=col>guideType</th></tr>\n",
       "\t<tr><th scope=col>&lt;chr&gt;</th><th scope=col>&lt;chr&gt;</th><th scope=col>&lt;chr&gt;</th><th scope=col>&lt;chr&gt;</th><th scope=col>&lt;chr&gt;</th><th scope=col>&lt;chr&gt;</th><th scope=col>&lt;chr&gt;</th><th scope=col>&lt;dbl&gt;</th><th scope=col>&lt;chr&gt;</th><th scope=col>&lt;chr&gt;</th><th scope=col>⋯</th><th scope=col>&lt;dbl&gt;</th><th scope=col>&lt;dbl&gt;</th><th scope=col>&lt;dbl&gt;</th><th scope=col>&lt;dbl&gt;</th><th scope=col>&lt;dbl&gt;</th><th scope=col>&lt;dbl&gt;</th><th scope=col>&lt;dbl&gt;</th><th scope=col>&lt;dbl&gt;</th><th scope=col>&lt;dbl&gt;</th><th scope=col>&lt;chr&gt;</th></tr>\n",
       "</thead>\n",
       "<tbody>\n",
       "\t<tr><td>chrX</td><td>48746012</td><td>48746031</td><td>chrX</td><td>48644962</td><td>48644962</td><td>chrX:48604416-48604435:+</td><td>-0.2427449</td><td>+</td><td>+</td><td>⋯</td><td>28</td><td>0.0015617</td><td>3201</td><td>-0.1011426</td><td>103</td><td>73</td><td>-0.3843473</td><td>103</td><td>89</td><td>tiling</td></tr>\n",
       "</tbody>\n",
       "</table>\n"
      ],
      "text/latex": [
       "A tibble: 1 × 26\n",
       "\\begin{tabular}{lllllllllllllllllllll}\n",
       " chrPerturbationTarget & startPerturbationTarget & endPerturbationTarget & chrTSS & startTSS & endTSS & name & EffectSize & strandElement & strandGene & ⋯ & guidescanCuttingEfficiencyScore & guidescanCuttingSpecificityScore & offtargetsSum & EnrichmentRep1 & StartCountsRep1 & T14CountsRep1 & EnrichmentRep2 & StartCountsRep2 & T14CountsRep2 & guideType\\\\\n",
       " <chr> & <chr> & <chr> & <chr> & <chr> & <chr> & <chr> & <dbl> & <chr> & <chr> & ⋯ & <dbl> & <dbl> & <dbl> & <dbl> & <dbl> & <dbl> & <dbl> & <dbl> & <dbl> & <chr>\\\\\n",
       "\\hline\n",
       "\t chrX & 48746012 & 48746031 & chrX & 48644962 & 48644962 & chrX:48604416-48604435:+ & -0.2427449 & + & + & ⋯ & 28 & 0.0015617 & 3201 & -0.1011426 & 103 & 73 & -0.3843473 & 103 & 89 & tiling\\\\\n",
       "\\end{tabular}\n"
      ],
      "text/markdown": [
       "\n",
       "A tibble: 1 × 26\n",
       "\n",
       "| chrPerturbationTarget &lt;chr&gt; | startPerturbationTarget &lt;chr&gt; | endPerturbationTarget &lt;chr&gt; | chrTSS &lt;chr&gt; | startTSS &lt;chr&gt; | endTSS &lt;chr&gt; | name &lt;chr&gt; | EffectSize &lt;dbl&gt; | strandElement &lt;chr&gt; | strandGene &lt;chr&gt; | ⋯ ⋯ | guidescanCuttingEfficiencyScore &lt;dbl&gt; | guidescanCuttingSpecificityScore &lt;dbl&gt; | offtargetsSum &lt;dbl&gt; | EnrichmentRep1 &lt;dbl&gt; | StartCountsRep1 &lt;dbl&gt; | T14CountsRep1 &lt;dbl&gt; | EnrichmentRep2 &lt;dbl&gt; | StartCountsRep2 &lt;dbl&gt; | T14CountsRep2 &lt;dbl&gt; | guideType &lt;chr&gt; |\n",
       "|---|---|---|---|---|---|---|---|---|---|---|---|---|---|---|---|---|---|---|---|---|\n",
       "| chrX | 48746012 | 48746031 | chrX | 48644962 | 48644962 | chrX:48604416-48604435:+ | -0.2427449 | + | + | ⋯ | 28 | 0.0015617 | 3201 | -0.1011426 | 103 | 73 | -0.3843473 | 103 | 89 | tiling |\n",
       "\n"
      ],
      "text/plain": [
       "  chrPerturbationTarget startPerturbationTarget endPerturbationTarget chrTSS\n",
       "1 chrX                  48746012                48746031              chrX  \n",
       "  startTSS endTSS   name                     EffectSize strandElement\n",
       "1 48644962 48644962 chrX:48604416-48604435:+ -0.2427449 +            \n",
       "  strandGene ⋯ guidescanCuttingEfficiencyScore guidescanCuttingSpecificityScore\n",
       "1 +          ⋯ 28                              0.0015617                       \n",
       "  offtargetsSum EnrichmentRep1 StartCountsRep1 T14CountsRep1 EnrichmentRep2\n",
       "1 3201          -0.1011426     103             73            -0.3843473    \n",
       "  StartCountsRep2 T14CountsRep2 guideType\n",
       "1 103             89            tiling   "
      ]
     },
     "metadata": {},
     "output_type": "display_data"
    },
    {
     "data": {
      "text/html": [
       "<style>\n",
       ".list-inline {list-style: none; margin:0; padding: 0}\n",
       ".list-inline>li {display: inline-block}\n",
       ".list-inline>li:not(:last-child)::after {content: \"\\00b7\"; padding: 0 .5ex}\n",
       "</style>\n",
       "<ol class=list-inline><li>10291</li><li>26</li></ol>\n"
      ],
      "text/latex": [
       "\\begin{enumerate*}\n",
       "\\item 10291\n",
       "\\item 26\n",
       "\\end{enumerate*}\n"
      ],
      "text/markdown": [
       "1. 10291\n",
       "2. 26\n",
       "\n",
       "\n"
      ],
      "text/plain": [
       "[1] 10291    26"
      ]
     },
     "metadata": {},
     "output_type": "display_data"
    }
   ],
   "source": [
    "grna <- read_csv(\"/data/gersbachlab/lrb53/encodeCrisprWG/lowspecguides/ammended_tycko_gata1_growth_PerturbTarget_in_hg38.csv\",\n",
    "                show_col_types = FALSE)\n",
    "head(grna,n=1)\n",
    "dim(grna)"
   ]
  },
  {
   "cell_type": "markdown",
   "metadata": {},
   "source": [
    "#### Load ENCODE guideQuant files, select guideID, type of guide, and read counts"
   ]
  },
  {
   "cell_type": "code",
   "execution_count": 13,
   "metadata": {},
   "outputs": [
    {
     "data": {
      "text/html": [
       "<table class=\"dataframe\">\n",
       "<caption>A tibble: 1 × 5</caption>\n",
       "<thead>\n",
       "\t<tr><th scope=col>grna_id</th><th scope=col>type</th><th scope=col>plasmid</th><th scope=col>seq1</th><th scope=col>seq2</th></tr>\n",
       "\t<tr><th scope=col>&lt;chr&gt;</th><th scope=col>&lt;chr&gt;</th><th scope=col>&lt;dbl&gt;</th><th scope=col>&lt;chr&gt;</th><th scope=col>&lt;chr&gt;</th></tr>\n",
       "</thead>\n",
       "<tbody>\n",
       "\t<tr><td>chrX:48686620-48686623</td><td>tiling</td><td>208</td><td>GGGTCTATGGAGAAGTGGG</td><td>GGGGTCTATGGAGAAGTGGG</td></tr>\n",
       "</tbody>\n",
       "</table>\n"
      ],
      "text/latex": [
       "A tibble: 1 × 5\n",
       "\\begin{tabular}{lllll}\n",
       " grna\\_id & type & plasmid & seq1 & seq2\\\\\n",
       " <chr> & <chr> & <dbl> & <chr> & <chr>\\\\\n",
       "\\hline\n",
       "\t chrX:48686620-48686623 & tiling & 208 & GGGTCTATGGAGAAGTGGG & GGGGTCTATGGAGAAGTGGG\\\\\n",
       "\\end{tabular}\n"
      ],
      "text/markdown": [
       "\n",
       "A tibble: 1 × 5\n",
       "\n",
       "| grna_id &lt;chr&gt; | type &lt;chr&gt; | plasmid &lt;dbl&gt; | seq1 &lt;chr&gt; | seq2 &lt;chr&gt; |\n",
       "|---|---|---|---|---|\n",
       "| chrX:48686620-48686623 | tiling | 208 | GGGTCTATGGAGAAGTGGG | GGGGTCTATGGAGAAGTGGG |\n",
       "\n"
      ],
      "text/plain": [
       "  grna_id                type   plasmid seq1               \n",
       "1 chrX:48686620-48686623 tiling 208     GGGTCTATGGAGAAGTGGG\n",
       "  seq2                \n",
       "1 GGGGTCTATGGAGAAGTGGG"
      ]
     },
     "metadata": {},
     "output_type": "display_data"
    },
    {
     "data": {
      "text/html": [
       "<style>\n",
       ".list-inline {list-style: none; margin:0; padding: 0}\n",
       ".list-inline>li {display: inline-block}\n",
       ".list-inline>li:not(:last-child)::after {content: \"\\00b7\"; padding: 0 .5ex}\n",
       "</style>\n",
       "<ol class=list-inline><li>10036</li><li>5</li></ol>\n"
      ],
      "text/latex": [
       "\\begin{enumerate*}\n",
       "\\item 10036\n",
       "\\item 5\n",
       "\\end{enumerate*}\n"
      ],
      "text/markdown": [
       "1. 10036\n",
       "2. 5\n",
       "\n",
       "\n"
      ],
      "text/plain": [
       "[1] 10036     5"
      ]
     },
     "metadata": {},
     "output_type": "display_data"
    }
   ],
   "source": [
    "tempdf <- read_tsv(\"/data/gersbachlab/lrb53/encodeCrisprWG/lowspecguides/guidequant/Plasmid_Bassik_guide_quantifications.bed\", \n",
    "                    show_col_types = FALSE, \n",
    "                    col_names = FALSE) %>%\n",
    "  mutate(grna_id = X7, type = X16, plasmid = X5, seq1 = X14, seq2 = X15) %>%\n",
    "  select(grna_id, type, plasmid, seq1, seq2)\n",
    "\n",
    "head(tempdf,n=1)\n",
    "dim(tempdf)"
   ]
  },
  {
   "cell_type": "code",
   "execution_count": 14,
   "metadata": {
    "scrolled": true
   },
   "outputs": [
    {
     "data": {
      "text/html": [
       "<table class=\"dataframe\">\n",
       "<caption>A tibble: 1 × 7</caption>\n",
       "<thead>\n",
       "\t<tr><th scope=col>grna_id</th><th scope=col>type</th><th scope=col>plasmid</th><th scope=col>seq2</th><th scope=col>name</th><th scope=col>guidescanCuttingSpecificityScore</th><th scope=col>offtargetsSum</th></tr>\n",
       "\t<tr><th scope=col>&lt;chr&gt;</th><th scope=col>&lt;chr&gt;</th><th scope=col>&lt;dbl&gt;</th><th scope=col>&lt;chr&gt;</th><th scope=col>&lt;chr&gt;</th><th scope=col>&lt;dbl&gt;</th><th scope=col>&lt;dbl&gt;</th></tr>\n",
       "</thead>\n",
       "<tbody>\n",
       "\t<tr><td>chrX:48686632-48686635</td><td>tiling</td><td>288</td><td>GAGGGTTCAAGTAGGGTCTA</td><td>chrX:48545024-48545043:-</td><td>0.6921092</td><td>4</td></tr>\n",
       "</tbody>\n",
       "</table>\n"
      ],
      "text/latex": [
       "A tibble: 1 × 7\n",
       "\\begin{tabular}{lllllll}\n",
       " grna\\_id & type & plasmid & seq2 & name & guidescanCuttingSpecificityScore & offtargetsSum\\\\\n",
       " <chr> & <chr> & <dbl> & <chr> & <chr> & <dbl> & <dbl>\\\\\n",
       "\\hline\n",
       "\t chrX:48686632-48686635 & tiling & 288 & GAGGGTTCAAGTAGGGTCTA & chrX:48545024-48545043:- & 0.6921092 & 4\\\\\n",
       "\\end{tabular}\n"
      ],
      "text/markdown": [
       "\n",
       "A tibble: 1 × 7\n",
       "\n",
       "| grna_id &lt;chr&gt; | type &lt;chr&gt; | plasmid &lt;dbl&gt; | seq2 &lt;chr&gt; | name &lt;chr&gt; | guidescanCuttingSpecificityScore &lt;dbl&gt; | offtargetsSum &lt;dbl&gt; |\n",
       "|---|---|---|---|---|---|---|\n",
       "| chrX:48686632-48686635 | tiling | 288 | GAGGGTTCAAGTAGGGTCTA | chrX:48545024-48545043:- | 0.6921092 | 4 |\n",
       "\n"
      ],
      "text/plain": [
       "  grna_id                type   plasmid seq2                \n",
       "1 chrX:48686632-48686635 tiling 288     GAGGGTTCAAGTAGGGTCTA\n",
       "  name                     guidescanCuttingSpecificityScore offtargetsSum\n",
       "1 chrX:48545024-48545043:- 0.6921092                        4            "
      ]
     },
     "metadata": {},
     "output_type": "display_data"
    },
    {
     "data": {
      "text/html": [
       "<style>\n",
       ".list-inline {list-style: none; margin:0; padding: 0}\n",
       ".list-inline>li {display: inline-block}\n",
       ".list-inline>li:not(:last-child)::after {content: \"\\00b7\"; padding: 0 .5ex}\n",
       "</style>\n",
       "<ol class=list-inline><li>4929</li><li>7</li></ol>\n"
      ],
      "text/latex": [
       "\\begin{enumerate*}\n",
       "\\item 4929\n",
       "\\item 7\n",
       "\\end{enumerate*}\n"
      ],
      "text/markdown": [
       "1. 4929\n",
       "2. 7\n",
       "\n",
       "\n"
      ],
      "text/plain": [
       "[1] 4929    7"
      ]
     },
     "metadata": {},
     "output_type": "display_data"
    }
   ],
   "source": [
    "plasmid <-\n",
    "tempdf %>%\n",
    "select(grna_id, type, plasmid, seq2) %>%\n",
    "distinct() %>%\n",
    "left_join(grna %>%\n",
    "          rename(seq2 = guideSequence) %>%\n",
    "          select(seq2, name, guidescanCuttingSpecificityScore, offtargetsSum) %>%\n",
    "          distinct(),\n",
    "          by = \"seq2\") %>% \n",
    "filter(guidescanCuttingSpecificityScore >= 0.2) \n",
    "\n",
    "head(plasmid,n=1)\n",
    "dim(plasmid)"
   ]
  },
  {
   "cell_type": "markdown",
   "metadata": {},
   "source": [
    "**Filtering for score >= 0.2 removes 5,107 sgRNAs.**"
   ]
  },
  {
   "cell_type": "code",
   "execution_count": 15,
   "metadata": {},
   "outputs": [
    {
     "data": {
      "text/html": [
       "<style>\n",
       ".list-inline {list-style: none; margin:0; padding: 0}\n",
       ".list-inline>li {display: inline-block}\n",
       ".list-inline>li:not(:last-child)::after {content: \"\\00b7\"; padding: 0 .5ex}\n",
       "</style>\n",
       "<ol class=list-inline><li>9977</li><li>3</li></ol>\n"
      ],
      "text/latex": [
       "\\begin{enumerate*}\n",
       "\\item 9977\n",
       "\\item 3\n",
       "\\end{enumerate*}\n"
      ],
      "text/markdown": [
       "1. 9977\n",
       "2. 3\n",
       "\n",
       "\n"
      ],
      "text/plain": [
       "[1] 9977    3"
      ]
     },
     "metadata": {},
     "output_type": "display_data"
    }
   ],
   "source": [
    "t7i <- read_tsv(\"/data/gersbachlab/lrb53/encodeCrisprWG/lowspecguides/guidequant/T7_I_Bassik_guide_quantifications.bed\", \n",
    "                    show_col_types = FALSE, \n",
    "                    col_names = FALSE) %>%\n",
    "  mutate(grna_id = X7, type = X16, t7i = X5) %>%\n",
    "  select(grna_id, type, t7i) \n",
    "\n",
    "dim(t7i)"
   ]
  },
  {
   "cell_type": "code",
   "execution_count": 16,
   "metadata": {},
   "outputs": [
    {
     "data": {
      "text/html": [
       "<style>\n",
       ".list-inline {list-style: none; margin:0; padding: 0}\n",
       ".list-inline>li {display: inline-block}\n",
       ".list-inline>li:not(:last-child)::after {content: \"\\00b7\"; padding: 0 .5ex}\n",
       "</style>\n",
       "<ol class=list-inline><li>9977</li><li>3</li></ol>\n"
      ],
      "text/latex": [
       "\\begin{enumerate*}\n",
       "\\item 9977\n",
       "\\item 3\n",
       "\\end{enumerate*}\n"
      ],
      "text/markdown": [
       "1. 9977\n",
       "2. 3\n",
       "\n",
       "\n"
      ],
      "text/plain": [
       "[1] 9977    3"
      ]
     },
     "metadata": {},
     "output_type": "display_data"
    }
   ],
   "source": [
    "t21i.rep1 <- read_tsv(\"/data/gersbachlab/lrb53/encodeCrisprWG/lowspecguides/guidequant/T21_I_R1_Bassik_guide_quantifications.bed\", \n",
    "                    show_col_types = FALSE, \n",
    "                    col_names = FALSE) %>%\n",
    "  mutate(grna_id = X7, type = X16, t21i.rep1 = X5) %>%\n",
    "  select(grna_id, type, t21i.rep1) \n",
    "\n",
    "dim(t21i.rep1)"
   ]
  },
  {
   "cell_type": "code",
   "execution_count": 17,
   "metadata": {},
   "outputs": [
    {
     "data": {
      "text/html": [
       "<style>\n",
       ".list-inline {list-style: none; margin:0; padding: 0}\n",
       ".list-inline>li {display: inline-block}\n",
       ".list-inline>li:not(:last-child)::after {content: \"\\00b7\"; padding: 0 .5ex}\n",
       "</style>\n",
       "<ol class=list-inline><li>9977</li><li>3</li></ol>\n"
      ],
      "text/latex": [
       "\\begin{enumerate*}\n",
       "\\item 9977\n",
       "\\item 3\n",
       "\\end{enumerate*}\n"
      ],
      "text/markdown": [
       "1. 9977\n",
       "2. 3\n",
       "\n",
       "\n"
      ],
      "text/plain": [
       "[1] 9977    3"
      ]
     },
     "metadata": {},
     "output_type": "display_data"
    }
   ],
   "source": [
    "t21i.rep2 <- read_tsv(\"/data/gersbachlab/lrb53/encodeCrisprWG/lowspecguides/guidequant/T21_I_R2_Bassik_guide_quantifications.bed\", \n",
    "                    show_col_types = FALSE, \n",
    "                    col_names = FALSE) %>%\n",
    "  mutate(grna_id = X7, type = X16, t21i.rep2 = X5) %>%\n",
    "  select(grna_id, type, t21i.rep2) \n",
    "\n",
    "dim(t21i.rep2)"
   ]
  },
  {
   "cell_type": "markdown",
   "metadata": {},
   "source": [
    "#### Combine replicates into one df, then filter out low-specificity sgRNAs (guidescan < 0.2 and 'NA')"
   ]
  },
  {
   "cell_type": "code",
   "execution_count": 18,
   "metadata": {},
   "outputs": [
    {
     "data": {
      "text/html": [
       "<style>\n",
       ".list-inline {list-style: none; margin:0; padding: 0}\n",
       ".list-inline>li {display: inline-block}\n",
       ".list-inline>li:not(:last-child)::after {content: \"\\00b7\"; padding: 0 .5ex}\n",
       "</style>\n",
       "<ol class=list-inline><li>4908</li><li>6</li></ol>\n"
      ],
      "text/latex": [
       "\\begin{enumerate*}\n",
       "\\item 4908\n",
       "\\item 6\n",
       "\\end{enumerate*}\n"
      ],
      "text/markdown": [
       "1. 4908\n",
       "2. 6\n",
       "\n",
       "\n"
      ],
      "text/plain": [
       "[1] 4908    6"
      ]
     },
     "metadata": {},
     "output_type": "display_data"
    }
   ],
   "source": [
    "df.i <- plasmid %>%\n",
    "  filter(grepl(\"NT\", grna_id) | grepl(\"chr\", grna_id)) %>% ### does not remove any sgRNAs since already removed low spec and NA guides\n",
    "  filter(!grepl(\"chrX:11\",grna_id)) %>%\n",
    "  select(grna_id, type, plasmid) %>%\n",
    "  filter(grna_id %in% t21i.rep1$grna_id) %>% # removes an additional 20 sgRNAs\n",
    "  left_join(t7i %>% select(-type), by = \"grna_id\") %>%\n",
    "  left_join(t21i.rep1 %>% select(-type), by = \"grna_id\") %>%\n",
    "  left_join(t21i.rep2 %>% select(-type), by = \"grna_id\")\n",
    "\n",
    "dim(df.i) "
   ]
  },
  {
   "cell_type": "code",
   "execution_count": 19,
   "metadata": {},
   "outputs": [
    {
     "data": {
      "text/html": [
       "<table class=\"dataframe\">\n",
       "<caption>A tibble: 6 × 6</caption>\n",
       "<thead>\n",
       "\t<tr><th scope=col>grna_id</th><th scope=col>type</th><th scope=col>plasmid</th><th scope=col>t7i</th><th scope=col>t21i.rep1</th><th scope=col>t21i.rep2</th></tr>\n",
       "\t<tr><th scope=col>&lt;chr&gt;</th><th scope=col>&lt;chr&gt;</th><th scope=col>&lt;dbl&gt;</th><th scope=col>&lt;dbl&gt;</th><th scope=col>&lt;dbl&gt;</th><th scope=col>&lt;dbl&gt;</th></tr>\n",
       "</thead>\n",
       "<tbody>\n",
       "\t<tr><td>chrX:48686632-48686635</td><td>tiling</td><td>288</td><td>246</td><td>184</td><td>210</td></tr>\n",
       "\t<tr><td>chrX:48686640-48686643</td><td>tiling</td><td>265</td><td>272</td><td>217</td><td>211</td></tr>\n",
       "\t<tr><td>chrX:48686658-48686661</td><td>tiling</td><td>211</td><td>237</td><td>170</td><td>221</td></tr>\n",
       "\t<tr><td>chrX:48686696-48686699</td><td>tiling</td><td>182</td><td>236</td><td>141</td><td>129</td></tr>\n",
       "\t<tr><td>chrX:48686729-48686732</td><td>tiling</td><td>318</td><td>380</td><td>267</td><td>292</td></tr>\n",
       "\t<tr><td>chrX:48686756-48686759</td><td>tiling</td><td>238</td><td>284</td><td>169</td><td>195</td></tr>\n",
       "</tbody>\n",
       "</table>\n"
      ],
      "text/latex": [
       "A tibble: 6 × 6\n",
       "\\begin{tabular}{llllll}\n",
       " grna\\_id & type & plasmid & t7i & t21i.rep1 & t21i.rep2\\\\\n",
       " <chr> & <chr> & <dbl> & <dbl> & <dbl> & <dbl>\\\\\n",
       "\\hline\n",
       "\t chrX:48686632-48686635 & tiling & 288 & 246 & 184 & 210\\\\\n",
       "\t chrX:48686640-48686643 & tiling & 265 & 272 & 217 & 211\\\\\n",
       "\t chrX:48686658-48686661 & tiling & 211 & 237 & 170 & 221\\\\\n",
       "\t chrX:48686696-48686699 & tiling & 182 & 236 & 141 & 129\\\\\n",
       "\t chrX:48686729-48686732 & tiling & 318 & 380 & 267 & 292\\\\\n",
       "\t chrX:48686756-48686759 & tiling & 238 & 284 & 169 & 195\\\\\n",
       "\\end{tabular}\n"
      ],
      "text/markdown": [
       "\n",
       "A tibble: 6 × 6\n",
       "\n",
       "| grna_id &lt;chr&gt; | type &lt;chr&gt; | plasmid &lt;dbl&gt; | t7i &lt;dbl&gt; | t21i.rep1 &lt;dbl&gt; | t21i.rep2 &lt;dbl&gt; |\n",
       "|---|---|---|---|---|---|\n",
       "| chrX:48686632-48686635 | tiling | 288 | 246 | 184 | 210 |\n",
       "| chrX:48686640-48686643 | tiling | 265 | 272 | 217 | 211 |\n",
       "| chrX:48686658-48686661 | tiling | 211 | 237 | 170 | 221 |\n",
       "| chrX:48686696-48686699 | tiling | 182 | 236 | 141 | 129 |\n",
       "| chrX:48686729-48686732 | tiling | 318 | 380 | 267 | 292 |\n",
       "| chrX:48686756-48686759 | tiling | 238 | 284 | 169 | 195 |\n",
       "\n"
      ],
      "text/plain": [
       "  grna_id                type   plasmid t7i t21i.rep1 t21i.rep2\n",
       "1 chrX:48686632-48686635 tiling 288     246 184       210      \n",
       "2 chrX:48686640-48686643 tiling 265     272 217       211      \n",
       "3 chrX:48686658-48686661 tiling 211     237 170       221      \n",
       "4 chrX:48686696-48686699 tiling 182     236 141       129      \n",
       "5 chrX:48686729-48686732 tiling 318     380 267       292      \n",
       "6 chrX:48686756-48686759 tiling 238     284 169       195      "
      ]
     },
     "metadata": {},
     "output_type": "display_data"
    }
   ],
   "source": [
    "head(df.i)"
   ]
  },
  {
   "cell_type": "code",
   "execution_count": 20,
   "metadata": {},
   "outputs": [],
   "source": [
    "# plasmid %>%\n",
    "# filter(grepl(\"NT\", grna_id) | grepl(\"chr\", grna_id)) %>% ### does not remove any sgRNAs since already removed low spec and NA guides\n",
    "# rename(guideSequence = seq2) %>%\n",
    "# filter(!grepl(\"chrX:11\",grna_id)) %>% ### this guide maps to the GATA1 locus and another location on chrX\n",
    "# filter(grna_id %in% t21i.rep1$grna_id) %>% # removes an additional 20 sgRNAs\n",
    "# left_join(t7i %>% select(-type), by = \"grna_id\") %>%\n",
    "# left_join(t21i.rep1 %>% select(-type), by = \"grna_id\") %>%\n",
    "# left_join(t21i.rep2 %>% select(-type), by = \"grna_id\") %>%\n",
    "# select(grna_id, name, guideSequence, guidescanCuttingSpecificityScore, type, plasmid, t7i, contains(\"t21\")) %>%\n",
    "# write.table(\"/data/gersbachlab/lrb53/encodeCrisprWG/lowspecguides/guidequant/bassik_crispri_gata1growth.removelowspec.final.txt\",\n",
    "#             col.names=T, row.names=F, quote=F, sep=\"\\t\")"
   ]
  },
  {
   "cell_type": "markdown",
   "metadata": {},
   "source": [
    "#### Check for duplicates (sgRNAs with >1 value for count in at least one replicate)"
   ]
  },
  {
   "cell_type": "code",
   "execution_count": 21,
   "metadata": {},
   "outputs": [
    {
     "data": {
      "text/html": [
       "<table class=\"dataframe\">\n",
       "<caption>A tibble: 0 × 6</caption>\n",
       "<thead>\n",
       "\t<tr><th scope=col>grna_id</th><th scope=col>type</th><th scope=col>plasmid</th><th scope=col>t7i</th><th scope=col>t21i.rep1</th><th scope=col>t21i.rep2</th></tr>\n",
       "\t<tr><th scope=col>&lt;chr&gt;</th><th scope=col>&lt;chr&gt;</th><th scope=col>&lt;dbl&gt;</th><th scope=col>&lt;dbl&gt;</th><th scope=col>&lt;dbl&gt;</th><th scope=col>&lt;dbl&gt;</th></tr>\n",
       "</thead>\n",
       "<tbody>\n",
       "</tbody>\n",
       "</table>\n"
      ],
      "text/latex": [
       "A tibble: 0 × 6\n",
       "\\begin{tabular}{llllll}\n",
       " grna\\_id & type & plasmid & t7i & t21i.rep1 & t21i.rep2\\\\\n",
       " <chr> & <chr> & <dbl> & <dbl> & <dbl> & <dbl>\\\\\n",
       "\\hline\n",
       "\\end{tabular}\n"
      ],
      "text/markdown": [
       "\n",
       "A tibble: 0 × 6\n",
       "\n",
       "| grna_id &lt;chr&gt; | type &lt;chr&gt; | plasmid &lt;dbl&gt; | t7i &lt;dbl&gt; | t21i.rep1 &lt;dbl&gt; | t21i.rep2 &lt;dbl&gt; |\n",
       "|---|---|---|---|---|---|\n",
       "\n"
      ],
      "text/plain": [
       "     grna_id type plasmid t7i t21i.rep1 t21i.rep2"
      ]
     },
     "metadata": {},
     "output_type": "display_data"
    }
   ],
   "source": [
    "df.i[duplicated(df.i$grna_id),]"
   ]
  },
  {
   "cell_type": "markdown",
   "metadata": {},
   "source": [
    "#### Generate metadata"
   ]
  },
  {
   "cell_type": "code",
   "execution_count": 22,
   "metadata": {},
   "outputs": [
    {
     "data": {
      "text/html": [
       "<table class=\"dataframe\">\n",
       "<caption>A data.frame: 4 × 2</caption>\n",
       "<thead>\n",
       "\t<tr><th scope=col>sample</th><th scope=col>group</th></tr>\n",
       "\t<tr><th scope=col>&lt;chr&gt;</th><th scope=col>&lt;chr&gt;</th></tr>\n",
       "</thead>\n",
       "<tbody>\n",
       "\t<tr><td>plasmid  </td><td>plasmid</td></tr>\n",
       "\t<tr><td>t7i      </td><td>day7   </td></tr>\n",
       "\t<tr><td>t21i.rep1</td><td>day21  </td></tr>\n",
       "\t<tr><td>t21i.rep2</td><td>day21  </td></tr>\n",
       "</tbody>\n",
       "</table>\n"
      ],
      "text/latex": [
       "A data.frame: 4 × 2\n",
       "\\begin{tabular}{ll}\n",
       " sample & group\\\\\n",
       " <chr> & <chr>\\\\\n",
       "\\hline\n",
       "\t plasmid   & plasmid\\\\\n",
       "\t t7i       & day7   \\\\\n",
       "\t t21i.rep1 & day21  \\\\\n",
       "\t t21i.rep2 & day21  \\\\\n",
       "\\end{tabular}\n"
      ],
      "text/markdown": [
       "\n",
       "A data.frame: 4 × 2\n",
       "\n",
       "| sample &lt;chr&gt; | group &lt;chr&gt; |\n",
       "|---|---|\n",
       "| plasmid   | plasmid |\n",
       "| t7i       | day7    |\n",
       "| t21i.rep1 | day21   |\n",
       "| t21i.rep2 | day21   |\n",
       "\n"
      ],
      "text/plain": [
       "  sample    group  \n",
       "1 plasmid   plasmid\n",
       "2 t7i       day7   \n",
       "3 t21i.rep1 day21  \n",
       "4 t21i.rep2 day21  "
      ]
     },
     "metadata": {},
     "output_type": "display_data"
    }
   ],
   "source": [
    "samples.i <- colnames(df.i %>% select(-grna_id, -type))\n",
    "meta.i <- data.frame(sample = samples.i, group = c(\"plasmid\",\"day7\",\"day21\",\"day21\"))\n",
    "\n",
    "meta.i"
   ]
  },
  {
   "cell_type": "markdown",
   "metadata": {},
   "source": [
    "#### Prepare counts and metadata for summarized experiment"
   ]
  },
  {
   "cell_type": "code",
   "execution_count": 23,
   "metadata": {},
   "outputs": [],
   "source": [
    "df.i.clean <- as.matrix(df.i %>% select(-type, -grna_id))\n",
    "row.names(df.i.clean) <- df.i$grna_id\n",
    "coldata.i <- meta.i[,c(\"sample\",\"group\")]"
   ]
  },
  {
   "cell_type": "markdown",
   "metadata": {},
   "source": [
    "### DESeq2"
   ]
  },
  {
   "cell_type": "code",
   "execution_count": 24,
   "metadata": {},
   "outputs": [],
   "source": [
    "suppressPackageStartupMessages(library(DESeq2))"
   ]
  },
  {
   "cell_type": "markdown",
   "metadata": {},
   "source": [
    "#### Make DESeq2 summarized experiment"
   ]
  },
  {
   "cell_type": "code",
   "execution_count": 25,
   "metadata": {},
   "outputs": [
    {
     "name": "stderr",
     "output_type": "stream",
     "text": [
      "converting counts to integer mode\n",
      "\n",
      "Warning message in DESeqDataSet(se, design = design, ignoreRank):\n",
      "“some variables in design formula are characters, converting to factors”\n"
     ]
    }
   ],
   "source": [
    "se.i <- DESeqDataSetFromMatrix(\n",
    "  countData = df.i.clean,\n",
    "  colData = coldata.i,\n",
    "  design = ~ group\n",
    ")"
   ]
  },
  {
   "cell_type": "markdown",
   "metadata": {},
   "source": [
    "#### Run DESeq2"
   ]
  },
  {
   "cell_type": "code",
   "execution_count": 26,
   "metadata": {},
   "outputs": [
    {
     "name": "stderr",
     "output_type": "stream",
     "text": [
      "estimating size factors\n",
      "\n",
      "estimating dispersions\n",
      "\n",
      "gene-wise dispersion estimates\n",
      "\n",
      "mean-dispersion relationship\n",
      "\n",
      "-- note: fitType='parametric', but the dispersion trend was not well captured by the\n",
      "   function: y = a/x + b, and a local regression fit was automatically substituted.\n",
      "   specify fitType='local' or 'mean' to avoid this message next time.\n",
      "\n",
      "final dispersion estimates\n",
      "\n",
      "fitting model and testing\n",
      "\n"
     ]
    }
   ],
   "source": [
    "dds.i <- DESeq(se.i)"
   ]
  },
  {
   "cell_type": "markdown",
   "metadata": {},
   "source": [
    "#### Generate results object"
   ]
  },
  {
   "cell_type": "code",
   "execution_count": 27,
   "metadata": {},
   "outputs": [],
   "source": [
    "res.i.plasmidvsd7 <- results(dds.i, contrast = c(\"group\",\"day7\",\"plasmid\"))\n",
    "res.i.plasmidvsd21 <- results(dds.i, contrast = c(\"group\",\"day21\",\"plasmid\")) \n",
    "res.i.d7vsd21 <- results(dds.i, contrast = c(\"group\",\"day21\",\"day7\")) "
   ]
  },
  {
   "cell_type": "markdown",
   "metadata": {},
   "source": [
    "#### DESeq2 results"
   ]
  },
  {
   "cell_type": "code",
   "execution_count": 28,
   "metadata": {},
   "outputs": [
    {
     "name": "stdout",
     "output_type": "stream",
     "text": [
      "\n",
      "out of 4908 with nonzero total read count\n",
      "adjusted p-value < 0.1\n",
      "LFC > 0 (up)       : 0, 0%\n",
      "LFC < 0 (down)     : 12, 0.24%\n",
      "outliers [1]       : 0, 0%\n",
      "low counts [2]     : 0, 0%\n",
      "(mean count < 6)\n",
      "[1] see 'cooksCutoff' argument of ?results\n",
      "[2] see 'independentFiltering' argument of ?results\n",
      "\n"
     ]
    }
   ],
   "source": [
    "summary(res.i.plasmidvsd7)"
   ]
  },
  {
   "cell_type": "code",
   "execution_count": 29,
   "metadata": {},
   "outputs": [
    {
     "name": "stdout",
     "output_type": "stream",
     "text": [
      "\n",
      "out of 4908 with nonzero total read count\n",
      "adjusted p-value < 0.1\n",
      "LFC > 0 (up)       : 1, 0.02%\n",
      "LFC < 0 (down)     : 192, 3.9%\n",
      "outliers [1]       : 0, 0%\n",
      "low counts [2]     : 0, 0%\n",
      "(mean count < 6)\n",
      "[1] see 'cooksCutoff' argument of ?results\n",
      "[2] see 'independentFiltering' argument of ?results\n",
      "\n"
     ]
    }
   ],
   "source": [
    "summary(res.i.plasmidvsd21)"
   ]
  },
  {
   "cell_type": "code",
   "execution_count": 30,
   "metadata": {},
   "outputs": [
    {
     "name": "stdout",
     "output_type": "stream",
     "text": [
      "\n",
      "out of 4908 with nonzero total read count\n",
      "adjusted p-value < 0.1\n",
      "LFC > 0 (up)       : 1, 0.02%\n",
      "LFC < 0 (down)     : 122, 2.5%\n",
      "outliers [1]       : 0, 0%\n",
      "low counts [2]     : 0, 0%\n",
      "(mean count < 6)\n",
      "[1] see 'cooksCutoff' argument of ?results\n",
      "[2] see 'independentFiltering' argument of ?results\n",
      "\n"
     ]
    }
   ],
   "source": [
    "summary(res.i.d7vsd21)"
   ]
  },
  {
   "cell_type": "markdown",
   "metadata": {},
   "source": [
    "#### Add grna_id as column"
   ]
  },
  {
   "cell_type": "code",
   "execution_count": 31,
   "metadata": {},
   "outputs": [],
   "source": [
    "# krab.plasmid.d7 <- as.data.frame(res.i.plasmidvsd7, row.names = NULL)\n",
    "# krab.plasmid.d7$grna_id <- rownames(res.i.plasmidvsd7)\n",
    "# krab.plasmid.d7 <- krab.plasmid.d7 %>% left_join(plasmid %>% select(grna_id, type) %>% distinct(), by = \"grna_id\")\n",
    "\n",
    "krab.plasmid.d21 <- as.data.frame(res.i.plasmidvsd21, row.names = NULL)\n",
    "krab.plasmid.d21$grna_id <- rownames(res.i.plasmidvsd21)\n",
    "krab.plasmid.d21 <- krab.plasmid.d21 %>% left_join(plasmid %>% select(grna_id, type) %>% distinct(), by = \"grna_id\")\n",
    "\n",
    "# krab.d7d21 <- as.data.frame(res.i.d7vsd21, row.names = NULL)\n",
    "# krab.d7d21$grna_id <- rownames(res.i.d7vsd21)\n",
    "# krab.d7d21 <- krab.d7d21 %>% left_join(plasmid %>% select(grna_id, type) %>% distinct(), by = \"grna_id\")"
   ]
  },
  {
   "cell_type": "markdown",
   "metadata": {},
   "source": [
    "#### Write .tsv files\n",
    "\n",
    "Combine contrast results into one df for each type of screen"
   ]
  },
  {
   "cell_type": "code",
   "execution_count": 32,
   "metadata": {},
   "outputs": [],
   "source": [
    "# krab.res <- \n",
    "#   krab.plasmid.d7 %>%\n",
    "#   dplyr::rename_with(~ paste(\"d7.vs.plasmid\", .x, sep = \".\"), baseMean:padj) %>%\n",
    "#   left_join(\n",
    "#     krab.plasmid.d21 %>%\n",
    "#       rename_with(~ paste(\"d21.vs.plasmid\", .x, sep = \".\"), baseMean:padj),\n",
    "#     by = c(\"grna_id\",\"type\"))  %>%\n",
    "#   left_join(\n",
    "#     krab.d7d21 %>%\n",
    "#       rename_with(~ paste(\"d21.vs.d7\", .x, sep = \".\"), baseMean:padj),\n",
    "#     by = c(\"grna_id\",\"type\"))  %>%\n",
    "#   dplyr::select(grna_id, type, d7.vs.plasmid.baseMean:d7.vs.plasmid.padj, d7.vs.plasmid.baseMean:d21.vs.d7.padj)"
   ]
  },
  {
   "cell_type": "code",
   "execution_count": 33,
   "metadata": {},
   "outputs": [
    {
     "data": {
      "text/html": [
       "<table class=\"dataframe\">\n",
       "<caption>A data.frame: 1 × 8</caption>\n",
       "<thead>\n",
       "\t<tr><th></th><th scope=col>grna_id</th><th scope=col>type</th><th scope=col>d21.vs.plasmid.baseMean</th><th scope=col>d21.vs.plasmid.log2FoldChange</th><th scope=col>d21.vs.plasmid.lfcSE</th><th scope=col>d21.vs.plasmid.stat</th><th scope=col>d21.vs.plasmid.pvalue</th><th scope=col>d21.vs.plasmid.padj</th></tr>\n",
       "\t<tr><th></th><th scope=col>&lt;chr&gt;</th><th scope=col>&lt;chr&gt;</th><th scope=col>&lt;dbl&gt;</th><th scope=col>&lt;dbl&gt;</th><th scope=col>&lt;dbl&gt;</th><th scope=col>&lt;dbl&gt;</th><th scope=col>&lt;dbl&gt;</th><th scope=col>&lt;dbl&gt;</th></tr>\n",
       "</thead>\n",
       "<tbody>\n",
       "\t<tr><th scope=row>1</th><td>chrX:48686632-48686635</td><td>tiling</td><td>230.629</td><td>-0.438347</td><td>0.3389427</td><td>-1.293278</td><td>0.195915</td><td>0.9999433</td></tr>\n",
       "</tbody>\n",
       "</table>\n"
      ],
      "text/latex": [
       "A data.frame: 1 × 8\n",
       "\\begin{tabular}{r|llllllll}\n",
       "  & grna\\_id & type & d21.vs.plasmid.baseMean & d21.vs.plasmid.log2FoldChange & d21.vs.plasmid.lfcSE & d21.vs.plasmid.stat & d21.vs.plasmid.pvalue & d21.vs.plasmid.padj\\\\\n",
       "  & <chr> & <chr> & <dbl> & <dbl> & <dbl> & <dbl> & <dbl> & <dbl>\\\\\n",
       "\\hline\n",
       "\t1 & chrX:48686632-48686635 & tiling & 230.629 & -0.438347 & 0.3389427 & -1.293278 & 0.195915 & 0.9999433\\\\\n",
       "\\end{tabular}\n"
      ],
      "text/markdown": [
       "\n",
       "A data.frame: 1 × 8\n",
       "\n",
       "| <!--/--> | grna_id &lt;chr&gt; | type &lt;chr&gt; | d21.vs.plasmid.baseMean &lt;dbl&gt; | d21.vs.plasmid.log2FoldChange &lt;dbl&gt; | d21.vs.plasmid.lfcSE &lt;dbl&gt; | d21.vs.plasmid.stat &lt;dbl&gt; | d21.vs.plasmid.pvalue &lt;dbl&gt; | d21.vs.plasmid.padj &lt;dbl&gt; |\n",
       "|---|---|---|---|---|---|---|---|---|\n",
       "| 1 | chrX:48686632-48686635 | tiling | 230.629 | -0.438347 | 0.3389427 | -1.293278 | 0.195915 | 0.9999433 |\n",
       "\n"
      ],
      "text/plain": [
       "  grna_id                type   d21.vs.plasmid.baseMean\n",
       "1 chrX:48686632-48686635 tiling 230.629                \n",
       "  d21.vs.plasmid.log2FoldChange d21.vs.plasmid.lfcSE d21.vs.plasmid.stat\n",
       "1 -0.438347                     0.3389427            -1.293278          \n",
       "  d21.vs.plasmid.pvalue d21.vs.plasmid.padj\n",
       "1 0.195915              0.9999433          "
      ]
     },
     "metadata": {},
     "output_type": "display_data"
    },
    {
     "data": {
      "text/html": [
       "<style>\n",
       ".list-inline {list-style: none; margin:0; padding: 0}\n",
       ".list-inline>li {display: inline-block}\n",
       ".list-inline>li:not(:last-child)::after {content: \"\\00b7\"; padding: 0 .5ex}\n",
       "</style>\n",
       "<ol class=list-inline><li>4908</li><li>8</li></ol>\n"
      ],
      "text/latex": [
       "\\begin{enumerate*}\n",
       "\\item 4908\n",
       "\\item 8\n",
       "\\end{enumerate*}\n"
      ],
      "text/markdown": [
       "1. 4908\n",
       "2. 8\n",
       "\n",
       "\n"
      ],
      "text/plain": [
       "[1] 4908    8"
      ]
     },
     "metadata": {},
     "output_type": "display_data"
    }
   ],
   "source": [
    "krab.res <- \n",
    "krab.plasmid.d21 %>%\n",
    "rename_with(~ paste(\"d21.vs.plasmid\", .x, sep = \".\"), baseMean:padj) %>%\n",
    "select(grna_id, type, starts_with(\"d21\"))\n",
    "\n",
    "head(krab.res,n=1)\n",
    "dim(krab.res)"
   ]
  },
  {
   "cell_type": "code",
   "execution_count": 34,
   "metadata": {},
   "outputs": [],
   "source": [
    "write_tsv(krab.res, \"/data/gersbachlab/lrb53/encodeCrisprWG/lowspecguides/removelowspec.tyckoGATA1krabinterference.deseq2.results.tsv\", \n",
    "          col_names = TRUE)"
   ]
  },
  {
   "cell_type": "markdown",
   "metadata": {},
   "source": [
    "### Visualization and QC"
   ]
  },
  {
   "cell_type": "code",
   "execution_count": 35,
   "metadata": {},
   "outputs": [],
   "source": [
    "suppressPackageStartupMessages(library(vsn))\n",
    "suppressPackageStartupMessages(library(RColorBrewer))\n",
    "suppressPackageStartupMessages(library(pheatmap))"
   ]
  },
  {
   "cell_type": "markdown",
   "metadata": {},
   "source": [
    "#### Extract transformed values"
   ]
  },
  {
   "cell_type": "code",
   "execution_count": 36,
   "metadata": {},
   "outputs": [
    {
     "name": "stderr",
     "output_type": "stream",
     "text": [
      "-- note: fitType='parametric', but the dispersion trend was not well captured by the\n",
      "   function: y = a/x + b, and a local regression fit was automatically substituted.\n",
      "   specify fitType='local' or 'mean' to avoid this message next time.\n",
      "\n"
     ]
    }
   ],
   "source": [
    "vsd <- vst(dds.i, blind = FALSE)"
   ]
  },
  {
   "cell_type": "code",
   "execution_count": 37,
   "metadata": {},
   "outputs": [],
   "source": [
    "rld <- rlog(dds.i, blind = FALSE)"
   ]
  },
  {
   "cell_type": "markdown",
   "metadata": {},
   "source": [
    "#### Log-transform, scale-shift"
   ]
  },
  {
   "cell_type": "code",
   "execution_count": 38,
   "metadata": {},
   "outputs": [],
   "source": [
    "ntd <- normTransform(dds.i) # this gives log2(n+1)"
   ]
  },
  {
   "cell_type": "markdown",
   "metadata": {},
   "source": [
    "#### Variance plots with different types of transformations/scaling"
   ]
  },
  {
   "cell_type": "code",
   "execution_count": 39,
   "metadata": {},
   "outputs": [
    {
     "data": {
      "image/png": "[encoded data removed]",
      "text/plain": [
       "plot without title"
      ]
     },
     "metadata": {
      "image/png": {
       "height": 420,
       "width": 420
      }
     },
     "output_type": "display_data"
    }
   ],
   "source": [
    "meanSdPlot(assay(ntd))"
   ]
  },
  {
   "cell_type": "code",
   "execution_count": 40,
   "metadata": {},
   "outputs": [
    {
     "data": {
      "image/png": "[encoded data removed]",
      "text/plain": [
       "plot without title"
      ]
     },
     "metadata": {
      "image/png": {
       "height": 420,
       "width": 420
      }
     },
     "output_type": "display_data"
    }
   ],
   "source": [
    "meanSdPlot(assay(vsd))"
   ]
  },
  {
   "cell_type": "code",
   "execution_count": 41,
   "metadata": {},
   "outputs": [
    {
     "data": {
      "image/png": "[encoded data removed]",
      "text/plain": [
       "plot without title"
      ]
     },
     "metadata": {
      "image/png": {
       "height": 420,
       "width": 420
      }
     },
     "output_type": "display_data"
    }
   ],
   "source": [
    "meanSdPlot(assay(rld))"
   ]
  },
  {
   "cell_type": "markdown",
   "metadata": {},
   "source": [
    "#### PCA"
   ]
  },
  {
   "cell_type": "code",
   "execution_count": 42,
   "metadata": {},
   "outputs": [
    {
     "data": {
      "image/png": "[encoded data removed]",
      "text/plain": [
       "plot without title"
      ]
     },
     "metadata": {
      "image/png": {
       "height": 420,
       "width": 420
      }
     },
     "output_type": "display_data"
    }
   ],
   "source": [
    "plotPCA(vsd, intgroup=c(\"sample\", \"group\"))"
   ]
  },
  {
   "cell_type": "markdown",
   "metadata": {},
   "source": [
    "#### Heatmap of sample-sample distance"
   ]
  },
  {
   "cell_type": "code",
   "execution_count": 43,
   "metadata": {},
   "outputs": [],
   "source": [
    "sampleDists <- dist(t(assay(vsd)))"
   ]
  },
  {
   "cell_type": "code",
   "execution_count": 44,
   "metadata": {},
   "outputs": [
    {
     "data": {
      "image/png": "[encoded data removed]",
      "text/plain": [
       "plot without title"
      ]
     },
     "metadata": {
      "image/png": {
       "height": 420,
       "width": 420
      }
     },
     "output_type": "display_data"
    }
   ],
   "source": [
    "sampleDistMatrix <- as.matrix(sampleDists)\n",
    "rownames(sampleDistMatrix) <- paste(vsd$sample, vsd$type, sep=\"-\")\n",
    "colnames(sampleDistMatrix) <- paste(vsd$sample, vsd$type, sep=\"-\") # change to 'NULL' to get rid of bottom labels\n",
    "colors <- colorRampPalette(rev(brewer.pal(9, \"Blues\")))(255)\n",
    "pheatmap(sampleDistMatrix,\n",
    "         clustering_distance_rows=sampleDists,\n",
    "         clustering_distance_cols=sampleDists,\n",
    "         col=colors,\n",
    "         main = \"Tycko GATA1 CRISPR interference screen\")"
   ]
  },
  {
   "cell_type": "code",
   "execution_count": null,
   "metadata": {},
   "outputs": [],
   "source": []
  },
  {
   "cell_type": "markdown",
   "metadata": {},
   "source": [
    "### Aggregate sgRNA-level effects to call \"peaks\""
   ]
  },
  {
   "cell_type": "markdown",
   "metadata": {},
   "source": [
    "#### Define fisher's method to aggregate p values\n",
    " - https://mikelove.wordpress.com/2012/03/12/combining-p-values-fishers-method-sum-of-p-values-binomial/\n",
    " - https://www.biostars.org/p/211307/"
   ]
  },
  {
   "cell_type": "code",
   "execution_count": 5,
   "metadata": {},
   "outputs": [],
   "source": [
    "fishersMethod = function(x) pchisq(-2 * sum(log(x)),df=2*length(x),lower=FALSE)"
   ]
  },
  {
   "cell_type": "markdown",
   "metadata": {},
   "source": [
    "#### Re-load results (if needed)"
   ]
  },
  {
   "cell_type": "code",
   "execution_count": 3,
   "metadata": {},
   "outputs": [
    {
     "data": {
      "text/html": [
       "<table class=\"dataframe\">\n",
       "<caption>A tibble: 1 × 8</caption>\n",
       "<thead>\n",
       "\t<tr><th scope=col>grna_id</th><th scope=col>type</th><th scope=col>d21.vs.plasmid.baseMean</th><th scope=col>d21.vs.plasmid.log2FoldChange</th><th scope=col>d21.vs.plasmid.lfcSE</th><th scope=col>d21.vs.plasmid.stat</th><th scope=col>d21.vs.plasmid.pvalue</th><th scope=col>d21.vs.plasmid.padj</th></tr>\n",
       "\t<tr><th scope=col>&lt;chr&gt;</th><th scope=col>&lt;chr&gt;</th><th scope=col>&lt;dbl&gt;</th><th scope=col>&lt;dbl&gt;</th><th scope=col>&lt;dbl&gt;</th><th scope=col>&lt;dbl&gt;</th><th scope=col>&lt;dbl&gt;</th><th scope=col>&lt;dbl&gt;</th></tr>\n",
       "</thead>\n",
       "<tbody>\n",
       "\t<tr><td>chrX:48686632-48686635</td><td>tiling</td><td>230.629</td><td>-0.438347</td><td>0.3389427</td><td>-1.293278</td><td>0.195915</td><td>0.9999433</td></tr>\n",
       "</tbody>\n",
       "</table>\n"
      ],
      "text/latex": [
       "A tibble: 1 × 8\n",
       "\\begin{tabular}{llllllll}\n",
       " grna\\_id & type & d21.vs.plasmid.baseMean & d21.vs.plasmid.log2FoldChange & d21.vs.plasmid.lfcSE & d21.vs.plasmid.stat & d21.vs.plasmid.pvalue & d21.vs.plasmid.padj\\\\\n",
       " <chr> & <chr> & <dbl> & <dbl> & <dbl> & <dbl> & <dbl> & <dbl>\\\\\n",
       "\\hline\n",
       "\t chrX:48686632-48686635 & tiling & 230.629 & -0.438347 & 0.3389427 & -1.293278 & 0.195915 & 0.9999433\\\\\n",
       "\\end{tabular}\n"
      ],
      "text/markdown": [
       "\n",
       "A tibble: 1 × 8\n",
       "\n",
       "| grna_id &lt;chr&gt; | type &lt;chr&gt; | d21.vs.plasmid.baseMean &lt;dbl&gt; | d21.vs.plasmid.log2FoldChange &lt;dbl&gt; | d21.vs.plasmid.lfcSE &lt;dbl&gt; | d21.vs.plasmid.stat &lt;dbl&gt; | d21.vs.plasmid.pvalue &lt;dbl&gt; | d21.vs.plasmid.padj &lt;dbl&gt; |\n",
       "|---|---|---|---|---|---|---|---|\n",
       "| chrX:48686632-48686635 | tiling | 230.629 | -0.438347 | 0.3389427 | -1.293278 | 0.195915 | 0.9999433 |\n",
       "\n"
      ],
      "text/plain": [
       "  grna_id                type   d21.vs.plasmid.baseMean\n",
       "1 chrX:48686632-48686635 tiling 230.629                \n",
       "  d21.vs.plasmid.log2FoldChange d21.vs.plasmid.lfcSE d21.vs.plasmid.stat\n",
       "1 -0.438347                     0.3389427            -1.293278          \n",
       "  d21.vs.plasmid.pvalue d21.vs.plasmid.padj\n",
       "1 0.195915              0.9999433          "
      ]
     },
     "metadata": {},
     "output_type": "display_data"
    },
    {
     "data": {
      "text/html": [
       "<style>\n",
       ".list-inline {list-style: none; margin:0; padding: 0}\n",
       ".list-inline>li {display: inline-block}\n",
       ".list-inline>li:not(:last-child)::after {content: \"\\00b7\"; padding: 0 .5ex}\n",
       "</style>\n",
       "<ol class=list-inline><li>4908</li><li>8</li></ol>\n"
      ],
      "text/latex": [
       "\\begin{enumerate*}\n",
       "\\item 4908\n",
       "\\item 8\n",
       "\\end{enumerate*}\n"
      ],
      "text/markdown": [
       "1. 4908\n",
       "2. 8\n",
       "\n",
       "\n"
      ],
      "text/plain": [
       "[1] 4908    8"
      ]
     },
     "metadata": {},
     "output_type": "display_data"
    }
   ],
   "source": [
    "krab.res <- read_tsv(\"/data/gersbachlab/lrb53/encodeCrisprWG/lowspecguides/removelowspec.tyckoGATA1krabinterference.deseq2.results.tsv\",\n",
    "                    show_col_types=FALSE)\n",
    "head(krab.res,n=1)\n",
    "dim(krab.res)"
   ]
  },
  {
   "cell_type": "markdown",
   "metadata": {},
   "source": [
    "#### Load output of bedtools intersect \n",
    "\n",
    "Defines \"bins\" and which sgRNAs belong to each bin after adjusting for perturbation modality."
   ]
  },
  {
   "cell_type": "code",
   "execution_count": 4,
   "metadata": {},
   "outputs": [
    {
     "data": {
      "text/html": [
       "<table class=\"dataframe\">\n",
       "<caption>A data.frame: 1 × 8</caption>\n",
       "<thead>\n",
       "\t<tr><th></th><th scope=col>grna.chrom</th><th scope=col>grna.start</th><th scope=col>grna.end</th><th scope=col>grna_id</th><th scope=col>bin.chr</th><th scope=col>bin.start</th><th scope=col>bin.end</th><th scope=col>bin</th></tr>\n",
       "\t<tr><th></th><th scope=col>&lt;chr&gt;</th><th scope=col>&lt;int&gt;</th><th scope=col>&lt;int&gt;</th><th scope=col>&lt;chr&gt;</th><th scope=col>&lt;chr&gt;</th><th scope=col>&lt;int&gt;</th><th scope=col>&lt;int&gt;</th><th scope=col>&lt;chr&gt;</th></tr>\n",
       "</thead>\n",
       "<tbody>\n",
       "\t<tr><th scope=row>1</th><td>chrX</td><td>48686619</td><td>48686621</td><td>chrX:48686620-48686623</td><td>chrX</td><td>48686400</td><td>48686500</td><td>chrX:48686400-48686500</td></tr>\n",
       "</tbody>\n",
       "</table>\n"
      ],
      "text/latex": [
       "A data.frame: 1 × 8\n",
       "\\begin{tabular}{r|llllllll}\n",
       "  & grna.chrom & grna.start & grna.end & grna\\_id & bin.chr & bin.start & bin.end & bin\\\\\n",
       "  & <chr> & <int> & <int> & <chr> & <chr> & <int> & <int> & <chr>\\\\\n",
       "\\hline\n",
       "\t1 & chrX & 48686619 & 48686621 & chrX:48686620-48686623 & chrX & 48686400 & 48686500 & chrX:48686400-48686500\\\\\n",
       "\\end{tabular}\n"
      ],
      "text/markdown": [
       "\n",
       "A data.frame: 1 × 8\n",
       "\n",
       "| <!--/--> | grna.chrom &lt;chr&gt; | grna.start &lt;int&gt; | grna.end &lt;int&gt; | grna_id &lt;chr&gt; | bin.chr &lt;chr&gt; | bin.start &lt;int&gt; | bin.end &lt;int&gt; | bin &lt;chr&gt; |\n",
       "|---|---|---|---|---|---|---|---|---|\n",
       "| 1 | chrX | 48686619 | 48686621 | chrX:48686620-48686623 | chrX | 48686400 | 48686500 | chrX:48686400-48686500 |\n",
       "\n"
      ],
      "text/plain": [
       "  grna.chrom grna.start grna.end grna_id                bin.chr bin.start\n",
       "1 chrX       48686619   48686621 chrX:48686620-48686623 chrX    48686400 \n",
       "  bin.end  bin                   \n",
       "1 48686500 chrX:48686400-48686500"
      ]
     },
     "metadata": {},
     "output_type": "display_data"
    },
    {
     "data": {
      "text/html": [
       "<style>\n",
       ".list-inline {list-style: none; margin:0; padding: 0}\n",
       ".list-inline>li {display: inline-block}\n",
       ".list-inline>li:not(:last-child)::after {content: \"\\00b7\"; padding: 0 .5ex}\n",
       "</style>\n",
       "<ol class=list-inline><li>36197</li><li>8</li></ol>\n"
      ],
      "text/latex": [
       "\\begin{enumerate*}\n",
       "\\item 36197\n",
       "\\item 8\n",
       "\\end{enumerate*}\n"
      ],
      "text/markdown": [
       "1. 36197\n",
       "2. 8\n",
       "\n",
       "\n"
      ],
      "text/plain": [
       "[1] 36197     8"
      ]
     },
     "metadata": {},
     "output_type": "display_data"
    }
   ],
   "source": [
    "peaks <- read.delim(\"cutsitecoords/outs/cutsite.tycko.krab.100step.bed\", header = FALSE, \n",
    "                    col.names = c(\"grna.chrom\",\"grna.start\",\"grna.end\",\"grna_id\",\"bin.chr\",\"bin.start\",\"bin.end\")) %>%\n",
    "  mutate(bin = paste0(bin.chr,\":\",bin.start,\"-\",bin.end))\n",
    "\n",
    "head(peaks,n=1)\n",
    "dim(peaks)"
   ]
  },
  {
   "cell_type": "markdown",
   "metadata": {},
   "source": [
    "#### Subset DESeq2 results for only targeting sgRNAs"
   ]
  },
  {
   "cell_type": "code",
   "execution_count": 6,
   "metadata": {},
   "outputs": [
    {
     "data": {
      "text/html": [
       "<table class=\"dataframe\">\n",
       "<caption>A tibble: 1 × 8</caption>\n",
       "<thead>\n",
       "\t<tr><th scope=col>grna_id</th><th scope=col>type</th><th scope=col>d21.vs.plasmid.baseMean</th><th scope=col>d21.vs.plasmid.log2FoldChange</th><th scope=col>d21.vs.plasmid.lfcSE</th><th scope=col>d21.vs.plasmid.stat</th><th scope=col>d21.vs.plasmid.pvalue</th><th scope=col>d21.vs.plasmid.padj</th></tr>\n",
       "\t<tr><th scope=col>&lt;chr&gt;</th><th scope=col>&lt;chr&gt;</th><th scope=col>&lt;dbl&gt;</th><th scope=col>&lt;dbl&gt;</th><th scope=col>&lt;dbl&gt;</th><th scope=col>&lt;dbl&gt;</th><th scope=col>&lt;dbl&gt;</th><th scope=col>&lt;dbl&gt;</th></tr>\n",
       "</thead>\n",
       "<tbody>\n",
       "\t<tr><td>chrX:48686632-48686635</td><td>tiling</td><td>230.629</td><td>-0.438347</td><td>0.3389427</td><td>-1.293278</td><td>0.195915</td><td>0.9999433</td></tr>\n",
       "</tbody>\n",
       "</table>\n"
      ],
      "text/latex": [
       "A tibble: 1 × 8\n",
       "\\begin{tabular}{llllllll}\n",
       " grna\\_id & type & d21.vs.plasmid.baseMean & d21.vs.plasmid.log2FoldChange & d21.vs.plasmid.lfcSE & d21.vs.plasmid.stat & d21.vs.plasmid.pvalue & d21.vs.plasmid.padj\\\\\n",
       " <chr> & <chr> & <dbl> & <dbl> & <dbl> & <dbl> & <dbl> & <dbl>\\\\\n",
       "\\hline\n",
       "\t chrX:48686632-48686635 & tiling & 230.629 & -0.438347 & 0.3389427 & -1.293278 & 0.195915 & 0.9999433\\\\\n",
       "\\end{tabular}\n"
      ],
      "text/markdown": [
       "\n",
       "A tibble: 1 × 8\n",
       "\n",
       "| grna_id &lt;chr&gt; | type &lt;chr&gt; | d21.vs.plasmid.baseMean &lt;dbl&gt; | d21.vs.plasmid.log2FoldChange &lt;dbl&gt; | d21.vs.plasmid.lfcSE &lt;dbl&gt; | d21.vs.plasmid.stat &lt;dbl&gt; | d21.vs.plasmid.pvalue &lt;dbl&gt; | d21.vs.plasmid.padj &lt;dbl&gt; |\n",
       "|---|---|---|---|---|---|---|---|\n",
       "| chrX:48686632-48686635 | tiling | 230.629 | -0.438347 | 0.3389427 | -1.293278 | 0.195915 | 0.9999433 |\n",
       "\n"
      ],
      "text/plain": [
       "  grna_id                type   d21.vs.plasmid.baseMean\n",
       "1 chrX:48686632-48686635 tiling 230.629                \n",
       "  d21.vs.plasmid.log2FoldChange d21.vs.plasmid.lfcSE d21.vs.plasmid.stat\n",
       "1 -0.438347                     0.3389427            -1.293278          \n",
       "  d21.vs.plasmid.pvalue d21.vs.plasmid.padj\n",
       "1 0.195915              0.9999433          "
      ]
     },
     "metadata": {},
     "output_type": "display_data"
    },
    {
     "data": {
      "text/html": [
       "<style>\n",
       ".list-inline {list-style: none; margin:0; padding: 0}\n",
       ".list-inline>li {display: inline-block}\n",
       ".list-inline>li:not(:last-child)::after {content: \"\\00b7\"; padding: 0 .5ex}\n",
       "</style>\n",
       "<ol class=list-inline><li>4906</li><li>8</li></ol>\n"
      ],
      "text/latex": [
       "\\begin{enumerate*}\n",
       "\\item 4906\n",
       "\\item 8\n",
       "\\end{enumerate*}\n"
      ],
      "text/markdown": [
       "1. 4906\n",
       "2. 8\n",
       "\n",
       "\n"
      ],
      "text/plain": [
       "[1] 4906    8"
      ]
     },
     "metadata": {},
     "output_type": "display_data"
    }
   ],
   "source": [
    "pam <- krab.res %>%\n",
    "  filter(type == \"tiling\")\n",
    "\n",
    "head(pam,n=1)\n",
    "dim(pam)"
   ]
  },
  {
   "cell_type": "markdown",
   "metadata": {},
   "source": [
    "#### Number of significant bins (CREs) after removing low spec sgRNAs"
   ]
  },
  {
   "cell_type": "code",
   "execution_count": 7,
   "metadata": {},
   "outputs": [
    {
     "name": "stderr",
     "output_type": "stream",
     "text": [
      "\u001b[1m\u001b[22m`summarise()` has grouped output by 'bin'. You can override using the `.groups`\n",
      "argument.\n"
     ]
    },
    {
     "data": {
      "text/html": [
       "163"
      ],
      "text/latex": [
       "163"
      ],
      "text/markdown": [
       "163"
      ],
      "text/plain": [
       "[1] 163"
      ]
     },
     "metadata": {},
     "output_type": "display_data"
    }
   ],
   "source": [
    "length(\n",
    "pam %>%\n",
    "  left_join(peaks, by = \"grna_id\") %>%\n",
    "  filter(grepl(\"chrX\",bin)) %>%\n",
    "  group_by(bin) %>%\n",
    "  summarize(n = n(),\n",
    "            fisher = fishersMethod(d21.vs.plasmid.pvalue), # Sager says use un-adjusted DESeq2 p-values here\n",
    "            mean_logfc = mean(abs(d21.vs.plasmid.log2FoldChange)),\n",
    "            max_logfc = max(abs(d21.vs.plasmid.log2FoldChange)),\n",
    "            bin.mid = (bin.end+bin.start)/2) %>%\n",
    "  select(bin, bin.mid, mean_logfc, max_logfc, fisher, n) %>%\n",
    "  ungroup() %>%\n",
    "  distinct() %>%\n",
    "  mutate(fdr = p.adjust(fisher, method = \"fdr\")) %>% # then correct for the number of comparisons here\n",
    "  mutate(sep = bin,\n",
    "         sig = -log10(fdr)) %>%\n",
    "  separate(sep, into = c(\"chrom\",\"start\",\"end\")) %>%\n",
    "  select(chrom, start, end, bin:sig) %>%\n",
    "  filter(fdr < 0.1) %>%\n",
    "  select(bin) %>%\n",
    "  distinct() %>% pull()\n",
    "       )"
   ]
  },
  {
   "cell_type": "markdown",
   "metadata": {},
   "source": [
    "Original analysis identified 381 regions as significant."
   ]
  },
  {
   "cell_type": "markdown",
   "metadata": {},
   "source": [
    "#### Filter for FDR < 0.1, write .bed files"
   ]
  },
  {
   "cell_type": "code",
   "execution_count": 49,
   "metadata": {},
   "outputs": [
    {
     "name": "stderr",
     "output_type": "stream",
     "text": [
      "\u001b[1m\u001b[22m`summarise()` has grouped output by 'bin'. You can override using the `.groups`\n",
      "argument.\n"
     ]
    }
   ],
   "source": [
    "# pam %>%\n",
    "#   left_join(peaks, by = \"grna_id\") %>%\n",
    "#   filter(grepl(\"chrX\",bin)) %>%\n",
    "#   group_by(bin) %>%\n",
    "#   summarize(n = n(),\n",
    "#             fisher = fishersMethod(d21.vs.plasmid.pvalue), # Sager says use un-adjusted DESeq2 p-values here\n",
    "#             mean_logfc = mean(abs(d21.vs.plasmid.log2FoldChange)),\n",
    "#             max_logfc = max(abs(d21.vs.plasmid.log2FoldChange)),\n",
    "#             bin.mid = (bin.end+bin.start)/2) %>%\n",
    "#   select(bin, bin.mid, mean_logfc, max_logfc, fisher, n) %>%\n",
    "#   ungroup() %>%\n",
    "#   distinct() %>%\n",
    "#   mutate(fdr = p.adjust(fisher, method = \"fdr\")) %>% # then correct for the number of comparisons here\n",
    "#   mutate(sep = bin,\n",
    "#          sig = -log10(fdr)) %>%\n",
    "#   separate(sep, into = c(\"chrom\",\"start\",\"end\")) %>%\n",
    "#   select(chrom, start, end, bin:sig) %>%\n",
    "#   filter(fdr < 0.1) %>%\n",
    "#   mutate(strand = \".\") %>%\n",
    "#   select(chrom:bin, sig, strand) %>%\n",
    "#   write.table(\"/data/gersbachlab/lrb53/encodeCrisprWG/lowspecguides/removelowspec.cutsite.tyckoGATA1krabinterference.deseq2.peakcalls.fdr01.adjp.hg38.bed\", \n",
    "#               col.names = FALSE, row.names = FALSE, quote = FALSE, sep = \"\\t\")\n"
   ]
  },
  {
   "cell_type": "code",
   "execution_count": 50,
   "metadata": {},
   "outputs": [
    {
     "name": "stderr",
     "output_type": "stream",
     "text": [
      "\u001b[1m\u001b[22m`summarise()` has grouped output by 'bin'. You can override using the `.groups`\n",
      "argument.\n"
     ]
    }
   ],
   "source": [
    "# pam %>%\n",
    "#   left_join(peaks, by = \"grna_id\") %>%\n",
    "#   filter(grepl(\"chrX\",bin)) %>%\n",
    "#   group_by(bin) %>%\n",
    "#   summarize(n = n(),\n",
    "#             fisher = fishersMethod(d21.vs.plasmid.pvalue), # Sager says use un-adjusted DESeq2 p-values here\n",
    "#             mean_logfc = mean(abs(d21.vs.plasmid.log2FoldChange)),\n",
    "#             max_logfc = max(abs(d21.vs.plasmid.log2FoldChange)),\n",
    "#             bin.mid = (bin.end+bin.start)/2) %>%\n",
    "#   select(bin, bin.mid, mean_logfc, max_logfc, fisher, n) %>%\n",
    "#   ungroup() %>%\n",
    "#   distinct() %>%\n",
    "#   mutate(fdr = p.adjust(fisher, method = \"fdr\")) %>% # then correct for the number of comparisons here\n",
    "#   mutate(sep = bin,\n",
    "#          sig = -log10(fdr)) %>%\n",
    "#   separate(sep, into = c(\"chrom\",\"start\",\"end\")) %>%\n",
    "#   select(chrom, start, end, bin:sig) %>%\n",
    "#   filter(fdr < 0.1) %>%\n",
    "#   mutate(strand = \".\") %>%\n",
    "#   select(chrom:bin, mean_logfc, strand) %>%\n",
    "#   write.table(\"/data/gersbachlab/lrb53/encodeCrisprWG/lowspecguides/removelowspec.cutsite.tyckoGATA1krabinterference.deseq2.peakcalls.fdr01.abslog2fc.hg38.bed\", \n",
    "#               col.names = FALSE, row.names = FALSE, quote = FALSE, sep = \"\\t\")\n"
   ]
  },
  {
   "cell_type": "code",
   "execution_count": 51,
   "metadata": {},
   "outputs": [
    {
     "name": "stderr",
     "output_type": "stream",
     "text": [
      "\u001b[1m\u001b[22m`summarise()` has grouped output by 'bin'. You can override using the `.groups`\n",
      "argument.\n"
     ]
    }
   ],
   "source": [
    "# pam %>%\n",
    "#   left_join(peaks, by = \"grna_id\") %>%\n",
    "#   filter(grepl(\"chrX\",bin)) %>%\n",
    "#   group_by(bin) %>%\n",
    "#   summarize(n = n(),\n",
    "#             fisher = fishersMethod(d21.vs.plasmid.pvalue), # Sager says use un-adjusted DESeq2 p-values here\n",
    "#             mean_logfc = mean(abs(d21.vs.plasmid.log2FoldChange)),\n",
    "#             max_logfc = max(abs(d21.vs.plasmid.log2FoldChange)),\n",
    "#             bin.mid = (bin.end+bin.start)/2) %>%\n",
    "#   select(bin, bin.mid, mean_logfc, max_logfc, fisher, n) %>%\n",
    "#   ungroup() %>%\n",
    "#   distinct() %>%\n",
    "#   mutate(fdr = p.adjust(fisher, method = \"fdr\")) %>% # then correct for the number of comparisons here\n",
    "#   mutate(sep = bin,\n",
    "#          sig = -log10(fdr)) %>%\n",
    "#   separate(sep, into = c(\"chrom\",\"start\",\"end\")) %>%\n",
    "#   select(chrom, start, end, bin:sig) %>%\n",
    "#   filter(fdr < 0.1) %>%\n",
    "#   mutate(strand = \".\") %>%\n",
    "#   select(chrom:bin, max_logfc, strand) %>%\n",
    "#   write.table(\"/data/gersbachlab/lrb53/encodeCrisprWG/lowspecguides/removelowspec.cutsite.tyckoGATA1krabinterference.deseq2.peakcalls.fdr01.maxlog2fc.hg38.bed\", \n",
    "#               col.names = FALSE, row.names = FALSE, quote = FALSE, sep = \"\\t\")\n",
    " "
   ]
  },
  {
   "cell_type": "markdown",
   "metadata": {},
   "source": [
    "### Visualize results"
   ]
  },
  {
   "cell_type": "code",
   "execution_count": 14,
   "metadata": {},
   "outputs": [],
   "source": [
    "suppressPackageStartupMessages(library(tidyverse))\n",
    "suppressPackageStartupMessages(library(ggpubr))"
   ]
  },
  {
   "cell_type": "markdown",
   "metadata": {},
   "source": [
    "#### Load new peak calls"
   ]
  },
  {
   "cell_type": "code",
   "execution_count": 15,
   "metadata": {},
   "outputs": [
    {
     "data": {
      "text/html": [
       "<table class=\"dataframe\">\n",
       "<caption>A data.frame: 1 × 8</caption>\n",
       "<thead>\n",
       "\t<tr><th></th><th scope=col>chrBin</th><th scope=col>startBin</th><th scope=col>endBin</th><th scope=col>strand</th><th scope=col>bin</th><th scope=col>new_adjp</th><th scope=col>new_max_log2fc</th><th scope=col>new_abs_log2fc</th></tr>\n",
       "\t<tr><th></th><th scope=col>&lt;chr&gt;</th><th scope=col>&lt;int&gt;</th><th scope=col>&lt;int&gt;</th><th scope=col>&lt;chr&gt;</th><th scope=col>&lt;chr&gt;</th><th scope=col>&lt;dbl&gt;</th><th scope=col>&lt;dbl&gt;</th><th scope=col>&lt;dbl&gt;</th></tr>\n",
       "</thead>\n",
       "<tbody>\n",
       "\t<tr><th scope=row>1</th><td>chrX</td><td>48696600</td><td>48696700</td><td>.</td><td>chrX:48696600-48696700</td><td>10.22434</td><td>7.047916</td><td>0.5778344</td></tr>\n",
       "</tbody>\n",
       "</table>\n"
      ],
      "text/latex": [
       "A data.frame: 1 × 8\n",
       "\\begin{tabular}{r|llllllll}\n",
       "  & chrBin & startBin & endBin & strand & bin & new\\_adjp & new\\_max\\_log2fc & new\\_abs\\_log2fc\\\\\n",
       "  & <chr> & <int> & <int> & <chr> & <chr> & <dbl> & <dbl> & <dbl>\\\\\n",
       "\\hline\n",
       "\t1 & chrX & 48696600 & 48696700 & . & chrX:48696600-48696700 & 10.22434 & 7.047916 & 0.5778344\\\\\n",
       "\\end{tabular}\n"
      ],
      "text/markdown": [
       "\n",
       "A data.frame: 1 × 8\n",
       "\n",
       "| <!--/--> | chrBin &lt;chr&gt; | startBin &lt;int&gt; | endBin &lt;int&gt; | strand &lt;chr&gt; | bin &lt;chr&gt; | new_adjp &lt;dbl&gt; | new_max_log2fc &lt;dbl&gt; | new_abs_log2fc &lt;dbl&gt; |\n",
       "|---|---|---|---|---|---|---|---|---|\n",
       "| 1 | chrX | 48696600 | 48696700 | . | chrX:48696600-48696700 | 10.22434 | 7.047916 | 0.5778344 |\n",
       "\n"
      ],
      "text/plain": [
       "  chrBin startBin endBin   strand bin                    new_adjp\n",
       "1 chrX   48696600 48696700 .      chrX:48696600-48696700 10.22434\n",
       "  new_max_log2fc new_abs_log2fc\n",
       "1 7.047916       0.5778344     "
      ]
     },
     "metadata": {},
     "output_type": "display_data"
    },
    {
     "data": {
      "text/html": [
       "<style>\n",
       ".list-inline {list-style: none; margin:0; padding: 0}\n",
       ".list-inline>li {display: inline-block}\n",
       ".list-inline>li:not(:last-child)::after {content: \"\\00b7\"; padding: 0 .5ex}\n",
       "</style>\n",
       "<ol class=list-inline><li>163</li><li>8</li></ol>\n"
      ],
      "text/latex": [
       "\\begin{enumerate*}\n",
       "\\item 163\n",
       "\\item 8\n",
       "\\end{enumerate*}\n"
      ],
      "text/markdown": [
       "1. 163\n",
       "2. 8\n",
       "\n",
       "\n"
      ],
      "text/plain": [
       "[1] 163   8"
      ]
     },
     "metadata": {},
     "output_type": "display_data"
    }
   ],
   "source": [
    "newpeaks <-\n",
    "read.delim(\"/data/gersbachlab/lrb53/encodeCrisprWG/lowspecguides/removelowspec.cutsite.tyckoGATA1krabinterference.deseq2.peakcalls.fdr01.maxlog2fc.hg38.bed\",\n",
    "           header = FALSE, col.names = c(\"chrBin\",\"startBin\",\"endBin\",\"bin\",\"new_max_log2fc\",\"strand\")) %>%\n",
    "left_join(read.delim(\"/data/gersbachlab/lrb53/encodeCrisprWG/lowspecguides/removelowspec.cutsite.tyckoGATA1krabinterference.deseq2.peakcalls.fdr01.abslog2fc.hg38.bed\",\n",
    "           header = FALSE, col.names = c(\"chrBin\",\"startBin\",\"endBin\",\"bin\",\"new_abs_log2fc\",\"strand\")) %>%\n",
    "          select(bin, new_abs_log2fc),\n",
    "          by = \"bin\") %>%\n",
    "left_join(read.delim(\"/data/gersbachlab/lrb53/encodeCrisprWG/lowspecguides/removelowspec.cutsite.tyckoGATA1krabinterference.deseq2.peakcalls.fdr01.adjp.hg38.bed\",\n",
    "           header = FALSE, col.names = c(\"chrBin\",\"startBin\",\"endBin\",\"bin\",\"new_adjp\",\"strand\")) %>%\n",
    "          select(bin, new_adjp),\n",
    "          by = \"bin\") %>%\n",
    "select(chrBin:endBin, strand, bin, new_adjp, contains(\"log2fc\"))\n",
    "\n",
    "head(newpeaks,n=1)\n",
    "dim(newpeaks)"
   ]
  },
  {
   "cell_type": "markdown",
   "metadata": {},
   "source": [
    "#### Load previous peak calls for comparison"
   ]
  },
  {
   "cell_type": "code",
   "execution_count": 16,
   "metadata": {},
   "outputs": [
    {
     "data": {
      "text/html": [
       "<table class=\"dataframe\">\n",
       "<caption>A data.frame: 1 × 8</caption>\n",
       "<thead>\n",
       "\t<tr><th></th><th scope=col>chrBin</th><th scope=col>startBin</th><th scope=col>endBin</th><th scope=col>strand</th><th scope=col>bin</th><th scope=col>old_adjp</th><th scope=col>old_max_log2fc</th><th scope=col>old_abs_log2fc</th></tr>\n",
       "\t<tr><th></th><th scope=col>&lt;chr&gt;</th><th scope=col>&lt;int&gt;</th><th scope=col>&lt;int&gt;</th><th scope=col>&lt;chr&gt;</th><th scope=col>&lt;chr&gt;</th><th scope=col>&lt;dbl&gt;</th><th scope=col>&lt;dbl&gt;</th><th scope=col>&lt;dbl&gt;</th></tr>\n",
       "</thead>\n",
       "<tbody>\n",
       "\t<tr><th scope=row>1</th><td>chrX</td><td>105822500</td><td>105822600</td><td>.</td><td>chrX:105822500-105822600</td><td>10.17501</td><td>3.606516</td><td>3.606516</td></tr>\n",
       "</tbody>\n",
       "</table>\n"
      ],
      "text/latex": [
       "A data.frame: 1 × 8\n",
       "\\begin{tabular}{r|llllllll}\n",
       "  & chrBin & startBin & endBin & strand & bin & old\\_adjp & old\\_max\\_log2fc & old\\_abs\\_log2fc\\\\\n",
       "  & <chr> & <int> & <int> & <chr> & <chr> & <dbl> & <dbl> & <dbl>\\\\\n",
       "\\hline\n",
       "\t1 & chrX & 105822500 & 105822600 & . & chrX:105822500-105822600 & 10.17501 & 3.606516 & 3.606516\\\\\n",
       "\\end{tabular}\n"
      ],
      "text/markdown": [
       "\n",
       "A data.frame: 1 × 8\n",
       "\n",
       "| <!--/--> | chrBin &lt;chr&gt; | startBin &lt;int&gt; | endBin &lt;int&gt; | strand &lt;chr&gt; | bin &lt;chr&gt; | old_adjp &lt;dbl&gt; | old_max_log2fc &lt;dbl&gt; | old_abs_log2fc &lt;dbl&gt; |\n",
       "|---|---|---|---|---|---|---|---|---|\n",
       "| 1 | chrX | 105822500 | 105822600 | . | chrX:105822500-105822600 | 10.17501 | 3.606516 | 3.606516 |\n",
       "\n"
      ],
      "text/plain": [
       "  chrBin startBin  endBin    strand bin                      old_adjp\n",
       "1 chrX   105822500 105822600 .      chrX:105822500-105822600 10.17501\n",
       "  old_max_log2fc old_abs_log2fc\n",
       "1 3.606516       3.606516      "
      ]
     },
     "metadata": {},
     "output_type": "display_data"
    },
    {
     "data": {
      "text/html": [
       "<style>\n",
       ".list-inline {list-style: none; margin:0; padding: 0}\n",
       ".list-inline>li {display: inline-block}\n",
       ".list-inline>li:not(:last-child)::after {content: \"\\00b7\"; padding: 0 .5ex}\n",
       "</style>\n",
       "<ol class=list-inline><li>381</li><li>8</li></ol>\n"
      ],
      "text/latex": [
       "\\begin{enumerate*}\n",
       "\\item 381\n",
       "\\item 8\n",
       "\\end{enumerate*}\n"
      ],
      "text/markdown": [
       "1. 381\n",
       "2. 8\n",
       "\n",
       "\n"
      ],
      "text/plain": [
       "[1] 381   8"
      ]
     },
     "metadata": {},
     "output_type": "display_data"
    }
   ],
   "source": [
    "oldpeaks <-\n",
    "read.delim(\"/data/gersbachlab/lrb53/encodeCrisprWG/lowspecguides/cutsite.tyckoGATA1krabinterference.deseq2.peakcalls.fdr01.maxlog2fc.hg38.bed\",\n",
    "           header = FALSE, col.names = c(\"chrBin\",\"startBin\",\"endBin\",\"bin\",\"old_max_log2fc\",\"strand\")) %>%\n",
    "left_join(read.delim(\"/data/gersbachlab/lrb53/encodeCrisprWG/lowspecguides/cutsite.tyckoGATA1krabinterference.deseq2.peakcalls.fdr01.abslog2fc.hg38.bed\",\n",
    "           header = FALSE, col.names = c(\"chrBin\",\"startBin\",\"endBin\",\"bin\",\"old_abs_log2fc\",\"strand\")) %>%\n",
    "          select(bin, old_abs_log2fc),\n",
    "          by = \"bin\") %>%\n",
    "left_join(read.delim(\"/data/gersbachlab/lrb53/encodeCrisprWG/manuscript/deseq2/cutsite.tyckoGATA1krabinterference.deseq2.peakcalls.fdr01.adjp.hg38.bed\",\n",
    "           header = FALSE, col.names = c(\"chrBin\",\"startBin\",\"endBin\",\"bin\",\"old_adjp\",\"strand\")) %>%\n",
    "          select(bin, old_adjp),\n",
    "          by = \"bin\") %>%\n",
    "select(chrBin:endBin, strand, bin, old_adjp, contains(\"log2fc\"))\n",
    "\n",
    "head(oldpeaks,n=1)\n",
    "dim(oldpeaks)"
   ]
  },
  {
   "cell_type": "markdown",
   "metadata": {},
   "source": [
    "#### Combine peak calls into one df with label for analysis"
   ]
  },
  {
   "cell_type": "code",
   "execution_count": 17,
   "metadata": {},
   "outputs": [
    {
     "data": {
      "text/html": [
       "<table class=\"dataframe\">\n",
       "<caption>A data.frame: 1 × 11</caption>\n",
       "<thead>\n",
       "\t<tr><th></th><th scope=col>chrBin</th><th scope=col>startBin</th><th scope=col>endBin</th><th scope=col>strand</th><th scope=col>bin</th><th scope=col>old_adjp</th><th scope=col>old_max_log2fc</th><th scope=col>old_abs_log2fc</th><th scope=col>new_adjp</th><th scope=col>new_max_log2fc</th><th scope=col>new_abs_log2fc</th></tr>\n",
       "\t<tr><th></th><th scope=col>&lt;chr&gt;</th><th scope=col>&lt;int&gt;</th><th scope=col>&lt;int&gt;</th><th scope=col>&lt;chr&gt;</th><th scope=col>&lt;chr&gt;</th><th scope=col>&lt;dbl&gt;</th><th scope=col>&lt;dbl&gt;</th><th scope=col>&lt;dbl&gt;</th><th scope=col>&lt;dbl&gt;</th><th scope=col>&lt;dbl&gt;</th><th scope=col>&lt;dbl&gt;</th></tr>\n",
       "</thead>\n",
       "<tbody>\n",
       "\t<tr><th scope=row>1</th><td>chrX</td><td>105822500</td><td>105822600</td><td>.</td><td>chrX:105822500-105822600</td><td>10.17501</td><td>3.606516</td><td>3.606516</td><td>NA</td><td>NA</td><td>NA</td></tr>\n",
       "</tbody>\n",
       "</table>\n"
      ],
      "text/latex": [
       "A data.frame: 1 × 11\n",
       "\\begin{tabular}{r|lllllllllll}\n",
       "  & chrBin & startBin & endBin & strand & bin & old\\_adjp & old\\_max\\_log2fc & old\\_abs\\_log2fc & new\\_adjp & new\\_max\\_log2fc & new\\_abs\\_log2fc\\\\\n",
       "  & <chr> & <int> & <int> & <chr> & <chr> & <dbl> & <dbl> & <dbl> & <dbl> & <dbl> & <dbl>\\\\\n",
       "\\hline\n",
       "\t1 & chrX & 105822500 & 105822600 & . & chrX:105822500-105822600 & 10.17501 & 3.606516 & 3.606516 & NA & NA & NA\\\\\n",
       "\\end{tabular}\n"
      ],
      "text/markdown": [
       "\n",
       "A data.frame: 1 × 11\n",
       "\n",
       "| <!--/--> | chrBin &lt;chr&gt; | startBin &lt;int&gt; | endBin &lt;int&gt; | strand &lt;chr&gt; | bin &lt;chr&gt; | old_adjp &lt;dbl&gt; | old_max_log2fc &lt;dbl&gt; | old_abs_log2fc &lt;dbl&gt; | new_adjp &lt;dbl&gt; | new_max_log2fc &lt;dbl&gt; | new_abs_log2fc &lt;dbl&gt; |\n",
       "|---|---|---|---|---|---|---|---|---|---|---|---|\n",
       "| 1 | chrX | 105822500 | 105822600 | . | chrX:105822500-105822600 | 10.17501 | 3.606516 | 3.606516 | NA | NA | NA |\n",
       "\n"
      ],
      "text/plain": [
       "  chrBin startBin  endBin    strand bin                      old_adjp\n",
       "1 chrX   105822500 105822600 .      chrX:105822500-105822600 10.17501\n",
       "  old_max_log2fc old_abs_log2fc new_adjp new_max_log2fc new_abs_log2fc\n",
       "1 3.606516       3.606516       NA       NA             NA            "
      ]
     },
     "metadata": {},
     "output_type": "display_data"
    },
    {
     "data": {
      "text/html": [
       "<style>\n",
       ".list-inline {list-style: none; margin:0; padding: 0}\n",
       ".list-inline>li {display: inline-block}\n",
       ".list-inline>li:not(:last-child)::after {content: \"\\00b7\"; padding: 0 .5ex}\n",
       "</style>\n",
       "<ol class=list-inline><li>381</li><li>11</li></ol>\n"
      ],
      "text/latex": [
       "\\begin{enumerate*}\n",
       "\\item 381\n",
       "\\item 11\n",
       "\\end{enumerate*}\n"
      ],
      "text/markdown": [
       "1. 381\n",
       "2. 11\n",
       "\n",
       "\n"
      ],
      "text/plain": [
       "[1] 381  11"
      ]
     },
     "metadata": {},
     "output_type": "display_data"
    }
   ],
   "source": [
    "plotdf <-\n",
    "oldpeaks %>%\n",
    "left_join(newpeaks %>% select(bin, new_adjp:new_abs_log2fc),\n",
    "          by = \"bin\") \n",
    "# %>%\n",
    "# filter(!is.na(new_adjp)) ### 3 peaks called significant after removing low spec guides that were not significant in original analysis\n",
    "\n",
    "head(plotdf,n=1)\n",
    "dim(plotdf)"
   ]
  },
  {
   "cell_type": "code",
   "execution_count": 18,
   "metadata": {},
   "outputs": [
    {
     "data": {
      "text/html": [
       "160"
      ],
      "text/latex": [
       "160"
      ],
      "text/markdown": [
       "160"
      ],
      "text/plain": [
       "[1] 160"
      ]
     },
     "metadata": {},
     "output_type": "display_data"
    }
   ],
   "source": [
    "length(intersect(oldpeaks$bin,newpeaks$bin))"
   ]
  },
  {
   "cell_type": "code",
   "execution_count": 19,
   "metadata": {},
   "outputs": [
    {
     "data": {
      "text/html": [
       "3"
      ],
      "text/latex": [
       "3"
      ],
      "text/markdown": [
       "3"
      ],
      "text/plain": [
       "[1] 3"
      ]
     },
     "metadata": {},
     "output_type": "display_data"
    }
   ],
   "source": [
    "length(setdiff(newpeaks$bin, oldpeaks$bin))"
   ]
  },
  {
   "cell_type": "code",
   "execution_count": 20,
   "metadata": {},
   "outputs": [
    {
     "data": {
      "text/html": [
       "221"
      ],
      "text/latex": [
       "221"
      ],
      "text/markdown": [
       "221"
      ],
      "text/plain": [
       "[1] 221"
      ]
     },
     "metadata": {},
     "output_type": "display_data"
    }
   ],
   "source": [
    "length(setdiff(oldpeaks$bin, newpeaks$bin))"
   ]
  },
  {
   "cell_type": "code",
   "execution_count": 21,
   "metadata": {},
   "outputs": [
    {
     "name": "stderr",
     "output_type": "stream",
     "text": [
      "Warning message:\n",
      "“Removed 217 rows containing missing values (geom_point).”\n",
      "\u001b[1m\u001b[22m`summarise()` has grouped output by 'bin_midpoint'. You can override using the\n",
      "`.groups` argument.\n"
     ]
    },
    {
     "data": {
      "image/png": "[encoded data removed]",
      "text/plain": [
       "plot without title"
      ]
     },
     "metadata": {
      "image/png": {
       "height": 240,
       "width": 900
      }
     },
     "output_type": "display_data"
    },
    {
     "data": {
      "image/png": "[encoded data removed]",
      "text/plain": [
       "plot without title"
      ]
     },
     "metadata": {
      "image/png": {
       "height": 240,
       "width": 900
      }
     },
     "output_type": "display_data"
    }
   ],
   "source": [
    "options(repr.plot.width = 15, repr.plot.height = 4)\n",
    "\n",
    "plotdf %>%\n",
    "filter(startBin < 50000000) %>%\n",
    "pivot_longer(cols = contains(\"adjp\"), values_to = \"log10fdr\", names_to = \"analysis_version\") %>%\n",
    "mutate(analysis_version = str_replace(analysis_version,\"_adjp\",\"\")) %>%\n",
    "mutate(bin_midpoint = (startBin+endBin)/2) %>%\n",
    "ggplot(aes(x = bin_midpoint, y = log10fdr, color = analysis_version)) +\n",
    "geom_point() +\n",
    "theme_bw() +\n",
    "theme(legend.position=\"top\")\n",
    "\n",
    "plotdf %>%\n",
    "filter(startBin < 50000000) %>%\n",
    "pivot_longer(cols = contains(\"adjp\"), values_to = \"log10fdr\", names_to = \"analysis_version\") %>%\n",
    "mutate(analysis_version = str_replace(analysis_version,\"_adjp\",\"\")) %>%\n",
    "mutate(bin_midpoint = (startBin+endBin)/2) %>%\n",
    "mutate(only_old = ifelse(is.na(log10fdr), TRUE, FALSE)) %>%\n",
    "select(bin_midpoint, only_old) %>%\n",
    "distinct() %>%\n",
    "group_by(bin_midpoint, only_old) %>%\n",
    "summarise(n=n()) %>%\n",
    "ungroup() %>%\n",
    "ggplot(aes(x = bin_midpoint, y = n, fill = only_old)) +\n",
    "geom_col(position=\"identity\") +\n",
    "theme_bw() +\n",
    "theme(legend.position=\"top\")"
   ]
  },
  {
   "cell_type": "code",
   "execution_count": 22,
   "metadata": {
    "scrolled": false
   },
   "outputs": [
    {
     "name": "stderr",
     "output_type": "stream",
     "text": [
      "Warning message:\n",
      "“Removed 217 rows containing non-finite values (stat_boxplot).”\n",
      "Warning message:\n",
      "“Removed 217 rows containing non-finite values (stat_boxplot).”\n",
      "Warning message:\n",
      "“Removed 217 rows containing non-finite values (stat_boxplot).”\n",
      "Warning message:\n",
      "“Removed 217 rows containing non-finite values (stat_boxplot).”\n",
      "Warning message:\n",
      "“Removed 217 rows containing non-finite values (stat_boxplot).”\n",
      "Warning message:\n",
      "“Removed 217 rows containing non-finite values (stat_boxplot).”\n"
     ]
    },
    {
     "data": {
      "image/png": "[encoded data removed]",
      "text/plain": [
       "plot without title"
      ]
     },
     "metadata": {
      "image/png": {
       "height": 240,
       "width": 900
      }
     },
     "output_type": "display_data"
    }
   ],
   "source": [
    "options(repr.plot.width = 15, repr.plot.height = 4)\n",
    "\n",
    "p1 <- \n",
    "plotdf %>%\n",
    "filter(startBin < 50000000) %>%\n",
    "pivot_longer(cols = contains(\"adjp\"), values_to = \"minuslog10fdr\", names_to = \"analysis_version\") %>%\n",
    "mutate(analysis_version = str_replace(analysis_version,\"_adjp\",\"\")) %>%\n",
    "mutate(bin_midpoint = (startBin+endBin)/2) %>%\n",
    "ggplot(aes(x = analysis_version, y = minuslog10fdr, color = analysis_version)) +\n",
    "geom_boxplot() +\n",
    "theme_bw()\n",
    "\n",
    "p2 <- \n",
    "plotdf %>%\n",
    "filter(startBin < 50000000) %>%\n",
    "pivot_longer(cols = contains(\"abs\"), values_to = \"mean_abs_log2fc\", names_to = \"analysis_version\") %>%\n",
    "mutate(analysis_version = str_replace(analysis_version,\"_abs_log2fc\",\"\")) %>%\n",
    "mutate(bin_midpoint = (startBin+endBin)/2) %>%\n",
    "ggplot(aes(x = analysis_version, y = mean_abs_log2fc, color = analysis_version)) +\n",
    "geom_boxplot() +\n",
    "theme_bw()\n",
    "\n",
    "p3 <- \n",
    "plotdf %>%\n",
    "filter(startBin < 50000000) %>%\n",
    "pivot_longer(cols = contains(\"max\"), values_to = \"mean_max_log2fc\", names_to = \"analysis_version\") %>%\n",
    "mutate(analysis_version = str_replace(analysis_version,\"_max_log2fc\",\"\")) %>%\n",
    "mutate(bin_midpoint = (startBin+endBin)/2) %>%\n",
    "ggplot(aes(x = analysis_version, y = mean_max_log2fc, color = analysis_version)) +\n",
    "geom_boxplot() +\n",
    "theme_bw()\n",
    "\n",
    "ggarrange(p1,p2,p3,\n",
    "          ncol=3,\n",
    "          common.legend=TRUE,\n",
    "          legend=\"none\"\n",
    "         )"
   ]
  },
  {
   "cell_type": "code",
   "execution_count": 23,
   "metadata": {},
   "outputs": [
    {
     "name": "stderr",
     "output_type": "stream",
     "text": [
      "Warning message:\n",
      "“Removed 217 rows containing missing values (geom_point).”\n",
      "Warning message:\n",
      "“Removed 217 rows containing missing values (geom_point).”\n",
      "Warning message:\n",
      "“Removed 217 rows containing missing values (geom_point).”\n"
     ]
    },
    {
     "data": {
      "image/png": "[encoded data removed]",
      "text/plain": [
       "plot without title"
      ]
     },
     "metadata": {
      "image/png": {
       "height": 240,
       "width": 900
      }
     },
     "output_type": "display_data"
    }
   ],
   "source": [
    "p1 <- \n",
    "plotdf %>%\n",
    "filter(startBin < 50000000) %>%\n",
    "ggplot(aes(x = old_adjp, y = new_adjp)) +\n",
    "geom_point() +\n",
    "geom_abline() +\n",
    "theme_bw()\n",
    "\n",
    "p2 <- \n",
    "plotdf %>%\n",
    "filter(startBin < 50000000) %>%\n",
    "ggplot(aes(x = old_abs_log2fc, y = new_abs_log2fc)) +\n",
    "geom_point() +\n",
    "geom_abline() +\n",
    "theme_bw()\n",
    "\n",
    "p3 <- \n",
    "plotdf %>%\n",
    "filter(startBin < 50000000) %>%\n",
    "ggplot(aes(x = old_max_log2fc, y = new_max_log2fc)) +\n",
    "geom_point() +\n",
    "geom_abline() +\n",
    "theme_bw()\n",
    "\n",
    "ggarrange(p1,p2,p3,ncol=3)"
   ]
  },
  {
   "cell_type": "code",
   "execution_count": null,
   "metadata": {},
   "outputs": [],
   "source": []
  },
  {
   "cell_type": "markdown",
   "metadata": {},
   "source": [
    "#### Test for significant difference in the significance and log2FC of significant peak calls pre- and post-filter"
   ]
  },
  {
   "cell_type": "code",
   "execution_count": 59,
   "metadata": {},
   "outputs": [
    {
     "data": {
      "text/plain": [
       "\n",
       "\tWelch Two Sample t-test\n",
       "\n",
       "data:  log10fdr by analysis_version\n",
       "t = 0.22769, df = 444.83, p-value = 0.82\n",
       "alternative hypothesis: true difference in means between group new and group old is not equal to 0\n",
       "95 percent confidence interval:\n",
       " -4.300381  5.427397\n",
       "sample estimates:\n",
       "mean in group new mean in group old \n",
       "         20.18670          19.62319 \n"
      ]
     },
     "metadata": {},
     "output_type": "display_data"
    },
    {
     "data": {
      "text/plain": [
       "\n",
       "\tWilcoxon rank sum test with continuity correction\n",
       "\n",
       "data:  log10fdr by analysis_version\n",
       "W = 36965, p-value = 3.507e-05\n",
       "alternative hypothesis: true location shift is not equal to 0\n"
      ]
     },
     "metadata": {},
     "output_type": "display_data"
    }
   ],
   "source": [
    "testdf <-\n",
    "plotdf %>%\n",
    "filter(startBin < 50000000) %>%\n",
    "pivot_longer(cols = contains(\"adjp\"), values_to = \"log10fdr\", names_to = \"analysis_version\") %>%\n",
    "mutate(analysis_version = str_replace(analysis_version,\"_adjp\",\"\")) %>%\n",
    "mutate(bin_midpoint = (startBin+endBin)/2) %>%\n",
    "select(analysis_version, log10fdr)\n",
    "\n",
    "t.test(data = testdf, log10fdr ~ analysis_version)\n",
    "wilcox.test(data = testdf, log10fdr ~ analysis_version)"
   ]
  },
  {
   "cell_type": "code",
   "execution_count": 60,
   "metadata": {},
   "outputs": [
    {
     "data": {
      "text/plain": [
       "\n",
       "\tWelch Two Sample t-test\n",
       "\n",
       "data:  mean_abs_log2fc by analysis_version\n",
       "t = 3.9101, df = 240.41, p-value = 0.0001201\n",
       "alternative hypothesis: true difference in means between group new and group old is not equal to 0\n",
       "95 percent confidence interval:\n",
       " 0.1682138 0.5097848\n",
       "sample estimates:\n",
       "mean in group new mean in group old \n",
       "        1.1119611         0.7729618 \n"
      ]
     },
     "metadata": {},
     "output_type": "display_data"
    },
    {
     "data": {
      "text/plain": [
       "\n",
       "\tWilcoxon rank sum test with continuity correction\n",
       "\n",
       "data:  mean_abs_log2fc by analysis_version\n",
       "W = 39684, p-value = 6.99e-09\n",
       "alternative hypothesis: true location shift is not equal to 0\n"
      ]
     },
     "metadata": {},
     "output_type": "display_data"
    }
   ],
   "source": [
    "testdf <-\n",
    "plotdf %>%\n",
    "filter(startBin < 50000000) %>%\n",
    "pivot_longer(cols = contains(\"abs\"), values_to = \"mean_abs_log2fc\", names_to = \"analysis_version\") %>%\n",
    "mutate(analysis_version = str_replace(analysis_version,\"_abs_log2fc\",\"\")) %>%\n",
    "mutate(bin_midpoint = (startBin+endBin)/2) %>%\n",
    "select(analysis_version, mean_abs_log2fc)\n",
    "\n",
    "t.test(data = testdf, mean_abs_log2fc ~ analysis_version)\n",
    "wilcox.test(data = testdf, mean_abs_log2fc ~ analysis_version)"
   ]
  },
  {
   "cell_type": "code",
   "execution_count": 61,
   "metadata": {},
   "outputs": [
    {
     "data": {
      "text/plain": [
       "\n",
       "\tWelch Two Sample t-test\n",
       "\n",
       "data:  mean_max_log2fc by analysis_version\n",
       "t = -1.7089, df = 318.23, p-value = 0.08845\n",
       "alternative hypothesis: true difference in means between group new and group old is not equal to 0\n",
       "95 percent confidence interval:\n",
       " -0.52035698  0.03660218\n",
       "sample estimates:\n",
       "mean in group new mean in group old \n",
       "         3.574052          3.815929 \n"
      ]
     },
     "metadata": {},
     "output_type": "display_data"
    },
    {
     "data": {
      "text/plain": [
       "\n",
       "\tWilcoxon rank sum test with continuity correction\n",
       "\n",
       "data:  mean_max_log2fc by analysis_version\n",
       "W = 27052, p-value = 0.0588\n",
       "alternative hypothesis: true location shift is not equal to 0\n"
      ]
     },
     "metadata": {},
     "output_type": "display_data"
    }
   ],
   "source": [
    "testdf <-\n",
    "plotdf %>%\n",
    "filter(startBin < 50000000) %>%\n",
    "pivot_longer(cols = contains(\"max\"), values_to = \"mean_max_log2fc\", names_to = \"analysis_version\") %>%\n",
    "mutate(analysis_version = str_replace(analysis_version,\"_max_log2fc\",\"\")) %>%\n",
    "mutate(bin_midpoint = (startBin+endBin)/2) %>%\n",
    "select(analysis_version, mean_max_log2fc)\n",
    "\n",
    "t.test(data = testdf, mean_max_log2fc ~ analysis_version)\n",
    "wilcox.test(data = testdf, mean_max_log2fc ~ analysis_version)"
   ]
  },
  {
   "cell_type": "code",
   "execution_count": null,
   "metadata": {},
   "outputs": [],
   "source": []
  },
  {
   "cell_type": "code",
   "execution_count": 1,
   "metadata": {},
   "outputs": [
    {
     "name": "stdout",
     "output_type": "stream",
     "text": [
      "chrX\t48696600\t48696700\tchrX:48696600-48696700\t7.04791637476902\t.\n",
      "163 /data/gersbachlab/lrb53/encodeCrisprWG/lowspecguides/removelowspec.cutsite.tyckoGATA1krabinterference.deseq2.peakcalls.fdr01.maxlog2fc.hg38.bed\n"
     ]
    }
   ],
   "source": [
    "%%bash\n",
    "head -n 1 /data/gersbachlab/lrb53/encodeCrisprWG/lowspecguides/removelowspec.cutsite.tyckoGATA1krabinterference.deseq2.peakcalls.fdr01.maxlog2fc.hg38.bed\n",
    "wc -l /data/gersbachlab/lrb53/encodeCrisprWG/lowspecguides/removelowspec.cutsite.tyckoGATA1krabinterference.deseq2.peakcalls.fdr01.maxlog2fc.hg38.bed\n"
   ]
  },
  {
   "cell_type": "code",
   "execution_count": 3,
   "metadata": {},
   "outputs": [
    {
     "name": "stdout",
     "output_type": "stream",
     "text": [
      "chrX\t48696600\t48696700\tchrX:48696600-48696700\t7.04791637476902\t.\n",
      "163 removelowspec.cutsite.tyckoGATA1krabinterference.deseq2.peakcalls.sorted.hg38.bed\n"
     ]
    }
   ],
   "source": [
    "%%bash\n",
    "cd /data/gersbachlab/lrb53/encodeCrisprWG/lowspecguides/\n",
    "\n",
    "sort -k1,1 -k2,2n removelowspec.cutsite.tyckoGATA1krabinterference.deseq2.peakcalls.fdr01.maxlog2fc.hg38.bed > removelowspec.cutsite.tyckoGATA1krabinterference.deseq2.peakcalls.sorted.hg38.bed\n",
    "head -n1 removelowspec.cutsite.tyckoGATA1krabinterference.deseq2.peakcalls.sorted.hg38.bed\n",
    "wc -l removelowspec.cutsite.tyckoGATA1krabinterference.deseq2.peakcalls.sorted.hg38.bed"
   ]
  },
  {
   "cell_type": "code",
   "execution_count": 4,
   "metadata": {},
   "outputs": [
    {
     "name": "stdout",
     "output_type": "stream",
     "text": [
      "chrX\t48696600\t48697000\n",
      "21 removelowspec.cutsite.tyckoGATA1krabinterference.deseq2.peakcalls.sorted.merge.hg38.bed\n"
     ]
    }
   ],
   "source": [
    "%%bash\n",
    "module load bedtools2\n",
    "\n",
    "cd /data/gersbachlab/lrb53/encodeCrisprWG/lowspecguides/\n",
    "bedtools merge -d 1 -i removelowspec.cutsite.tyckoGATA1krabinterference.deseq2.peakcalls.sorted.hg38.bed > removelowspec.cutsite.tyckoGATA1krabinterference.deseq2.peakcalls.sorted.merge.hg38.bed\n",
    "\n",
    "head -n 1 removelowspec.cutsite.tyckoGATA1krabinterference.deseq2.peakcalls.sorted.merge.hg38.bed\n",
    "wc -l removelowspec.cutsite.tyckoGATA1krabinterference.deseq2.peakcalls.sorted.merge.hg38.bed"
   ]
  },
  {
   "cell_type": "code",
   "execution_count": 5,
   "metadata": {},
   "outputs": [
    {
     "name": "stdout",
     "output_type": "stream",
     "text": [
      "68 /data/gersbachlab/lrb53/encodeCrisprWG/manuscript/deseq2/tyckoGATA1krabinterference.deseq2.peakcalls.sorted.merge.bed\n"
     ]
    }
   ],
   "source": [
    "%%bash\n",
    "wc -l /data/gersbachlab/lrb53/encodeCrisprWG/manuscript/deseq2/tyckoGATA1krabinterference.deseq2.peakcalls.sorted.merge.bed"
   ]
  },
  {
   "cell_type": "markdown",
   "metadata": {},
   "source": [
    "The total peak count reduced from 68 to 21 peaks after removing the low spec guides. This suggests that the aggregation of DESeq2 approach is suspectible to false positives by low spec guides/off-target effects."
   ]
  },
  {
   "cell_type": "code",
   "execution_count": 2,
   "metadata": {},
   "outputs": [
    {
     "name": "stdout",
     "output_type": "stream",
     "text": [
      "chrX\t48749500\t48749700\n",
      "chrX\t48758900\t48759000\n"
     ]
    }
   ],
   "source": [
    "%%bash\n",
    "module load bedtools2\n",
    "\n",
    "bedtools intersect \\\n",
    "-a /data/gersbachlab/lrb53/encodeCrisprWG/lowspecguides/removelowspec.cutsite.tyckoGATA1krabinterference.deseq2.peakcalls.sorted.merge.hg38.bed \\\n",
    "-b /data/gersbachlab/lrb53/encodeCrisprWG/manuscript/deseq2/tyckoGATA1krabinterference.deseq2.peakcalls.sorted.merge.bed \\\n",
    "-v "
   ]
  },
  {
   "cell_type": "markdown",
   "metadata": {},
   "source": [
    "The two regions only identified in the new peak set are proximal to or very near the GLOD5 TSS."
   ]
  },
  {
   "cell_type": "code",
   "execution_count": 3,
   "metadata": {},
   "outputs": [
    {
     "name": "stdout",
     "output_type": "stream",
     "text": [
      "51\n"
     ]
    }
   ],
   "source": [
    "%%bash\n",
    "module load bedtools2\n",
    "\n",
    "bedtools intersect \\\n",
    "-b /data/gersbachlab/lrb53/encodeCrisprWG/lowspecguides/removelowspec.cutsite.tyckoGATA1krabinterference.deseq2.peakcalls.sorted.merge.hg38.bed \\\n",
    "-a /data/gersbachlab/lrb53/encodeCrisprWG/manuscript/deseq2/tyckoGATA1krabinterference.deseq2.peakcalls.sorted.merge.bed \\\n",
    "-v | wc -l "
   ]
  },
  {
   "cell_type": "code",
   "execution_count": null,
   "metadata": {},
   "outputs": [],
   "source": []
  },
  {
   "cell_type": "code",
   "execution_count": null,
   "metadata": {},
   "outputs": [],
   "source": []
  },
  {
   "cell_type": "code",
   "execution_count": null,
   "metadata": {},
   "outputs": [],
   "source": []
  }
 ],
 "metadata": {
  "kernelspec": {
   "display_name": "Python 3",
   "language": "python",
   "name": "python3"
  },
  "language_info": {
   "codemirror_mode": {
    "name": "ipython",
    "version": 3
   },
   "file_extension": ".py",
   "mimetype": "text/x-python",
   "name": "python",
   "nbconvert_exporter": "python",
   "pygments_lexer": "ipython3",
   "version": "3.6.7"
  }
 },
 "nbformat": 4,
 "nbformat_minor": 2
}
