{
 "cells": [
  {
   "cell_type": "markdown",
   "metadata": {},
   "source": [
    "### Load packages"
   ]
  },
  {
   "cell_type": "code",
   "execution_count": 5,
   "metadata": {},
   "outputs": [],
   "source": [
    "suppressPackageStartupMessages(library(tidyverse))"
   ]
  },
  {
   "cell_type": "markdown",
   "metadata": {},
   "source": [
    "### Load count data and prepare for DESeq2"
   ]
  },
  {
   "cell_type": "markdown",
   "metadata": {},
   "source": [
    "#### Load ENCODE guideQuant files, select guideID, type of guide, and read counts\n",
    "\n",
    "The dataframes are named as 'timepoint+effector.replicate#' (ex. CRISPRi Day 21, replicate 1 --> t21i.rep1)."
   ]
  },
  {
   "cell_type": "code",
   "execution_count": 6,
   "metadata": {},
   "outputs": [],
   "source": [
    "plasmid <- read_tsv(\"guidequant/Plasmid_Bassik_guide_quantifications.bed\", col_names = FALSE, show_col_types = FALSE) %>%\n",
    "  mutate(grna_id = X7, type = X16, plasmid = X5) %>%\n",
    "  select(grna_id, type, plasmid) "
   ]
  },
  {
   "cell_type": "code",
   "execution_count": 7,
   "metadata": {},
   "outputs": [
    {
     "data": {
      "text/html": [
       "<table class=\"dataframe\">\n",
       "<caption>A tibble: 3 × 3</caption>\n",
       "<thead>\n",
       "\t<tr><th scope=col>grna_id</th><th scope=col>type</th><th scope=col>plasmid</th></tr>\n",
       "\t<tr><th scope=col>&lt;chr&gt;</th><th scope=col>&lt;chr&gt;</th><th scope=col>&lt;dbl&gt;</th></tr>\n",
       "</thead>\n",
       "<tbody>\n",
       "\t<tr><td>chrX:48686620-48686623</td><td>tiling</td><td>208</td></tr>\n",
       "\t<tr><td>chrX:48686624-48686627</td><td>tiling</td><td>189</td></tr>\n",
       "\t<tr><td>chrX:48686632-48686635</td><td>tiling</td><td>288</td></tr>\n",
       "</tbody>\n",
       "</table>\n"
      ],
      "text/latex": [
       "A tibble: 3 × 3\n",
       "\\begin{tabular}{lll}\n",
       " grna\\_id & type & plasmid\\\\\n",
       " <chr> & <chr> & <dbl>\\\\\n",
       "\\hline\n",
       "\t chrX:48686620-48686623 & tiling & 208\\\\\n",
       "\t chrX:48686624-48686627 & tiling & 189\\\\\n",
       "\t chrX:48686632-48686635 & tiling & 288\\\\\n",
       "\\end{tabular}\n"
      ],
      "text/markdown": [
       "\n",
       "A tibble: 3 × 3\n",
       "\n",
       "| grna_id &lt;chr&gt; | type &lt;chr&gt; | plasmid &lt;dbl&gt; |\n",
       "|---|---|---|\n",
       "| chrX:48686620-48686623 | tiling | 208 |\n",
       "| chrX:48686624-48686627 | tiling | 189 |\n",
       "| chrX:48686632-48686635 | tiling | 288 |\n",
       "\n"
      ],
      "text/plain": [
       "  grna_id                type   plasmid\n",
       "1 chrX:48686620-48686623 tiling 208    \n",
       "2 chrX:48686624-48686627 tiling 189    \n",
       "3 chrX:48686632-48686635 tiling 288    "
      ]
     },
     "metadata": {},
     "output_type": "display_data"
    }
   ],
   "source": [
    "head(plasmid,n=3)"
   ]
  },
  {
   "cell_type": "code",
   "execution_count": 8,
   "metadata": {},
   "outputs": [],
   "source": [
    "t7i <- read_tsv(\"guidequant/T7_I_Bassik_guide_quantifications.bed\", col_names = FALSE, show_col_types = FALSE) %>%\n",
    "  mutate(grna_id = X7, type = X16, t7i = X5) %>%\n",
    "  select(grna_id, type, t7i) "
   ]
  },
  {
   "cell_type": "code",
   "execution_count": 9,
   "metadata": {},
   "outputs": [],
   "source": [
    "t21i.rep1 <- read_tsv(\"guidequant/T21_I_R1_Bassik_guide_quantifications.bed\", col_names = FALSE, show_col_types = FALSE) %>%\n",
    "  mutate(grna_id = X7, type = X16, t21i.rep1 = X5) %>%\n",
    "  select(grna_id, type, t21i.rep1) "
   ]
  },
  {
   "cell_type": "code",
   "execution_count": 10,
   "metadata": {},
   "outputs": [],
   "source": [
    "t21i.rep2 <- read_tsv(\"guidequant/T21_I_R2_Bassik_guide_quantifications.bed\", col_names = FALSE, show_col_types = FALSE) %>%\n",
    "  mutate(grna_id = X7, type = X16, t21i.rep2 = X5) %>%\n",
    "  select(grna_id, type, t21i.rep2) "
   ]
  },
  {
   "cell_type": "markdown",
   "metadata": {},
   "source": [
    "#### Combine replicates into one df"
   ]
  },
  {
   "cell_type": "code",
   "execution_count": 11,
   "metadata": {},
   "outputs": [
    {
     "data": {
      "text/html": [
       "<style>\n",
       ".list-inline {list-style: none; margin:0; padding: 0}\n",
       ".list-inline>li {display: inline-block}\n",
       ".list-inline>li:not(:last-child)::after {content: \"\\00b7\"; padding: 0 .5ex}\n",
       "</style>\n",
       "<ol class=list-inline><li>9977</li><li>6</li></ol>\n"
      ],
      "text/latex": [
       "\\begin{enumerate*}\n",
       "\\item 9977\n",
       "\\item 6\n",
       "\\end{enumerate*}\n"
      ],
      "text/markdown": [
       "1. 9977\n",
       "2. 6\n",
       "\n",
       "\n"
      ],
      "text/plain": [
       "[1] 9977    6"
      ]
     },
     "metadata": {},
     "output_type": "display_data"
    }
   ],
   "source": [
    "df.i <- plasmid %>%\n",
    "  filter(grepl(\"NT\", grna_id) | grepl(\"chr\", grna_id)) %>%\n",
    "  filter(grna_id %in% t7i$grna_id) %>%\n",
    "  left_join(t7i %>% select(-type), by = \"grna_id\") %>%\n",
    "  left_join(t21i.rep1 %>% select(-type), by = \"grna_id\") %>%\n",
    "  left_join(t21i.rep2 %>% select(-type), by = \"grna_id\")\n",
    "\n",
    "dim(df.i) # same number of rows as original replicates"
   ]
  },
  {
   "cell_type": "markdown",
   "metadata": {},
   "source": [
    "#### Check for duplicates (sgRNAs with >1 value for count in at least one replicate)"
   ]
  },
  {
   "cell_type": "code",
   "execution_count": 12,
   "metadata": {},
   "outputs": [
    {
     "data": {
      "text/html": [
       "<table class=\"dataframe\">\n",
       "<caption>A tibble: 0 × 6</caption>\n",
       "<thead>\n",
       "\t<tr><th scope=col>grna_id</th><th scope=col>type</th><th scope=col>plasmid</th><th scope=col>t7i</th><th scope=col>t21i.rep1</th><th scope=col>t21i.rep2</th></tr>\n",
       "\t<tr><th scope=col>&lt;chr&gt;</th><th scope=col>&lt;chr&gt;</th><th scope=col>&lt;dbl&gt;</th><th scope=col>&lt;dbl&gt;</th><th scope=col>&lt;dbl&gt;</th><th scope=col>&lt;dbl&gt;</th></tr>\n",
       "</thead>\n",
       "<tbody>\n",
       "</tbody>\n",
       "</table>\n"
      ],
      "text/latex": [
       "A tibble: 0 × 6\n",
       "\\begin{tabular}{llllll}\n",
       " grna\\_id & type & plasmid & t7i & t21i.rep1 & t21i.rep2\\\\\n",
       " <chr> & <chr> & <dbl> & <dbl> & <dbl> & <dbl>\\\\\n",
       "\\hline\n",
       "\\end{tabular}\n"
      ],
      "text/markdown": [
       "\n",
       "A tibble: 0 × 6\n",
       "\n",
       "| grna_id &lt;chr&gt; | type &lt;chr&gt; | plasmid &lt;dbl&gt; | t7i &lt;dbl&gt; | t21i.rep1 &lt;dbl&gt; | t21i.rep2 &lt;dbl&gt; |\n",
       "|---|---|---|---|---|---|\n",
       "\n"
      ],
      "text/plain": [
       "     grna_id type plasmid t7i t21i.rep1 t21i.rep2"
      ]
     },
     "metadata": {},
     "output_type": "display_data"
    }
   ],
   "source": [
    "df.i[duplicated(df.i$grna_id),]"
   ]
  },
  {
   "cell_type": "markdown",
   "metadata": {},
   "source": [
    "#### Make metadata for DESeq2"
   ]
  },
  {
   "cell_type": "code",
   "execution_count": 13,
   "metadata": {},
   "outputs": [
    {
     "data": {
      "text/html": [
       "<table class=\"dataframe\">\n",
       "<caption>A data.frame: 4 × 2</caption>\n",
       "<thead>\n",
       "\t<tr><th scope=col>sample</th><th scope=col>group</th></tr>\n",
       "\t<tr><th scope=col>&lt;chr&gt;</th><th scope=col>&lt;chr&gt;</th></tr>\n",
       "</thead>\n",
       "<tbody>\n",
       "\t<tr><td>plasmid  </td><td>plasmid</td></tr>\n",
       "\t<tr><td>t7i      </td><td>day7   </td></tr>\n",
       "\t<tr><td>t21i.rep1</td><td>day21  </td></tr>\n",
       "\t<tr><td>t21i.rep2</td><td>day21  </td></tr>\n",
       "</tbody>\n",
       "</table>\n"
      ],
      "text/latex": [
       "A data.frame: 4 × 2\n",
       "\\begin{tabular}{ll}\n",
       " sample & group\\\\\n",
       " <chr> & <chr>\\\\\n",
       "\\hline\n",
       "\t plasmid   & plasmid\\\\\n",
       "\t t7i       & day7   \\\\\n",
       "\t t21i.rep1 & day21  \\\\\n",
       "\t t21i.rep2 & day21  \\\\\n",
       "\\end{tabular}\n"
      ],
      "text/markdown": [
       "\n",
       "A data.frame: 4 × 2\n",
       "\n",
       "| sample &lt;chr&gt; | group &lt;chr&gt; |\n",
       "|---|---|\n",
       "| plasmid   | plasmid |\n",
       "| t7i       | day7    |\n",
       "| t21i.rep1 | day21   |\n",
       "| t21i.rep2 | day21   |\n",
       "\n"
      ],
      "text/plain": [
       "  sample    group  \n",
       "1 plasmid   plasmid\n",
       "2 t7i       day7   \n",
       "3 t21i.rep1 day21  \n",
       "4 t21i.rep2 day21  "
      ]
     },
     "metadata": {},
     "output_type": "display_data"
    }
   ],
   "source": [
    "samples.i <- colnames(df.i %>% select(-grna_id, -type))\n",
    "meta.i <- data.frame(sample = samples.i, group = c(\"plasmid\",\"day7\",\"day21\",\"day21\"))\n",
    "meta.i"
   ]
  },
  {
   "cell_type": "markdown",
   "metadata": {},
   "source": [
    "#### Prepare counts and metadata for summarized experiment"
   ]
  },
  {
   "cell_type": "code",
   "execution_count": 14,
   "metadata": {},
   "outputs": [],
   "source": [
    "df.i.clean <- as.matrix(df.i %>% select(-type, -grna_id))\n",
    "row.names(df.i.clean) <- df.i$grna_id\n",
    "coldata.i <- meta.i[,c(\"sample\",\"group\")]"
   ]
  },
  {
   "cell_type": "markdown",
   "metadata": {},
   "source": [
    "### Run DESeq2"
   ]
  },
  {
   "cell_type": "code",
   "execution_count": 15,
   "metadata": {},
   "outputs": [],
   "source": [
    "suppressPackageStartupMessages(library(DESeq2))"
   ]
  },
  {
   "cell_type": "markdown",
   "metadata": {},
   "source": [
    "#### Make DESeq2 summarized experiment"
   ]
  },
  {
   "cell_type": "code",
   "execution_count": 16,
   "metadata": {},
   "outputs": [
    {
     "name": "stderr",
     "output_type": "stream",
     "text": [
      "converting counts to integer mode\n",
      "\n",
      "Warning message in DESeqDataSet(se, design = design, ignoreRank):\n",
      "“some variables in design formula are characters, converting to factors”\n"
     ]
    }
   ],
   "source": [
    "se.i <- DESeqDataSetFromMatrix(\n",
    "  countData = df.i.clean,\n",
    "  colData = coldata.i,\n",
    "  design = ~ group\n",
    ")"
   ]
  },
  {
   "cell_type": "markdown",
   "metadata": {},
   "source": [
    "#### Run DESeq2"
   ]
  },
  {
   "cell_type": "code",
   "execution_count": 17,
   "metadata": {},
   "outputs": [
    {
     "name": "stderr",
     "output_type": "stream",
     "text": [
      "estimating size factors\n",
      "\n",
      "estimating dispersions\n",
      "\n",
      "gene-wise dispersion estimates\n",
      "\n",
      "mean-dispersion relationship\n",
      "\n",
      "-- note: fitType='parametric', but the dispersion trend was not well captured by the\n",
      "   function: y = a/x + b, and a local regression fit was automatically substituted.\n",
      "   specify fitType='local' or 'mean' to avoid this message next time.\n",
      "\n",
      "final dispersion estimates\n",
      "\n",
      "fitting model and testing\n",
      "\n"
     ]
    }
   ],
   "source": [
    "dds.i <- DESeq(se.i)"
   ]
  },
  {
   "cell_type": "markdown",
   "metadata": {},
   "source": [
    "#### Generate results object"
   ]
  },
  {
   "cell_type": "code",
   "execution_count": 18,
   "metadata": {},
   "outputs": [],
   "source": [
    "res.i.plasmidvsd7 <- results(dds.i, contrast = c(\"group\",\"day7\",\"plasmid\"))\n",
    "res.i.plasmidvsd21 <- results(dds.i, contrast = c(\"group\",\"day21\",\"plasmid\")) \n",
    "res.i.d7vsd21 <- results(dds.i, contrast = c(\"group\",\"day21\",\"day7\")) "
   ]
  },
  {
   "cell_type": "markdown",
   "metadata": {},
   "source": [
    "#### Summary of results"
   ]
  },
  {
   "cell_type": "code",
   "execution_count": 19,
   "metadata": {},
   "outputs": [
    {
     "name": "stdout",
     "output_type": "stream",
     "text": [
      "\n",
      "out of 9977 with nonzero total read count\n",
      "adjusted p-value < 0.1\n",
      "LFC > 0 (up)       : 0, 0%\n",
      "LFC < 0 (down)     : 33, 0.33%\n",
      "outliers [1]       : 0, 0%\n",
      "low counts [2]     : 0, 0%\n",
      "(mean count < 6)\n",
      "[1] see 'cooksCutoff' argument of ?results\n",
      "[2] see 'independentFiltering' argument of ?results\n",
      "\n"
     ]
    }
   ],
   "source": [
    "summary(res.i.plasmidvsd7)"
   ]
  },
  {
   "cell_type": "code",
   "execution_count": 20,
   "metadata": {},
   "outputs": [
    {
     "name": "stdout",
     "output_type": "stream",
     "text": [
      "\n",
      "out of 9977 with nonzero total read count\n",
      "adjusted p-value < 0.1\n",
      "LFC > 0 (up)       : 11, 0.11%\n",
      "LFC < 0 (down)     : 479, 4.8%\n",
      "outliers [1]       : 0, 0%\n",
      "low counts [2]     : 0, 0%\n",
      "(mean count < 6)\n",
      "[1] see 'cooksCutoff' argument of ?results\n",
      "[2] see 'independentFiltering' argument of ?results\n",
      "\n"
     ]
    }
   ],
   "source": [
    "summary(res.i.plasmidvsd21)"
   ]
  },
  {
   "cell_type": "code",
   "execution_count": 21,
   "metadata": {},
   "outputs": [
    {
     "name": "stdout",
     "output_type": "stream",
     "text": [
      "\n",
      "out of 9977 with nonzero total read count\n",
      "adjusted p-value < 0.1\n",
      "LFC > 0 (up)       : 2, 0.02%\n",
      "LFC < 0 (down)     : 295, 3%\n",
      "outliers [1]       : 0, 0%\n",
      "low counts [2]     : 0, 0%\n",
      "(mean count < 6)\n",
      "[1] see 'cooksCutoff' argument of ?results\n",
      "[2] see 'independentFiltering' argument of ?results\n",
      "\n"
     ]
    }
   ],
   "source": [
    "summary(res.i.d7vsd21)"
   ]
  },
  {
   "cell_type": "markdown",
   "metadata": {},
   "source": [
    "#### Add grna_id to DESeq2 results"
   ]
  },
  {
   "cell_type": "code",
   "execution_count": 23,
   "metadata": {},
   "outputs": [],
   "source": [
    "krab.plasmid.d7 <- as.data.frame(res.i.plasmidvsd7, row.names = NULL)\n",
    "krab.plasmid.d7$grna_id <- rownames(res.i.plasmidvsd7)\n",
    "krab.plasmid.d7 <- krab.plasmid.d7 %>% left_join(plasmid %>% select(grna_id, type) %>% distinct(), by = \"grna_id\")\n",
    "\n",
    "krab.plasmid.d21 <- as.data.frame(res.i.plasmidvsd21, row.names = NULL)\n",
    "krab.plasmid.d21$grna_id <- rownames(res.i.plasmidvsd21)\n",
    "krab.plasmid.d21 <- krab.plasmid.d21 %>% left_join(plasmid %>% select(grna_id, type) %>% distinct(), by = \"grna_id\")\n",
    "\n",
    "krab.d7d21 <- as.data.frame(res.i.d7vsd21, row.names = NULL)\n",
    "krab.d7d21$grna_id <- rownames(res.i.d7vsd21)\n",
    "krab.d7d21 <- krab.d7d21 %>% left_join(plasmid %>% select(grna_id, type) %>% distinct(), by = \"grna_id\")"
   ]
  },
  {
   "cell_type": "markdown",
   "metadata": {},
   "source": [
    "#### Save results\n",
    "Combine contrast results into one df for each type of screen"
   ]
  },
  {
   "cell_type": "code",
   "execution_count": 24,
   "metadata": {},
   "outputs": [],
   "source": [
    "krab.res <- \n",
    "  krab.plasmid.d7 %>%\n",
    "  dplyr::rename_with(~ paste(\"d7.vs.plasmid\", .x, sep = \".\"), baseMean:padj) %>%\n",
    "  left_join(\n",
    "    krab.plasmid.d21 %>%\n",
    "      rename_with(~ paste(\"d21.vs.plasmid\", .x, sep = \".\"), baseMean:padj),\n",
    "    by = c(\"grna_id\",\"type\"))  %>%\n",
    "  left_join(\n",
    "    krab.d7d21 %>%\n",
    "      rename_with(~ paste(\"d21.vs.d7\", .x, sep = \".\"), baseMean:padj),\n",
    "    by = c(\"grna_id\",\"type\"))  %>%\n",
    "  dplyr::select(grna_id, type, d7.vs.plasmid.baseMean:d7.vs.plasmid.padj, d7.vs.plasmid.baseMean:d21.vs.d7.padj)"
   ]
  },
  {
   "cell_type": "code",
   "execution_count": 25,
   "metadata": {},
   "outputs": [],
   "source": [
    "write_tsv(krab.res, \"deseq2_results/tyckoGATA1krabinterference.deseq2.results.tsv\", col_names = TRUE)"
   ]
  },
  {
   "cell_type": "markdown",
   "metadata": {},
   "source": [
    "### Visualization and QC"
   ]
  },
  {
   "cell_type": "code",
   "execution_count": 26,
   "metadata": {},
   "outputs": [
    {
     "name": "stderr",
     "output_type": "stream",
     "text": [
      "-- note: fitType='parametric', but the dispersion trend was not well captured by the\n",
      "   function: y = a/x + b, and a local regression fit was automatically substituted.\n",
      "   specify fitType='local' or 'mean' to avoid this message next time.\n",
      "\n"
     ]
    }
   ],
   "source": [
    "vsd <- vst(dds.i, blind = FALSE)\n",
    "rld <- rlog(dds.i, blind = FALSE)\n",
    "ntd <- normTransform(dds.i) # this gives log2(n+1)"
   ]
  },
  {
   "cell_type": "code",
   "execution_count": 29,
   "metadata": {},
   "outputs": [],
   "source": [
    "# meanSdPlot(assay(ntd))"
   ]
  },
  {
   "cell_type": "code",
   "execution_count": 30,
   "metadata": {},
   "outputs": [],
   "source": [
    "# meanSdPlot(assay(vsd))"
   ]
  },
  {
   "cell_type": "code",
   "execution_count": 31,
   "metadata": {},
   "outputs": [],
   "source": [
    "# meanSdPlot(assay(rld))"
   ]
  },
  {
   "cell_type": "code",
   "execution_count": 32,
   "metadata": {},
   "outputs": [
    {
     "data": {
      "image/png": "[encoded data removed]",
      "text/plain": [
       "plot without title"
      ]
     },
     "metadata": {
      "image/png": {
       "height": 420,
       "width": 420
      }
     },
     "output_type": "display_data"
    }
   ],
   "source": [
    "plotPCA(vsd, intgroup=c(\"sample\", \"group\"))"
   ]
  },
  {
   "cell_type": "code",
   "execution_count": 33,
   "metadata": {},
   "outputs": [
    {
     "ename": "ERROR",
     "evalue": "Error in h(simpleError(msg, call)): error in evaluating the argument 'x' in selecting a method for function 'rev': could not find function \"brewer.pal\"\n",
     "output_type": "error",
     "traceback": [
      "Error in h(simpleError(msg, call)): error in evaluating the argument 'x' in selecting a method for function 'rev': could not find function \"brewer.pal\"\nTraceback:\n",
      "1. colorRampPalette(rev(brewer.pal(9, \"Blues\")))",
      "2. colorRamp(colors, ...)",
      "3. t(col2rgb(colors, alpha = alpha)/255)",
      "4. col2rgb(colors, alpha = alpha)",
      "5. as.character(col) %in% \"0\"",
      "6. rev(brewer.pal(9, \"Blues\"))",
      "7. .handleSimpleError(function (cond) \n . .Internal(C_tryCatchHelper(addr, 1L, cond)), \"could not find function \\\"brewer.pal\\\"\", \n .     base::quote(brewer.pal(9, \"Blues\")))",
      "8. h(simpleError(msg, call))"
     ]
    }
   ],
   "source": [
    "# sampleDists <- dist(t(assay(vsd)))\n",
    "# sampleDistMatrix <- as.matrix(sampleDists)\n",
    "# rownames(sampleDistMatrix) <- paste(vsd$sample, vsd$type, sep=\"-\")\n",
    "# colnames(sampleDistMatrix) <- paste(vsd$sample, vsd$type, sep=\"-\") # change to 'NULL' to get rid of bottom labels\n",
    "# colors <- colorRampPalette(rev(brewer.pal(9, \"Blues\")))(255)\n",
    "# pheatmap(sampleDistMatrix,\n",
    "#          clustering_distance_rows=sampleDists,\n",
    "#          clustering_distance_cols=sampleDists,\n",
    "#          col=colors,\n",
    "#          main = \"Tycko GATA1 CRISPR interference screen\")"
   ]
  },
  {
   "cell_type": "code",
   "execution_count": null,
   "metadata": {},
   "outputs": [],
   "source": []
  }
 ],
 "metadata": {
  "kernelspec": {
   "display_name": "R 4.1",
   "language": "R",
   "name": "ir41"
  },
  "language_info": {
   "codemirror_mode": "r",
   "file_extension": ".r",
   "mimetype": "text/x-r-source",
   "name": "R",
   "pygments_lexer": "r",
   "version": "4.1.3"
  }
 },
 "nbformat": 4,
 "nbformat_minor": 2
}
