{
 "cells": [
  {
   "cell_type": "markdown",
   "metadata": {},
   "source": [
    "## Remove most significant gRNA per bin, then redo peak calling"
   ]
  },
  {
   "cell_type": "code",
   "execution_count": 1,
   "metadata": {},
   "outputs": [],
   "source": [
    "suppressPackageStartupMessages(library(tidyverse))"
   ]
  },
  {
   "cell_type": "markdown",
   "metadata": {},
   "source": [
    "### Aggregate sgRNA-level effects to call \"peaks\""
   ]
  },
  {
   "cell_type": "markdown",
   "metadata": {},
   "source": [
    "#### Define fisher's method to aggregate p values\n",
    " - https://mikelove.wordpress.com/2012/03/12/combining-p-values-fishers-method-sum-of-p-values-binomial/\n",
    " - https://www.biostars.org/p/211307/"
   ]
  },
  {
   "cell_type": "code",
   "execution_count": 2,
   "metadata": {},
   "outputs": [],
   "source": [
    "fishersMethod = function(x) pchisq(-2 * sum(log(x)),df=2*length(x),lower=FALSE)"
   ]
  },
  {
   "cell_type": "markdown",
   "metadata": {},
   "source": [
    "#### Re-load results (if needed)"
   ]
  },
  {
   "cell_type": "code",
   "execution_count": 3,
   "metadata": {},
   "outputs": [
    {
     "data": {
      "text/html": [
       "<table class=\"dataframe\">\n",
       "<caption>A tibble: 1 × 8</caption>\n",
       "<thead>\n",
       "\t<tr><th scope=col>grna_id</th><th scope=col>type</th><th scope=col>d21.vs.plasmid.baseMean</th><th scope=col>d21.vs.plasmid.log2FoldChange</th><th scope=col>d21.vs.plasmid.lfcSE</th><th scope=col>d21.vs.plasmid.stat</th><th scope=col>d21.vs.plasmid.pvalue</th><th scope=col>d21.vs.plasmid.padj</th></tr>\n",
       "\t<tr><th scope=col>&lt;chr&gt;</th><th scope=col>&lt;chr&gt;</th><th scope=col>&lt;dbl&gt;</th><th scope=col>&lt;dbl&gt;</th><th scope=col>&lt;dbl&gt;</th><th scope=col>&lt;dbl&gt;</th><th scope=col>&lt;dbl&gt;</th><th scope=col>&lt;dbl&gt;</th></tr>\n",
       "</thead>\n",
       "<tbody>\n",
       "\t<tr><td>chrX:48686632-48686635</td><td>tiling</td><td>230.629</td><td>-0.438347</td><td>0.3389427</td><td>-1.293278</td><td>0.195915</td><td>0.9999433</td></tr>\n",
       "</tbody>\n",
       "</table>\n"
      ],
      "text/latex": [
       "A tibble: 1 × 8\n",
       "\\begin{tabular}{llllllll}\n",
       " grna\\_id & type & d21.vs.plasmid.baseMean & d21.vs.plasmid.log2FoldChange & d21.vs.plasmid.lfcSE & d21.vs.plasmid.stat & d21.vs.plasmid.pvalue & d21.vs.plasmid.padj\\\\\n",
       " <chr> & <chr> & <dbl> & <dbl> & <dbl> & <dbl> & <dbl> & <dbl>\\\\\n",
       "\\hline\n",
       "\t chrX:48686632-48686635 & tiling & 230.629 & -0.438347 & 0.3389427 & -1.293278 & 0.195915 & 0.9999433\\\\\n",
       "\\end{tabular}\n"
      ],
      "text/markdown": [
       "\n",
       "A tibble: 1 × 8\n",
       "\n",
       "| grna_id &lt;chr&gt; | type &lt;chr&gt; | d21.vs.plasmid.baseMean &lt;dbl&gt; | d21.vs.plasmid.log2FoldChange &lt;dbl&gt; | d21.vs.plasmid.lfcSE &lt;dbl&gt; | d21.vs.plasmid.stat &lt;dbl&gt; | d21.vs.plasmid.pvalue &lt;dbl&gt; | d21.vs.plasmid.padj &lt;dbl&gt; |\n",
       "|---|---|---|---|---|---|---|---|\n",
       "| chrX:48686632-48686635 | tiling | 230.629 | -0.438347 | 0.3389427 | -1.293278 | 0.195915 | 0.9999433 |\n",
       "\n"
      ],
      "text/plain": [
       "  grna_id                type   d21.vs.plasmid.baseMean\n",
       "1 chrX:48686632-48686635 tiling 230.629                \n",
       "  d21.vs.plasmid.log2FoldChange d21.vs.plasmid.lfcSE d21.vs.plasmid.stat\n",
       "1 -0.438347                     0.3389427            -1.293278          \n",
       "  d21.vs.plasmid.pvalue d21.vs.plasmid.padj\n",
       "1 0.195915              0.9999433          "
      ]
     },
     "metadata": {},
     "output_type": "display_data"
    },
    {
     "data": {
      "text/html": [
       "<style>\n",
       ".list-inline {list-style: none; margin:0; padding: 0}\n",
       ".list-inline>li {display: inline-block}\n",
       ".list-inline>li:not(:last-child)::after {content: \"\\00b7\"; padding: 0 .5ex}\n",
       "</style>\n",
       "<ol class=list-inline><li>4908</li><li>8</li></ol>\n"
      ],
      "text/latex": [
       "\\begin{enumerate*}\n",
       "\\item 4908\n",
       "\\item 8\n",
       "\\end{enumerate*}\n"
      ],
      "text/markdown": [
       "1. 4908\n",
       "2. 8\n",
       "\n",
       "\n"
      ],
      "text/plain": [
       "[1] 4908    8"
      ]
     },
     "metadata": {},
     "output_type": "display_data"
    }
   ],
   "source": [
    "krab.res <- read_tsv(\"deseq2_results/removelowspec.tyckoGATA1krabinterference.deseq2.results.tsv\",\n",
    "                    show_col_types=FALSE)\n",
    "head(krab.res,n=1)\n",
    "dim(krab.res)"
   ]
  },
  {
   "cell_type": "markdown",
   "metadata": {},
   "source": [
    "#### Load output of bedtools intersect \n",
    "\n",
    "Defines \"bins\" and which sgRNAs belong to each bin after adjusting for perturbation modality."
   ]
  },
  {
   "cell_type": "code",
   "execution_count": 4,
   "metadata": {},
   "outputs": [
    {
     "data": {
      "text/html": [
       "<table class=\"dataframe\">\n",
       "<caption>A data.frame: 1 × 8</caption>\n",
       "<thead>\n",
       "\t<tr><th></th><th scope=col>grna.chrom</th><th scope=col>grna.start</th><th scope=col>grna.end</th><th scope=col>grna_id</th><th scope=col>bin.chr</th><th scope=col>bin.start</th><th scope=col>bin.end</th><th scope=col>bin</th></tr>\n",
       "\t<tr><th></th><th scope=col>&lt;chr&gt;</th><th scope=col>&lt;int&gt;</th><th scope=col>&lt;int&gt;</th><th scope=col>&lt;chr&gt;</th><th scope=col>&lt;chr&gt;</th><th scope=col>&lt;int&gt;</th><th scope=col>&lt;int&gt;</th><th scope=col>&lt;chr&gt;</th></tr>\n",
       "</thead>\n",
       "<tbody>\n",
       "\t<tr><th scope=row>1</th><td>chrX</td><td>48686619</td><td>48686621</td><td>chrX:48686620-48686623</td><td>chrX</td><td>48686400</td><td>48686500</td><td>chrX:48686400-48686500</td></tr>\n",
       "</tbody>\n",
       "</table>\n"
      ],
      "text/latex": [
       "A data.frame: 1 × 8\n",
       "\\begin{tabular}{r|llllllll}\n",
       "  & grna.chrom & grna.start & grna.end & grna\\_id & bin.chr & bin.start & bin.end & bin\\\\\n",
       "  & <chr> & <int> & <int> & <chr> & <chr> & <int> & <int> & <chr>\\\\\n",
       "\\hline\n",
       "\t1 & chrX & 48686619 & 48686621 & chrX:48686620-48686623 & chrX & 48686400 & 48686500 & chrX:48686400-48686500\\\\\n",
       "\\end{tabular}\n"
      ],
      "text/markdown": [
       "\n",
       "A data.frame: 1 × 8\n",
       "\n",
       "| <!--/--> | grna.chrom &lt;chr&gt; | grna.start &lt;int&gt; | grna.end &lt;int&gt; | grna_id &lt;chr&gt; | bin.chr &lt;chr&gt; | bin.start &lt;int&gt; | bin.end &lt;int&gt; | bin &lt;chr&gt; |\n",
       "|---|---|---|---|---|---|---|---|---|\n",
       "| 1 | chrX | 48686619 | 48686621 | chrX:48686620-48686623 | chrX | 48686400 | 48686500 | chrX:48686400-48686500 |\n",
       "\n"
      ],
      "text/plain": [
       "  grna.chrom grna.start grna.end grna_id                bin.chr bin.start\n",
       "1 chrX       48686619   48686621 chrX:48686620-48686623 chrX    48686400 \n",
       "  bin.end  bin                   \n",
       "1 48686500 chrX:48686400-48686500"
      ]
     },
     "metadata": {},
     "output_type": "display_data"
    },
    {
     "data": {
      "text/html": [
       "<style>\n",
       ".list-inline {list-style: none; margin:0; padding: 0}\n",
       ".list-inline>li {display: inline-block}\n",
       ".list-inline>li:not(:last-child)::after {content: \"\\00b7\"; padding: 0 .5ex}\n",
       "</style>\n",
       "<ol class=list-inline><li>36197</li><li>8</li></ol>\n"
      ],
      "text/latex": [
       "\\begin{enumerate*}\n",
       "\\item 36197\n",
       "\\item 8\n",
       "\\end{enumerate*}\n"
      ],
      "text/markdown": [
       "1. 36197\n",
       "2. 8\n",
       "\n",
       "\n"
      ],
      "text/plain": [
       "[1] 36197     8"
      ]
     },
     "metadata": {},
     "output_type": "display_data"
    }
   ],
   "source": [
    "peaks <- read.delim(\"grna_library/cutsite.tycko.krab.100step.bed\", header = FALSE, \n",
    "                    col.names = c(\"grna.chrom\",\"grna.start\",\"grna.end\",\"grna_id\",\"bin.chr\",\"bin.start\",\"bin.end\")) %>%\n",
    "  mutate(bin = paste0(bin.chr,\":\",bin.start,\"-\",bin.end))\n",
    "\n",
    "head(peaks,n=1)\n",
    "dim(peaks)"
   ]
  },
  {
   "cell_type": "markdown",
   "metadata": {},
   "source": [
    "#### Subset DESeq2 results for only targeting sgRNAs"
   ]
  },
  {
   "cell_type": "code",
   "execution_count": 5,
   "metadata": {},
   "outputs": [
    {
     "data": {
      "text/html": [
       "<table class=\"dataframe\">\n",
       "<caption>A tibble: 1 × 8</caption>\n",
       "<thead>\n",
       "\t<tr><th scope=col>grna_id</th><th scope=col>type</th><th scope=col>d21.vs.plasmid.baseMean</th><th scope=col>d21.vs.plasmid.log2FoldChange</th><th scope=col>d21.vs.plasmid.lfcSE</th><th scope=col>d21.vs.plasmid.stat</th><th scope=col>d21.vs.plasmid.pvalue</th><th scope=col>d21.vs.plasmid.padj</th></tr>\n",
       "\t<tr><th scope=col>&lt;chr&gt;</th><th scope=col>&lt;chr&gt;</th><th scope=col>&lt;dbl&gt;</th><th scope=col>&lt;dbl&gt;</th><th scope=col>&lt;dbl&gt;</th><th scope=col>&lt;dbl&gt;</th><th scope=col>&lt;dbl&gt;</th><th scope=col>&lt;dbl&gt;</th></tr>\n",
       "</thead>\n",
       "<tbody>\n",
       "\t<tr><td>chrX:48686632-48686635</td><td>tiling</td><td>230.629</td><td>-0.438347</td><td>0.3389427</td><td>-1.293278</td><td>0.195915</td><td>0.9999433</td></tr>\n",
       "</tbody>\n",
       "</table>\n"
      ],
      "text/latex": [
       "A tibble: 1 × 8\n",
       "\\begin{tabular}{llllllll}\n",
       " grna\\_id & type & d21.vs.plasmid.baseMean & d21.vs.plasmid.log2FoldChange & d21.vs.plasmid.lfcSE & d21.vs.plasmid.stat & d21.vs.plasmid.pvalue & d21.vs.plasmid.padj\\\\\n",
       " <chr> & <chr> & <dbl> & <dbl> & <dbl> & <dbl> & <dbl> & <dbl>\\\\\n",
       "\\hline\n",
       "\t chrX:48686632-48686635 & tiling & 230.629 & -0.438347 & 0.3389427 & -1.293278 & 0.195915 & 0.9999433\\\\\n",
       "\\end{tabular}\n"
      ],
      "text/markdown": [
       "\n",
       "A tibble: 1 × 8\n",
       "\n",
       "| grna_id &lt;chr&gt; | type &lt;chr&gt; | d21.vs.plasmid.baseMean &lt;dbl&gt; | d21.vs.plasmid.log2FoldChange &lt;dbl&gt; | d21.vs.plasmid.lfcSE &lt;dbl&gt; | d21.vs.plasmid.stat &lt;dbl&gt; | d21.vs.plasmid.pvalue &lt;dbl&gt; | d21.vs.plasmid.padj &lt;dbl&gt; |\n",
       "|---|---|---|---|---|---|---|---|\n",
       "| chrX:48686632-48686635 | tiling | 230.629 | -0.438347 | 0.3389427 | -1.293278 | 0.195915 | 0.9999433 |\n",
       "\n"
      ],
      "text/plain": [
       "  grna_id                type   d21.vs.plasmid.baseMean\n",
       "1 chrX:48686632-48686635 tiling 230.629                \n",
       "  d21.vs.plasmid.log2FoldChange d21.vs.plasmid.lfcSE d21.vs.plasmid.stat\n",
       "1 -0.438347                     0.3389427            -1.293278          \n",
       "  d21.vs.plasmid.pvalue d21.vs.plasmid.padj\n",
       "1 0.195915              0.9999433          "
      ]
     },
     "metadata": {},
     "output_type": "display_data"
    },
    {
     "data": {
      "text/html": [
       "<style>\n",
       ".list-inline {list-style: none; margin:0; padding: 0}\n",
       ".list-inline>li {display: inline-block}\n",
       ".list-inline>li:not(:last-child)::after {content: \"\\00b7\"; padding: 0 .5ex}\n",
       "</style>\n",
       "<ol class=list-inline><li>4906</li><li>8</li></ol>\n"
      ],
      "text/latex": [
       "\\begin{enumerate*}\n",
       "\\item 4906\n",
       "\\item 8\n",
       "\\end{enumerate*}\n"
      ],
      "text/markdown": [
       "1. 4906\n",
       "2. 8\n",
       "\n",
       "\n"
      ],
      "text/plain": [
       "[1] 4906    8"
      ]
     },
     "metadata": {},
     "output_type": "display_data"
    }
   ],
   "source": [
    "pam <- krab.res %>%\n",
    "  filter(type == \"tiling\")\n",
    "\n",
    "head(pam,n=1)\n",
    "dim(pam)"
   ]
  },
  {
   "cell_type": "markdown",
   "metadata": {},
   "source": [
    "### Remove most significant sgRNA per bin, then redo peak calling\n",
    "\n",
    "We noticed that DESeq2 had the most unique peak calls. The unique peak calls could be driven by a single sgRNA within a bin due to how the p-value of the bin was calculated. To test this, we want to remove the most significant sgRNA per bin, then recalculate the bin statistics."
   ]
  },
  {
   "cell_type": "code",
   "execution_count": 70,
   "metadata": {},
   "outputs": [
    {
     "name": "stderr",
     "output_type": "stream",
     "text": [
      "\u001b[1m\u001b[22m`summarise()` has grouped output by 'bin'. You can override using the `.groups`\n",
      "argument.\n"
     ]
    },
    {
     "data": {
      "text/html": [
       "107"
      ],
      "text/latex": [
       "107"
      ],
      "text/markdown": [
       "107"
      ],
      "text/plain": [
       "[1] 107"
      ]
     },
     "metadata": {},
     "output_type": "display_data"
    }
   ],
   "source": [
    "pam %>%\n",
    "  left_join(peaks, by = \"grna_id\") %>%\n",
    "  filter(grepl(\"chrX\",bin)) %>%\n",
    "group_by(bin) %>%\n",
    "mutate(grna_count = n()) %>%\n",
    "top_n(n = first(grna_count - 1), d21.vs.plasmid.pvalue) %>%\n",
    "mutate(new_count = n()) %>%\n",
    "# arrange(bin, d21.vs.plasmid.pvalue) %>%\n",
    "summarise(n = n(),\n",
    "          fisher = fishersMethod(d21.vs.plasmid.pvalue), # Sager says use un-adjusted DESeq2 p-values here\n",
    "          mean_logfc = mean(abs(d21.vs.plasmid.log2FoldChange)),\n",
    "          max_logfc = max(abs(d21.vs.plasmid.log2FoldChange)),\n",
    "          bin.mid = (bin.end+bin.start)/2) %>%\n",
    "select(bin, bin.mid, mean_logfc, max_logfc, fisher, n) %>%\n",
    "ungroup() %>%\n",
    "distinct() %>%\n",
    "mutate(fdr = p.adjust(fisher, method = \"fdr\")) %>% # then correct for the number of comparisons here\n",
    "mutate(sep = bin, \n",
    "       sig = -log10(fdr)) %>%\n",
    "separate(sep, into = c(\"chrom\",\"start\",\"end\")) %>%\n",
    "select(chrom, start, end, bin:sig) %>%\n",
    "filter(fdr < 0.1) %>%\n",
    "select(bin) %>%\n",
    "distinct() %>%\n",
    "count() %>% pull()"
   ]
  },
  {
   "cell_type": "markdown",
   "metadata": {},
   "source": [
    "#### Generate final \"peak\" calls by merging adjacent bins (after removing the most significant gRNA per bin)"
   ]
  },
  {
   "cell_type": "code",
   "execution_count": 6,
   "metadata": {
    "scrolled": true
   },
   "outputs": [
    {
     "name": "stderr",
     "output_type": "stream",
     "text": [
      "\u001b[1m\u001b[22m`summarise()` has grouped output by 'bin'. You can override using the `.groups`\n",
      "argument.\n"
     ]
    }
   ],
   "source": [
    "pam %>%\n",
    "  left_join(peaks, by = \"grna_id\") %>%\n",
    "  filter(grepl(\"chrX\",bin)) %>%\n",
    "group_by(bin) %>%\n",
    "mutate(grna_count = n()) %>%\n",
    "top_n(n = first(grna_count - 1), d21.vs.plasmid.pvalue) %>%\n",
    "mutate(new_count = n()) %>%\n",
    "# arrange(bin, d21.vs.plasmid.pvalue) %>%\n",
    "summarise(n = n(),\n",
    "          fisher = fishersMethod(d21.vs.plasmid.pvalue), # Sager says use un-adjusted DESeq2 p-values here\n",
    "          mean_logfc = mean(abs(d21.vs.plasmid.log2FoldChange)),\n",
    "          max_logfc = max(abs(d21.vs.plasmid.log2FoldChange)),\n",
    "          bin.mid = (bin.end+bin.start)/2) %>%\n",
    "select(bin, bin.mid, mean_logfc, max_logfc, fisher, n) %>%\n",
    "ungroup() %>%\n",
    "distinct() %>%\n",
    "mutate(fdr = p.adjust(fisher, method = \"fdr\")) %>% # then correct for the number of comparisons here\n",
    "mutate(sep = bin, \n",
    "       sig = -log10(fdr)) %>%\n",
    "separate(sep, into = c(\"chrom\",\"start\",\"end\")) %>%\n",
    "select(chrom, start, end, bin:sig) %>%\n",
    "filter(fdr < 0.1) %>%\n",
    "select(chrom, start, end) %>%\n",
    "distinct() %>%\n",
    "write.table(\"/data/gersbachlab/lrb53/encodeCrisprWG/finalversion/figure4/deseq2_peakcalls/removelowspec.removeMostSigGrna.cutsite.tyckoGATA1krabinterference.deseq2.peakcalls.fdr01.hg38.bed\",\n",
    "            col.names = FALSE, row.names = FALSE, quote = FALSE, sep = \"\\t\")"
   ]
  },
  {
   "cell_type": "markdown",
   "metadata": {},
   "source": [
    "### Switch to `python` kernel"
   ]
  },
  {
   "cell_type": "markdown",
   "metadata": {},
   "source": [
    "#### Sort bins and then merge adjacent bins to generate final peak calls"
   ]
  },
  {
   "cell_type": "code",
   "execution_count": 1,
   "metadata": {},
   "outputs": [
    {
     "name": "stdout",
     "output_type": "stream",
     "text": [
      "chrX\t48782600\t48782700\n",
      "107 deseq2_peakcalls/removelowspec.removeMostSigGrna.cutsite.tyckoGATA1krabinterference.deseq2.peakcalls.fdr01.hg38.bed\n"
     ]
    }
   ],
   "source": [
    "%%bash\n",
    "head -n 1 deseq2_peakcalls/removelowspec.removeMostSigGrna.cutsite.tyckoGATA1krabinterference.deseq2.peakcalls.fdr01.hg38.bed\n",
    "wc -l deseq2_peakcalls/removelowspec.removeMostSigGrna.cutsite.tyckoGATA1krabinterference.deseq2.peakcalls.fdr01.hg38.bed"
   ]
  },
  {
   "cell_type": "code",
   "execution_count": 2,
   "metadata": {},
   "outputs": [
    {
     "name": "stdout",
     "output_type": "stream",
     "text": [
      "chrX\t48782600\t48782700\n",
      "107 deseq2_peakcalls/removelowspec.removeMostSigGrna.cutsite.tyckoGATA1krabinterference.deseq2.peakcalls.fdr01.sorted.hg38.bed\n"
     ]
    }
   ],
   "source": [
    "%%bash\n",
    "\n",
    "sort -k1,1 -k2,2n deseq2_peakcalls/removelowspec.removeMostSigGrna.cutsite.tyckoGATA1krabinterference.deseq2.peakcalls.fdr01.hg38.bed > deseq2_peakcalls/removelowspec.removeMostSigGrna.cutsite.tyckoGATA1krabinterference.deseq2.peakcalls.fdr01.sorted.hg38.bed\n",
    "head -n1 deseq2_peakcalls/removelowspec.removeMostSigGrna.cutsite.tyckoGATA1krabinterference.deseq2.peakcalls.fdr01.sorted.hg38.bed\n",
    "wc -l deseq2_peakcalls/removelowspec.removeMostSigGrna.cutsite.tyckoGATA1krabinterference.deseq2.peakcalls.fdr01.sorted.hg38.bed"
   ]
  },
  {
   "cell_type": "code",
   "execution_count": 3,
   "metadata": {},
   "outputs": [
    {
     "name": "stdout",
     "output_type": "stream",
     "text": [
      "chrX\t48782600\t48783800\n",
      "11 deseq2_peakcalls/removelowspec.removeMostSigGrna.cutsite.tyckoGATA1krabinterference.deseq2.peakcalls.fdr01.sorted.merge.hg38.bed\n"
     ]
    }
   ],
   "source": [
    "%%bash\n",
    "module load bedtools2\n",
    "\n",
    "bedtools merge -d 1 -i deseq2_peakcalls/removelowspec.removeMostSigGrna.cutsite.tyckoGATA1krabinterference.deseq2.peakcalls.fdr01.sorted.hg38.bed > deseq2_peakcalls/removelowspec.removeMostSigGrna.cutsite.tyckoGATA1krabinterference.deseq2.peakcalls.fdr01.sorted.merge.hg38.bed\n",
    "\n",
    "head -n 1 deseq2_peakcalls/removelowspec.removeMostSigGrna.cutsite.tyckoGATA1krabinterference.deseq2.peakcalls.fdr01.sorted.merge.hg38.bed\n",
    "wc -l deseq2_peakcalls/removelowspec.removeMostSigGrna.cutsite.tyckoGATA1krabinterference.deseq2.peakcalls.fdr01.sorted.merge.hg38.bed\n"
   ]
  },
  {
   "cell_type": "markdown",
   "metadata": {},
   "source": [
    "The total peak count reduced from 21 to 11 peaks after removing the most significant gRNA per bin. This further suggests that the aggregation of DESeq2 approach is suspectible to false positives by low spec guides/off-target effects and other noise (signal being driven by a single perturbation)."
   ]
  },
  {
   "cell_type": "markdown",
   "metadata": {},
   "source": [
    "#### Intersect peak calls from other methods "
   ]
  },
  {
   "cell_type": "code",
   "execution_count": 1,
   "metadata": {},
   "outputs": [
    {
     "name": "stdout",
     "output_type": "stream",
     "text": [
      "chrom\tstart\tend\tnum\tlist\t/data/gersbachlab/lrb53/encodeCrisprWG/manuscript/gata1.commonregion.hg38.bed\tdeseq2_peakcalls/removelowspec.removeMostSigGrna.cutsite.tyckoGATA1krabinterference.deseq2.peakcalls.fdr01.sorted.merge.hg38.bed\t/data/gersbachlab/lrb53/encodeCrisprWG/manuscript/newpeakcalls/CASA__filtered_tycko_gata1_growth__replicatingPeaks.coords.bed\t/data/gersbachlab/lrb53/encodeCrisprWG/manuscript/newpeakcalls/crisprsurf_significant_regions_corrected.merged.bed\t/data/gersbachlab/lrb53/encodeCrisprWG/manuscript/newpeakcalls/mageck_filtered_Bassik_GATA1_CRISPRi_PLAvT21.merged.bed\t/data/gersbachlab/lrb53/encodeCrisprWG/manuscript/newpeakcalls/bassik_crispri_gata1growth.removelowspec_RELICS_final_k1_FS_locations.sorted.merge.bed\n",
      "chrX\t48696667\t48697047\t1\t4\t0\t0\t0\t1\t0\t0\n",
      "chrX\t48697067\t48697227\t1\t4\t0\t0\t0\t1\t0\t0\n",
      "chrX\t48702727\t48702867\t1\t4\t0\t0\t0\t1\t0\t0\n",
      "chrX\t48732248\t48732404\t1\t6\t0\t0\t0\t0\t0\t1\n",
      "chrX\t48737607\t48737707\t1\t4\t0\t0\t0\t1\t0\t0\n",
      "chrX\t48745252\t48761747\t1\t1\t1\t0\t0\t0\t0\t0\n",
      "chrX\t48761747\t48761948\t2\t1,5\t1\t0\t0\t0\t1\t0\n",
      "chrX\t48761948\t48782347\t1\t1\t1\t0\t0\t0\t0\t0\n",
      "chrX\t48782347\t48782600\t2\t1,5\t1\t0\t0\t0\t1\t0\n"
     ]
    }
   ],
   "source": [
    "%%bash\n",
    "module load bedtools2\n",
    "\n",
    "bedtools multiinter -i /data/gersbachlab/lrb53/encodeCrisprWG/manuscript/gata1.commonregion.hg38.bed \\\n",
    "deseq2_peakcalls/removelowspec.removeMostSigGrna.cutsite.tyckoGATA1krabinterference.deseq2.peakcalls.fdr01.sorted.merge.hg38.bed \\\n",
    "/data/gersbachlab/lrb53/encodeCrisprWG/manuscript/newpeakcalls/CASA__filtered_tycko_gata1_growth__replicatingPeaks.coords.bed \\\n",
    "/data/gersbachlab/lrb53/encodeCrisprWG/manuscript/newpeakcalls/crisprsurf_significant_regions_corrected.merged.bed \\\n",
    "/data/gersbachlab/lrb53/encodeCrisprWG/manuscript/newpeakcalls/mageck_filtered_Bassik_GATA1_CRISPRi_PLAvT21.merged.bed \\\n",
    "/data/gersbachlab/lrb53/encodeCrisprWG/manuscript/newpeakcalls/bassik_crispri_gata1growth.removelowspec_RELICS_final_k1_FS_locations.sorted.merge.bed -header -names \\\n",
    "> upset/GATA1.tyckoCrispri.deseq2removemostsig.txt\n",
    "\n",
    "head upset/GATA1.tyckoCrispri.deseq2removemostsig.txt"
   ]
  },
  {
   "cell_type": "markdown",
   "metadata": {},
   "source": [
    "### Change to `R`"
   ]
  },
  {
   "cell_type": "markdown",
   "metadata": {},
   "source": [
    "### Load packages"
   ]
  },
  {
   "cell_type": "code",
   "execution_count": 1,
   "metadata": {},
   "outputs": [],
   "source": [
    "suppressPackageStartupMessages(library(tidyverse))\n",
    "suppressPackageStartupMessages(library(UpSetR))\n",
    "suppressPackageStartupMessages(library(ggpubr))\n",
    "suppressPackageStartupMessages(library(ggplotify))"
   ]
  },
  {
   "cell_type": "markdown",
   "metadata": {},
   "source": [
    "### Common region coordinates"
   ]
  },
  {
   "cell_type": "code",
   "execution_count": 2,
   "metadata": {},
   "outputs": [
    {
     "data": {
      "text/html": [
       "<table class=\"dataframe\">\n",
       "<caption>A data.frame: 1 × 3</caption>\n",
       "<thead>\n",
       "\t<tr><th></th><th scope=col>chrom</th><th scope=col>start</th><th scope=col>end</th></tr>\n",
       "\t<tr><th></th><th scope=col>&lt;chr&gt;</th><th scope=col>&lt;int&gt;</th><th scope=col>&lt;int&gt;</th></tr>\n",
       "</thead>\n",
       "<tbody>\n",
       "\t<tr><th scope=row>1</th><td>chrX</td><td>48745252</td><td>48821194</td></tr>\n",
       "</tbody>\n",
       "</table>\n"
      ],
      "text/latex": [
       "A data.frame: 1 × 3\n",
       "\\begin{tabular}{r|lll}\n",
       "  & chrom & start & end\\\\\n",
       "  & <chr> & <int> & <int>\\\\\n",
       "\\hline\n",
       "\t1 & chrX & 48745252 & 48821194\\\\\n",
       "\\end{tabular}\n"
      ],
      "text/markdown": [
       "\n",
       "A data.frame: 1 × 3\n",
       "\n",
       "| <!--/--> | chrom &lt;chr&gt; | start &lt;int&gt; | end &lt;int&gt; |\n",
       "|---|---|---|---|\n",
       "| 1 | chrX | 48745252 | 48821194 |\n",
       "\n"
      ],
      "text/plain": [
       "  chrom start    end     \n",
       "1 chrX  48745252 48821194"
      ]
     },
     "metadata": {},
     "output_type": "display_data"
    }
   ],
   "source": [
    "commonregion <- read.delim(\"/data/gersbachlab/lrb53/encodeCrisprWG/manuscript/gata1.commonregion.hg38.bed\", header = FALSE,\n",
    "                           col.names = c(\"chrom\",\"start\",\"end\"))\n",
    "head(commonregion)"
   ]
  },
  {
   "cell_type": "markdown",
   "metadata": {},
   "source": [
    "### Now, generate the upset plot"
   ]
  },
  {
   "cell_type": "code",
   "execution_count": 3,
   "metadata": {},
   "outputs": [
    {
     "data": {
      "text/html": [
       "<table class=\"dataframe\">\n",
       "<caption>A data.frame: 1 × 12</caption>\n",
       "<thead>\n",
       "\t<tr><th></th><th scope=col>chrom</th><th scope=col>start</th><th scope=col>end</th><th scope=col>num</th><th scope=col>list</th><th scope=col>X.data.gersbachlab.lrb53.encodeCrisprWG.manuscript.gata1.commonregion.hg38.bed</th><th scope=col>deseq2</th><th scope=col>casa</th><th scope=col>surf</th><th scope=col>mageck</th><th scope=col>relics</th><th scope=col>name</th></tr>\n",
       "\t<tr><th></th><th scope=col>&lt;chr&gt;</th><th scope=col>&lt;int&gt;</th><th scope=col>&lt;int&gt;</th><th scope=col>&lt;int&gt;</th><th scope=col>&lt;chr&gt;</th><th scope=col>&lt;int&gt;</th><th scope=col>&lt;int&gt;</th><th scope=col>&lt;int&gt;</th><th scope=col>&lt;int&gt;</th><th scope=col>&lt;int&gt;</th><th scope=col>&lt;int&gt;</th><th scope=col>&lt;chr&gt;</th></tr>\n",
       "</thead>\n",
       "<tbody>\n",
       "\t<tr><th scope=row>1</th><td>chrX</td><td>48696667</td><td>48697047</td><td>1</td><td>4</td><td>0</td><td>0</td><td>0</td><td>1</td><td>0</td><td>0</td><td>chrX:48696667-48697047</td></tr>\n",
       "</tbody>\n",
       "</table>\n"
      ],
      "text/latex": [
       "A data.frame: 1 × 12\n",
       "\\begin{tabular}{r|llllllllllll}\n",
       "  & chrom & start & end & num & list & X.data.gersbachlab.lrb53.encodeCrisprWG.manuscript.gata1.commonregion.hg38.bed & deseq2 & casa & surf & mageck & relics & name\\\\\n",
       "  & <chr> & <int> & <int> & <int> & <chr> & <int> & <int> & <int> & <int> & <int> & <int> & <chr>\\\\\n",
       "\\hline\n",
       "\t1 & chrX & 48696667 & 48697047 & 1 & 4 & 0 & 0 & 0 & 1 & 0 & 0 & chrX:48696667-48697047\\\\\n",
       "\\end{tabular}\n"
      ],
      "text/markdown": [
       "\n",
       "A data.frame: 1 × 12\n",
       "\n",
       "| <!--/--> | chrom &lt;chr&gt; | start &lt;int&gt; | end &lt;int&gt; | num &lt;int&gt; | list &lt;chr&gt; | X.data.gersbachlab.lrb53.encodeCrisprWG.manuscript.gata1.commonregion.hg38.bed &lt;int&gt; | deseq2 &lt;int&gt; | casa &lt;int&gt; | surf &lt;int&gt; | mageck &lt;int&gt; | relics &lt;int&gt; | name &lt;chr&gt; |\n",
       "|---|---|---|---|---|---|---|---|---|---|---|---|---|\n",
       "| 1 | chrX | 48696667 | 48697047 | 1 | 4 | 0 | 0 | 0 | 1 | 0 | 0 | chrX:48696667-48697047 |\n",
       "\n"
      ],
      "text/plain": [
       "  chrom start    end      num list\n",
       "1 chrX  48696667 48697047 1   4   \n",
       "  X.data.gersbachlab.lrb53.encodeCrisprWG.manuscript.gata1.commonregion.hg38.bed\n",
       "1 0                                                                             \n",
       "  deseq2 casa surf mageck relics name                  \n",
       "1 0      0    1    0      0      chrX:48696667-48697047"
      ]
     },
     "metadata": {},
     "output_type": "display_data"
    },
    {
     "data": {
      "text/html": [
       "<style>\n",
       ".list-inline {list-style: none; margin:0; padding: 0}\n",
       ".list-inline>li {display: inline-block}\n",
       ".list-inline>li:not(:last-child)::after {content: \"\\00b7\"; padding: 0 .5ex}\n",
       "</style>\n",
       "<ol class=list-inline><li>75</li><li>12</li></ol>\n"
      ],
      "text/latex": [
       "\\begin{enumerate*}\n",
       "\\item 75\n",
       "\\item 12\n",
       "\\end{enumerate*}\n"
      ],
      "text/markdown": [
       "1. 75\n",
       "2. 12\n",
       "\n",
       "\n"
      ],
      "text/plain": [
       "[1] 75 12"
      ]
     },
     "metadata": {},
     "output_type": "display_data"
    },
    {
     "data": {
      "text/html": [
       "<style>\n",
       ".list-inline {list-style: none; margin:0; padding: 0}\n",
       ".list-inline>li {display: inline-block}\n",
       ".list-inline>li:not(:last-child)::after {content: \"\\00b7\"; padding: 0 .5ex}\n",
       "</style>\n",
       "<ol class=list-inline><li>'chrom'</li><li>'start'</li><li>'end'</li><li>'num'</li><li>'list'</li><li>'X.data.gersbachlab.lrb53.encodeCrisprWG.manuscript.gata1.commonregion.hg38.bed'</li><li>'deseq2'</li><li>'casa'</li><li>'surf'</li><li>'mageck'</li><li>'relics'</li><li>'name'</li></ol>\n"
      ],
      "text/latex": [
       "\\begin{enumerate*}\n",
       "\\item 'chrom'\n",
       "\\item 'start'\n",
       "\\item 'end'\n",
       "\\item 'num'\n",
       "\\item 'list'\n",
       "\\item 'X.data.gersbachlab.lrb53.encodeCrisprWG.manuscript.gata1.commonregion.hg38.bed'\n",
       "\\item 'deseq2'\n",
       "\\item 'casa'\n",
       "\\item 'surf'\n",
       "\\item 'mageck'\n",
       "\\item 'relics'\n",
       "\\item 'name'\n",
       "\\end{enumerate*}\n"
      ],
      "text/markdown": [
       "1. 'chrom'\n",
       "2. 'start'\n",
       "3. 'end'\n",
       "4. 'num'\n",
       "5. 'list'\n",
       "6. 'X.data.gersbachlab.lrb53.encodeCrisprWG.manuscript.gata1.commonregion.hg38.bed'\n",
       "7. 'deseq2'\n",
       "8. 'casa'\n",
       "9. 'surf'\n",
       "10. 'mageck'\n",
       "11. 'relics'\n",
       "12. 'name'\n",
       "\n",
       "\n"
      ],
      "text/plain": [
       " [1] \"chrom\"                                                                         \n",
       " [2] \"start\"                                                                         \n",
       " [3] \"end\"                                                                           \n",
       " [4] \"num\"                                                                           \n",
       " [5] \"list\"                                                                          \n",
       " [6] \"X.data.gersbachlab.lrb53.encodeCrisprWG.manuscript.gata1.commonregion.hg38.bed\"\n",
       " [7] \"deseq2\"                                                                        \n",
       " [8] \"casa\"                                                                          \n",
       " [9] \"surf\"                                                                          \n",
       "[10] \"mageck\"                                                                        \n",
       "[11] \"relics\"                                                                        \n",
       "[12] \"name\"                                                                          "
      ]
     },
     "metadata": {},
     "output_type": "display_data"
    }
   ],
   "source": [
    "## Tycko KRAB (aggrDESeq2, CASA, CRISPR-SURF, MAGeCK, RELICS) \n",
    "\n",
    "df <- read.delim(\"upset/GATA1.tyckoCrispri.deseq2removemostsig.txt\", header = TRUE) %>%\n",
    "  mutate(name = paste0(chrom,\":\",start,\"-\",end)) %>%\n",
    "#   filter(chrom == commonregion$chrom) %>%\n",
    "#   filter(start >= commonregion$start) %>%\n",
    "#   filter(end <= commonregion$end) %>%\n",
    "  rename(casa = `X.data.gersbachlab.lrb53.encodeCrisprWG.manuscript.newpeakcalls.CASA__filtered_tycko_gata1_growth__replicatingPeaks.coords.bed`,\n",
    "         deseq2 = `deseq2_peakcalls.removelowspec.removeMostSigGrna.cutsite.tyckoGATA1krabinterference.deseq2.peakcalls.fdr01.sorted.merge.hg38.bed`,\n",
    "         surf = `X.data.gersbachlab.lrb53.encodeCrisprWG.manuscript.newpeakcalls.crisprsurf_significant_regions_corrected.merged.bed`,\n",
    "         mageck =`X.data.gersbachlab.lrb53.encodeCrisprWG.manuscript.newpeakcalls.mageck_filtered_Bassik_GATA1_CRISPRi_PLAvT21.merged.bed`,\n",
    "         relics = `X.data.gersbachlab.lrb53.encodeCrisprWG.manuscript.newpeakcalls.bassik_crispri_gata1growth.removelowspec_RELICS_final_k1_FS_locations.sorted.merge.bed`)\n",
    "\n",
    "head(df,n=1)\n",
    "dim(df)\n",
    "colnames(df)"
   ]
  },
  {
   "cell_type": "code",
   "execution_count": 4,
   "metadata": {},
   "outputs": [
    {
     "data": {
      "image/png": "[encoded data removed]",
      "text/plain": [
       "plot without title"
      ]
     },
     "metadata": {
      "image/png": {
       "height": 480,
       "width": 720
      }
     },
     "output_type": "display_data"
    }
   ],
   "source": [
    "options(repr.plot.width = 12, repr.plot.height = 8)\n",
    "# region <- df %>% filter(commonregion_coords == 1) %>% select(name) %>% distinct() %>% pull()\n",
    "screen1 <- df %>% filter(casa == 1) %>% select(name) %>% distinct() %>% pull()\n",
    "screen2 <- df %>% filter(deseq2 == 1) %>% select(name) %>% distinct() %>% pull()\n",
    "screen3 <- df %>% filter(surf == 1) %>% select(name) %>% distinct() %>% pull()\n",
    "screen4 <- df %>% filter(mageck == 1) %>% select(name) %>% distinct() %>% pull()\n",
    "screen5 <- df %>% filter(relics == 1) %>% select(name) %>% distinct() %>% pull()\n",
    "\n",
    "\n",
    "# listInput <- list(\"common_region\" = region, \n",
    "#                   \"CASA\" = screen1, \n",
    "#                   \"aggrDESeq2\" = screen2, \n",
    "#                   \"CRISPR-SURF\" = screen3, \n",
    "#                   \"MAGeCK\" = screen4, \n",
    "#                   \"RELICS\" = screen5\n",
    "#                  )\n",
    "\n",
    "listInput <- list(\"CASA\" = screen1, \n",
    "                  \"aggrDESeq2\" = screen2, \n",
    "                  \"CRISPR-SURF\" = screen3, \n",
    "                  \"MAGeCK\" = screen4, \n",
    "                  \"RELICS\" = screen5\n",
    "                 )\n",
    "\n",
    "p9 <- upset(fromList(listInput), \n",
    "      order.by = \"freq\",\n",
    "      nsets = 6,\n",
    "      queries = list(list(query = intersects, params = list(\"CASA\",\"aggrDESeq2\",\"MAGeCK\",\"CRISPR-SURF\",\"RELICS\"), color = \"lightblue\", active = T)),\n",
    "      # set_size.show = TRUE, ### these do not look good when added in R, add later in Illustrator\n",
    "      # set_size.numbers_size = 5,\n",
    "      point.size = 3.5, \n",
    "      line.size = 2, \n",
    "      mainbar.y.label = \"Intersection Size\", \n",
    "      sets.x.label = \"Set Size\", \n",
    "      main.bar.color = \"black\", \n",
    "      text.scale = c(2, 2, 1.5, 2, 2, 3) # intersection size title, intersection size tick labels, set size title, set size tick labels, set names, numbers above bars\n",
    "      ) \n",
    "\n",
    "p9"
   ]
  },
  {
   "cell_type": "code",
   "execution_count": 5,
   "metadata": {
    "scrolled": false
   },
   "outputs": [
    {
     "data": {
      "image/png": "[encoded data removed]",
      "text/plain": [
       "plot without title"
      ]
     },
     "metadata": {
      "image/png": {
       "height": 480,
       "width": 720
      }
     },
     "output_type": "display_data"
    }
   ],
   "source": [
    "options(repr.plot.width = 12, repr.plot.height = 8)\n",
    "# region <- df %>% filter(commonregion_coords == 1) %>% select(name) %>% distinct() %>% pull()\n",
    "screen1 <- df %>% filter(casa == 1) %>% select(name) %>% distinct() %>% pull()\n",
    "screen2 <- df %>% filter(deseq2 == 1) %>% select(name) %>% distinct() %>% pull()\n",
    "screen3 <- df %>% filter(surf == 1) %>% select(name) %>% distinct() %>% pull()\n",
    "screen4 <- df %>% filter(mageck == 1) %>% select(name) %>% distinct() %>% pull()\n",
    "screen5 <- df %>% filter(relics == 1) %>% select(name) %>% distinct() %>% pull()\n",
    "\n",
    "\n",
    "# listInput <- list(\"common_region\" = region, \n",
    "#                   \"CASA\" = screen1, \n",
    "#                   \"aggrDESeq2\" = screen2, \n",
    "#                   \"CRISPR-SURF\" = screen3, \n",
    "#                   \"MAGeCK\" = screen4, \n",
    "#                   \"RELICS\" = screen5\n",
    "#                  )\n",
    "\n",
    "listInput <- list(\"CASA\" = screen1, \n",
    "                  \"aggrDESeq2\" = screen2, \n",
    "                  \"CRISPR-SURF\" = screen3, \n",
    "                  \"MAGeCK\" = screen4, \n",
    "                  \"RELICS\" = screen5\n",
    "                 )\n",
    "\n",
    "p9 <- upset(fromList(listInput), \n",
    "      #order.by = \"freq\",\n",
    "      keep.order=TRUE,\n",
    "      #nsets = 6,\n",
    "      #sets = c(\"CASA\",\"RELICS\",\"MAGeCK\",\"CRISPR-SURF\",\"aggrDESeq2\"),\n",
    "      #sets = c(\"CASA\",\"aggrDESeq2\",\"MAGeCK\",\"CRISPR-SURF\",\"RELICS\"),\n",
    "      sets = c(\"RELICS\",\"CRISPR-SURF\",\"MAGeCK\",\"aggrDESeq2\",\"CASA\"),\n",
    "      #sets = c(\"aggrDESeq2\",\"CRISPR-SURF\",\"MAGeCK\",\"RELICS\",\"CASA\"),\n",
    "      queries = list(list(query = intersects, params = list(\"CASA\",\"aggrDESeq2\",\"MAGeCK\",\"CRISPR-SURF\",\"RELICS\"), color = \"lightblue\", active = T)),\n",
    "      # set_size.show = TRUE, ### these do not look good when added in R, add later in Illustrator\n",
    "      # set_size.numbers_size = 5,\n",
    "      point.size = 3.5, \n",
    "      line.size = 2, \n",
    "      mainbar.y.label = \"Intersection Size\", \n",
    "      sets.x.label = \"Set Size\", \n",
    "      main.bar.color = \"black\", \n",
    "      text.scale = c(2, 2, 1.5, 2, 2, 3) # intersection size title, intersection size tick labels, set size title, set size tick labels, set names, numbers above bars\n",
    "      ) \n",
    "\n",
    "p9"
   ]
  },
  {
   "cell_type": "code",
   "execution_count": null,
   "metadata": {},
   "outputs": [],
   "source": []
  }
 ],
 "metadata": {
  "kernelspec": {
   "display_name": "R 4.1",
   "language": "R",
   "name": "ir41"
  },
  "language_info": {
   "codemirror_mode": "r",
   "file_extension": ".r",
   "mimetype": "text/x-r-source",
   "name": "R",
   "pygments_lexer": "r",
   "version": "4.1.3"
  }
 },
 "nbformat": 4,
 "nbformat_minor": 2
}
