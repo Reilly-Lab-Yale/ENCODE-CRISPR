{
 "cells": [
  {
   "cell_type": "markdown",
   "metadata": {},
   "source": [
    "### New analyses related to Figure 1"
   ]
  },
  {
   "cell_type": "markdown",
   "metadata": {},
   "source": [
    "For cell types other than K562, what percent of CREs overlap accessible chromatin regions and/or H3K27ac peaks?\n",
    " - WTC11 iPSCs: 6 loci; ATAC \n",
    " - Jurkat: PPIF locus; DNase \n",
    " - GM12878: PPIF locus; DNase, ATAC, H3K27ac\n",
    " - HepG2: MYC and MYB; DNase, ATAC, H3K27ac\n",
    " - A549: MYC and MYB; DNase, ATAC, \n",
    " - HCT116: MYC and MYB; DNase, ATAC, H3K27ac\n",
    " - PC-3: MYC and MYB; DNase, ATAC, H3K27ac\n",
    " - NCI-H460: MYC and MYB; DNase\n",
    " - MCF-7: MYC and MYB; DNase, ATAC, H3K27ac\n",
    " <br> <br>\n",
    " K562 is also in the MYC and MYB screen but that cell type is covered by the larger meta analysis."
   ]
  },
  {
   "cell_type": "markdown",
   "metadata": {},
   "source": [
    "### Make new directories to store annotations and CREs from each experiment"
   ]
  },
  {
   "cell_type": "code",
   "execution_count": 3,
   "metadata": {},
   "outputs": [],
   "source": [
    "%%bash\n",
    "cd /data/gersbachlab/lrb53/encodeCrisprWG/finalversion/figure1\n",
    "\n",
    "mkdir -p othercelltypes/jurkat/cres\n",
    "mkdir -p othercelltypes/gm12878/cres\n",
    "mkdir -p othercelltypes/hepg2/cres\n",
    "mkdir -p othercelltypes/a549/cres\n",
    "mkdir -p othercelltypes/hct116/cres\n",
    "mkdir -p othercelltypes/pc3/cres\n",
    "mkdir -p othercelltypes/ncih460/cres\n",
    "mkdir -p othercelltypes/mcf7/cres"
   ]
  },
  {
   "cell_type": "code",
   "execution_count": 4,
   "metadata": {},
   "outputs": [],
   "source": [
    "%%bash\n",
    "cd /data/gersbachlab/lrb53/encodeCrisprWG/finalversion/figure1\n",
    "\n",
    "mkdir -p othercelltypes/jurkat/annotations\n",
    "mkdir -p othercelltypes/gm12878/annotations\n",
    "mkdir -p othercelltypes/hepg2/annotations\n",
    "mkdir -p othercelltypes/a549/annotations\n",
    "mkdir -p othercelltypes/hct116/annotations\n",
    "mkdir -p othercelltypes/pc3/annotations\n",
    "mkdir -p othercelltypes/ncih460/annotations\n",
    "mkdir -p othercelltypes/mcf7/annotations"
   ]
  },
  {
   "cell_type": "markdown",
   "metadata": {},
   "source": [
    "### Download annotations"
   ]
  },
  {
   "cell_type": "markdown",
   "metadata": {},
   "source": [
    "#### Jurkat"
   ]
  },
  {
   "cell_type": "code",
   "execution_count": null,
   "metadata": {
    "scrolled": true
   },
   "outputs": [],
   "source": [
    "%%bash\n",
    "\n",
    "cd /data/gersbachlab/lrb53/encodeCrisprWG/finalversion/figure1/othercelltypes/jurkat/annotations\n",
    "wget -O jurkat.dnase.peaks.hg38.bed.gz https://www.encodeproject.org/files/ENCFF340IYE/@@download/ENCFF340IYE.bed.gz\n"
   ]
  },
  {
   "cell_type": "markdown",
   "metadata": {},
   "source": [
    "#### GM12878"
   ]
  },
  {
   "cell_type": "code",
   "execution_count": null,
   "metadata": {},
   "outputs": [],
   "source": [
    "%%bash\n",
    "\n",
    "cd /data/gersbachlab/lrb53/encodeCrisprWG/finalversion/figure1/othercelltypes/gm12878/annotations\n",
    "\n",
    "wget -O gm12878.atac.peaks.hg38.bed.gz https://www.encodeproject.org/files/ENCFF748UZH/@@download/ENCFF748UZH.bed.gz\n",
    "wget -O gm12878.h3k27ac.peaks.hg38.bed.gz https://www.encodeproject.org/files/ENCFF023LTU/@@download/ENCFF023LTU.bed.gz\n",
    "wget -O gm12878.dnase.peaks.hg38.bed.gz https://www.encodeproject.org/files/ENCFF759OLD/@@download/ENCFF759OLD.bed.gz\n"
   ]
  },
  {
   "cell_type": "markdown",
   "metadata": {},
   "source": [
    "#### HepG2"
   ]
  },
  {
   "cell_type": "code",
   "execution_count": null,
   "metadata": {},
   "outputs": [],
   "source": [
    "%%bash\n",
    "\n",
    "cd /data/gersbachlab/lrb53/encodeCrisprWG/finalversion/figure1/othercelltypes/hepg2/annotations\n",
    "\n",
    "wget -O hepg2.atac.peaks.hg38.bed.gz https://www.encodeproject.org/files/ENCFF439EIO/@@download/ENCFF439EIO.bed.gz\n",
    "wget -O hepg2.h3k27ac.peaks.hg38.bed.gz https://www.encodeproject.org/files/ENCFF392KDI/@@download/ENCFF392KDI.bed.gz\n",
    "wget -O hepg2.dnase.peaks.hg38.bed.gz https://www.encodeproject.org/files/ENCFF897NME/@@download/ENCFF897NME.bed.gz\n"
   ]
  },
  {
   "cell_type": "markdown",
   "metadata": {},
   "source": [
    "#### A549"
   ]
  },
  {
   "cell_type": "code",
   "execution_count": null,
   "metadata": {},
   "outputs": [],
   "source": [
    "%%bash\n",
    "\n",
    "cd /data/gersbachlab/lrb53/encodeCrisprWG/finalversion/figure1/othercelltypes/a549/annotations\n",
    "\n",
    "wget -O a549.atac.peaks.hg38.bed.gz https://www.encodeproject.org/files/ENCFF899OMR/@@download/ENCFF899OMR.bed.gz\n",
    "wget -O a549.dnase.peaks.hg38.bed.gz https://www.encodeproject.org/files/ENCFF128ZVL/@@download/ENCFF128ZVL.bed.gz\n",
    "wget -O a549.h3k27ac.peaks.hg38.bed.gz https://www.encodeproject.org/files/ENCFF918FET/@@download/ENCFF918FET.bed.gz"
   ]
  },
  {
   "cell_type": "markdown",
   "metadata": {},
   "source": [
    "#### HCT116"
   ]
  },
  {
   "cell_type": "code",
   "execution_count": null,
   "metadata": {},
   "outputs": [],
   "source": [
    "%%bash\n",
    "\n",
    "cd /data/gersbachlab/lrb53/encodeCrisprWG/finalversion/figure1/othercelltypes/hct116/annotations\n",
    "\n",
    "wget -O hct116.atac.peaks.hg38.bed.gz https://www.encodeproject.org/files/ENCFF296ZZB/@@download/ENCFF296ZZB.bed.gz\n",
    "wget -O hct116.h3k27ac.peaks.hg38.bed.gz https://www.encodeproject.org/files/ENCFF899XEF/@@download/ENCFF899XEF.bed.gz\n",
    "wget -O hct116.dnase.peaks.hg38.bed.gz https://www.encodeproject.org/files/ENCFF240LRP/@@download/ENCFF240LRP.bed.gz\n",
    "    "
   ]
  },
  {
   "cell_type": "markdown",
   "metadata": {},
   "source": [
    "#### PC-3"
   ]
  },
  {
   "cell_type": "code",
   "execution_count": null,
   "metadata": {},
   "outputs": [],
   "source": [
    "%%bash\n",
    "\n",
    "cd /data/gersbachlab/lrb53/encodeCrisprWG/finalversion/figure1/othercelltypes/pc3/annotations\n",
    "\n",
    "wget -O pc3.atac.peaks.hg38.bed.gz https://www.encodeproject.org/files/ENCFF811MOZ/@@download/ENCFF811MOZ.bed.gz\n",
    "wget -O pc3.h3k27ac.peaks.hg38.bed.gz https://www.encodeproject.org/files/ENCFF204GCA/@@download/ENCFF204GCA.bed.gz\n",
    "wget -O pc3.dnase.peaks.hg38.bed.gz https://www.encodeproject.org/files/ENCFF698OMW/@@download/ENCFF698OMW.bed.gz\n",
    "    "
   ]
  },
  {
   "cell_type": "markdown",
   "metadata": {},
   "source": [
    "#### NCI-H460"
   ]
  },
  {
   "cell_type": "code",
   "execution_count": null,
   "metadata": {},
   "outputs": [],
   "source": [
    "%%bash\n",
    "\n",
    "cd /data/gersbachlab/lrb53/encodeCrisprWG/finalversion/figure1/othercelltypes/ncih460/annotations\n",
    "\n",
    "wget -O ncih460.dnase.peaks.hg38.bed.gz https://www.encodeproject.org/files/ENCFF777QZB/@@download/ENCFF777QZB.bed.gz\n",
    "    "
   ]
  },
  {
   "cell_type": "markdown",
   "metadata": {},
   "source": [
    "#### MCF-7"
   ]
  },
  {
   "cell_type": "code",
   "execution_count": null,
   "metadata": {},
   "outputs": [],
   "source": [
    "%%bash\n",
    "\n",
    "cd /data/gersbachlab/lrb53/encodeCrisprWG/finalversion/figure1/othercelltypes/mcf7/annotations\n",
    "\n",
    "wget -O mcf7.atac.peaks.hg38.bed.gz https://www.encodeproject.org/files/ENCFF821OEF/@@download/ENCFF821OEF.bed.gz\n",
    "wget -O mcf7.h3k27ac.peaks.hg38.bed.gz https://www.encodeproject.org/files/ENCFF491LQY/@@download/ENCFF491LQY.bed.gz\n",
    "wget -O mcf7.dnase.peaks.hg38.bed.gz https://www.encodeproject.org/files/ENCFF835KCG/@@download/ENCFF835KCG.bed.gz\n",
    "    "
   ]
  },
  {
   "cell_type": "markdown",
   "metadata": {},
   "source": [
    "### Download CREs from each experiment"
   ]
  },
  {
   "cell_type": "markdown",
   "metadata": {},
   "source": [
    "#### Jurkat"
   ]
  },
  {
   "cell_type": "code",
   "execution_count": null,
   "metadata": {
    "scrolled": true
   },
   "outputs": [],
   "source": [
    "%%bash\n",
    "\n",
    "cd /data/gersbachlab/lrb53/encodeCrisprWG/finalversion/figure1/othercelltypes/jurkat/cres\n",
    "\n",
    "wget -O jurkat.ppif.nostim.cres.hg19.tsv https://www.encodeproject.org/files/ENCFF005IVC/@@download/ENCFF005IVC.tsv\n",
    "wget -O jurkat.ppif.withstim.cres.hg19.tsv https://www.encodeproject.org/files/ENCFF710RZI/@@download/ENCFF710RZI.tsv\n"
   ]
  },
  {
   "cell_type": "markdown",
   "metadata": {},
   "source": [
    "#### GM12878"
   ]
  },
  {
   "cell_type": "code",
   "execution_count": null,
   "metadata": {
    "scrolled": true
   },
   "outputs": [],
   "source": [
    "%%bash\n",
    "\n",
    "cd /data/gersbachlab/lrb53/encodeCrisprWG/finalversion/figure1/othercelltypes/gm12878/cres\n",
    "\n",
    "wget -O gm12878.ppif.cres.hg19.tsv https://www.encodeproject.org/files/ENCFF528RAY/@@download/ENCFF528RAY.tsv\n"
   ]
  },
  {
   "cell_type": "markdown",
   "metadata": {},
   "source": [
    "#### HepG2"
   ]
  },
  {
   "cell_type": "code",
   "execution_count": null,
   "metadata": {
    "scrolled": true
   },
   "outputs": [],
   "source": [
    "%%bash\n",
    "\n",
    "cd /data/gersbachlab/lrb53/encodeCrisprWG/finalversion/figure1/othercelltypes/hepg2/cres\n",
    "\n",
    "wget -O hepg2.mycmyb.cres.hg38.tsv https://www.encodeproject.org/files/ENCFF847VVW/@@download/ENCFF847VVW.tsv\n"
   ]
  },
  {
   "cell_type": "markdown",
   "metadata": {},
   "source": [
    "#### A549"
   ]
  },
  {
   "cell_type": "code",
   "execution_count": null,
   "metadata": {
    "scrolled": true
   },
   "outputs": [],
   "source": [
    "%%bash\n",
    "\n",
    "cd /data/gersbachlab/lrb53/encodeCrisprWG/finalversion/figure1/othercelltypes/a549/cres\n",
    "\n",
    "wget -O a549.mycmyb.cres.hg38.tsv https://www.encodeproject.org/files/ENCFF971QMM/@@download/ENCFF971QMM.tsv\n"
   ]
  },
  {
   "cell_type": "markdown",
   "metadata": {},
   "source": [
    "#### HCT116"
   ]
  },
  {
   "cell_type": "code",
   "execution_count": null,
   "metadata": {
    "scrolled": true
   },
   "outputs": [],
   "source": [
    "%%bash\n",
    "\n",
    "cd /data/gersbachlab/lrb53/encodeCrisprWG/finalversion/figure1/othercelltypes/hct116/cres\n",
    "\n",
    "wget -O hct116.mycmyb.cres.hg38.tsv https://www.encodeproject.org/files/ENCFF942TSF/@@download/ENCFF942TSF.tsv\n"
   ]
  },
  {
   "cell_type": "markdown",
   "metadata": {},
   "source": [
    "#### PC-3"
   ]
  },
  {
   "cell_type": "code",
   "execution_count": null,
   "metadata": {
    "scrolled": true
   },
   "outputs": [],
   "source": [
    "%%bash\n",
    "\n",
    "cd /data/gersbachlab/lrb53/encodeCrisprWG/finalversion/figure1/othercelltypes/pc3/cres\n",
    "\n",
    "wget -O pc3.mycmyb.cres.hg38.tsv https://www.encodeproject.org/files/ENCFF058OWV/@@download/ENCFF058OWV.tsv\n"
   ]
  },
  {
   "cell_type": "markdown",
   "metadata": {},
   "source": [
    "#### NCI-H460"
   ]
  },
  {
   "cell_type": "code",
   "execution_count": null,
   "metadata": {},
   "outputs": [],
   "source": [
    "%%bash\n",
    "\n",
    "cd /data/gersbachlab/lrb53/encodeCrisprWG/finalversion/figure1/othercelltypes/ncih460/cres\n",
    "\n",
    "wget -O ncih460.mycmyb.cres.hg38.tsv https://www.encodeproject.org/files/ENCFF237NIS/@@download/ENCFF237NIS.tsv\n"
   ]
  },
  {
   "cell_type": "markdown",
   "metadata": {},
   "source": [
    "#### MCF-7"
   ]
  },
  {
   "cell_type": "code",
   "execution_count": null,
   "metadata": {
    "scrolled": true
   },
   "outputs": [],
   "source": [
    "%%bash\n",
    "\n",
    "cd /data/gersbachlab/lrb53/encodeCrisprWG/finalversion/figure1/othercelltypes/mcf7/cres\n",
    "\n",
    "wget -O mcf7.mycmyb.cres.hg38.tsv https://www.encodeproject.org/files/ENCFF016ZXU/@@download/ENCFF016ZXU.tsv\n"
   ]
  },
  {
   "cell_type": "markdown",
   "metadata": {},
   "source": [
    "### Switch to `R`"
   ]
  },
  {
   "cell_type": "markdown",
   "metadata": {},
   "source": [
    "### Load packages"
   ]
  },
  {
   "cell_type": "code",
   "execution_count": 1,
   "metadata": {},
   "outputs": [],
   "source": [
    "suppressPackageStartupMessages(library(tidyverse))"
   ]
  },
  {
   "cell_type": "markdown",
   "metadata": {},
   "source": [
    "### Generate .bed file for CREs \n",
    "\n",
    "Note for experiments with hg19, need to lift coordinates to hg38."
   ]
  },
  {
   "cell_type": "markdown",
   "metadata": {},
   "source": [
    "#### Jurkat"
   ]
  },
  {
   "cell_type": "code",
   "execution_count": 46,
   "metadata": {
    "scrolled": true
   },
   "outputs": [
    {
     "data": {
      "text/html": [
       "<table class=\"dataframe\">\n",
       "<caption>A tibble: 1 × 25</caption>\n",
       "<thead>\n",
       "\t<tr><th scope=col>chrPerturbationTarget</th><th scope=col>startPerturbationTarget</th><th scope=col>endPerturbationTarget</th><th scope=col>name</th><th scope=col>EffectSize</th><th scope=col>strandPerturbationTarget</th><th scope=col>PerturbationTargetID</th><th scope=col>chrTSS</th><th scope=col>startTSS</th><th scope=col>endTSS</th><th scope=col>⋯</th><th scope=col>guideSpacerSeq</th><th scope=col>guideSeq</th><th scope=col>Significant</th><th scope=col>pValue</th><th scope=col>pValueAdjusted</th><th scope=col>PowerAtEffectSize10</th><th scope=col>PowerAtEffectSize25</th><th scope=col>PowerAtEffectSize50</th><th scope=col>ValidConnection</th><th scope=col>Notes</th></tr>\n",
       "\t<tr><th scope=col>&lt;chr&gt;</th><th scope=col>&lt;dbl&gt;</th><th scope=col>&lt;dbl&gt;</th><th scope=col>&lt;chr&gt;</th><th scope=col>&lt;dbl&gt;</th><th scope=col>&lt;chr&gt;</th><th scope=col>&lt;chr&gt;</th><th scope=col>&lt;chr&gt;</th><th scope=col>&lt;dbl&gt;</th><th scope=col>&lt;dbl&gt;</th><th scope=col>⋯</th><th scope=col>&lt;lgl&gt;</th><th scope=col>&lt;lgl&gt;</th><th scope=col>&lt;lgl&gt;</th><th scope=col>&lt;dbl&gt;</th><th scope=col>&lt;dbl&gt;</th><th scope=col>&lt;dbl&gt;</th><th scope=col>&lt;dbl&gt;</th><th scope=col>&lt;dbl&gt;</th><th scope=col>&lt;chr&gt;</th><th scope=col>&lt;lgl&gt;</th></tr>\n",
       "</thead>\n",
       "<tbody>\n",
       "\t<tr><td>chr10</td><td>80697363</td><td>80697863</td><td>chr10:80697363-80697863:.</td><td>-0.01214189</td><td>.</td><td>chr10:80697363-80697863:.</td><td>chr10</td><td>81107219</td><td>81107220</td><td>⋯</td><td>NA</td><td>NA</td><td>FALSE</td><td>0.514781</td><td>0.9623267</td><td>0.9998485</td><td>1</td><td>1</td><td>TRUE</td><td>NA</td></tr>\n",
       "</tbody>\n",
       "</table>\n"
      ],
      "text/latex": [
       "A tibble: 1 × 25\n",
       "\\begin{tabular}{lllllllllllllllllllll}\n",
       " chrPerturbationTarget & startPerturbationTarget & endPerturbationTarget & name & EffectSize & strandPerturbationTarget & PerturbationTargetID & chrTSS & startTSS & endTSS & ⋯ & guideSpacerSeq & guideSeq & Significant & pValue & pValueAdjusted & PowerAtEffectSize10 & PowerAtEffectSize25 & PowerAtEffectSize50 & ValidConnection & Notes\\\\\n",
       " <chr> & <dbl> & <dbl> & <chr> & <dbl> & <chr> & <chr> & <chr> & <dbl> & <dbl> & ⋯ & <lgl> & <lgl> & <lgl> & <dbl> & <dbl> & <dbl> & <dbl> & <dbl> & <chr> & <lgl>\\\\\n",
       "\\hline\n",
       "\t chr10 & 80697363 & 80697863 & chr10:80697363-80697863:. & -0.01214189 & . & chr10:80697363-80697863:. & chr10 & 81107219 & 81107220 & ⋯ & NA & NA & FALSE & 0.514781 & 0.9623267 & 0.9998485 & 1 & 1 & TRUE & NA\\\\\n",
       "\\end{tabular}\n"
      ],
      "text/markdown": [
       "\n",
       "A tibble: 1 × 25\n",
       "\n",
       "| chrPerturbationTarget &lt;chr&gt; | startPerturbationTarget &lt;dbl&gt; | endPerturbationTarget &lt;dbl&gt; | name &lt;chr&gt; | EffectSize &lt;dbl&gt; | strandPerturbationTarget &lt;chr&gt; | PerturbationTargetID &lt;chr&gt; | chrTSS &lt;chr&gt; | startTSS &lt;dbl&gt; | endTSS &lt;dbl&gt; | ⋯ ⋯ | guideSpacerSeq &lt;lgl&gt; | guideSeq &lt;lgl&gt; | Significant &lt;lgl&gt; | pValue &lt;dbl&gt; | pValueAdjusted &lt;dbl&gt; | PowerAtEffectSize10 &lt;dbl&gt; | PowerAtEffectSize25 &lt;dbl&gt; | PowerAtEffectSize50 &lt;dbl&gt; | ValidConnection &lt;chr&gt; | Notes &lt;lgl&gt; |\n",
       "|---|---|---|---|---|---|---|---|---|---|---|---|---|---|---|---|---|---|---|---|---|\n",
       "| chr10 | 80697363 | 80697863 | chr10:80697363-80697863:. | -0.01214189 | . | chr10:80697363-80697863:. | chr10 | 81107219 | 81107220 | ⋯ | NA | NA | FALSE | 0.514781 | 0.9623267 | 0.9998485 | 1 | 1 | TRUE | NA |\n",
       "\n"
      ],
      "text/plain": [
       "  chrPerturbationTarget startPerturbationTarget endPerturbationTarget\n",
       "1 chr10                 80697363                80697863             \n",
       "  name                      EffectSize  strandPerturbationTarget\n",
       "1 chr10:80697363-80697863:. -0.01214189 .                       \n",
       "  PerturbationTargetID      chrTSS startTSS endTSS   ⋯ guideSpacerSeq guideSeq\n",
       "1 chr10:80697363-80697863:. chr10  81107219 81107220 ⋯ NA             NA      \n",
       "  Significant pValue   pValueAdjusted PowerAtEffectSize10 PowerAtEffectSize25\n",
       "1 FALSE       0.514781 0.9623267      0.9998485           1                  \n",
       "  PowerAtEffectSize50 ValidConnection Notes\n",
       "1 1                   TRUE            NA   "
      ]
     },
     "metadata": {},
     "output_type": "display_data"
    }
   ],
   "source": [
    "cres1 <- read_tsv(\"/data/gersbachlab/lrb53/encodeCrisprWG/finalversion/figure1/othercelltypes/jurkat/cres/jurkat.ppif.nostim.cres.hg19.tsv\",\n",
    "                  show_col_types = FALSE)\n",
    "\n",
    "head(cres1, n=1)"
   ]
  },
  {
   "cell_type": "code",
   "execution_count": 47,
   "metadata": {},
   "outputs": [
    {
     "data": {
      "text/html": [
       "<table class=\"dataframe\">\n",
       "<caption>A tibble: 1 × 25</caption>\n",
       "<thead>\n",
       "\t<tr><th scope=col>chrPerturbationTarget</th><th scope=col>startPerturbationTarget</th><th scope=col>endPerturbationTarget</th><th scope=col>name</th><th scope=col>EffectSize</th><th scope=col>strandPerturbationTarget</th><th scope=col>PerturbationTargetID</th><th scope=col>chrTSS</th><th scope=col>startTSS</th><th scope=col>endTSS</th><th scope=col>⋯</th><th scope=col>guideSpacerSeq</th><th scope=col>guideSeq</th><th scope=col>Significant</th><th scope=col>pValue</th><th scope=col>pValueAdjusted</th><th scope=col>PowerAtEffectSize10</th><th scope=col>PowerAtEffectSize25</th><th scope=col>PowerAtEffectSize50</th><th scope=col>ValidConnection</th><th scope=col>Notes</th></tr>\n",
       "\t<tr><th scope=col>&lt;chr&gt;</th><th scope=col>&lt;dbl&gt;</th><th scope=col>&lt;dbl&gt;</th><th scope=col>&lt;chr&gt;</th><th scope=col>&lt;dbl&gt;</th><th scope=col>&lt;chr&gt;</th><th scope=col>&lt;chr&gt;</th><th scope=col>&lt;chr&gt;</th><th scope=col>&lt;dbl&gt;</th><th scope=col>&lt;dbl&gt;</th><th scope=col>⋯</th><th scope=col>&lt;lgl&gt;</th><th scope=col>&lt;lgl&gt;</th><th scope=col>&lt;lgl&gt;</th><th scope=col>&lt;dbl&gt;</th><th scope=col>&lt;dbl&gt;</th><th scope=col>&lt;dbl&gt;</th><th scope=col>&lt;dbl&gt;</th><th scope=col>&lt;dbl&gt;</th><th scope=col>&lt;chr&gt;</th><th scope=col>&lt;lgl&gt;</th></tr>\n",
       "</thead>\n",
       "<tbody>\n",
       "\t<tr><td>chr10</td><td>80697384</td><td>80697884</td><td>chr10:80697384-80697884:.</td><td>0.0545405</td><td>.</td><td>chr10:80697384-80697884:.</td><td>chr10</td><td>81107219</td><td>81107220</td><td>⋯</td><td>NA</td><td>NA</td><td>FALSE</td><td>0.3386024</td><td>0.8114805</td><td>0.3701223</td><td>0.997376</td><td>1</td><td>TRUE</td><td>NA</td></tr>\n",
       "</tbody>\n",
       "</table>\n"
      ],
      "text/latex": [
       "A tibble: 1 × 25\n",
       "\\begin{tabular}{lllllllllllllllllllll}\n",
       " chrPerturbationTarget & startPerturbationTarget & endPerturbationTarget & name & EffectSize & strandPerturbationTarget & PerturbationTargetID & chrTSS & startTSS & endTSS & ⋯ & guideSpacerSeq & guideSeq & Significant & pValue & pValueAdjusted & PowerAtEffectSize10 & PowerAtEffectSize25 & PowerAtEffectSize50 & ValidConnection & Notes\\\\\n",
       " <chr> & <dbl> & <dbl> & <chr> & <dbl> & <chr> & <chr> & <chr> & <dbl> & <dbl> & ⋯ & <lgl> & <lgl> & <lgl> & <dbl> & <dbl> & <dbl> & <dbl> & <dbl> & <chr> & <lgl>\\\\\n",
       "\\hline\n",
       "\t chr10 & 80697384 & 80697884 & chr10:80697384-80697884:. & 0.0545405 & . & chr10:80697384-80697884:. & chr10 & 81107219 & 81107220 & ⋯ & NA & NA & FALSE & 0.3386024 & 0.8114805 & 0.3701223 & 0.997376 & 1 & TRUE & NA\\\\\n",
       "\\end{tabular}\n"
      ],
      "text/markdown": [
       "\n",
       "A tibble: 1 × 25\n",
       "\n",
       "| chrPerturbationTarget &lt;chr&gt; | startPerturbationTarget &lt;dbl&gt; | endPerturbationTarget &lt;dbl&gt; | name &lt;chr&gt; | EffectSize &lt;dbl&gt; | strandPerturbationTarget &lt;chr&gt; | PerturbationTargetID &lt;chr&gt; | chrTSS &lt;chr&gt; | startTSS &lt;dbl&gt; | endTSS &lt;dbl&gt; | ⋯ ⋯ | guideSpacerSeq &lt;lgl&gt; | guideSeq &lt;lgl&gt; | Significant &lt;lgl&gt; | pValue &lt;dbl&gt; | pValueAdjusted &lt;dbl&gt; | PowerAtEffectSize10 &lt;dbl&gt; | PowerAtEffectSize25 &lt;dbl&gt; | PowerAtEffectSize50 &lt;dbl&gt; | ValidConnection &lt;chr&gt; | Notes &lt;lgl&gt; |\n",
       "|---|---|---|---|---|---|---|---|---|---|---|---|---|---|---|---|---|---|---|---|---|\n",
       "| chr10 | 80697384 | 80697884 | chr10:80697384-80697884:. | 0.0545405 | . | chr10:80697384-80697884:. | chr10 | 81107219 | 81107220 | ⋯ | NA | NA | FALSE | 0.3386024 | 0.8114805 | 0.3701223 | 0.997376 | 1 | TRUE | NA |\n",
       "\n"
      ],
      "text/plain": [
       "  chrPerturbationTarget startPerturbationTarget endPerturbationTarget\n",
       "1 chr10                 80697384                80697884             \n",
       "  name                      EffectSize strandPerturbationTarget\n",
       "1 chr10:80697384-80697884:. 0.0545405  .                       \n",
       "  PerturbationTargetID      chrTSS startTSS endTSS   ⋯ guideSpacerSeq guideSeq\n",
       "1 chr10:80697384-80697884:. chr10  81107219 81107220 ⋯ NA             NA      \n",
       "  Significant pValue    pValueAdjusted PowerAtEffectSize10 PowerAtEffectSize25\n",
       "1 FALSE       0.3386024 0.8114805      0.3701223           0.997376           \n",
       "  PowerAtEffectSize50 ValidConnection Notes\n",
       "1 1                   TRUE            NA   "
      ]
     },
     "metadata": {},
     "output_type": "display_data"
    }
   ],
   "source": [
    "cres2 <- read_tsv(\"/data/gersbachlab/lrb53/encodeCrisprWG/finalversion/figure1/othercelltypes/jurkat/cres/jurkat.ppif.withstim.cres.hg19.tsv\",\n",
    "                  show_col_types = FALSE)\n",
    "\n",
    "head(cres2, n=1)"
   ]
  },
  {
   "cell_type": "code",
   "execution_count": 48,
   "metadata": {},
   "outputs": [
    {
     "data": {
      "text/html": [
       "<table class=\"dataframe\">\n",
       "<caption>A tibble: 1 × 3</caption>\n",
       "<thead>\n",
       "\t<tr><th scope=col>chrPerturbationTarget</th><th scope=col>startPerturbationTarget</th><th scope=col>endPerturbationTarget</th></tr>\n",
       "\t<tr><th scope=col>&lt;chr&gt;</th><th scope=col>&lt;dbl&gt;</th><th scope=col>&lt;dbl&gt;</th></tr>\n",
       "</thead>\n",
       "<tbody>\n",
       "\t<tr><td>chr10</td><td>81082870</td><td>81083370</td></tr>\n",
       "</tbody>\n",
       "</table>\n"
      ],
      "text/latex": [
       "A tibble: 1 × 3\n",
       "\\begin{tabular}{lll}\n",
       " chrPerturbationTarget & startPerturbationTarget & endPerturbationTarget\\\\\n",
       " <chr> & <dbl> & <dbl>\\\\\n",
       "\\hline\n",
       "\t chr10 & 81082870 & 81083370\\\\\n",
       "\\end{tabular}\n"
      ],
      "text/markdown": [
       "\n",
       "A tibble: 1 × 3\n",
       "\n",
       "| chrPerturbationTarget &lt;chr&gt; | startPerturbationTarget &lt;dbl&gt; | endPerturbationTarget &lt;dbl&gt; |\n",
       "|---|---|---|\n",
       "| chr10 | 81082870 | 81083370 |\n",
       "\n"
      ],
      "text/plain": [
       "  chrPerturbationTarget startPerturbationTarget endPerturbationTarget\n",
       "1 chr10                 81082870                81083370             "
      ]
     },
     "metadata": {},
     "output_type": "display_data"
    },
    {
     "data": {
      "text/html": [
       "<style>\n",
       ".list-inline {list-style: none; margin:0; padding: 0}\n",
       ".list-inline>li {display: inline-block}\n",
       ".list-inline>li:not(:last-child)::after {content: \"\\00b7\"; padding: 0 .5ex}\n",
       "</style>\n",
       "<ol class=list-inline><li>12</li><li>3</li></ol>\n"
      ],
      "text/latex": [
       "\\begin{enumerate*}\n",
       "\\item 12\n",
       "\\item 3\n",
       "\\end{enumerate*}\n"
      ],
      "text/markdown": [
       "1. 12\n",
       "2. 3\n",
       "\n",
       "\n"
      ],
      "text/plain": [
       "[1] 12  3"
      ]
     },
     "metadata": {},
     "output_type": "display_data"
    }
   ],
   "source": [
    "bed <- \n",
    "cres1 %>%\n",
    "filter(Significant == TRUE) %>%\n",
    "select(chrPerturbationTarget:endPerturbationTarget) %>%\n",
    "distinct() %>%\n",
    "rbind(cres2 %>%\n",
    "      filter(Significant == TRUE) %>%\n",
    "      select(chrPerturbationTarget:endPerturbationTarget) %>%\n",
    "      distinct()\n",
    "     ) %>%\n",
    "distinct()\n",
    "\n",
    "head(bed,n=1)\n",
    "dim(bed)"
   ]
  },
  {
   "cell_type": "code",
   "execution_count": 49,
   "metadata": {},
   "outputs": [],
   "source": [
    "bed %>%\n",
    "write.table(\"/data/gersbachlab/lrb53/encodeCrisprWG/finalversion/figure1/othercelltypes/jurkat/cres/jurkat.ppif.allcres.hg19.bed\",\n",
    "            col.names=F, row.names=F, quote=F, sep=\"\\t\")\n"
   ]
  },
  {
   "cell_type": "markdown",
   "metadata": {},
   "source": [
    "#### GM12878"
   ]
  },
  {
   "cell_type": "code",
   "execution_count": 50,
   "metadata": {},
   "outputs": [
    {
     "data": {
      "text/html": [
       "<table class=\"dataframe\">\n",
       "<caption>A tibble: 1 × 25</caption>\n",
       "<thead>\n",
       "\t<tr><th scope=col>chrPerturbationTarget</th><th scope=col>startPerturbationTarget</th><th scope=col>endPerturbationTarget</th><th scope=col>name</th><th scope=col>EffectSize</th><th scope=col>strandPerturbationTarget</th><th scope=col>PerturbationTargetID</th><th scope=col>chrTSS</th><th scope=col>startTSS</th><th scope=col>endTSS</th><th scope=col>⋯</th><th scope=col>guideSpacerSeq</th><th scope=col>guideSeq</th><th scope=col>Significant</th><th scope=col>pValue</th><th scope=col>pValueAdjusted</th><th scope=col>PowerAtEffectSize10</th><th scope=col>PowerAtEffectSize25</th><th scope=col>PowerAtEffectSize50</th><th scope=col>ValidConnection</th><th scope=col>Notes</th></tr>\n",
       "\t<tr><th scope=col>&lt;chr&gt;</th><th scope=col>&lt;dbl&gt;</th><th scope=col>&lt;dbl&gt;</th><th scope=col>&lt;chr&gt;</th><th scope=col>&lt;dbl&gt;</th><th scope=col>&lt;chr&gt;</th><th scope=col>&lt;chr&gt;</th><th scope=col>&lt;chr&gt;</th><th scope=col>&lt;dbl&gt;</th><th scope=col>&lt;dbl&gt;</th><th scope=col>⋯</th><th scope=col>&lt;lgl&gt;</th><th scope=col>&lt;lgl&gt;</th><th scope=col>&lt;lgl&gt;</th><th scope=col>&lt;dbl&gt;</th><th scope=col>&lt;dbl&gt;</th><th scope=col>&lt;dbl&gt;</th><th scope=col>&lt;dbl&gt;</th><th scope=col>&lt;dbl&gt;</th><th scope=col>&lt;chr&gt;</th><th scope=col>&lt;lgl&gt;</th></tr>\n",
       "</thead>\n",
       "<tbody>\n",
       "\t<tr><td>chr10</td><td>80712806</td><td>80713306</td><td>chr10:80712806-80713306:.</td><td>0.0033047</td><td>.</td><td>chr10:80712806-80713306:.</td><td>chr10</td><td>81107219</td><td>81107220</td><td>⋯</td><td>NA</td><td>NA</td><td>FALSE</td><td>0.9867826</td><td>0.9867826</td><td>0.9999828</td><td>1</td><td>1</td><td>TRUE</td><td>NA</td></tr>\n",
       "</tbody>\n",
       "</table>\n"
      ],
      "text/latex": [
       "A tibble: 1 × 25\n",
       "\\begin{tabular}{lllllllllllllllllllll}\n",
       " chrPerturbationTarget & startPerturbationTarget & endPerturbationTarget & name & EffectSize & strandPerturbationTarget & PerturbationTargetID & chrTSS & startTSS & endTSS & ⋯ & guideSpacerSeq & guideSeq & Significant & pValue & pValueAdjusted & PowerAtEffectSize10 & PowerAtEffectSize25 & PowerAtEffectSize50 & ValidConnection & Notes\\\\\n",
       " <chr> & <dbl> & <dbl> & <chr> & <dbl> & <chr> & <chr> & <chr> & <dbl> & <dbl> & ⋯ & <lgl> & <lgl> & <lgl> & <dbl> & <dbl> & <dbl> & <dbl> & <dbl> & <chr> & <lgl>\\\\\n",
       "\\hline\n",
       "\t chr10 & 80712806 & 80713306 & chr10:80712806-80713306:. & 0.0033047 & . & chr10:80712806-80713306:. & chr10 & 81107219 & 81107220 & ⋯ & NA & NA & FALSE & 0.9867826 & 0.9867826 & 0.9999828 & 1 & 1 & TRUE & NA\\\\\n",
       "\\end{tabular}\n"
      ],
      "text/markdown": [
       "\n",
       "A tibble: 1 × 25\n",
       "\n",
       "| chrPerturbationTarget &lt;chr&gt; | startPerturbationTarget &lt;dbl&gt; | endPerturbationTarget &lt;dbl&gt; | name &lt;chr&gt; | EffectSize &lt;dbl&gt; | strandPerturbationTarget &lt;chr&gt; | PerturbationTargetID &lt;chr&gt; | chrTSS &lt;chr&gt; | startTSS &lt;dbl&gt; | endTSS &lt;dbl&gt; | ⋯ ⋯ | guideSpacerSeq &lt;lgl&gt; | guideSeq &lt;lgl&gt; | Significant &lt;lgl&gt; | pValue &lt;dbl&gt; | pValueAdjusted &lt;dbl&gt; | PowerAtEffectSize10 &lt;dbl&gt; | PowerAtEffectSize25 &lt;dbl&gt; | PowerAtEffectSize50 &lt;dbl&gt; | ValidConnection &lt;chr&gt; | Notes &lt;lgl&gt; |\n",
       "|---|---|---|---|---|---|---|---|---|---|---|---|---|---|---|---|---|---|---|---|---|\n",
       "| chr10 | 80712806 | 80713306 | chr10:80712806-80713306:. | 0.0033047 | . | chr10:80712806-80713306:. | chr10 | 81107219 | 81107220 | ⋯ | NA | NA | FALSE | 0.9867826 | 0.9867826 | 0.9999828 | 1 | 1 | TRUE | NA |\n",
       "\n"
      ],
      "text/plain": [
       "  chrPerturbationTarget startPerturbationTarget endPerturbationTarget\n",
       "1 chr10                 80712806                80713306             \n",
       "  name                      EffectSize strandPerturbationTarget\n",
       "1 chr10:80712806-80713306:. 0.0033047  .                       \n",
       "  PerturbationTargetID      chrTSS startTSS endTSS   ⋯ guideSpacerSeq guideSeq\n",
       "1 chr10:80712806-80713306:. chr10  81107219 81107220 ⋯ NA             NA      \n",
       "  Significant pValue    pValueAdjusted PowerAtEffectSize10 PowerAtEffectSize25\n",
       "1 FALSE       0.9867826 0.9867826      0.9999828           1                  \n",
       "  PowerAtEffectSize50 ValidConnection Notes\n",
       "1 1                   TRUE            NA   "
      ]
     },
     "metadata": {},
     "output_type": "display_data"
    }
   ],
   "source": [
    "cres <- read_tsv(\"/data/gersbachlab/lrb53/encodeCrisprWG/finalversion/figure1/othercelltypes/gm12878/cres/gm12878.ppif.cres.hg19.tsv\",\n",
    "                  show_col_types = FALSE)\n",
    "\n",
    "head(cres, n=1)"
   ]
  },
  {
   "cell_type": "code",
   "execution_count": 51,
   "metadata": {},
   "outputs": [
    {
     "data": {
      "text/html": [
       "<table class=\"dataframe\">\n",
       "<caption>A tibble: 1 × 3</caption>\n",
       "<thead>\n",
       "\t<tr><th scope=col>chrPerturbationTarget</th><th scope=col>startPerturbationTarget</th><th scope=col>endPerturbationTarget</th></tr>\n",
       "\t<tr><th scope=col>&lt;chr&gt;</th><th scope=col>&lt;dbl&gt;</th><th scope=col>&lt;dbl&gt;</th></tr>\n",
       "</thead>\n",
       "<tbody>\n",
       "\t<tr><td>chr10</td><td>80782948</td><td>80783448</td></tr>\n",
       "</tbody>\n",
       "</table>\n"
      ],
      "text/latex": [
       "A tibble: 1 × 3\n",
       "\\begin{tabular}{lll}\n",
       " chrPerturbationTarget & startPerturbationTarget & endPerturbationTarget\\\\\n",
       " <chr> & <dbl> & <dbl>\\\\\n",
       "\\hline\n",
       "\t chr10 & 80782948 & 80783448\\\\\n",
       "\\end{tabular}\n"
      ],
      "text/markdown": [
       "\n",
       "A tibble: 1 × 3\n",
       "\n",
       "| chrPerturbationTarget &lt;chr&gt; | startPerturbationTarget &lt;dbl&gt; | endPerturbationTarget &lt;dbl&gt; |\n",
       "|---|---|---|\n",
       "| chr10 | 80782948 | 80783448 |\n",
       "\n"
      ],
      "text/plain": [
       "  chrPerturbationTarget startPerturbationTarget endPerturbationTarget\n",
       "1 chr10                 80782948                80783448             "
      ]
     },
     "metadata": {},
     "output_type": "display_data"
    },
    {
     "data": {
      "text/html": [
       "<style>\n",
       ".list-inline {list-style: none; margin:0; padding: 0}\n",
       ".list-inline>li {display: inline-block}\n",
       ".list-inline>li:not(:last-child)::after {content: \"\\00b7\"; padding: 0 .5ex}\n",
       "</style>\n",
       "<ol class=list-inline><li>14</li><li>3</li></ol>\n"
      ],
      "text/latex": [
       "\\begin{enumerate*}\n",
       "\\item 14\n",
       "\\item 3\n",
       "\\end{enumerate*}\n"
      ],
      "text/markdown": [
       "1. 14\n",
       "2. 3\n",
       "\n",
       "\n"
      ],
      "text/plain": [
       "[1] 14  3"
      ]
     },
     "metadata": {},
     "output_type": "display_data"
    }
   ],
   "source": [
    "bed <- \n",
    "cres %>%\n",
    "filter(Significant == TRUE) %>%\n",
    "select(chrPerturbationTarget:endPerturbationTarget) %>%\n",
    "distinct() \n",
    "\n",
    "head(bed,n=1)\n",
    "dim(bed)"
   ]
  },
  {
   "cell_type": "code",
   "execution_count": 52,
   "metadata": {},
   "outputs": [],
   "source": [
    "bed %>%\n",
    "write.table(\"/data/gersbachlab/lrb53/encodeCrisprWG/finalversion/figure1/othercelltypes/gm12878/cres/gm12878.ppif.allcres.hg19.bed\",\n",
    "            col.names=F, row.names=F, quote=F, sep=\"\\t\")\n"
   ]
  },
  {
   "cell_type": "markdown",
   "metadata": {},
   "source": [
    "#### HepG2"
   ]
  },
  {
   "cell_type": "code",
   "execution_count": 53,
   "metadata": {},
   "outputs": [
    {
     "data": {
      "text/html": [
       "<table class=\"dataframe\">\n",
       "<caption>A tibble: 1 × 25</caption>\n",
       "<thead>\n",
       "\t<tr><th scope=col>chrom</th><th scope=col>chromStart</th><th scope=col>chromEnd</th><th scope=col>name</th><th scope=col>EffectSize</th><th scope=col>strandPerturbationTarget</th><th scope=col>PerturbationTargetID</th><th scope=col>chrTSS</th><th scope=col>startTSS</th><th scope=col>endTSS</th><th scope=col>⋯</th><th scope=col>guideSpacerSeq</th><th scope=col>guideSeq</th><th scope=col>Significant</th><th scope=col>pValue</th><th scope=col>pValueAdjusted</th><th scope=col>PowerAtEffectSize10</th><th scope=col>PowerAtEffectSize25</th><th scope=col>PowerAtEffectSize50</th><th scope=col>ValidConnection</th><th scope=col>Notes</th></tr>\n",
       "\t<tr><th scope=col>&lt;chr&gt;</th><th scope=col>&lt;dbl&gt;</th><th scope=col>&lt;dbl&gt;</th><th scope=col>&lt;chr&gt;</th><th scope=col>&lt;dbl&gt;</th><th scope=col>&lt;chr&gt;</th><th scope=col>&lt;chr&gt;</th><th scope=col>&lt;chr&gt;</th><th scope=col>&lt;dbl&gt;</th><th scope=col>&lt;dbl&gt;</th><th scope=col>⋯</th><th scope=col>&lt;lgl&gt;</th><th scope=col>&lt;lgl&gt;</th><th scope=col>&lt;lgl&gt;</th><th scope=col>&lt;lgl&gt;</th><th scope=col>&lt;lgl&gt;</th><th scope=col>&lt;lgl&gt;</th><th scope=col>&lt;lgl&gt;</th><th scope=col>&lt;lgl&gt;</th><th scope=col>&lt;lgl&gt;</th><th scope=col>&lt;lgl&gt;</th></tr>\n",
       "</thead>\n",
       "<tbody>\n",
       "\t<tr><td>chr8</td><td>128552785</td><td>128560796</td><td>MYC|chr8:128552785-128560796</td><td>328.4915</td><td>.</td><td>MYC|chr8:128552785-128560796</td><td>chr8</td><td>127735434</td><td>127742951</td><td>⋯</td><td>NA</td><td>NA</td><td>TRUE</td><td>NA</td><td>NA</td><td>NA</td><td>NA</td><td>NA</td><td>TRUE</td><td>NA</td></tr>\n",
       "</tbody>\n",
       "</table>\n"
      ],
      "text/latex": [
       "A tibble: 1 × 25\n",
       "\\begin{tabular}{lllllllllllllllllllll}\n",
       " chrom & chromStart & chromEnd & name & EffectSize & strandPerturbationTarget & PerturbationTargetID & chrTSS & startTSS & endTSS & ⋯ & guideSpacerSeq & guideSeq & Significant & pValue & pValueAdjusted & PowerAtEffectSize10 & PowerAtEffectSize25 & PowerAtEffectSize50 & ValidConnection & Notes\\\\\n",
       " <chr> & <dbl> & <dbl> & <chr> & <dbl> & <chr> & <chr> & <chr> & <dbl> & <dbl> & ⋯ & <lgl> & <lgl> & <lgl> & <lgl> & <lgl> & <lgl> & <lgl> & <lgl> & <lgl> & <lgl>\\\\\n",
       "\\hline\n",
       "\t chr8 & 128552785 & 128560796 & MYC\\textbar{}chr8:128552785-128560796 & 328.4915 & . & MYC\\textbar{}chr8:128552785-128560796 & chr8 & 127735434 & 127742951 & ⋯ & NA & NA & TRUE & NA & NA & NA & NA & NA & TRUE & NA\\\\\n",
       "\\end{tabular}\n"
      ],
      "text/markdown": [
       "\n",
       "A tibble: 1 × 25\n",
       "\n",
       "| chrom &lt;chr&gt; | chromStart &lt;dbl&gt; | chromEnd &lt;dbl&gt; | name &lt;chr&gt; | EffectSize &lt;dbl&gt; | strandPerturbationTarget &lt;chr&gt; | PerturbationTargetID &lt;chr&gt; | chrTSS &lt;chr&gt; | startTSS &lt;dbl&gt; | endTSS &lt;dbl&gt; | ⋯ ⋯ | guideSpacerSeq &lt;lgl&gt; | guideSeq &lt;lgl&gt; | Significant &lt;lgl&gt; | pValue &lt;lgl&gt; | pValueAdjusted &lt;lgl&gt; | PowerAtEffectSize10 &lt;lgl&gt; | PowerAtEffectSize25 &lt;lgl&gt; | PowerAtEffectSize50 &lt;lgl&gt; | ValidConnection &lt;lgl&gt; | Notes &lt;lgl&gt; |\n",
       "|---|---|---|---|---|---|---|---|---|---|---|---|---|---|---|---|---|---|---|---|---|\n",
       "| chr8 | 128552785 | 128560796 | MYC|chr8:128552785-128560796 | 328.4915 | . | MYC|chr8:128552785-128560796 | chr8 | 127735434 | 127742951 | ⋯ | NA | NA | TRUE | NA | NA | NA | NA | NA | TRUE | NA |\n",
       "\n"
      ],
      "text/plain": [
       "  chrom chromStart chromEnd  name                         EffectSize\n",
       "1 chr8  128552785  128560796 MYC|chr8:128552785-128560796 328.4915  \n",
       "  strandPerturbationTarget PerturbationTargetID         chrTSS startTSS \n",
       "1 .                        MYC|chr8:128552785-128560796 chr8   127735434\n",
       "  endTSS    ⋯ guideSpacerSeq guideSeq Significant pValue pValueAdjusted\n",
       "1 127742951 ⋯ NA             NA       TRUE        NA     NA            \n",
       "  PowerAtEffectSize10 PowerAtEffectSize25 PowerAtEffectSize50 ValidConnection\n",
       "1 NA                  NA                  NA                  TRUE           \n",
       "  Notes\n",
       "1 NA   "
      ]
     },
     "metadata": {},
     "output_type": "display_data"
    }
   ],
   "source": [
    "cres <- read_tsv(\"/data/gersbachlab/lrb53/encodeCrisprWG/finalversion/figure1/othercelltypes/hepg2/cres/hepg2.mycmyb.cres.hg38.tsv\",\n",
    "                  show_col_types = FALSE)\n",
    "\n",
    "head(cres, n=1)"
   ]
  },
  {
   "cell_type": "code",
   "execution_count": 54,
   "metadata": {},
   "outputs": [
    {
     "data": {
      "text/html": [
       "<table class=\"dataframe\">\n",
       "<caption>A tibble: 1 × 3</caption>\n",
       "<thead>\n",
       "\t<tr><th scope=col>chrom</th><th scope=col>chromStart</th><th scope=col>chromEnd</th></tr>\n",
       "\t<tr><th scope=col>&lt;chr&gt;</th><th scope=col>&lt;dbl&gt;</th><th scope=col>&lt;dbl&gt;</th></tr>\n",
       "</thead>\n",
       "<tbody>\n",
       "\t<tr><td>chr8</td><td>128552785</td><td>128560796</td></tr>\n",
       "</tbody>\n",
       "</table>\n"
      ],
      "text/latex": [
       "A tibble: 1 × 3\n",
       "\\begin{tabular}{lll}\n",
       " chrom & chromStart & chromEnd\\\\\n",
       " <chr> & <dbl> & <dbl>\\\\\n",
       "\\hline\n",
       "\t chr8 & 128552785 & 128560796\\\\\n",
       "\\end{tabular}\n"
      ],
      "text/markdown": [
       "\n",
       "A tibble: 1 × 3\n",
       "\n",
       "| chrom &lt;chr&gt; | chromStart &lt;dbl&gt; | chromEnd &lt;dbl&gt; |\n",
       "|---|---|---|\n",
       "| chr8 | 128552785 | 128560796 |\n",
       "\n"
      ],
      "text/plain": [
       "  chrom chromStart chromEnd \n",
       "1 chr8  128552785  128560796"
      ]
     },
     "metadata": {},
     "output_type": "display_data"
    },
    {
     "data": {
      "text/html": [
       "<style>\n",
       ".list-inline {list-style: none; margin:0; padding: 0}\n",
       ".list-inline>li {display: inline-block}\n",
       ".list-inline>li:not(:last-child)::after {content: \"\\00b7\"; padding: 0 .5ex}\n",
       "</style>\n",
       "<ol class=list-inline><li>2</li><li>3</li></ol>\n"
      ],
      "text/latex": [
       "\\begin{enumerate*}\n",
       "\\item 2\n",
       "\\item 3\n",
       "\\end{enumerate*}\n"
      ],
      "text/markdown": [
       "1. 2\n",
       "2. 3\n",
       "\n",
       "\n"
      ],
      "text/plain": [
       "[1] 2 3"
      ]
     },
     "metadata": {},
     "output_type": "display_data"
    }
   ],
   "source": [
    "bed <- \n",
    "cres %>%\n",
    "filter(Significant == TRUE) %>%\n",
    "select(chrom:chromEnd) %>%\n",
    "distinct() \n",
    "\n",
    "head(bed,n=1)\n",
    "dim(bed)"
   ]
  },
  {
   "cell_type": "code",
   "execution_count": 55,
   "metadata": {},
   "outputs": [],
   "source": [
    "bed %>%\n",
    "write.table(\"/data/gersbachlab/lrb53/encodeCrisprWG/finalversion/figure1/othercelltypes/hepg2/cres/hepg2.mycmyb.allcres.hg38.bed\",\n",
    "            col.names=F, row.names=F, quote=F, sep=\"\\t\")\n"
   ]
  },
  {
   "cell_type": "markdown",
   "metadata": {},
   "source": [
    "#### A549"
   ]
  },
  {
   "cell_type": "code",
   "execution_count": 56,
   "metadata": {},
   "outputs": [
    {
     "data": {
      "text/html": [
       "<table class=\"dataframe\">\n",
       "<caption>A tibble: 1 × 25</caption>\n",
       "<thead>\n",
       "\t<tr><th scope=col>chrom</th><th scope=col>chromStart</th><th scope=col>chromEnd</th><th scope=col>name</th><th scope=col>EffectSize</th><th scope=col>strandPerturbationTarget</th><th scope=col>PerturbationTargetID</th><th scope=col>chrTSS</th><th scope=col>startTSS</th><th scope=col>endTSS</th><th scope=col>⋯</th><th scope=col>guideSpacerSeq</th><th scope=col>guideSeq</th><th scope=col>Significant</th><th scope=col>pValue</th><th scope=col>pValueAdjusted</th><th scope=col>PowerAtEffectSize10</th><th scope=col>PowerAtEffectSize25</th><th scope=col>PowerAtEffectSize50</th><th scope=col>ValidConnection</th><th scope=col>Notes</th></tr>\n",
       "\t<tr><th scope=col>&lt;chr&gt;</th><th scope=col>&lt;dbl&gt;</th><th scope=col>&lt;dbl&gt;</th><th scope=col>&lt;chr&gt;</th><th scope=col>&lt;dbl&gt;</th><th scope=col>&lt;chr&gt;</th><th scope=col>&lt;chr&gt;</th><th scope=col>&lt;chr&gt;</th><th scope=col>&lt;dbl&gt;</th><th scope=col>&lt;dbl&gt;</th><th scope=col>⋯</th><th scope=col>&lt;lgl&gt;</th><th scope=col>&lt;lgl&gt;</th><th scope=col>&lt;lgl&gt;</th><th scope=col>&lt;lgl&gt;</th><th scope=col>&lt;lgl&gt;</th><th scope=col>&lt;lgl&gt;</th><th scope=col>&lt;lgl&gt;</th><th scope=col>&lt;lgl&gt;</th><th scope=col>&lt;lgl&gt;</th><th scope=col>&lt;lgl&gt;</th></tr>\n",
       "</thead>\n",
       "<tbody>\n",
       "\t<tr><td>chr6</td><td>135053543</td><td>135055818</td><td>MYB|chr6:135053543-135055818</td><td>30.06144</td><td>.</td><td>MYB|chr6:135053543-135055818</td><td>chr6</td><td>135181308</td><td>135219173</td><td>⋯</td><td>NA</td><td>NA</td><td>TRUE</td><td>NA</td><td>NA</td><td>NA</td><td>NA</td><td>NA</td><td>NA</td><td>NA</td></tr>\n",
       "</tbody>\n",
       "</table>\n"
      ],
      "text/latex": [
       "A tibble: 1 × 25\n",
       "\\begin{tabular}{lllllllllllllllllllll}\n",
       " chrom & chromStart & chromEnd & name & EffectSize & strandPerturbationTarget & PerturbationTargetID & chrTSS & startTSS & endTSS & ⋯ & guideSpacerSeq & guideSeq & Significant & pValue & pValueAdjusted & PowerAtEffectSize10 & PowerAtEffectSize25 & PowerAtEffectSize50 & ValidConnection & Notes\\\\\n",
       " <chr> & <dbl> & <dbl> & <chr> & <dbl> & <chr> & <chr> & <chr> & <dbl> & <dbl> & ⋯ & <lgl> & <lgl> & <lgl> & <lgl> & <lgl> & <lgl> & <lgl> & <lgl> & <lgl> & <lgl>\\\\\n",
       "\\hline\n",
       "\t chr6 & 135053543 & 135055818 & MYB\\textbar{}chr6:135053543-135055818 & 30.06144 & . & MYB\\textbar{}chr6:135053543-135055818 & chr6 & 135181308 & 135219173 & ⋯ & NA & NA & TRUE & NA & NA & NA & NA & NA & NA & NA\\\\\n",
       "\\end{tabular}\n"
      ],
      "text/markdown": [
       "\n",
       "A tibble: 1 × 25\n",
       "\n",
       "| chrom &lt;chr&gt; | chromStart &lt;dbl&gt; | chromEnd &lt;dbl&gt; | name &lt;chr&gt; | EffectSize &lt;dbl&gt; | strandPerturbationTarget &lt;chr&gt; | PerturbationTargetID &lt;chr&gt; | chrTSS &lt;chr&gt; | startTSS &lt;dbl&gt; | endTSS &lt;dbl&gt; | ⋯ ⋯ | guideSpacerSeq &lt;lgl&gt; | guideSeq &lt;lgl&gt; | Significant &lt;lgl&gt; | pValue &lt;lgl&gt; | pValueAdjusted &lt;lgl&gt; | PowerAtEffectSize10 &lt;lgl&gt; | PowerAtEffectSize25 &lt;lgl&gt; | PowerAtEffectSize50 &lt;lgl&gt; | ValidConnection &lt;lgl&gt; | Notes &lt;lgl&gt; |\n",
       "|---|---|---|---|---|---|---|---|---|---|---|---|---|---|---|---|---|---|---|---|---|\n",
       "| chr6 | 135053543 | 135055818 | MYB|chr6:135053543-135055818 | 30.06144 | . | MYB|chr6:135053543-135055818 | chr6 | 135181308 | 135219173 | ⋯ | NA | NA | TRUE | NA | NA | NA | NA | NA | NA | NA |\n",
       "\n"
      ],
      "text/plain": [
       "  chrom chromStart chromEnd  name                         EffectSize\n",
       "1 chr6  135053543  135055818 MYB|chr6:135053543-135055818 30.06144  \n",
       "  strandPerturbationTarget PerturbationTargetID         chrTSS startTSS \n",
       "1 .                        MYB|chr6:135053543-135055818 chr6   135181308\n",
       "  endTSS    ⋯ guideSpacerSeq guideSeq Significant pValue pValueAdjusted\n",
       "1 135219173 ⋯ NA             NA       TRUE        NA     NA            \n",
       "  PowerAtEffectSize10 PowerAtEffectSize25 PowerAtEffectSize50 ValidConnection\n",
       "1 NA                  NA                  NA                  NA             \n",
       "  Notes\n",
       "1 NA   "
      ]
     },
     "metadata": {},
     "output_type": "display_data"
    }
   ],
   "source": [
    "cres <- read_tsv(\"/data/gersbachlab/lrb53/encodeCrisprWG/finalversion/figure1/othercelltypes/a549/cres/a549.mycmyb.cres.hg38.tsv\",\n",
    "                  show_col_types = FALSE)\n",
    "\n",
    "head(cres, n=1)"
   ]
  },
  {
   "cell_type": "code",
   "execution_count": 57,
   "metadata": {},
   "outputs": [
    {
     "data": {
      "text/html": [
       "<table class=\"dataframe\">\n",
       "<caption>A tibble: 1 × 3</caption>\n",
       "<thead>\n",
       "\t<tr><th scope=col>chrom</th><th scope=col>chromStart</th><th scope=col>chromEnd</th></tr>\n",
       "\t<tr><th scope=col>&lt;chr&gt;</th><th scope=col>&lt;dbl&gt;</th><th scope=col>&lt;dbl&gt;</th></tr>\n",
       "</thead>\n",
       "<tbody>\n",
       "\t<tr><td>chr6</td><td>135053543</td><td>135055818</td></tr>\n",
       "</tbody>\n",
       "</table>\n"
      ],
      "text/latex": [
       "A tibble: 1 × 3\n",
       "\\begin{tabular}{lll}\n",
       " chrom & chromStart & chromEnd\\\\\n",
       " <chr> & <dbl> & <dbl>\\\\\n",
       "\\hline\n",
       "\t chr6 & 135053543 & 135055818\\\\\n",
       "\\end{tabular}\n"
      ],
      "text/markdown": [
       "\n",
       "A tibble: 1 × 3\n",
       "\n",
       "| chrom &lt;chr&gt; | chromStart &lt;dbl&gt; | chromEnd &lt;dbl&gt; |\n",
       "|---|---|---|\n",
       "| chr6 | 135053543 | 135055818 |\n",
       "\n"
      ],
      "text/plain": [
       "  chrom chromStart chromEnd \n",
       "1 chr6  135053543  135055818"
      ]
     },
     "metadata": {},
     "output_type": "display_data"
    },
    {
     "data": {
      "text/html": [
       "<style>\n",
       ".list-inline {list-style: none; margin:0; padding: 0}\n",
       ".list-inline>li {display: inline-block}\n",
       ".list-inline>li:not(:last-child)::after {content: \"\\00b7\"; padding: 0 .5ex}\n",
       "</style>\n",
       "<ol class=list-inline><li>4</li><li>3</li></ol>\n"
      ],
      "text/latex": [
       "\\begin{enumerate*}\n",
       "\\item 4\n",
       "\\item 3\n",
       "\\end{enumerate*}\n"
      ],
      "text/markdown": [
       "1. 4\n",
       "2. 3\n",
       "\n",
       "\n"
      ],
      "text/plain": [
       "[1] 4 3"
      ]
     },
     "metadata": {},
     "output_type": "display_data"
    }
   ],
   "source": [
    "bed <- \n",
    "cres %>%\n",
    "filter(Significant == TRUE) %>%\n",
    "select(chrom:chromEnd) %>%\n",
    "distinct() \n",
    "\n",
    "head(bed,n=1)\n",
    "dim(bed)"
   ]
  },
  {
   "cell_type": "code",
   "execution_count": 58,
   "metadata": {},
   "outputs": [],
   "source": [
    "bed %>%\n",
    "write.table(\"/data/gersbachlab/lrb53/encodeCrisprWG/finalversion/figure1/othercelltypes/a549/cres/a549.mycmyb.allcres.hg38.bed\",\n",
    "            col.names=F, row.names=F, quote=F, sep=\"\\t\")\n"
   ]
  },
  {
   "cell_type": "markdown",
   "metadata": {},
   "source": [
    "#### HCT116"
   ]
  },
  {
   "cell_type": "code",
   "execution_count": 59,
   "metadata": {},
   "outputs": [
    {
     "data": {
      "text/html": [
       "<table class=\"dataframe\">\n",
       "<caption>A tibble: 1 × 25</caption>\n",
       "<thead>\n",
       "\t<tr><th scope=col>chrom</th><th scope=col>chromStart</th><th scope=col>chromEnd</th><th scope=col>name</th><th scope=col>EffectSize</th><th scope=col>strandPerturbationTarget</th><th scope=col>PerturbationTargetID</th><th scope=col>chrTSS</th><th scope=col>startTSS</th><th scope=col>endTSS</th><th scope=col>⋯</th><th scope=col>guideSpacerSeq</th><th scope=col>guideSeq</th><th scope=col>Significant</th><th scope=col>pValue</th><th scope=col>pValueAdjusted</th><th scope=col>PowerAtEffectSize10</th><th scope=col>PowerAtEffectSize25</th><th scope=col>PowerAtEffectSize50</th><th scope=col>ValidConnection</th><th scope=col>Notes</th></tr>\n",
       "\t<tr><th scope=col>&lt;chr&gt;</th><th scope=col>&lt;dbl&gt;</th><th scope=col>&lt;dbl&gt;</th><th scope=col>&lt;chr&gt;</th><th scope=col>&lt;dbl&gt;</th><th scope=col>&lt;chr&gt;</th><th scope=col>&lt;chr&gt;</th><th scope=col>&lt;chr&gt;</th><th scope=col>&lt;dbl&gt;</th><th scope=col>&lt;dbl&gt;</th><th scope=col>⋯</th><th scope=col>&lt;lgl&gt;</th><th scope=col>&lt;lgl&gt;</th><th scope=col>&lt;lgl&gt;</th><th scope=col>&lt;lgl&gt;</th><th scope=col>&lt;lgl&gt;</th><th scope=col>&lt;lgl&gt;</th><th scope=col>&lt;lgl&gt;</th><th scope=col>&lt;lgl&gt;</th><th scope=col>&lt;lgl&gt;</th><th scope=col>&lt;lgl&gt;</th></tr>\n",
       "</thead>\n",
       "<tbody>\n",
       "\t<tr><td>chr6</td><td>135054002</td><td>135055805</td><td>MYB|chr6:135054002-135055805</td><td>22.38997</td><td>.</td><td>MYB|chr6:135054002-135055805</td><td>chr6</td><td>135181308</td><td>135219173</td><td>⋯</td><td>NA</td><td>NA</td><td>TRUE</td><td>NA</td><td>NA</td><td>NA</td><td>NA</td><td>NA</td><td>NA</td><td>NA</td></tr>\n",
       "</tbody>\n",
       "</table>\n"
      ],
      "text/latex": [
       "A tibble: 1 × 25\n",
       "\\begin{tabular}{lllllllllllllllllllll}\n",
       " chrom & chromStart & chromEnd & name & EffectSize & strandPerturbationTarget & PerturbationTargetID & chrTSS & startTSS & endTSS & ⋯ & guideSpacerSeq & guideSeq & Significant & pValue & pValueAdjusted & PowerAtEffectSize10 & PowerAtEffectSize25 & PowerAtEffectSize50 & ValidConnection & Notes\\\\\n",
       " <chr> & <dbl> & <dbl> & <chr> & <dbl> & <chr> & <chr> & <chr> & <dbl> & <dbl> & ⋯ & <lgl> & <lgl> & <lgl> & <lgl> & <lgl> & <lgl> & <lgl> & <lgl> & <lgl> & <lgl>\\\\\n",
       "\\hline\n",
       "\t chr6 & 135054002 & 135055805 & MYB\\textbar{}chr6:135054002-135055805 & 22.38997 & . & MYB\\textbar{}chr6:135054002-135055805 & chr6 & 135181308 & 135219173 & ⋯ & NA & NA & TRUE & NA & NA & NA & NA & NA & NA & NA\\\\\n",
       "\\end{tabular}\n"
      ],
      "text/markdown": [
       "\n",
       "A tibble: 1 × 25\n",
       "\n",
       "| chrom &lt;chr&gt; | chromStart &lt;dbl&gt; | chromEnd &lt;dbl&gt; | name &lt;chr&gt; | EffectSize &lt;dbl&gt; | strandPerturbationTarget &lt;chr&gt; | PerturbationTargetID &lt;chr&gt; | chrTSS &lt;chr&gt; | startTSS &lt;dbl&gt; | endTSS &lt;dbl&gt; | ⋯ ⋯ | guideSpacerSeq &lt;lgl&gt; | guideSeq &lt;lgl&gt; | Significant &lt;lgl&gt; | pValue &lt;lgl&gt; | pValueAdjusted &lt;lgl&gt; | PowerAtEffectSize10 &lt;lgl&gt; | PowerAtEffectSize25 &lt;lgl&gt; | PowerAtEffectSize50 &lt;lgl&gt; | ValidConnection &lt;lgl&gt; | Notes &lt;lgl&gt; |\n",
       "|---|---|---|---|---|---|---|---|---|---|---|---|---|---|---|---|---|---|---|---|---|\n",
       "| chr6 | 135054002 | 135055805 | MYB|chr6:135054002-135055805 | 22.38997 | . | MYB|chr6:135054002-135055805 | chr6 | 135181308 | 135219173 | ⋯ | NA | NA | TRUE | NA | NA | NA | NA | NA | NA | NA |\n",
       "\n"
      ],
      "text/plain": [
       "  chrom chromStart chromEnd  name                         EffectSize\n",
       "1 chr6  135054002  135055805 MYB|chr6:135054002-135055805 22.38997  \n",
       "  strandPerturbationTarget PerturbationTargetID         chrTSS startTSS \n",
       "1 .                        MYB|chr6:135054002-135055805 chr6   135181308\n",
       "  endTSS    ⋯ guideSpacerSeq guideSeq Significant pValue pValueAdjusted\n",
       "1 135219173 ⋯ NA             NA       TRUE        NA     NA            \n",
       "  PowerAtEffectSize10 PowerAtEffectSize25 PowerAtEffectSize50 ValidConnection\n",
       "1 NA                  NA                  NA                  NA             \n",
       "  Notes\n",
       "1 NA   "
      ]
     },
     "metadata": {},
     "output_type": "display_data"
    }
   ],
   "source": [
    "cres <- read_tsv(\"/data/gersbachlab/lrb53/encodeCrisprWG/finalversion/figure1/othercelltypes/hct116/cres/hct116.mycmyb.cres.hg38.tsv\",\n",
    "                  show_col_types = FALSE)\n",
    "\n",
    "head(cres, n=1)"
   ]
  },
  {
   "cell_type": "code",
   "execution_count": 60,
   "metadata": {},
   "outputs": [
    {
     "data": {
      "text/html": [
       "<table class=\"dataframe\">\n",
       "<caption>A tibble: 1 × 3</caption>\n",
       "<thead>\n",
       "\t<tr><th scope=col>chrom</th><th scope=col>chromStart</th><th scope=col>chromEnd</th></tr>\n",
       "\t<tr><th scope=col>&lt;chr&gt;</th><th scope=col>&lt;dbl&gt;</th><th scope=col>&lt;dbl&gt;</th></tr>\n",
       "</thead>\n",
       "<tbody>\n",
       "\t<tr><td>chr6</td><td>135054002</td><td>135055805</td></tr>\n",
       "</tbody>\n",
       "</table>\n"
      ],
      "text/latex": [
       "A tibble: 1 × 3\n",
       "\\begin{tabular}{lll}\n",
       " chrom & chromStart & chromEnd\\\\\n",
       " <chr> & <dbl> & <dbl>\\\\\n",
       "\\hline\n",
       "\t chr6 & 135054002 & 135055805\\\\\n",
       "\\end{tabular}\n"
      ],
      "text/markdown": [
       "\n",
       "A tibble: 1 × 3\n",
       "\n",
       "| chrom &lt;chr&gt; | chromStart &lt;dbl&gt; | chromEnd &lt;dbl&gt; |\n",
       "|---|---|---|\n",
       "| chr6 | 135054002 | 135055805 |\n",
       "\n"
      ],
      "text/plain": [
       "  chrom chromStart chromEnd \n",
       "1 chr6  135054002  135055805"
      ]
     },
     "metadata": {},
     "output_type": "display_data"
    },
    {
     "data": {
      "text/html": [
       "<style>\n",
       ".list-inline {list-style: none; margin:0; padding: 0}\n",
       ".list-inline>li {display: inline-block}\n",
       ".list-inline>li:not(:last-child)::after {content: \"\\00b7\"; padding: 0 .5ex}\n",
       "</style>\n",
       "<ol class=list-inline><li>3</li><li>3</li></ol>\n"
      ],
      "text/latex": [
       "\\begin{enumerate*}\n",
       "\\item 3\n",
       "\\item 3\n",
       "\\end{enumerate*}\n"
      ],
      "text/markdown": [
       "1. 3\n",
       "2. 3\n",
       "\n",
       "\n"
      ],
      "text/plain": [
       "[1] 3 3"
      ]
     },
     "metadata": {},
     "output_type": "display_data"
    }
   ],
   "source": [
    "bed <- \n",
    "cres %>%\n",
    "filter(Significant == TRUE) %>%\n",
    "select(chrom:chromEnd) %>%\n",
    "distinct() \n",
    "\n",
    "head(bed,n=1)\n",
    "dim(bed)"
   ]
  },
  {
   "cell_type": "code",
   "execution_count": 61,
   "metadata": {},
   "outputs": [],
   "source": [
    "bed %>%\n",
    "write.table(\"/data/gersbachlab/lrb53/encodeCrisprWG/finalversion/figure1/othercelltypes/hct116/cres/hct116.mycmyb.allcres.hg38.bed\",\n",
    "            col.names=F, row.names=F, quote=F, sep=\"\\t\")\n"
   ]
  },
  {
   "cell_type": "markdown",
   "metadata": {},
   "source": [
    "#### PC-3"
   ]
  },
  {
   "cell_type": "code",
   "execution_count": 62,
   "metadata": {},
   "outputs": [
    {
     "data": {
      "text/html": [
       "<table class=\"dataframe\">\n",
       "<caption>A tibble: 1 × 25</caption>\n",
       "<thead>\n",
       "\t<tr><th scope=col>chrom</th><th scope=col>chromStart</th><th scope=col>chromEnd</th><th scope=col>name</th><th scope=col>EffectSize</th><th scope=col>strandPerturbationTarget</th><th scope=col>PerturbationTargetID</th><th scope=col>chrTSS</th><th scope=col>startTSS</th><th scope=col>endTSS</th><th scope=col>⋯</th><th scope=col>guideSpacerSeq</th><th scope=col>guideSeq</th><th scope=col>Significant</th><th scope=col>pValue</th><th scope=col>pValueAdjusted</th><th scope=col>PowerAtEffectSize10</th><th scope=col>PowerAtEffectSize25</th><th scope=col>PowerAtEffectSize50</th><th scope=col>ValidConnection</th><th scope=col>Notes</th></tr>\n",
       "\t<tr><th scope=col>&lt;chr&gt;</th><th scope=col>&lt;dbl&gt;</th><th scope=col>&lt;dbl&gt;</th><th scope=col>&lt;chr&gt;</th><th scope=col>&lt;dbl&gt;</th><th scope=col>&lt;chr&gt;</th><th scope=col>&lt;chr&gt;</th><th scope=col>&lt;chr&gt;</th><th scope=col>&lt;dbl&gt;</th><th scope=col>&lt;dbl&gt;</th><th scope=col>⋯</th><th scope=col>&lt;lgl&gt;</th><th scope=col>&lt;lgl&gt;</th><th scope=col>&lt;lgl&gt;</th><th scope=col>&lt;lgl&gt;</th><th scope=col>&lt;lgl&gt;</th><th scope=col>&lt;lgl&gt;</th><th scope=col>&lt;lgl&gt;</th><th scope=col>&lt;lgl&gt;</th><th scope=col>&lt;lgl&gt;</th><th scope=col>&lt;lgl&gt;</th></tr>\n",
       "</thead>\n",
       "<tbody>\n",
       "\t<tr><td>chr6</td><td>135053624</td><td>135057983</td><td>MYB|chr6:135053624-135057983</td><td>41.79517</td><td>.</td><td>MYB|chr6:135053624-135057983</td><td>chr6</td><td>135181308</td><td>135219173</td><td>⋯</td><td>NA</td><td>NA</td><td>TRUE</td><td>NA</td><td>NA</td><td>NA</td><td>NA</td><td>NA</td><td>NA</td><td>NA</td></tr>\n",
       "</tbody>\n",
       "</table>\n"
      ],
      "text/latex": [
       "A tibble: 1 × 25\n",
       "\\begin{tabular}{lllllllllllllllllllll}\n",
       " chrom & chromStart & chromEnd & name & EffectSize & strandPerturbationTarget & PerturbationTargetID & chrTSS & startTSS & endTSS & ⋯ & guideSpacerSeq & guideSeq & Significant & pValue & pValueAdjusted & PowerAtEffectSize10 & PowerAtEffectSize25 & PowerAtEffectSize50 & ValidConnection & Notes\\\\\n",
       " <chr> & <dbl> & <dbl> & <chr> & <dbl> & <chr> & <chr> & <chr> & <dbl> & <dbl> & ⋯ & <lgl> & <lgl> & <lgl> & <lgl> & <lgl> & <lgl> & <lgl> & <lgl> & <lgl> & <lgl>\\\\\n",
       "\\hline\n",
       "\t chr6 & 135053624 & 135057983 & MYB\\textbar{}chr6:135053624-135057983 & 41.79517 & . & MYB\\textbar{}chr6:135053624-135057983 & chr6 & 135181308 & 135219173 & ⋯ & NA & NA & TRUE & NA & NA & NA & NA & NA & NA & NA\\\\\n",
       "\\end{tabular}\n"
      ],
      "text/markdown": [
       "\n",
       "A tibble: 1 × 25\n",
       "\n",
       "| chrom &lt;chr&gt; | chromStart &lt;dbl&gt; | chromEnd &lt;dbl&gt; | name &lt;chr&gt; | EffectSize &lt;dbl&gt; | strandPerturbationTarget &lt;chr&gt; | PerturbationTargetID &lt;chr&gt; | chrTSS &lt;chr&gt; | startTSS &lt;dbl&gt; | endTSS &lt;dbl&gt; | ⋯ ⋯ | guideSpacerSeq &lt;lgl&gt; | guideSeq &lt;lgl&gt; | Significant &lt;lgl&gt; | pValue &lt;lgl&gt; | pValueAdjusted &lt;lgl&gt; | PowerAtEffectSize10 &lt;lgl&gt; | PowerAtEffectSize25 &lt;lgl&gt; | PowerAtEffectSize50 &lt;lgl&gt; | ValidConnection &lt;lgl&gt; | Notes &lt;lgl&gt; |\n",
       "|---|---|---|---|---|---|---|---|---|---|---|---|---|---|---|---|---|---|---|---|---|\n",
       "| chr6 | 135053624 | 135057983 | MYB|chr6:135053624-135057983 | 41.79517 | . | MYB|chr6:135053624-135057983 | chr6 | 135181308 | 135219173 | ⋯ | NA | NA | TRUE | NA | NA | NA | NA | NA | NA | NA |\n",
       "\n"
      ],
      "text/plain": [
       "  chrom chromStart chromEnd  name                         EffectSize\n",
       "1 chr6  135053624  135057983 MYB|chr6:135053624-135057983 41.79517  \n",
       "  strandPerturbationTarget PerturbationTargetID         chrTSS startTSS \n",
       "1 .                        MYB|chr6:135053624-135057983 chr6   135181308\n",
       "  endTSS    ⋯ guideSpacerSeq guideSeq Significant pValue pValueAdjusted\n",
       "1 135219173 ⋯ NA             NA       TRUE        NA     NA            \n",
       "  PowerAtEffectSize10 PowerAtEffectSize25 PowerAtEffectSize50 ValidConnection\n",
       "1 NA                  NA                  NA                  NA             \n",
       "  Notes\n",
       "1 NA   "
      ]
     },
     "metadata": {},
     "output_type": "display_data"
    }
   ],
   "source": [
    "cres <- read_tsv(\"/data/gersbachlab/lrb53/encodeCrisprWG/finalversion/figure1/othercelltypes/pc3/cres/pc3.mycmyb.cres.hg38.tsv\",\n",
    "                  show_col_types = FALSE)\n",
    "\n",
    "head(cres, n=1)"
   ]
  },
  {
   "cell_type": "code",
   "execution_count": 63,
   "metadata": {},
   "outputs": [
    {
     "data": {
      "text/html": [
       "<table class=\"dataframe\">\n",
       "<caption>A tibble: 1 × 3</caption>\n",
       "<thead>\n",
       "\t<tr><th scope=col>chrom</th><th scope=col>chromStart</th><th scope=col>chromEnd</th></tr>\n",
       "\t<tr><th scope=col>&lt;chr&gt;</th><th scope=col>&lt;dbl&gt;</th><th scope=col>&lt;dbl&gt;</th></tr>\n",
       "</thead>\n",
       "<tbody>\n",
       "\t<tr><td>chr6</td><td>135053624</td><td>135057983</td></tr>\n",
       "</tbody>\n",
       "</table>\n"
      ],
      "text/latex": [
       "A tibble: 1 × 3\n",
       "\\begin{tabular}{lll}\n",
       " chrom & chromStart & chromEnd\\\\\n",
       " <chr> & <dbl> & <dbl>\\\\\n",
       "\\hline\n",
       "\t chr6 & 135053624 & 135057983\\\\\n",
       "\\end{tabular}\n"
      ],
      "text/markdown": [
       "\n",
       "A tibble: 1 × 3\n",
       "\n",
       "| chrom &lt;chr&gt; | chromStart &lt;dbl&gt; | chromEnd &lt;dbl&gt; |\n",
       "|---|---|---|\n",
       "| chr6 | 135053624 | 135057983 |\n",
       "\n"
      ],
      "text/plain": [
       "  chrom chromStart chromEnd \n",
       "1 chr6  135053624  135057983"
      ]
     },
     "metadata": {},
     "output_type": "display_data"
    },
    {
     "data": {
      "text/html": [
       "<style>\n",
       ".list-inline {list-style: none; margin:0; padding: 0}\n",
       ".list-inline>li {display: inline-block}\n",
       ".list-inline>li:not(:last-child)::after {content: \"\\00b7\"; padding: 0 .5ex}\n",
       "</style>\n",
       "<ol class=list-inline><li>1</li><li>3</li></ol>\n"
      ],
      "text/latex": [
       "\\begin{enumerate*}\n",
       "\\item 1\n",
       "\\item 3\n",
       "\\end{enumerate*}\n"
      ],
      "text/markdown": [
       "1. 1\n",
       "2. 3\n",
       "\n",
       "\n"
      ],
      "text/plain": [
       "[1] 1 3"
      ]
     },
     "metadata": {},
     "output_type": "display_data"
    }
   ],
   "source": [
    "bed <- \n",
    "cres %>%\n",
    "filter(Significant == TRUE) %>%\n",
    "select(chrom:chromEnd) %>%\n",
    "distinct() \n",
    "\n",
    "head(bed,n=1)\n",
    "dim(bed)"
   ]
  },
  {
   "cell_type": "code",
   "execution_count": 64,
   "metadata": {},
   "outputs": [],
   "source": [
    "bed %>%\n",
    "write.table(\"/data/gersbachlab/lrb53/encodeCrisprWG/finalversion/figure1/othercelltypes/pc3/cres/pc3.mycmyb.allcres.hg38.bed\",\n",
    "            col.names=F, row.names=F, quote=F, sep=\"\\t\")\n"
   ]
  },
  {
   "cell_type": "markdown",
   "metadata": {},
   "source": [
    "#### NCI-H460"
   ]
  },
  {
   "cell_type": "code",
   "execution_count": 65,
   "metadata": {},
   "outputs": [
    {
     "data": {
      "text/html": [
       "<table class=\"dataframe\">\n",
       "<caption>A tibble: 1 × 25</caption>\n",
       "<thead>\n",
       "\t<tr><th scope=col>chrom</th><th scope=col>chromStart</th><th scope=col>chromEnd</th><th scope=col>name</th><th scope=col>EffectSize</th><th scope=col>strandPerturbationTarget</th><th scope=col>PerturbationTargetID</th><th scope=col>chrTSS</th><th scope=col>startTSS</th><th scope=col>endTSS</th><th scope=col>⋯</th><th scope=col>guideSpacerSeq</th><th scope=col>guideSeq</th><th scope=col>Significant</th><th scope=col>pValue</th><th scope=col>pValueAdjusted</th><th scope=col>PowerAtEffectSize10</th><th scope=col>PowerAtEffectSize25</th><th scope=col>PowerAtEffectSize50</th><th scope=col>ValidConnection</th><th scope=col>Notes</th></tr>\n",
       "\t<tr><th scope=col>&lt;chr&gt;</th><th scope=col>&lt;dbl&gt;</th><th scope=col>&lt;dbl&gt;</th><th scope=col>&lt;chr&gt;</th><th scope=col>&lt;dbl&gt;</th><th scope=col>&lt;chr&gt;</th><th scope=col>&lt;chr&gt;</th><th scope=col>&lt;chr&gt;</th><th scope=col>&lt;dbl&gt;</th><th scope=col>&lt;dbl&gt;</th><th scope=col>⋯</th><th scope=col>&lt;lgl&gt;</th><th scope=col>&lt;lgl&gt;</th><th scope=col>&lt;lgl&gt;</th><th scope=col>&lt;lgl&gt;</th><th scope=col>&lt;lgl&gt;</th><th scope=col>&lt;lgl&gt;</th><th scope=col>&lt;lgl&gt;</th><th scope=col>&lt;lgl&gt;</th><th scope=col>&lt;lgl&gt;</th><th scope=col>&lt;lgl&gt;</th></tr>\n",
       "</thead>\n",
       "<tbody>\n",
       "\t<tr><td>chr8</td><td>128551556</td><td>128562132</td><td>MYC|chr8:128551556-128562132</td><td>140.6353</td><td>.</td><td>MYC|chr8:128551556-128562132</td><td>chr8</td><td>127735434</td><td>127742951</td><td>⋯</td><td>NA</td><td>NA</td><td>TRUE</td><td>NA</td><td>NA</td><td>NA</td><td>NA</td><td>NA</td><td>TRUE</td><td>NA</td></tr>\n",
       "</tbody>\n",
       "</table>\n"
      ],
      "text/latex": [
       "A tibble: 1 × 25\n",
       "\\begin{tabular}{lllllllllllllllllllll}\n",
       " chrom & chromStart & chromEnd & name & EffectSize & strandPerturbationTarget & PerturbationTargetID & chrTSS & startTSS & endTSS & ⋯ & guideSpacerSeq & guideSeq & Significant & pValue & pValueAdjusted & PowerAtEffectSize10 & PowerAtEffectSize25 & PowerAtEffectSize50 & ValidConnection & Notes\\\\\n",
       " <chr> & <dbl> & <dbl> & <chr> & <dbl> & <chr> & <chr> & <chr> & <dbl> & <dbl> & ⋯ & <lgl> & <lgl> & <lgl> & <lgl> & <lgl> & <lgl> & <lgl> & <lgl> & <lgl> & <lgl>\\\\\n",
       "\\hline\n",
       "\t chr8 & 128551556 & 128562132 & MYC\\textbar{}chr8:128551556-128562132 & 140.6353 & . & MYC\\textbar{}chr8:128551556-128562132 & chr8 & 127735434 & 127742951 & ⋯ & NA & NA & TRUE & NA & NA & NA & NA & NA & TRUE & NA\\\\\n",
       "\\end{tabular}\n"
      ],
      "text/markdown": [
       "\n",
       "A tibble: 1 × 25\n",
       "\n",
       "| chrom &lt;chr&gt; | chromStart &lt;dbl&gt; | chromEnd &lt;dbl&gt; | name &lt;chr&gt; | EffectSize &lt;dbl&gt; | strandPerturbationTarget &lt;chr&gt; | PerturbationTargetID &lt;chr&gt; | chrTSS &lt;chr&gt; | startTSS &lt;dbl&gt; | endTSS &lt;dbl&gt; | ⋯ ⋯ | guideSpacerSeq &lt;lgl&gt; | guideSeq &lt;lgl&gt; | Significant &lt;lgl&gt; | pValue &lt;lgl&gt; | pValueAdjusted &lt;lgl&gt; | PowerAtEffectSize10 &lt;lgl&gt; | PowerAtEffectSize25 &lt;lgl&gt; | PowerAtEffectSize50 &lt;lgl&gt; | ValidConnection &lt;lgl&gt; | Notes &lt;lgl&gt; |\n",
       "|---|---|---|---|---|---|---|---|---|---|---|---|---|---|---|---|---|---|---|---|---|\n",
       "| chr8 | 128551556 | 128562132 | MYC|chr8:128551556-128562132 | 140.6353 | . | MYC|chr8:128551556-128562132 | chr8 | 127735434 | 127742951 | ⋯ | NA | NA | TRUE | NA | NA | NA | NA | NA | TRUE | NA |\n",
       "\n"
      ],
      "text/plain": [
       "  chrom chromStart chromEnd  name                         EffectSize\n",
       "1 chr8  128551556  128562132 MYC|chr8:128551556-128562132 140.6353  \n",
       "  strandPerturbationTarget PerturbationTargetID         chrTSS startTSS \n",
       "1 .                        MYC|chr8:128551556-128562132 chr8   127735434\n",
       "  endTSS    ⋯ guideSpacerSeq guideSeq Significant pValue pValueAdjusted\n",
       "1 127742951 ⋯ NA             NA       TRUE        NA     NA            \n",
       "  PowerAtEffectSize10 PowerAtEffectSize25 PowerAtEffectSize50 ValidConnection\n",
       "1 NA                  NA                  NA                  TRUE           \n",
       "  Notes\n",
       "1 NA   "
      ]
     },
     "metadata": {},
     "output_type": "display_data"
    }
   ],
   "source": [
    "cres <- read_tsv(\"/data/gersbachlab/lrb53/encodeCrisprWG/finalversion/figure1/othercelltypes/ncih460/cres/ncih460.mycmyb.cres.hg38.tsv\",\n",
    "                  show_col_types = FALSE)\n",
    "\n",
    "head(cres, n=1)"
   ]
  },
  {
   "cell_type": "code",
   "execution_count": 66,
   "metadata": {},
   "outputs": [
    {
     "data": {
      "text/html": [
       "<table class=\"dataframe\">\n",
       "<caption>A tibble: 1 × 3</caption>\n",
       "<thead>\n",
       "\t<tr><th scope=col>chrom</th><th scope=col>chromStart</th><th scope=col>chromEnd</th></tr>\n",
       "\t<tr><th scope=col>&lt;chr&gt;</th><th scope=col>&lt;dbl&gt;</th><th scope=col>&lt;dbl&gt;</th></tr>\n",
       "</thead>\n",
       "<tbody>\n",
       "\t<tr><td>chr8</td><td>128551556</td><td>128562132</td></tr>\n",
       "</tbody>\n",
       "</table>\n"
      ],
      "text/latex": [
       "A tibble: 1 × 3\n",
       "\\begin{tabular}{lll}\n",
       " chrom & chromStart & chromEnd\\\\\n",
       " <chr> & <dbl> & <dbl>\\\\\n",
       "\\hline\n",
       "\t chr8 & 128551556 & 128562132\\\\\n",
       "\\end{tabular}\n"
      ],
      "text/markdown": [
       "\n",
       "A tibble: 1 × 3\n",
       "\n",
       "| chrom &lt;chr&gt; | chromStart &lt;dbl&gt; | chromEnd &lt;dbl&gt; |\n",
       "|---|---|---|\n",
       "| chr8 | 128551556 | 128562132 |\n",
       "\n"
      ],
      "text/plain": [
       "  chrom chromStart chromEnd \n",
       "1 chr8  128551556  128562132"
      ]
     },
     "metadata": {},
     "output_type": "display_data"
    },
    {
     "data": {
      "text/html": [
       "<style>\n",
       ".list-inline {list-style: none; margin:0; padding: 0}\n",
       ".list-inline>li {display: inline-block}\n",
       ".list-inline>li:not(:last-child)::after {content: \"\\00b7\"; padding: 0 .5ex}\n",
       "</style>\n",
       "<ol class=list-inline><li>1</li><li>3</li></ol>\n"
      ],
      "text/latex": [
       "\\begin{enumerate*}\n",
       "\\item 1\n",
       "\\item 3\n",
       "\\end{enumerate*}\n"
      ],
      "text/markdown": [
       "1. 1\n",
       "2. 3\n",
       "\n",
       "\n"
      ],
      "text/plain": [
       "[1] 1 3"
      ]
     },
     "metadata": {},
     "output_type": "display_data"
    }
   ],
   "source": [
    "bed <- \n",
    "cres %>%\n",
    "filter(Significant == TRUE) %>%\n",
    "select(chrom:chromEnd) %>%\n",
    "distinct() \n",
    "\n",
    "head(bed,n=1)\n",
    "dim(bed)"
   ]
  },
  {
   "cell_type": "code",
   "execution_count": 67,
   "metadata": {},
   "outputs": [],
   "source": [
    "bed %>%\n",
    "write.table(\"/data/gersbachlab/lrb53/encodeCrisprWG/finalversion/figure1/othercelltypes/ncih460/cres/ncih460.mycmyb.allcres.hg38.bed\",\n",
    "            col.names=F, row.names=F, quote=F, sep=\"\\t\")\n"
   ]
  },
  {
   "cell_type": "markdown",
   "metadata": {},
   "source": [
    "#### MCF-7"
   ]
  },
  {
   "cell_type": "code",
   "execution_count": 68,
   "metadata": {},
   "outputs": [
    {
     "data": {
      "text/html": [
       "<table class=\"dataframe\">\n",
       "<caption>A tibble: 1 × 25</caption>\n",
       "<thead>\n",
       "\t<tr><th scope=col>chrom</th><th scope=col>chromStart</th><th scope=col>chromEnd</th><th scope=col>name</th><th scope=col>EffectSize</th><th scope=col>strandPerturbationTarget</th><th scope=col>PerturbationTargetID</th><th scope=col>chrTSS</th><th scope=col>startTSS</th><th scope=col>endTSS</th><th scope=col>⋯</th><th scope=col>guideSpacerSeq</th><th scope=col>guideSeq</th><th scope=col>Significant</th><th scope=col>pValue</th><th scope=col>pValueAdjusted</th><th scope=col>PowerAtEffectSize10</th><th scope=col>PowerAtEffectSize25</th><th scope=col>PowerAtEffectSize50</th><th scope=col>ValidConnection</th><th scope=col>Notes</th></tr>\n",
       "\t<tr><th scope=col>&lt;chr&gt;</th><th scope=col>&lt;dbl&gt;</th><th scope=col>&lt;dbl&gt;</th><th scope=col>&lt;chr&gt;</th><th scope=col>&lt;dbl&gt;</th><th scope=col>&lt;chr&gt;</th><th scope=col>&lt;chr&gt;</th><th scope=col>&lt;chr&gt;</th><th scope=col>&lt;dbl&gt;</th><th scope=col>&lt;dbl&gt;</th><th scope=col>⋯</th><th scope=col>&lt;lgl&gt;</th><th scope=col>&lt;lgl&gt;</th><th scope=col>&lt;lgl&gt;</th><th scope=col>&lt;lgl&gt;</th><th scope=col>&lt;lgl&gt;</th><th scope=col>&lt;lgl&gt;</th><th scope=col>&lt;lgl&gt;</th><th scope=col>&lt;lgl&gt;</th><th scope=col>&lt;lgl&gt;</th><th scope=col>&lt;lgl&gt;</th></tr>\n",
       "</thead>\n",
       "<tbody>\n",
       "\t<tr><td>chr6</td><td>135053211</td><td>135054964</td><td>MYB|chr6:135053211-135054964</td><td>12.70654</td><td>.</td><td>MYB|chr6:135053211-135054964</td><td>chr6</td><td>135181308</td><td>135219173</td><td>⋯</td><td>NA</td><td>NA</td><td>TRUE</td><td>NA</td><td>NA</td><td>NA</td><td>NA</td><td>NA</td><td>NA</td><td>NA</td></tr>\n",
       "</tbody>\n",
       "</table>\n"
      ],
      "text/latex": [
       "A tibble: 1 × 25\n",
       "\\begin{tabular}{lllllllllllllllllllll}\n",
       " chrom & chromStart & chromEnd & name & EffectSize & strandPerturbationTarget & PerturbationTargetID & chrTSS & startTSS & endTSS & ⋯ & guideSpacerSeq & guideSeq & Significant & pValue & pValueAdjusted & PowerAtEffectSize10 & PowerAtEffectSize25 & PowerAtEffectSize50 & ValidConnection & Notes\\\\\n",
       " <chr> & <dbl> & <dbl> & <chr> & <dbl> & <chr> & <chr> & <chr> & <dbl> & <dbl> & ⋯ & <lgl> & <lgl> & <lgl> & <lgl> & <lgl> & <lgl> & <lgl> & <lgl> & <lgl> & <lgl>\\\\\n",
       "\\hline\n",
       "\t chr6 & 135053211 & 135054964 & MYB\\textbar{}chr6:135053211-135054964 & 12.70654 & . & MYB\\textbar{}chr6:135053211-135054964 & chr6 & 135181308 & 135219173 & ⋯ & NA & NA & TRUE & NA & NA & NA & NA & NA & NA & NA\\\\\n",
       "\\end{tabular}\n"
      ],
      "text/markdown": [
       "\n",
       "A tibble: 1 × 25\n",
       "\n",
       "| chrom &lt;chr&gt; | chromStart &lt;dbl&gt; | chromEnd &lt;dbl&gt; | name &lt;chr&gt; | EffectSize &lt;dbl&gt; | strandPerturbationTarget &lt;chr&gt; | PerturbationTargetID &lt;chr&gt; | chrTSS &lt;chr&gt; | startTSS &lt;dbl&gt; | endTSS &lt;dbl&gt; | ⋯ ⋯ | guideSpacerSeq &lt;lgl&gt; | guideSeq &lt;lgl&gt; | Significant &lt;lgl&gt; | pValue &lt;lgl&gt; | pValueAdjusted &lt;lgl&gt; | PowerAtEffectSize10 &lt;lgl&gt; | PowerAtEffectSize25 &lt;lgl&gt; | PowerAtEffectSize50 &lt;lgl&gt; | ValidConnection &lt;lgl&gt; | Notes &lt;lgl&gt; |\n",
       "|---|---|---|---|---|---|---|---|---|---|---|---|---|---|---|---|---|---|---|---|---|\n",
       "| chr6 | 135053211 | 135054964 | MYB|chr6:135053211-135054964 | 12.70654 | . | MYB|chr6:135053211-135054964 | chr6 | 135181308 | 135219173 | ⋯ | NA | NA | TRUE | NA | NA | NA | NA | NA | NA | NA |\n",
       "\n"
      ],
      "text/plain": [
       "  chrom chromStart chromEnd  name                         EffectSize\n",
       "1 chr6  135053211  135054964 MYB|chr6:135053211-135054964 12.70654  \n",
       "  strandPerturbationTarget PerturbationTargetID         chrTSS startTSS \n",
       "1 .                        MYB|chr6:135053211-135054964 chr6   135181308\n",
       "  endTSS    ⋯ guideSpacerSeq guideSeq Significant pValue pValueAdjusted\n",
       "1 135219173 ⋯ NA             NA       TRUE        NA     NA            \n",
       "  PowerAtEffectSize10 PowerAtEffectSize25 PowerAtEffectSize50 ValidConnection\n",
       "1 NA                  NA                  NA                  NA             \n",
       "  Notes\n",
       "1 NA   "
      ]
     },
     "metadata": {},
     "output_type": "display_data"
    }
   ],
   "source": [
    "cres <- read_tsv(\"/data/gersbachlab/lrb53/encodeCrisprWG/finalversion/figure1/othercelltypes/mcf7/cres/mcf7.mycmyb.cres.hg38.tsv\",\n",
    "                  show_col_types = FALSE)\n",
    "\n",
    "head(cres, n=1)"
   ]
  },
  {
   "cell_type": "code",
   "execution_count": 69,
   "metadata": {},
   "outputs": [
    {
     "data": {
      "text/html": [
       "<table class=\"dataframe\">\n",
       "<caption>A tibble: 1 × 3</caption>\n",
       "<thead>\n",
       "\t<tr><th scope=col>chrom</th><th scope=col>chromStart</th><th scope=col>chromEnd</th></tr>\n",
       "\t<tr><th scope=col>&lt;chr&gt;</th><th scope=col>&lt;dbl&gt;</th><th scope=col>&lt;dbl&gt;</th></tr>\n",
       "</thead>\n",
       "<tbody>\n",
       "\t<tr><td>chr6</td><td>135053211</td><td>135054964</td></tr>\n",
       "</tbody>\n",
       "</table>\n"
      ],
      "text/latex": [
       "A tibble: 1 × 3\n",
       "\\begin{tabular}{lll}\n",
       " chrom & chromStart & chromEnd\\\\\n",
       " <chr> & <dbl> & <dbl>\\\\\n",
       "\\hline\n",
       "\t chr6 & 135053211 & 135054964\\\\\n",
       "\\end{tabular}\n"
      ],
      "text/markdown": [
       "\n",
       "A tibble: 1 × 3\n",
       "\n",
       "| chrom &lt;chr&gt; | chromStart &lt;dbl&gt; | chromEnd &lt;dbl&gt; |\n",
       "|---|---|---|\n",
       "| chr6 | 135053211 | 135054964 |\n",
       "\n"
      ],
      "text/plain": [
       "  chrom chromStart chromEnd \n",
       "1 chr6  135053211  135054964"
      ]
     },
     "metadata": {},
     "output_type": "display_data"
    },
    {
     "data": {
      "text/html": [
       "<style>\n",
       ".list-inline {list-style: none; margin:0; padding: 0}\n",
       ".list-inline>li {display: inline-block}\n",
       ".list-inline>li:not(:last-child)::after {content: \"\\00b7\"; padding: 0 .5ex}\n",
       "</style>\n",
       "<ol class=list-inline><li>3</li><li>3</li></ol>\n"
      ],
      "text/latex": [
       "\\begin{enumerate*}\n",
       "\\item 3\n",
       "\\item 3\n",
       "\\end{enumerate*}\n"
      ],
      "text/markdown": [
       "1. 3\n",
       "2. 3\n",
       "\n",
       "\n"
      ],
      "text/plain": [
       "[1] 3 3"
      ]
     },
     "metadata": {},
     "output_type": "display_data"
    }
   ],
   "source": [
    "bed <- \n",
    "cres %>%\n",
    "filter(Significant == TRUE) %>%\n",
    "select(chrom:chromEnd) %>%\n",
    "distinct() \n",
    "\n",
    "head(bed,n=1)\n",
    "dim(bed)"
   ]
  },
  {
   "cell_type": "code",
   "execution_count": 70,
   "metadata": {},
   "outputs": [],
   "source": [
    "bed %>%\n",
    "write.table(\"/data/gersbachlab/lrb53/encodeCrisprWG/finalversion/figure1/othercelltypes/mcf7/cres/mcf7.mycmyb.allcres.hg38.bed\",\n",
    "            col.names=F, row.names=F, quote=F, sep=\"\\t\")\n"
   ]
  },
  {
   "cell_type": "markdown",
   "metadata": {},
   "source": [
    "Lifted hg19 coordinates to hg38 using UCSC liftOver tool."
   ]
  },
  {
   "cell_type": "markdown",
   "metadata": {},
   "source": [
    "### Switch to `python`"
   ]
  },
  {
   "cell_type": "markdown",
   "metadata": {},
   "source": [
    "### Make directories to store outputs"
   ]
  },
  {
   "cell_type": "code",
   "execution_count": 1,
   "metadata": {},
   "outputs": [],
   "source": [
    "%%bash\n",
    "cd /data/gersbachlab/lrb53/encodeCrisprWG/finalversion/figure1\n",
    "\n",
    "mkdir -p othercelltypes/jurkat/outs\n",
    "mkdir -p othercelltypes/gm12878/outs\n",
    "mkdir -p othercelltypes/hepg2/outs\n",
    "mkdir -p othercelltypes/a549/outs\n",
    "mkdir -p othercelltypes/hct116/outs\n",
    "mkdir -p othercelltypes/pc3/outs\n",
    "mkdir -p othercelltypes/ncih460/outs\n",
    "mkdir -p othercelltypes/mcf7/outs"
   ]
  },
  {
   "cell_type": "markdown",
   "metadata": {},
   "source": [
    "### Intersect CREs with annotations in the corresponding cell type"
   ]
  },
  {
   "cell_type": "markdown",
   "metadata": {},
   "source": [
    "#### Jurkat"
   ]
  },
  {
   "cell_type": "code",
   "execution_count": 4,
   "metadata": {},
   "outputs": [
    {
     "name": "stdout",
     "output_type": "stream",
     "text": [
      "12 cres/jurkat.ppif.allcres.hg38.bed\n"
     ]
    }
   ],
   "source": [
    "%%bash\n",
    "\n",
    "cd /data/gersbachlab/lrb53/encodeCrisprWG/finalversion/figure1/othercelltypes/jurkat/\n",
    "\n",
    "wc -l cres/jurkat.ppif.allcres.hg38.bed"
   ]
  },
  {
   "cell_type": "code",
   "execution_count": 5,
   "metadata": {},
   "outputs": [
    {
     "name": "stdout",
     "output_type": "stream",
     "text": [
      "8\n"
     ]
    }
   ],
   "source": [
    "%%bash\n",
    "\n",
    "cd /data/gersbachlab/lrb53/encodeCrisprWG/finalversion/figure1/othercelltypes/jurkat/\n",
    "\n",
    "module load bedtools2\n",
    "\n",
    "bedtools intersect \\\n",
    "-a cres/jurkat.ppif.allcres.hg38.bed \\\n",
    "-b annotations/jurkat.dnase.peaks.hg38.bed.gz -wa -u | wc -l"
   ]
  },
  {
   "cell_type": "code",
   "execution_count": 6,
   "metadata": {
    "scrolled": true
   },
   "outputs": [],
   "source": [
    "%%bash\n",
    "\n",
    "cd /data/gersbachlab/lrb53/encodeCrisprWG/finalversion/figure1/othercelltypes/jurkat/\n",
    "\n",
    "module load bedtools2\n",
    "\n",
    "bedtools intersect \\\n",
    "-a cres/jurkat.ppif.allcres.hg38.bed \\\n",
    "-b annotations/jurkat.dnase.peaks.hg38.bed.gz \\\n",
    "-wa -wb \\\n",
    "> outs/jurkat.ppif.cres.int.dnase.hg38.txt"
   ]
  },
  {
   "cell_type": "markdown",
   "metadata": {},
   "source": [
    "#### GM12878"
   ]
  },
  {
   "cell_type": "code",
   "execution_count": 7,
   "metadata": {},
   "outputs": [
    {
     "name": "stdout",
     "output_type": "stream",
     "text": [
      "14 cres/gm12878.ppif.allcres.hg38.bed\n"
     ]
    }
   ],
   "source": [
    "%%bash\n",
    "\n",
    "cd /data/gersbachlab/lrb53/encodeCrisprWG/finalversion/figure1/othercelltypes/gm12878/\n",
    "\n",
    "wc -l cres/gm12878.ppif.allcres.hg38.bed"
   ]
  },
  {
   "cell_type": "code",
   "execution_count": 8,
   "metadata": {},
   "outputs": [
    {
     "name": "stdout",
     "output_type": "stream",
     "text": [
      "14\n"
     ]
    }
   ],
   "source": [
    "%%bash\n",
    "\n",
    "cd /data/gersbachlab/lrb53/encodeCrisprWG/finalversion/figure1/othercelltypes/gm12878/\n",
    "\n",
    "module load bedtools2\n",
    "\n",
    "bedtools intersect \\\n",
    "-a cres/gm12878.ppif.allcres.hg38.bed \\\n",
    "-b annotations/gm12878.atac.peaks.hg38.bed.gz -wa -u | wc -l"
   ]
  },
  {
   "cell_type": "code",
   "execution_count": 9,
   "metadata": {},
   "outputs": [
    {
     "name": "stdout",
     "output_type": "stream",
     "text": [
      "9\n"
     ]
    }
   ],
   "source": [
    "%%bash\n",
    "\n",
    "cd /data/gersbachlab/lrb53/encodeCrisprWG/finalversion/figure1/othercelltypes/gm12878/\n",
    "\n",
    "module load bedtools2\n",
    "\n",
    "bedtools intersect \\\n",
    "-a cres/gm12878.ppif.allcres.hg38.bed \\\n",
    "-b annotations/gm12878.dnase.peaks.hg38.bed.gz -wa -u | wc -l"
   ]
  },
  {
   "cell_type": "code",
   "execution_count": 16,
   "metadata": {},
   "outputs": [
    {
     "name": "stdout",
     "output_type": "stream",
     "text": [
      "11\n"
     ]
    }
   ],
   "source": [
    "%%bash\n",
    "\n",
    "cd /data/gersbachlab/lrb53/encodeCrisprWG/finalversion/figure1/othercelltypes/gm12878/\n",
    "\n",
    "module load bedtools2\n",
    "\n",
    "bedtools intersect \\\n",
    "-a cres/gm12878.ppif.allcres.hg38.bed \\\n",
    "-b annotations/gm12878.h3k27ac.peaks.hg38.bed.gz -wa -u | wc -l"
   ]
  },
  {
   "cell_type": "code",
   "execution_count": 17,
   "metadata": {},
   "outputs": [],
   "source": [
    "%%bash\n",
    "\n",
    "cd /data/gersbachlab/lrb53/encodeCrisprWG/finalversion/figure1/othercelltypes/gm12878/\n",
    "\n",
    "module load bedtools2\n",
    "\n",
    "bedtools intersect \\\n",
    "-a cres/gm12878.ppif.allcres.hg38.bed \\\n",
    "-b annotations/gm12878.atac.peaks.hg38.bed.gz \\\n",
    "-wa -wb \\\n",
    "> outs/gm12878.ppif.cres.int.atac.hg38.txt\n",
    "\n",
    "bedtools intersect \\\n",
    "-a cres/gm12878.ppif.allcres.hg38.bed \\\n",
    "-b annotations/gm12878.dnase.peaks.hg38.bed.gz \\\n",
    "-wa -wb \\\n",
    "> outs/gm12878.ppif.cres.int.dnase.hg38.txt\n",
    "\n",
    "bedtools intersect \\\n",
    "-a cres/gm12878.ppif.allcres.hg38.bed \\\n",
    "-b annotations/gm12878.h3k27ac.peaks.hg38.bed.gz \\\n",
    "-wa -wb \\\n",
    "> outs/gm12878.ppif.cres.int.h3k27ac.hg38.txt"
   ]
  },
  {
   "cell_type": "markdown",
   "metadata": {},
   "source": [
    "#### HepG2"
   ]
  },
  {
   "cell_type": "code",
   "execution_count": 11,
   "metadata": {},
   "outputs": [
    {
     "name": "stdout",
     "output_type": "stream",
     "text": [
      "2 cres/hepg2.mycmyb.allcres.hg38.bed\n"
     ]
    }
   ],
   "source": [
    "%%bash\n",
    "\n",
    "cd /data/gersbachlab/lrb53/encodeCrisprWG/finalversion/figure1/othercelltypes/hepg2/\n",
    "\n",
    "wc -l cres/hepg2.mycmyb.allcres.hg38.bed"
   ]
  },
  {
   "cell_type": "code",
   "execution_count": 12,
   "metadata": {},
   "outputs": [
    {
     "name": "stdout",
     "output_type": "stream",
     "text": [
      "1\n"
     ]
    }
   ],
   "source": [
    "%%bash\n",
    "\n",
    "cd /data/gersbachlab/lrb53/encodeCrisprWG/finalversion/figure1/othercelltypes/hepg2/\n",
    "\n",
    "module load bedtools2\n",
    "\n",
    "bedtools intersect \\\n",
    "-a cres/hepg2.mycmyb.allcres.hg38.bed \\\n",
    "-b annotations/hepg2.atac.peaks.hg38.bed.gz -wa -u | wc -l"
   ]
  },
  {
   "cell_type": "code",
   "execution_count": 13,
   "metadata": {},
   "outputs": [
    {
     "name": "stdout",
     "output_type": "stream",
     "text": [
      "1\n"
     ]
    }
   ],
   "source": [
    "%%bash\n",
    "\n",
    "cd /data/gersbachlab/lrb53/encodeCrisprWG/finalversion/figure1/othercelltypes/hepg2/\n",
    "\n",
    "module load bedtools2\n",
    "\n",
    "bedtools intersect \\\n",
    "-a cres/hepg2.mycmyb.allcres.hg38.bed \\\n",
    "-b annotations/hepg2.dnase.peaks.hg38.bed.gz -wa -u | wc -l"
   ]
  },
  {
   "cell_type": "code",
   "execution_count": 14,
   "metadata": {},
   "outputs": [
    {
     "name": "stdout",
     "output_type": "stream",
     "text": [
      "2\n"
     ]
    }
   ],
   "source": [
    "%%bash\n",
    "\n",
    "cd /data/gersbachlab/lrb53/encodeCrisprWG/finalversion/figure1/othercelltypes/hepg2/\n",
    "\n",
    "module load bedtools2\n",
    "\n",
    "bedtools intersect \\\n",
    "-a cres/hepg2.mycmyb.allcres.hg38.bed \\\n",
    "-b annotations/hepg2.h3k27ac.peaks.hg38.bed.gz -wa -u | wc -l"
   ]
  },
  {
   "cell_type": "code",
   "execution_count": 15,
   "metadata": {},
   "outputs": [],
   "source": [
    "%%bash\n",
    "\n",
    "cd /data/gersbachlab/lrb53/encodeCrisprWG/finalversion/figure1/othercelltypes/hepg2/\n",
    "\n",
    "module load bedtools2\n",
    "\n",
    "bedtools intersect \\\n",
    "-a cres/hepg2.mycmyb.allcres.hg38.bed \\\n",
    "-b annotations/hepg2.atac.peaks.hg38.bed.gz \\\n",
    "-wa -wb \\\n",
    "> outs/hepg2.mycmyb.cres.int.atac.hg38.txt\n",
    "\n",
    "bedtools intersect \\\n",
    "-a cres/hepg2.mycmyb.allcres.hg38.bed \\\n",
    "-b annotations/hepg2.dnase.peaks.hg38.bed.gz \\\n",
    "-wa -wb \\\n",
    "> outs/hepg2.mycmyb.cres.int.dnase.hg38.txt\n",
    "\n",
    "bedtools intersect \\\n",
    "-a cres/hepg2.mycmyb.allcres.hg38.bed \\\n",
    "-b annotations/hepg2.h3k27ac.peaks.hg38.bed.gz \\\n",
    "-wa -wb \\\n",
    "> outs/hepg2.mycmyb.cres.int.h3k27ac.hg38.txt"
   ]
  },
  {
   "cell_type": "markdown",
   "metadata": {},
   "source": [
    "#### A549"
   ]
  },
  {
   "cell_type": "code",
   "execution_count": 18,
   "metadata": {},
   "outputs": [
    {
     "name": "stdout",
     "output_type": "stream",
     "text": [
      "4 cres/a549.mycmyb.allcres.hg38.bed\n"
     ]
    }
   ],
   "source": [
    "%%bash\n",
    "\n",
    "cd /data/gersbachlab/lrb53/encodeCrisprWG/finalversion/figure1/othercelltypes/a549/\n",
    "\n",
    "wc -l cres/a549.mycmyb.allcres.hg38.bed"
   ]
  },
  {
   "cell_type": "code",
   "execution_count": 19,
   "metadata": {},
   "outputs": [
    {
     "name": "stdout",
     "output_type": "stream",
     "text": [
      "4\n"
     ]
    }
   ],
   "source": [
    "%%bash\n",
    "\n",
    "cd /data/gersbachlab/lrb53/encodeCrisprWG/finalversion/figure1/othercelltypes/a549/\n",
    "\n",
    "module load bedtools2\n",
    "\n",
    "bedtools intersect \\\n",
    "-a cres/a549.mycmyb.allcres.hg38.bed \\\n",
    "-b annotations/a549.atac.peaks.hg38.bed.gz -wa -u | wc -l"
   ]
  },
  {
   "cell_type": "code",
   "execution_count": 20,
   "metadata": {},
   "outputs": [
    {
     "name": "stdout",
     "output_type": "stream",
     "text": [
      "4\n"
     ]
    }
   ],
   "source": [
    "%%bash\n",
    "\n",
    "cd /data/gersbachlab/lrb53/encodeCrisprWG/finalversion/figure1/othercelltypes/a549/\n",
    "\n",
    "module load bedtools2\n",
    "\n",
    "bedtools intersect \\\n",
    "-a cres/a549.mycmyb.allcres.hg38.bed \\\n",
    "-b annotations/a549.dnase.peaks.hg38.bed.gz -wa -u | wc -l"
   ]
  },
  {
   "cell_type": "code",
   "execution_count": 2,
   "metadata": {},
   "outputs": [
    {
     "name": "stdout",
     "output_type": "stream",
     "text": [
      "4\n"
     ]
    }
   ],
   "source": [
    "%%bash\n",
    "\n",
    "cd /data/gersbachlab/lrb53/encodeCrisprWG/finalversion/figure1/othercelltypes/a549/\n",
    "\n",
    "module load bedtools2\n",
    "\n",
    "bedtools intersect \\\n",
    "-a cres/a549.mycmyb.allcres.hg38.bed \\\n",
    "-b annotations/a549.h3k27ac.peaks.hg38.bed.gz -wa -u | wc -l"
   ]
  },
  {
   "cell_type": "code",
   "execution_count": 3,
   "metadata": {},
   "outputs": [],
   "source": [
    "%%bash\n",
    "\n",
    "cd /data/gersbachlab/lrb53/encodeCrisprWG/finalversion/figure1/othercelltypes/a549/\n",
    "\n",
    "module load bedtools2\n",
    "\n",
    "bedtools intersect \\\n",
    "-a cres/a549.mycmyb.allcres.hg38.bed \\\n",
    "-b annotations/a549.atac.peaks.hg38.bed.gz \\\n",
    "-wa -wb \\\n",
    "> outs/a549.mycmyb.cres.int.atac.hg38.txt\n",
    "\n",
    "bedtools intersect \\\n",
    "-a cres/a549.mycmyb.allcres.hg38.bed \\\n",
    "-b annotations/a549.dnase.peaks.hg38.bed.gz \\\n",
    "-wa -wb \\\n",
    "> outs/a549.mycmyb.cres.int.dnase.hg38.txt\n",
    "\n",
    "bedtools intersect \\\n",
    "-a cres/a549.mycmyb.allcres.hg38.bed \\\n",
    "-b annotations/a549.h3k27ac.peaks.hg38.bed.gz \\\n",
    "-wa -wb \\\n",
    "> outs/a549.mycmyb.cres.int.h3k27ac.hg38.txt"
   ]
  },
  {
   "cell_type": "markdown",
   "metadata": {},
   "source": [
    "#### HCT116"
   ]
  },
  {
   "cell_type": "code",
   "execution_count": 23,
   "metadata": {},
   "outputs": [
    {
     "name": "stdout",
     "output_type": "stream",
     "text": [
      "3 cres/hct116.mycmyb.allcres.hg38.bed\n"
     ]
    }
   ],
   "source": [
    "%%bash\n",
    "\n",
    "cd /data/gersbachlab/lrb53/encodeCrisprWG/finalversion/figure1/othercelltypes/hct116/\n",
    "\n",
    "wc -l cres/hct116.mycmyb.allcres.hg38.bed"
   ]
  },
  {
   "cell_type": "code",
   "execution_count": 24,
   "metadata": {},
   "outputs": [
    {
     "name": "stdout",
     "output_type": "stream",
     "text": [
      "3\n"
     ]
    }
   ],
   "source": [
    "%%bash\n",
    "\n",
    "cd /data/gersbachlab/lrb53/encodeCrisprWG/finalversion/figure1/othercelltypes/hct116/\n",
    "\n",
    "module load bedtools2\n",
    "\n",
    "bedtools intersect \\\n",
    "-a cres/hct116.mycmyb.allcres.hg38.bed \\\n",
    "-b annotations/hct116.atac.peaks.hg38.bed.gz -wa -u | wc -l"
   ]
  },
  {
   "cell_type": "code",
   "execution_count": 25,
   "metadata": {},
   "outputs": [
    {
     "name": "stdout",
     "output_type": "stream",
     "text": [
      "3\n"
     ]
    }
   ],
   "source": [
    "%%bash\n",
    "\n",
    "cd /data/gersbachlab/lrb53/encodeCrisprWG/finalversion/figure1/othercelltypes/hct116/\n",
    "\n",
    "module load bedtools2\n",
    "\n",
    "bedtools intersect \\\n",
    "-a cres/hct116.mycmyb.allcres.hg38.bed \\\n",
    "-b annotations/hct116.dnase.peaks.hg38.bed.gz -wa -u | wc -l"
   ]
  },
  {
   "cell_type": "code",
   "execution_count": 26,
   "metadata": {},
   "outputs": [
    {
     "name": "stdout",
     "output_type": "stream",
     "text": [
      "3\n"
     ]
    }
   ],
   "source": [
    "%%bash\n",
    "\n",
    "cd /data/gersbachlab/lrb53/encodeCrisprWG/finalversion/figure1/othercelltypes/hct116/\n",
    "\n",
    "module load bedtools2\n",
    "\n",
    "bedtools intersect \\\n",
    "-a cres/hct116.mycmyb.allcres.hg38.bed \\\n",
    "-b annotations/hct116.h3k27ac.peaks.hg38.bed.gz -wa -u | wc -l"
   ]
  },
  {
   "cell_type": "code",
   "execution_count": 27,
   "metadata": {},
   "outputs": [],
   "source": [
    "%%bash\n",
    "\n",
    "cd /data/gersbachlab/lrb53/encodeCrisprWG/finalversion/figure1/othercelltypes/hct116/\n",
    "\n",
    "module load bedtools2\n",
    "\n",
    "bedtools intersect \\\n",
    "-a cres/hct116.mycmyb.allcres.hg38.bed \\\n",
    "-b annotations/hct116.atac.peaks.hg38.bed.gz \\\n",
    "-wa -wb \\\n",
    "> outs/hct116.mycmyb.cres.int.atac.hg38.txt\n",
    "\n",
    "bedtools intersect \\\n",
    "-a cres/hct116.mycmyb.allcres.hg38.bed \\\n",
    "-b annotations/hct116.dnase.peaks.hg38.bed.gz \\\n",
    "-wa -wb \\\n",
    "> outs/hct116.mycmyb.cres.int.dnase.hg38.txt\n",
    "\n",
    "bedtools intersect \\\n",
    "-a cres/hct116.mycmyb.allcres.hg38.bed \\\n",
    "-b annotations/hct116.h3k27ac.peaks.hg38.bed.gz \\\n",
    "-wa -wb \\\n",
    "> outs/hct116.mycmyb.cres.int.h3k27ac.hg38.txt"
   ]
  },
  {
   "cell_type": "markdown",
   "metadata": {},
   "source": [
    "#### PC-3"
   ]
  },
  {
   "cell_type": "code",
   "execution_count": 28,
   "metadata": {},
   "outputs": [
    {
     "name": "stdout",
     "output_type": "stream",
     "text": [
      "1 cres/pc3.mycmyb.allcres.hg38.bed\n"
     ]
    }
   ],
   "source": [
    "%%bash\n",
    "\n",
    "cd /data/gersbachlab/lrb53/encodeCrisprWG/finalversion/figure1/othercelltypes/pc3/\n",
    "\n",
    "wc -l cres/pc3.mycmyb.allcres.hg38.bed"
   ]
  },
  {
   "cell_type": "code",
   "execution_count": 29,
   "metadata": {},
   "outputs": [
    {
     "name": "stdout",
     "output_type": "stream",
     "text": [
      "1\n"
     ]
    }
   ],
   "source": [
    "%%bash\n",
    "\n",
    "cd /data/gersbachlab/lrb53/encodeCrisprWG/finalversion/figure1/othercelltypes/pc3/\n",
    "\n",
    "module load bedtools2\n",
    "\n",
    "bedtools intersect \\\n",
    "-a cres/pc3.mycmyb.allcres.hg38.bed \\\n",
    "-b annotations/pc3.atac.peaks.hg38.bed.gz -wa -u | wc -l"
   ]
  },
  {
   "cell_type": "code",
   "execution_count": 30,
   "metadata": {},
   "outputs": [
    {
     "name": "stdout",
     "output_type": "stream",
     "text": [
      "1\n"
     ]
    }
   ],
   "source": [
    "%%bash\n",
    "\n",
    "cd /data/gersbachlab/lrb53/encodeCrisprWG/finalversion/figure1/othercelltypes/pc3/\n",
    "\n",
    "module load bedtools2\n",
    "\n",
    "bedtools intersect \\\n",
    "-a cres/pc3.mycmyb.allcres.hg38.bed \\\n",
    "-b annotations/pc3.dnase.peaks.hg38.bed.gz -wa -u | wc -l"
   ]
  },
  {
   "cell_type": "code",
   "execution_count": 31,
   "metadata": {},
   "outputs": [
    {
     "name": "stdout",
     "output_type": "stream",
     "text": [
      "1\n"
     ]
    }
   ],
   "source": [
    "%%bash\n",
    "\n",
    "cd /data/gersbachlab/lrb53/encodeCrisprWG/finalversion/figure1/othercelltypes/pc3/\n",
    "\n",
    "module load bedtools2\n",
    "\n",
    "bedtools intersect \\\n",
    "-a cres/pc3.mycmyb.allcres.hg38.bed \\\n",
    "-b annotations/pc3.h3k27ac.peaks.hg38.bed.gz -wa -u | wc -l"
   ]
  },
  {
   "cell_type": "code",
   "execution_count": 32,
   "metadata": {},
   "outputs": [],
   "source": [
    "%%bash\n",
    "\n",
    "cd /data/gersbachlab/lrb53/encodeCrisprWG/finalversion/figure1/othercelltypes/pc3/\n",
    "\n",
    "module load bedtools2\n",
    "\n",
    "bedtools intersect \\\n",
    "-a cres/pc3.mycmyb.allcres.hg38.bed \\\n",
    "-b annotations/pc3.atac.peaks.hg38.bed.gz \\\n",
    "-wa -wb \\\n",
    "> outs/pc3.mycmyb.cres.int.atac.hg38.txt\n",
    "\n",
    "bedtools intersect \\\n",
    "-a cres/pc3.mycmyb.allcres.hg38.bed \\\n",
    "-b annotations/pc3.dnase.peaks.hg38.bed.gz \\\n",
    "-wa -wb \\\n",
    "> outs/pc3.mycmyb.cres.int.dnase.hg38.txt\n",
    "\n",
    "bedtools intersect \\\n",
    "-a cres/pc3.mycmyb.allcres.hg38.bed \\\n",
    "-b annotations/pc3.h3k27ac.peaks.hg38.bed.gz \\\n",
    "-wa -wb \\\n",
    "> outs/pc3.mycmyb.cres.int.h3k27ac.hg38.txt"
   ]
  },
  {
   "cell_type": "markdown",
   "metadata": {},
   "source": [
    "#### NCI-H460"
   ]
  },
  {
   "cell_type": "code",
   "execution_count": 33,
   "metadata": {},
   "outputs": [
    {
     "name": "stdout",
     "output_type": "stream",
     "text": [
      "1 cres/ncih460.mycmyb.allcres.hg38.bed\n"
     ]
    }
   ],
   "source": [
    "%%bash\n",
    "\n",
    "cd /data/gersbachlab/lrb53/encodeCrisprWG/finalversion/figure1/othercelltypes/ncih460/\n",
    "\n",
    "wc -l cres/ncih460.mycmyb.allcres.hg38.bed"
   ]
  },
  {
   "cell_type": "code",
   "execution_count": 35,
   "metadata": {},
   "outputs": [
    {
     "name": "stdout",
     "output_type": "stream",
     "text": [
      "1\n"
     ]
    }
   ],
   "source": [
    "%%bash\n",
    "\n",
    "cd /data/gersbachlab/lrb53/encodeCrisprWG/finalversion/figure1/othercelltypes/ncih460/\n",
    "\n",
    "module load bedtools2\n",
    "\n",
    "bedtools intersect \\\n",
    "-a cres/ncih460.mycmyb.allcres.hg38.bed \\\n",
    "-b annotations/ncih460.dnase.peaks.hg38.bed.gz -wa -u | wc -l"
   ]
  },
  {
   "cell_type": "code",
   "execution_count": 36,
   "metadata": {},
   "outputs": [],
   "source": [
    "%%bash\n",
    "\n",
    "cd /data/gersbachlab/lrb53/encodeCrisprWG/finalversion/figure1/othercelltypes/ncih460/\n",
    "\n",
    "module load bedtools2\n",
    "\n",
    "bedtools intersect \\\n",
    "-a cres/ncih460.mycmyb.allcres.hg38.bed \\\n",
    "-b annotations/ncih460.dnase.peaks.hg38.bed.gz \\\n",
    "-wa -wb \\\n",
    "> outs/ncih460.mycmyb.cres.int.dnase.hg38.txt"
   ]
  },
  {
   "cell_type": "markdown",
   "metadata": {},
   "source": [
    "#### MCF-7"
   ]
  },
  {
   "cell_type": "code",
   "execution_count": 37,
   "metadata": {},
   "outputs": [
    {
     "name": "stdout",
     "output_type": "stream",
     "text": [
      "3 cres/mcf7.mycmyb.allcres.hg38.bed\n"
     ]
    }
   ],
   "source": [
    "%%bash\n",
    "\n",
    "cd /data/gersbachlab/lrb53/encodeCrisprWG/finalversion/figure1/othercelltypes/mcf7/\n",
    "\n",
    "wc -l cres/mcf7.mycmyb.allcres.hg38.bed"
   ]
  },
  {
   "cell_type": "code",
   "execution_count": 38,
   "metadata": {},
   "outputs": [
    {
     "name": "stdout",
     "output_type": "stream",
     "text": [
      "3\n"
     ]
    }
   ],
   "source": [
    "%%bash\n",
    "\n",
    "cd /data/gersbachlab/lrb53/encodeCrisprWG/finalversion/figure1/othercelltypes/mcf7/\n",
    "\n",
    "module load bedtools2\n",
    "\n",
    "bedtools intersect \\\n",
    "-a cres/mcf7.mycmyb.allcres.hg38.bed \\\n",
    "-b annotations/mcf7.atac.peaks.hg38.bed.gz -wa -u | wc -l"
   ]
  },
  {
   "cell_type": "code",
   "execution_count": 39,
   "metadata": {},
   "outputs": [
    {
     "name": "stdout",
     "output_type": "stream",
     "text": [
      "3\n"
     ]
    }
   ],
   "source": [
    "%%bash\n",
    "\n",
    "cd /data/gersbachlab/lrb53/encodeCrisprWG/finalversion/figure1/othercelltypes/mcf7/\n",
    "\n",
    "module load bedtools2\n",
    "\n",
    "bedtools intersect \\\n",
    "-a cres/mcf7.mycmyb.allcres.hg38.bed \\\n",
    "-b annotations/mcf7.dnase.peaks.hg38.bed.gz -wa -u | wc -l"
   ]
  },
  {
   "cell_type": "code",
   "execution_count": 40,
   "metadata": {},
   "outputs": [
    {
     "name": "stdout",
     "output_type": "stream",
     "text": [
      "3\n"
     ]
    }
   ],
   "source": [
    "%%bash\n",
    "\n",
    "cd /data/gersbachlab/lrb53/encodeCrisprWG/finalversion/figure1/othercelltypes/mcf7/\n",
    "\n",
    "module load bedtools2\n",
    "\n",
    "bedtools intersect \\\n",
    "-a cres/mcf7.mycmyb.allcres.hg38.bed \\\n",
    "-b annotations/mcf7.h3k27ac.peaks.hg38.bed.gz -wa -u | wc -l"
   ]
  },
  {
   "cell_type": "code",
   "execution_count": 41,
   "metadata": {},
   "outputs": [],
   "source": [
    "%%bash\n",
    "\n",
    "cd /data/gersbachlab/lrb53/encodeCrisprWG/finalversion/figure1/othercelltypes/mcf7/\n",
    "\n",
    "module load bedtools2\n",
    "\n",
    "bedtools intersect \\\n",
    "-a cres/mcf7.mycmyb.allcres.hg38.bed \\\n",
    "-b annotations/mcf7.atac.peaks.hg38.bed.gz \\\n",
    "-wa -wb \\\n",
    "> outs/mcf7.mycmyb.cres.int.atac.hg38.txt\n",
    "\n",
    "bedtools intersect \\\n",
    "-a cres/mcf7.mycmyb.allcres.hg38.bed \\\n",
    "-b annotations/mcf7.dnase.peaks.hg38.bed.gz \\\n",
    "-wa -wb \\\n",
    "> outs/mcf7.mycmyb.cres.int.dnase.hg38.txt\n",
    "\n",
    "bedtools intersect \\\n",
    "-a cres/mcf7.mycmyb.allcres.hg38.bed \\\n",
    "-b annotations/mcf7.h3k27ac.peaks.hg38.bed.gz \\\n",
    "-wa -wb \\\n",
    "> outs/mcf7.mycmyb.cres.int.h3k27ac.hg38.txt"
   ]
  },
  {
   "cell_type": "markdown",
   "metadata": {},
   "source": [
    "### Switch to `R`"
   ]
  },
  {
   "cell_type": "markdown",
   "metadata": {},
   "source": [
    "### Load packages"
   ]
  },
  {
   "cell_type": "code",
   "execution_count": 1,
   "metadata": {},
   "outputs": [],
   "source": [
    "suppressPackageStartupMessages(library(tidyverse))"
   ]
  },
  {
   "cell_type": "markdown",
   "metadata": {},
   "source": [
    "### Load output of intersection"
   ]
  },
  {
   "cell_type": "markdown",
   "metadata": {},
   "source": [
    "#### WTC11 iPSC\n",
    "\n",
    "00.final.20230703.encode.Figure1FeatureAnalysisWTC11.LRB"
   ]
  },
  {
   "cell_type": "code",
   "execution_count": 2,
   "metadata": {},
   "outputs": [
    {
     "data": {
      "text/html": [
       "65"
      ],
      "text/latex": [
       "65"
      ],
      "text/markdown": [
       "65"
      ],
      "text/plain": [
       "[1] 65"
      ]
     },
     "metadata": {},
     "output_type": "display_data"
    }
   ],
   "source": [
    "wtc_int_atac <- read.delim(\"/data/gersbachlab/lrb53/encodeCrisprWG/finalversion/figure1/othercelltypes/wtc11ipsc/outs/wtc11ipsc.sixloci.cres.int.atac.hg38.txt\",\n",
    "                       header = FALSE) %>%\n",
    "mutate(cre = paste0(V1,\":\",V2,\"-\",V3)) %>%\n",
    "select(cre) %>%\n",
    "distinct() %>% pull()\n",
    "\n",
    "length(wtc_int_atac)"
   ]
  },
  {
   "cell_type": "code",
   "execution_count": 3,
   "metadata": {},
   "outputs": [
    {
     "data": {
      "text/html": [
       "62"
      ],
      "text/latex": [
       "62"
      ],
      "text/markdown": [
       "62"
      ],
      "text/plain": [
       "[1] 62"
      ]
     },
     "metadata": {},
     "output_type": "display_data"
    }
   ],
   "source": [
    "wtc_int_dnase <- read.delim(\"/data/gersbachlab/lrb53/encodeCrisprWG/finalversion/figure1/othercelltypes/wtc11ipsc/outs/wtc11ipsc.sixloci.cres.int.dnase.hg38.txt\",\n",
    "                       header = FALSE) %>%\n",
    "mutate(cre = paste0(V1,\":\",V2,\"-\",V3)) %>%\n",
    "select(cre) %>%\n",
    "distinct() %>% pull()\n",
    "\n",
    "length(wtc_int_dnase)"
   ]
  },
  {
   "cell_type": "code",
   "execution_count": 4,
   "metadata": {},
   "outputs": [
    {
     "data": {
      "text/html": [
       "46"
      ],
      "text/latex": [
       "46"
      ],
      "text/markdown": [
       "46"
      ],
      "text/plain": [
       "[1] 46"
      ]
     },
     "metadata": {},
     "output_type": "display_data"
    }
   ],
   "source": [
    "wtc_int_h3k27ac <- read.delim(\"/data/gersbachlab/lrb53/encodeCrisprWG/finalversion/figure1/othercelltypes/wtc11ipsc/outs/wtc11ipsc.sixloci.cres.int.h3k27ac.hg38.txt\",\n",
    "                       header = FALSE) %>%\n",
    "mutate(cre = paste0(V1,\":\",V2,\"-\",V3)) %>%\n",
    "select(cre) %>%\n",
    "distinct() %>% pull()\n",
    "\n",
    "length(wtc_int_h3k27ac)"
   ]
  },
  {
   "cell_type": "code",
   "execution_count": 5,
   "metadata": {},
   "outputs": [
    {
     "data": {
      "text/html": [
       "<table class=\"dataframe\">\n",
       "<caption>A data.frame: 1 × 4</caption>\n",
       "<thead>\n",
       "\t<tr><th></th><th scope=col>cre</th><th scope=col>result_atac</th><th scope=col>result_dnase</th><th scope=col>result_h3k27ac</th></tr>\n",
       "\t<tr><th></th><th scope=col>&lt;chr&gt;</th><th scope=col>&lt;lgl&gt;</th><th scope=col>&lt;lgl&gt;</th><th scope=col>&lt;lgl&gt;</th></tr>\n",
       "</thead>\n",
       "<tbody>\n",
       "\t<tr><th scope=row>1</th><td>chr2:46464581-46464767</td><td>TRUE</td><td>TRUE</td><td>FALSE</td></tr>\n",
       "</tbody>\n",
       "</table>\n"
      ],
      "text/latex": [
       "A data.frame: 1 × 4\n",
       "\\begin{tabular}{r|llll}\n",
       "  & cre & result\\_atac & result\\_dnase & result\\_h3k27ac\\\\\n",
       "  & <chr> & <lgl> & <lgl> & <lgl>\\\\\n",
       "\\hline\n",
       "\t1 & chr2:46464581-46464767 & TRUE & TRUE & FALSE\\\\\n",
       "\\end{tabular}\n"
      ],
      "text/markdown": [
       "\n",
       "A data.frame: 1 × 4\n",
       "\n",
       "| <!--/--> | cre &lt;chr&gt; | result_atac &lt;lgl&gt; | result_dnase &lt;lgl&gt; | result_h3k27ac &lt;lgl&gt; |\n",
       "|---|---|---|---|---|\n",
       "| 1 | chr2:46464581-46464767 | TRUE | TRUE | FALSE |\n",
       "\n"
      ],
      "text/plain": [
       "  cre                    result_atac result_dnase result_h3k27ac\n",
       "1 chr2:46464581-46464767 TRUE        TRUE         FALSE         "
      ]
     },
     "metadata": {},
     "output_type": "display_data"
    }
   ],
   "source": [
    "wtc_cre <- read.delim(\"/data/gersbachlab/lrb53/encodeCrisprWG/finalversion/figure1/othercelltypes/wtc11ipsc/cres/wtc11ipsc.sixloci.allcres.hg38.bed\",\n",
    "                      header = FALSE) %>%\n",
    "mutate(cre = paste0(V1,\":\",V2,\"-\",V3)) %>%\n",
    "select(cre) %>%\n",
    "distinct() %>%\n",
    "mutate(result_atac = ifelse(cre %in% wtc_int_atac, TRUE, FALSE),\n",
    "       result_dnase = ifelse(cre %in% wtc_int_dnase, TRUE, FALSE),\n",
    "       result_h3k27ac = ifelse(cre %in% wtc_int_h3k27ac, TRUE, FALSE))\n",
    "\n",
    "head(wtc_cre, n=1)"
   ]
  },
  {
   "cell_type": "markdown",
   "metadata": {},
   "source": [
    "#### Jurkat"
   ]
  },
  {
   "cell_type": "code",
   "execution_count": 6,
   "metadata": {
    "scrolled": true
   },
   "outputs": [
    {
     "data": {
      "text/html": [
       "8"
      ],
      "text/latex": [
       "8"
      ],
      "text/markdown": [
       "8"
      ],
      "text/plain": [
       "[1] 8"
      ]
     },
     "metadata": {},
     "output_type": "display_data"
    }
   ],
   "source": [
    "jurkat_int_dnase <- read.delim(\"/data/gersbachlab/lrb53/encodeCrisprWG/finalversion/figure1/othercelltypes/jurkat/outs/jurkat.ppif.cres.int.dnase.hg38.txt\",\n",
    "                       header = FALSE) %>%\n",
    "mutate(cre = paste0(V1,\":\",V2,\"-\",V3)) %>%\n",
    "select(cre) %>%\n",
    "distinct() %>% pull()\n",
    "\n",
    "length(jurkat_int_dnase)"
   ]
  },
  {
   "cell_type": "code",
   "execution_count": 7,
   "metadata": {},
   "outputs": [
    {
     "data": {
      "text/html": [
       "<table class=\"dataframe\">\n",
       "<caption>A data.frame: 1 × 4</caption>\n",
       "<thead>\n",
       "\t<tr><th></th><th scope=col>cre</th><th scope=col>result_dnase</th><th scope=col>result_atac</th><th scope=col>result_h3k27ac</th></tr>\n",
       "\t<tr><th></th><th scope=col>&lt;chr&gt;</th><th scope=col>&lt;lgl&gt;</th><th scope=col>&lt;lgl&gt;</th><th scope=col>&lt;lgl&gt;</th></tr>\n",
       "</thead>\n",
       "<tbody>\n",
       "\t<tr><th scope=row>1</th><td>chr10:79323113-79323613</td><td>TRUE</td><td>NA</td><td>NA</td></tr>\n",
       "</tbody>\n",
       "</table>\n"
      ],
      "text/latex": [
       "A data.frame: 1 × 4\n",
       "\\begin{tabular}{r|llll}\n",
       "  & cre & result\\_dnase & result\\_atac & result\\_h3k27ac\\\\\n",
       "  & <chr> & <lgl> & <lgl> & <lgl>\\\\\n",
       "\\hline\n",
       "\t1 & chr10:79323113-79323613 & TRUE & NA & NA\\\\\n",
       "\\end{tabular}\n"
      ],
      "text/markdown": [
       "\n",
       "A data.frame: 1 × 4\n",
       "\n",
       "| <!--/--> | cre &lt;chr&gt; | result_dnase &lt;lgl&gt; | result_atac &lt;lgl&gt; | result_h3k27ac &lt;lgl&gt; |\n",
       "|---|---|---|---|---|\n",
       "| 1 | chr10:79323113-79323613 | TRUE | NA | NA |\n",
       "\n"
      ],
      "text/plain": [
       "  cre                     result_dnase result_atac result_h3k27ac\n",
       "1 chr10:79323113-79323613 TRUE         NA          NA            "
      ]
     },
     "metadata": {},
     "output_type": "display_data"
    }
   ],
   "source": [
    "jurkat_cre <- read.delim(\"/data/gersbachlab/lrb53/encodeCrisprWG/finalversion/figure1/othercelltypes/jurkat/cres/jurkat.ppif.allcres.hg38.bed\",\n",
    "                      header = FALSE) %>%\n",
    "mutate(cre = paste0(V1,\":\",V2,\"-\",V3)) %>%\n",
    "select(cre) %>%\n",
    "distinct() %>%\n",
    "mutate(result_dnase = ifelse(cre %in% jurkat_int_dnase, TRUE, FALSE),\n",
    "       result_atac = NA,\n",
    "       result_h3k27ac = NA)\n",
    "\n",
    "head(jurkat_cre, n=1)"
   ]
  },
  {
   "cell_type": "markdown",
   "metadata": {},
   "source": [
    "#### GM12878"
   ]
  },
  {
   "cell_type": "code",
   "execution_count": 8,
   "metadata": {},
   "outputs": [
    {
     "data": {
      "text/html": [
       "14"
      ],
      "text/latex": [
       "14"
      ],
      "text/markdown": [
       "14"
      ],
      "text/plain": [
       "[1] 14"
      ]
     },
     "metadata": {},
     "output_type": "display_data"
    }
   ],
   "source": [
    "gm12878_int_atac <- read.delim(\"/data/gersbachlab/lrb53/encodeCrisprWG/finalversion/figure1/othercelltypes/gm12878/outs/gm12878.ppif.cres.int.atac.hg38.txt\",\n",
    "                       header = FALSE) %>%\n",
    "mutate(cre = paste0(V1,\":\",V2,\"-\",V3)) %>%\n",
    "select(cre) %>%\n",
    "distinct() %>% pull()\n",
    "\n",
    "length(gm12878_int_atac)"
   ]
  },
  {
   "cell_type": "code",
   "execution_count": 9,
   "metadata": {
    "scrolled": true
   },
   "outputs": [
    {
     "data": {
      "text/html": [
       "9"
      ],
      "text/latex": [
       "9"
      ],
      "text/markdown": [
       "9"
      ],
      "text/plain": [
       "[1] 9"
      ]
     },
     "metadata": {},
     "output_type": "display_data"
    }
   ],
   "source": [
    "gm12878_int_dnase <- read.delim(\"/data/gersbachlab/lrb53/encodeCrisprWG/finalversion/figure1/othercelltypes/gm12878/outs/gm12878.ppif.cres.int.dnase.hg38.txt\",\n",
    "                       header = FALSE) %>%\n",
    "mutate(cre = paste0(V1,\":\",V2,\"-\",V3)) %>%\n",
    "select(cre) %>%\n",
    "distinct() %>% pull()\n",
    "\n",
    "length(gm12878_int_dnase)"
   ]
  },
  {
   "cell_type": "code",
   "execution_count": 10,
   "metadata": {},
   "outputs": [
    {
     "data": {
      "text/html": [
       "11"
      ],
      "text/latex": [
       "11"
      ],
      "text/markdown": [
       "11"
      ],
      "text/plain": [
       "[1] 11"
      ]
     },
     "metadata": {},
     "output_type": "display_data"
    }
   ],
   "source": [
    "gm12878_int_h3k27ac <- read.delim(\"/data/gersbachlab/lrb53/encodeCrisprWG/finalversion/figure1/othercelltypes/gm12878/outs/gm12878.ppif.cres.int.h3k27ac.hg38.txt\",\n",
    "                       header = FALSE) %>%\n",
    "mutate(cre = paste0(V1,\":\",V2,\"-\",V3)) %>%\n",
    "select(cre) %>%\n",
    "distinct() %>% pull()\n",
    "\n",
    "length(gm12878_int_h3k27ac)"
   ]
  },
  {
   "cell_type": "code",
   "execution_count": 11,
   "metadata": {},
   "outputs": [
    {
     "data": {
      "text/html": [
       "<table class=\"dataframe\">\n",
       "<caption>A data.frame: 1 × 4</caption>\n",
       "<thead>\n",
       "\t<tr><th></th><th scope=col>cre</th><th scope=col>result_atac</th><th scope=col>result_dnase</th><th scope=col>result_h3k27ac</th></tr>\n",
       "\t<tr><th></th><th scope=col>&lt;chr&gt;</th><th scope=col>&lt;lgl&gt;</th><th scope=col>&lt;lgl&gt;</th><th scope=col>&lt;lgl&gt;</th></tr>\n",
       "</thead>\n",
       "<tbody>\n",
       "\t<tr><th scope=row>1</th><td>chr10:79023191-79023691</td><td>TRUE</td><td>TRUE</td><td>TRUE</td></tr>\n",
       "</tbody>\n",
       "</table>\n"
      ],
      "text/latex": [
       "A data.frame: 1 × 4\n",
       "\\begin{tabular}{r|llll}\n",
       "  & cre & result\\_atac & result\\_dnase & result\\_h3k27ac\\\\\n",
       "  & <chr> & <lgl> & <lgl> & <lgl>\\\\\n",
       "\\hline\n",
       "\t1 & chr10:79023191-79023691 & TRUE & TRUE & TRUE\\\\\n",
       "\\end{tabular}\n"
      ],
      "text/markdown": [
       "\n",
       "A data.frame: 1 × 4\n",
       "\n",
       "| <!--/--> | cre &lt;chr&gt; | result_atac &lt;lgl&gt; | result_dnase &lt;lgl&gt; | result_h3k27ac &lt;lgl&gt; |\n",
       "|---|---|---|---|---|\n",
       "| 1 | chr10:79023191-79023691 | TRUE | TRUE | TRUE |\n",
       "\n"
      ],
      "text/plain": [
       "  cre                     result_atac result_dnase result_h3k27ac\n",
       "1 chr10:79023191-79023691 TRUE        TRUE         TRUE          "
      ]
     },
     "metadata": {},
     "output_type": "display_data"
    }
   ],
   "source": [
    "gm12878_cre <- read.delim(\"/data/gersbachlab/lrb53/encodeCrisprWG/finalversion/figure1/othercelltypes/gm12878/cres/gm12878.ppif.allcres.hg38.bed\",\n",
    "                      header = FALSE) %>%\n",
    "mutate(cre = paste0(V1,\":\",V2,\"-\",V3)) %>%\n",
    "select(cre) %>%\n",
    "distinct() %>%\n",
    "mutate(result_atac = ifelse(cre %in% gm12878_int_atac, TRUE, FALSE),\n",
    "       result_dnase = ifelse(cre %in% gm12878_int_dnase, TRUE, FALSE),\n",
    "       result_h3k27ac = ifelse(cre %in% gm12878_int_h3k27ac, TRUE, FALSE))\n",
    "\n",
    "head(gm12878_cre, n=1)"
   ]
  },
  {
   "cell_type": "markdown",
   "metadata": {},
   "source": [
    "#### HepG2"
   ]
  },
  {
   "cell_type": "code",
   "execution_count": 12,
   "metadata": {},
   "outputs": [
    {
     "data": {
      "text/html": [
       "1"
      ],
      "text/latex": [
       "1"
      ],
      "text/markdown": [
       "1"
      ],
      "text/plain": [
       "[1] 1"
      ]
     },
     "metadata": {},
     "output_type": "display_data"
    }
   ],
   "source": [
    "hepg2_int_atac <- read.delim(\"/data/gersbachlab/lrb53/encodeCrisprWG/finalversion/figure1/othercelltypes/hepg2/outs/hepg2.mycmyb.cres.int.atac.hg38.txt\",\n",
    "                       header = FALSE) %>%\n",
    "mutate(cre = paste0(V1,\":\",V2,\"-\",V3)) %>%\n",
    "select(cre) %>%\n",
    "distinct() %>% pull()\n",
    "\n",
    "length(hepg2_int_atac)"
   ]
  },
  {
   "cell_type": "code",
   "execution_count": 13,
   "metadata": {
    "scrolled": true
   },
   "outputs": [
    {
     "data": {
      "text/html": [
       "1"
      ],
      "text/latex": [
       "1"
      ],
      "text/markdown": [
       "1"
      ],
      "text/plain": [
       "[1] 1"
      ]
     },
     "metadata": {},
     "output_type": "display_data"
    }
   ],
   "source": [
    "hepg2_int_dnase <- read.delim(\"/data/gersbachlab/lrb53/encodeCrisprWG/finalversion/figure1/othercelltypes/hepg2/outs/hepg2.mycmyb.cres.int.dnase.hg38.txt\",\n",
    "                       header = FALSE) %>%\n",
    "mutate(cre = paste0(V1,\":\",V2,\"-\",V3)) %>%\n",
    "select(cre) %>%\n",
    "distinct() %>% pull()\n",
    "\n",
    "length(hepg2_int_dnase)"
   ]
  },
  {
   "cell_type": "code",
   "execution_count": 14,
   "metadata": {},
   "outputs": [
    {
     "data": {
      "text/html": [
       "2"
      ],
      "text/latex": [
       "2"
      ],
      "text/markdown": [
       "2"
      ],
      "text/plain": [
       "[1] 2"
      ]
     },
     "metadata": {},
     "output_type": "display_data"
    }
   ],
   "source": [
    "hepg2_int_h3k27ac <- read.delim(\"/data/gersbachlab/lrb53/encodeCrisprWG/finalversion/figure1/othercelltypes/hepg2/outs/hepg2.mycmyb.cres.int.h3k27ac.hg38.txt\",\n",
    "                       header = FALSE) %>%\n",
    "mutate(cre = paste0(V1,\":\",V2,\"-\",V3)) %>%\n",
    "select(cre) %>%\n",
    "distinct() %>% pull()\n",
    "\n",
    "length(hepg2_int_h3k27ac)"
   ]
  },
  {
   "cell_type": "code",
   "execution_count": 15,
   "metadata": {},
   "outputs": [
    {
     "data": {
      "text/html": [
       "<table class=\"dataframe\">\n",
       "<caption>A data.frame: 1 × 4</caption>\n",
       "<thead>\n",
       "\t<tr><th></th><th scope=col>cre</th><th scope=col>result_atac</th><th scope=col>result_dnase</th><th scope=col>result_h3k27ac</th></tr>\n",
       "\t<tr><th></th><th scope=col>&lt;chr&gt;</th><th scope=col>&lt;lgl&gt;</th><th scope=col>&lt;lgl&gt;</th><th scope=col>&lt;lgl&gt;</th></tr>\n",
       "</thead>\n",
       "<tbody>\n",
       "\t<tr><th scope=row>1</th><td>chr8:128552785-128560796</td><td>TRUE</td><td>TRUE</td><td>TRUE</td></tr>\n",
       "</tbody>\n",
       "</table>\n"
      ],
      "text/latex": [
       "A data.frame: 1 × 4\n",
       "\\begin{tabular}{r|llll}\n",
       "  & cre & result\\_atac & result\\_dnase & result\\_h3k27ac\\\\\n",
       "  & <chr> & <lgl> & <lgl> & <lgl>\\\\\n",
       "\\hline\n",
       "\t1 & chr8:128552785-128560796 & TRUE & TRUE & TRUE\\\\\n",
       "\\end{tabular}\n"
      ],
      "text/markdown": [
       "\n",
       "A data.frame: 1 × 4\n",
       "\n",
       "| <!--/--> | cre &lt;chr&gt; | result_atac &lt;lgl&gt; | result_dnase &lt;lgl&gt; | result_h3k27ac &lt;lgl&gt; |\n",
       "|---|---|---|---|---|\n",
       "| 1 | chr8:128552785-128560796 | TRUE | TRUE | TRUE |\n",
       "\n"
      ],
      "text/plain": [
       "  cre                      result_atac result_dnase result_h3k27ac\n",
       "1 chr8:128552785-128560796 TRUE        TRUE         TRUE          "
      ]
     },
     "metadata": {},
     "output_type": "display_data"
    }
   ],
   "source": [
    "hepg2_cre <- read.delim(\"/data/gersbachlab/lrb53/encodeCrisprWG/finalversion/figure1/othercelltypes/hepg2/cres/hepg2.mycmyb.allcres.hg38.bed\",\n",
    "                      header = FALSE) %>%\n",
    "mutate(cre = paste0(V1,\":\",V2,\"-\",V3)) %>%\n",
    "select(cre) %>%\n",
    "distinct() %>%\n",
    "mutate(result_atac = ifelse(cre %in% hepg2_int_atac, TRUE, FALSE),\n",
    "       result_dnase = ifelse(cre %in% hepg2_int_dnase, TRUE, FALSE),\n",
    "       result_h3k27ac = ifelse(cre %in% hepg2_int_h3k27ac, TRUE, FALSE))\n",
    "\n",
    "head(hepg2_cre, n=1)"
   ]
  },
  {
   "cell_type": "markdown",
   "metadata": {},
   "source": [
    "#### A549"
   ]
  },
  {
   "cell_type": "code",
   "execution_count": 16,
   "metadata": {},
   "outputs": [
    {
     "data": {
      "text/html": [
       "4"
      ],
      "text/latex": [
       "4"
      ],
      "text/markdown": [
       "4"
      ],
      "text/plain": [
       "[1] 4"
      ]
     },
     "metadata": {},
     "output_type": "display_data"
    }
   ],
   "source": [
    "a549_int_atac <- read.delim(\"/data/gersbachlab/lrb53/encodeCrisprWG/finalversion/figure1/othercelltypes/a549/outs/a549.mycmyb.cres.int.atac.hg38.txt\",\n",
    "                       header = FALSE) %>%\n",
    "mutate(cre = paste0(V1,\":\",V2,\"-\",V3)) %>%\n",
    "select(cre) %>%\n",
    "distinct() %>% pull()\n",
    "\n",
    "length(a549_int_atac)"
   ]
  },
  {
   "cell_type": "code",
   "execution_count": 17,
   "metadata": {
    "scrolled": true
   },
   "outputs": [
    {
     "data": {
      "text/html": [
       "4"
      ],
      "text/latex": [
       "4"
      ],
      "text/markdown": [
       "4"
      ],
      "text/plain": [
       "[1] 4"
      ]
     },
     "metadata": {},
     "output_type": "display_data"
    }
   ],
   "source": [
    "a549_int_dnase <- read.delim(\"/data/gersbachlab/lrb53/encodeCrisprWG/finalversion/figure1/othercelltypes/a549/outs/a549.mycmyb.cres.int.dnase.hg38.txt\",\n",
    "                       header = FALSE) %>%\n",
    "mutate(cre = paste0(V1,\":\",V2,\"-\",V3)) %>%\n",
    "select(cre) %>%\n",
    "distinct() %>% pull()\n",
    "\n",
    "length(a549_int_dnase)"
   ]
  },
  {
   "cell_type": "code",
   "execution_count": 18,
   "metadata": {},
   "outputs": [
    {
     "data": {
      "text/html": [
       "4"
      ],
      "text/latex": [
       "4"
      ],
      "text/markdown": [
       "4"
      ],
      "text/plain": [
       "[1] 4"
      ]
     },
     "metadata": {},
     "output_type": "display_data"
    }
   ],
   "source": [
    "a549_int_h3k27ac <- read.delim(\"/data/gersbachlab/lrb53/encodeCrisprWG/finalversion/figure1/othercelltypes/a549/outs/a549.mycmyb.cres.int.h3k27ac.hg38.txt\",\n",
    "                       header = FALSE) %>%\n",
    "mutate(cre = paste0(V1,\":\",V2,\"-\",V3)) %>%\n",
    "select(cre) %>%\n",
    "distinct() %>% pull()\n",
    "\n",
    "length(a549_int_h3k27ac)"
   ]
  },
  {
   "cell_type": "code",
   "execution_count": 19,
   "metadata": {},
   "outputs": [
    {
     "data": {
      "text/html": [
       "<table class=\"dataframe\">\n",
       "<caption>A data.frame: 1 × 4</caption>\n",
       "<thead>\n",
       "\t<tr><th></th><th scope=col>cre</th><th scope=col>result_atac</th><th scope=col>result_dnase</th><th scope=col>result_h3k27ac</th></tr>\n",
       "\t<tr><th></th><th scope=col>&lt;chr&gt;</th><th scope=col>&lt;lgl&gt;</th><th scope=col>&lt;lgl&gt;</th><th scope=col>&lt;lgl&gt;</th></tr>\n",
       "</thead>\n",
       "<tbody>\n",
       "\t<tr><th scope=row>1</th><td>chr6:135053543-135055818</td><td>TRUE</td><td>TRUE</td><td>TRUE</td></tr>\n",
       "</tbody>\n",
       "</table>\n"
      ],
      "text/latex": [
       "A data.frame: 1 × 4\n",
       "\\begin{tabular}{r|llll}\n",
       "  & cre & result\\_atac & result\\_dnase & result\\_h3k27ac\\\\\n",
       "  & <chr> & <lgl> & <lgl> & <lgl>\\\\\n",
       "\\hline\n",
       "\t1 & chr6:135053543-135055818 & TRUE & TRUE & TRUE\\\\\n",
       "\\end{tabular}\n"
      ],
      "text/markdown": [
       "\n",
       "A data.frame: 1 × 4\n",
       "\n",
       "| <!--/--> | cre &lt;chr&gt; | result_atac &lt;lgl&gt; | result_dnase &lt;lgl&gt; | result_h3k27ac &lt;lgl&gt; |\n",
       "|---|---|---|---|---|\n",
       "| 1 | chr6:135053543-135055818 | TRUE | TRUE | TRUE |\n",
       "\n"
      ],
      "text/plain": [
       "  cre                      result_atac result_dnase result_h3k27ac\n",
       "1 chr6:135053543-135055818 TRUE        TRUE         TRUE          "
      ]
     },
     "metadata": {},
     "output_type": "display_data"
    }
   ],
   "source": [
    "a549_cre <- read.delim(\"/data/gersbachlab/lrb53/encodeCrisprWG/finalversion/figure1/othercelltypes/a549/cres/a549.mycmyb.allcres.hg38.bed\",\n",
    "                      header = FALSE) %>%\n",
    "mutate(cre = paste0(V1,\":\",V2,\"-\",V3)) %>%\n",
    "select(cre) %>%\n",
    "distinct() %>%\n",
    "mutate(result_atac = ifelse(cre %in% a549_int_atac, TRUE, FALSE),\n",
    "       result_dnase = ifelse(cre %in% a549_int_dnase, TRUE, FALSE),\n",
    "       result_h3k27ac = ifelse(cre %in% a549_int_h3k27ac, TRUE, FALSE))\n",
    "\n",
    "head(a549_cre, n=1)"
   ]
  },
  {
   "cell_type": "markdown",
   "metadata": {},
   "source": [
    "#### HCT116"
   ]
  },
  {
   "cell_type": "code",
   "execution_count": 20,
   "metadata": {},
   "outputs": [
    {
     "data": {
      "text/html": [
       "3"
      ],
      "text/latex": [
       "3"
      ],
      "text/markdown": [
       "3"
      ],
      "text/plain": [
       "[1] 3"
      ]
     },
     "metadata": {},
     "output_type": "display_data"
    }
   ],
   "source": [
    "hct116_int_atac <- read.delim(\"/data/gersbachlab/lrb53/encodeCrisprWG/finalversion/figure1/othercelltypes/hct116/outs/hct116.mycmyb.cres.int.atac.hg38.txt\",\n",
    "                       header = FALSE) %>%\n",
    "mutate(cre = paste0(V1,\":\",V2,\"-\",V3)) %>%\n",
    "select(cre) %>%\n",
    "distinct() %>% pull()\n",
    "\n",
    "length(hct116_int_atac)"
   ]
  },
  {
   "cell_type": "code",
   "execution_count": 21,
   "metadata": {
    "scrolled": true
   },
   "outputs": [
    {
     "data": {
      "text/html": [
       "3"
      ],
      "text/latex": [
       "3"
      ],
      "text/markdown": [
       "3"
      ],
      "text/plain": [
       "[1] 3"
      ]
     },
     "metadata": {},
     "output_type": "display_data"
    }
   ],
   "source": [
    "hct116_int_dnase <- read.delim(\"/data/gersbachlab/lrb53/encodeCrisprWG/finalversion/figure1/othercelltypes/hct116/outs/hct116.mycmyb.cres.int.dnase.hg38.txt\",\n",
    "                       header = FALSE) %>%\n",
    "mutate(cre = paste0(V1,\":\",V2,\"-\",V3)) %>%\n",
    "select(cre) %>%\n",
    "distinct() %>% pull()\n",
    "\n",
    "length(hct116_int_dnase)"
   ]
  },
  {
   "cell_type": "code",
   "execution_count": 22,
   "metadata": {},
   "outputs": [
    {
     "data": {
      "text/html": [
       "3"
      ],
      "text/latex": [
       "3"
      ],
      "text/markdown": [
       "3"
      ],
      "text/plain": [
       "[1] 3"
      ]
     },
     "metadata": {},
     "output_type": "display_data"
    }
   ],
   "source": [
    "hct116_int_h3k27ac <- read.delim(\"/data/gersbachlab/lrb53/encodeCrisprWG/finalversion/figure1/othercelltypes/hct116/outs/hct116.mycmyb.cres.int.h3k27ac.hg38.txt\",\n",
    "                       header = FALSE) %>%\n",
    "mutate(cre = paste0(V1,\":\",V2,\"-\",V3)) %>%\n",
    "select(cre) %>%\n",
    "distinct() %>% pull()\n",
    "\n",
    "length(hct116_int_h3k27ac)"
   ]
  },
  {
   "cell_type": "code",
   "execution_count": 23,
   "metadata": {},
   "outputs": [
    {
     "data": {
      "text/html": [
       "<table class=\"dataframe\">\n",
       "<caption>A data.frame: 1 × 4</caption>\n",
       "<thead>\n",
       "\t<tr><th></th><th scope=col>cre</th><th scope=col>result_atac</th><th scope=col>result_dnase</th><th scope=col>result_h3k27ac</th></tr>\n",
       "\t<tr><th></th><th scope=col>&lt;chr&gt;</th><th scope=col>&lt;lgl&gt;</th><th scope=col>&lt;lgl&gt;</th><th scope=col>&lt;lgl&gt;</th></tr>\n",
       "</thead>\n",
       "<tbody>\n",
       "\t<tr><th scope=row>1</th><td>chr6:135054002-135055805</td><td>TRUE</td><td>TRUE</td><td>TRUE</td></tr>\n",
       "</tbody>\n",
       "</table>\n"
      ],
      "text/latex": [
       "A data.frame: 1 × 4\n",
       "\\begin{tabular}{r|llll}\n",
       "  & cre & result\\_atac & result\\_dnase & result\\_h3k27ac\\\\\n",
       "  & <chr> & <lgl> & <lgl> & <lgl>\\\\\n",
       "\\hline\n",
       "\t1 & chr6:135054002-135055805 & TRUE & TRUE & TRUE\\\\\n",
       "\\end{tabular}\n"
      ],
      "text/markdown": [
       "\n",
       "A data.frame: 1 × 4\n",
       "\n",
       "| <!--/--> | cre &lt;chr&gt; | result_atac &lt;lgl&gt; | result_dnase &lt;lgl&gt; | result_h3k27ac &lt;lgl&gt; |\n",
       "|---|---|---|---|---|\n",
       "| 1 | chr6:135054002-135055805 | TRUE | TRUE | TRUE |\n",
       "\n"
      ],
      "text/plain": [
       "  cre                      result_atac result_dnase result_h3k27ac\n",
       "1 chr6:135054002-135055805 TRUE        TRUE         TRUE          "
      ]
     },
     "metadata": {},
     "output_type": "display_data"
    }
   ],
   "source": [
    "hct116_cre <- read.delim(\"/data/gersbachlab/lrb53/encodeCrisprWG/finalversion/figure1/othercelltypes/hct116/cres/hct116.mycmyb.allcres.hg38.bed\",\n",
    "                      header = FALSE) %>%\n",
    "mutate(cre = paste0(V1,\":\",V2,\"-\",V3)) %>%\n",
    "select(cre) %>%\n",
    "distinct() %>%\n",
    "mutate(result_atac = ifelse(cre %in% hct116_int_atac, TRUE, FALSE),\n",
    "       result_dnase = ifelse(cre %in% hct116_int_dnase, TRUE, FALSE),\n",
    "       result_h3k27ac = ifelse(cre %in% hct116_int_h3k27ac, TRUE, FALSE))\n",
    "\n",
    "head(hct116_cre, n=1)"
   ]
  },
  {
   "cell_type": "markdown",
   "metadata": {},
   "source": [
    "#### PC-3"
   ]
  },
  {
   "cell_type": "code",
   "execution_count": 24,
   "metadata": {},
   "outputs": [
    {
     "data": {
      "text/html": [
       "1"
      ],
      "text/latex": [
       "1"
      ],
      "text/markdown": [
       "1"
      ],
      "text/plain": [
       "[1] 1"
      ]
     },
     "metadata": {},
     "output_type": "display_data"
    }
   ],
   "source": [
    "pc3_int_atac <- read.delim(\"/data/gersbachlab/lrb53/encodeCrisprWG/finalversion/figure1/othercelltypes/pc3/outs/pc3.mycmyb.cres.int.atac.hg38.txt\",\n",
    "                       header = FALSE) %>%\n",
    "mutate(cre = paste0(V1,\":\",V2,\"-\",V3)) %>%\n",
    "select(cre) %>%\n",
    "distinct() %>% pull()\n",
    "\n",
    "length(pc3_int_atac)"
   ]
  },
  {
   "cell_type": "code",
   "execution_count": 25,
   "metadata": {
    "scrolled": true
   },
   "outputs": [
    {
     "data": {
      "text/html": [
       "1"
      ],
      "text/latex": [
       "1"
      ],
      "text/markdown": [
       "1"
      ],
      "text/plain": [
       "[1] 1"
      ]
     },
     "metadata": {},
     "output_type": "display_data"
    }
   ],
   "source": [
    "pc3_int_dnase <- read.delim(\"/data/gersbachlab/lrb53/encodeCrisprWG/finalversion/figure1/othercelltypes/pc3/outs/pc3.mycmyb.cres.int.dnase.hg38.txt\",\n",
    "                       header = FALSE) %>%\n",
    "mutate(cre = paste0(V1,\":\",V2,\"-\",V3)) %>%\n",
    "select(cre) %>%\n",
    "distinct() %>% pull()\n",
    "\n",
    "length(pc3_int_dnase)"
   ]
  },
  {
   "cell_type": "code",
   "execution_count": 26,
   "metadata": {},
   "outputs": [
    {
     "data": {
      "text/html": [
       "1"
      ],
      "text/latex": [
       "1"
      ],
      "text/markdown": [
       "1"
      ],
      "text/plain": [
       "[1] 1"
      ]
     },
     "metadata": {},
     "output_type": "display_data"
    }
   ],
   "source": [
    "pc3_int_h3k27ac <- read.delim(\"/data/gersbachlab/lrb53/encodeCrisprWG/finalversion/figure1/othercelltypes/pc3/outs/pc3.mycmyb.cres.int.h3k27ac.hg38.txt\",\n",
    "                       header = FALSE) %>%\n",
    "mutate(cre = paste0(V1,\":\",V2,\"-\",V3)) %>%\n",
    "select(cre) %>%\n",
    "distinct() %>% pull()\n",
    "\n",
    "length(pc3_int_h3k27ac)"
   ]
  },
  {
   "cell_type": "code",
   "execution_count": 27,
   "metadata": {},
   "outputs": [
    {
     "data": {
      "text/html": [
       "<table class=\"dataframe\">\n",
       "<caption>A data.frame: 1 × 4</caption>\n",
       "<thead>\n",
       "\t<tr><th></th><th scope=col>cre</th><th scope=col>result_atac</th><th scope=col>result_dnase</th><th scope=col>result_h3k27ac</th></tr>\n",
       "\t<tr><th></th><th scope=col>&lt;chr&gt;</th><th scope=col>&lt;lgl&gt;</th><th scope=col>&lt;lgl&gt;</th><th scope=col>&lt;lgl&gt;</th></tr>\n",
       "</thead>\n",
       "<tbody>\n",
       "\t<tr><th scope=row>1</th><td>chr6:135053624-135057983</td><td>TRUE</td><td>TRUE</td><td>TRUE</td></tr>\n",
       "</tbody>\n",
       "</table>\n"
      ],
      "text/latex": [
       "A data.frame: 1 × 4\n",
       "\\begin{tabular}{r|llll}\n",
       "  & cre & result\\_atac & result\\_dnase & result\\_h3k27ac\\\\\n",
       "  & <chr> & <lgl> & <lgl> & <lgl>\\\\\n",
       "\\hline\n",
       "\t1 & chr6:135053624-135057983 & TRUE & TRUE & TRUE\\\\\n",
       "\\end{tabular}\n"
      ],
      "text/markdown": [
       "\n",
       "A data.frame: 1 × 4\n",
       "\n",
       "| <!--/--> | cre &lt;chr&gt; | result_atac &lt;lgl&gt; | result_dnase &lt;lgl&gt; | result_h3k27ac &lt;lgl&gt; |\n",
       "|---|---|---|---|---|\n",
       "| 1 | chr6:135053624-135057983 | TRUE | TRUE | TRUE |\n",
       "\n"
      ],
      "text/plain": [
       "  cre                      result_atac result_dnase result_h3k27ac\n",
       "1 chr6:135053624-135057983 TRUE        TRUE         TRUE          "
      ]
     },
     "metadata": {},
     "output_type": "display_data"
    }
   ],
   "source": [
    "pc3_cre <- read.delim(\"/data/gersbachlab/lrb53/encodeCrisprWG/finalversion/figure1/othercelltypes/pc3/cres/pc3.mycmyb.allcres.hg38.bed\",\n",
    "                      header = FALSE) %>%\n",
    "mutate(cre = paste0(V1,\":\",V2,\"-\",V3)) %>%\n",
    "select(cre) %>%\n",
    "distinct() %>%\n",
    "mutate(result_atac = ifelse(cre %in% pc3_int_atac, TRUE, FALSE),\n",
    "       result_dnase = ifelse(cre %in% pc3_int_dnase, TRUE, FALSE),\n",
    "       result_h3k27ac = ifelse(cre %in% pc3_int_h3k27ac, TRUE, FALSE))\n",
    "\n",
    "head(pc3_cre, n=1)"
   ]
  },
  {
   "cell_type": "markdown",
   "metadata": {},
   "source": [
    "#### NCI-H460"
   ]
  },
  {
   "cell_type": "code",
   "execution_count": 28,
   "metadata": {
    "scrolled": true
   },
   "outputs": [
    {
     "data": {
      "text/html": [
       "1"
      ],
      "text/latex": [
       "1"
      ],
      "text/markdown": [
       "1"
      ],
      "text/plain": [
       "[1] 1"
      ]
     },
     "metadata": {},
     "output_type": "display_data"
    }
   ],
   "source": [
    "ncih460_int_dnase <- read.delim(\"/data/gersbachlab/lrb53/encodeCrisprWG/finalversion/figure1/othercelltypes/ncih460/outs/ncih460.mycmyb.cres.int.dnase.hg38.txt\",\n",
    "                       header = FALSE) %>%\n",
    "mutate(cre = paste0(V1,\":\",V2,\"-\",V3)) %>%\n",
    "select(cre) %>%\n",
    "distinct() %>% pull()\n",
    "\n",
    "length(ncih460_int_dnase)"
   ]
  },
  {
   "cell_type": "code",
   "execution_count": 29,
   "metadata": {},
   "outputs": [
    {
     "data": {
      "text/html": [
       "<table class=\"dataframe\">\n",
       "<caption>A data.frame: 1 × 4</caption>\n",
       "<thead>\n",
       "\t<tr><th></th><th scope=col>cre</th><th scope=col>result_dnase</th><th scope=col>result_atac</th><th scope=col>result_h3k27ac</th></tr>\n",
       "\t<tr><th></th><th scope=col>&lt;chr&gt;</th><th scope=col>&lt;lgl&gt;</th><th scope=col>&lt;lgl&gt;</th><th scope=col>&lt;lgl&gt;</th></tr>\n",
       "</thead>\n",
       "<tbody>\n",
       "\t<tr><th scope=row>1</th><td>chr8:128551556-128562132</td><td>TRUE</td><td>NA</td><td>NA</td></tr>\n",
       "</tbody>\n",
       "</table>\n"
      ],
      "text/latex": [
       "A data.frame: 1 × 4\n",
       "\\begin{tabular}{r|llll}\n",
       "  & cre & result\\_dnase & result\\_atac & result\\_h3k27ac\\\\\n",
       "  & <chr> & <lgl> & <lgl> & <lgl>\\\\\n",
       "\\hline\n",
       "\t1 & chr8:128551556-128562132 & TRUE & NA & NA\\\\\n",
       "\\end{tabular}\n"
      ],
      "text/markdown": [
       "\n",
       "A data.frame: 1 × 4\n",
       "\n",
       "| <!--/--> | cre &lt;chr&gt; | result_dnase &lt;lgl&gt; | result_atac &lt;lgl&gt; | result_h3k27ac &lt;lgl&gt; |\n",
       "|---|---|---|---|---|\n",
       "| 1 | chr8:128551556-128562132 | TRUE | NA | NA |\n",
       "\n"
      ],
      "text/plain": [
       "  cre                      result_dnase result_atac result_h3k27ac\n",
       "1 chr8:128551556-128562132 TRUE         NA          NA            "
      ]
     },
     "metadata": {},
     "output_type": "display_data"
    }
   ],
   "source": [
    "ncih460_cre <- read.delim(\"/data/gersbachlab/lrb53/encodeCrisprWG/finalversion/figure1/othercelltypes/ncih460/cres/ncih460.mycmyb.allcres.hg38.bed\",\n",
    "                      header = FALSE) %>%\n",
    "mutate(cre = paste0(V1,\":\",V2,\"-\",V3)) %>%\n",
    "select(cre) %>%\n",
    "distinct() %>%\n",
    "mutate(result_dnase = ifelse(cre %in% ncih460_int_dnase, TRUE, FALSE),\n",
    "       result_atac = NA,\n",
    "       result_h3k27ac = NA)\n",
    "\n",
    "head(ncih460_cre, n=1)"
   ]
  },
  {
   "cell_type": "markdown",
   "metadata": {},
   "source": [
    "#### MCF-7"
   ]
  },
  {
   "cell_type": "code",
   "execution_count": 30,
   "metadata": {},
   "outputs": [
    {
     "data": {
      "text/html": [
       "3"
      ],
      "text/latex": [
       "3"
      ],
      "text/markdown": [
       "3"
      ],
      "text/plain": [
       "[1] 3"
      ]
     },
     "metadata": {},
     "output_type": "display_data"
    }
   ],
   "source": [
    "mcf7_int_atac <- read.delim(\"/data/gersbachlab/lrb53/encodeCrisprWG/finalversion/figure1/othercelltypes/mcf7/outs/mcf7.mycmyb.cres.int.atac.hg38.txt\",\n",
    "                       header = FALSE) %>%\n",
    "mutate(cre = paste0(V1,\":\",V2,\"-\",V3)) %>%\n",
    "select(cre) %>%\n",
    "distinct() %>% pull()\n",
    "\n",
    "length(mcf7_int_atac)"
   ]
  },
  {
   "cell_type": "code",
   "execution_count": 31,
   "metadata": {
    "scrolled": true
   },
   "outputs": [
    {
     "data": {
      "text/html": [
       "3"
      ],
      "text/latex": [
       "3"
      ],
      "text/markdown": [
       "3"
      ],
      "text/plain": [
       "[1] 3"
      ]
     },
     "metadata": {},
     "output_type": "display_data"
    }
   ],
   "source": [
    "mcf7_int_dnase <- read.delim(\"/data/gersbachlab/lrb53/encodeCrisprWG/finalversion/figure1/othercelltypes/mcf7/outs/mcf7.mycmyb.cres.int.dnase.hg38.txt\",\n",
    "                       header = FALSE) %>%\n",
    "mutate(cre = paste0(V1,\":\",V2,\"-\",V3)) %>%\n",
    "select(cre) %>%\n",
    "distinct() %>% pull()\n",
    "\n",
    "length(mcf7_int_dnase)"
   ]
  },
  {
   "cell_type": "code",
   "execution_count": 32,
   "metadata": {},
   "outputs": [
    {
     "data": {
      "text/html": [
       "3"
      ],
      "text/latex": [
       "3"
      ],
      "text/markdown": [
       "3"
      ],
      "text/plain": [
       "[1] 3"
      ]
     },
     "metadata": {},
     "output_type": "display_data"
    }
   ],
   "source": [
    "mcf7_int_h3k27ac <- read.delim(\"/data/gersbachlab/lrb53/encodeCrisprWG/finalversion/figure1/othercelltypes/mcf7/outs/mcf7.mycmyb.cres.int.h3k27ac.hg38.txt\",\n",
    "                       header = FALSE) %>%\n",
    "mutate(cre = paste0(V1,\":\",V2,\"-\",V3)) %>%\n",
    "select(cre) %>%\n",
    "distinct() %>% pull()\n",
    "\n",
    "length(mcf7_int_h3k27ac)"
   ]
  },
  {
   "cell_type": "code",
   "execution_count": 33,
   "metadata": {},
   "outputs": [
    {
     "data": {
      "text/html": [
       "<table class=\"dataframe\">\n",
       "<caption>A data.frame: 1 × 4</caption>\n",
       "<thead>\n",
       "\t<tr><th></th><th scope=col>cre</th><th scope=col>result_atac</th><th scope=col>result_dnase</th><th scope=col>result_h3k27ac</th></tr>\n",
       "\t<tr><th></th><th scope=col>&lt;chr&gt;</th><th scope=col>&lt;lgl&gt;</th><th scope=col>&lt;lgl&gt;</th><th scope=col>&lt;lgl&gt;</th></tr>\n",
       "</thead>\n",
       "<tbody>\n",
       "\t<tr><th scope=row>1</th><td>chr6:135053211-135054964</td><td>TRUE</td><td>TRUE</td><td>TRUE</td></tr>\n",
       "</tbody>\n",
       "</table>\n"
      ],
      "text/latex": [
       "A data.frame: 1 × 4\n",
       "\\begin{tabular}{r|llll}\n",
       "  & cre & result\\_atac & result\\_dnase & result\\_h3k27ac\\\\\n",
       "  & <chr> & <lgl> & <lgl> & <lgl>\\\\\n",
       "\\hline\n",
       "\t1 & chr6:135053211-135054964 & TRUE & TRUE & TRUE\\\\\n",
       "\\end{tabular}\n"
      ],
      "text/markdown": [
       "\n",
       "A data.frame: 1 × 4\n",
       "\n",
       "| <!--/--> | cre &lt;chr&gt; | result_atac &lt;lgl&gt; | result_dnase &lt;lgl&gt; | result_h3k27ac &lt;lgl&gt; |\n",
       "|---|---|---|---|---|\n",
       "| 1 | chr6:135053211-135054964 | TRUE | TRUE | TRUE |\n",
       "\n"
      ],
      "text/plain": [
       "  cre                      result_atac result_dnase result_h3k27ac\n",
       "1 chr6:135053211-135054964 TRUE        TRUE         TRUE          "
      ]
     },
     "metadata": {},
     "output_type": "display_data"
    }
   ],
   "source": [
    "mcf7_cre <- read.delim(\"/data/gersbachlab/lrb53/encodeCrisprWG/finalversion/figure1/othercelltypes/mcf7/cres/mcf7.mycmyb.allcres.hg38.bed\",\n",
    "                      header = FALSE) %>%\n",
    "mutate(cre = paste0(V1,\":\",V2,\"-\",V3)) %>%\n",
    "select(cre) %>%\n",
    "distinct() %>%\n",
    "mutate(result_atac = ifelse(cre %in% mcf7_int_atac, TRUE, FALSE),\n",
    "       result_dnase = ifelse(cre %in% mcf7_int_dnase, TRUE, FALSE),\n",
    "       result_h3k27ac = ifelse(cre %in% mcf7_int_h3k27ac, TRUE, FALSE))\n",
    "\n",
    "head(mcf7_cre, n=1)"
   ]
  },
  {
   "cell_type": "markdown",
   "metadata": {},
   "source": [
    "### Combine into one df, add label for cell type"
   ]
  },
  {
   "cell_type": "code",
   "execution_count": 34,
   "metadata": {},
   "outputs": [
    {
     "data": {
      "text/html": [
       "<table class=\"dataframe\">\n",
       "<caption>A data.frame: 1 × 5</caption>\n",
       "<thead>\n",
       "\t<tr><th></th><th scope=col>cre</th><th scope=col>result_dnase</th><th scope=col>result_atac</th><th scope=col>result_h3k27ac</th><th scope=col>cell_type</th></tr>\n",
       "\t<tr><th></th><th scope=col>&lt;chr&gt;</th><th scope=col>&lt;lgl&gt;</th><th scope=col>&lt;lgl&gt;</th><th scope=col>&lt;lgl&gt;</th><th scope=col>&lt;chr&gt;</th></tr>\n",
       "</thead>\n",
       "<tbody>\n",
       "\t<tr><th scope=row>1</th><td>chr10:79323113-79323613</td><td>TRUE</td><td>NA</td><td>NA</td><td>jurkat</td></tr>\n",
       "</tbody>\n",
       "</table>\n"
      ],
      "text/latex": [
       "A data.frame: 1 × 5\n",
       "\\begin{tabular}{r|lllll}\n",
       "  & cre & result\\_dnase & result\\_atac & result\\_h3k27ac & cell\\_type\\\\\n",
       "  & <chr> & <lgl> & <lgl> & <lgl> & <chr>\\\\\n",
       "\\hline\n",
       "\t1 & chr10:79323113-79323613 & TRUE & NA & NA & jurkat\\\\\n",
       "\\end{tabular}\n"
      ],
      "text/markdown": [
       "\n",
       "A data.frame: 1 × 5\n",
       "\n",
       "| <!--/--> | cre &lt;chr&gt; | result_dnase &lt;lgl&gt; | result_atac &lt;lgl&gt; | result_h3k27ac &lt;lgl&gt; | cell_type &lt;chr&gt; |\n",
       "|---|---|---|---|---|---|\n",
       "| 1 | chr10:79323113-79323613 | TRUE | NA | NA | jurkat |\n",
       "\n"
      ],
      "text/plain": [
       "  cre                     result_dnase result_atac result_h3k27ac cell_type\n",
       "1 chr10:79323113-79323613 TRUE         NA          NA             jurkat   "
      ]
     },
     "metadata": {},
     "output_type": "display_data"
    },
    {
     "data": {
      "text/html": [
       "<style>\n",
       ".list-inline {list-style: none; margin:0; padding: 0}\n",
       ".list-inline>li {display: inline-block}\n",
       ".list-inline>li:not(:last-child)::after {content: \"\\00b7\"; padding: 0 .5ex}\n",
       "</style>\n",
       "<ol class=list-inline><li>40</li><li>5</li></ol>\n"
      ],
      "text/latex": [
       "\\begin{enumerate*}\n",
       "\\item 40\n",
       "\\item 5\n",
       "\\end{enumerate*}\n"
      ],
      "text/markdown": [
       "1. 40\n",
       "2. 5\n",
       "\n",
       "\n"
      ],
      "text/plain": [
       "[1] 40  5"
      ]
     },
     "metadata": {},
     "output_type": "display_data"
    }
   ],
   "source": [
    "workdf <- rbind(\n",
    "    jurkat_cre %>% mutate(cell_type = \"jurkat\"), \n",
    "    gm12878_cre %>% mutate(cell_type = \"gm12878\"), \n",
    "    hepg2_cre %>% mutate(cell_type = \"hepg2\"), \n",
    "    a549_cre %>% mutate(cell_type = \"a549\"), \n",
    "    hct116_cre %>% mutate(cell_type = \"hct116\"), \n",
    "    pc3_cre %>% mutate(cell_type = \"pc3\"), \n",
    "    ncih460_cre %>% mutate(cell_type = \"ncih460\"), \n",
    "    mcf7_cre %>% mutate(cell_type = \"mcf7\"))\n",
    "\n",
    "head(workdf,n=1)\n",
    "dim(workdf)"
   ]
  },
  {
   "cell_type": "markdown",
   "metadata": {},
   "source": [
    "### Summarize number of and proportion of CREs that overlap each feature"
   ]
  },
  {
   "cell_type": "code",
   "execution_count": 35,
   "metadata": {},
   "outputs": [
    {
     "name": "stderr",
     "output_type": "stream",
     "text": [
      "\u001b[1m\u001b[22m`summarise()` has grouped output by 'cell_type', 'feature'. You can override\n",
      "using the `.groups` argument.\n"
     ]
    },
    {
     "data": {
      "text/html": [
       "<table class=\"dataframe\">\n",
       "<caption>A tibble: 25 × 5</caption>\n",
       "<thead>\n",
       "\t<tr><th scope=col>cell_type</th><th scope=col>feature</th><th scope=col>overlap</th><th scope=col>n</th><th scope=col>prop_n</th></tr>\n",
       "\t<tr><th scope=col>&lt;chr&gt;</th><th scope=col>&lt;chr&gt;</th><th scope=col>&lt;lgl&gt;</th><th scope=col>&lt;int&gt;</th><th scope=col>&lt;dbl&gt;</th></tr>\n",
       "</thead>\n",
       "<tbody>\n",
       "\t<tr><td>a549   </td><td>result_atac   </td><td> TRUE</td><td> 4</td><td>1.0000000</td></tr>\n",
       "\t<tr><td>a549   </td><td>result_dnase  </td><td> TRUE</td><td> 4</td><td>1.0000000</td></tr>\n",
       "\t<tr><td>a549   </td><td>result_h3k27ac</td><td> TRUE</td><td> 4</td><td>1.0000000</td></tr>\n",
       "\t<tr><td>gm12878</td><td>result_atac   </td><td> TRUE</td><td>14</td><td>1.0000000</td></tr>\n",
       "\t<tr><td>gm12878</td><td>result_dnase  </td><td>FALSE</td><td> 5</td><td>0.3571429</td></tr>\n",
       "\t<tr><td>gm12878</td><td>result_dnase  </td><td> TRUE</td><td> 9</td><td>0.6428571</td></tr>\n",
       "\t<tr><td>gm12878</td><td>result_h3k27ac</td><td>FALSE</td><td> 3</td><td>0.2142857</td></tr>\n",
       "\t<tr><td>gm12878</td><td>result_h3k27ac</td><td> TRUE</td><td>11</td><td>0.7857143</td></tr>\n",
       "\t<tr><td>hct116 </td><td>result_atac   </td><td> TRUE</td><td> 3</td><td>1.0000000</td></tr>\n",
       "\t<tr><td>hct116 </td><td>result_dnase  </td><td> TRUE</td><td> 3</td><td>1.0000000</td></tr>\n",
       "\t<tr><td>hct116 </td><td>result_h3k27ac</td><td> TRUE</td><td> 3</td><td>1.0000000</td></tr>\n",
       "\t<tr><td>hepg2  </td><td>result_atac   </td><td>FALSE</td><td> 1</td><td>0.5000000</td></tr>\n",
       "\t<tr><td>hepg2  </td><td>result_atac   </td><td> TRUE</td><td> 1</td><td>0.5000000</td></tr>\n",
       "\t<tr><td>hepg2  </td><td>result_dnase  </td><td>FALSE</td><td> 1</td><td>0.5000000</td></tr>\n",
       "\t<tr><td>hepg2  </td><td>result_dnase  </td><td> TRUE</td><td> 1</td><td>0.5000000</td></tr>\n",
       "\t<tr><td>hepg2  </td><td>result_h3k27ac</td><td> TRUE</td><td> 2</td><td>1.0000000</td></tr>\n",
       "\t<tr><td>jurkat </td><td>result_dnase  </td><td>FALSE</td><td> 4</td><td>0.3333333</td></tr>\n",
       "\t<tr><td>jurkat </td><td>result_dnase  </td><td> TRUE</td><td> 8</td><td>0.6666667</td></tr>\n",
       "\t<tr><td>mcf7   </td><td>result_atac   </td><td> TRUE</td><td> 3</td><td>1.0000000</td></tr>\n",
       "\t<tr><td>mcf7   </td><td>result_dnase  </td><td> TRUE</td><td> 3</td><td>1.0000000</td></tr>\n",
       "\t<tr><td>mcf7   </td><td>result_h3k27ac</td><td> TRUE</td><td> 3</td><td>1.0000000</td></tr>\n",
       "\t<tr><td>ncih460</td><td>result_dnase  </td><td> TRUE</td><td> 1</td><td>1.0000000</td></tr>\n",
       "\t<tr><td>pc3    </td><td>result_atac   </td><td> TRUE</td><td> 1</td><td>1.0000000</td></tr>\n",
       "\t<tr><td>pc3    </td><td>result_dnase  </td><td> TRUE</td><td> 1</td><td>1.0000000</td></tr>\n",
       "\t<tr><td>pc3    </td><td>result_h3k27ac</td><td> TRUE</td><td> 1</td><td>1.0000000</td></tr>\n",
       "</tbody>\n",
       "</table>\n"
      ],
      "text/latex": [
       "A tibble: 25 × 5\n",
       "\\begin{tabular}{lllll}\n",
       " cell\\_type & feature & overlap & n & prop\\_n\\\\\n",
       " <chr> & <chr> & <lgl> & <int> & <dbl>\\\\\n",
       "\\hline\n",
       "\t a549    & result\\_atac    &  TRUE &  4 & 1.0000000\\\\\n",
       "\t a549    & result\\_dnase   &  TRUE &  4 & 1.0000000\\\\\n",
       "\t a549    & result\\_h3k27ac &  TRUE &  4 & 1.0000000\\\\\n",
       "\t gm12878 & result\\_atac    &  TRUE & 14 & 1.0000000\\\\\n",
       "\t gm12878 & result\\_dnase   & FALSE &  5 & 0.3571429\\\\\n",
       "\t gm12878 & result\\_dnase   &  TRUE &  9 & 0.6428571\\\\\n",
       "\t gm12878 & result\\_h3k27ac & FALSE &  3 & 0.2142857\\\\\n",
       "\t gm12878 & result\\_h3k27ac &  TRUE & 11 & 0.7857143\\\\\n",
       "\t hct116  & result\\_atac    &  TRUE &  3 & 1.0000000\\\\\n",
       "\t hct116  & result\\_dnase   &  TRUE &  3 & 1.0000000\\\\\n",
       "\t hct116  & result\\_h3k27ac &  TRUE &  3 & 1.0000000\\\\\n",
       "\t hepg2   & result\\_atac    & FALSE &  1 & 0.5000000\\\\\n",
       "\t hepg2   & result\\_atac    &  TRUE &  1 & 0.5000000\\\\\n",
       "\t hepg2   & result\\_dnase   & FALSE &  1 & 0.5000000\\\\\n",
       "\t hepg2   & result\\_dnase   &  TRUE &  1 & 0.5000000\\\\\n",
       "\t hepg2   & result\\_h3k27ac &  TRUE &  2 & 1.0000000\\\\\n",
       "\t jurkat  & result\\_dnase   & FALSE &  4 & 0.3333333\\\\\n",
       "\t jurkat  & result\\_dnase   &  TRUE &  8 & 0.6666667\\\\\n",
       "\t mcf7    & result\\_atac    &  TRUE &  3 & 1.0000000\\\\\n",
       "\t mcf7    & result\\_dnase   &  TRUE &  3 & 1.0000000\\\\\n",
       "\t mcf7    & result\\_h3k27ac &  TRUE &  3 & 1.0000000\\\\\n",
       "\t ncih460 & result\\_dnase   &  TRUE &  1 & 1.0000000\\\\\n",
       "\t pc3     & result\\_atac    &  TRUE &  1 & 1.0000000\\\\\n",
       "\t pc3     & result\\_dnase   &  TRUE &  1 & 1.0000000\\\\\n",
       "\t pc3     & result\\_h3k27ac &  TRUE &  1 & 1.0000000\\\\\n",
       "\\end{tabular}\n"
      ],
      "text/markdown": [
       "\n",
       "A tibble: 25 × 5\n",
       "\n",
       "| cell_type &lt;chr&gt; | feature &lt;chr&gt; | overlap &lt;lgl&gt; | n &lt;int&gt; | prop_n &lt;dbl&gt; |\n",
       "|---|---|---|---|---|\n",
       "| a549    | result_atac    |  TRUE |  4 | 1.0000000 |\n",
       "| a549    | result_dnase   |  TRUE |  4 | 1.0000000 |\n",
       "| a549    | result_h3k27ac |  TRUE |  4 | 1.0000000 |\n",
       "| gm12878 | result_atac    |  TRUE | 14 | 1.0000000 |\n",
       "| gm12878 | result_dnase   | FALSE |  5 | 0.3571429 |\n",
       "| gm12878 | result_dnase   |  TRUE |  9 | 0.6428571 |\n",
       "| gm12878 | result_h3k27ac | FALSE |  3 | 0.2142857 |\n",
       "| gm12878 | result_h3k27ac |  TRUE | 11 | 0.7857143 |\n",
       "| hct116  | result_atac    |  TRUE |  3 | 1.0000000 |\n",
       "| hct116  | result_dnase   |  TRUE |  3 | 1.0000000 |\n",
       "| hct116  | result_h3k27ac |  TRUE |  3 | 1.0000000 |\n",
       "| hepg2   | result_atac    | FALSE |  1 | 0.5000000 |\n",
       "| hepg2   | result_atac    |  TRUE |  1 | 0.5000000 |\n",
       "| hepg2   | result_dnase   | FALSE |  1 | 0.5000000 |\n",
       "| hepg2   | result_dnase   |  TRUE |  1 | 0.5000000 |\n",
       "| hepg2   | result_h3k27ac |  TRUE |  2 | 1.0000000 |\n",
       "| jurkat  | result_dnase   | FALSE |  4 | 0.3333333 |\n",
       "| jurkat  | result_dnase   |  TRUE |  8 | 0.6666667 |\n",
       "| mcf7    | result_atac    |  TRUE |  3 | 1.0000000 |\n",
       "| mcf7    | result_dnase   |  TRUE |  3 | 1.0000000 |\n",
       "| mcf7    | result_h3k27ac |  TRUE |  3 | 1.0000000 |\n",
       "| ncih460 | result_dnase   |  TRUE |  1 | 1.0000000 |\n",
       "| pc3     | result_atac    |  TRUE |  1 | 1.0000000 |\n",
       "| pc3     | result_dnase   |  TRUE |  1 | 1.0000000 |\n",
       "| pc3     | result_h3k27ac |  TRUE |  1 | 1.0000000 |\n",
       "\n"
      ],
      "text/plain": [
       "   cell_type feature        overlap n  prop_n   \n",
       "1  a549      result_atac     TRUE    4 1.0000000\n",
       "2  a549      result_dnase    TRUE    4 1.0000000\n",
       "3  a549      result_h3k27ac  TRUE    4 1.0000000\n",
       "4  gm12878   result_atac     TRUE   14 1.0000000\n",
       "5  gm12878   result_dnase   FALSE    5 0.3571429\n",
       "6  gm12878   result_dnase    TRUE    9 0.6428571\n",
       "7  gm12878   result_h3k27ac FALSE    3 0.2142857\n",
       "8  gm12878   result_h3k27ac  TRUE   11 0.7857143\n",
       "9  hct116    result_atac     TRUE    3 1.0000000\n",
       "10 hct116    result_dnase    TRUE    3 1.0000000\n",
       "11 hct116    result_h3k27ac  TRUE    3 1.0000000\n",
       "12 hepg2     result_atac    FALSE    1 0.5000000\n",
       "13 hepg2     result_atac     TRUE    1 0.5000000\n",
       "14 hepg2     result_dnase   FALSE    1 0.5000000\n",
       "15 hepg2     result_dnase    TRUE    1 0.5000000\n",
       "16 hepg2     result_h3k27ac  TRUE    2 1.0000000\n",
       "17 jurkat    result_dnase   FALSE    4 0.3333333\n",
       "18 jurkat    result_dnase    TRUE    8 0.6666667\n",
       "19 mcf7      result_atac     TRUE    3 1.0000000\n",
       "20 mcf7      result_dnase    TRUE    3 1.0000000\n",
       "21 mcf7      result_h3k27ac  TRUE    3 1.0000000\n",
       "22 ncih460   result_dnase    TRUE    1 1.0000000\n",
       "23 pc3       result_atac     TRUE    1 1.0000000\n",
       "24 pc3       result_dnase    TRUE    1 1.0000000\n",
       "25 pc3       result_h3k27ac  TRUE    1 1.0000000"
      ]
     },
     "metadata": {},
     "output_type": "display_data"
    }
   ],
   "source": [
    "workdf %>%\n",
    "pivot_longer(cols = contains(\"result\"), names_to = \"feature\", values_to = \"overlap\") %>%\n",
    "filter(!is.na(overlap)) %>%\n",
    "group_by(cell_type, feature, overlap) %>%\n",
    "summarise(n=n()) %>%\n",
    "ungroup() %>%\n",
    "group_by(cell_type, feature) %>%\n",
    "mutate(prop_n = n/sum(n)) %>%\n",
    "ungroup() %>%\n",
    "arrange(cell_type, feature)"
   ]
  },
  {
   "cell_type": "code",
   "execution_count": 36,
   "metadata": {},
   "outputs": [
    {
     "name": "stderr",
     "output_type": "stream",
     "text": [
      "\u001b[1m\u001b[22m`summarise()` has grouped output by 'cell_type', 'feature'. You can override\n",
      "using the `.groups` argument.\n"
     ]
    }
   ],
   "source": [
    "workdf %>%\n",
    "pivot_longer(cols = contains(\"result\"), names_to = \"feature\", values_to = \"overlap\") %>%\n",
    "filter(!is.na(overlap)) %>%\n",
    "group_by(cell_type, feature, overlap) %>%\n",
    "summarise(n=n()) %>%\n",
    "ungroup() %>%\n",
    "group_by(cell_type, feature) %>%\n",
    "mutate(prop_n = n/sum(n)) %>%\n",
    "ungroup() %>%\n",
    "arrange(cell_type, feature) %>%\n",
    "write.table(\"/data/gersbachlab/lrb53/encodeCrisprWG/finalversion/figure1/othercelltypes/outs/overlap/othercelltypes.cres.int.atacdnaseh3k27ac.summary.txt\",\n",
    "            col.names=T, row.names=F, quote=F, sep=\"\\t\")\n"
   ]
  },
  {
   "cell_type": "markdown",
   "metadata": {},
   "source": [
    "### Plot number of and proportion of CREs that overlap each feature"
   ]
  },
  {
   "cell_type": "code",
   "execution_count": 37,
   "metadata": {},
   "outputs": [
    {
     "name": "stderr",
     "output_type": "stream",
     "text": [
      "\u001b[1m\u001b[22m`summarise()` has grouped output by 'cell_type', 'feature'. You can override\n",
      "using the `.groups` argument.\n"
     ]
    },
    {
     "data": {
      "image/png": "[encoded data removed]",
      "text/plain": [
       "plot without title"
      ]
     },
     "metadata": {
      "image/png": {
       "height": 420,
       "width": 420
      }
     },
     "output_type": "display_data"
    }
   ],
   "source": [
    "workdf %>%\n",
    "pivot_longer(cols = contains(\"result\"), names_to = \"feature\", values_to = \"overlap\") %>%\n",
    "filter(!is.na(overlap)) %>%\n",
    "group_by(cell_type, feature, overlap) %>%\n",
    "summarise(n=n()) %>%\n",
    "ungroup() %>%\n",
    "group_by(cell_type, feature) %>%\n",
    "mutate(prop_n = n/sum(n)) %>%\n",
    "ungroup() %>%\n",
    "arrange(cell_type, feature) %>%\n",
    "ggplot(aes(y = cell_type, x = n, fill = overlap)) +\n",
    "geom_col() +\n",
    "theme_classic() +\n",
    "facet_wrap(~feature)"
   ]
  },
  {
   "cell_type": "code",
   "execution_count": 38,
   "metadata": {},
   "outputs": [
    {
     "name": "stderr",
     "output_type": "stream",
     "text": [
      "\u001b[1m\u001b[22m`summarise()` has grouped output by 'cell_type', 'feature'. You can override\n",
      "using the `.groups` argument.\n"
     ]
    },
    {
     "data": {
      "image/png": "[encoded data removed]",
      "text/plain": [
       "plot without title"
      ]
     },
     "metadata": {
      "image/png": {
       "height": 420,
       "width": 420
      }
     },
     "output_type": "display_data"
    }
   ],
   "source": [
    "workdf %>%\n",
    "pivot_longer(cols = contains(\"result\"), names_to = \"feature\", values_to = \"overlap\") %>%\n",
    "filter(!is.na(overlap)) %>%\n",
    "group_by(cell_type, feature, overlap) %>%\n",
    "summarise(n=n()) %>%\n",
    "ungroup() %>%\n",
    "group_by(cell_type, feature) %>%\n",
    "mutate(prop_n = n/sum(n)) %>%\n",
    "ungroup() %>%\n",
    "arrange(cell_type, feature) %>%\n",
    "ggplot(aes(y = cell_type, x = prop_n, fill = overlap)) +\n",
    "geom_col() +\n",
    "theme_classic() +\n",
    "facet_wrap(~feature)"
   ]
  },
  {
   "cell_type": "code",
   "execution_count": 39,
   "metadata": {},
   "outputs": [
    {
     "name": "stderr",
     "output_type": "stream",
     "text": [
      "\u001b[1m\u001b[22m`summarise()` has grouped output by 'cell_type', 'feature'. You can override\n",
      "using the `.groups` argument.\n"
     ]
    },
    {
     "data": {
      "text/html": [
       "<strong>png:</strong> 2"
      ],
      "text/latex": [
       "\\textbf{png:} 2"
      ],
      "text/markdown": [
       "**png:** 2"
      ],
      "text/plain": [
       "png \n",
       "  2 "
      ]
     },
     "metadata": {},
     "output_type": "display_data"
    }
   ],
   "source": [
    "pdf(\"/data/gersbachlab/lrb53/encodeCrisprWG/finalversion/figure1/othercelltypes/outs/plot_pdfs/othercelltypes.cre.int.atacdnaseh3k27ac.count.pdf\")\n",
    "workdf %>%\n",
    "pivot_longer(cols = contains(\"result\"), names_to = \"feature\", values_to = \"overlap\") %>%\n",
    "filter(!is.na(overlap)) %>%\n",
    "group_by(cell_type, feature, overlap) %>%\n",
    "summarise(n=n()) %>%\n",
    "ungroup() %>%\n",
    "group_by(cell_type, feature) %>%\n",
    "mutate(prop_n = n/sum(n)) %>%\n",
    "ungroup() %>%\n",
    "arrange(cell_type, feature) %>%\n",
    "ggplot(aes(x = cell_type, y = prop_n, fill = overlap)) +\n",
    "geom_col() +\n",
    "theme_classic() +\n",
    "facet_wrap(~feature)\n",
    "dev.off()"
   ]
  },
  {
   "cell_type": "code",
   "execution_count": 40,
   "metadata": {},
   "outputs": [
    {
     "name": "stderr",
     "output_type": "stream",
     "text": [
      "\u001b[1m\u001b[22m`summarise()` has grouped output by 'cell_type', 'feature'. You can override\n",
      "using the `.groups` argument.\n"
     ]
    },
    {
     "data": {
      "text/html": [
       "<strong>png:</strong> 2"
      ],
      "text/latex": [
       "\\textbf{png:} 2"
      ],
      "text/markdown": [
       "**png:** 2"
      ],
      "text/plain": [
       "png \n",
       "  2 "
      ]
     },
     "metadata": {},
     "output_type": "display_data"
    }
   ],
   "source": [
    "pdf(\"/data/gersbachlab/lrb53/encodeCrisprWG/finalversion/figure1/othercelltypes/outs/plot_pdfs/othercelltypes.cre.int.atacdnaseh3k27ac.count.pdf\")\n",
    "workdf %>%\n",
    "pivot_longer(cols = contains(\"result\"), names_to = \"feature\", values_to = \"overlap\") %>%\n",
    "filter(!is.na(overlap)) %>%\n",
    "group_by(cell_type, feature, overlap) %>%\n",
    "summarise(n=n()) %>%\n",
    "ungroup() %>%\n",
    "group_by(cell_type, feature) %>%\n",
    "mutate(prop_n = n/sum(n)) %>%\n",
    "ungroup() %>%\n",
    "arrange(cell_type, feature) %>%\n",
    "ggplot(aes(y = cell_type, x = n, fill = overlap)) +\n",
    "geom_col() +\n",
    "theme_classic() +\n",
    "facet_wrap(~feature)\n",
    "dev.off()"
   ]
  },
  {
   "cell_type": "markdown",
   "metadata": {},
   "source": [
    "### Add K562 and WTC11 to visualization"
   ]
  },
  {
   "cell_type": "markdown",
   "metadata": {},
   "source": [
    "The following values were produced in `Figure1K562Analysis.FeatureFisherExactTest.LRB.ipynb`."
   ]
  },
  {
   "cell_type": "code",
   "execution_count": 41,
   "metadata": {},
   "outputs": [],
   "source": [
    "# feature\toverlap\tn\ttotal_count\tpercent_bins\tdirect_intersect\tdirection\n",
    "# <fct>\t<dbl>\t<dbl>\t<dbl>\t<dbl>\t<chr>\t<chr>\n",
    "# K562_ATAC\t1\t165\t210\t0.785714286\tyes\tenriched\n",
    "# K562_DNase\t1\t167\t210\t0.795238095\tyes\tenriched\n",
    "# K562_H3K27ac\t1\t182\t210\t0.866666667\tyes\tenriched"
   ]
  },
  {
   "cell_type": "code",
   "execution_count": 42,
   "metadata": {},
   "outputs": [
    {
     "data": {
      "text/html": [
       "<table class=\"dataframe\">\n",
       "<caption>A data.frame: 6 × 5</caption>\n",
       "<thead>\n",
       "\t<tr><th scope=col>cell_type</th><th scope=col>feature</th><th scope=col>overlap</th><th scope=col>n</th><th scope=col>prop_n</th></tr>\n",
       "\t<tr><th scope=col>&lt;chr&gt;</th><th scope=col>&lt;chr&gt;</th><th scope=col>&lt;lgl&gt;</th><th scope=col>&lt;dbl&gt;</th><th scope=col>&lt;dbl&gt;</th></tr>\n",
       "</thead>\n",
       "<tbody>\n",
       "\t<tr><td>k562</td><td>result_atac   </td><td> TRUE</td><td>165</td><td>0.7857143</td></tr>\n",
       "\t<tr><td>k562</td><td>result_dnase  </td><td> TRUE</td><td>167</td><td>0.7952381</td></tr>\n",
       "\t<tr><td>k562</td><td>result_h3k27ac</td><td> TRUE</td><td>182</td><td>0.8666667</td></tr>\n",
       "\t<tr><td>k562</td><td>result_atac   </td><td>FALSE</td><td> 45</td><td>0.2142857</td></tr>\n",
       "\t<tr><td>k562</td><td>result_dnase  </td><td>FALSE</td><td> 43</td><td>0.2047619</td></tr>\n",
       "\t<tr><td>k562</td><td>result_h3k27ac</td><td>FALSE</td><td> 28</td><td>0.1333333</td></tr>\n",
       "</tbody>\n",
       "</table>\n"
      ],
      "text/latex": [
       "A data.frame: 6 × 5\n",
       "\\begin{tabular}{lllll}\n",
       " cell\\_type & feature & overlap & n & prop\\_n\\\\\n",
       " <chr> & <chr> & <lgl> & <dbl> & <dbl>\\\\\n",
       "\\hline\n",
       "\t k562 & result\\_atac    &  TRUE & 165 & 0.7857143\\\\\n",
       "\t k562 & result\\_dnase   &  TRUE & 167 & 0.7952381\\\\\n",
       "\t k562 & result\\_h3k27ac &  TRUE & 182 & 0.8666667\\\\\n",
       "\t k562 & result\\_atac    & FALSE &  45 & 0.2142857\\\\\n",
       "\t k562 & result\\_dnase   & FALSE &  43 & 0.2047619\\\\\n",
       "\t k562 & result\\_h3k27ac & FALSE &  28 & 0.1333333\\\\\n",
       "\\end{tabular}\n"
      ],
      "text/markdown": [
       "\n",
       "A data.frame: 6 × 5\n",
       "\n",
       "| cell_type &lt;chr&gt; | feature &lt;chr&gt; | overlap &lt;lgl&gt; | n &lt;dbl&gt; | prop_n &lt;dbl&gt; |\n",
       "|---|---|---|---|---|\n",
       "| k562 | result_atac    |  TRUE | 165 | 0.7857143 |\n",
       "| k562 | result_dnase   |  TRUE | 167 | 0.7952381 |\n",
       "| k562 | result_h3k27ac |  TRUE | 182 | 0.8666667 |\n",
       "| k562 | result_atac    | FALSE |  45 | 0.2142857 |\n",
       "| k562 | result_dnase   | FALSE |  43 | 0.2047619 |\n",
       "| k562 | result_h3k27ac | FALSE |  28 | 0.1333333 |\n",
       "\n"
      ],
      "text/plain": [
       "  cell_type feature        overlap n   prop_n   \n",
       "1 k562      result_atac     TRUE   165 0.7857143\n",
       "2 k562      result_dnase    TRUE   167 0.7952381\n",
       "3 k562      result_h3k27ac  TRUE   182 0.8666667\n",
       "4 k562      result_atac    FALSE    45 0.2142857\n",
       "5 k562      result_dnase   FALSE    43 0.2047619\n",
       "6 k562      result_h3k27ac FALSE    28 0.1333333"
      ]
     },
     "metadata": {},
     "output_type": "display_data"
    }
   ],
   "source": [
    "k562_df <-\n",
    "data.frame(cell_type = c(\"k562\",\"k562\",\"k562\"),\n",
    "           feature = c(\"result_atac\", \"result_dnase\", \"result_h3k27ac\",\"result_atac\", \"result_dnase\", \"result_h3k27ac\"),\n",
    "           overlap = c(TRUE, TRUE, TRUE, FALSE, FALSE, FALSE),\n",
    "           n = c(165, 167, 182, 45, 43, 28)) %>%\n",
    "mutate(prop_n = n/210)\n",
    "\n",
    "k562_df"
   ]
  },
  {
   "cell_type": "code",
   "execution_count": 43,
   "metadata": {},
   "outputs": [
    {
     "name": "stderr",
     "output_type": "stream",
     "text": [
      "\u001b[1m\u001b[22m`summarise()` has grouped output by 'cell_type', 'feature'. You can override\n",
      "using the `.groups` argument.\n"
     ]
    },
    {
     "data": {
      "text/html": [
       "<table class=\"dataframe\">\n",
       "<caption>A tibble: 37 × 5</caption>\n",
       "<thead>\n",
       "\t<tr><th scope=col>cell_type</th><th scope=col>feature</th><th scope=col>overlap</th><th scope=col>n</th><th scope=col>prop_n</th></tr>\n",
       "\t<tr><th scope=col>&lt;chr&gt;</th><th scope=col>&lt;chr&gt;</th><th scope=col>&lt;lgl&gt;</th><th scope=col>&lt;dbl&gt;</th><th scope=col>&lt;dbl&gt;</th></tr>\n",
       "</thead>\n",
       "<tbody>\n",
       "\t<tr><td>a549   </td><td>result_atac   </td><td> TRUE</td><td>  4</td><td>1.00000000</td></tr>\n",
       "\t<tr><td>a549   </td><td>result_dnase  </td><td> TRUE</td><td>  4</td><td>1.00000000</td></tr>\n",
       "\t<tr><td>a549   </td><td>result_h3k27ac</td><td> TRUE</td><td>  4</td><td>1.00000000</td></tr>\n",
       "\t<tr><td>gm12878</td><td>result_atac   </td><td> TRUE</td><td> 14</td><td>1.00000000</td></tr>\n",
       "\t<tr><td>gm12878</td><td>result_dnase  </td><td>FALSE</td><td>  5</td><td>0.35714286</td></tr>\n",
       "\t<tr><td>gm12878</td><td>result_dnase  </td><td> TRUE</td><td>  9</td><td>0.64285714</td></tr>\n",
       "\t<tr><td>gm12878</td><td>result_h3k27ac</td><td>FALSE</td><td>  3</td><td>0.21428571</td></tr>\n",
       "\t<tr><td>gm12878</td><td>result_h3k27ac</td><td> TRUE</td><td> 11</td><td>0.78571429</td></tr>\n",
       "\t<tr><td>hct116 </td><td>result_atac   </td><td> TRUE</td><td>  3</td><td>1.00000000</td></tr>\n",
       "\t<tr><td>hct116 </td><td>result_dnase  </td><td> TRUE</td><td>  3</td><td>1.00000000</td></tr>\n",
       "\t<tr><td>hct116 </td><td>result_h3k27ac</td><td> TRUE</td><td>  3</td><td>1.00000000</td></tr>\n",
       "\t<tr><td>hepg2  </td><td>result_atac   </td><td>FALSE</td><td>  1</td><td>0.50000000</td></tr>\n",
       "\t<tr><td>hepg2  </td><td>result_atac   </td><td> TRUE</td><td>  1</td><td>0.50000000</td></tr>\n",
       "\t<tr><td>hepg2  </td><td>result_dnase  </td><td>FALSE</td><td>  1</td><td>0.50000000</td></tr>\n",
       "\t<tr><td>hepg2  </td><td>result_dnase  </td><td> TRUE</td><td>  1</td><td>0.50000000</td></tr>\n",
       "\t<tr><td>hepg2  </td><td>result_h3k27ac</td><td> TRUE</td><td>  2</td><td>1.00000000</td></tr>\n",
       "\t<tr><td>jurkat </td><td>result_dnase  </td><td>FALSE</td><td>  4</td><td>0.33333333</td></tr>\n",
       "\t<tr><td>jurkat </td><td>result_dnase  </td><td> TRUE</td><td>  8</td><td>0.66666667</td></tr>\n",
       "\t<tr><td>k562   </td><td>result_atac   </td><td> TRUE</td><td>165</td><td>0.78571429</td></tr>\n",
       "\t<tr><td>k562   </td><td>result_atac   </td><td>FALSE</td><td> 45</td><td>0.21428571</td></tr>\n",
       "\t<tr><td>k562   </td><td>result_dnase  </td><td> TRUE</td><td>167</td><td>0.79523810</td></tr>\n",
       "\t<tr><td>k562   </td><td>result_dnase  </td><td>FALSE</td><td> 43</td><td>0.20476190</td></tr>\n",
       "\t<tr><td>k562   </td><td>result_h3k27ac</td><td> TRUE</td><td>182</td><td>0.86666667</td></tr>\n",
       "\t<tr><td>k562   </td><td>result_h3k27ac</td><td>FALSE</td><td> 28</td><td>0.13333333</td></tr>\n",
       "\t<tr><td>mcf7   </td><td>result_atac   </td><td> TRUE</td><td>  3</td><td>1.00000000</td></tr>\n",
       "\t<tr><td>mcf7   </td><td>result_dnase  </td><td> TRUE</td><td>  3</td><td>1.00000000</td></tr>\n",
       "\t<tr><td>mcf7   </td><td>result_h3k27ac</td><td> TRUE</td><td>  3</td><td>1.00000000</td></tr>\n",
       "\t<tr><td>ncih460</td><td>result_dnase  </td><td> TRUE</td><td>  1</td><td>1.00000000</td></tr>\n",
       "\t<tr><td>pc3    </td><td>result_atac   </td><td> TRUE</td><td>  1</td><td>1.00000000</td></tr>\n",
       "\t<tr><td>pc3    </td><td>result_dnase  </td><td> TRUE</td><td>  1</td><td>1.00000000</td></tr>\n",
       "\t<tr><td>pc3    </td><td>result_h3k27ac</td><td> TRUE</td><td>  1</td><td>1.00000000</td></tr>\n",
       "\t<tr><td>wtc11  </td><td>result_atac   </td><td>FALSE</td><td>  1</td><td>0.01515152</td></tr>\n",
       "\t<tr><td>wtc11  </td><td>result_atac   </td><td> TRUE</td><td> 65</td><td>0.98484848</td></tr>\n",
       "\t<tr><td>wtc11  </td><td>result_dnase  </td><td>FALSE</td><td>  4</td><td>0.06060606</td></tr>\n",
       "\t<tr><td>wtc11  </td><td>result_dnase  </td><td> TRUE</td><td> 62</td><td>0.93939394</td></tr>\n",
       "\t<tr><td>wtc11  </td><td>result_h3k27ac</td><td>FALSE</td><td> 20</td><td>0.30303030</td></tr>\n",
       "\t<tr><td>wtc11  </td><td>result_h3k27ac</td><td> TRUE</td><td> 46</td><td>0.69696970</td></tr>\n",
       "</tbody>\n",
       "</table>\n"
      ],
      "text/latex": [
       "A tibble: 37 × 5\n",
       "\\begin{tabular}{lllll}\n",
       " cell\\_type & feature & overlap & n & prop\\_n\\\\\n",
       " <chr> & <chr> & <lgl> & <dbl> & <dbl>\\\\\n",
       "\\hline\n",
       "\t a549    & result\\_atac    &  TRUE &   4 & 1.00000000\\\\\n",
       "\t a549    & result\\_dnase   &  TRUE &   4 & 1.00000000\\\\\n",
       "\t a549    & result\\_h3k27ac &  TRUE &   4 & 1.00000000\\\\\n",
       "\t gm12878 & result\\_atac    &  TRUE &  14 & 1.00000000\\\\\n",
       "\t gm12878 & result\\_dnase   & FALSE &   5 & 0.35714286\\\\\n",
       "\t gm12878 & result\\_dnase   &  TRUE &   9 & 0.64285714\\\\\n",
       "\t gm12878 & result\\_h3k27ac & FALSE &   3 & 0.21428571\\\\\n",
       "\t gm12878 & result\\_h3k27ac &  TRUE &  11 & 0.78571429\\\\\n",
       "\t hct116  & result\\_atac    &  TRUE &   3 & 1.00000000\\\\\n",
       "\t hct116  & result\\_dnase   &  TRUE &   3 & 1.00000000\\\\\n",
       "\t hct116  & result\\_h3k27ac &  TRUE &   3 & 1.00000000\\\\\n",
       "\t hepg2   & result\\_atac    & FALSE &   1 & 0.50000000\\\\\n",
       "\t hepg2   & result\\_atac    &  TRUE &   1 & 0.50000000\\\\\n",
       "\t hepg2   & result\\_dnase   & FALSE &   1 & 0.50000000\\\\\n",
       "\t hepg2   & result\\_dnase   &  TRUE &   1 & 0.50000000\\\\\n",
       "\t hepg2   & result\\_h3k27ac &  TRUE &   2 & 1.00000000\\\\\n",
       "\t jurkat  & result\\_dnase   & FALSE &   4 & 0.33333333\\\\\n",
       "\t jurkat  & result\\_dnase   &  TRUE &   8 & 0.66666667\\\\\n",
       "\t k562    & result\\_atac    &  TRUE & 165 & 0.78571429\\\\\n",
       "\t k562    & result\\_atac    & FALSE &  45 & 0.21428571\\\\\n",
       "\t k562    & result\\_dnase   &  TRUE & 167 & 0.79523810\\\\\n",
       "\t k562    & result\\_dnase   & FALSE &  43 & 0.20476190\\\\\n",
       "\t k562    & result\\_h3k27ac &  TRUE & 182 & 0.86666667\\\\\n",
       "\t k562    & result\\_h3k27ac & FALSE &  28 & 0.13333333\\\\\n",
       "\t mcf7    & result\\_atac    &  TRUE &   3 & 1.00000000\\\\\n",
       "\t mcf7    & result\\_dnase   &  TRUE &   3 & 1.00000000\\\\\n",
       "\t mcf7    & result\\_h3k27ac &  TRUE &   3 & 1.00000000\\\\\n",
       "\t ncih460 & result\\_dnase   &  TRUE &   1 & 1.00000000\\\\\n",
       "\t pc3     & result\\_atac    &  TRUE &   1 & 1.00000000\\\\\n",
       "\t pc3     & result\\_dnase   &  TRUE &   1 & 1.00000000\\\\\n",
       "\t pc3     & result\\_h3k27ac &  TRUE &   1 & 1.00000000\\\\\n",
       "\t wtc11   & result\\_atac    & FALSE &   1 & 0.01515152\\\\\n",
       "\t wtc11   & result\\_atac    &  TRUE &  65 & 0.98484848\\\\\n",
       "\t wtc11   & result\\_dnase   & FALSE &   4 & 0.06060606\\\\\n",
       "\t wtc11   & result\\_dnase   &  TRUE &  62 & 0.93939394\\\\\n",
       "\t wtc11   & result\\_h3k27ac & FALSE &  20 & 0.30303030\\\\\n",
       "\t wtc11   & result\\_h3k27ac &  TRUE &  46 & 0.69696970\\\\\n",
       "\\end{tabular}\n"
      ],
      "text/markdown": [
       "\n",
       "A tibble: 37 × 5\n",
       "\n",
       "| cell_type &lt;chr&gt; | feature &lt;chr&gt; | overlap &lt;lgl&gt; | n &lt;dbl&gt; | prop_n &lt;dbl&gt; |\n",
       "|---|---|---|---|---|\n",
       "| a549    | result_atac    |  TRUE |   4 | 1.00000000 |\n",
       "| a549    | result_dnase   |  TRUE |   4 | 1.00000000 |\n",
       "| a549    | result_h3k27ac |  TRUE |   4 | 1.00000000 |\n",
       "| gm12878 | result_atac    |  TRUE |  14 | 1.00000000 |\n",
       "| gm12878 | result_dnase   | FALSE |   5 | 0.35714286 |\n",
       "| gm12878 | result_dnase   |  TRUE |   9 | 0.64285714 |\n",
       "| gm12878 | result_h3k27ac | FALSE |   3 | 0.21428571 |\n",
       "| gm12878 | result_h3k27ac |  TRUE |  11 | 0.78571429 |\n",
       "| hct116  | result_atac    |  TRUE |   3 | 1.00000000 |\n",
       "| hct116  | result_dnase   |  TRUE |   3 | 1.00000000 |\n",
       "| hct116  | result_h3k27ac |  TRUE |   3 | 1.00000000 |\n",
       "| hepg2   | result_atac    | FALSE |   1 | 0.50000000 |\n",
       "| hepg2   | result_atac    |  TRUE |   1 | 0.50000000 |\n",
       "| hepg2   | result_dnase   | FALSE |   1 | 0.50000000 |\n",
       "| hepg2   | result_dnase   |  TRUE |   1 | 0.50000000 |\n",
       "| hepg2   | result_h3k27ac |  TRUE |   2 | 1.00000000 |\n",
       "| jurkat  | result_dnase   | FALSE |   4 | 0.33333333 |\n",
       "| jurkat  | result_dnase   |  TRUE |   8 | 0.66666667 |\n",
       "| k562    | result_atac    |  TRUE | 165 | 0.78571429 |\n",
       "| k562    | result_atac    | FALSE |  45 | 0.21428571 |\n",
       "| k562    | result_dnase   |  TRUE | 167 | 0.79523810 |\n",
       "| k562    | result_dnase   | FALSE |  43 | 0.20476190 |\n",
       "| k562    | result_h3k27ac |  TRUE | 182 | 0.86666667 |\n",
       "| k562    | result_h3k27ac | FALSE |  28 | 0.13333333 |\n",
       "| mcf7    | result_atac    |  TRUE |   3 | 1.00000000 |\n",
       "| mcf7    | result_dnase   |  TRUE |   3 | 1.00000000 |\n",
       "| mcf7    | result_h3k27ac |  TRUE |   3 | 1.00000000 |\n",
       "| ncih460 | result_dnase   |  TRUE |   1 | 1.00000000 |\n",
       "| pc3     | result_atac    |  TRUE |   1 | 1.00000000 |\n",
       "| pc3     | result_dnase   |  TRUE |   1 | 1.00000000 |\n",
       "| pc3     | result_h3k27ac |  TRUE |   1 | 1.00000000 |\n",
       "| wtc11   | result_atac    | FALSE |   1 | 0.01515152 |\n",
       "| wtc11   | result_atac    |  TRUE |  65 | 0.98484848 |\n",
       "| wtc11   | result_dnase   | FALSE |   4 | 0.06060606 |\n",
       "| wtc11   | result_dnase   |  TRUE |  62 | 0.93939394 |\n",
       "| wtc11   | result_h3k27ac | FALSE |  20 | 0.30303030 |\n",
       "| wtc11   | result_h3k27ac |  TRUE |  46 | 0.69696970 |\n",
       "\n"
      ],
      "text/plain": [
       "   cell_type feature        overlap n   prop_n    \n",
       "1  a549      result_atac     TRUE     4 1.00000000\n",
       "2  a549      result_dnase    TRUE     4 1.00000000\n",
       "3  a549      result_h3k27ac  TRUE     4 1.00000000\n",
       "4  gm12878   result_atac     TRUE    14 1.00000000\n",
       "5  gm12878   result_dnase   FALSE     5 0.35714286\n",
       "6  gm12878   result_dnase    TRUE     9 0.64285714\n",
       "7  gm12878   result_h3k27ac FALSE     3 0.21428571\n",
       "8  gm12878   result_h3k27ac  TRUE    11 0.78571429\n",
       "9  hct116    result_atac     TRUE     3 1.00000000\n",
       "10 hct116    result_dnase    TRUE     3 1.00000000\n",
       "11 hct116    result_h3k27ac  TRUE     3 1.00000000\n",
       "12 hepg2     result_atac    FALSE     1 0.50000000\n",
       "13 hepg2     result_atac     TRUE     1 0.50000000\n",
       "14 hepg2     result_dnase   FALSE     1 0.50000000\n",
       "15 hepg2     result_dnase    TRUE     1 0.50000000\n",
       "16 hepg2     result_h3k27ac  TRUE     2 1.00000000\n",
       "17 jurkat    result_dnase   FALSE     4 0.33333333\n",
       "18 jurkat    result_dnase    TRUE     8 0.66666667\n",
       "19 k562      result_atac     TRUE   165 0.78571429\n",
       "20 k562      result_atac    FALSE    45 0.21428571\n",
       "21 k562      result_dnase    TRUE   167 0.79523810\n",
       "22 k562      result_dnase   FALSE    43 0.20476190\n",
       "23 k562      result_h3k27ac  TRUE   182 0.86666667\n",
       "24 k562      result_h3k27ac FALSE    28 0.13333333\n",
       "25 mcf7      result_atac     TRUE     3 1.00000000\n",
       "26 mcf7      result_dnase    TRUE     3 1.00000000\n",
       "27 mcf7      result_h3k27ac  TRUE     3 1.00000000\n",
       "28 ncih460   result_dnase    TRUE     1 1.00000000\n",
       "29 pc3       result_atac     TRUE     1 1.00000000\n",
       "30 pc3       result_dnase    TRUE     1 1.00000000\n",
       "31 pc3       result_h3k27ac  TRUE     1 1.00000000\n",
       "32 wtc11     result_atac    FALSE     1 0.01515152\n",
       "33 wtc11     result_atac     TRUE    65 0.98484848\n",
       "34 wtc11     result_dnase   FALSE     4 0.06060606\n",
       "35 wtc11     result_dnase    TRUE    62 0.93939394\n",
       "36 wtc11     result_h3k27ac FALSE    20 0.30303030\n",
       "37 wtc11     result_h3k27ac  TRUE    46 0.69696970"
      ]
     },
     "metadata": {},
     "output_type": "display_data"
    }
   ],
   "source": [
    "workdf %>%\n",
    "rbind(wtc_cre %>% mutate(cell_type = \"wtc11\")) %>%\n",
    "pivot_longer(cols = contains(\"result\"), names_to = \"feature\", values_to = \"overlap\") %>%\n",
    "filter(!is.na(overlap)) %>%\n",
    "group_by(cell_type, feature, overlap) %>%\n",
    "summarise(n=n()) %>%\n",
    "ungroup() %>%\n",
    "group_by(cell_type, feature) %>%\n",
    "mutate(prop_n = n/sum(n)) %>%\n",
    "ungroup() %>%\n",
    "rbind(k562_df) %>%\n",
    "arrange(cell_type, feature) "
   ]
  },
  {
   "cell_type": "code",
   "execution_count": 44,
   "metadata": {},
   "outputs": [
    {
     "name": "stderr",
     "output_type": "stream",
     "text": [
      "\u001b[1m\u001b[22m`summarise()` has grouped output by 'cell_type', 'feature'. You can override\n",
      "using the `.groups` argument.\n"
     ]
    }
   ],
   "source": [
    "workdf %>%\n",
    "rbind(wtc_cre %>% mutate(cell_type = \"wtc11\")) %>%\n",
    "pivot_longer(cols = contains(\"result\"), names_to = \"feature\", values_to = \"overlap\") %>%\n",
    "filter(!is.na(overlap)) %>%\n",
    "group_by(cell_type, feature, overlap) %>%\n",
    "summarise(n=n()) %>%\n",
    "ungroup() %>%\n",
    "group_by(cell_type, feature) %>%\n",
    "mutate(prop_n = n/sum(n)) %>%\n",
    "ungroup() %>%\n",
    "rbind(k562_df) %>%\n",
    "arrange(cell_type, feature) %>%\n",
    "write.table(\"/data/gersbachlab/lrb53/encodeCrisprWG/finalversion/figure1/othercelltypes/outs/overlap/othercelltypes.cres.int.atacdnaseh3k27ac.addWTC11K562.summary.txt\",\n",
    "            col.names=T, row.names=F, quote=F, sep=\"\\t\")\n"
   ]
  },
  {
   "cell_type": "code",
   "execution_count": 45,
   "metadata": {},
   "outputs": [
    {
     "name": "stderr",
     "output_type": "stream",
     "text": [
      "\u001b[1m\u001b[22m`summarise()` has grouped output by 'cell_type', 'feature'. You can override\n",
      "using the `.groups` argument.\n"
     ]
    },
    {
     "data": {
      "image/png": "[encoded data removed]",
      "text/plain": [
       "plot without title"
      ]
     },
     "metadata": {
      "image/png": {
       "height": 420,
       "width": 420
      }
     },
     "output_type": "display_data"
    }
   ],
   "source": [
    "workdf %>%\n",
    "rbind(wtc_cre %>% mutate(cell_type = \"wtc11\")) %>%\n",
    "pivot_longer(cols = contains(\"result\"), names_to = \"feature\", values_to = \"overlap\") %>%\n",
    "filter(!is.na(overlap)) %>%\n",
    "group_by(cell_type, feature, overlap) %>%\n",
    "summarise(n=n()) %>%\n",
    "ungroup() %>%\n",
    "group_by(cell_type, feature) %>%\n",
    "mutate(prop_n = n/sum(n)) %>%\n",
    "ungroup() %>%\n",
    "rbind(k562_df) %>%\n",
    "arrange(cell_type, feature) %>%\n",
    "ggplot(aes(y = cell_type, x = n, fill = overlap)) +\n",
    "geom_col() +\n",
    "theme_classic() +\n",
    "facet_wrap(~feature)"
   ]
  },
  {
   "cell_type": "code",
   "execution_count": 46,
   "metadata": {},
   "outputs": [
    {
     "name": "stderr",
     "output_type": "stream",
     "text": [
      "\u001b[1m\u001b[22m`summarise()` has grouped output by 'cell_type', 'feature'. You can override\n",
      "using the `.groups` argument.\n"
     ]
    },
    {
     "data": {
      "image/png": "[encoded data removed]",
      "text/plain": [
       "plot without title"
      ]
     },
     "metadata": {
      "image/png": {
       "height": 420,
       "width": 420
      }
     },
     "output_type": "display_data"
    }
   ],
   "source": [
    "workdf %>%\n",
    "rbind(wtc_cre %>% mutate(cell_type = \"wtc11\")) %>%\n",
    "pivot_longer(cols = contains(\"result\"), names_to = \"feature\", values_to = \"overlap\") %>%\n",
    "filter(!is.na(overlap)) %>%\n",
    "group_by(cell_type, feature, overlap) %>%\n",
    "summarise(n=n()) %>%\n",
    "ungroup() %>%\n",
    "group_by(cell_type, feature) %>%\n",
    "mutate(prop_n = n/sum(n)) %>%\n",
    "ungroup() %>%\n",
    "rbind(k562_df) %>%\n",
    "arrange(cell_type, feature) %>%\n",
    "ggplot(aes(y = cell_type, x = prop_n, fill = overlap)) +\n",
    "geom_col() +\n",
    "theme_classic() +\n",
    "facet_wrap(~feature)"
   ]
  },
  {
   "cell_type": "code",
   "execution_count": 47,
   "metadata": {},
   "outputs": [
    {
     "name": "stderr",
     "output_type": "stream",
     "text": [
      "\u001b[1m\u001b[22m`summarise()` has grouped output by 'cell_type', 'feature'. You can override\n",
      "using the `.groups` argument.\n"
     ]
    },
    {
     "data": {
      "image/png": "[encoded data removed]",
      "text/plain": [
       "plot without title"
      ]
     },
     "metadata": {
      "image/png": {
       "height": 420,
       "width": 420
      }
     },
     "output_type": "display_data"
    }
   ],
   "source": [
    "workdf %>%\n",
    "rbind(wtc_cre %>% mutate(cell_type = \"wtc11\")) %>%\n",
    "pivot_longer(cols = contains(\"result\"), names_to = \"feature\", values_to = \"overlap\") %>%\n",
    "filter(!is.na(overlap)) %>%\n",
    "group_by(cell_type, feature, overlap) %>%\n",
    "summarise(n=n()) %>%\n",
    "ungroup() %>%\n",
    "group_by(cell_type, feature) %>%\n",
    "mutate(prop_n = n/sum(n)) %>%\n",
    "ungroup() %>%\n",
    "rbind(k562_df) %>%\n",
    "arrange(cell_type, feature) %>%\n",
    "filter(cell_type == \"k562\" | cell_type == \"wtc11\") %>%\n",
    "ggplot(aes(x = cell_type, y = prop_n, fill = overlap)) +\n",
    "geom_col() +\n",
    "theme_classic() +\n",
    "facet_wrap(~feature)"
   ]
  },
  {
   "cell_type": "code",
   "execution_count": 48,
   "metadata": {},
   "outputs": [
    {
     "name": "stderr",
     "output_type": "stream",
     "text": [
      "\u001b[1m\u001b[22m`summarise()` has grouped output by 'cell_type', 'feature'. You can override\n",
      "using the `.groups` argument.\n"
     ]
    },
    {
     "data": {
      "text/html": [
       "<strong>png:</strong> 2"
      ],
      "text/latex": [
       "\\textbf{png:} 2"
      ],
      "text/markdown": [
       "**png:** 2"
      ],
      "text/plain": [
       "png \n",
       "  2 "
      ]
     },
     "metadata": {},
     "output_type": "display_data"
    }
   ],
   "source": [
    "pdf(\"/data/gersbachlab/lrb53/encodeCrisprWG/finalversion/figure1/othercelltypes/outs/plot_pdfs/k562wtc11.cre.int.atacdnaseh3k27ac.proportion.pdf\")\n",
    "workdf %>%\n",
    "rbind(wtc_cre %>% mutate(cell_type = \"wtc11\")) %>%\n",
    "pivot_longer(cols = contains(\"result\"), names_to = \"feature\", values_to = \"overlap\") %>%\n",
    "filter(!is.na(overlap)) %>%\n",
    "group_by(cell_type, feature, overlap) %>%\n",
    "summarise(n=n()) %>%\n",
    "ungroup() %>%\n",
    "group_by(cell_type, feature) %>%\n",
    "mutate(prop_n = n/sum(n)) %>%\n",
    "ungroup() %>%\n",
    "rbind(k562_df) %>%\n",
    "arrange(cell_type, feature) %>%\n",
    "filter(cell_type == \"k562\" | cell_type == \"wtc11\") %>%\n",
    "ggplot(aes(x = cell_type, y = n, fill = overlap)) +\n",
    "geom_col() +\n",
    "theme_classic() +\n",
    "facet_wrap(~feature)\n",
    "dev.off()"
   ]
  },
  {
   "cell_type": "code",
   "execution_count": 49,
   "metadata": {},
   "outputs": [
    {
     "name": "stderr",
     "output_type": "stream",
     "text": [
      "\u001b[1m\u001b[22m`summarise()` has grouped output by 'cell_type', 'feature'. You can override\n",
      "using the `.groups` argument.\n"
     ]
    },
    {
     "data": {
      "text/html": [
       "<strong>png:</strong> 2"
      ],
      "text/latex": [
       "\\textbf{png:} 2"
      ],
      "text/markdown": [
       "**png:** 2"
      ],
      "text/plain": [
       "png \n",
       "  2 "
      ]
     },
     "metadata": {},
     "output_type": "display_data"
    }
   ],
   "source": [
    "pdf(\"/data/gersbachlab/lrb53/encodeCrisprWG/finalversion/figure1/othercelltypes/outs/plot_pdfs/k562wtc11.cre.int.atacdnaseh3k27ac.count.pdf\")\n",
    "workdf %>%\n",
    "rbind(wtc_cre %>% mutate(cell_type = \"wtc11\")) %>%\n",
    "pivot_longer(cols = contains(\"result\"), names_to = \"feature\", values_to = \"overlap\") %>%\n",
    "filter(!is.na(overlap)) %>%\n",
    "group_by(cell_type, feature, overlap) %>%\n",
    "summarise(n=n()) %>%\n",
    "ungroup() %>%\n",
    "group_by(cell_type, feature) %>%\n",
    "mutate(prop_n = n/sum(n)) %>%\n",
    "ungroup() %>%\n",
    "rbind(k562_df) %>%\n",
    "arrange(cell_type, feature) %>%\n",
    "filter(cell_type == \"k562\" | cell_type == \"wtc11\") %>%\n",
    "ggplot(aes(x = cell_type, y = prop_n, fill = overlap)) +\n",
    "geom_col() +\n",
    "theme_classic() +\n",
    "facet_wrap(~feature)\n",
    "dev.off()"
   ]
  },
  {
   "cell_type": "code",
   "execution_count": null,
   "metadata": {},
   "outputs": [],
   "source": []
  },
  {
   "cell_type": "markdown",
   "metadata": {},
   "source": [
    "### Now, redo but combine ATAC + DNase\n",
    "\n",
    "Want two columns/sample, number or percent of CREs that overlap accessible chromatin and/or H3K27ac"
   ]
  },
  {
   "cell_type": "markdown",
   "metadata": {},
   "source": [
    "### Combine into one df, add label for cell type"
   ]
  },
  {
   "cell_type": "code",
   "execution_count": 50,
   "metadata": {},
   "outputs": [
    {
     "data": {
      "text/html": [
       "<table class=\"dataframe\">\n",
       "<caption>A data.frame: 1 × 4</caption>\n",
       "<thead>\n",
       "\t<tr><th></th><th scope=col>cre</th><th scope=col>result_chromatin</th><th scope=col>result_h3k27ac</th><th scope=col>cell_type</th></tr>\n",
       "\t<tr><th></th><th scope=col>&lt;chr&gt;</th><th scope=col>&lt;lgl&gt;</th><th scope=col>&lt;lgl&gt;</th><th scope=col>&lt;chr&gt;</th></tr>\n",
       "</thead>\n",
       "<tbody>\n",
       "\t<tr><th scope=row>1</th><td>chr10:79323113-79323613</td><td>TRUE</td><td>NA</td><td>jurkat</td></tr>\n",
       "</tbody>\n",
       "</table>\n"
      ],
      "text/latex": [
       "A data.frame: 1 × 4\n",
       "\\begin{tabular}{r|llll}\n",
       "  & cre & result\\_chromatin & result\\_h3k27ac & cell\\_type\\\\\n",
       "  & <chr> & <lgl> & <lgl> & <chr>\\\\\n",
       "\\hline\n",
       "\t1 & chr10:79323113-79323613 & TRUE & NA & jurkat\\\\\n",
       "\\end{tabular}\n"
      ],
      "text/markdown": [
       "\n",
       "A data.frame: 1 × 4\n",
       "\n",
       "| <!--/--> | cre &lt;chr&gt; | result_chromatin &lt;lgl&gt; | result_h3k27ac &lt;lgl&gt; | cell_type &lt;chr&gt; |\n",
       "|---|---|---|---|---|\n",
       "| 1 | chr10:79323113-79323613 | TRUE | NA | jurkat |\n",
       "\n"
      ],
      "text/plain": [
       "  cre                     result_chromatin result_h3k27ac cell_type\n",
       "1 chr10:79323113-79323613 TRUE             NA             jurkat   "
      ]
     },
     "metadata": {},
     "output_type": "display_data"
    },
    {
     "data": {
      "text/html": [
       "<style>\n",
       ".list-inline {list-style: none; margin:0; padding: 0}\n",
       ".list-inline>li {display: inline-block}\n",
       ".list-inline>li:not(:last-child)::after {content: \"\\00b7\"; padding: 0 .5ex}\n",
       "</style>\n",
       "<ol class=list-inline><li>40</li><li>4</li></ol>\n"
      ],
      "text/latex": [
       "\\begin{enumerate*}\n",
       "\\item 40\n",
       "\\item 4\n",
       "\\end{enumerate*}\n"
      ],
      "text/markdown": [
       "1. 40\n",
       "2. 4\n",
       "\n",
       "\n"
      ],
      "text/plain": [
       "[1] 40  4"
      ]
     },
     "metadata": {},
     "output_type": "display_data"
    }
   ],
   "source": [
    "workdf <- rbind(\n",
    "    jurkat_cre %>% mutate(cell_type = \"jurkat\"), \n",
    "    gm12878_cre %>% mutate(cell_type = \"gm12878\"), \n",
    "    hepg2_cre %>% mutate(cell_type = \"hepg2\"), \n",
    "    a549_cre %>% mutate(cell_type = \"a549\"), \n",
    "    hct116_cre %>% mutate(cell_type = \"hct116\"), \n",
    "    pc3_cre %>% mutate(cell_type = \"pc3\"), \n",
    "    ncih460_cre %>% mutate(cell_type = \"ncih460\"), \n",
    "    mcf7_cre %>% mutate(cell_type = \"mcf7\")) %>%\n",
    "mutate(result_chromatin = ifelse((result_dnase == TRUE | result_atac == TRUE), TRUE, FALSE)) %>%\n",
    "select(cre, result_chromatin, result_h3k27ac, cell_type)\n",
    "\n",
    "head(workdf,n=1)\n",
    "dim(workdf)"
   ]
  },
  {
   "cell_type": "markdown",
   "metadata": {},
   "source": [
    "### Summarize number of and proportion of CREs that overlap each feature"
   ]
  },
  {
   "cell_type": "code",
   "execution_count": 51,
   "metadata": {},
   "outputs": [
    {
     "name": "stderr",
     "output_type": "stream",
     "text": [
      "\u001b[1m\u001b[22m`summarise()` has grouped output by 'cell_type', 'feature'. You can override\n",
      "using the `.groups` argument.\n"
     ]
    },
    {
     "data": {
      "text/html": [
       "<table class=\"dataframe\">\n",
       "<caption>A tibble: 16 × 5</caption>\n",
       "<thead>\n",
       "\t<tr><th scope=col>cell_type</th><th scope=col>feature</th><th scope=col>overlap</th><th scope=col>n</th><th scope=col>prop_n</th></tr>\n",
       "\t<tr><th scope=col>&lt;chr&gt;</th><th scope=col>&lt;chr&gt;</th><th scope=col>&lt;lgl&gt;</th><th scope=col>&lt;int&gt;</th><th scope=col>&lt;dbl&gt;</th></tr>\n",
       "</thead>\n",
       "<tbody>\n",
       "\t<tr><td>a549   </td><td>result_chromatin</td><td> TRUE</td><td> 4</td><td>1.0000000</td></tr>\n",
       "\t<tr><td>a549   </td><td>result_h3k27ac  </td><td> TRUE</td><td> 4</td><td>1.0000000</td></tr>\n",
       "\t<tr><td>gm12878</td><td>result_chromatin</td><td> TRUE</td><td>14</td><td>1.0000000</td></tr>\n",
       "\t<tr><td>gm12878</td><td>result_h3k27ac  </td><td>FALSE</td><td> 3</td><td>0.2142857</td></tr>\n",
       "\t<tr><td>gm12878</td><td>result_h3k27ac  </td><td> TRUE</td><td>11</td><td>0.7857143</td></tr>\n",
       "\t<tr><td>hct116 </td><td>result_chromatin</td><td> TRUE</td><td> 3</td><td>1.0000000</td></tr>\n",
       "\t<tr><td>hct116 </td><td>result_h3k27ac  </td><td> TRUE</td><td> 3</td><td>1.0000000</td></tr>\n",
       "\t<tr><td>hepg2  </td><td>result_chromatin</td><td>FALSE</td><td> 1</td><td>0.5000000</td></tr>\n",
       "\t<tr><td>hepg2  </td><td>result_chromatin</td><td> TRUE</td><td> 1</td><td>0.5000000</td></tr>\n",
       "\t<tr><td>hepg2  </td><td>result_h3k27ac  </td><td> TRUE</td><td> 2</td><td>1.0000000</td></tr>\n",
       "\t<tr><td>jurkat </td><td>result_chromatin</td><td> TRUE</td><td> 8</td><td>1.0000000</td></tr>\n",
       "\t<tr><td>mcf7   </td><td>result_chromatin</td><td> TRUE</td><td> 3</td><td>1.0000000</td></tr>\n",
       "\t<tr><td>mcf7   </td><td>result_h3k27ac  </td><td> TRUE</td><td> 3</td><td>1.0000000</td></tr>\n",
       "\t<tr><td>ncih460</td><td>result_chromatin</td><td> TRUE</td><td> 1</td><td>1.0000000</td></tr>\n",
       "\t<tr><td>pc3    </td><td>result_chromatin</td><td> TRUE</td><td> 1</td><td>1.0000000</td></tr>\n",
       "\t<tr><td>pc3    </td><td>result_h3k27ac  </td><td> TRUE</td><td> 1</td><td>1.0000000</td></tr>\n",
       "</tbody>\n",
       "</table>\n"
      ],
      "text/latex": [
       "A tibble: 16 × 5\n",
       "\\begin{tabular}{lllll}\n",
       " cell\\_type & feature & overlap & n & prop\\_n\\\\\n",
       " <chr> & <chr> & <lgl> & <int> & <dbl>\\\\\n",
       "\\hline\n",
       "\t a549    & result\\_chromatin &  TRUE &  4 & 1.0000000\\\\\n",
       "\t a549    & result\\_h3k27ac   &  TRUE &  4 & 1.0000000\\\\\n",
       "\t gm12878 & result\\_chromatin &  TRUE & 14 & 1.0000000\\\\\n",
       "\t gm12878 & result\\_h3k27ac   & FALSE &  3 & 0.2142857\\\\\n",
       "\t gm12878 & result\\_h3k27ac   &  TRUE & 11 & 0.7857143\\\\\n",
       "\t hct116  & result\\_chromatin &  TRUE &  3 & 1.0000000\\\\\n",
       "\t hct116  & result\\_h3k27ac   &  TRUE &  3 & 1.0000000\\\\\n",
       "\t hepg2   & result\\_chromatin & FALSE &  1 & 0.5000000\\\\\n",
       "\t hepg2   & result\\_chromatin &  TRUE &  1 & 0.5000000\\\\\n",
       "\t hepg2   & result\\_h3k27ac   &  TRUE &  2 & 1.0000000\\\\\n",
       "\t jurkat  & result\\_chromatin &  TRUE &  8 & 1.0000000\\\\\n",
       "\t mcf7    & result\\_chromatin &  TRUE &  3 & 1.0000000\\\\\n",
       "\t mcf7    & result\\_h3k27ac   &  TRUE &  3 & 1.0000000\\\\\n",
       "\t ncih460 & result\\_chromatin &  TRUE &  1 & 1.0000000\\\\\n",
       "\t pc3     & result\\_chromatin &  TRUE &  1 & 1.0000000\\\\\n",
       "\t pc3     & result\\_h3k27ac   &  TRUE &  1 & 1.0000000\\\\\n",
       "\\end{tabular}\n"
      ],
      "text/markdown": [
       "\n",
       "A tibble: 16 × 5\n",
       "\n",
       "| cell_type &lt;chr&gt; | feature &lt;chr&gt; | overlap &lt;lgl&gt; | n &lt;int&gt; | prop_n &lt;dbl&gt; |\n",
       "|---|---|---|---|---|\n",
       "| a549    | result_chromatin |  TRUE |  4 | 1.0000000 |\n",
       "| a549    | result_h3k27ac   |  TRUE |  4 | 1.0000000 |\n",
       "| gm12878 | result_chromatin |  TRUE | 14 | 1.0000000 |\n",
       "| gm12878 | result_h3k27ac   | FALSE |  3 | 0.2142857 |\n",
       "| gm12878 | result_h3k27ac   |  TRUE | 11 | 0.7857143 |\n",
       "| hct116  | result_chromatin |  TRUE |  3 | 1.0000000 |\n",
       "| hct116  | result_h3k27ac   |  TRUE |  3 | 1.0000000 |\n",
       "| hepg2   | result_chromatin | FALSE |  1 | 0.5000000 |\n",
       "| hepg2   | result_chromatin |  TRUE |  1 | 0.5000000 |\n",
       "| hepg2   | result_h3k27ac   |  TRUE |  2 | 1.0000000 |\n",
       "| jurkat  | result_chromatin |  TRUE |  8 | 1.0000000 |\n",
       "| mcf7    | result_chromatin |  TRUE |  3 | 1.0000000 |\n",
       "| mcf7    | result_h3k27ac   |  TRUE |  3 | 1.0000000 |\n",
       "| ncih460 | result_chromatin |  TRUE |  1 | 1.0000000 |\n",
       "| pc3     | result_chromatin |  TRUE |  1 | 1.0000000 |\n",
       "| pc3     | result_h3k27ac   |  TRUE |  1 | 1.0000000 |\n",
       "\n"
      ],
      "text/plain": [
       "   cell_type feature          overlap n  prop_n   \n",
       "1  a549      result_chromatin  TRUE    4 1.0000000\n",
       "2  a549      result_h3k27ac    TRUE    4 1.0000000\n",
       "3  gm12878   result_chromatin  TRUE   14 1.0000000\n",
       "4  gm12878   result_h3k27ac   FALSE    3 0.2142857\n",
       "5  gm12878   result_h3k27ac    TRUE   11 0.7857143\n",
       "6  hct116    result_chromatin  TRUE    3 1.0000000\n",
       "7  hct116    result_h3k27ac    TRUE    3 1.0000000\n",
       "8  hepg2     result_chromatin FALSE    1 0.5000000\n",
       "9  hepg2     result_chromatin  TRUE    1 0.5000000\n",
       "10 hepg2     result_h3k27ac    TRUE    2 1.0000000\n",
       "11 jurkat    result_chromatin  TRUE    8 1.0000000\n",
       "12 mcf7      result_chromatin  TRUE    3 1.0000000\n",
       "13 mcf7      result_h3k27ac    TRUE    3 1.0000000\n",
       "14 ncih460   result_chromatin  TRUE    1 1.0000000\n",
       "15 pc3       result_chromatin  TRUE    1 1.0000000\n",
       "16 pc3       result_h3k27ac    TRUE    1 1.0000000"
      ]
     },
     "metadata": {},
     "output_type": "display_data"
    }
   ],
   "source": [
    "workdf %>%\n",
    "pivot_longer(cols = contains(\"result\"), names_to = \"feature\", values_to = \"overlap\") %>%\n",
    "filter(!is.na(overlap)) %>%\n",
    "group_by(cell_type, feature, overlap) %>%\n",
    "summarise(n=n()) %>%\n",
    "ungroup() %>%\n",
    "group_by(cell_type, feature) %>%\n",
    "mutate(prop_n = n/sum(n)) %>%\n",
    "ungroup() %>%\n",
    "arrange(cell_type, feature)"
   ]
  },
  {
   "cell_type": "code",
   "execution_count": 52,
   "metadata": {},
   "outputs": [
    {
     "name": "stderr",
     "output_type": "stream",
     "text": [
      "\u001b[1m\u001b[22m`summarise()` has grouped output by 'cell_type', 'feature'. You can override\n",
      "using the `.groups` argument.\n"
     ]
    }
   ],
   "source": [
    "workdf %>%\n",
    "pivot_longer(cols = contains(\"result\"), names_to = \"feature\", values_to = \"overlap\") %>%\n",
    "filter(!is.na(overlap)) %>%\n",
    "group_by(cell_type, feature, overlap) %>%\n",
    "summarise(n=n()) %>%\n",
    "ungroup() %>%\n",
    "group_by(cell_type, feature) %>%\n",
    "mutate(prop_n = n/sum(n)) %>%\n",
    "ungroup() %>%\n",
    "arrange(cell_type, feature) %>%\n",
    "write.table(\"/data/gersbachlab/lrb53/encodeCrisprWG/finalversion/figure1/othercelltypes/outs/overlap/othercelltypes.cres.int.accessiblechromatinh3k27ac.summary.txt\",\n",
    "            col.names=T, row.names=F, quote=F, sep=\"\\t\")\n"
   ]
  },
  {
   "cell_type": "markdown",
   "metadata": {},
   "source": [
    "### Plot number of and proportion of CREs that overlap each feature"
   ]
  },
  {
   "cell_type": "code",
   "execution_count": 53,
   "metadata": {},
   "outputs": [
    {
     "name": "stderr",
     "output_type": "stream",
     "text": [
      "\u001b[1m\u001b[22m`summarise()` has grouped output by 'cell_type', 'feature'. You can override\n",
      "using the `.groups` argument.\n"
     ]
    },
    {
     "data": {
      "image/png": "[encoded data removed]",
      "text/plain": [
       "plot without title"
      ]
     },
     "metadata": {
      "image/png": {
       "height": 420,
       "width": 420
      }
     },
     "output_type": "display_data"
    }
   ],
   "source": [
    "workdf %>%\n",
    "pivot_longer(cols = contains(\"result\"), names_to = \"feature\", values_to = \"overlap\") %>%\n",
    "filter(!is.na(overlap)) %>%\n",
    "group_by(cell_type, feature, overlap) %>%\n",
    "summarise(n=n()) %>%\n",
    "ungroup() %>%\n",
    "group_by(cell_type, feature) %>%\n",
    "mutate(prop_n = n/sum(n)) %>%\n",
    "ungroup() %>%\n",
    "arrange(cell_type, feature) %>%\n",
    "ggplot(aes(y = cell_type, x = n, fill = overlap)) +\n",
    "geom_col() +\n",
    "theme_classic() +\n",
    "facet_wrap(~feature)"
   ]
  },
  {
   "cell_type": "code",
   "execution_count": 54,
   "metadata": {},
   "outputs": [
    {
     "name": "stderr",
     "output_type": "stream",
     "text": [
      "\u001b[1m\u001b[22m`summarise()` has grouped output by 'cell_type', 'feature'. You can override\n",
      "using the `.groups` argument.\n"
     ]
    },
    {
     "data": {
      "image/png": "[encoded data removed]",
      "text/plain": [
       "plot without title"
      ]
     },
     "metadata": {
      "image/png": {
       "height": 420,
       "width": 420
      }
     },
     "output_type": "display_data"
    }
   ],
   "source": [
    "workdf %>%\n",
    "pivot_longer(cols = contains(\"result\"), names_to = \"feature\", values_to = \"overlap\") %>%\n",
    "filter(!is.na(overlap)) %>%\n",
    "group_by(cell_type, feature, overlap) %>%\n",
    "summarise(n=n()) %>%\n",
    "ungroup() %>%\n",
    "group_by(cell_type, feature) %>%\n",
    "mutate(prop_n = n/sum(n)) %>%\n",
    "ungroup() %>%\n",
    "arrange(cell_type, feature) %>%\n",
    "ggplot(aes(y = cell_type, x = prop_n, fill = overlap)) +\n",
    "geom_col() +\n",
    "theme_classic() +\n",
    "facet_wrap(~feature)"
   ]
  },
  {
   "cell_type": "code",
   "execution_count": 55,
   "metadata": {},
   "outputs": [
    {
     "name": "stderr",
     "output_type": "stream",
     "text": [
      "\u001b[1m\u001b[22m`summarise()` has grouped output by 'cell_type', 'feature'. You can override\n",
      "using the `.groups` argument.\n"
     ]
    },
    {
     "data": {
      "text/html": [
       "<strong>png:</strong> 2"
      ],
      "text/latex": [
       "\\textbf{png:} 2"
      ],
      "text/markdown": [
       "**png:** 2"
      ],
      "text/plain": [
       "png \n",
       "  2 "
      ]
     },
     "metadata": {},
     "output_type": "display_data"
    }
   ],
   "source": [
    "pdf(\"/data/gersbachlab/lrb53/encodeCrisprWG/finalversion/figure1/othercelltypes/outs/plot_pdfs/othercelltypes.cre.int.accessiblechromatinh3k27ac.count.pdf\")\n",
    "workdf %>%\n",
    "pivot_longer(cols = contains(\"result\"), names_to = \"feature\", values_to = \"overlap\") %>%\n",
    "filter(!is.na(overlap)) %>%\n",
    "group_by(cell_type, feature, overlap) %>%\n",
    "summarise(n=n()) %>%\n",
    "ungroup() %>%\n",
    "group_by(cell_type, feature) %>%\n",
    "mutate(prop_n = n/sum(n)) %>%\n",
    "ungroup() %>%\n",
    "arrange(cell_type, feature) %>%\n",
    "ggplot(aes(x = cell_type, y = prop_n, fill = overlap)) +\n",
    "geom_col() +\n",
    "theme_classic() +\n",
    "facet_wrap(~feature)\n",
    "dev.off()"
   ]
  },
  {
   "cell_type": "code",
   "execution_count": 56,
   "metadata": {},
   "outputs": [
    {
     "name": "stderr",
     "output_type": "stream",
     "text": [
      "\u001b[1m\u001b[22m`summarise()` has grouped output by 'cell_type', 'feature'. You can override\n",
      "using the `.groups` argument.\n"
     ]
    },
    {
     "data": {
      "text/html": [
       "<strong>png:</strong> 2"
      ],
      "text/latex": [
       "\\textbf{png:} 2"
      ],
      "text/markdown": [
       "**png:** 2"
      ],
      "text/plain": [
       "png \n",
       "  2 "
      ]
     },
     "metadata": {},
     "output_type": "display_data"
    }
   ],
   "source": [
    "pdf(\"/data/gersbachlab/lrb53/encodeCrisprWG/finalversion/figure1/othercelltypes/outs/plot_pdfs/othercelltypes.cre.int.accessiblechromatinh3k27ac.count.pdf\")\n",
    "workdf %>%\n",
    "pivot_longer(cols = contains(\"result\"), names_to = \"feature\", values_to = \"overlap\") %>%\n",
    "filter(!is.na(overlap)) %>%\n",
    "group_by(cell_type, feature, overlap) %>%\n",
    "summarise(n=n()) %>%\n",
    "ungroup() %>%\n",
    "group_by(cell_type, feature) %>%\n",
    "mutate(prop_n = n/sum(n)) %>%\n",
    "ungroup() %>%\n",
    "arrange(cell_type, feature) %>%\n",
    "ggplot(aes(y = cell_type, x = n, fill = overlap)) +\n",
    "geom_col() +\n",
    "theme_classic() +\n",
    "facet_wrap(~feature)\n",
    "dev.off()"
   ]
  },
  {
   "cell_type": "markdown",
   "metadata": {},
   "source": [
    "### Add K562 and WTC11 to visualization"
   ]
  },
  {
   "cell_type": "markdown",
   "metadata": {},
   "source": [
    "The following values were produced in `Figure1K562Analysis.FeatureFisherExactTest.LRB.ipynb`."
   ]
  },
  {
   "cell_type": "code",
   "execution_count": 57,
   "metadata": {},
   "outputs": [
    {
     "data": {
      "text/html": [
       "<table class=\"dataframe\">\n",
       "<caption>A data.frame: 1 × 4</caption>\n",
       "<thead>\n",
       "\t<tr><th></th><th scope=col>cre</th><th scope=col>result_chromatin</th><th scope=col>result_h3k27ac</th><th scope=col>cell_type</th></tr>\n",
       "\t<tr><th></th><th scope=col>&lt;chr&gt;</th><th scope=col>&lt;lgl&gt;</th><th scope=col>&lt;lgl&gt;</th><th scope=col>&lt;chr&gt;</th></tr>\n",
       "</thead>\n",
       "<tbody>\n",
       "\t<tr><th scope=row>1</th><td>chr3:127672600-127673300</td><td>TRUE</td><td>TRUE</td><td>k562</td></tr>\n",
       "</tbody>\n",
       "</table>\n"
      ],
      "text/latex": [
       "A data.frame: 1 × 4\n",
       "\\begin{tabular}{r|llll}\n",
       "  & cre & result\\_chromatin & result\\_h3k27ac & cell\\_type\\\\\n",
       "  & <chr> & <lgl> & <lgl> & <chr>\\\\\n",
       "\\hline\n",
       "\t1 & chr3:127672600-127673300 & TRUE & TRUE & k562\\\\\n",
       "\\end{tabular}\n"
      ],
      "text/markdown": [
       "\n",
       "A data.frame: 1 × 4\n",
       "\n",
       "| <!--/--> | cre &lt;chr&gt; | result_chromatin &lt;lgl&gt; | result_h3k27ac &lt;lgl&gt; | cell_type &lt;chr&gt; |\n",
       "|---|---|---|---|---|\n",
       "| 1 | chr3:127672600-127673300 | TRUE | TRUE | k562 |\n",
       "\n"
      ],
      "text/plain": [
       "  cre                      result_chromatin result_h3k27ac cell_type\n",
       "1 chr3:127672600-127673300 TRUE             TRUE           k562     "
      ]
     },
     "metadata": {},
     "output_type": "display_data"
    }
   ],
   "source": [
    "k562_df <- read.delim(\"figure1/k562meta/outs/feature_fisher_test/supptable5.k562.featureoverlapsummary.txt\",\n",
    "                      header = TRUE) %>%\n",
    "mutate(cre = bin,\n",
    "       result_chromatin = ifelse(dnase_k562 == 1 | atac_k562 == 1, TRUE, FALSE),\n",
    "       result_h3k27ac = ifelse(h3k27ac_k562 == 1, TRUE, FALSE)\n",
    "       ) %>%\n",
    "select(cre, result_chromatin, result_h3k27ac) %>%\n",
    "mutate(cell_type = \"k562\")\n",
    "\n",
    "head(k562_df,n=1)"
   ]
  },
  {
   "cell_type": "code",
   "execution_count": 58,
   "metadata": {},
   "outputs": [
    {
     "name": "stderr",
     "output_type": "stream",
     "text": [
      "\u001b[1m\u001b[22m`summarise()` has grouped output by 'cell_type', 'feature'. You can override\n",
      "using the `.groups` argument.\n"
     ]
    },
    {
     "data": {
      "text/html": [
       "<table class=\"dataframe\">\n",
       "<caption>A tibble: 24 × 5</caption>\n",
       "<thead>\n",
       "\t<tr><th scope=col>cell_type</th><th scope=col>feature</th><th scope=col>overlap</th><th scope=col>n</th><th scope=col>prop_n</th></tr>\n",
       "\t<tr><th scope=col>&lt;chr&gt;</th><th scope=col>&lt;chr&gt;</th><th scope=col>&lt;lgl&gt;</th><th scope=col>&lt;int&gt;</th><th scope=col>&lt;dbl&gt;</th></tr>\n",
       "</thead>\n",
       "<tbody>\n",
       "\t<tr><td>a549   </td><td>result_chromatin</td><td> TRUE</td><td>  4</td><td>1.00000000</td></tr>\n",
       "\t<tr><td>a549   </td><td>result_h3k27ac  </td><td> TRUE</td><td>  4</td><td>1.00000000</td></tr>\n",
       "\t<tr><td>gm12878</td><td>result_chromatin</td><td> TRUE</td><td> 14</td><td>1.00000000</td></tr>\n",
       "\t<tr><td>gm12878</td><td>result_h3k27ac  </td><td>FALSE</td><td>  3</td><td>0.21428571</td></tr>\n",
       "\t<tr><td>gm12878</td><td>result_h3k27ac  </td><td> TRUE</td><td> 11</td><td>0.78571429</td></tr>\n",
       "\t<tr><td>hct116 </td><td>result_chromatin</td><td> TRUE</td><td>  3</td><td>1.00000000</td></tr>\n",
       "\t<tr><td>hct116 </td><td>result_h3k27ac  </td><td> TRUE</td><td>  3</td><td>1.00000000</td></tr>\n",
       "\t<tr><td>hepg2  </td><td>result_chromatin</td><td>FALSE</td><td>  1</td><td>0.50000000</td></tr>\n",
       "\t<tr><td>hepg2  </td><td>result_chromatin</td><td> TRUE</td><td>  1</td><td>0.50000000</td></tr>\n",
       "\t<tr><td>hepg2  </td><td>result_h3k27ac  </td><td> TRUE</td><td>  2</td><td>1.00000000</td></tr>\n",
       "\t<tr><td>jurkat </td><td>result_chromatin</td><td> TRUE</td><td>  8</td><td>1.00000000</td></tr>\n",
       "\t<tr><td>k562   </td><td>result_chromatin</td><td>FALSE</td><td> 34</td><td>0.16190476</td></tr>\n",
       "\t<tr><td>k562   </td><td>result_chromatin</td><td> TRUE</td><td>176</td><td>0.83809524</td></tr>\n",
       "\t<tr><td>k562   </td><td>result_h3k27ac  </td><td>FALSE</td><td> 28</td><td>0.13333333</td></tr>\n",
       "\t<tr><td>k562   </td><td>result_h3k27ac  </td><td> TRUE</td><td>182</td><td>0.86666667</td></tr>\n",
       "\t<tr><td>mcf7   </td><td>result_chromatin</td><td> TRUE</td><td>  3</td><td>1.00000000</td></tr>\n",
       "\t<tr><td>mcf7   </td><td>result_h3k27ac  </td><td> TRUE</td><td>  3</td><td>1.00000000</td></tr>\n",
       "\t<tr><td>ncih460</td><td>result_chromatin</td><td> TRUE</td><td>  1</td><td>1.00000000</td></tr>\n",
       "\t<tr><td>pc3    </td><td>result_chromatin</td><td> TRUE</td><td>  1</td><td>1.00000000</td></tr>\n",
       "\t<tr><td>pc3    </td><td>result_h3k27ac  </td><td> TRUE</td><td>  1</td><td>1.00000000</td></tr>\n",
       "\t<tr><td>wtc11  </td><td>result_chromatin</td><td>FALSE</td><td>  1</td><td>0.01515152</td></tr>\n",
       "\t<tr><td>wtc11  </td><td>result_chromatin</td><td> TRUE</td><td> 65</td><td>0.98484848</td></tr>\n",
       "\t<tr><td>wtc11  </td><td>result_h3k27ac  </td><td>FALSE</td><td> 20</td><td>0.30303030</td></tr>\n",
       "\t<tr><td>wtc11  </td><td>result_h3k27ac  </td><td> TRUE</td><td> 46</td><td>0.69696970</td></tr>\n",
       "</tbody>\n",
       "</table>\n"
      ],
      "text/latex": [
       "A tibble: 24 × 5\n",
       "\\begin{tabular}{lllll}\n",
       " cell\\_type & feature & overlap & n & prop\\_n\\\\\n",
       " <chr> & <chr> & <lgl> & <int> & <dbl>\\\\\n",
       "\\hline\n",
       "\t a549    & result\\_chromatin &  TRUE &   4 & 1.00000000\\\\\n",
       "\t a549    & result\\_h3k27ac   &  TRUE &   4 & 1.00000000\\\\\n",
       "\t gm12878 & result\\_chromatin &  TRUE &  14 & 1.00000000\\\\\n",
       "\t gm12878 & result\\_h3k27ac   & FALSE &   3 & 0.21428571\\\\\n",
       "\t gm12878 & result\\_h3k27ac   &  TRUE &  11 & 0.78571429\\\\\n",
       "\t hct116  & result\\_chromatin &  TRUE &   3 & 1.00000000\\\\\n",
       "\t hct116  & result\\_h3k27ac   &  TRUE &   3 & 1.00000000\\\\\n",
       "\t hepg2   & result\\_chromatin & FALSE &   1 & 0.50000000\\\\\n",
       "\t hepg2   & result\\_chromatin &  TRUE &   1 & 0.50000000\\\\\n",
       "\t hepg2   & result\\_h3k27ac   &  TRUE &   2 & 1.00000000\\\\\n",
       "\t jurkat  & result\\_chromatin &  TRUE &   8 & 1.00000000\\\\\n",
       "\t k562    & result\\_chromatin & FALSE &  34 & 0.16190476\\\\\n",
       "\t k562    & result\\_chromatin &  TRUE & 176 & 0.83809524\\\\\n",
       "\t k562    & result\\_h3k27ac   & FALSE &  28 & 0.13333333\\\\\n",
       "\t k562    & result\\_h3k27ac   &  TRUE & 182 & 0.86666667\\\\\n",
       "\t mcf7    & result\\_chromatin &  TRUE &   3 & 1.00000000\\\\\n",
       "\t mcf7    & result\\_h3k27ac   &  TRUE &   3 & 1.00000000\\\\\n",
       "\t ncih460 & result\\_chromatin &  TRUE &   1 & 1.00000000\\\\\n",
       "\t pc3     & result\\_chromatin &  TRUE &   1 & 1.00000000\\\\\n",
       "\t pc3     & result\\_h3k27ac   &  TRUE &   1 & 1.00000000\\\\\n",
       "\t wtc11   & result\\_chromatin & FALSE &   1 & 0.01515152\\\\\n",
       "\t wtc11   & result\\_chromatin &  TRUE &  65 & 0.98484848\\\\\n",
       "\t wtc11   & result\\_h3k27ac   & FALSE &  20 & 0.30303030\\\\\n",
       "\t wtc11   & result\\_h3k27ac   &  TRUE &  46 & 0.69696970\\\\\n",
       "\\end{tabular}\n"
      ],
      "text/markdown": [
       "\n",
       "A tibble: 24 × 5\n",
       "\n",
       "| cell_type &lt;chr&gt; | feature &lt;chr&gt; | overlap &lt;lgl&gt; | n &lt;int&gt; | prop_n &lt;dbl&gt; |\n",
       "|---|---|---|---|---|\n",
       "| a549    | result_chromatin |  TRUE |   4 | 1.00000000 |\n",
       "| a549    | result_h3k27ac   |  TRUE |   4 | 1.00000000 |\n",
       "| gm12878 | result_chromatin |  TRUE |  14 | 1.00000000 |\n",
       "| gm12878 | result_h3k27ac   | FALSE |   3 | 0.21428571 |\n",
       "| gm12878 | result_h3k27ac   |  TRUE |  11 | 0.78571429 |\n",
       "| hct116  | result_chromatin |  TRUE |   3 | 1.00000000 |\n",
       "| hct116  | result_h3k27ac   |  TRUE |   3 | 1.00000000 |\n",
       "| hepg2   | result_chromatin | FALSE |   1 | 0.50000000 |\n",
       "| hepg2   | result_chromatin |  TRUE |   1 | 0.50000000 |\n",
       "| hepg2   | result_h3k27ac   |  TRUE |   2 | 1.00000000 |\n",
       "| jurkat  | result_chromatin |  TRUE |   8 | 1.00000000 |\n",
       "| k562    | result_chromatin | FALSE |  34 | 0.16190476 |\n",
       "| k562    | result_chromatin |  TRUE | 176 | 0.83809524 |\n",
       "| k562    | result_h3k27ac   | FALSE |  28 | 0.13333333 |\n",
       "| k562    | result_h3k27ac   |  TRUE | 182 | 0.86666667 |\n",
       "| mcf7    | result_chromatin |  TRUE |   3 | 1.00000000 |\n",
       "| mcf7    | result_h3k27ac   |  TRUE |   3 | 1.00000000 |\n",
       "| ncih460 | result_chromatin |  TRUE |   1 | 1.00000000 |\n",
       "| pc3     | result_chromatin |  TRUE |   1 | 1.00000000 |\n",
       "| pc3     | result_h3k27ac   |  TRUE |   1 | 1.00000000 |\n",
       "| wtc11   | result_chromatin | FALSE |   1 | 0.01515152 |\n",
       "| wtc11   | result_chromatin |  TRUE |  65 | 0.98484848 |\n",
       "| wtc11   | result_h3k27ac   | FALSE |  20 | 0.30303030 |\n",
       "| wtc11   | result_h3k27ac   |  TRUE |  46 | 0.69696970 |\n",
       "\n"
      ],
      "text/plain": [
       "   cell_type feature          overlap n   prop_n    \n",
       "1  a549      result_chromatin  TRUE     4 1.00000000\n",
       "2  a549      result_h3k27ac    TRUE     4 1.00000000\n",
       "3  gm12878   result_chromatin  TRUE    14 1.00000000\n",
       "4  gm12878   result_h3k27ac   FALSE     3 0.21428571\n",
       "5  gm12878   result_h3k27ac    TRUE    11 0.78571429\n",
       "6  hct116    result_chromatin  TRUE     3 1.00000000\n",
       "7  hct116    result_h3k27ac    TRUE     3 1.00000000\n",
       "8  hepg2     result_chromatin FALSE     1 0.50000000\n",
       "9  hepg2     result_chromatin  TRUE     1 0.50000000\n",
       "10 hepg2     result_h3k27ac    TRUE     2 1.00000000\n",
       "11 jurkat    result_chromatin  TRUE     8 1.00000000\n",
       "12 k562      result_chromatin FALSE    34 0.16190476\n",
       "13 k562      result_chromatin  TRUE   176 0.83809524\n",
       "14 k562      result_h3k27ac   FALSE    28 0.13333333\n",
       "15 k562      result_h3k27ac    TRUE   182 0.86666667\n",
       "16 mcf7      result_chromatin  TRUE     3 1.00000000\n",
       "17 mcf7      result_h3k27ac    TRUE     3 1.00000000\n",
       "18 ncih460   result_chromatin  TRUE     1 1.00000000\n",
       "19 pc3       result_chromatin  TRUE     1 1.00000000\n",
       "20 pc3       result_h3k27ac    TRUE     1 1.00000000\n",
       "21 wtc11     result_chromatin FALSE     1 0.01515152\n",
       "22 wtc11     result_chromatin  TRUE    65 0.98484848\n",
       "23 wtc11     result_h3k27ac   FALSE    20 0.30303030\n",
       "24 wtc11     result_h3k27ac    TRUE    46 0.69696970"
      ]
     },
     "metadata": {},
     "output_type": "display_data"
    }
   ],
   "source": [
    "workdf %>%\n",
    "rbind(wtc_cre %>% mutate(cell_type = \"wtc11\", \n",
    "                         result_chromatin = ifelse(result_atac == TRUE | result_dnase == TRUE, TRUE, FALSE)) %>%\n",
    "                         select(cre, result_chromatin, result_h3k27ac, cell_type)\n",
    "     ) %>%\n",
    "rbind(k562_df) %>%\n",
    "pivot_longer(cols = contains(\"result\"), names_to = \"feature\", values_to = \"overlap\") %>%\n",
    "filter(!is.na(overlap)) %>%\n",
    "group_by(cell_type, feature, overlap) %>%\n",
    "summarise(n=n()) %>%\n",
    "ungroup() %>%\n",
    "group_by(cell_type, feature) %>%\n",
    "mutate(prop_n = n/sum(n)) %>%\n",
    "ungroup() %>%\n",
    "arrange(cell_type, feature) "
   ]
  },
  {
   "cell_type": "code",
   "execution_count": 59,
   "metadata": {},
   "outputs": [
    {
     "name": "stderr",
     "output_type": "stream",
     "text": [
      "\u001b[1m\u001b[22m`summarise()` has grouped output by 'cell_type', 'feature'. You can override\n",
      "using the `.groups` argument.\n"
     ]
    }
   ],
   "source": [
    "workdf %>%\n",
    "rbind(wtc_cre %>% mutate(cell_type = \"wtc11\", \n",
    "                         result_chromatin = ifelse(result_atac == TRUE | result_dnase == TRUE, TRUE, FALSE)) %>%\n",
    "                         select(cre, result_chromatin, result_h3k27ac, cell_type)\n",
    "     ) %>%\n",
    "rbind(k562_df) %>%\n",
    "pivot_longer(cols = contains(\"result\"), names_to = \"feature\", values_to = \"overlap\") %>%\n",
    "filter(!is.na(overlap)) %>%\n",
    "group_by(cell_type, feature, overlap) %>%\n",
    "summarise(n=n()) %>%\n",
    "ungroup() %>%\n",
    "group_by(cell_type, feature) %>%\n",
    "mutate(prop_n = n/sum(n)) %>%\n",
    "ungroup() %>%\n",
    "arrange(cell_type, feature) %>%\n",
    "write.table(\"/data/gersbachlab/lrb53/encodeCrisprWG/finalversion/figure1/othercelltypes/outs/overlap/othercelltypes.cres.int.accessiblechromatinh3k27ac.addWTC11K562.summary.txt\",\n",
    "            col.names=T, row.names=F, quote=F, sep=\"\\t\")\n"
   ]
  },
  {
   "cell_type": "code",
   "execution_count": 60,
   "metadata": {},
   "outputs": [
    {
     "name": "stderr",
     "output_type": "stream",
     "text": [
      "\u001b[1m\u001b[22m`summarise()` has grouped output by 'cell_type', 'feature'. You can override\n",
      "using the `.groups` argument.\n"
     ]
    },
    {
     "data": {
      "image/png": "[encoded data removed]",
      "text/plain": [
       "plot without title"
      ]
     },
     "metadata": {
      "image/png": {
       "height": 420,
       "width": 420
      }
     },
     "output_type": "display_data"
    }
   ],
   "source": [
    "workdf %>%\n",
    "rbind(wtc_cre %>% mutate(cell_type = \"wtc11\", \n",
    "                         result_chromatin = ifelse(result_atac == TRUE | result_dnase == TRUE, TRUE, FALSE)) %>%\n",
    "                         select(cre, result_chromatin, result_h3k27ac, cell_type)\n",
    "     ) %>%\n",
    "rbind(k562_df) %>%\n",
    "pivot_longer(cols = contains(\"result\"), names_to = \"feature\", values_to = \"overlap\") %>%\n",
    "filter(!is.na(overlap)) %>%\n",
    "group_by(cell_type, feature, overlap) %>%\n",
    "summarise(n=n()) %>%\n",
    "ungroup() %>%\n",
    "group_by(cell_type, feature) %>%\n",
    "mutate(prop_n = n/sum(n)) %>%\n",
    "ungroup() %>%\n",
    "arrange(cell_type, feature) %>%\n",
    "ggplot(aes(y = cell_type, x = n, fill = overlap)) +\n",
    "geom_col() +\n",
    "theme_classic() +\n",
    "facet_wrap(~feature)"
   ]
  },
  {
   "cell_type": "code",
   "execution_count": 61,
   "metadata": {},
   "outputs": [
    {
     "name": "stderr",
     "output_type": "stream",
     "text": [
      "\u001b[1m\u001b[22m`summarise()` has grouped output by 'cell_type', 'feature'. You can override\n",
      "using the `.groups` argument.\n"
     ]
    },
    {
     "data": {
      "image/png": "[encoded data removed]",
      "text/plain": [
       "plot without title"
      ]
     },
     "metadata": {
      "image/png": {
       "height": 420,
       "width": 420
      }
     },
     "output_type": "display_data"
    }
   ],
   "source": [
    "workdf %>%\n",
    "rbind(wtc_cre %>% mutate(cell_type = \"wtc11\", \n",
    "                         result_chromatin = ifelse(result_atac == TRUE | result_dnase == TRUE, TRUE, FALSE)) %>%\n",
    "                         select(cre, result_chromatin, result_h3k27ac, cell_type)\n",
    "     ) %>%\n",
    "rbind(k562_df) %>%\n",
    "pivot_longer(cols = contains(\"result\"), names_to = \"feature\", values_to = \"overlap\") %>%\n",
    "filter(!is.na(overlap)) %>%\n",
    "group_by(cell_type, feature, overlap) %>%\n",
    "summarise(n=n()) %>%\n",
    "ungroup() %>%\n",
    "group_by(cell_type, feature) %>%\n",
    "mutate(prop_n = n/sum(n)) %>%\n",
    "ungroup() %>%\n",
    "arrange(cell_type, feature) %>%\n",
    "ggplot(aes(y = cell_type, x = prop_n, fill = overlap)) +\n",
    "geom_col() +\n",
    "theme_classic() +\n",
    "facet_wrap(~feature)"
   ]
  },
  {
   "cell_type": "code",
   "execution_count": 62,
   "metadata": {},
   "outputs": [
    {
     "name": "stderr",
     "output_type": "stream",
     "text": [
      "\u001b[1m\u001b[22m`summarise()` has grouped output by 'cell_type', 'feature'. You can override\n",
      "using the `.groups` argument.\n"
     ]
    },
    {
     "data": {
      "image/png": "[encoded data removed]",
      "text/plain": [
       "plot without title"
      ]
     },
     "metadata": {
      "image/png": {
       "height": 420,
       "width": 420
      }
     },
     "output_type": "display_data"
    }
   ],
   "source": [
    "workdf %>%\n",
    "rbind(wtc_cre %>% mutate(cell_type = \"wtc11\", \n",
    "                         result_chromatin = ifelse(result_atac == TRUE | result_dnase == TRUE, TRUE, FALSE)) %>%\n",
    "                         select(cre, result_chromatin, result_h3k27ac, cell_type)\n",
    "     ) %>%\n",
    "rbind(k562_df) %>%\n",
    "pivot_longer(cols = contains(\"result\"), names_to = \"feature\", values_to = \"overlap\") %>%\n",
    "filter(!is.na(overlap)) %>%\n",
    "group_by(cell_type, feature, overlap) %>%\n",
    "summarise(n=n()) %>%\n",
    "ungroup() %>%\n",
    "group_by(cell_type, feature) %>%\n",
    "mutate(prop_n = n/sum(n)) %>%\n",
    "ungroup() %>%\n",
    "arrange(cell_type, feature) %>%\n",
    "filter(cell_type == \"k562\" | cell_type == \"wtc11\") %>%\n",
    "ggplot(aes(x = cell_type, y = prop_n, fill = overlap)) +\n",
    "geom_col() +\n",
    "theme_classic() +\n",
    "facet_wrap(~feature)"
   ]
  },
  {
   "cell_type": "code",
   "execution_count": 63,
   "metadata": {},
   "outputs": [
    {
     "name": "stderr",
     "output_type": "stream",
     "text": [
      "\u001b[1m\u001b[22m`summarise()` has grouped output by 'cell_type', 'feature'. You can override\n",
      "using the `.groups` argument.\n"
     ]
    },
    {
     "data": {
      "text/html": [
       "<strong>png:</strong> 2"
      ],
      "text/latex": [
       "\\textbf{png:} 2"
      ],
      "text/markdown": [
       "**png:** 2"
      ],
      "text/plain": [
       "png \n",
       "  2 "
      ]
     },
     "metadata": {},
     "output_type": "display_data"
    }
   ],
   "source": [
    "pdf(\"/data/gersbachlab/lrb53/encodeCrisprWG/finalversion/figure1/othercelltypes/outs/plot_pdfs/k562wtc11.cre.int.accessiblechromatinh3k27ac.proportion.pdf\")\n",
    "workdf %>%\n",
    "rbind(wtc_cre %>% mutate(cell_type = \"wtc11\", \n",
    "                         result_chromatin = ifelse(result_atac == TRUE | result_dnase == TRUE, TRUE, FALSE)) %>%\n",
    "                         select(cre, result_chromatin, result_h3k27ac, cell_type)\n",
    "     ) %>%\n",
    "rbind(k562_df) %>%\n",
    "pivot_longer(cols = contains(\"result\"), names_to = \"feature\", values_to = \"overlap\") %>%\n",
    "filter(!is.na(overlap)) %>%\n",
    "group_by(cell_type, feature, overlap) %>%\n",
    "summarise(n=n()) %>%\n",
    "ungroup() %>%\n",
    "group_by(cell_type, feature) %>%\n",
    "mutate(prop_n = n/sum(n)) %>%\n",
    "ungroup() %>%\n",
    "arrange(cell_type, feature) %>%\n",
    "filter(cell_type == \"k562\" | cell_type == \"wtc11\") %>%\n",
    "ggplot(aes(x = cell_type, y = n, fill = overlap)) +\n",
    "geom_col() +\n",
    "theme_classic() +\n",
    "facet_wrap(~feature)\n",
    "dev.off()"
   ]
  },
  {
   "cell_type": "code",
   "execution_count": 64,
   "metadata": {},
   "outputs": [
    {
     "name": "stderr",
     "output_type": "stream",
     "text": [
      "\u001b[1m\u001b[22m`summarise()` has grouped output by 'cell_type', 'feature'. You can override\n",
      "using the `.groups` argument.\n"
     ]
    },
    {
     "data": {
      "text/html": [
       "<strong>png:</strong> 2"
      ],
      "text/latex": [
       "\\textbf{png:} 2"
      ],
      "text/markdown": [
       "**png:** 2"
      ],
      "text/plain": [
       "png \n",
       "  2 "
      ]
     },
     "metadata": {},
     "output_type": "display_data"
    }
   ],
   "source": [
    "pdf(\"/data/gersbachlab/lrb53/encodeCrisprWG/finalversion/figure1/othercelltypes/outs/plot_pdfs/k562wtc11.cre.int.accessiblechromatinh3k27ac.count.pdf\")\n",
    "workdf %>%\n",
    "rbind(wtc_cre %>% mutate(cell_type = \"wtc11\", \n",
    "                         result_chromatin = ifelse(result_atac == TRUE | result_dnase == TRUE, TRUE, FALSE)) %>%\n",
    "                         select(cre, result_chromatin, result_h3k27ac, cell_type)\n",
    "     ) %>%\n",
    "rbind(k562_df) %>%\n",
    "pivot_longer(cols = contains(\"result\"), names_to = \"feature\", values_to = \"overlap\") %>%\n",
    "filter(!is.na(overlap)) %>%\n",
    "group_by(cell_type, feature, overlap) %>%\n",
    "summarise(n=n()) %>%\n",
    "ungroup() %>%\n",
    "group_by(cell_type, feature) %>%\n",
    "mutate(prop_n = n/sum(n)) %>%\n",
    "ungroup() %>%\n",
    "arrange(cell_type, feature) %>%\n",
    "filter(cell_type == \"k562\" | cell_type == \"wtc11\") %>%\n",
    "ggplot(aes(x = cell_type, y = prop_n, fill = overlap)) +\n",
    "geom_col() +\n",
    "theme_classic() +\n",
    "facet_wrap(~feature)\n",
    "dev.off()"
   ]
  },
  {
   "cell_type": "code",
   "execution_count": null,
   "metadata": {},
   "outputs": [],
   "source": []
  },
  {
   "cell_type": "code",
   "execution_count": 65,
   "metadata": {},
   "outputs": [
    {
     "name": "stderr",
     "output_type": "stream",
     "text": [
      "\u001b[1m\u001b[22m`summarise()` has grouped output by 'cell_type', 'feature'. You can override\n",
      "using the `.groups` argument.\n"
     ]
    }
   ],
   "source": [
    "plotdf <- \n",
    "workdf %>%\n",
    "rbind(wtc_cre %>% mutate(cell_type = \"wtc11\", \n",
    "                         result_chromatin = ifelse(result_atac == TRUE | result_dnase == TRUE, TRUE, FALSE)) %>%\n",
    "                         select(cre, result_chromatin, result_h3k27ac, cell_type)\n",
    "     ) %>%\n",
    "rbind(k562_df) %>%\n",
    "pivot_longer(cols = contains(\"result\"), names_to = \"feature\", values_to = \"overlap\") %>%\n",
    "filter(!is.na(overlap)) %>%\n",
    "group_by(cell_type, feature, overlap) %>%\n",
    "summarise(n=n()) %>%\n",
    "ungroup() %>%\n",
    "group_by(cell_type, feature) %>%\n",
    "mutate(prop_n = n/sum(n)) %>%\n",
    "ungroup() %>%\n",
    "arrange(cell_type, feature) \n",
    "\n",
    "plotdf$cell_type <- factor(plotdf$cell_type, \n",
    "                           levels = c(\"k562\", \"wtc11\", \"gm12878\", \"jurkat\", \"a549\", \"hct116\", \"mcf7\", \"hepg2\", \"ncih460\", \"pc3\"))\n"
   ]
  },
  {
   "cell_type": "code",
   "execution_count": 66,
   "metadata": {},
   "outputs": [
    {
     "data": {
      "text/html": [
       "<table class=\"dataframe\">\n",
       "<caption>A tibble: 10 × 3</caption>\n",
       "<thead>\n",
       "\t<tr><th scope=col>cell_type</th><th scope=col>result_chromatin</th><th scope=col>result_h3k27ac</th></tr>\n",
       "\t<tr><th scope=col>&lt;fct&gt;</th><th scope=col>&lt;int&gt;</th><th scope=col>&lt;int&gt;</th></tr>\n",
       "</thead>\n",
       "<tbody>\n",
       "\t<tr><td>a549   </td><td>  4</td><td>  4</td></tr>\n",
       "\t<tr><td>gm12878</td><td> 14</td><td> 11</td></tr>\n",
       "\t<tr><td>hct116 </td><td>  3</td><td>  3</td></tr>\n",
       "\t<tr><td>hepg2  </td><td>  1</td><td>  2</td></tr>\n",
       "\t<tr><td>jurkat </td><td>  8</td><td> NA</td></tr>\n",
       "\t<tr><td>k562   </td><td>176</td><td>182</td></tr>\n",
       "\t<tr><td>mcf7   </td><td>  3</td><td>  3</td></tr>\n",
       "\t<tr><td>ncih460</td><td>  1</td><td> NA</td></tr>\n",
       "\t<tr><td>pc3    </td><td>  1</td><td>  1</td></tr>\n",
       "\t<tr><td>wtc11  </td><td> 65</td><td> 46</td></tr>\n",
       "</tbody>\n",
       "</table>\n"
      ],
      "text/latex": [
       "A tibble: 10 × 3\n",
       "\\begin{tabular}{lll}\n",
       " cell\\_type & result\\_chromatin & result\\_h3k27ac\\\\\n",
       " <fct> & <int> & <int>\\\\\n",
       "\\hline\n",
       "\t a549    &   4 &   4\\\\\n",
       "\t gm12878 &  14 &  11\\\\\n",
       "\t hct116  &   3 &   3\\\\\n",
       "\t hepg2   &   1 &   2\\\\\n",
       "\t jurkat  &   8 &  NA\\\\\n",
       "\t k562    & 176 & 182\\\\\n",
       "\t mcf7    &   3 &   3\\\\\n",
       "\t ncih460 &   1 &  NA\\\\\n",
       "\t pc3     &   1 &   1\\\\\n",
       "\t wtc11   &  65 &  46\\\\\n",
       "\\end{tabular}\n"
      ],
      "text/markdown": [
       "\n",
       "A tibble: 10 × 3\n",
       "\n",
       "| cell_type &lt;fct&gt; | result_chromatin &lt;int&gt; | result_h3k27ac &lt;int&gt; |\n",
       "|---|---|---|\n",
       "| a549    |   4 |   4 |\n",
       "| gm12878 |  14 |  11 |\n",
       "| hct116  |   3 |   3 |\n",
       "| hepg2   |   1 |   2 |\n",
       "| jurkat  |   8 |  NA |\n",
       "| k562    | 176 | 182 |\n",
       "| mcf7    |   3 |   3 |\n",
       "| ncih460 |   1 |  NA |\n",
       "| pc3     |   1 |   1 |\n",
       "| wtc11   |  65 |  46 |\n",
       "\n"
      ],
      "text/plain": [
       "   cell_type result_chromatin result_h3k27ac\n",
       "1  a549        4                4           \n",
       "2  gm12878    14               11           \n",
       "3  hct116      3                3           \n",
       "4  hepg2       1                2           \n",
       "5  jurkat      8               NA           \n",
       "6  k562      176              182           \n",
       "7  mcf7        3                3           \n",
       "8  ncih460     1               NA           \n",
       "9  pc3         1                1           \n",
       "10 wtc11      65               46           "
      ]
     },
     "metadata": {},
     "output_type": "display_data"
    }
   ],
   "source": [
    "plotdf %>%\n",
    "select(cell_type:n) %>%\n",
    "filter(overlap == TRUE) %>%\n",
    "select(-overlap) %>%\n",
    "pivot_wider(names_from = feature, values_from = n)"
   ]
  },
  {
   "cell_type": "code",
   "execution_count": 67,
   "metadata": {},
   "outputs": [
    {
     "data": {
      "image/png": "[encoded data removed]",
      "text/plain": [
       "plot without title"
      ]
     },
     "metadata": {
      "image/png": {
       "height": 420,
       "width": 420
      }
     },
     "output_type": "display_data"
    }
   ],
   "source": [
    "plot_colors <- c(result_chromatin = \"black\", result_h3k27ac = \"grey\")\n",
    "\n",
    "plotdf %>%\n",
    "filter(overlap == TRUE) %>%\n",
    "ggplot(aes(x = cell_type, y = n, fill = feature)) +\n",
    "geom_col(position = \"dodge\") +\n",
    "scale_fill_manual(values = plot_colors) +\n",
    "# scale_y_continuous(limits = c(0, 200), breaks = c(0,5,10,15,20,50,75,100,200)) +\n",
    "# scale_y_break(c(70, 200)) +\n",
    "theme_classic() +\n",
    "theme(axis.text.x = element_text(angle = 90))"
   ]
  },
  {
   "cell_type": "code",
   "execution_count": null,
   "metadata": {},
   "outputs": [],
   "source": []
  },
  {
   "cell_type": "markdown",
   "metadata": {},
   "source": [
    "### Now, get the count and proportion of CREs that overlap any of the three features in the corresponding cell type"
   ]
  },
  {
   "cell_type": "code",
   "execution_count": 68,
   "metadata": {},
   "outputs": [
    {
     "name": "stderr",
     "output_type": "stream",
     "text": [
      "\u001b[1m\u001b[22m`summarise()` has grouped output by 'cell_type'. You can override using the\n",
      "`.groups` argument.\n"
     ]
    },
    {
     "data": {
      "text/html": [
       "<table class=\"dataframe\">\n",
       "<caption>A grouped_df: 13 × 5</caption>\n",
       "<thead>\n",
       "\t<tr><th scope=col>cell_type</th><th scope=col>cre_overlap</th><th scope=col>n_cre</th><th scope=col>total_cre</th><th scope=col>prop_cre</th></tr>\n",
       "\t<tr><th scope=col>&lt;chr&gt;</th><th scope=col>&lt;lgl&gt;</th><th scope=col>&lt;int&gt;</th><th scope=col>&lt;int&gt;</th><th scope=col>&lt;dbl&gt;</th></tr>\n",
       "</thead>\n",
       "<tbody>\n",
       "\t<tr><td>a549   </td><td> TRUE</td><td>  4</td><td>  4</td><td>1.00000000</td></tr>\n",
       "\t<tr><td>gm12878</td><td> TRUE</td><td> 14</td><td> 14</td><td>1.00000000</td></tr>\n",
       "\t<tr><td>hct116 </td><td> TRUE</td><td>  3</td><td>  3</td><td>1.00000000</td></tr>\n",
       "\t<tr><td>hepg2  </td><td> TRUE</td><td>  2</td><td>  2</td><td>1.00000000</td></tr>\n",
       "\t<tr><td>jurkat </td><td>FALSE</td><td>  4</td><td> 12</td><td>0.33333333</td></tr>\n",
       "\t<tr><td>jurkat </td><td> TRUE</td><td>  8</td><td> 12</td><td>0.66666667</td></tr>\n",
       "\t<tr><td>k562   </td><td>FALSE</td><td> 10</td><td>210</td><td>0.04761905</td></tr>\n",
       "\t<tr><td>k562   </td><td> TRUE</td><td>200</td><td>210</td><td>0.95238095</td></tr>\n",
       "\t<tr><td>mcf7   </td><td> TRUE</td><td>  3</td><td>  3</td><td>1.00000000</td></tr>\n",
       "\t<tr><td>ncih460</td><td> TRUE</td><td>  1</td><td>  1</td><td>1.00000000</td></tr>\n",
       "\t<tr><td>pc3    </td><td> TRUE</td><td>  1</td><td>  1</td><td>1.00000000</td></tr>\n",
       "\t<tr><td>wtc11  </td><td>FALSE</td><td>  1</td><td> 66</td><td>0.01515152</td></tr>\n",
       "\t<tr><td>wtc11  </td><td> TRUE</td><td> 65</td><td> 66</td><td>0.98484848</td></tr>\n",
       "</tbody>\n",
       "</table>\n"
      ],
      "text/latex": [
       "A grouped\\_df: 13 × 5\n",
       "\\begin{tabular}{lllll}\n",
       " cell\\_type & cre\\_overlap & n\\_cre & total\\_cre & prop\\_cre\\\\\n",
       " <chr> & <lgl> & <int> & <int> & <dbl>\\\\\n",
       "\\hline\n",
       "\t a549    &  TRUE &   4 &   4 & 1.00000000\\\\\n",
       "\t gm12878 &  TRUE &  14 &  14 & 1.00000000\\\\\n",
       "\t hct116  &  TRUE &   3 &   3 & 1.00000000\\\\\n",
       "\t hepg2   &  TRUE &   2 &   2 & 1.00000000\\\\\n",
       "\t jurkat  & FALSE &   4 &  12 & 0.33333333\\\\\n",
       "\t jurkat  &  TRUE &   8 &  12 & 0.66666667\\\\\n",
       "\t k562    & FALSE &  10 & 210 & 0.04761905\\\\\n",
       "\t k562    &  TRUE & 200 & 210 & 0.95238095\\\\\n",
       "\t mcf7    &  TRUE &   3 &   3 & 1.00000000\\\\\n",
       "\t ncih460 &  TRUE &   1 &   1 & 1.00000000\\\\\n",
       "\t pc3     &  TRUE &   1 &   1 & 1.00000000\\\\\n",
       "\t wtc11   & FALSE &   1 &  66 & 0.01515152\\\\\n",
       "\t wtc11   &  TRUE &  65 &  66 & 0.98484848\\\\\n",
       "\\end{tabular}\n"
      ],
      "text/markdown": [
       "\n",
       "A grouped_df: 13 × 5\n",
       "\n",
       "| cell_type &lt;chr&gt; | cre_overlap &lt;lgl&gt; | n_cre &lt;int&gt; | total_cre &lt;int&gt; | prop_cre &lt;dbl&gt; |\n",
       "|---|---|---|---|---|\n",
       "| a549    |  TRUE |   4 |   4 | 1.00000000 |\n",
       "| gm12878 |  TRUE |  14 |  14 | 1.00000000 |\n",
       "| hct116  |  TRUE |   3 |   3 | 1.00000000 |\n",
       "| hepg2   |  TRUE |   2 |   2 | 1.00000000 |\n",
       "| jurkat  | FALSE |   4 |  12 | 0.33333333 |\n",
       "| jurkat  |  TRUE |   8 |  12 | 0.66666667 |\n",
       "| k562    | FALSE |  10 | 210 | 0.04761905 |\n",
       "| k562    |  TRUE | 200 | 210 | 0.95238095 |\n",
       "| mcf7    |  TRUE |   3 |   3 | 1.00000000 |\n",
       "| ncih460 |  TRUE |   1 |   1 | 1.00000000 |\n",
       "| pc3     |  TRUE |   1 |   1 | 1.00000000 |\n",
       "| wtc11   | FALSE |   1 |  66 | 0.01515152 |\n",
       "| wtc11   |  TRUE |  65 |  66 | 0.98484848 |\n",
       "\n"
      ],
      "text/plain": [
       "   cell_type cre_overlap n_cre total_cre prop_cre  \n",
       "1  a549       TRUE         4     4       1.00000000\n",
       "2  gm12878    TRUE        14    14       1.00000000\n",
       "3  hct116     TRUE         3     3       1.00000000\n",
       "4  hepg2      TRUE         2     2       1.00000000\n",
       "5  jurkat    FALSE         4    12       0.33333333\n",
       "6  jurkat     TRUE         8    12       0.66666667\n",
       "7  k562      FALSE        10   210       0.04761905\n",
       "8  k562       TRUE       200   210       0.95238095\n",
       "9  mcf7       TRUE         3     3       1.00000000\n",
       "10 ncih460    TRUE         1     1       1.00000000\n",
       "11 pc3        TRUE         1     1       1.00000000\n",
       "12 wtc11     FALSE         1    66       0.01515152\n",
       "13 wtc11      TRUE        65    66       0.98484848"
      ]
     },
     "metadata": {},
     "output_type": "display_data"
    }
   ],
   "source": [
    "workdf %>%\n",
    "rbind(wtc_cre %>% mutate(cell_type = \"wtc11\", \n",
    "                         result_chromatin = ifelse(result_atac == TRUE | result_dnase == TRUE, TRUE, FALSE)) %>%\n",
    "                         select(cre, result_chromatin, result_h3k27ac, cell_type)\n",
    "     ) %>%\n",
    "rbind(k562_df) %>%\n",
    "mutate(cre_overlap = ifelse(result_chromatin == TRUE | result_h3k27ac == TRUE, TRUE, FALSE)) %>%\n",
    "select(cell_type, cre, cre_overlap) %>%\n",
    "mutate(cre_overlap = ifelse(cell_type == \"jurkat\" & is.na(cre_overlap), FALSE, cre_overlap)) %>% ### 4 CREs do not overlap DNase but b/c no h3k27ac data result is 'NA' instead of FALSE. \n",
    "group_by(cell_type, cre_overlap) %>%\n",
    "summarise(n_cre=n()) %>%\n",
    "ungroup() %>%\n",
    "group_by(cell_type) %>%\n",
    "mutate(total_cre = sum(n_cre),\n",
    "       prop_cre = n_cre/total_cre) \n"
   ]
  },
  {
   "cell_type": "code",
   "execution_count": null,
   "metadata": {},
   "outputs": [],
   "source": []
  },
  {
   "cell_type": "code",
   "execution_count": null,
   "metadata": {},
   "outputs": [],
   "source": []
  }
 ],
 "metadata": {
  "kernelspec": {
   "display_name": "R 4.1",
   "language": "R",
   "name": "ir41"
  },
  "language_info": {
   "codemirror_mode": "r",
   "file_extension": ".r",
   "mimetype": "text/x-r-source",
   "name": "R",
   "pygments_lexer": "r",
   "version": "4.1.3"
  }
 },
 "nbformat": 4,
 "nbformat_minor": 2
}
