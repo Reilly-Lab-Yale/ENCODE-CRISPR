{
 "cells": [
  {
   "cell_type": "markdown",
   "metadata": {},
   "source": [
    "## Download annotation files to new directory\n",
    "\n",
    "Please see supplemental tables for location of annotation files."
   ]
  },
  {
   "cell_type": "markdown",
   "metadata": {},
   "source": [
    "## Intersect with annotations"
   ]
  },
  {
   "cell_type": "markdown",
   "metadata": {},
   "source": [
    "### ENCODE cCREs (`v3` and `v4`), all biosamples, direction intersection"
   ]
  },
  {
   "cell_type": "markdown",
   "metadata": {},
   "source": [
    "#### v3, Perturbed"
   ]
  },
  {
   "cell_type": "code",
   "execution_count": 3,
   "metadata": {},
   "outputs": [
    {
     "name": "stdout",
     "output_type": "stream",
     "text": [
      "6482\n"
     ]
    }
   ],
   "source": [
    "%%bash\n",
    "module load bedtools2\n",
    "\n",
    "bedtools intersect \\\n",
    "-b k562meta/elementReference/combined/binnedgenome.int.k562.elementReference.20230415.merge.bed \\\n",
    "-a annotations/encode.ccres.v3.hg38.bed \\\n",
    "-wa -u | wc -l "
   ]
  },
  {
   "cell_type": "markdown",
   "metadata": {},
   "source": [
    "#### v3, Significant"
   ]
  },
  {
   "cell_type": "code",
   "execution_count": 4,
   "metadata": {},
   "outputs": [
    {
     "name": "stdout",
     "output_type": "stream",
     "text": [
      "504\n"
     ]
    }
   ],
   "source": [
    "%%bash\n",
    "module load bedtools2\n",
    "\n",
    "bedtools intersect \\\n",
    "-b k562meta/elementQuant/combined/binnedgenome.int.k562.elementQuant.20230415.merge.bed \\\n",
    "-a annotations/encode.ccres.v3.hg38.bed \\\n",
    "-wa -u | wc -l"
   ]
  },
  {
   "cell_type": "markdown",
   "metadata": {},
   "source": [
    "#### v4, Perturbed"
   ]
  },
  {
   "cell_type": "code",
   "execution_count": 5,
   "metadata": {},
   "outputs": [
    {
     "name": "stdout",
     "output_type": "stream",
     "text": [
      "11447\n"
     ]
    }
   ],
   "source": [
    "%%bash\n",
    "module load bedtools2\n",
    "\n",
    "bedtools intersect \\\n",
    "-b k562meta/elementReference/combined/binnedgenome.int.k562.elementReference.20230415.merge.bed \\\n",
    "-a annotations/encode.ccres.v4.hg38.bed.gz \\\n",
    "-wa -u | wc -l"
   ]
  },
  {
   "cell_type": "markdown",
   "metadata": {},
   "source": [
    "#### v4, Significant"
   ]
  },
  {
   "cell_type": "code",
   "execution_count": 6,
   "metadata": {},
   "outputs": [
    {
     "name": "stdout",
     "output_type": "stream",
     "text": [
      "608\n"
     ]
    }
   ],
   "source": [
    "%%bash\n",
    "module load bedtools2\n",
    "\n",
    "bedtools intersect \\\n",
    "-b k562meta/elementQuant/combined/binnedgenome.int.k562.elementQuant.20230415.merge.bed \\\n",
    "-a annotations/encode.ccres.v4.hg38.bed.gz \\\n",
    "-wa -u | wc -l"
   ]
  },
  {
   "cell_type": "markdown",
   "metadata": {},
   "source": [
    "#### v4, K562 cCREs, Perturbed"
   ]
  },
  {
   "cell_type": "code",
   "execution_count": 9,
   "metadata": {},
   "outputs": [
    {
     "name": "stdout",
     "output_type": "stream",
     "text": [
      "11447\n"
     ]
    }
   ],
   "source": [
    "%%bash\n",
    "module load bedtools2\n",
    "\n",
    "bedtools intersect \\\n",
    "-b k562meta/elementReference/combined/binnedgenome.int.k562.elementReference.20230415.merge.bed \\\n",
    "-a annotations/k562.ccres.v4.hg38.bed.gz \\\n",
    "-wa -u | wc -l"
   ]
  },
  {
   "cell_type": "markdown",
   "metadata": {},
   "source": [
    "#### v4, K562 cCREs, Significant"
   ]
  },
  {
   "cell_type": "code",
   "execution_count": 10,
   "metadata": {},
   "outputs": [
    {
     "name": "stdout",
     "output_type": "stream",
     "text": [
      "608\n"
     ]
    }
   ],
   "source": [
    "%%bash\n",
    "module load bedtools2\n",
    "\n",
    "bedtools intersect \\\n",
    "-b k562meta/elementQuant/combined/binnedgenome.int.k562.elementQuant.20230415.merge.bed \\\n",
    "-a annotations/k562.ccres.v4.hg38.bed.gz \\\n",
    "-wa -u | wc -l"
   ]
  },
  {
   "cell_type": "markdown",
   "metadata": {},
   "source": [
    "#### For v4, get the number of cCREs per region perturbed or significant"
   ]
  },
  {
   "cell_type": "code",
   "execution_count": 11,
   "metadata": {},
   "outputs": [],
   "source": [
    "%%bash\n",
    "module load bedtools2\n",
    "\n",
    "bedtools intersect \\\n",
    "-a k562meta/elementReference/combined/binnedgenome.int.k562.elementReference.20230415.merge.bed \\\n",
    "-b annotations/k562.ccres.v4.hg38.bed.gz \\\n",
    "-c > k562meta/outs/binnedgenome.int.k562.elementReference.20230415.merge.int.k562cCREs.count.txt"
   ]
  },
  {
   "cell_type": "code",
   "execution_count": 12,
   "metadata": {},
   "outputs": [],
   "source": [
    "%%bash\n",
    "module load bedtools2\n",
    "\n",
    "bedtools intersect \\\n",
    "-a k562meta/elementQuant/combined/binnedgenome.int.k562.elementQuant.20230415.merge.bed \\\n",
    "-b annotations/k562.ccres.v4.hg38.bed.gz \\\n",
    "-c > k562meta/outs/binnedgenome.int.k562.elementQuant.20230415.merge.int.k562cCREs.count.txt"
   ]
  },
  {
   "cell_type": "markdown",
   "metadata": {},
   "source": [
    "#### Calculate percent of cCREs perturbed and percent of perturbed cCREs that overlapped a significant element"
   ]
  },
  {
   "cell_type": "code",
   "execution_count": 14,
   "metadata": {},
   "outputs": [
    {
     "data": {
      "text/plain": [
       "0.48734404096636064"
      ]
     },
     "execution_count": 14,
     "metadata": {},
     "output_type": "execute_result"
    }
   ],
   "source": [
    "11447/2348854*100"
   ]
  },
  {
   "cell_type": "code",
   "execution_count": 13,
   "metadata": {},
   "outputs": [
    {
     "data": {
      "text/plain": [
       "5.311435310561719"
      ]
     },
     "execution_count": 13,
     "metadata": {},
     "output_type": "execute_result"
    }
   ],
   "source": [
    "608/11447*100"
   ]
  },
  {
   "cell_type": "markdown",
   "metadata": {},
   "source": [
    "#### Plot distribution of cCREs per perturbed and per significant element"
   ]
  },
  {
   "cell_type": "code",
   "execution_count": 16,
   "metadata": {},
   "outputs": [],
   "source": [
    "import pandas as pd\n",
    "import matplotlib.pyplot as plt\n",
    "import seaborn as sns"
   ]
  },
  {
   "cell_type": "code",
   "execution_count": 17,
   "metadata": {},
   "outputs": [
    {
     "data": {
      "text/html": [
       "<div>\n",
       "<style scoped>\n",
       "    .dataframe tbody tr th:only-of-type {\n",
       "        vertical-align: middle;\n",
       "    }\n",
       "\n",
       "    .dataframe tbody tr th {\n",
       "        vertical-align: top;\n",
       "    }\n",
       "\n",
       "    .dataframe thead th {\n",
       "        text-align: right;\n",
       "    }\n",
       "</style>\n",
       "<table border=\"1\" class=\"dataframe\">\n",
       "  <thead>\n",
       "    <tr style=\"text-align: right;\">\n",
       "      <th></th>\n",
       "      <th>chr</th>\n",
       "      <th>start</th>\n",
       "      <th>end</th>\n",
       "      <th>cCRE_count</th>\n",
       "      <th>region_type</th>\n",
       "    </tr>\n",
       "  </thead>\n",
       "  <tbody>\n",
       "    <tr>\n",
       "      <td>0</td>\n",
       "      <td>chr3</td>\n",
       "      <td>127573700</td>\n",
       "      <td>127574600</td>\n",
       "      <td>3</td>\n",
       "      <td>perturbed</td>\n",
       "    </tr>\n",
       "    <tr>\n",
       "      <td>1</td>\n",
       "      <td>chr3</td>\n",
       "      <td>127574700</td>\n",
       "      <td>127575600</td>\n",
       "      <td>4</td>\n",
       "      <td>perturbed</td>\n",
       "    </tr>\n",
       "    <tr>\n",
       "      <td>2</td>\n",
       "      <td>chr3</td>\n",
       "      <td>127584300</td>\n",
       "      <td>127585200</td>\n",
       "      <td>3</td>\n",
       "      <td>perturbed</td>\n",
       "    </tr>\n",
       "    <tr>\n",
       "      <td>3</td>\n",
       "      <td>chr3</td>\n",
       "      <td>127590100</td>\n",
       "      <td>127591500</td>\n",
       "      <td>6</td>\n",
       "      <td>perturbed</td>\n",
       "    </tr>\n",
       "    <tr>\n",
       "      <td>4</td>\n",
       "      <td>chr3</td>\n",
       "      <td>127595100</td>\n",
       "      <td>127596000</td>\n",
       "      <td>2</td>\n",
       "      <td>perturbed</td>\n",
       "    </tr>\n",
       "  </tbody>\n",
       "</table>\n",
       "</div>"
      ],
      "text/plain": [
       "    chr      start        end  cCRE_count region_type\n",
       "0  chr3  127573700  127574600           3   perturbed\n",
       "1  chr3  127574700  127575600           4   perturbed\n",
       "2  chr3  127584300  127585200           3   perturbed\n",
       "3  chr3  127590100  127591500           6   perturbed\n",
       "4  chr3  127595100  127596000           2   perturbed"
      ]
     },
     "execution_count": 17,
     "metadata": {},
     "output_type": "execute_result"
    }
   ],
   "source": [
    "df1 = pd.read_csv('k562meta/outs/binnedgenome.int.k562.elementReference.20230415.merge.int.cCREs.count.txt',\n",
    "                   sep='\\t', header = None)\n",
    "\n",
    "df1.columns = ['chr', 'start', 'end', 'cCRE_count']\n",
    "df1['region_type'] = \"perturbed\"\n",
    "df1.head()"
   ]
  },
  {
   "cell_type": "code",
   "execution_count": 18,
   "metadata": {},
   "outputs": [
    {
     "data": {
      "text/html": [
       "<div>\n",
       "<style scoped>\n",
       "    .dataframe tbody tr th:only-of-type {\n",
       "        vertical-align: middle;\n",
       "    }\n",
       "\n",
       "    .dataframe tbody tr th {\n",
       "        vertical-align: top;\n",
       "    }\n",
       "\n",
       "    .dataframe thead th {\n",
       "        text-align: right;\n",
       "    }\n",
       "</style>\n",
       "<table border=\"1\" class=\"dataframe\">\n",
       "  <thead>\n",
       "    <tr style=\"text-align: right;\">\n",
       "      <th></th>\n",
       "      <th>chr</th>\n",
       "      <th>start</th>\n",
       "      <th>end</th>\n",
       "      <th>cCRE_count</th>\n",
       "      <th>region_type</th>\n",
       "    </tr>\n",
       "  </thead>\n",
       "  <tbody>\n",
       "    <tr>\n",
       "      <td>0</td>\n",
       "      <td>chr3</td>\n",
       "      <td>127672600</td>\n",
       "      <td>127673300</td>\n",
       "      <td>2</td>\n",
       "      <td>significant</td>\n",
       "    </tr>\n",
       "    <tr>\n",
       "      <td>1</td>\n",
       "      <td>chr3</td>\n",
       "      <td>128052000</td>\n",
       "      <td>128052600</td>\n",
       "      <td>3</td>\n",
       "      <td>significant</td>\n",
       "    </tr>\n",
       "    <tr>\n",
       "      <td>2</td>\n",
       "      <td>chr3</td>\n",
       "      <td>128426200</td>\n",
       "      <td>128427000</td>\n",
       "      <td>3</td>\n",
       "      <td>significant</td>\n",
       "    </tr>\n",
       "    <tr>\n",
       "      <td>3</td>\n",
       "      <td>chr3</td>\n",
       "      <td>128532800</td>\n",
       "      <td>128533400</td>\n",
       "      <td>1</td>\n",
       "      <td>significant</td>\n",
       "    </tr>\n",
       "    <tr>\n",
       "      <td>4</td>\n",
       "      <td>chr3</td>\n",
       "      <td>128649900</td>\n",
       "      <td>128650500</td>\n",
       "      <td>2</td>\n",
       "      <td>significant</td>\n",
       "    </tr>\n",
       "  </tbody>\n",
       "</table>\n",
       "</div>"
      ],
      "text/plain": [
       "    chr      start        end  cCRE_count  region_type\n",
       "0  chr3  127672600  127673300           2  significant\n",
       "1  chr3  128052000  128052600           3  significant\n",
       "2  chr3  128426200  128427000           3  significant\n",
       "3  chr3  128532800  128533400           1  significant\n",
       "4  chr3  128649900  128650500           2  significant"
      ]
     },
     "execution_count": 18,
     "metadata": {},
     "output_type": "execute_result"
    }
   ],
   "source": [
    "df2 = pd.read_csv('k562meta/outs/binnedgenome.int.k562.elementQuant.20230415.merge.int.cCREs.count.txt',\n",
    "                   sep='\\t', header = None)\n",
    "\n",
    "df2.columns = ['chr', 'start', 'end', 'cCRE_count']\n",
    "df2['region_type'] = \"significant\"\n",
    "df2.head()"
   ]
  },
  {
   "cell_type": "code",
   "execution_count": 19,
   "metadata": {},
   "outputs": [
    {
     "data": {
      "text/html": [
       "<div>\n",
       "<style scoped>\n",
       "    .dataframe tbody tr th:only-of-type {\n",
       "        vertical-align: middle;\n",
       "    }\n",
       "\n",
       "    .dataframe tbody tr th {\n",
       "        vertical-align: top;\n",
       "    }\n",
       "\n",
       "    .dataframe thead th {\n",
       "        text-align: right;\n",
       "    }\n",
       "</style>\n",
       "<table border=\"1\" class=\"dataframe\">\n",
       "  <thead>\n",
       "    <tr style=\"text-align: right;\">\n",
       "      <th></th>\n",
       "      <th>chr</th>\n",
       "      <th>start</th>\n",
       "      <th>end</th>\n",
       "      <th>cCRE_count</th>\n",
       "      <th>region_type</th>\n",
       "    </tr>\n",
       "  </thead>\n",
       "  <tbody>\n",
       "    <tr>\n",
       "      <td>0</td>\n",
       "      <td>chr3</td>\n",
       "      <td>127573700</td>\n",
       "      <td>127574600</td>\n",
       "      <td>3</td>\n",
       "      <td>perturbed</td>\n",
       "    </tr>\n",
       "    <tr>\n",
       "      <td>1</td>\n",
       "      <td>chr3</td>\n",
       "      <td>127574700</td>\n",
       "      <td>127575600</td>\n",
       "      <td>4</td>\n",
       "      <td>perturbed</td>\n",
       "    </tr>\n",
       "    <tr>\n",
       "      <td>2</td>\n",
       "      <td>chr3</td>\n",
       "      <td>127584300</td>\n",
       "      <td>127585200</td>\n",
       "      <td>3</td>\n",
       "      <td>perturbed</td>\n",
       "    </tr>\n",
       "    <tr>\n",
       "      <td>3</td>\n",
       "      <td>chr3</td>\n",
       "      <td>127590100</td>\n",
       "      <td>127591500</td>\n",
       "      <td>6</td>\n",
       "      <td>perturbed</td>\n",
       "    </tr>\n",
       "    <tr>\n",
       "      <td>4</td>\n",
       "      <td>chr3</td>\n",
       "      <td>127595100</td>\n",
       "      <td>127596000</td>\n",
       "      <td>2</td>\n",
       "      <td>perturbed</td>\n",
       "    </tr>\n",
       "  </tbody>\n",
       "</table>\n",
       "</div>"
      ],
      "text/plain": [
       "    chr      start        end  cCRE_count region_type\n",
       "0  chr3  127573700  127574600           3   perturbed\n",
       "1  chr3  127574700  127575600           4   perturbed\n",
       "2  chr3  127584300  127585200           3   perturbed\n",
       "3  chr3  127590100  127591500           6   perturbed\n",
       "4  chr3  127595100  127596000           2   perturbed"
      ]
     },
     "execution_count": 19,
     "metadata": {},
     "output_type": "execute_result"
    }
   ],
   "source": [
    "plotdf = pd.concat([df1, df2], sort = False)\n",
    "plotdf.head()"
   ]
  },
  {
   "cell_type": "code",
   "execution_count": 20,
   "metadata": {},
   "outputs": [
    {
     "data": {
      "text/html": [
       "<div>\n",
       "<style scoped>\n",
       "    .dataframe tbody tr th:only-of-type {\n",
       "        vertical-align: middle;\n",
       "    }\n",
       "\n",
       "    .dataframe tbody tr th {\n",
       "        vertical-align: top;\n",
       "    }\n",
       "\n",
       "    .dataframe thead tr th {\n",
       "        text-align: left;\n",
       "    }\n",
       "\n",
       "    .dataframe thead tr:last-of-type th {\n",
       "        text-align: right;\n",
       "    }\n",
       "</style>\n",
       "<table border=\"1\" class=\"dataframe\">\n",
       "  <thead>\n",
       "    <tr>\n",
       "      <th></th>\n",
       "      <th colspan=\"8\" halign=\"left\">cCRE_count</th>\n",
       "    </tr>\n",
       "    <tr>\n",
       "      <th></th>\n",
       "      <th>count</th>\n",
       "      <th>mean</th>\n",
       "      <th>std</th>\n",
       "      <th>min</th>\n",
       "      <th>25%</th>\n",
       "      <th>50%</th>\n",
       "      <th>75%</th>\n",
       "      <th>max</th>\n",
       "    </tr>\n",
       "    <tr>\n",
       "      <th>region_type</th>\n",
       "      <th></th>\n",
       "      <th></th>\n",
       "      <th></th>\n",
       "      <th></th>\n",
       "      <th></th>\n",
       "      <th></th>\n",
       "      <th></th>\n",
       "      <th></th>\n",
       "    </tr>\n",
       "  </thead>\n",
       "  <tbody>\n",
       "    <tr>\n",
       "      <td>perturbed</td>\n",
       "      <td>2733.0</td>\n",
       "      <td>4.207830</td>\n",
       "      <td>10.673580</td>\n",
       "      <td>0.0</td>\n",
       "      <td>1.0</td>\n",
       "      <td>2.0</td>\n",
       "      <td>4.0</td>\n",
       "      <td>236.0</td>\n",
       "    </tr>\n",
       "    <tr>\n",
       "      <td>significant</td>\n",
       "      <td>210.0</td>\n",
       "      <td>2.914286</td>\n",
       "      <td>2.089455</td>\n",
       "      <td>0.0</td>\n",
       "      <td>2.0</td>\n",
       "      <td>2.0</td>\n",
       "      <td>3.0</td>\n",
       "      <td>12.0</td>\n",
       "    </tr>\n",
       "  </tbody>\n",
       "</table>\n",
       "</div>"
      ],
      "text/plain": [
       "            cCRE_count                                                \n",
       "                 count      mean        std  min  25%  50%  75%    max\n",
       "region_type                                                           \n",
       "perturbed       2733.0  4.207830  10.673580  0.0  1.0  2.0  4.0  236.0\n",
       "significant      210.0  2.914286   2.089455  0.0  2.0  2.0  3.0   12.0"
      ]
     },
     "execution_count": 20,
     "metadata": {},
     "output_type": "execute_result"
    }
   ],
   "source": [
    "plotdf[[\"cCRE_count\",\"region_type\"]].groupby('region_type').describe()"
   ]
  },
  {
   "cell_type": "code",
   "execution_count": 21,
   "metadata": {},
   "outputs": [
    {
     "data": {
      "text/plain": [
       "array([<matplotlib.axes._subplots.AxesSubplot object at 0x2b0107b7b9b0>,\n",
       "       <matplotlib.axes._subplots.AxesSubplot object at 0x2b0109bfe0b8>],\n",
       "      dtype=object)"
      ]
     },
     "execution_count": 21,
     "metadata": {},
     "output_type": "execute_result"
    },
    {
     "data": {
      "text/plain": [
       "<Figure size 720x360 with 0 Axes>"
      ]
     },
     "metadata": {},
     "output_type": "display_data"
    },
    {
     "data": {
      "image/png": "[encoded data removed]",
      "text/plain": [
       "<Figure size 432x288 with 2 Axes>"
      ]
     },
     "metadata": {
      "needs_background": "light"
     },
     "output_type": "display_data"
    }
   ],
   "source": [
    "fig = plt.figure(figsize = (10, 5))\n",
    " \n",
    "# creating the bar plot\n",
    "plotdf['cCRE_count'].hist(by=plotdf['region_type'], edgecolor='black') "
   ]
  },
  {
   "cell_type": "code",
   "execution_count": 22,
   "metadata": {},
   "outputs": [
    {
     "data": {
      "text/html": [
       "<div>\n",
       "<style scoped>\n",
       "    .dataframe tbody tr th:only-of-type {\n",
       "        vertical-align: middle;\n",
       "    }\n",
       "\n",
       "    .dataframe tbody tr th {\n",
       "        vertical-align: top;\n",
       "    }\n",
       "\n",
       "    .dataframe thead th {\n",
       "        text-align: right;\n",
       "    }\n",
       "</style>\n",
       "<table border=\"1\" class=\"dataframe\">\n",
       "  <thead>\n",
       "    <tr style=\"text-align: right;\">\n",
       "      <th></th>\n",
       "      <th>chr</th>\n",
       "      <th>start</th>\n",
       "      <th>end</th>\n",
       "      <th>cCRE_count</th>\n",
       "      <th>region_type</th>\n",
       "    </tr>\n",
       "  </thead>\n",
       "  <tbody>\n",
       "    <tr>\n",
       "      <td>0</td>\n",
       "      <td>chr3</td>\n",
       "      <td>127573700</td>\n",
       "      <td>127574600</td>\n",
       "      <td>3</td>\n",
       "      <td>perturbed</td>\n",
       "    </tr>\n",
       "    <tr>\n",
       "      <td>1</td>\n",
       "      <td>chr3</td>\n",
       "      <td>127574700</td>\n",
       "      <td>127575600</td>\n",
       "      <td>4</td>\n",
       "      <td>perturbed</td>\n",
       "    </tr>\n",
       "    <tr>\n",
       "      <td>2</td>\n",
       "      <td>chr3</td>\n",
       "      <td>127584300</td>\n",
       "      <td>127585200</td>\n",
       "      <td>3</td>\n",
       "      <td>perturbed</td>\n",
       "    </tr>\n",
       "    <tr>\n",
       "      <td>3</td>\n",
       "      <td>chr3</td>\n",
       "      <td>127590100</td>\n",
       "      <td>127591500</td>\n",
       "      <td>6</td>\n",
       "      <td>perturbed</td>\n",
       "    </tr>\n",
       "    <tr>\n",
       "      <td>4</td>\n",
       "      <td>chr3</td>\n",
       "      <td>127595100</td>\n",
       "      <td>127596000</td>\n",
       "      <td>2</td>\n",
       "      <td>perturbed</td>\n",
       "    </tr>\n",
       "  </tbody>\n",
       "</table>\n",
       "</div>"
      ],
      "text/plain": [
       "    chr      start        end  cCRE_count region_type\n",
       "0  chr3  127573700  127574600           3   perturbed\n",
       "1  chr3  127574700  127575600           4   perturbed\n",
       "2  chr3  127584300  127585200           3   perturbed\n",
       "3  chr3  127590100  127591500           6   perturbed\n",
       "4  chr3  127595100  127596000           2   perturbed"
      ]
     },
     "execution_count": 22,
     "metadata": {},
     "output_type": "execute_result"
    }
   ],
   "source": [
    "plotdf_sub = plotdf.loc[(plotdf[\"cCRE_count\"] < 200)]\n",
    "plotdf_sub.head()"
   ]
  },
  {
   "cell_type": "code",
   "execution_count": 23,
   "metadata": {},
   "outputs": [
    {
     "data": {
      "text/html": [
       "<div>\n",
       "<style scoped>\n",
       "    .dataframe tbody tr th:only-of-type {\n",
       "        vertical-align: middle;\n",
       "    }\n",
       "\n",
       "    .dataframe tbody tr th {\n",
       "        vertical-align: top;\n",
       "    }\n",
       "\n",
       "    .dataframe thead tr th {\n",
       "        text-align: left;\n",
       "    }\n",
       "\n",
       "    .dataframe thead tr:last-of-type th {\n",
       "        text-align: right;\n",
       "    }\n",
       "</style>\n",
       "<table border=\"1\" class=\"dataframe\">\n",
       "  <thead>\n",
       "    <tr>\n",
       "      <th></th>\n",
       "      <th colspan=\"8\" halign=\"left\">cCRE_count</th>\n",
       "    </tr>\n",
       "    <tr>\n",
       "      <th></th>\n",
       "      <th>count</th>\n",
       "      <th>mean</th>\n",
       "      <th>std</th>\n",
       "      <th>min</th>\n",
       "      <th>25%</th>\n",
       "      <th>50%</th>\n",
       "      <th>75%</th>\n",
       "      <th>max</th>\n",
       "    </tr>\n",
       "    <tr>\n",
       "      <th>region_type</th>\n",
       "      <th></th>\n",
       "      <th></th>\n",
       "      <th></th>\n",
       "      <th></th>\n",
       "      <th></th>\n",
       "      <th></th>\n",
       "      <th></th>\n",
       "      <th></th>\n",
       "    </tr>\n",
       "  </thead>\n",
       "  <tbody>\n",
       "    <tr>\n",
       "      <td>perturbed</td>\n",
       "      <td>2732.0</td>\n",
       "      <td>4.122987</td>\n",
       "      <td>9.710128</td>\n",
       "      <td>0.0</td>\n",
       "      <td>1.0</td>\n",
       "      <td>2.0</td>\n",
       "      <td>4.0</td>\n",
       "      <td>147.0</td>\n",
       "    </tr>\n",
       "    <tr>\n",
       "      <td>significant</td>\n",
       "      <td>210.0</td>\n",
       "      <td>2.914286</td>\n",
       "      <td>2.089455</td>\n",
       "      <td>0.0</td>\n",
       "      <td>2.0</td>\n",
       "      <td>2.0</td>\n",
       "      <td>3.0</td>\n",
       "      <td>12.0</td>\n",
       "    </tr>\n",
       "  </tbody>\n",
       "</table>\n",
       "</div>"
      ],
      "text/plain": [
       "            cCRE_count                                               \n",
       "                 count      mean       std  min  25%  50%  75%    max\n",
       "region_type                                                          \n",
       "perturbed       2732.0  4.122987  9.710128  0.0  1.0  2.0  4.0  147.0\n",
       "significant      210.0  2.914286  2.089455  0.0  2.0  2.0  3.0   12.0"
      ]
     },
     "execution_count": 23,
     "metadata": {},
     "output_type": "execute_result"
    }
   ],
   "source": [
    "plotdf_sub[[\"cCRE_count\",\"region_type\"]].groupby('region_type').describe()"
   ]
  },
  {
   "cell_type": "code",
   "execution_count": 24,
   "metadata": {},
   "outputs": [
    {
     "data": {
      "text/plain": [
       "array([<matplotlib.axes._subplots.AxesSubplot object at 0x2b0109cc8ac8>,\n",
       "       <matplotlib.axes._subplots.AxesSubplot object at 0x2b010a37e7b8>],\n",
       "      dtype=object)"
      ]
     },
     "execution_count": 24,
     "metadata": {},
     "output_type": "execute_result"
    },
    {
     "data": {
      "text/plain": [
       "<Figure size 720x360 with 0 Axes>"
      ]
     },
     "metadata": {},
     "output_type": "display_data"
    },
    {
     "data": {
      "image/png": "[encoded data removed]",
      "text/plain": [
       "<Figure size 432x288 with 2 Axes>"
      ]
     },
     "metadata": {
      "needs_background": "light"
     },
     "output_type": "display_data"
    }
   ],
   "source": [
    "fig = plt.figure(figsize = (10, 5))\n",
    " \n",
    "# creating the bar plot\n",
    "plotdf_sub['cCRE_count'].hist(by=plotdf_sub['region_type'], edgecolor='black') "
   ]
  },
  {
   "cell_type": "code",
   "execution_count": 25,
   "metadata": {},
   "outputs": [
    {
     "data": {
      "text/html": [
       "<div>\n",
       "<style scoped>\n",
       "    .dataframe tbody tr th:only-of-type {\n",
       "        vertical-align: middle;\n",
       "    }\n",
       "\n",
       "    .dataframe tbody tr th {\n",
       "        vertical-align: top;\n",
       "    }\n",
       "\n",
       "    .dataframe thead th {\n",
       "        text-align: right;\n",
       "    }\n",
       "</style>\n",
       "<table border=\"1\" class=\"dataframe\">\n",
       "  <thead>\n",
       "    <tr style=\"text-align: right;\">\n",
       "      <th></th>\n",
       "      <th>chr</th>\n",
       "      <th>start</th>\n",
       "      <th>end</th>\n",
       "      <th>cCRE_count</th>\n",
       "      <th>region_type</th>\n",
       "    </tr>\n",
       "  </thead>\n",
       "  <tbody>\n",
       "    <tr>\n",
       "      <td>0</td>\n",
       "      <td>chr3</td>\n",
       "      <td>127573700</td>\n",
       "      <td>127574600</td>\n",
       "      <td>3</td>\n",
       "      <td>perturbed</td>\n",
       "    </tr>\n",
       "    <tr>\n",
       "      <td>1</td>\n",
       "      <td>chr3</td>\n",
       "      <td>127574700</td>\n",
       "      <td>127575600</td>\n",
       "      <td>4</td>\n",
       "      <td>perturbed</td>\n",
       "    </tr>\n",
       "    <tr>\n",
       "      <td>2</td>\n",
       "      <td>chr3</td>\n",
       "      <td>127584300</td>\n",
       "      <td>127585200</td>\n",
       "      <td>3</td>\n",
       "      <td>perturbed</td>\n",
       "    </tr>\n",
       "    <tr>\n",
       "      <td>3</td>\n",
       "      <td>chr3</td>\n",
       "      <td>127590100</td>\n",
       "      <td>127591500</td>\n",
       "      <td>6</td>\n",
       "      <td>perturbed</td>\n",
       "    </tr>\n",
       "    <tr>\n",
       "      <td>4</td>\n",
       "      <td>chr3</td>\n",
       "      <td>127595100</td>\n",
       "      <td>127596000</td>\n",
       "      <td>2</td>\n",
       "      <td>perturbed</td>\n",
       "    </tr>\n",
       "  </tbody>\n",
       "</table>\n",
       "</div>"
      ],
      "text/plain": [
       "    chr      start        end  cCRE_count region_type\n",
       "0  chr3  127573700  127574600           3   perturbed\n",
       "1  chr3  127574700  127575600           4   perturbed\n",
       "2  chr3  127584300  127585200           3   perturbed\n",
       "3  chr3  127590100  127591500           6   perturbed\n",
       "4  chr3  127595100  127596000           2   perturbed"
      ]
     },
     "execution_count": 25,
     "metadata": {},
     "output_type": "execute_result"
    }
   ],
   "source": [
    "plotdf_sub = plotdf.loc[(plotdf[\"cCRE_count\"] < 100)]\n",
    "plotdf_sub.head()"
   ]
  },
  {
   "cell_type": "code",
   "execution_count": 26,
   "metadata": {},
   "outputs": [
    {
     "data": {
      "text/html": [
       "<div>\n",
       "<style scoped>\n",
       "    .dataframe tbody tr th:only-of-type {\n",
       "        vertical-align: middle;\n",
       "    }\n",
       "\n",
       "    .dataframe tbody tr th {\n",
       "        vertical-align: top;\n",
       "    }\n",
       "\n",
       "    .dataframe thead tr th {\n",
       "        text-align: left;\n",
       "    }\n",
       "\n",
       "    .dataframe thead tr:last-of-type th {\n",
       "        text-align: right;\n",
       "    }\n",
       "</style>\n",
       "<table border=\"1\" class=\"dataframe\">\n",
       "  <thead>\n",
       "    <tr>\n",
       "      <th></th>\n",
       "      <th colspan=\"8\" halign=\"left\">cCRE_count</th>\n",
       "    </tr>\n",
       "    <tr>\n",
       "      <th></th>\n",
       "      <th>count</th>\n",
       "      <th>mean</th>\n",
       "      <th>std</th>\n",
       "      <th>min</th>\n",
       "      <th>25%</th>\n",
       "      <th>50%</th>\n",
       "      <th>75%</th>\n",
       "      <th>max</th>\n",
       "    </tr>\n",
       "    <tr>\n",
       "      <th>region_type</th>\n",
       "      <th></th>\n",
       "      <th></th>\n",
       "      <th></th>\n",
       "      <th></th>\n",
       "      <th></th>\n",
       "      <th></th>\n",
       "      <th></th>\n",
       "      <th></th>\n",
       "    </tr>\n",
       "  </thead>\n",
       "  <tbody>\n",
       "    <tr>\n",
       "      <td>perturbed</td>\n",
       "      <td>2723.0</td>\n",
       "      <td>3.744767</td>\n",
       "      <td>7.095331</td>\n",
       "      <td>0.0</td>\n",
       "      <td>1.0</td>\n",
       "      <td>2.0</td>\n",
       "      <td>4.0</td>\n",
       "      <td>91.0</td>\n",
       "    </tr>\n",
       "    <tr>\n",
       "      <td>significant</td>\n",
       "      <td>210.0</td>\n",
       "      <td>2.914286</td>\n",
       "      <td>2.089455</td>\n",
       "      <td>0.0</td>\n",
       "      <td>2.0</td>\n",
       "      <td>2.0</td>\n",
       "      <td>3.0</td>\n",
       "      <td>12.0</td>\n",
       "    </tr>\n",
       "  </tbody>\n",
       "</table>\n",
       "</div>"
      ],
      "text/plain": [
       "            cCRE_count                                              \n",
       "                 count      mean       std  min  25%  50%  75%   max\n",
       "region_type                                                         \n",
       "perturbed       2723.0  3.744767  7.095331  0.0  1.0  2.0  4.0  91.0\n",
       "significant      210.0  2.914286  2.089455  0.0  2.0  2.0  3.0  12.0"
      ]
     },
     "execution_count": 26,
     "metadata": {},
     "output_type": "execute_result"
    }
   ],
   "source": [
    "plotdf_sub[[\"cCRE_count\",\"region_type\"]].groupby('region_type').describe()"
   ]
  },
  {
   "cell_type": "code",
   "execution_count": 27,
   "metadata": {},
   "outputs": [
    {
     "data": {
      "text/plain": [
       "array([<matplotlib.axes._subplots.AxesSubplot object at 0x2b010a42d3c8>,\n",
       "       <matplotlib.axes._subplots.AxesSubplot object at 0x2b010a465cc0>],\n",
       "      dtype=object)"
      ]
     },
     "execution_count": 27,
     "metadata": {},
     "output_type": "execute_result"
    },
    {
     "data": {
      "text/plain": [
       "<Figure size 720x360 with 0 Axes>"
      ]
     },
     "metadata": {},
     "output_type": "display_data"
    },
    {
     "data": {
      "image/png": "[encoded data removed]",
      "text/plain": [
       "<Figure size 432x288 with 2 Axes>"
      ]
     },
     "metadata": {
      "needs_background": "light"
     },
     "output_type": "display_data"
    }
   ],
   "source": [
    "fig = plt.figure(figsize = (10, 5))\n",
    " \n",
    "# creating the bar plot\n",
    "plotdf_sub['cCRE_count'].hist(by=plotdf_sub['region_type'], edgecolor='black') "
   ]
  },
  {
   "cell_type": "markdown",
   "metadata": {},
   "source": [
    "### ENCODE K562 cCREs (only `v4`), all biosamples, window +/- 100bp"
   ]
  },
  {
   "cell_type": "markdown",
   "metadata": {},
   "source": [
    "#### v4, Perturbed"
   ]
  },
  {
   "cell_type": "code",
   "execution_count": 28,
   "metadata": {},
   "outputs": [
    {
     "name": "stdout",
     "output_type": "stream",
     "text": [
      "12000\n"
     ]
    }
   ],
   "source": [
    "%%bash\n",
    "module load bedtools2\n",
    "\n",
    "bedtools window \\\n",
    "-b k562meta/elementReference/combined/binnedgenome.int.k562.elementReference.20230415.merge.bed \\\n",
    "-a annotations/k562.ccres.v4.hg38.bed.gz \\\n",
    "-w 100 | wc -l"
   ]
  },
  {
   "cell_type": "markdown",
   "metadata": {},
   "source": [
    "#### v4, Significant"
   ]
  },
  {
   "cell_type": "code",
   "execution_count": 29,
   "metadata": {},
   "outputs": [
    {
     "name": "stdout",
     "output_type": "stream",
     "text": [
      "704\n"
     ]
    }
   ],
   "source": [
    "%%bash\n",
    "module load bedtools2\n",
    "\n",
    "bedtools window \\\n",
    "-b k562meta/elementQuant/combined/binnedgenome.int.k562.elementQuant.20230415.merge.bed \\\n",
    "-a annotations/k562.ccres.v4.hg38.bed.gz \\\n",
    "-w 100 | wc -l"
   ]
  },
  {
   "cell_type": "markdown",
   "metadata": {},
   "source": [
    "#### For v4, get the number of cCREs per region perturbed or significant"
   ]
  },
  {
   "cell_type": "code",
   "execution_count": 30,
   "metadata": {},
   "outputs": [],
   "source": [
    "%%bash\n",
    "module load bedtools2\n",
    "\n",
    "bedtools window \\\n",
    "-a k562meta/elementReference/combined/binnedgenome.int.k562.elementReference.20230415.merge.bed \\\n",
    "-b annotations/k562.ccres.v4.hg38.bed.gz \\\n",
    "-c -w 100 > k562meta/outs/binnedgenome.int.k562.elementReference.20230415.merge.window100.cCREs.count.txt"
   ]
  },
  {
   "cell_type": "code",
   "execution_count": 31,
   "metadata": {},
   "outputs": [],
   "source": [
    "%%bash\n",
    "module load bedtools2\n",
    "\n",
    "bedtools window \\\n",
    "-a k562meta/elementQuant/combined/binnedgenome.int.k562.elementQuant.20230415.merge.bed \\\n",
    "-b annotations/k562.ccres.v4.hg38.bed.gz \\\n",
    "-c -w 100 > k562meta/outs/binnedgenome.int.k562.elementQuant.20230415.merge.window100.cCREs.count.txt"
   ]
  },
  {
   "cell_type": "markdown",
   "metadata": {},
   "source": [
    "#### Calculate percent of cCREs perturbed and percent of perturbed cCREs that overlapped a significant element"
   ]
  },
  {
   "cell_type": "code",
   "execution_count": 32,
   "metadata": {},
   "outputs": [
    {
     "data": {
      "text/plain": [
       "0.5108874370224799"
      ]
     },
     "execution_count": 32,
     "metadata": {},
     "output_type": "execute_result"
    }
   ],
   "source": [
    "12000/2348854*100"
   ]
  },
  {
   "cell_type": "code",
   "execution_count": 33,
   "metadata": {},
   "outputs": [
    {
     "data": {
      "text/plain": [
       "5.866666666666666"
      ]
     },
     "execution_count": 33,
     "metadata": {},
     "output_type": "execute_result"
    }
   ],
   "source": [
    "704/12000*100"
   ]
  },
  {
   "cell_type": "markdown",
   "metadata": {},
   "source": [
    "#### Plot distribution of cCREs per perturbed and per significant element"
   ]
  },
  {
   "cell_type": "code",
   "execution_count": 34,
   "metadata": {},
   "outputs": [
    {
     "data": {
      "text/html": [
       "<div>\n",
       "<style scoped>\n",
       "    .dataframe tbody tr th:only-of-type {\n",
       "        vertical-align: middle;\n",
       "    }\n",
       "\n",
       "    .dataframe tbody tr th {\n",
       "        vertical-align: top;\n",
       "    }\n",
       "\n",
       "    .dataframe thead th {\n",
       "        text-align: right;\n",
       "    }\n",
       "</style>\n",
       "<table border=\"1\" class=\"dataframe\">\n",
       "  <thead>\n",
       "    <tr style=\"text-align: right;\">\n",
       "      <th></th>\n",
       "      <th>chr</th>\n",
       "      <th>start</th>\n",
       "      <th>end</th>\n",
       "      <th>cCRE_count</th>\n",
       "      <th>region_type</th>\n",
       "    </tr>\n",
       "  </thead>\n",
       "  <tbody>\n",
       "    <tr>\n",
       "      <td>0</td>\n",
       "      <td>chr3</td>\n",
       "      <td>127573700</td>\n",
       "      <td>127574600</td>\n",
       "      <td>3</td>\n",
       "      <td>perturbed</td>\n",
       "    </tr>\n",
       "    <tr>\n",
       "      <td>1</td>\n",
       "      <td>chr3</td>\n",
       "      <td>127574700</td>\n",
       "      <td>127575600</td>\n",
       "      <td>4</td>\n",
       "      <td>perturbed</td>\n",
       "    </tr>\n",
       "    <tr>\n",
       "      <td>2</td>\n",
       "      <td>chr3</td>\n",
       "      <td>127584300</td>\n",
       "      <td>127585200</td>\n",
       "      <td>3</td>\n",
       "      <td>perturbed</td>\n",
       "    </tr>\n",
       "    <tr>\n",
       "      <td>3</td>\n",
       "      <td>chr3</td>\n",
       "      <td>127590100</td>\n",
       "      <td>127591500</td>\n",
       "      <td>6</td>\n",
       "      <td>perturbed</td>\n",
       "    </tr>\n",
       "    <tr>\n",
       "      <td>4</td>\n",
       "      <td>chr3</td>\n",
       "      <td>127595100</td>\n",
       "      <td>127596000</td>\n",
       "      <td>2</td>\n",
       "      <td>perturbed</td>\n",
       "    </tr>\n",
       "  </tbody>\n",
       "</table>\n",
       "</div>"
      ],
      "text/plain": [
       "    chr      start        end  cCRE_count region_type\n",
       "0  chr3  127573700  127574600           3   perturbed\n",
       "1  chr3  127574700  127575600           4   perturbed\n",
       "2  chr3  127584300  127585200           3   perturbed\n",
       "3  chr3  127590100  127591500           6   perturbed\n",
       "4  chr3  127595100  127596000           2   perturbed"
      ]
     },
     "execution_count": 34,
     "metadata": {},
     "output_type": "execute_result"
    }
   ],
   "source": [
    "df1 = pd.read_csv('k562meta/outs/binnedgenome.int.k562.elementReference.20230415.merge.window100.cCREs.count.txt',\n",
    "                   sep='\\t', header = None)\n",
    "\n",
    "df1.columns = ['chr', 'start', 'end', 'cCRE_count']\n",
    "df1['region_type'] = \"perturbed\"\n",
    "df1.head()"
   ]
  },
  {
   "cell_type": "code",
   "execution_count": 35,
   "metadata": {},
   "outputs": [
    {
     "data": {
      "text/html": [
       "<div>\n",
       "<style scoped>\n",
       "    .dataframe tbody tr th:only-of-type {\n",
       "        vertical-align: middle;\n",
       "    }\n",
       "\n",
       "    .dataframe tbody tr th {\n",
       "        vertical-align: top;\n",
       "    }\n",
       "\n",
       "    .dataframe thead th {\n",
       "        text-align: right;\n",
       "    }\n",
       "</style>\n",
       "<table border=\"1\" class=\"dataframe\">\n",
       "  <thead>\n",
       "    <tr style=\"text-align: right;\">\n",
       "      <th></th>\n",
       "      <th>chr</th>\n",
       "      <th>start</th>\n",
       "      <th>end</th>\n",
       "      <th>cCRE_count</th>\n",
       "      <th>region_type</th>\n",
       "    </tr>\n",
       "  </thead>\n",
       "  <tbody>\n",
       "    <tr>\n",
       "      <td>0</td>\n",
       "      <td>chr3</td>\n",
       "      <td>127672600</td>\n",
       "      <td>127673300</td>\n",
       "      <td>3</td>\n",
       "      <td>significant</td>\n",
       "    </tr>\n",
       "    <tr>\n",
       "      <td>1</td>\n",
       "      <td>chr3</td>\n",
       "      <td>128052000</td>\n",
       "      <td>128052600</td>\n",
       "      <td>3</td>\n",
       "      <td>significant</td>\n",
       "    </tr>\n",
       "    <tr>\n",
       "      <td>2</td>\n",
       "      <td>chr3</td>\n",
       "      <td>128426200</td>\n",
       "      <td>128427000</td>\n",
       "      <td>4</td>\n",
       "      <td>significant</td>\n",
       "    </tr>\n",
       "    <tr>\n",
       "      <td>3</td>\n",
       "      <td>chr3</td>\n",
       "      <td>128532800</td>\n",
       "      <td>128533400</td>\n",
       "      <td>1</td>\n",
       "      <td>significant</td>\n",
       "    </tr>\n",
       "    <tr>\n",
       "      <td>4</td>\n",
       "      <td>chr3</td>\n",
       "      <td>128649900</td>\n",
       "      <td>128650500</td>\n",
       "      <td>3</td>\n",
       "      <td>significant</td>\n",
       "    </tr>\n",
       "  </tbody>\n",
       "</table>\n",
       "</div>"
      ],
      "text/plain": [
       "    chr      start        end  cCRE_count  region_type\n",
       "0  chr3  127672600  127673300           3  significant\n",
       "1  chr3  128052000  128052600           3  significant\n",
       "2  chr3  128426200  128427000           4  significant\n",
       "3  chr3  128532800  128533400           1  significant\n",
       "4  chr3  128649900  128650500           3  significant"
      ]
     },
     "execution_count": 35,
     "metadata": {},
     "output_type": "execute_result"
    }
   ],
   "source": [
    "df2 = pd.read_csv('k562meta/outs/binnedgenome.int.k562.elementQuant.20230415.merge.window100.cCREs.count.txt',\n",
    "                   sep='\\t', header = None)\n",
    "\n",
    "df2.columns = ['chr', 'start', 'end', 'cCRE_count']\n",
    "df2['region_type'] = \"significant\"\n",
    "df2.head()"
   ]
  },
  {
   "cell_type": "code",
   "execution_count": 36,
   "metadata": {},
   "outputs": [
    {
     "data": {
      "text/html": [
       "<div>\n",
       "<style scoped>\n",
       "    .dataframe tbody tr th:only-of-type {\n",
       "        vertical-align: middle;\n",
       "    }\n",
       "\n",
       "    .dataframe tbody tr th {\n",
       "        vertical-align: top;\n",
       "    }\n",
       "\n",
       "    .dataframe thead th {\n",
       "        text-align: right;\n",
       "    }\n",
       "</style>\n",
       "<table border=\"1\" class=\"dataframe\">\n",
       "  <thead>\n",
       "    <tr style=\"text-align: right;\">\n",
       "      <th></th>\n",
       "      <th>chr</th>\n",
       "      <th>start</th>\n",
       "      <th>end</th>\n",
       "      <th>cCRE_count</th>\n",
       "      <th>region_type</th>\n",
       "    </tr>\n",
       "  </thead>\n",
       "  <tbody>\n",
       "    <tr>\n",
       "      <td>0</td>\n",
       "      <td>chr3</td>\n",
       "      <td>127573700</td>\n",
       "      <td>127574600</td>\n",
       "      <td>3</td>\n",
       "      <td>perturbed</td>\n",
       "    </tr>\n",
       "    <tr>\n",
       "      <td>1</td>\n",
       "      <td>chr3</td>\n",
       "      <td>127574700</td>\n",
       "      <td>127575600</td>\n",
       "      <td>4</td>\n",
       "      <td>perturbed</td>\n",
       "    </tr>\n",
       "    <tr>\n",
       "      <td>2</td>\n",
       "      <td>chr3</td>\n",
       "      <td>127584300</td>\n",
       "      <td>127585200</td>\n",
       "      <td>3</td>\n",
       "      <td>perturbed</td>\n",
       "    </tr>\n",
       "    <tr>\n",
       "      <td>3</td>\n",
       "      <td>chr3</td>\n",
       "      <td>127590100</td>\n",
       "      <td>127591500</td>\n",
       "      <td>6</td>\n",
       "      <td>perturbed</td>\n",
       "    </tr>\n",
       "    <tr>\n",
       "      <td>4</td>\n",
       "      <td>chr3</td>\n",
       "      <td>127595100</td>\n",
       "      <td>127596000</td>\n",
       "      <td>2</td>\n",
       "      <td>perturbed</td>\n",
       "    </tr>\n",
       "  </tbody>\n",
       "</table>\n",
       "</div>"
      ],
      "text/plain": [
       "    chr      start        end  cCRE_count region_type\n",
       "0  chr3  127573700  127574600           3   perturbed\n",
       "1  chr3  127574700  127575600           4   perturbed\n",
       "2  chr3  127584300  127585200           3   perturbed\n",
       "3  chr3  127590100  127591500           6   perturbed\n",
       "4  chr3  127595100  127596000           2   perturbed"
      ]
     },
     "execution_count": 36,
     "metadata": {},
     "output_type": "execute_result"
    }
   ],
   "source": [
    "plotdf = pd.concat([df1, df2], sort = False)\n",
    "plotdf.head()"
   ]
  },
  {
   "cell_type": "code",
   "execution_count": 37,
   "metadata": {},
   "outputs": [
    {
     "data": {
      "text/html": [
       "<div>\n",
       "<style scoped>\n",
       "    .dataframe tbody tr th:only-of-type {\n",
       "        vertical-align: middle;\n",
       "    }\n",
       "\n",
       "    .dataframe tbody tr th {\n",
       "        vertical-align: top;\n",
       "    }\n",
       "\n",
       "    .dataframe thead tr th {\n",
       "        text-align: left;\n",
       "    }\n",
       "\n",
       "    .dataframe thead tr:last-of-type th {\n",
       "        text-align: right;\n",
       "    }\n",
       "</style>\n",
       "<table border=\"1\" class=\"dataframe\">\n",
       "  <thead>\n",
       "    <tr>\n",
       "      <th></th>\n",
       "      <th colspan=\"8\" halign=\"left\">cCRE_count</th>\n",
       "    </tr>\n",
       "    <tr>\n",
       "      <th></th>\n",
       "      <th>count</th>\n",
       "      <th>mean</th>\n",
       "      <th>std</th>\n",
       "      <th>min</th>\n",
       "      <th>25%</th>\n",
       "      <th>50%</th>\n",
       "      <th>75%</th>\n",
       "      <th>max</th>\n",
       "    </tr>\n",
       "    <tr>\n",
       "      <th>region_type</th>\n",
       "      <th></th>\n",
       "      <th></th>\n",
       "      <th></th>\n",
       "      <th></th>\n",
       "      <th></th>\n",
       "      <th></th>\n",
       "      <th></th>\n",
       "      <th></th>\n",
       "    </tr>\n",
       "  </thead>\n",
       "  <tbody>\n",
       "    <tr>\n",
       "      <td>perturbed</td>\n",
       "      <td>2733.0</td>\n",
       "      <td>4.390779</td>\n",
       "      <td>10.690246</td>\n",
       "      <td>0.0</td>\n",
       "      <td>1.0</td>\n",
       "      <td>2.0</td>\n",
       "      <td>4.0</td>\n",
       "      <td>237.0</td>\n",
       "    </tr>\n",
       "    <tr>\n",
       "      <td>significant</td>\n",
       "      <td>210.0</td>\n",
       "      <td>3.352381</td>\n",
       "      <td>2.147574</td>\n",
       "      <td>0.0</td>\n",
       "      <td>2.0</td>\n",
       "      <td>3.0</td>\n",
       "      <td>4.0</td>\n",
       "      <td>13.0</td>\n",
       "    </tr>\n",
       "  </tbody>\n",
       "</table>\n",
       "</div>"
      ],
      "text/plain": [
       "            cCRE_count                                                \n",
       "                 count      mean        std  min  25%  50%  75%    max\n",
       "region_type                                                           \n",
       "perturbed       2733.0  4.390779  10.690246  0.0  1.0  2.0  4.0  237.0\n",
       "significant      210.0  3.352381   2.147574  0.0  2.0  3.0  4.0   13.0"
      ]
     },
     "execution_count": 37,
     "metadata": {},
     "output_type": "execute_result"
    }
   ],
   "source": [
    "plotdf[[\"cCRE_count\",\"region_type\"]].groupby('region_type').describe()"
   ]
  },
  {
   "cell_type": "code",
   "execution_count": 38,
   "metadata": {},
   "outputs": [
    {
     "data": {
      "text/plain": [
       "array([<matplotlib.axes._subplots.AxesSubplot object at 0x2b010a51ddd8>,\n",
       "       <matplotlib.axes._subplots.AxesSubplot object at 0x2b010a5537f0>],\n",
       "      dtype=object)"
      ]
     },
     "execution_count": 38,
     "metadata": {},
     "output_type": "execute_result"
    },
    {
     "data": {
      "text/plain": [
       "<Figure size 720x360 with 0 Axes>"
      ]
     },
     "metadata": {},
     "output_type": "display_data"
    },
    {
     "data": {
      "image/png": "[encoded data removed]",
      "text/plain": [
       "<Figure size 432x288 with 2 Axes>"
      ]
     },
     "metadata": {
      "needs_background": "light"
     },
     "output_type": "display_data"
    }
   ],
   "source": [
    "fig = plt.figure(figsize = (10, 5))\n",
    " \n",
    "# creating the bar plot\n",
    "plotdf['cCRE_count'].hist(by=plotdf['region_type'], edgecolor='black') "
   ]
  },
  {
   "cell_type": "code",
   "execution_count": 40,
   "metadata": {},
   "outputs": [
    {
     "data": {
      "text/html": [
       "<div>\n",
       "<style scoped>\n",
       "    .dataframe tbody tr th:only-of-type {\n",
       "        vertical-align: middle;\n",
       "    }\n",
       "\n",
       "    .dataframe tbody tr th {\n",
       "        vertical-align: top;\n",
       "    }\n",
       "\n",
       "    .dataframe thead th {\n",
       "        text-align: right;\n",
       "    }\n",
       "</style>\n",
       "<table border=\"1\" class=\"dataframe\">\n",
       "  <thead>\n",
       "    <tr style=\"text-align: right;\">\n",
       "      <th></th>\n",
       "      <th>chr</th>\n",
       "      <th>start</th>\n",
       "      <th>end</th>\n",
       "      <th>cCRE_count</th>\n",
       "      <th>region_type</th>\n",
       "    </tr>\n",
       "  </thead>\n",
       "  <tbody>\n",
       "    <tr>\n",
       "      <td>0</td>\n",
       "      <td>chr3</td>\n",
       "      <td>127573700</td>\n",
       "      <td>127574600</td>\n",
       "      <td>3</td>\n",
       "      <td>perturbed</td>\n",
       "    </tr>\n",
       "    <tr>\n",
       "      <td>1</td>\n",
       "      <td>chr3</td>\n",
       "      <td>127574700</td>\n",
       "      <td>127575600</td>\n",
       "      <td>4</td>\n",
       "      <td>perturbed</td>\n",
       "    </tr>\n",
       "    <tr>\n",
       "      <td>2</td>\n",
       "      <td>chr3</td>\n",
       "      <td>127584300</td>\n",
       "      <td>127585200</td>\n",
       "      <td>3</td>\n",
       "      <td>perturbed</td>\n",
       "    </tr>\n",
       "    <tr>\n",
       "      <td>3</td>\n",
       "      <td>chr3</td>\n",
       "      <td>127590100</td>\n",
       "      <td>127591500</td>\n",
       "      <td>6</td>\n",
       "      <td>perturbed</td>\n",
       "    </tr>\n",
       "    <tr>\n",
       "      <td>4</td>\n",
       "      <td>chr3</td>\n",
       "      <td>127595100</td>\n",
       "      <td>127596000</td>\n",
       "      <td>2</td>\n",
       "      <td>perturbed</td>\n",
       "    </tr>\n",
       "  </tbody>\n",
       "</table>\n",
       "</div>"
      ],
      "text/plain": [
       "    chr      start        end  cCRE_count region_type\n",
       "0  chr3  127573700  127574600           3   perturbed\n",
       "1  chr3  127574700  127575600           4   perturbed\n",
       "2  chr3  127584300  127585200           3   perturbed\n",
       "3  chr3  127590100  127591500           6   perturbed\n",
       "4  chr3  127595100  127596000           2   perturbed"
      ]
     },
     "execution_count": 40,
     "metadata": {},
     "output_type": "execute_result"
    }
   ],
   "source": [
    "plotdf_sub = plotdf.loc[(plotdf[\"cCRE_count\"] < 50)]\n",
    "plotdf_sub.head()"
   ]
  },
  {
   "cell_type": "code",
   "execution_count": 41,
   "metadata": {},
   "outputs": [
    {
     "data": {
      "text/html": [
       "<div>\n",
       "<style scoped>\n",
       "    .dataframe tbody tr th:only-of-type {\n",
       "        vertical-align: middle;\n",
       "    }\n",
       "\n",
       "    .dataframe tbody tr th {\n",
       "        vertical-align: top;\n",
       "    }\n",
       "\n",
       "    .dataframe thead tr th {\n",
       "        text-align: left;\n",
       "    }\n",
       "\n",
       "    .dataframe thead tr:last-of-type th {\n",
       "        text-align: right;\n",
       "    }\n",
       "</style>\n",
       "<table border=\"1\" class=\"dataframe\">\n",
       "  <thead>\n",
       "    <tr>\n",
       "      <th></th>\n",
       "      <th colspan=\"8\" halign=\"left\">cCRE_count</th>\n",
       "    </tr>\n",
       "    <tr>\n",
       "      <th></th>\n",
       "      <th>count</th>\n",
       "      <th>mean</th>\n",
       "      <th>std</th>\n",
       "      <th>min</th>\n",
       "      <th>25%</th>\n",
       "      <th>50%</th>\n",
       "      <th>75%</th>\n",
       "      <th>max</th>\n",
       "    </tr>\n",
       "    <tr>\n",
       "      <th>region_type</th>\n",
       "      <th></th>\n",
       "      <th></th>\n",
       "      <th></th>\n",
       "      <th></th>\n",
       "      <th></th>\n",
       "      <th></th>\n",
       "      <th></th>\n",
       "      <th></th>\n",
       "    </tr>\n",
       "  </thead>\n",
       "  <tbody>\n",
       "    <tr>\n",
       "      <td>perturbed</td>\n",
       "      <td>2705.0</td>\n",
       "      <td>3.502033</td>\n",
       "      <td>4.720997</td>\n",
       "      <td>0.0</td>\n",
       "      <td>1.0</td>\n",
       "      <td>2.0</td>\n",
       "      <td>4.0</td>\n",
       "      <td>49.0</td>\n",
       "    </tr>\n",
       "    <tr>\n",
       "      <td>significant</td>\n",
       "      <td>210.0</td>\n",
       "      <td>3.352381</td>\n",
       "      <td>2.147574</td>\n",
       "      <td>0.0</td>\n",
       "      <td>2.0</td>\n",
       "      <td>3.0</td>\n",
       "      <td>4.0</td>\n",
       "      <td>13.0</td>\n",
       "    </tr>\n",
       "  </tbody>\n",
       "</table>\n",
       "</div>"
      ],
      "text/plain": [
       "            cCRE_count                                              \n",
       "                 count      mean       std  min  25%  50%  75%   max\n",
       "region_type                                                         \n",
       "perturbed       2705.0  3.502033  4.720997  0.0  1.0  2.0  4.0  49.0\n",
       "significant      210.0  3.352381  2.147574  0.0  2.0  3.0  4.0  13.0"
      ]
     },
     "execution_count": 41,
     "metadata": {},
     "output_type": "execute_result"
    }
   ],
   "source": [
    "plotdf_sub[[\"cCRE_count\",\"region_type\"]].groupby('region_type').describe()"
   ]
  },
  {
   "cell_type": "code",
   "execution_count": 42,
   "metadata": {},
   "outputs": [
    {
     "data": {
      "text/plain": [
       "array([<matplotlib.axes._subplots.AxesSubplot object at 0x2b010a60ac88>,\n",
       "       <matplotlib.axes._subplots.AxesSubplot object at 0x2b010a634b70>],\n",
       "      dtype=object)"
      ]
     },
     "execution_count": 42,
     "metadata": {},
     "output_type": "execute_result"
    },
    {
     "data": {
      "text/plain": [
       "<Figure size 720x360 with 0 Axes>"
      ]
     },
     "metadata": {},
     "output_type": "display_data"
    },
    {
     "data": {
      "image/png": "[encoded data removed]",
      "text/plain": [
       "<Figure size 432x288 with 2 Axes>"
      ]
     },
     "metadata": {
      "needs_background": "light"
     },
     "output_type": "display_data"
    }
   ],
   "source": [
    "fig = plt.figure(figsize = (10, 5))\n",
    " \n",
    "# creating the bar plot\n",
    "plotdf_sub['cCRE_count'].hist(by=plotdf_sub['region_type'], edgecolor='black') "
   ]
  },
  {
   "cell_type": "markdown",
   "metadata": {},
   "source": [
    "### Intersect with union DHSs\n",
    "\n",
    "File downloaded 2022-04-30 from UCSC table browser. <br>\n",
    "Notebook to prepare bed file: `20220430.encode.Figure1MetaAnalysis.AnnotationFiles.LRB`"
   ]
  },
  {
   "cell_type": "code",
   "execution_count": null,
   "metadata": {},
   "outputs": [],
   "source": [
    "# %%bash\n",
    "# cd /data/gersbachlab/lrb53/encodeCrisprWG/figure1meta/annotations\n",
    "# gunzip wgEncodeRegDnaseClustered.full.bed.hg38.bed.gz\n",
    "# wc -l wgEncodeRegDnaseClustered.full.bed.hg38.bed\n",
    "# gzip wgEncodeRegDnaseClustered.full.bed.hg38.bed"
   ]
  },
  {
   "cell_type": "code",
   "execution_count": 43,
   "metadata": {},
   "outputs": [
    {
     "name": "stdout",
     "output_type": "stream",
     "text": [
      "9709\n"
     ]
    }
   ],
   "source": [
    "%%bash\n",
    "module load bedtools2\n",
    "\n",
    "bedtools intersect \\\n",
    "-b k562meta/elementReference/combined/binnedgenome.int.k562.elementReference.20230415.merge.bed \\\n",
    "-a annotations/wgEncodeRegDnaseClustered.full.bed.hg38.bed.gz \\\n",
    "-wa -u | wc -l"
   ]
  },
  {
   "cell_type": "code",
   "execution_count": 44,
   "metadata": {},
   "outputs": [
    {
     "name": "stdout",
     "output_type": "stream",
     "text": [
      "460\n"
     ]
    }
   ],
   "source": [
    "%%bash\n",
    "module load bedtools2\n",
    "\n",
    "bedtools intersect \\\n",
    "-b k562meta/elementQuant/combined/binnedgenome.int.k562.elementQuant.20230415.merge.bed \\\n",
    "-a annotations/wgEncodeRegDnaseClustered.full.bed.hg38.bed.gz \\\n",
    "-wa -u | wc -l"
   ]
  },
  {
   "cell_type": "code",
   "execution_count": 45,
   "metadata": {},
   "outputs": [
    {
     "data": {
      "text/plain": [
       "0.4508744661277597"
      ]
     },
     "execution_count": 45,
     "metadata": {},
     "output_type": "execute_result"
    }
   ],
   "source": [
    "9709/2153371*100"
   ]
  },
  {
   "cell_type": "code",
   "execution_count": 46,
   "metadata": {},
   "outputs": [
    {
     "data": {
      "text/plain": [
       "3.354481149274411"
      ]
     },
     "execution_count": 46,
     "metadata": {},
     "output_type": "execute_result"
    }
   ],
   "source": [
    "460/13713*100"
   ]
  },
  {
   "cell_type": "markdown",
   "metadata": {},
   "source": [
    "### Intersect with cell-type specific DHSs"
   ]
  },
  {
   "cell_type": "code",
   "execution_count": 49,
   "metadata": {},
   "outputs": [],
   "source": [
    "# %%bash\n",
    "# cd annotations\n",
    "# cp annotationsk562.dnase.hg38.narrowPeak.bed.gz .\n",
    "# cp annotationsk562.atacseq.pseudoreppeaks.hg38.narrowPeak.gz ."
   ]
  },
  {
   "cell_type": "markdown",
   "metadata": {},
   "source": [
    "#### K562 DNase"
   ]
  },
  {
   "cell_type": "code",
   "execution_count": 50,
   "metadata": {},
   "outputs": [
    {
     "name": "stdout",
     "output_type": "stream",
     "text": [
      "1527\n"
     ]
    }
   ],
   "source": [
    "%%bash\n",
    "module load bedtools2\n",
    "\n",
    "bedtools intersect \\\n",
    "-b k562meta/elementReference/combined/binnedgenome.int.k562.elementReference.20230415.merge.bed \\\n",
    "-a annotations/k562.dnase.hg38.narrowPeak.bed.gz \\\n",
    "-wa -u | wc -l"
   ]
  },
  {
   "cell_type": "code",
   "execution_count": 51,
   "metadata": {},
   "outputs": [
    {
     "name": "stdout",
     "output_type": "stream",
     "text": [
      "261\n"
     ]
    }
   ],
   "source": [
    "%%bash\n",
    "module load bedtools2\n",
    "\n",
    "bedtools intersect \\\n",
    "-b k562meta/elementQuant/combined/binnedgenome.int.k562.elementQuant.20230415.merge.bed \\\n",
    "-a annotationsk562.dnase.hg38.narrowPeak.bed.gz \\\n",
    "-wa -u | wc -l"
   ]
  },
  {
   "cell_type": "code",
   "execution_count": 107,
   "metadata": {},
   "outputs": [],
   "source": [
    "# %%bash\n",
    "# cd /data/gersbachlab/lrb53/encodeCrisprWG/annotations\n",
    "# gunzip k562.dnase.hg38.narrowPeak.bed.gz\n",
    "# wc -l k562.dnase.hg38.narrowPeak.bed\n",
    "# gzip k562.dnase.hg38.narrowPeak.bed"
   ]
  },
  {
   "cell_type": "code",
   "execution_count": 52,
   "metadata": {},
   "outputs": [
    {
     "data": {
      "text/plain": [
       "0.01286208842580504"
      ]
     },
     "execution_count": 52,
     "metadata": {},
     "output_type": "execute_result"
    }
   ],
   "source": [
    "### percent perturbed of all DNase peaks\n",
    "1527/118721"
   ]
  },
  {
   "cell_type": "code",
   "execution_count": 54,
   "metadata": {},
   "outputs": [
    {
     "data": {
      "text/plain": [
       "0.17092337917485265"
      ]
     },
     "execution_count": 54,
     "metadata": {},
     "output_type": "execute_result"
    }
   ],
   "source": [
    "### percent DNase peaks perturbed that were significant\n",
    "261/1527"
   ]
  },
  {
   "cell_type": "markdown",
   "metadata": {},
   "source": [
    "#### K562 ATAC-seq"
   ]
  },
  {
   "cell_type": "code",
   "execution_count": 110,
   "metadata": {},
   "outputs": [
    {
     "name": "stdout",
     "output_type": "stream",
     "text": [
      "2592\n"
     ]
    }
   ],
   "source": [
    "%%bash\n",
    "module load bedtools2\n",
    "\n",
    "bedtools intersect \\\n",
    "-b k562meta/elementReference/combined/binnedgenome.int.k562.elementReference.20230415.merge.bed \\\n",
    "-a annotationsk562.atacseq.pseudoreppeaks.hg38.narrowPeak.gz \\\n",
    "-wa -u | wc -l"
   ]
  },
  {
   "cell_type": "code",
   "execution_count": 111,
   "metadata": {},
   "outputs": [
    {
     "name": "stdout",
     "output_type": "stream",
     "text": [
      "432\n"
     ]
    }
   ],
   "source": [
    "%%bash\n",
    "module load bedtools2\n",
    "\n",
    "bedtools intersect \\\n",
    "-b /data/gersbachlab/lrb53/encodeCrisprWG/figure1meta/released/outs/binnedgenome.int.SabetiEngreitz.elementQuant.20220523.hg38.bed \\\n",
    "-a annotationsk562.atacseq.pseudoreppeaks.hg38.narrowPeak.gz \\\n",
    "-wa -u | wc -l"
   ]
  },
  {
   "cell_type": "code",
   "execution_count": 112,
   "metadata": {},
   "outputs": [],
   "source": [
    "# %%bash\n",
    "# cd /data/gersbachlab/lrb53/encodeCrisprWG/annotations\n",
    "# gunzip k562.atacseq.pseudoreppeaks.hg38.narrowPeak.gz\n",
    "# wc -l k562.atacseq.pseudoreppeaks.hg38.narrowPeak\n",
    "# gzip k562.atacseq.pseudoreppeaks.hg38.narrowPeak"
   ]
  },
  {
   "cell_type": "code",
   "execution_count": 132,
   "metadata": {},
   "outputs": [
    {
     "data": {
      "text/plain": [
       "0.012713734953942141"
      ]
     },
     "execution_count": 132,
     "metadata": {},
     "output_type": "execute_result"
    }
   ],
   "source": [
    "### percent perturbed of all ATAC peaks\n",
    "2592/203874"
   ]
  },
  {
   "cell_type": "code",
   "execution_count": 133,
   "metadata": {},
   "outputs": [
    {
     "data": {
      "text/plain": [
       "0.16666666666666666"
      ]
     },
     "execution_count": 133,
     "metadata": {},
     "output_type": "execute_result"
    }
   ],
   "source": [
    "### percent ATAC peaks perturbed that were significant\n",
    "432/2592"
   ]
  },
  {
   "cell_type": "markdown",
   "metadata": {},
   "source": [
    "### 6. Cell-type specific H3K27ac peaks"
   ]
  },
  {
   "cell_type": "markdown",
   "metadata": {},
   "source": [
    "#### K562s\n",
    "\n",
    "Note: This is the only h3K27ac Histone ChIP dataset on the ENCODE portal but there is a warning for extremely low read depth. Was used in generating the v3 cCREs and is part of two reference epigenomes."
   ]
  },
  {
   "cell_type": "code",
   "execution_count": null,
   "metadata": {},
   "outputs": [],
   "source": [
    "# %%bash\n",
    "# cd annotations\n",
    "# wget -O k562.h3k27ac.peaks.hg38.narrowPeak.bed.gz https://www.encodeproject.org/files/ENCFF437DPT/@@download/ENCFF437DPT.bed.gz"
   ]
  },
  {
   "cell_type": "code",
   "execution_count": 57,
   "metadata": {},
   "outputs": [
    {
     "name": "stdout",
     "output_type": "stream",
     "text": [
      "1401\n"
     ]
    }
   ],
   "source": [
    "%%bash\n",
    "module load bedtools2\n",
    "\n",
    "bedtools intersect \\\n",
    "-b k562meta/elementReference/combined/binnedgenome.int.k562.elementReference.20230415.merge.bed \\\n",
    "-a annotations/k562.h3k27ac.peaks.hg38.narrowPeak.bed.gz \\\n",
    "-wa -u | wc -l"
   ]
  },
  {
   "cell_type": "code",
   "execution_count": 58,
   "metadata": {},
   "outputs": [
    {
     "name": "stdout",
     "output_type": "stream",
     "text": [
      "234\n"
     ]
    }
   ],
   "source": [
    "%%bash\n",
    "module load bedtools2\n",
    "\n",
    "bedtools intersect \\\n",
    "-b k562meta/elementQuant/combined/binnedgenome.int.k562.elementQuant.20230415.merge.bed \\\n",
    "-a annotations/k562.h3k27ac.peaks.hg38.narrowPeak.bed.gz \\\n",
    "-wa -u | wc -l"
   ]
  },
  {
   "cell_type": "code",
   "execution_count": 118,
   "metadata": {},
   "outputs": [],
   "source": [
    "# %%bash\n",
    "# cd /data/gersbachlab/lrb53/encodeCrisprWG/annotations\n",
    "# gunzip k562.h3k27ac.peaks.hg38.narrowPeak.bed.gz\n",
    "# wc -l k562.h3k27ac.peaks.hg38.narrowPeak.bed\n",
    "# gzip k562.h3k27ac.peaks.hg38.narrowPeak.bed"
   ]
  },
  {
   "cell_type": "code",
   "execution_count": 59,
   "metadata": {},
   "outputs": [
    {
     "data": {
      "text/plain": [
       "0.016413416591492203"
      ]
     },
     "execution_count": 59,
     "metadata": {},
     "output_type": "execute_result"
    }
   ],
   "source": [
    "### percent perturbed of all h3k27ac peaks\n",
    "1401/85357"
   ]
  },
  {
   "cell_type": "code",
   "execution_count": 60,
   "metadata": {},
   "outputs": [
    {
     "data": {
      "text/plain": [
       "0.1670235546038544"
      ]
     },
     "execution_count": 60,
     "metadata": {},
     "output_type": "execute_result"
    }
   ],
   "source": [
    "### percent h3k27ac peaks perturbed that were significant\n",
    "234/1401"
   ]
  },
  {
   "cell_type": "markdown",
   "metadata": {},
   "source": [
    "### Write summary file for K562 features and for the entire compiled targeted regions."
   ]
  },
  {
   "cell_type": "markdown",
   "metadata": {},
   "source": [
    "Note: The counts here are for the total number of features in the annotation files."
   ]
  },
  {
   "cell_type": "code",
   "execution_count": 136,
   "metadata": {},
   "outputs": [
    {
     "name": "stdout",
     "output_type": "stream",
     "text": [
      "Overwriting /data/gersbachlab/lrb53/encodeCrisprWG/figure1meta/released/outs/SabetiEngreitz.elementReferenceAndQuant.modalityadjustment.summarymetrics.csv\n"
     ]
    }
   ],
   "source": [
    "# %%writefile /data/gersbachlab/lrb53/encodeCrisprWG/figure1meta/released/outs/SabetiEngreitz.elementReferenceAndQuant.modalityadjustment.summarymetrics.csv\n",
    "# feature,pertubed,significant,total\n",
    "# union_ccREs,6350,504,1063878\n",
    "# K562_ccREs,5553,441,926535,\n",
    "# union_DNase,9512,460,2113371,\n",
    "# K562_DNase,1508,261,118721,\n",
    "# K562_ATAC,2592,432,203874\n",
    "# K562_H3K27ac,1382,234,85357,\n"
   ]
  },
  {
   "cell_type": "code",
   "execution_count": null,
   "metadata": {},
   "outputs": [],
   "source": []
  },
  {
   "cell_type": "markdown",
   "metadata": {},
   "source": [
    "### Intersect significant and perturbed regions with K562 and `union` features"
   ]
  },
  {
   "cell_type": "code",
   "execution_count": 61,
   "metadata": {},
   "outputs": [],
   "source": [
    "# %%bash\n",
    "# mkdir -p k562meta/outs/upset"
   ]
  },
  {
   "cell_type": "code",
   "execution_count": null,
   "metadata": {},
   "outputs": [],
   "source": [
    "# %%bash\n",
    "# cd annotations\n",
    "\n",
    "# wget -O k562.h3k4me1.pseudoreppeaks.hg38.narrowPeak.bed.gz https://www.encodeproject.org/files/ENCFF759NWD/@@download/ENCFF759NWD.bed.gz\n",
    "# wget -O k562.h3k4me3.pseudoreppeaks.hg38.narrowPeak.bed.gz https://www.encodeproject.org/files/ENCFF885FQN/@@download/ENCFF885FQN.bed.gz\n",
    "# wget -O k562.h3k9me3.reppeaks.hg38.narrowPeak.bed.gz https://www.encodeproject.org/files/ENCFF963GZJ/@@download/ENCFF963GZJ.bed.gz\n",
    "# wget -O k562.h3k27me3.pseudoreppeaks.hg38.narrowPeak.bed.gz https://www.encodeproject.org/files/ENCFF801AHF/@@download/ENCFF801AHF.bed.gz\n",
    "# wget -O k562.ep300.IDRpeaks.hg38.narrowPeak.bed.gz https://www.encodeproject.org/files/ENCFF702XPO/@@download/ENCFF702XPO.bed.gz\n",
    "# wget -O k562.ctcf.IDRpeaks.hg38.narrowPeak.bed.gz https://www.encodeproject.org/files/ENCFF660GHM/@@download/ENCFF660GHM.bed.gz\n",
    "# wget -O k562.polr2a.IDRpeaks.hg38.narrowPeak.bed.gz https://www.encodeproject.org/files/ENCFF355MNE/@@download/ENCFF355MNE.bed.gz"
   ]
  },
  {
   "cell_type": "markdown",
   "metadata": {},
   "source": [
    "#### Significant CREs"
   ]
  },
  {
   "cell_type": "code",
   "execution_count": 66,
   "metadata": {},
   "outputs": [],
   "source": [
    "%%bash\n",
    "module load bedtools2\n",
    "\n",
    "# input --> output description:\n",
    "### for each intersection, the binned genome regions containing min. 1 perturbation are intersected with the feature of interest,\n",
    "### then, the feature in 'a' (bin with overlap) is reported, with duplicates removed\n",
    "### final output will contain a list of the regions containing perturbations that ALSO overlap a feature in the annotation\n",
    "### each output will contain coordinates/regions from the initial bin set, not from the annotation files\n",
    "\n",
    "cd k562meta/outs/upset\n",
    "\n",
    "### All cCREs\n",
    "bedtools intersect \\\n",
    "-a k562meta/elementQuant/combined/binnedgenome.int.k562.elementQuant.20230415.merge.bed \\\n",
    "-b annotations/encode.ccres.v4.hg38.bed.gz \\\n",
    "-wa -u > binned.k562.elementQuant.allccres.txt\n",
    "\n",
    "### Union DHSs\n",
    "bedtools intersect \\\n",
    "-a k562meta/elementQuant/combined/binnedgenome.int.k562.elementQuant.20230415.merge.bed \\\n",
    "-b /data/gersbachlab/lrb53/encodeCrisprWG/figure1meta/annotations/wgEncodeRegDnaseClustered.full.bed.hg38.bed.gz \\\n",
    "-wa -u > binned.k562.elementQuant.uniondnase.txt\n",
    "\n",
    "### K562 ATAC\n",
    "bedtools intersect \\\n",
    "-a k562meta/elementQuant/combined/binnedgenome.int.k562.elementQuant.20230415.merge.bed \\\n",
    "-b annotations/k562.atacseq.pseudoreppeaks.hg38.narrowPeak.gz \\\n",
    "-wa -u > binned.k562.elementQuant.k562atac.txt\n",
    "\n",
    "### K562 DNase\n",
    "bedtools intersect \\\n",
    "-a k562meta/elementQuant/combined/binnedgenome.int.k562.elementQuant.20230415.merge.bed \\\n",
    "-b annotations/k562.dnase.hg38.narrowPeak.bed.gz \\\n",
    "-wa -u > binned.k562.elementQuant.k562dnase.txt\n",
    "\n",
    "### K562 cCREs\n",
    "bedtools intersect \\\n",
    "-a k562meta/elementQuant/combined/binnedgenome.int.k562.elementQuant.20230415.merge.bed \\\n",
    "-b annotations/k562.ccres.v4.hg38.bed.gz \\\n",
    "-wa -u > binned.k562.elementQuant.k562ccres.txt\n",
    "\n",
    "### K562 H3K27ac\n",
    "bedtools intersect \\\n",
    "-a k562meta/elementQuant/combined/binnedgenome.int.k562.elementQuant.20230415.merge.bed \\\n",
    "-b annotations/k562.h3k27ac.peaks.hg38.narrowPeak.bed.gz \\\n",
    "-wa -u > binned.k562.elementQuant.k562h3k27ac.txt\n",
    "\n",
    "### K562 H3K4me1\n",
    "bedtools intersect \\\n",
    "-a k562meta/elementQuant/combined/binnedgenome.int.k562.elementQuant.20230415.merge.bed \\\n",
    "-b annotations/k562.h3k4me1.pseudoreppeaks.hg38.narrowPeak.bed.gz \\\n",
    "-wa -u > binned.k562.elementQuant.k562h3k4me1.txt\n",
    "\n",
    "### K562 H3K4me3\n",
    "bedtools intersect \\\n",
    "-a k562meta/elementQuant/combined/binnedgenome.int.k562.elementQuant.20230415.merge.bed \\\n",
    "-b annotations/k562.h3k4me3.pseudoreppeaks.hg38.narrowPeak.bed.gz \\\n",
    "-wa -u > binned.k562.elementQuant.k562h3k4me3.txt\n",
    "\n",
    "### K562 H3K9me9\n",
    "bedtools intersect \\\n",
    "-a k562meta/elementQuant/combined/binnedgenome.int.k562.elementQuant.20230415.merge.bed \\\n",
    "-b annotations/k562.h3k9me3.reppeaks.hg38.narrowPeak.bed.gz \\\n",
    "-wa -u > binned.k562.elementQuant.k562h3k9me3.txt\n",
    "\n",
    "### K562 H3K27me3\n",
    "bedtools intersect \\\n",
    "-a k562meta/elementQuant/combined/binnedgenome.int.k562.elementQuant.20230415.merge.bed \\\n",
    "-b annotations/k562.h3k27me3.pseudoreppeaks.hg38.narrowPeak.bed.gz \\\n",
    "-wa -u > binned.k562.elementQuant.k562h3k27me3.txt\n",
    "\n",
    "### K562 EP300\n",
    "bedtools intersect \\\n",
    "-a k562meta/elementQuant/combined/binnedgenome.int.k562.elementQuant.20230415.merge.bed \\\n",
    "-b annotations/k562.ep300.IDRpeaks.hg38.narrowPeak.bed.gz \\\n",
    "-wa -u > binned.k562.elementQuant.k562ep300.txt\n",
    "\n",
    "### K562 CTCF\n",
    "bedtools intersect \\\n",
    "-a k562meta/elementQuant/combined/binnedgenome.int.k562.elementQuant.20230415.merge.bed \\\n",
    "-b annotations/k562.ctcf.IDRpeaks.hg38.narrowPeak.bed.gz \\\n",
    "-wa -u > binned.k562.elementQuant.k562ctcf.txt\n",
    "\n",
    "### K562 POLR2A\n",
    "bedtools intersect \\\n",
    "-a k562meta/elementQuant/combined/binnedgenome.int.k562.elementQuant.20230415.merge.bed \\\n",
    "-b annotations/k562.polr2a.IDRpeaks.hg38.narrowPeak.bed.gz \\\n",
    "-wa -u > binned.k562.elementQuant.k562polr2a.txt\n",
    "\n"
   ]
  },
  {
   "cell_type": "markdown",
   "metadata": {},
   "source": [
    "#### Perturbed regions"
   ]
  },
  {
   "cell_type": "code",
   "execution_count": 67,
   "metadata": {},
   "outputs": [],
   "source": [
    "%%bash\n",
    "module load bedtools2\n",
    "\n",
    "# input --> output description:\n",
    "### for each intersection, the binned genome regions containing min. 1 perturbation are intersected with the feature of interest,\n",
    "### then, the feature in 'a' (bin with overlap) is reported, with duplicates removed\n",
    "### final output will contain a list of the regions containing perturbations that ALSO overlap a feature in the annotation\n",
    "### each output will contain coordinates/regions from the initial bin set, not from the annotation files\n",
    "\n",
    "cd k562meta/outs/upset\n",
    "\n",
    "### All cCREs\n",
    "bedtools intersect \\\n",
    "-a k562meta/elementReference/combined/binnedgenome.int.k562.elementReference.20230415.merge.bed \\\n",
    "-b annotations/encode.ccres.v4.hg38.bed.gz \\\n",
    "-wa -u > binned.k562.elementReference.allccres.txt\n",
    "\n",
    "### Union DHSs\n",
    "bedtools intersect \\\n",
    "-a k562meta/elementReference/combined/binnedgenome.int.k562.elementReference.20230415.merge.bed \\\n",
    "-b /data/gersbachlab/lrb53/encodeCrisprWG/figure1meta/annotations/wgEncodeRegDnaseClustered.full.bed.hg38.bed.gz \\\n",
    "-wa -u > binned.k562.elementReference.uniondnase.txt\n",
    "\n",
    "### K562 ATAC\n",
    "bedtools intersect \\\n",
    "-a k562meta/elementReference/combined/binnedgenome.int.k562.elementReference.20230415.merge.bed \\\n",
    "-b annotations/k562.atacseq.pseudoreppeaks.hg38.narrowPeak.gz \\\n",
    "-wa -u > binned.k562.elementReference.k562atac.txt\n",
    "\n",
    "### K562 DNase\n",
    "bedtools intersect \\\n",
    "-a k562meta/elementReference/combined/binnedgenome.int.k562.elementReference.20230415.merge.bed \\\n",
    "-b annotations/k562.dnase.hg38.narrowPeak.bed.gz \\\n",
    "-wa -u > binned.k562.elementReference.k562dnase.txt\n",
    "\n",
    "### K562 cCREs\n",
    "bedtools intersect \\\n",
    "-a k562meta/elementReference/combined/binnedgenome.int.k562.elementReference.20230415.merge.bed \\\n",
    "-b annotations/k562.ccres.v4.hg38.bed.gz \\\n",
    "-wa -u > binned.k562.elementReference.k562ccres.txt\n",
    "\n",
    "### K562 H3K27ac\n",
    "bedtools intersect \\\n",
    "-a k562meta/elementReference/combined/binnedgenome.int.k562.elementReference.20230415.merge.bed \\\n",
    "-b annotations/k562.h3k27ac.peaks.hg38.narrowPeak.bed.gz \\\n",
    "-wa -u > binned.k562.elementReference.k562h3k27ac.txt\n",
    "\n",
    "### K562 H3K4me1\n",
    "bedtools intersect \\\n",
    "-a k562meta/elementReference/combined/binnedgenome.int.k562.elementReference.20230415.merge.bed \\\n",
    "-b annotations/k562.h3k4me1.pseudoreppeaks.hg38.narrowPeak.bed.gz \\\n",
    "-wa -u > binned.k562.elementReference.k562h3k4me1.txt\n",
    "\n",
    "### K562 H3K4me3\n",
    "bedtools intersect \\\n",
    "-a k562meta/elementReference/combined/binnedgenome.int.k562.elementReference.20230415.merge.bed \\\n",
    "-b annotations/k562.h3k4me3.pseudoreppeaks.hg38.narrowPeak.bed.gz \\\n",
    "-wa -u > binned.k562.elementReference.k562h3k4me3.txt\n",
    "\n",
    "### K562 H3K9me9\n",
    "bedtools intersect \\\n",
    "-a k562meta/elementReference/combined/binnedgenome.int.k562.elementReference.20230415.merge.bed \\\n",
    "-b annotations/k562.h3k9me3.reppeaks.hg38.narrowPeak.bed.gz \\\n",
    "-wa -u > binned.k562.elementReference.k562h3k9me3.txt\n",
    "\n",
    "### K562 H3K27me3\n",
    "bedtools intersect \\\n",
    "-a k562meta/elementReference/combined/binnedgenome.int.k562.elementReference.20230415.merge.bed \\\n",
    "-b annotations/k562.h3k27me3.pseudoreppeaks.hg38.narrowPeak.bed.gz \\\n",
    "-wa -u > binned.k562.elementReference.k562h3k27me3.txt\n",
    "\n",
    "### K562 EP300\n",
    "bedtools intersect \\\n",
    "-a k562meta/elementReference/combined/binnedgenome.int.k562.elementReference.20230415.merge.bed \\\n",
    "-b annotations/k562.ep300.IDRpeaks.hg38.narrowPeak.bed.gz \\\n",
    "-wa -u > binned.k562.elementReference.k562ep300.txt\n",
    "\n",
    "### K562 CTCF\n",
    "bedtools intersect \\\n",
    "-a k562meta/elementReference/combined/binnedgenome.int.k562.elementReference.20230415.merge.bed \\\n",
    "-b annotations/k562.ctcf.IDRpeaks.hg38.narrowPeak.bed.gz \\\n",
    "-wa -u > binned.k562.elementReference.k562ctcf.txt\n",
    "\n",
    "### K562 POLR2A\n",
    "bedtools intersect \\\n",
    "-a k562meta/elementReference/combined/binnedgenome.int.k562.elementReference.20230415.merge.bed \\\n",
    "-b annotations/k562.polr2a.IDRpeaks.hg38.narrowPeak.bed.gz \\\n",
    "-wa -u > binned.k562.elementReference.k562polr2a.txt\n",
    "\n"
   ]
  },
  {
   "cell_type": "markdown",
   "metadata": {},
   "source": [
    "### Compare signal between perturbed, significant regions"
   ]
  },
  {
   "cell_type": "markdown",
   "metadata": {},
   "source": [
    "#### Download bigWig files, then convert to bedGraph"
   ]
  },
  {
   "cell_type": "code",
   "execution_count": null,
   "metadata": {},
   "outputs": [],
   "source": [
    "# %%bash\n",
    "# cd /data/gersbachlab/lrb53/encodeCrisprWG/annotations\n",
    "# wget https://www.encodeproject.org/files/ENCFF849TDM/@@download/ENCFF849TDM.bigWig -O k562.h3k27ac.foldchange.bigWig\n",
    "# wget https://www.encodeproject.org/files/ENCFF754EAC/@@download/ENCFF754EAC.bigWig -O k562.atac.foldchange.bigWig\n",
    "# wget https://www.encodeproject.org/files/ENCFF972GVB/@@download/ENCFF972GVB.bigWig -O k562.dnase.foldchange.bigWig"
   ]
  },
  {
   "cell_type": "code",
   "execution_count": 7,
   "metadata": {
    "scrolled": true
   },
   "outputs": [],
   "source": [
    "%%bash\n",
    "# cd /data/gersbachlab/Software/\n",
    "# chmod a+x bigWigToBedGraph\n",
    "\n",
    "# ./bigWigToBedGraph annotations/k562.h3k27ac.foldchange.bigWig annotations/k562.h3k27ac.foldchange.bdg\n",
    "# ./bigWigToBedGraph annotations/k562.atac.foldchange.bigWig annotations/k562.atac.foldchange.bdg\n",
    "# ./bigWigToBedGraph annotations/k562.dnase.foldchange.bigWig annotations/k562.dnase.foldchange.bdg\n"
   ]
  },
  {
   "cell_type": "code",
   "execution_count": 70,
   "metadata": {},
   "outputs": [
    {
     "name": "stdout",
     "output_type": "stream",
     "text": [
      "encode.ccres.v3.hg38.bed\n",
      "encode.ccres.v4.hg38.bed.gz\n",
      "k562.atac.foldchange.bdg\n",
      "k562.atacseq.pseudoreppeaks.hg38.narrowPeak.gz\n",
      "k562.ccres.v4.hg38.bed.gz\n",
      "k562.ctcf.foldchange.bdg\n",
      "k562.ctcf.IDRpeaks.hg38.narrowPeak.bed.gz\n",
      "k562.dnase.foldchange.bdg\n",
      "k562.dnase.hg38.narrowPeak.bed.gz\n",
      "k562.ep300.foldchange.bdg\n",
      "k562.ep300.IDRpeaks.hg38.narrowPeak.bed.gz\n",
      "k562.h3k27ac.foldchange.bdg\n",
      "k562.h3k27ac.peaks.hg38.narrowPeak.bed.gz\n",
      "k562.h3k27me3.foldchange.bdg\n",
      "k562.h3k27me3.pseudoreppeaks.hg38.narrowPeak.bed.gz\n",
      "k562.h3k4me1.foldchange.bdg\n",
      "k562.h3k4me1.pseudoreppeaks.hg38.narrowPeak.bed.gz\n",
      "k562.h3k4me3.foldchange.bdg\n",
      "k562.h3k4me3.pseudoreppeaks.hg38.narrowPeak.bed.gz\n",
      "k562.h3k9me3.foldchange.bdg\n",
      "k562.h3k9me3.reppeaks.hg38.narrowPeak.bed.gz\n",
      "k562.polr2a.foldchange.bdg\n",
      "k562.polr2a.IDRpeaks.hg38.narrowPeak.bed.gz\n",
      "wgEncodeRegDnaseClustered.full.bed.hg38.bed.gz\n"
     ]
    }
   ],
   "source": [
    "%%bash\n",
    "cd annotations/\n",
    "cp /data/gersbachlab/lrb53/encodeCrisprWG/annotations/*.bdg .\n",
    "ls"
   ]
  },
  {
   "cell_type": "code",
   "execution_count": 72,
   "metadata": {},
   "outputs": [
    {
     "name": "stdout",
     "output_type": "stream",
     "text": [
      "chr1\t0\t10020\t0\n",
      "chr1\t0\t9914\t0\n",
      "chr1\t0\t13260\t0\n"
     ]
    }
   ],
   "source": [
    "%%bash\n",
    "head annotations/k562.h3k27ac.foldchange.bdg -n 1\n",
    "head annotations/k562.atac.foldchange.bdg -n 1\n",
    "head annotations/k562.dnase.foldchange.bdg -n 1"
   ]
  },
  {
   "cell_type": "markdown",
   "metadata": {},
   "source": [
    "### Intersect with region bdg files, save output (make plots in R)"
   ]
  },
  {
   "cell_type": "markdown",
   "metadata": {},
   "source": [
    "#### Significant CREs"
   ]
  },
  {
   "cell_type": "code",
   "execution_count": 73,
   "metadata": {},
   "outputs": [],
   "source": [
    "%%bash\n",
    "mkdir -p k562meta/outs/comparesignal"
   ]
  },
  {
   "cell_type": "code",
   "execution_count": 1,
   "metadata": {},
   "outputs": [
    {
     "name": "stdout",
     "output_type": "stream",
     "text": [
      "chr11\t5248799\t5248801\t0.66783\tchr11\t5248800\t5249100\n"
     ]
    }
   ],
   "source": [
    "%%bash\n",
    "module load bedtools2\n",
    "\n",
    "cd k562meta/outs/comparesignal\n",
    "\n",
    "bedtools intersect \\\n",
    "-b k562meta/elementQuant/combined/binnedgenome.int.k562.elementQuant.20230415.merge.bed \\\n",
    "-a annotations/k562.atac.foldchange.bdg \\\n",
    "-wa -wb > binnedgenome.int.k562.elementQuant.int.k562.atac.foldchange.txt\n",
    "\n",
    "head binnedgenome.int.k562.elementQuant.int.k562.atac.foldchange.txt -n 1"
   ]
  },
  {
   "cell_type": "code",
   "execution_count": 2,
   "metadata": {},
   "outputs": [
    {
     "name": "stdout",
     "output_type": "stream",
     "text": [
      "chr11\t5248800\t5248820\t0.00914174\tchr11\t5248800\t5249100\n"
     ]
    }
   ],
   "source": [
    "%%bash\n",
    "module load bedtools2\n",
    "\n",
    "cd k562meta/outs/comparesignal\n",
    "\n",
    "bedtools intersect \\\n",
    "-b k562meta/elementQuant/combined/binnedgenome.int.k562.elementQuant.20230415.merge.bed \\\n",
    "-a annotations/k562.dnase.foldchange.bdg \\\n",
    "-wa -wb > binnedgenome.int.k562.elementQuant.int.k562.dnase.foldchange.txt\n",
    "\n",
    "head binnedgenome.int.k562.elementQuant.int.k562.dnase.foldchange.txt -n 1"
   ]
  },
  {
   "cell_type": "code",
   "execution_count": 3,
   "metadata": {},
   "outputs": [
    {
     "name": "stdout",
     "output_type": "stream",
     "text": [
      "chr11\t5248787\t5248807\t9.73495\tchr11\t5248800\t5249100\n"
     ]
    }
   ],
   "source": [
    "%%bash\n",
    "module load bedtools2\n",
    "\n",
    "cd k562meta/outs/comparesignal\n",
    "\n",
    "bedtools intersect \\\n",
    "-b k562meta/elementQuant/combined/binnedgenome.int.k562.elementQuant.20230415.merge.bed \\\n",
    "-a annotations/k562.h3k27ac.foldchange.bdg \\\n",
    "-wa -wb > binnedgenome.int.k562.elementQuant.int.k562.h3k27ac.foldchange.txt\n",
    "\n",
    "head binnedgenome.int.k562.elementQuant.int.k562.h3k27ac.foldchange.txt -n 1"
   ]
  },
  {
   "cell_type": "code",
   "execution_count": 4,
   "metadata": {},
   "outputs": [
    {
     "name": "stdout",
     "output_type": "stream",
     "text": [
      "chr11\t5248793\t5248802\t0.48902\tchr11\t5248800\t5249100\n"
     ]
    }
   ],
   "source": [
    "%%bash\n",
    "module load bedtools2\n",
    "\n",
    "cd k562meta/outs/comparesignal\n",
    "\n",
    "bedtools intersect \\\n",
    "-b k562meta/elementQuant/combined/binnedgenome.int.k562.elementQuant.20230415.merge.bed \\\n",
    "-a annotations/k562.h3k4me1.foldchange.bdg \\\n",
    "-wa -wb > binnedgenome.int.k562.elementQuant.int.k562.h3k4me1.foldchange.txt\n",
    "\n",
    "head binnedgenome.int.k562.elementQuant.int.k562.h3k4me1.foldchange.txt -n 1"
   ]
  },
  {
   "cell_type": "code",
   "execution_count": 5,
   "metadata": {},
   "outputs": [
    {
     "name": "stdout",
     "output_type": "stream",
     "text": [
      "chr11\t5248789\t5248801\t10.4145\tchr11\t5248800\t5249100\n"
     ]
    }
   ],
   "source": [
    "%%bash\n",
    "module load bedtools2\n",
    "\n",
    "cd k562meta/outs/comparesignal\n",
    "\n",
    "bedtools intersect \\\n",
    "-b k562meta/elementQuant/combined/binnedgenome.int.k562.elementQuant.20230415.merge.bed \\\n",
    "-a annotations/k562.h3k4me3.foldchange.bdg \\\n",
    "-wa -wb > binnedgenome.int.k562.elementQuant.int.k562.h3k4me3.foldchange.txt\n",
    "\n",
    "head binnedgenome.int.k562.elementQuant.int.k562.h3k4me3.foldchange.txt -n 1"
   ]
  },
  {
   "cell_type": "code",
   "execution_count": 6,
   "metadata": {},
   "outputs": [
    {
     "name": "stdout",
     "output_type": "stream",
     "text": [
      "chr11\t5248787\t5248820\t0.30212\tchr11\t5248800\t5249100\n"
     ]
    }
   ],
   "source": [
    "%%bash\n",
    "module load bedtools2\n",
    "\n",
    "cd k562meta/outs/comparesignal\n",
    "\n",
    "bedtools intersect \\\n",
    "-b k562meta/elementQuant/combined/binnedgenome.int.k562.elementQuant.20230415.merge.bed \\\n",
    "-a annotations/k562.h3k9me3.foldchange.bdg \\\n",
    "-wa -wb > binnedgenome.int.k562.elementQuant.int.k562.h3k9me3.foldchange.txt\n",
    "\n",
    "head binnedgenome.int.k562.elementQuant.int.k562.h3k9me3.foldchange.txt -n 1"
   ]
  },
  {
   "cell_type": "code",
   "execution_count": 7,
   "metadata": {},
   "outputs": [
    {
     "name": "stdout",
     "output_type": "stream",
     "text": [
      "chr11\t5248788\t5248805\t0.53727\tchr11\t5248800\t5249100\n"
     ]
    }
   ],
   "source": [
    "%%bash\n",
    "module load bedtools2\n",
    "\n",
    "cd k562meta/outs/comparesignal\n",
    "\n",
    "bedtools intersect \\\n",
    "-b k562meta/elementQuant/combined/binnedgenome.int.k562.elementQuant.20230415.merge.bed \\\n",
    "-a annotations/k562.h3k27me3.foldchange.bdg \\\n",
    "-wa -wb > binnedgenome.int.k562.elementQuant.int.k562.h3k27me3.foldchange.txt\n",
    "\n",
    "head binnedgenome.int.k562.elementQuant.int.k562.h3k27me3.foldchange.txt -n 1"
   ]
  },
  {
   "cell_type": "code",
   "execution_count": 8,
   "metadata": {},
   "outputs": [
    {
     "name": "stdout",
     "output_type": "stream",
     "text": [
      "chr11\t5248772\t5248805\t1.75008\tchr11\t5248800\t5249100\n"
     ]
    }
   ],
   "source": [
    "%%bash\n",
    "module load bedtools2\n",
    "\n",
    "cd k562meta/outs/comparesignal\n",
    "\n",
    "bedtools intersect \\\n",
    "-b k562meta/elementQuant/combined/binnedgenome.int.k562.elementQuant.20230415.merge.bed \\\n",
    "-a annotations/k562.ep300.foldchange.bdg \\\n",
    "-wa -wb > binnedgenome.int.k562.elementQuant.int.k562.ep300.foldchange.txt\n",
    "\n",
    "head binnedgenome.int.k562.elementQuant.int.k562.ep300.foldchange.txt -n 1"
   ]
  },
  {
   "cell_type": "code",
   "execution_count": 9,
   "metadata": {},
   "outputs": [
    {
     "name": "stdout",
     "output_type": "stream",
     "text": [
      "chr11\t5248778\t5248837\t0.26093\tchr11\t5248800\t5249100\n"
     ]
    }
   ],
   "source": [
    "%%bash\n",
    "module load bedtools2\n",
    "\n",
    "cd k562meta/outs/comparesignal\n",
    "\n",
    "bedtools intersect \\\n",
    "-b k562meta/elementQuant/combined/binnedgenome.int.k562.elementQuant.20230415.merge.bed \\\n",
    "-a annotations/k562.ctcf.foldchange.bdg \\\n",
    "-wa -wb > binnedgenome.int.k562.elementQuant.int.k562.ctcf.foldchange.txt\n",
    "\n",
    "head binnedgenome.int.k562.elementQuant.int.k562.ctcf.foldchange.txt -n 1"
   ]
  },
  {
   "cell_type": "code",
   "execution_count": 1,
   "metadata": {},
   "outputs": [
    {
     "name": "stdout",
     "output_type": "stream",
     "text": [
      "chr11\t5248800\t5248802\t2.32402\tchr11\t5248800\t5249100\n"
     ]
    }
   ],
   "source": [
    "%%bash\n",
    "module load bedtools2\n",
    "\n",
    "cd k562meta/outs/comparesignal\n",
    "\n",
    "bedtools intersect \\\n",
    "-b k562meta/elementQuant/combined/binnedgenome.int.k562.elementQuant.20230415.merge.bed \\\n",
    "-a annotations/k562.polr2a.foldchange.bdg \\\n",
    "-wa -wb > binnedgenome.int.k562.elementQuant.int.k562.polr2a.foldchange.txt\n",
    "\n",
    "head binnedgenome.int.k562.elementQuant.int.k562.polr2a.foldchange.txt -n 1"
   ]
  },
  {
   "cell_type": "code",
   "execution_count": 2,
   "metadata": {},
   "outputs": [
    {
     "name": "stdout",
     "output_type": "stream",
     "text": [
      "chr11\t5248800\t5248802\t2.32402\tchr11\t5248800\t5249100\n"
     ]
    }
   ],
   "source": [
    "%%bash\n",
    "module load bedtools2\n",
    "\n",
    "cd k562meta/outs/comparesignal\n",
    "\n",
    "bedtools intersect \\\n",
    "-b k562meta/elementQuant/combined/binnedgenome.int.k562.elementQuant.20230415.merge.bed \\\n",
    "-a annotations/k562.polr2a.foldchange.bdg \\\n",
    "-wa -wb > binnedgenome.int.k562.elementQuant.int.k562.polr2a.foldchange.txt\n",
    "\n",
    "head binnedgenome.int.k562.elementQuant.int.k562.polr2a.foldchange.txt -n 1"
   ]
  },
  {
   "cell_type": "markdown",
   "metadata": {},
   "source": [
    "#### Perturbed regions"
   ]
  },
  {
   "cell_type": "code",
   "execution_count": 3,
   "metadata": {},
   "outputs": [
    {
     "name": "stdout",
     "output_type": "stream",
     "text": [
      "chr11\t4091699\t4091701\t0.2404\tchr11\t4091700\t4092700\n"
     ]
    }
   ],
   "source": [
    "%%bash\n",
    "module load bedtools2\n",
    "\n",
    "cd k562meta/outs/comparesignal\n",
    "\n",
    "bedtools intersect \\\n",
    "-b k562meta/elementReference/combined/binnedgenome.int.k562.elementReference.20230415.merge.bed \\\n",
    "-a annotations/k562.atac.foldchange.bdg \\\n",
    "-wa -wb > binnedgenome.int.k562.elementReference.int.k562.atac.foldchange.txt\n",
    "\n",
    "head binnedgenome.int.k562.elementReference.int.k562.atac.foldchange.txt -n 1"
   ]
  },
  {
   "cell_type": "code",
   "execution_count": 4,
   "metadata": {},
   "outputs": [
    {
     "name": "stdout",
     "output_type": "stream",
     "text": [
      "chr11\t4091700\t4091740\t0.0883702\tchr11\t4091700\t4092700\n"
     ]
    }
   ],
   "source": [
    "%%bash\n",
    "module load bedtools2\n",
    "\n",
    "cd k562meta/outs/comparesignal\n",
    "\n",
    "bedtools intersect \\\n",
    "-b k562meta/elementReference/combined/binnedgenome.int.k562.elementReference.20230415.merge.bed \\\n",
    "-a annotations/k562.dnase.foldchange.bdg \\\n",
    "-wa -wb > binnedgenome.int.k562.elementReference.int.k562.dnase.foldchange.txt\n",
    "\n",
    "head binnedgenome.int.k562.elementReference.int.k562.dnase.foldchange.txt -n 1"
   ]
  },
  {
   "cell_type": "code",
   "execution_count": 5,
   "metadata": {},
   "outputs": [
    {
     "name": "stdout",
     "output_type": "stream",
     "text": [
      "chr11\t4091696\t4091752\t4.11177\tchr11\t4091700\t4092700\n"
     ]
    }
   ],
   "source": [
    "%%bash\n",
    "module load bedtools2\n",
    "\n",
    "cd k562meta/outs/comparesignal\n",
    "\n",
    "bedtools intersect \\\n",
    "-b k562meta/elementReference/combined/binnedgenome.int.k562.elementReference.20230415.merge.bed \\\n",
    "-a annotations/k562.h3k27ac.foldchange.bdg \\\n",
    "-wa -wb > binnedgenome.int.k562.elementReference.int.k562.h3k27ac.foldchange.txt\n",
    "\n",
    "head binnedgenome.int.k562.elementReference.int.k562.h3k27ac.foldchange.txt -n 1"
   ]
  },
  {
   "cell_type": "code",
   "execution_count": 6,
   "metadata": {},
   "outputs": [
    {
     "name": "stdout",
     "output_type": "stream",
     "text": [
      "chr11\t4091695\t4091706\t8.59226\tchr11\t4091700\t4092700\n"
     ]
    }
   ],
   "source": [
    "%%bash\n",
    "module load bedtools2\n",
    "\n",
    "cd k562meta/outs/comparesignal\n",
    "\n",
    "bedtools intersect \\\n",
    "-b k562meta/elementReference/combined/binnedgenome.int.k562.elementReference.20230415.merge.bed \\\n",
    "-a annotations/k562.h3k4me1.foldchange.bdg \\\n",
    "-wa -wb > binnedgenome.int.k562.elementReference.int.k562.h3k4me1.foldchange.txt\n",
    "\n",
    "head binnedgenome.int.k562.elementReference.int.k562.h3k4me1.foldchange.txt -n 1"
   ]
  },
  {
   "cell_type": "code",
   "execution_count": 7,
   "metadata": {},
   "outputs": [
    {
     "name": "stdout",
     "output_type": "stream",
     "text": [
      "chr11\t4091695\t4091709\t0.90235\tchr11\t4091700\t4092700\n"
     ]
    }
   ],
   "source": [
    "%%bash\n",
    "module load bedtools2\n",
    "\n",
    "cd k562meta/outs/comparesignal\n",
    "\n",
    "bedtools intersect \\\n",
    "-b k562meta/elementReference/combined/binnedgenome.int.k562.elementReference.20230415.merge.bed \\\n",
    "-a annotations/k562.h3k4me3.foldchange.bdg \\\n",
    "-wa -wb > binnedgenome.int.k562.elementReference.int.k562.h3k4me3.foldchange.txt\n",
    "\n",
    "head binnedgenome.int.k562.elementReference.int.k562.h3k4me3.foldchange.txt -n 1"
   ]
  },
  {
   "cell_type": "code",
   "execution_count": 8,
   "metadata": {},
   "outputs": [
    {
     "name": "stdout",
     "output_type": "stream",
     "text": [
      "chr11\t4091576\t4091769\t0\tchr11\t4091700\t4092700\n"
     ]
    }
   ],
   "source": [
    "%%bash\n",
    "module load bedtools2\n",
    "\n",
    "cd k562meta/outs/comparesignal\n",
    "\n",
    "bedtools intersect \\\n",
    "-b k562meta/elementReference/combined/binnedgenome.int.k562.elementReference.20230415.merge.bed \\\n",
    "-a annotations/k562.h3k9me3.foldchange.bdg \\\n",
    "-wa -wb > binnedgenome.int.k562.elementReference.int.k562.h3k9me3.foldchange.txt\n",
    "\n",
    "head binnedgenome.int.k562.elementReference.int.k562.h3k9me3.foldchange.txt -n 1"
   ]
  },
  {
   "cell_type": "code",
   "execution_count": 9,
   "metadata": {},
   "outputs": [
    {
     "name": "stdout",
     "output_type": "stream",
     "text": [
      "chr11\t4091659\t4091709\t1.09414\tchr11\t4091700\t4092700\n"
     ]
    }
   ],
   "source": [
    "%%bash\n",
    "module load bedtools2\n",
    "\n",
    "cd k562meta/outs/comparesignal\n",
    "\n",
    "bedtools intersect \\\n",
    "-b k562meta/elementReference/combined/binnedgenome.int.k562.elementReference.20230415.merge.bed \\\n",
    "-a annotations/k562.h3k27me3.foldchange.bdg \\\n",
    "-wa -wb > binnedgenome.int.k562.elementReference.int.k562.h3k27me3.foldchange.txt\n",
    "\n",
    "head binnedgenome.int.k562.elementReference.int.k562.h3k27me3.foldchange.txt -n 1"
   ]
  },
  {
   "cell_type": "code",
   "execution_count": 10,
   "metadata": {},
   "outputs": [
    {
     "name": "stdout",
     "output_type": "stream",
     "text": [
      "chr11\t4091663\t4091705\t1.41227\tchr11\t4091700\t4092700\n"
     ]
    }
   ],
   "source": [
    "%%bash\n",
    "module load bedtools2\n",
    "\n",
    "cd k562meta/outs/comparesignal\n",
    "\n",
    "bedtools intersect \\\n",
    "-b k562meta/elementReference/combined/binnedgenome.int.k562.elementReference.20230415.merge.bed \\\n",
    "-a annotations/k562.ep300.foldchange.bdg \\\n",
    "-wa -wb > binnedgenome.int.k562.elementReference.int.k562.ep300.foldchange.txt\n",
    "\n",
    "head binnedgenome.int.k562.elementReference.int.k562.ep300.foldchange.txt -n 1"
   ]
  },
  {
   "cell_type": "code",
   "execution_count": 11,
   "metadata": {},
   "outputs": [
    {
     "name": "stdout",
     "output_type": "stream",
     "text": [
      "chr11\t4091683\t4091740\t1.26327\tchr11\t4091700\t4092700\n"
     ]
    }
   ],
   "source": [
    "%%bash\n",
    "module load bedtools2\n",
    "\n",
    "cd k562meta/outs/comparesignal\n",
    "\n",
    "bedtools intersect \\\n",
    "-b k562meta/elementReference/combined/binnedgenome.int.k562.elementReference.20230415.merge.bed \\\n",
    "-a annotations/k562.ctcf.foldchange.bdg \\\n",
    "-wa -wb > binnedgenome.int.k562.elementReference.int.k562.ctcf.foldchange.txt\n",
    "\n",
    "head binnedgenome.int.k562.elementReference.int.k562.ctcf.foldchange.txt -n 1"
   ]
  },
  {
   "cell_type": "code",
   "execution_count": 12,
   "metadata": {},
   "outputs": [
    {
     "name": "stdout",
     "output_type": "stream",
     "text": [
      "chr11\t4091694\t4091701\t1.40654\tchr11\t4091700\t4092700\n"
     ]
    }
   ],
   "source": [
    "%%bash\n",
    "module load bedtools2\n",
    "\n",
    "cd k562meta/outs/comparesignal\n",
    "\n",
    "bedtools intersect \\\n",
    "-b k562meta/elementReference/combined/binnedgenome.int.k562.elementReference.20230415.merge.bed \\\n",
    "-a annotations/k562.polr2a.foldchange.bdg \\\n",
    "-wa -wb > binnedgenome.int.k562.elementReference.int.k562.polr2a.foldchange.txt\n",
    "\n",
    "head binnedgenome.int.k562.elementReference.int.k562.polr2a.foldchange.txt -n 1"
   ]
  },
  {
   "cell_type": "code",
   "execution_count": 13,
   "metadata": {},
   "outputs": [
    {
     "name": "stdout",
     "output_type": "stream",
     "text": [
      "chr11\t4091694\t4091701\t1.40654\tchr11\t4091700\t4092700\n"
     ]
    }
   ],
   "source": [
    "%%bash\n",
    "module load bedtools2\n",
    "\n",
    "cd k562meta/outs/comparesignal\n",
    "\n",
    "bedtools intersect \\\n",
    "-b k562meta/elementReference/combined/binnedgenome.int.k562.elementReference.20230415.merge.bed \\\n",
    "-a annotations/k562.polr2a.foldchange.bdg \\\n",
    "-wa -wb > binnedgenome.int.k562.elementReference.int.k562.polr2a.foldchange.txt\n",
    "\n",
    "head binnedgenome.int.k562.elementReference.int.k562.polr2a.foldchange.txt -n 1"
   ]
  },
  {
   "cell_type": "markdown",
   "metadata": {},
   "source": [
    "### Download eRNA peak calls and repeat bedtools intersection"
   ]
  },
  {
   "cell_type": "markdown",
   "metadata": {},
   "source": [
    "#### K562 RAMPAGE data"
   ]
  },
  {
   "cell_type": "code",
   "execution_count": 30,
   "metadata": {
    "scrolled": false
   },
   "outputs": [],
   "source": [
    "# %%bash\n",
    "# cd annotations\n",
    "\n",
    "# wget -O k562.rampage.idrpeak.hg38.bed.gz https://www.encodeproject.org/files/ENCFF069ZON/@@download/ENCFF069ZON.bed.gz"
   ]
  },
  {
   "cell_type": "markdown",
   "metadata": {},
   "source": [
    "#### Intersect elementQuant and elementReference with IDR peaks"
   ]
  },
  {
   "cell_type": "code",
   "execution_count": 5,
   "metadata": {},
   "outputs": [
    {
     "name": "stdout",
     "output_type": "stream",
     "text": [
      "44 binned.k562.elementQuant.k562rampage.txt\n",
      "142 binned.k562.elementReference.k562rampage.txt\n"
     ]
    }
   ],
   "source": [
    "%%bash\n",
    "module load bedtools2\n",
    "\n",
    "cd k562meta/outs/upset\n",
    "\n",
    "### elementQuant\n",
    "bedtools intersect \\\n",
    "-a k562meta/elementQuant/combined/binnedgenome.int.k562.elementQuant.20230415.merge.bed \\\n",
    "-b annotations/k562.rampage.idrpeak.hg38.bed.gz \\\n",
    "-wa -u > binned.k562.elementQuant.k562rampage.txt\n",
    "\n",
    "wc -l binned.k562.elementQuant.k562rampage.txt\n",
    "\n",
    "### elementReference\n",
    "bedtools intersect \\\n",
    "-a k562meta/elementReference/combined/binnedgenome.int.k562.elementReference.20230415.merge.bed \\\n",
    "-b annotations/k562.rampage.idrpeak.hg38.bed.gz \\\n",
    "-wa -u > binned.k562.elementReference.k562rampage.txt\n",
    "\n",
    "wc -l binned.k562.elementReference.k562rampage.txt\n"
   ]
  },
  {
   "cell_type": "markdown",
   "metadata": {},
   "source": [
    "### CAGE analysis"
   ]
  },
  {
   "cell_type": "code",
   "execution_count": null,
   "metadata": {
    "scrolled": true
   },
   "outputs": [],
   "source": [
    "# %%bash\n",
    "# cd annotations\n",
    "\n",
    "# wget -O k562.cage.idrpeak.hg38.bed.gz https://www.encodeproject.org/files/ENCFF698DQS/@@download/ENCFF698DQS.bed.gz"
   ]
  },
  {
   "cell_type": "markdown",
   "metadata": {},
   "source": [
    "#### Intersect elementQuant and elementReference with IDR peaks"
   ]
  },
  {
   "cell_type": "code",
   "execution_count": 6,
   "metadata": {},
   "outputs": [
    {
     "name": "stdout",
     "output_type": "stream",
     "text": [
      "54 binned.k562.elementQuant.k562cage.txt\n",
      "143 binned.k562.elementReference.k562cage.txt\n"
     ]
    }
   ],
   "source": [
    "%%bash\n",
    "module load bedtools2\n",
    "\n",
    "cd k562meta/outs/upset\n",
    "\n",
    "### elementQuant\n",
    "bedtools intersect \\\n",
    "-a k562meta/elementQuant/combined/binnedgenome.int.k562.elementQuant.20230415.merge.bed \\\n",
    "-b annotations/k562.cage.idrpeak.hg38.bed.gz \\\n",
    "-wa -u > binned.k562.elementQuant.k562cage.txt\n",
    "\n",
    "wc -l binned.k562.elementQuant.k562cage.txt\n",
    "\n",
    "### elementReference\n",
    "bedtools intersect \\\n",
    "-a k562meta/elementReference/combined/binnedgenome.int.k562.elementReference.20230415.merge.bed \\\n",
    "-b annotations/k562.cage.idrpeak.hg38.bed.gz \\\n",
    "-wa -u > binned.k562.elementReference.k562cage.txt\n",
    "\n",
    "wc -l binned.k562.elementReference.k562cage.txt\n"
   ]
  },
  {
   "cell_type": "markdown",
   "metadata": {},
   "source": [
    "### K562 GRO-CAP"
   ]
  },
  {
   "cell_type": "code",
   "execution_count": null,
   "metadata": {
    "scrolled": true
   },
   "outputs": [],
   "source": [
    "# %%bash\n",
    "# cd annotations\n",
    "\n",
    "# ## GRO-CAP (capped) bidrectional peaks\n",
    "# wget -O k562.grocap.capped.bidirectionalpeaks.hg38.bed.gz  https://www.encodeproject.org/files/ENCFF156JSS/@@download/ENCFF156JSS.bed.gz"
   ]
  },
  {
   "cell_type": "markdown",
   "metadata": {},
   "source": [
    "#### Intersect elementQuant and elementReference with IDR peaks"
   ]
  },
  {
   "cell_type": "code",
   "execution_count": 7,
   "metadata": {},
   "outputs": [
    {
     "name": "stdout",
     "output_type": "stream",
     "text": [
      "124 binned.k562.elementQuant.k562grocap.capped.txt\n",
      "422 binned.k562.elementReference.k562grocap.capped.txt\n"
     ]
    }
   ],
   "source": [
    "%%bash\n",
    "module load bedtools2\n",
    "\n",
    "cd k562meta/outs/upset\n",
    "\n",
    "### elementQuant\n",
    "bedtools intersect \\\n",
    "-a k562meta/elementQuant/combined/binnedgenome.int.k562.elementQuant.20230415.merge.bed \\\n",
    "-b annotations/k562.grocap.capped.bidirectionalpeaks.hg38.bed.gz \\\n",
    "-wa -u > binned.k562.elementQuant.k562grocap.capped.txt\n",
    "\n",
    "wc -l binned.k562.elementQuant.k562grocap.capped.txt\n",
    "\n",
    "### elementReference\n",
    "bedtools intersect \\\n",
    "-a k562meta/elementReference/combined/binnedgenome.int.k562.elementReference.20230415.merge.bed \\\n",
    "-b annotations/k562.grocap.capped.bidirectionalpeaks.hg38.bed.gz \\\n",
    "-wa -u > binned.k562.elementReference.k562grocap.capped.txt\n",
    "\n",
    "wc -l binned.k562.elementReference.k562grocap.capped.txt\n"
   ]
  },
  {
   "cell_type": "code",
   "execution_count": null,
   "metadata": {},
   "outputs": [],
   "source": []
  },
  {
   "cell_type": "code",
   "execution_count": null,
   "metadata": {},
   "outputs": [],
   "source": []
  },
  {
   "cell_type": "code",
   "execution_count": null,
   "metadata": {},
   "outputs": [],
   "source": []
  },
  {
   "cell_type": "code",
   "execution_count": null,
   "metadata": {},
   "outputs": [],
   "source": []
  },
  {
   "cell_type": "code",
   "execution_count": null,
   "metadata": {},
   "outputs": [],
   "source": []
  }
 ],
 "metadata": {
  "kernelspec": {
   "display_name": "Python 3",
   "language": "python",
   "name": "python3"
  },
  "language_info": {
   "codemirror_mode": {
    "name": "ipython",
    "version": 3
   },
   "file_extension": ".py",
   "mimetype": "text/x-python",
   "name": "python",
   "nbconvert_exporter": "python",
   "pygments_lexer": "ipython3",
   "version": "3.6.7"
  }
 },
 "nbformat": 4,
 "nbformat_minor": 2
}
