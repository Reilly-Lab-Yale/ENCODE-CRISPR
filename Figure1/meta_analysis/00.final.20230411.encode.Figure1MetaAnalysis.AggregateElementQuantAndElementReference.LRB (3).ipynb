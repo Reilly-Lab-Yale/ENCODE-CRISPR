{
 "cells": [
  {
   "cell_type": "code",
   "execution_count": null,
   "metadata": {},
   "outputs": [],
   "source": []
  },
  {
   "cell_type": "markdown",
   "metadata": {},
   "source": [
    "## 1. Make new directories for final versions of analyses and final set of files to include"
   ]
  },
  {
   "cell_type": "code",
   "execution_count": 1,
   "metadata": {},
   "outputs": [],
   "source": [
    "# %%bash\n",
    "# mkdir /data/gersbachlab/lrb53/encodeCrisprWG/finalversion"
   ]
  },
  {
   "cell_type": "code",
   "execution_count": 2,
   "metadata": {},
   "outputs": [],
   "source": [
    "# %%bash\n",
    "# mkdir -p /data/gersbachlab/lrb53/encodeCrisprWG/finalversion/figure1/allmeta/elementReference/hg38\n",
    "# mkdir -p /data/gersbachlab/lrb53/encodeCrisprWG/finalversion/figure1/allmeta/elementReference/hg19\n",
    "# mkdir -p /data/gersbachlab/lrb53/encodeCrisprWG/finalversion/figure1/allmeta/elementQuant/hg38\n",
    "# mkdir -p /data/gersbachlab/lrb53/encodeCrisprWG/finalversion/figure1/allmeta/elementQuant/hg19\n",
    "# mkdir -p /data/gersbachlab/lrb53/encodeCrisprWG/finalversion/annotations"
   ]
  },
  {
   "cell_type": "markdown",
   "metadata": {},
   "source": [
    "## 2. Collect elementReference and elementQuant files"
   ]
  },
  {
   "cell_type": "markdown",
   "metadata": {},
   "source": [
    "### Copy elementReference files to new directory"
   ]
  },
  {
   "cell_type": "code",
   "execution_count": 6,
   "metadata": {},
   "outputs": [],
   "source": [
    "# %%bash\n",
    "# cd /data/gersbachlab/lrb53/encodeCrisprWG/figure1meta/elementreference/hg38\n",
    "# cp *.bed.gz /data/gersbachlab/lrb53/encodeCrisprWG/finalversion/figure1/allmeta/elementReference/hg38\n",
    "# cp *.tsv /data/gersbachlab/lrb53/encodeCrisprWG/finalversion/figure1/allmeta/elementReference/hg38\n",
    "# cp *.csv /data/gersbachlab/lrb53/encodeCrisprWG/finalversion/figure1/allmeta/elementReference/hg38"
   ]
  },
  {
   "cell_type": "code",
   "execution_count": 9,
   "metadata": {},
   "outputs": [
    {
     "name": "stdout",
     "output_type": "stream",
     "text": [
      "24\n",
      "21\n"
     ]
    }
   ],
   "source": [
    "%%bash\n",
    "cd /data/gersbachlab/lrb53/encodeCrisprWG/figure1meta/elementreference/hg38\n",
    "ls | wc -l ### 2 directories + one extra file --> 24 - 3 = 21\n",
    "\n",
    "cd /data/gersbachlab/lrb53/encodeCrisprWG/finalversion/figure1/allmeta/elementReference/hg38\n",
    "ls | wc -l"
   ]
  },
  {
   "cell_type": "code",
   "execution_count": 11,
   "metadata": {},
   "outputs": [],
   "source": [
    "# %%bash\n",
    "# cd /data/gersbachlab/lrb53/encodeCrisprWG/figure1meta/elementreference/hg19\n",
    "# cp *.tsv /data/gersbachlab/lrb53/encodeCrisprWG/finalversion/figure1/allmeta/elementReference/hg19"
   ]
  },
  {
   "cell_type": "code",
   "execution_count": 14,
   "metadata": {},
   "outputs": [
    {
     "name": "stdout",
     "output_type": "stream",
     "text": [
      "2\n"
     ]
    }
   ],
   "source": [
    "%%bash\n",
    "cd /data/gersbachlab/lrb53/encodeCrisprWG/finalversion/figure1/allmeta/elementReference/hg19\n",
    "ls | wc -l ### should have 2 files"
   ]
  },
  {
   "cell_type": "code",
   "execution_count": 6,
   "metadata": {},
   "outputs": [],
   "source": [
    "# %%bash\n",
    "# # mkdir -p /data/gersbachlab/lrb53/encodeCrisprWG/finalversion/figure1/allmeta/guideQuant/hg19\n",
    "# cd /data/gersbachlab/lrb53/encodeCrisprWG/finalversion/figure1/allmeta/guideQuant/hg19/\n",
    "# cp /data/gersbachlab/lrb53/encodeCrisprWG/figure1meta/released/EngreitzElementReference/guideQuant/*.tsv ."
   ]
  },
  {
   "cell_type": "markdown",
   "metadata": {},
   "source": [
    "### Download additional elementReferences files"
   ]
  },
  {
   "cell_type": "code",
   "execution_count": null,
   "metadata": {},
   "outputs": [],
   "source": [
    "# %%bash\n",
    "# cd /data/gersbachlab/lrb53/encodeCrisprWG/finalversion/figure1/allmeta/elementReference/hg38\n",
    "\n",
    "# wget https://www.encodeproject.org/files/ENCFF526YZH/@@download/ENCFF526YZH.bed.gz\n",
    "# ## for the next experiment, use guideQuant to retrieve coordinates b/c reference is only fasta\n",
    "# wget https://www.encodeproject.org/files/ENCFF868QBG/@@download/ENCFF868QBG.tsv  "
   ]
  },
  {
   "cell_type": "code",
   "execution_count": null,
   "metadata": {},
   "outputs": [],
   "source": [
    "# %%bash\n",
    "# cd /data/gersbachlab/lrb53/encodeCrisprWG/finalversion/figure1/allmeta/elementReference/hg19\n",
    "# wget https://www.encodeproject.org/files/ENCFF126FFA/@@download/ENCFF126FFA.tsv\n",
    "# wget https://www.encodeproject.org/files/ENCFF172YCL/@@download/ENCFF172YCL.tsv"
   ]
  },
  {
   "cell_type": "markdown",
   "metadata": {},
   "source": [
    "Need the following file to get the sgRNA strand information for the `ENCFF526YZH.bed.gz` reference file."
   ]
  },
  {
   "cell_type": "code",
   "execution_count": null,
   "metadata": {},
   "outputs": [],
   "source": [
    "# %%bash\n",
    "# mkdir -p /data/gersbachlab/lrb53/encodeCrisprWG/finalversion/figure1/allmeta/guideQuant/hg38\n",
    "# cd /data/gersbachlab/lrb53/encodeCrisprWG/finalversion/figure1/allmeta/guideQuant/hg38/\n",
    "# wget https://www.encodeproject.org/files/ENCFF572NKV/@@download/ENCFF572NKV.tsv"
   ]
  },
  {
   "cell_type": "markdown",
   "metadata": {},
   "source": [
    "### Remove elementReference files for experiments without proper quantification/results\n",
    "\n",
    " - ENCFF287WXB.tsv (keep; Engreitz lab, same library used for all FF)\n",
    " - ENCFF647EBF.tsv (keep; Engreitz lab, same library used for all FF)\n",
    " - ENCFF135FSS.csv (Greenleaf lab, no elementQuant)\n",
    " - ENCFF271CBI.csv (Greenleaf lab, no elementQuant)\n",
    " - ENCFF537TDN.csv (Greenleaf lab, no elementQuant)\n",
    " - ENCFF865MGL.csv (Greenleaf lab, no elementQuant)\n",
    " - ENCFF964OOO.csv (Greenleaf lab, no elementQuant)"
   ]
  },
  {
   "cell_type": "code",
   "execution_count": 2,
   "metadata": {},
   "outputs": [],
   "source": [
    "# %%bash\n",
    "# cd /data/gersbachlab/lrb53/encodeCrisprWG/finalversion/figure1/allmeta/elementReference/hg38\n",
    "# ls\n",
    "# cd /data/gersbachlab/lrb53/encodeCrisprWG/finalversion/figure1/allmeta/elementReference/hg19\n",
    "# ls"
   ]
  },
  {
   "cell_type": "code",
   "execution_count": 3,
   "metadata": {},
   "outputs": [],
   "source": [
    "# %%bash\n",
    "# cd /data/gersbachlab/lrb53/encodeCrisprWG/finalversion/figure1/allmeta/elementReference/hg38\n",
    "# rm ENCFF135FSS.csv\n",
    "# rm ENCFF271CBI.csv\n",
    "# rm ENCFF537TDN.csv\n",
    "# rm ENCFF865MGL.csv\n",
    "# rm ENCFF964OOO.csv"
   ]
  },
  {
   "cell_type": "code",
   "execution_count": 5,
   "metadata": {},
   "outputs": [
    {
     "name": "stdout",
     "output_type": "stream",
     "text": [
      "18\n",
      "4\n"
     ]
    }
   ],
   "source": [
    "%%bash\n",
    "cd /data/gersbachlab/lrb53/encodeCrisprWG/finalversion/figure1/allmeta/elementReference/hg38\n",
    "ls | wc -l \n",
    "cd /data/gersbachlab/lrb53/encodeCrisprWG/finalversion/figure1/allmeta/elementReference/hg19\n",
    "ls | wc -l "
   ]
  },
  {
   "cell_type": "markdown",
   "metadata": {},
   "source": [
    "### Copy elementQuant files to new directory"
   ]
  },
  {
   "cell_type": "code",
   "execution_count": 7,
   "metadata": {},
   "outputs": [],
   "source": [
    "# %%bash\n",
    "# cd /data/gersbachlab/lrb53/encodeCrisprWG/figure1meta/elementquant/hg38\n",
    "# cp *.bed.gz /data/gersbachlab/lrb53/encodeCrisprWG/finalversion/figure1/allmeta/elementQuant/hg38\n",
    "# cp *.tsv /data/gersbachlab/lrb53/encodeCrisprWG/finalversion/figure1/allmeta/elementQuant/hg38"
   ]
  },
  {
   "cell_type": "code",
   "execution_count": 10,
   "metadata": {},
   "outputs": [],
   "source": [
    "# %%bash\n",
    "# cd /data/gersbachlab/lrb53/encodeCrisprWG/figure1meta/elementquant/hg19\n",
    "# cp *.tsv /data/gersbachlab/lrb53/encodeCrisprWG/finalversion/figure1/allmeta/elementQuant/hg19"
   ]
  },
  {
   "cell_type": "markdown",
   "metadata": {},
   "source": [
    "### No additional elementQuant files to download.\n",
    "\n",
    "Note re: WTC11 iPSC (80ng/mL tioguanine): no element level quantification, only guideQuant files w/o significant column"
   ]
  },
  {
   "cell_type": "markdown",
   "metadata": {},
   "source": [
    "## Switch to `R` kernel.\n",
    "\n",
    "Not all files with the same file extension have the same formatting. Need to individually check each reference file."
   ]
  },
  {
   "cell_type": "code",
   "execution_count": 1,
   "metadata": {},
   "outputs": [],
   "source": [
    "suppressPackageStartupMessages(library(tidyverse))"
   ]
  },
  {
   "cell_type": "markdown",
   "metadata": {},
   "source": [
    "## 3. Generate master elementReference file.\n",
    "\n",
    "Note: Engreitz reference will need to be lifted from hg19 to hg38."
   ]
  },
  {
   "cell_type": "markdown",
   "metadata": {},
   "source": [
    "### Start with loading the elementReference files that are `bed6` format."
   ]
  },
  {
   "cell_type": "code",
   "execution_count": 2,
   "metadata": {},
   "outputs": [
    {
     "data": {
      "text/html": [
       "<table class=\"dataframe\">\n",
       "<caption>A data.frame: 1 × 6</caption>\n",
       "<thead>\n",
       "\t<tr><th></th><th scope=col>grna_chr</th><th scope=col>grna_start</th><th scope=col>grna_end</th><th scope=col>grna_label</th><th scope=col>grna_score</th><th scope=col>grna_strand</th></tr>\n",
       "\t<tr><th></th><th scope=col>&lt;chr&gt;</th><th scope=col>&lt;int&gt;</th><th scope=col>&lt;int&gt;</th><th scope=col>&lt;chr&gt;</th><th scope=col>&lt;int&gt;</th><th scope=col>&lt;chr&gt;</th></tr>\n",
       "</thead>\n",
       "<tbody>\n",
       "\t<tr><th scope=row>1</th><td>chr12</td><td>54300748</td><td>54300767</td><td>&gt;GATA1_PF_chr12:54300748-54300767:+</td><td>0</td><td>+</td></tr>\n",
       "</tbody>\n",
       "</table>\n"
      ],
      "text/latex": [
       "A data.frame: 1 × 6\n",
       "\\begin{tabular}{r|llllll}\n",
       "  & grna\\_chr & grna\\_start & grna\\_end & grna\\_label & grna\\_score & grna\\_strand\\\\\n",
       "  & <chr> & <int> & <int> & <chr> & <int> & <chr>\\\\\n",
       "\\hline\n",
       "\t1 & chr12 & 54300748 & 54300767 & >GATA1\\_PF\\_chr12:54300748-54300767:+ & 0 & +\\\\\n",
       "\\end{tabular}\n"
      ],
      "text/markdown": [
       "\n",
       "A data.frame: 1 × 6\n",
       "\n",
       "| <!--/--> | grna_chr &lt;chr&gt; | grna_start &lt;int&gt; | grna_end &lt;int&gt; | grna_label &lt;chr&gt; | grna_score &lt;int&gt; | grna_strand &lt;chr&gt; |\n",
       "|---|---|---|---|---|---|---|\n",
       "| 1 | chr12 | 54300748 | 54300767 | &gt;GATA1_PF_chr12:54300748-54300767:+ | 0 | + |\n",
       "\n"
      ],
      "text/plain": [
       "  grna_chr grna_start grna_end grna_label                          grna_score\n",
       "1 chr12    54300748   54300767 >GATA1_PF_chr12:54300748-54300767:+ 0         \n",
       "  grna_strand\n",
       "1 +          "
      ]
     },
     "metadata": {},
     "output_type": "display_data"
    },
    {
     "data": {
      "text/html": [
       "<style>\n",
       ".list-inline {list-style: none; margin:0; padding: 0}\n",
       ".list-inline>li {display: inline-block}\n",
       ".list-inline>li:not(:last-child)::after {content: \"\\00b7\"; padding: 0 .5ex}\n",
       "</style>\n",
       "<ol class=list-inline><li>345907</li><li>6</li></ol>\n"
      ],
      "text/latex": [
       "\\begin{enumerate*}\n",
       "\\item 345907\n",
       "\\item 6\n",
       "\\end{enumerate*}\n"
      ],
      "text/markdown": [
       "1. 345907\n",
       "2. 6\n",
       "\n",
       "\n"
      ],
      "text/plain": [
       "[1] 345907      6"
      ]
     },
     "metadata": {},
     "output_type": "display_data"
    }
   ],
   "source": [
    "all_files <- list.files(path = \"/data/gersbachlab/lrb53/encodeCrisprWG/finalversion/figure1/allmeta/elementReference/hg38\", \n",
    "                      pattern = \"*.bed.gz\", full.names = TRUE)\n",
    "\n",
    "skip_file <- \"/data/gersbachlab/lrb53/encodeCrisprWG/finalversion/figure1/allmeta/elementReference/hg38/ENCFF526YZH.bed.gz\"\n",
    "\n",
    "use_these <- setdiff(all_files, skip_file)\n",
    "\n",
    "temp_df1 <- \n",
    "use_these %>%\n",
    "lapply(read.delim, header = FALSE, sep = \"\\t\") %>%\n",
    "bind_rows() %>%\n",
    "rename(grna_chr = V1, grna_start = V2, grna_end = V3, grna_label = V4, grna_score = V5, grna_strand = V6) %>%\n",
    "filter(grna_start != \"NA\")\n",
    "\n",
    "head(temp_df1, n=1)\n",
    "dim(temp_df1)"
   ]
  },
  {
   "cell_type": "code",
   "execution_count": 3,
   "metadata": {},
   "outputs": [
    {
     "data": {
      "text/html": [
       "<style>\n",
       ".list-inline {list-style: none; margin:0; padding: 0}\n",
       ".list-inline>li {display: inline-block}\n",
       ".list-inline>li:not(:last-child)::after {content: \"\\00b7\"; padding: 0 .5ex}\n",
       "</style>\n",
       "<ol class=list-inline><li>344688</li><li>6</li></ol>\n"
      ],
      "text/latex": [
       "\\begin{enumerate*}\n",
       "\\item 344688\n",
       "\\item 6\n",
       "\\end{enumerate*}\n"
      ],
      "text/markdown": [
       "1. 344688\n",
       "2. 6\n",
       "\n",
       "\n"
      ],
      "text/plain": [
       "[1] 344688      6"
      ]
     },
     "metadata": {},
     "output_type": "display_data"
    }
   ],
   "source": [
    "temp_df1 %>% distinct() %>% dim()"
   ]
  },
  {
   "cell_type": "code",
   "execution_count": 4,
   "metadata": {},
   "outputs": [
    {
     "data": {
      "text/html": [
       "<table class=\"dataframe\">\n",
       "<caption>A data.frame: 0 × 6</caption>\n",
       "<thead>\n",
       "\t<tr><th scope=col>grna_chr</th><th scope=col>grna_start</th><th scope=col>grna_end</th><th scope=col>grna_label</th><th scope=col>grna_score</th><th scope=col>grna_strand</th></tr>\n",
       "\t<tr><th scope=col>&lt;chr&gt;</th><th scope=col>&lt;int&gt;</th><th scope=col>&lt;int&gt;</th><th scope=col>&lt;chr&gt;</th><th scope=col>&lt;int&gt;</th><th scope=col>&lt;chr&gt;</th></tr>\n",
       "</thead>\n",
       "<tbody>\n",
       "</tbody>\n",
       "</table>\n"
      ],
      "text/latex": [
       "A data.frame: 0 × 6\n",
       "\\begin{tabular}{llllll}\n",
       " grna\\_chr & grna\\_start & grna\\_end & grna\\_label & grna\\_score & grna\\_strand\\\\\n",
       " <chr> & <int> & <int> & <chr> & <int> & <chr>\\\\\n",
       "\\hline\n",
       "\\end{tabular}\n"
      ],
      "text/markdown": [
       "\n",
       "A data.frame: 0 × 6\n",
       "\n",
       "| grna_chr &lt;chr&gt; | grna_start &lt;int&gt; | grna_end &lt;int&gt; | grna_label &lt;chr&gt; | grna_score &lt;int&gt; | grna_strand &lt;chr&gt; |\n",
       "|---|---|---|---|---|---|\n",
       "\n"
      ],
      "text/plain": [
       "     grna_chr grna_start grna_end grna_label grna_score grna_strand"
      ]
     },
     "metadata": {},
     "output_type": "display_data"
    }
   ],
   "source": [
    "temp_df1 %>%\n",
    "filter(is.na(grna_strand))"
   ]
  },
  {
   "cell_type": "markdown",
   "metadata": {},
   "source": [
    "### Now, load `ENCFF526YZH.bed.gz` (`bed3` format). \n",
    "\n",
    "Important: this experiment has paired sgRNAs so the coordinates for the perturbations cover the intended region between `grna1` and `grna2`. Do NOT adjust the window of effect for these."
   ]
  },
  {
   "cell_type": "code",
   "execution_count": 5,
   "metadata": {},
   "outputs": [
    {
     "data": {
      "text/html": [
       "<table class=\"dataframe\">\n",
       "<caption>A data.frame: 1 × 3</caption>\n",
       "<thead>\n",
       "\t<tr><th></th><th scope=col>grna_chrom</th><th scope=col>grna_start</th><th scope=col>grna_end</th></tr>\n",
       "\t<tr><th></th><th scope=col>&lt;chr&gt;</th><th scope=col>&lt;int&gt;</th><th scope=col>&lt;int&gt;</th></tr>\n",
       "</thead>\n",
       "<tbody>\n",
       "\t<tr><th scope=row>1</th><td>chrX</td><td>48784727</td><td>48785792</td></tr>\n",
       "</tbody>\n",
       "</table>\n"
      ],
      "text/latex": [
       "A data.frame: 1 × 3\n",
       "\\begin{tabular}{r|lll}\n",
       "  & grna\\_chrom & grna\\_start & grna\\_end\\\\\n",
       "  & <chr> & <int> & <int>\\\\\n",
       "\\hline\n",
       "\t1 & chrX & 48784727 & 48785792\\\\\n",
       "\\end{tabular}\n"
      ],
      "text/markdown": [
       "\n",
       "A data.frame: 1 × 3\n",
       "\n",
       "| <!--/--> | grna_chrom &lt;chr&gt; | grna_start &lt;int&gt; | grna_end &lt;int&gt; |\n",
       "|---|---|---|---|\n",
       "| 1 | chrX | 48784727 | 48785792 |\n",
       "\n"
      ],
      "text/plain": [
       "  grna_chrom grna_start grna_end\n",
       "1 chrX       48784727   48785792"
      ]
     },
     "metadata": {},
     "output_type": "display_data"
    },
    {
     "data": {
      "text/html": [
       "<style>\n",
       ".list-inline {list-style: none; margin:0; padding: 0}\n",
       ".list-inline>li {display: inline-block}\n",
       ".list-inline>li:not(:last-child)::after {content: \"\\00b7\"; padding: 0 .5ex}\n",
       "</style>\n",
       "<ol class=list-inline><li>13339</li><li>3</li></ol>\n"
      ],
      "text/latex": [
       "\\begin{enumerate*}\n",
       "\\item 13339\n",
       "\\item 3\n",
       "\\end{enumerate*}\n"
      ],
      "text/markdown": [
       "1. 13339\n",
       "2. 3\n",
       "\n",
       "\n"
      ],
      "text/plain": [
       "[1] 13339     3"
      ]
     },
     "metadata": {},
     "output_type": "display_data"
    }
   ],
   "source": [
    "paired_df <- read.delim(\"/data/gersbachlab/lrb53/encodeCrisprWG/finalversion/figure1/allmeta/elementReference/hg38/ENCFF526YZH.bed.gz\",\n",
    "                     header = FALSE, sep = \"\\t\", col.names = c(\"grna_chrom\",\"grna_start\",\"grna_end\"))\n",
    "\n",
    "head(paired_df,n=1)\n",
    "dim(paired_df)"
   ]
  },
  {
   "cell_type": "markdown",
   "metadata": {},
   "source": [
    "### For the `.tsv` files, all have same format except for ENCFF868QBG.tsv.  "
   ]
  },
  {
   "cell_type": "markdown",
   "metadata": {},
   "source": [
    "In the next code block, list all the files then use `setdiff` to exclude the bed files and the guideQuant that I need to use to retrieve the original sgRNA coordinates."
   ]
  },
  {
   "cell_type": "code",
   "execution_count": 6,
   "metadata": {},
   "outputs": [
    {
     "data": {
      "text/html": [
       "18"
      ],
      "text/latex": [
       "18"
      ],
      "text/markdown": [
       "18"
      ],
      "text/plain": [
       "[1] 18"
      ]
     },
     "metadata": {},
     "output_type": "display_data"
    },
    {
     "data": {
      "text/html": [
       "11"
      ],
      "text/latex": [
       "11"
      ],
      "text/markdown": [
       "11"
      ],
      "text/plain": [
       "[1] 11"
      ]
     },
     "metadata": {},
     "output_type": "display_data"
    },
    {
     "data": {
      "text/html": [
       "7"
      ],
      "text/latex": [
       "7"
      ],
      "text/markdown": [
       "7"
      ],
      "text/plain": [
       "[1] 7"
      ]
     },
     "metadata": {},
     "output_type": "display_data"
    }
   ],
   "source": [
    "all_files <-  list.files(path = \"/data/gersbachlab/lrb53/encodeCrisprWG/finalversion/figure1/allmeta/elementReference/hg38/\",\n",
    "                         full.names = TRUE)\n",
    "do_not_use <- list.files(path = \"/data/gersbachlab/lrb53/encodeCrisprWG/finalversion/figure1/allmeta/elementReference/hg38/\", \n",
    "                         pattern = \"*.bed.gz|*QBG.tsv\", full.names = TRUE) \n",
    "\n",
    "use_these <- setdiff(all_files, do_not_use)\n",
    "length(all_files)\n",
    "length(do_not_use)\n",
    "length(use_these)"
   ]
  },
  {
   "cell_type": "code",
   "execution_count": 7,
   "metadata": {},
   "outputs": [
    {
     "data": {
      "text/html": [
       "<table class=\"dataframe\">\n",
       "<caption>A data.frame: 1 × 3</caption>\n",
       "<thead>\n",
       "\t<tr><th></th><th scope=col>grna_label</th><th scope=col>hg38_coordinate</th><th scope=col>grna_sequence</th></tr>\n",
       "\t<tr><th></th><th scope=col>&lt;chr&gt;</th><th scope=col>&lt;chr&gt;</th><th scope=col>&lt;chr&gt;</th></tr>\n",
       "</thead>\n",
       "<tbody>\n",
       "\t<tr><th scope=row>1</th><td>&gt;HEME_PF_chr6:134253818-134253838:+</td><td>chr6:134253818-134253838:+</td><td>AATCGCATGGATCCTTCCAG</td></tr>\n",
       "</tbody>\n",
       "</table>\n"
      ],
      "text/latex": [
       "A data.frame: 1 × 3\n",
       "\\begin{tabular}{r|lll}\n",
       "  & grna\\_label & hg38\\_coordinate & grna\\_sequence\\\\\n",
       "  & <chr> & <chr> & <chr>\\\\\n",
       "\\hline\n",
       "\t1 & >HEME\\_PF\\_chr6:134253818-134253838:+ & chr6:134253818-134253838:+ & AATCGCATGGATCCTTCCAG\\\\\n",
       "\\end{tabular}\n"
      ],
      "text/markdown": [
       "\n",
       "A data.frame: 1 × 3\n",
       "\n",
       "| <!--/--> | grna_label &lt;chr&gt; | hg38_coordinate &lt;chr&gt; | grna_sequence &lt;chr&gt; |\n",
       "|---|---|---|---|\n",
       "| 1 | &gt;HEME_PF_chr6:134253818-134253838:+ | chr6:134253818-134253838:+ | AATCGCATGGATCCTTCCAG |\n",
       "\n"
      ],
      "text/plain": [
       "  grna_label                          hg38_coordinate           \n",
       "1 >HEME_PF_chr6:134253818-134253838:+ chr6:134253818-134253838:+\n",
       "  grna_sequence       \n",
       "1 AATCGCATGGATCCTTCCAG"
      ]
     },
     "metadata": {},
     "output_type": "display_data"
    },
    {
     "data": {
      "text/html": [
       "<style>\n",
       ".list-inline {list-style: none; margin:0; padding: 0}\n",
       ".list-inline>li {display: inline-block}\n",
       ".list-inline>li:not(:last-child)::after {content: \"\\00b7\"; padding: 0 .5ex}\n",
       "</style>\n",
       "<ol class=list-inline><li>314359</li><li>3</li></ol>\n"
      ],
      "text/latex": [
       "\\begin{enumerate*}\n",
       "\\item 314359\n",
       "\\item 3\n",
       "\\end{enumerate*}\n"
      ],
      "text/markdown": [
       "1. 314359\n",
       "2. 3\n",
       "\n",
       "\n"
      ],
      "text/plain": [
       "[1] 314359      3"
      ]
     },
     "metadata": {},
     "output_type": "display_data"
    }
   ],
   "source": [
    "temp_df2 <- \n",
    "use_these %>%\n",
    "map_df(~read.delim(., header = TRUE, sep = \"\\t\", col.names = c(\"grna_label\", \"hg38_coordinate\", \"grna_sequence\", \n",
    "                                                \"cutting_efficiency_score\",\"cutting_specificity_score\", \"off_targets_summary\")) %>%\n",
    "       select(grna_label:grna_sequence)\n",
    "      )\n",
    "\n",
    "head(temp_df2, n=1)\n",
    "dim(temp_df2)"
   ]
  },
  {
   "cell_type": "code",
   "execution_count": 8,
   "metadata": {},
   "outputs": [
    {
     "data": {
      "text/html": [
       "<style>\n",
       ".list-inline {list-style: none; margin:0; padding: 0}\n",
       ".list-inline>li {display: inline-block}\n",
       ".list-inline>li:not(:last-child)::after {content: \"\\00b7\"; padding: 0 .5ex}\n",
       "</style>\n",
       "<ol class=list-inline><li>282638</li><li>4</li></ol>\n"
      ],
      "text/latex": [
       "\\begin{enumerate*}\n",
       "\\item 282638\n",
       "\\item 4\n",
       "\\end{enumerate*}\n"
      ],
      "text/markdown": [
       "1. 282638\n",
       "2. 4\n",
       "\n",
       "\n"
      ],
      "text/plain": [
       "[1] 282638      4"
      ]
     },
     "metadata": {},
     "output_type": "display_data"
    }
   ],
   "source": [
    "temp_df2 %>%\n",
    "filter(!grepl(\"SAFE\", grna_label) & !grepl(\"NT\", grna_label) & !grepl(\"CTRL\", grna_label) & !grepl(\"ctrl\", grna_label)) %>%\n",
    "filter(grna_label != \"\") %>% ### drop empty rows\n",
    "separate(hg38_coordinate, into = c(\"grna_chr\",\"grna_coords\",\"grna_strand\"), sep = \":\") %>%\n",
    "separate(grna_coords, into = c(\"grna_start\", \"grna_end\"), sep = \"-\") %>%\n",
    "select(grna_chr:grna_strand) %>%\n",
    "distinct() %>%\n",
    "dim()"
   ]
  },
  {
   "cell_type": "code",
   "execution_count": 9,
   "metadata": {},
   "outputs": [
    {
     "data": {
      "text/html": [
       "<table class=\"dataframe\">\n",
       "<caption>A data.frame: 0 × 4</caption>\n",
       "<thead>\n",
       "\t<tr><th scope=col>grna_chr</th><th scope=col>grna_start</th><th scope=col>grna_end</th><th scope=col>grna_strand</th></tr>\n",
       "\t<tr><th scope=col>&lt;chr&gt;</th><th scope=col>&lt;chr&gt;</th><th scope=col>&lt;chr&gt;</th><th scope=col>&lt;chr&gt;</th></tr>\n",
       "</thead>\n",
       "<tbody>\n",
       "</tbody>\n",
       "</table>\n"
      ],
      "text/latex": [
       "A data.frame: 0 × 4\n",
       "\\begin{tabular}{llll}\n",
       " grna\\_chr & grna\\_start & grna\\_end & grna\\_strand\\\\\n",
       " <chr> & <chr> & <chr> & <chr>\\\\\n",
       "\\hline\n",
       "\\end{tabular}\n"
      ],
      "text/markdown": [
       "\n",
       "A data.frame: 0 × 4\n",
       "\n",
       "| grna_chr &lt;chr&gt; | grna_start &lt;chr&gt; | grna_end &lt;chr&gt; | grna_strand &lt;chr&gt; |\n",
       "|---|---|---|---|\n",
       "\n"
      ],
      "text/plain": [
       "     grna_chr grna_start grna_end grna_strand"
      ]
     },
     "metadata": {},
     "output_type": "display_data"
    }
   ],
   "source": [
    "temp_df2 %>%\n",
    "filter(!grepl(\"SAFE\", grna_label) & !grepl(\"NT\", grna_label) & !grepl(\"CTRL\", grna_label) & !grepl(\"ctrl\", grna_label)) %>%\n",
    "filter(grna_label != \"\") %>% ### drop empty rows\n",
    "separate(hg38_coordinate, into = c(\"grna_chr\",\"grna_coords\",\"grna_strand\"), sep = \":\") %>%\n",
    "separate(grna_coords, into = c(\"grna_start\", \"grna_end\"), sep = \"-\") %>%\n",
    "select(grna_chr:grna_strand) %>%\n",
    "distinct() %>%\n",
    "filter(grna_strand != \"+\" & grna_strand != \"-\")"
   ]
  },
  {
   "cell_type": "markdown",
   "metadata": {},
   "source": [
    "### Now, retrieve the sgRNA coordinates for ENCFF868QBG.tsv"
   ]
  },
  {
   "cell_type": "code",
   "execution_count": 10,
   "metadata": {},
   "outputs": [
    {
     "data": {
      "text/html": [
       "<table class=\"dataframe\">\n",
       "<caption>A data.frame: 1 × 17</caption>\n",
       "<thead>\n",
       "\t<tr><th></th><th scope=col>chrPerturbationTarget</th><th scope=col>startPerturbationTarget</th><th scope=col>endPerturbationTarget</th><th scope=col>name</th><th scope=col>SeqCounts</th><th scope=col>strandPerturbationTarget</th><th scope=col>PerturbationTargetID</th><th scope=col>chrTSS</th><th scope=col>startTSS</th><th scope=col>endTSS</th><th scope=col>strandGene</th><th scope=col>measuredGeneSymbol</th><th scope=col>measuredEnsemblID</th><th scope=col>guideSpacerSeq</th><th scope=col>guideSeq</th><th scope=col>guideType</th><th scope=col>Note</th></tr>\n",
       "\t<tr><th></th><th scope=col>&lt;chr&gt;</th><th scope=col>&lt;int&gt;</th><th scope=col>&lt;int&gt;</th><th scope=col>&lt;chr&gt;</th><th scope=col>&lt;int&gt;</th><th scope=col>&lt;chr&gt;</th><th scope=col>&lt;chr&gt;</th><th scope=col>&lt;lgl&gt;</th><th scope=col>&lt;lgl&gt;</th><th scope=col>&lt;lgl&gt;</th><th scope=col>&lt;lgl&gt;</th><th scope=col>&lt;lgl&gt;</th><th scope=col>&lt;lgl&gt;</th><th scope=col>&lt;chr&gt;</th><th scope=col>&lt;chr&gt;</th><th scope=col>&lt;chr&gt;</th><th scope=col>&lt;chr&gt;</th></tr>\n",
       "</thead>\n",
       "<tbody>\n",
       "\t<tr><th scope=row>1</th><td>chr2</td><td>46464589</td><td>46464591</td><td>NA|chr2:46464589-46464591:+</td><td>1308</td><td>+</td><td>chr2:46464589-46464591:+</td><td>NA</td><td>NA</td><td>NA</td><td>NA</td><td>NA</td><td>NA</td><td>ACCTTCTGATAATTCTGCAA</td><td>GACCTTCTGATAATTCTGCAA</td><td>targeting</td><td>sgRNA_ID&gt;chr2:46464568-46464588_+</td></tr>\n",
       "</tbody>\n",
       "</table>\n"
      ],
      "text/latex": [
       "A data.frame: 1 × 17\n",
       "\\begin{tabular}{r|lllllllllllllllll}\n",
       "  & chrPerturbationTarget & startPerturbationTarget & endPerturbationTarget & name & SeqCounts & strandPerturbationTarget & PerturbationTargetID & chrTSS & startTSS & endTSS & strandGene & measuredGeneSymbol & measuredEnsemblID & guideSpacerSeq & guideSeq & guideType & Note\\\\\n",
       "  & <chr> & <int> & <int> & <chr> & <int> & <chr> & <chr> & <lgl> & <lgl> & <lgl> & <lgl> & <lgl> & <lgl> & <chr> & <chr> & <chr> & <chr>\\\\\n",
       "\\hline\n",
       "\t1 & chr2 & 46464589 & 46464591 & NA\\textbar{}chr2:46464589-46464591:+ & 1308 & + & chr2:46464589-46464591:+ & NA & NA & NA & NA & NA & NA & ACCTTCTGATAATTCTGCAA & GACCTTCTGATAATTCTGCAA & targeting & sgRNA\\_ID>chr2:46464568-46464588\\_+\\\\\n",
       "\\end{tabular}\n"
      ],
      "text/markdown": [
       "\n",
       "A data.frame: 1 × 17\n",
       "\n",
       "| <!--/--> | chrPerturbationTarget &lt;chr&gt; | startPerturbationTarget &lt;int&gt; | endPerturbationTarget &lt;int&gt; | name &lt;chr&gt; | SeqCounts &lt;int&gt; | strandPerturbationTarget &lt;chr&gt; | PerturbationTargetID &lt;chr&gt; | chrTSS &lt;lgl&gt; | startTSS &lt;lgl&gt; | endTSS &lt;lgl&gt; | strandGene &lt;lgl&gt; | measuredGeneSymbol &lt;lgl&gt; | measuredEnsemblID &lt;lgl&gt; | guideSpacerSeq &lt;chr&gt; | guideSeq &lt;chr&gt; | guideType &lt;chr&gt; | Note &lt;chr&gt; |\n",
       "|---|---|---|---|---|---|---|---|---|---|---|---|---|---|---|---|---|---|\n",
       "| 1 | chr2 | 46464589 | 46464591 | NA|chr2:46464589-46464591:+ | 1308 | + | chr2:46464589-46464591:+ | NA | NA | NA | NA | NA | NA | ACCTTCTGATAATTCTGCAA | GACCTTCTGATAATTCTGCAA | targeting | sgRNA_ID&gt;chr2:46464568-46464588_+ |\n",
       "\n"
      ],
      "text/plain": [
       "  chrPerturbationTarget startPerturbationTarget endPerturbationTarget\n",
       "1 chr2                  46464589                46464591             \n",
       "  name                        SeqCounts strandPerturbationTarget\n",
       "1 NA|chr2:46464589-46464591:+ 1308      +                       \n",
       "  PerturbationTargetID     chrTSS startTSS endTSS strandGene measuredGeneSymbol\n",
       "1 chr2:46464589-46464591:+ NA     NA       NA     NA         NA                \n",
       "  measuredEnsemblID guideSpacerSeq       guideSeq              guideType\n",
       "1 NA                ACCTTCTGATAATTCTGCAA GACCTTCTGATAATTCTGCAA targeting\n",
       "  Note                             \n",
       "1 sgRNA_ID>chr2:46464568-46464588_+"
      ]
     },
     "metadata": {},
     "output_type": "display_data"
    },
    {
     "data": {
      "text/html": [
       "<style>\n",
       ".list-inline {list-style: none; margin:0; padding: 0}\n",
       ".list-inline>li {display: inline-block}\n",
       ".list-inline>li:not(:last-child)::after {content: \"\\00b7\"; padding: 0 .5ex}\n",
       "</style>\n",
       "<ol class=list-inline><li>12702</li><li>17</li></ol>\n"
      ],
      "text/latex": [
       "\\begin{enumerate*}\n",
       "\\item 12702\n",
       "\\item 17\n",
       "\\end{enumerate*}\n"
      ],
      "text/markdown": [
       "1. 12702\n",
       "2. 17\n",
       "\n",
       "\n"
      ],
      "text/plain": [
       "[1] 12702    17"
      ]
     },
     "metadata": {},
     "output_type": "display_data"
    }
   ],
   "source": [
    "temp_df3 <- read.delim(\"/data/gersbachlab/lrb53/encodeCrisprWG/finalversion/figure1/allmeta/elementReference/hg38/ENCFF868QBG.tsv\",\n",
    "                       header = TRUE, sep = \"\\t\")\n",
    "\n",
    "head(temp_df3, n=1)\n",
    "dim(temp_df3)"
   ]
  },
  {
   "cell_type": "code",
   "execution_count": 11,
   "metadata": {},
   "outputs": [
    {
     "data": {
      "text/html": [
       "<style>\n",
       ".list-inline {list-style: none; margin:0; padding: 0}\n",
       ".list-inline>li {display: inline-block}\n",
       ".list-inline>li:not(:last-child)::after {content: \"\\00b7\"; padding: 0 .5ex}\n",
       "</style>\n",
       "<ol class=list-inline><li>12077</li><li>4</li></ol>\n"
      ],
      "text/latex": [
       "\\begin{enumerate*}\n",
       "\\item 12077\n",
       "\\item 4\n",
       "\\end{enumerate*}\n"
      ],
      "text/markdown": [
       "1. 12077\n",
       "2. 4\n",
       "\n",
       "\n"
      ],
      "text/plain": [
       "[1] 12077     4"
      ]
     },
     "metadata": {},
     "output_type": "display_data"
    }
   ],
   "source": [
    "temp_df3 %>%\n",
    "filter(guideType == \"targeting\") %>% ### targeting or negative control\n",
    "select(chrPerturbationTarget, startPerturbationTarget, endPerturbationTarget, strandPerturbationTarget) %>%\n",
    "distinct() %>%\n",
    "dim()"
   ]
  },
  {
   "cell_type": "code",
   "execution_count": 12,
   "metadata": {},
   "outputs": [
    {
     "data": {
      "text/html": [
       "<table class=\"dataframe\">\n",
       "<caption>A data.frame: 0 × 4</caption>\n",
       "<thead>\n",
       "\t<tr><th scope=col>chrPerturbationTarget</th><th scope=col>startPerturbationTarget</th><th scope=col>endPerturbationTarget</th><th scope=col>strandPerturbationTarget</th></tr>\n",
       "\t<tr><th scope=col>&lt;chr&gt;</th><th scope=col>&lt;int&gt;</th><th scope=col>&lt;int&gt;</th><th scope=col>&lt;chr&gt;</th></tr>\n",
       "</thead>\n",
       "<tbody>\n",
       "</tbody>\n",
       "</table>\n"
      ],
      "text/latex": [
       "A data.frame: 0 × 4\n",
       "\\begin{tabular}{llll}\n",
       " chrPerturbationTarget & startPerturbationTarget & endPerturbationTarget & strandPerturbationTarget\\\\\n",
       " <chr> & <int> & <int> & <chr>\\\\\n",
       "\\hline\n",
       "\\end{tabular}\n"
      ],
      "text/markdown": [
       "\n",
       "A data.frame: 0 × 4\n",
       "\n",
       "| chrPerturbationTarget &lt;chr&gt; | startPerturbationTarget &lt;int&gt; | endPerturbationTarget &lt;int&gt; | strandPerturbationTarget &lt;chr&gt; |\n",
       "|---|---|---|---|\n",
       "\n"
      ],
      "text/plain": [
       "     chrPerturbationTarget startPerturbationTarget endPerturbationTarget\n",
       "     strandPerturbationTarget"
      ]
     },
     "metadata": {},
     "output_type": "display_data"
    }
   ],
   "source": [
    "temp_df3 %>%\n",
    "filter(guideType == \"targeting\") %>% ### targeting or negative control\n",
    "select(chrPerturbationTarget, startPerturbationTarget, endPerturbationTarget, strandPerturbationTarget) %>%\n",
    "distinct() %>%\n",
    "filter(strandPerturbationTarget != \"+\" & strandPerturbationTarget != \"-\")"
   ]
  },
  {
   "cell_type": "markdown",
   "metadata": {},
   "source": [
    "### Combine into one dataframe\n",
    "\n",
    "Keep the `grna_label` so I can note the total number of perturbations performed vs the number of unique perturbations. (also have to factor in >1 experiment w/ same library though)"
   ]
  },
  {
   "cell_type": "code",
   "execution_count": 13,
   "metadata": {},
   "outputs": [],
   "source": [
    "hg38_df <- rbind(\n",
    "    temp_df1 %>% \n",
    "    select(grna_chr:grna_end, grna_strand, grna_label),\n",
    "    \n",
    "    temp_df2 %>%\n",
    "    filter(!grepl(\"SAFE\", grna_label) & !grepl(\"NT\", grna_label) & !grepl(\"CTRL\", grna_label) & !grepl(\"ctrl\", grna_label)) %>%\n",
    "    filter(grna_label != \"\") %>% ### drop empty rows\n",
    "    separate(hg38_coordinate, into = c(\"grna_chr\",\"grna_coords\",\"grna_strand\"), sep = \":\") %>%\n",
    "    separate(grna_coords, into = c(\"grna_start\", \"grna_end\"), sep = \"-\") %>%\n",
    "    select(grna_chr:grna_strand, grna_label),\n",
    "    \n",
    "    temp_df3 %>%\n",
    "    filter(guideType == \"targeting\") %>% ### targeting or negative control\n",
    "    mutate(grna_chr = chrPerturbationTarget,\n",
    "           grna_start = startPerturbationTarget,\n",
    "           grna_end = endPerturbationTarget,\n",
    "           grna_strand = strandPerturbationTarget,\n",
    "           grna_label = PerturbationTargetID\n",
    "          ) %>%\n",
    "    select(grna_chr:grna_strand, grna_label)\n",
    ") %>%\n",
    "distinct()"
   ]
  },
  {
   "cell_type": "code",
   "execution_count": 14,
   "metadata": {},
   "outputs": [
    {
     "data": {
      "text/html": [
       "<style>\n",
       ".list-inline {list-style: none; margin:0; padding: 0}\n",
       ".list-inline>li {display: inline-block}\n",
       ".list-inline>li:not(:last-child)::after {content: \"\\00b7\"; padding: 0 .5ex}\n",
       "</style>\n",
       "<ol class=list-inline><li>427565</li><li>5</li></ol>\n"
      ],
      "text/latex": [
       "\\begin{enumerate*}\n",
       "\\item 427565\n",
       "\\item 5\n",
       "\\end{enumerate*}\n"
      ],
      "text/markdown": [
       "1. 427565\n",
       "2. 5\n",
       "\n",
       "\n"
      ],
      "text/plain": [
       "[1] 427565      5"
      ]
     },
     "metadata": {},
     "output_type": "display_data"
    }
   ],
   "source": [
    "hg38_df %>%\n",
    "dim()"
   ]
  },
  {
   "cell_type": "code",
   "execution_count": 15,
   "metadata": {},
   "outputs": [
    {
     "data": {
      "text/html": [
       "<style>\n",
       ".list-inline {list-style: none; margin:0; padding: 0}\n",
       ".list-inline>li {display: inline-block}\n",
       ".list-inline>li:not(:last-child)::after {content: \"\\00b7\"; padding: 0 .5ex}\n",
       "</style>\n",
       "<ol class=list-inline><li>356766</li><li>4</li></ol>\n"
      ],
      "text/latex": [
       "\\begin{enumerate*}\n",
       "\\item 356766\n",
       "\\item 4\n",
       "\\end{enumerate*}\n"
      ],
      "text/markdown": [
       "1. 356766\n",
       "2. 4\n",
       "\n",
       "\n"
      ],
      "text/plain": [
       "[1] 356766      4"
      ]
     },
     "metadata": {},
     "output_type": "display_data"
    }
   ],
   "source": [
    "hg38_df %>%\n",
    "select(-grna_label) %>%\n",
    "distinct() %>%\n",
    "dim()"
   ]
  },
  {
   "cell_type": "code",
   "execution_count": 16,
   "metadata": {},
   "outputs": [],
   "source": [
    "temp_df1 <- temp_df2 <- temp_df3 <- NULL"
   ]
  },
  {
   "cell_type": "markdown",
   "metadata": {},
   "source": [
    "### Next, load the Engreitz data, read into one dataframe, then lift to hg38 coordinates\n",
    "\n",
    "There are four .tsv files and each has a different file format so read in each file separately, extract information, then combine. <br>\n",
    "`ENCFF126FFA.tsv` refers to the DHSs targeted in the PPIF screens, `ENCFF172YCL.tsv` has the guide coordinates. <br>\n",
    "`ENCFF647EBF.tsv` refers to the DHSs targeted in all other FF screens, `ENCFF287WXB.tsv` has the guide coordinates."
   ]
  },
  {
   "cell_type": "markdown",
   "metadata": {},
   "source": [
    "#### ! Since the elementReference does not contain sgRNA strand, use one guideQuant file from each experiment instead.\n",
    "\n",
    "Checked the number of lines and the replicates have the same, so all sgRNAs for the specific locus are included for the corresponding file. <br>\n",
    "Note the coordinates are the PAM coordinates so use `start` as the position to adjust for CRISPRi."
   ]
  },
  {
   "cell_type": "code",
   "execution_count": 17,
   "metadata": {},
   "outputs": [
    {
     "data": {
      "text/html": [
       "<table class=\"dataframe\">\n",
       "<caption>A tibble: 1 × 10</caption>\n",
       "<thead>\n",
       "\t<tr><th scope=col>chr</th><th scope=col>start</th><th scope=col>end</th><th scope=col>name</th><th scope=col>strand</th><th scope=col>grna</th><th scope=col>protospacer</th><th scope=col>sequence</th><th scope=col>type</th><th scope=col>element_reference</th></tr>\n",
       "\t<tr><th scope=col>&lt;chr&gt;</th><th scope=col>&lt;dbl&gt;</th><th scope=col>&lt;dbl&gt;</th><th scope=col>&lt;chr&gt;</th><th scope=col>&lt;chr&gt;</th><th scope=col>&lt;chr&gt;</th><th scope=col>&lt;chr&gt;</th><th scope=col>&lt;chr&gt;</th><th scope=col>&lt;chr&gt;</th><th scope=col>&lt;chr&gt;</th></tr>\n",
       "</thead>\n",
       "<tbody>\n",
       "\t<tr><td>chrX</td><td>49012745</td><td>49012748</td><td>FUT1|chrX:49012745-49012748:-</td><td>-</td><td>chrX:49012745-49012748:-</td><td>GCGGCTGGACGCGCGCCCCC</td><td>GCGGCTGGACGCGCGCCCCC</td><td>targeting</td><td>/data/gersbachlab/lrb53/encodeCrisprWG/figure1meta/released/EngreitzElementReference/guideQuant/ENCFF014XLT.tsv</td></tr>\n",
       "</tbody>\n",
       "</table>\n"
      ],
      "text/latex": [
       "A tibble: 1 × 10\n",
       "\\begin{tabular}{llllllllll}\n",
       " chr & start & end & name & strand & grna & protospacer & sequence & type & element\\_reference\\\\\n",
       " <chr> & <dbl> & <dbl> & <chr> & <chr> & <chr> & <chr> & <chr> & <chr> & <chr>\\\\\n",
       "\\hline\n",
       "\t chrX & 49012745 & 49012748 & FUT1\\textbar{}chrX:49012745-49012748:- & - & chrX:49012745-49012748:- & GCGGCTGGACGCGCGCCCCC & GCGGCTGGACGCGCGCCCCC & targeting & /data/gersbachlab/lrb53/encodeCrisprWG/figure1meta/released/EngreitzElementReference/guideQuant/ENCFF014XLT.tsv\\\\\n",
       "\\end{tabular}\n"
      ],
      "text/markdown": [
       "\n",
       "A tibble: 1 × 10\n",
       "\n",
       "| chr &lt;chr&gt; | start &lt;dbl&gt; | end &lt;dbl&gt; | name &lt;chr&gt; | strand &lt;chr&gt; | grna &lt;chr&gt; | protospacer &lt;chr&gt; | sequence &lt;chr&gt; | type &lt;chr&gt; | element_reference &lt;chr&gt; |\n",
       "|---|---|---|---|---|---|---|---|---|---|\n",
       "| chrX | 49012745 | 49012748 | FUT1|chrX:49012745-49012748:- | - | chrX:49012745-49012748:- | GCGGCTGGACGCGCGCCCCC | GCGGCTGGACGCGCGCCCCC | targeting | /data/gersbachlab/lrb53/encodeCrisprWG/figure1meta/released/EngreitzElementReference/guideQuant/ENCFF014XLT.tsv |\n",
       "\n"
      ],
      "text/plain": [
       "  chr  start    end      name                          strand\n",
       "1 chrX 49012745 49012748 FUT1|chrX:49012745-49012748:- -     \n",
       "  grna                     protospacer          sequence             type     \n",
       "1 chrX:49012745-49012748:- GCGGCTGGACGCGCGCCCCC GCGGCTGGACGCGCGCCCCC targeting\n",
       "  element_reference                                                                                              \n",
       "1 /data/gersbachlab/lrb53/encodeCrisprWG/figure1meta/released/EngreitzElementReference/guideQuant/ENCFF014XLT.tsv"
      ]
     },
     "metadata": {},
     "output_type": "display_data"
    }
   ],
   "source": [
    "# path to the data\n",
    "data_path <- '/data/gersbachlab/lrb53/encodeCrisprWG/figure1meta/released/EngreitzElementReference/guideQuant'  \n",
    "\n",
    "# set file names\n",
    "files <- dir(data_path, pattern = \"*.tsv\") # get file names\n",
    "df1 <- files %>%\n",
    "  # read in all the files, appending the path before the filename\n",
    "  map(~ read_tsv(file.path(data_path, .), col_names=FALSE, id = \"element_reference\", show_col_types = FALSE)) %>% \n",
    "  reduce(rbind) %>%\n",
    "  select(X1:X4, X6, X7,X14,X15,X16,element_reference) %>%\n",
    "  distinct() %>%\n",
    "  rename(\"chr\" = X1,\n",
    "         \"start\" = X2,\n",
    "         \"end\" = X3,\n",
    "         \"name\" = X4,\n",
    "         \"strand\" = X6,\n",
    "         \"grna\" = X7,\n",
    "         \"protospacer\" = X14,\n",
    "         \"sequence\" = X15,\n",
    "         \"type\" = X16)\n",
    "\n",
    "head(df1,n=1)"
   ]
  },
  {
   "cell_type": "code",
   "execution_count": 18,
   "metadata": {},
   "outputs": [
    {
     "data": {
      "text/html": [
       "<style>\n",
       ".list-inline {list-style: none; margin:0; padding: 0}\n",
       ".list-inline>li {display: inline-block}\n",
       ".list-inline>li:not(:last-child)::after {content: \"\\00b7\"; padding: 0 .5ex}\n",
       "</style>\n",
       "<ol class=list-inline><li>424261</li><li>10</li></ol>\n"
      ],
      "text/latex": [
       "\\begin{enumerate*}\n",
       "\\item 424261\n",
       "\\item 10\n",
       "\\end{enumerate*}\n"
      ],
      "text/markdown": [
       "1. 424261\n",
       "2. 10\n",
       "\n",
       "\n"
      ],
      "text/plain": [
       "[1] 424261     10"
      ]
     },
     "metadata": {},
     "output_type": "display_data"
    }
   ],
   "source": [
    "dim(df1)"
   ]
  },
  {
   "cell_type": "code",
   "execution_count": 19,
   "metadata": {
    "scrolled": true
   },
   "outputs": [
    {
     "data": {
      "text/html": [
       "<table class=\"dataframe\">\n",
       "<caption>A tibble: 0 × 10</caption>\n",
       "<thead>\n",
       "\t<tr><th scope=col>chr</th><th scope=col>start</th><th scope=col>end</th><th scope=col>name</th><th scope=col>strand</th><th scope=col>grna</th><th scope=col>protospacer</th><th scope=col>sequence</th><th scope=col>type</th><th scope=col>element_reference</th></tr>\n",
       "\t<tr><th scope=col>&lt;chr&gt;</th><th scope=col>&lt;dbl&gt;</th><th scope=col>&lt;dbl&gt;</th><th scope=col>&lt;chr&gt;</th><th scope=col>&lt;chr&gt;</th><th scope=col>&lt;chr&gt;</th><th scope=col>&lt;chr&gt;</th><th scope=col>&lt;chr&gt;</th><th scope=col>&lt;chr&gt;</th><th scope=col>&lt;chr&gt;</th></tr>\n",
       "</thead>\n",
       "<tbody>\n",
       "</tbody>\n",
       "</table>\n"
      ],
      "text/latex": [
       "A tibble: 0 × 10\n",
       "\\begin{tabular}{llllllllll}\n",
       " chr & start & end & name & strand & grna & protospacer & sequence & type & element\\_reference\\\\\n",
       " <chr> & <dbl> & <dbl> & <chr> & <chr> & <chr> & <chr> & <chr> & <chr> & <chr>\\\\\n",
       "\\hline\n",
       "\\end{tabular}\n"
      ],
      "text/markdown": [
       "\n",
       "A tibble: 0 × 10\n",
       "\n",
       "| chr &lt;chr&gt; | start &lt;dbl&gt; | end &lt;dbl&gt; | name &lt;chr&gt; | strand &lt;chr&gt; | grna &lt;chr&gt; | protospacer &lt;chr&gt; | sequence &lt;chr&gt; | type &lt;chr&gt; | element_reference &lt;chr&gt; |\n",
       "|---|---|---|---|---|---|---|---|---|---|\n",
       "\n"
      ],
      "text/plain": [
       "     chr start end name strand grna protospacer sequence type element_reference"
      ]
     },
     "metadata": {},
     "output_type": "display_data"
    }
   ],
   "source": [
    "df1 %>%\n",
    "filter(grepl(\"chr\",chr)) %>%\n",
    "filter(!grepl(\"NT\",grna) & type == \"targeting\") %>%\n",
    "filter(strand != \"+\" & strand != \"-\")"
   ]
  },
  {
   "cell_type": "markdown",
   "metadata": {},
   "source": [
    "#### Get total count of unique targeting guides"
   ]
  },
  {
   "cell_type": "code",
   "execution_count": 20,
   "metadata": {},
   "outputs": [
    {
     "data": {
      "text/html": [
       "64731"
      ],
      "text/latex": [
       "64731"
      ],
      "text/markdown": [
       "64731"
      ],
      "text/plain": [
       "[1] 64731"
      ]
     },
     "metadata": {},
     "output_type": "display_data"
    }
   ],
   "source": [
    "df1 %>%\n",
    "filter(grepl(\"chr\",chr)) %>% \n",
    "filter(!grepl(\"NT\",grna) & type == \"targeting\") %>% ### 378704\n",
    "select(chr:end, strand, grna) %>% ### 64731 --> significant reduction when removing the gene tested --> grnas tested for >1 gene\n",
    "distinct() %>% ### 64,731\n",
    "count() %>% pull()"
   ]
  },
  {
   "cell_type": "markdown",
   "metadata": {},
   "source": [
    "#### Check for strand information"
   ]
  },
  {
   "cell_type": "code",
   "execution_count": 21,
   "metadata": {},
   "outputs": [
    {
     "data": {
      "text/html": [
       "<table class=\"dataframe\">\n",
       "<caption>A tibble: 15 × 5</caption>\n",
       "<thead>\n",
       "\t<tr><th scope=col>chr</th><th scope=col>start</th><th scope=col>end</th><th scope=col>strand</th><th scope=col>grna</th></tr>\n",
       "\t<tr><th scope=col>&lt;chr&gt;</th><th scope=col>&lt;dbl&gt;</th><th scope=col>&lt;dbl&gt;</th><th scope=col>&lt;chr&gt;</th><th scope=col>&lt;chr&gt;</th></tr>\n",
       "</thead>\n",
       "<tbody>\n",
       "\t<tr><td>chrX </td><td> 48645113</td><td> 48645116</td><td>NA</td><td>chrX:48645113-48645116:nan  </td></tr>\n",
       "\t<tr><td>chrX </td><td> 48645033</td><td> 48645036</td><td>NA</td><td>chrX:48645033-48645036:nan  </td></tr>\n",
       "\t<tr><td>chrX </td><td> 48645094</td><td> 48645097</td><td>NA</td><td>chrX:48645094-48645097:nan  </td></tr>\n",
       "\t<tr><td>chr12</td><td> 54694826</td><td> 54694829</td><td>NA</td><td>chr12:54694826-54694829:nan </td></tr>\n",
       "\t<tr><td>chr12</td><td> 54694551</td><td> 54694554</td><td>NA</td><td>chr12:54694551-54694554:nan </td></tr>\n",
       "\t<tr><td>chr12</td><td> 54694595</td><td> 54694598</td><td>NA</td><td>chr12:54694595-54694598:nan </td></tr>\n",
       "\t<tr><td>chr12</td><td> 54694783</td><td> 54694786</td><td>NA</td><td>chr12:54694783-54694786:nan </td></tr>\n",
       "\t<tr><td>chr3 </td><td>128206681</td><td>128206684</td><td>NA</td><td>chr3:128206681-128206684:nan</td></tr>\n",
       "\t<tr><td>chr3 </td><td>128206780</td><td>128206783</td><td>NA</td><td>chr3:128206780-128206783:nan</td></tr>\n",
       "\t<tr><td>chr3 </td><td>128206702</td><td>128206705</td><td>NA</td><td>chr3:128206702-128206705:nan</td></tr>\n",
       "\t<tr><td>chr19</td><td> 12998051</td><td> 12998054</td><td>NA</td><td>chr19:12998051-12998054:nan </td></tr>\n",
       "\t<tr><td>chr19</td><td> 12998016</td><td> 12998019</td><td>NA</td><td>chr19:12998016-12998019:nan </td></tr>\n",
       "\t<tr><td>chr19</td><td> 12997925</td><td> 12997928</td><td>NA</td><td>chr19:12997925-12997928:nan </td></tr>\n",
       "\t<tr><td>chr19</td><td> 12997993</td><td> 12997996</td><td>NA</td><td>chr19:12997993-12997996:nan </td></tr>\n",
       "\t<tr><td>chr3 </td><td>128206415</td><td>128206418</td><td>NA</td><td>chr3:128206415-128206418:nan</td></tr>\n",
       "</tbody>\n",
       "</table>\n"
      ],
      "text/latex": [
       "A tibble: 15 × 5\n",
       "\\begin{tabular}{lllll}\n",
       " chr & start & end & strand & grna\\\\\n",
       " <chr> & <dbl> & <dbl> & <chr> & <chr>\\\\\n",
       "\\hline\n",
       "\t chrX  &  48645113 &  48645116 & NA & chrX:48645113-48645116:nan  \\\\\n",
       "\t chrX  &  48645033 &  48645036 & NA & chrX:48645033-48645036:nan  \\\\\n",
       "\t chrX  &  48645094 &  48645097 & NA & chrX:48645094-48645097:nan  \\\\\n",
       "\t chr12 &  54694826 &  54694829 & NA & chr12:54694826-54694829:nan \\\\\n",
       "\t chr12 &  54694551 &  54694554 & NA & chr12:54694551-54694554:nan \\\\\n",
       "\t chr12 &  54694595 &  54694598 & NA & chr12:54694595-54694598:nan \\\\\n",
       "\t chr12 &  54694783 &  54694786 & NA & chr12:54694783-54694786:nan \\\\\n",
       "\t chr3  & 128206681 & 128206684 & NA & chr3:128206681-128206684:nan\\\\\n",
       "\t chr3  & 128206780 & 128206783 & NA & chr3:128206780-128206783:nan\\\\\n",
       "\t chr3  & 128206702 & 128206705 & NA & chr3:128206702-128206705:nan\\\\\n",
       "\t chr19 &  12998051 &  12998054 & NA & chr19:12998051-12998054:nan \\\\\n",
       "\t chr19 &  12998016 &  12998019 & NA & chr19:12998016-12998019:nan \\\\\n",
       "\t chr19 &  12997925 &  12997928 & NA & chr19:12997925-12997928:nan \\\\\n",
       "\t chr19 &  12997993 &  12997996 & NA & chr19:12997993-12997996:nan \\\\\n",
       "\t chr3  & 128206415 & 128206418 & NA & chr3:128206415-128206418:nan\\\\\n",
       "\\end{tabular}\n"
      ],
      "text/markdown": [
       "\n",
       "A tibble: 15 × 5\n",
       "\n",
       "| chr &lt;chr&gt; | start &lt;dbl&gt; | end &lt;dbl&gt; | strand &lt;chr&gt; | grna &lt;chr&gt; |\n",
       "|---|---|---|---|---|\n",
       "| chrX  |  48645113 |  48645116 | NA | chrX:48645113-48645116:nan   |\n",
       "| chrX  |  48645033 |  48645036 | NA | chrX:48645033-48645036:nan   |\n",
       "| chrX  |  48645094 |  48645097 | NA | chrX:48645094-48645097:nan   |\n",
       "| chr12 |  54694826 |  54694829 | NA | chr12:54694826-54694829:nan  |\n",
       "| chr12 |  54694551 |  54694554 | NA | chr12:54694551-54694554:nan  |\n",
       "| chr12 |  54694595 |  54694598 | NA | chr12:54694595-54694598:nan  |\n",
       "| chr12 |  54694783 |  54694786 | NA | chr12:54694783-54694786:nan  |\n",
       "| chr3  | 128206681 | 128206684 | NA | chr3:128206681-128206684:nan |\n",
       "| chr3  | 128206780 | 128206783 | NA | chr3:128206780-128206783:nan |\n",
       "| chr3  | 128206702 | 128206705 | NA | chr3:128206702-128206705:nan |\n",
       "| chr19 |  12998051 |  12998054 | NA | chr19:12998051-12998054:nan  |\n",
       "| chr19 |  12998016 |  12998019 | NA | chr19:12998016-12998019:nan  |\n",
       "| chr19 |  12997925 |  12997928 | NA | chr19:12997925-12997928:nan  |\n",
       "| chr19 |  12997993 |  12997996 | NA | chr19:12997993-12997996:nan  |\n",
       "| chr3  | 128206415 | 128206418 | NA | chr3:128206415-128206418:nan |\n",
       "\n"
      ],
      "text/plain": [
       "   chr   start     end       strand grna                        \n",
       "1  chrX   48645113  48645116 NA     chrX:48645113-48645116:nan  \n",
       "2  chrX   48645033  48645036 NA     chrX:48645033-48645036:nan  \n",
       "3  chrX   48645094  48645097 NA     chrX:48645094-48645097:nan  \n",
       "4  chr12  54694826  54694829 NA     chr12:54694826-54694829:nan \n",
       "5  chr12  54694551  54694554 NA     chr12:54694551-54694554:nan \n",
       "6  chr12  54694595  54694598 NA     chr12:54694595-54694598:nan \n",
       "7  chr12  54694783  54694786 NA     chr12:54694783-54694786:nan \n",
       "8  chr3  128206681 128206684 NA     chr3:128206681-128206684:nan\n",
       "9  chr3  128206780 128206783 NA     chr3:128206780-128206783:nan\n",
       "10 chr3  128206702 128206705 NA     chr3:128206702-128206705:nan\n",
       "11 chr19  12998051  12998054 NA     chr19:12998051-12998054:nan \n",
       "12 chr19  12998016  12998019 NA     chr19:12998016-12998019:nan \n",
       "13 chr19  12997925  12997928 NA     chr19:12997925-12997928:nan \n",
       "14 chr19  12997993  12997996 NA     chr19:12997993-12997996:nan \n",
       "15 chr3  128206415 128206418 NA     chr3:128206415-128206418:nan"
      ]
     },
     "metadata": {},
     "output_type": "display_data"
    }
   ],
   "source": [
    "df1 %>%\n",
    "filter(grepl(\"chr\",chr)) %>% \n",
    "filter(!grepl(\"NT\",grna) & type == \"targeting\") %>% ### 378704\n",
    "select(chr:end, strand, grna) %>%\n",
    "distinct() %>%\n",
    "filter(is.na(strand))"
   ]
  },
  {
   "cell_type": "markdown",
   "metadata": {},
   "source": [
    "Since these 15 sgRNAs are missing strand information, manually BLAT sequences using UCSC tool (align to hg19). The input guideQuant files have blanks where the strand information should be."
   ]
  },
  {
   "cell_type": "markdown",
   "metadata": {},
   "source": [
    " - chrX:48645113-48645116:nan, GGGTAGGGGCAGCAGGCCCA (FUT1) --> -\n",
    " - chrX:48645033-48645036:nan, GTTCGGCCGCCTTGGGGATG (FUT1) --> -\n",
    " - chrX:48645094-48645097:nan, GCCCCCACCAAGGCAACCCT (FUT1) --> +\n",
    " - chr12:54694826-54694829:nan, GGACTGAGAACTCAGGCCGA (FUT1) --> -\n",
    " - chr12:54694551-54694554:nan, GGATTCCAGTGAGATCCGAG (FUT1) --> -\n",
    " - chr12:54694595-54694598:nan, GCTCCACCACAGGTGCCTGAA (FUT1) --> -\n",
    " - chr12:54694783-54694786:nan, GTGAGCACAGGAGCCCCAAGC (FUT1) --> + (remove 5' G)\n",
    " - chr3:128206681-128206684:nan, GCTTACAGGGTAGGAGCTGG (FUT1) --> +\n",
    " - chr3:128206780-128206783:nan, GCTTCATGTCTGTGCAGGAGT (FUT1) --> -\n",
    " - chr3:128206702-128206705:nan, GGTAGAGTGCGCCTCGGCCT (FUT1) --> +\n",
    " - chr19:12998051-12998054:nan, GACAGAGAGGAGCCCTCGAAG (FUT1) --> -\n",
    " - chr19:12998016-12998019:nan, GCGGCTGCCTCGTGAACTCTG (FUT1) --> + (remove 5' G)\n",
    " - chr19:12997925-12997928:nan, GCATCAGCACACTGACCGCCC (FUT1) --> -\n",
    " - chr19:12997993-12997996:nan, GAAGAGGAGGCTTGAGGCCCA (FUT1) --> -\n",
    " - chr3:128206415-128206418:nan, GCCCCTGAGCGCAGTACTAAG (ITGA5) --> + (remove 5' G)\n"
   ]
  },
  {
   "cell_type": "markdown",
   "metadata": {},
   "source": [
    "Add the strand information for those 15 sgRNAs."
   ]
  },
  {
   "cell_type": "code",
   "execution_count": 22,
   "metadata": {},
   "outputs": [],
   "source": [
    "# df1 %>%\n",
    "# filter(type == \"targeting\" & grepl(\"chr\",chr)) %>%\n",
    "# mutate(strand = case_when(\n",
    "#     strand == \"+\" ~ \"+\",\n",
    "#     strand == \"-\" ~ \"-\",\n",
    "#     is.na(strand) & grna == \"chrX:48645113-48645116:nan\" ~ \"-\",\n",
    "#     is.na(strand) & grna == \"chrX:48645033-48645036:nan\" ~ \"-\",\n",
    "#     is.na(strand) & grna == \"chrX:48645094-48645097:nan\" ~ \"+\",\n",
    "#     is.na(strand) & grna == \"chr12:54694826-54694829:nan\" ~ \"-\",\n",
    "#     is.na(strand) & grna == \"chr12:54694551-54694554:nan\" ~ \"-\",\n",
    "#     is.na(strand) & grna == \"chr12:54694595-54694598:nan\" ~ \"-\",\n",
    "#     is.na(strand) & grna == \"chr12:54694783-54694786:nan\" ~ \"+\",\n",
    "#     is.na(strand) & grna == \"chr3:128206681-128206684:nan\" ~ \"+\",\n",
    "#     is.na(strand) & grna == \"chr3:128206780-128206783:nan\" ~ \"-\",\n",
    "#     is.na(strand) & grna == \"chr3:128206702-128206705:nan\" ~ \"+\",\n",
    "#     is.na(strand) & grna == \"chr19:12998051-12998054:nan\" ~ \"-\",\n",
    "#     is.na(strand) & grna == \"chr19:12998016-12998019:nan\" ~ \"+\",\n",
    "#     is.na(strand) & grna == \"chr19:12997925-12997928:nan\" ~ \"-\",\n",
    "#     is.na(strand) & grna == \"chr19:12997993-12997996:nan\" ~ \"-\",\n",
    "#     is.na(strand) & grna == \"chr3:128206415-128206418:nan\" ~ \"+\",\n",
    "#     TRUE ~ \"wrong\"    \n",
    "# )) %>%\n",
    "# filter(strand == \"wrong\")"
   ]
  },
  {
   "cell_type": "code",
   "execution_count": 23,
   "metadata": {},
   "outputs": [],
   "source": [
    "# df1 %>%\n",
    "# filter(type == \"targeting\" & grepl(\"chr\",chr)) %>%\n",
    "# mutate(strand = case_when(\n",
    "#     strand == \"+\" ~ \"+\",\n",
    "#     strand == \"-\" ~ \"-\",\n",
    "#     is.na(strand) & grna == \"chrX:48645113-48645116:nan\" ~ \"-\",\n",
    "#     is.na(strand) & grna == \"chrX:48645033-48645036:nan\" ~ \"-\",\n",
    "#     is.na(strand) & grna == \"chrX:48645094-48645097:nan\" ~ \"+\",\n",
    "#     is.na(strand) & grna == \"chr12:54694826-54694829:nan\" ~ \"-\",\n",
    "#     is.na(strand) & grna == \"chr12:54694551-54694554:nan\" ~ \"-\",\n",
    "#     is.na(strand) & grna == \"chr12:54694595-54694598:nan\" ~ \"-\",\n",
    "#     is.na(strand) & grna == \"chr12:54694783-54694786:nan\" ~ \"+\",\n",
    "#     is.na(strand) & grna == \"chr3:128206681-128206684:nan\" ~ \"+\",\n",
    "#     is.na(strand) & grna == \"chr3:128206780-128206783:nan\" ~ \"-\",\n",
    "#     is.na(strand) & grna == \"chr3:128206702-128206705:nan\" ~ \"+\",\n",
    "#     is.na(strand) & grna == \"chr19:12998051-12998054:nan\" ~ \"-\",\n",
    "#     is.na(strand) & grna == \"chr19:12998016-12998019:nan\" ~ \"+\",\n",
    "#     is.na(strand) & grna == \"chr19:12997925-12997928:nan\" ~ \"-\",\n",
    "#     is.na(strand) & grna == \"chr19:12997993-12997996:nan\" ~ \"-\",\n",
    "#     is.na(strand) & grna == \"chr3:128206415-128206418:nan\" ~ \"+\",\n",
    "#     TRUE ~ \"wrong\"    \n",
    "# )) %>%\n",
    "# filter(strand != \"+\" & strand != \"-\")"
   ]
  },
  {
   "cell_type": "code",
   "execution_count": 24,
   "metadata": {},
   "outputs": [
    {
     "data": {
      "text/html": [
       "<table class=\"dataframe\">\n",
       "<caption>A tibble: 1 × 10</caption>\n",
       "<thead>\n",
       "\t<tr><th scope=col>chr</th><th scope=col>start</th><th scope=col>end</th><th scope=col>name</th><th scope=col>strand</th><th scope=col>grna</th><th scope=col>protospacer</th><th scope=col>sequence</th><th scope=col>type</th><th scope=col>element_reference</th></tr>\n",
       "\t<tr><th scope=col>&lt;chr&gt;</th><th scope=col>&lt;dbl&gt;</th><th scope=col>&lt;dbl&gt;</th><th scope=col>&lt;chr&gt;</th><th scope=col>&lt;chr&gt;</th><th scope=col>&lt;chr&gt;</th><th scope=col>&lt;chr&gt;</th><th scope=col>&lt;chr&gt;</th><th scope=col>&lt;chr&gt;</th><th scope=col>&lt;chr&gt;</th></tr>\n",
       "</thead>\n",
       "<tbody>\n",
       "\t<tr><td>chrX</td><td>49012745</td><td>49012748</td><td>FUT1|chrX:49012745-49012748:-</td><td>-</td><td>chrX:49012745-49012748:-</td><td>GCGGCTGGACGCGCGCCCCC</td><td>GCGGCTGGACGCGCGCCCCC</td><td>targeting</td><td>/data/gersbachlab/lrb53/encodeCrisprWG/figure1meta/released/EngreitzElementReference/guideQuant/ENCFF014XLT.tsv</td></tr>\n",
       "</tbody>\n",
       "</table>\n"
      ],
      "text/latex": [
       "A tibble: 1 × 10\n",
       "\\begin{tabular}{llllllllll}\n",
       " chr & start & end & name & strand & grna & protospacer & sequence & type & element\\_reference\\\\\n",
       " <chr> & <dbl> & <dbl> & <chr> & <chr> & <chr> & <chr> & <chr> & <chr> & <chr>\\\\\n",
       "\\hline\n",
       "\t chrX & 49012745 & 49012748 & FUT1\\textbar{}chrX:49012745-49012748:- & - & chrX:49012745-49012748:- & GCGGCTGGACGCGCGCCCCC & GCGGCTGGACGCGCGCCCCC & targeting & /data/gersbachlab/lrb53/encodeCrisprWG/figure1meta/released/EngreitzElementReference/guideQuant/ENCFF014XLT.tsv\\\\\n",
       "\\end{tabular}\n"
      ],
      "text/markdown": [
       "\n",
       "A tibble: 1 × 10\n",
       "\n",
       "| chr &lt;chr&gt; | start &lt;dbl&gt; | end &lt;dbl&gt; | name &lt;chr&gt; | strand &lt;chr&gt; | grna &lt;chr&gt; | protospacer &lt;chr&gt; | sequence &lt;chr&gt; | type &lt;chr&gt; | element_reference &lt;chr&gt; |\n",
       "|---|---|---|---|---|---|---|---|---|---|\n",
       "| chrX | 49012745 | 49012748 | FUT1|chrX:49012745-49012748:- | - | chrX:49012745-49012748:- | GCGGCTGGACGCGCGCCCCC | GCGGCTGGACGCGCGCCCCC | targeting | /data/gersbachlab/lrb53/encodeCrisprWG/figure1meta/released/EngreitzElementReference/guideQuant/ENCFF014XLT.tsv |\n",
       "\n"
      ],
      "text/plain": [
       "  chr  start    end      name                          strand\n",
       "1 chrX 49012745 49012748 FUT1|chrX:49012745-49012748:- -     \n",
       "  grna                     protospacer          sequence             type     \n",
       "1 chrX:49012745-49012748:- GCGGCTGGACGCGCGCCCCC GCGGCTGGACGCGCGCCCCC targeting\n",
       "  element_reference                                                                                              \n",
       "1 /data/gersbachlab/lrb53/encodeCrisprWG/figure1meta/released/EngreitzElementReference/guideQuant/ENCFF014XLT.tsv"
      ]
     },
     "metadata": {},
     "output_type": "display_data"
    },
    {
     "data": {
      "text/html": [
       "<style>\n",
       ".list-inline {list-style: none; margin:0; padding: 0}\n",
       ".list-inline>li {display: inline-block}\n",
       ".list-inline>li:not(:last-child)::after {content: \"\\00b7\"; padding: 0 .5ex}\n",
       "</style>\n",
       "<ol class=list-inline><li>378704</li><li>10</li></ol>\n"
      ],
      "text/latex": [
       "\\begin{enumerate*}\n",
       "\\item 378704\n",
       "\\item 10\n",
       "\\end{enumerate*}\n"
      ],
      "text/markdown": [
       "1. 378704\n",
       "2. 10\n",
       "\n",
       "\n"
      ],
      "text/plain": [
       "[1] 378704     10"
      ]
     },
     "metadata": {},
     "output_type": "display_data"
    }
   ],
   "source": [
    "df1_target <- df1 %>%\n",
    "filter(type == \"targeting\" & grepl(\"chr\",chr)) %>%\n",
    "mutate(strand = case_when(\n",
    "    strand == \"+\" ~ \"+\",\n",
    "    strand == \"-\" ~ \"-\",\n",
    "    is.na(strand) & grna == \"chrX:48645113-48645116:nan\" ~ \"-\",\n",
    "    is.na(strand) & grna == \"chrX:48645033-48645036:nan\" ~ \"-\",\n",
    "    is.na(strand) & grna == \"chrX:48645094-48645097:nan\" ~ \"+\",\n",
    "    is.na(strand) & grna == \"chr12:54694826-54694829:nan\" ~ \"-\",\n",
    "    is.na(strand) & grna == \"chr12:54694551-54694554:nan\" ~ \"-\",\n",
    "    is.na(strand) & grna == \"chr12:54694595-54694598:nan\" ~ \"-\",\n",
    "    is.na(strand) & grna == \"chr12:54694783-54694786:nan\" ~ \"+\",\n",
    "    is.na(strand) & grna == \"chr3:128206681-128206684:nan\" ~ \"+\",\n",
    "    is.na(strand) & grna == \"chr3:128206780-128206783:nan\" ~ \"-\",\n",
    "    is.na(strand) & grna == \"chr3:128206702-128206705:nan\" ~ \"+\",\n",
    "    is.na(strand) & grna == \"chr19:12998051-12998054:nan\" ~ \"-\",\n",
    "    is.na(strand) & grna == \"chr19:12998016-12998019:nan\" ~ \"+\",\n",
    "    is.na(strand) & grna == \"chr19:12997925-12997928:nan\" ~ \"-\",\n",
    "    is.na(strand) & grna == \"chr19:12997993-12997996:nan\" ~ \"-\",\n",
    "    is.na(strand) & grna == \"chr3:128206415-128206418:nan\" ~ \"+\",\n",
    "    TRUE ~ \"wrong\"    \n",
    ")) \n",
    "\n",
    "head(df1_target,n=1)\n",
    "dim(df1_target)"
   ]
  },
  {
   "cell_type": "markdown",
   "metadata": {},
   "source": [
    "#### Generate .bed file, then lift to hg38 coordinates."
   ]
  },
  {
   "cell_type": "code",
   "execution_count": 43,
   "metadata": {},
   "outputs": [],
   "source": [
    "# df1_target %>%\n",
    "# select(chr, start, end, strand) %>%\n",
    "# distinct() %>% ### 64,731 \n",
    "# write.table(\"/data/gersbachlab/lrb53/encodeCrisprWG/finalversion/figure1/allmeta/elementReference/hg19_to_hg38/elementReference.hg19.20230411.bed\",\n",
    "#             col.names=FALSE, row.names=FALSE, sep=\"\\t\", quote=FALSE) "
   ]
  },
  {
   "cell_type": "markdown",
   "metadata": {},
   "source": [
    "Successfully converted 64731 records using UCSC liftOver tool."
   ]
  },
  {
   "cell_type": "markdown",
   "metadata": {},
   "source": [
    "### Load hg38 coordinates"
   ]
  },
  {
   "cell_type": "code",
   "execution_count": 25,
   "metadata": {},
   "outputs": [
    {
     "data": {
      "text/html": [
       "<table class=\"dataframe\">\n",
       "<caption>A data.frame: 1 × 4</caption>\n",
       "<thead>\n",
       "\t<tr><th></th><th scope=col>chr</th><th scope=col>start</th><th scope=col>end</th><th scope=col>strand</th></tr>\n",
       "\t<tr><th></th><th scope=col>&lt;chr&gt;</th><th scope=col>&lt;int&gt;</th><th scope=col>&lt;int&gt;</th><th scope=col>&lt;chr&gt;</th></tr>\n",
       "</thead>\n",
       "<tbody>\n",
       "\t<tr><th scope=row>1</th><td>chrX</td><td>49156408</td><td>49156411</td><td>-</td></tr>\n",
       "</tbody>\n",
       "</table>\n"
      ],
      "text/latex": [
       "A data.frame: 1 × 4\n",
       "\\begin{tabular}{r|llll}\n",
       "  & chr & start & end & strand\\\\\n",
       "  & <chr> & <int> & <int> & <chr>\\\\\n",
       "\\hline\n",
       "\t1 & chrX & 49156408 & 49156411 & -\\\\\n",
       "\\end{tabular}\n"
      ],
      "text/markdown": [
       "\n",
       "A data.frame: 1 × 4\n",
       "\n",
       "| <!--/--> | chr &lt;chr&gt; | start &lt;int&gt; | end &lt;int&gt; | strand &lt;chr&gt; |\n",
       "|---|---|---|---|---|\n",
       "| 1 | chrX | 49156408 | 49156411 | - |\n",
       "\n"
      ],
      "text/plain": [
       "  chr  start    end      strand\n",
       "1 chrX 49156408 49156411 -     "
      ]
     },
     "metadata": {},
     "output_type": "display_data"
    },
    {
     "data": {
      "text/html": [
       "<style>\n",
       ".list-inline {list-style: none; margin:0; padding: 0}\n",
       ".list-inline>li {display: inline-block}\n",
       ".list-inline>li:not(:last-child)::after {content: \"\\00b7\"; padding: 0 .5ex}\n",
       "</style>\n",
       "<ol class=list-inline><li>64731</li><li>4</li></ol>\n"
      ],
      "text/latex": [
       "\\begin{enumerate*}\n",
       "\\item 64731\n",
       "\\item 4\n",
       "\\end{enumerate*}\n"
      ],
      "text/markdown": [
       "1. 64731\n",
       "2. 4\n",
       "\n",
       "\n"
      ],
      "text/plain": [
       "[1] 64731     4"
      ]
     },
     "metadata": {},
     "output_type": "display_data"
    }
   ],
   "source": [
    "hg19_df_lift <- read.delim(\"/data/gersbachlab/lrb53/encodeCrisprWG/finalversion/figure1/allmeta/elementReference/hg19_to_hg38/elementReference.hg19tohg38.20230411.bed\",\n",
    "                  header = FALSE, col.names = c(\"chr\",\"start\",\"end\",\"strand\")) \n",
    "\n",
    "head(hg19_df_lift,n=1)\n",
    "dim(hg19_df_lift)"
   ]
  },
  {
   "cell_type": "markdown",
   "metadata": {},
   "source": [
    "### Now, add the lifted coordinates + grnas to the hg38 master df"
   ]
  },
  {
   "cell_type": "code",
   "execution_count": 26,
   "metadata": {},
   "outputs": [
    {
     "data": {
      "text/html": [
       "<table class=\"dataframe\">\n",
       "<caption>A data.frame: 1 × 4</caption>\n",
       "<thead>\n",
       "\t<tr><th></th><th scope=col>grna_chr</th><th scope=col>grna_start</th><th scope=col>grna_end</th><th scope=col>grna_strand</th></tr>\n",
       "\t<tr><th></th><th scope=col>&lt;chr&gt;</th><th scope=col>&lt;chr&gt;</th><th scope=col>&lt;chr&gt;</th><th scope=col>&lt;chr&gt;</th></tr>\n",
       "</thead>\n",
       "<tbody>\n",
       "\t<tr><th scope=row>1</th><td>chrX</td><td>49156408</td><td>49156411</td><td>-</td></tr>\n",
       "</tbody>\n",
       "</table>\n"
      ],
      "text/latex": [
       "A data.frame: 1 × 4\n",
       "\\begin{tabular}{r|llll}\n",
       "  & grna\\_chr & grna\\_start & grna\\_end & grna\\_strand\\\\\n",
       "  & <chr> & <chr> & <chr> & <chr>\\\\\n",
       "\\hline\n",
       "\t1 & chrX & 49156408 & 49156411 & -\\\\\n",
       "\\end{tabular}\n"
      ],
      "text/markdown": [
       "\n",
       "A data.frame: 1 × 4\n",
       "\n",
       "| <!--/--> | grna_chr &lt;chr&gt; | grna_start &lt;chr&gt; | grna_end &lt;chr&gt; | grna_strand &lt;chr&gt; |\n",
       "|---|---|---|---|---|\n",
       "| 1 | chrX | 49156408 | 49156411 | - |\n",
       "\n"
      ],
      "text/plain": [
       "  grna_chr grna_start grna_end grna_strand\n",
       "1 chrX     49156408   49156411 -          "
      ]
     },
     "metadata": {},
     "output_type": "display_data"
    }
   ],
   "source": [
    "final_df <-\n",
    "hg19_df_lift %>%\n",
    "rename(grna_chr = chr,\n",
    "       grna_start = start,\n",
    "       grna_end = end,\n",
    "       grna_strand = strand) %>%\n",
    "rbind(hg38_df %>% select(-grna_label) %>% distinct())\n",
    "\n",
    "head(final_df, n=1)"
   ]
  },
  {
   "cell_type": "code",
   "execution_count": 27,
   "metadata": {},
   "outputs": [
    {
     "data": {
      "text/html": [
       "<style>\n",
       ".list-inline {list-style: none; margin:0; padding: 0}\n",
       ".list-inline>li {display: inline-block}\n",
       ".list-inline>li:not(:last-child)::after {content: \"\\00b7\"; padding: 0 .5ex}\n",
       "</style>\n",
       "<ol class=list-inline><li>421497</li><li>4</li></ol>\n"
      ],
      "text/latex": [
       "\\begin{enumerate*}\n",
       "\\item 421497\n",
       "\\item 4\n",
       "\\end{enumerate*}\n"
      ],
      "text/markdown": [
       "1. 421497\n",
       "2. 4\n",
       "\n",
       "\n"
      ],
      "text/plain": [
       "[1] 421497      4"
      ]
     },
     "metadata": {},
     "output_type": "display_data"
    },
    {
     "data": {
      "text/html": [
       "<style>\n",
       ".list-inline {list-style: none; margin:0; padding: 0}\n",
       ".list-inline>li {display: inline-block}\n",
       ".list-inline>li:not(:last-child)::after {content: \"\\00b7\"; padding: 0 .5ex}\n",
       "</style>\n",
       "<ol class=list-inline><li>421497</li><li>4</li></ol>\n"
      ],
      "text/latex": [
       "\\begin{enumerate*}\n",
       "\\item 421497\n",
       "\\item 4\n",
       "\\end{enumerate*}\n"
      ],
      "text/markdown": [
       "1. 421497\n",
       "2. 4\n",
       "\n",
       "\n"
      ],
      "text/plain": [
       "[1] 421497      4"
      ]
     },
     "metadata": {},
     "output_type": "display_data"
    },
    {
     "data": {
      "text/html": [
       "<style>\n",
       ".list-inline {list-style: none; margin:0; padding: 0}\n",
       ".list-inline>li {display: inline-block}\n",
       ".list-inline>li:not(:last-child)::after {content: \"\\00b7\"; padding: 0 .5ex}\n",
       "</style>\n",
       "<ol class=list-inline><li>412211</li><li>3</li></ol>\n"
      ],
      "text/latex": [
       "\\begin{enumerate*}\n",
       "\\item 412211\n",
       "\\item 3\n",
       "\\end{enumerate*}\n"
      ],
      "text/markdown": [
       "1. 412211\n",
       "2. 3\n",
       "\n",
       "\n"
      ],
      "text/plain": [
       "[1] 412211      3"
      ]
     },
     "metadata": {},
     "output_type": "display_data"
    }
   ],
   "source": [
    "final_df %>%\n",
    "dim()\n",
    "\n",
    "final_df %>%\n",
    "select(grna_chr:grna_strand) %>% distinct() %>% dim()\n",
    "\n",
    "final_df %>%\n",
    "select(grna_chr:grna_end) %>% distinct() %>% dim()"
   ]
  },
  {
   "cell_type": "code",
   "execution_count": 28,
   "metadata": {},
   "outputs": [
    {
     "data": {
      "text/html": [
       "<table class=\"dataframe\">\n",
       "<caption>A data.frame: 0 × 5</caption>\n",
       "<thead>\n",
       "\t<tr><th scope=col>grna_chr</th><th scope=col>grna_start</th><th scope=col>grna_end</th><th scope=col>grna_strand</th><th scope=col>grna_label</th></tr>\n",
       "\t<tr><th scope=col>&lt;chr&gt;</th><th scope=col>&lt;chr&gt;</th><th scope=col>&lt;chr&gt;</th><th scope=col>&lt;chr&gt;</th><th scope=col>&lt;chr&gt;</th></tr>\n",
       "</thead>\n",
       "<tbody>\n",
       "</tbody>\n",
       "</table>\n"
      ],
      "text/latex": [
       "A data.frame: 0 × 5\n",
       "\\begin{tabular}{lllll}\n",
       " grna\\_chr & grna\\_start & grna\\_end & grna\\_strand & grna\\_label\\\\\n",
       " <chr> & <chr> & <chr> & <chr> & <chr>\\\\\n",
       "\\hline\n",
       "\\end{tabular}\n"
      ],
      "text/markdown": [
       "\n",
       "A data.frame: 0 × 5\n",
       "\n",
       "| grna_chr &lt;chr&gt; | grna_start &lt;chr&gt; | grna_end &lt;chr&gt; | grna_strand &lt;chr&gt; | grna_label &lt;chr&gt; |\n",
       "|---|---|---|---|---|\n",
       "\n"
      ],
      "text/plain": [
       "     grna_chr grna_start grna_end grna_strand grna_label"
      ]
     },
     "metadata": {},
     "output_type": "display_data"
    }
   ],
   "source": [
    "hg38_df %>%\n",
    "filter(is.na(grna_strand))"
   ]
  },
  {
   "cell_type": "markdown",
   "metadata": {},
   "source": [
    "### Adjust coordinates for perturbation modality, add the paired sgRNAs, then generate .bed file\n",
    "\n",
    "All experiments were performed with CRISPRi and in some cases CRISPRn --> Adjust each perturbation by +/- 150bp for CRISPRi and this will cover the +/- 10bp for CRISPRn. For experiments without strand information, use the midpoint of the protospacer."
   ]
  },
  {
   "cell_type": "code",
   "execution_count": 29,
   "metadata": {},
   "outputs": [
    {
     "data": {
      "text/html": [
       "<style>\n",
       ".list-inline {list-style: none; margin:0; padding: 0}\n",
       ".list-inline>li {display: inline-block}\n",
       ".list-inline>li:not(:last-child)::after {content: \"\\00b7\"; padding: 0 .5ex}\n",
       "</style>\n",
       "<ol class=list-inline><li>'-'</li><li>'+'</li></ol>\n"
      ],
      "text/latex": [
       "\\begin{enumerate*}\n",
       "\\item '-'\n",
       "\\item '+'\n",
       "\\end{enumerate*}\n"
      ],
      "text/markdown": [
       "1. '-'\n",
       "2. '+'\n",
       "\n",
       "\n"
      ],
      "text/plain": [
       "[1] \"-\" \"+\""
      ]
     },
     "metadata": {},
     "output_type": "display_data"
    }
   ],
   "source": [
    "final_df %>%\n",
    "select(grna_strand) %>% distinct() %>% pull()"
   ]
  },
  {
   "cell_type": "code",
   "execution_count": 36,
   "metadata": {},
   "outputs": [
    {
     "data": {
      "image/png": "[encoded data removed]",
      "text/plain": [
       "plot without title"
      ]
     },
     "metadata": {
      "image/png": {
       "height": 420,
       "width": 420
      }
     },
     "output_type": "display_data"
    }
   ],
   "source": [
    "final_df %>%\n",
    "mutate(grna_start = as.numeric(grna_start),\n",
    "       grna_end = as.numeric(grna_end),\n",
    "       grna_mid = round((grna_start + grna_end)/2,0)\n",
    "       ) %>%\n",
    "mutate(pam_loc = case_when(\n",
    "    grna_strand == \"+\" ~ grna_end,\n",
    "    grna_strand == \"-\" ~ grna_start,\n",
    "    TRUE ~ grna_mid\n",
    ")) %>%\n",
    "mutate(region_start = pam_loc - 150,\n",
    "       region_end = pam_loc + 150,\n",
    "       region_chr = grna_chr) %>%\n",
    "mutate(region_size = region_end - region_start) %>%\n",
    "ggplot(aes(x = grna_strand, y = region_size)) +\n",
    "geom_boxplot()"
   ]
  },
  {
   "cell_type": "code",
   "execution_count": 41,
   "metadata": {},
   "outputs": [
    {
     "data": {
      "text/html": [
       "<style>\n",
       ".list-inline {list-style: none; margin:0; padding: 0}\n",
       ".list-inline>li {display: inline-block}\n",
       ".list-inline>li:not(:last-child)::after {content: \"\\00b7\"; padding: 0 .5ex}\n",
       "</style>\n",
       "<ol class=list-inline><li>429840</li><li>3</li></ol>\n"
      ],
      "text/latex": [
       "\\begin{enumerate*}\n",
       "\\item 429840\n",
       "\\item 3\n",
       "\\end{enumerate*}\n"
      ],
      "text/markdown": [
       "1. 429840\n",
       "2. 3\n",
       "\n",
       "\n"
      ],
      "text/plain": [
       "[1] 429840      3"
      ]
     },
     "metadata": {},
     "output_type": "display_data"
    }
   ],
   "source": [
    "final_df %>%\n",
    "mutate(grna_start = as.numeric(grna_start),\n",
    "       grna_end = as.numeric(grna_end),\n",
    "       grna_mid = round((grna_start + grna_end)/2,0)\n",
    "       ) %>%\n",
    "mutate(pam_loc = case_when(\n",
    "    grna_strand == \"+\" ~ grna_end,\n",
    "    grna_strand == \"-\" ~ grna_start,\n",
    "    TRUE ~ grna_mid\n",
    ")) %>%\n",
    "mutate(region_start = pam_loc - 150,\n",
    "       region_end = pam_loc + 150,\n",
    "       region_chr = grna_chr) %>%\n",
    "mutate(region_size = region_end - region_start) %>%\n",
    "select(region_chr, region_start, region_end) %>%\n",
    "distinct() %>%\n",
    "rbind(paired_df %>% rename(region_chr = grna_chrom, region_start = grna_start, region_end = grna_end)) %>%\n",
    "distinct() %>%\n",
    "arrange(region_chr, region_start) %>%\n",
    "dim()"
   ]
  },
  {
   "cell_type": "code",
   "execution_count": 42,
   "metadata": {},
   "outputs": [],
   "source": [
    "final_df %>%\n",
    "mutate(grna_start = as.numeric(grna_start),\n",
    "       grna_end = as.numeric(grna_end),\n",
    "       grna_mid = round((grna_start + grna_end)/2,0)\n",
    "       ) %>%\n",
    "mutate(pam_loc = case_when(\n",
    "    grna_strand == \"+\" ~ grna_end,\n",
    "    grna_strand == \"-\" ~ grna_start,\n",
    "    TRUE ~ grna_mid\n",
    ")) %>%\n",
    "mutate(region_start = pam_loc - 150,\n",
    "       region_end = pam_loc + 150,\n",
    "       region_chr = grna_chr) %>%\n",
    "mutate(region_size = region_end - region_start) %>%\n",
    "select(region_chr, region_start, region_end) %>%\n",
    "distinct() %>%\n",
    "rbind(paired_df %>% rename(region_chr = grna_chrom, region_start = grna_start, region_end = grna_end)) %>%\n",
    "distinct() %>%\n",
    "arrange(region_chr, region_start) %>%\n",
    "write.table(\"/data/gersbachlab/lrb53/encodeCrisprWG/finalversion/figure1/allmeta/elementReference/combined/elementReference.combined.hg38.20230411.bed\",\n",
    "            col.names = FALSE, row.names = FALSE, quote = FALSE, sep = \"\\t\")\n"
   ]
  },
  {
   "cell_type": "markdown",
   "metadata": {},
   "source": [
    "## 4. Generate master elementQuant file"
   ]
  },
  {
   "cell_type": "markdown",
   "metadata": {},
   "source": [
    "### Start with loading the elementReference files that are `bed6` format."
   ]
  },
  {
   "cell_type": "code",
   "execution_count": 36,
   "metadata": {},
   "outputs": [
    {
     "name": "stderr",
     "output_type": "stream",
     "text": [
      "Warning message in read.table(file = file, header = header, sep = sep, quote = quote, :\n",
      "“incomplete final line found by readTableHeader on '/data/gersbachlab/lrb53/encodeCrisprWG/finalversion/figure1/allmeta/elementQuant/hg38/ENCFF149IDL.bed.gz'”\n",
      "Warning message in read.table(file = file, header = header, sep = sep, quote = quote, :\n",
      "“incomplete final line found by readTableHeader on '/data/gersbachlab/lrb53/encodeCrisprWG/finalversion/figure1/allmeta/elementQuant/hg38/ENCFF151MNC.bed.gz'”\n",
      "Warning message in read.table(file = file, header = header, sep = sep, quote = quote, :\n",
      "“incomplete final line found by readTableHeader on '/data/gersbachlab/lrb53/encodeCrisprWG/finalversion/figure1/allmeta/elementQuant/hg38/ENCFF240IPT.bed.gz'”\n",
      "Warning message in read.table(file = file, header = header, sep = sep, quote = quote, :\n",
      "“incomplete final line found by readTableHeader on '/data/gersbachlab/lrb53/encodeCrisprWG/finalversion/figure1/allmeta/elementQuant/hg38/ENCFF270LYK.bed.gz'”\n",
      "Warning message in read.table(file = file, header = header, sep = sep, quote = quote, :\n",
      "“incomplete final line found by readTableHeader on '/data/gersbachlab/lrb53/encodeCrisprWG/finalversion/figure1/allmeta/elementQuant/hg38/ENCFF413WYU.bed.gz'”\n",
      "Warning message in read.table(file = file, header = header, sep = sep, quote = quote, :\n",
      "“incomplete final line found by readTableHeader on '/data/gersbachlab/lrb53/encodeCrisprWG/finalversion/figure1/allmeta/elementQuant/hg38/ENCFF619FXH.bed.gz'”\n",
      "Warning message in read.table(file = file, header = header, sep = sep, quote = quote, :\n",
      "“incomplete final line found by readTableHeader on '/data/gersbachlab/lrb53/encodeCrisprWG/finalversion/figure1/allmeta/elementQuant/hg38/ENCFF632PQY.bed.gz'”\n",
      "Warning message in read.table(file = file, header = header, sep = sep, quote = quote, :\n",
      "“incomplete final line found by readTableHeader on '/data/gersbachlab/lrb53/encodeCrisprWG/finalversion/figure1/allmeta/elementQuant/hg38/ENCFF786ZPA.bed.gz'”\n",
      "Warning message in read.table(file = file, header = header, sep = sep, quote = quote, :\n",
      "“incomplete final line found by readTableHeader on '/data/gersbachlab/lrb53/encodeCrisprWG/finalversion/figure1/allmeta/elementQuant/hg38/ENCFF813GCK.bed.gz'”\n",
      "Warning message in read.table(file = file, header = header, sep = sep, quote = quote, :\n",
      "“incomplete final line found by readTableHeader on '/data/gersbachlab/lrb53/encodeCrisprWG/finalversion/figure1/allmeta/elementQuant/hg38/ENCFF863AVQ.bed.gz'”\n",
      "Warning message in read.table(file = file, header = header, sep = sep, quote = quote, :\n",
      "“incomplete final line found by readTableHeader on '/data/gersbachlab/lrb53/encodeCrisprWG/finalversion/figure1/allmeta/elementQuant/hg38/ENCFF894DJT.bed.gz'”\n"
     ]
    },
    {
     "data": {
      "text/html": [
       "<table class=\"dataframe\">\n",
       "<caption>A data.frame: 1 × 5</caption>\n",
       "<thead>\n",
       "\t<tr><th></th><th scope=col>element_chr</th><th scope=col>element_start</th><th scope=col>element_end</th><th scope=col>element_label</th><th scope=col>element_result</th></tr>\n",
       "\t<tr><th></th><th scope=col>&lt;chr&gt;</th><th scope=col>&lt;int&gt;</th><th scope=col>&lt;int&gt;</th><th scope=col>&lt;chr&gt;</th><th scope=col>&lt;chr&gt;</th></tr>\n",
       "</thead>\n",
       "<tbody>\n",
       "\t<tr><th scope=row>1</th><td>chr8</td><td>127735869</td><td>127736569</td><td>chr8:127735869-127736569:.</td><td>TRUE</td></tr>\n",
       "</tbody>\n",
       "</table>\n"
      ],
      "text/latex": [
       "A data.frame: 1 × 5\n",
       "\\begin{tabular}{r|lllll}\n",
       "  & element\\_chr & element\\_start & element\\_end & element\\_label & element\\_result\\\\\n",
       "  & <chr> & <int> & <int> & <chr> & <chr>\\\\\n",
       "\\hline\n",
       "\t1 & chr8 & 127735869 & 127736569 & chr8:127735869-127736569:. & TRUE\\\\\n",
       "\\end{tabular}\n"
      ],
      "text/markdown": [
       "\n",
       "A data.frame: 1 × 5\n",
       "\n",
       "| <!--/--> | element_chr &lt;chr&gt; | element_start &lt;int&gt; | element_end &lt;int&gt; | element_label &lt;chr&gt; | element_result &lt;chr&gt; |\n",
       "|---|---|---|---|---|---|\n",
       "| 1 | chr8 | 127735869 | 127736569 | chr8:127735869-127736569:. | TRUE |\n",
       "\n"
      ],
      "text/plain": [
       "  element_chr element_start element_end element_label             \n",
       "1 chr8        127735869     127736569   chr8:127735869-127736569:.\n",
       "  element_result\n",
       "1 TRUE          "
      ]
     },
     "metadata": {},
     "output_type": "display_data"
    },
    {
     "data": {
      "text/html": [
       "<style>\n",
       ".list-inline {list-style: none; margin:0; padding: 0}\n",
       ".list-inline>li {display: inline-block}\n",
       ".list-inline>li:not(:last-child)::after {content: \"\\00b7\"; padding: 0 .5ex}\n",
       "</style>\n",
       "<ol class=list-inline><li>113</li><li>5</li></ol>\n"
      ],
      "text/latex": [
       "\\begin{enumerate*}\n",
       "\\item 113\n",
       "\\item 5\n",
       "\\end{enumerate*}\n"
      ],
      "text/markdown": [
       "1. 113\n",
       "2. 5\n",
       "\n",
       "\n"
      ],
      "text/plain": [
       "[1] 113   5"
      ]
     },
     "metadata": {},
     "output_type": "display_data"
    }
   ],
   "source": [
    "temp_df1 <- \n",
    "list.files(path = \"/data/gersbachlab/lrb53/encodeCrisprWG/finalversion/figure1/allmeta/elementQuant/hg38\", \n",
    "                      pattern = \"*.bed.gz\", full.names = TRUE) %>%\n",
    "map_df(~read.delim(., header = FALSE, sep = \"\\t\", fill = TRUE) %>%\n",
    "       mutate(V18 = as.character(V18)) %>%\n",
    "       mutate(element_chr = V1, element_start = V2, element_end = V3, element_label = V4, element_result = V18) %>%\n",
    "       select(element_chr:element_result) %>%\n",
    "       filter(element_result == \"TRUE\" | element_result == \"True\") ### does not remove any entries\n",
    "      )\n",
    "\n",
    "head(temp_df1, n=1)\n",
    "dim(temp_df1)"
   ]
  },
  {
   "cell_type": "code",
   "execution_count": 37,
   "metadata": {},
   "outputs": [
    {
     "data": {
      "text/html": [
       "<style>\n",
       ".list-inline {list-style: none; margin:0; padding: 0}\n",
       ".list-inline>li {display: inline-block}\n",
       ".list-inline>li:not(:last-child)::after {content: \"\\00b7\"; padding: 0 .5ex}\n",
       "</style>\n",
       "<ol class=list-inline><li>102</li><li>5</li></ol>\n"
      ],
      "text/latex": [
       "\\begin{enumerate*}\n",
       "\\item 102\n",
       "\\item 5\n",
       "\\end{enumerate*}\n"
      ],
      "text/markdown": [
       "1. 102\n",
       "2. 5\n",
       "\n",
       "\n"
      ],
      "text/plain": [
       "[1] 102   5"
      ]
     },
     "metadata": {},
     "output_type": "display_data"
    }
   ],
   "source": [
    "temp_df1 %>% distinct() %>% dim()"
   ]
  },
  {
   "cell_type": "markdown",
   "metadata": {},
   "source": [
    "### For the `.tsv` files, all have same format except for three files.\n",
    "\n",
    "- ENCFF722BJJ.tsv\n",
    "- ENCFF846XWF.tsv\n",
    "- ENCFF435DHO.tsv"
   ]
  },
  {
   "cell_type": "markdown",
   "metadata": {},
   "source": [
    "In the next code block, list all the files then use `setdiff` to exclude the bed files and the guideQuant that I need to use to retrieve the original sgRNA coordinates."
   ]
  },
  {
   "cell_type": "code",
   "execution_count": 38,
   "metadata": {},
   "outputs": [
    {
     "data": {
      "text/html": [
       "35"
      ],
      "text/latex": [
       "35"
      ],
      "text/markdown": [
       "35"
      ],
      "text/plain": [
       "[1] 35"
      ]
     },
     "metadata": {},
     "output_type": "display_data"
    },
    {
     "data": {
      "text/html": [
       "23"
      ],
      "text/latex": [
       "23"
      ],
      "text/markdown": [
       "23"
      ],
      "text/plain": [
       "[1] 23"
      ]
     },
     "metadata": {},
     "output_type": "display_data"
    },
    {
     "data": {
      "text/html": [
       "12"
      ],
      "text/latex": [
       "12"
      ],
      "text/markdown": [
       "12"
      ],
      "text/plain": [
       "[1] 12"
      ]
     },
     "metadata": {},
     "output_type": "display_data"
    }
   ],
   "source": [
    "all_files <-  list.files(path = \"/data/gersbachlab/lrb53/encodeCrisprWG/finalversion/figure1/allmeta/elementQuant/hg38/\",\n",
    "                         full.names = TRUE)\n",
    "do_not_use <- list.files(path = \"/data/gersbachlab/lrb53/encodeCrisprWG/finalversion/figure1/allmeta/elementQuant/hg38/\", \n",
    "                         pattern = \"*.bed.gz|*BJJ.tsv|*XWF.tsv|*DHO.tsv\", full.names = TRUE) \n",
    "\n",
    "use_these <- setdiff(all_files, do_not_use)\n",
    "length(all_files)\n",
    "length(do_not_use)\n",
    "length(use_these)"
   ]
  },
  {
   "cell_type": "code",
   "execution_count": 39,
   "metadata": {},
   "outputs": [
    {
     "name": "stderr",
     "output_type": "stream",
     "text": [
      "Warning message in read.table(file = file, header = header, sep = sep, quote = quote, :\n",
      "“incomplete final line found by readTableHeader on '/data/gersbachlab/lrb53/encodeCrisprWG/finalversion/figure1/allmeta/elementQuant/hg38//ENCFF016ZXU.tsv'”\n",
      "Warning message in read.table(file = file, header = header, sep = sep, quote = quote, :\n",
      "“incomplete final line found by readTableHeader on '/data/gersbachlab/lrb53/encodeCrisprWG/finalversion/figure1/allmeta/elementQuant/hg38//ENCFF058OWV.tsv'”\n",
      "Warning message in read.table(file = file, header = header, sep = sep, quote = quote, :\n",
      "“incomplete final line found by readTableHeader on '/data/gersbachlab/lrb53/encodeCrisprWG/finalversion/figure1/allmeta/elementQuant/hg38//ENCFF237NIS.tsv'”\n",
      "Warning message in read.table(file = file, header = header, sep = sep, quote = quote, :\n",
      "“incomplete final line found by readTableHeader on '/data/gersbachlab/lrb53/encodeCrisprWG/finalversion/figure1/allmeta/elementQuant/hg38//ENCFF259JDX.tsv'”\n",
      "Warning message in read.table(file = file, header = header, sep = sep, quote = quote, :\n",
      "“incomplete final line found by readTableHeader on '/data/gersbachlab/lrb53/encodeCrisprWG/finalversion/figure1/allmeta/elementQuant/hg38//ENCFF554AXM.tsv'”\n",
      "Warning message in read.table(file = file, header = header, sep = sep, quote = quote, :\n",
      "“incomplete final line found by readTableHeader on '/data/gersbachlab/lrb53/encodeCrisprWG/finalversion/figure1/allmeta/elementQuant/hg38//ENCFF847VVW.tsv'”\n",
      "Warning message in read.table(file = file, header = header, sep = sep, quote = quote, :\n",
      "“incomplete final line found by readTableHeader on '/data/gersbachlab/lrb53/encodeCrisprWG/finalversion/figure1/allmeta/elementQuant/hg38//ENCFF884LCP.tsv'”\n",
      "Warning message in read.table(file = file, header = header, sep = sep, quote = quote, :\n",
      "“incomplete final line found by readTableHeader on '/data/gersbachlab/lrb53/encodeCrisprWG/finalversion/figure1/allmeta/elementQuant/hg38//ENCFF942TSF.tsv'”\n",
      "Warning message in read.table(file = file, header = header, sep = sep, quote = quote, :\n",
      "“incomplete final line found by readTableHeader on '/data/gersbachlab/lrb53/encodeCrisprWG/finalversion/figure1/allmeta/elementQuant/hg38//ENCFF971QMM.tsv'”\n"
     ]
    },
    {
     "data": {
      "text/html": [
       "<table class=\"dataframe\">\n",
       "<caption>A data.frame: 1 × 5</caption>\n",
       "<thead>\n",
       "\t<tr><th></th><th scope=col>chrom</th><th scope=col>chromStart</th><th scope=col>chromEnd</th><th scope=col>name</th><th scope=col>Significant</th></tr>\n",
       "\t<tr><th></th><th scope=col>&lt;chr&gt;</th><th scope=col>&lt;int&gt;</th><th scope=col>&lt;int&gt;</th><th scope=col>&lt;chr&gt;</th><th scope=col>&lt;lgl&gt;</th></tr>\n",
       "</thead>\n",
       "<tbody>\n",
       "\t<tr><th scope=row>1</th><td>chr6</td><td>135053211</td><td>135054964</td><td>MYB|chr6:135053211-135054964</td><td>TRUE</td></tr>\n",
       "</tbody>\n",
       "</table>\n"
      ],
      "text/latex": [
       "A data.frame: 1 × 5\n",
       "\\begin{tabular}{r|lllll}\n",
       "  & chrom & chromStart & chromEnd & name & Significant\\\\\n",
       "  & <chr> & <int> & <int> & <chr> & <lgl>\\\\\n",
       "\\hline\n",
       "\t1 & chr6 & 135053211 & 135054964 & MYB\\textbar{}chr6:135053211-135054964 & TRUE\\\\\n",
       "\\end{tabular}\n"
      ],
      "text/markdown": [
       "\n",
       "A data.frame: 1 × 5\n",
       "\n",
       "| <!--/--> | chrom &lt;chr&gt; | chromStart &lt;int&gt; | chromEnd &lt;int&gt; | name &lt;chr&gt; | Significant &lt;lgl&gt; |\n",
       "|---|---|---|---|---|---|\n",
       "| 1 | chr6 | 135053211 | 135054964 | MYB|chr6:135053211-135054964 | TRUE |\n",
       "\n"
      ],
      "text/plain": [
       "  chrom chromStart chromEnd  name                         Significant\n",
       "1 chr6  135053211  135054964 MYB|chr6:135053211-135054964 TRUE       "
      ]
     },
     "metadata": {},
     "output_type": "display_data"
    },
    {
     "data": {
      "text/html": [
       "<style>\n",
       ".list-inline {list-style: none; margin:0; padding: 0}\n",
       ".list-inline>li {display: inline-block}\n",
       ".list-inline>li:not(:last-child)::after {content: \"\\00b7\"; padding: 0 .5ex}\n",
       "</style>\n",
       "<ol class=list-inline><li>593</li><li>5</li></ol>\n"
      ],
      "text/latex": [
       "\\begin{enumerate*}\n",
       "\\item 593\n",
       "\\item 5\n",
       "\\end{enumerate*}\n"
      ],
      "text/markdown": [
       "1. 593\n",
       "2. 5\n",
       "\n",
       "\n"
      ],
      "text/plain": [
       "[1] 593   5"
      ]
     },
     "metadata": {},
     "output_type": "display_data"
    }
   ],
   "source": [
    "temp_df2 <- \n",
    "use_these %>%\n",
    "map_df(~read.delim(., header = TRUE, sep = \"\\t\", fill = TRUE) \n",
    "      ) %>%\n",
    "select(chrom:name, Significant) %>%\n",
    "filter(Significant == TRUE | Significant == \"True\" | Significant == \"TRUE\") ### does not remove any rows\n",
    "\n",
    "head(temp_df2, n=1)\n",
    "dim(temp_df2)"
   ]
  },
  {
   "cell_type": "markdown",
   "metadata": {},
   "source": [
    "### Now, retrieve the element coordinates for the final three .tsv files."
   ]
  },
  {
   "cell_type": "code",
   "execution_count": 40,
   "metadata": {},
   "outputs": [
    {
     "data": {
      "text/html": [
       "3"
      ],
      "text/latex": [
       "3"
      ],
      "text/markdown": [
       "3"
      ],
      "text/plain": [
       "[1] 3"
      ]
     },
     "metadata": {},
     "output_type": "display_data"
    }
   ],
   "source": [
    "use_these <- list.files(path = \"/data/gersbachlab/lrb53/encodeCrisprWG/finalversion/figure1/allmeta/elementQuant/hg38/\", \n",
    "                         pattern = \"*BJJ.tsv|*XWF.tsv|*DHO.tsv\", full.names = TRUE) \n",
    "\n",
    "length(use_these)"
   ]
  },
  {
   "cell_type": "code",
   "execution_count": 41,
   "metadata": {},
   "outputs": [
    {
     "data": {
      "text/html": [
       "<table class=\"dataframe\">\n",
       "<caption>A data.frame: 1 × 4</caption>\n",
       "<thead>\n",
       "\t<tr><th></th><th scope=col>element_chr</th><th scope=col>element_start</th><th scope=col>element_end</th><th scope=col>log2FC</th></tr>\n",
       "\t<tr><th></th><th scope=col>&lt;chr&gt;</th><th scope=col>&lt;int&gt;</th><th scope=col>&lt;int&gt;</th><th scope=col>&lt;dbl&gt;</th></tr>\n",
       "</thead>\n",
       "<tbody>\n",
       "\t<tr><th scope=row>1</th><td>chr7</td><td>6602328</td><td>6602521</td><td>2.957</td></tr>\n",
       "</tbody>\n",
       "</table>\n"
      ],
      "text/latex": [
       "A data.frame: 1 × 4\n",
       "\\begin{tabular}{r|llll}\n",
       "  & element\\_chr & element\\_start & element\\_end & log2FC\\\\\n",
       "  & <chr> & <int> & <int> & <dbl>\\\\\n",
       "\\hline\n",
       "\t1 & chr7 & 6602328 & 6602521 & 2.957\\\\\n",
       "\\end{tabular}\n"
      ],
      "text/markdown": [
       "\n",
       "A data.frame: 1 × 4\n",
       "\n",
       "| <!--/--> | element_chr &lt;chr&gt; | element_start &lt;int&gt; | element_end &lt;int&gt; | log2FC &lt;dbl&gt; |\n",
       "|---|---|---|---|---|\n",
       "| 1 | chr7 | 6602328 | 6602521 | 2.957 |\n",
       "\n"
      ],
      "text/plain": [
       "  element_chr element_start element_end log2FC\n",
       "1 chr7        6602328       6602521     2.957 "
      ]
     },
     "metadata": {},
     "output_type": "display_data"
    },
    {
     "data": {
      "text/html": [
       "<style>\n",
       ".list-inline {list-style: none; margin:0; padding: 0}\n",
       ".list-inline>li {display: inline-block}\n",
       ".list-inline>li:not(:last-child)::after {content: \"\\00b7\"; padding: 0 .5ex}\n",
       "</style>\n",
       "<ol class=list-inline><li>114</li><li>4</li></ol>\n"
      ],
      "text/latex": [
       "\\begin{enumerate*}\n",
       "\\item 114\n",
       "\\item 4\n",
       "\\end{enumerate*}\n"
      ],
      "text/markdown": [
       "1. 114\n",
       "2. 4\n",
       "\n",
       "\n"
      ],
      "text/plain": [
       "[1] 114   4"
      ]
     },
     "metadata": {},
     "output_type": "display_data"
    }
   ],
   "source": [
    "temp_df3 <-\n",
    "use_these %>%\n",
    "map_df(~read.delim(., header = TRUE, sep = \"\\t\", fill = TRUE, \n",
    "                   col.names = c(\"element_chr\",\"element_start\",\"element_end\",\"log2FC\"))\n",
    "      )\n",
    "\n",
    "head(temp_df3, n=1)\n",
    "dim(temp_df3)"
   ]
  },
  {
   "cell_type": "markdown",
   "metadata": {},
   "source": [
    "### Combine into one dataframe"
   ]
  },
  {
   "cell_type": "code",
   "execution_count": 42,
   "metadata": {},
   "outputs": [
    {
     "data": {
      "text/html": [
       "<table class=\"dataframe\">\n",
       "<caption>A data.frame: 1 × 5</caption>\n",
       "<thead>\n",
       "\t<tr><th></th><th scope=col>element_chr</th><th scope=col>element_start</th><th scope=col>element_end</th><th scope=col>element_label</th><th scope=col>element_result</th></tr>\n",
       "\t<tr><th></th><th scope=col>&lt;chr&gt;</th><th scope=col>&lt;int&gt;</th><th scope=col>&lt;int&gt;</th><th scope=col>&lt;chr&gt;</th><th scope=col>&lt;chr&gt;</th></tr>\n",
       "</thead>\n",
       "<tbody>\n",
       "\t<tr><th scope=row>1</th><td>chr8</td><td>127735869</td><td>127736569</td><td>chr8:127735869-127736569:.</td><td>TRUE</td></tr>\n",
       "</tbody>\n",
       "</table>\n"
      ],
      "text/latex": [
       "A data.frame: 1 × 5\n",
       "\\begin{tabular}{r|lllll}\n",
       "  & element\\_chr & element\\_start & element\\_end & element\\_label & element\\_result\\\\\n",
       "  & <chr> & <int> & <int> & <chr> & <chr>\\\\\n",
       "\\hline\n",
       "\t1 & chr8 & 127735869 & 127736569 & chr8:127735869-127736569:. & TRUE\\\\\n",
       "\\end{tabular}\n"
      ],
      "text/markdown": [
       "\n",
       "A data.frame: 1 × 5\n",
       "\n",
       "| <!--/--> | element_chr &lt;chr&gt; | element_start &lt;int&gt; | element_end &lt;int&gt; | element_label &lt;chr&gt; | element_result &lt;chr&gt; |\n",
       "|---|---|---|---|---|---|\n",
       "| 1 | chr8 | 127735869 | 127736569 | chr8:127735869-127736569:. | TRUE |\n",
       "\n"
      ],
      "text/plain": [
       "  element_chr element_start element_end element_label             \n",
       "1 chr8        127735869     127736569   chr8:127735869-127736569:.\n",
       "  element_result\n",
       "1 TRUE          "
      ]
     },
     "metadata": {},
     "output_type": "display_data"
    },
    {
     "data": {
      "text/html": [
       "<table class=\"dataframe\">\n",
       "<caption>A data.frame: 1 × 5</caption>\n",
       "<thead>\n",
       "\t<tr><th></th><th scope=col>chrom</th><th scope=col>chromStart</th><th scope=col>chromEnd</th><th scope=col>name</th><th scope=col>Significant</th></tr>\n",
       "\t<tr><th></th><th scope=col>&lt;chr&gt;</th><th scope=col>&lt;int&gt;</th><th scope=col>&lt;int&gt;</th><th scope=col>&lt;chr&gt;</th><th scope=col>&lt;lgl&gt;</th></tr>\n",
       "</thead>\n",
       "<tbody>\n",
       "\t<tr><th scope=row>1</th><td>chr6</td><td>135053211</td><td>135054964</td><td>MYB|chr6:135053211-135054964</td><td>TRUE</td></tr>\n",
       "</tbody>\n",
       "</table>\n"
      ],
      "text/latex": [
       "A data.frame: 1 × 5\n",
       "\\begin{tabular}{r|lllll}\n",
       "  & chrom & chromStart & chromEnd & name & Significant\\\\\n",
       "  & <chr> & <int> & <int> & <chr> & <lgl>\\\\\n",
       "\\hline\n",
       "\t1 & chr6 & 135053211 & 135054964 & MYB\\textbar{}chr6:135053211-135054964 & TRUE\\\\\n",
       "\\end{tabular}\n"
      ],
      "text/markdown": [
       "\n",
       "A data.frame: 1 × 5\n",
       "\n",
       "| <!--/--> | chrom &lt;chr&gt; | chromStart &lt;int&gt; | chromEnd &lt;int&gt; | name &lt;chr&gt; | Significant &lt;lgl&gt; |\n",
       "|---|---|---|---|---|---|\n",
       "| 1 | chr6 | 135053211 | 135054964 | MYB|chr6:135053211-135054964 | TRUE |\n",
       "\n"
      ],
      "text/plain": [
       "  chrom chromStart chromEnd  name                         Significant\n",
       "1 chr6  135053211  135054964 MYB|chr6:135053211-135054964 TRUE       "
      ]
     },
     "metadata": {},
     "output_type": "display_data"
    },
    {
     "data": {
      "text/html": [
       "<table class=\"dataframe\">\n",
       "<caption>A data.frame: 1 × 4</caption>\n",
       "<thead>\n",
       "\t<tr><th></th><th scope=col>element_chr</th><th scope=col>element_start</th><th scope=col>element_end</th><th scope=col>log2FC</th></tr>\n",
       "\t<tr><th></th><th scope=col>&lt;chr&gt;</th><th scope=col>&lt;int&gt;</th><th scope=col>&lt;int&gt;</th><th scope=col>&lt;dbl&gt;</th></tr>\n",
       "</thead>\n",
       "<tbody>\n",
       "\t<tr><th scope=row>1</th><td>chr7</td><td>6602328</td><td>6602521</td><td>2.957</td></tr>\n",
       "</tbody>\n",
       "</table>\n"
      ],
      "text/latex": [
       "A data.frame: 1 × 4\n",
       "\\begin{tabular}{r|llll}\n",
       "  & element\\_chr & element\\_start & element\\_end & log2FC\\\\\n",
       "  & <chr> & <int> & <int> & <dbl>\\\\\n",
       "\\hline\n",
       "\t1 & chr7 & 6602328 & 6602521 & 2.957\\\\\n",
       "\\end{tabular}\n"
      ],
      "text/markdown": [
       "\n",
       "A data.frame: 1 × 4\n",
       "\n",
       "| <!--/--> | element_chr &lt;chr&gt; | element_start &lt;int&gt; | element_end &lt;int&gt; | log2FC &lt;dbl&gt; |\n",
       "|---|---|---|---|---|\n",
       "| 1 | chr7 | 6602328 | 6602521 | 2.957 |\n",
       "\n"
      ],
      "text/plain": [
       "  element_chr element_start element_end log2FC\n",
       "1 chr7        6602328       6602521     2.957 "
      ]
     },
     "metadata": {},
     "output_type": "display_data"
    }
   ],
   "source": [
    "head(temp_df1,n=1)\n",
    "head(temp_df2,n=1)\n",
    "head(temp_df3,n=1)"
   ]
  },
  {
   "cell_type": "code",
   "execution_count": 43,
   "metadata": {},
   "outputs": [],
   "source": [
    "hg38_df <- \n",
    "rbind(\n",
    "    temp_df1 %>%  \n",
    "    select(element_chr:element_label) %>%\n",
    "    distinct(),\n",
    "    \n",
    "    temp_df2 %>%\n",
    "    mutate(element_chr = chrom,\n",
    "           element_start = chromStart,\n",
    "           element_end = chromEnd,\n",
    "           element_label = name) %>%\n",
    "    select(element_chr:element_label) %>%\n",
    "    distinct(),\n",
    "    \n",
    "    temp_df3 %>%\n",
    "    mutate(element_label = paste0(element_chr,\":\",element_start,\"-\",element_end)) %>%\n",
    "    select(element_chr:element_end, element_label)\n",
    ") %>%\n",
    "distinct() ### 802 --> 754 rows"
   ]
  },
  {
   "cell_type": "code",
   "execution_count": 44,
   "metadata": {},
   "outputs": [
    {
     "data": {
      "text/html": [
       "<style>\n",
       ".list-inline {list-style: none; margin:0; padding: 0}\n",
       ".list-inline>li {display: inline-block}\n",
       ".list-inline>li:not(:last-child)::after {content: \"\\00b7\"; padding: 0 .5ex}\n",
       "</style>\n",
       "<ol class=list-inline><li>754</li><li>4</li></ol>\n"
      ],
      "text/latex": [
       "\\begin{enumerate*}\n",
       "\\item 754\n",
       "\\item 4\n",
       "\\end{enumerate*}\n"
      ],
      "text/markdown": [
       "1. 754\n",
       "2. 4\n",
       "\n",
       "\n"
      ],
      "text/plain": [
       "[1] 754   4"
      ]
     },
     "metadata": {},
     "output_type": "display_data"
    }
   ],
   "source": [
    "hg38_df %>%\n",
    "dim()"
   ]
  },
  {
   "cell_type": "code",
   "execution_count": 45,
   "metadata": {},
   "outputs": [],
   "source": [
    "temp_df1 <- temp_df2 <- temp_df3 <- NULL"
   ]
  },
  {
   "cell_type": "markdown",
   "metadata": {},
   "source": [
    "### Next, load the Engreitz data, read into one dataframe, then lift to hg38 coordinates"
   ]
  },
  {
   "cell_type": "code",
   "execution_count": 86,
   "metadata": {},
   "outputs": [
    {
     "data": {
      "text/html": [
       "40"
      ],
      "text/latex": [
       "40"
      ],
      "text/markdown": [
       "40"
      ],
      "text/plain": [
       "[1] 40"
      ]
     },
     "metadata": {},
     "output_type": "display_data"
    }
   ],
   "source": [
    "use_these <- list.files(path = \"/data/gersbachlab/lrb53/encodeCrisprWG/finalversion/figure1/allmeta/elementQuant/hg19/\", \n",
    "                         pattern = \"*.tsv\", full.names = TRUE) \n",
    "\n",
    "length(use_these)"
   ]
  },
  {
   "cell_type": "code",
   "execution_count": 93,
   "metadata": {},
   "outputs": [
    {
     "data": {
      "text/html": [
       "<table class=\"dataframe\">\n",
       "<caption>A data.frame: 1 × 4</caption>\n",
       "<thead>\n",
       "\t<tr><th></th><th scope=col>chrPerturbationTarget</th><th scope=col>startPerturbationTarget</th><th scope=col>endPerturbationTarget</th><th scope=col>name</th></tr>\n",
       "\t<tr><th></th><th scope=col>&lt;chr&gt;</th><th scope=col>&lt;int&gt;</th><th scope=col>&lt;int&gt;</th><th scope=col>&lt;chr&gt;</th></tr>\n",
       "</thead>\n",
       "<tbody>\n",
       "\t<tr><th scope=row>1</th><td>chr10</td><td>81082870</td><td>81083370</td><td>chr10:81082870-81083370:.</td></tr>\n",
       "</tbody>\n",
       "</table>\n"
      ],
      "text/latex": [
       "A data.frame: 1 × 4\n",
       "\\begin{tabular}{r|llll}\n",
       "  & chrPerturbationTarget & startPerturbationTarget & endPerturbationTarget & name\\\\\n",
       "  & <chr> & <int> & <int> & <chr>\\\\\n",
       "\\hline\n",
       "\t1 & chr10 & 81082870 & 81083370 & chr10:81082870-81083370:.\\\\\n",
       "\\end{tabular}\n"
      ],
      "text/markdown": [
       "\n",
       "A data.frame: 1 × 4\n",
       "\n",
       "| <!--/--> | chrPerturbationTarget &lt;chr&gt; | startPerturbationTarget &lt;int&gt; | endPerturbationTarget &lt;int&gt; | name &lt;chr&gt; |\n",
       "|---|---|---|---|---|\n",
       "| 1 | chr10 | 81082870 | 81083370 | chr10:81082870-81083370:. |\n",
       "\n"
      ],
      "text/plain": [
       "  chrPerturbationTarget startPerturbationTarget endPerturbationTarget\n",
       "1 chr10                 81082870                81083370             \n",
       "  name                     \n",
       "1 chr10:81082870-81083370:."
      ]
     },
     "metadata": {},
     "output_type": "display_data"
    },
    {
     "data": {
      "text/html": [
       "<style>\n",
       ".list-inline {list-style: none; margin:0; padding: 0}\n",
       ".list-inline>li {display: inline-block}\n",
       ".list-inline>li:not(:last-child)::after {content: \"\\00b7\"; padding: 0 .5ex}\n",
       "</style>\n",
       "<ol class=list-inline><li>282</li><li>4</li></ol>\n"
      ],
      "text/latex": [
       "\\begin{enumerate*}\n",
       "\\item 282\n",
       "\\item 4\n",
       "\\end{enumerate*}\n"
      ],
      "text/markdown": [
       "1. 282\n",
       "2. 4\n",
       "\n",
       "\n"
      ],
      "text/plain": [
       "[1] 282   4"
      ]
     },
     "metadata": {},
     "output_type": "display_data"
    }
   ],
   "source": [
    "temp_df1 <- \n",
    "use_these %>%\n",
    "map_df(~read.delim(., header = TRUE, sep = \"\\t\", fill = TRUE) \n",
    "      ) %>%\n",
    "select(chrPerturbationTarget:name, Significant) %>%\n",
    "filter(Significant == \"True\") %>% ### 5260 --> 282 rows\n",
    "select(-Significant)\n",
    "\n",
    "head(temp_df1, n=1)\n",
    "dim(temp_df1)"
   ]
  },
  {
   "cell_type": "code",
   "execution_count": 91,
   "metadata": {},
   "outputs": [
    {
     "data": {
      "text/html": [
       "<style>\n",
       ".list-inline {list-style: none; margin:0; padding: 0}\n",
       ".list-inline>li {display: inline-block}\n",
       ".list-inline>li:not(:last-child)::after {content: \"\\00b7\"; padding: 0 .5ex}\n",
       "</style>\n",
       "<ol class=list-inline><li>'False'</li><li>'True'</li></ol>\n"
      ],
      "text/latex": [
       "\\begin{enumerate*}\n",
       "\\item 'False'\n",
       "\\item 'True'\n",
       "\\end{enumerate*}\n"
      ],
      "text/markdown": [
       "1. 'False'\n",
       "2. 'True'\n",
       "\n",
       "\n"
      ],
      "text/plain": [
       "[1] \"False\" \"True\" "
      ]
     },
     "metadata": {},
     "output_type": "display_data"
    }
   ],
   "source": [
    "# temp_df1 %>%\n",
    "# select(Significant) %>% distinct() %>% pull() ### --> False or True"
   ]
  },
  {
   "cell_type": "code",
   "execution_count": 95,
   "metadata": {},
   "outputs": [],
   "source": [
    "temp_df1 %>%\n",
    "write.table(\"/data/gersbachlab/lrb53/encodeCrisprWG/finalversion/figure1/allmeta/elementQuant/hg19_to_hg38/elementQuant.hg19.20230411.bed\",\n",
    "            col.names = FALSE, sep = \"\\t\", row.names = FALSE, quote = FALSE)"
   ]
  },
  {
   "cell_type": "markdown",
   "metadata": {},
   "source": [
    "### Lift hg19 coordinates to hg38 coordinates using UCSC liftOver\n",
    "\n",
    "Successfully converted all records."
   ]
  },
  {
   "cell_type": "markdown",
   "metadata": {},
   "source": [
    "### Load hg38 coordinates"
   ]
  },
  {
   "cell_type": "code",
   "execution_count": 96,
   "metadata": {},
   "outputs": [
    {
     "data": {
      "text/html": [
       "<table class=\"dataframe\">\n",
       "<caption>A data.frame: 1 × 4</caption>\n",
       "<thead>\n",
       "\t<tr><th></th><th scope=col>element_chr</th><th scope=col>element_start</th><th scope=col>element_end</th><th scope=col>element_label</th></tr>\n",
       "\t<tr><th></th><th scope=col>&lt;chr&gt;</th><th scope=col>&lt;int&gt;</th><th scope=col>&lt;int&gt;</th><th scope=col>&lt;chr&gt;</th></tr>\n",
       "</thead>\n",
       "<tbody>\n",
       "\t<tr><th scope=row>1</th><td>chr10</td><td>79323113</td><td>79323613</td><td>chr10:81082870-81083370:.</td></tr>\n",
       "</tbody>\n",
       "</table>\n"
      ],
      "text/latex": [
       "A data.frame: 1 × 4\n",
       "\\begin{tabular}{r|llll}\n",
       "  & element\\_chr & element\\_start & element\\_end & element\\_label\\\\\n",
       "  & <chr> & <int> & <int> & <chr>\\\\\n",
       "\\hline\n",
       "\t1 & chr10 & 79323113 & 79323613 & chr10:81082870-81083370:.\\\\\n",
       "\\end{tabular}\n"
      ],
      "text/markdown": [
       "\n",
       "A data.frame: 1 × 4\n",
       "\n",
       "| <!--/--> | element_chr &lt;chr&gt; | element_start &lt;int&gt; | element_end &lt;int&gt; | element_label &lt;chr&gt; |\n",
       "|---|---|---|---|---|\n",
       "| 1 | chr10 | 79323113 | 79323613 | chr10:81082870-81083370:. |\n",
       "\n"
      ],
      "text/plain": [
       "  element_chr element_start element_end element_label            \n",
       "1 chr10       79323113      79323613    chr10:81082870-81083370:."
      ]
     },
     "metadata": {},
     "output_type": "display_data"
    },
    {
     "data": {
      "text/html": [
       "<style>\n",
       ".list-inline {list-style: none; margin:0; padding: 0}\n",
       ".list-inline>li {display: inline-block}\n",
       ".list-inline>li:not(:last-child)::after {content: \"\\00b7\"; padding: 0 .5ex}\n",
       "</style>\n",
       "<ol class=list-inline><li>282</li><li>4</li></ol>\n"
      ],
      "text/latex": [
       "\\begin{enumerate*}\n",
       "\\item 282\n",
       "\\item 4\n",
       "\\end{enumerate*}\n"
      ],
      "text/markdown": [
       "1. 282\n",
       "2. 4\n",
       "\n",
       "\n"
      ],
      "text/plain": [
       "[1] 282   4"
      ]
     },
     "metadata": {},
     "output_type": "display_data"
    }
   ],
   "source": [
    "hg19_df_lift <- read.delim(\"/data/gersbachlab/lrb53/encodeCrisprWG/finalversion/figure1/allmeta/elementQuant/hg19_to_hg38/elementQuant.hg19tohg38.20230411.bed\",\n",
    "                           header = FALSE, col.names = c(\"element_chr\",\"element_start\",\"element_end\", \"element_label\"))\n",
    "\n",
    "head(hg19_df_lift,n=1)\n",
    "dim(hg19_df_lift)"
   ]
  },
  {
   "cell_type": "markdown",
   "metadata": {},
   "source": [
    "### Now, add the lifted coordinates + elements to the hg38 master df"
   ]
  },
  {
   "cell_type": "code",
   "execution_count": 98,
   "metadata": {},
   "outputs": [
    {
     "data": {
      "text/html": [
       "<table class=\"dataframe\">\n",
       "<caption>A data.frame: 1 × 4</caption>\n",
       "<thead>\n",
       "\t<tr><th></th><th scope=col>element_chr</th><th scope=col>element_start</th><th scope=col>element_end</th><th scope=col>element_label</th></tr>\n",
       "\t<tr><th></th><th scope=col>&lt;chr&gt;</th><th scope=col>&lt;int&gt;</th><th scope=col>&lt;int&gt;</th><th scope=col>&lt;chr&gt;</th></tr>\n",
       "</thead>\n",
       "<tbody>\n",
       "\t<tr><th scope=row>1</th><td>chr10</td><td>79323113</td><td>79323613</td><td>chr10:81082870-81083370:.</td></tr>\n",
       "</tbody>\n",
       "</table>\n"
      ],
      "text/latex": [
       "A data.frame: 1 × 4\n",
       "\\begin{tabular}{r|llll}\n",
       "  & element\\_chr & element\\_start & element\\_end & element\\_label\\\\\n",
       "  & <chr> & <int> & <int> & <chr>\\\\\n",
       "\\hline\n",
       "\t1 & chr10 & 79323113 & 79323613 & chr10:81082870-81083370:.\\\\\n",
       "\\end{tabular}\n"
      ],
      "text/markdown": [
       "\n",
       "A data.frame: 1 × 4\n",
       "\n",
       "| <!--/--> | element_chr &lt;chr&gt; | element_start &lt;int&gt; | element_end &lt;int&gt; | element_label &lt;chr&gt; |\n",
       "|---|---|---|---|---|\n",
       "| 1 | chr10 | 79323113 | 79323613 | chr10:81082870-81083370:. |\n",
       "\n"
      ],
      "text/plain": [
       "  element_chr element_start element_end element_label            \n",
       "1 chr10       79323113      79323613    chr10:81082870-81083370:."
      ]
     },
     "metadata": {},
     "output_type": "display_data"
    }
   ],
   "source": [
    "final_df <-\n",
    "hg19_df_lift %>%\n",
    "rbind(hg38_df) \n",
    "\n",
    "head(final_df, n=1)"
   ]
  },
  {
   "cell_type": "code",
   "execution_count": 99,
   "metadata": {},
   "outputs": [
    {
     "data": {
      "text/html": [
       "<style>\n",
       ".list-inline {list-style: none; margin:0; padding: 0}\n",
       ".list-inline>li {display: inline-block}\n",
       ".list-inline>li:not(:last-child)::after {content: \"\\00b7\"; padding: 0 .5ex}\n",
       "</style>\n",
       "<ol class=list-inline><li>1036</li><li>4</li></ol>\n"
      ],
      "text/latex": [
       "\\begin{enumerate*}\n",
       "\\item 1036\n",
       "\\item 4\n",
       "\\end{enumerate*}\n"
      ],
      "text/markdown": [
       "1. 1036\n",
       "2. 4\n",
       "\n",
       "\n"
      ],
      "text/plain": [
       "[1] 1036    4"
      ]
     },
     "metadata": {},
     "output_type": "display_data"
    },
    {
     "data": {
      "text/html": [
       "<style>\n",
       ".list-inline {list-style: none; margin:0; padding: 0}\n",
       ".list-inline>li {display: inline-block}\n",
       ".list-inline>li:not(:last-child)::after {content: \"\\00b7\"; padding: 0 .5ex}\n",
       "</style>\n",
       "<ol class=list-inline><li>972</li><li>3</li></ol>\n"
      ],
      "text/latex": [
       "\\begin{enumerate*}\n",
       "\\item 972\n",
       "\\item 3\n",
       "\\end{enumerate*}\n"
      ],
      "text/markdown": [
       "1. 972\n",
       "2. 3\n",
       "\n",
       "\n"
      ],
      "text/plain": [
       "[1] 972   3"
      ]
     },
     "metadata": {},
     "output_type": "display_data"
    }
   ],
   "source": [
    "final_df %>%\n",
    "dim()\n",
    "\n",
    "final_df %>%\n",
    "select(-element_label) %>% distinct() %>% dim()"
   ]
  },
  {
   "cell_type": "code",
   "execution_count": 101,
   "metadata": {},
   "outputs": [],
   "source": [
    "final_df %>%\n",
    "mutate(element_score = 0, element_strand = \".\") %>%\n",
    "select(element_chr:element_end, element_label, element_score, element_strand) %>%\n",
    "distinct() %>%\n",
    "arrange(element_chr, element_start, element_end) %>%\n",
    "write.table(\"/data/gersbachlab/lrb53/encodeCrisprWG/finalversion/figure1/allmeta/elementQuant/combined/elementQuant.combined.hg38.20230411.bed\",\n",
    "            col.names = FALSE, row.names = FALSE, quote = FALSE, sep = \"\\t\")\n"
   ]
  },
  {
   "cell_type": "markdown",
   "metadata": {},
   "source": [
    "## Switch to `python` kernel"
   ]
  },
  {
   "cell_type": "code",
   "execution_count": 1,
   "metadata": {},
   "outputs": [],
   "source": [
    "# %%bash\n",
    "# mkdir -p /data/gersbachlab/lrb53/encodeCrisprWG/finalversion/figure1/allmeta/outs"
   ]
  },
  {
   "cell_type": "code",
   "execution_count": 1,
   "metadata": {},
   "outputs": [],
   "source": [
    "import pandas as pd\n",
    "import matplotlib.pyplot as plt\n",
    "import seaborn as sns"
   ]
  },
  {
   "cell_type": "markdown",
   "metadata": {},
   "source": [
    "### Intersect perturbed and significant elements with 100bp bins\n",
    "\n",
    "First, sort and merge overlapping features. Next, intersect with 100bp bins. Then, merge the adjacent bins. "
   ]
  },
  {
   "cell_type": "markdown",
   "metadata": {},
   "source": [
    "#### Input files containing perturbed and significant elements"
   ]
  },
  {
   "cell_type": "code",
   "execution_count": 2,
   "metadata": {},
   "outputs": [
    {
     "name": "stdout",
     "output_type": "stream",
     "text": [
      "chr11\t4091736\t4092036\n",
      "429840 /data/gersbachlab/lrb53/encodeCrisprWG/finalversion/figure1/allmeta/elementReference/combined/elementReference.combined.hg38.20230411.bed\n"
     ]
    }
   ],
   "source": [
    "%%bash\n",
    "head /data/gersbachlab/lrb53/encodeCrisprWG/finalversion/figure1/allmeta/elementReference/combined/elementReference.combined.hg38.20230411.bed -n 1\n",
    "wc -l /data/gersbachlab/lrb53/encodeCrisprWG/finalversion/figure1/allmeta/elementReference/combined/elementReference.combined.hg38.20230411.bed\n"
   ]
  },
  {
   "cell_type": "code",
   "execution_count": 3,
   "metadata": {},
   "outputs": [
    {
     "name": "stdout",
     "output_type": "stream",
     "text": [
      "chr1\t1411528\t1411761\tPeak_40824|chr1:1411528-1411761\t0\t.\n",
      "972 /data/gersbachlab/lrb53/encodeCrisprWG/finalversion/figure1/allmeta/elementQuant/combined/elementQuant.combined.hg38.20230411.bed\n"
     ]
    }
   ],
   "source": [
    "%%bash\n",
    "head /data/gersbachlab/lrb53/encodeCrisprWG/finalversion/figure1/allmeta/elementQuant/combined/elementQuant.combined.hg38.20230411.bed -n 1\n",
    "wc -l /data/gersbachlab/lrb53/encodeCrisprWG/finalversion/figure1/allmeta/elementQuant/combined/elementQuant.combined.hg38.20230411.bed\n"
   ]
  },
  {
   "cell_type": "markdown",
   "metadata": {},
   "source": [
    "#### Sort and merge overlapping features"
   ]
  },
  {
   "cell_type": "code",
   "execution_count": 4,
   "metadata": {},
   "outputs": [
    {
     "name": "stdout",
     "output_type": "stream",
     "text": [
      "429840 elementReference.combined.hg38.20230411.sorted.bed\n"
     ]
    }
   ],
   "source": [
    "%%bash\n",
    "cd /data/gersbachlab/lrb53/encodeCrisprWG/finalversion/figure1/allmeta/elementReference/combined/\n",
    "sort -k1,1 -k2,2n elementReference.combined.hg38.20230411.bed > elementReference.combined.hg38.20230411.sorted.bed\n",
    "wc -l elementReference.combined.hg38.20230411.sorted.bed"
   ]
  },
  {
   "cell_type": "code",
   "execution_count": 5,
   "metadata": {},
   "outputs": [
    {
     "name": "stdout",
     "output_type": "stream",
     "text": [
      "972 elementQuant.combined.hg38.20230411.sorted.bed\n"
     ]
    }
   ],
   "source": [
    "%%bash\n",
    "cd /data/gersbachlab/lrb53/encodeCrisprWG/finalversion/figure1/allmeta/elementQuant/combined/\n",
    "sort -k1,1 -k2,2n elementQuant.combined.hg38.20230411.bed > elementQuant.combined.hg38.20230411.sorted.bed\n",
    "wc -l elementQuant.combined.hg38.20230411.sorted.bed"
   ]
  },
  {
   "cell_type": "code",
   "execution_count": 6,
   "metadata": {},
   "outputs": [
    {
     "name": "stdout",
     "output_type": "stream",
     "text": [
      "4293 elementReference.combined.hg38.20230411.sorted.merge.bed\n"
     ]
    }
   ],
   "source": [
    "%%bash\n",
    "\n",
    "cd /data/gersbachlab/lrb53/encodeCrisprWG/finalversion/figure1/allmeta/elementReference/combined/\n",
    "\n",
    "module load bedtools2\n",
    "\n",
    "bedtools merge -i elementReference.combined.hg38.20230411.sorted.bed -d 1 > elementReference.combined.hg38.20230411.sorted.merge.bed\n",
    "wc -l elementReference.combined.hg38.20230411.sorted.merge.bed"
   ]
  },
  {
   "cell_type": "code",
   "execution_count": 7,
   "metadata": {},
   "outputs": [
    {
     "name": "stdout",
     "output_type": "stream",
     "text": [
      "881 elementQuant.combined.hg38.20230411.sorted.merge.bed\n"
     ]
    }
   ],
   "source": [
    "%%bash\n",
    "\n",
    "cd /data/gersbachlab/lrb53/encodeCrisprWG/finalversion/figure1/allmeta/elementQuant/combined/\n",
    "\n",
    "module load bedtools2\n",
    "\n",
    "bedtools merge -i elementQuant.combined.hg38.20230411.sorted.bed -d 1 > elementQuant.combined.hg38.20230411.sorted.merge.bed\n",
    "wc -l elementQuant.combined.hg38.20230411.sorted.merge.bed"
   ]
  },
  {
   "cell_type": "markdown",
   "metadata": {},
   "source": [
    "#### Intersect with 100bp bins"
   ]
  },
  {
   "cell_type": "code",
   "execution_count": 8,
   "metadata": {},
   "outputs": [],
   "source": [
    "# %%bash\n",
    "# cd /data/gersbachlab/lrb53/encodeCrisprWG/finalversion/figure1/\n",
    "# cp /data/gersbachlab/lrb53/encodeCrisprWG/figure1meta/binnedgenome.hg38.bed ."
   ]
  },
  {
   "cell_type": "code",
   "execution_count": 9,
   "metadata": {},
   "outputs": [
    {
     "name": "stdout",
     "output_type": "stream",
     "text": [
      "116566\n"
     ]
    }
   ],
   "source": [
    "%%bash\n",
    "\n",
    "cd /data/gersbachlab/lrb53/encodeCrisprWG/finalversion/figure1/allmeta/elementReference/combined/\n",
    "\n",
    "module load bedtools2\n",
    "\n",
    "bedtools intersect \\\n",
    "-a /data/gersbachlab/lrb53/encodeCrisprWG/figure1meta/binnedgenome.hg38.bed \\\n",
    "-b elementReference.combined.hg38.20230411.sorted.merge.bed \\\n",
    "-wa -u | wc -l"
   ]
  },
  {
   "cell_type": "code",
   "execution_count": 10,
   "metadata": {},
   "outputs": [
    {
     "name": "stdout",
     "output_type": "stream",
     "text": [
      "3062 binnedgenome.int.elementReference.20230411.merge.bed\n",
      "chr2\t46464400\t46464900\n"
     ]
    }
   ],
   "source": [
    "%%bash\n",
    "\n",
    "cd /data/gersbachlab/lrb53/encodeCrisprWG/finalversion/figure1/allmeta/elementReference/combined/\n",
    "\n",
    "module load bedtools2\n",
    "\n",
    "bedtools intersect \\\n",
    "-a /data/gersbachlab/lrb53/encodeCrisprWG/figure1meta/binnedgenome.hg38.bed \\\n",
    "-b elementReference.combined.hg38.20230411.sorted.merge.bed \\\n",
    "-wa -u | \\\n",
    "bedtools merge -i stdin -d 1 \\\n",
    "> binnedgenome.int.elementReference.20230411.merge.bed\n",
    "\n",
    "wc -l binnedgenome.int.elementReference.20230411.merge.bed\n",
    "head binnedgenome.int.elementReference.20230411.merge.bed -n 1"
   ]
  },
  {
   "cell_type": "code",
   "execution_count": 11,
   "metadata": {},
   "outputs": [
    {
     "name": "stdout",
     "output_type": "stream",
     "text": [
      "9944\n"
     ]
    }
   ],
   "source": [
    "%%bash\n",
    "\n",
    "cd /data/gersbachlab/lrb53/encodeCrisprWG/finalversion/figure1/allmeta/elementQuant/combined/\n",
    "\n",
    "module load bedtools2\n",
    "\n",
    "bedtools intersect \\\n",
    "-a /data/gersbachlab/lrb53/encodeCrisprWG/figure1meta/binnedgenome.hg38.bed \\\n",
    "-b elementQuant.combined.hg38.20230411.sorted.merge.bed \\\n",
    "-wa -u | wc -l"
   ]
  },
  {
   "cell_type": "code",
   "execution_count": 12,
   "metadata": {},
   "outputs": [
    {
     "name": "stdout",
     "output_type": "stream",
     "text": [
      "865 binnedgenome.int.elementQuant.20230411.merge.bed\n",
      "chr1\t1411500\t1411800\n"
     ]
    }
   ],
   "source": [
    "%%bash\n",
    "\n",
    "cd /data/gersbachlab/lrb53/encodeCrisprWG/finalversion/figure1/allmeta/elementQuant/combined/\n",
    "\n",
    "module load bedtools2\n",
    "\n",
    "bedtools intersect \\\n",
    "-a /data/gersbachlab/lrb53/encodeCrisprWG/figure1meta/binnedgenome.hg38.bed \\\n",
    "-b elementQuant.combined.hg38.20230411.sorted.merge.bed \\\n",
    "-wa -u | \\\n",
    "bedtools merge -i stdin -d 1 \\\n",
    "> binnedgenome.int.elementQuant.20230411.merge.bed\n",
    "\n",
    "wc -l binnedgenome.int.elementQuant.20230411.merge.bed\n",
    "head binnedgenome.int.elementQuant.20230411.merge.bed -n 1"
   ]
  },
  {
   "cell_type": "markdown",
   "metadata": {},
   "source": [
    "## Calculate total bases perturbed\n",
    "\n",
    "1. Using merged features, calculate total bases that were \"covered\" by a perturbation.\n",
    "2. Bin the entire genome, merge bins, then calculate total bases."
   ]
  },
  {
   "cell_type": "markdown",
   "metadata": {},
   "source": [
    "#### 1. Use merged features to calculate total bases perturbed"
   ]
  },
  {
   "cell_type": "code",
   "execution_count": 13,
   "metadata": {},
   "outputs": [
    {
     "data": {
      "text/html": [
       "<div>\n",
       "<style scoped>\n",
       "    .dataframe tbody tr th:only-of-type {\n",
       "        vertical-align: middle;\n",
       "    }\n",
       "\n",
       "    .dataframe tbody tr th {\n",
       "        vertical-align: top;\n",
       "    }\n",
       "\n",
       "    .dataframe thead th {\n",
       "        text-align: right;\n",
       "    }\n",
       "</style>\n",
       "<table border=\"1\" class=\"dataframe\">\n",
       "  <thead>\n",
       "    <tr style=\"text-align: right;\">\n",
       "      <th></th>\n",
       "      <th>start</th>\n",
       "      <th>end</th>\n",
       "      <th>length</th>\n",
       "      <th>method</th>\n",
       "    </tr>\n",
       "    <tr>\n",
       "      <th>chr</th>\n",
       "      <th></th>\n",
       "      <th></th>\n",
       "      <th></th>\n",
       "      <th></th>\n",
       "    </tr>\n",
       "  </thead>\n",
       "  <tbody>\n",
       "    <tr>\n",
       "      <td>chr11</td>\n",
       "      <td>23255616114</td>\n",
       "      <td>23257140075</td>\n",
       "      <td>1523961</td>\n",
       "      <td>merged_only</td>\n",
       "    </tr>\n",
       "    <tr>\n",
       "      <td>chr12</td>\n",
       "      <td>95743432396</td>\n",
       "      <td>95744786600</td>\n",
       "      <td>1354204</td>\n",
       "      <td>merged_only</td>\n",
       "    </tr>\n",
       "    <tr>\n",
       "      <td>chr17</td>\n",
       "      <td>49411833</td>\n",
       "      <td>49436601</td>\n",
       "      <td>24768</td>\n",
       "      <td>merged_only</td>\n",
       "    </tr>\n",
       "    <tr>\n",
       "      <td>chr19</td>\n",
       "      <td>9728963085</td>\n",
       "      <td>9729227400</td>\n",
       "      <td>264315</td>\n",
       "      <td>merged_only</td>\n",
       "    </tr>\n",
       "    <tr>\n",
       "      <td>chr2</td>\n",
       "      <td>4612288988</td>\n",
       "      <td>4612358582</td>\n",
       "      <td>69594</td>\n",
       "      <td>merged_only</td>\n",
       "    </tr>\n",
       "  </tbody>\n",
       "</table>\n",
       "</div>"
      ],
      "text/plain": [
       "             start          end   length       method\n",
       "chr                                                  \n",
       "chr11  23255616114  23257140075  1523961  merged_only\n",
       "chr12  95743432396  95744786600  1354204  merged_only\n",
       "chr17     49411833     49436601    24768  merged_only\n",
       "chr19   9728963085   9729227400   264315  merged_only\n",
       "chr2    4612288988   4612358582    69594  merged_only"
      ]
     },
     "execution_count": 13,
     "metadata": {},
     "output_type": "execute_result"
    }
   ],
   "source": [
    "df1 = pd.read_csv('/data/gersbachlab/lrb53/encodeCrisprWG/finalversion/figure1/allmeta/elementReference/combined/elementReference.combined.hg38.20230411.sorted.merge.bed',\n",
    "                   sep='\\t', header = None)\n",
    "\n",
    "df1.columns = ['chr', 'start', 'end']\n",
    "# df1.head()\n",
    "df1['length'] = df1['end'] - df1['start']\n",
    "plotdf1 = df1.groupby(by=[\"chr\"]).sum()\n",
    "plotdf1['method'] = 'merged_only'\n",
    "plotdf1.head()"
   ]
  },
  {
   "cell_type": "markdown",
   "metadata": {},
   "source": [
    "#### 2. Number of bins/number of bases per chromosome."
   ]
  },
  {
   "cell_type": "code",
   "execution_count": 14,
   "metadata": {},
   "outputs": [
    {
     "data": {
      "text/html": [
       "<div>\n",
       "<style scoped>\n",
       "    .dataframe tbody tr th:only-of-type {\n",
       "        vertical-align: middle;\n",
       "    }\n",
       "\n",
       "    .dataframe tbody tr th {\n",
       "        vertical-align: top;\n",
       "    }\n",
       "\n",
       "    .dataframe thead th {\n",
       "        text-align: right;\n",
       "    }\n",
       "</style>\n",
       "<table border=\"1\" class=\"dataframe\">\n",
       "  <thead>\n",
       "    <tr style=\"text-align: right;\">\n",
       "      <th></th>\n",
       "      <th>length</th>\n",
       "      <th>method</th>\n",
       "    </tr>\n",
       "    <tr>\n",
       "      <th>chr</th>\n",
       "      <th></th>\n",
       "      <th></th>\n",
       "    </tr>\n",
       "  </thead>\n",
       "  <tbody>\n",
       "    <tr>\n",
       "      <td>chr11</td>\n",
       "      <td>1589800</td>\n",
       "      <td>binned_merged</td>\n",
       "    </tr>\n",
       "    <tr>\n",
       "      <td>chr12</td>\n",
       "      <td>1435800</td>\n",
       "      <td>binned_merged</td>\n",
       "    </tr>\n",
       "    <tr>\n",
       "      <td>chr17</td>\n",
       "      <td>24900</td>\n",
       "      <td>binned_merged</td>\n",
       "    </tr>\n",
       "    <tr>\n",
       "      <td>chr19</td>\n",
       "      <td>292300</td>\n",
       "      <td>binned_merged</td>\n",
       "    </tr>\n",
       "    <tr>\n",
       "      <td>chr2</td>\n",
       "      <td>79500</td>\n",
       "      <td>binned_merged</td>\n",
       "    </tr>\n",
       "  </tbody>\n",
       "</table>\n",
       "</div>"
      ],
      "text/plain": [
       "        length         method\n",
       "chr                          \n",
       "chr11  1589800  binned_merged\n",
       "chr12  1435800  binned_merged\n",
       "chr17    24900  binned_merged\n",
       "chr19   292300  binned_merged\n",
       "chr2     79500  binned_merged"
      ]
     },
     "execution_count": 14,
     "metadata": {},
     "output_type": "execute_result"
    }
   ],
   "source": [
    "df2 = pd.read_csv('/data/gersbachlab/lrb53/encodeCrisprWG/finalversion/figure1/allmeta/elementReference/combined/binnedgenome.int.elementReference.20230411.merge.bed',\n",
    "                   sep='\\t', header = None)\n",
    "\n",
    "df2.columns = ['chr', 'start', 'end']\n",
    "# df2.head()\n",
    "df2['length'] = df2['end'] - df2['start']\n",
    "df2 = df2.drop(columns=['start','end'])\n",
    "plotdf2 = df2.groupby(by=[\"chr\"]).sum()\n",
    "plotdf2['method'] = 'binned_merged'\n",
    "plotdf2.head()"
   ]
  },
  {
   "cell_type": "code",
   "execution_count": 15,
   "metadata": {},
   "outputs": [
    {
     "data": {
      "text/html": [
       "<div>\n",
       "<style scoped>\n",
       "    .dataframe tbody tr th:only-of-type {\n",
       "        vertical-align: middle;\n",
       "    }\n",
       "\n",
       "    .dataframe tbody tr th {\n",
       "        vertical-align: top;\n",
       "    }\n",
       "\n",
       "    .dataframe thead th {\n",
       "        text-align: right;\n",
       "    }\n",
       "</style>\n",
       "<table border=\"1\" class=\"dataframe\">\n",
       "  <thead>\n",
       "    <tr style=\"text-align: right;\">\n",
       "      <th></th>\n",
       "      <th>length</th>\n",
       "    </tr>\n",
       "    <tr>\n",
       "      <th>method</th>\n",
       "      <th></th>\n",
       "    </tr>\n",
       "  </thead>\n",
       "  <tbody>\n",
       "    <tr>\n",
       "      <td>binned_merged</td>\n",
       "      <td>11656600</td>\n",
       "    </tr>\n",
       "    <tr>\n",
       "      <td>merged_only</td>\n",
       "      <td>11287215</td>\n",
       "    </tr>\n",
       "  </tbody>\n",
       "</table>\n",
       "</div>"
      ],
      "text/plain": [
       "                 length\n",
       "method                 \n",
       "binned_merged  11656600\n",
       "merged_only    11287215"
      ]
     },
     "execution_count": 15,
     "metadata": {},
     "output_type": "execute_result"
    }
   ],
   "source": [
    "plotdf = pd.concat([plotdf1, plotdf2], sort = False)\n",
    "plotdf.index.name = 'chr'\n",
    "plotdf.reset_index(inplace=True) ### make 'chr' a column instead of row names\n",
    "plotdf.drop(columns=['start','end']).groupby('method').sum()"
   ]
  },
  {
   "cell_type": "code",
   "execution_count": 16,
   "metadata": {},
   "outputs": [
    {
     "data": {
      "image/png": "[encoded data removed]",
      "text/plain": [
       "<Figure size 720x360 with 1 Axes>"
      ]
     },
     "metadata": {
      "needs_background": "light"
     },
     "output_type": "display_data"
    }
   ],
   "source": [
    "fig = plt.figure(figsize = (10, 5))\n",
    " \n",
    "# creating the bar plot\n",
    "sns.barplot(data=plotdf, x='chr', y='length', hue='method')\n",
    "plt.title(\"Total bases called perturbed\")\n",
    "plt.xlabel(\"Chromosome\")\n",
    "plt.xticks(rotation=90)\n",
    "plt.ylabel(\"Nucleotides (bp)\")\n",
    "plt.show()"
   ]
  },
  {
   "cell_type": "markdown",
   "metadata": {},
   "source": [
    "#### Compare percent of chromosome."
   ]
  },
  {
   "cell_type": "code",
   "execution_count": 17,
   "metadata": {},
   "outputs": [],
   "source": [
    "# %%bash\n",
    "# cd /data/gersbachlab/lrb53/encodeCrisprWG/finalversion/figure1/\n",
    "# cp /data/gersbachlab/lrb53/encodeCrisprWG/hg38.chromSizes.noalts.txt ."
   ]
  },
  {
   "cell_type": "code",
   "execution_count": 18,
   "metadata": {},
   "outputs": [
    {
     "data": {
      "text/html": [
       "<div>\n",
       "<style scoped>\n",
       "    .dataframe tbody tr th:only-of-type {\n",
       "        vertical-align: middle;\n",
       "    }\n",
       "\n",
       "    .dataframe tbody tr th {\n",
       "        vertical-align: top;\n",
       "    }\n",
       "\n",
       "    .dataframe thead th {\n",
       "        text-align: right;\n",
       "    }\n",
       "</style>\n",
       "<table border=\"1\" class=\"dataframe\">\n",
       "  <thead>\n",
       "    <tr style=\"text-align: right;\">\n",
       "      <th></th>\n",
       "      <th>chr</th>\n",
       "      <th>size</th>\n",
       "      <th>length</th>\n",
       "      <th>method</th>\n",
       "      <th>percent_chr</th>\n",
       "    </tr>\n",
       "  </thead>\n",
       "  <tbody>\n",
       "    <tr>\n",
       "      <td>0</td>\n",
       "      <td>chr2</td>\n",
       "      <td>242193529</td>\n",
       "      <td>69594</td>\n",
       "      <td>merged_only</td>\n",
       "      <td>0.028735</td>\n",
       "    </tr>\n",
       "    <tr>\n",
       "      <td>1</td>\n",
       "      <td>chr2</td>\n",
       "      <td>242193529</td>\n",
       "      <td>79500</td>\n",
       "      <td>binned_merged</td>\n",
       "      <td>0.032825</td>\n",
       "    </tr>\n",
       "    <tr>\n",
       "      <td>2</td>\n",
       "      <td>chr3</td>\n",
       "      <td>198295559</td>\n",
       "      <td>185144</td>\n",
       "      <td>merged_only</td>\n",
       "      <td>0.093368</td>\n",
       "    </tr>\n",
       "    <tr>\n",
       "      <td>3</td>\n",
       "      <td>chr3</td>\n",
       "      <td>198295559</td>\n",
       "      <td>208800</td>\n",
       "      <td>binned_merged</td>\n",
       "      <td>0.105297</td>\n",
       "    </tr>\n",
       "    <tr>\n",
       "      <td>4</td>\n",
       "      <td>chr4</td>\n",
       "      <td>190214555</td>\n",
       "      <td>666917</td>\n",
       "      <td>merged_only</td>\n",
       "      <td>0.350613</td>\n",
       "    </tr>\n",
       "  </tbody>\n",
       "</table>\n",
       "</div>"
      ],
      "text/plain": [
       "    chr       size  length         method  percent_chr\n",
       "0  chr2  242193529   69594    merged_only     0.028735\n",
       "1  chr2  242193529   79500  binned_merged     0.032825\n",
       "2  chr3  198295559  185144    merged_only     0.093368\n",
       "3  chr3  198295559  208800  binned_merged     0.105297\n",
       "4  chr4  190214555  666917    merged_only     0.350613"
      ]
     },
     "execution_count": 18,
     "metadata": {},
     "output_type": "execute_result"
    }
   ],
   "source": [
    "df3 = pd.read_csv('/data/gersbachlab/lrb53/encodeCrisprWG/finalversion/figure1/hg38.chromSizes.noalts.txt', header = None, sep = '\\t')\n",
    "df3.columns = ['chr','size']\n",
    "df3 = df3.merge(plotdf, left_on='chr', right_on='chr').drop(columns=['start','end'])\n",
    "df3['percent_chr'] = df3['length']/df3['size']*100\n",
    "df3.head()"
   ]
  },
  {
   "cell_type": "code",
   "execution_count": 19,
   "metadata": {},
   "outputs": [
    {
     "data": {
      "image/png": "[encoded data removed]",
      "text/plain": [
       "<Figure size 720x360 with 1 Axes>"
      ]
     },
     "metadata": {
      "needs_background": "light"
     },
     "output_type": "display_data"
    }
   ],
   "source": [
    "fig = plt.figure(figsize = (10, 5))\n",
    " \n",
    "# creating the bar plot\n",
    "sns.barplot(data=df3, x='chr', y='percent_chr', hue='method')\n",
    "plt.title(\"Percent of chromosome perturbed\")\n",
    "plt.xlabel(\"Chromosome\")\n",
    "plt.xticks(rotation=90)\n",
    "plt.ylabel(\"Percent of total bases (%)\")\n",
    "plt.show()"
   ]
  },
  {
   "cell_type": "markdown",
   "metadata": {},
   "source": [
    "## Calculate total bases significant\n",
    "\n",
    "1. Using merged features, calculate total bases that were called significant.\n",
    "2. Bin the entire genome, merge bins, then calculate total bases."
   ]
  },
  {
   "cell_type": "markdown",
   "metadata": {},
   "source": [
    "#### 1. Use merged features to calculate total bases significant"
   ]
  },
  {
   "cell_type": "code",
   "execution_count": 20,
   "metadata": {},
   "outputs": [
    {
     "data": {
      "text/html": [
       "<div>\n",
       "<style scoped>\n",
       "    .dataframe tbody tr th:only-of-type {\n",
       "        vertical-align: middle;\n",
       "    }\n",
       "\n",
       "    .dataframe tbody tr th {\n",
       "        vertical-align: top;\n",
       "    }\n",
       "\n",
       "    .dataframe thead th {\n",
       "        text-align: right;\n",
       "    }\n",
       "</style>\n",
       "<table border=\"1\" class=\"dataframe\">\n",
       "  <thead>\n",
       "    <tr style=\"text-align: right;\">\n",
       "      <th></th>\n",
       "      <th>start</th>\n",
       "      <th>end</th>\n",
       "      <th>length</th>\n",
       "      <th>method</th>\n",
       "    </tr>\n",
       "    <tr>\n",
       "      <th>chr</th>\n",
       "      <th></th>\n",
       "      <th></th>\n",
       "      <th></th>\n",
       "      <th></th>\n",
       "    </tr>\n",
       "  </thead>\n",
       "  <tbody>\n",
       "    <tr>\n",
       "      <td>chr1</td>\n",
       "      <td>4314048920</td>\n",
       "      <td>4314095038</td>\n",
       "      <td>46118</td>\n",
       "      <td>merged_only</td>\n",
       "    </tr>\n",
       "    <tr>\n",
       "      <td>chr10</td>\n",
       "      <td>3655926338</td>\n",
       "      <td>3655962933</td>\n",
       "      <td>36595</td>\n",
       "      <td>merged_only</td>\n",
       "    </tr>\n",
       "    <tr>\n",
       "      <td>chr11</td>\n",
       "      <td>2466052194</td>\n",
       "      <td>2466123189</td>\n",
       "      <td>70995</td>\n",
       "      <td>merged_only</td>\n",
       "    </tr>\n",
       "    <tr>\n",
       "      <td>chr12</td>\n",
       "      <td>4155431869</td>\n",
       "      <td>4155477211</td>\n",
       "      <td>45342</td>\n",
       "      <td>merged_only</td>\n",
       "    </tr>\n",
       "    <tr>\n",
       "      <td>chr13</td>\n",
       "      <td>676321317</td>\n",
       "      <td>676331460</td>\n",
       "      <td>10143</td>\n",
       "      <td>merged_only</td>\n",
       "    </tr>\n",
       "  </tbody>\n",
       "</table>\n",
       "</div>"
      ],
      "text/plain": [
       "            start         end  length       method\n",
       "chr                                               \n",
       "chr1   4314048920  4314095038   46118  merged_only\n",
       "chr10  3655926338  3655962933   36595  merged_only\n",
       "chr11  2466052194  2466123189   70995  merged_only\n",
       "chr12  4155431869  4155477211   45342  merged_only\n",
       "chr13   676321317   676331460   10143  merged_only"
      ]
     },
     "execution_count": 20,
     "metadata": {},
     "output_type": "execute_result"
    }
   ],
   "source": [
    "df1 = pd.read_csv('/data/gersbachlab/lrb53/encodeCrisprWG/finalversion/figure1/allmeta/elementQuant/combined/elementQuant.combined.hg38.20230411.sorted.merge.bed',\n",
    "                   sep='\\t', header = None)\n",
    "\n",
    "df1.columns = ['chr', 'start', 'end']\n",
    "# df1.head()\n",
    "df1['length'] = df1['end'] - df1['start']\n",
    "plotdf1 = df1.groupby(by=[\"chr\"]).sum()\n",
    "plotdf1['method'] = 'merged_only'\n",
    "plotdf1.head()"
   ]
  },
  {
   "cell_type": "markdown",
   "metadata": {},
   "source": [
    "#### 2. Number of bins/number of bases per chromosome."
   ]
  },
  {
   "cell_type": "code",
   "execution_count": 21,
   "metadata": {},
   "outputs": [
    {
     "data": {
      "text/html": [
       "<div>\n",
       "<style scoped>\n",
       "    .dataframe tbody tr th:only-of-type {\n",
       "        vertical-align: middle;\n",
       "    }\n",
       "\n",
       "    .dataframe tbody tr th {\n",
       "        vertical-align: top;\n",
       "    }\n",
       "\n",
       "    .dataframe thead th {\n",
       "        text-align: right;\n",
       "    }\n",
       "</style>\n",
       "<table border=\"1\" class=\"dataframe\">\n",
       "  <thead>\n",
       "    <tr style=\"text-align: right;\">\n",
       "      <th></th>\n",
       "      <th>length</th>\n",
       "      <th>method</th>\n",
       "    </tr>\n",
       "    <tr>\n",
       "      <th>chr</th>\n",
       "      <th></th>\n",
       "      <th></th>\n",
       "    </tr>\n",
       "  </thead>\n",
       "  <tbody>\n",
       "    <tr>\n",
       "      <td>chr1</td>\n",
       "      <td>50500</td>\n",
       "      <td>binned_merged</td>\n",
       "    </tr>\n",
       "    <tr>\n",
       "      <td>chr10</td>\n",
       "      <td>41500</td>\n",
       "      <td>binned_merged</td>\n",
       "    </tr>\n",
       "    <tr>\n",
       "      <td>chr11</td>\n",
       "      <td>75800</td>\n",
       "      <td>binned_merged</td>\n",
       "    </tr>\n",
       "    <tr>\n",
       "      <td>chr12</td>\n",
       "      <td>50800</td>\n",
       "      <td>binned_merged</td>\n",
       "    </tr>\n",
       "    <tr>\n",
       "      <td>chr13</td>\n",
       "      <td>11300</td>\n",
       "      <td>binned_merged</td>\n",
       "    </tr>\n",
       "  </tbody>\n",
       "</table>\n",
       "</div>"
      ],
      "text/plain": [
       "       length         method\n",
       "chr                         \n",
       "chr1    50500  binned_merged\n",
       "chr10   41500  binned_merged\n",
       "chr11   75800  binned_merged\n",
       "chr12   50800  binned_merged\n",
       "chr13   11300  binned_merged"
      ]
     },
     "execution_count": 21,
     "metadata": {},
     "output_type": "execute_result"
    }
   ],
   "source": [
    "df2 = pd.read_csv('/data/gersbachlab/lrb53/encodeCrisprWG/finalversion/figure1/allmeta/elementQuant/combined/binnedgenome.int.elementQuant.20230411.merge.bed',\n",
    "                   sep='\\t', header = None)\n",
    "\n",
    "df2.columns = ['chr', 'start', 'end']\n",
    "# df2.head()\n",
    "df2['length'] = df2['end'] - df2['start']\n",
    "df2 = df2.drop(columns=['start','end'])\n",
    "plotdf2 = df2.groupby(by=[\"chr\"]).sum()\n",
    "plotdf2['method'] = 'binned_merged'\n",
    "plotdf2.head()"
   ]
  },
  {
   "cell_type": "code",
   "execution_count": 22,
   "metadata": {},
   "outputs": [
    {
     "data": {
      "text/html": [
       "<div>\n",
       "<style scoped>\n",
       "    .dataframe tbody tr th:only-of-type {\n",
       "        vertical-align: middle;\n",
       "    }\n",
       "\n",
       "    .dataframe tbody tr th {\n",
       "        vertical-align: top;\n",
       "    }\n",
       "\n",
       "    .dataframe thead th {\n",
       "        text-align: right;\n",
       "    }\n",
       "</style>\n",
       "<table border=\"1\" class=\"dataframe\">\n",
       "  <thead>\n",
       "    <tr style=\"text-align: right;\">\n",
       "      <th></th>\n",
       "      <th>length</th>\n",
       "    </tr>\n",
       "    <tr>\n",
       "      <th>method</th>\n",
       "      <th></th>\n",
       "    </tr>\n",
       "  </thead>\n",
       "  <tbody>\n",
       "    <tr>\n",
       "      <td>binned_merged</td>\n",
       "      <td>994400</td>\n",
       "    </tr>\n",
       "    <tr>\n",
       "      <td>merged_only</td>\n",
       "      <td>907659</td>\n",
       "    </tr>\n",
       "  </tbody>\n",
       "</table>\n",
       "</div>"
      ],
      "text/plain": [
       "               length\n",
       "method               \n",
       "binned_merged  994400\n",
       "merged_only    907659"
      ]
     },
     "execution_count": 22,
     "metadata": {},
     "output_type": "execute_result"
    }
   ],
   "source": [
    "plotdf = pd.concat([plotdf1, plotdf2], sort = False)\n",
    "plotdf.index.name = 'chr'\n",
    "plotdf.reset_index(inplace=True) ### make 'chr' a column instead of row names\n",
    "plotdf.drop(columns=['start','end']).groupby('method').sum()"
   ]
  },
  {
   "cell_type": "code",
   "execution_count": 23,
   "metadata": {},
   "outputs": [
    {
     "data": {
      "image/png": "[encoded data removed]",
      "text/plain": [
       "<Figure size 720x360 with 1 Axes>"
      ]
     },
     "metadata": {
      "needs_background": "light"
     },
     "output_type": "display_data"
    }
   ],
   "source": [
    "fig = plt.figure(figsize = (10, 5))\n",
    " \n",
    "# creating the bar plot\n",
    "sns.barplot(data=plotdf, x='chr', y='length', hue='method')\n",
    "plt.title(\"Total bases called significant\")\n",
    "plt.xlabel(\"Chromosome\")\n",
    "plt.xticks(rotation=90)\n",
    "plt.ylabel(\"Nucleotides (bp)\")\n",
    "plt.show()"
   ]
  },
  {
   "cell_type": "markdown",
   "metadata": {},
   "source": [
    "#### Compare percent of chromosome."
   ]
  },
  {
   "cell_type": "code",
   "execution_count": 24,
   "metadata": {},
   "outputs": [],
   "source": [
    "# %%bash\n",
    "# cd /data/gersbachlab/lrb53/encodeCrisprWG/finalversion/figure1/\n",
    "# cp /data/gersbachlab/lrb53/encodeCrisprWG/hg38.chromSizes.noalts.txt ."
   ]
  },
  {
   "cell_type": "code",
   "execution_count": 25,
   "metadata": {},
   "outputs": [
    {
     "data": {
      "text/html": [
       "<div>\n",
       "<style scoped>\n",
       "    .dataframe tbody tr th:only-of-type {\n",
       "        vertical-align: middle;\n",
       "    }\n",
       "\n",
       "    .dataframe tbody tr th {\n",
       "        vertical-align: top;\n",
       "    }\n",
       "\n",
       "    .dataframe thead th {\n",
       "        text-align: right;\n",
       "    }\n",
       "</style>\n",
       "<table border=\"1\" class=\"dataframe\">\n",
       "  <thead>\n",
       "    <tr style=\"text-align: right;\">\n",
       "      <th></th>\n",
       "      <th>chr</th>\n",
       "      <th>size</th>\n",
       "      <th>length</th>\n",
       "      <th>method</th>\n",
       "      <th>percent_chr</th>\n",
       "    </tr>\n",
       "  </thead>\n",
       "  <tbody>\n",
       "    <tr>\n",
       "      <td>0</td>\n",
       "      <td>chr1</td>\n",
       "      <td>248956422</td>\n",
       "      <td>46118</td>\n",
       "      <td>merged_only</td>\n",
       "      <td>0.018525</td>\n",
       "    </tr>\n",
       "    <tr>\n",
       "      <td>1</td>\n",
       "      <td>chr1</td>\n",
       "      <td>248956422</td>\n",
       "      <td>50500</td>\n",
       "      <td>binned_merged</td>\n",
       "      <td>0.020285</td>\n",
       "    </tr>\n",
       "    <tr>\n",
       "      <td>2</td>\n",
       "      <td>chr2</td>\n",
       "      <td>242193529</td>\n",
       "      <td>51290</td>\n",
       "      <td>merged_only</td>\n",
       "      <td>0.021177</td>\n",
       "    </tr>\n",
       "    <tr>\n",
       "      <td>3</td>\n",
       "      <td>chr2</td>\n",
       "      <td>242193529</td>\n",
       "      <td>55600</td>\n",
       "      <td>binned_merged</td>\n",
       "      <td>0.022957</td>\n",
       "    </tr>\n",
       "    <tr>\n",
       "      <td>4</td>\n",
       "      <td>chr3</td>\n",
       "      <td>198295559</td>\n",
       "      <td>36496</td>\n",
       "      <td>merged_only</td>\n",
       "      <td>0.018405</td>\n",
       "    </tr>\n",
       "  </tbody>\n",
       "</table>\n",
       "</div>"
      ],
      "text/plain": [
       "    chr       size  length         method  percent_chr\n",
       "0  chr1  248956422   46118    merged_only     0.018525\n",
       "1  chr1  248956422   50500  binned_merged     0.020285\n",
       "2  chr2  242193529   51290    merged_only     0.021177\n",
       "3  chr2  242193529   55600  binned_merged     0.022957\n",
       "4  chr3  198295559   36496    merged_only     0.018405"
      ]
     },
     "execution_count": 25,
     "metadata": {},
     "output_type": "execute_result"
    }
   ],
   "source": [
    "df3 = pd.read_csv('/data/gersbachlab/lrb53/encodeCrisprWG/finalversion/figure1/hg38.chromSizes.noalts.txt', header = None, sep = '\\t')\n",
    "df3.columns = ['chr','size']\n",
    "df3 = df3.merge(plotdf, left_on='chr', right_on='chr').drop(columns=['start','end'])\n",
    "df3['percent_chr'] = df3['length']/df3['size']*100\n",
    "df3.head()"
   ]
  },
  {
   "cell_type": "code",
   "execution_count": 26,
   "metadata": {},
   "outputs": [
    {
     "data": {
      "image/png": "[encoded data removed]",
      "text/plain": [
       "<Figure size 720x360 with 1 Axes>"
      ]
     },
     "metadata": {
      "needs_background": "light"
     },
     "output_type": "display_data"
    }
   ],
   "source": [
    "fig = plt.figure(figsize = (10, 5))\n",
    " \n",
    "# creating the bar plot\n",
    "sns.barplot(data=df3, x='chr', y='percent_chr', hue='method')\n",
    "plt.title(\"Percent of chromosome significant\")\n",
    "plt.xlabel(\"Chromosome\")\n",
    "plt.xticks(rotation=90)\n",
    "plt.ylabel(\"Percent of total bases (%)\")\n",
    "plt.show()"
   ]
  },
  {
   "cell_type": "markdown",
   "metadata": {},
   "source": [
    "#### Calculate percent of genome significant."
   ]
  },
  {
   "cell_type": "markdown",
   "metadata": {},
   "source": [
    "Note: the total percent of the genome will NOT equal the sum of the percent of each chromosome. <br>\n",
    "Ex. (1/a) + (1/b) != 1/(a+b)"
   ]
  },
  {
   "cell_type": "code",
   "execution_count": 27,
   "metadata": {},
   "outputs": [
    {
     "data": {
      "text/plain": [
       "3031042417"
      ]
     },
     "execution_count": 27,
     "metadata": {},
     "output_type": "execute_result"
    }
   ],
   "source": [
    "genomesize = df3['size'].drop_duplicates().sum() ### in the df, each chromosome has two rows (binned and merged)\n",
    "genomesize"
   ]
  },
  {
   "cell_type": "code",
   "execution_count": 28,
   "metadata": {},
   "outputs": [
    {
     "data": {
      "text/plain": [
       "994400"
      ]
     },
     "execution_count": 28,
     "metadata": {},
     "output_type": "execute_result"
    }
   ],
   "source": [
    "df3[df3['method'] == 'binned_merged']['length'].sum()"
   ]
  },
  {
   "cell_type": "code",
   "execution_count": 29,
   "metadata": {},
   "outputs": [
    {
     "data": {
      "text/plain": [
       "0.00032807195122799235"
      ]
     },
     "execution_count": 29,
     "metadata": {},
     "output_type": "execute_result"
    }
   ],
   "source": [
    "df3[df3['method'] == 'binned_merged']['length'].sum()/genomesize"
   ]
  },
  {
   "cell_type": "code",
   "execution_count": 30,
   "metadata": {},
   "outputs": [
    {
     "data": {
      "text/plain": [
       "907659"
      ]
     },
     "execution_count": 30,
     "metadata": {},
     "output_type": "execute_result"
    }
   ],
   "source": [
    "df3[df3['method'] == 'merged_only']['length'].sum()"
   ]
  },
  {
   "cell_type": "code",
   "execution_count": 31,
   "metadata": {},
   "outputs": [
    {
     "data": {
      "text/plain": [
       "0.0002994544038411588"
      ]
     },
     "execution_count": 31,
     "metadata": {},
     "output_type": "execute_result"
    }
   ],
   "source": [
    "df3[df3['method'] == 'merged_only']['length'].sum()/genomesize"
   ]
  },
  {
   "cell_type": "code",
   "execution_count": 41,
   "metadata": {},
   "outputs": [
    {
     "data": {
      "text/plain": [
       "0.3845739648717031"
      ]
     },
     "execution_count": 41,
     "metadata": {},
     "output_type": "execute_result"
    }
   ],
   "source": [
    "### percent of genome perturbed\n",
    "11656600/3031042417*100"
   ]
  },
  {
   "cell_type": "code",
   "execution_count": 40,
   "metadata": {},
   "outputs": [
    {
     "data": {
      "text/plain": [
       "8.530789424017295"
      ]
     },
     "execution_count": 40,
     "metadata": {},
     "output_type": "execute_result"
    }
   ],
   "source": [
    "### percent of perturbed regions called significant (base pairs; binned_merged)\n",
    "(994400/11656600)*100"
   ]
  },
  {
   "cell_type": "code",
   "execution_count": null,
   "metadata": {},
   "outputs": [],
   "source": []
  },
  {
   "cell_type": "code",
   "execution_count": null,
   "metadata": {},
   "outputs": [],
   "source": []
  }
 ],
 "metadata": {
  "kernelspec": {
   "display_name": "Python 3",
   "language": "python",
   "name": "python3"
  },
  "language_info": {
   "codemirror_mode": {
    "name": "ipython",
    "version": 3
   },
   "file_extension": ".py",
   "mimetype": "text/x-python",
   "name": "python",
   "nbconvert_exporter": "python",
   "pygments_lexer": "ipython3",
   "version": "3.6.7"
  }
 },
 "nbformat": 4,
 "nbformat_minor": 2
}
