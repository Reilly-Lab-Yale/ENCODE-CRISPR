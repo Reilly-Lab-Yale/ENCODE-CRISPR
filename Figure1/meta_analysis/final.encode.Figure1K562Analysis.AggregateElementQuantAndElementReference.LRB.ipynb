{
 "cells": [
  {
   "cell_type": "markdown",
   "metadata": {},
   "source": [
    "# K562 CRE meta analysis"
   ]
  },
  {
   "cell_type": "markdown",
   "metadata": {},
   "source": [
    "## Make new directories"
   ]
  },
  {
   "cell_type": "code",
   "execution_count": 4,
   "metadata": {},
   "outputs": [],
   "source": [
    "%%bash\n",
    "mkdir -p k562meta/elementReference/hg38\n",
    "mkdir -p k562meta/elementQuant/hg38\n",
    "mkdir -p k562meta/elementReference/hg19\n",
    "mkdir -p k562meta/elementQuant/hg19\n",
    "mkdir -p k562meta/elementReference/hg19_to_hg38\n",
    "mkdir -p k562meta/elementQuant/hg19_to_hg38\n",
    "mkdir -p k562meta/combined\n",
    "mkdir -p k562meta/outs"
   ]
  },
  {
   "cell_type": "markdown",
   "metadata": {},
   "source": [
    "## Switch to `R` kernel"
   ]
  },
  {
   "cell_type": "code",
   "execution_count": 1,
   "metadata": {},
   "outputs": [],
   "source": [
    "suppressPackageStartupMessages(library(tidyverse))"
   ]
  },
  {
   "cell_type": "markdown",
   "metadata": {},
   "source": [
    "## Generate master hg19 elementReference file"
   ]
  },
  {
   "cell_type": "markdown",
   "metadata": {},
   "source": [
    "### Load both elementReference files"
   ]
  },
  {
   "cell_type": "code",
   "execution_count": 2,
   "metadata": {},
   "outputs": [
    {
     "data": {
      "text/html": [
       "<table class=\"dataframe\">\n",
       "<caption>A tibble: 1 × 5</caption>\n",
       "<thead>\n",
       "\t<tr><th scope=col>chr</th><th scope=col>start</th><th scope=col>end</th><th scope=col>GuideSequence</th><th scope=col>OligoID</th></tr>\n",
       "\t<tr><th scope=col>&lt;chr&gt;</th><th scope=col>&lt;dbl&gt;</th><th scope=col>&lt;dbl&gt;</th><th scope=col>&lt;chr&gt;</th><th scope=col>&lt;chr&gt;</th></tr>\n",
       "</thead>\n",
       "<tbody>\n",
       "\t<tr><td>chrX</td><td>48645094</td><td>48645113</td><td>GGGTAGGGGCAGCAGGCCCA</td><td>171010FF_12166</td></tr>\n",
       "</tbody>\n",
       "</table>\n"
      ],
      "text/latex": [
       "A tibble: 1 × 5\n",
       "\\begin{tabular}{lllll}\n",
       " chr & start & end & GuideSequence & OligoID\\\\\n",
       " <chr> & <dbl> & <dbl> & <chr> & <chr>\\\\\n",
       "\\hline\n",
       "\t chrX & 48645094 & 48645113 & GGGTAGGGGCAGCAGGCCCA & 171010FF\\_12166\\\\\n",
       "\\end{tabular}\n"
      ],
      "text/markdown": [
       "\n",
       "A tibble: 1 × 5\n",
       "\n",
       "| chr &lt;chr&gt; | start &lt;dbl&gt; | end &lt;dbl&gt; | GuideSequence &lt;chr&gt; | OligoID &lt;chr&gt; |\n",
       "|---|---|---|---|---|\n",
       "| chrX | 48645094 | 48645113 | GGGTAGGGGCAGCAGGCCCA | 171010FF_12166 |\n",
       "\n"
      ],
      "text/plain": [
       "  chr  start    end      GuideSequence        OligoID       \n",
       "1 chrX 48645094 48645113 GGGTAGGGGCAGCAGGCCCA 171010FF_12166"
      ]
     },
     "metadata": {},
     "output_type": "display_data"
    }
   ],
   "source": [
    "temp1 <- read_tsv(\"k562meta/elementReference/hg19/ENCFF287WXB.tsv\",\n",
    "                  col_names = TRUE, show_col_types = FALSE)\n",
    "head(temp1,n=1)"
   ]
  },
  {
   "cell_type": "code",
   "execution_count": 3,
   "metadata": {},
   "outputs": [
    {
     "data": {
      "text/html": [
       "<table class=\"dataframe\">\n",
       "<caption>A tibble: 1 × 2</caption>\n",
       "<thead>\n",
       "\t<tr><th scope=col>OligoID</th><th scope=col>target</th></tr>\n",
       "\t<tr><th scope=col>&lt;chr&gt;</th><th scope=col>&lt;chr&gt;</th></tr>\n",
       "</thead>\n",
       "<tbody>\n",
       "\t<tr><td>171010FF_12166</td><td>chrX:48644125-48645245</td></tr>\n",
       "</tbody>\n",
       "</table>\n"
      ],
      "text/latex": [
       "A tibble: 1 × 2\n",
       "\\begin{tabular}{ll}\n",
       " OligoID & target\\\\\n",
       " <chr> & <chr>\\\\\n",
       "\\hline\n",
       "\t 171010FF\\_12166 & chrX:48644125-48645245\\\\\n",
       "\\end{tabular}\n"
      ],
      "text/markdown": [
       "\n",
       "A tibble: 1 × 2\n",
       "\n",
       "| OligoID &lt;chr&gt; | target &lt;chr&gt; |\n",
       "|---|---|\n",
       "| 171010FF_12166 | chrX:48644125-48645245 |\n",
       "\n"
      ],
      "text/plain": [
       "  OligoID        target                \n",
       "1 171010FF_12166 chrX:48644125-48645245"
      ]
     },
     "metadata": {},
     "output_type": "display_data"
    }
   ],
   "source": [
    "temp2 <- read_tsv(\"k562meta/elementReference/hg19/ENCFF647EBF.tsv\",\n",
    "                  col_names = TRUE, show_col_types = FALSE)\n",
    "head(temp2,n=1)"
   ]
  },
  {
   "cell_type": "markdown",
   "metadata": {},
   "source": [
    "### Now, combine all targeting sgRNAs into one dataframe and clean\n",
    "\n",
    "Goal here is to get the sgRNA coordinates and attach a unique label for the sgRNA, then remove duplicates."
   ]
  },
  {
   "cell_type": "code",
   "execution_count": 4,
   "metadata": {},
   "outputs": [
    {
     "data": {
      "text/html": [
       "<table class=\"dataframe\">\n",
       "<caption>A tibble: 1 × 5</caption>\n",
       "<thead>\n",
       "\t<tr><th scope=col>chr</th><th scope=col>start</th><th scope=col>end</th><th scope=col>label</th><th scope=col>OligoID</th></tr>\n",
       "\t<tr><th scope=col>&lt;chr&gt;</th><th scope=col>&lt;chr&gt;</th><th scope=col>&lt;chr&gt;</th><th scope=col>&lt;chr&gt;</th><th scope=col>&lt;chr&gt;</th></tr>\n",
       "</thead>\n",
       "<tbody>\n",
       "\t<tr><td>chrX</td><td>48645094</td><td>48645113</td><td>171010FF_12166_chrX_48645094_48645113</td><td>171010FF_12166</td></tr>\n",
       "</tbody>\n",
       "</table>\n"
      ],
      "text/latex": [
       "A tibble: 1 × 5\n",
       "\\begin{tabular}{lllll}\n",
       " chr & start & end & label & OligoID\\\\\n",
       " <chr> & <chr> & <chr> & <chr> & <chr>\\\\\n",
       "\\hline\n",
       "\t chrX & 48645094 & 48645113 & 171010FF\\_12166\\_chrX\\_48645094\\_48645113 & 171010FF\\_12166\\\\\n",
       "\\end{tabular}\n"
      ],
      "text/markdown": [
       "\n",
       "A tibble: 1 × 5\n",
       "\n",
       "| chr &lt;chr&gt; | start &lt;chr&gt; | end &lt;chr&gt; | label &lt;chr&gt; | OligoID &lt;chr&gt; |\n",
       "|---|---|---|---|---|\n",
       "| chrX | 48645094 | 48645113 | 171010FF_12166_chrX_48645094_48645113 | 171010FF_12166 |\n",
       "\n"
      ],
      "text/plain": [
       "  chr  start    end      label                                 OligoID       \n",
       "1 chrX 48645094 48645113 171010FF_12166_chrX_48645094_48645113 171010FF_12166"
      ]
     },
     "metadata": {},
     "output_type": "display_data"
    },
    {
     "data": {
      "text/html": [
       "<style>\n",
       ".list-inline {list-style: none; margin:0; padding: 0}\n",
       ".list-inline>li {display: inline-block}\n",
       ".list-inline>li:not(:last-child)::after {content: \"\\00b7\"; padding: 0 .5ex}\n",
       "</style>\n",
       "<ol class=list-inline><li>131642</li><li>5</li></ol>\n"
      ],
      "text/latex": [
       "\\begin{enumerate*}\n",
       "\\item 131642\n",
       "\\item 5\n",
       "\\end{enumerate*}\n"
      ],
      "text/markdown": [
       "1. 131642\n",
       "2. 5\n",
       "\n",
       "\n"
      ],
      "text/plain": [
       "[1] 131642      5"
      ]
     },
     "metadata": {},
     "output_type": "display_data"
    }
   ],
   "source": [
    "df1 <- \n",
    "rbind(\n",
    "    temp1 %>%\n",
    "        filter(grepl(\"chr\",chr)) %>%\n",
    "        mutate(label = paste0(OligoID,\"_\",chr,\"_\",start,\"_\",end)) %>%\n",
    "        select(chr, start, end, label, OligoID) %>%\n",
    "        distinct(),\n",
    "    \n",
    "    temp2 %>%\n",
    "        filter(grepl(\"chr\",target)) %>%\n",
    "        separate(target, into = c(\"chr\",\"coords\"), remove = FALSE, sep = \":\") %>%\n",
    "        separate(coords, into = c(\"start\",\"end\"), remove = FALSE, sep = \"-\") %>%\n",
    "        mutate(label = paste0(OligoID,\"_\",chr,\"_\",coords)) %>%\n",
    "        select(chr, start, end, label, OligoID) %>%\n",
    "        distinct()\n",
    "    )\n",
    "\n",
    "head(df1,n=1)\n",
    "dim(df1)"
   ]
  },
  {
   "cell_type": "markdown",
   "metadata": {},
   "source": [
    "### Since the elementReference does not contain sgRNA strand, use one guideQuant file from each experiment instead.\n",
    "\n",
    "Checked the number of lines and the replicates have the same, so all sgRNAs for the specific locus are included for the corresponding file. <br>\n",
    "Note the coordinates are the PAM coordinates so use `start` as the position to adjust for CRISPRi."
   ]
  },
  {
   "cell_type": "code",
   "execution_count": 5,
   "metadata": {},
   "outputs": [
    {
     "data": {
      "text/html": [
       "<table class=\"dataframe\">\n",
       "<caption>A tibble: 1 × 10</caption>\n",
       "<thead>\n",
       "\t<tr><th scope=col>chr</th><th scope=col>start</th><th scope=col>end</th><th scope=col>name</th><th scope=col>strand</th><th scope=col>grna</th><th scope=col>protospacer</th><th scope=col>sequence</th><th scope=col>type</th><th scope=col>element_reference</th></tr>\n",
       "\t<tr><th scope=col>&lt;chr&gt;</th><th scope=col>&lt;dbl&gt;</th><th scope=col>&lt;dbl&gt;</th><th scope=col>&lt;chr&gt;</th><th scope=col>&lt;chr&gt;</th><th scope=col>&lt;chr&gt;</th><th scope=col>&lt;chr&gt;</th><th scope=col>&lt;chr&gt;</th><th scope=col>&lt;chr&gt;</th><th scope=col>&lt;chr&gt;</th></tr>\n",
       "</thead>\n",
       "<tbody>\n",
       "\t<tr><td>chrX</td><td>49012745</td><td>49012748</td><td>FUT1|chrX:49012745-49012748:-</td><td>-</td><td>chrX:49012745-49012748:-</td><td>GCGGCTGGACGCGCGCCCCC</td><td>GCGGCTGGACGCGCGCCCCC</td><td>targeting</td><td>/data/gersbachlab/lrb53/encodeCrisprWG/finalversion/figure1/k562meta/elementReference/hg19/guide_level/ENCFF014XLT.tsv</td></tr>\n",
       "</tbody>\n",
       "</table>\n"
      ],
      "text/latex": [
       "A tibble: 1 × 10\n",
       "\\begin{tabular}{llllllllll}\n",
       " chr & start & end & name & strand & grna & protospacer & sequence & type & element\\_reference\\\\\n",
       " <chr> & <dbl> & <dbl> & <chr> & <chr> & <chr> & <chr> & <chr> & <chr> & <chr>\\\\\n",
       "\\hline\n",
       "\t chrX & 49012745 & 49012748 & FUT1\\textbar{}chrX:49012745-49012748:- & - & chrX:49012745-49012748:- & GCGGCTGGACGCGCGCCCCC & GCGGCTGGACGCGCGCCCCC & targeting & /data/gersbachlab/lrb53/encodeCrisprWG/finalversion/figure1/k562meta/elementReference/hg19/guide\\_level/ENCFF014XLT.tsv\\\\\n",
       "\\end{tabular}\n"
      ],
      "text/markdown": [
       "\n",
       "A tibble: 1 × 10\n",
       "\n",
       "| chr &lt;chr&gt; | start &lt;dbl&gt; | end &lt;dbl&gt; | name &lt;chr&gt; | strand &lt;chr&gt; | grna &lt;chr&gt; | protospacer &lt;chr&gt; | sequence &lt;chr&gt; | type &lt;chr&gt; | element_reference &lt;chr&gt; |\n",
       "|---|---|---|---|---|---|---|---|---|---|\n",
       "| chrX | 49012745 | 49012748 | FUT1|chrX:49012745-49012748:- | - | chrX:49012745-49012748:- | GCGGCTGGACGCGCGCCCCC | GCGGCTGGACGCGCGCCCCC | targeting | /data/gersbachlab/lrb53/encodeCrisprWG/finalversion/figure1/k562meta/elementReference/hg19/guide_level/ENCFF014XLT.tsv |\n",
       "\n"
      ],
      "text/plain": [
       "  chr  start    end      name                          strand\n",
       "1 chrX 49012745 49012748 FUT1|chrX:49012745-49012748:- -     \n",
       "  grna                     protospacer          sequence             type     \n",
       "1 chrX:49012745-49012748:- GCGGCTGGACGCGCGCCCCC GCGGCTGGACGCGCGCCCCC targeting\n",
       "  element_reference                                                                                                     \n",
       "1 /data/gersbachlab/lrb53/encodeCrisprWG/finalversion/figure1/k562meta/elementReference/hg19/guide_level/ENCFF014XLT.tsv"
      ]
     },
     "metadata": {},
     "output_type": "display_data"
    }
   ],
   "source": [
    "# path to the data\n",
    "data_path <- 'k562meta/elementReference/hg19/guide_level'  \n",
    "\n",
    "# set file names\n",
    "files <- dir(data_path, pattern = \"*.tsv\") # get file names\n",
    "df1 <- files %>%\n",
    "  # read in all the files, appending the path before the filename\n",
    "  map(~ read_tsv(file.path(data_path, .), col_names=FALSE, id = \"element_reference\", show_col_types = FALSE)) %>% \n",
    "  reduce(rbind) %>%\n",
    "  select(X1:X4, X6, X7,X14,X15,X16,element_reference) %>%\n",
    "  distinct() %>%\n",
    "  rename(\"chr\" = X1,\n",
    "         \"start\" = X2,\n",
    "         \"end\" = X3,\n",
    "         \"name\" = X4,\n",
    "         \"strand\" = X6,\n",
    "         \"grna\" = X7,\n",
    "         \"protospacer\" = X14,\n",
    "         \"sequence\" = X15,\n",
    "         \"type\" = X16)\n",
    "\n",
    "head(df1,n=1)"
   ]
  },
  {
   "cell_type": "code",
   "execution_count": 6,
   "metadata": {},
   "outputs": [
    {
     "data": {
      "text/html": [
       "<style>\n",
       ".list-inline {list-style: none; margin:0; padding: 0}\n",
       ".list-inline>li {display: inline-block}\n",
       ".list-inline>li:not(:last-child)::after {content: \"\\00b7\"; padding: 0 .5ex}\n",
       "</style>\n",
       "<ol class=list-inline><li>424261</li><li>10</li></ol>\n"
      ],
      "text/latex": [
       "\\begin{enumerate*}\n",
       "\\item 424261\n",
       "\\item 10\n",
       "\\end{enumerate*}\n"
      ],
      "text/markdown": [
       "1. 424261\n",
       "2. 10\n",
       "\n",
       "\n"
      ],
      "text/plain": [
       "[1] 424261     10"
      ]
     },
     "metadata": {},
     "output_type": "display_data"
    }
   ],
   "source": [
    "dim(df1)"
   ]
  },
  {
   "cell_type": "markdown",
   "metadata": {},
   "source": [
    "#### Get total count of unique targeting guides"
   ]
  },
  {
   "cell_type": "code",
   "execution_count": 7,
   "metadata": {},
   "outputs": [
    {
     "data": {
      "text/html": [
       "64731"
      ],
      "text/latex": [
       "64731"
      ],
      "text/markdown": [
       "64731"
      ],
      "text/plain": [
       "[1] 64731"
      ]
     },
     "metadata": {},
     "output_type": "display_data"
    }
   ],
   "source": [
    "df1 %>%\n",
    "filter(grepl(\"chr\",name)) %>% ### 378704\n",
    "filter(type == \"targeting\") %>% ### 378704\n",
    "select(chr:end, strand, grna) %>% ### 64731 --> significant reduction when removing the gene tested --> grnas tested for >1 gene\n",
    "distinct() %>% ### 64,731\n",
    "count() %>% pull()"
   ]
  },
  {
   "cell_type": "markdown",
   "metadata": {},
   "source": [
    "#### Check for strand information"
   ]
  },
  {
   "cell_type": "code",
   "execution_count": 11,
   "metadata": {},
   "outputs": [
    {
     "data": {
      "text/html": [
       "<table class=\"dataframe\">\n",
       "<caption>A tibble: 15 × 5</caption>\n",
       "<thead>\n",
       "\t<tr><th scope=col>chr</th><th scope=col>start</th><th scope=col>end</th><th scope=col>strand</th><th scope=col>grna</th></tr>\n",
       "\t<tr><th scope=col>&lt;chr&gt;</th><th scope=col>&lt;dbl&gt;</th><th scope=col>&lt;dbl&gt;</th><th scope=col>&lt;chr&gt;</th><th scope=col>&lt;chr&gt;</th></tr>\n",
       "</thead>\n",
       "<tbody>\n",
       "\t<tr><td>chrX </td><td> 48645113</td><td> 48645116</td><td>NA</td><td>chrX:48645113-48645116:nan  </td></tr>\n",
       "\t<tr><td>chrX </td><td> 48645033</td><td> 48645036</td><td>NA</td><td>chrX:48645033-48645036:nan  </td></tr>\n",
       "\t<tr><td>chrX </td><td> 48645094</td><td> 48645097</td><td>NA</td><td>chrX:48645094-48645097:nan  </td></tr>\n",
       "\t<tr><td>chr12</td><td> 54694826</td><td> 54694829</td><td>NA</td><td>chr12:54694826-54694829:nan </td></tr>\n",
       "\t<tr><td>chr12</td><td> 54694551</td><td> 54694554</td><td>NA</td><td>chr12:54694551-54694554:nan </td></tr>\n",
       "\t<tr><td>chr12</td><td> 54694595</td><td> 54694598</td><td>NA</td><td>chr12:54694595-54694598:nan </td></tr>\n",
       "\t<tr><td>chr12</td><td> 54694783</td><td> 54694786</td><td>NA</td><td>chr12:54694783-54694786:nan </td></tr>\n",
       "\t<tr><td>chr3 </td><td>128206681</td><td>128206684</td><td>NA</td><td>chr3:128206681-128206684:nan</td></tr>\n",
       "\t<tr><td>chr3 </td><td>128206780</td><td>128206783</td><td>NA</td><td>chr3:128206780-128206783:nan</td></tr>\n",
       "\t<tr><td>chr3 </td><td>128206702</td><td>128206705</td><td>NA</td><td>chr3:128206702-128206705:nan</td></tr>\n",
       "\t<tr><td>chr19</td><td> 12998051</td><td> 12998054</td><td>NA</td><td>chr19:12998051-12998054:nan </td></tr>\n",
       "\t<tr><td>chr19</td><td> 12998016</td><td> 12998019</td><td>NA</td><td>chr19:12998016-12998019:nan </td></tr>\n",
       "\t<tr><td>chr19</td><td> 12997925</td><td> 12997928</td><td>NA</td><td>chr19:12997925-12997928:nan </td></tr>\n",
       "\t<tr><td>chr19</td><td> 12997993</td><td> 12997996</td><td>NA</td><td>chr19:12997993-12997996:nan </td></tr>\n",
       "\t<tr><td>chr3 </td><td>128206415</td><td>128206418</td><td>NA</td><td>chr3:128206415-128206418:nan</td></tr>\n",
       "</tbody>\n",
       "</table>\n"
      ],
      "text/latex": [
       "A tibble: 15 × 5\n",
       "\\begin{tabular}{lllll}\n",
       " chr & start & end & strand & grna\\\\\n",
       " <chr> & <dbl> & <dbl> & <chr> & <chr>\\\\\n",
       "\\hline\n",
       "\t chrX  &  48645113 &  48645116 & NA & chrX:48645113-48645116:nan  \\\\\n",
       "\t chrX  &  48645033 &  48645036 & NA & chrX:48645033-48645036:nan  \\\\\n",
       "\t chrX  &  48645094 &  48645097 & NA & chrX:48645094-48645097:nan  \\\\\n",
       "\t chr12 &  54694826 &  54694829 & NA & chr12:54694826-54694829:nan \\\\\n",
       "\t chr12 &  54694551 &  54694554 & NA & chr12:54694551-54694554:nan \\\\\n",
       "\t chr12 &  54694595 &  54694598 & NA & chr12:54694595-54694598:nan \\\\\n",
       "\t chr12 &  54694783 &  54694786 & NA & chr12:54694783-54694786:nan \\\\\n",
       "\t chr3  & 128206681 & 128206684 & NA & chr3:128206681-128206684:nan\\\\\n",
       "\t chr3  & 128206780 & 128206783 & NA & chr3:128206780-128206783:nan\\\\\n",
       "\t chr3  & 128206702 & 128206705 & NA & chr3:128206702-128206705:nan\\\\\n",
       "\t chr19 &  12998051 &  12998054 & NA & chr19:12998051-12998054:nan \\\\\n",
       "\t chr19 &  12998016 &  12998019 & NA & chr19:12998016-12998019:nan \\\\\n",
       "\t chr19 &  12997925 &  12997928 & NA & chr19:12997925-12997928:nan \\\\\n",
       "\t chr19 &  12997993 &  12997996 & NA & chr19:12997993-12997996:nan \\\\\n",
       "\t chr3  & 128206415 & 128206418 & NA & chr3:128206415-128206418:nan\\\\\n",
       "\\end{tabular}\n"
      ],
      "text/markdown": [
       "\n",
       "A tibble: 15 × 5\n",
       "\n",
       "| chr &lt;chr&gt; | start &lt;dbl&gt; | end &lt;dbl&gt; | strand &lt;chr&gt; | grna &lt;chr&gt; |\n",
       "|---|---|---|---|---|\n",
       "| chrX  |  48645113 |  48645116 | NA | chrX:48645113-48645116:nan   |\n",
       "| chrX  |  48645033 |  48645036 | NA | chrX:48645033-48645036:nan   |\n",
       "| chrX  |  48645094 |  48645097 | NA | chrX:48645094-48645097:nan   |\n",
       "| chr12 |  54694826 |  54694829 | NA | chr12:54694826-54694829:nan  |\n",
       "| chr12 |  54694551 |  54694554 | NA | chr12:54694551-54694554:nan  |\n",
       "| chr12 |  54694595 |  54694598 | NA | chr12:54694595-54694598:nan  |\n",
       "| chr12 |  54694783 |  54694786 | NA | chr12:54694783-54694786:nan  |\n",
       "| chr3  | 128206681 | 128206684 | NA | chr3:128206681-128206684:nan |\n",
       "| chr3  | 128206780 | 128206783 | NA | chr3:128206780-128206783:nan |\n",
       "| chr3  | 128206702 | 128206705 | NA | chr3:128206702-128206705:nan |\n",
       "| chr19 |  12998051 |  12998054 | NA | chr19:12998051-12998054:nan  |\n",
       "| chr19 |  12998016 |  12998019 | NA | chr19:12998016-12998019:nan  |\n",
       "| chr19 |  12997925 |  12997928 | NA | chr19:12997925-12997928:nan  |\n",
       "| chr19 |  12997993 |  12997996 | NA | chr19:12997993-12997996:nan  |\n",
       "| chr3  | 128206415 | 128206418 | NA | chr3:128206415-128206418:nan |\n",
       "\n"
      ],
      "text/plain": [
       "   chr   start     end       strand grna                        \n",
       "1  chrX   48645113  48645116 NA     chrX:48645113-48645116:nan  \n",
       "2  chrX   48645033  48645036 NA     chrX:48645033-48645036:nan  \n",
       "3  chrX   48645094  48645097 NA     chrX:48645094-48645097:nan  \n",
       "4  chr12  54694826  54694829 NA     chr12:54694826-54694829:nan \n",
       "5  chr12  54694551  54694554 NA     chr12:54694551-54694554:nan \n",
       "6  chr12  54694595  54694598 NA     chr12:54694595-54694598:nan \n",
       "7  chr12  54694783  54694786 NA     chr12:54694783-54694786:nan \n",
       "8  chr3  128206681 128206684 NA     chr3:128206681-128206684:nan\n",
       "9  chr3  128206780 128206783 NA     chr3:128206780-128206783:nan\n",
       "10 chr3  128206702 128206705 NA     chr3:128206702-128206705:nan\n",
       "11 chr19  12998051  12998054 NA     chr19:12998051-12998054:nan \n",
       "12 chr19  12998016  12998019 NA     chr19:12998016-12998019:nan \n",
       "13 chr19  12997925  12997928 NA     chr19:12997925-12997928:nan \n",
       "14 chr19  12997993  12997996 NA     chr19:12997993-12997996:nan \n",
       "15 chr3  128206415 128206418 NA     chr3:128206415-128206418:nan"
      ]
     },
     "metadata": {},
     "output_type": "display_data"
    }
   ],
   "source": [
    "df1 %>%\n",
    "filter(grepl(\"chr\",chr)) %>% \n",
    "filter(!grepl(\"NT\",grna) & type == \"targeting\") %>% ### 378704\n",
    "select(chr:end, strand, grna) %>%\n",
    "distinct() %>%\n",
    "filter(is.na(strand))"
   ]
  },
  {
   "cell_type": "markdown",
   "metadata": {},
   "source": [
    "Since these 15 sgRNAs are missing strand information, manually BLAT sequences using UCSC tool (align to hg19). The input guideQuant files have blanks where the strand information should be."
   ]
  },
  {
   "cell_type": "markdown",
   "metadata": {},
   "source": [
    " - chrX:48645113-48645116:nan, GGGTAGGGGCAGCAGGCCCA (FUT1) --> -\n",
    " - chrX:48645033-48645036:nan, GTTCGGCCGCCTTGGGGATG (FUT1) --> -\n",
    " - chrX:48645094-48645097:nan, GCCCCCACCAAGGCAACCCT (FUT1) --> +\n",
    " - chr12:54694826-54694829:nan, GGACTGAGAACTCAGGCCGA (FUT1) --> -\n",
    " - chr12:54694551-54694554:nan, GGATTCCAGTGAGATCCGAG (FUT1) --> -\n",
    " - chr12:54694595-54694598:nan, GCTCCACCACAGGTGCCTGAA (FUT1) --> -\n",
    " - chr12:54694783-54694786:nan, GTGAGCACAGGAGCCCCAAGC (FUT1) --> + (remove 5' G)\n",
    " - chr3:128206681-128206684:nan, GCTTACAGGGTAGGAGCTGG (FUT1) --> +\n",
    " - chr3:128206780-128206783:nan, GCTTCATGTCTGTGCAGGAGT (FUT1) --> -\n",
    " - chr3:128206702-128206705:nan, GGTAGAGTGCGCCTCGGCCT (FUT1) --> +\n",
    " - chr19:12998051-12998054:nan, GACAGAGAGGAGCCCTCGAAG (FUT1) --> -\n",
    " - chr19:12998016-12998019:nan, GCGGCTGCCTCGTGAACTCTG (FUT1) --> + (remove 5' G)\n",
    " - chr19:12997925-12997928:nan, GCATCAGCACACTGACCGCCC (FUT1) --> -\n",
    " - chr19:12997993-12997996:nan, GAAGAGGAGGCTTGAGGCCCA (FUT1) --> -\n",
    " - chr3:128206415-128206418:nan, GCCCCTGAGCGCAGTACTAAG (ITGA5) --> + (remove 5' G)\n"
   ]
  },
  {
   "cell_type": "markdown",
   "metadata": {},
   "source": [
    "Add the strand information for those 15 sgRNAs."
   ]
  },
  {
   "cell_type": "code",
   "execution_count": 22,
   "metadata": {},
   "outputs": [],
   "source": [
    "# df1 %>%\n",
    "# filter(type == \"targeting\" & grepl(\"chr\",chr)) %>%\n",
    "# mutate(strand = case_when(\n",
    "#     strand == \"+\" ~ \"+\",\n",
    "#     strand == \"-\" ~ \"-\",\n",
    "#     is.na(strand) & grna == \"chrX:48645113-48645116:nan\" ~ \"-\",\n",
    "#     is.na(strand) & grna == \"chrX:48645033-48645036:nan\" ~ \"-\",\n",
    "#     is.na(strand) & grna == \"chrX:48645094-48645097:nan\" ~ \"+\",\n",
    "#     is.na(strand) & grna == \"chr12:54694826-54694829:nan\" ~ \"-\",\n",
    "#     is.na(strand) & grna == \"chr12:54694551-54694554:nan\" ~ \"-\",\n",
    "#     is.na(strand) & grna == \"chr12:54694595-54694598:nan\" ~ \"-\",\n",
    "#     is.na(strand) & grna == \"chr12:54694783-54694786:nan\" ~ \"+\",\n",
    "#     is.na(strand) & grna == \"chr3:128206681-128206684:nan\" ~ \"+\",\n",
    "#     is.na(strand) & grna == \"chr3:128206780-128206783:nan\" ~ \"-\",\n",
    "#     is.na(strand) & grna == \"chr3:128206702-128206705:nan\" ~ \"+\",\n",
    "#     is.na(strand) & grna == \"chr19:12998051-12998054:nan\" ~ \"-\",\n",
    "#     is.na(strand) & grna == \"chr19:12998016-12998019:nan\" ~ \"+\",\n",
    "#     is.na(strand) & grna == \"chr19:12997925-12997928:nan\" ~ \"-\",\n",
    "#     is.na(strand) & grna == \"chr19:12997993-12997996:nan\" ~ \"-\",\n",
    "#     is.na(strand) & grna == \"chr3:128206415-128206418:nan\" ~ \"+\",\n",
    "#     TRUE ~ \"wrong\"    \n",
    "# )) %>%\n",
    "# filter(strand == \"wrong\")"
   ]
  },
  {
   "cell_type": "code",
   "execution_count": 23,
   "metadata": {},
   "outputs": [],
   "source": [
    "# df1 %>%\n",
    "# filter(type == \"targeting\" & grepl(\"chr\",chr)) %>%\n",
    "# mutate(strand = case_when(\n",
    "#     strand == \"+\" ~ \"+\",\n",
    "#     strand == \"-\" ~ \"-\",\n",
    "#     is.na(strand) & grna == \"chrX:48645113-48645116:nan\" ~ \"-\",\n",
    "#     is.na(strand) & grna == \"chrX:48645033-48645036:nan\" ~ \"-\",\n",
    "#     is.na(strand) & grna == \"chrX:48645094-48645097:nan\" ~ \"+\",\n",
    "#     is.na(strand) & grna == \"chr12:54694826-54694829:nan\" ~ \"-\",\n",
    "#     is.na(strand) & grna == \"chr12:54694551-54694554:nan\" ~ \"-\",\n",
    "#     is.na(strand) & grna == \"chr12:54694595-54694598:nan\" ~ \"-\",\n",
    "#     is.na(strand) & grna == \"chr12:54694783-54694786:nan\" ~ \"+\",\n",
    "#     is.na(strand) & grna == \"chr3:128206681-128206684:nan\" ~ \"+\",\n",
    "#     is.na(strand) & grna == \"chr3:128206780-128206783:nan\" ~ \"-\",\n",
    "#     is.na(strand) & grna == \"chr3:128206702-128206705:nan\" ~ \"+\",\n",
    "#     is.na(strand) & grna == \"chr19:12998051-12998054:nan\" ~ \"-\",\n",
    "#     is.na(strand) & grna == \"chr19:12998016-12998019:nan\" ~ \"+\",\n",
    "#     is.na(strand) & grna == \"chr19:12997925-12997928:nan\" ~ \"-\",\n",
    "#     is.na(strand) & grna == \"chr19:12997993-12997996:nan\" ~ \"-\",\n",
    "#     is.na(strand) & grna == \"chr3:128206415-128206418:nan\" ~ \"+\",\n",
    "#     TRUE ~ \"wrong\"    \n",
    "# )) %>%\n",
    "# filter(strand != \"+\" & strand != \"-\")"
   ]
  },
  {
   "cell_type": "code",
   "execution_count": 12,
   "metadata": {},
   "outputs": [
    {
     "data": {
      "text/html": [
       "<table class=\"dataframe\">\n",
       "<caption>A tibble: 1 × 10</caption>\n",
       "<thead>\n",
       "\t<tr><th scope=col>chr</th><th scope=col>start</th><th scope=col>end</th><th scope=col>name</th><th scope=col>strand</th><th scope=col>grna</th><th scope=col>protospacer</th><th scope=col>sequence</th><th scope=col>type</th><th scope=col>element_reference</th></tr>\n",
       "\t<tr><th scope=col>&lt;chr&gt;</th><th scope=col>&lt;dbl&gt;</th><th scope=col>&lt;dbl&gt;</th><th scope=col>&lt;chr&gt;</th><th scope=col>&lt;chr&gt;</th><th scope=col>&lt;chr&gt;</th><th scope=col>&lt;chr&gt;</th><th scope=col>&lt;chr&gt;</th><th scope=col>&lt;chr&gt;</th><th scope=col>&lt;chr&gt;</th></tr>\n",
       "</thead>\n",
       "<tbody>\n",
       "\t<tr><td>chrX</td><td>49012745</td><td>49012748</td><td>FUT1|chrX:49012745-49012748:-</td><td>-</td><td>chrX:49012745-49012748:-</td><td>GCGGCTGGACGCGCGCCCCC</td><td>GCGGCTGGACGCGCGCCCCC</td><td>targeting</td><td>/data/gersbachlab/lrb53/encodeCrisprWG/finalversion/figure1/k562meta/elementReference/hg19/guide_level/ENCFF014XLT.tsv</td></tr>\n",
       "</tbody>\n",
       "</table>\n"
      ],
      "text/latex": [
       "A tibble: 1 × 10\n",
       "\\begin{tabular}{llllllllll}\n",
       " chr & start & end & name & strand & grna & protospacer & sequence & type & element\\_reference\\\\\n",
       " <chr> & <dbl> & <dbl> & <chr> & <chr> & <chr> & <chr> & <chr> & <chr> & <chr>\\\\\n",
       "\\hline\n",
       "\t chrX & 49012745 & 49012748 & FUT1\\textbar{}chrX:49012745-49012748:- & - & chrX:49012745-49012748:- & GCGGCTGGACGCGCGCCCCC & GCGGCTGGACGCGCGCCCCC & targeting & /data/gersbachlab/lrb53/encodeCrisprWG/finalversion/figure1/k562meta/elementReference/hg19/guide\\_level/ENCFF014XLT.tsv\\\\\n",
       "\\end{tabular}\n"
      ],
      "text/markdown": [
       "\n",
       "A tibble: 1 × 10\n",
       "\n",
       "| chr &lt;chr&gt; | start &lt;dbl&gt; | end &lt;dbl&gt; | name &lt;chr&gt; | strand &lt;chr&gt; | grna &lt;chr&gt; | protospacer &lt;chr&gt; | sequence &lt;chr&gt; | type &lt;chr&gt; | element_reference &lt;chr&gt; |\n",
       "|---|---|---|---|---|---|---|---|---|---|\n",
       "| chrX | 49012745 | 49012748 | FUT1|chrX:49012745-49012748:- | - | chrX:49012745-49012748:- | GCGGCTGGACGCGCGCCCCC | GCGGCTGGACGCGCGCCCCC | targeting | /data/gersbachlab/lrb53/encodeCrisprWG/finalversion/figure1/k562meta/elementReference/hg19/guide_level/ENCFF014XLT.tsv |\n",
       "\n"
      ],
      "text/plain": [
       "  chr  start    end      name                          strand\n",
       "1 chrX 49012745 49012748 FUT1|chrX:49012745-49012748:- -     \n",
       "  grna                     protospacer          sequence             type     \n",
       "1 chrX:49012745-49012748:- GCGGCTGGACGCGCGCCCCC GCGGCTGGACGCGCGCCCCC targeting\n",
       "  element_reference                                                                                                     \n",
       "1 /data/gersbachlab/lrb53/encodeCrisprWG/finalversion/figure1/k562meta/elementReference/hg19/guide_level/ENCFF014XLT.tsv"
      ]
     },
     "metadata": {},
     "output_type": "display_data"
    },
    {
     "data": {
      "text/html": [
       "<style>\n",
       ".list-inline {list-style: none; margin:0; padding: 0}\n",
       ".list-inline>li {display: inline-block}\n",
       ".list-inline>li:not(:last-child)::after {content: \"\\00b7\"; padding: 0 .5ex}\n",
       "</style>\n",
       "<ol class=list-inline><li>378704</li><li>10</li></ol>\n"
      ],
      "text/latex": [
       "\\begin{enumerate*}\n",
       "\\item 378704\n",
       "\\item 10\n",
       "\\end{enumerate*}\n"
      ],
      "text/markdown": [
       "1. 378704\n",
       "2. 10\n",
       "\n",
       "\n"
      ],
      "text/plain": [
       "[1] 378704     10"
      ]
     },
     "metadata": {},
     "output_type": "display_data"
    }
   ],
   "source": [
    "df1_target <- df1 %>%\n",
    "filter(type == \"targeting\" & grepl(\"chr\",chr)) %>%\n",
    "mutate(strand = case_when(\n",
    "    strand == \"+\" ~ \"+\",\n",
    "    strand == \"-\" ~ \"-\",\n",
    "    is.na(strand) & grna == \"chrX:48645113-48645116:nan\" ~ \"-\",\n",
    "    is.na(strand) & grna == \"chrX:48645033-48645036:nan\" ~ \"-\",\n",
    "    is.na(strand) & grna == \"chrX:48645094-48645097:nan\" ~ \"+\",\n",
    "    is.na(strand) & grna == \"chr12:54694826-54694829:nan\" ~ \"-\",\n",
    "    is.na(strand) & grna == \"chr12:54694551-54694554:nan\" ~ \"-\",\n",
    "    is.na(strand) & grna == \"chr12:54694595-54694598:nan\" ~ \"-\",\n",
    "    is.na(strand) & grna == \"chr12:54694783-54694786:nan\" ~ \"+\",\n",
    "    is.na(strand) & grna == \"chr3:128206681-128206684:nan\" ~ \"+\",\n",
    "    is.na(strand) & grna == \"chr3:128206780-128206783:nan\" ~ \"-\",\n",
    "    is.na(strand) & grna == \"chr3:128206702-128206705:nan\" ~ \"+\",\n",
    "    is.na(strand) & grna == \"chr19:12998051-12998054:nan\" ~ \"-\",\n",
    "    is.na(strand) & grna == \"chr19:12998016-12998019:nan\" ~ \"+\",\n",
    "    is.na(strand) & grna == \"chr19:12997925-12997928:nan\" ~ \"-\",\n",
    "    is.na(strand) & grna == \"chr19:12997993-12997996:nan\" ~ \"-\",\n",
    "    is.na(strand) & grna == \"chr3:128206415-128206418:nan\" ~ \"+\",\n",
    "    TRUE ~ \"wrong\"    \n",
    ")) \n",
    "\n",
    "head(df1_target,n=1)\n",
    "dim(df1_target)"
   ]
  },
  {
   "cell_type": "code",
   "execution_count": 13,
   "metadata": {},
   "outputs": [
    {
     "data": {
      "text/html": [
       "<style>\n",
       ".list-inline {list-style: none; margin:0; padding: 0}\n",
       ".list-inline>li {display: inline-block}\n",
       ".list-inline>li:not(:last-child)::after {content: \"\\00b7\"; padding: 0 .5ex}\n",
       "</style>\n",
       "<ol class=list-inline><li>'-'</li><li>'+'</li></ol>\n"
      ],
      "text/latex": [
       "\\begin{enumerate*}\n",
       "\\item '-'\n",
       "\\item '+'\n",
       "\\end{enumerate*}\n"
      ],
      "text/markdown": [
       "1. '-'\n",
       "2. '+'\n",
       "\n",
       "\n"
      ],
      "text/plain": [
       "[1] \"-\" \"+\""
      ]
     },
     "metadata": {},
     "output_type": "display_data"
    }
   ],
   "source": [
    "df1_target %>% select(strand) %>% distinct() %>% pull()"
   ]
  },
  {
   "cell_type": "markdown",
   "metadata": {},
   "source": [
    "### Generate .bed file, then lift to hg38 coordinates."
   ]
  },
  {
   "cell_type": "code",
   "execution_count": 16,
   "metadata": {},
   "outputs": [],
   "source": [
    "df1_target %>%\n",
    "filter(grepl(\"chr\",name)) %>% ### 378704\n",
    "filter(type == \"targeting\") %>% ### 378704\n",
    "select(chr:end, strand) %>%\n",
    "distinct() %>% ### 64731\n",
    "write.table(\"k562meta/elementReference/hg19_to_hg38/k562meta.elementReference.engreitz.hg19.20230413.bed\",\n",
    "            col.names=F, row.names=F, sep = \"\\t\", quote=F)"
   ]
  },
  {
   "cell_type": "markdown",
   "metadata": {},
   "source": [
    "Successfully converted 64731 records using UCSC liftOver tool."
   ]
  },
  {
   "cell_type": "code",
   "execution_count": 18,
   "metadata": {},
   "outputs": [
    {
     "data": {
      "text/html": [
       "<table class=\"dataframe\">\n",
       "<caption>A data.frame: 1 × 4</caption>\n",
       "<thead>\n",
       "\t<tr><th></th><th scope=col>chr</th><th scope=col>start</th><th scope=col>end</th><th scope=col>strand</th></tr>\n",
       "\t<tr><th></th><th scope=col>&lt;chr&gt;</th><th scope=col>&lt;int&gt;</th><th scope=col>&lt;int&gt;</th><th scope=col>&lt;chr&gt;</th></tr>\n",
       "</thead>\n",
       "<tbody>\n",
       "\t<tr><th scope=row>1</th><td>chrX</td><td>49156408</td><td>49156411</td><td>-</td></tr>\n",
       "</tbody>\n",
       "</table>\n"
      ],
      "text/latex": [
       "A data.frame: 1 × 4\n",
       "\\begin{tabular}{r|llll}\n",
       "  & chr & start & end & strand\\\\\n",
       "  & <chr> & <int> & <int> & <chr>\\\\\n",
       "\\hline\n",
       "\t1 & chrX & 49156408 & 49156411 & -\\\\\n",
       "\\end{tabular}\n"
      ],
      "text/markdown": [
       "\n",
       "A data.frame: 1 × 4\n",
       "\n",
       "| <!--/--> | chr &lt;chr&gt; | start &lt;int&gt; | end &lt;int&gt; | strand &lt;chr&gt; |\n",
       "|---|---|---|---|---|\n",
       "| 1 | chrX | 49156408 | 49156411 | - |\n",
       "\n"
      ],
      "text/plain": [
       "  chr  start    end      strand\n",
       "1 chrX 49156408 49156411 -     "
      ]
     },
     "metadata": {},
     "output_type": "display_data"
    },
    {
     "data": {
      "text/html": [
       "<style>\n",
       ".list-inline {list-style: none; margin:0; padding: 0}\n",
       ".list-inline>li {display: inline-block}\n",
       ".list-inline>li:not(:last-child)::after {content: \"\\00b7\"; padding: 0 .5ex}\n",
       "</style>\n",
       "<ol class=list-inline><li>64731</li><li>4</li></ol>\n"
      ],
      "text/latex": [
       "\\begin{enumerate*}\n",
       "\\item 64731\n",
       "\\item 4\n",
       "\\end{enumerate*}\n"
      ],
      "text/markdown": [
       "1. 64731\n",
       "2. 4\n",
       "\n",
       "\n"
      ],
      "text/plain": [
       "[1] 64731     4"
      ]
     },
     "metadata": {},
     "output_type": "display_data"
    }
   ],
   "source": [
    "engreitz_hg38 <- read.delim(\"k562meta/elementReference/hg19_to_hg38/k562meta.elementReference.engreitz.hg19tohg38.20230413.bed\",\n",
    "                  header = FALSE, col.names = c(\"chr\",\"start\",\"end\",\"strand\",\"drop\")) %>% select(-drop) \n",
    "\n",
    "head(engreitz_hg38,n=1)\n",
    "dim(engreitz_hg38)"
   ]
  },
  {
   "cell_type": "code",
   "execution_count": 19,
   "metadata": {},
   "outputs": [
    {
     "data": {
      "text/html": [
       "<style>\n",
       ".list-inline {list-style: none; margin:0; padding: 0}\n",
       ".list-inline>li {display: inline-block}\n",
       ".list-inline>li:not(:last-child)::after {content: \"\\00b7\"; padding: 0 .5ex}\n",
       "</style>\n",
       "<ol class=list-inline><li>'-'</li><li>'+'</li></ol>\n"
      ],
      "text/latex": [
       "\\begin{enumerate*}\n",
       "\\item '-'\n",
       "\\item '+'\n",
       "\\end{enumerate*}\n"
      ],
      "text/markdown": [
       "1. '-'\n",
       "2. '+'\n",
       "\n",
       "\n"
      ],
      "text/plain": [
       "[1] \"-\" \"+\""
      ]
     },
     "metadata": {},
     "output_type": "display_data"
    }
   ],
   "source": [
    "engreitz_hg38 %>% select(strand) %>% distinct() %>% pull()"
   ]
  },
  {
   "cell_type": "markdown",
   "metadata": {},
   "source": [
    "## Generate master hg38 elementReference file"
   ]
  },
  {
   "cell_type": "markdown",
   "metadata": {},
   "source": [
    "### Load all .tsv files, combine into one dataframe"
   ]
  },
  {
   "cell_type": "code",
   "execution_count": 20,
   "metadata": {},
   "outputs": [
    {
     "name": "stderr",
     "output_type": "stream",
     "text": [
      "Warning message:\n",
      "“One or more parsing issues, see `problems()` for details”\n",
      "Warning message:\n",
      "“One or more parsing issues, see `problems()` for details”\n",
      "Warning message:\n",
      "“One or more parsing issues, see `problems()` for details”\n",
      "Warning message:\n",
      "“One or more parsing issues, see `problems()` for details”\n",
      "Warning message:\n",
      "“One or more parsing issues, see `problems()` for details”\n",
      "Warning message:\n",
      "“One or more parsing issues, see `problems()` for details”\n"
     ]
    },
    {
     "data": {
      "text/html": [
       "<table class=\"dataframe\">\n",
       "<caption>A tibble: 1 × 4</caption>\n",
       "<thead>\n",
       "\t<tr><th scope=col>element_reference</th><th scope=col>element_grna</th><th scope=col>grna</th><th scope=col>protospacer</th></tr>\n",
       "\t<tr><th scope=col>&lt;chr&gt;</th><th scope=col>&lt;chr&gt;</th><th scope=col>&lt;chr&gt;</th><th scope=col>&lt;chr&gt;</th></tr>\n",
       "</thead>\n",
       "<tbody>\n",
       "\t<tr><td>/data/gersbachlab/lrb53/encodeCrisprWG/finalversion/figure1/k562meta/elementReference/hg38/ENCFF011YNY.tsv</td><td>&gt;ERP29_PF_chr12:111035932-111035953:+</td><td>chr12:111035932-111035953:+</td><td>TGGAAGAGTGGGGGTTATGG</td></tr>\n",
       "</tbody>\n",
       "</table>\n"
      ],
      "text/latex": [
       "A tibble: 1 × 4\n",
       "\\begin{tabular}{llll}\n",
       " element\\_reference & element\\_grna & grna & protospacer\\\\\n",
       " <chr> & <chr> & <chr> & <chr>\\\\\n",
       "\\hline\n",
       "\t /data/gersbachlab/lrb53/encodeCrisprWG/finalversion/figure1/k562meta/elementReference/hg38/ENCFF011YNY.tsv & >ERP29\\_PF\\_chr12:111035932-111035953:+ & chr12:111035932-111035953:+ & TGGAAGAGTGGGGGTTATGG\\\\\n",
       "\\end{tabular}\n"
      ],
      "text/markdown": [
       "\n",
       "A tibble: 1 × 4\n",
       "\n",
       "| element_reference &lt;chr&gt; | element_grna &lt;chr&gt; | grna &lt;chr&gt; | protospacer &lt;chr&gt; |\n",
       "|---|---|---|---|\n",
       "| /data/gersbachlab/lrb53/encodeCrisprWG/finalversion/figure1/k562meta/elementReference/hg38/ENCFF011YNY.tsv | &gt;ERP29_PF_chr12:111035932-111035953:+ | chr12:111035932-111035953:+ | TGGAAGAGTGGGGGTTATGG |\n",
       "\n"
      ],
      "text/plain": [
       "  element_reference                                                                                         \n",
       "1 /data/gersbachlab/lrb53/encodeCrisprWG/finalversion/figure1/k562meta/elementReference/hg38/ENCFF011YNY.tsv\n",
       "  element_grna                          grna                       \n",
       "1 >ERP29_PF_chr12:111035932-111035953:+ chr12:111035932-111035953:+\n",
       "  protospacer         \n",
       "1 TGGAAGAGTGGGGGTTATGG"
      ]
     },
     "metadata": {},
     "output_type": "display_data"
    },
    {
     "data": {
      "text/html": [
       "<style>\n",
       ".list-inline {list-style: none; margin:0; padding: 0}\n",
       ".list-inline>li {display: inline-block}\n",
       ".list-inline>li:not(:last-child)::after {content: \"\\00b7\"; padding: 0 .5ex}\n",
       "</style>\n",
       "<ol class=list-inline><li>317407</li><li>4</li></ol>\n"
      ],
      "text/latex": [
       "\\begin{enumerate*}\n",
       "\\item 317407\n",
       "\\item 4\n",
       "\\end{enumerate*}\n"
      ],
      "text/markdown": [
       "1. 317407\n",
       "2. 4\n",
       "\n",
       "\n"
      ],
      "text/plain": [
       "[1] 317407      4"
      ]
     },
     "metadata": {},
     "output_type": "display_data"
    }
   ],
   "source": [
    "# path to the data\n",
    "data_path <- 'k562meta/elementReference/hg38'  \n",
    "\n",
    "# set file names\n",
    "files <- dir(data_path, pattern = \"*.tsv\", full.names = TRUE) # get file names\n",
    "# files\n",
    "df1 <- files %>%\n",
    "  # read in all the files, appending the path before the filename\n",
    "  map(~read_tsv(., col_names=FALSE, id = \"element_reference\", col_select = c(element_reference,X1,X2,X3), show_col_types = FALSE)) %>% \n",
    "  bind_rows() %>%\n",
    "  rename(\"element_grna\" = X1,\n",
    "         \"grna\" = X2,\n",
    "         \"protospacer\" = X3) %>%\n",
    "filter(grepl(\"chr\", grna) | grepl(\"chr\", element_grna)) ### 324361 - 317407\n",
    "      \n",
    "\n",
    "head(df1,n=1)\n",
    "dim(df1)"
   ]
  },
  {
   "cell_type": "markdown",
   "metadata": {},
   "source": [
    "#### Get total count of unique targeting guides"
   ]
  },
  {
   "cell_type": "code",
   "execution_count": 21,
   "metadata": {},
   "outputs": [
    {
     "data": {
      "text/html": [
       "291188"
      ],
      "text/latex": [
       "291188"
      ],
      "text/markdown": [
       "291188"
      ],
      "text/plain": [
       "[1] 291188"
      ]
     },
     "metadata": {},
     "output_type": "display_data"
    }
   ],
   "source": [
    "df1 %>%\n",
    "filter(grepl(\"chr\",element_grna) & !grepl(\"CTRL\",element_grna)) %>% ### 292,407 guides\n",
    "filter(grepl(\"PF\",element_grna)) %>% ### does not remove any\n",
    "select(grna) %>% \n",
    "distinct() %>%\n",
    "count() %>% pull() ### 291,188 ---> ~1200 guides in >1 experiment, probably FADS1/2/3"
   ]
  },
  {
   "cell_type": "markdown",
   "metadata": {},
   "source": [
    "#### Repeat for the .bed files"
   ]
  },
  {
   "cell_type": "code",
   "execution_count": 22,
   "metadata": {},
   "outputs": [
    {
     "data": {
      "text/html": [
       "<table class=\"dataframe\">\n",
       "<caption>A tibble: 1 × 7</caption>\n",
       "<thead>\n",
       "\t<tr><th scope=col>element_reference</th><th scope=col>grna.chr</th><th scope=col>grna.start</th><th scope=col>grna.end</th><th scope=col>element_grna</th><th scope=col>grna.strand</th><th scope=col>grna</th></tr>\n",
       "\t<tr><th scope=col>&lt;chr&gt;</th><th scope=col>&lt;chr&gt;</th><th scope=col>&lt;dbl&gt;</th><th scope=col>&lt;dbl&gt;</th><th scope=col>&lt;chr&gt;</th><th scope=col>&lt;chr&gt;</th><th scope=col>&lt;chr&gt;</th></tr>\n",
       "</thead>\n",
       "<tbody>\n",
       "\t<tr><td>/data/gersbachlab/lrb53/encodeCrisprWG/finalversion/figure1/k562meta/elementReference/hg38/ENCFF086HUV.bed.gz</td><td>chr12</td><td>54300748</td><td>54300767</td><td>&gt;GATA1_PF_chr12:54300748-54300767:+</td><td>+</td><td>chr12:54300748-54300767:+</td></tr>\n",
       "</tbody>\n",
       "</table>\n"
      ],
      "text/latex": [
       "A tibble: 1 × 7\n",
       "\\begin{tabular}{lllllll}\n",
       " element\\_reference & grna.chr & grna.start & grna.end & element\\_grna & grna.strand & grna\\\\\n",
       " <chr> & <chr> & <dbl> & <dbl> & <chr> & <chr> & <chr>\\\\\n",
       "\\hline\n",
       "\t /data/gersbachlab/lrb53/encodeCrisprWG/finalversion/figure1/k562meta/elementReference/hg38/ENCFF086HUV.bed.gz & chr12 & 54300748 & 54300767 & >GATA1\\_PF\\_chr12:54300748-54300767:+ & + & chr12:54300748-54300767:+\\\\\n",
       "\\end{tabular}\n"
      ],
      "text/markdown": [
       "\n",
       "A tibble: 1 × 7\n",
       "\n",
       "| element_reference &lt;chr&gt; | grna.chr &lt;chr&gt; | grna.start &lt;dbl&gt; | grna.end &lt;dbl&gt; | element_grna &lt;chr&gt; | grna.strand &lt;chr&gt; | grna &lt;chr&gt; |\n",
       "|---|---|---|---|---|---|---|\n",
       "| /data/gersbachlab/lrb53/encodeCrisprWG/finalversion/figure1/k562meta/elementReference/hg38/ENCFF086HUV.bed.gz | chr12 | 54300748 | 54300767 | &gt;GATA1_PF_chr12:54300748-54300767:+ | + | chr12:54300748-54300767:+ |\n",
       "\n"
      ],
      "text/plain": [
       "  element_reference                                                                                            \n",
       "1 /data/gersbachlab/lrb53/encodeCrisprWG/finalversion/figure1/k562meta/elementReference/hg38/ENCFF086HUV.bed.gz\n",
       "  grna.chr grna.start grna.end element_grna                        grna.strand\n",
       "1 chr12    54300748   54300767 >GATA1_PF_chr12:54300748-54300767:+ +          \n",
       "  grna                     \n",
       "1 chr12:54300748-54300767:+"
      ]
     },
     "metadata": {},
     "output_type": "display_data"
    }
   ],
   "source": [
    "# path to the data\n",
    "data_path <- 'k562meta/elementReference/hg38'  \n",
    "\n",
    "# set file names\n",
    "files <- dir(data_path, pattern = \"*.bed.gz\") # get file names\n",
    "df2 <- files %>%\n",
    "  # read in all the files, appending the path before the filename\n",
    "  map(~ read_delim(file.path(data_path, .), col_names=FALSE, id = \"element_reference\", \n",
    "                   col_select = c(element_reference,X1:X6),\n",
    "                   show_col_types = FALSE)) %>% \n",
    "  reduce(rbind) %>%\n",
    "  rename(\"grna.chr\" = X1,\n",
    "         \"grna.start\" = X2,\n",
    "         \"grna.end\" = X3,\n",
    "         \"element_grna\" = X4,\n",
    "         \"score\" = X5,\n",
    "         \"grna.strand\" = X6) %>%\n",
    "  select(-score) %>%\n",
    "  mutate(grna = paste0(grna.chr,\":\",grna.start,\"-\",grna.end,\":\",grna.strand))\n",
    "\n",
    "head(df2,n=1)"
   ]
  },
  {
   "cell_type": "code",
   "execution_count": 23,
   "metadata": {},
   "outputs": [
    {
     "data": {
      "text/html": [
       "291187"
      ],
      "text/latex": [
       "291187"
      ],
      "text/markdown": [
       "291187"
      ],
      "text/plain": [
       "[1] 291187"
      ]
     },
     "metadata": {},
     "output_type": "display_data"
    }
   ],
   "source": [
    "df2 %>%\n",
    "filter(grepl(\"chr\",element_grna) & \n",
    "       !grepl(\"CTRL\",element_grna) & \n",
    "       !grepl(\"ctrl\",element_grna) & \n",
    "       !grepl(\"SAFE\",element_grna) & \n",
    "       !grepl(\"safe\",element_grna) &\n",
    "       !grepl(\"Bassik\",element_grna) &\n",
    "       !grepl(\"BASSIK\",element_grna)) %>% ### 292,406 guides\n",
    "##### filter(grepl(\"PF\",element_grna)) %>% ### 271737 guides !!! do not use this filter!!! will remove targeting guides from ENCFF603DQU.bed.gz\n",
    "select(grna) %>% \n",
    "distinct() %>%\n",
    "count() %>% pull() ### 291,187 ---> ~1200 guides in >1 experiment"
   ]
  },
  {
   "cell_type": "markdown",
   "metadata": {},
   "source": [
    "#### Last, combine the two aggregated dfs, adjust the coordinates for perturbation modality, and generate .bed file.\n",
    "\n",
    "Important: \n",
    " - All experiments were performed using CRISPRi. --> adjust by +/- 150bp of PAM.\n",
    " - Coordinates included in reference files for Engreitz include the PAM sequence, for Sabeti the actual target protospacer is:\n",
    "     - End - 2 for plus strand\n",
    "     - Start + 2 for minus strand"
   ]
  },
  {
   "cell_type": "code",
   "execution_count": 24,
   "metadata": {},
   "outputs": [
    {
     "data": {
      "text/html": [
       "<style>\n",
       ".list-inline {list-style: none; margin:0; padding: 0}\n",
       ".list-inline>li {display: inline-block}\n",
       ".list-inline>li:not(:last-child)::after {content: \"\\00b7\"; padding: 0 .5ex}\n",
       "</style>\n",
       "<ol class=list-inline><li>'element_reference'</li><li>'element_grna'</li><li>'grna'</li><li>'protospacer'</li></ol>\n"
      ],
      "text/latex": [
       "\\begin{enumerate*}\n",
       "\\item 'element\\_reference'\n",
       "\\item 'element\\_grna'\n",
       "\\item 'grna'\n",
       "\\item 'protospacer'\n",
       "\\end{enumerate*}\n"
      ],
      "text/markdown": [
       "1. 'element_reference'\n",
       "2. 'element_grna'\n",
       "3. 'grna'\n",
       "4. 'protospacer'\n",
       "\n",
       "\n"
      ],
      "text/plain": [
       "[1] \"element_reference\" \"element_grna\"      \"grna\"             \n",
       "[4] \"protospacer\"      "
      ]
     },
     "metadata": {},
     "output_type": "display_data"
    }
   ],
   "source": [
    "colnames(df1)"
   ]
  },
  {
   "cell_type": "code",
   "execution_count": 25,
   "metadata": {},
   "outputs": [
    {
     "data": {
      "text/html": [
       "<style>\n",
       ".list-inline {list-style: none; margin:0; padding: 0}\n",
       ".list-inline>li {display: inline-block}\n",
       ".list-inline>li:not(:last-child)::after {content: \"\\00b7\"; padding: 0 .5ex}\n",
       "</style>\n",
       "<ol class=list-inline><li>'element_reference'</li><li>'grna.chr'</li><li>'grna.start'</li><li>'grna.end'</li><li>'element_grna'</li><li>'grna.strand'</li><li>'grna'</li></ol>\n"
      ],
      "text/latex": [
       "\\begin{enumerate*}\n",
       "\\item 'element\\_reference'\n",
       "\\item 'grna.chr'\n",
       "\\item 'grna.start'\n",
       "\\item 'grna.end'\n",
       "\\item 'element\\_grna'\n",
       "\\item 'grna.strand'\n",
       "\\item 'grna'\n",
       "\\end{enumerate*}\n"
      ],
      "text/markdown": [
       "1. 'element_reference'\n",
       "2. 'grna.chr'\n",
       "3. 'grna.start'\n",
       "4. 'grna.end'\n",
       "5. 'element_grna'\n",
       "6. 'grna.strand'\n",
       "7. 'grna'\n",
       "\n",
       "\n"
      ],
      "text/plain": [
       "[1] \"element_reference\" \"grna.chr\"          \"grna.start\"       \n",
       "[4] \"grna.end\"          \"element_grna\"      \"grna.strand\"      \n",
       "[7] \"grna\"             "
      ]
     },
     "metadata": {},
     "output_type": "display_data"
    }
   ],
   "source": [
    "colnames(df2)"
   ]
  },
  {
   "cell_type": "code",
   "execution_count": 30,
   "metadata": {},
   "outputs": [
    {
     "data": {
      "text/html": [
       "<table class=\"dataframe\">\n",
       "<caption>A tibble: 2 × 5</caption>\n",
       "<thead>\n",
       "\t<tr><th scope=col>grna.chr</th><th scope=col>grna.start</th><th scope=col>grna.end</th><th scope=col>grna.strand</th><th scope=col>grna</th></tr>\n",
       "\t<tr><th scope=col>&lt;chr&gt;</th><th scope=col>&lt;chr&gt;</th><th scope=col>&lt;chr&gt;</th><th scope=col>&lt;chr&gt;</th><th scope=col>&lt;chr&gt;</th></tr>\n",
       "</thead>\n",
       "<tbody>\n",
       "\t<tr><td>chr12</td><td>111035932</td><td>111035953</td><td>+</td><td>chr12:111035932-111035953:+</td></tr>\n",
       "\t<tr><td>chr12</td><td>112178799</td><td>112178820</td><td>+</td><td>chr12:112178799-112178820:+</td></tr>\n",
       "</tbody>\n",
       "</table>\n"
      ],
      "text/latex": [
       "A tibble: 2 × 5\n",
       "\\begin{tabular}{lllll}\n",
       " grna.chr & grna.start & grna.end & grna.strand & grna\\\\\n",
       " <chr> & <chr> & <chr> & <chr> & <chr>\\\\\n",
       "\\hline\n",
       "\t chr12 & 111035932 & 111035953 & + & chr12:111035932-111035953:+\\\\\n",
       "\t chr12 & 112178799 & 112178820 & + & chr12:112178799-112178820:+\\\\\n",
       "\\end{tabular}\n"
      ],
      "text/markdown": [
       "\n",
       "A tibble: 2 × 5\n",
       "\n",
       "| grna.chr &lt;chr&gt; | grna.start &lt;chr&gt; | grna.end &lt;chr&gt; | grna.strand &lt;chr&gt; | grna &lt;chr&gt; |\n",
       "|---|---|---|---|---|\n",
       "| chr12 | 111035932 | 111035953 | + | chr12:111035932-111035953:+ |\n",
       "| chr12 | 112178799 | 112178820 | + | chr12:112178799-112178820:+ |\n",
       "\n"
      ],
      "text/plain": [
       "  grna.chr grna.start grna.end  grna.strand grna                       \n",
       "1 chr12    111035932  111035953 +           chr12:111035932-111035953:+\n",
       "2 chr12    112178799  112178820 +           chr12:112178799-112178820:+"
      ]
     },
     "metadata": {},
     "output_type": "display_data"
    }
   ],
   "source": [
    "df1 %>%\n",
    "filter(grepl(\"chr\",element_grna) & !grepl(\"CTRL\",element_grna)) %>% ### 292,407 guides\n",
    "separate(grna, into = c(\"grna.chr\",\"coords\",\"grna.strand\"), sep = \":\", remove = FALSE) %>%\n",
    "separate(coords, into = c(\"grna.start\", \"grna.end\"), sep = \"-\") %>%\n",
    "select(grna.chr:grna.end, grna.strand, grna) %>%\n",
    "distinct() %>%\n",
    "slice_head(n=2) "
   ]
  },
  {
   "cell_type": "code",
   "execution_count": 28,
   "metadata": {},
   "outputs": [
    {
     "data": {
      "text/html": [
       "<table class=\"dataframe\">\n",
       "<caption>A tibble: 2 × 5</caption>\n",
       "<thead>\n",
       "\t<tr><th scope=col>grna.chr</th><th scope=col>grna.start</th><th scope=col>grna.end</th><th scope=col>grna.strand</th><th scope=col>grna</th></tr>\n",
       "\t<tr><th scope=col>&lt;chr&gt;</th><th scope=col>&lt;dbl&gt;</th><th scope=col>&lt;dbl&gt;</th><th scope=col>&lt;chr&gt;</th><th scope=col>&lt;chr&gt;</th></tr>\n",
       "</thead>\n",
       "<tbody>\n",
       "\t<tr><td>chr12</td><td>54300748</td><td>54300767</td><td>+</td><td>chr12:54300748-54300767:+</td></tr>\n",
       "\t<tr><td>chr12</td><td>54300792</td><td>54300811</td><td>+</td><td>chr12:54300792-54300811:+</td></tr>\n",
       "</tbody>\n",
       "</table>\n"
      ],
      "text/latex": [
       "A tibble: 2 × 5\n",
       "\\begin{tabular}{lllll}\n",
       " grna.chr & grna.start & grna.end & grna.strand & grna\\\\\n",
       " <chr> & <dbl> & <dbl> & <chr> & <chr>\\\\\n",
       "\\hline\n",
       "\t chr12 & 54300748 & 54300767 & + & chr12:54300748-54300767:+\\\\\n",
       "\t chr12 & 54300792 & 54300811 & + & chr12:54300792-54300811:+\\\\\n",
       "\\end{tabular}\n"
      ],
      "text/markdown": [
       "\n",
       "A tibble: 2 × 5\n",
       "\n",
       "| grna.chr &lt;chr&gt; | grna.start &lt;dbl&gt; | grna.end &lt;dbl&gt; | grna.strand &lt;chr&gt; | grna &lt;chr&gt; |\n",
       "|---|---|---|---|---|\n",
       "| chr12 | 54300748 | 54300767 | + | chr12:54300748-54300767:+ |\n",
       "| chr12 | 54300792 | 54300811 | + | chr12:54300792-54300811:+ |\n",
       "\n"
      ],
      "text/plain": [
       "  grna.chr grna.start grna.end grna.strand grna                     \n",
       "1 chr12    54300748   54300767 +           chr12:54300748-54300767:+\n",
       "2 chr12    54300792   54300811 +           chr12:54300792-54300811:+"
      ]
     },
     "metadata": {},
     "output_type": "display_data"
    }
   ],
   "source": [
    "df2 %>%\n",
    "filter(grepl(\"chr\",element_grna) & !grepl(\"CTRL\",element_grna)) %>% ### 292,406 guides\n",
    "select(grna.chr:grna.end, grna.strand, grna) %>%\n",
    "distinct() %>%\n",
    "slice_head(n=2)"
   ]
  },
  {
   "cell_type": "code",
   "execution_count": 31,
   "metadata": {},
   "outputs": [
    {
     "data": {
      "text/html": [
       "<table class=\"dataframe\">\n",
       "<caption>A data.frame: 2 × 4</caption>\n",
       "<thead>\n",
       "\t<tr><th scope=col>chr</th><th scope=col>start</th><th scope=col>end</th><th scope=col>strand</th></tr>\n",
       "\t<tr><th scope=col>&lt;chr&gt;</th><th scope=col>&lt;int&gt;</th><th scope=col>&lt;int&gt;</th><th scope=col>&lt;chr&gt;</th></tr>\n",
       "</thead>\n",
       "<tbody>\n",
       "\t<tr><td>chrX</td><td>49156408</td><td>49156411</td><td>-</td></tr>\n",
       "\t<tr><td>chrX</td><td>48891997</td><td>48892000</td><td>+</td></tr>\n",
       "</tbody>\n",
       "</table>\n"
      ],
      "text/latex": [
       "A data.frame: 2 × 4\n",
       "\\begin{tabular}{llll}\n",
       " chr & start & end & strand\\\\\n",
       " <chr> & <int> & <int> & <chr>\\\\\n",
       "\\hline\n",
       "\t chrX & 49156408 & 49156411 & -\\\\\n",
       "\t chrX & 48891997 & 48892000 & +\\\\\n",
       "\\end{tabular}\n"
      ],
      "text/markdown": [
       "\n",
       "A data.frame: 2 × 4\n",
       "\n",
       "| chr &lt;chr&gt; | start &lt;int&gt; | end &lt;int&gt; | strand &lt;chr&gt; |\n",
       "|---|---|---|---|\n",
       "| chrX | 49156408 | 49156411 | - |\n",
       "| chrX | 48891997 | 48892000 | + |\n",
       "\n"
      ],
      "text/plain": [
       "  chr  start    end      strand\n",
       "1 chrX 49156408 49156411 -     \n",
       "2 chrX 48891997 48892000 +     "
      ]
     },
     "metadata": {},
     "output_type": "display_data"
    }
   ],
   "source": [
    "engreitz_hg38 %>%\n",
    "slice_head(n=2)"
   ]
  },
  {
   "cell_type": "code",
   "execution_count": 33,
   "metadata": {},
   "outputs": [],
   "source": [
    "finaldf <-\n",
    "rbind(\n",
    "    df1 %>%\n",
    "        filter(grepl(\"chr\",element_grna) & !grepl(\"CTRL\",element_grna)) %>% ### 292,407 guides\n",
    "        separate(grna, into = c(\"grna.chr\",\"coords\",\"grna.strand\"), sep = \":\", remove = FALSE) %>%\n",
    "        separate(coords, into = c(\"grna.start\", \"grna.end\"), sep = \"-\") %>%\n",
    "        mutate(label = paste0(element_grna,\"_\",grna)) %>%\n",
    "        select(grna.chr:grna.end, grna.strand) %>%\n",
    "        distinct(),\n",
    "    \n",
    "    df2 %>%\n",
    "        filter(grepl(\"chr\",element_grna) & !grepl(\"CTRL\",element_grna)) %>% ### 292,406 guides\n",
    "        mutate(label = paste0(element_grna,\"_\",grna)) %>%\n",
    "        select(grna.chr:grna.end, grna.strand) %>%\n",
    "        distinct()\n",
    "    \n",
    ") %>%\n",
    "distinct()"
   ]
  },
  {
   "cell_type": "code",
   "execution_count": 35,
   "metadata": {},
   "outputs": [
    {
     "data": {
      "text/html": [
       "<style>\n",
       ".list-inline {list-style: none; margin:0; padding: 0}\n",
       ".list-inline>li {display: inline-block}\n",
       ".list-inline>li:not(:last-child)::after {content: \"\\00b7\"; padding: 0 .5ex}\n",
       "</style>\n",
       "<ol class=list-inline><li>291188</li><li>4</li></ol>\n"
      ],
      "text/latex": [
       "\\begin{enumerate*}\n",
       "\\item 291188\n",
       "\\item 4\n",
       "\\end{enumerate*}\n"
      ],
      "text/markdown": [
       "1. 291188\n",
       "2. 4\n",
       "\n",
       "\n"
      ],
      "text/plain": [
       "[1] 291188      4"
      ]
     },
     "metadata": {},
     "output_type": "display_data"
    }
   ],
   "source": [
    "dim(finaldf)"
   ]
  },
  {
   "cell_type": "code",
   "execution_count": 37,
   "metadata": {
    "scrolled": true
   },
   "outputs": [
    {
     "data": {
      "text/html": [
       "<table class=\"dataframe\">\n",
       "<caption>A tibble: 1 × 4</caption>\n",
       "<thead>\n",
       "\t<tr><th scope=col>chr</th><th scope=col>perturbation_start</th><th scope=col>perturbation_end</th><th scope=col>strand</th></tr>\n",
       "\t<tr><th scope=col>&lt;chr&gt;</th><th scope=col>&lt;dbl&gt;</th><th scope=col>&lt;dbl&gt;</th><th scope=col>&lt;chr&gt;</th></tr>\n",
       "</thead>\n",
       "<tbody>\n",
       "\t<tr><td>chr12</td><td>111035801</td><td>111036101</td><td>+</td></tr>\n",
       "</tbody>\n",
       "</table>\n"
      ],
      "text/latex": [
       "A tibble: 1 × 4\n",
       "\\begin{tabular}{llll}\n",
       " chr & perturbation\\_start & perturbation\\_end & strand\\\\\n",
       " <chr> & <dbl> & <dbl> & <chr>\\\\\n",
       "\\hline\n",
       "\t chr12 & 111035801 & 111036101 & +\\\\\n",
       "\\end{tabular}\n"
      ],
      "text/markdown": [
       "\n",
       "A tibble: 1 × 4\n",
       "\n",
       "| chr &lt;chr&gt; | perturbation_start &lt;dbl&gt; | perturbation_end &lt;dbl&gt; | strand &lt;chr&gt; |\n",
       "|---|---|---|---|\n",
       "| chr12 | 111035801 | 111036101 | + |\n",
       "\n"
      ],
      "text/plain": [
       "  chr   perturbation_start perturbation_end strand\n",
       "1 chr12 111035801          111036101        +     "
      ]
     },
     "metadata": {},
     "output_type": "display_data"
    },
    {
     "data": {
      "text/html": [
       "<style>\n",
       ".list-inline {list-style: none; margin:0; padding: 0}\n",
       ".list-inline>li {display: inline-block}\n",
       ".list-inline>li:not(:last-child)::after {content: \"\\00b7\"; padding: 0 .5ex}\n",
       "</style>\n",
       "<ol class=list-inline><li>355356</li><li>4</li></ol>\n"
      ],
      "text/latex": [
       "\\begin{enumerate*}\n",
       "\\item 355356\n",
       "\\item 4\n",
       "\\end{enumerate*}\n"
      ],
      "text/markdown": [
       "1. 355356\n",
       "2. 4\n",
       "\n",
       "\n"
      ],
      "text/plain": [
       "[1] 355356      4"
      ]
     },
     "metadata": {},
     "output_type": "display_data"
    }
   ],
   "source": [
    "comb_df <-\n",
    "finaldf %>%\n",
    "rename(chr = grna.chr, start = grna.start, end = grna.end, strand = grna.strand) %>%\n",
    "select(chr, start, end, strand) %>%\n",
    "distinct() %>% \n",
    "mutate(\n",
    "    end = as.numeric(end),\n",
    "    start = as.numeric(start),\n",
    "    pam_loc = case_when(\n",
    "        strand == \"+\" ~ end - 2,\n",
    "        strand == \"-\" ~ start + 2,\n",
    "        TRUE ~ 0),\n",
    "    perturbation_start = as.numeric(pam_loc) - 150,\n",
    "    perturbation_end = as.numeric(pam_loc) + 150\n",
    "    ) %>%\n",
    "select(chr, perturbation_start, perturbation_end, strand) %>%\n",
    "bind_rows(\n",
    "    engreitz_hg38 %>%\n",
    "    mutate(\n",
    "        end = as.numeric(end),\n",
    "        start = as.numeric(start),\n",
    "        pam_loc = case_when(\n",
    "            strand == \"+\" ~ end,\n",
    "            strand == \"-\" ~ start,\n",
    "            TRUE ~ round((end+start)/2,0)),\n",
    "        perturbation_start = as.numeric(pam_loc) - 150,\n",
    "        perturbation_end = as.numeric(pam_loc) + 150\n",
    "    ) %>%\n",
    "    select(chr, perturbation_start, perturbation_end, strand)\n",
    "    ) %>%\n",
    "distinct() ###355919 - 355356 = 563 repeated coordinates\n",
    "\n",
    "head(comb_df,n=1)\n",
    "dim(comb_df)"
   ]
  },
  {
   "cell_type": "markdown",
   "metadata": {},
   "source": [
    "#### Sanity check the perturbation window is actually +/- 150bp"
   ]
  },
  {
   "cell_type": "code",
   "execution_count": 38,
   "metadata": {},
   "outputs": [
    {
     "data": {
      "image/png": "[encoded data removed]",
      "text/plain": [
       "plot without title"
      ]
     },
     "metadata": {
      "image/png": {
       "height": 420,
       "width": 420
      }
     },
     "output_type": "display_data"
    }
   ],
   "source": [
    "comb_df %>%\n",
    "mutate(length = perturbation_end - perturbation_start) %>%\n",
    "ggplot(aes(y = length)) +\n",
    "geom_boxplot()"
   ]
  },
  {
   "cell_type": "code",
   "execution_count": 42,
   "metadata": {},
   "outputs": [],
   "source": [
    "comb_df %>%\n",
    "select(chr, perturbation_start, perturbation_end) %>% ### count drops to 347,482 (7974 guides targeting same site but opposite strands)\n",
    "distinct() %>%\n",
    "write.table(\"k562meta/elementReference/combined/k562.elementReference.combined.hg38.20230415.bed\",\n",
    "            col.names=F, row.names=F, sep = \"\\t\", quote=F)\n"
   ]
  },
  {
   "cell_type": "markdown",
   "metadata": {},
   "source": [
    "## Generate master hg19 elementQuant file"
   ]
  },
  {
   "cell_type": "markdown",
   "metadata": {},
   "source": [
    "### Load all elementQuant files and store in one df"
   ]
  },
  {
   "cell_type": "code",
   "execution_count": 2,
   "metadata": {},
   "outputs": [
    {
     "data": {
      "text/html": [
       "<table class=\"dataframe\">\n",
       "<caption>A tibble: 1 × 25</caption>\n",
       "<thead>\n",
       "\t<tr><th scope=col>chrPerturbationTarget</th><th scope=col>startPerturbationTarget</th><th scope=col>endPerturbationTarget</th><th scope=col>name</th><th scope=col>EffectSize</th><th scope=col>strandPerturbationTarget</th><th scope=col>PerturbationTargetID</th><th scope=col>chrTSS</th><th scope=col>startTSS</th><th scope=col>endTSS</th><th scope=col>⋯</th><th scope=col>guideSpacerSeq</th><th scope=col>guideSeq</th><th scope=col>Significant</th><th scope=col>pValue</th><th scope=col>pValueAdjusted</th><th scope=col>PowerAtEffectSize10</th><th scope=col>PowerAtEffectSize25</th><th scope=col>PowerAtEffectSize50</th><th scope=col>ValidConnection</th><th scope=col>Notes</th></tr>\n",
       "\t<tr><th scope=col>&lt;chr&gt;</th><th scope=col>&lt;dbl&gt;</th><th scope=col>&lt;dbl&gt;</th><th scope=col>&lt;chr&gt;</th><th scope=col>&lt;dbl&gt;</th><th scope=col>&lt;chr&gt;</th><th scope=col>&lt;chr&gt;</th><th scope=col>&lt;chr&gt;</th><th scope=col>&lt;dbl&gt;</th><th scope=col>&lt;dbl&gt;</th><th scope=col>⋯</th><th scope=col>&lt;lgl&gt;</th><th scope=col>&lt;lgl&gt;</th><th scope=col>&lt;lgl&gt;</th><th scope=col>&lt;dbl&gt;</th><th scope=col>&lt;dbl&gt;</th><th scope=col>&lt;dbl&gt;</th><th scope=col>&lt;dbl&gt;</th><th scope=col>&lt;dbl&gt;</th><th scope=col>&lt;chr&gt;</th><th scope=col>&lt;lgl&gt;</th></tr>\n",
       "</thead>\n",
       "<tbody>\n",
       "\t<tr><td>chrX</td><td>46696085</td><td>46696605</td><td>chrX:46696085-46696605:.</td><td>0.03714649</td><td>.</td><td>chrX:46696085-46696605:.</td><td>chrX</td><td>48380163</td><td>48380164</td><td>⋯</td><td>NA</td><td>NA</td><td>FALSE</td><td>0.05242223</td><td>0.704383</td><td>0.9999941</td><td>1</td><td>1</td><td>TRUE</td><td>NA</td></tr>\n",
       "</tbody>\n",
       "</table>\n"
      ],
      "text/latex": [
       "A tibble: 1 × 25\n",
       "\\begin{tabular}{lllllllllllllllllllll}\n",
       " chrPerturbationTarget & startPerturbationTarget & endPerturbationTarget & name & EffectSize & strandPerturbationTarget & PerturbationTargetID & chrTSS & startTSS & endTSS & ⋯ & guideSpacerSeq & guideSeq & Significant & pValue & pValueAdjusted & PowerAtEffectSize10 & PowerAtEffectSize25 & PowerAtEffectSize50 & ValidConnection & Notes\\\\\n",
       " <chr> & <dbl> & <dbl> & <chr> & <dbl> & <chr> & <chr> & <chr> & <dbl> & <dbl> & ⋯ & <lgl> & <lgl> & <lgl> & <dbl> & <dbl> & <dbl> & <dbl> & <dbl> & <chr> & <lgl>\\\\\n",
       "\\hline\n",
       "\t chrX & 46696085 & 46696605 & chrX:46696085-46696605:. & 0.03714649 & . & chrX:46696085-46696605:. & chrX & 48380163 & 48380164 & ⋯ & NA & NA & FALSE & 0.05242223 & 0.704383 & 0.9999941 & 1 & 1 & TRUE & NA\\\\\n",
       "\\end{tabular}\n"
      ],
      "text/markdown": [
       "\n",
       "A tibble: 1 × 25\n",
       "\n",
       "| chrPerturbationTarget &lt;chr&gt; | startPerturbationTarget &lt;dbl&gt; | endPerturbationTarget &lt;dbl&gt; | name &lt;chr&gt; | EffectSize &lt;dbl&gt; | strandPerturbationTarget &lt;chr&gt; | PerturbationTargetID &lt;chr&gt; | chrTSS &lt;chr&gt; | startTSS &lt;dbl&gt; | endTSS &lt;dbl&gt; | ⋯ ⋯ | guideSpacerSeq &lt;lgl&gt; | guideSeq &lt;lgl&gt; | Significant &lt;lgl&gt; | pValue &lt;dbl&gt; | pValueAdjusted &lt;dbl&gt; | PowerAtEffectSize10 &lt;dbl&gt; | PowerAtEffectSize25 &lt;dbl&gt; | PowerAtEffectSize50 &lt;dbl&gt; | ValidConnection &lt;chr&gt; | Notes &lt;lgl&gt; |\n",
       "|---|---|---|---|---|---|---|---|---|---|---|---|---|---|---|---|---|---|---|---|---|\n",
       "| chrX | 46696085 | 46696605 | chrX:46696085-46696605:. | 0.03714649 | . | chrX:46696085-46696605:. | chrX | 48380163 | 48380164 | ⋯ | NA | NA | FALSE | 0.05242223 | 0.704383 | 0.9999941 | 1 | 1 | TRUE | NA |\n",
       "\n"
      ],
      "text/plain": [
       "  chrPerturbationTarget startPerturbationTarget endPerturbationTarget\n",
       "1 chrX                  46696085                46696605             \n",
       "  name                     EffectSize strandPerturbationTarget\n",
       "1 chrX:46696085-46696605:. 0.03714649 .                       \n",
       "  PerturbationTargetID     chrTSS startTSS endTSS   ⋯ guideSpacerSeq guideSeq\n",
       "1 chrX:46696085-46696605:. chrX   48380163 48380164 ⋯ NA             NA      \n",
       "  Significant pValue     pValueAdjusted PowerAtEffectSize10 PowerAtEffectSize25\n",
       "1 FALSE       0.05242223 0.704383       0.9999941           1                  \n",
       "  PowerAtEffectSize50 ValidConnection Notes\n",
       "1 1                   TRUE            NA   "
      ]
     },
     "metadata": {},
     "output_type": "display_data"
    },
    {
     "data": {
      "text/html": [
       "<style>\n",
       ".list-inline {list-style: none; margin:0; padding: 0}\n",
       ".list-inline>li {display: inline-block}\n",
       ".list-inline>li:not(:last-child)::after {content: \"\\00b7\"; padding: 0 .5ex}\n",
       "</style>\n",
       "<ol class=list-inline><li>4757</li><li>25</li></ol>\n"
      ],
      "text/latex": [
       "\\begin{enumerate*}\n",
       "\\item 4757\n",
       "\\item 25\n",
       "\\end{enumerate*}\n"
      ],
      "text/markdown": [
       "1. 4757\n",
       "2. 25\n",
       "\n",
       "\n"
      ],
      "text/plain": [
       "[1] 4757   25"
      ]
     },
     "metadata": {},
     "output_type": "display_data"
    }
   ],
   "source": [
    "# path to the data\n",
    "data_path <- 'k562meta/elementQuant/hg19'  \n",
    "\n",
    "# set file names\n",
    "files <- dir(data_path, pattern = \"*.tsv\", full.names = TRUE) # get file names\n",
    "# files\n",
    "df1 <- files %>%\n",
    "  # read in all the files, appending the path before the filename\n",
    "  map(~read_tsv(., col_names=TRUE, show_col_types = FALSE)) %>% \n",
    "  bind_rows()\n",
    "\n",
    "head(df1,n=1)\n",
    "dim(df1)"
   ]
  },
  {
   "cell_type": "code",
   "execution_count": 10,
   "metadata": {},
   "outputs": [
    {
     "data": {
      "text/html": [
       "<style>\n",
       ".list-inline {list-style: none; margin:0; padding: 0}\n",
       ".list-inline>li {display: inline-block}\n",
       ".list-inline>li:not(:last-child)::after {content: \"\\00b7\"; padding: 0 .5ex}\n",
       "</style>\n",
       "<ol class=list-inline><li>209</li><li>2</li></ol>\n"
      ],
      "text/latex": [
       "\\begin{enumerate*}\n",
       "\\item 209\n",
       "\\item 2\n",
       "\\end{enumerate*}\n"
      ],
      "text/markdown": [
       "1. 209\n",
       "2. 2\n",
       "\n",
       "\n"
      ],
      "text/plain": [
       "[1] 209   2"
      ]
     },
     "metadata": {},
     "output_type": "display_data"
    }
   ],
   "source": [
    "df1 %>%\n",
    "filter(Significant == TRUE) %>%\n",
    "select(name, measuredGeneSymbol) %>% distinct() %>% dim()"
   ]
  },
  {
   "cell_type": "markdown",
   "metadata": {},
   "source": [
    "### Generate .bed file, then lift to hg38 coordinates"
   ]
  },
  {
   "cell_type": "code",
   "execution_count": 15,
   "metadata": {},
   "outputs": [],
   "source": [
    "df1 %>%\n",
    "filter(Significant == TRUE) %>%\n",
    "mutate(label = paste0(name,\"_\",measuredGeneSymbol)) %>%\n",
    "select(chrPerturbationTarget:endPerturbationTarget, label) %>%\n",
    "distinct() %>%\n",
    "write.table(\"k562meta/elementQuant/hg19_to_hg38/k562meta.elementQuant.engreitz.hg19.20230413.bed\",\n",
    "            col.names=F, row.names=F, sep = \"\\t\", quote=F)"
   ]
  },
  {
   "cell_type": "markdown",
   "metadata": {},
   "source": [
    "Successfully converted 209 records."
   ]
  },
  {
   "cell_type": "code",
   "execution_count": 40,
   "metadata": {},
   "outputs": [
    {
     "data": {
      "text/html": [
       "<table class=\"dataframe\">\n",
       "<caption>A data.frame: 1 × 4</caption>\n",
       "<thead>\n",
       "\t<tr><th></th><th scope=col>chr</th><th scope=col>start</th><th scope=col>end</th><th scope=col>label</th></tr>\n",
       "\t<tr><th></th><th scope=col>&lt;chr&gt;</th><th scope=col>&lt;int&gt;</th><th scope=col>&lt;int&gt;</th><th scope=col>&lt;chr&gt;</th></tr>\n",
       "</thead>\n",
       "<tbody>\n",
       "\t<tr><th scope=row>1</th><td>chrX</td><td>48521437</td><td>48521957</td><td>chrX:48379825-48380345:._EBP</td></tr>\n",
       "</tbody>\n",
       "</table>\n"
      ],
      "text/latex": [
       "A data.frame: 1 × 4\n",
       "\\begin{tabular}{r|llll}\n",
       "  & chr & start & end & label\\\\\n",
       "  & <chr> & <int> & <int> & <chr>\\\\\n",
       "\\hline\n",
       "\t1 & chrX & 48521437 & 48521957 & chrX:48379825-48380345:.\\_EBP\\\\\n",
       "\\end{tabular}\n"
      ],
      "text/markdown": [
       "\n",
       "A data.frame: 1 × 4\n",
       "\n",
       "| <!--/--> | chr &lt;chr&gt; | start &lt;int&gt; | end &lt;int&gt; | label &lt;chr&gt; |\n",
       "|---|---|---|---|---|\n",
       "| 1 | chrX | 48521437 | 48521957 | chrX:48379825-48380345:._EBP |\n",
       "\n"
      ],
      "text/plain": [
       "  chr  start    end      label                       \n",
       "1 chrX 48521437 48521957 chrX:48379825-48380345:._EBP"
      ]
     },
     "metadata": {},
     "output_type": "display_data"
    },
    {
     "data": {
      "text/html": [
       "<style>\n",
       ".list-inline {list-style: none; margin:0; padding: 0}\n",
       ".list-inline>li {display: inline-block}\n",
       ".list-inline>li:not(:last-child)::after {content: \"\\00b7\"; padding: 0 .5ex}\n",
       "</style>\n",
       "<ol class=list-inline><li>209</li><li>4</li></ol>\n"
      ],
      "text/latex": [
       "\\begin{enumerate*}\n",
       "\\item 209\n",
       "\\item 4\n",
       "\\end{enumerate*}\n"
      ],
      "text/markdown": [
       "1. 209\n",
       "2. 4\n",
       "\n",
       "\n"
      ],
      "text/plain": [
       "[1] 209   4"
      ]
     },
     "metadata": {},
     "output_type": "display_data"
    }
   ],
   "source": [
    "engreitz_hg38 <- read.delim(\"k562meta/elementQuant/hg19_to_hg38/k562meta.elementQuant.engreitz.hg19tohg38.20230413.bed\",\n",
    "                  header = FALSE, col.names = c(\"chr\",\"start\",\"end\",\"label\",\"drop\")) %>% select(-drop) \n",
    "\n",
    "head(engreitz_hg38,n=1)\n",
    "dim(engreitz_hg38)"
   ]
  },
  {
   "cell_type": "markdown",
   "metadata": {},
   "source": [
    "## Generate master hg38 elementQuant file"
   ]
  },
  {
   "cell_type": "code",
   "execution_count": 37,
   "metadata": {
    "scrolled": true
   },
   "outputs": [
    {
     "data": {
      "text/html": [
       "<table class=\"dataframe\">\n",
       "<caption>A tibble: 1 × 6</caption>\n",
       "<thead>\n",
       "\t<tr><th scope=col>chr</th><th scope=col>start</th><th scope=col>end</th><th scope=col>name</th><th scope=col>measuredGeneSymbol</th><th scope=col>Significant</th></tr>\n",
       "\t<tr><th scope=col>&lt;chr&gt;</th><th scope=col>&lt;dbl&gt;</th><th scope=col>&lt;dbl&gt;</th><th scope=col>&lt;chr&gt;</th><th scope=col>&lt;chr&gt;</th><th scope=col>&lt;lgl&gt;</th></tr>\n",
       "</thead>\n",
       "<tbody>\n",
       "\t<tr><td>chr8</td><td>127735869</td><td>127736569</td><td>chr8:127735869-127736569:.</td><td>PVT1</td><td>TRUE</td></tr>\n",
       "</tbody>\n",
       "</table>\n"
      ],
      "text/latex": [
       "A tibble: 1 × 6\n",
       "\\begin{tabular}{llllll}\n",
       " chr & start & end & name & measuredGeneSymbol & Significant\\\\\n",
       " <chr> & <dbl> & <dbl> & <chr> & <chr> & <lgl>\\\\\n",
       "\\hline\n",
       "\t chr8 & 127735869 & 127736569 & chr8:127735869-127736569:. & PVT1 & TRUE\\\\\n",
       "\\end{tabular}\n"
      ],
      "text/markdown": [
       "\n",
       "A tibble: 1 × 6\n",
       "\n",
       "| chr &lt;chr&gt; | start &lt;dbl&gt; | end &lt;dbl&gt; | name &lt;chr&gt; | measuredGeneSymbol &lt;chr&gt; | Significant &lt;lgl&gt; |\n",
       "|---|---|---|---|---|---|\n",
       "| chr8 | 127735869 | 127736569 | chr8:127735869-127736569:. | PVT1 | TRUE |\n",
       "\n"
      ],
      "text/plain": [
       "  chr  start     end       name                       measuredGeneSymbol\n",
       "1 chr8 127735869 127736569 chr8:127735869-127736569:. PVT1              \n",
       "  Significant\n",
       "1 TRUE       "
      ]
     },
     "metadata": {},
     "output_type": "display_data"
    },
    {
     "data": {
      "text/html": [
       "<style>\n",
       ".list-inline {list-style: none; margin:0; padding: 0}\n",
       ".list-inline>li {display: inline-block}\n",
       ".list-inline>li:not(:last-child)::after {content: \"\\00b7\"; padding: 0 .5ex}\n",
       "</style>\n",
       "<ol class=list-inline><li>113</li><li>6</li></ol>\n"
      ],
      "text/latex": [
       "\\begin{enumerate*}\n",
       "\\item 113\n",
       "\\item 6\n",
       "\\end{enumerate*}\n"
      ],
      "text/markdown": [
       "1. 113\n",
       "2. 6\n",
       "\n",
       "\n"
      ],
      "text/plain": [
       "[1] 113   6"
      ]
     },
     "metadata": {},
     "output_type": "display_data"
    }
   ],
   "source": [
    "# path to the data\n",
    "data_path <- 'k562meta/elementQuant/hg38'  \n",
    "\n",
    "# set file names\n",
    "files <- dir(data_path, pattern = \"*.bed.gz\", full.names = TRUE) # get file names\n",
    "# files\n",
    "df1 <- files %>%\n",
    "  # read in all the files, appending the path before the filename\n",
    "  map(~read_tsv(., col_names = FALSE, show_col_types = FALSE)) %>%\n",
    "  bind_rows() %>%\n",
    "  mutate(X18 = as.logical(X18))  %>%\n",
    "  mutate(chr = X1, start = X2, end = X3, name = X4, measuredGeneSymbol = X14, Significant = X18) %>%\n",
    "  select(chr:Significant)\n",
    "      \n",
    "\n",
    "head(df1,n=1)\n",
    "dim(df1)"
   ]
  },
  {
   "cell_type": "markdown",
   "metadata": {},
   "source": [
    "### Add the Engreitz elements to the Sabeti elements"
   ]
  },
  {
   "cell_type": "code",
   "execution_count": 41,
   "metadata": {},
   "outputs": [
    {
     "data": {
      "text/html": [
       "<table class=\"dataframe\">\n",
       "<caption>A data.frame: 1 × 4</caption>\n",
       "<thead>\n",
       "\t<tr><th scope=col>chr</th><th scope=col>start</th><th scope=col>end</th><th scope=col>label</th></tr>\n",
       "\t<tr><th scope=col>&lt;chr&gt;</th><th scope=col>&lt;int&gt;</th><th scope=col>&lt;int&gt;</th><th scope=col>&lt;chr&gt;</th></tr>\n",
       "</thead>\n",
       "<tbody>\n",
       "\t<tr><td>chrX</td><td>48521437</td><td>48521957</td><td>chrX:48379825-48380345:._EBP</td></tr>\n",
       "</tbody>\n",
       "</table>\n"
      ],
      "text/latex": [
       "A data.frame: 1 × 4\n",
       "\\begin{tabular}{llll}\n",
       " chr & start & end & label\\\\\n",
       " <chr> & <int> & <int> & <chr>\\\\\n",
       "\\hline\n",
       "\t chrX & 48521437 & 48521957 & chrX:48379825-48380345:.\\_EBP\\\\\n",
       "\\end{tabular}\n"
      ],
      "text/markdown": [
       "\n",
       "A data.frame: 1 × 4\n",
       "\n",
       "| chr &lt;chr&gt; | start &lt;int&gt; | end &lt;int&gt; | label &lt;chr&gt; |\n",
       "|---|---|---|---|\n",
       "| chrX | 48521437 | 48521957 | chrX:48379825-48380345:._EBP |\n",
       "\n"
      ],
      "text/plain": [
       "  chr  start    end      label                       \n",
       "1 chrX 48521437 48521957 chrX:48379825-48380345:._EBP"
      ]
     },
     "metadata": {},
     "output_type": "display_data"
    }
   ],
   "source": [
    "engreitz_hg38 %>% slice_head(n=1)"
   ]
  },
  {
   "cell_type": "code",
   "execution_count": 46,
   "metadata": {},
   "outputs": [
    {
     "data": {
      "text/html": [
       "<style>\n",
       ".list-inline {list-style: none; margin:0; padding: 0}\n",
       ".list-inline>li {display: inline-block}\n",
       ".list-inline>li:not(:last-child)::after {content: \"\\00b7\"; padding: 0 .5ex}\n",
       "</style>\n",
       "<ol class=list-inline><li>322</li><li>4</li></ol>\n"
      ],
      "text/latex": [
       "\\begin{enumerate*}\n",
       "\\item 322\n",
       "\\item 4\n",
       "\\end{enumerate*}\n"
      ],
      "text/markdown": [
       "1. 322\n",
       "2. 4\n",
       "\n",
       "\n"
      ],
      "text/plain": [
       "[1] 322   4"
      ]
     },
     "metadata": {},
     "output_type": "display_data"
    }
   ],
   "source": [
    "df1 %>%\n",
    "mutate(label = paste0(name,\"_\",measuredGeneSymbol)) %>%\n",
    "select(chr:end, label) %>%\n",
    "distinct() %>%\n",
    "rbind(engreitz_hg38) %>%\n",
    "dim() "
   ]
  },
  {
   "cell_type": "code",
   "execution_count": 47,
   "metadata": {},
   "outputs": [],
   "source": [
    "df1 %>%\n",
    "mutate(label = paste0(name,\"_\",measuredGeneSymbol)) %>%\n",
    "select(chr:end, label) %>%\n",
    "distinct() %>%\n",
    "rbind(engreitz_hg38) %>%\n",
    "write.table(\"k562meta/elementQuant/combined/k562.elementQuant.combined.hg38.20230415.bed\",\n",
    "            col.names=F, row.names=F, sep = \"\\t\", quote=F)"
   ]
  },
  {
   "cell_type": "markdown",
   "metadata": {},
   "source": [
    "## Switch to `python` kernel"
   ]
  },
  {
   "cell_type": "code",
   "execution_count": 1,
   "metadata": {},
   "outputs": [],
   "source": [
    "import pandas as pd\n",
    "import matplotlib.pyplot as plt\n",
    "import seaborn as sns"
   ]
  },
  {
   "cell_type": "markdown",
   "metadata": {},
   "source": [
    "### Intersect perturbed and significant elements with 100bp bins\n",
    "\n",
    "First, sort and merge overlapping features. Next, intersect with 100bp bins. Then, merge the adjacent bins. "
   ]
  },
  {
   "cell_type": "markdown",
   "metadata": {},
   "source": [
    "#### Input files containing perturbed and significant elements"
   ]
  },
  {
   "cell_type": "code",
   "execution_count": 2,
   "metadata": {},
   "outputs": [
    {
     "name": "stdout",
     "output_type": "stream",
     "text": [
      "chr12\t111035801\t111036101\n",
      "347482 /data/gersbachlab/lrb53/encodeCrisprWG/finalversion/figure1/k562meta/elementReference/combined/k562.elementReference.combined.hg38.20230415.bed\n"
     ]
    }
   ],
   "source": [
    "%%bash\n",
    "head k562meta/elementReference/combined/k562.elementReference.combined.hg38.20230415.bed -n 1\n",
    "wc -l k562meta/elementReference/combined/k562.elementReference.combined.hg38.20230415.bed\n"
   ]
  },
  {
   "cell_type": "code",
   "execution_count": 3,
   "metadata": {},
   "outputs": [
    {
     "name": "stdout",
     "output_type": "stream",
     "text": [
      "chr8\t127735869\t127736569\tchr8:127735869-127736569:._PVT1\n",
      "322 /data/gersbachlab/lrb53/encodeCrisprWG/finalversion/figure1/k562meta/elementQuant/combined/k562.elementQuant.combined.hg38.20230415.bed\n"
     ]
    }
   ],
   "source": [
    "%%bash\n",
    "head k562meta/elementQuant/combined/k562.elementQuant.combined.hg38.20230415.bed -n 1\n",
    "wc -l k562meta/elementQuant/combined/k562.elementQuant.combined.hg38.20230415.bed\n"
   ]
  },
  {
   "cell_type": "markdown",
   "metadata": {},
   "source": [
    "#### Sort and merge overlapping features"
   ]
  },
  {
   "cell_type": "code",
   "execution_count": 5,
   "metadata": {},
   "outputs": [
    {
     "name": "stdout",
     "output_type": "stream",
     "text": [
      "347482 k562.elementReference.combined.hg38.20230415.sorted.bed\n"
     ]
    }
   ],
   "source": [
    "%%bash\n",
    "cd k562meta/elementReference/combined/\n",
    "sort -k1,1 -k2,2n k562.elementReference.combined.hg38.20230415.bed > k562.elementReference.combined.hg38.20230415.sorted.bed\n",
    "wc -l k562.elementReference.combined.hg38.20230415.sorted.bed"
   ]
  },
  {
   "cell_type": "code",
   "execution_count": 6,
   "metadata": {},
   "outputs": [
    {
     "name": "stdout",
     "output_type": "stream",
     "text": [
      "322 k562.elementQuant.combined.hg38.20230415.sorted.bed\n"
     ]
    }
   ],
   "source": [
    "%%bash\n",
    "cd k562meta/elementQuant/combined/\n",
    "sort -k1,1 -k2,2n k562.elementQuant.combined.hg38.20230415.bed > k562.elementQuant.combined.hg38.20230415.sorted.bed\n",
    "wc -l k562.elementQuant.combined.hg38.20230415.sorted.bed"
   ]
  },
  {
   "cell_type": "code",
   "execution_count": 7,
   "metadata": {},
   "outputs": [
    {
     "name": "stdout",
     "output_type": "stream",
     "text": [
      "4052 k562.elementReference.combined.hg38.20230415.sorted.merge.bed\n"
     ]
    }
   ],
   "source": [
    "%%bash\n",
    "\n",
    "cd k562meta/elementReference/combined/\n",
    "\n",
    "module load bedtools2\n",
    "\n",
    "bedtools merge -i k562.elementReference.combined.hg38.20230415.sorted.bed -d 1 > k562.elementReference.combined.hg38.20230415.sorted.merge.bed\n",
    "wc -l k562.elementReference.combined.hg38.20230415.sorted.merge.bed"
   ]
  },
  {
   "cell_type": "code",
   "execution_count": 8,
   "metadata": {},
   "outputs": [
    {
     "name": "stdout",
     "output_type": "stream",
     "text": [
      "219 k562.elementQuant.combined.hg38.20230415.sorted.merge.bed\n"
     ]
    }
   ],
   "source": [
    "%%bash\n",
    "\n",
    "cd k562meta/elementQuant/combined/\n",
    "\n",
    "module load bedtools2\n",
    "\n",
    "bedtools merge -i k562.elementQuant.combined.hg38.20230415.sorted.bed -d 1 > k562.elementQuant.combined.hg38.20230415.sorted.merge.bed\n",
    "wc -l k562.elementQuant.combined.hg38.20230415.sorted.merge.bed"
   ]
  },
  {
   "cell_type": "markdown",
   "metadata": {},
   "source": [
    "#### Intersect with 100bp bins"
   ]
  },
  {
   "cell_type": "code",
   "execution_count": 9,
   "metadata": {},
   "outputs": [
    {
     "name": "stdout",
     "output_type": "stream",
     "text": [
      "81855\n"
     ]
    }
   ],
   "source": [
    "%%bash\n",
    "\n",
    "cd k562meta/elementReference/combined/\n",
    "\n",
    "module load bedtools2\n",
    "\n",
    "bedtools intersect \\\n",
    "-a /path_to/binnedgenome.hg38.bed \\\n",
    "-b k562.elementReference.combined.hg38.20230415.sorted.merge.bed \\\n",
    "-wa -u | wc -l"
   ]
  },
  {
   "cell_type": "code",
   "execution_count": 10,
   "metadata": {},
   "outputs": [
    {
     "name": "stdout",
     "output_type": "stream",
     "text": [
      "2733 binnedgenome.int.k562.elementReference.20230415.merge.bed\n",
      "chr3\t127573700\t127574600\n"
     ]
    }
   ],
   "source": [
    "%%bash\n",
    "\n",
    "cd k562meta/elementReference/combined/\n",
    "\n",
    "module load bedtools2\n",
    "\n",
    "bedtools intersect \\\n",
    "-a /path_to/binnedgenome.hg38.bed \\\n",
    "-b k562.elementReference.combined.hg38.20230415.sorted.merge.bed \\\n",
    "-wa -u | \\\n",
    "bedtools merge -i stdin -d 1 \\\n",
    "> binnedgenome.int.k562.elementReference.20230415.merge.bed\n",
    "\n",
    "wc -l binnedgenome.int.k562.elementReference.20230415.merge.bed\n",
    "head binnedgenome.int.k562.elementReference.20230415.merge.bed -n 1"
   ]
  },
  {
   "cell_type": "code",
   "execution_count": 11,
   "metadata": {},
   "outputs": [
    {
     "name": "stdout",
     "output_type": "stream",
     "text": [
      "2306\n"
     ]
    }
   ],
   "source": [
    "%%bash\n",
    "\n",
    "cd k562meta/elementQuant/combined/\n",
    "\n",
    "module load bedtools2\n",
    "\n",
    "bedtools intersect \\\n",
    "-a /path_to/binnedgenome.hg38.bed \\\n",
    "-b k562.elementQuant.combined.hg38.20230415.sorted.merge.bed \\\n",
    "-wa -u | wc -l"
   ]
  },
  {
   "cell_type": "code",
   "execution_count": 12,
   "metadata": {},
   "outputs": [
    {
     "name": "stdout",
     "output_type": "stream",
     "text": [
      "210 binnedgenome.int.k562.elementQuant.20230415.merge.bed\n",
      "chr3\t127672600\t127673300\n"
     ]
    }
   ],
   "source": [
    "%%bash\n",
    "\n",
    "cd k562meta/elementQuant/combined/\n",
    "\n",
    "module load bedtools2\n",
    "\n",
    "bedtools intersect \\\n",
    "-a /path_to/binnedgenome.hg38.bed \\\n",
    "-b k562.elementQuant.combined.hg38.20230415.sorted.merge.bed \\\n",
    "-wa -u | \\\n",
    "bedtools merge -i stdin -d 1 \\\n",
    "> binnedgenome.int.k562.elementQuant.20230415.merge.bed\n",
    "\n",
    "wc -l binnedgenome.int.k562.elementQuant.20230415.merge.bed\n",
    "head binnedgenome.int.k562.elementQuant.20230415.merge.bed -n 1"
   ]
  },
  {
   "cell_type": "markdown",
   "metadata": {},
   "source": [
    "## Calculate total bases perturbed\n",
    "\n",
    "1. Using merged features, calculate total bases that were \"covered\" by a perturbation.\n",
    "2. Bin the entire genome, merge bins, then calculate total bases."
   ]
  },
  {
   "cell_type": "markdown",
   "metadata": {},
   "source": [
    "#### 1. Use merged features to calculate total bases perturbed"
   ]
  },
  {
   "cell_type": "code",
   "execution_count": 13,
   "metadata": {},
   "outputs": [
    {
     "data": {
      "text/html": [
       "<div>\n",
       "<style scoped>\n",
       "    .dataframe tbody tr th:only-of-type {\n",
       "        vertical-align: middle;\n",
       "    }\n",
       "\n",
       "    .dataframe tbody tr th {\n",
       "        vertical-align: top;\n",
       "    }\n",
       "\n",
       "    .dataframe thead th {\n",
       "        text-align: right;\n",
       "    }\n",
       "</style>\n",
       "<table border=\"1\" class=\"dataframe\">\n",
       "  <thead>\n",
       "    <tr style=\"text-align: right;\">\n",
       "      <th></th>\n",
       "      <th>start</th>\n",
       "      <th>end</th>\n",
       "      <th>length</th>\n",
       "      <th>method</th>\n",
       "    </tr>\n",
       "    <tr>\n",
       "      <th>chr</th>\n",
       "      <th></th>\n",
       "      <th></th>\n",
       "      <th></th>\n",
       "      <th></th>\n",
       "    </tr>\n",
       "  </thead>\n",
       "  <tbody>\n",
       "    <tr>\n",
       "      <td>chr11</td>\n",
       "      <td>23616563187</td>\n",
       "      <td>23618085908</td>\n",
       "      <td>1522721</td>\n",
       "      <td>merged_only</td>\n",
       "    </tr>\n",
       "    <tr>\n",
       "      <td>chr12</td>\n",
       "      <td>96299572006</td>\n",
       "      <td>96300924811</td>\n",
       "      <td>1352805</td>\n",
       "      <td>merged_only</td>\n",
       "    </tr>\n",
       "    <tr>\n",
       "      <td>chr19</td>\n",
       "      <td>9728963085</td>\n",
       "      <td>9729227400</td>\n",
       "      <td>264315</td>\n",
       "      <td>merged_only</td>\n",
       "    </tr>\n",
       "    <tr>\n",
       "      <td>chr3</td>\n",
       "      <td>23975204141</td>\n",
       "      <td>23975356810</td>\n",
       "      <td>152669</td>\n",
       "      <td>merged_only</td>\n",
       "    </tr>\n",
       "    <tr>\n",
       "      <td>chr4</td>\n",
       "      <td>10622178458</td>\n",
       "      <td>10622845045</td>\n",
       "      <td>666587</td>\n",
       "      <td>merged_only</td>\n",
       "    </tr>\n",
       "  </tbody>\n",
       "</table>\n",
       "</div>"
      ],
      "text/plain": [
       "             start          end   length       method\n",
       "chr                                                  \n",
       "chr11  23616563187  23618085908  1522721  merged_only\n",
       "chr12  96299572006  96300924811  1352805  merged_only\n",
       "chr19   9728963085   9729227400   264315  merged_only\n",
       "chr3   23975204141  23975356810   152669  merged_only\n",
       "chr4   10622178458  10622845045   666587  merged_only"
      ]
     },
     "execution_count": 13,
     "metadata": {},
     "output_type": "execute_result"
    }
   ],
   "source": [
    "df1 = pd.read_csv('k562meta/elementReference/combined/k562.elementReference.combined.hg38.20230415.sorted.merge.bed',\n",
    "                   sep='\\t', header = None)\n",
    "\n",
    "df1.columns = ['chr', 'start', 'end']\n",
    "# df1.head()\n",
    "df1['length'] = df1['end'] - df1['start']\n",
    "plotdf1 = df1.groupby(by=[\"chr\"]).sum()\n",
    "plotdf1['method'] = 'merged_only'\n",
    "plotdf1.head()"
   ]
  },
  {
   "cell_type": "markdown",
   "metadata": {},
   "source": [
    "#### 2. Number of bins/number of bases per chromosome."
   ]
  },
  {
   "cell_type": "code",
   "execution_count": 14,
   "metadata": {},
   "outputs": [
    {
     "data": {
      "text/html": [
       "<div>\n",
       "<style scoped>\n",
       "    .dataframe tbody tr th:only-of-type {\n",
       "        vertical-align: middle;\n",
       "    }\n",
       "\n",
       "    .dataframe tbody tr th {\n",
       "        vertical-align: top;\n",
       "    }\n",
       "\n",
       "    .dataframe thead th {\n",
       "        text-align: right;\n",
       "    }\n",
       "</style>\n",
       "<table border=\"1\" class=\"dataframe\">\n",
       "  <thead>\n",
       "    <tr style=\"text-align: right;\">\n",
       "      <th></th>\n",
       "      <th>length</th>\n",
       "      <th>method</th>\n",
       "    </tr>\n",
       "    <tr>\n",
       "      <th>chr</th>\n",
       "      <th></th>\n",
       "      <th></th>\n",
       "    </tr>\n",
       "  </thead>\n",
       "  <tbody>\n",
       "    <tr>\n",
       "      <td>chr11</td>\n",
       "      <td>1589300</td>\n",
       "      <td>binned_merged</td>\n",
       "    </tr>\n",
       "    <tr>\n",
       "      <td>chr12</td>\n",
       "      <td>1434400</td>\n",
       "      <td>binned_merged</td>\n",
       "    </tr>\n",
       "    <tr>\n",
       "      <td>chr19</td>\n",
       "      <td>292300</td>\n",
       "      <td>binned_merged</td>\n",
       "    </tr>\n",
       "    <tr>\n",
       "      <td>chr3</td>\n",
       "      <td>170900</td>\n",
       "      <td>binned_merged</td>\n",
       "    </tr>\n",
       "    <tr>\n",
       "      <td>chr4</td>\n",
       "      <td>677300</td>\n",
       "      <td>binned_merged</td>\n",
       "    </tr>\n",
       "  </tbody>\n",
       "</table>\n",
       "</div>"
      ],
      "text/plain": [
       "        length         method\n",
       "chr                          \n",
       "chr11  1589300  binned_merged\n",
       "chr12  1434400  binned_merged\n",
       "chr19   292300  binned_merged\n",
       "chr3    170900  binned_merged\n",
       "chr4    677300  binned_merged"
      ]
     },
     "execution_count": 14,
     "metadata": {},
     "output_type": "execute_result"
    }
   ],
   "source": [
    "df2 = pd.read_csv('k562meta/elementReference/combined/binnedgenome.int.k562.elementReference.20230415.merge.bed',\n",
    "                   sep='\\t', header = None)\n",
    "\n",
    "df2.columns = ['chr', 'start', 'end']\n",
    "# df2.head()\n",
    "df2['length'] = df2['end'] - df2['start']\n",
    "df2 = df2.drop(columns=['start','end'])\n",
    "plotdf2 = df2.groupby(by=[\"chr\"]).sum()\n",
    "plotdf2['method'] = 'binned_merged'\n",
    "plotdf2.head()"
   ]
  },
  {
   "cell_type": "code",
   "execution_count": 15,
   "metadata": {},
   "outputs": [
    {
     "data": {
      "text/html": [
       "<div>\n",
       "<style scoped>\n",
       "    .dataframe tbody tr th:only-of-type {\n",
       "        vertical-align: middle;\n",
       "    }\n",
       "\n",
       "    .dataframe tbody tr th {\n",
       "        vertical-align: top;\n",
       "    }\n",
       "\n",
       "    .dataframe thead th {\n",
       "        text-align: right;\n",
       "    }\n",
       "</style>\n",
       "<table border=\"1\" class=\"dataframe\">\n",
       "  <thead>\n",
       "    <tr style=\"text-align: right;\">\n",
       "      <th></th>\n",
       "      <th>length</th>\n",
       "    </tr>\n",
       "    <tr>\n",
       "      <th>method</th>\n",
       "      <th></th>\n",
       "    </tr>\n",
       "  </thead>\n",
       "  <tbody>\n",
       "    <tr>\n",
       "      <td>binned_merged</td>\n",
       "      <td>8185500</td>\n",
       "    </tr>\n",
       "    <tr>\n",
       "      <td>merged_only</td>\n",
       "      <td>7845325</td>\n",
       "    </tr>\n",
       "  </tbody>\n",
       "</table>\n",
       "</div>"
      ],
      "text/plain": [
       "                length\n",
       "method                \n",
       "binned_merged  8185500\n",
       "merged_only    7845325"
      ]
     },
     "execution_count": 15,
     "metadata": {},
     "output_type": "execute_result"
    }
   ],
   "source": [
    "plotdf = pd.concat([plotdf1, plotdf2], sort = False)\n",
    "plotdf.index.name = 'chr'\n",
    "plotdf.reset_index(inplace=True) ### make 'chr' a column instead of row names\n",
    "plotdf.drop(columns=['start','end']).groupby('method').sum()"
   ]
  },
  {
   "cell_type": "code",
   "execution_count": 16,
   "metadata": {},
   "outputs": [
    {
     "data": {
      "image/png": "[encoded data removed]",
      "text/plain": [
       "<Figure size 720x360 with 1 Axes>"
      ]
     },
     "metadata": {
      "needs_background": "light"
     },
     "output_type": "display_data"
    }
   ],
   "source": [
    "fig = plt.figure(figsize = (10, 5))\n",
    " \n",
    "# creating the bar plot\n",
    "sns.barplot(data=plotdf, x='chr', y='length', hue='method')\n",
    "plt.title(\"Total bases called perturbed\")\n",
    "plt.xlabel(\"Chromosome\")\n",
    "plt.xticks(rotation=90)\n",
    "plt.ylabel(\"Nucleotides (bp)\")\n",
    "plt.show()"
   ]
  },
  {
   "cell_type": "markdown",
   "metadata": {},
   "source": [
    "#### Compare percent of chromosome."
   ]
  },
  {
   "cell_type": "code",
   "execution_count": 18,
   "metadata": {},
   "outputs": [
    {
     "data": {
      "text/html": [
       "<div>\n",
       "<style scoped>\n",
       "    .dataframe tbody tr th:only-of-type {\n",
       "        vertical-align: middle;\n",
       "    }\n",
       "\n",
       "    .dataframe tbody tr th {\n",
       "        vertical-align: top;\n",
       "    }\n",
       "\n",
       "    .dataframe thead th {\n",
       "        text-align: right;\n",
       "    }\n",
       "</style>\n",
       "<table border=\"1\" class=\"dataframe\">\n",
       "  <thead>\n",
       "    <tr style=\"text-align: right;\">\n",
       "      <th></th>\n",
       "      <th>chr</th>\n",
       "      <th>size</th>\n",
       "      <th>length</th>\n",
       "      <th>method</th>\n",
       "      <th>percent_chr</th>\n",
       "    </tr>\n",
       "  </thead>\n",
       "  <tbody>\n",
       "    <tr>\n",
       "      <td>0</td>\n",
       "      <td>chr3</td>\n",
       "      <td>198295559</td>\n",
       "      <td>152669</td>\n",
       "      <td>merged_only</td>\n",
       "      <td>0.076991</td>\n",
       "    </tr>\n",
       "    <tr>\n",
       "      <td>1</td>\n",
       "      <td>chr3</td>\n",
       "      <td>198295559</td>\n",
       "      <td>170900</td>\n",
       "      <td>binned_merged</td>\n",
       "      <td>0.086184</td>\n",
       "    </tr>\n",
       "    <tr>\n",
       "      <td>2</td>\n",
       "      <td>chr4</td>\n",
       "      <td>190214555</td>\n",
       "      <td>666587</td>\n",
       "      <td>merged_only</td>\n",
       "      <td>0.350440</td>\n",
       "    </tr>\n",
       "    <tr>\n",
       "      <td>3</td>\n",
       "      <td>chr4</td>\n",
       "      <td>190214555</td>\n",
       "      <td>677300</td>\n",
       "      <td>binned_merged</td>\n",
       "      <td>0.356072</td>\n",
       "    </tr>\n",
       "    <tr>\n",
       "      <td>4</td>\n",
       "      <td>chr5</td>\n",
       "      <td>181538259</td>\n",
       "      <td>1685590</td>\n",
       "      <td>merged_only</td>\n",
       "      <td>0.928504</td>\n",
       "    </tr>\n",
       "  </tbody>\n",
       "</table>\n",
       "</div>"
      ],
      "text/plain": [
       "    chr       size   length         method  percent_chr\n",
       "0  chr3  198295559   152669    merged_only     0.076991\n",
       "1  chr3  198295559   170900  binned_merged     0.086184\n",
       "2  chr4  190214555   666587    merged_only     0.350440\n",
       "3  chr4  190214555   677300  binned_merged     0.356072\n",
       "4  chr5  181538259  1685590    merged_only     0.928504"
      ]
     },
     "execution_count": 18,
     "metadata": {},
     "output_type": "execute_result"
    }
   ],
   "source": [
    "df3 = pd.read_csv('figure1/hg38.chromSizes.noalts.txt', header = None, sep = '\\t')\n",
    "df3.columns = ['chr','size']\n",
    "df3 = df3.merge(plotdf, left_on='chr', right_on='chr').drop(columns=['start','end'])\n",
    "df3['percent_chr'] = df3['length']/df3['size']*100\n",
    "df3.head()"
   ]
  },
  {
   "cell_type": "code",
   "execution_count": 19,
   "metadata": {},
   "outputs": [
    {
     "data": {
      "image/png": "[encoded data removed]",
      "text/plain": [
       "<Figure size 720x360 with 1 Axes>"
      ]
     },
     "metadata": {
      "needs_background": "light"
     },
     "output_type": "display_data"
    }
   ],
   "source": [
    "fig = plt.figure(figsize = (10, 5))\n",
    " \n",
    "# creating the bar plot\n",
    "sns.barplot(data=df3, x='chr', y='percent_chr', hue='method')\n",
    "plt.title(\"Percent of chromosome perturbed\")\n",
    "plt.xlabel(\"Chromosome\")\n",
    "plt.xticks(rotation=90)\n",
    "plt.ylabel(\"Percent of total bases (%)\")\n",
    "plt.show()"
   ]
  },
  {
   "cell_type": "markdown",
   "metadata": {},
   "source": [
    "## Calculate total bases significant\n",
    "\n",
    "1. Using merged features, calculate total bases that were called significant.\n",
    "2. Bin the entire genome, merge bins, then calculate total bases."
   ]
  },
  {
   "cell_type": "markdown",
   "metadata": {},
   "source": [
    "#### 1. Use merged features to calculate total bases significant"
   ]
  },
  {
   "cell_type": "code",
   "execution_count": 20,
   "metadata": {},
   "outputs": [
    {
     "data": {
      "text/html": [
       "<div>\n",
       "<style scoped>\n",
       "    .dataframe tbody tr th:only-of-type {\n",
       "        vertical-align: middle;\n",
       "    }\n",
       "\n",
       "    .dataframe tbody tr th {\n",
       "        vertical-align: top;\n",
       "    }\n",
       "\n",
       "    .dataframe thead th {\n",
       "        text-align: right;\n",
       "    }\n",
       "</style>\n",
       "<table border=\"1\" class=\"dataframe\">\n",
       "  <thead>\n",
       "    <tr style=\"text-align: right;\">\n",
       "      <th></th>\n",
       "      <th>start</th>\n",
       "      <th>end</th>\n",
       "      <th>length</th>\n",
       "      <th>method</th>\n",
       "    </tr>\n",
       "    <tr>\n",
       "      <th>chr</th>\n",
       "      <th></th>\n",
       "      <th></th>\n",
       "      <th></th>\n",
       "      <th></th>\n",
       "    </tr>\n",
       "  </thead>\n",
       "  <tbody>\n",
       "    <tr>\n",
       "      <td>chr11</td>\n",
       "      <td>1027302100</td>\n",
       "      <td>1027354300</td>\n",
       "      <td>52200</td>\n",
       "      <td>merged_only</td>\n",
       "    </tr>\n",
       "    <tr>\n",
       "      <td>chr12</td>\n",
       "      <td>1534368084</td>\n",
       "      <td>1534385704</td>\n",
       "      <td>17620</td>\n",
       "      <td>merged_only</td>\n",
       "    </tr>\n",
       "    <tr>\n",
       "      <td>chr19</td>\n",
       "      <td>1976530664</td>\n",
       "      <td>1976573384</td>\n",
       "      <td>42720</td>\n",
       "      <td>merged_only</td>\n",
       "    </tr>\n",
       "    <tr>\n",
       "      <td>chr3</td>\n",
       "      <td>1802664268</td>\n",
       "      <td>1802672248</td>\n",
       "      <td>7980</td>\n",
       "      <td>merged_only</td>\n",
       "    </tr>\n",
       "    <tr>\n",
       "      <td>chr4</td>\n",
       "      <td>612094851</td>\n",
       "      <td>612120351</td>\n",
       "      <td>25500</td>\n",
       "      <td>merged_only</td>\n",
       "    </tr>\n",
       "  </tbody>\n",
       "</table>\n",
       "</div>"
      ],
      "text/plain": [
       "            start         end  length       method\n",
       "chr                                               \n",
       "chr11  1027302100  1027354300   52200  merged_only\n",
       "chr12  1534368084  1534385704   17620  merged_only\n",
       "chr19  1976530664  1976573384   42720  merged_only\n",
       "chr3   1802664268  1802672248    7980  merged_only\n",
       "chr4    612094851   612120351   25500  merged_only"
      ]
     },
     "execution_count": 20,
     "metadata": {},
     "output_type": "execute_result"
    }
   ],
   "source": [
    "df1 = pd.read_csv('k562meta/elementQuant/combined/k562.elementQuant.combined.hg38.20230415.sorted.merge.bed',\n",
    "                   sep='\\t', header = None)\n",
    "\n",
    "df1.columns = ['chr', 'start', 'end']\n",
    "# df1.head()\n",
    "df1['length'] = df1['end'] - df1['start']\n",
    "plotdf1 = df1.groupby(by=[\"chr\"]).sum()\n",
    "plotdf1['method'] = 'merged_only'\n",
    "plotdf1.head()"
   ]
  },
  {
   "cell_type": "markdown",
   "metadata": {},
   "source": [
    "#### 2. Number of bins/number of bases per chromosome."
   ]
  },
  {
   "cell_type": "code",
   "execution_count": 21,
   "metadata": {},
   "outputs": [
    {
     "data": {
      "text/html": [
       "<div>\n",
       "<style scoped>\n",
       "    .dataframe tbody tr th:only-of-type {\n",
       "        vertical-align: middle;\n",
       "    }\n",
       "\n",
       "    .dataframe tbody tr th {\n",
       "        vertical-align: top;\n",
       "    }\n",
       "\n",
       "    .dataframe thead th {\n",
       "        text-align: right;\n",
       "    }\n",
       "</style>\n",
       "<table border=\"1\" class=\"dataframe\">\n",
       "  <thead>\n",
       "    <tr style=\"text-align: right;\">\n",
       "      <th></th>\n",
       "      <th>length</th>\n",
       "      <th>method</th>\n",
       "    </tr>\n",
       "    <tr>\n",
       "      <th>chr</th>\n",
       "      <th></th>\n",
       "      <th></th>\n",
       "    </tr>\n",
       "  </thead>\n",
       "  <tbody>\n",
       "    <tr>\n",
       "      <td>chr11</td>\n",
       "      <td>54500</td>\n",
       "      <td>binned_merged</td>\n",
       "    </tr>\n",
       "    <tr>\n",
       "      <td>chr12</td>\n",
       "      <td>19900</td>\n",
       "      <td>binned_merged</td>\n",
       "    </tr>\n",
       "    <tr>\n",
       "      <td>chr19</td>\n",
       "      <td>49500</td>\n",
       "      <td>binned_merged</td>\n",
       "    </tr>\n",
       "    <tr>\n",
       "      <td>chr3</td>\n",
       "      <td>9400</td>\n",
       "      <td>binned_merged</td>\n",
       "    </tr>\n",
       "    <tr>\n",
       "      <td>chr4</td>\n",
       "      <td>26600</td>\n",
       "      <td>binned_merged</td>\n",
       "    </tr>\n",
       "  </tbody>\n",
       "</table>\n",
       "</div>"
      ],
      "text/plain": [
       "       length         method\n",
       "chr                         \n",
       "chr11   54500  binned_merged\n",
       "chr12   19900  binned_merged\n",
       "chr19   49500  binned_merged\n",
       "chr3     9400  binned_merged\n",
       "chr4    26600  binned_merged"
      ]
     },
     "execution_count": 21,
     "metadata": {},
     "output_type": "execute_result"
    }
   ],
   "source": [
    "df2 = pd.read_csv('k562meta/elementQuant/combined/binnedgenome.int.k562.elementQuant.20230415.merge.bed',\n",
    "                   sep='\\t', header = None)\n",
    "\n",
    "df2.columns = ['chr', 'start', 'end']\n",
    "# df2.head()\n",
    "df2['length'] = df2['end'] - df2['start']\n",
    "df2 = df2.drop(columns=['start','end'])\n",
    "plotdf2 = df2.groupby(by=[\"chr\"]).sum()\n",
    "plotdf2['method'] = 'binned_merged'\n",
    "plotdf2.head()"
   ]
  },
  {
   "cell_type": "code",
   "execution_count": 22,
   "metadata": {},
   "outputs": [
    {
     "data": {
      "text/html": [
       "<div>\n",
       "<style scoped>\n",
       "    .dataframe tbody tr th:only-of-type {\n",
       "        vertical-align: middle;\n",
       "    }\n",
       "\n",
       "    .dataframe tbody tr th {\n",
       "        vertical-align: top;\n",
       "    }\n",
       "\n",
       "    .dataframe thead th {\n",
       "        text-align: right;\n",
       "    }\n",
       "</style>\n",
       "<table border=\"1\" class=\"dataframe\">\n",
       "  <thead>\n",
       "    <tr style=\"text-align: right;\">\n",
       "      <th></th>\n",
       "      <th>length</th>\n",
       "    </tr>\n",
       "    <tr>\n",
       "      <th>method</th>\n",
       "      <th></th>\n",
       "    </tr>\n",
       "  </thead>\n",
       "  <tbody>\n",
       "    <tr>\n",
       "      <td>binned_merged</td>\n",
       "      <td>230600</td>\n",
       "    </tr>\n",
       "    <tr>\n",
       "      <td>merged_only</td>\n",
       "      <td>210017</td>\n",
       "    </tr>\n",
       "  </tbody>\n",
       "</table>\n",
       "</div>"
      ],
      "text/plain": [
       "               length\n",
       "method               \n",
       "binned_merged  230600\n",
       "merged_only    210017"
      ]
     },
     "execution_count": 22,
     "metadata": {},
     "output_type": "execute_result"
    }
   ],
   "source": [
    "plotdf = pd.concat([plotdf1, plotdf2], sort = False)\n",
    "plotdf.index.name = 'chr'\n",
    "plotdf.reset_index(inplace=True) ### make 'chr' a column instead of row names\n",
    "plotdf.drop(columns=['start','end']).groupby('method').sum()"
   ]
  },
  {
   "cell_type": "code",
   "execution_count": 23,
   "metadata": {},
   "outputs": [
    {
     "data": {
      "image/png": "[encoded data removed]",
      "text/plain": [
       "<Figure size 720x360 with 1 Axes>"
      ]
     },
     "metadata": {
      "needs_background": "light"
     },
     "output_type": "display_data"
    }
   ],
   "source": [
    "fig = plt.figure(figsize = (10, 5))\n",
    " \n",
    "# creating the bar plot\n",
    "sns.barplot(data=plotdf, x='chr', y='length', hue='method')\n",
    "plt.title(\"Total bases called significant\")\n",
    "plt.xlabel(\"Chromosome\")\n",
    "plt.xticks(rotation=90)\n",
    "plt.ylabel(\"Nucleotides (bp)\")\n",
    "plt.show()"
   ]
  },
  {
   "cell_type": "markdown",
   "metadata": {},
   "source": [
    "#### Compare percent of chromosome."
   ]
  },
  {
   "cell_type": "code",
   "execution_count": 24,
   "metadata": {},
   "outputs": [],
   "source": [
    "# %%bash\n",
    "# cd figure1/\n",
    "# cp /data/gersbachlab/lrb53/encodeCrisprWG/hg38.chromSizes.noalts.txt ."
   ]
  },
  {
   "cell_type": "code",
   "execution_count": 25,
   "metadata": {},
   "outputs": [
    {
     "data": {
      "text/html": [
       "<div>\n",
       "<style scoped>\n",
       "    .dataframe tbody tr th:only-of-type {\n",
       "        vertical-align: middle;\n",
       "    }\n",
       "\n",
       "    .dataframe tbody tr th {\n",
       "        vertical-align: top;\n",
       "    }\n",
       "\n",
       "    .dataframe thead th {\n",
       "        text-align: right;\n",
       "    }\n",
       "</style>\n",
       "<table border=\"1\" class=\"dataframe\">\n",
       "  <thead>\n",
       "    <tr style=\"text-align: right;\">\n",
       "      <th></th>\n",
       "      <th>chr</th>\n",
       "      <th>size</th>\n",
       "      <th>length</th>\n",
       "      <th>method</th>\n",
       "      <th>percent_chr</th>\n",
       "    </tr>\n",
       "  </thead>\n",
       "  <tbody>\n",
       "    <tr>\n",
       "      <td>0</td>\n",
       "      <td>chr3</td>\n",
       "      <td>198295559</td>\n",
       "      <td>7980</td>\n",
       "      <td>merged_only</td>\n",
       "      <td>0.004024</td>\n",
       "    </tr>\n",
       "    <tr>\n",
       "      <td>1</td>\n",
       "      <td>chr3</td>\n",
       "      <td>198295559</td>\n",
       "      <td>9400</td>\n",
       "      <td>binned_merged</td>\n",
       "      <td>0.004740</td>\n",
       "    </tr>\n",
       "    <tr>\n",
       "      <td>2</td>\n",
       "      <td>chr4</td>\n",
       "      <td>190214555</td>\n",
       "      <td>25500</td>\n",
       "      <td>merged_only</td>\n",
       "      <td>0.013406</td>\n",
       "    </tr>\n",
       "    <tr>\n",
       "      <td>3</td>\n",
       "      <td>chr4</td>\n",
       "      <td>190214555</td>\n",
       "      <td>26600</td>\n",
       "      <td>binned_merged</td>\n",
       "      <td>0.013984</td>\n",
       "    </tr>\n",
       "    <tr>\n",
       "      <td>4</td>\n",
       "      <td>chr5</td>\n",
       "      <td>181538259</td>\n",
       "      <td>4800</td>\n",
       "      <td>merged_only</td>\n",
       "      <td>0.002644</td>\n",
       "    </tr>\n",
       "  </tbody>\n",
       "</table>\n",
       "</div>"
      ],
      "text/plain": [
       "    chr       size  length         method  percent_chr\n",
       "0  chr3  198295559    7980    merged_only     0.004024\n",
       "1  chr3  198295559    9400  binned_merged     0.004740\n",
       "2  chr4  190214555   25500    merged_only     0.013406\n",
       "3  chr4  190214555   26600  binned_merged     0.013984\n",
       "4  chr5  181538259    4800    merged_only     0.002644"
      ]
     },
     "execution_count": 25,
     "metadata": {},
     "output_type": "execute_result"
    }
   ],
   "source": [
    "df3 = pd.read_csv('figure1/hg38.chromSizes.noalts.txt', header = None, sep = '\\t')\n",
    "df3.columns = ['chr','size']\n",
    "df3 = df3.merge(plotdf, left_on='chr', right_on='chr').drop(columns=['start','end'])\n",
    "df3['percent_chr'] = df3['length']/df3['size']*100\n",
    "df3.head()"
   ]
  },
  {
   "cell_type": "code",
   "execution_count": 26,
   "metadata": {},
   "outputs": [
    {
     "data": {
      "image/png": "[encoded data removed]",
      "text/plain": [
       "<Figure size 720x360 with 1 Axes>"
      ]
     },
     "metadata": {
      "needs_background": "light"
     },
     "output_type": "display_data"
    }
   ],
   "source": [
    "fig = plt.figure(figsize = (10, 5))\n",
    " \n",
    "# creating the bar plot\n",
    "sns.barplot(data=df3, x='chr', y='percent_chr', hue='method')\n",
    "plt.title(\"Percent of chromosome significant\")\n",
    "plt.xlabel(\"Chromosome\")\n",
    "plt.xticks(rotation=90)\n",
    "plt.ylabel(\"Percent of total bases (%)\")\n",
    "plt.show()"
   ]
  },
  {
   "cell_type": "markdown",
   "metadata": {},
   "source": [
    "#### Calculate percent of genome significant."
   ]
  },
  {
   "cell_type": "markdown",
   "metadata": {},
   "source": [
    "Note: the total percent of the genome will NOT equal the sum of the percent of each chromosome. <br>\n",
    "Ex. (1/a) + (1/b) != 1/(a+b)"
   ]
  },
  {
   "cell_type": "code",
   "execution_count": 27,
   "metadata": {},
   "outputs": [
    {
     "data": {
      "text/plain": [
       "1369013430"
      ]
     },
     "execution_count": 27,
     "metadata": {},
     "output_type": "execute_result"
    }
   ],
   "source": [
    "genomesize = df3['size'].drop_duplicates().sum() ### in the df, each chromosome has two rows (binned and merged)\n",
    "genomesize"
   ]
  },
  {
   "cell_type": "code",
   "execution_count": 28,
   "metadata": {},
   "outputs": [
    {
     "data": {
      "text/plain": [
       "230600"
      ]
     },
     "execution_count": 28,
     "metadata": {},
     "output_type": "execute_result"
    }
   ],
   "source": [
    "df3[df3['method'] == 'binned_merged']['length'].sum()"
   ]
  },
  {
   "cell_type": "code",
   "execution_count": 29,
   "metadata": {},
   "outputs": [
    {
     "data": {
      "text/plain": [
       "0.00016844246736133188"
      ]
     },
     "execution_count": 29,
     "metadata": {},
     "output_type": "execute_result"
    }
   ],
   "source": [
    "df3[df3['method'] == 'binned_merged']['length'].sum()/genomesize"
   ]
  },
  {
   "cell_type": "code",
   "execution_count": 30,
   "metadata": {},
   "outputs": [
    {
     "data": {
      "text/plain": [
       "210017"
      ]
     },
     "execution_count": 30,
     "metadata": {},
     "output_type": "execute_result"
    }
   ],
   "source": [
    "df3[df3['method'] == 'merged_only']['length'].sum()"
   ]
  },
  {
   "cell_type": "code",
   "execution_count": 31,
   "metadata": {},
   "outputs": [
    {
     "data": {
      "text/plain": [
       "0.000153407552765936"
      ]
     },
     "execution_count": 31,
     "metadata": {},
     "output_type": "execute_result"
    }
   ],
   "source": [
    "df3[df3['method'] == 'merged_only']['length'].sum()/genomesize"
   ]
  },
  {
   "cell_type": "code",
   "execution_count": 32,
   "metadata": {},
   "outputs": [
    {
     "data": {
      "text/plain": [
       "0.270055607077306"
      ]
     },
     "execution_count": 32,
     "metadata": {},
     "output_type": "execute_result"
    }
   ],
   "source": [
    "### percent of genome perturbed\n",
    "8185500/3031042417*100"
   ]
  },
  {
   "cell_type": "code",
   "execution_count": 33,
   "metadata": {},
   "outputs": [
    {
     "data": {
      "text/plain": [
       "2.817176714922729"
      ]
     },
     "execution_count": 33,
     "metadata": {},
     "output_type": "execute_result"
    }
   ],
   "source": [
    "### percent of perturbed regions called significant (base pairs; binned_merged)\n",
    "(230600/8185500)*100"
   ]
  },
  {
   "cell_type": "code",
   "execution_count": null,
   "metadata": {},
   "outputs": [],
   "source": []
  },
  {
   "cell_type": "code",
   "execution_count": null,
   "metadata": {},
   "outputs": [],
   "source": []
  },
  {
   "cell_type": "code",
   "execution_count": null,
   "metadata": {},
   "outputs": [],
   "source": []
  },
  {
   "cell_type": "code",
   "execution_count": null,
   "metadata": {},
   "outputs": [],
   "source": []
  },
  {
   "cell_type": "code",
   "execution_count": null,
   "metadata": {},
   "outputs": [],
   "source": []
  }
 ],
 "metadata": {
  "kernelspec": {
   "display_name": "Python 3",
   "language": "python",
   "name": "python3"
  },
  "language_info": {
   "codemirror_mode": {
    "name": "ipython",
    "version": 3
   },
   "file_extension": ".py",
   "mimetype": "text/x-python",
   "name": "python",
   "nbconvert_exporter": "python",
   "pygments_lexer": "ipython3",
   "version": "3.6.7"
  }
 },
 "nbformat": 4,
 "nbformat_minor": 2
}
