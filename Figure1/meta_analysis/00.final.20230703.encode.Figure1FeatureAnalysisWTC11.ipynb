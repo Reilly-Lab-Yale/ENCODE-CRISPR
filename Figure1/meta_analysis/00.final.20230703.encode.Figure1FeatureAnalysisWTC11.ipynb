{
 "cells": [
  {
   "cell_type": "markdown",
   "metadata": {},
   "source": [
    "### New analyses related to Figure 1"
   ]
  },
  {
   "cell_type": "markdown",
   "metadata": {},
   "source": [
    "For cell types other than K562, what percent of CREs overlap accessible chromatin regions and/or H3K27ac peaks?\n",
    " - WTC11 iPSCs: 6 loci; ATAC \n",
    " - Jurkat: PPIF locus; DNase \n",
    " - GM12878: PPIF locus; DNase, ATAC, H3K27ac\n",
    " - HepG2: MYC and MYB; DNase, ATAC, H3K27ac\n",
    " - A549: MYC and MYB; DNase, ATAC, \n",
    " - HCT116: MYC and MYB; DNase, ATAC, H3K27ac\n",
    " - PC-3: MYC and MYB; DNase, ATAC, H3K27ac\n",
    " - NCI-H460: MYC and MYB; DNase\n",
    " - MCF-7: MYC and MYB; DNase, ATAC, H3K27ac\n",
    " <br> <br>\n",
    " K562 is also in the MYC and MYB screen but that cell type is covered by the larger meta analysis."
   ]
  },
  {
   "cell_type": "markdown",
   "metadata": {},
   "source": [
    "### Make new directories to store annotations and CREs from each experiment"
   ]
  },
  {
   "cell_type": "code",
   "execution_count": 3,
   "metadata": {},
   "outputs": [],
   "source": [
    "# %%bash\n",
    "# cd /data/gersbachlab/lrb53/encodeCrisprWG/finalversion/figure1\n",
    "\n",
    "# mkdir -p othercelltypes/wtc11ipsc/cres"
   ]
  },
  {
   "cell_type": "code",
   "execution_count": 4,
   "metadata": {},
   "outputs": [],
   "source": [
    "# %%bash\n",
    "# cd /data/gersbachlab/lrb53/encodeCrisprWG/finalversion/figure1\n",
    "\n",
    "# mkdir -p othercelltypes/wtc11ipsc/annotations"
   ]
  },
  {
   "cell_type": "markdown",
   "metadata": {},
   "source": [
    "### Download annotations"
   ]
  },
  {
   "cell_type": "markdown",
   "metadata": {},
   "source": [
    "#### WTC11 iPSC"
   ]
  },
  {
   "cell_type": "code",
   "execution_count": null,
   "metadata": {},
   "outputs": [],
   "source": [
    "# %%bash\n",
    "\n",
    "# cd /data/gersbachlab/lrb53/encodeCrisprWG/finalversion/figure1/othercelltypes/wtc11ipsc/annotations\n",
    "# wget -O wtc11.atac.peaks.hg38.bed.gz https://www.encodeproject.org/files/ENCFF321VDH/@@download/ENCFF321VDH.bed.gz\n",
    "# wget -O wtc11.h3k27ac.peaks.hg38.bed.gz https://www.encodeproject.org/files/ENCFF655PNM/@@download/ENCFF655PNM.bed.gz\n"
   ]
  },
  {
   "cell_type": "markdown",
   "metadata": {},
   "source": [
    "Note: For WTC11 iPSC, only have ATAC and H3K27ac. Need to use DNase and H3K27ac from other iPS lines --> use iPS DF6.9 and iPS DF19.11 (reference epigenomes), make a union set of peak calls to combine the two lines."
   ]
  },
  {
   "cell_type": "code",
   "execution_count": null,
   "metadata": {},
   "outputs": [],
   "source": [
    "# %%bash\n",
    "\n",
    "# cd /data/gersbachlab/lrb53/encodeCrisprWG/finalversion/figure1/othercelltypes/wtc11ipsc/annotations\n",
    "# wget -O ipsdf69.dnase.peaks.hg38.bed.gz https://www.encodeproject.org/files/ENCFF668UYX/@@download/ENCFF668UYX.bed.gz\n",
    "# wget -O ipsdf1911.dnase.peaks.hg38.bed.gz https://www.encodeproject.org/files/ENCFF172GXY/@@download/ENCFF172GXY.bed.gz\n"
   ]
  },
  {
   "cell_type": "code",
   "execution_count": null,
   "metadata": {},
   "outputs": [],
   "source": [
    "# %%bash\n",
    "\n",
    "# cd /data/gersbachlab/lrb53/encodeCrisprWG/finalversion/figure1/othercelltypes/wtc11ipsc/annotations\n",
    "# wget -O ipsdf69.h3k4me1.peaks.hg38.bed.gz https://www.encodeproject.org/files/ENCFF211VYM/@@download/ENCFF211VYM.bed.gz\n",
    "# wget -O ipsdf69.h3k4me3.peaks.hg38.bed.gz https://www.encodeproject.org/files/ENCFF150NDM/@@download/ENCFF150NDM.bed.gz\n",
    "# wget -O ipsdf69.h3k9me3.peaks.hg38.bed.gz https://www.encodeproject.org/files/ENCFF855NNR/@@download/ENCFF855NNR.bed.gz\n",
    "# wget -O ipsdf69.h3k27me3.peaks.hg38.bed.gz https://www.encodeproject.org/files/ENCFF292KOH/@@download/ENCFF292KOH.bed.gz\n",
    "# wget -O ipsdf69.h3k36me3.peaks.hg38.bed.gz https://www.encodeproject.org/files/ENCFF466LNY/@@download/ENCFF466LNY.bed.gz"
   ]
  },
  {
   "cell_type": "code",
   "execution_count": null,
   "metadata": {},
   "outputs": [],
   "source": [
    "# %%bash\n",
    "\n",
    "# cd /data/gersbachlab/lrb53/encodeCrisprWG/finalversion/figure1/othercelltypes/wtc11ipsc/annotations\n",
    "# wget -O ipsdf1911.h3k4me1.peaks.hg38.bed.gz https://www.encodeproject.org/files/ENCFF314LSR/@@download/ENCFF314LSR.bed.gz\n",
    "# wget -O ipsdf1911.h3k4me3.peaks.hg38.bed.gz https://www.encodeproject.org/files/ENCFF450VVJ/@@download/ENCFF450VVJ.bed.gz\n",
    "# wget -O ipsdf1911.h3k9me3.peaks.hg38.bed.gz https://www.encodeproject.org/files/ENCFF839TYU/@@download/ENCFF839TYU.bed.gz\n",
    "# wget -O ipsdf1911.h3k27me3.peaks.hg38.bed.gz https://www.encodeproject.org/files/ENCFF844FEB/@@download/ENCFF844FEB.bed.gz\n",
    "# wget -O ipsdf1911.h3k36me3.peaks.hg38.bed.gz https://www.encodeproject.org/files/ENCFF855HXT/@@download/ENCFF855HXT.bed.gz"
   ]
  },
  {
   "cell_type": "markdown",
   "metadata": {},
   "source": [
    "### Download CREs from each experiment"
   ]
  },
  {
   "cell_type": "markdown",
   "metadata": {},
   "source": [
    "#### WTC11 iPSC"
   ]
  },
  {
   "cell_type": "code",
   "execution_count": null,
   "metadata": {},
   "outputs": [],
   "source": [
    "%%bash\n",
    "\n",
    "cd /data/gersbachlab/lrb53/encodeCrisprWG/finalversion/figure1/othercelltypes/wtc11ipsc/cres\n",
    "\n",
    "# wget -O wtc11ipsc.sixloci.tio160.cres.hg38.tsv https://www.encodeproject.org/files/ENCFF646RAN/@@download/ENCFF646RAN.tsv\n",
    "# wget -O wtc11ipsc.sixloci.tio240.cres.hg38.tsv https://www.encodeproject.org/files/ENCFF510UCV/@@download/ENCFF510UCV.tsv\n",
    "# wget -O wtc11ipsc.sixloci.cas9tio160.cres.hg38.tsv https://www.encodeproject.org/files/ENCFF236HPX/@@download/ENCFF236HPX.tsv"
   ]
  },
  {
   "cell_type": "markdown",
   "metadata": {},
   "source": [
    "### Switch to `R`"
   ]
  },
  {
   "cell_type": "markdown",
   "metadata": {},
   "source": [
    "### Load packages"
   ]
  },
  {
   "cell_type": "code",
   "execution_count": 4,
   "metadata": {},
   "outputs": [],
   "source": [
    "suppressPackageStartupMessages(library(tidyverse))"
   ]
  },
  {
   "cell_type": "markdown",
   "metadata": {},
   "source": [
    "### Generate .bed file for CREs \n",
    "\n",
    "Note for experiments with hg19, need to lift coordinates to hg38."
   ]
  },
  {
   "cell_type": "markdown",
   "metadata": {},
   "source": [
    "#### WTC11 iPSC"
   ]
  },
  {
   "cell_type": "code",
   "execution_count": 5,
   "metadata": {},
   "outputs": [
    {
     "data": {
      "text/html": [
       "<table class=\"dataframe\">\n",
       "<caption>A tibble: 1 × 25</caption>\n",
       "<thead>\n",
       "\t<tr><th scope=col>chrom</th><th scope=col>chromStart</th><th scope=col>chromEnd</th><th scope=col>name</th><th scope=col>EffectSize</th><th scope=col>strandPerturbationTarget</th><th scope=col>PerturbationTargetID</th><th scope=col>chrTSS</th><th scope=col>startTSS</th><th scope=col>endTSS</th><th scope=col>⋯</th><th scope=col>guideSpacerSeq</th><th scope=col>guideSeq</th><th scope=col>Significant</th><th scope=col>pValue</th><th scope=col>pValueAdjusted</th><th scope=col>PowerAtEffectSize10</th><th scope=col>PowerAtEffectSize25</th><th scope=col>PowerAtEffectSize50</th><th scope=col>ValidConnection</th><th scope=col>Notes</th></tr>\n",
       "\t<tr><th scope=col>&lt;chr&gt;</th><th scope=col>&lt;dbl&gt;</th><th scope=col>&lt;dbl&gt;</th><th scope=col>&lt;chr&gt;</th><th scope=col>&lt;dbl&gt;</th><th scope=col>&lt;chr&gt;</th><th scope=col>&lt;chr&gt;</th><th scope=col>&lt;lgl&gt;</th><th scope=col>&lt;lgl&gt;</th><th scope=col>&lt;lgl&gt;</th><th scope=col>⋯</th><th scope=col>&lt;lgl&gt;</th><th scope=col>&lt;lgl&gt;</th><th scope=col>&lt;lgl&gt;</th><th scope=col>&lt;lgl&gt;</th><th scope=col>&lt;lgl&gt;</th><th scope=col>&lt;lgl&gt;</th><th scope=col>&lt;lgl&gt;</th><th scope=col>&lt;lgl&gt;</th><th scope=col>&lt;lgl&gt;</th><th scope=col>&lt;lgl&gt;</th></tr>\n",
       "</thead>\n",
       "<tbody>\n",
       "\t<tr><td>chr2</td><td>46464581</td><td>46464767</td><td>MSH2/MSH6|chr2:46464581-46464767:.</td><td>3.046</td><td>.</td><td>chr2:46464581-46464767:.</td><td>NA</td><td>NA</td><td>NA</td><td>⋯</td><td>NA</td><td>NA</td><td>TRUE</td><td>NA</td><td>NA</td><td>NA</td><td>NA</td><td>NA</td><td>NA</td><td>NA</td></tr>\n",
       "</tbody>\n",
       "</table>\n"
      ],
      "text/latex": [
       "A tibble: 1 × 25\n",
       "\\begin{tabular}{lllllllllllllllllllll}\n",
       " chrom & chromStart & chromEnd & name & EffectSize & strandPerturbationTarget & PerturbationTargetID & chrTSS & startTSS & endTSS & ⋯ & guideSpacerSeq & guideSeq & Significant & pValue & pValueAdjusted & PowerAtEffectSize10 & PowerAtEffectSize25 & PowerAtEffectSize50 & ValidConnection & Notes\\\\\n",
       " <chr> & <dbl> & <dbl> & <chr> & <dbl> & <chr> & <chr> & <lgl> & <lgl> & <lgl> & ⋯ & <lgl> & <lgl> & <lgl> & <lgl> & <lgl> & <lgl> & <lgl> & <lgl> & <lgl> & <lgl>\\\\\n",
       "\\hline\n",
       "\t chr2 & 46464581 & 46464767 & MSH2/MSH6\\textbar{}chr2:46464581-46464767:. & 3.046 & . & chr2:46464581-46464767:. & NA & NA & NA & ⋯ & NA & NA & TRUE & NA & NA & NA & NA & NA & NA & NA\\\\\n",
       "\\end{tabular}\n"
      ],
      "text/markdown": [
       "\n",
       "A tibble: 1 × 25\n",
       "\n",
       "| chrom &lt;chr&gt; | chromStart &lt;dbl&gt; | chromEnd &lt;dbl&gt; | name &lt;chr&gt; | EffectSize &lt;dbl&gt; | strandPerturbationTarget &lt;chr&gt; | PerturbationTargetID &lt;chr&gt; | chrTSS &lt;lgl&gt; | startTSS &lt;lgl&gt; | endTSS &lt;lgl&gt; | ⋯ ⋯ | guideSpacerSeq &lt;lgl&gt; | guideSeq &lt;lgl&gt; | Significant &lt;lgl&gt; | pValue &lt;lgl&gt; | pValueAdjusted &lt;lgl&gt; | PowerAtEffectSize10 &lt;lgl&gt; | PowerAtEffectSize25 &lt;lgl&gt; | PowerAtEffectSize50 &lt;lgl&gt; | ValidConnection &lt;lgl&gt; | Notes &lt;lgl&gt; |\n",
       "|---|---|---|---|---|---|---|---|---|---|---|---|---|---|---|---|---|---|---|---|---|\n",
       "| chr2 | 46464581 | 46464767 | MSH2/MSH6|chr2:46464581-46464767:. | 3.046 | . | chr2:46464581-46464767:. | NA | NA | NA | ⋯ | NA | NA | TRUE | NA | NA | NA | NA | NA | NA | NA |\n",
       "\n"
      ],
      "text/plain": [
       "  chrom chromStart chromEnd name                               EffectSize\n",
       "1 chr2  46464581   46464767 MSH2/MSH6|chr2:46464581-46464767:. 3.046     \n",
       "  strandPerturbationTarget PerturbationTargetID     chrTSS startTSS endTSS ⋯\n",
       "1 .                        chr2:46464581-46464767:. NA     NA       NA     ⋯\n",
       "  guideSpacerSeq guideSeq Significant pValue pValueAdjusted PowerAtEffectSize10\n",
       "1 NA             NA       TRUE        NA     NA             NA                 \n",
       "  PowerAtEffectSize25 PowerAtEffectSize50 ValidConnection Notes\n",
       "1 NA                  NA                  NA              NA   "
      ]
     },
     "metadata": {},
     "output_type": "display_data"
    },
    {
     "data": {
      "text/html": [
       "<style>\n",
       ".list-inline {list-style: none; margin:0; padding: 0}\n",
       ".list-inline>li {display: inline-block}\n",
       ".list-inline>li:not(:last-child)::after {content: \"\\00b7\"; padding: 0 .5ex}\n",
       "</style>\n",
       "<ol class=list-inline><li>62</li><li>25</li></ol>\n"
      ],
      "text/latex": [
       "\\begin{enumerate*}\n",
       "\\item 62\n",
       "\\item 25\n",
       "\\end{enumerate*}\n"
      ],
      "text/markdown": [
       "1. 62\n",
       "2. 25\n",
       "\n",
       "\n"
      ],
      "text/plain": [
       "[1] 62 25"
      ]
     },
     "metadata": {},
     "output_type": "display_data"
    }
   ],
   "source": [
    "cres1 <- read_tsv(\"/data/gersbachlab/lrb53/encodeCrisprWG/finalversion/figure1/othercelltypes/wtc11ipsc/cres/wtc11ipsc.sixloci.tio160.cres.hg38.tsv\",\n",
    "                  show_col_types = FALSE)\n",
    "\n",
    "head(cres1, n=1)\n",
    "dim(cres1)"
   ]
  },
  {
   "cell_type": "code",
   "execution_count": 6,
   "metadata": {},
   "outputs": [
    {
     "data": {
      "text/html": [
       "<table class=\"dataframe\">\n",
       "<caption>A tibble: 1 × 25</caption>\n",
       "<thead>\n",
       "\t<tr><th scope=col>chrom</th><th scope=col>chromStart</th><th scope=col>chromEnd</th><th scope=col>name</th><th scope=col>EffectSize</th><th scope=col>strandPerturbationTarget</th><th scope=col>PerturbationTargetID</th><th scope=col>chrTSS</th><th scope=col>startTSS</th><th scope=col>endTSS</th><th scope=col>⋯</th><th scope=col>guideSpacerSeq</th><th scope=col>guideSeq</th><th scope=col>Significant</th><th scope=col>pValue</th><th scope=col>pValueAdjusted</th><th scope=col>PowerAtEffectSize10</th><th scope=col>PowerAtEffectSize25</th><th scope=col>PowerAtEffectSize50</th><th scope=col>ValidConnection</th><th scope=col>Notes</th></tr>\n",
       "\t<tr><th scope=col>&lt;chr&gt;</th><th scope=col>&lt;dbl&gt;</th><th scope=col>&lt;dbl&gt;</th><th scope=col>&lt;chr&gt;</th><th scope=col>&lt;dbl&gt;</th><th scope=col>&lt;chr&gt;</th><th scope=col>&lt;chr&gt;</th><th scope=col>&lt;lgl&gt;</th><th scope=col>&lt;lgl&gt;</th><th scope=col>&lt;lgl&gt;</th><th scope=col>⋯</th><th scope=col>&lt;lgl&gt;</th><th scope=col>&lt;lgl&gt;</th><th scope=col>&lt;lgl&gt;</th><th scope=col>&lt;lgl&gt;</th><th scope=col>&lt;lgl&gt;</th><th scope=col>&lt;lgl&gt;</th><th scope=col>&lt;lgl&gt;</th><th scope=col>&lt;lgl&gt;</th><th scope=col>&lt;lgl&gt;</th><th scope=col>&lt;lgl&gt;</th></tr>\n",
       "</thead>\n",
       "<tbody>\n",
       "\t<tr><td>chr2</td><td>46616497</td><td>46617342</td><td>MSH2/MSH6|chr2:46616497-46617342:.</td><td>3.544</td><td>.</td><td>chr2:46616497-46617342:.</td><td>NA</td><td>NA</td><td>NA</td><td>⋯</td><td>NA</td><td>NA</td><td>TRUE</td><td>NA</td><td>NA</td><td>NA</td><td>NA</td><td>NA</td><td>NA</td><td>NA</td></tr>\n",
       "</tbody>\n",
       "</table>\n"
      ],
      "text/latex": [
       "A tibble: 1 × 25\n",
       "\\begin{tabular}{lllllllllllllllllllll}\n",
       " chrom & chromStart & chromEnd & name & EffectSize & strandPerturbationTarget & PerturbationTargetID & chrTSS & startTSS & endTSS & ⋯ & guideSpacerSeq & guideSeq & Significant & pValue & pValueAdjusted & PowerAtEffectSize10 & PowerAtEffectSize25 & PowerAtEffectSize50 & ValidConnection & Notes\\\\\n",
       " <chr> & <dbl> & <dbl> & <chr> & <dbl> & <chr> & <chr> & <lgl> & <lgl> & <lgl> & ⋯ & <lgl> & <lgl> & <lgl> & <lgl> & <lgl> & <lgl> & <lgl> & <lgl> & <lgl> & <lgl>\\\\\n",
       "\\hline\n",
       "\t chr2 & 46616497 & 46617342 & MSH2/MSH6\\textbar{}chr2:46616497-46617342:. & 3.544 & . & chr2:46616497-46617342:. & NA & NA & NA & ⋯ & NA & NA & TRUE & NA & NA & NA & NA & NA & NA & NA\\\\\n",
       "\\end{tabular}\n"
      ],
      "text/markdown": [
       "\n",
       "A tibble: 1 × 25\n",
       "\n",
       "| chrom &lt;chr&gt; | chromStart &lt;dbl&gt; | chromEnd &lt;dbl&gt; | name &lt;chr&gt; | EffectSize &lt;dbl&gt; | strandPerturbationTarget &lt;chr&gt; | PerturbationTargetID &lt;chr&gt; | chrTSS &lt;lgl&gt; | startTSS &lt;lgl&gt; | endTSS &lt;lgl&gt; | ⋯ ⋯ | guideSpacerSeq &lt;lgl&gt; | guideSeq &lt;lgl&gt; | Significant &lt;lgl&gt; | pValue &lt;lgl&gt; | pValueAdjusted &lt;lgl&gt; | PowerAtEffectSize10 &lt;lgl&gt; | PowerAtEffectSize25 &lt;lgl&gt; | PowerAtEffectSize50 &lt;lgl&gt; | ValidConnection &lt;lgl&gt; | Notes &lt;lgl&gt; |\n",
       "|---|---|---|---|---|---|---|---|---|---|---|---|---|---|---|---|---|---|---|---|---|\n",
       "| chr2 | 46616497 | 46617342 | MSH2/MSH6|chr2:46616497-46617342:. | 3.544 | . | chr2:46616497-46617342:. | NA | NA | NA | ⋯ | NA | NA | TRUE | NA | NA | NA | NA | NA | NA | NA |\n",
       "\n"
      ],
      "text/plain": [
       "  chrom chromStart chromEnd name                               EffectSize\n",
       "1 chr2  46616497   46617342 MSH2/MSH6|chr2:46616497-46617342:. 3.544     \n",
       "  strandPerturbationTarget PerturbationTargetID     chrTSS startTSS endTSS ⋯\n",
       "1 .                        chr2:46616497-46617342:. NA     NA       NA     ⋯\n",
       "  guideSpacerSeq guideSeq Significant pValue pValueAdjusted PowerAtEffectSize10\n",
       "1 NA             NA       TRUE        NA     NA             NA                 \n",
       "  PowerAtEffectSize25 PowerAtEffectSize50 ValidConnection Notes\n",
       "1 NA                  NA                  NA              NA   "
      ]
     },
     "metadata": {},
     "output_type": "display_data"
    },
    {
     "data": {
      "text/html": [
       "<style>\n",
       ".list-inline {list-style: none; margin:0; padding: 0}\n",
       ".list-inline>li {display: inline-block}\n",
       ".list-inline>li:not(:last-child)::after {content: \"\\00b7\"; padding: 0 .5ex}\n",
       "</style>\n",
       "<ol class=list-inline><li>33</li><li>25</li></ol>\n"
      ],
      "text/latex": [
       "\\begin{enumerate*}\n",
       "\\item 33\n",
       "\\item 25\n",
       "\\end{enumerate*}\n"
      ],
      "text/markdown": [
       "1. 33\n",
       "2. 25\n",
       "\n",
       "\n"
      ],
      "text/plain": [
       "[1] 33 25"
      ]
     },
     "metadata": {},
     "output_type": "display_data"
    }
   ],
   "source": [
    "cres2 <- read_tsv(\"/data/gersbachlab/lrb53/encodeCrisprWG/finalversion/figure1/othercelltypes/wtc11ipsc/cres/wtc11ipsc.sixloci.tio240.cres.hg38.tsv\",\n",
    "                  show_col_types = FALSE)\n",
    "\n",
    "head(cres2, n=1)\n",
    "dim(cres2)"
   ]
  },
  {
   "cell_type": "code",
   "execution_count": 7,
   "metadata": {},
   "outputs": [
    {
     "data": {
      "text/html": [
       "32"
      ],
      "text/latex": [
       "32"
      ],
      "text/markdown": [
       "32"
      ],
      "text/plain": [
       "[1] 32"
      ]
     },
     "metadata": {},
     "output_type": "display_data"
    },
    {
     "data": {
      "text/html": [
       "30"
      ],
      "text/latex": [
       "30"
      ],
      "text/markdown": [
       "30"
      ],
      "text/plain": [
       "[1] 30"
      ]
     },
     "metadata": {},
     "output_type": "display_data"
    },
    {
     "data": {
      "text/html": [
       "1"
      ],
      "text/latex": [
       "1"
      ],
      "text/markdown": [
       "1"
      ],
      "text/plain": [
       "[1] 1"
      ]
     },
     "metadata": {},
     "output_type": "display_data"
    }
   ],
   "source": [
    "length(intersect(cres1 %>% select(name) %>% distinct() %>% pull(), cres2 %>% select(name) %>% distinct() %>% pull()))\n",
    "length(setdiff(cres1 %>% select(name) %>% distinct() %>% pull(), cres2 %>% select(name) %>% distinct() %>% pull()))\n",
    "length(setdiff(cres2 %>% select(name) %>% distinct() %>% pull(), cres1 %>% select(name) %>% distinct() %>% pull()))"
   ]
  },
  {
   "cell_type": "code",
   "execution_count": 8,
   "metadata": {},
   "outputs": [
    {
     "data": {
      "text/html": [
       "<table class=\"dataframe\">\n",
       "<caption>A tibble: 1 × 25</caption>\n",
       "<thead>\n",
       "\t<tr><th scope=col>chrom</th><th scope=col>chromStart</th><th scope=col>chromEnd</th><th scope=col>name</th><th scope=col>EffectSize</th><th scope=col>strandPerturbationTarget</th><th scope=col>PerturbationTargetID</th><th scope=col>chrTSS</th><th scope=col>startTSS</th><th scope=col>endTSS</th><th scope=col>⋯</th><th scope=col>guideSpacerSeq</th><th scope=col>guideSeq</th><th scope=col>Significant</th><th scope=col>pValue</th><th scope=col>pValueAdjusted</th><th scope=col>PowerAtEffectSize10</th><th scope=col>PowerAtEffectSize25</th><th scope=col>PowerAtEffectSize50</th><th scope=col>ValidConnection</th><th scope=col>Notes</th></tr>\n",
       "\t<tr><th scope=col>&lt;chr&gt;</th><th scope=col>&lt;dbl&gt;</th><th scope=col>&lt;dbl&gt;</th><th scope=col>&lt;chr&gt;</th><th scope=col>&lt;dbl&gt;</th><th scope=col>&lt;chr&gt;</th><th scope=col>&lt;chr&gt;</th><th scope=col>&lt;lgl&gt;</th><th scope=col>&lt;lgl&gt;</th><th scope=col>&lt;lgl&gt;</th><th scope=col>⋯</th><th scope=col>&lt;lgl&gt;</th><th scope=col>&lt;lgl&gt;</th><th scope=col>&lt;lgl&gt;</th><th scope=col>&lt;lgl&gt;</th><th scope=col>&lt;lgl&gt;</th><th scope=col>&lt;lgl&gt;</th><th scope=col>&lt;lgl&gt;</th><th scope=col>&lt;lgl&gt;</th><th scope=col>&lt;lgl&gt;</th><th scope=col>&lt;lgl&gt;</th></tr>\n",
       "</thead>\n",
       "<tbody>\n",
       "\t<tr><td>chr2</td><td>47755484</td><td>47756108</td><td>MSH2/MSH6|chr2:47755484-47756108:.</td><td>5.91</td><td>.</td><td>chr2:47755484-47756108:.</td><td>NA</td><td>NA</td><td>NA</td><td>⋯</td><td>NA</td><td>NA</td><td>TRUE</td><td>NA</td><td>NA</td><td>NA</td><td>NA</td><td>NA</td><td>NA</td><td>NA</td></tr>\n",
       "</tbody>\n",
       "</table>\n"
      ],
      "text/latex": [
       "A tibble: 1 × 25\n",
       "\\begin{tabular}{lllllllllllllllllllll}\n",
       " chrom & chromStart & chromEnd & name & EffectSize & strandPerturbationTarget & PerturbationTargetID & chrTSS & startTSS & endTSS & ⋯ & guideSpacerSeq & guideSeq & Significant & pValue & pValueAdjusted & PowerAtEffectSize10 & PowerAtEffectSize25 & PowerAtEffectSize50 & ValidConnection & Notes\\\\\n",
       " <chr> & <dbl> & <dbl> & <chr> & <dbl> & <chr> & <chr> & <lgl> & <lgl> & <lgl> & ⋯ & <lgl> & <lgl> & <lgl> & <lgl> & <lgl> & <lgl> & <lgl> & <lgl> & <lgl> & <lgl>\\\\\n",
       "\\hline\n",
       "\t chr2 & 47755484 & 47756108 & MSH2/MSH6\\textbar{}chr2:47755484-47756108:. & 5.91 & . & chr2:47755484-47756108:. & NA & NA & NA & ⋯ & NA & NA & TRUE & NA & NA & NA & NA & NA & NA & NA\\\\\n",
       "\\end{tabular}\n"
      ],
      "text/markdown": [
       "\n",
       "A tibble: 1 × 25\n",
       "\n",
       "| chrom &lt;chr&gt; | chromStart &lt;dbl&gt; | chromEnd &lt;dbl&gt; | name &lt;chr&gt; | EffectSize &lt;dbl&gt; | strandPerturbationTarget &lt;chr&gt; | PerturbationTargetID &lt;chr&gt; | chrTSS &lt;lgl&gt; | startTSS &lt;lgl&gt; | endTSS &lt;lgl&gt; | ⋯ ⋯ | guideSpacerSeq &lt;lgl&gt; | guideSeq &lt;lgl&gt; | Significant &lt;lgl&gt; | pValue &lt;lgl&gt; | pValueAdjusted &lt;lgl&gt; | PowerAtEffectSize10 &lt;lgl&gt; | PowerAtEffectSize25 &lt;lgl&gt; | PowerAtEffectSize50 &lt;lgl&gt; | ValidConnection &lt;lgl&gt; | Notes &lt;lgl&gt; |\n",
       "|---|---|---|---|---|---|---|---|---|---|---|---|---|---|---|---|---|---|---|---|---|\n",
       "| chr2 | 47755484 | 47756108 | MSH2/MSH6|chr2:47755484-47756108:. | 5.91 | . | chr2:47755484-47756108:. | NA | NA | NA | ⋯ | NA | NA | TRUE | NA | NA | NA | NA | NA | NA | NA |\n",
       "\n"
      ],
      "text/plain": [
       "  chrom chromStart chromEnd name                               EffectSize\n",
       "1 chr2  47755484   47756108 MSH2/MSH6|chr2:47755484-47756108:. 5.91      \n",
       "  strandPerturbationTarget PerturbationTargetID     chrTSS startTSS endTSS ⋯\n",
       "1 .                        chr2:47755484-47756108:. NA     NA       NA     ⋯\n",
       "  guideSpacerSeq guideSeq Significant pValue pValueAdjusted PowerAtEffectSize10\n",
       "1 NA             NA       TRUE        NA     NA             NA                 \n",
       "  PowerAtEffectSize25 PowerAtEffectSize50 ValidConnection Notes\n",
       "1 NA                  NA                  NA              NA   "
      ]
     },
     "metadata": {},
     "output_type": "display_data"
    },
    {
     "data": {
      "text/html": [
       "<style>\n",
       ".list-inline {list-style: none; margin:0; padding: 0}\n",
       ".list-inline>li {display: inline-block}\n",
       ".list-inline>li:not(:last-child)::after {content: \"\\00b7\"; padding: 0 .5ex}\n",
       "</style>\n",
       "<ol class=list-inline><li>19</li><li>25</li></ol>\n"
      ],
      "text/latex": [
       "\\begin{enumerate*}\n",
       "\\item 19\n",
       "\\item 25\n",
       "\\end{enumerate*}\n"
      ],
      "text/markdown": [
       "1. 19\n",
       "2. 25\n",
       "\n",
       "\n"
      ],
      "text/plain": [
       "[1] 19 25"
      ]
     },
     "metadata": {},
     "output_type": "display_data"
    }
   ],
   "source": [
    "cres3 <- read_tsv(\"/data/gersbachlab/lrb53/encodeCrisprWG/finalversion/figure1/othercelltypes/wtc11ipsc/cres/wtc11ipsc.sixloci.cas9tio160.cres.hg38.tsv\",\n",
    "                  show_col_types = FALSE)\n",
    "\n",
    "head(cres3, n=1)\n",
    "dim(cres3)"
   ]
  },
  {
   "cell_type": "code",
   "execution_count": 10,
   "metadata": {},
   "outputs": [
    {
     "data": {
      "text/html": [
       "16"
      ],
      "text/latex": [
       "16"
      ],
      "text/markdown": [
       "16"
      ],
      "text/plain": [
       "[1] 16"
      ]
     },
     "metadata": {},
     "output_type": "display_data"
    },
    {
     "data": {
      "text/html": [
       "3"
      ],
      "text/latex": [
       "3"
      ],
      "text/markdown": [
       "3"
      ],
      "text/plain": [
       "[1] 3"
      ]
     },
     "metadata": {},
     "output_type": "display_data"
    },
    {
     "data": {
      "text/html": [
       "3"
      ],
      "text/latex": [
       "3"
      ],
      "text/markdown": [
       "3"
      ],
      "text/plain": [
       "[1] 3"
      ]
     },
     "metadata": {},
     "output_type": "display_data"
    }
   ],
   "source": [
    "length(intersect(c(cres1 %>% select(name) %>% distinct() %>% pull(), cres2 %>% select(name) %>% distinct() %>% pull()), cres3 %>% select(name) %>% distinct() %>% pull()))\n",
    "length(setdiff(cres3 %>% select(name) %>% distinct() %>% pull(), c(cres1 %>% select(name) %>% distinct() %>% pull(), cres2 %>% select(name) %>% distinct() %>% pull())))\n",
    "length(setdiff(cres3 %>% select(name) %>% distinct() %>% pull(), c(cres1 %>% select(name) %>% distinct() %>% pull(), cres2 %>% select(name) %>% distinct() %>% pull())))"
   ]
  },
  {
   "cell_type": "code",
   "execution_count": 11,
   "metadata": {},
   "outputs": [
    {
     "data": {
      "text/html": [
       "<table class=\"dataframe\">\n",
       "<caption>A tibble: 1 × 3</caption>\n",
       "<thead>\n",
       "\t<tr><th scope=col>chrom</th><th scope=col>chromStart</th><th scope=col>chromEnd</th></tr>\n",
       "\t<tr><th scope=col>&lt;chr&gt;</th><th scope=col>&lt;dbl&gt;</th><th scope=col>&lt;dbl&gt;</th></tr>\n",
       "</thead>\n",
       "<tbody>\n",
       "\t<tr><td>chr2</td><td>46464581</td><td>46464767</td></tr>\n",
       "</tbody>\n",
       "</table>\n"
      ],
      "text/latex": [
       "A tibble: 1 × 3\n",
       "\\begin{tabular}{lll}\n",
       " chrom & chromStart & chromEnd\\\\\n",
       " <chr> & <dbl> & <dbl>\\\\\n",
       "\\hline\n",
       "\t chr2 & 46464581 & 46464767\\\\\n",
       "\\end{tabular}\n"
      ],
      "text/markdown": [
       "\n",
       "A tibble: 1 × 3\n",
       "\n",
       "| chrom &lt;chr&gt; | chromStart &lt;dbl&gt; | chromEnd &lt;dbl&gt; |\n",
       "|---|---|---|\n",
       "| chr2 | 46464581 | 46464767 |\n",
       "\n"
      ],
      "text/plain": [
       "  chrom chromStart chromEnd\n",
       "1 chr2  46464581   46464767"
      ]
     },
     "metadata": {},
     "output_type": "display_data"
    },
    {
     "data": {
      "text/html": [
       "<style>\n",
       ".list-inline {list-style: none; margin:0; padding: 0}\n",
       ".list-inline>li {display: inline-block}\n",
       ".list-inline>li:not(:last-child)::after {content: \"\\00b7\"; padding: 0 .5ex}\n",
       "</style>\n",
       "<ol class=list-inline><li>66</li><li>3</li></ol>\n"
      ],
      "text/latex": [
       "\\begin{enumerate*}\n",
       "\\item 66\n",
       "\\item 3\n",
       "\\end{enumerate*}\n"
      ],
      "text/markdown": [
       "1. 66\n",
       "2. 3\n",
       "\n",
       "\n"
      ],
      "text/plain": [
       "[1] 66  3"
      ]
     },
     "metadata": {},
     "output_type": "display_data"
    }
   ],
   "source": [
    "bed <- \n",
    "cres1 %>%\n",
    "filter(Significant == TRUE) %>%\n",
    "select(chrom:chromEnd) %>%\n",
    "distinct() %>%\n",
    "rbind(cres2 %>%\n",
    "      filter(Significant == TRUE) %>%\n",
    "      select(chrom:chromEnd) %>%\n",
    "      distinct()\n",
    "     ) %>%\n",
    "rbind(cres3 %>%\n",
    "      filter(Significant == TRUE) %>%\n",
    "      select(chrom:chromEnd) %>%\n",
    "      distinct()\n",
    "     ) %>%\n",
    "distinct()\n",
    "\n",
    "head(bed,n=1)\n",
    "dim(bed)"
   ]
  },
  {
   "cell_type": "code",
   "execution_count": 12,
   "metadata": {},
   "outputs": [],
   "source": [
    "bed %>%\n",
    "write.table(\"/data/gersbachlab/lrb53/encodeCrisprWG/finalversion/figure1/othercelltypes/wtc11ipsc/cres/wtc11ipsc.sixloci.allcres.hg38.bed\",\n",
    "            col.names=F, row.names=F, quote=F, sep=\"\\t\")\n"
   ]
  },
  {
   "cell_type": "markdown",
   "metadata": {},
   "source": [
    "### Switch to `python`"
   ]
  },
  {
   "cell_type": "markdown",
   "metadata": {},
   "source": [
    "### Make directories to store outputs"
   ]
  },
  {
   "cell_type": "code",
   "execution_count": 1,
   "metadata": {},
   "outputs": [],
   "source": [
    "# %%bash\n",
    "# cd /data/gersbachlab/lrb53/encodeCrisprWG/finalversion/figure1\n",
    "\n",
    "# mkdir -p othercelltypes/wtc11ipsc/outs\n",
    "# mkdir -p othercelltypes/jurkat/outs\n",
    "# mkdir -p othercelltypes/gm12878/outs\n",
    "# mkdir -p othercelltypes/hepg2/outs\n",
    "# mkdir -p othercelltypes/a549/outs\n",
    "# mkdir -p othercelltypes/hct116/outs\n",
    "# mkdir -p othercelltypes/pc3/outs\n",
    "# mkdir -p othercelltypes/ncih460/outs\n",
    "# mkdir -p othercelltypes/mcf7/outs"
   ]
  },
  {
   "cell_type": "markdown",
   "metadata": {},
   "source": [
    "### Intersect CREs with annotations in the corresponding cell type"
   ]
  },
  {
   "cell_type": "markdown",
   "metadata": {},
   "source": [
    "#### WTC11 iPSC"
   ]
  },
  {
   "cell_type": "markdown",
   "metadata": {},
   "source": [
    "Generate the union peak set for DNase in two other iPS lines, then intersect with CREs."
   ]
  },
  {
   "cell_type": "code",
   "execution_count": 28,
   "metadata": {},
   "outputs": [
    {
     "name": "stdout",
     "output_type": "stream",
     "text": [
      "40362 ipsdf69.dnase.peaks.hg38.bed\n",
      "187755 ipsdf1911.dnase.peaks.hg38.bed\n"
     ]
    }
   ],
   "source": [
    "# %%bash\n",
    "\n",
    "# cd /data/gersbachlab/lrb53/encodeCrisprWG/finalversion/figure1/othercelltypes/wtc11ipsc/annotations\n",
    "\n",
    "# gunzip ips*.bed.gz\n",
    "# wc -l ipsdf69.dnase.peaks.hg38.bed\n",
    "# wc -l ipsdf1911.dnase.peaks.hg38.bed\n",
    "# gzip ips*.bed"
   ]
  },
  {
   "cell_type": "code",
   "execution_count": 30,
   "metadata": {},
   "outputs": [
    {
     "name": "stdout",
     "output_type": "stream",
     "text": [
      "186573 ips.dnase.peaks.hg38.bed\n"
     ]
    }
   ],
   "source": [
    "# %%bash\n",
    "\n",
    "# cd /data/gersbachlab/lrb53/encodeCrisprWG/finalversion/figure1/othercelltypes/wtc11ipsc/annotations\n",
    "\n",
    "# gunzip ips*.bed.gz\n",
    "\n",
    "# module load bedtools2\n",
    "\n",
    "# cat ipsdf69.dnase.peaks.hg38.bed ipsdf1911.dnase.peaks.hg38.bed | \\\n",
    "# sort -k1,1 -k2,2n | \\\n",
    "# bedtools merge -d 1 -i stdin > ips.dnase.peaks.hg38.bed\n",
    "\n",
    "# wc -l ips.dnase.peaks.hg38.bed\n",
    "\n",
    "# gzip ips*.bed"
   ]
  },
  {
   "cell_type": "code",
   "execution_count": 3,
   "metadata": {},
   "outputs": [
    {
     "name": "stdout",
     "output_type": "stream",
     "text": [
      "232223 ips.h3k4me1.peaks.hg38.bed\n"
     ]
    }
   ],
   "source": [
    "# %%bash\n",
    "\n",
    "# cd /data/gersbachlab/lrb53/encodeCrisprWG/finalversion/figure1/othercelltypes/wtc11ipsc/annotations\n",
    "\n",
    "# gunzip ips*.h3k4me1.peaks.hg38.bed.gz\n",
    "\n",
    "# module load bedtools2\n",
    "\n",
    "# cat ipsdf69.h3k4me1.peaks.hg38.bed ipsdf1911.h3k4me1.peaks.hg38.bed | \\\n",
    "# sort -k1,1 -k2,2n | \\\n",
    "# bedtools merge -d 1 -i stdin > ips.h3k4me1.peaks.hg38.bed\n",
    "\n",
    "# wc -l ips.h3k4me1.peaks.hg38.bed\n",
    "\n",
    "# gzip ips*.h3k4me1.peaks.hg38.bed"
   ]
  },
  {
   "cell_type": "code",
   "execution_count": 4,
   "metadata": {},
   "outputs": [
    {
     "name": "stdout",
     "output_type": "stream",
     "text": [
      "43264 ips.h3k4me3.peaks.hg38.bed\n"
     ]
    }
   ],
   "source": [
    "# %%bash\n",
    "\n",
    "# cd /data/gersbachlab/lrb53/encodeCrisprWG/finalversion/figure1/othercelltypes/wtc11ipsc/annotations\n",
    "\n",
    "# gunzip ips*.h3k4me3.peaks.hg38.bed.gz\n",
    "\n",
    "# module load bedtools2\n",
    "\n",
    "# cat ipsdf69.h3k4me3.peaks.hg38.bed ipsdf1911.h3k4me3.peaks.hg38.bed | \\\n",
    "# sort -k1,1 -k2,2n | \\\n",
    "# bedtools merge -d 1 -i stdin > ips.h3k4me3.peaks.hg38.bed\n",
    "\n",
    "# wc -l ips.h3k4me3.peaks.hg38.bed\n",
    "\n",
    "# gzip ips*.h3k4me3.peaks.hg38.bed"
   ]
  },
  {
   "cell_type": "code",
   "execution_count": 5,
   "metadata": {},
   "outputs": [
    {
     "name": "stdout",
     "output_type": "stream",
     "text": [
      "117690 ips.h3k9me3.peaks.hg38.bed\n"
     ]
    }
   ],
   "source": [
    "# %%bash\n",
    "\n",
    "# cd /data/gersbachlab/lrb53/encodeCrisprWG/finalversion/figure1/othercelltypes/wtc11ipsc/annotations\n",
    "\n",
    "# gunzip ips*.h3k9me3.peaks.hg38.bed.gz\n",
    "\n",
    "# module load bedtools2\n",
    "\n",
    "# cat ipsdf69.h3k9me3.peaks.hg38.bed ipsdf1911.h3k9me3.peaks.hg38.bed | \\\n",
    "# sort -k1,1 -k2,2n | \\\n",
    "# bedtools merge -d 1 -i stdin > ips.h3k9me3.peaks.hg38.bed\n",
    "\n",
    "# wc -l ips.h3k9me3.peaks.hg38.bed\n",
    "\n",
    "# gzip ips*.h3k9me3.peaks.hg38.bed"
   ]
  },
  {
   "cell_type": "code",
   "execution_count": 6,
   "metadata": {},
   "outputs": [
    {
     "name": "stdout",
     "output_type": "stream",
     "text": [
      "23911 ips.h3k27me3.peaks.hg38.bed\n"
     ]
    }
   ],
   "source": [
    "# %%bash\n",
    "\n",
    "# cd /data/gersbachlab/lrb53/encodeCrisprWG/finalversion/figure1/othercelltypes/wtc11ipsc/annotations\n",
    "\n",
    "# gunzip ips*.h3k27me3.peaks.hg38.bed.gz\n",
    "\n",
    "# module load bedtools2\n",
    "\n",
    "# cat ipsdf69.h3k27me3.peaks.hg38.bed ipsdf1911.h3k27me3.peaks.hg38.bed | \\\n",
    "# sort -k1,1 -k2,2n | \\\n",
    "# bedtools merge -d 1 -i stdin > ips.h3k27me3.peaks.hg38.bed\n",
    "\n",
    "# wc -l ips.h3k27me3.peaks.hg38.bed\n",
    "\n",
    "# gzip ips*.h3k27me3.peaks.hg38.bed"
   ]
  },
  {
   "cell_type": "code",
   "execution_count": 8,
   "metadata": {},
   "outputs": [
    {
     "name": "stdout",
     "output_type": "stream",
     "text": [
      "127362 ips.h3k36me3.peaks.hg38.bed\n"
     ]
    }
   ],
   "source": [
    "# %%bash\n",
    "\n",
    "# cd /data/gersbachlab/lrb53/encodeCrisprWG/finalversion/figure1/othercelltypes/wtc11ipsc/annotations\n",
    "\n",
    "# gunzip ips*.h3k36me3.peaks.hg38.bed.gz\n",
    "\n",
    "# module load bedtools2\n",
    "\n",
    "# cat ipsdf69.h3k36me3.peaks.hg38.bed ipsdf1911.h3k36me3.peaks.hg38.bed | \\\n",
    "# sort -k1,1 -k2,2n | \\\n",
    "# bedtools merge -d 1 -i stdin > ips.h3k36me3.peaks.hg38.bed\n",
    "\n",
    "# wc -l ips.h3k36me3.peaks.hg38.bed\n",
    "\n",
    "# gzip ips*.h3k36me3.peaks.hg38.bed"
   ]
  },
  {
   "cell_type": "markdown",
   "metadata": {},
   "source": [
    "#### Now, proceed with intersecting CREs with features."
   ]
  },
  {
   "cell_type": "code",
   "execution_count": 1,
   "metadata": {},
   "outputs": [
    {
     "name": "stdout",
     "output_type": "stream",
     "text": [
      "66 cres/wtc11ipsc.sixloci.allcres.hg38.bed\n"
     ]
    }
   ],
   "source": [
    "%%bash\n",
    "\n",
    "cd /data/gersbachlab/lrb53/encodeCrisprWG/finalversion/figure1/othercelltypes/wtc11ipsc/\n",
    "\n",
    "wc -l cres/wtc11ipsc.sixloci.allcres.hg38.bed"
   ]
  },
  {
   "cell_type": "code",
   "execution_count": 2,
   "metadata": {},
   "outputs": [
    {
     "name": "stdout",
     "output_type": "stream",
     "text": [
      "65\n",
      "62\n",
      "46\n",
      "42\n",
      "56\n",
      "18\n",
      "9\n",
      "25\n"
     ]
    }
   ],
   "source": [
    "%%bash\n",
    "\n",
    "cd /data/gersbachlab/lrb53/encodeCrisprWG/finalversion/figure1/othercelltypes/wtc11ipsc/\n",
    "\n",
    "module load bedtools2\n",
    "\n",
    "bedtools intersect \\\n",
    "-a cres/wtc11ipsc.sixloci.allcres.hg38.bed \\\n",
    "-b annotations/wtc11.atac.peaks.hg38.bed.gz -wa -u | wc -l\n",
    "\n",
    "bedtools intersect \\\n",
    "-a cres/wtc11ipsc.sixloci.allcres.hg38.bed \\\n",
    "-b annotations/ips.dnase.peaks.hg38.bed.gz -wa -u | wc -l\n",
    "\n",
    "bedtools intersect \\\n",
    "-a cres/wtc11ipsc.sixloci.allcres.hg38.bed \\\n",
    "-b annotations/wtc11.h3k27ac.peaks.hg38.bed.gz -wa -u | wc -l\n",
    "\n",
    "bedtools intersect \\\n",
    "-a cres/wtc11ipsc.sixloci.allcres.hg38.bed \\\n",
    "-b annotations/ips.h3k4me1.peaks.hg38.bed.gz -wa -u | wc -l\n",
    "\n",
    "bedtools intersect \\\n",
    "-a cres/wtc11ipsc.sixloci.allcres.hg38.bed \\\n",
    "-b annotations/ips.h3k4me3.peaks.hg38.bed.gz -wa -u | wc -l\n",
    "\n",
    "bedtools intersect \\\n",
    "-a cres/wtc11ipsc.sixloci.allcres.hg38.bed \\\n",
    "-b annotations/ips.h3k9me3.peaks.hg38.bed.gz -wa -u | wc -l\n",
    "\n",
    "bedtools intersect \\\n",
    "-a cres/wtc11ipsc.sixloci.allcres.hg38.bed \\\n",
    "-b annotations/ips.h3k27me3.peaks.hg38.bed.gz -wa -u | wc -l\n",
    "\n",
    "bedtools intersect \\\n",
    "-a cres/wtc11ipsc.sixloci.allcres.hg38.bed \\\n",
    "-b annotations/ips.h3k36me3.peaks.hg38.bed.gz -wa -u | wc -l"
   ]
  },
  {
   "cell_type": "code",
   "execution_count": 3,
   "metadata": {},
   "outputs": [],
   "source": [
    "%%bash\n",
    "\n",
    "cd /data/gersbachlab/lrb53/encodeCrisprWG/finalversion/figure1/othercelltypes/wtc11ipsc/\n",
    "\n",
    "module load bedtools2\n",
    "\n",
    "bedtools intersect \\\n",
    "-a cres/wtc11ipsc.sixloci.allcres.hg38.bed \\\n",
    "-b annotations/wtc11.atac.peaks.hg38.bed.gz \\\n",
    "-wa -wb \\\n",
    "> outs/wtc11ipsc.sixloci.cres.int.atac.hg38.txt\n",
    "\n",
    "bedtools intersect \\\n",
    "-a cres/wtc11ipsc.sixloci.allcres.hg38.bed \\\n",
    "-b annotations/ips.dnase.peaks.hg38.bed.gz \\\n",
    "-wa -wb \\\n",
    "> outs/wtc11ipsc.sixloci.cres.int.dnase.hg38.txt\n",
    "\n",
    "bedtools intersect \\\n",
    "-a cres/wtc11ipsc.sixloci.allcres.hg38.bed \\\n",
    "-b annotations/wtc11.h3k27ac.peaks.hg38.bed.gz \\\n",
    "-wa -wb \\\n",
    "> outs/wtc11ipsc.sixloci.cres.int.h3k27ac.hg38.txt"
   ]
  },
  {
   "cell_type": "code",
   "execution_count": 4,
   "metadata": {},
   "outputs": [],
   "source": [
    "%%bash\n",
    "\n",
    "cd /data/gersbachlab/lrb53/encodeCrisprWG/finalversion/figure1/othercelltypes/wtc11ipsc/\n",
    "\n",
    "module load bedtools2\n",
    "\n",
    "bedtools intersect \\\n",
    "-a cres/wtc11ipsc.sixloci.allcres.hg38.bed \\\n",
    "-b annotations/ips.h3k4me1.peaks.hg38.bed.gz \\\n",
    "-wa -wb \\\n",
    "> outs/wtc11ipsc.sixloci.cres.int.h3k4me1.hg38.txt\n",
    "\n",
    "bedtools intersect \\\n",
    "-a cres/wtc11ipsc.sixloci.allcres.hg38.bed \\\n",
    "-b annotations/ips.h3k4me3.peaks.hg38.bed.gz \\\n",
    "-wa -wb \\\n",
    "> outs/wtc11ipsc.sixloci.cres.int.h3k4me3.hg38.txt\n",
    "\n",
    "bedtools intersect \\\n",
    "-a cres/wtc11ipsc.sixloci.allcres.hg38.bed \\\n",
    "-b annotations/ips.h3k9me3.peaks.hg38.bed.gz \\\n",
    "-wa -wb \\\n",
    "> outs/wtc11ipsc.sixloci.cres.int.h3k9me3.hg38.txt\n",
    "\n",
    "bedtools intersect \\\n",
    "-a cres/wtc11ipsc.sixloci.allcres.hg38.bed \\\n",
    "-b annotations/ips.h3k27me3.peaks.hg38.bed.gz \\\n",
    "-wa -wb \\\n",
    "> outs/wtc11ipsc.sixloci.cres.int.h3k27me3.hg38.txt"
   ]
  },
  {
   "cell_type": "markdown",
   "metadata": {},
   "source": [
    "### Switch to `R`"
   ]
  },
  {
   "cell_type": "markdown",
   "metadata": {},
   "source": [
    "### Load packages"
   ]
  },
  {
   "cell_type": "code",
   "execution_count": 1,
   "metadata": {},
   "outputs": [],
   "source": [
    "suppressPackageStartupMessages(library(tidyverse))"
   ]
  },
  {
   "cell_type": "markdown",
   "metadata": {},
   "source": [
    "### Load output of intersection"
   ]
  },
  {
   "cell_type": "markdown",
   "metadata": {},
   "source": [
    "#### WTC11 iPSC"
   ]
  },
  {
   "cell_type": "code",
   "execution_count": 2,
   "metadata": {},
   "outputs": [
    {
     "data": {
      "text/html": [
       "65"
      ],
      "text/latex": [
       "65"
      ],
      "text/markdown": [
       "65"
      ],
      "text/plain": [
       "[1] 65"
      ]
     },
     "metadata": {},
     "output_type": "display_data"
    }
   ],
   "source": [
    "wtc_int_atac <- read.delim(\"/data/gersbachlab/lrb53/encodeCrisprWG/finalversion/figure1/othercelltypes/wtc11ipsc/outs/wtc11ipsc.sixloci.cres.int.atac.hg38.txt\",\n",
    "                       header = FALSE) %>%\n",
    "mutate(cre = paste0(V1,\":\",V2,\"-\",V3)) %>%\n",
    "select(cre) %>%\n",
    "distinct() %>% pull()\n",
    "\n",
    "length(wtc_int_atac)"
   ]
  },
  {
   "cell_type": "code",
   "execution_count": 3,
   "metadata": {},
   "outputs": [
    {
     "data": {
      "text/html": [
       "62"
      ],
      "text/latex": [
       "62"
      ],
      "text/markdown": [
       "62"
      ],
      "text/plain": [
       "[1] 62"
      ]
     },
     "metadata": {},
     "output_type": "display_data"
    }
   ],
   "source": [
    "wtc_int_dnase <- read.delim(\"/data/gersbachlab/lrb53/encodeCrisprWG/finalversion/figure1/othercelltypes/wtc11ipsc/outs/wtc11ipsc.sixloci.cres.int.dnase.hg38.txt\",\n",
    "                       header = FALSE) %>%\n",
    "mutate(cre = paste0(V1,\":\",V2,\"-\",V3)) %>%\n",
    "select(cre) %>%\n",
    "distinct() %>% pull()\n",
    "\n",
    "length(wtc_int_dnase)"
   ]
  },
  {
   "cell_type": "code",
   "execution_count": 4,
   "metadata": {},
   "outputs": [
    {
     "data": {
      "text/html": [
       "46"
      ],
      "text/latex": [
       "46"
      ],
      "text/markdown": [
       "46"
      ],
      "text/plain": [
       "[1] 46"
      ]
     },
     "metadata": {},
     "output_type": "display_data"
    }
   ],
   "source": [
    "wtc_int_h3k27ac <- read.delim(\"/data/gersbachlab/lrb53/encodeCrisprWG/finalversion/figure1/othercelltypes/wtc11ipsc/outs/wtc11ipsc.sixloci.cres.int.h3k27ac.hg38.txt\",\n",
    "                       header = FALSE) %>%\n",
    "mutate(cre = paste0(V1,\":\",V2,\"-\",V3)) %>%\n",
    "select(cre) %>%\n",
    "distinct() %>% pull()\n",
    "\n",
    "length(wtc_int_h3k27ac)"
   ]
  },
  {
   "cell_type": "code",
   "execution_count": 5,
   "metadata": {},
   "outputs": [
    {
     "data": {
      "text/html": [
       "42"
      ],
      "text/latex": [
       "42"
      ],
      "text/markdown": [
       "42"
      ],
      "text/plain": [
       "[1] 42"
      ]
     },
     "metadata": {},
     "output_type": "display_data"
    }
   ],
   "source": [
    "wtc_int_h3k4me1 <- read.delim(\"/data/gersbachlab/lrb53/encodeCrisprWG/finalversion/figure1/othercelltypes/wtc11ipsc/outs/wtc11ipsc.sixloci.cres.int.h3k4me1.hg38.txt\",\n",
    "                       header = FALSE) %>%\n",
    "mutate(cre = paste0(V1,\":\",V2,\"-\",V3)) %>%\n",
    "select(cre) %>%\n",
    "distinct() %>% pull()\n",
    "\n",
    "length(wtc_int_h3k4me1)"
   ]
  },
  {
   "cell_type": "code",
   "execution_count": 6,
   "metadata": {},
   "outputs": [
    {
     "data": {
      "text/html": [
       "56"
      ],
      "text/latex": [
       "56"
      ],
      "text/markdown": [
       "56"
      ],
      "text/plain": [
       "[1] 56"
      ]
     },
     "metadata": {},
     "output_type": "display_data"
    }
   ],
   "source": [
    "wtc_int_h3k4me3 <- read.delim(\"/data/gersbachlab/lrb53/encodeCrisprWG/finalversion/figure1/othercelltypes/wtc11ipsc/outs/wtc11ipsc.sixloci.cres.int.h3k4me3.hg38.txt\",\n",
    "                       header = FALSE) %>%\n",
    "mutate(cre = paste0(V1,\":\",V2,\"-\",V3)) %>%\n",
    "select(cre) %>%\n",
    "distinct() %>% pull()\n",
    "\n",
    "length(wtc_int_h3k4me3)"
   ]
  },
  {
   "cell_type": "code",
   "execution_count": 7,
   "metadata": {},
   "outputs": [
    {
     "data": {
      "text/html": [
       "18"
      ],
      "text/latex": [
       "18"
      ],
      "text/markdown": [
       "18"
      ],
      "text/plain": [
       "[1] 18"
      ]
     },
     "metadata": {},
     "output_type": "display_data"
    }
   ],
   "source": [
    "wtc_int_h3k9me3 <- read.delim(\"/data/gersbachlab/lrb53/encodeCrisprWG/finalversion/figure1/othercelltypes/wtc11ipsc/outs/wtc11ipsc.sixloci.cres.int.h3k9me3.hg38.txt\",\n",
    "                       header = FALSE) %>%\n",
    "mutate(cre = paste0(V1,\":\",V2,\"-\",V3)) %>%\n",
    "select(cre) %>%\n",
    "distinct() %>% pull()\n",
    "\n",
    "length(wtc_int_h3k9me3)"
   ]
  },
  {
   "cell_type": "code",
   "execution_count": 8,
   "metadata": {},
   "outputs": [
    {
     "data": {
      "text/html": [
       "9"
      ],
      "text/latex": [
       "9"
      ],
      "text/markdown": [
       "9"
      ],
      "text/plain": [
       "[1] 9"
      ]
     },
     "metadata": {},
     "output_type": "display_data"
    }
   ],
   "source": [
    "wtc_int_h3k27me3 <- read.delim(\"/data/gersbachlab/lrb53/encodeCrisprWG/finalversion/figure1/othercelltypes/wtc11ipsc/outs/wtc11ipsc.sixloci.cres.int.h3k27me3.hg38.txt\",\n",
    "                       header = FALSE) %>%\n",
    "mutate(cre = paste0(V1,\":\",V2,\"-\",V3)) %>%\n",
    "select(cre) %>%\n",
    "distinct() %>% pull()\n",
    "\n",
    "length(wtc_int_h3k27me3)"
   ]
  },
  {
   "cell_type": "code",
   "execution_count": 9,
   "metadata": {},
   "outputs": [
    {
     "data": {
      "text/html": [
       "<table class=\"dataframe\">\n",
       "<caption>A data.frame: 1 × 8</caption>\n",
       "<thead>\n",
       "\t<tr><th></th><th scope=col>cre</th><th scope=col>result_atac</th><th scope=col>result_dnase</th><th scope=col>result_h3k27ac</th><th scope=col>result_h3k4me1</th><th scope=col>result_h3k4me3</th><th scope=col>result_h3k9me3</th><th scope=col>result_h3k27me3</th></tr>\n",
       "\t<tr><th></th><th scope=col>&lt;chr&gt;</th><th scope=col>&lt;lgl&gt;</th><th scope=col>&lt;lgl&gt;</th><th scope=col>&lt;lgl&gt;</th><th scope=col>&lt;lgl&gt;</th><th scope=col>&lt;lgl&gt;</th><th scope=col>&lt;lgl&gt;</th><th scope=col>&lt;lgl&gt;</th></tr>\n",
       "</thead>\n",
       "<tbody>\n",
       "\t<tr><th scope=row>1</th><td>chr2:46464581-46464767</td><td>TRUE</td><td>TRUE</td><td>FALSE</td><td>FALSE</td><td>FALSE</td><td>FALSE</td><td>FALSE</td></tr>\n",
       "</tbody>\n",
       "</table>\n"
      ],
      "text/latex": [
       "A data.frame: 1 × 8\n",
       "\\begin{tabular}{r|llllllll}\n",
       "  & cre & result\\_atac & result\\_dnase & result\\_h3k27ac & result\\_h3k4me1 & result\\_h3k4me3 & result\\_h3k9me3 & result\\_h3k27me3\\\\\n",
       "  & <chr> & <lgl> & <lgl> & <lgl> & <lgl> & <lgl> & <lgl> & <lgl>\\\\\n",
       "\\hline\n",
       "\t1 & chr2:46464581-46464767 & TRUE & TRUE & FALSE & FALSE & FALSE & FALSE & FALSE\\\\\n",
       "\\end{tabular}\n"
      ],
      "text/markdown": [
       "\n",
       "A data.frame: 1 × 8\n",
       "\n",
       "| <!--/--> | cre &lt;chr&gt; | result_atac &lt;lgl&gt; | result_dnase &lt;lgl&gt; | result_h3k27ac &lt;lgl&gt; | result_h3k4me1 &lt;lgl&gt; | result_h3k4me3 &lt;lgl&gt; | result_h3k9me3 &lt;lgl&gt; | result_h3k27me3 &lt;lgl&gt; |\n",
       "|---|---|---|---|---|---|---|---|---|\n",
       "| 1 | chr2:46464581-46464767 | TRUE | TRUE | FALSE | FALSE | FALSE | FALSE | FALSE |\n",
       "\n"
      ],
      "text/plain": [
       "  cre                    result_atac result_dnase result_h3k27ac result_h3k4me1\n",
       "1 chr2:46464581-46464767 TRUE        TRUE         FALSE          FALSE         \n",
       "  result_h3k4me3 result_h3k9me3 result_h3k27me3\n",
       "1 FALSE          FALSE          FALSE          "
      ]
     },
     "metadata": {},
     "output_type": "display_data"
    }
   ],
   "source": [
    "wtc_cre <- read.delim(\"/data/gersbachlab/lrb53/encodeCrisprWG/finalversion/figure1/othercelltypes/wtc11ipsc/cres/wtc11ipsc.sixloci.allcres.hg38.bed\",\n",
    "                      header = FALSE) %>%\n",
    "mutate(cre = paste0(V1,\":\",V2,\"-\",V3)) %>%\n",
    "select(cre) %>%\n",
    "distinct() %>%\n",
    "mutate(result_atac = ifelse(cre %in% wtc_int_atac, TRUE, FALSE),\n",
    "       result_dnase = ifelse(cre %in% wtc_int_dnase, TRUE, FALSE),\n",
    "       result_h3k27ac = ifelse(cre %in% wtc_int_h3k27ac, TRUE, FALSE),\n",
    "       result_h3k4me1 = ifelse(cre %in% wtc_int_h3k4me1, TRUE, FALSE),\n",
    "       result_h3k4me3 = ifelse(cre %in% wtc_int_h3k4me3, TRUE, FALSE),\n",
    "       result_h3k9me3 = ifelse(cre %in% wtc_int_h3k9me3, TRUE, FALSE),\n",
    "       result_h3k27me3 = ifelse(cre %in% wtc_int_h3k27me3, TRUE, FALSE)\n",
    "      )\n",
    "\n",
    "head(wtc_cre, n=1)"
   ]
  },
  {
   "cell_type": "markdown",
   "metadata": {},
   "source": [
    "### Make working df with counts of CREs that overlap a given feature\n",
    "\n",
    "See above and K562 meta analysis notebooks for how counts were determined."
   ]
  },
  {
   "cell_type": "code",
   "execution_count": 10,
   "metadata": {},
   "outputs": [
    {
     "data": {
      "text/html": [
       "<table class=\"dataframe\">\n",
       "<caption>A tibble: 16 × 4</caption>\n",
       "<thead>\n",
       "\t<tr><th scope=col>feature</th><th scope=col>overlap_n</th><th scope=col>overlap_prop</th><th scope=col>cell_type</th></tr>\n",
       "\t<tr><th scope=col>&lt;chr&gt;</th><th scope=col>&lt;dbl&gt;</th><th scope=col>&lt;dbl&gt;</th><th scope=col>&lt;chr&gt;</th></tr>\n",
       "</thead>\n",
       "<tbody>\n",
       "\t<tr><td>total_cre</td><td> 66</td><td>1.000000000</td><td>wtc11ipsc</td></tr>\n",
       "\t<tr><td>atac     </td><td> 65</td><td>0.984848485</td><td>wtc11ipsc</td></tr>\n",
       "\t<tr><td>dnase    </td><td> 62</td><td>0.939393939</td><td>wtc11ipsc</td></tr>\n",
       "\t<tr><td>h3k27ac  </td><td> 46</td><td>0.696969697</td><td>wtc11ipsc</td></tr>\n",
       "\t<tr><td>h3k4me1  </td><td> 42</td><td>0.636363636</td><td>wtc11ipsc</td></tr>\n",
       "\t<tr><td>h3k4me3  </td><td> 56</td><td>0.848484848</td><td>wtc11ipsc</td></tr>\n",
       "\t<tr><td>h3k9me3  </td><td> 18</td><td>0.272727273</td><td>wtc11ipsc</td></tr>\n",
       "\t<tr><td>h3k27me3 </td><td>  9</td><td>0.136363636</td><td>wtc11ipsc</td></tr>\n",
       "\t<tr><td>total_cre</td><td>210</td><td>1.000000000</td><td>k562     </td></tr>\n",
       "\t<tr><td>atac     </td><td>165</td><td>0.785714286</td><td>k562     </td></tr>\n",
       "\t<tr><td>dnase    </td><td>167</td><td>0.795238095</td><td>k562     </td></tr>\n",
       "\t<tr><td>h3k27ac  </td><td>182</td><td>0.866666667</td><td>k562     </td></tr>\n",
       "\t<tr><td>h3k4me1  </td><td>159</td><td>0.757142857</td><td>k562     </td></tr>\n",
       "\t<tr><td>h3k4me3  </td><td>117</td><td>0.557142857</td><td>k562     </td></tr>\n",
       "\t<tr><td>h3k9me3  </td><td>  0</td><td>0.000000000</td><td>k562     </td></tr>\n",
       "\t<tr><td>h3k27me3 </td><td>  1</td><td>0.004761905</td><td>k562     </td></tr>\n",
       "</tbody>\n",
       "</table>\n"
      ],
      "text/latex": [
       "A tibble: 16 × 4\n",
       "\\begin{tabular}{llll}\n",
       " feature & overlap\\_n & overlap\\_prop & cell\\_type\\\\\n",
       " <chr> & <dbl> & <dbl> & <chr>\\\\\n",
       "\\hline\n",
       "\t total\\_cre &  66 & 1.000000000 & wtc11ipsc\\\\\n",
       "\t atac      &  65 & 0.984848485 & wtc11ipsc\\\\\n",
       "\t dnase     &  62 & 0.939393939 & wtc11ipsc\\\\\n",
       "\t h3k27ac   &  46 & 0.696969697 & wtc11ipsc\\\\\n",
       "\t h3k4me1   &  42 & 0.636363636 & wtc11ipsc\\\\\n",
       "\t h3k4me3   &  56 & 0.848484848 & wtc11ipsc\\\\\n",
       "\t h3k9me3   &  18 & 0.272727273 & wtc11ipsc\\\\\n",
       "\t h3k27me3  &   9 & 0.136363636 & wtc11ipsc\\\\\n",
       "\t total\\_cre & 210 & 1.000000000 & k562     \\\\\n",
       "\t atac      & 165 & 0.785714286 & k562     \\\\\n",
       "\t dnase     & 167 & 0.795238095 & k562     \\\\\n",
       "\t h3k27ac   & 182 & 0.866666667 & k562     \\\\\n",
       "\t h3k4me1   & 159 & 0.757142857 & k562     \\\\\n",
       "\t h3k4me3   & 117 & 0.557142857 & k562     \\\\\n",
       "\t h3k9me3   &   0 & 0.000000000 & k562     \\\\\n",
       "\t h3k27me3  &   1 & 0.004761905 & k562     \\\\\n",
       "\\end{tabular}\n"
      ],
      "text/markdown": [
       "\n",
       "A tibble: 16 × 4\n",
       "\n",
       "| feature &lt;chr&gt; | overlap_n &lt;dbl&gt; | overlap_prop &lt;dbl&gt; | cell_type &lt;chr&gt; |\n",
       "|---|---|---|---|\n",
       "| total_cre |  66 | 1.000000000 | wtc11ipsc |\n",
       "| atac      |  65 | 0.984848485 | wtc11ipsc |\n",
       "| dnase     |  62 | 0.939393939 | wtc11ipsc |\n",
       "| h3k27ac   |  46 | 0.696969697 | wtc11ipsc |\n",
       "| h3k4me1   |  42 | 0.636363636 | wtc11ipsc |\n",
       "| h3k4me3   |  56 | 0.848484848 | wtc11ipsc |\n",
       "| h3k9me3   |  18 | 0.272727273 | wtc11ipsc |\n",
       "| h3k27me3  |   9 | 0.136363636 | wtc11ipsc |\n",
       "| total_cre | 210 | 1.000000000 | k562      |\n",
       "| atac      | 165 | 0.785714286 | k562      |\n",
       "| dnase     | 167 | 0.795238095 | k562      |\n",
       "| h3k27ac   | 182 | 0.866666667 | k562      |\n",
       "| h3k4me1   | 159 | 0.757142857 | k562      |\n",
       "| h3k4me3   | 117 | 0.557142857 | k562      |\n",
       "| h3k9me3   |   0 | 0.000000000 | k562      |\n",
       "| h3k27me3  |   1 | 0.004761905 | k562      |\n",
       "\n"
      ],
      "text/plain": [
       "   feature   overlap_n overlap_prop cell_type\n",
       "1  total_cre  66       1.000000000  wtc11ipsc\n",
       "2  atac       65       0.984848485  wtc11ipsc\n",
       "3  dnase      62       0.939393939  wtc11ipsc\n",
       "4  h3k27ac    46       0.696969697  wtc11ipsc\n",
       "5  h3k4me1    42       0.636363636  wtc11ipsc\n",
       "6  h3k4me3    56       0.848484848  wtc11ipsc\n",
       "7  h3k9me3    18       0.272727273  wtc11ipsc\n",
       "8  h3k27me3    9       0.136363636  wtc11ipsc\n",
       "9  total_cre 210       1.000000000  k562     \n",
       "10 atac      165       0.785714286  k562     \n",
       "11 dnase     167       0.795238095  k562     \n",
       "12 h3k27ac   182       0.866666667  k562     \n",
       "13 h3k4me1   159       0.757142857  k562     \n",
       "14 h3k4me3   117       0.557142857  k562     \n",
       "15 h3k9me3     0       0.000000000  k562     \n",
       "16 h3k27me3    1       0.004761905  k562     "
      ]
     },
     "metadata": {},
     "output_type": "display_data"
    }
   ],
   "source": [
    "df <- data.frame(\"total_cre\" = 66,\n",
    "                 \"atac\" = 65,\n",
    "                 \"dnase\" = 62,\n",
    "                 \"h3k27ac\" = 46,\n",
    "                 \"h3k4me1\" = 42,\n",
    "                 \"h3k4me3\" = 56,\n",
    "                 \"h3k9me3\" = 18,\n",
    "                 \"h3k27me3\" = 9) %>%\n",
    "pivot_longer(cols = total_cre:h3k27me3, names_to = \"feature\", values_to = \"overlap_n\") %>%\n",
    "mutate(overlap_prop = overlap_n/66,\n",
    "       cell_type = \"wtc11ipsc\") %>%\n",
    "bind_rows(data.frame(\"total_cre\" = 210,\n",
    "                 \"atac\" = 165,\n",
    "                 \"dnase\" = 167,\n",
    "                 \"h3k27ac\" = 182,\n",
    "                 \"h3k4me1\" = 159,\n",
    "                 \"h3k4me3\" = 117,\n",
    "                 \"h3k9me3\" = 0,\n",
    "                 \"h3k27me3\" = 1) %>%\n",
    "          pivot_longer(cols = total_cre:h3k27me3, names_to = \"feature\", values_to = \"overlap_n\") %>%\n",
    "          mutate(overlap_prop = overlap_n/210,\n",
    "                 cell_type = \"k562\")\n",
    "         )\n",
    "\n",
    "df"
   ]
  },
  {
   "cell_type": "markdown",
   "metadata": {},
   "source": [
    "### Plot the proportion of CREs in WTC11 iPSCs and CREs in K562s that overlap features"
   ]
  },
  {
   "cell_type": "markdown",
   "metadata": {},
   "source": [
    "#### Use all features in both cell types (H3K4me1/3, H3K27ac, H3K9me3, H3K27me3, ATAC, DNase)"
   ]
  },
  {
   "cell_type": "code",
   "execution_count": 11,
   "metadata": {},
   "outputs": [
    {
     "data": {
      "image/png": "[encoded data removed]",
      "text/plain": [
       "plot without title"
      ]
     },
     "metadata": {
      "image/png": {
       "height": 420,
       "width": 420
      }
     },
     "output_type": "display_data"
    }
   ],
   "source": [
    "df$feature <- factor(df$feature, levels = c(\"h3k27me3\", \"h3k9me3\", \n",
    "                                            \"h3k27ac\", \"h3k4me3\", \"h3k4me1\", \"dnase\", \"atac\", \"total_cre\")\n",
    "                     )\n",
    "\n",
    "df %>%\n",
    "filter(feature != \"total_cre\") %>%\n",
    "ggplot(aes(x = overlap_prop, y = feature, fill = cell_type)) +\n",
    "geom_col(position = \"dodge\") +\n",
    "theme_classic()"
   ]
  },
  {
   "cell_type": "code",
   "execution_count": 12,
   "metadata": {},
   "outputs": [
    {
     "data": {
      "text/html": [
       "<strong>png:</strong> 2"
      ],
      "text/latex": [
       "\\textbf{png:} 2"
      ],
      "text/markdown": [
       "**png:** 2"
      ],
      "text/plain": [
       "png \n",
       "  2 "
      ]
     },
     "metadata": {},
     "output_type": "display_data"
    }
   ],
   "source": [
    "pdf(\"/data/gersbachlab/lrb53/encodeCrisprWG/finalversion/figure1/othercelltypes/outs/plot_pdfs/wtc11ipsc.cre.int.allfeatures.proportion.pdf\")\n",
    "\n",
    "df$feature <- factor(df$feature, levels = c(\"h3k27me3\", \"h3k9me3\", \n",
    "                                            \"h3k27ac\", \"h3k4me3\", \"h3k4me1\", \"dnase\", \"atac\", \"total_cre\")\n",
    "                     )\n",
    "\n",
    "df %>%\n",
    "filter(feature != \"total_cre\" & cell_type == \"wtc11ipsc\") %>%\n",
    "ggplot(aes(x = overlap_prop, y = feature, fill = cell_type)) +\n",
    "geom_col(position = \"dodge\") +\n",
    "theme_classic()\n",
    "\n",
    "dev.off()"
   ]
  },
  {
   "cell_type": "code",
   "execution_count": 13,
   "metadata": {},
   "outputs": [
    {
     "data": {
      "text/html": [
       "<strong>png:</strong> 2"
      ],
      "text/latex": [
       "\\textbf{png:} 2"
      ],
      "text/markdown": [
       "**png:** 2"
      ],
      "text/plain": [
       "png \n",
       "  2 "
      ]
     },
     "metadata": {},
     "output_type": "display_data"
    }
   ],
   "source": [
    "pdf(\"/data/gersbachlab/lrb53/encodeCrisprWG/finalversion/figure1/othercelltypes/outs/plot_pdfs/wtc11ipscK562.cre.int.allfeatures.proportion.pdf\")\n",
    "\n",
    "df$feature <- factor(df$feature, levels = c(\"h3k27me3\", \"h3k9me3\", \n",
    "                                            \"h3k27ac\", \"h3k4me3\", \"h3k4me1\", \"dnase\", \"atac\", \"total_cre\")\n",
    "                     )\n",
    "\n",
    "df %>%\n",
    "filter(feature != \"total_cre\") %>%\n",
    "ggplot(aes(x = overlap_prop, y = feature, fill = cell_type)) +\n",
    "geom_col(position = \"dodge\") +\n",
    "theme_classic()\n",
    "\n",
    "dev.off()"
   ]
  },
  {
   "cell_type": "markdown",
   "metadata": {},
   "source": [
    "#### Plot only ATAC, DNase, H3K27ac"
   ]
  },
  {
   "cell_type": "code",
   "execution_count": 14,
   "metadata": {},
   "outputs": [
    {
     "data": {
      "image/png": "[encoded data removed]",
      "text/plain": [
       "plot without title"
      ]
     },
     "metadata": {
      "image/png": {
       "height": 420,
       "width": 420
      }
     },
     "output_type": "display_data"
    }
   ],
   "source": [
    "df$feature <- factor(df$feature, levels = c(\"total_cre\", \"atac\",\"dnase\", \"h3k4me1\", \"h3k4me3\", \"h3k27ac\", \"h3k9me3\", \"h3k27me3\"))\n",
    "\n",
    "df %>%\n",
    "filter(feature != \"total_cre\") %>%\n",
    "filter(feature == \"atac\" | feature == \"dnase\" | feature == \"h3k27ac\") %>%\n",
    "ggplot(aes(y = overlap_prop, x = feature, fill = cell_type)) +\n",
    "geom_col(position = \"dodge\") +\n",
    "theme_classic()"
   ]
  },
  {
   "cell_type": "code",
   "execution_count": 15,
   "metadata": {},
   "outputs": [
    {
     "data": {
      "text/html": [
       "<strong>png:</strong> 2"
      ],
      "text/latex": [
       "\\textbf{png:} 2"
      ],
      "text/markdown": [
       "**png:** 2"
      ],
      "text/plain": [
       "png \n",
       "  2 "
      ]
     },
     "metadata": {},
     "output_type": "display_data"
    }
   ],
   "source": [
    "pdf(\"/data/gersbachlab/lrb53/encodeCrisprWG/finalversion/figure1/othercelltypes/outs/plot_pdfs/wtc11ipsc.cre.int.atacdnaseh3k27ac.proportion.pdf\")\n",
    "\n",
    "df$feature <- factor(df$feature, levels = c(\"total_cre\", \"atac\",\"dnase\", \"h3k4me1\", \"h3k4me3\", \"h3k27ac\", \"h3k9me3\", \"h3k27me3\"))\n",
    "\n",
    "df %>%\n",
    "filter(feature != \"total_cre\" & cell_type == \"wtc11ipsc\") %>%\n",
    "filter(feature == \"atac\" | feature == \"dnase\" | feature == \"h3k27ac\") %>%\n",
    "ggplot(aes(y = overlap_prop, x = feature, fill = cell_type)) +\n",
    "geom_col(position = \"dodge\") +\n",
    "theme_classic()\n",
    "\n",
    "dev.off()"
   ]
  },
  {
   "cell_type": "code",
   "execution_count": 16,
   "metadata": {},
   "outputs": [
    {
     "data": {
      "text/html": [
       "<strong>png:</strong> 2"
      ],
      "text/latex": [
       "\\textbf{png:} 2"
      ],
      "text/markdown": [
       "**png:** 2"
      ],
      "text/plain": [
       "png \n",
       "  2 "
      ]
     },
     "metadata": {},
     "output_type": "display_data"
    }
   ],
   "source": [
    "pdf(\"/data/gersbachlab/lrb53/encodeCrisprWG/finalversion/figure1/othercelltypes/outs/plot_pdfs/wtc11ipscK562.cre.int.atacdnaseh3k27ac.proportion.pdf\")\n",
    "\n",
    "df$feature <- factor(df$feature, levels = c(\"total_cre\", \"atac\",\"dnase\", \"h3k4me1\", \"h3k4me3\", \"h3k27ac\", \"h3k9me3\", \"h3k27me3\"))\n",
    "\n",
    "df %>%\n",
    "filter(feature != \"total_cre\") %>%\n",
    "filter(feature == \"atac\" | feature == \"dnase\" | feature == \"h3k27ac\") %>%\n",
    "ggplot(aes(y = overlap_prop, x = feature, fill = cell_type)) +\n",
    "geom_col(position = \"dodge\") +\n",
    "theme_classic()\n",
    "\n",
    "dev.off()"
   ]
  },
  {
   "cell_type": "markdown",
   "metadata": {},
   "source": [
    "### Generate upset plot for features of CREs in WTC11 iPSCs"
   ]
  },
  {
   "cell_type": "code",
   "execution_count": 17,
   "metadata": {},
   "outputs": [],
   "source": [
    "suppressPackageStartupMessages(library(UpSetR))"
   ]
  },
  {
   "cell_type": "code",
   "execution_count": 18,
   "metadata": {},
   "outputs": [],
   "source": [
    "input_list <- list(\n",
    "    \"total_cre\" = wtc_cre %>% select(cre) %>% distinct() %>% pull(),\n",
    "    \"atac\" = wtc_int_atac,\n",
    "    \"dnase\" = wtc_int_dnase,\n",
    "    \"h3k4me1\" = wtc_int_h3k4me1,\n",
    "    \"h3k4me3\" = wtc_int_h3k4me3,\n",
    "    \"h3k27ac\" = wtc_int_h3k27ac,\n",
    "    \"h3k9me3\" = wtc_int_h3k9me3,\n",
    "    \"h3k27me3\" = wtc_int_h3k27me3\n",
    ")"
   ]
  },
  {
   "cell_type": "code",
   "execution_count": 19,
   "metadata": {},
   "outputs": [
    {
     "data": {
      "image/png": "[encoded data removed]",
      "text/plain": [
       "plot without title"
      ]
     },
     "metadata": {
      "image/png": {
       "height": 420,
       "width": 420
      }
     },
     "output_type": "display_data"
    }
   ],
   "source": [
    "p1 <- upset(fromList(input_list), \n",
    "      order.by = \"freq\",\n",
    "      nsets = 15,\n",
    "#       nintersects = 40,\n",
    "      queries = list(list(query = intersects, params = list(\"total_cre\",\"atac\",\"dnase\",\"h3k4me1\",\"h3k4me3\",\"h3k27ac\"), \n",
    "                          color = \"lightblue\", active = T)),\n",
    "      # set_size.show = TRUE, ### these do not look good when added in R, add later in Illustrator\n",
    "      # set_size.numbers_size = 5,\n",
    "      point.size = 2, \n",
    "      line.size = 0.5, \n",
    "      mainbar.y.label = \"Intersection Size\", \n",
    "      sets.x.label = \"Overlap with CREs\", \n",
    "      # text.scale = c(2, 2, 1.5, 1.5, 2, 1), # intersection size title, intersection size tick labels, set size title, set size tick labels, set names, numbers above bars\n",
    "      main.bar.color = \"black\", \n",
    "    )\n",
    "\n",
    "\n",
    "p1"
   ]
  },
  {
   "cell_type": "code",
   "execution_count": 20,
   "metadata": {},
   "outputs": [
    {
     "data": {
      "text/html": [
       "<strong>png:</strong> 2"
      ],
      "text/latex": [
       "\\textbf{png:} 2"
      ],
      "text/markdown": [
       "**png:** 2"
      ],
      "text/plain": [
       "png \n",
       "  2 "
      ]
     },
     "metadata": {},
     "output_type": "display_data"
    }
   ],
   "source": [
    "pdf(\"/data/gersbachlab/lrb53/encodeCrisprWG/finalversion/figure1/othercelltypes/outs/plot_pdfs/wtc11ipsc.cre.int.allfeatures.upset.pdf\")\n",
    "\n",
    "p1\n",
    "\n",
    "dev.off()"
   ]
  },
  {
   "cell_type": "code",
   "execution_count": null,
   "metadata": {},
   "outputs": [],
   "source": []
  }
 ],
 "metadata": {
  "kernelspec": {
   "display_name": "R 4.1",
   "language": "R",
   "name": "ir41"
  },
  "language_info": {
   "codemirror_mode": "r",
   "file_extension": ".r",
   "mimetype": "text/x-r-source",
   "name": "R",
   "pygments_lexer": "r",
   "version": "4.1.3"
  }
 },
 "nbformat": 4,
 "nbformat_minor": 2
}
