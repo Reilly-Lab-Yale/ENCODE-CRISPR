{
 "cells": [
  {
   "cell_type": "markdown",
   "metadata": {},
   "source": [
    "# Goal:\n",
    "\n",
    "Fisher's exact test: are the significant regions enriched/depleted in epigenomic features?\n",
    "\n",
    "\n"
   ]
  },
  {
   "cell_type": "markdown",
   "metadata": {},
   "source": [
    "### Load packages"
   ]
  },
  {
   "cell_type": "code",
   "execution_count": 2,
   "metadata": {},
   "outputs": [],
   "source": [
    "suppressPackageStartupMessages(library(tidyverse))"
   ]
  },
  {
   "cell_type": "markdown",
   "metadata": {},
   "source": [
    "### Load and process perturbation data"
   ]
  },
  {
   "cell_type": "markdown",
   "metadata": {},
   "source": [
    "#### Bin coordinates with perturbations"
   ]
  },
  {
   "cell_type": "code",
   "execution_count": 3,
   "metadata": {},
   "outputs": [
    {
     "data": {
      "text/html": [
       "<table class=\"dataframe\">\n",
       "<caption>A data.frame: 1 × 1</caption>\n",
       "<thead>\n",
       "\t<tr><th></th><th scope=col>bin</th></tr>\n",
       "\t<tr><th></th><th scope=col>&lt;chr&gt;</th></tr>\n",
       "</thead>\n",
       "<tbody>\n",
       "\t<tr><th scope=row>1</th><td>chr3:127573700-127574600</td></tr>\n",
       "</tbody>\n",
       "</table>\n"
      ],
      "text/latex": [
       "A data.frame: 1 × 1\n",
       "\\begin{tabular}{r|l}\n",
       "  & bin\\\\\n",
       "  & <chr>\\\\\n",
       "\\hline\n",
       "\t1 & chr3:127573700-127574600\\\\\n",
       "\\end{tabular}\n"
      ],
      "text/markdown": [
       "\n",
       "A data.frame: 1 × 1\n",
       "\n",
       "| <!--/--> | bin &lt;chr&gt; |\n",
       "|---|---|\n",
       "| 1 | chr3:127573700-127574600 |\n",
       "\n"
      ],
      "text/plain": [
       "  bin                     \n",
       "1 chr3:127573700-127574600"
      ]
     },
     "metadata": {},
     "output_type": "display_data"
    },
    {
     "data": {
      "text/html": [
       "<style>\n",
       ".list-inline {list-style: none; margin:0; padding: 0}\n",
       ".list-inline>li {display: inline-block}\n",
       ".list-inline>li:not(:last-child)::after {content: \"\\00b7\"; padding: 0 .5ex}\n",
       "</style>\n",
       "<ol class=list-inline><li>2733</li><li>1</li></ol>\n"
      ],
      "text/latex": [
       "\\begin{enumerate*}\n",
       "\\item 2733\n",
       "\\item 1\n",
       "\\end{enumerate*}\n"
      ],
      "text/markdown": [
       "1. 2733\n",
       "2. 1\n",
       "\n",
       "\n"
      ],
      "text/plain": [
       "[1] 2733    1"
      ]
     },
     "metadata": {},
     "output_type": "display_data"
    }
   ],
   "source": [
    "allregions <- read.delim(\"k562meta/elementReference/combined/binnedgenome.int.k562.elementReference.20230415.merge.bed\",\n",
    "                         header=FALSE, col.names=c(\"bin.chr\",\"bin.start\",\"bin.end\")) %>%\n",
    "mutate(bin = paste0(bin.chr,\":\",bin.start,\"-\",bin.end)) %>% select(bin) %>% distinct()\n",
    "\n",
    "head(allregions,n=1)\n",
    "dim(allregions)"
   ]
  },
  {
   "cell_type": "markdown",
   "metadata": {},
   "source": [
    "#### Load output of bedtools intersect with genomic/epigenomic annotations"
   ]
  },
  {
   "cell_type": "code",
   "execution_count": 4,
   "metadata": {},
   "outputs": [],
   "source": [
    "h3k27ac <- read.delim(\"k562meta/outs/upset/binned.k562.elementReference.k562h3k27ac.txt\",\n",
    "                         header=FALSE, col.names=c(\"bin.chr\",\"bin.start\",\"bin.end\")) %>%\n",
    "mutate(bin = paste0(bin.chr,\":\",bin.start,\"-\",bin.end)) %>% select(bin) %>% distinct() %>% pull()\n",
    "\n",
    "atac <- read.delim(\"k562meta/outs/upset/binned.k562.elementReference.k562atac.txt\",\n",
    "                         header=FALSE, col.names=c(\"bin.chr\",\"bin.start\",\"bin.end\")) %>%\n",
    "mutate(bin = paste0(bin.chr,\":\",bin.start,\"-\",bin.end)) %>% select(bin) %>% distinct() %>% pull()\n",
    "\n",
    "dnase <- read.delim(\"k562meta/outs/upset/binned.k562.elementReference.k562dnase.txt\",\n",
    "                         header=FALSE, col.names=c(\"bin.chr\",\"bin.start\",\"bin.end\")) %>%\n",
    "mutate(bin = paste0(bin.chr,\":\",bin.start,\"-\",bin.end)) %>% select(bin) %>% distinct() %>% pull()\n",
    "\n",
    "cellccre <- read.delim(\"k562meta/outs/upset/binned.k562.elementReference.k562ccres.txt\",\n",
    "                         header=FALSE, col.names=c(\"bin.chr\",\"bin.start\",\"bin.end\")) %>%\n",
    "mutate(bin = paste0(bin.chr,\":\",bin.start,\"-\",bin.end)) %>% select(bin) %>% distinct() %>% pull()\n",
    "\n",
    "allccre <- read.delim(\"k562meta/outs/upset/binned.k562.elementReference.allccres.txt\",\n",
    "                         header=FALSE, col.names=c(\"bin.chr\",\"bin.start\",\"bin.end\")) %>%\n",
    "mutate(bin = paste0(bin.chr,\":\",bin.start,\"-\",bin.end)) %>% select(bin) %>% distinct() %>% pull()\n",
    "\n",
    "unionDnase <- read.delim(\"k562meta/outs/upset/binned.k562.elementReference.uniondnase.txt\",\n",
    "                         header=FALSE, col.names=c(\"bin.chr\",\"bin.start\",\"bin.end\")) %>%\n",
    "mutate(bin = paste0(bin.chr,\":\",bin.start,\"-\",bin.end)) %>% select(bin) %>% distinct() %>% pull()"
   ]
  },
  {
   "cell_type": "code",
   "execution_count": 5,
   "metadata": {},
   "outputs": [],
   "source": [
    "h3k4me1 <- read.delim(\"k562meta/outs/upset/binned.k562.elementReference.k562h3k4me1.txt\",\n",
    "                         header=FALSE, col.names=c(\"bin.chr\",\"bin.start\",\"bin.end\")) %>%\n",
    "mutate(bin = paste0(bin.chr,\":\",bin.start,\"-\",bin.end)) %>% select(bin) %>% distinct() %>% pull()\n",
    "\n",
    "h3k4me3 <- read.delim(\"k562meta/outs/upset/binned.k562.elementReference.k562h3k4me3.txt\",\n",
    "                         header=FALSE, col.names=c(\"bin.chr\",\"bin.start\",\"bin.end\")) %>%\n",
    "mutate(bin = paste0(bin.chr,\":\",bin.start,\"-\",bin.end)) %>% select(bin) %>% distinct() %>% pull()\n",
    "\n",
    "h3k9me3 <- read.delim(\"k562meta/outs/upset/binned.k562.elementReference.k562h3k9me3.txt\",\n",
    "                         header=FALSE, col.names=c(\"bin.chr\",\"bin.start\",\"bin.end\")) %>%\n",
    "mutate(bin = paste0(bin.chr,\":\",bin.start,\"-\",bin.end)) %>% select(bin) %>% distinct() %>% pull()\n",
    "\n",
    "h3k27me3 <- read.delim(\"k562meta/outs/upset/binned.k562.elementReference.k562h3k27me3.txt\",\n",
    "                         header=FALSE, col.names=c(\"bin.chr\",\"bin.start\",\"bin.end\")) %>%\n",
    "mutate(bin = paste0(bin.chr,\":\",bin.start,\"-\",bin.end)) %>% select(bin) %>% distinct() %>% pull()\n",
    "\n",
    "ep300 <- read.delim(\"k562meta/outs/upset/binned.k562.elementReference.k562ep300.txt\",\n",
    "                         header=FALSE, col.names=c(\"bin.chr\",\"bin.start\",\"bin.end\")) %>%\n",
    "mutate(bin = paste0(bin.chr,\":\",bin.start,\"-\",bin.end)) %>% select(bin) %>% distinct() %>% pull()\n",
    "\n",
    "ctcf <- read.delim(\"k562meta/outs/upset/binned.k562.elementReference.k562ctcf.txt\",\n",
    "                         header=FALSE, col.names=c(\"bin.chr\",\"bin.start\",\"bin.end\")) %>%\n",
    "mutate(bin = paste0(bin.chr,\":\",bin.start,\"-\",bin.end)) %>% select(bin) %>% distinct() %>% pull()\n",
    "\n",
    "polr2a <- read.delim(\"k562meta/outs/upset/binned.k562.elementReference.k562polr2a.txt\",\n",
    "                         header=FALSE, col.names=c(\"bin.chr\",\"bin.start\",\"bin.end\")) %>%\n",
    "mutate(bin = paste0(bin.chr,\":\",bin.start,\"-\",bin.end)) %>% select(bin) %>% distinct() %>% pull()"
   ]
  },
  {
   "cell_type": "code",
   "execution_count": 6,
   "metadata": {},
   "outputs": [],
   "source": [
    "rampage <- read.delim(\"k562meta/outs/upset/binned.k562.elementReference.k562rampage.txt\",\n",
    "                         header=FALSE, col.names=c(\"bin.chr\",\"bin.start\",\"bin.end\")) %>%\n",
    "mutate(bin = paste0(bin.chr,\":\",bin.start,\"-\",bin.end)) %>% select(bin) %>% distinct() %>% pull()\n",
    "\n",
    "cage <- read.delim(\"k562meta/outs/upset/binned.k562.elementReference.k562cage.txt\",\n",
    "                         header=FALSE, col.names=c(\"bin.chr\",\"bin.start\",\"bin.end\")) %>%\n",
    "mutate(bin = paste0(bin.chr,\":\",bin.start,\"-\",bin.end)) %>% select(bin) %>% distinct() %>% pull()\n",
    "\n",
    "grocap_capped <- read.delim(\"k562meta/outs/upset/binned.k562.elementReference.k562grocap.capped.txt\",\n",
    "                         header=FALSE, col.names=c(\"bin.chr\",\"bin.start\",\"bin.end\")) %>%\n",
    "mutate(bin = paste0(bin.chr,\":\",bin.start,\"-\",bin.end)) %>% select(bin) %>% distinct() %>% pull()"
   ]
  },
  {
   "cell_type": "code",
   "execution_count": 7,
   "metadata": {},
   "outputs": [
    {
     "data": {
      "text/html": [
       "755"
      ],
      "text/latex": [
       "755"
      ],
      "text/markdown": [
       "755"
      ],
      "text/plain": [
       "[1] 755"
      ]
     },
     "metadata": {},
     "output_type": "display_data"
    },
    {
     "data": {
      "text/html": [
       "1023"
      ],
      "text/latex": [
       "1023"
      ],
      "text/markdown": [
       "1023"
      ],
      "text/plain": [
       "[1] 1023"
      ]
     },
     "metadata": {},
     "output_type": "display_data"
    },
    {
     "data": {
      "text/html": [
       "956"
      ],
      "text/latex": [
       "956"
      ],
      "text/markdown": [
       "956"
      ],
      "text/plain": [
       "[1] 956"
      ]
     },
     "metadata": {},
     "output_type": "display_data"
    },
    {
     "data": {
      "text/html": [
       "2321"
      ],
      "text/latex": [
       "2321"
      ],
      "text/markdown": [
       "2321"
      ],
      "text/plain": [
       "[1] 2321"
      ]
     },
     "metadata": {},
     "output_type": "display_data"
    },
    {
     "data": {
      "text/html": [
       "2321"
      ],
      "text/latex": [
       "2321"
      ],
      "text/markdown": [
       "2321"
      ],
      "text/plain": [
       "[1] 2321"
      ]
     },
     "metadata": {},
     "output_type": "display_data"
    },
    {
     "data": {
      "text/html": [
       "2266"
      ],
      "text/latex": [
       "2266"
      ],
      "text/markdown": [
       "2266"
      ],
      "text/plain": [
       "[1] 2266"
      ]
     },
     "metadata": {},
     "output_type": "display_data"
    }
   ],
   "source": [
    "length(h3k27ac)\n",
    "length(atac)\n",
    "length(dnase)\n",
    "length(cellccre)\n",
    "length(allccre)\n",
    "length(unionDnase)"
   ]
  },
  {
   "cell_type": "code",
   "execution_count": 8,
   "metadata": {},
   "outputs": [
    {
     "data": {
      "text/html": [
       "988"
      ],
      "text/latex": [
       "988"
      ],
      "text/markdown": [
       "988"
      ],
      "text/plain": [
       "[1] 988"
      ]
     },
     "metadata": {},
     "output_type": "display_data"
    },
    {
     "data": {
      "text/html": [
       "379"
      ],
      "text/latex": [
       "379"
      ],
      "text/markdown": [
       "379"
      ],
      "text/plain": [
       "[1] 379"
      ]
     },
     "metadata": {},
     "output_type": "display_data"
    },
    {
     "data": {
      "text/html": [
       "59"
      ],
      "text/latex": [
       "59"
      ],
      "text/markdown": [
       "59"
      ],
      "text/plain": [
       "[1] 59"
      ]
     },
     "metadata": {},
     "output_type": "display_data"
    },
    {
     "data": {
      "text/html": [
       "257"
      ],
      "text/latex": [
       "257"
      ],
      "text/markdown": [
       "257"
      ],
      "text/plain": [
       "[1] 257"
      ]
     },
     "metadata": {},
     "output_type": "display_data"
    },
    {
     "data": {
      "text/html": [
       "366"
      ],
      "text/latex": [
       "366"
      ],
      "text/markdown": [
       "366"
      ],
      "text/plain": [
       "[1] 366"
      ]
     },
     "metadata": {},
     "output_type": "display_data"
    },
    {
     "data": {
      "text/html": [
       "499"
      ],
      "text/latex": [
       "499"
      ],
      "text/markdown": [
       "499"
      ],
      "text/plain": [
       "[1] 499"
      ]
     },
     "metadata": {},
     "output_type": "display_data"
    },
    {
     "data": {
      "text/html": [
       "367"
      ],
      "text/latex": [
       "367"
      ],
      "text/markdown": [
       "367"
      ],
      "text/plain": [
       "[1] 367"
      ]
     },
     "metadata": {},
     "output_type": "display_data"
    }
   ],
   "source": [
    "length(h3k4me1)\n",
    "length(h3k4me3)\n",
    "length(h3k9me3)\n",
    "length(h3k27me3)\n",
    "length(ep300)\n",
    "length(ctcf)\n",
    "length(polr2a)"
   ]
  },
  {
   "cell_type": "code",
   "execution_count": 9,
   "metadata": {},
   "outputs": [
    {
     "data": {
      "text/html": [
       "142"
      ],
      "text/latex": [
       "142"
      ],
      "text/markdown": [
       "142"
      ],
      "text/plain": [
       "[1] 142"
      ]
     },
     "metadata": {},
     "output_type": "display_data"
    },
    {
     "data": {
      "text/html": [
       "143"
      ],
      "text/latex": [
       "143"
      ],
      "text/markdown": [
       "143"
      ],
      "text/plain": [
       "[1] 143"
      ]
     },
     "metadata": {},
     "output_type": "display_data"
    },
    {
     "data": {
      "text/html": [
       "422"
      ],
      "text/latex": [
       "422"
      ],
      "text/markdown": [
       "422"
      ],
      "text/plain": [
       "[1] 422"
      ]
     },
     "metadata": {},
     "output_type": "display_data"
    }
   ],
   "source": [
    "length(rampage)\n",
    "length(cage)\n",
    "length(grocap_capped)"
   ]
  },
  {
   "cell_type": "markdown",
   "metadata": {},
   "source": [
    "#### Generate df with binary value for overlap with feature"
   ]
  },
  {
   "cell_type": "code",
   "execution_count": 10,
   "metadata": {
    "scrolled": true
   },
   "outputs": [],
   "source": [
    "workdf1 <-\n",
    "allregions %>% \n",
    "mutate(dnase_union = ifelse(bin %in% unionDnase, 1, 0),\n",
    "       ccre_all = ifelse(bin %in% allccre, 1, 0),\n",
    "       ccre_k562 = ifelse(bin %in% cellccre, 1, 0),\n",
    "       dnase_k562 = ifelse(bin %in% dnase, 1, 0),\n",
    "       atac_k562 = ifelse(bin %in% atac, 1, 0),\n",
    "       h3k27ac_k562 = ifelse(bin %in% h3k27ac, 1, 0),\n",
    "       h3k4me1_k562 = ifelse(bin %in% h3k4me1, 1, 0),\n",
    "       h3k4me3_k562 = ifelse(bin %in% h3k4me3, 1, 0),\n",
    "       h3k9me3_k562 = ifelse(bin %in% h3k9me3, 1, 0),\n",
    "       h3k27me3_k562 = ifelse(bin %in% h3k27me3, 1, 0),\n",
    "       ep300_k562 = ifelse(bin %in% ep300, 1, 0),\n",
    "       ctcf_k562 = ifelse(bin %in% ctcf, 1, 0),\n",
    "       polr2a_k562 = ifelse(bin %in% polr2a, 1, 0),\n",
    "       rampage_k562 = ifelse(bin %in% rampage, 1, 0),\n",
    "       cage_k562 = ifelse(bin %in% cage, 1, 0),\n",
    "       grocap_capped_k562 = ifelse(bin %in% grocap_capped, 1, 0)\n",
    "       )"
   ]
  },
  {
   "cell_type": "markdown",
   "metadata": {},
   "source": [
    "### Load and process significant element data"
   ]
  },
  {
   "cell_type": "markdown",
   "metadata": {},
   "source": [
    "#### Bin coordinates with CREs"
   ]
  },
  {
   "cell_type": "code",
   "execution_count": 11,
   "metadata": {},
   "outputs": [
    {
     "data": {
      "text/html": [
       "<table class=\"dataframe\">\n",
       "<caption>A data.frame: 1 × 1</caption>\n",
       "<thead>\n",
       "\t<tr><th></th><th scope=col>bin</th></tr>\n",
       "\t<tr><th></th><th scope=col>&lt;chr&gt;</th></tr>\n",
       "</thead>\n",
       "<tbody>\n",
       "\t<tr><th scope=row>1</th><td>chr3:127672600-127673300</td></tr>\n",
       "</tbody>\n",
       "</table>\n"
      ],
      "text/latex": [
       "A data.frame: 1 × 1\n",
       "\\begin{tabular}{r|l}\n",
       "  & bin\\\\\n",
       "  & <chr>\\\\\n",
       "\\hline\n",
       "\t1 & chr3:127672600-127673300\\\\\n",
       "\\end{tabular}\n"
      ],
      "text/markdown": [
       "\n",
       "A data.frame: 1 × 1\n",
       "\n",
       "| <!--/--> | bin &lt;chr&gt; |\n",
       "|---|---|\n",
       "| 1 | chr3:127672600-127673300 |\n",
       "\n"
      ],
      "text/plain": [
       "  bin                     \n",
       "1 chr3:127672600-127673300"
      ]
     },
     "metadata": {},
     "output_type": "display_data"
    },
    {
     "data": {
      "text/html": [
       "<style>\n",
       ".list-inline {list-style: none; margin:0; padding: 0}\n",
       ".list-inline>li {display: inline-block}\n",
       ".list-inline>li:not(:last-child)::after {content: \"\\00b7\"; padding: 0 .5ex}\n",
       "</style>\n",
       "<ol class=list-inline><li>210</li><li>1</li></ol>\n"
      ],
      "text/latex": [
       "\\begin{enumerate*}\n",
       "\\item 210\n",
       "\\item 1\n",
       "\\end{enumerate*}\n"
      ],
      "text/markdown": [
       "1. 210\n",
       "2. 1\n",
       "\n",
       "\n"
      ],
      "text/plain": [
       "[1] 210   1"
      ]
     },
     "metadata": {},
     "output_type": "display_data"
    }
   ],
   "source": [
    "sigregions <- read.delim(\"k562meta/elementQuant/combined/binnedgenome.int.k562.elementQuant.20230415.merge.bed\",\n",
    "                         header=FALSE, col.names=c(\"bin.chr\",\"bin.start\",\"bin.end\")) %>%\n",
    "mutate(bin = paste0(bin.chr,\":\",bin.start,\"-\",bin.end)) %>% select(bin) %>% distinct()\n",
    "\n",
    "head(sigregions,n=1)\n",
    "dim(sigregions)"
   ]
  },
  {
   "cell_type": "markdown",
   "metadata": {},
   "source": [
    "#### Load output of bedtools intersect with genomic/epigenomic annotations"
   ]
  },
  {
   "cell_type": "code",
   "execution_count": 12,
   "metadata": {},
   "outputs": [],
   "source": [
    "h3k27ac <- read.delim(\"k562meta/outs/upset/binned.k562.elementQuant.k562h3k27ac.txt\",\n",
    "                         header=FALSE, col.names=c(\"bin.chr\",\"bin.start\",\"bin.end\")) %>%\n",
    "mutate(bin = paste0(bin.chr,\":\",bin.start,\"-\",bin.end)) %>% select(bin) %>% distinct() %>% pull()\n",
    "\n",
    "atac <- read.delim(\"k562meta/outs/upset/binned.k562.elementQuant.k562atac.txt\",\n",
    "                         header=FALSE, col.names=c(\"bin.chr\",\"bin.start\",\"bin.end\")) %>%\n",
    "mutate(bin = paste0(bin.chr,\":\",bin.start,\"-\",bin.end)) %>% select(bin) %>% distinct() %>% pull()\n",
    "\n",
    "dnase <- read.delim(\"k562meta/outs/upset/binned.k562.elementQuant.k562dnase.txt\",\n",
    "                         header=FALSE, col.names=c(\"bin.chr\",\"bin.start\",\"bin.end\")) %>%\n",
    "mutate(bin = paste0(bin.chr,\":\",bin.start,\"-\",bin.end)) %>% select(bin) %>% distinct() %>% pull()\n",
    "\n",
    "cellccre <- read.delim(\"k562meta/outs/upset/binned.k562.elementQuant.k562ccres.txt\",\n",
    "                         header=FALSE, col.names=c(\"bin.chr\",\"bin.start\",\"bin.end\")) %>%\n",
    "mutate(bin = paste0(bin.chr,\":\",bin.start,\"-\",bin.end)) %>% select(bin) %>% distinct() %>% pull()\n",
    "\n",
    "allccre <- read.delim(\"k562meta/outs/upset/binned.k562.elementQuant.allccres.txt\",\n",
    "                         header=FALSE, col.names=c(\"bin.chr\",\"bin.start\",\"bin.end\")) %>%\n",
    "mutate(bin = paste0(bin.chr,\":\",bin.start,\"-\",bin.end)) %>% select(bin) %>% distinct() %>% pull()\n",
    "\n",
    "unionDnase <- read.delim(\"k562meta/outs/upset/binned.k562.elementQuant.uniondnase.txt\",\n",
    "                         header=FALSE, col.names=c(\"bin.chr\",\"bin.start\",\"bin.end\")) %>%\n",
    "mutate(bin = paste0(bin.chr,\":\",bin.start,\"-\",bin.end)) %>% select(bin) %>% distinct() %>% pull()"
   ]
  },
  {
   "cell_type": "code",
   "execution_count": 13,
   "metadata": {},
   "outputs": [],
   "source": [
    "h3k4me1 <- read.delim(\"k562meta/outs/upset/binned.k562.elementQuant.k562h3k4me1.txt\",\n",
    "                         header=FALSE, col.names=c(\"bin.chr\",\"bin.start\",\"bin.end\")) %>%\n",
    "mutate(bin = paste0(bin.chr,\":\",bin.start,\"-\",bin.end)) %>% select(bin) %>% distinct() %>% pull()\n",
    "\n",
    "h3k4me3 <- read.delim(\"k562meta/outs/upset/binned.k562.elementQuant.k562h3k4me3.txt\",\n",
    "                         header=FALSE, col.names=c(\"bin.chr\",\"bin.start\",\"bin.end\")) %>%\n",
    "mutate(bin = paste0(bin.chr,\":\",bin.start,\"-\",bin.end)) %>% select(bin) %>% distinct() %>% pull()\n",
    "\n",
    "h3k9me3 <- read.delim(\"k562meta/outs/upset/binned.k562.elementQuant.k562h3k9me3.txt\",\n",
    "                         header=FALSE, col.names=c(\"bin.chr\",\"bin.start\",\"bin.end\")) %>%\n",
    "mutate(bin = paste0(bin.chr,\":\",bin.start,\"-\",bin.end)) %>% select(bin) %>% distinct() %>% pull()\n",
    "\n",
    "h3k27me3 <- read.delim(\"k562meta/outs/upset/binned.k562.elementQuant.k562h3k27me3.txt\",\n",
    "                         header=FALSE, col.names=c(\"bin.chr\",\"bin.start\",\"bin.end\")) %>%\n",
    "mutate(bin = paste0(bin.chr,\":\",bin.start,\"-\",bin.end)) %>% select(bin) %>% distinct() %>% pull()\n",
    "\n",
    "ep300 <- read.delim(\"k562meta/outs/upset/binned.k562.elementQuant.k562ep300.txt\",\n",
    "                         header=FALSE, col.names=c(\"bin.chr\",\"bin.start\",\"bin.end\")) %>%\n",
    "mutate(bin = paste0(bin.chr,\":\",bin.start,\"-\",bin.end)) %>% select(bin) %>% distinct() %>% pull()\n",
    "\n",
    "ctcf <- read.delim(\"k562meta/outs/upset/binned.k562.elementQuant.k562ctcf.txt\",\n",
    "                         header=FALSE, col.names=c(\"bin.chr\",\"bin.start\",\"bin.end\")) %>%\n",
    "mutate(bin = paste0(bin.chr,\":\",bin.start,\"-\",bin.end)) %>% select(bin) %>% distinct() %>% pull()\n",
    "\n",
    "polr2a <- read.delim(\"k562meta/outs/upset/binned.k562.elementQuant.k562polr2a.txt\",\n",
    "                         header=FALSE, col.names=c(\"bin.chr\",\"bin.start\",\"bin.end\")) %>%\n",
    "mutate(bin = paste0(bin.chr,\":\",bin.start,\"-\",bin.end)) %>% select(bin) %>% distinct() %>% pull()"
   ]
  },
  {
   "cell_type": "code",
   "execution_count": 14,
   "metadata": {},
   "outputs": [],
   "source": [
    "rampage <- read.delim(\"k562meta/outs/upset/binned.k562.elementQuant.k562rampage.txt\",\n",
    "                         header=FALSE, col.names=c(\"bin.chr\",\"bin.start\",\"bin.end\")) %>%\n",
    "mutate(bin = paste0(bin.chr,\":\",bin.start,\"-\",bin.end)) %>% select(bin) %>% distinct() %>% pull()\n",
    "\n",
    "cage <- read.delim(\"k562meta/outs/upset/binned.k562.elementQuant.k562cage.txt\",\n",
    "                         header=FALSE, col.names=c(\"bin.chr\",\"bin.start\",\"bin.end\")) %>%\n",
    "mutate(bin = paste0(bin.chr,\":\",bin.start,\"-\",bin.end)) %>% select(bin) %>% distinct() %>% pull()\n",
    "\n",
    "grocap_capped <- read.delim(\"k562meta/outs/upset/binned.k562.elementQuant.k562grocap.capped.txt\",\n",
    "                         header=FALSE, col.names=c(\"bin.chr\",\"bin.start\",\"bin.end\")) %>%\n",
    "mutate(bin = paste0(bin.chr,\":\",bin.start,\"-\",bin.end)) %>% select(bin) %>% distinct() %>% pull()"
   ]
  },
  {
   "cell_type": "code",
   "execution_count": 15,
   "metadata": {},
   "outputs": [
    {
     "data": {
      "text/html": [
       "182"
      ],
      "text/latex": [
       "182"
      ],
      "text/markdown": [
       "182"
      ],
      "text/plain": [
       "[1] 182"
      ]
     },
     "metadata": {},
     "output_type": "display_data"
    },
    {
     "data": {
      "text/html": [
       "165"
      ],
      "text/latex": [
       "165"
      ],
      "text/markdown": [
       "165"
      ],
      "text/plain": [
       "[1] 165"
      ]
     },
     "metadata": {},
     "output_type": "display_data"
    },
    {
     "data": {
      "text/html": [
       "167"
      ],
      "text/latex": [
       "167"
      ],
      "text/markdown": [
       "167"
      ],
      "text/plain": [
       "[1] 167"
      ]
     },
     "metadata": {},
     "output_type": "display_data"
    },
    {
     "data": {
      "text/html": [
       "205"
      ],
      "text/latex": [
       "205"
      ],
      "text/markdown": [
       "205"
      ],
      "text/plain": [
       "[1] 205"
      ]
     },
     "metadata": {},
     "output_type": "display_data"
    },
    {
     "data": {
      "text/html": [
       "205"
      ],
      "text/latex": [
       "205"
      ],
      "text/markdown": [
       "205"
      ],
      "text/plain": [
       "[1] 205"
      ]
     },
     "metadata": {},
     "output_type": "display_data"
    },
    {
     "data": {
      "text/html": [
       "203"
      ],
      "text/latex": [
       "203"
      ],
      "text/markdown": [
       "203"
      ],
      "text/plain": [
       "[1] 203"
      ]
     },
     "metadata": {},
     "output_type": "display_data"
    }
   ],
   "source": [
    "length(h3k27ac)\n",
    "length(atac)\n",
    "length(dnase)\n",
    "length(cellccre)\n",
    "length(allccre)\n",
    "length(unionDnase)"
   ]
  },
  {
   "cell_type": "code",
   "execution_count": 16,
   "metadata": {},
   "outputs": [
    {
     "data": {
      "text/html": [
       "159"
      ],
      "text/latex": [
       "159"
      ],
      "text/markdown": [
       "159"
      ],
      "text/plain": [
       "[1] 159"
      ]
     },
     "metadata": {},
     "output_type": "display_data"
    },
    {
     "data": {
      "text/html": [
       "117"
      ],
      "text/latex": [
       "117"
      ],
      "text/markdown": [
       "117"
      ],
      "text/plain": [
       "[1] 117"
      ]
     },
     "metadata": {},
     "output_type": "display_data"
    },
    {
     "data": {
      "text/html": [
       "0"
      ],
      "text/latex": [
       "0"
      ],
      "text/markdown": [
       "0"
      ],
      "text/plain": [
       "[1] 0"
      ]
     },
     "metadata": {},
     "output_type": "display_data"
    },
    {
     "data": {
      "text/html": [
       "1"
      ],
      "text/latex": [
       "1"
      ],
      "text/markdown": [
       "1"
      ],
      "text/plain": [
       "[1] 1"
      ]
     },
     "metadata": {},
     "output_type": "display_data"
    },
    {
     "data": {
      "text/html": [
       "89"
      ],
      "text/latex": [
       "89"
      ],
      "text/markdown": [
       "89"
      ],
      "text/plain": [
       "[1] 89"
      ]
     },
     "metadata": {},
     "output_type": "display_data"
    },
    {
     "data": {
      "text/html": [
       "72"
      ],
      "text/latex": [
       "72"
      ],
      "text/markdown": [
       "72"
      ],
      "text/plain": [
       "[1] 72"
      ]
     },
     "metadata": {},
     "output_type": "display_data"
    },
    {
     "data": {
      "text/html": [
       "127"
      ],
      "text/latex": [
       "127"
      ],
      "text/markdown": [
       "127"
      ],
      "text/plain": [
       "[1] 127"
      ]
     },
     "metadata": {},
     "output_type": "display_data"
    }
   ],
   "source": [
    "length(h3k4me1)\n",
    "length(h3k4me3)\n",
    "length(h3k9me3)\n",
    "length(h3k27me3)\n",
    "length(ep300)\n",
    "length(ctcf)\n",
    "length(polr2a)"
   ]
  },
  {
   "cell_type": "code",
   "execution_count": 17,
   "metadata": {},
   "outputs": [
    {
     "data": {
      "text/html": [
       "44"
      ],
      "text/latex": [
       "44"
      ],
      "text/markdown": [
       "44"
      ],
      "text/plain": [
       "[1] 44"
      ]
     },
     "metadata": {},
     "output_type": "display_data"
    },
    {
     "data": {
      "text/html": [
       "54"
      ],
      "text/latex": [
       "54"
      ],
      "text/markdown": [
       "54"
      ],
      "text/plain": [
       "[1] 54"
      ]
     },
     "metadata": {},
     "output_type": "display_data"
    },
    {
     "data": {
      "text/html": [
       "124"
      ],
      "text/latex": [
       "124"
      ],
      "text/markdown": [
       "124"
      ],
      "text/plain": [
       "[1] 124"
      ]
     },
     "metadata": {},
     "output_type": "display_data"
    }
   ],
   "source": [
    "length(rampage)\n",
    "length(cage)\n",
    "length(grocap_capped)"
   ]
  },
  {
   "cell_type": "markdown",
   "metadata": {},
   "source": [
    "#### Generate df with binary value for overlap with feature"
   ]
  },
  {
   "cell_type": "code",
   "execution_count": 18,
   "metadata": {
    "scrolled": true
   },
   "outputs": [],
   "source": [
    "workdf2 <-\n",
    "sigregions %>%\n",
    "mutate(dnase_union = ifelse(bin %in% unionDnase, 1, 0),\n",
    "       ccre_all = ifelse(bin %in% allccre, 1, 0),\n",
    "       ccre_k562 = ifelse(bin %in% cellccre, 1, 0),\n",
    "       dnase_k562 = ifelse(bin %in% dnase, 1, 0),\n",
    "       atac_k562 = ifelse(bin %in% atac, 1, 0),\n",
    "       h3k27ac_k562 = ifelse(bin %in% h3k27ac, 1, 0),\n",
    "       h3k4me1_k562 = ifelse(bin %in% h3k4me1, 1, 0),\n",
    "       h3k4me3_k562 = ifelse(bin %in% h3k4me3, 1, 0),\n",
    "       h3k9me3_k562 = ifelse(bin %in% h3k9me3, 1, 0),\n",
    "       h3k27me3_k562 = ifelse(bin %in% h3k27me3, 1, 0),\n",
    "       ep300_k562 = ifelse(bin %in% ep300, 1, 0),\n",
    "       ctcf_k562 = ifelse(bin %in% ctcf, 1, 0),\n",
    "       polr2a_k562 = ifelse(bin %in% polr2a, 1, 0),\n",
    "       rampage_k562 = ifelse(bin %in% rampage, 1, 0),\n",
    "       cage_k562 = ifelse(bin %in% cage, 1, 0),\n",
    "       grocap_capped_k562 = ifelse(bin %in% grocap_capped, 1, 0)\n",
    "       )"
   ]
  },
  {
   "cell_type": "markdown",
   "metadata": {},
   "source": [
    "### Compare perturbed vs significant\n",
    "\n",
    " 1. Use the binned genome output files --> comparing the regions called significant versus those with a perturbation.\n"
   ]
  },
  {
   "cell_type": "markdown",
   "metadata": {},
   "source": [
    "#### Approach 1. Compare the number of bins."
   ]
  },
  {
   "cell_type": "code",
   "execution_count": 19,
   "metadata": {},
   "outputs": [
    {
     "name": "stderr",
     "output_type": "stream",
     "text": [
      "\u001b[1m\u001b[22m`summarise()` has grouped output by 'feature'. You can override using the\n",
      "`.groups` argument.\n"
     ]
    },
    {
     "data": {
      "text/html": [
       "<table class=\"dataframe\">\n",
       "<caption>A tibble: 32 × 3</caption>\n",
       "<thead>\n",
       "\t<tr><th scope=col>feature</th><th scope=col>overlap</th><th scope=col>n</th></tr>\n",
       "\t<tr><th scope=col>&lt;chr&gt;</th><th scope=col>&lt;dbl&gt;</th><th scope=col>&lt;int&gt;</th></tr>\n",
       "</thead>\n",
       "<tbody>\n",
       "\t<tr><td>atac_k562         </td><td>0</td><td>1710</td></tr>\n",
       "\t<tr><td>atac_k562         </td><td>1</td><td>1023</td></tr>\n",
       "\t<tr><td>cage_k562         </td><td>0</td><td>2590</td></tr>\n",
       "\t<tr><td>cage_k562         </td><td>1</td><td> 143</td></tr>\n",
       "\t<tr><td>ccre_all          </td><td>0</td><td> 412</td></tr>\n",
       "\t<tr><td>ccre_all          </td><td>1</td><td>2321</td></tr>\n",
       "\t<tr><td>ccre_k562         </td><td>0</td><td> 412</td></tr>\n",
       "\t<tr><td>ccre_k562         </td><td>1</td><td>2321</td></tr>\n",
       "\t<tr><td>ctcf_k562         </td><td>0</td><td>2234</td></tr>\n",
       "\t<tr><td>ctcf_k562         </td><td>1</td><td> 499</td></tr>\n",
       "\t<tr><td>dnase_k562        </td><td>0</td><td>1777</td></tr>\n",
       "\t<tr><td>dnase_k562        </td><td>1</td><td> 956</td></tr>\n",
       "\t<tr><td>dnase_union       </td><td>0</td><td> 467</td></tr>\n",
       "\t<tr><td>dnase_union       </td><td>1</td><td>2266</td></tr>\n",
       "\t<tr><td>ep300_k562        </td><td>0</td><td>2367</td></tr>\n",
       "\t<tr><td>ep300_k562        </td><td>1</td><td> 366</td></tr>\n",
       "\t<tr><td>grocap_capped_k562</td><td>0</td><td>2311</td></tr>\n",
       "\t<tr><td>grocap_capped_k562</td><td>1</td><td> 422</td></tr>\n",
       "\t<tr><td>h3k27ac_k562      </td><td>0</td><td>1978</td></tr>\n",
       "\t<tr><td>h3k27ac_k562      </td><td>1</td><td> 755</td></tr>\n",
       "\t<tr><td>h3k27me3_k562     </td><td>0</td><td>2476</td></tr>\n",
       "\t<tr><td>h3k27me3_k562     </td><td>1</td><td> 257</td></tr>\n",
       "\t<tr><td>h3k4me1_k562      </td><td>0</td><td>1745</td></tr>\n",
       "\t<tr><td>h3k4me1_k562      </td><td>1</td><td> 988</td></tr>\n",
       "\t<tr><td>h3k4me3_k562      </td><td>0</td><td>2354</td></tr>\n",
       "\t<tr><td>h3k4me3_k562      </td><td>1</td><td> 379</td></tr>\n",
       "\t<tr><td>h3k9me3_k562      </td><td>0</td><td>2674</td></tr>\n",
       "\t<tr><td>h3k9me3_k562      </td><td>1</td><td>  59</td></tr>\n",
       "\t<tr><td>polr2a_k562       </td><td>0</td><td>2366</td></tr>\n",
       "\t<tr><td>polr2a_k562       </td><td>1</td><td> 367</td></tr>\n",
       "\t<tr><td>rampage_k562      </td><td>0</td><td>2591</td></tr>\n",
       "\t<tr><td>rampage_k562      </td><td>1</td><td> 142</td></tr>\n",
       "</tbody>\n",
       "</table>\n"
      ],
      "text/latex": [
       "A tibble: 32 × 3\n",
       "\\begin{tabular}{lll}\n",
       " feature & overlap & n\\\\\n",
       " <chr> & <dbl> & <int>\\\\\n",
       "\\hline\n",
       "\t atac\\_k562          & 0 & 1710\\\\\n",
       "\t atac\\_k562          & 1 & 1023\\\\\n",
       "\t cage\\_k562          & 0 & 2590\\\\\n",
       "\t cage\\_k562          & 1 &  143\\\\\n",
       "\t ccre\\_all           & 0 &  412\\\\\n",
       "\t ccre\\_all           & 1 & 2321\\\\\n",
       "\t ccre\\_k562          & 0 &  412\\\\\n",
       "\t ccre\\_k562          & 1 & 2321\\\\\n",
       "\t ctcf\\_k562          & 0 & 2234\\\\\n",
       "\t ctcf\\_k562          & 1 &  499\\\\\n",
       "\t dnase\\_k562         & 0 & 1777\\\\\n",
       "\t dnase\\_k562         & 1 &  956\\\\\n",
       "\t dnase\\_union        & 0 &  467\\\\\n",
       "\t dnase\\_union        & 1 & 2266\\\\\n",
       "\t ep300\\_k562         & 0 & 2367\\\\\n",
       "\t ep300\\_k562         & 1 &  366\\\\\n",
       "\t grocap\\_capped\\_k562 & 0 & 2311\\\\\n",
       "\t grocap\\_capped\\_k562 & 1 &  422\\\\\n",
       "\t h3k27ac\\_k562       & 0 & 1978\\\\\n",
       "\t h3k27ac\\_k562       & 1 &  755\\\\\n",
       "\t h3k27me3\\_k562      & 0 & 2476\\\\\n",
       "\t h3k27me3\\_k562      & 1 &  257\\\\\n",
       "\t h3k4me1\\_k562       & 0 & 1745\\\\\n",
       "\t h3k4me1\\_k562       & 1 &  988\\\\\n",
       "\t h3k4me3\\_k562       & 0 & 2354\\\\\n",
       "\t h3k4me3\\_k562       & 1 &  379\\\\\n",
       "\t h3k9me3\\_k562       & 0 & 2674\\\\\n",
       "\t h3k9me3\\_k562       & 1 &   59\\\\\n",
       "\t polr2a\\_k562        & 0 & 2366\\\\\n",
       "\t polr2a\\_k562        & 1 &  367\\\\\n",
       "\t rampage\\_k562       & 0 & 2591\\\\\n",
       "\t rampage\\_k562       & 1 &  142\\\\\n",
       "\\end{tabular}\n"
      ],
      "text/markdown": [
       "\n",
       "A tibble: 32 × 3\n",
       "\n",
       "| feature &lt;chr&gt; | overlap &lt;dbl&gt; | n &lt;int&gt; |\n",
       "|---|---|---|\n",
       "| atac_k562          | 0 | 1710 |\n",
       "| atac_k562          | 1 | 1023 |\n",
       "| cage_k562          | 0 | 2590 |\n",
       "| cage_k562          | 1 |  143 |\n",
       "| ccre_all           | 0 |  412 |\n",
       "| ccre_all           | 1 | 2321 |\n",
       "| ccre_k562          | 0 |  412 |\n",
       "| ccre_k562          | 1 | 2321 |\n",
       "| ctcf_k562          | 0 | 2234 |\n",
       "| ctcf_k562          | 1 |  499 |\n",
       "| dnase_k562         | 0 | 1777 |\n",
       "| dnase_k562         | 1 |  956 |\n",
       "| dnase_union        | 0 |  467 |\n",
       "| dnase_union        | 1 | 2266 |\n",
       "| ep300_k562         | 0 | 2367 |\n",
       "| ep300_k562         | 1 |  366 |\n",
       "| grocap_capped_k562 | 0 | 2311 |\n",
       "| grocap_capped_k562 | 1 |  422 |\n",
       "| h3k27ac_k562       | 0 | 1978 |\n",
       "| h3k27ac_k562       | 1 |  755 |\n",
       "| h3k27me3_k562      | 0 | 2476 |\n",
       "| h3k27me3_k562      | 1 |  257 |\n",
       "| h3k4me1_k562       | 0 | 1745 |\n",
       "| h3k4me1_k562       | 1 |  988 |\n",
       "| h3k4me3_k562       | 0 | 2354 |\n",
       "| h3k4me3_k562       | 1 |  379 |\n",
       "| h3k9me3_k562       | 0 | 2674 |\n",
       "| h3k9me3_k562       | 1 |   59 |\n",
       "| polr2a_k562        | 0 | 2366 |\n",
       "| polr2a_k562        | 1 |  367 |\n",
       "| rampage_k562       | 0 | 2591 |\n",
       "| rampage_k562       | 1 |  142 |\n",
       "\n"
      ],
      "text/plain": [
       "   feature            overlap n   \n",
       "1  atac_k562          0       1710\n",
       "2  atac_k562          1       1023\n",
       "3  cage_k562          0       2590\n",
       "4  cage_k562          1        143\n",
       "5  ccre_all           0        412\n",
       "6  ccre_all           1       2321\n",
       "7  ccre_k562          0        412\n",
       "8  ccre_k562          1       2321\n",
       "9  ctcf_k562          0       2234\n",
       "10 ctcf_k562          1        499\n",
       "11 dnase_k562         0       1777\n",
       "12 dnase_k562         1        956\n",
       "13 dnase_union        0        467\n",
       "14 dnase_union        1       2266\n",
       "15 ep300_k562         0       2367\n",
       "16 ep300_k562         1        366\n",
       "17 grocap_capped_k562 0       2311\n",
       "18 grocap_capped_k562 1        422\n",
       "19 h3k27ac_k562       0       1978\n",
       "20 h3k27ac_k562       1        755\n",
       "21 h3k27me3_k562      0       2476\n",
       "22 h3k27me3_k562      1        257\n",
       "23 h3k4me1_k562       0       1745\n",
       "24 h3k4me1_k562       1        988\n",
       "25 h3k4me3_k562       0       2354\n",
       "26 h3k4me3_k562       1        379\n",
       "27 h3k9me3_k562       0       2674\n",
       "28 h3k9me3_k562       1         59\n",
       "29 polr2a_k562        0       2366\n",
       "30 polr2a_k562        1        367\n",
       "31 rampage_k562       0       2591\n",
       "32 rampage_k562       1        142"
      ]
     },
     "metadata": {},
     "output_type": "display_data"
    }
   ],
   "source": [
    "workdf1 %>%\n",
    "pivot_longer(cols = dnase_union:grocap_capped_k562, names_to = \"feature\", values_to = \"overlap\") %>%\n",
    "group_by(feature,overlap) %>%\n",
    "summarise(n=n()) %>%\n",
    "ungroup() "
   ]
  },
  {
   "cell_type": "code",
   "execution_count": 20,
   "metadata": {},
   "outputs": [
    {
     "name": "stderr",
     "output_type": "stream",
     "text": [
      "\u001b[1m\u001b[22m`summarise()` has grouped output by 'feature'. You can override using the\n",
      "`.groups` argument.\n"
     ]
    },
    {
     "data": {
      "text/html": [
       "<table class=\"dataframe\">\n",
       "<caption>A tibble: 31 × 3</caption>\n",
       "<thead>\n",
       "\t<tr><th scope=col>feature</th><th scope=col>overlap</th><th scope=col>n</th></tr>\n",
       "\t<tr><th scope=col>&lt;chr&gt;</th><th scope=col>&lt;dbl&gt;</th><th scope=col>&lt;int&gt;</th></tr>\n",
       "</thead>\n",
       "<tbody>\n",
       "\t<tr><td>atac_k562         </td><td>0</td><td> 45</td></tr>\n",
       "\t<tr><td>atac_k562         </td><td>1</td><td>165</td></tr>\n",
       "\t<tr><td>cage_k562         </td><td>0</td><td>156</td></tr>\n",
       "\t<tr><td>cage_k562         </td><td>1</td><td> 54</td></tr>\n",
       "\t<tr><td>ccre_all          </td><td>0</td><td>  5</td></tr>\n",
       "\t<tr><td>ccre_all          </td><td>1</td><td>205</td></tr>\n",
       "\t<tr><td>ccre_k562         </td><td>0</td><td>  5</td></tr>\n",
       "\t<tr><td>ccre_k562         </td><td>1</td><td>205</td></tr>\n",
       "\t<tr><td>ctcf_k562         </td><td>0</td><td>138</td></tr>\n",
       "\t<tr><td>ctcf_k562         </td><td>1</td><td> 72</td></tr>\n",
       "\t<tr><td>dnase_k562        </td><td>0</td><td> 43</td></tr>\n",
       "\t<tr><td>dnase_k562        </td><td>1</td><td>167</td></tr>\n",
       "\t<tr><td>dnase_union       </td><td>0</td><td>  7</td></tr>\n",
       "\t<tr><td>dnase_union       </td><td>1</td><td>203</td></tr>\n",
       "\t<tr><td>ep300_k562        </td><td>0</td><td>121</td></tr>\n",
       "\t<tr><td>ep300_k562        </td><td>1</td><td> 89</td></tr>\n",
       "\t<tr><td>grocap_capped_k562</td><td>0</td><td> 86</td></tr>\n",
       "\t<tr><td>grocap_capped_k562</td><td>1</td><td>124</td></tr>\n",
       "\t<tr><td>h3k27ac_k562      </td><td>0</td><td> 28</td></tr>\n",
       "\t<tr><td>h3k27ac_k562      </td><td>1</td><td>182</td></tr>\n",
       "\t<tr><td>h3k27me3_k562     </td><td>0</td><td>209</td></tr>\n",
       "\t<tr><td>h3k27me3_k562     </td><td>1</td><td>  1</td></tr>\n",
       "\t<tr><td>h3k4me1_k562      </td><td>0</td><td> 51</td></tr>\n",
       "\t<tr><td>h3k4me1_k562      </td><td>1</td><td>159</td></tr>\n",
       "\t<tr><td>h3k4me3_k562      </td><td>0</td><td> 93</td></tr>\n",
       "\t<tr><td>h3k4me3_k562      </td><td>1</td><td>117</td></tr>\n",
       "\t<tr><td>h3k9me3_k562      </td><td>0</td><td>210</td></tr>\n",
       "\t<tr><td>polr2a_k562       </td><td>0</td><td> 83</td></tr>\n",
       "\t<tr><td>polr2a_k562       </td><td>1</td><td>127</td></tr>\n",
       "\t<tr><td>rampage_k562      </td><td>0</td><td>166</td></tr>\n",
       "\t<tr><td>rampage_k562      </td><td>1</td><td> 44</td></tr>\n",
       "</tbody>\n",
       "</table>\n"
      ],
      "text/latex": [
       "A tibble: 31 × 3\n",
       "\\begin{tabular}{lll}\n",
       " feature & overlap & n\\\\\n",
       " <chr> & <dbl> & <int>\\\\\n",
       "\\hline\n",
       "\t atac\\_k562          & 0 &  45\\\\\n",
       "\t atac\\_k562          & 1 & 165\\\\\n",
       "\t cage\\_k562          & 0 & 156\\\\\n",
       "\t cage\\_k562          & 1 &  54\\\\\n",
       "\t ccre\\_all           & 0 &   5\\\\\n",
       "\t ccre\\_all           & 1 & 205\\\\\n",
       "\t ccre\\_k562          & 0 &   5\\\\\n",
       "\t ccre\\_k562          & 1 & 205\\\\\n",
       "\t ctcf\\_k562          & 0 & 138\\\\\n",
       "\t ctcf\\_k562          & 1 &  72\\\\\n",
       "\t dnase\\_k562         & 0 &  43\\\\\n",
       "\t dnase\\_k562         & 1 & 167\\\\\n",
       "\t dnase\\_union        & 0 &   7\\\\\n",
       "\t dnase\\_union        & 1 & 203\\\\\n",
       "\t ep300\\_k562         & 0 & 121\\\\\n",
       "\t ep300\\_k562         & 1 &  89\\\\\n",
       "\t grocap\\_capped\\_k562 & 0 &  86\\\\\n",
       "\t grocap\\_capped\\_k562 & 1 & 124\\\\\n",
       "\t h3k27ac\\_k562       & 0 &  28\\\\\n",
       "\t h3k27ac\\_k562       & 1 & 182\\\\\n",
       "\t h3k27me3\\_k562      & 0 & 209\\\\\n",
       "\t h3k27me3\\_k562      & 1 &   1\\\\\n",
       "\t h3k4me1\\_k562       & 0 &  51\\\\\n",
       "\t h3k4me1\\_k562       & 1 & 159\\\\\n",
       "\t h3k4me3\\_k562       & 0 &  93\\\\\n",
       "\t h3k4me3\\_k562       & 1 & 117\\\\\n",
       "\t h3k9me3\\_k562       & 0 & 210\\\\\n",
       "\t polr2a\\_k562        & 0 &  83\\\\\n",
       "\t polr2a\\_k562        & 1 & 127\\\\\n",
       "\t rampage\\_k562       & 0 & 166\\\\\n",
       "\t rampage\\_k562       & 1 &  44\\\\\n",
       "\\end{tabular}\n"
      ],
      "text/markdown": [
       "\n",
       "A tibble: 31 × 3\n",
       "\n",
       "| feature &lt;chr&gt; | overlap &lt;dbl&gt; | n &lt;int&gt; |\n",
       "|---|---|---|\n",
       "| atac_k562          | 0 |  45 |\n",
       "| atac_k562          | 1 | 165 |\n",
       "| cage_k562          | 0 | 156 |\n",
       "| cage_k562          | 1 |  54 |\n",
       "| ccre_all           | 0 |   5 |\n",
       "| ccre_all           | 1 | 205 |\n",
       "| ccre_k562          | 0 |   5 |\n",
       "| ccre_k562          | 1 | 205 |\n",
       "| ctcf_k562          | 0 | 138 |\n",
       "| ctcf_k562          | 1 |  72 |\n",
       "| dnase_k562         | 0 |  43 |\n",
       "| dnase_k562         | 1 | 167 |\n",
       "| dnase_union        | 0 |   7 |\n",
       "| dnase_union        | 1 | 203 |\n",
       "| ep300_k562         | 0 | 121 |\n",
       "| ep300_k562         | 1 |  89 |\n",
       "| grocap_capped_k562 | 0 |  86 |\n",
       "| grocap_capped_k562 | 1 | 124 |\n",
       "| h3k27ac_k562       | 0 |  28 |\n",
       "| h3k27ac_k562       | 1 | 182 |\n",
       "| h3k27me3_k562      | 0 | 209 |\n",
       "| h3k27me3_k562      | 1 |   1 |\n",
       "| h3k4me1_k562       | 0 |  51 |\n",
       "| h3k4me1_k562       | 1 | 159 |\n",
       "| h3k4me3_k562       | 0 |  93 |\n",
       "| h3k4me3_k562       | 1 | 117 |\n",
       "| h3k9me3_k562       | 0 | 210 |\n",
       "| polr2a_k562        | 0 |  83 |\n",
       "| polr2a_k562        | 1 | 127 |\n",
       "| rampage_k562       | 0 | 166 |\n",
       "| rampage_k562       | 1 |  44 |\n",
       "\n"
      ],
      "text/plain": [
       "   feature            overlap n  \n",
       "1  atac_k562          0        45\n",
       "2  atac_k562          1       165\n",
       "3  cage_k562          0       156\n",
       "4  cage_k562          1        54\n",
       "5  ccre_all           0         5\n",
       "6  ccre_all           1       205\n",
       "7  ccre_k562          0         5\n",
       "8  ccre_k562          1       205\n",
       "9  ctcf_k562          0       138\n",
       "10 ctcf_k562          1        72\n",
       "11 dnase_k562         0        43\n",
       "12 dnase_k562         1       167\n",
       "13 dnase_union        0         7\n",
       "14 dnase_union        1       203\n",
       "15 ep300_k562         0       121\n",
       "16 ep300_k562         1        89\n",
       "17 grocap_capped_k562 0        86\n",
       "18 grocap_capped_k562 1       124\n",
       "19 h3k27ac_k562       0        28\n",
       "20 h3k27ac_k562       1       182\n",
       "21 h3k27me3_k562      0       209\n",
       "22 h3k27me3_k562      1         1\n",
       "23 h3k4me1_k562       0        51\n",
       "24 h3k4me1_k562       1       159\n",
       "25 h3k4me3_k562       0        93\n",
       "26 h3k4me3_k562       1       117\n",
       "27 h3k9me3_k562       0       210\n",
       "28 polr2a_k562        0        83\n",
       "29 polr2a_k562        1       127\n",
       "30 rampage_k562       0       166\n",
       "31 rampage_k562       1        44"
      ]
     },
     "metadata": {},
     "output_type": "display_data"
    }
   ],
   "source": [
    "workdf2 %>%\n",
    "pivot_longer(cols = dnase_union:grocap_capped_k562, names_to = \"feature\", values_to = \"overlap\") %>%\n",
    "group_by(feature,overlap) %>%\n",
    "summarise(n=n()) %>%\n",
    "ungroup() "
   ]
  },
  {
   "cell_type": "code",
   "execution_count": 21,
   "metadata": {},
   "outputs": [
    {
     "name": "stderr",
     "output_type": "stream",
     "text": [
      "\u001b[1m\u001b[22m`summarise()` has grouped output by 'feature'. You can override using the\n",
      "`.groups` argument.\n",
      "\u001b[1m\u001b[22m`summarise()` has grouped output by 'feature'. You can override using the\n",
      "`.groups` argument.\n"
     ]
    },
    {
     "data": {
      "text/html": [
       "<table class=\"dataframe\">\n",
       "<caption>A tibble: 8 × 4</caption>\n",
       "<thead>\n",
       "\t<tr><th scope=col>feature</th><th scope=col>overlap</th><th scope=col>n</th><th scope=col>result</th></tr>\n",
       "\t<tr><th scope=col>&lt;chr&gt;</th><th scope=col>&lt;dbl&gt;</th><th scope=col>&lt;int&gt;</th><th scope=col>&lt;chr&gt;</th></tr>\n",
       "</thead>\n",
       "<tbody>\n",
       "\t<tr><td>atac_k562</td><td>0</td><td>1710</td><td>perturbed  </td></tr>\n",
       "\t<tr><td>atac_k562</td><td>0</td><td>  45</td><td>significant</td></tr>\n",
       "\t<tr><td>atac_k562</td><td>1</td><td>1023</td><td>perturbed  </td></tr>\n",
       "\t<tr><td>atac_k562</td><td>1</td><td> 165</td><td>significant</td></tr>\n",
       "\t<tr><td>cage_k562</td><td>0</td><td>2590</td><td>perturbed  </td></tr>\n",
       "\t<tr><td>cage_k562</td><td>0</td><td> 156</td><td>significant</td></tr>\n",
       "\t<tr><td>cage_k562</td><td>1</td><td> 143</td><td>perturbed  </td></tr>\n",
       "\t<tr><td>cage_k562</td><td>1</td><td>  54</td><td>significant</td></tr>\n",
       "</tbody>\n",
       "</table>\n"
      ],
      "text/latex": [
       "A tibble: 8 × 4\n",
       "\\begin{tabular}{llll}\n",
       " feature & overlap & n & result\\\\\n",
       " <chr> & <dbl> & <int> & <chr>\\\\\n",
       "\\hline\n",
       "\t atac\\_k562 & 0 & 1710 & perturbed  \\\\\n",
       "\t atac\\_k562 & 0 &   45 & significant\\\\\n",
       "\t atac\\_k562 & 1 & 1023 & perturbed  \\\\\n",
       "\t atac\\_k562 & 1 &  165 & significant\\\\\n",
       "\t cage\\_k562 & 0 & 2590 & perturbed  \\\\\n",
       "\t cage\\_k562 & 0 &  156 & significant\\\\\n",
       "\t cage\\_k562 & 1 &  143 & perturbed  \\\\\n",
       "\t cage\\_k562 & 1 &   54 & significant\\\\\n",
       "\\end{tabular}\n"
      ],
      "text/markdown": [
       "\n",
       "A tibble: 8 × 4\n",
       "\n",
       "| feature &lt;chr&gt; | overlap &lt;dbl&gt; | n &lt;int&gt; | result &lt;chr&gt; |\n",
       "|---|---|---|---|\n",
       "| atac_k562 | 0 | 1710 | perturbed   |\n",
       "| atac_k562 | 0 |   45 | significant |\n",
       "| atac_k562 | 1 | 1023 | perturbed   |\n",
       "| atac_k562 | 1 |  165 | significant |\n",
       "| cage_k562 | 0 | 2590 | perturbed   |\n",
       "| cage_k562 | 0 |  156 | significant |\n",
       "| cage_k562 | 1 |  143 | perturbed   |\n",
       "| cage_k562 | 1 |   54 | significant |\n",
       "\n"
      ],
      "text/plain": [
       "  feature   overlap n    result     \n",
       "1 atac_k562 0       1710 perturbed  \n",
       "2 atac_k562 0         45 significant\n",
       "3 atac_k562 1       1023 perturbed  \n",
       "4 atac_k562 1        165 significant\n",
       "5 cage_k562 0       2590 perturbed  \n",
       "6 cage_k562 0        156 significant\n",
       "7 cage_k562 1        143 perturbed  \n",
       "8 cage_k562 1         54 significant"
      ]
     },
     "metadata": {},
     "output_type": "display_data"
    }
   ],
   "source": [
    "testdf <- rbind(\n",
    "    workdf1 %>%\n",
    "        pivot_longer(cols = dnase_union:grocap_capped_k562, names_to = \"feature\", values_to = \"overlap\") %>%\n",
    "        group_by(feature,overlap) %>%\n",
    "        summarise(n=n()) %>%\n",
    "        ungroup() %>%\n",
    "        mutate(result = \"perturbed\"),\n",
    "    workdf2 %>%\n",
    "        pivot_longer(cols = dnase_union:grocap_capped_k562, names_to = \"feature\", values_to = \"overlap\") %>%\n",
    "        group_by(feature,overlap) %>%\n",
    "        summarise(n=n()) %>%\n",
    "        ungroup() %>%\n",
    "        mutate(result = \"significant\")  \n",
    ") %>%\n",
    "arrange(feature, overlap, result)\n",
    "\n",
    "head(testdf,n=8)"
   ]
  },
  {
   "cell_type": "markdown",
   "metadata": {},
   "source": [
    "##### All cCREs"
   ]
  },
  {
   "cell_type": "code",
   "execution_count": 22,
   "metadata": {},
   "outputs": [
    {
     "data": {
      "text/html": [
       "<table class=\"dataframe\">\n",
       "<caption>A data.frame: 2 × 2</caption>\n",
       "<thead>\n",
       "\t<tr><th></th><th scope=col>overlap</th><th scope=col>no_overlap</th></tr>\n",
       "\t<tr><th></th><th scope=col>&lt;int&gt;</th><th scope=col>&lt;int&gt;</th></tr>\n",
       "</thead>\n",
       "<tbody>\n",
       "\t<tr><th scope=row>sig</th><td> 205</td><td>  5</td></tr>\n",
       "\t<tr><th scope=row>ns</th><td>2116</td><td>407</td></tr>\n",
       "</tbody>\n",
       "</table>\n"
      ],
      "text/latex": [
       "A data.frame: 2 × 2\n",
       "\\begin{tabular}{r|ll}\n",
       "  & overlap & no\\_overlap\\\\\n",
       "  & <int> & <int>\\\\\n",
       "\\hline\n",
       "\tsig &  205 &   5\\\\\n",
       "\tns & 2116 & 407\\\\\n",
       "\\end{tabular}\n"
      ],
      "text/markdown": [
       "\n",
       "A data.frame: 2 × 2\n",
       "\n",
       "| <!--/--> | overlap &lt;int&gt; | no_overlap &lt;int&gt; |\n",
       "|---|---|---|\n",
       "| sig |  205 |   5 |\n",
       "| ns | 2116 | 407 |\n",
       "\n"
      ],
      "text/plain": [
       "    overlap no_overlap\n",
       "sig  205      5       \n",
       "ns  2116    407       "
      ]
     },
     "metadata": {},
     "output_type": "display_data"
    },
    {
     "data": {
      "text/plain": [
       "\n",
       "\tFisher's Exact Test for Count Data\n",
       "\n",
       "data:  fisherdf\n",
       "p-value = 5.896e-10\n",
       "alternative hypothesis: true odds ratio is not equal to 1\n",
       "95 percent confidence interval:\n",
       "  3.292408 24.691248\n",
       "sample estimates:\n",
       "odds ratio \n",
       "  7.882993 \n"
      ]
     },
     "metadata": {},
     "output_type": "display_data"
    },
    {
     "data": {
      "text/html": [
       "<table class=\"dataframe\">\n",
       "<caption>A data.frame: 1 × 4</caption>\n",
       "<thead>\n",
       "\t<tr><th scope=col>X1</th><th scope=col>X2</th><th scope=col>X3</th><th scope=col>X4</th></tr>\n",
       "\t<tr><th scope=col>&lt;chr&gt;</th><th scope=col>&lt;chr&gt;</th><th scope=col>&lt;chr&gt;</th><th scope=col>&lt;chr&gt;</th></tr>\n",
       "</thead>\n",
       "<tbody>\n",
       "\t<tr><td>All_cCREs</td><td>5.89557252411057e-10</td><td>7.8829934987702</td><td>two.sided</td></tr>\n",
       "</tbody>\n",
       "</table>\n"
      ],
      "text/latex": [
       "A data.frame: 1 × 4\n",
       "\\begin{tabular}{llll}\n",
       " X1 & X2 & X3 & X4\\\\\n",
       " <chr> & <chr> & <chr> & <chr>\\\\\n",
       "\\hline\n",
       "\t All\\_cCREs & 5.89557252411057e-10 & 7.8829934987702 & two.sided\\\\\n",
       "\\end{tabular}\n"
      ],
      "text/markdown": [
       "\n",
       "A data.frame: 1 × 4\n",
       "\n",
       "| X1 &lt;chr&gt; | X2 &lt;chr&gt; | X3 &lt;chr&gt; | X4 &lt;chr&gt; |\n",
       "|---|---|---|---|\n",
       "| All_cCREs | 5.89557252411057e-10 | 7.8829934987702 | two.sided |\n",
       "\n"
      ],
      "text/plain": [
       "  X1        X2                   X3              X4       \n",
       "1 All_cCREs 5.89557252411057e-10 7.8829934987702 two.sided"
      ]
     },
     "metadata": {},
     "output_type": "display_data"
    }
   ],
   "source": [
    "# get the values from workdf1 and workdf2\n",
    "a <- testdf %>% filter(feature == \"ccre_all\" & overlap == 1 & result == \"significant\") %>% select(n) %>% pull()\n",
    "b <- testdf %>% filter(feature == \"ccre_all\" & overlap == 0 & result == \"significant\") %>% select(n) %>% pull()\n",
    "c <- testdf %>% filter(feature == \"ccre_all\" & overlap == 1 & result == \"perturbed\") %>% select(n) %>% pull() - a\n",
    "d <- testdf %>% filter(feature == \"ccre_all\" & overlap == 0 & result == \"perturbed\") %>% select(n) %>% pull() - b\n",
    "\n",
    "# create a dataframe\n",
    "fisherdf <- data.frame(\"overlap\" = c(a, c), \"no_overlap\" = c(b, d), row.names = c(\"sig\", \"ns\"))\n",
    "fisherdf\n",
    "\n",
    "# perform the test\n",
    "fisher.test(fisherdf)\n",
    "\n",
    "# store the output in new df\n",
    "tempdf <- fisher.test(fisherdf)\n",
    "tempdf <- data.frame(cbind(\"All_cCREs\",tempdf$p.value,tempdf$estimate,tempdf$alternative))\n",
    "rownames(tempdf) <- NULL\n",
    "res <- tempdf\n",
    "res"
   ]
  },
  {
   "cell_type": "markdown",
   "metadata": {},
   "source": [
    "##### Union DHSs"
   ]
  },
  {
   "cell_type": "code",
   "execution_count": 23,
   "metadata": {},
   "outputs": [
    {
     "data": {
      "text/html": [
       "<table class=\"dataframe\">\n",
       "<caption>A data.frame: 2 × 2</caption>\n",
       "<thead>\n",
       "\t<tr><th></th><th scope=col>overlap</th><th scope=col>no_overlap</th></tr>\n",
       "\t<tr><th></th><th scope=col>&lt;int&gt;</th><th scope=col>&lt;int&gt;</th></tr>\n",
       "</thead>\n",
       "<tbody>\n",
       "\t<tr><th scope=row>sig</th><td> 203</td><td>  7</td></tr>\n",
       "\t<tr><th scope=row>ns</th><td>2063</td><td>460</td></tr>\n",
       "</tbody>\n",
       "</table>\n"
      ],
      "text/latex": [
       "A data.frame: 2 × 2\n",
       "\\begin{tabular}{r|ll}\n",
       "  & overlap & no\\_overlap\\\\\n",
       "  & <int> & <int>\\\\\n",
       "\\hline\n",
       "\tsig &  203 &   7\\\\\n",
       "\tns & 2063 & 460\\\\\n",
       "\\end{tabular}\n"
      ],
      "text/markdown": [
       "\n",
       "A data.frame: 2 × 2\n",
       "\n",
       "| <!--/--> | overlap &lt;int&gt; | no_overlap &lt;int&gt; |\n",
       "|---|---|---|\n",
       "| sig |  203 |   7 |\n",
       "| ns | 2063 | 460 |\n",
       "\n"
      ],
      "text/plain": [
       "    overlap no_overlap\n",
       "sig  203      7       \n",
       "ns  2063    460       "
      ]
     },
     "metadata": {},
     "output_type": "display_data"
    },
    {
     "data": {
      "text/plain": [
       "\n",
       "\tFisher's Exact Test for Count Data\n",
       "\n",
       "data:  fisherdf\n",
       "p-value = 2.307e-10\n",
       "alternative hypothesis: true odds ratio is not equal to 1\n",
       "95 percent confidence interval:\n",
       "  3.051625 16.389059\n",
       "sample estimates:\n",
       "odds ratio \n",
       "  6.463838 \n"
      ]
     },
     "metadata": {},
     "output_type": "display_data"
    },
    {
     "data": {
      "text/html": [
       "<table class=\"dataframe\">\n",
       "<caption>A data.frame: 2 × 4</caption>\n",
       "<thead>\n",
       "\t<tr><th scope=col>X1</th><th scope=col>X2</th><th scope=col>X3</th><th scope=col>X4</th></tr>\n",
       "\t<tr><th scope=col>&lt;chr&gt;</th><th scope=col>&lt;chr&gt;</th><th scope=col>&lt;chr&gt;</th><th scope=col>&lt;chr&gt;</th></tr>\n",
       "</thead>\n",
       "<tbody>\n",
       "\t<tr><td>All_cCREs</td><td>5.89557252411057e-10</td><td>7.8829934987702</td><td>two.sided</td></tr>\n",
       "\t<tr><td>All_DNase</td><td>2.30690419709409e-10</td><td>6.4638378633986</td><td>two.sided</td></tr>\n",
       "</tbody>\n",
       "</table>\n"
      ],
      "text/latex": [
       "A data.frame: 2 × 4\n",
       "\\begin{tabular}{llll}\n",
       " X1 & X2 & X3 & X4\\\\\n",
       " <chr> & <chr> & <chr> & <chr>\\\\\n",
       "\\hline\n",
       "\t All\\_cCREs & 5.89557252411057e-10 & 7.8829934987702 & two.sided\\\\\n",
       "\t All\\_DNase & 2.30690419709409e-10 & 6.4638378633986 & two.sided\\\\\n",
       "\\end{tabular}\n"
      ],
      "text/markdown": [
       "\n",
       "A data.frame: 2 × 4\n",
       "\n",
       "| X1 &lt;chr&gt; | X2 &lt;chr&gt; | X3 &lt;chr&gt; | X4 &lt;chr&gt; |\n",
       "|---|---|---|---|\n",
       "| All_cCREs | 5.89557252411057e-10 | 7.8829934987702 | two.sided |\n",
       "| All_DNase | 2.30690419709409e-10 | 6.4638378633986 | two.sided |\n",
       "\n"
      ],
      "text/plain": [
       "  X1        X2                   X3              X4       \n",
       "1 All_cCREs 5.89557252411057e-10 7.8829934987702 two.sided\n",
       "2 All_DNase 2.30690419709409e-10 6.4638378633986 two.sided"
      ]
     },
     "metadata": {},
     "output_type": "display_data"
    }
   ],
   "source": [
    "# get the values from workdf1 and workdf2\n",
    "a <- testdf %>% filter(feature == \"dnase_union\" & overlap == 1 & result == \"significant\") %>% select(n) %>% pull()\n",
    "b <- testdf %>% filter(feature == \"dnase_union\" & overlap == 0 & result == \"significant\") %>% select(n) %>% pull()\n",
    "c <- testdf %>% filter(feature == \"dnase_union\" & overlap == 1 & result == \"perturbed\") %>% select(n) %>% pull() - a\n",
    "d <- testdf %>% filter(feature == \"dnase_union\" & overlap == 0 & result == \"perturbed\") %>% select(n) %>% pull() - b\n",
    "\n",
    "# create a dataframe\n",
    "fisherdf <- data.frame(\"overlap\" = c(a, c), \"no_overlap\" = c(b, d), row.names = c(\"sig\", \"ns\"))\n",
    "fisherdf\n",
    "\n",
    "# perform the test\n",
    "fisher.test(fisherdf)\n",
    "\n",
    "# store the output in new df\n",
    "tempdf <- fisher.test(fisherdf)\n",
    "tempdf <- data.frame(cbind(\"All_DNase\",tempdf$p.value,tempdf$estimate,tempdf$alternative))\n",
    "rownames(tempdf) <- NULL\n",
    "res <- rbind(res, tempdf)\n",
    "res"
   ]
  },
  {
   "cell_type": "markdown",
   "metadata": {},
   "source": [
    "##### K562 cCREs"
   ]
  },
  {
   "cell_type": "code",
   "execution_count": 24,
   "metadata": {},
   "outputs": [
    {
     "data": {
      "text/html": [
       "<table class=\"dataframe\">\n",
       "<caption>A data.frame: 2 × 2</caption>\n",
       "<thead>\n",
       "\t<tr><th></th><th scope=col>overlap</th><th scope=col>no_overlap</th></tr>\n",
       "\t<tr><th></th><th scope=col>&lt;int&gt;</th><th scope=col>&lt;int&gt;</th></tr>\n",
       "</thead>\n",
       "<tbody>\n",
       "\t<tr><th scope=row>sig</th><td> 205</td><td>  5</td></tr>\n",
       "\t<tr><th scope=row>ns</th><td>2116</td><td>407</td></tr>\n",
       "</tbody>\n",
       "</table>\n"
      ],
      "text/latex": [
       "A data.frame: 2 × 2\n",
       "\\begin{tabular}{r|ll}\n",
       "  & overlap & no\\_overlap\\\\\n",
       "  & <int> & <int>\\\\\n",
       "\\hline\n",
       "\tsig &  205 &   5\\\\\n",
       "\tns & 2116 & 407\\\\\n",
       "\\end{tabular}\n"
      ],
      "text/markdown": [
       "\n",
       "A data.frame: 2 × 2\n",
       "\n",
       "| <!--/--> | overlap &lt;int&gt; | no_overlap &lt;int&gt; |\n",
       "|---|---|---|\n",
       "| sig |  205 |   5 |\n",
       "| ns | 2116 | 407 |\n",
       "\n"
      ],
      "text/plain": [
       "    overlap no_overlap\n",
       "sig  205      5       \n",
       "ns  2116    407       "
      ]
     },
     "metadata": {},
     "output_type": "display_data"
    },
    {
     "data": {
      "text/plain": [
       "\n",
       "\tFisher's Exact Test for Count Data\n",
       "\n",
       "data:  fisherdf\n",
       "p-value = 5.896e-10\n",
       "alternative hypothesis: true odds ratio is not equal to 1\n",
       "95 percent confidence interval:\n",
       "  3.292408 24.691248\n",
       "sample estimates:\n",
       "odds ratio \n",
       "  7.882993 \n"
      ]
     },
     "metadata": {},
     "output_type": "display_data"
    },
    {
     "data": {
      "text/html": [
       "<table class=\"dataframe\">\n",
       "<caption>A data.frame: 3 × 4</caption>\n",
       "<thead>\n",
       "\t<tr><th scope=col>X1</th><th scope=col>X2</th><th scope=col>X3</th><th scope=col>X4</th></tr>\n",
       "\t<tr><th scope=col>&lt;chr&gt;</th><th scope=col>&lt;chr&gt;</th><th scope=col>&lt;chr&gt;</th><th scope=col>&lt;chr&gt;</th></tr>\n",
       "</thead>\n",
       "<tbody>\n",
       "\t<tr><td>All_cCREs </td><td>5.89557252411057e-10</td><td>7.8829934987702</td><td>two.sided</td></tr>\n",
       "\t<tr><td>All_DNase </td><td>2.30690419709409e-10</td><td>6.4638378633986</td><td>two.sided</td></tr>\n",
       "\t<tr><td>K562_cCREs</td><td>5.89557252411057e-10</td><td>7.8829934987702</td><td>two.sided</td></tr>\n",
       "</tbody>\n",
       "</table>\n"
      ],
      "text/latex": [
       "A data.frame: 3 × 4\n",
       "\\begin{tabular}{llll}\n",
       " X1 & X2 & X3 & X4\\\\\n",
       " <chr> & <chr> & <chr> & <chr>\\\\\n",
       "\\hline\n",
       "\t All\\_cCREs  & 5.89557252411057e-10 & 7.8829934987702 & two.sided\\\\\n",
       "\t All\\_DNase  & 2.30690419709409e-10 & 6.4638378633986 & two.sided\\\\\n",
       "\t K562\\_cCREs & 5.89557252411057e-10 & 7.8829934987702 & two.sided\\\\\n",
       "\\end{tabular}\n"
      ],
      "text/markdown": [
       "\n",
       "A data.frame: 3 × 4\n",
       "\n",
       "| X1 &lt;chr&gt; | X2 &lt;chr&gt; | X3 &lt;chr&gt; | X4 &lt;chr&gt; |\n",
       "|---|---|---|---|\n",
       "| All_cCREs  | 5.89557252411057e-10 | 7.8829934987702 | two.sided |\n",
       "| All_DNase  | 2.30690419709409e-10 | 6.4638378633986 | two.sided |\n",
       "| K562_cCREs | 5.89557252411057e-10 | 7.8829934987702 | two.sided |\n",
       "\n"
      ],
      "text/plain": [
       "  X1         X2                   X3              X4       \n",
       "1 All_cCREs  5.89557252411057e-10 7.8829934987702 two.sided\n",
       "2 All_DNase  2.30690419709409e-10 6.4638378633986 two.sided\n",
       "3 K562_cCREs 5.89557252411057e-10 7.8829934987702 two.sided"
      ]
     },
     "metadata": {},
     "output_type": "display_data"
    }
   ],
   "source": [
    "# get the values from workdf1 and workdf2\n",
    "a <- testdf %>% filter(feature == \"ccre_k562\" & overlap == 1 & result == \"significant\") %>% select(n) %>% pull()\n",
    "b <- testdf %>% filter(feature == \"ccre_k562\" & overlap == 0 & result == \"significant\") %>% select(n) %>% pull()\n",
    "c <- testdf %>% filter(feature == \"ccre_k562\" & overlap == 1 & result == \"perturbed\") %>% select(n) %>% pull() - a\n",
    "d <- testdf %>% filter(feature == \"ccre_k562\" & overlap == 0 & result == \"perturbed\") %>% select(n) %>% pull() - b\n",
    "\n",
    "# create a dataframe\n",
    "fisherdf <- data.frame(\"overlap\" = c(a, c), \"no_overlap\" = c(b, d), row.names = c(\"sig\", \"ns\"))\n",
    "fisherdf\n",
    "\n",
    "# perform the test\n",
    "fisher.test(fisherdf)\n",
    "\n",
    "# store the output in new df\n",
    "tempdf <- fisher.test(fisherdf)\n",
    "tempdf <- data.frame(cbind(\"K562_cCREs\",tempdf$p.value,tempdf$estimate,tempdf$alternative))\n",
    "rownames(tempdf) <- NULL\n",
    "res <- rbind(res, tempdf)\n",
    "res"
   ]
  },
  {
   "cell_type": "markdown",
   "metadata": {},
   "source": [
    "##### K562 DNase peaks"
   ]
  },
  {
   "cell_type": "code",
   "execution_count": 25,
   "metadata": {},
   "outputs": [
    {
     "data": {
      "text/html": [
       "<table class=\"dataframe\">\n",
       "<caption>A data.frame: 2 × 2</caption>\n",
       "<thead>\n",
       "\t<tr><th></th><th scope=col>overlap</th><th scope=col>no_overlap</th></tr>\n",
       "\t<tr><th></th><th scope=col>&lt;int&gt;</th><th scope=col>&lt;int&gt;</th></tr>\n",
       "</thead>\n",
       "<tbody>\n",
       "\t<tr><th scope=row>sig</th><td>167</td><td>  43</td></tr>\n",
       "\t<tr><th scope=row>ns</th><td>789</td><td>1734</td></tr>\n",
       "</tbody>\n",
       "</table>\n"
      ],
      "text/latex": [
       "A data.frame: 2 × 2\n",
       "\\begin{tabular}{r|ll}\n",
       "  & overlap & no\\_overlap\\\\\n",
       "  & <int> & <int>\\\\\n",
       "\\hline\n",
       "\tsig & 167 &   43\\\\\n",
       "\tns & 789 & 1734\\\\\n",
       "\\end{tabular}\n"
      ],
      "text/markdown": [
       "\n",
       "A data.frame: 2 × 2\n",
       "\n",
       "| <!--/--> | overlap &lt;int&gt; | no_overlap &lt;int&gt; |\n",
       "|---|---|---|\n",
       "| sig | 167 |   43 |\n",
       "| ns | 789 | 1734 |\n",
       "\n"
      ],
      "text/plain": [
       "    overlap no_overlap\n",
       "sig 167       43      \n",
       "ns  789     1734      "
      ]
     },
     "metadata": {},
     "output_type": "display_data"
    },
    {
     "data": {
      "text/plain": [
       "\n",
       "\tFisher's Exact Test for Count Data\n",
       "\n",
       "data:  fisherdf\n",
       "p-value < 2.2e-16\n",
       "alternative hypothesis: true odds ratio is not equal to 1\n",
       "95 percent confidence interval:\n",
       "  5.996871 12.349697\n",
       "sample estimates:\n",
       "odds ratio \n",
       "  8.527996 \n"
      ]
     },
     "metadata": {},
     "output_type": "display_data"
    },
    {
     "data": {
      "text/html": [
       "<table class=\"dataframe\">\n",
       "<caption>A data.frame: 4 × 4</caption>\n",
       "<thead>\n",
       "\t<tr><th scope=col>X1</th><th scope=col>X2</th><th scope=col>X3</th><th scope=col>X4</th></tr>\n",
       "\t<tr><th scope=col>&lt;chr&gt;</th><th scope=col>&lt;chr&gt;</th><th scope=col>&lt;chr&gt;</th><th scope=col>&lt;chr&gt;</th></tr>\n",
       "</thead>\n",
       "<tbody>\n",
       "\t<tr><td>All_cCREs </td><td>5.89557252411057e-10</td><td>7.8829934987702 </td><td>two.sided</td></tr>\n",
       "\t<tr><td>All_DNase </td><td>2.30690419709409e-10</td><td>6.4638378633986 </td><td>two.sided</td></tr>\n",
       "\t<tr><td>K562_cCREs</td><td>5.89557252411057e-10</td><td>7.8829934987702 </td><td>two.sided</td></tr>\n",
       "\t<tr><td>K562_DNase</td><td>3.61395818578951e-43</td><td>8.52799557896517</td><td>two.sided</td></tr>\n",
       "</tbody>\n",
       "</table>\n"
      ],
      "text/latex": [
       "A data.frame: 4 × 4\n",
       "\\begin{tabular}{llll}\n",
       " X1 & X2 & X3 & X4\\\\\n",
       " <chr> & <chr> & <chr> & <chr>\\\\\n",
       "\\hline\n",
       "\t All\\_cCREs  & 5.89557252411057e-10 & 7.8829934987702  & two.sided\\\\\n",
       "\t All\\_DNase  & 2.30690419709409e-10 & 6.4638378633986  & two.sided\\\\\n",
       "\t K562\\_cCREs & 5.89557252411057e-10 & 7.8829934987702  & two.sided\\\\\n",
       "\t K562\\_DNase & 3.61395818578951e-43 & 8.52799557896517 & two.sided\\\\\n",
       "\\end{tabular}\n"
      ],
      "text/markdown": [
       "\n",
       "A data.frame: 4 × 4\n",
       "\n",
       "| X1 &lt;chr&gt; | X2 &lt;chr&gt; | X3 &lt;chr&gt; | X4 &lt;chr&gt; |\n",
       "|---|---|---|---|\n",
       "| All_cCREs  | 5.89557252411057e-10 | 7.8829934987702  | two.sided |\n",
       "| All_DNase  | 2.30690419709409e-10 | 6.4638378633986  | two.sided |\n",
       "| K562_cCREs | 5.89557252411057e-10 | 7.8829934987702  | two.sided |\n",
       "| K562_DNase | 3.61395818578951e-43 | 8.52799557896517 | two.sided |\n",
       "\n"
      ],
      "text/plain": [
       "  X1         X2                   X3               X4       \n",
       "1 All_cCREs  5.89557252411057e-10 7.8829934987702  two.sided\n",
       "2 All_DNase  2.30690419709409e-10 6.4638378633986  two.sided\n",
       "3 K562_cCREs 5.89557252411057e-10 7.8829934987702  two.sided\n",
       "4 K562_DNase 3.61395818578951e-43 8.52799557896517 two.sided"
      ]
     },
     "metadata": {},
     "output_type": "display_data"
    }
   ],
   "source": [
    "# get the values from workdf1 and workdf2\n",
    "a <- testdf %>% filter(feature == \"dnase_k562\" & overlap == 1 & result == \"significant\") %>% select(n) %>% pull()\n",
    "b <- testdf %>% filter(feature == \"dnase_k562\" & overlap == 0 & result == \"significant\") %>% select(n) %>% pull()\n",
    "c <- testdf %>% filter(feature == \"dnase_k562\" & overlap == 1 & result == \"perturbed\") %>% select(n) %>% pull() - a\n",
    "d <- testdf %>% filter(feature == \"dnase_k562\" & overlap == 0 & result == \"perturbed\") %>% select(n) %>% pull() - b\n",
    "\n",
    "# create a dataframe\n",
    "fisherdf <- data.frame(\"overlap\" = c(a, c), \"no_overlap\" = c(b, d), row.names = c(\"sig\", \"ns\"))\n",
    "fisherdf\n",
    "\n",
    "# perform the test\n",
    "fisher.test(fisherdf)\n",
    "\n",
    "# store the output in new df\n",
    "tempdf <- fisher.test(fisherdf)\n",
    "tempdf <- data.frame(cbind(\"K562_DNase\",tempdf$p.value,tempdf$estimate,tempdf$alternative))\n",
    "rownames(tempdf) <- NULL\n",
    "res <- rbind(res, tempdf)\n",
    "res"
   ]
  },
  {
   "cell_type": "markdown",
   "metadata": {},
   "source": [
    "##### K562 ATAC-seq peaks"
   ]
  },
  {
   "cell_type": "code",
   "execution_count": 26,
   "metadata": {},
   "outputs": [
    {
     "data": {
      "text/html": [
       "<table class=\"dataframe\">\n",
       "<caption>A data.frame: 2 × 2</caption>\n",
       "<thead>\n",
       "\t<tr><th></th><th scope=col>overlap</th><th scope=col>no_overlap</th></tr>\n",
       "\t<tr><th></th><th scope=col>&lt;int&gt;</th><th scope=col>&lt;int&gt;</th></tr>\n",
       "</thead>\n",
       "<tbody>\n",
       "\t<tr><th scope=row>sig</th><td>165</td><td>  45</td></tr>\n",
       "\t<tr><th scope=row>ns</th><td>858</td><td>1665</td></tr>\n",
       "</tbody>\n",
       "</table>\n"
      ],
      "text/latex": [
       "A data.frame: 2 × 2\n",
       "\\begin{tabular}{r|ll}\n",
       "  & overlap & no\\_overlap\\\\\n",
       "  & <int> & <int>\\\\\n",
       "\\hline\n",
       "\tsig & 165 &   45\\\\\n",
       "\tns & 858 & 1665\\\\\n",
       "\\end{tabular}\n"
      ],
      "text/markdown": [
       "\n",
       "A data.frame: 2 × 2\n",
       "\n",
       "| <!--/--> | overlap &lt;int&gt; | no_overlap &lt;int&gt; |\n",
       "|---|---|---|\n",
       "| sig | 165 |   45 |\n",
       "| ns | 858 | 1665 |\n",
       "\n"
      ],
      "text/plain": [
       "    overlap no_overlap\n",
       "sig 165       45      \n",
       "ns  858     1665      "
      ]
     },
     "metadata": {},
     "output_type": "display_data"
    },
    {
     "data": {
      "text/plain": [
       "\n",
       "\tFisher's Exact Test for Count Data\n",
       "\n",
       "data:  fisherdf\n",
       "p-value < 2.2e-16\n",
       "alternative hypothesis: true odds ratio is not equal to 1\n",
       "95 percent confidence interval:\n",
       "  5.028326 10.228781\n",
       "sample estimates:\n",
       "odds ratio \n",
       "  7.110014 \n"
      ]
     },
     "metadata": {},
     "output_type": "display_data"
    },
    {
     "data": {
      "text/html": [
       "<table class=\"dataframe\">\n",
       "<caption>A data.frame: 5 × 4</caption>\n",
       "<thead>\n",
       "\t<tr><th scope=col>X1</th><th scope=col>X2</th><th scope=col>X3</th><th scope=col>X4</th></tr>\n",
       "\t<tr><th scope=col>&lt;chr&gt;</th><th scope=col>&lt;chr&gt;</th><th scope=col>&lt;chr&gt;</th><th scope=col>&lt;chr&gt;</th></tr>\n",
       "</thead>\n",
       "<tbody>\n",
       "\t<tr><td>All_cCREs </td><td>5.89557252411057e-10</td><td>7.8829934987702 </td><td>two.sided</td></tr>\n",
       "\t<tr><td>All_DNase </td><td>2.30690419709409e-10</td><td>6.4638378633986 </td><td>two.sided</td></tr>\n",
       "\t<tr><td>K562_cCREs</td><td>5.89557252411057e-10</td><td>7.8829934987702 </td><td>two.sided</td></tr>\n",
       "\t<tr><td>K562_DNase</td><td>3.61395818578951e-43</td><td>8.52799557896517</td><td>two.sided</td></tr>\n",
       "\t<tr><td>K562_ATAC </td><td>1.36506565841988e-36</td><td>7.11001398772456</td><td>two.sided</td></tr>\n",
       "</tbody>\n",
       "</table>\n"
      ],
      "text/latex": [
       "A data.frame: 5 × 4\n",
       "\\begin{tabular}{llll}\n",
       " X1 & X2 & X3 & X4\\\\\n",
       " <chr> & <chr> & <chr> & <chr>\\\\\n",
       "\\hline\n",
       "\t All\\_cCREs  & 5.89557252411057e-10 & 7.8829934987702  & two.sided\\\\\n",
       "\t All\\_DNase  & 2.30690419709409e-10 & 6.4638378633986  & two.sided\\\\\n",
       "\t K562\\_cCREs & 5.89557252411057e-10 & 7.8829934987702  & two.sided\\\\\n",
       "\t K562\\_DNase & 3.61395818578951e-43 & 8.52799557896517 & two.sided\\\\\n",
       "\t K562\\_ATAC  & 1.36506565841988e-36 & 7.11001398772456 & two.sided\\\\\n",
       "\\end{tabular}\n"
      ],
      "text/markdown": [
       "\n",
       "A data.frame: 5 × 4\n",
       "\n",
       "| X1 &lt;chr&gt; | X2 &lt;chr&gt; | X3 &lt;chr&gt; | X4 &lt;chr&gt; |\n",
       "|---|---|---|---|\n",
       "| All_cCREs  | 5.89557252411057e-10 | 7.8829934987702  | two.sided |\n",
       "| All_DNase  | 2.30690419709409e-10 | 6.4638378633986  | two.sided |\n",
       "| K562_cCREs | 5.89557252411057e-10 | 7.8829934987702  | two.sided |\n",
       "| K562_DNase | 3.61395818578951e-43 | 8.52799557896517 | two.sided |\n",
       "| K562_ATAC  | 1.36506565841988e-36 | 7.11001398772456 | two.sided |\n",
       "\n"
      ],
      "text/plain": [
       "  X1         X2                   X3               X4       \n",
       "1 All_cCREs  5.89557252411057e-10 7.8829934987702  two.sided\n",
       "2 All_DNase  2.30690419709409e-10 6.4638378633986  two.sided\n",
       "3 K562_cCREs 5.89557252411057e-10 7.8829934987702  two.sided\n",
       "4 K562_DNase 3.61395818578951e-43 8.52799557896517 two.sided\n",
       "5 K562_ATAC  1.36506565841988e-36 7.11001398772456 two.sided"
      ]
     },
     "metadata": {},
     "output_type": "display_data"
    }
   ],
   "source": [
    "# get the values from workdf1 and workdf2\n",
    "a <- testdf %>% filter(feature == \"atac_k562\" & overlap == 1 & result == \"significant\") %>% select(n) %>% pull()\n",
    "b <- testdf %>% filter(feature == \"atac_k562\" & overlap == 0 & result == \"significant\") %>% select(n) %>% pull()\n",
    "c <- testdf %>% filter(feature == \"atac_k562\" & overlap == 1 & result == \"perturbed\") %>% select(n) %>% pull() - a\n",
    "d <- testdf %>% filter(feature == \"atac_k562\" & overlap == 0 & result == \"perturbed\") %>% select(n) %>% pull() - b\n",
    "\n",
    "# create a dataframe\n",
    "fisherdf <- data.frame(\"overlap\" = c(a, c), \"no_overlap\" = c(b, d), row.names = c(\"sig\", \"ns\"))\n",
    "fisherdf\n",
    "\n",
    "# perform the test\n",
    "fisher.test(fisherdf)\n",
    "\n",
    "# store the output in new df\n",
    "tempdf <- fisher.test(fisherdf)\n",
    "tempdf <- data.frame(cbind(\"K562_ATAC\",tempdf$p.value,tempdf$estimate,tempdf$alternative))\n",
    "rownames(tempdf) <- NULL\n",
    "res <- rbind(res, tempdf)\n",
    "res"
   ]
  },
  {
   "cell_type": "markdown",
   "metadata": {},
   "source": [
    "##### K562 H3K27ac peaks"
   ]
  },
  {
   "cell_type": "code",
   "execution_count": 27,
   "metadata": {},
   "outputs": [
    {
     "data": {
      "text/html": [
       "<table class=\"dataframe\">\n",
       "<caption>A data.frame: 2 × 2</caption>\n",
       "<thead>\n",
       "\t<tr><th></th><th scope=col>overlap</th><th scope=col>no_overlap</th></tr>\n",
       "\t<tr><th></th><th scope=col>&lt;int&gt;</th><th scope=col>&lt;int&gt;</th></tr>\n",
       "</thead>\n",
       "<tbody>\n",
       "\t<tr><th scope=row>sig</th><td>182</td><td>  28</td></tr>\n",
       "\t<tr><th scope=row>ns</th><td>573</td><td>1950</td></tr>\n",
       "</tbody>\n",
       "</table>\n"
      ],
      "text/latex": [
       "A data.frame: 2 × 2\n",
       "\\begin{tabular}{r|ll}\n",
       "  & overlap & no\\_overlap\\\\\n",
       "  & <int> & <int>\\\\\n",
       "\\hline\n",
       "\tsig & 182 &   28\\\\\n",
       "\tns & 573 & 1950\\\\\n",
       "\\end{tabular}\n"
      ],
      "text/markdown": [
       "\n",
       "A data.frame: 2 × 2\n",
       "\n",
       "| <!--/--> | overlap &lt;int&gt; | no_overlap &lt;int&gt; |\n",
       "|---|---|---|\n",
       "| sig | 182 |   28 |\n",
       "| ns | 573 | 1950 |\n",
       "\n"
      ],
      "text/plain": [
       "    overlap no_overlap\n",
       "sig 182       28      \n",
       "ns  573     1950      "
      ]
     },
     "metadata": {},
     "output_type": "display_data"
    },
    {
     "data": {
      "text/plain": [
       "\n",
       "\tFisher's Exact Test for Count Data\n",
       "\n",
       "data:  fisherdf\n",
       "p-value < 2.2e-16\n",
       "alternative hypothesis: true odds ratio is not equal to 1\n",
       "95 percent confidence interval:\n",
       " 14.60022 34.55476\n",
       "sample estimates:\n",
       "odds ratio \n",
       "   22.0826 \n"
      ]
     },
     "metadata": {},
     "output_type": "display_data"
    },
    {
     "data": {
      "text/html": [
       "<table class=\"dataframe\">\n",
       "<caption>A data.frame: 6 × 4</caption>\n",
       "<thead>\n",
       "\t<tr><th scope=col>X1</th><th scope=col>X2</th><th scope=col>X3</th><th scope=col>X4</th></tr>\n",
       "\t<tr><th scope=col>&lt;chr&gt;</th><th scope=col>&lt;chr&gt;</th><th scope=col>&lt;chr&gt;</th><th scope=col>&lt;chr&gt;</th></tr>\n",
       "</thead>\n",
       "<tbody>\n",
       "\t<tr><td>All_cCREs   </td><td>5.89557252411057e-10</td><td>7.8829934987702 </td><td>two.sided</td></tr>\n",
       "\t<tr><td>All_DNase   </td><td>2.30690419709409e-10</td><td>6.4638378633986 </td><td>two.sided</td></tr>\n",
       "\t<tr><td>K562_cCREs  </td><td>5.89557252411057e-10</td><td>7.8829934987702 </td><td>two.sided</td></tr>\n",
       "\t<tr><td>K562_DNase  </td><td>3.61395818578951e-43</td><td>8.52799557896517</td><td>two.sided</td></tr>\n",
       "\t<tr><td>K562_ATAC   </td><td>1.36506565841988e-36</td><td>7.11001398772456</td><td>two.sided</td></tr>\n",
       "\t<tr><td>K562_H3K27ac</td><td>1.91349506124699e-78</td><td>22.0826026401055</td><td>two.sided</td></tr>\n",
       "</tbody>\n",
       "</table>\n"
      ],
      "text/latex": [
       "A data.frame: 6 × 4\n",
       "\\begin{tabular}{llll}\n",
       " X1 & X2 & X3 & X4\\\\\n",
       " <chr> & <chr> & <chr> & <chr>\\\\\n",
       "\\hline\n",
       "\t All\\_cCREs    & 5.89557252411057e-10 & 7.8829934987702  & two.sided\\\\\n",
       "\t All\\_DNase    & 2.30690419709409e-10 & 6.4638378633986  & two.sided\\\\\n",
       "\t K562\\_cCREs   & 5.89557252411057e-10 & 7.8829934987702  & two.sided\\\\\n",
       "\t K562\\_DNase   & 3.61395818578951e-43 & 8.52799557896517 & two.sided\\\\\n",
       "\t K562\\_ATAC    & 1.36506565841988e-36 & 7.11001398772456 & two.sided\\\\\n",
       "\t K562\\_H3K27ac & 1.91349506124699e-78 & 22.0826026401055 & two.sided\\\\\n",
       "\\end{tabular}\n"
      ],
      "text/markdown": [
       "\n",
       "A data.frame: 6 × 4\n",
       "\n",
       "| X1 &lt;chr&gt; | X2 &lt;chr&gt; | X3 &lt;chr&gt; | X4 &lt;chr&gt; |\n",
       "|---|---|---|---|\n",
       "| All_cCREs    | 5.89557252411057e-10 | 7.8829934987702  | two.sided |\n",
       "| All_DNase    | 2.30690419709409e-10 | 6.4638378633986  | two.sided |\n",
       "| K562_cCREs   | 5.89557252411057e-10 | 7.8829934987702  | two.sided |\n",
       "| K562_DNase   | 3.61395818578951e-43 | 8.52799557896517 | two.sided |\n",
       "| K562_ATAC    | 1.36506565841988e-36 | 7.11001398772456 | two.sided |\n",
       "| K562_H3K27ac | 1.91349506124699e-78 | 22.0826026401055 | two.sided |\n",
       "\n"
      ],
      "text/plain": [
       "  X1           X2                   X3               X4       \n",
       "1 All_cCREs    5.89557252411057e-10 7.8829934987702  two.sided\n",
       "2 All_DNase    2.30690419709409e-10 6.4638378633986  two.sided\n",
       "3 K562_cCREs   5.89557252411057e-10 7.8829934987702  two.sided\n",
       "4 K562_DNase   3.61395818578951e-43 8.52799557896517 two.sided\n",
       "5 K562_ATAC    1.36506565841988e-36 7.11001398772456 two.sided\n",
       "6 K562_H3K27ac 1.91349506124699e-78 22.0826026401055 two.sided"
      ]
     },
     "metadata": {},
     "output_type": "display_data"
    }
   ],
   "source": [
    "# get the values from workdf1 and workdf2\n",
    "a <- testdf %>% filter(feature == \"h3k27ac_k562\" & overlap == 1 & result == \"significant\") %>% select(n) %>% pull()\n",
    "b <- testdf %>% filter(feature == \"h3k27ac_k562\" & overlap == 0 & result == \"significant\") %>% select(n) %>% pull()\n",
    "c <- testdf %>% filter(feature == \"h3k27ac_k562\" & overlap == 1 & result == \"perturbed\") %>% select(n) %>% pull() - a\n",
    "d <- testdf %>% filter(feature == \"h3k27ac_k562\" & overlap == 0 & result == \"perturbed\") %>% select(n) %>% pull() - b\n",
    "\n",
    "# create a dataframe\n",
    "fisherdf <- data.frame(\"overlap\" = c(a, c), \"no_overlap\" = c(b, d), row.names = c(\"sig\", \"ns\"))\n",
    "fisherdf\n",
    "\n",
    "# perform the test\n",
    "fisher.test(fisherdf)\n",
    "\n",
    "# store the output in new df\n",
    "tempdf <- fisher.test(fisherdf)\n",
    "tempdf <- data.frame(cbind(\"K562_H3K27ac\",tempdf$p.value,tempdf$estimate,tempdf$alternative))\n",
    "rownames(tempdf) <- NULL\n",
    "res <- rbind(res, tempdf)\n",
    "res"
   ]
  },
  {
   "cell_type": "markdown",
   "metadata": {},
   "source": [
    "##### K562 H3K4me1 peaks"
   ]
  },
  {
   "cell_type": "code",
   "execution_count": 28,
   "metadata": {},
   "outputs": [
    {
     "data": {
      "text/html": [
       "<table class=\"dataframe\">\n",
       "<caption>A data.frame: 2 × 2</caption>\n",
       "<thead>\n",
       "\t<tr><th></th><th scope=col>overlap</th><th scope=col>no_overlap</th></tr>\n",
       "\t<tr><th></th><th scope=col>&lt;int&gt;</th><th scope=col>&lt;int&gt;</th></tr>\n",
       "</thead>\n",
       "<tbody>\n",
       "\t<tr><th scope=row>sig</th><td>159</td><td>  51</td></tr>\n",
       "\t<tr><th scope=row>ns</th><td>829</td><td>1694</td></tr>\n",
       "</tbody>\n",
       "</table>\n"
      ],
      "text/latex": [
       "A data.frame: 2 × 2\n",
       "\\begin{tabular}{r|ll}\n",
       "  & overlap & no\\_overlap\\\\\n",
       "  & <int> & <int>\\\\\n",
       "\\hline\n",
       "\tsig & 159 &   51\\\\\n",
       "\tns & 829 & 1694\\\\\n",
       "\\end{tabular}\n"
      ],
      "text/markdown": [
       "\n",
       "A data.frame: 2 × 2\n",
       "\n",
       "| <!--/--> | overlap &lt;int&gt; | no_overlap &lt;int&gt; |\n",
       "|---|---|---|\n",
       "| sig | 159 |   51 |\n",
       "| ns | 829 | 1694 |\n",
       "\n"
      ],
      "text/plain": [
       "    overlap no_overlap\n",
       "sig 159       51      \n",
       "ns  829     1694      "
      ]
     },
     "metadata": {},
     "output_type": "display_data"
    },
    {
     "data": {
      "text/plain": [
       "\n",
       "\tFisher's Exact Test for Count Data\n",
       "\n",
       "data:  fisherdf\n",
       "p-value < 2.2e-16\n",
       "alternative hypothesis: true odds ratio is not equal to 1\n",
       "95 percent confidence interval:\n",
       " 4.562882 9.006936\n",
       "sample estimates:\n",
       "odds ratio \n",
       "  6.365856 \n"
      ]
     },
     "metadata": {},
     "output_type": "display_data"
    },
    {
     "data": {
      "text/html": [
       "<table class=\"dataframe\">\n",
       "<caption>A data.frame: 7 × 4</caption>\n",
       "<thead>\n",
       "\t<tr><th scope=col>X1</th><th scope=col>X2</th><th scope=col>X3</th><th scope=col>X4</th></tr>\n",
       "\t<tr><th scope=col>&lt;chr&gt;</th><th scope=col>&lt;chr&gt;</th><th scope=col>&lt;chr&gt;</th><th scope=col>&lt;chr&gt;</th></tr>\n",
       "</thead>\n",
       "<tbody>\n",
       "\t<tr><td>All_cCREs   </td><td>5.89557252411057e-10</td><td>7.8829934987702 </td><td>two.sided</td></tr>\n",
       "\t<tr><td>All_DNase   </td><td>2.30690419709409e-10</td><td>6.4638378633986 </td><td>two.sided</td></tr>\n",
       "\t<tr><td>K562_cCREs  </td><td>5.89557252411057e-10</td><td>7.8829934987702 </td><td>two.sided</td></tr>\n",
       "\t<tr><td>K562_DNase  </td><td>3.61395818578951e-43</td><td>8.52799557896517</td><td>two.sided</td></tr>\n",
       "\t<tr><td>K562_ATAC   </td><td>1.36506565841988e-36</td><td>7.11001398772456</td><td>two.sided</td></tr>\n",
       "\t<tr><td>K562_H3K27ac</td><td>1.91349506124699e-78</td><td>22.0826026401055</td><td>two.sided</td></tr>\n",
       "\t<tr><td>K562_H3K4me1</td><td>4.88881574889647e-34</td><td>6.36585560561038</td><td>two.sided</td></tr>\n",
       "</tbody>\n",
       "</table>\n"
      ],
      "text/latex": [
       "A data.frame: 7 × 4\n",
       "\\begin{tabular}{llll}\n",
       " X1 & X2 & X3 & X4\\\\\n",
       " <chr> & <chr> & <chr> & <chr>\\\\\n",
       "\\hline\n",
       "\t All\\_cCREs    & 5.89557252411057e-10 & 7.8829934987702  & two.sided\\\\\n",
       "\t All\\_DNase    & 2.30690419709409e-10 & 6.4638378633986  & two.sided\\\\\n",
       "\t K562\\_cCREs   & 5.89557252411057e-10 & 7.8829934987702  & two.sided\\\\\n",
       "\t K562\\_DNase   & 3.61395818578951e-43 & 8.52799557896517 & two.sided\\\\\n",
       "\t K562\\_ATAC    & 1.36506565841988e-36 & 7.11001398772456 & two.sided\\\\\n",
       "\t K562\\_H3K27ac & 1.91349506124699e-78 & 22.0826026401055 & two.sided\\\\\n",
       "\t K562\\_H3K4me1 & 4.88881574889647e-34 & 6.36585560561038 & two.sided\\\\\n",
       "\\end{tabular}\n"
      ],
      "text/markdown": [
       "\n",
       "A data.frame: 7 × 4\n",
       "\n",
       "| X1 &lt;chr&gt; | X2 &lt;chr&gt; | X3 &lt;chr&gt; | X4 &lt;chr&gt; |\n",
       "|---|---|---|---|\n",
       "| All_cCREs    | 5.89557252411057e-10 | 7.8829934987702  | two.sided |\n",
       "| All_DNase    | 2.30690419709409e-10 | 6.4638378633986  | two.sided |\n",
       "| K562_cCREs   | 5.89557252411057e-10 | 7.8829934987702  | two.sided |\n",
       "| K562_DNase   | 3.61395818578951e-43 | 8.52799557896517 | two.sided |\n",
       "| K562_ATAC    | 1.36506565841988e-36 | 7.11001398772456 | two.sided |\n",
       "| K562_H3K27ac | 1.91349506124699e-78 | 22.0826026401055 | two.sided |\n",
       "| K562_H3K4me1 | 4.88881574889647e-34 | 6.36585560561038 | two.sided |\n",
       "\n"
      ],
      "text/plain": [
       "  X1           X2                   X3               X4       \n",
       "1 All_cCREs    5.89557252411057e-10 7.8829934987702  two.sided\n",
       "2 All_DNase    2.30690419709409e-10 6.4638378633986  two.sided\n",
       "3 K562_cCREs   5.89557252411057e-10 7.8829934987702  two.sided\n",
       "4 K562_DNase   3.61395818578951e-43 8.52799557896517 two.sided\n",
       "5 K562_ATAC    1.36506565841988e-36 7.11001398772456 two.sided\n",
       "6 K562_H3K27ac 1.91349506124699e-78 22.0826026401055 two.sided\n",
       "7 K562_H3K4me1 4.88881574889647e-34 6.36585560561038 two.sided"
      ]
     },
     "metadata": {},
     "output_type": "display_data"
    }
   ],
   "source": [
    "# get the values from workdf1 and workdf2\n",
    "a <- testdf %>% filter(feature == \"h3k4me1_k562\" & overlap == 1 & result == \"significant\") %>% select(n) %>% pull()\n",
    "b <- testdf %>% filter(feature == \"h3k4me1_k562\" & overlap == 0 & result == \"significant\") %>% select(n) %>% pull()\n",
    "c <- testdf %>% filter(feature == \"h3k4me1_k562\" & overlap == 1 & result == \"perturbed\") %>% select(n) %>% pull() - a\n",
    "d <- testdf %>% filter(feature == \"h3k4me1_k562\" & overlap == 0 & result == \"perturbed\") %>% select(n) %>% pull() - b\n",
    "\n",
    "# create a dataframe\n",
    "fisherdf <- data.frame(\"overlap\" = c(a, c), \"no_overlap\" = c(b, d), row.names = c(\"sig\", \"ns\"))\n",
    "fisherdf\n",
    "\n",
    "# perform the test\n",
    "fisher.test(fisherdf)\n",
    "\n",
    "# store the output in new df\n",
    "tempdf <- fisher.test(fisherdf)\n",
    "tempdf <- data.frame(cbind(\"K562_H3K4me1\",tempdf$p.value,tempdf$estimate,tempdf$alternative))\n",
    "rownames(tempdf) <- NULL\n",
    "res <- rbind(res, tempdf)\n",
    "res"
   ]
  },
  {
   "cell_type": "markdown",
   "metadata": {},
   "source": [
    "##### K562 H3K4me3 peaks"
   ]
  },
  {
   "cell_type": "code",
   "execution_count": 29,
   "metadata": {},
   "outputs": [
    {
     "data": {
      "text/html": [
       "<table class=\"dataframe\">\n",
       "<caption>A data.frame: 2 × 2</caption>\n",
       "<thead>\n",
       "\t<tr><th></th><th scope=col>overlap</th><th scope=col>no_overlap</th></tr>\n",
       "\t<tr><th></th><th scope=col>&lt;int&gt;</th><th scope=col>&lt;int&gt;</th></tr>\n",
       "</thead>\n",
       "<tbody>\n",
       "\t<tr><th scope=row>sig</th><td>117</td><td>  93</td></tr>\n",
       "\t<tr><th scope=row>ns</th><td>262</td><td>2261</td></tr>\n",
       "</tbody>\n",
       "</table>\n"
      ],
      "text/latex": [
       "A data.frame: 2 × 2\n",
       "\\begin{tabular}{r|ll}\n",
       "  & overlap & no\\_overlap\\\\\n",
       "  & <int> & <int>\\\\\n",
       "\\hline\n",
       "\tsig & 117 &   93\\\\\n",
       "\tns & 262 & 2261\\\\\n",
       "\\end{tabular}\n"
      ],
      "text/markdown": [
       "\n",
       "A data.frame: 2 × 2\n",
       "\n",
       "| <!--/--> | overlap &lt;int&gt; | no_overlap &lt;int&gt; |\n",
       "|---|---|---|\n",
       "| sig | 117 |   93 |\n",
       "| ns | 262 | 2261 |\n",
       "\n"
      ],
      "text/plain": [
       "    overlap no_overlap\n",
       "sig 117       93      \n",
       "ns  262     2261      "
      ]
     },
     "metadata": {},
     "output_type": "display_data"
    },
    {
     "data": {
      "text/plain": [
       "\n",
       "\tFisher's Exact Test for Count Data\n",
       "\n",
       "data:  fisherdf\n",
       "p-value < 2.2e-16\n",
       "alternative hypothesis: true odds ratio is not equal to 1\n",
       "95 percent confidence interval:\n",
       "  7.940662 14.837480\n",
       "sample estimates:\n",
       "odds ratio \n",
       "  10.83966 \n"
      ]
     },
     "metadata": {},
     "output_type": "display_data"
    },
    {
     "data": {
      "text/html": [
       "<table class=\"dataframe\">\n",
       "<caption>A data.frame: 8 × 4</caption>\n",
       "<thead>\n",
       "\t<tr><th scope=col>X1</th><th scope=col>X2</th><th scope=col>X3</th><th scope=col>X4</th></tr>\n",
       "\t<tr><th scope=col>&lt;chr&gt;</th><th scope=col>&lt;chr&gt;</th><th scope=col>&lt;chr&gt;</th><th scope=col>&lt;chr&gt;</th></tr>\n",
       "</thead>\n",
       "<tbody>\n",
       "\t<tr><td>All_cCREs   </td><td>5.89557252411057e-10</td><td>7.8829934987702 </td><td>two.sided</td></tr>\n",
       "\t<tr><td>All_DNase   </td><td>2.30690419709409e-10</td><td>6.4638378633986 </td><td>two.sided</td></tr>\n",
       "\t<tr><td>K562_cCREs  </td><td>5.89557252411057e-10</td><td>7.8829934987702 </td><td>two.sided</td></tr>\n",
       "\t<tr><td>K562_DNase  </td><td>3.61395818578951e-43</td><td>8.52799557896517</td><td>two.sided</td></tr>\n",
       "\t<tr><td>K562_ATAC   </td><td>1.36506565841988e-36</td><td>7.11001398772456</td><td>two.sided</td></tr>\n",
       "\t<tr><td>K562_H3K27ac</td><td>1.91349506124699e-78</td><td>22.0826026401055</td><td>two.sided</td></tr>\n",
       "\t<tr><td>K562_H3K4me1</td><td>4.88881574889647e-34</td><td>6.36585560561038</td><td>two.sided</td></tr>\n",
       "\t<tr><td>K562_H3K4me3</td><td>1.10867823674137e-51</td><td>10.83965681752  </td><td>two.sided</td></tr>\n",
       "</tbody>\n",
       "</table>\n"
      ],
      "text/latex": [
       "A data.frame: 8 × 4\n",
       "\\begin{tabular}{llll}\n",
       " X1 & X2 & X3 & X4\\\\\n",
       " <chr> & <chr> & <chr> & <chr>\\\\\n",
       "\\hline\n",
       "\t All\\_cCREs    & 5.89557252411057e-10 & 7.8829934987702  & two.sided\\\\\n",
       "\t All\\_DNase    & 2.30690419709409e-10 & 6.4638378633986  & two.sided\\\\\n",
       "\t K562\\_cCREs   & 5.89557252411057e-10 & 7.8829934987702  & two.sided\\\\\n",
       "\t K562\\_DNase   & 3.61395818578951e-43 & 8.52799557896517 & two.sided\\\\\n",
       "\t K562\\_ATAC    & 1.36506565841988e-36 & 7.11001398772456 & two.sided\\\\\n",
       "\t K562\\_H3K27ac & 1.91349506124699e-78 & 22.0826026401055 & two.sided\\\\\n",
       "\t K562\\_H3K4me1 & 4.88881574889647e-34 & 6.36585560561038 & two.sided\\\\\n",
       "\t K562\\_H3K4me3 & 1.10867823674137e-51 & 10.83965681752   & two.sided\\\\\n",
       "\\end{tabular}\n"
      ],
      "text/markdown": [
       "\n",
       "A data.frame: 8 × 4\n",
       "\n",
       "| X1 &lt;chr&gt; | X2 &lt;chr&gt; | X3 &lt;chr&gt; | X4 &lt;chr&gt; |\n",
       "|---|---|---|---|\n",
       "| All_cCREs    | 5.89557252411057e-10 | 7.8829934987702  | two.sided |\n",
       "| All_DNase    | 2.30690419709409e-10 | 6.4638378633986  | two.sided |\n",
       "| K562_cCREs   | 5.89557252411057e-10 | 7.8829934987702  | two.sided |\n",
       "| K562_DNase   | 3.61395818578951e-43 | 8.52799557896517 | two.sided |\n",
       "| K562_ATAC    | 1.36506565841988e-36 | 7.11001398772456 | two.sided |\n",
       "| K562_H3K27ac | 1.91349506124699e-78 | 22.0826026401055 | two.sided |\n",
       "| K562_H3K4me1 | 4.88881574889647e-34 | 6.36585560561038 | two.sided |\n",
       "| K562_H3K4me3 | 1.10867823674137e-51 | 10.83965681752   | two.sided |\n",
       "\n"
      ],
      "text/plain": [
       "  X1           X2                   X3               X4       \n",
       "1 All_cCREs    5.89557252411057e-10 7.8829934987702  two.sided\n",
       "2 All_DNase    2.30690419709409e-10 6.4638378633986  two.sided\n",
       "3 K562_cCREs   5.89557252411057e-10 7.8829934987702  two.sided\n",
       "4 K562_DNase   3.61395818578951e-43 8.52799557896517 two.sided\n",
       "5 K562_ATAC    1.36506565841988e-36 7.11001398772456 two.sided\n",
       "6 K562_H3K27ac 1.91349506124699e-78 22.0826026401055 two.sided\n",
       "7 K562_H3K4me1 4.88881574889647e-34 6.36585560561038 two.sided\n",
       "8 K562_H3K4me3 1.10867823674137e-51 10.83965681752   two.sided"
      ]
     },
     "metadata": {},
     "output_type": "display_data"
    }
   ],
   "source": [
    "# get the values from workdf1 and workdf2\n",
    "a <- testdf %>% filter(feature == \"h3k4me3_k562\" & overlap == 1 & result == \"significant\") %>% select(n) %>% pull()\n",
    "b <- testdf %>% filter(feature == \"h3k4me3_k562\" & overlap == 0 & result == \"significant\") %>% select(n) %>% pull()\n",
    "c <- testdf %>% filter(feature == \"h3k4me3_k562\" & overlap == 1 & result == \"perturbed\") %>% select(n) %>% pull() - a\n",
    "d <- testdf %>% filter(feature == \"h3k4me3_k562\" & overlap == 0 & result == \"perturbed\") %>% select(n) %>% pull() - b\n",
    "\n",
    "# create a dataframe\n",
    "fisherdf <- data.frame(\"overlap\" = c(a, c), \"no_overlap\" = c(b, d), row.names = c(\"sig\", \"ns\"))\n",
    "fisherdf\n",
    "\n",
    "# perform the test\n",
    "fisher.test(fisherdf)\n",
    "\n",
    "# store the output in new df\n",
    "tempdf <- fisher.test(fisherdf)\n",
    "tempdf <- data.frame(cbind(\"K562_H3K4me3\",tempdf$p.value,tempdf$estimate,tempdf$alternative))\n",
    "rownames(tempdf) <- NULL\n",
    "res <- rbind(res, tempdf)\n",
    "res"
   ]
  },
  {
   "cell_type": "markdown",
   "metadata": {},
   "source": [
    "##### K562 H3K9me3 peaks"
   ]
  },
  {
   "cell_type": "code",
   "execution_count": 30,
   "metadata": {},
   "outputs": [
    {
     "data": {
      "text/html": [
       "<table class=\"dataframe\">\n",
       "<caption>A data.frame: 2 × 2</caption>\n",
       "<thead>\n",
       "\t<tr><th></th><th scope=col>overlap</th><th scope=col>no_overlap</th></tr>\n",
       "\t<tr><th></th><th scope=col>&lt;dbl&gt;</th><th scope=col>&lt;int&gt;</th></tr>\n",
       "</thead>\n",
       "<tbody>\n",
       "\t<tr><th scope=row>sig</th><td> 0</td><td> 210</td></tr>\n",
       "\t<tr><th scope=row>ns</th><td>59</td><td>2464</td></tr>\n",
       "</tbody>\n",
       "</table>\n"
      ],
      "text/latex": [
       "A data.frame: 2 × 2\n",
       "\\begin{tabular}{r|ll}\n",
       "  & overlap & no\\_overlap\\\\\n",
       "  & <dbl> & <int>\\\\\n",
       "\\hline\n",
       "\tsig &  0 &  210\\\\\n",
       "\tns & 59 & 2464\\\\\n",
       "\\end{tabular}\n"
      ],
      "text/markdown": [
       "\n",
       "A data.frame: 2 × 2\n",
       "\n",
       "| <!--/--> | overlap &lt;dbl&gt; | no_overlap &lt;int&gt; |\n",
       "|---|---|---|\n",
       "| sig |  0 |  210 |\n",
       "| ns | 59 | 2464 |\n",
       "\n"
      ],
      "text/plain": [
       "    overlap no_overlap\n",
       "sig  0       210      \n",
       "ns  59      2464      "
      ]
     },
     "metadata": {},
     "output_type": "display_data"
    },
    {
     "data": {
      "text/plain": [
       "\n",
       "\tFisher's Exact Test for Count Data\n",
       "\n",
       "data:  fisherdf\n",
       "p-value = 0.02137\n",
       "alternative hypothesis: true odds ratio is not equal to 1\n",
       "95 percent confidence interval:\n",
       " 0.0000000 0.7642661\n",
       "sample estimates:\n",
       "odds ratio \n",
       "         0 \n"
      ]
     },
     "metadata": {},
     "output_type": "display_data"
    },
    {
     "data": {
      "text/html": [
       "<table class=\"dataframe\">\n",
       "<caption>A data.frame: 9 × 4</caption>\n",
       "<thead>\n",
       "\t<tr><th scope=col>X1</th><th scope=col>X2</th><th scope=col>X3</th><th scope=col>X4</th></tr>\n",
       "\t<tr><th scope=col>&lt;chr&gt;</th><th scope=col>&lt;chr&gt;</th><th scope=col>&lt;chr&gt;</th><th scope=col>&lt;chr&gt;</th></tr>\n",
       "</thead>\n",
       "<tbody>\n",
       "\t<tr><td>All_cCREs   </td><td>5.89557252411057e-10</td><td>7.8829934987702 </td><td>two.sided</td></tr>\n",
       "\t<tr><td>All_DNase   </td><td>2.30690419709409e-10</td><td>6.4638378633986 </td><td>two.sided</td></tr>\n",
       "\t<tr><td>K562_cCREs  </td><td>5.89557252411057e-10</td><td>7.8829934987702 </td><td>two.sided</td></tr>\n",
       "\t<tr><td>K562_DNase  </td><td>3.61395818578951e-43</td><td>8.52799557896517</td><td>two.sided</td></tr>\n",
       "\t<tr><td>K562_ATAC   </td><td>1.36506565841988e-36</td><td>7.11001398772456</td><td>two.sided</td></tr>\n",
       "\t<tr><td>K562_H3K27ac</td><td>1.91349506124699e-78</td><td>22.0826026401055</td><td>two.sided</td></tr>\n",
       "\t<tr><td>K562_H3K4me1</td><td>4.88881574889647e-34</td><td>6.36585560561038</td><td>two.sided</td></tr>\n",
       "\t<tr><td>K562_H3K4me3</td><td>1.10867823674137e-51</td><td>10.83965681752  </td><td>two.sided</td></tr>\n",
       "\t<tr><td>K562_H3K9me3</td><td>0.0213672723466523  </td><td>0               </td><td>two.sided</td></tr>\n",
       "</tbody>\n",
       "</table>\n"
      ],
      "text/latex": [
       "A data.frame: 9 × 4\n",
       "\\begin{tabular}{llll}\n",
       " X1 & X2 & X3 & X4\\\\\n",
       " <chr> & <chr> & <chr> & <chr>\\\\\n",
       "\\hline\n",
       "\t All\\_cCREs    & 5.89557252411057e-10 & 7.8829934987702  & two.sided\\\\\n",
       "\t All\\_DNase    & 2.30690419709409e-10 & 6.4638378633986  & two.sided\\\\\n",
       "\t K562\\_cCREs   & 5.89557252411057e-10 & 7.8829934987702  & two.sided\\\\\n",
       "\t K562\\_DNase   & 3.61395818578951e-43 & 8.52799557896517 & two.sided\\\\\n",
       "\t K562\\_ATAC    & 1.36506565841988e-36 & 7.11001398772456 & two.sided\\\\\n",
       "\t K562\\_H3K27ac & 1.91349506124699e-78 & 22.0826026401055 & two.sided\\\\\n",
       "\t K562\\_H3K4me1 & 4.88881574889647e-34 & 6.36585560561038 & two.sided\\\\\n",
       "\t K562\\_H3K4me3 & 1.10867823674137e-51 & 10.83965681752   & two.sided\\\\\n",
       "\t K562\\_H3K9me3 & 0.0213672723466523   & 0                & two.sided\\\\\n",
       "\\end{tabular}\n"
      ],
      "text/markdown": [
       "\n",
       "A data.frame: 9 × 4\n",
       "\n",
       "| X1 &lt;chr&gt; | X2 &lt;chr&gt; | X3 &lt;chr&gt; | X4 &lt;chr&gt; |\n",
       "|---|---|---|---|\n",
       "| All_cCREs    | 5.89557252411057e-10 | 7.8829934987702  | two.sided |\n",
       "| All_DNase    | 2.30690419709409e-10 | 6.4638378633986  | two.sided |\n",
       "| K562_cCREs   | 5.89557252411057e-10 | 7.8829934987702  | two.sided |\n",
       "| K562_DNase   | 3.61395818578951e-43 | 8.52799557896517 | two.sided |\n",
       "| K562_ATAC    | 1.36506565841988e-36 | 7.11001398772456 | two.sided |\n",
       "| K562_H3K27ac | 1.91349506124699e-78 | 22.0826026401055 | two.sided |\n",
       "| K562_H3K4me1 | 4.88881574889647e-34 | 6.36585560561038 | two.sided |\n",
       "| K562_H3K4me3 | 1.10867823674137e-51 | 10.83965681752   | two.sided |\n",
       "| K562_H3K9me3 | 0.0213672723466523   | 0                | two.sided |\n",
       "\n"
      ],
      "text/plain": [
       "  X1           X2                   X3               X4       \n",
       "1 All_cCREs    5.89557252411057e-10 7.8829934987702  two.sided\n",
       "2 All_DNase    2.30690419709409e-10 6.4638378633986  two.sided\n",
       "3 K562_cCREs   5.89557252411057e-10 7.8829934987702  two.sided\n",
       "4 K562_DNase   3.61395818578951e-43 8.52799557896517 two.sided\n",
       "5 K562_ATAC    1.36506565841988e-36 7.11001398772456 two.sided\n",
       "6 K562_H3K27ac 1.91349506124699e-78 22.0826026401055 two.sided\n",
       "7 K562_H3K4me1 4.88881574889647e-34 6.36585560561038 two.sided\n",
       "8 K562_H3K4me3 1.10867823674137e-51 10.83965681752   two.sided\n",
       "9 K562_H3K9me3 0.0213672723466523   0                two.sided"
      ]
     },
     "metadata": {},
     "output_type": "display_data"
    }
   ],
   "source": [
    "# get the values from workdf1 and workdf2\n",
    "a <- 0 # testdf %>% filter(feature == \"h3k9me3_k562\" & overlap == 1 & result == \"significant\") %>% select(n) %>% pull()\n",
    "b <- testdf %>% filter(feature == \"h3k9me3_k562\" & overlap == 0 & result == \"significant\") %>% select(n) %>% pull()\n",
    "c <- testdf %>% filter(feature == \"h3k9me3_k562\" & overlap == 1 & result == \"perturbed\") %>% select(n) %>% pull() - a\n",
    "d <- testdf %>% filter(feature == \"h3k9me3_k562\" & overlap == 0 & result == \"perturbed\") %>% select(n) %>% pull() - b\n",
    "\n",
    "# create a dataframe\n",
    "fisherdf <- data.frame(\"overlap\" = c(a, c), \"no_overlap\" = c(b, d), row.names = c(\"sig\", \"ns\"))\n",
    "fisherdf\n",
    "\n",
    "# perform the test\n",
    "fisher.test(fisherdf)\n",
    "\n",
    "# store the output in new df\n",
    "tempdf <- fisher.test(fisherdf)\n",
    "tempdf <- data.frame(cbind(\"K562_H3K9me3\",tempdf$p.value,tempdf$estimate,tempdf$alternative))\n",
    "rownames(tempdf) <- NULL\n",
    "res <- rbind(res, tempdf)\n",
    "res"
   ]
  },
  {
   "cell_type": "markdown",
   "metadata": {},
   "source": [
    "##### K562 H3K27me3 peaks"
   ]
  },
  {
   "cell_type": "code",
   "execution_count": 31,
   "metadata": {},
   "outputs": [
    {
     "data": {
      "text/html": [
       "<table class=\"dataframe\">\n",
       "<caption>A data.frame: 2 × 2</caption>\n",
       "<thead>\n",
       "\t<tr><th></th><th scope=col>overlap</th><th scope=col>no_overlap</th></tr>\n",
       "\t<tr><th></th><th scope=col>&lt;int&gt;</th><th scope=col>&lt;int&gt;</th></tr>\n",
       "</thead>\n",
       "<tbody>\n",
       "\t<tr><th scope=row>sig</th><td>  1</td><td> 209</td></tr>\n",
       "\t<tr><th scope=row>ns</th><td>256</td><td>2267</td></tr>\n",
       "</tbody>\n",
       "</table>\n"
      ],
      "text/latex": [
       "A data.frame: 2 × 2\n",
       "\\begin{tabular}{r|ll}\n",
       "  & overlap & no\\_overlap\\\\\n",
       "  & <int> & <int>\\\\\n",
       "\\hline\n",
       "\tsig &   1 &  209\\\\\n",
       "\tns & 256 & 2267\\\\\n",
       "\\end{tabular}\n"
      ],
      "text/markdown": [
       "\n",
       "A data.frame: 2 × 2\n",
       "\n",
       "| <!--/--> | overlap &lt;int&gt; | no_overlap &lt;int&gt; |\n",
       "|---|---|---|\n",
       "| sig |   1 |  209 |\n",
       "| ns | 256 | 2267 |\n",
       "\n"
      ],
      "text/plain": [
       "    overlap no_overlap\n",
       "sig   1      209      \n",
       "ns  256     2267      "
      ]
     },
     "metadata": {},
     "output_type": "display_data"
    },
    {
     "data": {
      "text/plain": [
       "\n",
       "\tFisher's Exact Test for Count Data\n",
       "\n",
       "data:  fisherdf\n",
       "p-value = 1.985e-08\n",
       "alternative hypothesis: true odds ratio is not equal to 1\n",
       "95 percent confidence interval:\n",
       " 0.001067828 0.241114057\n",
       "sample estimates:\n",
       "odds ratio \n",
       " 0.0423884 \n"
      ]
     },
     "metadata": {},
     "output_type": "display_data"
    },
    {
     "data": {
      "text/html": [
       "<table class=\"dataframe\">\n",
       "<caption>A data.frame: 10 × 4</caption>\n",
       "<thead>\n",
       "\t<tr><th scope=col>X1</th><th scope=col>X2</th><th scope=col>X3</th><th scope=col>X4</th></tr>\n",
       "\t<tr><th scope=col>&lt;chr&gt;</th><th scope=col>&lt;chr&gt;</th><th scope=col>&lt;chr&gt;</th><th scope=col>&lt;chr&gt;</th></tr>\n",
       "</thead>\n",
       "<tbody>\n",
       "\t<tr><td>All_cCREs    </td><td>5.89557252411057e-10</td><td>7.8829934987702   </td><td>two.sided</td></tr>\n",
       "\t<tr><td>All_DNase    </td><td>2.30690419709409e-10</td><td>6.4638378633986   </td><td>two.sided</td></tr>\n",
       "\t<tr><td>K562_cCREs   </td><td>5.89557252411057e-10</td><td>7.8829934987702   </td><td>two.sided</td></tr>\n",
       "\t<tr><td>K562_DNase   </td><td>3.61395818578951e-43</td><td>8.52799557896517  </td><td>two.sided</td></tr>\n",
       "\t<tr><td>K562_ATAC    </td><td>1.36506565841988e-36</td><td>7.11001398772456  </td><td>two.sided</td></tr>\n",
       "\t<tr><td>K562_H3K27ac </td><td>1.91349506124699e-78</td><td>22.0826026401055  </td><td>two.sided</td></tr>\n",
       "\t<tr><td>K562_H3K4me1 </td><td>4.88881574889647e-34</td><td>6.36585560561038  </td><td>two.sided</td></tr>\n",
       "\t<tr><td>K562_H3K4me3 </td><td>1.10867823674137e-51</td><td>10.83965681752    </td><td>two.sided</td></tr>\n",
       "\t<tr><td>K562_H3K9me3 </td><td>0.0213672723466523  </td><td>0                 </td><td>two.sided</td></tr>\n",
       "\t<tr><td>K562_H3K27me3</td><td>1.98508348670799e-08</td><td>0.0423883993918636</td><td>two.sided</td></tr>\n",
       "</tbody>\n",
       "</table>\n"
      ],
      "text/latex": [
       "A data.frame: 10 × 4\n",
       "\\begin{tabular}{llll}\n",
       " X1 & X2 & X3 & X4\\\\\n",
       " <chr> & <chr> & <chr> & <chr>\\\\\n",
       "\\hline\n",
       "\t All\\_cCREs     & 5.89557252411057e-10 & 7.8829934987702    & two.sided\\\\\n",
       "\t All\\_DNase     & 2.30690419709409e-10 & 6.4638378633986    & two.sided\\\\\n",
       "\t K562\\_cCREs    & 5.89557252411057e-10 & 7.8829934987702    & two.sided\\\\\n",
       "\t K562\\_DNase    & 3.61395818578951e-43 & 8.52799557896517   & two.sided\\\\\n",
       "\t K562\\_ATAC     & 1.36506565841988e-36 & 7.11001398772456   & two.sided\\\\\n",
       "\t K562\\_H3K27ac  & 1.91349506124699e-78 & 22.0826026401055   & two.sided\\\\\n",
       "\t K562\\_H3K4me1  & 4.88881574889647e-34 & 6.36585560561038   & two.sided\\\\\n",
       "\t K562\\_H3K4me3  & 1.10867823674137e-51 & 10.83965681752     & two.sided\\\\\n",
       "\t K562\\_H3K9me3  & 0.0213672723466523   & 0                  & two.sided\\\\\n",
       "\t K562\\_H3K27me3 & 1.98508348670799e-08 & 0.0423883993918636 & two.sided\\\\\n",
       "\\end{tabular}\n"
      ],
      "text/markdown": [
       "\n",
       "A data.frame: 10 × 4\n",
       "\n",
       "| X1 &lt;chr&gt; | X2 &lt;chr&gt; | X3 &lt;chr&gt; | X4 &lt;chr&gt; |\n",
       "|---|---|---|---|\n",
       "| All_cCREs     | 5.89557252411057e-10 | 7.8829934987702    | two.sided |\n",
       "| All_DNase     | 2.30690419709409e-10 | 6.4638378633986    | two.sided |\n",
       "| K562_cCREs    | 5.89557252411057e-10 | 7.8829934987702    | two.sided |\n",
       "| K562_DNase    | 3.61395818578951e-43 | 8.52799557896517   | two.sided |\n",
       "| K562_ATAC     | 1.36506565841988e-36 | 7.11001398772456   | two.sided |\n",
       "| K562_H3K27ac  | 1.91349506124699e-78 | 22.0826026401055   | two.sided |\n",
       "| K562_H3K4me1  | 4.88881574889647e-34 | 6.36585560561038   | two.sided |\n",
       "| K562_H3K4me3  | 1.10867823674137e-51 | 10.83965681752     | two.sided |\n",
       "| K562_H3K9me3  | 0.0213672723466523   | 0                  | two.sided |\n",
       "| K562_H3K27me3 | 1.98508348670799e-08 | 0.0423883993918636 | two.sided |\n",
       "\n"
      ],
      "text/plain": [
       "   X1            X2                   X3                 X4       \n",
       "1  All_cCREs     5.89557252411057e-10 7.8829934987702    two.sided\n",
       "2  All_DNase     2.30690419709409e-10 6.4638378633986    two.sided\n",
       "3  K562_cCREs    5.89557252411057e-10 7.8829934987702    two.sided\n",
       "4  K562_DNase    3.61395818578951e-43 8.52799557896517   two.sided\n",
       "5  K562_ATAC     1.36506565841988e-36 7.11001398772456   two.sided\n",
       "6  K562_H3K27ac  1.91349506124699e-78 22.0826026401055   two.sided\n",
       "7  K562_H3K4me1  4.88881574889647e-34 6.36585560561038   two.sided\n",
       "8  K562_H3K4me3  1.10867823674137e-51 10.83965681752     two.sided\n",
       "9  K562_H3K9me3  0.0213672723466523   0                  two.sided\n",
       "10 K562_H3K27me3 1.98508348670799e-08 0.0423883993918636 two.sided"
      ]
     },
     "metadata": {},
     "output_type": "display_data"
    }
   ],
   "source": [
    "# get the values from workdf1 and workdf2\n",
    "a <- testdf %>% filter(feature == \"h3k27me3_k562\" & overlap == 1 & result == \"significant\") %>% select(n) %>% pull()\n",
    "b <- testdf %>% filter(feature == \"h3k27me3_k562\" & overlap == 0 & result == \"significant\") %>% select(n) %>% pull()\n",
    "c <- testdf %>% filter(feature == \"h3k27me3_k562\" & overlap == 1 & result == \"perturbed\") %>% select(n) %>% pull() - a\n",
    "d <- testdf %>% filter(feature == \"h3k27me3_k562\" & overlap == 0 & result == \"perturbed\") %>% select(n) %>% pull() - b\n",
    "\n",
    "# create a dataframe\n",
    "fisherdf <- data.frame(\"overlap\" = c(a, c), \"no_overlap\" = c(b, d), row.names = c(\"sig\", \"ns\"))\n",
    "fisherdf\n",
    "\n",
    "# perform the test\n",
    "fisher.test(fisherdf)\n",
    "\n",
    "# store the output in new df\n",
    "tempdf <- fisher.test(fisherdf)\n",
    "tempdf <- data.frame(cbind(\"K562_H3K27me3\",tempdf$p.value,tempdf$estimate,tempdf$alternative))\n",
    "rownames(tempdf) <- NULL\n",
    "res <- rbind(res, tempdf)\n",
    "res"
   ]
  },
  {
   "cell_type": "markdown",
   "metadata": {},
   "source": [
    "##### K562 EP300 peaks"
   ]
  },
  {
   "cell_type": "code",
   "execution_count": 32,
   "metadata": {},
   "outputs": [
    {
     "data": {
      "text/html": [
       "<table class=\"dataframe\">\n",
       "<caption>A data.frame: 2 × 2</caption>\n",
       "<thead>\n",
       "\t<tr><th></th><th scope=col>overlap</th><th scope=col>no_overlap</th></tr>\n",
       "\t<tr><th></th><th scope=col>&lt;int&gt;</th><th scope=col>&lt;int&gt;</th></tr>\n",
       "</thead>\n",
       "<tbody>\n",
       "\t<tr><th scope=row>sig</th><td> 89</td><td> 121</td></tr>\n",
       "\t<tr><th scope=row>ns</th><td>277</td><td>2246</td></tr>\n",
       "</tbody>\n",
       "</table>\n"
      ],
      "text/latex": [
       "A data.frame: 2 × 2\n",
       "\\begin{tabular}{r|ll}\n",
       "  & overlap & no\\_overlap\\\\\n",
       "  & <int> & <int>\\\\\n",
       "\\hline\n",
       "\tsig &  89 &  121\\\\\n",
       "\tns & 277 & 2246\\\\\n",
       "\\end{tabular}\n"
      ],
      "text/markdown": [
       "\n",
       "A data.frame: 2 × 2\n",
       "\n",
       "| <!--/--> | overlap &lt;int&gt; | no_overlap &lt;int&gt; |\n",
       "|---|---|---|\n",
       "| sig |  89 |  121 |\n",
       "| ns | 277 | 2246 |\n",
       "\n"
      ],
      "text/plain": [
       "    overlap no_overlap\n",
       "sig  89      121      \n",
       "ns  277     2246      "
      ]
     },
     "metadata": {},
     "output_type": "display_data"
    },
    {
     "data": {
      "text/plain": [
       "\n",
       "\tFisher's Exact Test for Count Data\n",
       "\n",
       "data:  fisherdf\n",
       "p-value < 2.2e-16\n",
       "alternative hypothesis: true odds ratio is not equal to 1\n",
       "95 percent confidence interval:\n",
       " 4.353868 8.134307\n",
       "sample estimates:\n",
       "odds ratio \n",
       "  5.957537 \n"
      ]
     },
     "metadata": {},
     "output_type": "display_data"
    },
    {
     "data": {
      "text/html": [
       "<table class=\"dataframe\">\n",
       "<caption>A data.frame: 11 × 4</caption>\n",
       "<thead>\n",
       "\t<tr><th scope=col>X1</th><th scope=col>X2</th><th scope=col>X3</th><th scope=col>X4</th></tr>\n",
       "\t<tr><th scope=col>&lt;chr&gt;</th><th scope=col>&lt;chr&gt;</th><th scope=col>&lt;chr&gt;</th><th scope=col>&lt;chr&gt;</th></tr>\n",
       "</thead>\n",
       "<tbody>\n",
       "\t<tr><td>All_cCREs    </td><td>5.89557252411057e-10</td><td>7.8829934987702   </td><td>two.sided</td></tr>\n",
       "\t<tr><td>All_DNase    </td><td>2.30690419709409e-10</td><td>6.4638378633986   </td><td>two.sided</td></tr>\n",
       "\t<tr><td>K562_cCREs   </td><td>5.89557252411057e-10</td><td>7.8829934987702   </td><td>two.sided</td></tr>\n",
       "\t<tr><td>K562_DNase   </td><td>3.61395818578951e-43</td><td>8.52799557896517  </td><td>two.sided</td></tr>\n",
       "\t<tr><td>K562_ATAC    </td><td>1.36506565841988e-36</td><td>7.11001398772456  </td><td>two.sided</td></tr>\n",
       "\t<tr><td>K562_H3K27ac </td><td>1.91349506124699e-78</td><td>22.0826026401055  </td><td>two.sided</td></tr>\n",
       "\t<tr><td>K562_H3K4me1 </td><td>4.88881574889647e-34</td><td>6.36585560561038  </td><td>two.sided</td></tr>\n",
       "\t<tr><td>K562_H3K4me3 </td><td>1.10867823674137e-51</td><td>10.83965681752    </td><td>two.sided</td></tr>\n",
       "\t<tr><td>K562_H3K9me3 </td><td>0.0213672723466523  </td><td>0                 </td><td>two.sided</td></tr>\n",
       "\t<tr><td>K562_H3K27me3</td><td>1.98508348670799e-08</td><td>0.0423883993918636</td><td>two.sided</td></tr>\n",
       "\t<tr><td>K562_EP300   </td><td>7.25744262032467e-28</td><td>5.95753732352123  </td><td>two.sided</td></tr>\n",
       "</tbody>\n",
       "</table>\n"
      ],
      "text/latex": [
       "A data.frame: 11 × 4\n",
       "\\begin{tabular}{llll}\n",
       " X1 & X2 & X3 & X4\\\\\n",
       " <chr> & <chr> & <chr> & <chr>\\\\\n",
       "\\hline\n",
       "\t All\\_cCREs     & 5.89557252411057e-10 & 7.8829934987702    & two.sided\\\\\n",
       "\t All\\_DNase     & 2.30690419709409e-10 & 6.4638378633986    & two.sided\\\\\n",
       "\t K562\\_cCREs    & 5.89557252411057e-10 & 7.8829934987702    & two.sided\\\\\n",
       "\t K562\\_DNase    & 3.61395818578951e-43 & 8.52799557896517   & two.sided\\\\\n",
       "\t K562\\_ATAC     & 1.36506565841988e-36 & 7.11001398772456   & two.sided\\\\\n",
       "\t K562\\_H3K27ac  & 1.91349506124699e-78 & 22.0826026401055   & two.sided\\\\\n",
       "\t K562\\_H3K4me1  & 4.88881574889647e-34 & 6.36585560561038   & two.sided\\\\\n",
       "\t K562\\_H3K4me3  & 1.10867823674137e-51 & 10.83965681752     & two.sided\\\\\n",
       "\t K562\\_H3K9me3  & 0.0213672723466523   & 0                  & two.sided\\\\\n",
       "\t K562\\_H3K27me3 & 1.98508348670799e-08 & 0.0423883993918636 & two.sided\\\\\n",
       "\t K562\\_EP300    & 7.25744262032467e-28 & 5.95753732352123   & two.sided\\\\\n",
       "\\end{tabular}\n"
      ],
      "text/markdown": [
       "\n",
       "A data.frame: 11 × 4\n",
       "\n",
       "| X1 &lt;chr&gt; | X2 &lt;chr&gt; | X3 &lt;chr&gt; | X4 &lt;chr&gt; |\n",
       "|---|---|---|---|\n",
       "| All_cCREs     | 5.89557252411057e-10 | 7.8829934987702    | two.sided |\n",
       "| All_DNase     | 2.30690419709409e-10 | 6.4638378633986    | two.sided |\n",
       "| K562_cCREs    | 5.89557252411057e-10 | 7.8829934987702    | two.sided |\n",
       "| K562_DNase    | 3.61395818578951e-43 | 8.52799557896517   | two.sided |\n",
       "| K562_ATAC     | 1.36506565841988e-36 | 7.11001398772456   | two.sided |\n",
       "| K562_H3K27ac  | 1.91349506124699e-78 | 22.0826026401055   | two.sided |\n",
       "| K562_H3K4me1  | 4.88881574889647e-34 | 6.36585560561038   | two.sided |\n",
       "| K562_H3K4me3  | 1.10867823674137e-51 | 10.83965681752     | two.sided |\n",
       "| K562_H3K9me3  | 0.0213672723466523   | 0                  | two.sided |\n",
       "| K562_H3K27me3 | 1.98508348670799e-08 | 0.0423883993918636 | two.sided |\n",
       "| K562_EP300    | 7.25744262032467e-28 | 5.95753732352123   | two.sided |\n",
       "\n"
      ],
      "text/plain": [
       "   X1            X2                   X3                 X4       \n",
       "1  All_cCREs     5.89557252411057e-10 7.8829934987702    two.sided\n",
       "2  All_DNase     2.30690419709409e-10 6.4638378633986    two.sided\n",
       "3  K562_cCREs    5.89557252411057e-10 7.8829934987702    two.sided\n",
       "4  K562_DNase    3.61395818578951e-43 8.52799557896517   two.sided\n",
       "5  K562_ATAC     1.36506565841988e-36 7.11001398772456   two.sided\n",
       "6  K562_H3K27ac  1.91349506124699e-78 22.0826026401055   two.sided\n",
       "7  K562_H3K4me1  4.88881574889647e-34 6.36585560561038   two.sided\n",
       "8  K562_H3K4me3  1.10867823674137e-51 10.83965681752     two.sided\n",
       "9  K562_H3K9me3  0.0213672723466523   0                  two.sided\n",
       "10 K562_H3K27me3 1.98508348670799e-08 0.0423883993918636 two.sided\n",
       "11 K562_EP300    7.25744262032467e-28 5.95753732352123   two.sided"
      ]
     },
     "metadata": {},
     "output_type": "display_data"
    }
   ],
   "source": [
    "# get the values from workdf1 and workdf2\n",
    "a <- testdf %>% filter(feature == \"ep300_k562\" & overlap == 1 & result == \"significant\") %>% select(n) %>% pull()\n",
    "b <- testdf %>% filter(feature == \"ep300_k562\" & overlap == 0 & result == \"significant\") %>% select(n) %>% pull()\n",
    "c <- testdf %>% filter(feature == \"ep300_k562\" & overlap == 1 & result == \"perturbed\") %>% select(n) %>% pull() - a\n",
    "d <- testdf %>% filter(feature == \"ep300_k562\" & overlap == 0 & result == \"perturbed\") %>% select(n) %>% pull() - b\n",
    "\n",
    "# create a dataframe\n",
    "fisherdf <- data.frame(\"overlap\" = c(a, c), \"no_overlap\" = c(b, d), row.names = c(\"sig\", \"ns\"))\n",
    "fisherdf\n",
    "\n",
    "# perform the test\n",
    "fisher.test(fisherdf)\n",
    "\n",
    "# store the output in new df\n",
    "tempdf <- fisher.test(fisherdf)\n",
    "tempdf <- data.frame(cbind(\"K562_EP300\",tempdf$p.value,tempdf$estimate,tempdf$alternative))\n",
    "rownames(tempdf) <- NULL\n",
    "res <- rbind(res, tempdf)\n",
    "res"
   ]
  },
  {
   "cell_type": "markdown",
   "metadata": {},
   "source": [
    "##### K562 CTCF peaks"
   ]
  },
  {
   "cell_type": "code",
   "execution_count": 33,
   "metadata": {},
   "outputs": [
    {
     "data": {
      "text/html": [
       "<table class=\"dataframe\">\n",
       "<caption>A data.frame: 2 × 2</caption>\n",
       "<thead>\n",
       "\t<tr><th></th><th scope=col>overlap</th><th scope=col>no_overlap</th></tr>\n",
       "\t<tr><th></th><th scope=col>&lt;int&gt;</th><th scope=col>&lt;int&gt;</th></tr>\n",
       "</thead>\n",
       "<tbody>\n",
       "\t<tr><th scope=row>sig</th><td> 72</td><td> 138</td></tr>\n",
       "\t<tr><th scope=row>ns</th><td>427</td><td>2096</td></tr>\n",
       "</tbody>\n",
       "</table>\n"
      ],
      "text/latex": [
       "A data.frame: 2 × 2\n",
       "\\begin{tabular}{r|ll}\n",
       "  & overlap & no\\_overlap\\\\\n",
       "  & <int> & <int>\\\\\n",
       "\\hline\n",
       "\tsig &  72 &  138\\\\\n",
       "\tns & 427 & 2096\\\\\n",
       "\\end{tabular}\n"
      ],
      "text/markdown": [
       "\n",
       "A data.frame: 2 × 2\n",
       "\n",
       "| <!--/--> | overlap &lt;int&gt; | no_overlap &lt;int&gt; |\n",
       "|---|---|---|\n",
       "| sig |  72 |  138 |\n",
       "| ns | 427 | 2096 |\n",
       "\n"
      ],
      "text/plain": [
       "    overlap no_overlap\n",
       "sig  72      138      \n",
       "ns  427     2096      "
      ]
     },
     "metadata": {},
     "output_type": "display_data"
    },
    {
     "data": {
      "text/plain": [
       "\n",
       "\tFisher's Exact Test for Count Data\n",
       "\n",
       "data:  fisherdf\n",
       "p-value = 7.236e-09\n",
       "alternative hypothesis: true odds ratio is not equal to 1\n",
       "95 percent confidence interval:\n",
       " 1.861878 3.497862\n",
       "sample estimates:\n",
       "odds ratio \n",
       "  2.559933 \n"
      ]
     },
     "metadata": {},
     "output_type": "display_data"
    },
    {
     "data": {
      "text/html": [
       "<table class=\"dataframe\">\n",
       "<caption>A data.frame: 12 × 4</caption>\n",
       "<thead>\n",
       "\t<tr><th scope=col>X1</th><th scope=col>X2</th><th scope=col>X3</th><th scope=col>X4</th></tr>\n",
       "\t<tr><th scope=col>&lt;chr&gt;</th><th scope=col>&lt;chr&gt;</th><th scope=col>&lt;chr&gt;</th><th scope=col>&lt;chr&gt;</th></tr>\n",
       "</thead>\n",
       "<tbody>\n",
       "\t<tr><td>All_cCREs    </td><td>5.89557252411057e-10</td><td>7.8829934987702   </td><td>two.sided</td></tr>\n",
       "\t<tr><td>All_DNase    </td><td>2.30690419709409e-10</td><td>6.4638378633986   </td><td>two.sided</td></tr>\n",
       "\t<tr><td>K562_cCREs   </td><td>5.89557252411057e-10</td><td>7.8829934987702   </td><td>two.sided</td></tr>\n",
       "\t<tr><td>K562_DNase   </td><td>3.61395818578951e-43</td><td>8.52799557896517  </td><td>two.sided</td></tr>\n",
       "\t<tr><td>K562_ATAC    </td><td>1.36506565841988e-36</td><td>7.11001398772456  </td><td>two.sided</td></tr>\n",
       "\t<tr><td>K562_H3K27ac </td><td>1.91349506124699e-78</td><td>22.0826026401055  </td><td>two.sided</td></tr>\n",
       "\t<tr><td>K562_H3K4me1 </td><td>4.88881574889647e-34</td><td>6.36585560561038  </td><td>two.sided</td></tr>\n",
       "\t<tr><td>K562_H3K4me3 </td><td>1.10867823674137e-51</td><td>10.83965681752    </td><td>two.sided</td></tr>\n",
       "\t<tr><td>K562_H3K9me3 </td><td>0.0213672723466523  </td><td>0                 </td><td>two.sided</td></tr>\n",
       "\t<tr><td>K562_H3K27me3</td><td>1.98508348670799e-08</td><td>0.0423883993918636</td><td>two.sided</td></tr>\n",
       "\t<tr><td>K562_EP300   </td><td>7.25744262032467e-28</td><td>5.95753732352123  </td><td>two.sided</td></tr>\n",
       "\t<tr><td>K562_CTCF    </td><td>7.236418614527e-09  </td><td>2.5599327179239   </td><td>two.sided</td></tr>\n",
       "</tbody>\n",
       "</table>\n"
      ],
      "text/latex": [
       "A data.frame: 12 × 4\n",
       "\\begin{tabular}{llll}\n",
       " X1 & X2 & X3 & X4\\\\\n",
       " <chr> & <chr> & <chr> & <chr>\\\\\n",
       "\\hline\n",
       "\t All\\_cCREs     & 5.89557252411057e-10 & 7.8829934987702    & two.sided\\\\\n",
       "\t All\\_DNase     & 2.30690419709409e-10 & 6.4638378633986    & two.sided\\\\\n",
       "\t K562\\_cCREs    & 5.89557252411057e-10 & 7.8829934987702    & two.sided\\\\\n",
       "\t K562\\_DNase    & 3.61395818578951e-43 & 8.52799557896517   & two.sided\\\\\n",
       "\t K562\\_ATAC     & 1.36506565841988e-36 & 7.11001398772456   & two.sided\\\\\n",
       "\t K562\\_H3K27ac  & 1.91349506124699e-78 & 22.0826026401055   & two.sided\\\\\n",
       "\t K562\\_H3K4me1  & 4.88881574889647e-34 & 6.36585560561038   & two.sided\\\\\n",
       "\t K562\\_H3K4me3  & 1.10867823674137e-51 & 10.83965681752     & two.sided\\\\\n",
       "\t K562\\_H3K9me3  & 0.0213672723466523   & 0                  & two.sided\\\\\n",
       "\t K562\\_H3K27me3 & 1.98508348670799e-08 & 0.0423883993918636 & two.sided\\\\\n",
       "\t K562\\_EP300    & 7.25744262032467e-28 & 5.95753732352123   & two.sided\\\\\n",
       "\t K562\\_CTCF     & 7.236418614527e-09   & 2.5599327179239    & two.sided\\\\\n",
       "\\end{tabular}\n"
      ],
      "text/markdown": [
       "\n",
       "A data.frame: 12 × 4\n",
       "\n",
       "| X1 &lt;chr&gt; | X2 &lt;chr&gt; | X3 &lt;chr&gt; | X4 &lt;chr&gt; |\n",
       "|---|---|---|---|\n",
       "| All_cCREs     | 5.89557252411057e-10 | 7.8829934987702    | two.sided |\n",
       "| All_DNase     | 2.30690419709409e-10 | 6.4638378633986    | two.sided |\n",
       "| K562_cCREs    | 5.89557252411057e-10 | 7.8829934987702    | two.sided |\n",
       "| K562_DNase    | 3.61395818578951e-43 | 8.52799557896517   | two.sided |\n",
       "| K562_ATAC     | 1.36506565841988e-36 | 7.11001398772456   | two.sided |\n",
       "| K562_H3K27ac  | 1.91349506124699e-78 | 22.0826026401055   | two.sided |\n",
       "| K562_H3K4me1  | 4.88881574889647e-34 | 6.36585560561038   | two.sided |\n",
       "| K562_H3K4me3  | 1.10867823674137e-51 | 10.83965681752     | two.sided |\n",
       "| K562_H3K9me3  | 0.0213672723466523   | 0                  | two.sided |\n",
       "| K562_H3K27me3 | 1.98508348670799e-08 | 0.0423883993918636 | two.sided |\n",
       "| K562_EP300    | 7.25744262032467e-28 | 5.95753732352123   | two.sided |\n",
       "| K562_CTCF     | 7.236418614527e-09   | 2.5599327179239    | two.sided |\n",
       "\n"
      ],
      "text/plain": [
       "   X1            X2                   X3                 X4       \n",
       "1  All_cCREs     5.89557252411057e-10 7.8829934987702    two.sided\n",
       "2  All_DNase     2.30690419709409e-10 6.4638378633986    two.sided\n",
       "3  K562_cCREs    5.89557252411057e-10 7.8829934987702    two.sided\n",
       "4  K562_DNase    3.61395818578951e-43 8.52799557896517   two.sided\n",
       "5  K562_ATAC     1.36506565841988e-36 7.11001398772456   two.sided\n",
       "6  K562_H3K27ac  1.91349506124699e-78 22.0826026401055   two.sided\n",
       "7  K562_H3K4me1  4.88881574889647e-34 6.36585560561038   two.sided\n",
       "8  K562_H3K4me3  1.10867823674137e-51 10.83965681752     two.sided\n",
       "9  K562_H3K9me3  0.0213672723466523   0                  two.sided\n",
       "10 K562_H3K27me3 1.98508348670799e-08 0.0423883993918636 two.sided\n",
       "11 K562_EP300    7.25744262032467e-28 5.95753732352123   two.sided\n",
       "12 K562_CTCF     7.236418614527e-09   2.5599327179239    two.sided"
      ]
     },
     "metadata": {},
     "output_type": "display_data"
    }
   ],
   "source": [
    "# get the values from workdf1 and workdf2\n",
    "a <- testdf %>% filter(feature == \"ctcf_k562\" & overlap == 1 & result == \"significant\") %>% select(n) %>% pull()\n",
    "b <- testdf %>% filter(feature == \"ctcf_k562\" & overlap == 0 & result == \"significant\") %>% select(n) %>% pull()\n",
    "c <- testdf %>% filter(feature == \"ctcf_k562\" & overlap == 1 & result == \"perturbed\") %>% select(n) %>% pull() - a\n",
    "d <- testdf %>% filter(feature == \"ctcf_k562\" & overlap == 0 & result == \"perturbed\") %>% select(n) %>% pull() - b\n",
    "\n",
    "# create a dataframe\n",
    "fisherdf <- data.frame(\"overlap\" = c(a, c), \"no_overlap\" = c(b, d), row.names = c(\"sig\", \"ns\"))\n",
    "fisherdf\n",
    "\n",
    "# perform the test\n",
    "fisher.test(fisherdf)\n",
    "\n",
    "# store the output in new df\n",
    "tempdf <- fisher.test(fisherdf)\n",
    "tempdf <- data.frame(cbind(\"K562_CTCF\",tempdf$p.value,tempdf$estimate,tempdf$alternative))\n",
    "rownames(tempdf) <- NULL\n",
    "res <- rbind(res, tempdf)\n",
    "res"
   ]
  },
  {
   "cell_type": "markdown",
   "metadata": {},
   "source": [
    "##### K562 POLR2A peaks"
   ]
  },
  {
   "cell_type": "code",
   "execution_count": 34,
   "metadata": {},
   "outputs": [
    {
     "data": {
      "text/html": [
       "<table class=\"dataframe\">\n",
       "<caption>A data.frame: 2 × 2</caption>\n",
       "<thead>\n",
       "\t<tr><th></th><th scope=col>overlap</th><th scope=col>no_overlap</th></tr>\n",
       "\t<tr><th></th><th scope=col>&lt;int&gt;</th><th scope=col>&lt;int&gt;</th></tr>\n",
       "</thead>\n",
       "<tbody>\n",
       "\t<tr><th scope=row>sig</th><td>127</td><td>  83</td></tr>\n",
       "\t<tr><th scope=row>ns</th><td>240</td><td>2283</td></tr>\n",
       "</tbody>\n",
       "</table>\n"
      ],
      "text/latex": [
       "A data.frame: 2 × 2\n",
       "\\begin{tabular}{r|ll}\n",
       "  & overlap & no\\_overlap\\\\\n",
       "  & <int> & <int>\\\\\n",
       "\\hline\n",
       "\tsig & 127 &   83\\\\\n",
       "\tns & 240 & 2283\\\\\n",
       "\\end{tabular}\n"
      ],
      "text/markdown": [
       "\n",
       "A data.frame: 2 × 2\n",
       "\n",
       "| <!--/--> | overlap &lt;int&gt; | no_overlap &lt;int&gt; |\n",
       "|---|---|---|\n",
       "| sig | 127 |   83 |\n",
       "| ns | 240 | 2283 |\n",
       "\n"
      ],
      "text/plain": [
       "    overlap no_overlap\n",
       "sig 127       83      \n",
       "ns  240     2283      "
      ]
     },
     "metadata": {},
     "output_type": "display_data"
    },
    {
     "data": {
      "text/plain": [
       "\n",
       "\tFisher's Exact Test for Count Data\n",
       "\n",
       "data:  fisherdf\n",
       "p-value < 2.2e-16\n",
       "alternative hypothesis: true odds ratio is not equal to 1\n",
       "95 percent confidence interval:\n",
       " 10.58304 20.02978\n",
       "sample estimates:\n",
       "odds ratio \n",
       "  14.52758 \n"
      ]
     },
     "metadata": {},
     "output_type": "display_data"
    },
    {
     "data": {
      "text/html": [
       "<table class=\"dataframe\">\n",
       "<caption>A data.frame: 13 × 4</caption>\n",
       "<thead>\n",
       "\t<tr><th scope=col>X1</th><th scope=col>X2</th><th scope=col>X3</th><th scope=col>X4</th></tr>\n",
       "\t<tr><th scope=col>&lt;chr&gt;</th><th scope=col>&lt;chr&gt;</th><th scope=col>&lt;chr&gt;</th><th scope=col>&lt;chr&gt;</th></tr>\n",
       "</thead>\n",
       "<tbody>\n",
       "\t<tr><td>All_cCREs    </td><td>5.89557252411057e-10</td><td>7.8829934987702   </td><td>two.sided</td></tr>\n",
       "\t<tr><td>All_DNase    </td><td>2.30690419709409e-10</td><td>6.4638378633986   </td><td>two.sided</td></tr>\n",
       "\t<tr><td>K562_cCREs   </td><td>5.89557252411057e-10</td><td>7.8829934987702   </td><td>two.sided</td></tr>\n",
       "\t<tr><td>K562_DNase   </td><td>3.61395818578951e-43</td><td>8.52799557896517  </td><td>two.sided</td></tr>\n",
       "\t<tr><td>K562_ATAC    </td><td>1.36506565841988e-36</td><td>7.11001398772456  </td><td>two.sided</td></tr>\n",
       "\t<tr><td>K562_H3K27ac </td><td>1.91349506124699e-78</td><td>22.0826026401055  </td><td>two.sided</td></tr>\n",
       "\t<tr><td>K562_H3K4me1 </td><td>4.88881574889647e-34</td><td>6.36585560561038  </td><td>two.sided</td></tr>\n",
       "\t<tr><td>K562_H3K4me3 </td><td>1.10867823674137e-51</td><td>10.83965681752    </td><td>two.sided</td></tr>\n",
       "\t<tr><td>K562_H3K9me3 </td><td>0.0213672723466523  </td><td>0                 </td><td>two.sided</td></tr>\n",
       "\t<tr><td>K562_H3K27me3</td><td>1.98508348670799e-08</td><td>0.0423883993918636</td><td>two.sided</td></tr>\n",
       "\t<tr><td>K562_EP300   </td><td>7.25744262032467e-28</td><td>5.95753732352123  </td><td>two.sided</td></tr>\n",
       "\t<tr><td>K562_CTCF    </td><td>7.236418614527e-09  </td><td>2.5599327179239   </td><td>two.sided</td></tr>\n",
       "\t<tr><td>K562_POLR2A  </td><td>1.5682872918516e-64 </td><td>14.5275793196818  </td><td>two.sided</td></tr>\n",
       "</tbody>\n",
       "</table>\n"
      ],
      "text/latex": [
       "A data.frame: 13 × 4\n",
       "\\begin{tabular}{llll}\n",
       " X1 & X2 & X3 & X4\\\\\n",
       " <chr> & <chr> & <chr> & <chr>\\\\\n",
       "\\hline\n",
       "\t All\\_cCREs     & 5.89557252411057e-10 & 7.8829934987702    & two.sided\\\\\n",
       "\t All\\_DNase     & 2.30690419709409e-10 & 6.4638378633986    & two.sided\\\\\n",
       "\t K562\\_cCREs    & 5.89557252411057e-10 & 7.8829934987702    & two.sided\\\\\n",
       "\t K562\\_DNase    & 3.61395818578951e-43 & 8.52799557896517   & two.sided\\\\\n",
       "\t K562\\_ATAC     & 1.36506565841988e-36 & 7.11001398772456   & two.sided\\\\\n",
       "\t K562\\_H3K27ac  & 1.91349506124699e-78 & 22.0826026401055   & two.sided\\\\\n",
       "\t K562\\_H3K4me1  & 4.88881574889647e-34 & 6.36585560561038   & two.sided\\\\\n",
       "\t K562\\_H3K4me3  & 1.10867823674137e-51 & 10.83965681752     & two.sided\\\\\n",
       "\t K562\\_H3K9me3  & 0.0213672723466523   & 0                  & two.sided\\\\\n",
       "\t K562\\_H3K27me3 & 1.98508348670799e-08 & 0.0423883993918636 & two.sided\\\\\n",
       "\t K562\\_EP300    & 7.25744262032467e-28 & 5.95753732352123   & two.sided\\\\\n",
       "\t K562\\_CTCF     & 7.236418614527e-09   & 2.5599327179239    & two.sided\\\\\n",
       "\t K562\\_POLR2A   & 1.5682872918516e-64  & 14.5275793196818   & two.sided\\\\\n",
       "\\end{tabular}\n"
      ],
      "text/markdown": [
       "\n",
       "A data.frame: 13 × 4\n",
       "\n",
       "| X1 &lt;chr&gt; | X2 &lt;chr&gt; | X3 &lt;chr&gt; | X4 &lt;chr&gt; |\n",
       "|---|---|---|---|\n",
       "| All_cCREs     | 5.89557252411057e-10 | 7.8829934987702    | two.sided |\n",
       "| All_DNase     | 2.30690419709409e-10 | 6.4638378633986    | two.sided |\n",
       "| K562_cCREs    | 5.89557252411057e-10 | 7.8829934987702    | two.sided |\n",
       "| K562_DNase    | 3.61395818578951e-43 | 8.52799557896517   | two.sided |\n",
       "| K562_ATAC     | 1.36506565841988e-36 | 7.11001398772456   | two.sided |\n",
       "| K562_H3K27ac  | 1.91349506124699e-78 | 22.0826026401055   | two.sided |\n",
       "| K562_H3K4me1  | 4.88881574889647e-34 | 6.36585560561038   | two.sided |\n",
       "| K562_H3K4me3  | 1.10867823674137e-51 | 10.83965681752     | two.sided |\n",
       "| K562_H3K9me3  | 0.0213672723466523   | 0                  | two.sided |\n",
       "| K562_H3K27me3 | 1.98508348670799e-08 | 0.0423883993918636 | two.sided |\n",
       "| K562_EP300    | 7.25744262032467e-28 | 5.95753732352123   | two.sided |\n",
       "| K562_CTCF     | 7.236418614527e-09   | 2.5599327179239    | two.sided |\n",
       "| K562_POLR2A   | 1.5682872918516e-64  | 14.5275793196818   | two.sided |\n",
       "\n"
      ],
      "text/plain": [
       "   X1            X2                   X3                 X4       \n",
       "1  All_cCREs     5.89557252411057e-10 7.8829934987702    two.sided\n",
       "2  All_DNase     2.30690419709409e-10 6.4638378633986    two.sided\n",
       "3  K562_cCREs    5.89557252411057e-10 7.8829934987702    two.sided\n",
       "4  K562_DNase    3.61395818578951e-43 8.52799557896517   two.sided\n",
       "5  K562_ATAC     1.36506565841988e-36 7.11001398772456   two.sided\n",
       "6  K562_H3K27ac  1.91349506124699e-78 22.0826026401055   two.sided\n",
       "7  K562_H3K4me1  4.88881574889647e-34 6.36585560561038   two.sided\n",
       "8  K562_H3K4me3  1.10867823674137e-51 10.83965681752     two.sided\n",
       "9  K562_H3K9me3  0.0213672723466523   0                  two.sided\n",
       "10 K562_H3K27me3 1.98508348670799e-08 0.0423883993918636 two.sided\n",
       "11 K562_EP300    7.25744262032467e-28 5.95753732352123   two.sided\n",
       "12 K562_CTCF     7.236418614527e-09   2.5599327179239    two.sided\n",
       "13 K562_POLR2A   1.5682872918516e-64  14.5275793196818   two.sided"
      ]
     },
     "metadata": {},
     "output_type": "display_data"
    }
   ],
   "source": [
    "# get the values from workdf1 and workdf2\n",
    "a <- testdf %>% filter(feature == \"polr2a_k562\" & overlap == 1 & result == \"significant\") %>% select(n) %>% pull()\n",
    "b <- testdf %>% filter(feature == \"polr2a_k562\" & overlap == 0 & result == \"significant\") %>% select(n) %>% pull()\n",
    "c <- testdf %>% filter(feature == \"polr2a_k562\" & overlap == 1 & result == \"perturbed\") %>% select(n) %>% pull() - a\n",
    "d <- testdf %>% filter(feature == \"polr2a_k562\" & overlap == 0 & result == \"perturbed\") %>% select(n) %>% pull() - b\n",
    "\n",
    "# create a dataframe\n",
    "fisherdf <- data.frame(\"overlap\" = c(a, c), \"no_overlap\" = c(b, d), row.names = c(\"sig\", \"ns\"))\n",
    "fisherdf\n",
    "\n",
    "# perform the test\n",
    "fisher.test(fisherdf)\n",
    "\n",
    "# store the output in new df\n",
    "tempdf <- fisher.test(fisherdf)\n",
    "tempdf <- data.frame(cbind(\"K562_POLR2A\",tempdf$p.value,tempdf$estimate,tempdf$alternative))\n",
    "rownames(tempdf) <- NULL\n",
    "res <- rbind(res, tempdf)\n",
    "res"
   ]
  },
  {
   "cell_type": "markdown",
   "metadata": {},
   "source": [
    "##### K562 RAMPAGE"
   ]
  },
  {
   "cell_type": "code",
   "execution_count": 35,
   "metadata": {},
   "outputs": [
    {
     "data": {
      "text/html": [
       "<table class=\"dataframe\">\n",
       "<caption>A data.frame: 2 × 2</caption>\n",
       "<thead>\n",
       "\t<tr><th></th><th scope=col>overlap</th><th scope=col>no_overlap</th></tr>\n",
       "\t<tr><th></th><th scope=col>&lt;int&gt;</th><th scope=col>&lt;int&gt;</th></tr>\n",
       "</thead>\n",
       "<tbody>\n",
       "\t<tr><th scope=row>sig</th><td>44</td><td> 166</td></tr>\n",
       "\t<tr><th scope=row>ns</th><td>98</td><td>2425</td></tr>\n",
       "</tbody>\n",
       "</table>\n"
      ],
      "text/latex": [
       "A data.frame: 2 × 2\n",
       "\\begin{tabular}{r|ll}\n",
       "  & overlap & no\\_overlap\\\\\n",
       "  & <int> & <int>\\\\\n",
       "\\hline\n",
       "\tsig & 44 &  166\\\\\n",
       "\tns & 98 & 2425\\\\\n",
       "\\end{tabular}\n"
      ],
      "text/markdown": [
       "\n",
       "A data.frame: 2 × 2\n",
       "\n",
       "| <!--/--> | overlap &lt;int&gt; | no_overlap &lt;int&gt; |\n",
       "|---|---|---|\n",
       "| sig | 44 |  166 |\n",
       "| ns | 98 | 2425 |\n",
       "\n"
      ],
      "text/plain": [
       "    overlap no_overlap\n",
       "sig 44       166      \n",
       "ns  98      2425      "
      ]
     },
     "metadata": {},
     "output_type": "display_data"
    },
    {
     "data": {
      "text/plain": [
       "\n",
       "\tFisher's Exact Test for Count Data\n",
       "\n",
       "data:  fisherdf\n",
       "p-value < 2.2e-16\n",
       "alternative hypothesis: true odds ratio is not equal to 1\n",
       "95 percent confidence interval:\n",
       " 4.330274 9.803231\n",
       "sample estimates:\n",
       "odds ratio \n",
       "  6.550222 \n"
      ]
     },
     "metadata": {},
     "output_type": "display_data"
    },
    {
     "data": {
      "text/html": [
       "<table class=\"dataframe\">\n",
       "<caption>A data.frame: 14 × 4</caption>\n",
       "<thead>\n",
       "\t<tr><th scope=col>X1</th><th scope=col>X2</th><th scope=col>X3</th><th scope=col>X4</th></tr>\n",
       "\t<tr><th scope=col>&lt;chr&gt;</th><th scope=col>&lt;chr&gt;</th><th scope=col>&lt;chr&gt;</th><th scope=col>&lt;chr&gt;</th></tr>\n",
       "</thead>\n",
       "<tbody>\n",
       "\t<tr><td>All_cCREs    </td><td>5.89557252411057e-10</td><td>7.8829934987702   </td><td>two.sided</td></tr>\n",
       "\t<tr><td>All_DNase    </td><td>2.30690419709409e-10</td><td>6.4638378633986   </td><td>two.sided</td></tr>\n",
       "\t<tr><td>K562_cCREs   </td><td>5.89557252411057e-10</td><td>7.8829934987702   </td><td>two.sided</td></tr>\n",
       "\t<tr><td>K562_DNase   </td><td>3.61395818578951e-43</td><td>8.52799557896517  </td><td>two.sided</td></tr>\n",
       "\t<tr><td>K562_ATAC    </td><td>1.36506565841988e-36</td><td>7.11001398772456  </td><td>two.sided</td></tr>\n",
       "\t<tr><td>K562_H3K27ac </td><td>1.91349506124699e-78</td><td>22.0826026401055  </td><td>two.sided</td></tr>\n",
       "\t<tr><td>K562_H3K4me1 </td><td>4.88881574889647e-34</td><td>6.36585560561038  </td><td>two.sided</td></tr>\n",
       "\t<tr><td>K562_H3K4me3 </td><td>1.10867823674137e-51</td><td>10.83965681752    </td><td>two.sided</td></tr>\n",
       "\t<tr><td>K562_H3K9me3 </td><td>0.0213672723466523  </td><td>0                 </td><td>two.sided</td></tr>\n",
       "\t<tr><td>K562_H3K27me3</td><td>1.98508348670799e-08</td><td>0.0423883993918636</td><td>two.sided</td></tr>\n",
       "\t<tr><td>K562_EP300   </td><td>7.25744262032467e-28</td><td>5.95753732352123  </td><td>two.sided</td></tr>\n",
       "\t<tr><td>K562_CTCF    </td><td>7.236418614527e-09  </td><td>2.5599327179239   </td><td>two.sided</td></tr>\n",
       "\t<tr><td>K562_POLR2A  </td><td>1.5682872918516e-64 </td><td>14.5275793196818  </td><td>two.sided</td></tr>\n",
       "\t<tr><td>K562_RAMPAGE </td><td>2.22111047717669e-17</td><td>6.55022189516582  </td><td>two.sided</td></tr>\n",
       "</tbody>\n",
       "</table>\n"
      ],
      "text/latex": [
       "A data.frame: 14 × 4\n",
       "\\begin{tabular}{llll}\n",
       " X1 & X2 & X3 & X4\\\\\n",
       " <chr> & <chr> & <chr> & <chr>\\\\\n",
       "\\hline\n",
       "\t All\\_cCREs     & 5.89557252411057e-10 & 7.8829934987702    & two.sided\\\\\n",
       "\t All\\_DNase     & 2.30690419709409e-10 & 6.4638378633986    & two.sided\\\\\n",
       "\t K562\\_cCREs    & 5.89557252411057e-10 & 7.8829934987702    & two.sided\\\\\n",
       "\t K562\\_DNase    & 3.61395818578951e-43 & 8.52799557896517   & two.sided\\\\\n",
       "\t K562\\_ATAC     & 1.36506565841988e-36 & 7.11001398772456   & two.sided\\\\\n",
       "\t K562\\_H3K27ac  & 1.91349506124699e-78 & 22.0826026401055   & two.sided\\\\\n",
       "\t K562\\_H3K4me1  & 4.88881574889647e-34 & 6.36585560561038   & two.sided\\\\\n",
       "\t K562\\_H3K4me3  & 1.10867823674137e-51 & 10.83965681752     & two.sided\\\\\n",
       "\t K562\\_H3K9me3  & 0.0213672723466523   & 0                  & two.sided\\\\\n",
       "\t K562\\_H3K27me3 & 1.98508348670799e-08 & 0.0423883993918636 & two.sided\\\\\n",
       "\t K562\\_EP300    & 7.25744262032467e-28 & 5.95753732352123   & two.sided\\\\\n",
       "\t K562\\_CTCF     & 7.236418614527e-09   & 2.5599327179239    & two.sided\\\\\n",
       "\t K562\\_POLR2A   & 1.5682872918516e-64  & 14.5275793196818   & two.sided\\\\\n",
       "\t K562\\_RAMPAGE  & 2.22111047717669e-17 & 6.55022189516582   & two.sided\\\\\n",
       "\\end{tabular}\n"
      ],
      "text/markdown": [
       "\n",
       "A data.frame: 14 × 4\n",
       "\n",
       "| X1 &lt;chr&gt; | X2 &lt;chr&gt; | X3 &lt;chr&gt; | X4 &lt;chr&gt; |\n",
       "|---|---|---|---|\n",
       "| All_cCREs     | 5.89557252411057e-10 | 7.8829934987702    | two.sided |\n",
       "| All_DNase     | 2.30690419709409e-10 | 6.4638378633986    | two.sided |\n",
       "| K562_cCREs    | 5.89557252411057e-10 | 7.8829934987702    | two.sided |\n",
       "| K562_DNase    | 3.61395818578951e-43 | 8.52799557896517   | two.sided |\n",
       "| K562_ATAC     | 1.36506565841988e-36 | 7.11001398772456   | two.sided |\n",
       "| K562_H3K27ac  | 1.91349506124699e-78 | 22.0826026401055   | two.sided |\n",
       "| K562_H3K4me1  | 4.88881574889647e-34 | 6.36585560561038   | two.sided |\n",
       "| K562_H3K4me3  | 1.10867823674137e-51 | 10.83965681752     | two.sided |\n",
       "| K562_H3K9me3  | 0.0213672723466523   | 0                  | two.sided |\n",
       "| K562_H3K27me3 | 1.98508348670799e-08 | 0.0423883993918636 | two.sided |\n",
       "| K562_EP300    | 7.25744262032467e-28 | 5.95753732352123   | two.sided |\n",
       "| K562_CTCF     | 7.236418614527e-09   | 2.5599327179239    | two.sided |\n",
       "| K562_POLR2A   | 1.5682872918516e-64  | 14.5275793196818   | two.sided |\n",
       "| K562_RAMPAGE  | 2.22111047717669e-17 | 6.55022189516582   | two.sided |\n",
       "\n"
      ],
      "text/plain": [
       "   X1            X2                   X3                 X4       \n",
       "1  All_cCREs     5.89557252411057e-10 7.8829934987702    two.sided\n",
       "2  All_DNase     2.30690419709409e-10 6.4638378633986    two.sided\n",
       "3  K562_cCREs    5.89557252411057e-10 7.8829934987702    two.sided\n",
       "4  K562_DNase    3.61395818578951e-43 8.52799557896517   two.sided\n",
       "5  K562_ATAC     1.36506565841988e-36 7.11001398772456   two.sided\n",
       "6  K562_H3K27ac  1.91349506124699e-78 22.0826026401055   two.sided\n",
       "7  K562_H3K4me1  4.88881574889647e-34 6.36585560561038   two.sided\n",
       "8  K562_H3K4me3  1.10867823674137e-51 10.83965681752     two.sided\n",
       "9  K562_H3K9me3  0.0213672723466523   0                  two.sided\n",
       "10 K562_H3K27me3 1.98508348670799e-08 0.0423883993918636 two.sided\n",
       "11 K562_EP300    7.25744262032467e-28 5.95753732352123   two.sided\n",
       "12 K562_CTCF     7.236418614527e-09   2.5599327179239    two.sided\n",
       "13 K562_POLR2A   1.5682872918516e-64  14.5275793196818   two.sided\n",
       "14 K562_RAMPAGE  2.22111047717669e-17 6.55022189516582   two.sided"
      ]
     },
     "metadata": {},
     "output_type": "display_data"
    }
   ],
   "source": [
    "# get the values from workdf1 and workdf2\n",
    "a <- testdf %>% filter(feature == \"rampage_k562\" & overlap == 1 & result == \"significant\") %>% select(n) %>% pull()\n",
    "b <- testdf %>% filter(feature == \"rampage_k562\" & overlap == 0 & result == \"significant\") %>% select(n) %>% pull()\n",
    "c <- testdf %>% filter(feature == \"rampage_k562\" & overlap == 1 & result == \"perturbed\") %>% select(n) %>% pull() - a\n",
    "d <- testdf %>% filter(feature == \"rampage_k562\" & overlap == 0 & result == \"perturbed\") %>% select(n) %>% pull() - b\n",
    "\n",
    "# create a dataframe\n",
    "fisherdf <- data.frame(\"overlap\" = c(a, c), \"no_overlap\" = c(b, d), row.names = c(\"sig\", \"ns\"))\n",
    "fisherdf\n",
    "\n",
    "# perform the test\n",
    "fisher.test(fisherdf)\n",
    "\n",
    "# store the output in new df\n",
    "tempdf <- fisher.test(fisherdf)\n",
    "tempdf <- data.frame(cbind(\"K562_RAMPAGE\",tempdf$p.value,tempdf$estimate,tempdf$alternative))\n",
    "rownames(tempdf) <- NULL\n",
    "res <- rbind(res, tempdf)\n",
    "res"
   ]
  },
  {
   "cell_type": "markdown",
   "metadata": {},
   "source": [
    "##### K562 CAGE"
   ]
  },
  {
   "cell_type": "code",
   "execution_count": 36,
   "metadata": {},
   "outputs": [
    {
     "data": {
      "text/html": [
       "<table class=\"dataframe\">\n",
       "<caption>A data.frame: 2 × 2</caption>\n",
       "<thead>\n",
       "\t<tr><th></th><th scope=col>overlap</th><th scope=col>no_overlap</th></tr>\n",
       "\t<tr><th></th><th scope=col>&lt;int&gt;</th><th scope=col>&lt;int&gt;</th></tr>\n",
       "</thead>\n",
       "<tbody>\n",
       "\t<tr><th scope=row>sig</th><td>54</td><td> 156</td></tr>\n",
       "\t<tr><th scope=row>ns</th><td>89</td><td>2434</td></tr>\n",
       "</tbody>\n",
       "</table>\n"
      ],
      "text/latex": [
       "A data.frame: 2 × 2\n",
       "\\begin{tabular}{r|ll}\n",
       "  & overlap & no\\_overlap\\\\\n",
       "  & <int> & <int>\\\\\n",
       "\\hline\n",
       "\tsig & 54 &  156\\\\\n",
       "\tns & 89 & 2434\\\\\n",
       "\\end{tabular}\n"
      ],
      "text/markdown": [
       "\n",
       "A data.frame: 2 × 2\n",
       "\n",
       "| <!--/--> | overlap &lt;int&gt; | no_overlap &lt;int&gt; |\n",
       "|---|---|---|\n",
       "| sig | 54 |  156 |\n",
       "| ns | 89 | 2434 |\n",
       "\n"
      ],
      "text/plain": [
       "    overlap no_overlap\n",
       "sig 54       156      \n",
       "ns  89      2434      "
      ]
     },
     "metadata": {},
     "output_type": "display_data"
    },
    {
     "data": {
      "text/plain": [
       "\n",
       "\tFisher's Exact Test for Count Data\n",
       "\n",
       "data:  fisherdf\n",
       "p-value < 2.2e-16\n",
       "alternative hypothesis: true odds ratio is not equal to 1\n",
       "95 percent confidence interval:\n",
       "  6.362011 13.960637\n",
       "sample estimates:\n",
       "odds ratio \n",
       "  9.450359 \n"
      ]
     },
     "metadata": {},
     "output_type": "display_data"
    },
    {
     "data": {
      "text/html": [
       "<table class=\"dataframe\">\n",
       "<caption>A data.frame: 15 × 4</caption>\n",
       "<thead>\n",
       "\t<tr><th scope=col>X1</th><th scope=col>X2</th><th scope=col>X3</th><th scope=col>X4</th></tr>\n",
       "\t<tr><th scope=col>&lt;chr&gt;</th><th scope=col>&lt;chr&gt;</th><th scope=col>&lt;chr&gt;</th><th scope=col>&lt;chr&gt;</th></tr>\n",
       "</thead>\n",
       "<tbody>\n",
       "\t<tr><td>All_cCREs    </td><td>5.89557252411057e-10</td><td>7.8829934987702   </td><td>two.sided</td></tr>\n",
       "\t<tr><td>All_DNase    </td><td>2.30690419709409e-10</td><td>6.4638378633986   </td><td>two.sided</td></tr>\n",
       "\t<tr><td>K562_cCREs   </td><td>5.89557252411057e-10</td><td>7.8829934987702   </td><td>two.sided</td></tr>\n",
       "\t<tr><td>K562_DNase   </td><td>3.61395818578951e-43</td><td>8.52799557896517  </td><td>two.sided</td></tr>\n",
       "\t<tr><td>K562_ATAC    </td><td>1.36506565841988e-36</td><td>7.11001398772456  </td><td>two.sided</td></tr>\n",
       "\t<tr><td>K562_H3K27ac </td><td>1.91349506124699e-78</td><td>22.0826026401055  </td><td>two.sided</td></tr>\n",
       "\t<tr><td>K562_H3K4me1 </td><td>4.88881574889647e-34</td><td>6.36585560561038  </td><td>two.sided</td></tr>\n",
       "\t<tr><td>K562_H3K4me3 </td><td>1.10867823674137e-51</td><td>10.83965681752    </td><td>two.sided</td></tr>\n",
       "\t<tr><td>K562_H3K9me3 </td><td>0.0213672723466523  </td><td>0                 </td><td>two.sided</td></tr>\n",
       "\t<tr><td>K562_H3K27me3</td><td>1.98508348670799e-08</td><td>0.0423883993918636</td><td>two.sided</td></tr>\n",
       "\t<tr><td>K562_EP300   </td><td>7.25744262032467e-28</td><td>5.95753732352123  </td><td>two.sided</td></tr>\n",
       "\t<tr><td>K562_CTCF    </td><td>7.236418614527e-09  </td><td>2.5599327179239   </td><td>two.sided</td></tr>\n",
       "\t<tr><td>K562_POLR2A  </td><td>1.5682872918516e-64 </td><td>14.5275793196818  </td><td>two.sided</td></tr>\n",
       "\t<tr><td>K562_RAMPAGE </td><td>2.22111047717669e-17</td><td>6.55022189516582  </td><td>two.sided</td></tr>\n",
       "\t<tr><td>K562_CAGE    </td><td>3.12408824638565e-26</td><td>9.4503588999724   </td><td>two.sided</td></tr>\n",
       "</tbody>\n",
       "</table>\n"
      ],
      "text/latex": [
       "A data.frame: 15 × 4\n",
       "\\begin{tabular}{llll}\n",
       " X1 & X2 & X3 & X4\\\\\n",
       " <chr> & <chr> & <chr> & <chr>\\\\\n",
       "\\hline\n",
       "\t All\\_cCREs     & 5.89557252411057e-10 & 7.8829934987702    & two.sided\\\\\n",
       "\t All\\_DNase     & 2.30690419709409e-10 & 6.4638378633986    & two.sided\\\\\n",
       "\t K562\\_cCREs    & 5.89557252411057e-10 & 7.8829934987702    & two.sided\\\\\n",
       "\t K562\\_DNase    & 3.61395818578951e-43 & 8.52799557896517   & two.sided\\\\\n",
       "\t K562\\_ATAC     & 1.36506565841988e-36 & 7.11001398772456   & two.sided\\\\\n",
       "\t K562\\_H3K27ac  & 1.91349506124699e-78 & 22.0826026401055   & two.sided\\\\\n",
       "\t K562\\_H3K4me1  & 4.88881574889647e-34 & 6.36585560561038   & two.sided\\\\\n",
       "\t K562\\_H3K4me3  & 1.10867823674137e-51 & 10.83965681752     & two.sided\\\\\n",
       "\t K562\\_H3K9me3  & 0.0213672723466523   & 0                  & two.sided\\\\\n",
       "\t K562\\_H3K27me3 & 1.98508348670799e-08 & 0.0423883993918636 & two.sided\\\\\n",
       "\t K562\\_EP300    & 7.25744262032467e-28 & 5.95753732352123   & two.sided\\\\\n",
       "\t K562\\_CTCF     & 7.236418614527e-09   & 2.5599327179239    & two.sided\\\\\n",
       "\t K562\\_POLR2A   & 1.5682872918516e-64  & 14.5275793196818   & two.sided\\\\\n",
       "\t K562\\_RAMPAGE  & 2.22111047717669e-17 & 6.55022189516582   & two.sided\\\\\n",
       "\t K562\\_CAGE     & 3.12408824638565e-26 & 9.4503588999724    & two.sided\\\\\n",
       "\\end{tabular}\n"
      ],
      "text/markdown": [
       "\n",
       "A data.frame: 15 × 4\n",
       "\n",
       "| X1 &lt;chr&gt; | X2 &lt;chr&gt; | X3 &lt;chr&gt; | X4 &lt;chr&gt; |\n",
       "|---|---|---|---|\n",
       "| All_cCREs     | 5.89557252411057e-10 | 7.8829934987702    | two.sided |\n",
       "| All_DNase     | 2.30690419709409e-10 | 6.4638378633986    | two.sided |\n",
       "| K562_cCREs    | 5.89557252411057e-10 | 7.8829934987702    | two.sided |\n",
       "| K562_DNase    | 3.61395818578951e-43 | 8.52799557896517   | two.sided |\n",
       "| K562_ATAC     | 1.36506565841988e-36 | 7.11001398772456   | two.sided |\n",
       "| K562_H3K27ac  | 1.91349506124699e-78 | 22.0826026401055   | two.sided |\n",
       "| K562_H3K4me1  | 4.88881574889647e-34 | 6.36585560561038   | two.sided |\n",
       "| K562_H3K4me3  | 1.10867823674137e-51 | 10.83965681752     | two.sided |\n",
       "| K562_H3K9me3  | 0.0213672723466523   | 0                  | two.sided |\n",
       "| K562_H3K27me3 | 1.98508348670799e-08 | 0.0423883993918636 | two.sided |\n",
       "| K562_EP300    | 7.25744262032467e-28 | 5.95753732352123   | two.sided |\n",
       "| K562_CTCF     | 7.236418614527e-09   | 2.5599327179239    | two.sided |\n",
       "| K562_POLR2A   | 1.5682872918516e-64  | 14.5275793196818   | two.sided |\n",
       "| K562_RAMPAGE  | 2.22111047717669e-17 | 6.55022189516582   | two.sided |\n",
       "| K562_CAGE     | 3.12408824638565e-26 | 9.4503588999724    | two.sided |\n",
       "\n"
      ],
      "text/plain": [
       "   X1            X2                   X3                 X4       \n",
       "1  All_cCREs     5.89557252411057e-10 7.8829934987702    two.sided\n",
       "2  All_DNase     2.30690419709409e-10 6.4638378633986    two.sided\n",
       "3  K562_cCREs    5.89557252411057e-10 7.8829934987702    two.sided\n",
       "4  K562_DNase    3.61395818578951e-43 8.52799557896517   two.sided\n",
       "5  K562_ATAC     1.36506565841988e-36 7.11001398772456   two.sided\n",
       "6  K562_H3K27ac  1.91349506124699e-78 22.0826026401055   two.sided\n",
       "7  K562_H3K4me1  4.88881574889647e-34 6.36585560561038   two.sided\n",
       "8  K562_H3K4me3  1.10867823674137e-51 10.83965681752     two.sided\n",
       "9  K562_H3K9me3  0.0213672723466523   0                  two.sided\n",
       "10 K562_H3K27me3 1.98508348670799e-08 0.0423883993918636 two.sided\n",
       "11 K562_EP300    7.25744262032467e-28 5.95753732352123   two.sided\n",
       "12 K562_CTCF     7.236418614527e-09   2.5599327179239    two.sided\n",
       "13 K562_POLR2A   1.5682872918516e-64  14.5275793196818   two.sided\n",
       "14 K562_RAMPAGE  2.22111047717669e-17 6.55022189516582   two.sided\n",
       "15 K562_CAGE     3.12408824638565e-26 9.4503588999724    two.sided"
      ]
     },
     "metadata": {},
     "output_type": "display_data"
    }
   ],
   "source": [
    "# get the values from workdf1 and workdf2\n",
    "a <- testdf %>% filter(feature == \"cage_k562\" & overlap == 1 & result == \"significant\") %>% select(n) %>% pull()\n",
    "b <- testdf %>% filter(feature == \"cage_k562\" & overlap == 0 & result == \"significant\") %>% select(n) %>% pull()\n",
    "c <- testdf %>% filter(feature == \"cage_k562\" & overlap == 1 & result == \"perturbed\") %>% select(n) %>% pull() - a\n",
    "d <- testdf %>% filter(feature == \"cage_k562\" & overlap == 0 & result == \"perturbed\") %>% select(n) %>% pull() - b\n",
    "\n",
    "# create a dataframe\n",
    "fisherdf <- data.frame(\"overlap\" = c(a, c), \"no_overlap\" = c(b, d), row.names = c(\"sig\", \"ns\"))\n",
    "fisherdf\n",
    "\n",
    "# perform the test\n",
    "fisher.test(fisherdf)\n",
    "\n",
    "# store the output in new df\n",
    "tempdf <- fisher.test(fisherdf)\n",
    "tempdf <- data.frame(cbind(\"K562_CAGE\",tempdf$p.value,tempdf$estimate,tempdf$alternative))\n",
    "rownames(tempdf) <- NULL\n",
    "res <- rbind(res, tempdf)\n",
    "res"
   ]
  },
  {
   "cell_type": "markdown",
   "metadata": {},
   "source": [
    "##### K562 GRO_CAP "
   ]
  },
  {
   "cell_type": "code",
   "execution_count": 37,
   "metadata": {},
   "outputs": [
    {
     "data": {
      "text/html": [
       "<table class=\"dataframe\">\n",
       "<caption>A data.frame: 2 × 2</caption>\n",
       "<thead>\n",
       "\t<tr><th></th><th scope=col>overlap</th><th scope=col>no_overlap</th></tr>\n",
       "\t<tr><th></th><th scope=col>&lt;int&gt;</th><th scope=col>&lt;int&gt;</th></tr>\n",
       "</thead>\n",
       "<tbody>\n",
       "\t<tr><th scope=row>sig</th><td>124</td><td>  86</td></tr>\n",
       "\t<tr><th scope=row>ns</th><td>298</td><td>2225</td></tr>\n",
       "</tbody>\n",
       "</table>\n"
      ],
      "text/latex": [
       "A data.frame: 2 × 2\n",
       "\\begin{tabular}{r|ll}\n",
       "  & overlap & no\\_overlap\\\\\n",
       "  & <int> & <int>\\\\\n",
       "\\hline\n",
       "\tsig & 124 &   86\\\\\n",
       "\tns & 298 & 2225\\\\\n",
       "\\end{tabular}\n"
      ],
      "text/markdown": [
       "\n",
       "A data.frame: 2 × 2\n",
       "\n",
       "| <!--/--> | overlap &lt;int&gt; | no_overlap &lt;int&gt; |\n",
       "|---|---|---|\n",
       "| sig | 124 |   86 |\n",
       "| ns | 298 | 2225 |\n",
       "\n"
      ],
      "text/plain": [
       "    overlap no_overlap\n",
       "sig 124       86      \n",
       "ns  298     2225      "
      ]
     },
     "metadata": {},
     "output_type": "display_data"
    },
    {
     "data": {
      "text/plain": [
       "\n",
       "\tFisher's Exact Test for Count Data\n",
       "\n",
       "data:  fisherdf\n",
       "p-value < 2.2e-16\n",
       "alternative hypothesis: true odds ratio is not equal to 1\n",
       "95 percent confidence interval:\n",
       "  7.881497 14.717760\n",
       "sample estimates:\n",
       "odds ratio \n",
       "  10.74937 \n"
      ]
     },
     "metadata": {},
     "output_type": "display_data"
    },
    {
     "data": {
      "text/html": [
       "<table class=\"dataframe\">\n",
       "<caption>A data.frame: 16 × 4</caption>\n",
       "<thead>\n",
       "\t<tr><th scope=col>X1</th><th scope=col>X2</th><th scope=col>X3</th><th scope=col>X4</th></tr>\n",
       "\t<tr><th scope=col>&lt;chr&gt;</th><th scope=col>&lt;chr&gt;</th><th scope=col>&lt;chr&gt;</th><th scope=col>&lt;chr&gt;</th></tr>\n",
       "</thead>\n",
       "<tbody>\n",
       "\t<tr><td>All_cCREs    </td><td>5.89557252411057e-10</td><td>7.8829934987702   </td><td>two.sided</td></tr>\n",
       "\t<tr><td>All_DNase    </td><td>2.30690419709409e-10</td><td>6.4638378633986   </td><td>two.sided</td></tr>\n",
       "\t<tr><td>K562_cCREs   </td><td>5.89557252411057e-10</td><td>7.8829934987702   </td><td>two.sided</td></tr>\n",
       "\t<tr><td>K562_DNase   </td><td>3.61395818578951e-43</td><td>8.52799557896517  </td><td>two.sided</td></tr>\n",
       "\t<tr><td>K562_ATAC    </td><td>1.36506565841988e-36</td><td>7.11001398772456  </td><td>two.sided</td></tr>\n",
       "\t<tr><td>K562_H3K27ac </td><td>1.91349506124699e-78</td><td>22.0826026401055  </td><td>two.sided</td></tr>\n",
       "\t<tr><td>K562_H3K4me1 </td><td>4.88881574889647e-34</td><td>6.36585560561038  </td><td>two.sided</td></tr>\n",
       "\t<tr><td>K562_H3K4me3 </td><td>1.10867823674137e-51</td><td>10.83965681752    </td><td>two.sided</td></tr>\n",
       "\t<tr><td>K562_H3K9me3 </td><td>0.0213672723466523  </td><td>0                 </td><td>two.sided</td></tr>\n",
       "\t<tr><td>K562_H3K27me3</td><td>1.98508348670799e-08</td><td>0.0423883993918636</td><td>two.sided</td></tr>\n",
       "\t<tr><td>K562_EP300   </td><td>7.25744262032467e-28</td><td>5.95753732352123  </td><td>two.sided</td></tr>\n",
       "\t<tr><td>K562_CTCF    </td><td>7.236418614527e-09  </td><td>2.5599327179239   </td><td>two.sided</td></tr>\n",
       "\t<tr><td>K562_POLR2A  </td><td>1.5682872918516e-64 </td><td>14.5275793196818  </td><td>two.sided</td></tr>\n",
       "\t<tr><td>K562_RAMPAGE </td><td>2.22111047717669e-17</td><td>6.55022189516582  </td><td>two.sided</td></tr>\n",
       "\t<tr><td>K562_CAGE    </td><td>3.12408824638565e-26</td><td>9.4503588999724   </td><td>two.sided</td></tr>\n",
       "\t<tr><td>K562_GROCAP  </td><td>5.88261353653455e-53</td><td>10.7493715316057  </td><td>two.sided</td></tr>\n",
       "</tbody>\n",
       "</table>\n"
      ],
      "text/latex": [
       "A data.frame: 16 × 4\n",
       "\\begin{tabular}{llll}\n",
       " X1 & X2 & X3 & X4\\\\\n",
       " <chr> & <chr> & <chr> & <chr>\\\\\n",
       "\\hline\n",
       "\t All\\_cCREs     & 5.89557252411057e-10 & 7.8829934987702    & two.sided\\\\\n",
       "\t All\\_DNase     & 2.30690419709409e-10 & 6.4638378633986    & two.sided\\\\\n",
       "\t K562\\_cCREs    & 5.89557252411057e-10 & 7.8829934987702    & two.sided\\\\\n",
       "\t K562\\_DNase    & 3.61395818578951e-43 & 8.52799557896517   & two.sided\\\\\n",
       "\t K562\\_ATAC     & 1.36506565841988e-36 & 7.11001398772456   & two.sided\\\\\n",
       "\t K562\\_H3K27ac  & 1.91349506124699e-78 & 22.0826026401055   & two.sided\\\\\n",
       "\t K562\\_H3K4me1  & 4.88881574889647e-34 & 6.36585560561038   & two.sided\\\\\n",
       "\t K562\\_H3K4me3  & 1.10867823674137e-51 & 10.83965681752     & two.sided\\\\\n",
       "\t K562\\_H3K9me3  & 0.0213672723466523   & 0                  & two.sided\\\\\n",
       "\t K562\\_H3K27me3 & 1.98508348670799e-08 & 0.0423883993918636 & two.sided\\\\\n",
       "\t K562\\_EP300    & 7.25744262032467e-28 & 5.95753732352123   & two.sided\\\\\n",
       "\t K562\\_CTCF     & 7.236418614527e-09   & 2.5599327179239    & two.sided\\\\\n",
       "\t K562\\_POLR2A   & 1.5682872918516e-64  & 14.5275793196818   & two.sided\\\\\n",
       "\t K562\\_RAMPAGE  & 2.22111047717669e-17 & 6.55022189516582   & two.sided\\\\\n",
       "\t K562\\_CAGE     & 3.12408824638565e-26 & 9.4503588999724    & two.sided\\\\\n",
       "\t K562\\_GROCAP   & 5.88261353653455e-53 & 10.7493715316057   & two.sided\\\\\n",
       "\\end{tabular}\n"
      ],
      "text/markdown": [
       "\n",
       "A data.frame: 16 × 4\n",
       "\n",
       "| X1 &lt;chr&gt; | X2 &lt;chr&gt; | X3 &lt;chr&gt; | X4 &lt;chr&gt; |\n",
       "|---|---|---|---|\n",
       "| All_cCREs     | 5.89557252411057e-10 | 7.8829934987702    | two.sided |\n",
       "| All_DNase     | 2.30690419709409e-10 | 6.4638378633986    | two.sided |\n",
       "| K562_cCREs    | 5.89557252411057e-10 | 7.8829934987702    | two.sided |\n",
       "| K562_DNase    | 3.61395818578951e-43 | 8.52799557896517   | two.sided |\n",
       "| K562_ATAC     | 1.36506565841988e-36 | 7.11001398772456   | two.sided |\n",
       "| K562_H3K27ac  | 1.91349506124699e-78 | 22.0826026401055   | two.sided |\n",
       "| K562_H3K4me1  | 4.88881574889647e-34 | 6.36585560561038   | two.sided |\n",
       "| K562_H3K4me3  | 1.10867823674137e-51 | 10.83965681752     | two.sided |\n",
       "| K562_H3K9me3  | 0.0213672723466523   | 0                  | two.sided |\n",
       "| K562_H3K27me3 | 1.98508348670799e-08 | 0.0423883993918636 | two.sided |\n",
       "| K562_EP300    | 7.25744262032467e-28 | 5.95753732352123   | two.sided |\n",
       "| K562_CTCF     | 7.236418614527e-09   | 2.5599327179239    | two.sided |\n",
       "| K562_POLR2A   | 1.5682872918516e-64  | 14.5275793196818   | two.sided |\n",
       "| K562_RAMPAGE  | 2.22111047717669e-17 | 6.55022189516582   | two.sided |\n",
       "| K562_CAGE     | 3.12408824638565e-26 | 9.4503588999724    | two.sided |\n",
       "| K562_GROCAP   | 5.88261353653455e-53 | 10.7493715316057   | two.sided |\n",
       "\n"
      ],
      "text/plain": [
       "   X1            X2                   X3                 X4       \n",
       "1  All_cCREs     5.89557252411057e-10 7.8829934987702    two.sided\n",
       "2  All_DNase     2.30690419709409e-10 6.4638378633986    two.sided\n",
       "3  K562_cCREs    5.89557252411057e-10 7.8829934987702    two.sided\n",
       "4  K562_DNase    3.61395818578951e-43 8.52799557896517   two.sided\n",
       "5  K562_ATAC     1.36506565841988e-36 7.11001398772456   two.sided\n",
       "6  K562_H3K27ac  1.91349506124699e-78 22.0826026401055   two.sided\n",
       "7  K562_H3K4me1  4.88881574889647e-34 6.36585560561038   two.sided\n",
       "8  K562_H3K4me3  1.10867823674137e-51 10.83965681752     two.sided\n",
       "9  K562_H3K9me3  0.0213672723466523   0                  two.sided\n",
       "10 K562_H3K27me3 1.98508348670799e-08 0.0423883993918636 two.sided\n",
       "11 K562_EP300    7.25744262032467e-28 5.95753732352123   two.sided\n",
       "12 K562_CTCF     7.236418614527e-09   2.5599327179239    two.sided\n",
       "13 K562_POLR2A   1.5682872918516e-64  14.5275793196818   two.sided\n",
       "14 K562_RAMPAGE  2.22111047717669e-17 6.55022189516582   two.sided\n",
       "15 K562_CAGE     3.12408824638565e-26 9.4503588999724    two.sided\n",
       "16 K562_GROCAP   5.88261353653455e-53 10.7493715316057   two.sided"
      ]
     },
     "metadata": {},
     "output_type": "display_data"
    }
   ],
   "source": [
    "# get the values from workdf1 and workdf2\n",
    "a <- testdf %>% filter(feature == \"grocap_capped_k562\" & overlap == 1 & result == \"significant\") %>% select(n) %>% pull()\n",
    "b <- testdf %>% filter(feature == \"grocap_capped_k562\" & overlap == 0 & result == \"significant\") %>% select(n) %>% pull()\n",
    "c <- testdf %>% filter(feature == \"grocap_capped_k562\" & overlap == 1 & result == \"perturbed\") %>% select(n) %>% pull() - a\n",
    "d <- testdf %>% filter(feature == \"grocap_capped_k562\" & overlap == 0 & result == \"perturbed\") %>% select(n) %>% pull() - b\n",
    "\n",
    "# create a dataframe\n",
    "fisherdf <- data.frame(\"overlap\" = c(a, c), \"no_overlap\" = c(b, d), row.names = c(\"sig\", \"ns\"))\n",
    "fisherdf\n",
    "\n",
    "# perform the test\n",
    "fisher.test(fisherdf)\n",
    "\n",
    "# store the output in new df\n",
    "tempdf <- fisher.test(fisherdf)\n",
    "tempdf <- data.frame(cbind(\"K562_GROCAP\",tempdf$p.value,tempdf$estimate,tempdf$alternative))\n",
    "rownames(tempdf) <- NULL\n",
    "res <- rbind(res, tempdf)\n",
    "res"
   ]
  },
  {
   "cell_type": "markdown",
   "metadata": {},
   "source": [
    "#### Save results to .txt file"
   ]
  },
  {
   "cell_type": "code",
   "execution_count": 38,
   "metadata": {},
   "outputs": [],
   "source": [
    "colnames(res) <- c(\"feature\",\"pvalue\",\"odds_ratio\",\"alternative\")\n",
    "res$pvalue <- as.numeric(res$pvalue)\n",
    "res$odds_ratio <- as.numeric(res$odds_ratio)"
   ]
  },
  {
   "cell_type": "code",
   "execution_count": 39,
   "metadata": {},
   "outputs": [],
   "source": [
    "# res %>%\n",
    "# write.table(\"figure1/k562meta/outs/feature_fisher_test/suppfigure1.k562.fishertestresults.txt\", \n",
    "#             col.names=T, row.names=F, quote=F, sep=\"\\t\") "
   ]
  },
  {
   "cell_type": "code",
   "execution_count": 40,
   "metadata": {},
   "outputs": [],
   "source": [
    "# workdf2 %>%\n",
    "# write.table(\"figure1/k562meta/outs/feature_fisher_test/supptable5.k562.featureoverlapsummary.txt\", \n",
    "#             col.names=T, row.names=F, quote=F, sep=\"\\t\") "
   ]
  },
  {
   "cell_type": "markdown",
   "metadata": {},
   "source": [
    "#### Visualize results"
   ]
  },
  {
   "cell_type": "code",
   "execution_count": 41,
   "metadata": {},
   "outputs": [],
   "source": [
    "finaldf <- res"
   ]
  },
  {
   "cell_type": "code",
   "execution_count": 42,
   "metadata": {},
   "outputs": [],
   "source": [
    "finaldf$feature = factor(finaldf$feature, levels = c(\"K562_H3K27me3\",\n",
    "                                                   \"K562_H3K9me3\",\n",
    "                                                   \"K562_GROCAP\",\n",
    "                                                   \"K562_CAGE\",\n",
    "                                                   \"K562_RAMPAGE\",\n",
    "                                                   \"K562_POLR2A\",\n",
    "                                                   \"K562_EP300\",\n",
    "                                                   \"K562_CTCF\",\n",
    "                                                   \"K562_H3K27ac\",\n",
    "                                                   \"K562_H3K4me3\",\n",
    "                                                   \"K562_H3K4me1\",\n",
    "                                                   \"K562_cCREs\",\n",
    "                                                   \"K562_DNase\",\n",
    "                                                   \"K562_ATAC\",\n",
    "                                                   \"All_cCREs\",\n",
    "                                                   \"All_DNase\"))"
   ]
  },
  {
   "cell_type": "markdown",
   "metadata": {},
   "source": [
    "##### Plot results of Fisher's Exact test"
   ]
  },
  {
   "cell_type": "code",
   "execution_count": 43,
   "metadata": {},
   "outputs": [],
   "source": [
    "options(repr.plot.width = 8, repr.plot.height = 6)"
   ]
  },
  {
   "cell_type": "code",
   "execution_count": 44,
   "metadata": {},
   "outputs": [
    {
     "data": {
      "image/png": "[encoded data removed]",
      "text/plain": [
       "plot without title"
      ]
     },
     "metadata": {
      "image/png": {
       "height": 360,
       "width": 480
      }
     },
     "output_type": "display_data"
    }
   ],
   "source": [
    "finaldf %>%\n",
    "ggplot(aes(x = odds_ratio, y = feature)) +\n",
    "geom_col(width = 0.9, fill = \"black\",position = position_dodge(0.1)) +\n",
    "xlab(\"\\nOdds Ratio\") +\n",
    "ylab(\"Feature \\n\") +\n",
    "ggtitle(\"Overlap of functional cREs with (epi)genomic features\") +\n",
    "theme_classic() +\n",
    "theme(\n",
    "    axis.text = element_text(size = 12, color = \"black\"),\n",
    "    axis.title = element_text(size = 14, color = \"black\"),    \n",
    "    legend.text = element_text(size = 12, color = \"black\"),\n",
    "    legend.title = element_text(size = 14, color = \"black\"),\n",
    "    plot.title = element_text(size = 14, color = \"black\", hjust = 0.5),\n",
    ")"
   ]
  },
  {
   "cell_type": "code",
   "execution_count": 46,
   "metadata": {},
   "outputs": [
    {
     "data": {
      "image/png": "[encoded data removed]",
      "text/plain": [
       "plot without title"
      ]
     },
     "metadata": {
      "image/png": {
       "height": 360,
       "width": 480
      }
     },
     "output_type": "display_data"
    }
   ],
   "source": [
    "p1 <- \n",
    "finaldf %>%\n",
    "mutate(direction = ifelse(odds_ratio < 1, \"depleted\", \"enriched\")) %>%\n",
    "ggplot(aes(x = log10(odds_ratio), y = feature)) +\n",
    "geom_col(width = 0.9, position = position_dodge(0.1), fill = \"black\") +\n",
    "xlab(\"log10(Odds Ratio)\") +\n",
    "ylab(\"Feature\") +\n",
    "# ggtitle(\"Overlap of functional cREs with (epi)genomic features\") +\n",
    "# scale_fill_gradient(low=\"red\",high=\"grey\") +\n",
    "theme_classic() +\n",
    "theme(\n",
    "    axis.text = element_text(size = 12, color = \"black\"),\n",
    "    axis.title = element_text(size = 14, color = \"black\"),    \n",
    "    legend.text = element_text(size = 12, color = \"black\"),\n",
    "    legend.title = element_text(size = 14, color = \"black\"),\n",
    "    plot.title = element_text(size = 14, color = \"black\", hjust = 0.8),\n",
    ")\n",
    "\n",
    "p1"
   ]
  },
  {
   "cell_type": "code",
   "execution_count": 104,
   "metadata": {},
   "outputs": [
    {
     "data": {
      "image/png": "[encoded data removed]",
      "text/plain": [
       "plot without title"
      ]
     },
     "metadata": {
      "image/png": {
       "height": 360,
       "width": 480
      }
     },
     "output_type": "display_data"
    }
   ],
   "source": [
    "p2 <- finaldf %>%\n",
    "mutate(direction = ifelse(odds_ratio < 1, \"depleted\", \"enriched\")) %>%\n",
    "ggplot(aes(x = log2(odds_ratio), y = feature, fill = direction)) +\n",
    "geom_col(width = 0.9, position = position_dodge(0.1)) + #fill = \"black\",\n",
    "xlab(\"log2(Odds Ratio)\") +\n",
    "ylab(\"Feature\") +\n",
    "# ggtitle(\"Overlap of functional cREs with (epi)genomic features\") +\n",
    "# scale_fill_gradient(low=\"red\",high=\"grey\") +\n",
    "theme_classic() +\n",
    "theme(\n",
    "    axis.text = element_text(size = 12, color = \"black\"),\n",
    "    axis.title = element_text(size = 14, color = \"black\"),    \n",
    "    legend.text = element_text(size = 12, color = \"black\"),\n",
    "    legend.title = element_text(size = 14, color = \"black\"),\n",
    "    plot.title = element_text(size = 14, color = \"black\", hjust = 0.8),\n",
    ")\n",
    "\n",
    "p2"
   ]
  },
  {
   "cell_type": "code",
   "execution_count": 105,
   "metadata": {},
   "outputs": [
    {
     "data": {
      "image/png": "[encoded data removed]",
      "text/plain": [
       "plot without title"
      ]
     },
     "metadata": {
      "image/png": {
       "height": 360,
       "width": 480
      }
     },
     "output_type": "display_data"
    }
   ],
   "source": [
    "finaldf %>%\n",
    "ggplot(aes(x = -log10(pvalue), y = feature, fill = odds_ratio)) +\n",
    "geom_col(width = 0.9, position = position_dodge(0.1)) + #fill = \"black\",\n",
    "xlab(\"\\n-log10(p))\") +\n",
    "ylab(\"Feature \\n\") +\n",
    "ggtitle(\"Overlap of functional cREs with (epi)genomic features\") +\n",
    "theme_classic() +\n",
    "theme(\n",
    "    axis.text = element_text(size = 12, color = \"black\"),\n",
    "    axis.title = element_text(size = 14, color = \"black\"),    \n",
    "    legend.text = element_text(size = 12, color = \"black\"),\n",
    "    legend.title = element_text(size = 14, color = \"black\"),\n",
    "    plot.title = element_text(size = 14, color = \"black\", hjust = 0.8),\n",
    ")"
   ]
  },
  {
   "cell_type": "markdown",
   "metadata": {},
   "source": [
    "###### Plot the percent/count"
   ]
  },
  {
   "cell_type": "code",
   "execution_count": 106,
   "metadata": {},
   "outputs": [
    {
     "data": {
      "text/html": [
       "<style>\n",
       ".list-inline {list-style: none; margin:0; padding: 0}\n",
       ".list-inline>li {display: inline-block}\n",
       ".list-inline>li:not(:last-child)::after {content: \"\\00b7\"; padding: 0 .5ex}\n",
       "</style>\n",
       "<ol class=list-inline><li>'bin'</li><li>'dnase_union'</li><li>'ccre_all'</li><li>'ccre_k562'</li><li>'dnase_k562'</li><li>'atac_k562'</li><li>'h3k27ac_k562'</li><li>'h3k4me1_k562'</li><li>'h3k4me3_k562'</li><li>'h3k9me3_k562'</li><li>'h3k27me3_k562'</li><li>'ep300_k562'</li><li>'ctcf_k562'</li><li>'polr2a_k562'</li><li>'rampage_k562'</li><li>'cage_k562'</li><li>'grocap_capped_k562'</li></ol>\n"
      ],
      "text/latex": [
       "\\begin{enumerate*}\n",
       "\\item 'bin'\n",
       "\\item 'dnase\\_union'\n",
       "\\item 'ccre\\_all'\n",
       "\\item 'ccre\\_k562'\n",
       "\\item 'dnase\\_k562'\n",
       "\\item 'atac\\_k562'\n",
       "\\item 'h3k27ac\\_k562'\n",
       "\\item 'h3k4me1\\_k562'\n",
       "\\item 'h3k4me3\\_k562'\n",
       "\\item 'h3k9me3\\_k562'\n",
       "\\item 'h3k27me3\\_k562'\n",
       "\\item 'ep300\\_k562'\n",
       "\\item 'ctcf\\_k562'\n",
       "\\item 'polr2a\\_k562'\n",
       "\\item 'rampage\\_k562'\n",
       "\\item 'cage\\_k562'\n",
       "\\item 'grocap\\_capped\\_k562'\n",
       "\\end{enumerate*}\n"
      ],
      "text/markdown": [
       "1. 'bin'\n",
       "2. 'dnase_union'\n",
       "3. 'ccre_all'\n",
       "4. 'ccre_k562'\n",
       "5. 'dnase_k562'\n",
       "6. 'atac_k562'\n",
       "7. 'h3k27ac_k562'\n",
       "8. 'h3k4me1_k562'\n",
       "9. 'h3k4me3_k562'\n",
       "10. 'h3k9me3_k562'\n",
       "11. 'h3k27me3_k562'\n",
       "12. 'ep300_k562'\n",
       "13. 'ctcf_k562'\n",
       "14. 'polr2a_k562'\n",
       "15. 'rampage_k562'\n",
       "16. 'cage_k562'\n",
       "17. 'grocap_capped_k562'\n",
       "\n",
       "\n"
      ],
      "text/plain": [
       " [1] \"bin\"                \"dnase_union\"        \"ccre_all\"          \n",
       " [4] \"ccre_k562\"          \"dnase_k562\"         \"atac_k562\"         \n",
       " [7] \"h3k27ac_k562\"       \"h3k4me1_k562\"       \"h3k4me3_k562\"      \n",
       "[10] \"h3k9me3_k562\"       \"h3k27me3_k562\"      \"ep300_k562\"        \n",
       "[13] \"ctcf_k562\"          \"polr2a_k562\"        \"rampage_k562\"      \n",
       "[16] \"cage_k562\"          \"grocap_capped_k562\""
      ]
     },
     "metadata": {},
     "output_type": "display_data"
    }
   ],
   "source": [
    "colnames(workdf2)"
   ]
  },
  {
   "cell_type": "code",
   "execution_count": 107,
   "metadata": {},
   "outputs": [
    {
     "name": "stderr",
     "output_type": "stream",
     "text": [
      "\u001b[1m\u001b[22m`summarise()` has grouped output by 'feature'. You can override using the\n",
      "`.groups` argument.\n"
     ]
    },
    {
     "data": {
      "text/html": [
       "<table class=\"dataframe\">\n",
       "<caption>A tibble: 16 × 7</caption>\n",
       "<thead>\n",
       "\t<tr><th scope=col>feature</th><th scope=col>overlap</th><th scope=col>n</th><th scope=col>total_count</th><th scope=col>percent_bins</th><th scope=col>direct_intersect</th><th scope=col>direction</th></tr>\n",
       "\t<tr><th scope=col>&lt;fct&gt;</th><th scope=col>&lt;dbl&gt;</th><th scope=col>&lt;dbl&gt;</th><th scope=col>&lt;dbl&gt;</th><th scope=col>&lt;dbl&gt;</th><th scope=col>&lt;chr&gt;</th><th scope=col>&lt;chr&gt;</th></tr>\n",
       "</thead>\n",
       "<tbody>\n",
       "\t<tr><td>K562_ATAC    </td><td>1</td><td>165</td><td> 210</td><td>0.785714286</td><td>yes</td><td>enriched</td></tr>\n",
       "\t<tr><td>K562_CAGE    </td><td>1</td><td> 54</td><td> 210</td><td>0.257142857</td><td>yes</td><td>enriched</td></tr>\n",
       "\t<tr><td>All_cCREs    </td><td>1</td><td>205</td><td> 210</td><td>0.976190476</td><td>yes</td><td>enriched</td></tr>\n",
       "\t<tr><td>K562_cCREs   </td><td>1</td><td>205</td><td> 210</td><td>0.976190476</td><td>yes</td><td>enriched</td></tr>\n",
       "\t<tr><td>K562_CTCF    </td><td>1</td><td> 72</td><td> 210</td><td>0.342857143</td><td>yes</td><td>enriched</td></tr>\n",
       "\t<tr><td>K562_DNase   </td><td>1</td><td>167</td><td> 210</td><td>0.795238095</td><td>yes</td><td>enriched</td></tr>\n",
       "\t<tr><td>All_DNase    </td><td>1</td><td>203</td><td> 210</td><td>0.966666667</td><td>yes</td><td>enriched</td></tr>\n",
       "\t<tr><td>K562_EP300   </td><td>1</td><td> 89</td><td> 210</td><td>0.423809524</td><td>yes</td><td>enriched</td></tr>\n",
       "\t<tr><td>K562_GROCAP  </td><td>1</td><td>124</td><td> 210</td><td>0.590476190</td><td>yes</td><td>enriched</td></tr>\n",
       "\t<tr><td>K562_H3K27ac </td><td>1</td><td>182</td><td> 210</td><td>0.866666667</td><td>yes</td><td>enriched</td></tr>\n",
       "\t<tr><td>K562_H3K27me3</td><td>1</td><td>  1</td><td> 210</td><td>0.004761905</td><td>yes</td><td>depleted</td></tr>\n",
       "\t<tr><td>K562_H3K4me1 </td><td>1</td><td>159</td><td> 210</td><td>0.757142857</td><td>yes</td><td>enriched</td></tr>\n",
       "\t<tr><td>K562_H3K4me3 </td><td>1</td><td>117</td><td> 210</td><td>0.557142857</td><td>yes</td><td>enriched</td></tr>\n",
       "\t<tr><td>K562_POLR2A  </td><td>1</td><td>127</td><td> 210</td><td>0.604761905</td><td>yes</td><td>enriched</td></tr>\n",
       "\t<tr><td>K562_RAMPAGE </td><td>1</td><td> 44</td><td> 210</td><td>0.209523810</td><td>yes</td><td>enriched</td></tr>\n",
       "\t<tr><td>K562_H3K9me3 </td><td>1</td><td>  0</td><td>2306</td><td>0.000000000</td><td>yes</td><td>depleted</td></tr>\n",
       "</tbody>\n",
       "</table>\n"
      ],
      "text/latex": [
       "A tibble: 16 × 7\n",
       "\\begin{tabular}{lllllll}\n",
       " feature & overlap & n & total\\_count & percent\\_bins & direct\\_intersect & direction\\\\\n",
       " <fct> & <dbl> & <dbl> & <dbl> & <dbl> & <chr> & <chr>\\\\\n",
       "\\hline\n",
       "\t K562\\_ATAC     & 1 & 165 &  210 & 0.785714286 & yes & enriched\\\\\n",
       "\t K562\\_CAGE     & 1 &  54 &  210 & 0.257142857 & yes & enriched\\\\\n",
       "\t All\\_cCREs     & 1 & 205 &  210 & 0.976190476 & yes & enriched\\\\\n",
       "\t K562\\_cCREs    & 1 & 205 &  210 & 0.976190476 & yes & enriched\\\\\n",
       "\t K562\\_CTCF     & 1 &  72 &  210 & 0.342857143 & yes & enriched\\\\\n",
       "\t K562\\_DNase    & 1 & 167 &  210 & 0.795238095 & yes & enriched\\\\\n",
       "\t All\\_DNase     & 1 & 203 &  210 & 0.966666667 & yes & enriched\\\\\n",
       "\t K562\\_EP300    & 1 &  89 &  210 & 0.423809524 & yes & enriched\\\\\n",
       "\t K562\\_GROCAP   & 1 & 124 &  210 & 0.590476190 & yes & enriched\\\\\n",
       "\t K562\\_H3K27ac  & 1 & 182 &  210 & 0.866666667 & yes & enriched\\\\\n",
       "\t K562\\_H3K27me3 & 1 &   1 &  210 & 0.004761905 & yes & depleted\\\\\n",
       "\t K562\\_H3K4me1  & 1 & 159 &  210 & 0.757142857 & yes & enriched\\\\\n",
       "\t K562\\_H3K4me3  & 1 & 117 &  210 & 0.557142857 & yes & enriched\\\\\n",
       "\t K562\\_POLR2A   & 1 & 127 &  210 & 0.604761905 & yes & enriched\\\\\n",
       "\t K562\\_RAMPAGE  & 1 &  44 &  210 & 0.209523810 & yes & enriched\\\\\n",
       "\t K562\\_H3K9me3  & 1 &   0 & 2306 & 0.000000000 & yes & depleted\\\\\n",
       "\\end{tabular}\n"
      ],
      "text/markdown": [
       "\n",
       "A tibble: 16 × 7\n",
       "\n",
       "| feature &lt;fct&gt; | overlap &lt;dbl&gt; | n &lt;dbl&gt; | total_count &lt;dbl&gt; | percent_bins &lt;dbl&gt; | direct_intersect &lt;chr&gt; | direction &lt;chr&gt; |\n",
       "|---|---|---|---|---|---|---|\n",
       "| K562_ATAC     | 1 | 165 |  210 | 0.785714286 | yes | enriched |\n",
       "| K562_CAGE     | 1 |  54 |  210 | 0.257142857 | yes | enriched |\n",
       "| All_cCREs     | 1 | 205 |  210 | 0.976190476 | yes | enriched |\n",
       "| K562_cCREs    | 1 | 205 |  210 | 0.976190476 | yes | enriched |\n",
       "| K562_CTCF     | 1 |  72 |  210 | 0.342857143 | yes | enriched |\n",
       "| K562_DNase    | 1 | 167 |  210 | 0.795238095 | yes | enriched |\n",
       "| All_DNase     | 1 | 203 |  210 | 0.966666667 | yes | enriched |\n",
       "| K562_EP300    | 1 |  89 |  210 | 0.423809524 | yes | enriched |\n",
       "| K562_GROCAP   | 1 | 124 |  210 | 0.590476190 | yes | enriched |\n",
       "| K562_H3K27ac  | 1 | 182 |  210 | 0.866666667 | yes | enriched |\n",
       "| K562_H3K27me3 | 1 |   1 |  210 | 0.004761905 | yes | depleted |\n",
       "| K562_H3K4me1  | 1 | 159 |  210 | 0.757142857 | yes | enriched |\n",
       "| K562_H3K4me3  | 1 | 117 |  210 | 0.557142857 | yes | enriched |\n",
       "| K562_POLR2A   | 1 | 127 |  210 | 0.604761905 | yes | enriched |\n",
       "| K562_RAMPAGE  | 1 |  44 |  210 | 0.209523810 | yes | enriched |\n",
       "| K562_H3K9me3  | 1 |   0 | 2306 | 0.000000000 | yes | depleted |\n",
       "\n"
      ],
      "text/plain": [
       "   feature       overlap n   total_count percent_bins direct_intersect\n",
       "1  K562_ATAC     1       165  210        0.785714286  yes             \n",
       "2  K562_CAGE     1        54  210        0.257142857  yes             \n",
       "3  All_cCREs     1       205  210        0.976190476  yes             \n",
       "4  K562_cCREs    1       205  210        0.976190476  yes             \n",
       "5  K562_CTCF     1        72  210        0.342857143  yes             \n",
       "6  K562_DNase    1       167  210        0.795238095  yes             \n",
       "7  All_DNase     1       203  210        0.966666667  yes             \n",
       "8  K562_EP300    1        89  210        0.423809524  yes             \n",
       "9  K562_GROCAP   1       124  210        0.590476190  yes             \n",
       "10 K562_H3K27ac  1       182  210        0.866666667  yes             \n",
       "11 K562_H3K27me3 1         1  210        0.004761905  yes             \n",
       "12 K562_H3K4me1  1       159  210        0.757142857  yes             \n",
       "13 K562_H3K4me3  1       117  210        0.557142857  yes             \n",
       "14 K562_POLR2A   1       127  210        0.604761905  yes             \n",
       "15 K562_RAMPAGE  1        44  210        0.209523810  yes             \n",
       "16 K562_H3K9me3  1         0 2306        0.000000000  yes             \n",
       "   direction\n",
       "1  enriched \n",
       "2  enriched \n",
       "3  enriched \n",
       "4  enriched \n",
       "5  enriched \n",
       "6  enriched \n",
       "7  enriched \n",
       "8  enriched \n",
       "9  enriched \n",
       "10 enriched \n",
       "11 depleted \n",
       "12 enriched \n",
       "13 enriched \n",
       "14 enriched \n",
       "15 enriched \n",
       "16 depleted "
      ]
     },
     "metadata": {},
     "output_type": "display_data"
    }
   ],
   "source": [
    "depletedmarks <- c(\"K562_H3K9me3\",\"K562_H3K27me3\")\n",
    "\n",
    "plotdf <-\n",
    "workdf2 %>%\n",
    "pivot_longer(cols = dnase_union:grocap_capped_k562, names_to = \"feature\", values_to = \"overlap\") %>%\n",
    "group_by(feature,overlap) %>%\n",
    "summarise(n=n()) %>%\n",
    "ungroup() %>%\n",
    "group_by(feature) %>%\n",
    "mutate(total_count = sum(n),\n",
    "       percent_bins = n/total_count) %>%\n",
    "ungroup() %>%\n",
    "mutate(direct_intersect = ifelse(overlap == 1, \"yes\", \"no\")) %>%\n",
    "filter(direct_intersect == \"yes\") %>%\n",
    "mutate(feature = case_when(\n",
    "    feature == \"atac_k562\" ~ \"K562_ATAC\",\n",
    "    feature == \"dnase_k562\" ~ \"K562_DNase\",\n",
    "    feature == \"ccre_k562\" ~ \"K562_cCREs\",\n",
    "    feature == \"h3k4me1_k562\" ~ \"K562_H3K4me1\",\n",
    "    feature == \"h3k4me3_k562\" ~ \"K562_H3K4me3\",\n",
    "    feature == \"h3k9me3_k562\" ~ \"K562_H3K9me3\",\n",
    "    feature == \"h3k27ac_k562\" ~ \"K562_H3K27ac\",\n",
    "    feature == \"h3k27me3_k562\" ~ \"K562_H3K27me3\",\n",
    "    feature == \"ep300_k562\" ~ \"K562_EP300\",\n",
    "    feature == \"ctcf_k562\" ~ \"K562_CTCF\",\n",
    "    feature == \"polr2a_k562\" ~ \"K562_POLR2A\",\n",
    "    feature == \"rampage_k562\" ~ \"K562_RAMPAGE\",\n",
    "    feature == \"cage_k562\" ~ \"K562_CAGE\",\n",
    "    feature == \"grocap_capped_k562\" ~ \"K562_GROCAP\",\n",
    "    feature == \"dnase_union\" ~ \"All_DNase\",\n",
    "    feature == \"ccre_all\" ~ \"All_cCREs\"\n",
    "))  %>%\n",
    "rbind(data.frame(\"feature\" = \"K562_H3K9me3\",\n",
    "                 \"overlap\" = 1, \"n\" = 0, \"total_count\" = 2306, \n",
    "                 \"percent_bins\" = 0, \"direct_intersect\" = \"yes\")) %>%\n",
    "mutate(direction = ifelse(feature %in% depletedmarks, \"depleted\", \"enriched\")) \n",
    "\n",
    "plotdf$feature = factor(plotdf$feature, levels = c(\"K562_H3K27me3\",\n",
    "                                                   \"K562_H3K9me3\",\n",
    "                                                   \"K562_GROCAP\",\n",
    "                                                   \"K562_CAGE\",\n",
    "                                                   \"K562_RAMPAGE\",\n",
    "                                                   \"K562_POLR2A\",\n",
    "                                                   \"K562_EP300\",\n",
    "                                                   \"K562_CTCF\",\n",
    "                                                   \"K562_H3K27ac\",\n",
    "                                                   \"K562_H3K4me3\",\n",
    "                                                   \"K562_H3K4me1\",\n",
    "                                                   \"K562_cCREs\",\n",
    "                                                   \"K562_DNase\",\n",
    "                                                   \"K562_ATAC\",\n",
    "                                                   \"All_cCREs\",\n",
    "                                                   \"All_DNase\"))\n",
    "plotdf"
   ]
  },
  {
   "cell_type": "code",
   "execution_count": 108,
   "metadata": {},
   "outputs": [
    {
     "data": {
      "text/html": [
       "<table class=\"dataframe\">\n",
       "<caption>A tibble: 1 × 7</caption>\n",
       "<thead>\n",
       "\t<tr><th scope=col>feature</th><th scope=col>overlap</th><th scope=col>n</th><th scope=col>total_count</th><th scope=col>percent_bins</th><th scope=col>direct_intersect</th><th scope=col>direction</th></tr>\n",
       "\t<tr><th scope=col>&lt;fct&gt;</th><th scope=col>&lt;dbl&gt;</th><th scope=col>&lt;dbl&gt;</th><th scope=col>&lt;dbl&gt;</th><th scope=col>&lt;dbl&gt;</th><th scope=col>&lt;chr&gt;</th><th scope=col>&lt;chr&gt;</th></tr>\n",
       "</thead>\n",
       "<tbody>\n",
       "\t<tr><td>K562_cCREs</td><td>1</td><td>205</td><td>210</td><td>0.9761905</td><td>yes</td><td>enriched</td></tr>\n",
       "</tbody>\n",
       "</table>\n"
      ],
      "text/latex": [
       "A tibble: 1 × 7\n",
       "\\begin{tabular}{lllllll}\n",
       " feature & overlap & n & total\\_count & percent\\_bins & direct\\_intersect & direction\\\\\n",
       " <fct> & <dbl> & <dbl> & <dbl> & <dbl> & <chr> & <chr>\\\\\n",
       "\\hline\n",
       "\t K562\\_cCREs & 1 & 205 & 210 & 0.9761905 & yes & enriched\\\\\n",
       "\\end{tabular}\n"
      ],
      "text/markdown": [
       "\n",
       "A tibble: 1 × 7\n",
       "\n",
       "| feature &lt;fct&gt; | overlap &lt;dbl&gt; | n &lt;dbl&gt; | total_count &lt;dbl&gt; | percent_bins &lt;dbl&gt; | direct_intersect &lt;chr&gt; | direction &lt;chr&gt; |\n",
       "|---|---|---|---|---|---|---|\n",
       "| K562_cCREs | 1 | 205 | 210 | 0.9761905 | yes | enriched |\n",
       "\n"
      ],
      "text/plain": [
       "  feature    overlap n   total_count percent_bins direct_intersect direction\n",
       "1 K562_cCREs 1       205 210         0.9761905    yes              enriched "
      ]
     },
     "metadata": {},
     "output_type": "display_data"
    }
   ],
   "source": [
    "plotdf %>%\n",
    "filter(grepl(\"K562\",feature)) %>%\n",
    "slice_max(percent_bins)"
   ]
  },
  {
   "cell_type": "code",
   "execution_count": 109,
   "metadata": {},
   "outputs": [
    {
     "data": {
      "image/png": "[encoded data removed]",
      "text/plain": [
       "plot without title"
      ]
     },
     "metadata": {
      "image/png": {
       "height": 360,
       "width": 240
      }
     },
     "output_type": "display_data"
    }
   ],
   "source": [
    "options(repr.plot.width = 4, repr.plot.height = 6)\n",
    "\n",
    "p3 <-\n",
    "plotdf %>%\n",
    "ggplot(aes(y = feature, x = percent_bins*100)) + #, fill = direction\n",
    "geom_col(fill = \"black\") +\n",
    "xlab(\"Percent of Significant Elements (%)\") +\n",
    "ylab(\"Feature\\n\") +\n",
    "xlim(0,100) +\n",
    "# ggtitle(\"Overlap of functional cREs with (epi)genomic features\") +\n",
    "theme_classic() +\n",
    "theme(\n",
    "    axis.text = element_text(size = 12, color = \"black\"),\n",
    "    axis.title = element_text(size = 14, color = \"black\"),    \n",
    "    legend.text = element_text(size = 12, color = \"black\"),\n",
    "    legend.title = element_text(size = 14, color = \"black\"),\n",
    "    plot.title = element_text(size = 14, color = \"black\", hjust = 0.7)\n",
    ")\n",
    "\n",
    "p3"
   ]
  },
  {
   "cell_type": "code",
   "execution_count": 47,
   "metadata": {},
   "outputs": [
    {
     "ename": "ERROR",
     "evalue": "Error in eval(expr, envir, enclos): object 'p2' not found\n",
     "output_type": "error",
     "traceback": [
      "Error in eval(expr, envir, enclos): object 'p2' not found\nTraceback:\n"
     ]
    }
   ],
   "source": [
    "pdf(file=\"figure1/k562meta/outs/plot_pdfs/featureoverlap.oddsratio.k562.pdf\")\n",
    "p1\n",
    "p2\n",
    "dev.off()"
   ]
  },
  {
   "cell_type": "code",
   "execution_count": 111,
   "metadata": {},
   "outputs": [
    {
     "data": {
      "text/html": [
       "<strong>png:</strong> 2"
      ],
      "text/latex": [
       "\\textbf{png:} 2"
      ],
      "text/markdown": [
       "**png:** 2"
      ],
      "text/plain": [
       "png \n",
       "  2 "
      ]
     },
     "metadata": {},
     "output_type": "display_data"
    }
   ],
   "source": [
    "pdf(file=\"figure1/k562meta/outs/plot_pdfs/featureoverlap.percentelements.k562.pdf\")\n",
    "p3\n",
    "dev.off()"
   ]
  },
  {
   "cell_type": "markdown",
   "metadata": {},
   "source": [
    "#### Put both plots together"
   ]
  },
  {
   "cell_type": "code",
   "execution_count": 112,
   "metadata": {},
   "outputs": [],
   "source": [
    "suppressPackageStartupMessages(library(ggpubr))"
   ]
  },
  {
   "cell_type": "code",
   "execution_count": 113,
   "metadata": {},
   "outputs": [
    {
     "name": "stderr",
     "output_type": "stream",
     "text": [
      "Warning message:\n",
      "“Removed 1 rows containing missing values (geom_text).”\n"
     ]
    },
    {
     "data": {
      "text/html": [
       "<strong>png:</strong> 2"
      ],
      "text/latex": [
       "\\textbf{png:} 2"
      ],
      "text/markdown": [
       "**png:** 2"
      ],
      "text/plain": [
       "png \n",
       "  2 "
      ]
     },
     "metadata": {},
     "output_type": "display_data"
    },
    {
     "data": {
      "image/png": "[encoded data removed]",
      "text/plain": [
       "plot without title"
      ]
     },
     "metadata": {
      "image/png": {
       "height": 360,
       "width": 720
      }
     },
     "output_type": "display_data"
    }
   ],
   "source": [
    "options(repr.plot.width = 12, repr.plot.height = 6)\n",
    "\n",
    "figure <- ggarrange(p3,p2, \n",
    "          labels = NA,\n",
    "          ncol = 2, nrow = 1,\n",
    "#           common.legend = TRUE,\n",
    "          legend = \"none\"\n",
    "         )\n",
    "\n",
    "p4 <- annotate_figure(figure,\n",
    "                top = text_grob(\"Overlap of functional cREs with (epi)genomic features\", color = \"black\", size = 16)\n",
    "                )\n",
    "\n",
    "p4\n",
    "\n",
    "pdf(file=\"figure1/k562meta/outs/plot_pdfs/featureoverlap.combinedpanel.k562.pdf\")\n",
    "p4\n",
    "dev.off()"
   ]
  },
  {
   "cell_type": "markdown",
   "metadata": {},
   "source": [
    "#### Upset plot of K562 features"
   ]
  },
  {
   "cell_type": "code",
   "execution_count": 114,
   "metadata": {},
   "outputs": [],
   "source": [
    "suppressPackageStartupMessages(library(UpSetR))\n",
    "suppressPackageStartupMessages(library(ggplotify))"
   ]
  },
  {
   "cell_type": "code",
   "execution_count": 115,
   "metadata": {},
   "outputs": [],
   "source": [
    "inputlist <- list(\n",
    "   \"Sig. CREs\" = sigregions %>% pull(),\n",
    "#     \"dnase_union\" = unionDnase,\n",
    "#     \"cCREs_all\" = allccre,\n",
    "    \"cCREs\" = cellccre,\n",
    "    \"ATAC\" = atac,\n",
    "    \"DNase\" = dnase,\n",
    "    \"H3K27ac\" = h3k27ac,\n",
    "    \"H3K4me1\" = h3k4me1,\n",
    "    \"H3K4me3\" = h3k4me3,\n",
    "#     \"H3K9me3\" = h3k9me3,\n",
    "#     \"H3K27me3\" = h3k27me3,\n",
    "    \"EP300\" = ep300,\n",
    "    \"CTCF\" = ctcf,\n",
    "    \"POLR2A\" = polr2a,\n",
    "    \"RAMPAGE\" = rampage,\n",
    "    \"CAGE\" = cage,\n",
    "    \"GROCAP\" = grocap_capped\n",
    ")\n"
   ]
  },
  {
   "cell_type": "code",
   "execution_count": 119,
   "metadata": {},
   "outputs": [],
   "source": [
    "p1 <- upset(fromList(inputlist), \n",
    "      order.by = \"freq\",\n",
    "      nsets = 15,\n",
    "      nintersects = 40,\n",
    "      queries = list(list(query = intersects, params = list(\n",
    "          \"cCREs\",\"ATAC\",\"DNase\",\"H3K27ac\",\"H3K4me1\",\"H3K4me3\",\"EP300\",\"CTCF\",\"POLR2A\",\"Sig. CREs\",\"RAMPAGE\",\"CAGE\",\"GROCAP\"), \n",
    "                          color = \"lightblue\", active = T)),\n",
    "      # set_size.show = TRUE, ### these do not look good when added in R, add later in Illustrator\n",
    "      # set_size.numbers_size = 5,\n",
    "      point.size = 2, \n",
    "      line.size = 0.5, \n",
    "      mainbar.y.label = \"Intersection Size\", \n",
    "      sets.x.label = \"Overlap with CREs\", \n",
    "      # text.scale = c(2, 2, 1.5, 1.5, 2, 1), # intersection size title, intersection size tick labels, set size title, set size tick labels, set names, numbers above bars\n",
    "      main.bar.color = \"black\", \n",
    "    )\n",
    "\n",
    "\n",
    "# p1anno <- annotate_figure(as.grob(p1), top = text_grob(\"Overlap of functional cREs with K562 features\", \n",
    "#                color = \"black\", size = 14, family = \"sans\")) "
   ]
  },
  {
   "cell_type": "code",
   "execution_count": 120,
   "metadata": {},
   "outputs": [
    {
     "data": {
      "image/png": "[encoded data removed]",
      "text/plain": [
       "plot without title"
      ]
     },
     "metadata": {
      "image/png": {
       "height": 480,
       "width": 900
      }
     },
     "output_type": "display_data"
    }
   ],
   "source": [
    "options(repr.plot.width = 15, repr.plot.height = 8)\n",
    "p1"
   ]
  },
  {
   "cell_type": "code",
   "execution_count": 121,
   "metadata": {},
   "outputs": [
    {
     "data": {
      "text/html": [
       "<strong>png:</strong> 2"
      ],
      "text/latex": [
       "\\textbf{png:} 2"
      ],
      "text/markdown": [
       "**png:** 2"
      ],
      "text/plain": [
       "png \n",
       "  2 "
      ]
     },
     "metadata": {},
     "output_type": "display_data"
    }
   ],
   "source": [
    "pdf(file=\"figure1/k562meta/outs/plot_pdfs/featureoverlap.upsetplot.k562.pdf\")\n",
    "p1\n",
    "dev.off()"
   ]
  },
  {
   "cell_type": "code",
   "execution_count": 123,
   "metadata": {},
   "outputs": [
    {
     "data": {
      "image/png": "[encoded data removed]",
      "text/plain": [
       "plot without title"
      ]
     },
     "metadata": {
      "image/png": {
       "height": 480,
       "width": 900
      }
     },
     "output_type": "display_data"
    }
   ],
   "source": [
    "p1anno"
   ]
  },
  {
   "cell_type": "markdown",
   "metadata": {},
   "source": [
    "### Calculations realted to Figure 1 text"
   ]
  },
  {
   "cell_type": "markdown",
   "metadata": {},
   "source": [
    "#### Feature with greatest overlap"
   ]
  },
  {
   "cell_type": "code",
   "execution_count": 157,
   "metadata": {},
   "outputs": [
    {
     "data": {
      "text/html": [
       "<table class=\"dataframe\">\n",
       "<caption>A tibble: 2 × 7</caption>\n",
       "<thead>\n",
       "\t<tr><th scope=col>feature</th><th scope=col>overlap</th><th scope=col>n</th><th scope=col>total_count</th><th scope=col>percent_bins</th><th scope=col>direct_intersect</th><th scope=col>direction</th></tr>\n",
       "\t<tr><th scope=col>&lt;fct&gt;</th><th scope=col>&lt;dbl&gt;</th><th scope=col>&lt;dbl&gt;</th><th scope=col>&lt;dbl&gt;</th><th scope=col>&lt;dbl&gt;</th><th scope=col>&lt;chr&gt;</th><th scope=col>&lt;chr&gt;</th></tr>\n",
       "</thead>\n",
       "<tbody>\n",
       "\t<tr><td>All_cCREs </td><td>1</td><td>205</td><td>210</td><td>0.9761905</td><td>yes</td><td>enriched</td></tr>\n",
       "\t<tr><td>K562_cCREs</td><td>1</td><td>205</td><td>210</td><td>0.9761905</td><td>yes</td><td>enriched</td></tr>\n",
       "</tbody>\n",
       "</table>\n"
      ],
      "text/latex": [
       "A tibble: 2 × 7\n",
       "\\begin{tabular}{lllllll}\n",
       " feature & overlap & n & total\\_count & percent\\_bins & direct\\_intersect & direction\\\\\n",
       " <fct> & <dbl> & <dbl> & <dbl> & <dbl> & <chr> & <chr>\\\\\n",
       "\\hline\n",
       "\t All\\_cCREs  & 1 & 205 & 210 & 0.9761905 & yes & enriched\\\\\n",
       "\t K562\\_cCREs & 1 & 205 & 210 & 0.9761905 & yes & enriched\\\\\n",
       "\\end{tabular}\n"
      ],
      "text/markdown": [
       "\n",
       "A tibble: 2 × 7\n",
       "\n",
       "| feature &lt;fct&gt; | overlap &lt;dbl&gt; | n &lt;dbl&gt; | total_count &lt;dbl&gt; | percent_bins &lt;dbl&gt; | direct_intersect &lt;chr&gt; | direction &lt;chr&gt; |\n",
       "|---|---|---|---|---|---|---|\n",
       "| All_cCREs  | 1 | 205 | 210 | 0.9761905 | yes | enriched |\n",
       "| K562_cCREs | 1 | 205 | 210 | 0.9761905 | yes | enriched |\n",
       "\n"
      ],
      "text/plain": [
       "  feature    overlap n   total_count percent_bins direct_intersect direction\n",
       "1 All_cCREs  1       205 210         0.9761905    yes              enriched \n",
       "2 K562_cCREs 1       205 210         0.9761905    yes              enriched "
      ]
     },
     "metadata": {},
     "output_type": "display_data"
    }
   ],
   "source": [
    "plotdf %>%\n",
    "slice_max(n,n=1)"
   ]
  },
  {
   "cell_type": "markdown",
   "metadata": {},
   "source": [
    "#### Features with greatest odds ratios"
   ]
  },
  {
   "cell_type": "code",
   "execution_count": 138,
   "metadata": {},
   "outputs": [
    {
     "data": {
      "text/html": [
       "<table class=\"dataframe\">\n",
       "<caption>A data.frame: 3 × 4</caption>\n",
       "<thead>\n",
       "\t<tr><th scope=col>feature</th><th scope=col>pvalue</th><th scope=col>odds_ratio</th><th scope=col>alternative</th></tr>\n",
       "\t<tr><th scope=col>&lt;chr&gt;</th><th scope=col>&lt;dbl&gt;</th><th scope=col>&lt;dbl&gt;</th><th scope=col>&lt;chr&gt;</th></tr>\n",
       "</thead>\n",
       "<tbody>\n",
       "\t<tr><td>K562_H3K27ac</td><td>1.913495e-78</td><td>22.08260</td><td>two.sided</td></tr>\n",
       "\t<tr><td>K562_POLR2A </td><td>1.568287e-64</td><td>14.52758</td><td>two.sided</td></tr>\n",
       "\t<tr><td>K562_H3K4me3</td><td>1.108678e-51</td><td>10.83966</td><td>two.sided</td></tr>\n",
       "</tbody>\n",
       "</table>\n"
      ],
      "text/latex": [
       "A data.frame: 3 × 4\n",
       "\\begin{tabular}{llll}\n",
       " feature & pvalue & odds\\_ratio & alternative\\\\\n",
       " <chr> & <dbl> & <dbl> & <chr>\\\\\n",
       "\\hline\n",
       "\t K562\\_H3K27ac & 1.913495e-78 & 22.08260 & two.sided\\\\\n",
       "\t K562\\_POLR2A  & 1.568287e-64 & 14.52758 & two.sided\\\\\n",
       "\t K562\\_H3K4me3 & 1.108678e-51 & 10.83966 & two.sided\\\\\n",
       "\\end{tabular}\n"
      ],
      "text/markdown": [
       "\n",
       "A data.frame: 3 × 4\n",
       "\n",
       "| feature &lt;chr&gt; | pvalue &lt;dbl&gt; | odds_ratio &lt;dbl&gt; | alternative &lt;chr&gt; |\n",
       "|---|---|---|---|\n",
       "| K562_H3K27ac | 1.913495e-78 | 22.08260 | two.sided |\n",
       "| K562_POLR2A  | 1.568287e-64 | 14.52758 | two.sided |\n",
       "| K562_H3K4me3 | 1.108678e-51 | 10.83966 | two.sided |\n",
       "\n"
      ],
      "text/plain": [
       "  feature      pvalue       odds_ratio alternative\n",
       "1 K562_H3K27ac 1.913495e-78 22.08260   two.sided  \n",
       "2 K562_POLR2A  1.568287e-64 14.52758   two.sided  \n",
       "3 K562_H3K4me3 1.108678e-51 10.83966   two.sided  "
      ]
     },
     "metadata": {},
     "output_type": "display_data"
    }
   ],
   "source": [
    "res %>%\n",
    "slice_max(odds_ratio, n=3)"
   ]
  },
  {
   "cell_type": "markdown",
   "metadata": {},
   "source": [
    "#### Number of CREs with both H3K27ac AND ATAC-seq"
   ]
  },
  {
   "cell_type": "code",
   "execution_count": 139,
   "metadata": {},
   "outputs": [
    {
     "data": {
      "text/html": [
       "148"
      ],
      "text/latex": [
       "148"
      ],
      "text/markdown": [
       "148"
      ],
      "text/plain": [
       "[1] 148"
      ]
     },
     "metadata": {},
     "output_type": "display_data"
    }
   ],
   "source": [
    "workdf2 %>%\n",
    "filter(h3k27ac_k562 == 1 & atac_k562 == 1) %>%\n",
    "select(bin) %>% distinct() %>% count() %>% pull()"
   ]
  },
  {
   "cell_type": "markdown",
   "metadata": {},
   "source": [
    "#### Number of CREs with both H3K27ac AND ATAC-seq OR both H3K27ac AND DNase"
   ]
  },
  {
   "cell_type": "code",
   "execution_count": 140,
   "metadata": {},
   "outputs": [
    {
     "data": {
      "text/html": [
       "158"
      ],
      "text/latex": [
       "158"
      ],
      "text/markdown": [
       "158"
      ],
      "text/plain": [
       "[1] 158"
      ]
     },
     "metadata": {},
     "output_type": "display_data"
    }
   ],
   "source": [
    "workdf2 %>%\n",
    "filter((h3k27ac_k562 == 1 & atac_k562 == 1) | (h3k27ac_k562 == 1 & dnase_k562 == 1)) %>%\n",
    "select(bin) %>% distinct() %>% count() %>% pull()"
   ]
  },
  {
   "cell_type": "markdown",
   "metadata": {},
   "source": [
    "#### Number and percent of CREs with H3K27ac OR ATAC-seq OR DNase"
   ]
  },
  {
   "cell_type": "code",
   "execution_count": 141,
   "metadata": {},
   "outputs": [
    {
     "data": {
      "text/html": [
       "200"
      ],
      "text/latex": [
       "200"
      ],
      "text/markdown": [
       "200"
      ],
      "text/plain": [
       "[1] 200"
      ]
     },
     "metadata": {},
     "output_type": "display_data"
    }
   ],
   "source": [
    "workdf2 %>%\n",
    "filter(h3k27ac_k562 == 1 | atac_k562 == 1 | dnase_k562 == 1) %>%\n",
    "select(bin) %>% distinct() %>% count() %>% pull()"
   ]
  },
  {
   "cell_type": "code",
   "execution_count": 147,
   "metadata": {},
   "outputs": [
    {
     "data": {
      "text/html": [
       "95.2380952380952"
      ],
      "text/latex": [
       "95.2380952380952"
      ],
      "text/markdown": [
       "95.2380952380952"
      ],
      "text/plain": [
       "[1] 95.2381"
      ]
     },
     "metadata": {},
     "output_type": "display_data"
    }
   ],
   "source": [
    "(workdf2 %>%\n",
    "filter(h3k27ac_k562 == 1 | atac_k562 == 1 | dnase_k562 == 1) %>%\n",
    "select(bin) %>% distinct() %>% count() %>% pull()) / (sigregions %>% select(bin) %>% distinct() %>% count() %>% pull()) * 100"
   ]
  },
  {
   "cell_type": "markdown",
   "metadata": {},
   "source": [
    "#### Number and percent of CREs with H3K27ac but no ATAC or DNase"
   ]
  },
  {
   "cell_type": "code",
   "execution_count": 148,
   "metadata": {},
   "outputs": [
    {
     "data": {
      "text/html": [
       "24"
      ],
      "text/latex": [
       "24"
      ],
      "text/markdown": [
       "24"
      ],
      "text/plain": [
       "[1] 24"
      ]
     },
     "metadata": {},
     "output_type": "display_data"
    }
   ],
   "source": [
    "workdf2 %>%\n",
    "filter(h3k27ac_k562 == 1 & atac_k562 == 0 & dnase_k562 == 0) %>%\n",
    "select(bin) %>% distinct() %>% count() %>% pull()"
   ]
  },
  {
   "cell_type": "code",
   "execution_count": 151,
   "metadata": {},
   "outputs": [
    {
     "data": {
      "text/html": [
       "11.4285714285714"
      ],
      "text/latex": [
       "11.4285714285714"
      ],
      "text/markdown": [
       "11.4285714285714"
      ],
      "text/plain": [
       "[1] 11.42857"
      ]
     },
     "metadata": {},
     "output_type": "display_data"
    }
   ],
   "source": [
    "workdf2 %>%\n",
    "filter(h3k27ac_k562 == 1 & atac_k562 == 0 & dnase_k562 == 0) %>%\n",
    "select(bin) %>% distinct() %>% count() %>% pull() / (sigregions %>% select(bin) %>% distinct() %>% count() %>% pull()) * 100"
   ]
  },
  {
   "cell_type": "markdown",
   "metadata": {},
   "source": [
    "#### Number and percent of CREs with ATAC or DNase but not H3K27ac"
   ]
  },
  {
   "cell_type": "code",
   "execution_count": 150,
   "metadata": {},
   "outputs": [
    {
     "data": {
      "text/html": [
       "18"
      ],
      "text/latex": [
       "18"
      ],
      "text/markdown": [
       "18"
      ],
      "text/plain": [
       "[1] 18"
      ]
     },
     "metadata": {},
     "output_type": "display_data"
    }
   ],
   "source": [
    "workdf2 %>%\n",
    "filter((h3k27ac_k562 == 0 & atac_k562 == 1) | (h3k27ac_k562 == 0 & dnase_k562 == 1)) %>%\n",
    "select(bin) %>% distinct() %>% count() %>% pull()"
   ]
  },
  {
   "cell_type": "code",
   "execution_count": 152,
   "metadata": {},
   "outputs": [
    {
     "data": {
      "text/html": [
       "8.57142857142857"
      ],
      "text/latex": [
       "8.57142857142857"
      ],
      "text/markdown": [
       "8.57142857142857"
      ],
      "text/plain": [
       "[1] 8.571429"
      ]
     },
     "metadata": {},
     "output_type": "display_data"
    }
   ],
   "source": [
    "workdf2 %>%\n",
    "filter((h3k27ac_k562 == 0 & atac_k562 == 1) | (h3k27ac_k562 == 0 & dnase_k562 == 1)) %>%\n",
    "select(bin) %>% distinct() %>% count() %>% pull() / (sigregions %>% select(bin) %>% distinct() %>% count() %>% pull()) * 100"
   ]
  },
  {
   "cell_type": "markdown",
   "metadata": {},
   "source": [
    "#### Regions that lack H3K27ac and ATAC/DNase"
   ]
  },
  {
   "cell_type": "code",
   "execution_count": 130,
   "metadata": {},
   "outputs": [
    {
     "data": {
      "text/html": [
       "<table class=\"dataframe\">\n",
       "<caption>A data.frame: 10 × 17</caption>\n",
       "<thead>\n",
       "\t<tr><th scope=col>bin</th><th scope=col>dnase_union</th><th scope=col>ccre_all</th><th scope=col>ccre_k562</th><th scope=col>dnase_k562</th><th scope=col>atac_k562</th><th scope=col>h3k27ac_k562</th><th scope=col>h3k4me1_k562</th><th scope=col>h3k4me3_k562</th><th scope=col>h3k9me3_k562</th><th scope=col>h3k27me3_k562</th><th scope=col>ep300_k562</th><th scope=col>ctcf_k562</th><th scope=col>polr2a_k562</th><th scope=col>rampage_k562</th><th scope=col>cage_k562</th><th scope=col>grocap_capped_k562</th></tr>\n",
       "\t<tr><th scope=col>&lt;chr&gt;</th><th scope=col>&lt;dbl&gt;</th><th scope=col>&lt;dbl&gt;</th><th scope=col>&lt;dbl&gt;</th><th scope=col>&lt;dbl&gt;</th><th scope=col>&lt;dbl&gt;</th><th scope=col>&lt;dbl&gt;</th><th scope=col>&lt;dbl&gt;</th><th scope=col>&lt;dbl&gt;</th><th scope=col>&lt;dbl&gt;</th><th scope=col>&lt;dbl&gt;</th><th scope=col>&lt;dbl&gt;</th><th scope=col>&lt;dbl&gt;</th><th scope=col>&lt;dbl&gt;</th><th scope=col>&lt;dbl&gt;</th><th scope=col>&lt;dbl&gt;</th><th scope=col>&lt;dbl&gt;</th></tr>\n",
       "</thead>\n",
       "<tbody>\n",
       "\t<tr><td>chr4:55602900-55607000   </td><td>1</td><td>1</td><td>1</td><td>0</td><td>0</td><td>0</td><td>0</td><td>0</td><td>0</td><td>0</td><td>0</td><td>0</td><td>0</td><td>0</td><td>0</td><td>0</td></tr>\n",
       "\t<tr><td>chr4:55608900-55611000   </td><td>1</td><td>1</td><td>1</td><td>0</td><td>0</td><td>0</td><td>0</td><td>0</td><td>0</td><td>0</td><td>0</td><td>0</td><td>1</td><td>0</td><td>0</td><td>0</td></tr>\n",
       "\t<tr><td>chr4:55810900-55812000   </td><td>0</td><td>0</td><td>0</td><td>0</td><td>0</td><td>0</td><td>0</td><td>0</td><td>0</td><td>0</td><td>0</td><td>0</td><td>0</td><td>0</td><td>0</td><td>0</td></tr>\n",
       "\t<tr><td>chr11:34085800-34086900  </td><td>1</td><td>1</td><td>1</td><td>0</td><td>0</td><td>0</td><td>0</td><td>0</td><td>0</td><td>0</td><td>0</td><td>0</td><td>1</td><td>0</td><td>0</td><td>0</td></tr>\n",
       "\t<tr><td>chr11:61796700-61797200  </td><td>1</td><td>1</td><td>1</td><td>0</td><td>0</td><td>0</td><td>1</td><td>0</td><td>0</td><td>0</td><td>0</td><td>0</td><td>1</td><td>0</td><td>0</td><td>0</td></tr>\n",
       "\t<tr><td>chr11:61864500-61864800  </td><td>0</td><td>0</td><td>0</td><td>0</td><td>0</td><td>0</td><td>0</td><td>0</td><td>0</td><td>0</td><td>0</td><td>0</td><td>0</td><td>0</td><td>0</td><td>0</td></tr>\n",
       "\t<tr><td>chr11:61892600-61893000  </td><td>1</td><td>1</td><td>1</td><td>0</td><td>0</td><td>0</td><td>0</td><td>0</td><td>0</td><td>0</td><td>0</td><td>0</td><td>0</td><td>0</td><td>0</td><td>0</td></tr>\n",
       "\t<tr><td>chr12:111995000-111995700</td><td>1</td><td>1</td><td>1</td><td>0</td><td>0</td><td>0</td><td>1</td><td>1</td><td>0</td><td>0</td><td>0</td><td>0</td><td>0</td><td>0</td><td>0</td><td>1</td></tr>\n",
       "\t<tr><td>chr19:12936400-12937000  </td><td>1</td><td>1</td><td>1</td><td>0</td><td>0</td><td>0</td><td>1</td><td>0</td><td>0</td><td>0</td><td>0</td><td>0</td><td>0</td><td>0</td><td>0</td><td>0</td></tr>\n",
       "\t<tr><td>chrX:47542000-47542700   </td><td>1</td><td>1</td><td>1</td><td>0</td><td>0</td><td>0</td><td>1</td><td>0</td><td>0</td><td>0</td><td>0</td><td>0</td><td>0</td><td>0</td><td>0</td><td>0</td></tr>\n",
       "</tbody>\n",
       "</table>\n"
      ],
      "text/latex": [
       "A data.frame: 10 × 17\n",
       "\\begin{tabular}{lllllllllllllllll}\n",
       " bin & dnase\\_union & ccre\\_all & ccre\\_k562 & dnase\\_k562 & atac\\_k562 & h3k27ac\\_k562 & h3k4me1\\_k562 & h3k4me3\\_k562 & h3k9me3\\_k562 & h3k27me3\\_k562 & ep300\\_k562 & ctcf\\_k562 & polr2a\\_k562 & rampage\\_k562 & cage\\_k562 & grocap\\_capped\\_k562\\\\\n",
       " <chr> & <dbl> & <dbl> & <dbl> & <dbl> & <dbl> & <dbl> & <dbl> & <dbl> & <dbl> & <dbl> & <dbl> & <dbl> & <dbl> & <dbl> & <dbl> & <dbl>\\\\\n",
       "\\hline\n",
       "\t chr4:55602900-55607000    & 1 & 1 & 1 & 0 & 0 & 0 & 0 & 0 & 0 & 0 & 0 & 0 & 0 & 0 & 0 & 0\\\\\n",
       "\t chr4:55608900-55611000    & 1 & 1 & 1 & 0 & 0 & 0 & 0 & 0 & 0 & 0 & 0 & 0 & 1 & 0 & 0 & 0\\\\\n",
       "\t chr4:55810900-55812000    & 0 & 0 & 0 & 0 & 0 & 0 & 0 & 0 & 0 & 0 & 0 & 0 & 0 & 0 & 0 & 0\\\\\n",
       "\t chr11:34085800-34086900   & 1 & 1 & 1 & 0 & 0 & 0 & 0 & 0 & 0 & 0 & 0 & 0 & 1 & 0 & 0 & 0\\\\\n",
       "\t chr11:61796700-61797200   & 1 & 1 & 1 & 0 & 0 & 0 & 1 & 0 & 0 & 0 & 0 & 0 & 1 & 0 & 0 & 0\\\\\n",
       "\t chr11:61864500-61864800   & 0 & 0 & 0 & 0 & 0 & 0 & 0 & 0 & 0 & 0 & 0 & 0 & 0 & 0 & 0 & 0\\\\\n",
       "\t chr11:61892600-61893000   & 1 & 1 & 1 & 0 & 0 & 0 & 0 & 0 & 0 & 0 & 0 & 0 & 0 & 0 & 0 & 0\\\\\n",
       "\t chr12:111995000-111995700 & 1 & 1 & 1 & 0 & 0 & 0 & 1 & 1 & 0 & 0 & 0 & 0 & 0 & 0 & 0 & 1\\\\\n",
       "\t chr19:12936400-12937000   & 1 & 1 & 1 & 0 & 0 & 0 & 1 & 0 & 0 & 0 & 0 & 0 & 0 & 0 & 0 & 0\\\\\n",
       "\t chrX:47542000-47542700    & 1 & 1 & 1 & 0 & 0 & 0 & 1 & 0 & 0 & 0 & 0 & 0 & 0 & 0 & 0 & 0\\\\\n",
       "\\end{tabular}\n"
      ],
      "text/markdown": [
       "\n",
       "A data.frame: 10 × 17\n",
       "\n",
       "| bin &lt;chr&gt; | dnase_union &lt;dbl&gt; | ccre_all &lt;dbl&gt; | ccre_k562 &lt;dbl&gt; | dnase_k562 &lt;dbl&gt; | atac_k562 &lt;dbl&gt; | h3k27ac_k562 &lt;dbl&gt; | h3k4me1_k562 &lt;dbl&gt; | h3k4me3_k562 &lt;dbl&gt; | h3k9me3_k562 &lt;dbl&gt; | h3k27me3_k562 &lt;dbl&gt; | ep300_k562 &lt;dbl&gt; | ctcf_k562 &lt;dbl&gt; | polr2a_k562 &lt;dbl&gt; | rampage_k562 &lt;dbl&gt; | cage_k562 &lt;dbl&gt; | grocap_capped_k562 &lt;dbl&gt; |\n",
       "|---|---|---|---|---|---|---|---|---|---|---|---|---|---|---|---|---|\n",
       "| chr4:55602900-55607000    | 1 | 1 | 1 | 0 | 0 | 0 | 0 | 0 | 0 | 0 | 0 | 0 | 0 | 0 | 0 | 0 |\n",
       "| chr4:55608900-55611000    | 1 | 1 | 1 | 0 | 0 | 0 | 0 | 0 | 0 | 0 | 0 | 0 | 1 | 0 | 0 | 0 |\n",
       "| chr4:55810900-55812000    | 0 | 0 | 0 | 0 | 0 | 0 | 0 | 0 | 0 | 0 | 0 | 0 | 0 | 0 | 0 | 0 |\n",
       "| chr11:34085800-34086900   | 1 | 1 | 1 | 0 | 0 | 0 | 0 | 0 | 0 | 0 | 0 | 0 | 1 | 0 | 0 | 0 |\n",
       "| chr11:61796700-61797200   | 1 | 1 | 1 | 0 | 0 | 0 | 1 | 0 | 0 | 0 | 0 | 0 | 1 | 0 | 0 | 0 |\n",
       "| chr11:61864500-61864800   | 0 | 0 | 0 | 0 | 0 | 0 | 0 | 0 | 0 | 0 | 0 | 0 | 0 | 0 | 0 | 0 |\n",
       "| chr11:61892600-61893000   | 1 | 1 | 1 | 0 | 0 | 0 | 0 | 0 | 0 | 0 | 0 | 0 | 0 | 0 | 0 | 0 |\n",
       "| chr12:111995000-111995700 | 1 | 1 | 1 | 0 | 0 | 0 | 1 | 1 | 0 | 0 | 0 | 0 | 0 | 0 | 0 | 1 |\n",
       "| chr19:12936400-12937000   | 1 | 1 | 1 | 0 | 0 | 0 | 1 | 0 | 0 | 0 | 0 | 0 | 0 | 0 | 0 | 0 |\n",
       "| chrX:47542000-47542700    | 1 | 1 | 1 | 0 | 0 | 0 | 1 | 0 | 0 | 0 | 0 | 0 | 0 | 0 | 0 | 0 |\n",
       "\n"
      ],
      "text/plain": [
       "   bin                       dnase_union ccre_all ccre_k562 dnase_k562\n",
       "1  chr4:55602900-55607000    1           1        1         0         \n",
       "2  chr4:55608900-55611000    1           1        1         0         \n",
       "3  chr4:55810900-55812000    0           0        0         0         \n",
       "4  chr11:34085800-34086900   1           1        1         0         \n",
       "5  chr11:61796700-61797200   1           1        1         0         \n",
       "6  chr11:61864500-61864800   0           0        0         0         \n",
       "7  chr11:61892600-61893000   1           1        1         0         \n",
       "8  chr12:111995000-111995700 1           1        1         0         \n",
       "9  chr19:12936400-12937000   1           1        1         0         \n",
       "10 chrX:47542000-47542700    1           1        1         0         \n",
       "   atac_k562 h3k27ac_k562 h3k4me1_k562 h3k4me3_k562 h3k9me3_k562 h3k27me3_k562\n",
       "1  0         0            0            0            0            0            \n",
       "2  0         0            0            0            0            0            \n",
       "3  0         0            0            0            0            0            \n",
       "4  0         0            0            0            0            0            \n",
       "5  0         0            1            0            0            0            \n",
       "6  0         0            0            0            0            0            \n",
       "7  0         0            0            0            0            0            \n",
       "8  0         0            1            1            0            0            \n",
       "9  0         0            1            0            0            0            \n",
       "10 0         0            1            0            0            0            \n",
       "   ep300_k562 ctcf_k562 polr2a_k562 rampage_k562 cage_k562 grocap_capped_k562\n",
       "1  0          0         0           0            0         0                 \n",
       "2  0          0         1           0            0         0                 \n",
       "3  0          0         0           0            0         0                 \n",
       "4  0          0         1           0            0         0                 \n",
       "5  0          0         1           0            0         0                 \n",
       "6  0          0         0           0            0         0                 \n",
       "7  0          0         0           0            0         0                 \n",
       "8  0          0         0           0            0         1                 \n",
       "9  0          0         0           0            0         0                 \n",
       "10 0          0         0           0            0         0                 "
      ]
     },
     "metadata": {},
     "output_type": "display_data"
    }
   ],
   "source": [
    "workdf2 %>%\n",
    "filter(h3k27ac_k562 == 0 & atac_k562 == 0 & dnase_k562 == 0) "
   ]
  },
  {
   "cell_type": "markdown",
   "metadata": {},
   "source": [
    "#### Browser track screenshots for CREs that lack all features\n",
    "\n",
    "Note that the cCRE tracks included in the browser track images are the v3 SCREEN cCREs while the v4 set was used for all analyses."
   ]
  },
  {
   "attachments": {
    "image.png": {
     "image/png": "[encoded data removed]"
    }
   },
   "cell_type": "markdown",
   "metadata": {},
   "source": [
    "![image.png](attachment:image.png)"
   ]
  },
  {
   "attachments": {
    "image.png": {
     "image/png": "[encoded data removed]"
    }
   },
   "cell_type": "markdown",
   "metadata": {},
   "source": [
    "![image.png](attachment:image.png)"
   ]
  },
  {
   "cell_type": "code",
   "execution_count": null,
   "metadata": {},
   "outputs": [],
   "source": []
  },
  {
   "cell_type": "code",
   "execution_count": null,
   "metadata": {},
   "outputs": [],
   "source": []
  }
 ],
 "metadata": {
  "kernelspec": {
   "display_name": "R 4.1",
   "language": "R",
   "name": "ir41"
  },
  "language_info": {
   "codemirror_mode": "r",
   "file_extension": ".r",
   "mimetype": "text/x-r-source",
   "name": "R",
   "pygments_lexer": "r",
   "version": "4.1.3"
  }
 },
 "nbformat": 4,
 "nbformat_minor": 2
}
