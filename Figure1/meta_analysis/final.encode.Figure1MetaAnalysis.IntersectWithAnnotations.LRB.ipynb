{
 "cells": [
  {
   "cell_type": "markdown",
   "metadata": {},
   "source": [
    "## Download annotation files to new directory\n",
    "\n",
    "Please see supplemental tables for where to download files."
   ]
  },
  {
   "cell_type": "markdown",
   "metadata": {},
   "source": [
    "## Intersect with annotations"
   ]
  },
  {
   "cell_type": "markdown",
   "metadata": {},
   "source": [
    "### ENCODE cCREs (`v3` and `v4`), all biosamples, direction intersection"
   ]
  },
  {
   "cell_type": "markdown",
   "metadata": {},
   "source": [
    "#### v3, Perturbed"
   ]
  },
  {
   "cell_type": "code",
   "execution_count": 2,
   "metadata": {},
   "outputs": [
    {
     "name": "stdout",
     "output_type": "stream",
     "text": [
      "38809\n"
     ]
    }
   ],
   "source": [
    "%%bash\n",
    "module load bedtools2\n",
    "\n",
    "bedtools intersect \\\n",
    "-b allmeta/elementReference/combined/binnedgenome.int.elementReference.20230619.merge.bed \\\n",
    "-a annotations/encode.ccres.v3.hg38.bed \\\n",
    "-wa -u | wc -l "
   ]
  },
  {
   "cell_type": "markdown",
   "metadata": {},
   "source": [
    "#### v3, Significant"
   ]
  },
  {
   "cell_type": "code",
   "execution_count": 3,
   "metadata": {},
   "outputs": [
    {
     "name": "stdout",
     "output_type": "stream",
     "text": [
      "2058\n"
     ]
    }
   ],
   "source": [
    "%%bash\n",
    "module load bedtools2\n",
    "\n",
    "bedtools intersect \\\n",
    "-b allmeta/elementQuant/combined/binnedgenome.int.elementQuant.20230411.merge.bed \\\n",
    "-a annotations/encode.ccres.v3.hg38.bed \\\n",
    "-wa -u | wc -l"
   ]
  },
  {
   "cell_type": "markdown",
   "metadata": {},
   "source": [
    "#### v4, Perturbed"
   ]
  },
  {
   "cell_type": "code",
   "execution_count": 4,
   "metadata": {},
   "outputs": [
    {
     "name": "stdout",
     "output_type": "stream",
     "text": [
      "53197\n"
     ]
    }
   ],
   "source": [
    "%%bash\n",
    "module load bedtools2\n",
    "\n",
    "bedtools intersect \\\n",
    "-b allmeta/elementReference/combined/binnedgenome.int.elementReference.20230619.merge.bed \\\n",
    "-a annotations/encode.ccres.v4.hg38.bed.gz \\\n",
    "-wa -u | wc -l"
   ]
  },
  {
   "cell_type": "markdown",
   "metadata": {},
   "source": [
    "#### v4, Significant"
   ]
  },
  {
   "cell_type": "code",
   "execution_count": 5,
   "metadata": {},
   "outputs": [
    {
     "name": "stdout",
     "output_type": "stream",
     "text": [
      "2547\n"
     ]
    }
   ],
   "source": [
    "%%bash\n",
    "module load bedtools2\n",
    "\n",
    "bedtools intersect \\\n",
    "-b allmeta/elementQuant/combined/binnedgenome.int.elementQuant.20230411.merge.bed \\\n",
    "-a annotations/encode.ccres.v4.hg38.bed.gz \\\n",
    "-wa -u | wc -l"
   ]
  },
  {
   "cell_type": "markdown",
   "metadata": {},
   "source": [
    "#### For v4, get the number of cCREs per region perturbed or significant"
   ]
  },
  {
   "cell_type": "code",
   "execution_count": 7,
   "metadata": {},
   "outputs": [],
   "source": [
    "%%bash\n",
    "module load bedtools2\n",
    "\n",
    "bedtools intersect \\\n",
    "-a allmeta/elementReference/combined/binnedgenome.int.elementReference.20230619.merge.bed \\\n",
    "-b annotations/encode.ccres.v4.hg38.bed.gz \\\n",
    "-c > allmeta/outs/binnedgenome.int.elementReference.20230619.merge.int.cCREs.count.txt"
   ]
  },
  {
   "cell_type": "code",
   "execution_count": 8,
   "metadata": {},
   "outputs": [],
   "source": [
    "%%bash\n",
    "module load bedtools2\n",
    "\n",
    "bedtools intersect \\\n",
    "-a allmeta/elementQuant/combined/binnedgenome.int.elementQuant.20230411.merge.bed \\\n",
    "-b annotations/encode.ccres.v4.hg38.bed.gz \\\n",
    "-c > allmeta/outs/binnedgenome.int.elementQuant.20230411.merge.int.cCREs.count.txt"
   ]
  },
  {
   "cell_type": "markdown",
   "metadata": {},
   "source": [
    "#### Calculate percent of cCREs perturbed and percent of perturbed cCREs that overlapped a significant element"
   ]
  },
  {
   "cell_type": "code",
   "execution_count": 9,
   "metadata": {},
   "outputs": [
    {
     "data": {
      "text/plain": [
       "2.2648065822737387"
      ]
     },
     "execution_count": 9,
     "metadata": {},
     "output_type": "execute_result"
    }
   ],
   "source": [
    "53197/2348854*100"
   ]
  },
  {
   "cell_type": "code",
   "execution_count": 10,
   "metadata": {},
   "outputs": [
    {
     "data": {
      "text/plain": [
       "4.787863977291953"
      ]
     },
     "execution_count": 10,
     "metadata": {},
     "output_type": "execute_result"
    }
   ],
   "source": [
    "2547/53197*100"
   ]
  },
  {
   "cell_type": "markdown",
   "metadata": {},
   "source": [
    "#### Plot distribution of cCREs per perturbed and per significant element"
   ]
  },
  {
   "cell_type": "code",
   "execution_count": 1,
   "metadata": {},
   "outputs": [],
   "source": [
    "import pandas as pd\n",
    "import matplotlib.pyplot as plt\n",
    "import seaborn as sns"
   ]
  },
  {
   "cell_type": "code",
   "execution_count": 11,
   "metadata": {},
   "outputs": [
    {
     "data": {
      "text/html": [
       "<div>\n",
       "<style scoped>\n",
       "    .dataframe tbody tr th:only-of-type {\n",
       "        vertical-align: middle;\n",
       "    }\n",
       "\n",
       "    .dataframe tbody tr th {\n",
       "        vertical-align: top;\n",
       "    }\n",
       "\n",
       "    .dataframe thead th {\n",
       "        text-align: right;\n",
       "    }\n",
       "</style>\n",
       "<table border=\"1\" class=\"dataframe\">\n",
       "  <thead>\n",
       "    <tr style=\"text-align: right;\">\n",
       "      <th></th>\n",
       "      <th>chr</th>\n",
       "      <th>start</th>\n",
       "      <th>end</th>\n",
       "      <th>cCRE_count</th>\n",
       "      <th>region_type</th>\n",
       "    </tr>\n",
       "  </thead>\n",
       "  <tbody>\n",
       "    <tr>\n",
       "      <td>0</td>\n",
       "      <td>chr1</td>\n",
       "      <td>975500</td>\n",
       "      <td>976600</td>\n",
       "      <td>3</td>\n",
       "      <td>perturbed</td>\n",
       "    </tr>\n",
       "    <tr>\n",
       "      <td>1</td>\n",
       "      <td>chr1</td>\n",
       "      <td>1023900</td>\n",
       "      <td>1025700</td>\n",
       "      <td>5</td>\n",
       "      <td>perturbed</td>\n",
       "    </tr>\n",
       "    <tr>\n",
       "      <td>2</td>\n",
       "      <td>chr1</td>\n",
       "      <td>1032200</td>\n",
       "      <td>1033100</td>\n",
       "      <td>2</td>\n",
       "      <td>perturbed</td>\n",
       "    </tr>\n",
       "    <tr>\n",
       "      <td>3</td>\n",
       "      <td>chr1</td>\n",
       "      <td>1041000</td>\n",
       "      <td>1042300</td>\n",
       "      <td>4</td>\n",
       "      <td>perturbed</td>\n",
       "    </tr>\n",
       "    <tr>\n",
       "      <td>4</td>\n",
       "      <td>chr1</td>\n",
       "      <td>1062900</td>\n",
       "      <td>1063800</td>\n",
       "      <td>3</td>\n",
       "      <td>perturbed</td>\n",
       "    </tr>\n",
       "  </tbody>\n",
       "</table>\n",
       "</div>"
      ],
      "text/plain": [
       "    chr    start      end  cCRE_count region_type\n",
       "0  chr1   975500   976600           3   perturbed\n",
       "1  chr1  1023900  1025700           5   perturbed\n",
       "2  chr1  1032200  1033100           2   perturbed\n",
       "3  chr1  1041000  1042300           4   perturbed\n",
       "4  chr1  1062900  1063800           3   perturbed"
      ]
     },
     "execution_count": 11,
     "metadata": {},
     "output_type": "execute_result"
    }
   ],
   "source": [
    "df1 = pd.read_csv('allmeta/outs/binnedgenome.int.elementReference.20230619.merge.int.cCREs.count.txt',\n",
    "                   sep='\\t', header = None)\n",
    "\n",
    "df1.columns = ['chr', 'start', 'end', 'cCRE_count']\n",
    "df1['region_type'] = \"perturbed\"\n",
    "df1.head()"
   ]
  },
  {
   "cell_type": "code",
   "execution_count": 12,
   "metadata": {},
   "outputs": [
    {
     "data": {
      "text/html": [
       "<div>\n",
       "<style scoped>\n",
       "    .dataframe tbody tr th:only-of-type {\n",
       "        vertical-align: middle;\n",
       "    }\n",
       "\n",
       "    .dataframe tbody tr th {\n",
       "        vertical-align: top;\n",
       "    }\n",
       "\n",
       "    .dataframe thead th {\n",
       "        text-align: right;\n",
       "    }\n",
       "</style>\n",
       "<table border=\"1\" class=\"dataframe\">\n",
       "  <thead>\n",
       "    <tr style=\"text-align: right;\">\n",
       "      <th></th>\n",
       "      <th>chr</th>\n",
       "      <th>start</th>\n",
       "      <th>end</th>\n",
       "      <th>cCRE_count</th>\n",
       "      <th>region_type</th>\n",
       "    </tr>\n",
       "  </thead>\n",
       "  <tbody>\n",
       "    <tr>\n",
       "      <td>0</td>\n",
       "      <td>chr1</td>\n",
       "      <td>1411500</td>\n",
       "      <td>1411800</td>\n",
       "      <td>2</td>\n",
       "      <td>significant</td>\n",
       "    </tr>\n",
       "    <tr>\n",
       "      <td>1</td>\n",
       "      <td>chr1</td>\n",
       "      <td>3675300</td>\n",
       "      <td>3676000</td>\n",
       "      <td>3</td>\n",
       "      <td>significant</td>\n",
       "    </tr>\n",
       "    <tr>\n",
       "      <td>2</td>\n",
       "      <td>chr1</td>\n",
       "      <td>6475300</td>\n",
       "      <td>6475700</td>\n",
       "      <td>2</td>\n",
       "      <td>significant</td>\n",
       "    </tr>\n",
       "    <tr>\n",
       "      <td>3</td>\n",
       "      <td>chr1</td>\n",
       "      <td>6859300</td>\n",
       "      <td>6861400</td>\n",
       "      <td>4</td>\n",
       "      <td>significant</td>\n",
       "    </tr>\n",
       "    <tr>\n",
       "      <td>4</td>\n",
       "      <td>chr1</td>\n",
       "      <td>8049700</td>\n",
       "      <td>8050700</td>\n",
       "      <td>1</td>\n",
       "      <td>significant</td>\n",
       "    </tr>\n",
       "  </tbody>\n",
       "</table>\n",
       "</div>"
      ],
      "text/plain": [
       "    chr    start      end  cCRE_count  region_type\n",
       "0  chr1  1411500  1411800           2  significant\n",
       "1  chr1  3675300  3676000           3  significant\n",
       "2  chr1  6475300  6475700           2  significant\n",
       "3  chr1  6859300  6861400           4  significant\n",
       "4  chr1  8049700  8050700           1  significant"
      ]
     },
     "execution_count": 12,
     "metadata": {},
     "output_type": "execute_result"
    }
   ],
   "source": [
    "df2 = pd.read_csv('allmeta/outs/binnedgenome.int.elementQuant.20230411.merge.int.cCREs.count.txt',\n",
    "                   sep='\\t', header = None)\n",
    "\n",
    "df2.columns = ['chr', 'start', 'end', 'cCRE_count']\n",
    "df2['region_type'] = \"significant\"\n",
    "df2.head()"
   ]
  },
  {
   "cell_type": "code",
   "execution_count": 13,
   "metadata": {},
   "outputs": [
    {
     "data": {
      "text/html": [
       "<div>\n",
       "<style scoped>\n",
       "    .dataframe tbody tr th:only-of-type {\n",
       "        vertical-align: middle;\n",
       "    }\n",
       "\n",
       "    .dataframe tbody tr th {\n",
       "        vertical-align: top;\n",
       "    }\n",
       "\n",
       "    .dataframe thead th {\n",
       "        text-align: right;\n",
       "    }\n",
       "</style>\n",
       "<table border=\"1\" class=\"dataframe\">\n",
       "  <thead>\n",
       "    <tr style=\"text-align: right;\">\n",
       "      <th></th>\n",
       "      <th>chr</th>\n",
       "      <th>start</th>\n",
       "      <th>end</th>\n",
       "      <th>cCRE_count</th>\n",
       "      <th>region_type</th>\n",
       "    </tr>\n",
       "  </thead>\n",
       "  <tbody>\n",
       "    <tr>\n",
       "      <td>0</td>\n",
       "      <td>chr1</td>\n",
       "      <td>975500</td>\n",
       "      <td>976600</td>\n",
       "      <td>3</td>\n",
       "      <td>perturbed</td>\n",
       "    </tr>\n",
       "    <tr>\n",
       "      <td>1</td>\n",
       "      <td>chr1</td>\n",
       "      <td>1023900</td>\n",
       "      <td>1025700</td>\n",
       "      <td>5</td>\n",
       "      <td>perturbed</td>\n",
       "    </tr>\n",
       "    <tr>\n",
       "      <td>2</td>\n",
       "      <td>chr1</td>\n",
       "      <td>1032200</td>\n",
       "      <td>1033100</td>\n",
       "      <td>2</td>\n",
       "      <td>perturbed</td>\n",
       "    </tr>\n",
       "    <tr>\n",
       "      <td>3</td>\n",
       "      <td>chr1</td>\n",
       "      <td>1041000</td>\n",
       "      <td>1042300</td>\n",
       "      <td>4</td>\n",
       "      <td>perturbed</td>\n",
       "    </tr>\n",
       "    <tr>\n",
       "      <td>4</td>\n",
       "      <td>chr1</td>\n",
       "      <td>1062900</td>\n",
       "      <td>1063800</td>\n",
       "      <td>3</td>\n",
       "      <td>perturbed</td>\n",
       "    </tr>\n",
       "  </tbody>\n",
       "</table>\n",
       "</div>"
      ],
      "text/plain": [
       "    chr    start      end  cCRE_count region_type\n",
       "0  chr1   975500   976600           3   perturbed\n",
       "1  chr1  1023900  1025700           5   perturbed\n",
       "2  chr1  1032200  1033100           2   perturbed\n",
       "3  chr1  1041000  1042300           4   perturbed\n",
       "4  chr1  1062900  1063800           3   perturbed"
      ]
     },
     "execution_count": 13,
     "metadata": {},
     "output_type": "execute_result"
    }
   ],
   "source": [
    "plotdf = pd.concat([df1, df2], sort = False)\n",
    "plotdf.head()"
   ]
  },
  {
   "cell_type": "code",
   "execution_count": 14,
   "metadata": {},
   "outputs": [
    {
     "data": {
      "text/html": [
       "<div>\n",
       "<style scoped>\n",
       "    .dataframe tbody tr th:only-of-type {\n",
       "        vertical-align: middle;\n",
       "    }\n",
       "\n",
       "    .dataframe tbody tr th {\n",
       "        vertical-align: top;\n",
       "    }\n",
       "\n",
       "    .dataframe thead tr th {\n",
       "        text-align: left;\n",
       "    }\n",
       "\n",
       "    .dataframe thead tr:last-of-type th {\n",
       "        text-align: right;\n",
       "    }\n",
       "</style>\n",
       "<table border=\"1\" class=\"dataframe\">\n",
       "  <thead>\n",
       "    <tr>\n",
       "      <th></th>\n",
       "      <th colspan=\"8\" halign=\"left\">cCRE_count</th>\n",
       "    </tr>\n",
       "    <tr>\n",
       "      <th></th>\n",
       "      <th>count</th>\n",
       "      <th>mean</th>\n",
       "      <th>std</th>\n",
       "      <th>min</th>\n",
       "      <th>25%</th>\n",
       "      <th>50%</th>\n",
       "      <th>75%</th>\n",
       "      <th>max</th>\n",
       "    </tr>\n",
       "    <tr>\n",
       "      <th>region_type</th>\n",
       "      <th></th>\n",
       "      <th></th>\n",
       "      <th></th>\n",
       "      <th></th>\n",
       "      <th></th>\n",
       "      <th></th>\n",
       "      <th></th>\n",
       "      <th></th>\n",
       "    </tr>\n",
       "  </thead>\n",
       "  <tbody>\n",
       "    <tr>\n",
       "      <td>perturbed</td>\n",
       "      <td>20678.0</td>\n",
       "      <td>2.614953</td>\n",
       "      <td>4.328342</td>\n",
       "      <td>0.0</td>\n",
       "      <td>1.0</td>\n",
       "      <td>2.0</td>\n",
       "      <td>3.0</td>\n",
       "      <td>236.0</td>\n",
       "    </tr>\n",
       "    <tr>\n",
       "      <td>significant</td>\n",
       "      <td>865.0</td>\n",
       "      <td>2.949133</td>\n",
       "      <td>3.168450</td>\n",
       "      <td>0.0</td>\n",
       "      <td>1.0</td>\n",
       "      <td>2.0</td>\n",
       "      <td>3.0</td>\n",
       "      <td>32.0</td>\n",
       "    </tr>\n",
       "  </tbody>\n",
       "</table>\n",
       "</div>"
      ],
      "text/plain": [
       "            cCRE_count                                               \n",
       "                 count      mean       std  min  25%  50%  75%    max\n",
       "region_type                                                          \n",
       "perturbed      20678.0  2.614953  4.328342  0.0  1.0  2.0  3.0  236.0\n",
       "significant      865.0  2.949133  3.168450  0.0  1.0  2.0  3.0   32.0"
      ]
     },
     "execution_count": 14,
     "metadata": {},
     "output_type": "execute_result"
    }
   ],
   "source": [
    "plotdf[[\"cCRE_count\",\"region_type\"]].groupby('region_type').describe()"
   ]
  },
  {
   "cell_type": "markdown",
   "metadata": {},
   "source": [
    "Presumably the perturbed regions with many (>100 cCREs) are tiling screens (and after merging adjacent regions), the majority of the locus is targeted."
   ]
  },
  {
   "cell_type": "code",
   "execution_count": 15,
   "metadata": {},
   "outputs": [
    {
     "data": {
      "text/plain": [
       "array([<matplotlib.axes._subplots.AxesSubplot object at 0x2ae5efec5748>,\n",
       "       <matplotlib.axes._subplots.AxesSubplot object at 0x2ae5eff26e48>],\n",
       "      dtype=object)"
      ]
     },
     "execution_count": 15,
     "metadata": {},
     "output_type": "execute_result"
    },
    {
     "data": {
      "text/plain": [
       "<Figure size 720x360 with 0 Axes>"
      ]
     },
     "metadata": {},
     "output_type": "display_data"
    },
    {
     "data": {
      "image/png": "[encoded data removed]",
      "text/plain": [
       "<Figure size 432x288 with 2 Axes>"
      ]
     },
     "metadata": {
      "needs_background": "light"
     },
     "output_type": "display_data"
    }
   ],
   "source": [
    "fig = plt.figure(figsize = (10, 5))\n",
    " \n",
    "# creating the bar plot\n",
    "plotdf['cCRE_count'].hist(by=plotdf['region_type'], edgecolor='black') "
   ]
  },
  {
   "cell_type": "markdown",
   "metadata": {},
   "source": [
    "### ENCODE cCREs (only `v4`), all biosamples, window +/- 100bp"
   ]
  },
  {
   "cell_type": "markdown",
   "metadata": {},
   "source": [
    "#### v4, Perturbed"
   ]
  },
  {
   "cell_type": "code",
   "execution_count": 24,
   "metadata": {},
   "outputs": [
    {
     "name": "stdout",
     "output_type": "stream",
     "text": [
      "60950\n"
     ]
    }
   ],
   "source": [
    "%%bash\n",
    "module load bedtools2\n",
    "\n",
    "bedtools window \\\n",
    "-b allmeta/elementReference/combined/binnedgenome.int.elementReference.20230619.merge.bed \\\n",
    "-a annotations/encode.ccres.v4.hg38.bed.gz \\\n",
    "-w 100 | wc -l"
   ]
  },
  {
   "cell_type": "markdown",
   "metadata": {},
   "source": [
    "#### v4, Significant"
   ]
  },
  {
   "cell_type": "code",
   "execution_count": 25,
   "metadata": {},
   "outputs": [
    {
     "name": "stdout",
     "output_type": "stream",
     "text": [
      "2842\n"
     ]
    }
   ],
   "source": [
    "%%bash\n",
    "module load bedtools2\n",
    "\n",
    "bedtools window \\\n",
    "-b allmeta/elementQuant/combined/binnedgenome.int.elementQuant.20230411.merge.bed \\\n",
    "-a annotations/encode.ccres.v4.hg38.bed.gz \\\n",
    "-w 100 | wc -l"
   ]
  },
  {
   "cell_type": "markdown",
   "metadata": {},
   "source": [
    "#### For v4, get the number of cCREs per region perturbed or significant"
   ]
  },
  {
   "cell_type": "code",
   "execution_count": 26,
   "metadata": {},
   "outputs": [],
   "source": [
    "%%bash\n",
    "module load bedtools2\n",
    "\n",
    "bedtools window \\\n",
    "-a allmeta/elementReference/combined/binnedgenome.int.elementReference.20230619.merge.bed \\\n",
    "-b annotations/encode.ccres.v4.hg38.bed.gz \\\n",
    "-c -w 100 > allmeta/outs/binnedgenome.int.elementReference.20230619.merge.window100.cCREs.count.txt"
   ]
  },
  {
   "cell_type": "code",
   "execution_count": 27,
   "metadata": {},
   "outputs": [],
   "source": [
    "%%bash\n",
    "module load bedtools2\n",
    "\n",
    "bedtools window \\\n",
    "-a allmeta/elementQuant/combined/binnedgenome.int.elementQuant.20230411.merge.bed \\\n",
    "-b annotations/encode.ccres.v4.hg38.bed.gz \\\n",
    "-c -w 100 > allmeta/outs/binnedgenome.int.elementQuant.20230411.merge.window100.cCREs.count.txt"
   ]
  },
  {
   "cell_type": "markdown",
   "metadata": {},
   "source": [
    "#### Calculate percent of cCREs perturbed and percent of perturbed cCREs that overlapped a significant element"
   ]
  },
  {
   "cell_type": "code",
   "execution_count": 28,
   "metadata": {},
   "outputs": [
    {
     "data": {
      "text/plain": [
       "2.594882440543346"
      ]
     },
     "execution_count": 28,
     "metadata": {},
     "output_type": "execute_result"
    }
   ],
   "source": [
    "60950/2348854*100"
   ]
  },
  {
   "cell_type": "code",
   "execution_count": 29,
   "metadata": {},
   "outputs": [
    {
     "data": {
      "text/plain": [
       "4.6628383921246925"
      ]
     },
     "execution_count": 29,
     "metadata": {},
     "output_type": "execute_result"
    }
   ],
   "source": [
    "2842/60950*100"
   ]
  },
  {
   "cell_type": "markdown",
   "metadata": {},
   "source": [
    "#### Plot distribution of cCREs per perturbed and per significant element"
   ]
  },
  {
   "cell_type": "code",
   "execution_count": 30,
   "metadata": {},
   "outputs": [
    {
     "data": {
      "text/html": [
       "<div>\n",
       "<style scoped>\n",
       "    .dataframe tbody tr th:only-of-type {\n",
       "        vertical-align: middle;\n",
       "    }\n",
       "\n",
       "    .dataframe tbody tr th {\n",
       "        vertical-align: top;\n",
       "    }\n",
       "\n",
       "    .dataframe thead th {\n",
       "        text-align: right;\n",
       "    }\n",
       "</style>\n",
       "<table border=\"1\" class=\"dataframe\">\n",
       "  <thead>\n",
       "    <tr style=\"text-align: right;\">\n",
       "      <th></th>\n",
       "      <th>chr</th>\n",
       "      <th>start</th>\n",
       "      <th>end</th>\n",
       "      <th>cCRE_count</th>\n",
       "      <th>region_type</th>\n",
       "    </tr>\n",
       "  </thead>\n",
       "  <tbody>\n",
       "    <tr>\n",
       "      <td>0</td>\n",
       "      <td>chr1</td>\n",
       "      <td>975500</td>\n",
       "      <td>976600</td>\n",
       "      <td>3</td>\n",
       "      <td>perturbed</td>\n",
       "    </tr>\n",
       "    <tr>\n",
       "      <td>1</td>\n",
       "      <td>chr1</td>\n",
       "      <td>1023900</td>\n",
       "      <td>1025700</td>\n",
       "      <td>5</td>\n",
       "      <td>perturbed</td>\n",
       "    </tr>\n",
       "    <tr>\n",
       "      <td>2</td>\n",
       "      <td>chr1</td>\n",
       "      <td>1032200</td>\n",
       "      <td>1033100</td>\n",
       "      <td>3</td>\n",
       "      <td>perturbed</td>\n",
       "    </tr>\n",
       "    <tr>\n",
       "      <td>3</td>\n",
       "      <td>chr1</td>\n",
       "      <td>1041000</td>\n",
       "      <td>1042300</td>\n",
       "      <td>4</td>\n",
       "      <td>perturbed</td>\n",
       "    </tr>\n",
       "    <tr>\n",
       "      <td>4</td>\n",
       "      <td>chr1</td>\n",
       "      <td>1062900</td>\n",
       "      <td>1063800</td>\n",
       "      <td>4</td>\n",
       "      <td>perturbed</td>\n",
       "    </tr>\n",
       "  </tbody>\n",
       "</table>\n",
       "</div>"
      ],
      "text/plain": [
       "    chr    start      end  cCRE_count region_type\n",
       "0  chr1   975500   976600           3   perturbed\n",
       "1  chr1  1023900  1025700           5   perturbed\n",
       "2  chr1  1032200  1033100           3   perturbed\n",
       "3  chr1  1041000  1042300           4   perturbed\n",
       "4  chr1  1062900  1063800           4   perturbed"
      ]
     },
     "execution_count": 30,
     "metadata": {},
     "output_type": "execute_result"
    }
   ],
   "source": [
    "df1 = pd.read_csv('allmeta/outs/binnedgenome.int.elementReference.20230619.merge.window100.cCREs.count.txt',\n",
    "                   sep='\\t', header = None)\n",
    "\n",
    "df1.columns = ['chr', 'start', 'end', 'cCRE_count']\n",
    "df1['region_type'] = \"perturbed\"\n",
    "df1.head()"
   ]
  },
  {
   "cell_type": "code",
   "execution_count": 31,
   "metadata": {},
   "outputs": [
    {
     "data": {
      "text/html": [
       "<div>\n",
       "<style scoped>\n",
       "    .dataframe tbody tr th:only-of-type {\n",
       "        vertical-align: middle;\n",
       "    }\n",
       "\n",
       "    .dataframe tbody tr th {\n",
       "        vertical-align: top;\n",
       "    }\n",
       "\n",
       "    .dataframe thead th {\n",
       "        text-align: right;\n",
       "    }\n",
       "</style>\n",
       "<table border=\"1\" class=\"dataframe\">\n",
       "  <thead>\n",
       "    <tr style=\"text-align: right;\">\n",
       "      <th></th>\n",
       "      <th>chr</th>\n",
       "      <th>start</th>\n",
       "      <th>end</th>\n",
       "      <th>cCRE_count</th>\n",
       "      <th>region_type</th>\n",
       "    </tr>\n",
       "  </thead>\n",
       "  <tbody>\n",
       "    <tr>\n",
       "      <td>0</td>\n",
       "      <td>chr1</td>\n",
       "      <td>1411500</td>\n",
       "      <td>1411800</td>\n",
       "      <td>2</td>\n",
       "      <td>significant</td>\n",
       "    </tr>\n",
       "    <tr>\n",
       "      <td>1</td>\n",
       "      <td>chr1</td>\n",
       "      <td>3675300</td>\n",
       "      <td>3676000</td>\n",
       "      <td>3</td>\n",
       "      <td>significant</td>\n",
       "    </tr>\n",
       "    <tr>\n",
       "      <td>2</td>\n",
       "      <td>chr1</td>\n",
       "      <td>6475300</td>\n",
       "      <td>6475700</td>\n",
       "      <td>2</td>\n",
       "      <td>significant</td>\n",
       "    </tr>\n",
       "    <tr>\n",
       "      <td>3</td>\n",
       "      <td>chr1</td>\n",
       "      <td>6859300</td>\n",
       "      <td>6861400</td>\n",
       "      <td>5</td>\n",
       "      <td>significant</td>\n",
       "    </tr>\n",
       "    <tr>\n",
       "      <td>4</td>\n",
       "      <td>chr1</td>\n",
       "      <td>8049700</td>\n",
       "      <td>8050700</td>\n",
       "      <td>1</td>\n",
       "      <td>significant</td>\n",
       "    </tr>\n",
       "  </tbody>\n",
       "</table>\n",
       "</div>"
      ],
      "text/plain": [
       "    chr    start      end  cCRE_count  region_type\n",
       "0  chr1  1411500  1411800           2  significant\n",
       "1  chr1  3675300  3676000           3  significant\n",
       "2  chr1  6475300  6475700           2  significant\n",
       "3  chr1  6859300  6861400           5  significant\n",
       "4  chr1  8049700  8050700           1  significant"
      ]
     },
     "execution_count": 31,
     "metadata": {},
     "output_type": "execute_result"
    }
   ],
   "source": [
    "df2 = pd.read_csv('allmeta/outs/binnedgenome.int.elementQuant.20230411.merge.window100.cCREs.count.txt',\n",
    "                   sep='\\t', header = None)\n",
    "\n",
    "df2.columns = ['chr', 'start', 'end', 'cCRE_count']\n",
    "df2['region_type'] = \"significant\"\n",
    "df2.head()"
   ]
  },
  {
   "cell_type": "code",
   "execution_count": 32,
   "metadata": {},
   "outputs": [
    {
     "data": {
      "text/html": [
       "<div>\n",
       "<style scoped>\n",
       "    .dataframe tbody tr th:only-of-type {\n",
       "        vertical-align: middle;\n",
       "    }\n",
       "\n",
       "    .dataframe tbody tr th {\n",
       "        vertical-align: top;\n",
       "    }\n",
       "\n",
       "    .dataframe thead th {\n",
       "        text-align: right;\n",
       "    }\n",
       "</style>\n",
       "<table border=\"1\" class=\"dataframe\">\n",
       "  <thead>\n",
       "    <tr style=\"text-align: right;\">\n",
       "      <th></th>\n",
       "      <th>chr</th>\n",
       "      <th>start</th>\n",
       "      <th>end</th>\n",
       "      <th>cCRE_count</th>\n",
       "      <th>region_type</th>\n",
       "    </tr>\n",
       "  </thead>\n",
       "  <tbody>\n",
       "    <tr>\n",
       "      <td>0</td>\n",
       "      <td>chr1</td>\n",
       "      <td>975500</td>\n",
       "      <td>976600</td>\n",
       "      <td>3</td>\n",
       "      <td>perturbed</td>\n",
       "    </tr>\n",
       "    <tr>\n",
       "      <td>1</td>\n",
       "      <td>chr1</td>\n",
       "      <td>1023900</td>\n",
       "      <td>1025700</td>\n",
       "      <td>5</td>\n",
       "      <td>perturbed</td>\n",
       "    </tr>\n",
       "    <tr>\n",
       "      <td>2</td>\n",
       "      <td>chr1</td>\n",
       "      <td>1032200</td>\n",
       "      <td>1033100</td>\n",
       "      <td>3</td>\n",
       "      <td>perturbed</td>\n",
       "    </tr>\n",
       "    <tr>\n",
       "      <td>3</td>\n",
       "      <td>chr1</td>\n",
       "      <td>1041000</td>\n",
       "      <td>1042300</td>\n",
       "      <td>4</td>\n",
       "      <td>perturbed</td>\n",
       "    </tr>\n",
       "    <tr>\n",
       "      <td>4</td>\n",
       "      <td>chr1</td>\n",
       "      <td>1062900</td>\n",
       "      <td>1063800</td>\n",
       "      <td>4</td>\n",
       "      <td>perturbed</td>\n",
       "    </tr>\n",
       "  </tbody>\n",
       "</table>\n",
       "</div>"
      ],
      "text/plain": [
       "    chr    start      end  cCRE_count region_type\n",
       "0  chr1   975500   976600           3   perturbed\n",
       "1  chr1  1023900  1025700           5   perturbed\n",
       "2  chr1  1032200  1033100           3   perturbed\n",
       "3  chr1  1041000  1042300           4   perturbed\n",
       "4  chr1  1062900  1063800           4   perturbed"
      ]
     },
     "execution_count": 32,
     "metadata": {},
     "output_type": "execute_result"
    }
   ],
   "source": [
    "plotdf = pd.concat([df1, df2], sort = False)\n",
    "plotdf.head()"
   ]
  },
  {
   "cell_type": "code",
   "execution_count": 33,
   "metadata": {},
   "outputs": [
    {
     "data": {
      "text/html": [
       "<div>\n",
       "<style scoped>\n",
       "    .dataframe tbody tr th:only-of-type {\n",
       "        vertical-align: middle;\n",
       "    }\n",
       "\n",
       "    .dataframe tbody tr th {\n",
       "        vertical-align: top;\n",
       "    }\n",
       "\n",
       "    .dataframe thead tr th {\n",
       "        text-align: left;\n",
       "    }\n",
       "\n",
       "    .dataframe thead tr:last-of-type th {\n",
       "        text-align: right;\n",
       "    }\n",
       "</style>\n",
       "<table border=\"1\" class=\"dataframe\">\n",
       "  <thead>\n",
       "    <tr>\n",
       "      <th></th>\n",
       "      <th colspan=\"8\" halign=\"left\">cCRE_count</th>\n",
       "    </tr>\n",
       "    <tr>\n",
       "      <th></th>\n",
       "      <th>count</th>\n",
       "      <th>mean</th>\n",
       "      <th>std</th>\n",
       "      <th>min</th>\n",
       "      <th>25%</th>\n",
       "      <th>50%</th>\n",
       "      <th>75%</th>\n",
       "      <th>max</th>\n",
       "    </tr>\n",
       "    <tr>\n",
       "      <th>region_type</th>\n",
       "      <th></th>\n",
       "      <th></th>\n",
       "      <th></th>\n",
       "      <th></th>\n",
       "      <th></th>\n",
       "      <th></th>\n",
       "      <th></th>\n",
       "      <th></th>\n",
       "    </tr>\n",
       "  </thead>\n",
       "  <tbody>\n",
       "    <tr>\n",
       "      <td>perturbed</td>\n",
       "      <td>20678.0</td>\n",
       "      <td>2.947577</td>\n",
       "      <td>4.352138</td>\n",
       "      <td>0.0</td>\n",
       "      <td>2.0</td>\n",
       "      <td>3.0</td>\n",
       "      <td>4.0</td>\n",
       "      <td>237.0</td>\n",
       "    </tr>\n",
       "    <tr>\n",
       "      <td>significant</td>\n",
       "      <td>865.0</td>\n",
       "      <td>3.285549</td>\n",
       "      <td>3.209230</td>\n",
       "      <td>0.0</td>\n",
       "      <td>2.0</td>\n",
       "      <td>3.0</td>\n",
       "      <td>4.0</td>\n",
       "      <td>32.0</td>\n",
       "    </tr>\n",
       "  </tbody>\n",
       "</table>\n",
       "</div>"
      ],
      "text/plain": [
       "            cCRE_count                                               \n",
       "                 count      mean       std  min  25%  50%  75%    max\n",
       "region_type                                                          \n",
       "perturbed      20678.0  2.947577  4.352138  0.0  2.0  3.0  4.0  237.0\n",
       "significant      865.0  3.285549  3.209230  0.0  2.0  3.0  4.0   32.0"
      ]
     },
     "execution_count": 33,
     "metadata": {},
     "output_type": "execute_result"
    }
   ],
   "source": [
    "plotdf[[\"cCRE_count\",\"region_type\"]].groupby('region_type').describe()"
   ]
  },
  {
   "cell_type": "code",
   "execution_count": 34,
   "metadata": {},
   "outputs": [
    {
     "data": {
      "text/plain": [
       "array([<matplotlib.axes._subplots.AxesSubplot object at 0x2ae5f0878048>,\n",
       "       <matplotlib.axes._subplots.AxesSubplot object at 0x2ae5f08b0588>],\n",
       "      dtype=object)"
      ]
     },
     "execution_count": 34,
     "metadata": {},
     "output_type": "execute_result"
    },
    {
     "data": {
      "text/plain": [
       "<Figure size 720x360 with 0 Axes>"
      ]
     },
     "metadata": {},
     "output_type": "display_data"
    },
    {
     "data": {
      "image/png": "[encoded data removed]",
      "text/plain": [
       "<Figure size 432x288 with 2 Axes>"
      ]
     },
     "metadata": {
      "needs_background": "light"
     },
     "output_type": "display_data"
    }
   ],
   "source": [
    "fig = plt.figure(figsize = (10, 5))\n",
    " \n",
    "# creating the bar plot\n",
    "plotdf['cCRE_count'].hist(by=plotdf['region_type'], edgecolor='black') "
   ]
  },
  {
   "cell_type": "markdown",
   "metadata": {},
   "source": [
    "### Intersect with union DHSs\n",
    "\n",
    "File downloaded 2022-04-30 from UCSC table browser. <br>\n",
    "Notebook to prepare bed file: `20220430.encode.Figure1MetaAnalysis.AnnotationFiles.LRB`"
   ]
  },
  {
   "cell_type": "code",
   "execution_count": 52,
   "metadata": {},
   "outputs": [],
   "source": [
    "# %%bash\n",
    "# cd annotations\n",
    "# gunzip wgEncodeRegDnaseClustered.full.bed.hg38.bed.gz\n",
    "# wc -l wgEncodeRegDnaseClustered.full.bed.hg38.bed\n",
    "# gzip wgEncodeRegDnaseClustered.full.bed.hg38.bed"
   ]
  },
  {
   "cell_type": "code",
   "execution_count": 39,
   "metadata": {},
   "outputs": [
    {
     "name": "stdout",
     "output_type": "stream",
     "text": [
      "44780\n"
     ]
    }
   ],
   "source": [
    "%%bash\n",
    "module load bedtools2\n",
    "\n",
    "bedtools intersect \\\n",
    "-b allmeta/elementReference/combined/binnedgenome.int.elementReference.20230619.merge.bed \\\n",
    "-a annotations/wgEncodeRegDnaseClustered.full.bed.hg38.bed.gz \\\n",
    "-wa -u | wc -l"
   ]
  },
  {
   "cell_type": "code",
   "execution_count": 40,
   "metadata": {},
   "outputs": [
    {
     "name": "stdout",
     "output_type": "stream",
     "text": [
      "2072\n"
     ]
    }
   ],
   "source": [
    "%%bash\n",
    "module load bedtools2\n",
    "\n",
    "bedtools intersect \\\n",
    "-b allmeta/elementQuant/combined/binnedgenome.int.elementQuant.20230411.merge.bed \\\n",
    "-a annotations/wgEncodeRegDnaseClustered.full.bed.hg38.bed.gz \\\n",
    "-wa -u | wc -l"
   ]
  },
  {
   "cell_type": "code",
   "execution_count": 41,
   "metadata": {},
   "outputs": [
    {
     "data": {
      "text/plain": [
       "2.118889679095625"
      ]
     },
     "execution_count": 41,
     "metadata": {},
     "output_type": "execute_result"
    }
   ],
   "source": [
    "44780/2113371*100"
   ]
  },
  {
   "cell_type": "code",
   "execution_count": 42,
   "metadata": {},
   "outputs": [
    {
     "data": {
      "text/plain": [
       "4.62706565430996"
      ]
     },
     "execution_count": 42,
     "metadata": {},
     "output_type": "execute_result"
    }
   ],
   "source": [
    "2072/44780*100"
   ]
  },
  {
   "cell_type": "code",
   "execution_count": 1,
   "metadata": {},
   "outputs": [
    {
     "name": "stdout",
     "output_type": "stream",
     "text": [
      "53\n"
     ]
    }
   ],
   "source": [
    "%%bash\n",
    "module load bedtools2\n",
    "\n",
    "bedtools intersect \\\n",
    "-a allmeta/elementQuant/combined/binnedgenome.int.elementQuant.20230411.merge.bed \\\n",
    "-b annotations/wgEncodeRegDnaseClustered.full.bed.hg38.bed.gz \\\n",
    "-v | wc -l"
   ]
  },
  {
   "cell_type": "markdown",
   "metadata": {},
   "source": [
    "### Compare overlap with pELS and pDLS cCREs\n",
    "\n",
    "These two cCRE types have DNase and H3K27ac and/or CTCF."
   ]
  },
  {
   "cell_type": "markdown",
   "metadata": {},
   "source": [
    "#### Download v4 cCREs classified as pELS and pDLS"
   ]
  },
  {
   "cell_type": "code",
   "execution_count": null,
   "metadata": {},
   "outputs": [],
   "source": [
    "# %%bash\n",
    "# wget -O GRCh38-pELS.V4.bed.gz http://users.wenglab.org/moorej3/Registry-cCREs-WG/V4-Files/GRCh38-pELS.V4.bed.gz --no-check-certificate\n",
    "# wget -O GRCh38-dELS.V4.bed.gz http://users.wenglab.org/moorej3/Registry-cCREs-WG/V4-Files/GRCh38-dELS.V4.bed.gz --no-check-certificate"
   ]
  },
  {
   "cell_type": "markdown",
   "metadata": {},
   "source": [
    "#### Number of CREs that do not directly overlap a pELS or pDLS cCRE"
   ]
  },
  {
   "cell_type": "code",
   "execution_count": 3,
   "metadata": {},
   "outputs": [
    {
     "name": "stdout",
     "output_type": "stream",
     "text": [
      "1712866 temp.sorted.merge.bed\n",
      "66\n"
     ]
    }
   ],
   "source": [
    "%%bash\n",
    "cd /data/gersbachlab/lrb53/encodeCrisprWG/finalversion/annotations/\n",
    "gunzip GRCh38-dELS.V4.bed.gz\n",
    "gunzip GRCh38-pELS.V4.bed.gz\n",
    "\n",
    "cat GRCh38-pELS.V4.bed GRCh38-dELS.V4.bed > temp.bed\n",
    "\n",
    "gzip GRCh38-pELS.V4.bed\n",
    "gzip GRCh38-dELS.V4.bed\n",
    "\n",
    "sort -k1,1 -k2,2n temp.bed > temp.sorted.bed\n",
    "\n",
    "module load bedtools2\n",
    "\n",
    "bedtools merge -i temp.sorted.bed > temp.sorted.merge.bed\n",
    "wc -l temp.sorted.merge.bed\n",
    "\n",
    "bedtools intersect \\\n",
    "-a /data/gersbachlab/lrb53/encodeCrisprWG/finalversion/figure1/allmeta/elementQuant/combined/binnedgenome.int.elementQuant.20230411.merge.bed \\\n",
    "-b temp.sorted.merge.bed \\\n",
    "-v | wc -l\n",
    "\n",
    "rm temp*.bed"
   ]
  },
  {
   "cell_type": "markdown",
   "metadata": {},
   "source": [
    "#### Number of CREs that do not directly overlap a pELS or pDLS cCRE or DNase peak in the union set (across 95 biosamples)"
   ]
  },
  {
   "cell_type": "code",
   "execution_count": 5,
   "metadata": {},
   "outputs": [
    {
     "name": "stdout",
     "output_type": "stream",
     "text": [
      "1712866 temp.sorted.merge.bed\n",
      "29\n"
     ]
    }
   ],
   "source": [
    "%%bash\n",
    "cd /data/gersbachlab/lrb53/encodeCrisprWG/finalversion/annotations/\n",
    "gunzip GRCh38-dELS.V4.bed.gz\n",
    "gunzip GRCh38-pELS.V4.bed.gz\n",
    "\n",
    "cat GRCh38-pELS.V4.bed GRCh38-dELS.V4.bed > temp.bed\n",
    "\n",
    "gzip GRCh38-pELS.V4.bed\n",
    "gzip GRCh38-dELS.V4.bed\n",
    "\n",
    "sort -k1,1 -k2,2n temp.bed > temp.sorted.bed\n",
    "\n",
    "module load bedtools2\n",
    "\n",
    "bedtools merge -i temp.sorted.bed > temp.sorted.merge.bed\n",
    "wc -l temp.sorted.merge.bed\n",
    "\n",
    "bedtools intersect \\\n",
    "-a /data/gersbachlab/lrb53/encodeCrisprWG/finalversion/figure1/allmeta/elementQuant/combined/binnedgenome.int.elementQuant.20230411.merge.bed \\\n",
    "-b wgEncodeRegDnaseClustered.full.bed.hg38.bed.gz \\\n",
    "-v | \\\n",
    "bedtools intersect \\\n",
    "-a stdin \\\n",
    "-b temp.sorted.merge.bed -v | wc -l\n",
    "\n",
    "rm temp*.bed"
   ]
  },
  {
   "cell_type": "markdown",
   "metadata": {},
   "source": [
    "#### Number of CREs that do not are within +/- 500bp or +/- 1000bp of a pELS or pDLS cCRE"
   ]
  },
  {
   "cell_type": "code",
   "execution_count": 8,
   "metadata": {},
   "outputs": [
    {
     "name": "stdout",
     "output_type": "stream",
     "text": [
      "1712866 temp.sorted.merge.bed\n",
      "18\n",
      "10\n"
     ]
    }
   ],
   "source": [
    "%%bash\n",
    "cd /data/gersbachlab/lrb53/encodeCrisprWG/finalversion/annotations/\n",
    "gunzip GRCh38-dELS.V4.bed.gz\n",
    "gunzip GRCh38-pELS.V4.bed.gz\n",
    "\n",
    "cat GRCh38-pELS.V4.bed GRCh38-dELS.V4.bed > temp.bed\n",
    "\n",
    "gzip GRCh38-pELS.V4.bed\n",
    "gzip GRCh38-dELS.V4.bed\n",
    "\n",
    "sort -k1,1 -k2,2n temp.bed > temp.sorted.bed\n",
    "\n",
    "module load bedtools2\n",
    "\n",
    "bedtools merge -i temp.sorted.bed > temp.sorted.merge.bed\n",
    "wc -l temp.sorted.merge.bed\n",
    "\n",
    "bedtools window \\\n",
    "-a /data/gersbachlab/lrb53/encodeCrisprWG/finalversion/figure1/allmeta/elementQuant/combined/binnedgenome.int.elementQuant.20230411.merge.bed \\\n",
    "-b temp.sorted.merge.bed \\\n",
    "-w 500 \\\n",
    "-v | wc -l\n",
    "\n",
    "bedtools window \\\n",
    "-a /data/gersbachlab/lrb53/encodeCrisprWG/finalversion/figure1/allmeta/elementQuant/combined/binnedgenome.int.elementQuant.20230411.merge.bed \\\n",
    "-b temp.sorted.merge.bed \\\n",
    "-w 1000 \\\n",
    "-v | wc -l\n",
    "\n",
    "rm temp*.bed"
   ]
  },
  {
   "cell_type": "markdown",
   "metadata": {},
   "source": [
    "#### Number of CREs that do not are within +/- 500bp of a DNase peak in the union set or a pELS or pDLS cCRE "
   ]
  },
  {
   "cell_type": "code",
   "execution_count": 9,
   "metadata": {},
   "outputs": [
    {
     "name": "stdout",
     "output_type": "stream",
     "text": [
      "1712866 temp.sorted.merge.bed\n",
      "3\n"
     ]
    }
   ],
   "source": [
    "%%bash\n",
    "cd /data/gersbachlab/lrb53/encodeCrisprWG/finalversion/annotations/\n",
    "gunzip GRCh38-dELS.V4.bed.gz\n",
    "gunzip GRCh38-pELS.V4.bed.gz\n",
    "\n",
    "cat GRCh38-pELS.V4.bed GRCh38-dELS.V4.bed > temp.bed\n",
    "\n",
    "gzip GRCh38-pELS.V4.bed\n",
    "gzip GRCh38-dELS.V4.bed\n",
    "\n",
    "sort -k1,1 -k2,2n temp.bed > temp.sorted.bed\n",
    "\n",
    "module load bedtools2\n",
    "\n",
    "bedtools merge -i temp.sorted.bed > temp.sorted.merge.bed\n",
    "wc -l temp.sorted.merge.bed\n",
    "\n",
    "bedtools window \\\n",
    "-a /data/gersbachlab/lrb53/encodeCrisprWG/finalversion/figure1/allmeta/elementQuant/combined/binnedgenome.int.elementQuant.20230411.merge.bed \\\n",
    "-b wgEncodeRegDnaseClustered.full.bed.hg38.bed.gz \\\n",
    "-w 500 -v | \\\n",
    "bedtools window \\\n",
    "-a stdin \\\n",
    "-b temp.sorted.merge.bed -w 500 -v | wc -l\n",
    "\n",
    "rm temp*.bed"
   ]
  }
 ],
 "metadata": {
  "kernelspec": {
   "display_name": "Python 3",
   "language": "python",
   "name": "python3"
  },
  "language_info": {
   "codemirror_mode": {
    "name": "ipython",
    "version": 3
   },
   "file_extension": ".py",
   "mimetype": "text/x-python",
   "name": "python",
   "nbconvert_exporter": "python",
   "pygments_lexer": "ipython3",
   "version": "3.6.7"
  }
 },
 "nbformat": 4,
 "nbformat_minor": 2
}
