{
 "cells": [
  {
   "cell_type": "markdown",
   "metadata": {},
   "source": [
    "# Goal:\n",
    "\n",
    "Compare the signal of each feature in regions with perturbations vs significant regions, and between significant regions that do/do not overlap a feature.\n"
   ]
  },
  {
   "cell_type": "markdown",
   "metadata": {},
   "source": [
    "### Load packages"
   ]
  },
  {
   "cell_type": "code",
   "execution_count": 1,
   "metadata": {},
   "outputs": [],
   "source": [
    "suppressPackageStartupMessages(library(tidyverse))"
   ]
  },
  {
   "cell_type": "code",
   "execution_count": 2,
   "metadata": {},
   "outputs": [],
   "source": [
    "`%notin%` <- Negate(`%in%`)"
   ]
  },
  {
   "cell_type": "markdown",
   "metadata": {},
   "source": [
    "### Load and process perturbation data"
   ]
  },
  {
   "cell_type": "markdown",
   "metadata": {},
   "source": [
    "#### Bin coordinates with perturbations"
   ]
  },
  {
   "cell_type": "code",
   "execution_count": 3,
   "metadata": {},
   "outputs": [
    {
     "data": {
      "text/html": [
       "<table class=\"dataframe\">\n",
       "<caption>A data.frame: 1 × 1</caption>\n",
       "<thead>\n",
       "\t<tr><th></th><th scope=col>bin</th></tr>\n",
       "\t<tr><th></th><th scope=col>&lt;chr&gt;</th></tr>\n",
       "</thead>\n",
       "<tbody>\n",
       "\t<tr><th scope=row>1</th><td>chr3:127573700-127574600</td></tr>\n",
       "</tbody>\n",
       "</table>\n"
      ],
      "text/latex": [
       "A data.frame: 1 × 1\n",
       "\\begin{tabular}{r|l}\n",
       "  & bin\\\\\n",
       "  & <chr>\\\\\n",
       "\\hline\n",
       "\t1 & chr3:127573700-127574600\\\\\n",
       "\\end{tabular}\n"
      ],
      "text/markdown": [
       "\n",
       "A data.frame: 1 × 1\n",
       "\n",
       "| <!--/--> | bin &lt;chr&gt; |\n",
       "|---|---|\n",
       "| 1 | chr3:127573700-127574600 |\n",
       "\n"
      ],
      "text/plain": [
       "  bin                     \n",
       "1 chr3:127573700-127574600"
      ]
     },
     "metadata": {},
     "output_type": "display_data"
    },
    {
     "data": {
      "text/html": [
       "<style>\n",
       ".list-inline {list-style: none; margin:0; padding: 0}\n",
       ".list-inline>li {display: inline-block}\n",
       ".list-inline>li:not(:last-child)::after {content: \"\\00b7\"; padding: 0 .5ex}\n",
       "</style>\n",
       "<ol class=list-inline><li>2733</li><li>1</li></ol>\n"
      ],
      "text/latex": [
       "\\begin{enumerate*}\n",
       "\\item 2733\n",
       "\\item 1\n",
       "\\end{enumerate*}\n"
      ],
      "text/markdown": [
       "1. 2733\n",
       "2. 1\n",
       "\n",
       "\n"
      ],
      "text/plain": [
       "[1] 2733    1"
      ]
     },
     "metadata": {},
     "output_type": "display_data"
    }
   ],
   "source": [
    "allregions <- read.delim(\"/data/gersbachlab/lrb53/encodeCrisprWG/finalversion/figure1/k562meta/elementReference/combined/binnedgenome.int.k562.elementReference.20230415.merge.bed\",\n",
    "                         header=FALSE, col.names=c(\"bin.chr\",\"bin.start\",\"bin.end\")) %>%\n",
    "mutate(bin = paste0(bin.chr,\":\",bin.start,\"-\",bin.end)) %>% select(bin) %>% distinct()\n",
    "\n",
    "head(allregions,n=1)\n",
    "dim(allregions)"
   ]
  },
  {
   "cell_type": "markdown",
   "metadata": {},
   "source": [
    "#### Bin coordinates with CREs"
   ]
  },
  {
   "cell_type": "code",
   "execution_count": 4,
   "metadata": {},
   "outputs": [
    {
     "data": {
      "text/html": [
       "<table class=\"dataframe\">\n",
       "<caption>A data.frame: 1 × 1</caption>\n",
       "<thead>\n",
       "\t<tr><th></th><th scope=col>bin</th></tr>\n",
       "\t<tr><th></th><th scope=col>&lt;chr&gt;</th></tr>\n",
       "</thead>\n",
       "<tbody>\n",
       "\t<tr><th scope=row>1</th><td>chr3:127672600-127673300</td></tr>\n",
       "</tbody>\n",
       "</table>\n"
      ],
      "text/latex": [
       "A data.frame: 1 × 1\n",
       "\\begin{tabular}{r|l}\n",
       "  & bin\\\\\n",
       "  & <chr>\\\\\n",
       "\\hline\n",
       "\t1 & chr3:127672600-127673300\\\\\n",
       "\\end{tabular}\n"
      ],
      "text/markdown": [
       "\n",
       "A data.frame: 1 × 1\n",
       "\n",
       "| <!--/--> | bin &lt;chr&gt; |\n",
       "|---|---|\n",
       "| 1 | chr3:127672600-127673300 |\n",
       "\n"
      ],
      "text/plain": [
       "  bin                     \n",
       "1 chr3:127672600-127673300"
      ]
     },
     "metadata": {},
     "output_type": "display_data"
    },
    {
     "data": {
      "text/html": [
       "<style>\n",
       ".list-inline {list-style: none; margin:0; padding: 0}\n",
       ".list-inline>li {display: inline-block}\n",
       ".list-inline>li:not(:last-child)::after {content: \"\\00b7\"; padding: 0 .5ex}\n",
       "</style>\n",
       "<ol class=list-inline><li>210</li><li>1</li></ol>\n"
      ],
      "text/latex": [
       "\\begin{enumerate*}\n",
       "\\item 210\n",
       "\\item 1\n",
       "\\end{enumerate*}\n"
      ],
      "text/markdown": [
       "1. 210\n",
       "2. 1\n",
       "\n",
       "\n"
      ],
      "text/plain": [
       "[1] 210   1"
      ]
     },
     "metadata": {},
     "output_type": "display_data"
    }
   ],
   "source": [
    "sigregions <- read.delim(\"/data/gersbachlab/lrb53/encodeCrisprWG/finalversion/figure1/k562meta/elementQuant/combined/binnedgenome.int.k562.elementQuant.20230415.merge.bed\",\n",
    "                         header=FALSE, col.names=c(\"bin.chr\",\"bin.start\",\"bin.end\")) %>%\n",
    "mutate(bin = paste0(bin.chr,\":\",bin.start,\"-\",bin.end)) %>% select(bin) %>% distinct()\n",
    "\n",
    "head(sigregions,n=1)\n",
    "dim(sigregions)"
   ]
  },
  {
   "cell_type": "markdown",
   "metadata": {},
   "source": [
    "### Load intersection with `bedgraph` files for features"
   ]
  },
  {
   "cell_type": "markdown",
   "metadata": {},
   "source": [
    "##### All regions"
   ]
  },
  {
   "cell_type": "code",
   "execution_count": 5,
   "metadata": {},
   "outputs": [
    {
     "data": {
      "text/html": [
       "<table class=\"dataframe\">\n",
       "<caption>A data.frame: 1 × 4</caption>\n",
       "<thead>\n",
       "\t<tr><th></th><th scope=col>feature</th><th scope=col>bin</th><th scope=col>feature_coords</th><th scope=col>signal</th></tr>\n",
       "\t<tr><th></th><th scope=col>&lt;chr&gt;</th><th scope=col>&lt;chr&gt;</th><th scope=col>&lt;chr&gt;</th><th scope=col>&lt;dbl&gt;</th></tr>\n",
       "</thead>\n",
       "<tbody>\n",
       "\t<tr><th scope=row>1</th><td>H3K27ac</td><td>chr11:4091700-4092700</td><td>chr11:4091696-4091752</td><td>4.11177</td></tr>\n",
       "</tbody>\n",
       "</table>\n"
      ],
      "text/latex": [
       "A data.frame: 1 × 4\n",
       "\\begin{tabular}{r|llll}\n",
       "  & feature & bin & feature\\_coords & signal\\\\\n",
       "  & <chr> & <chr> & <chr> & <dbl>\\\\\n",
       "\\hline\n",
       "\t1 & H3K27ac & chr11:4091700-4092700 & chr11:4091696-4091752 & 4.11177\\\\\n",
       "\\end{tabular}\n"
      ],
      "text/markdown": [
       "\n",
       "A data.frame: 1 × 4\n",
       "\n",
       "| <!--/--> | feature &lt;chr&gt; | bin &lt;chr&gt; | feature_coords &lt;chr&gt; | signal &lt;dbl&gt; |\n",
       "|---|---|---|---|---|\n",
       "| 1 | H3K27ac | chr11:4091700-4092700 | chr11:4091696-4091752 | 4.11177 |\n",
       "\n"
      ],
      "text/plain": [
       "  feature bin                   feature_coords        signal \n",
       "1 H3K27ac chr11:4091700-4092700 chr11:4091696-4091752 4.11177"
      ]
     },
     "metadata": {},
     "output_type": "display_data"
    },
    {
     "data": {
      "text/html": [
       "<style>\n",
       ".list-inline {list-style: none; margin:0; padding: 0}\n",
       ".list-inline>li {display: inline-block}\n",
       ".list-inline>li:not(:last-child)::after {content: \"\\00b7\"; padding: 0 .5ex}\n",
       "</style>\n",
       "<ol class=list-inline><li>513297</li><li>4</li></ol>\n"
      ],
      "text/latex": [
       "\\begin{enumerate*}\n",
       "\\item 513297\n",
       "\\item 4\n",
       "\\end{enumerate*}\n"
      ],
      "text/markdown": [
       "1. 513297\n",
       "2. 4\n",
       "\n",
       "\n"
      ],
      "text/plain": [
       "[1] 513297      4"
      ]
     },
     "metadata": {},
     "output_type": "display_data"
    }
   ],
   "source": [
    "allregion_h3k27ac <- read.delim(\"/data/gersbachlab/lrb53/encodeCrisprWG/finalversion/figure1/k562meta/outs/comparesignal/binnedgenome.int.k562.elementReference.int.k562.h3k27ac.foldchange.txt\",\n",
    "                             header = FALSE, col.names = c(\"feature.chr\",\"feature.start\",\"feature.end\",\"signal\",\"bin.chr\",\"bin.start\",\"bin.end\")) %>%\n",
    "mutate(bin = paste0(bin.chr,\":\",bin.start,\"-\",bin.end),\n",
    "       feature_coords = paste0(feature.chr,\":\",feature.start,\"-\",feature.end),\n",
    "       feature = \"H3K27ac\") %>% \n",
    "select(feature, bin, feature_coords, signal) %>% distinct()\n",
    "\n",
    "head(allregion_h3k27ac,n=1)\n",
    "dim(allregion_h3k27ac)"
   ]
  },
  {
   "cell_type": "code",
   "execution_count": 6,
   "metadata": {},
   "outputs": [
    {
     "data": {
      "text/html": [
       "<table class=\"dataframe\">\n",
       "<caption>A data.frame: 1 × 4</caption>\n",
       "<thead>\n",
       "\t<tr><th></th><th scope=col>feature</th><th scope=col>bin</th><th scope=col>feature_coords</th><th scope=col>signal</th></tr>\n",
       "\t<tr><th></th><th scope=col>&lt;chr&gt;</th><th scope=col>&lt;chr&gt;</th><th scope=col>&lt;chr&gt;</th><th scope=col>&lt;dbl&gt;</th></tr>\n",
       "</thead>\n",
       "<tbody>\n",
       "\t<tr><th scope=row>1</th><td>DNase</td><td>chr11:4091700-4092700</td><td>chr11:4091700-4091740</td><td>0.0883702</td></tr>\n",
       "</tbody>\n",
       "</table>\n"
      ],
      "text/latex": [
       "A data.frame: 1 × 4\n",
       "\\begin{tabular}{r|llll}\n",
       "  & feature & bin & feature\\_coords & signal\\\\\n",
       "  & <chr> & <chr> & <chr> & <dbl>\\\\\n",
       "\\hline\n",
       "\t1 & DNase & chr11:4091700-4092700 & chr11:4091700-4091740 & 0.0883702\\\\\n",
       "\\end{tabular}\n"
      ],
      "text/markdown": [
       "\n",
       "A data.frame: 1 × 4\n",
       "\n",
       "| <!--/--> | feature &lt;chr&gt; | bin &lt;chr&gt; | feature_coords &lt;chr&gt; | signal &lt;dbl&gt; |\n",
       "|---|---|---|---|---|\n",
       "| 1 | DNase | chr11:4091700-4092700 | chr11:4091700-4091740 | 0.0883702 |\n",
       "\n"
      ],
      "text/plain": [
       "  feature bin                   feature_coords        signal   \n",
       "1 DNase   chr11:4091700-4092700 chr11:4091700-4091740 0.0883702"
      ]
     },
     "metadata": {},
     "output_type": "display_data"
    },
    {
     "data": {
      "text/html": [
       "<style>\n",
       ".list-inline {list-style: none; margin:0; padding: 0}\n",
       ".list-inline>li {display: inline-block}\n",
       ".list-inline>li:not(:last-child)::after {content: \"\\00b7\"; padding: 0 .5ex}\n",
       "</style>\n",
       "<ol class=list-inline><li>327467</li><li>4</li></ol>\n"
      ],
      "text/latex": [
       "\\begin{enumerate*}\n",
       "\\item 327467\n",
       "\\item 4\n",
       "\\end{enumerate*}\n"
      ],
      "text/markdown": [
       "1. 327467\n",
       "2. 4\n",
       "\n",
       "\n"
      ],
      "text/plain": [
       "[1] 327467      4"
      ]
     },
     "metadata": {},
     "output_type": "display_data"
    }
   ],
   "source": [
    "allregion_dnase <- read.delim(\"/data/gersbachlab/lrb53/encodeCrisprWG/finalversion/figure1/k562meta/outs/comparesignal/binnedgenome.int.k562.elementReference.int.k562.dnase.foldchange.txt\",\n",
    "                             header = FALSE, col.names = c(\"feature.chr\",\"feature.start\",\"feature.end\",\"signal\",\"bin.chr\",\"bin.start\",\"bin.end\")) %>%\n",
    "mutate(bin = paste0(bin.chr,\":\",bin.start,\"-\",bin.end),\n",
    "       feature_coords = paste0(feature.chr,\":\",feature.start,\"-\",feature.end),\n",
    "       feature = \"DNase\") %>% \n",
    "select(feature, bin, feature_coords, signal) %>% distinct()\n",
    "\n",
    "head(allregion_dnase,n=1)\n",
    "dim(allregion_dnase)"
   ]
  },
  {
   "cell_type": "code",
   "execution_count": 7,
   "metadata": {},
   "outputs": [
    {
     "data": {
      "text/html": [
       "<table class=\"dataframe\">\n",
       "<caption>A data.frame: 1 × 4</caption>\n",
       "<thead>\n",
       "\t<tr><th></th><th scope=col>feature</th><th scope=col>bin</th><th scope=col>feature_coords</th><th scope=col>signal</th></tr>\n",
       "\t<tr><th></th><th scope=col>&lt;chr&gt;</th><th scope=col>&lt;chr&gt;</th><th scope=col>&lt;chr&gt;</th><th scope=col>&lt;dbl&gt;</th></tr>\n",
       "</thead>\n",
       "<tbody>\n",
       "\t<tr><th scope=row>1</th><td>ATAC</td><td>chr11:4091700-4092700</td><td>chr11:4091699-4091701</td><td>0.2404</td></tr>\n",
       "</tbody>\n",
       "</table>\n"
      ],
      "text/latex": [
       "A data.frame: 1 × 4\n",
       "\\begin{tabular}{r|llll}\n",
       "  & feature & bin & feature\\_coords & signal\\\\\n",
       "  & <chr> & <chr> & <chr> & <dbl>\\\\\n",
       "\\hline\n",
       "\t1 & ATAC & chr11:4091700-4092700 & chr11:4091699-4091701 & 0.2404\\\\\n",
       "\\end{tabular}\n"
      ],
      "text/markdown": [
       "\n",
       "A data.frame: 1 × 4\n",
       "\n",
       "| <!--/--> | feature &lt;chr&gt; | bin &lt;chr&gt; | feature_coords &lt;chr&gt; | signal &lt;dbl&gt; |\n",
       "|---|---|---|---|---|\n",
       "| 1 | ATAC | chr11:4091700-4092700 | chr11:4091699-4091701 | 0.2404 |\n",
       "\n"
      ],
      "text/plain": [
       "  feature bin                   feature_coords        signal\n",
       "1 ATAC    chr11:4091700-4092700 chr11:4091699-4091701 0.2404"
      ]
     },
     "metadata": {},
     "output_type": "display_data"
    },
    {
     "data": {
      "text/html": [
       "<style>\n",
       ".list-inline {list-style: none; margin:0; padding: 0}\n",
       ".list-inline>li {display: inline-block}\n",
       ".list-inline>li:not(:last-child)::after {content: \"\\00b7\"; padding: 0 .5ex}\n",
       "</style>\n",
       "<ol class=list-inline><li>1091053</li><li>4</li></ol>\n"
      ],
      "text/latex": [
       "\\begin{enumerate*}\n",
       "\\item 1091053\n",
       "\\item 4\n",
       "\\end{enumerate*}\n"
      ],
      "text/markdown": [
       "1. 1091053\n",
       "2. 4\n",
       "\n",
       "\n"
      ],
      "text/plain": [
       "[1] 1091053       4"
      ]
     },
     "metadata": {},
     "output_type": "display_data"
    }
   ],
   "source": [
    "allregion_atac <- read.delim(\"/data/gersbachlab/lrb53/encodeCrisprWG/finalversion/figure1/k562meta/outs/comparesignal/binnedgenome.int.k562.elementReference.int.k562.atac.foldchange.txt\",\n",
    "                             header = FALSE, col.names = c(\"feature.chr\",\"feature.start\",\"feature.end\",\"signal\",\"bin.chr\",\"bin.start\",\"bin.end\")) %>%\n",
    "mutate(bin = paste0(bin.chr,\":\",bin.start,\"-\",bin.end),\n",
    "       feature_coords = paste0(feature.chr,\":\",feature.start,\"-\",feature.end),\n",
    "       feature = \"ATAC\") %>% \n",
    "select(feature, bin, feature_coords, signal) %>% distinct()\n",
    "\n",
    "head(allregion_atac,n=1)\n",
    "dim(allregion_atac)"
   ]
  },
  {
   "cell_type": "code",
   "execution_count": 8,
   "metadata": {},
   "outputs": [
    {
     "data": {
      "text/html": [
       "<table class=\"dataframe\">\n",
       "<caption>A data.frame: 1 × 4</caption>\n",
       "<thead>\n",
       "\t<tr><th></th><th scope=col>feature</th><th scope=col>bin</th><th scope=col>feature_coords</th><th scope=col>signal</th></tr>\n",
       "\t<tr><th></th><th scope=col>&lt;chr&gt;</th><th scope=col>&lt;chr&gt;</th><th scope=col>&lt;chr&gt;</th><th scope=col>&lt;dbl&gt;</th></tr>\n",
       "</thead>\n",
       "<tbody>\n",
       "\t<tr><th scope=row>1</th><td>ATAC</td><td>chr11:4091700-4092700</td><td>chr11:4091699-4091701</td><td>0.2404</td></tr>\n",
       "</tbody>\n",
       "</table>\n"
      ],
      "text/latex": [
       "A data.frame: 1 × 4\n",
       "\\begin{tabular}{r|llll}\n",
       "  & feature & bin & feature\\_coords & signal\\\\\n",
       "  & <chr> & <chr> & <chr> & <dbl>\\\\\n",
       "\\hline\n",
       "\t1 & ATAC & chr11:4091700-4092700 & chr11:4091699-4091701 & 0.2404\\\\\n",
       "\\end{tabular}\n"
      ],
      "text/markdown": [
       "\n",
       "A data.frame: 1 × 4\n",
       "\n",
       "| <!--/--> | feature &lt;chr&gt; | bin &lt;chr&gt; | feature_coords &lt;chr&gt; | signal &lt;dbl&gt; |\n",
       "|---|---|---|---|---|\n",
       "| 1 | ATAC | chr11:4091700-4092700 | chr11:4091699-4091701 | 0.2404 |\n",
       "\n"
      ],
      "text/plain": [
       "  feature bin                   feature_coords        signal\n",
       "1 ATAC    chr11:4091700-4092700 chr11:4091699-4091701 0.2404"
      ]
     },
     "metadata": {},
     "output_type": "display_data"
    },
    {
     "data": {
      "text/html": [
       "<style>\n",
       ".list-inline {list-style: none; margin:0; padding: 0}\n",
       ".list-inline>li {display: inline-block}\n",
       ".list-inline>li:not(:last-child)::after {content: \"\\00b7\"; padding: 0 .5ex}\n",
       "</style>\n",
       "<ol class=list-inline><li>1091053</li><li>4</li></ol>\n"
      ],
      "text/latex": [
       "\\begin{enumerate*}\n",
       "\\item 1091053\n",
       "\\item 4\n",
       "\\end{enumerate*}\n"
      ],
      "text/markdown": [
       "1. 1091053\n",
       "2. 4\n",
       "\n",
       "\n"
      ],
      "text/plain": [
       "[1] 1091053       4"
      ]
     },
     "metadata": {},
     "output_type": "display_data"
    }
   ],
   "source": [
    "allregion_h3k4me1 <- read.delim(\"/data/gersbachlab/lrb53/encodeCrisprWG/finalversion/figure1/k562meta/outs/comparesignal/binnedgenome.int.k562.elementReference.int.k562.h3k4me1.foldchange.txt\",\n",
    "                             header = FALSE, col.names = c(\"feature.chr\",\"feature.start\",\"feature.end\",\"signal\",\"bin.chr\",\"bin.start\",\"bin.end\")) %>%\n",
    "mutate(bin = paste0(bin.chr,\":\",bin.start,\"-\",bin.end),\n",
    "       feature_coords = paste0(feature.chr,\":\",feature.start,\"-\",feature.end),\n",
    "       feature = \"H3K4me1\") %>% \n",
    "select(feature, bin, feature_coords, signal) %>% distinct()\n",
    "\n",
    "head(allregion_atac,n=1)\n",
    "dim(allregion_atac)"
   ]
  },
  {
   "cell_type": "code",
   "execution_count": 9,
   "metadata": {},
   "outputs": [
    {
     "data": {
      "text/html": [
       "<table class=\"dataframe\">\n",
       "<caption>A data.frame: 1 × 4</caption>\n",
       "<thead>\n",
       "\t<tr><th></th><th scope=col>feature</th><th scope=col>bin</th><th scope=col>feature_coords</th><th scope=col>signal</th></tr>\n",
       "\t<tr><th></th><th scope=col>&lt;chr&gt;</th><th scope=col>&lt;chr&gt;</th><th scope=col>&lt;chr&gt;</th><th scope=col>&lt;dbl&gt;</th></tr>\n",
       "</thead>\n",
       "<tbody>\n",
       "\t<tr><th scope=row>1</th><td>ATAC</td><td>chr11:4091700-4092700</td><td>chr11:4091699-4091701</td><td>0.2404</td></tr>\n",
       "</tbody>\n",
       "</table>\n"
      ],
      "text/latex": [
       "A data.frame: 1 × 4\n",
       "\\begin{tabular}{r|llll}\n",
       "  & feature & bin & feature\\_coords & signal\\\\\n",
       "  & <chr> & <chr> & <chr> & <dbl>\\\\\n",
       "\\hline\n",
       "\t1 & ATAC & chr11:4091700-4092700 & chr11:4091699-4091701 & 0.2404\\\\\n",
       "\\end{tabular}\n"
      ],
      "text/markdown": [
       "\n",
       "A data.frame: 1 × 4\n",
       "\n",
       "| <!--/--> | feature &lt;chr&gt; | bin &lt;chr&gt; | feature_coords &lt;chr&gt; | signal &lt;dbl&gt; |\n",
       "|---|---|---|---|---|\n",
       "| 1 | ATAC | chr11:4091700-4092700 | chr11:4091699-4091701 | 0.2404 |\n",
       "\n"
      ],
      "text/plain": [
       "  feature bin                   feature_coords        signal\n",
       "1 ATAC    chr11:4091700-4092700 chr11:4091699-4091701 0.2404"
      ]
     },
     "metadata": {},
     "output_type": "display_data"
    },
    {
     "data": {
      "text/html": [
       "<style>\n",
       ".list-inline {list-style: none; margin:0; padding: 0}\n",
       ".list-inline>li {display: inline-block}\n",
       ".list-inline>li:not(:last-child)::after {content: \"\\00b7\"; padding: 0 .5ex}\n",
       "</style>\n",
       "<ol class=list-inline><li>1091053</li><li>4</li></ol>\n"
      ],
      "text/latex": [
       "\\begin{enumerate*}\n",
       "\\item 1091053\n",
       "\\item 4\n",
       "\\end{enumerate*}\n"
      ],
      "text/markdown": [
       "1. 1091053\n",
       "2. 4\n",
       "\n",
       "\n"
      ],
      "text/plain": [
       "[1] 1091053       4"
      ]
     },
     "metadata": {},
     "output_type": "display_data"
    }
   ],
   "source": [
    "allregion_h3k4me3 <- read.delim(\"/data/gersbachlab/lrb53/encodeCrisprWG/finalversion/figure1/k562meta/outs/comparesignal/binnedgenome.int.k562.elementReference.int.k562.h3k4me3.foldchange.txt\",\n",
    "                             header = FALSE, col.names = c(\"feature.chr\",\"feature.start\",\"feature.end\",\"signal\",\"bin.chr\",\"bin.start\",\"bin.end\")) %>%\n",
    "mutate(bin = paste0(bin.chr,\":\",bin.start,\"-\",bin.end),\n",
    "       feature_coords = paste0(feature.chr,\":\",feature.start,\"-\",feature.end),\n",
    "       feature = \"H3K4me3\") %>% \n",
    "select(feature, bin, feature_coords, signal) %>% distinct()\n",
    "\n",
    "head(allregion_atac,n=1)\n",
    "dim(allregion_atac)"
   ]
  },
  {
   "cell_type": "code",
   "execution_count": 10,
   "metadata": {},
   "outputs": [
    {
     "data": {
      "text/html": [
       "<table class=\"dataframe\">\n",
       "<caption>A data.frame: 1 × 4</caption>\n",
       "<thead>\n",
       "\t<tr><th></th><th scope=col>feature</th><th scope=col>bin</th><th scope=col>feature_coords</th><th scope=col>signal</th></tr>\n",
       "\t<tr><th></th><th scope=col>&lt;chr&gt;</th><th scope=col>&lt;chr&gt;</th><th scope=col>&lt;chr&gt;</th><th scope=col>&lt;dbl&gt;</th></tr>\n",
       "</thead>\n",
       "<tbody>\n",
       "\t<tr><th scope=row>1</th><td>ATAC</td><td>chr11:4091700-4092700</td><td>chr11:4091699-4091701</td><td>0.2404</td></tr>\n",
       "</tbody>\n",
       "</table>\n"
      ],
      "text/latex": [
       "A data.frame: 1 × 4\n",
       "\\begin{tabular}{r|llll}\n",
       "  & feature & bin & feature\\_coords & signal\\\\\n",
       "  & <chr> & <chr> & <chr> & <dbl>\\\\\n",
       "\\hline\n",
       "\t1 & ATAC & chr11:4091700-4092700 & chr11:4091699-4091701 & 0.2404\\\\\n",
       "\\end{tabular}\n"
      ],
      "text/markdown": [
       "\n",
       "A data.frame: 1 × 4\n",
       "\n",
       "| <!--/--> | feature &lt;chr&gt; | bin &lt;chr&gt; | feature_coords &lt;chr&gt; | signal &lt;dbl&gt; |\n",
       "|---|---|---|---|---|\n",
       "| 1 | ATAC | chr11:4091700-4092700 | chr11:4091699-4091701 | 0.2404 |\n",
       "\n"
      ],
      "text/plain": [
       "  feature bin                   feature_coords        signal\n",
       "1 ATAC    chr11:4091700-4092700 chr11:4091699-4091701 0.2404"
      ]
     },
     "metadata": {},
     "output_type": "display_data"
    },
    {
     "data": {
      "text/html": [
       "<style>\n",
       ".list-inline {list-style: none; margin:0; padding: 0}\n",
       ".list-inline>li {display: inline-block}\n",
       ".list-inline>li:not(:last-child)::after {content: \"\\00b7\"; padding: 0 .5ex}\n",
       "</style>\n",
       "<ol class=list-inline><li>1091053</li><li>4</li></ol>\n"
      ],
      "text/latex": [
       "\\begin{enumerate*}\n",
       "\\item 1091053\n",
       "\\item 4\n",
       "\\end{enumerate*}\n"
      ],
      "text/markdown": [
       "1. 1091053\n",
       "2. 4\n",
       "\n",
       "\n"
      ],
      "text/plain": [
       "[1] 1091053       4"
      ]
     },
     "metadata": {},
     "output_type": "display_data"
    }
   ],
   "source": [
    "allregion_h3k9me3 <- read.delim(\"/data/gersbachlab/lrb53/encodeCrisprWG/finalversion/figure1/k562meta/outs/comparesignal/binnedgenome.int.k562.elementReference.int.k562.h3k9me3.foldchange.txt\",\n",
    "                             header = FALSE, col.names = c(\"feature.chr\",\"feature.start\",\"feature.end\",\"signal\",\"bin.chr\",\"bin.start\",\"bin.end\")) %>%\n",
    "mutate(bin = paste0(bin.chr,\":\",bin.start,\"-\",bin.end),\n",
    "       feature_coords = paste0(feature.chr,\":\",feature.start,\"-\",feature.end),\n",
    "       feature = \"H3K9me3\") %>% \n",
    "select(feature, bin, feature_coords, signal) %>% distinct()\n",
    "\n",
    "head(allregion_atac,n=1)\n",
    "dim(allregion_atac)"
   ]
  },
  {
   "cell_type": "code",
   "execution_count": 11,
   "metadata": {},
   "outputs": [
    {
     "data": {
      "text/html": [
       "<table class=\"dataframe\">\n",
       "<caption>A data.frame: 1 × 4</caption>\n",
       "<thead>\n",
       "\t<tr><th></th><th scope=col>feature</th><th scope=col>bin</th><th scope=col>feature_coords</th><th scope=col>signal</th></tr>\n",
       "\t<tr><th></th><th scope=col>&lt;chr&gt;</th><th scope=col>&lt;chr&gt;</th><th scope=col>&lt;chr&gt;</th><th scope=col>&lt;dbl&gt;</th></tr>\n",
       "</thead>\n",
       "<tbody>\n",
       "\t<tr><th scope=row>1</th><td>ATAC</td><td>chr11:4091700-4092700</td><td>chr11:4091699-4091701</td><td>0.2404</td></tr>\n",
       "</tbody>\n",
       "</table>\n"
      ],
      "text/latex": [
       "A data.frame: 1 × 4\n",
       "\\begin{tabular}{r|llll}\n",
       "  & feature & bin & feature\\_coords & signal\\\\\n",
       "  & <chr> & <chr> & <chr> & <dbl>\\\\\n",
       "\\hline\n",
       "\t1 & ATAC & chr11:4091700-4092700 & chr11:4091699-4091701 & 0.2404\\\\\n",
       "\\end{tabular}\n"
      ],
      "text/markdown": [
       "\n",
       "A data.frame: 1 × 4\n",
       "\n",
       "| <!--/--> | feature &lt;chr&gt; | bin &lt;chr&gt; | feature_coords &lt;chr&gt; | signal &lt;dbl&gt; |\n",
       "|---|---|---|---|---|\n",
       "| 1 | ATAC | chr11:4091700-4092700 | chr11:4091699-4091701 | 0.2404 |\n",
       "\n"
      ],
      "text/plain": [
       "  feature bin                   feature_coords        signal\n",
       "1 ATAC    chr11:4091700-4092700 chr11:4091699-4091701 0.2404"
      ]
     },
     "metadata": {},
     "output_type": "display_data"
    },
    {
     "data": {
      "text/html": [
       "<style>\n",
       ".list-inline {list-style: none; margin:0; padding: 0}\n",
       ".list-inline>li {display: inline-block}\n",
       ".list-inline>li:not(:last-child)::after {content: \"\\00b7\"; padding: 0 .5ex}\n",
       "</style>\n",
       "<ol class=list-inline><li>1091053</li><li>4</li></ol>\n"
      ],
      "text/latex": [
       "\\begin{enumerate*}\n",
       "\\item 1091053\n",
       "\\item 4\n",
       "\\end{enumerate*}\n"
      ],
      "text/markdown": [
       "1. 1091053\n",
       "2. 4\n",
       "\n",
       "\n"
      ],
      "text/plain": [
       "[1] 1091053       4"
      ]
     },
     "metadata": {},
     "output_type": "display_data"
    }
   ],
   "source": [
    "allregion_h3k27me3 <- read.delim(\"/data/gersbachlab/lrb53/encodeCrisprWG/finalversion/figure1/k562meta/outs/comparesignal/binnedgenome.int.k562.elementReference.int.k562.h3k27me3.foldchange.txt\",\n",
    "                             header = FALSE, col.names = c(\"feature.chr\",\"feature.start\",\"feature.end\",\"signal\",\"bin.chr\",\"bin.start\",\"bin.end\")) %>%\n",
    "mutate(bin = paste0(bin.chr,\":\",bin.start,\"-\",bin.end),\n",
    "       feature_coords = paste0(feature.chr,\":\",feature.start,\"-\",feature.end),\n",
    "       feature = \"H3K27me3\") %>% \n",
    "select(feature, bin, feature_coords, signal) %>% distinct()\n",
    "\n",
    "head(allregion_atac,n=1)\n",
    "dim(allregion_atac)"
   ]
  },
  {
   "cell_type": "code",
   "execution_count": 12,
   "metadata": {},
   "outputs": [
    {
     "data": {
      "text/html": [
       "<table class=\"dataframe\">\n",
       "<caption>A data.frame: 1 × 4</caption>\n",
       "<thead>\n",
       "\t<tr><th></th><th scope=col>feature</th><th scope=col>bin</th><th scope=col>feature_coords</th><th scope=col>signal</th></tr>\n",
       "\t<tr><th></th><th scope=col>&lt;chr&gt;</th><th scope=col>&lt;chr&gt;</th><th scope=col>&lt;chr&gt;</th><th scope=col>&lt;dbl&gt;</th></tr>\n",
       "</thead>\n",
       "<tbody>\n",
       "\t<tr><th scope=row>1</th><td>ATAC</td><td>chr11:4091700-4092700</td><td>chr11:4091699-4091701</td><td>0.2404</td></tr>\n",
       "</tbody>\n",
       "</table>\n"
      ],
      "text/latex": [
       "A data.frame: 1 × 4\n",
       "\\begin{tabular}{r|llll}\n",
       "  & feature & bin & feature\\_coords & signal\\\\\n",
       "  & <chr> & <chr> & <chr> & <dbl>\\\\\n",
       "\\hline\n",
       "\t1 & ATAC & chr11:4091700-4092700 & chr11:4091699-4091701 & 0.2404\\\\\n",
       "\\end{tabular}\n"
      ],
      "text/markdown": [
       "\n",
       "A data.frame: 1 × 4\n",
       "\n",
       "| <!--/--> | feature &lt;chr&gt; | bin &lt;chr&gt; | feature_coords &lt;chr&gt; | signal &lt;dbl&gt; |\n",
       "|---|---|---|---|---|\n",
       "| 1 | ATAC | chr11:4091700-4092700 | chr11:4091699-4091701 | 0.2404 |\n",
       "\n"
      ],
      "text/plain": [
       "  feature bin                   feature_coords        signal\n",
       "1 ATAC    chr11:4091700-4092700 chr11:4091699-4091701 0.2404"
      ]
     },
     "metadata": {},
     "output_type": "display_data"
    },
    {
     "data": {
      "text/html": [
       "<style>\n",
       ".list-inline {list-style: none; margin:0; padding: 0}\n",
       ".list-inline>li {display: inline-block}\n",
       ".list-inline>li:not(:last-child)::after {content: \"\\00b7\"; padding: 0 .5ex}\n",
       "</style>\n",
       "<ol class=list-inline><li>1091053</li><li>4</li></ol>\n"
      ],
      "text/latex": [
       "\\begin{enumerate*}\n",
       "\\item 1091053\n",
       "\\item 4\n",
       "\\end{enumerate*}\n"
      ],
      "text/markdown": [
       "1. 1091053\n",
       "2. 4\n",
       "\n",
       "\n"
      ],
      "text/plain": [
       "[1] 1091053       4"
      ]
     },
     "metadata": {},
     "output_type": "display_data"
    }
   ],
   "source": [
    "allregion_ep300 <- read.delim(\"/data/gersbachlab/lrb53/encodeCrisprWG/finalversion/figure1/k562meta/outs/comparesignal/binnedgenome.int.k562.elementReference.int.k562.ep300.foldchange.txt\",\n",
    "                             header = FALSE, col.names = c(\"feature.chr\",\"feature.start\",\"feature.end\",\"signal\",\"bin.chr\",\"bin.start\",\"bin.end\")) %>%\n",
    "mutate(bin = paste0(bin.chr,\":\",bin.start,\"-\",bin.end),\n",
    "       feature_coords = paste0(feature.chr,\":\",feature.start,\"-\",feature.end),\n",
    "       feature = \"EP300\") %>% \n",
    "select(feature, bin, feature_coords, signal) %>% distinct()\n",
    "\n",
    "head(allregion_atac,n=1)\n",
    "dim(allregion_atac)"
   ]
  },
  {
   "cell_type": "code",
   "execution_count": 13,
   "metadata": {},
   "outputs": [
    {
     "data": {
      "text/html": [
       "<table class=\"dataframe\">\n",
       "<caption>A data.frame: 1 × 4</caption>\n",
       "<thead>\n",
       "\t<tr><th></th><th scope=col>feature</th><th scope=col>bin</th><th scope=col>feature_coords</th><th scope=col>signal</th></tr>\n",
       "\t<tr><th></th><th scope=col>&lt;chr&gt;</th><th scope=col>&lt;chr&gt;</th><th scope=col>&lt;chr&gt;</th><th scope=col>&lt;dbl&gt;</th></tr>\n",
       "</thead>\n",
       "<tbody>\n",
       "\t<tr><th scope=row>1</th><td>ATAC</td><td>chr11:4091700-4092700</td><td>chr11:4091699-4091701</td><td>0.2404</td></tr>\n",
       "</tbody>\n",
       "</table>\n"
      ],
      "text/latex": [
       "A data.frame: 1 × 4\n",
       "\\begin{tabular}{r|llll}\n",
       "  & feature & bin & feature\\_coords & signal\\\\\n",
       "  & <chr> & <chr> & <chr> & <dbl>\\\\\n",
       "\\hline\n",
       "\t1 & ATAC & chr11:4091700-4092700 & chr11:4091699-4091701 & 0.2404\\\\\n",
       "\\end{tabular}\n"
      ],
      "text/markdown": [
       "\n",
       "A data.frame: 1 × 4\n",
       "\n",
       "| <!--/--> | feature &lt;chr&gt; | bin &lt;chr&gt; | feature_coords &lt;chr&gt; | signal &lt;dbl&gt; |\n",
       "|---|---|---|---|---|\n",
       "| 1 | ATAC | chr11:4091700-4092700 | chr11:4091699-4091701 | 0.2404 |\n",
       "\n"
      ],
      "text/plain": [
       "  feature bin                   feature_coords        signal\n",
       "1 ATAC    chr11:4091700-4092700 chr11:4091699-4091701 0.2404"
      ]
     },
     "metadata": {},
     "output_type": "display_data"
    },
    {
     "data": {
      "text/html": [
       "<style>\n",
       ".list-inline {list-style: none; margin:0; padding: 0}\n",
       ".list-inline>li {display: inline-block}\n",
       ".list-inline>li:not(:last-child)::after {content: \"\\00b7\"; padding: 0 .5ex}\n",
       "</style>\n",
       "<ol class=list-inline><li>1091053</li><li>4</li></ol>\n"
      ],
      "text/latex": [
       "\\begin{enumerate*}\n",
       "\\item 1091053\n",
       "\\item 4\n",
       "\\end{enumerate*}\n"
      ],
      "text/markdown": [
       "1. 1091053\n",
       "2. 4\n",
       "\n",
       "\n"
      ],
      "text/plain": [
       "[1] 1091053       4"
      ]
     },
     "metadata": {},
     "output_type": "display_data"
    }
   ],
   "source": [
    "allregion_ctcf <- read.delim(\"/data/gersbachlab/lrb53/encodeCrisprWG/finalversion/figure1/k562meta/outs/comparesignal/binnedgenome.int.k562.elementReference.int.k562.ctcf.foldchange.txt\",\n",
    "                             header = FALSE, col.names = c(\"feature.chr\",\"feature.start\",\"feature.end\",\"signal\",\"bin.chr\",\"bin.start\",\"bin.end\")) %>%\n",
    "mutate(bin = paste0(bin.chr,\":\",bin.start,\"-\",bin.end),\n",
    "       feature_coords = paste0(feature.chr,\":\",feature.start,\"-\",feature.end),\n",
    "       feature = \"CTCF\") %>% \n",
    "select(feature, bin, feature_coords, signal) %>% distinct()\n",
    "\n",
    "head(allregion_atac,n=1)\n",
    "dim(allregion_atac)"
   ]
  },
  {
   "cell_type": "code",
   "execution_count": 14,
   "metadata": {},
   "outputs": [
    {
     "data": {
      "text/html": [
       "<table class=\"dataframe\">\n",
       "<caption>A data.frame: 1 × 4</caption>\n",
       "<thead>\n",
       "\t<tr><th></th><th scope=col>feature</th><th scope=col>bin</th><th scope=col>feature_coords</th><th scope=col>signal</th></tr>\n",
       "\t<tr><th></th><th scope=col>&lt;chr&gt;</th><th scope=col>&lt;chr&gt;</th><th scope=col>&lt;chr&gt;</th><th scope=col>&lt;dbl&gt;</th></tr>\n",
       "</thead>\n",
       "<tbody>\n",
       "\t<tr><th scope=row>1</th><td>ATAC</td><td>chr11:4091700-4092700</td><td>chr11:4091699-4091701</td><td>0.2404</td></tr>\n",
       "</tbody>\n",
       "</table>\n"
      ],
      "text/latex": [
       "A data.frame: 1 × 4\n",
       "\\begin{tabular}{r|llll}\n",
       "  & feature & bin & feature\\_coords & signal\\\\\n",
       "  & <chr> & <chr> & <chr> & <dbl>\\\\\n",
       "\\hline\n",
       "\t1 & ATAC & chr11:4091700-4092700 & chr11:4091699-4091701 & 0.2404\\\\\n",
       "\\end{tabular}\n"
      ],
      "text/markdown": [
       "\n",
       "A data.frame: 1 × 4\n",
       "\n",
       "| <!--/--> | feature &lt;chr&gt; | bin &lt;chr&gt; | feature_coords &lt;chr&gt; | signal &lt;dbl&gt; |\n",
       "|---|---|---|---|---|\n",
       "| 1 | ATAC | chr11:4091700-4092700 | chr11:4091699-4091701 | 0.2404 |\n",
       "\n"
      ],
      "text/plain": [
       "  feature bin                   feature_coords        signal\n",
       "1 ATAC    chr11:4091700-4092700 chr11:4091699-4091701 0.2404"
      ]
     },
     "metadata": {},
     "output_type": "display_data"
    },
    {
     "data": {
      "text/html": [
       "<style>\n",
       ".list-inline {list-style: none; margin:0; padding: 0}\n",
       ".list-inline>li {display: inline-block}\n",
       ".list-inline>li:not(:last-child)::after {content: \"\\00b7\"; padding: 0 .5ex}\n",
       "</style>\n",
       "<ol class=list-inline><li>1091053</li><li>4</li></ol>\n"
      ],
      "text/latex": [
       "\\begin{enumerate*}\n",
       "\\item 1091053\n",
       "\\item 4\n",
       "\\end{enumerate*}\n"
      ],
      "text/markdown": [
       "1. 1091053\n",
       "2. 4\n",
       "\n",
       "\n"
      ],
      "text/plain": [
       "[1] 1091053       4"
      ]
     },
     "metadata": {},
     "output_type": "display_data"
    }
   ],
   "source": [
    "allregion_polr2a <- read.delim(\"/data/gersbachlab/lrb53/encodeCrisprWG/finalversion/figure1/k562meta/outs/comparesignal/binnedgenome.int.k562.elementReference.int.k562.polr2a.foldchange.txt\",\n",
    "                             header = FALSE, col.names = c(\"feature.chr\",\"feature.start\",\"feature.end\",\"signal\",\"bin.chr\",\"bin.start\",\"bin.end\")) %>%\n",
    "mutate(bin = paste0(bin.chr,\":\",bin.start,\"-\",bin.end),\n",
    "       feature_coords = paste0(feature.chr,\":\",feature.start,\"-\",feature.end),\n",
    "       feature = \"POLR2A\") %>% \n",
    "select(feature, bin, feature_coords, signal) %>% distinct()\n",
    "\n",
    "head(allregion_atac,n=1)\n",
    "dim(allregion_atac)"
   ]
  },
  {
   "cell_type": "markdown",
   "metadata": {},
   "source": [
    "##### Significant regions"
   ]
  },
  {
   "cell_type": "code",
   "execution_count": 15,
   "metadata": {},
   "outputs": [
    {
     "data": {
      "text/html": [
       "210"
      ],
      "text/latex": [
       "210"
      ],
      "text/markdown": [
       "210"
      ],
      "text/plain": [
       "[1] 210"
      ]
     },
     "metadata": {},
     "output_type": "display_data"
    }
   ],
   "source": [
    "sigregion_h3k27ac <- read.delim(\"/data/gersbachlab/lrb53/encodeCrisprWG/finalversion/figure1/k562meta/outs/comparesignal/binnedgenome.int.k562.elementQuant.int.k562.h3k27ac.foldchange.txt\",\n",
    "                             header = FALSE, col.names = c(\"feature.chr\",\"feature.start\",\"feature.end\",\"signal\",\"bin.chr\",\"bin.start\",\"bin.end\")) %>%\n",
    "mutate(bin = paste0(bin.chr,\":\",bin.start,\"-\",bin.end)) %>%\n",
    "select(bin) %>% distinct() %>% pull()\n",
    "\n",
    "length(sigregion_h3k27ac)"
   ]
  },
  {
   "cell_type": "code",
   "execution_count": 16,
   "metadata": {},
   "outputs": [
    {
     "data": {
      "text/html": [
       "210"
      ],
      "text/latex": [
       "210"
      ],
      "text/markdown": [
       "210"
      ],
      "text/plain": [
       "[1] 210"
      ]
     },
     "metadata": {},
     "output_type": "display_data"
    }
   ],
   "source": [
    "sigregion_dnase <- read.delim(\"/data/gersbachlab/lrb53/encodeCrisprWG/finalversion/figure1/k562meta/outs/comparesignal/binnedgenome.int.k562.elementQuant.int.k562.dnase.foldchange.txt\",\n",
    "                             header = FALSE, col.names = c(\"feature.chr\",\"feature.start\",\"feature.end\",\"signal\",\"bin.chr\",\"bin.start\",\"bin.end\")) %>%\n",
    "mutate(bin = paste0(bin.chr,\":\",bin.start,\"-\",bin.end)) %>%\n",
    "select(bin) %>% distinct() %>% pull()\n",
    "\n",
    "length(sigregion_dnase)"
   ]
  },
  {
   "cell_type": "code",
   "execution_count": 17,
   "metadata": {},
   "outputs": [
    {
     "data": {
      "text/html": [
       "210"
      ],
      "text/latex": [
       "210"
      ],
      "text/markdown": [
       "210"
      ],
      "text/plain": [
       "[1] 210"
      ]
     },
     "metadata": {},
     "output_type": "display_data"
    }
   ],
   "source": [
    "sigregion_atac <- read.delim(\"/data/gersbachlab/lrb53/encodeCrisprWG/finalversion/figure1/k562meta/outs/comparesignal/binnedgenome.int.k562.elementQuant.int.k562.atac.foldchange.txt\",\n",
    "                             header = FALSE, col.names = c(\"feature.chr\",\"feature.start\",\"feature.end\",\"signal\",\"bin.chr\",\"bin.start\",\"bin.end\")) %>%\n",
    "mutate(bin = paste0(bin.chr,\":\",bin.start,\"-\",bin.end)) %>%\n",
    "select(bin) %>% distinct() %>% pull()\n",
    "\n",
    "length(sigregion_atac)"
   ]
  },
  {
   "cell_type": "code",
   "execution_count": 18,
   "metadata": {},
   "outputs": [
    {
     "data": {
      "text/html": [
       "210"
      ],
      "text/latex": [
       "210"
      ],
      "text/markdown": [
       "210"
      ],
      "text/plain": [
       "[1] 210"
      ]
     },
     "metadata": {},
     "output_type": "display_data"
    }
   ],
   "source": [
    "sigregion_h3k4me1 <- read.delim(\"/data/gersbachlab/lrb53/encodeCrisprWG/finalversion/figure1/k562meta/outs/comparesignal/binnedgenome.int.k562.elementQuant.int.k562.h3k4me1.foldchange.txt\",\n",
    "                             header = FALSE, col.names = c(\"feature.chr\",\"feature.start\",\"feature.end\",\"signal\",\"bin.chr\",\"bin.start\",\"bin.end\")) %>%\n",
    "mutate(bin = paste0(bin.chr,\":\",bin.start,\"-\",bin.end)) %>%\n",
    "select(bin) %>% distinct() %>% pull()\n",
    "\n",
    "length(sigregion_atac)"
   ]
  },
  {
   "cell_type": "code",
   "execution_count": 19,
   "metadata": {},
   "outputs": [
    {
     "data": {
      "text/html": [
       "210"
      ],
      "text/latex": [
       "210"
      ],
      "text/markdown": [
       "210"
      ],
      "text/plain": [
       "[1] 210"
      ]
     },
     "metadata": {},
     "output_type": "display_data"
    }
   ],
   "source": [
    "sigregion_h3k4me3 <- read.delim(\"/data/gersbachlab/lrb53/encodeCrisprWG/finalversion/figure1/k562meta/outs/comparesignal/binnedgenome.int.k562.elementQuant.int.k562.h3k4me3.foldchange.txt\",\n",
    "                             header = FALSE, col.names = c(\"feature.chr\",\"feature.start\",\"feature.end\",\"signal\",\"bin.chr\",\"bin.start\",\"bin.end\")) %>%\n",
    "mutate(bin = paste0(bin.chr,\":\",bin.start,\"-\",bin.end)) %>%\n",
    "select(bin) %>% distinct() %>% pull()\n",
    "\n",
    "length(sigregion_atac)"
   ]
  },
  {
   "cell_type": "code",
   "execution_count": 20,
   "metadata": {},
   "outputs": [
    {
     "data": {
      "text/html": [
       "210"
      ],
      "text/latex": [
       "210"
      ],
      "text/markdown": [
       "210"
      ],
      "text/plain": [
       "[1] 210"
      ]
     },
     "metadata": {},
     "output_type": "display_data"
    }
   ],
   "source": [
    "sigregion_h3k9me3 <- read.delim(\"/data/gersbachlab/lrb53/encodeCrisprWG/finalversion/figure1/k562meta/outs/comparesignal/binnedgenome.int.k562.elementQuant.int.k562.h3k9me3.foldchange.txt\",\n",
    "                             header = FALSE, col.names = c(\"feature.chr\",\"feature.start\",\"feature.end\",\"signal\",\"bin.chr\",\"bin.start\",\"bin.end\")) %>%\n",
    "mutate(bin = paste0(bin.chr,\":\",bin.start,\"-\",bin.end)) %>%\n",
    "select(bin) %>% distinct() %>% pull()\n",
    "\n",
    "length(sigregion_atac)"
   ]
  },
  {
   "cell_type": "code",
   "execution_count": 21,
   "metadata": {},
   "outputs": [
    {
     "data": {
      "text/html": [
       "210"
      ],
      "text/latex": [
       "210"
      ],
      "text/markdown": [
       "210"
      ],
      "text/plain": [
       "[1] 210"
      ]
     },
     "metadata": {},
     "output_type": "display_data"
    }
   ],
   "source": [
    "sigregion_h3k27me3 <- read.delim(\"/data/gersbachlab/lrb53/encodeCrisprWG/finalversion/figure1/k562meta/outs/comparesignal/binnedgenome.int.k562.elementQuant.int.k562.h3k27me3.foldchange.txt\",\n",
    "                             header = FALSE, col.names = c(\"feature.chr\",\"feature.start\",\"feature.end\",\"signal\",\"bin.chr\",\"bin.start\",\"bin.end\")) %>%\n",
    "mutate(bin = paste0(bin.chr,\":\",bin.start,\"-\",bin.end)) %>%\n",
    "select(bin) %>% distinct() %>% pull()\n",
    "\n",
    "length(sigregion_atac)"
   ]
  },
  {
   "cell_type": "code",
   "execution_count": 22,
   "metadata": {},
   "outputs": [
    {
     "data": {
      "text/html": [
       "210"
      ],
      "text/latex": [
       "210"
      ],
      "text/markdown": [
       "210"
      ],
      "text/plain": [
       "[1] 210"
      ]
     },
     "metadata": {},
     "output_type": "display_data"
    }
   ],
   "source": [
    "sigregion_ep300 <- read.delim(\"/data/gersbachlab/lrb53/encodeCrisprWG/finalversion/figure1/k562meta/outs/comparesignal/binnedgenome.int.k562.elementQuant.int.k562.ep300.foldchange.txt\",\n",
    "                             header = FALSE, col.names = c(\"feature.chr\",\"feature.start\",\"feature.end\",\"signal\",\"bin.chr\",\"bin.start\",\"bin.end\")) %>%\n",
    "mutate(bin = paste0(bin.chr,\":\",bin.start,\"-\",bin.end)) %>%\n",
    "select(bin) %>% distinct() %>% pull()\n",
    "\n",
    "length(sigregion_atac)"
   ]
  },
  {
   "cell_type": "code",
   "execution_count": 23,
   "metadata": {},
   "outputs": [
    {
     "data": {
      "text/html": [
       "210"
      ],
      "text/latex": [
       "210"
      ],
      "text/markdown": [
       "210"
      ],
      "text/plain": [
       "[1] 210"
      ]
     },
     "metadata": {},
     "output_type": "display_data"
    }
   ],
   "source": [
    "sigregion_ctcf <- read.delim(\"/data/gersbachlab/lrb53/encodeCrisprWG/finalversion/figure1/k562meta/outs/comparesignal/binnedgenome.int.k562.elementQuant.int.k562.ctcf.foldchange.txt\",\n",
    "                             header = FALSE, col.names = c(\"feature.chr\",\"feature.start\",\"feature.end\",\"signal\",\"bin.chr\",\"bin.start\",\"bin.end\")) %>%\n",
    "mutate(bin = paste0(bin.chr,\":\",bin.start,\"-\",bin.end)) %>%\n",
    "select(bin) %>% distinct() %>% pull()\n",
    "\n",
    "length(sigregion_atac)"
   ]
  },
  {
   "cell_type": "code",
   "execution_count": 24,
   "metadata": {},
   "outputs": [
    {
     "data": {
      "text/html": [
       "210"
      ],
      "text/latex": [
       "210"
      ],
      "text/markdown": [
       "210"
      ],
      "text/plain": [
       "[1] 210"
      ]
     },
     "metadata": {},
     "output_type": "display_data"
    }
   ],
   "source": [
    "sigregion_polr2a <- read.delim(\"/data/gersbachlab/lrb53/encodeCrisprWG/finalversion/figure1/k562meta/outs/comparesignal/binnedgenome.int.k562.elementQuant.int.k562.polr2a.foldchange.txt\",\n",
    "                             header = FALSE, col.names = c(\"feature.chr\",\"feature.start\",\"feature.end\",\"signal\",\"bin.chr\",\"bin.start\",\"bin.end\")) %>%\n",
    "mutate(bin = paste0(bin.chr,\":\",bin.start,\"-\",bin.end)) %>%\n",
    "select(bin) %>% distinct() %>% pull()\n",
    "\n",
    "length(sigregion_atac)"
   ]
  },
  {
   "cell_type": "markdown",
   "metadata": {},
   "source": [
    "# Run all above"
   ]
  },
  {
   "cell_type": "markdown",
   "metadata": {},
   "source": [
    "### Compare signal between significant and non-significant regions, do NOT require overlap with a feature. Now add normalization for region size.\n",
    "\n",
    "Q: Which features \"explain\"/\"predict\" a functional element?"
   ]
  },
  {
   "cell_type": "markdown",
   "metadata": {},
   "source": [
    "#### Generate working df"
   ]
  },
  {
   "cell_type": "code",
   "execution_count": 25,
   "metadata": {},
   "outputs": [],
   "source": [
    "# plotdf <-\n",
    "# rbind(\n",
    "#     allregion_h3k4me1 %>%\n",
    "#     mutate(result = ifelse(bin %in% sigregion_h3k4me1$bin, \"Significant\",\"Not significant\")) %>%\n",
    "#     separate(feature_coords, into = c(\"chr\",\"start\",\"end\")) %>%\n",
    "#     mutate(region_size = as.numeric(end) - as.numeric(start),\n",
    "#        signal_scaled = signal/region_size),\n",
    "#     allregion_h3k4me3 %>%\n",
    "#     mutate(result = ifelse(bin %in% sigregion_h3k4me1$bin, \"Significant\",\"Not significant\")) %>%\n",
    "#     separate(feature_coords, into = c(\"chr\",\"start\",\"end\")) %>%\n",
    "#     mutate(region_size = as.numeric(end) - as.numeric(start),\n",
    "#        signal_scaled = signal/region_size),\n",
    "#     allregion_h3k9me3 %>%\n",
    "#     mutate(result = ifelse(bin %in% sigregion_h3k9me3$bin, \"Significant\",\"Not significant\")) %>%\n",
    "#     separate(feature_coords, into = c(\"chr\",\"start\",\"end\")) %>%\n",
    "#     mutate(region_size = as.numeric(end) - as.numeric(start),\n",
    "#        signal_scaled = signal/region_size),\n",
    "#     allregion_h3k27ac %>%\n",
    "#     mutate(result = ifelse(bin %in% sigregion_h3k27ac$bin, \"Significant\",\"Not significant\")) %>%\n",
    "#     separate(feature_coords, into = c(\"chr\",\"start\",\"end\")) %>%\n",
    "#     mutate(region_size = as.numeric(end) - as.numeric(start),\n",
    "#        signal_scaled = signal/region_size),\n",
    "#     allregion_h3k27me3 %>%\n",
    "#     mutate(result = ifelse(bin %in% sigregion_h3k27me3$bin, \"Significant\",\"Not significant\")) %>%\n",
    "#     separate(feature_coords, into = c(\"chr\",\"start\",\"end\")) %>%\n",
    "#     mutate(region_size = as.numeric(end) - as.numeric(start),\n",
    "#        signal_scaled = signal/region_size),\n",
    "#     allregion_ep300 %>%\n",
    "#     mutate(result = ifelse(bin %in% sigregion_ep300$bin, \"Significant\",\"Not significant\")) %>%\n",
    "#     separate(feature_coords, into = c(\"chr\",\"start\",\"end\")) %>%\n",
    "#     mutate(region_size = as.numeric(end) - as.numeric(start),\n",
    "#        signal_scaled = signal/region_size),\n",
    "#     allregion_ctcf %>%\n",
    "#     mutate(result = ifelse(bin %in% sigregion_ctcf$bin, \"Significant\",\"Not significant\")) %>%\n",
    "#     separate(feature_coords, into = c(\"chr\",\"start\",\"end\")) %>%\n",
    "#     mutate(region_size = as.numeric(end) - as.numeric(start),\n",
    "#        signal_scaled = signal/region_size),\n",
    "#     allregion_polr2a %>%\n",
    "#     mutate(result = ifelse(bin %in% sigregion_polr2a$bin, \"Significant\",\"Not significant\")) %>%\n",
    "#     separate(feature_coords, into = c(\"chr\",\"start\",\"end\")) %>%\n",
    "#     mutate(region_size = as.numeric(end) - as.numeric(start),\n",
    "#        signal_scaled = signal/region_size),\n",
    "#     allregion_atac %>%\n",
    "#     mutate(result = ifelse(bin %in% sigregion_atac$bin, \"Significant\",\"Not significant\")) %>%\n",
    "#     separate(feature_coords, into = c(\"chr\",\"start\",\"end\")) %>%\n",
    "#     mutate(region_size = as.numeric(end) - as.numeric(start),\n",
    "#        signal_scaled = signal/region_size),\n",
    "#     allregion_dnase %>%\n",
    "#     mutate(result = ifelse(bin %in% sigregion_dnase$bin, \"Significant\",\"Not significant\")) %>%\n",
    "#     separate(feature_coords, into = c(\"chr\",\"start\",\"end\")) %>%\n",
    "#     mutate(region_size = as.numeric(end) - as.numeric(start),\n",
    "#        signal_scaled = signal/region_size)\n",
    "# ) \n",
    "# # separate(feature_coords, into = c(\"chr\",\"start\",\"end\")) %>%\n",
    "\n",
    "# plotdf$feature = factor(plotdf$feature, levels = c(\"H3K4me1\",\"H3K4me3\",\"H3K27ac\",\"ATAC\",\"DNase\",\"EP300\",\"POLR2A\",\"CTCF\",\"H3K9me3\",\"H3K27me3\"))\n",
    "# head(plotdf,n=1)"
   ]
  },
  {
   "cell_type": "code",
   "execution_count": 26,
   "metadata": {},
   "outputs": [],
   "source": [
    "# plotdf <-\n",
    "# rbind(\n",
    "#     allregion_h3k4me1 %>%\n",
    "#     mutate(result = ifelse(bin %in% sigregion_h3k4me1, \"Significant\",\"Not significant\")) %>%\n",
    "#     separate(feature_coords, into = c(\"chr\",\"start\",\"end\")),\n",
    "#     allregion_h3k4me3 %>%\n",
    "#     mutate(result = ifelse(bin %in% sigregion_h3k4me1, \"Significant\",\"Not significant\")) %>%\n",
    "#     separate(feature_coords, into = c(\"chr\",\"start\",\"end\")),\n",
    "#     allregion_h3k9me3 %>%\n",
    "#     mutate(result = ifelse(bin %in% sigregion_h3k9me3, \"Significant\",\"Not significant\")) %>%\n",
    "#     separate(feature_coords, into = c(\"chr\",\"start\",\"end\")),\n",
    "#     allregion_h3k27ac %>%\n",
    "#     mutate(result = ifelse(bin %in% sigregion_h3k27ac, \"Significant\",\"Not significant\")) %>%\n",
    "#     separate(feature_coords, into = c(\"chr\",\"start\",\"end\")),\n",
    "#     allregion_h3k27me3 %>%\n",
    "#     mutate(result = ifelse(bin %in% sigregion_h3k27me3, \"Significant\",\"Not significant\")) %>%\n",
    "#     separate(feature_coords, into = c(\"chr\",\"start\",\"end\")),\n",
    "#     allregion_ep300 %>%\n",
    "#     mutate(result = ifelse(bin %in% sigregion_ep300, \"Significant\",\"Not significant\")) %>%\n",
    "#     separate(feature_coords, into = c(\"chr\",\"start\",\"end\")),\n",
    "#     allregion_ctcf %>%\n",
    "#     mutate(result = ifelse(bin %in% sigregion_ctcf, \"Significant\",\"Not significant\")) %>%\n",
    "#     separate(feature_coords, into = c(\"chr\",\"start\",\"end\")),\n",
    "#     allregion_polr2a %>%\n",
    "#     mutate(result = ifelse(bin %in% sigregion_polr2a, \"Significant\",\"Not significant\")) %>%\n",
    "#     separate(feature_coords, into = c(\"chr\",\"start\",\"end\")),\n",
    "#     allregion_atac %>%\n",
    "#     mutate(result = ifelse(bin %in% sigregion_atac, \"Significant\",\"Not significant\")) %>%\n",
    "#     separate(feature_coords, into = c(\"chr\",\"start\",\"end\")),\n",
    "#     allregion_dnase %>%\n",
    "#     mutate(result = ifelse(bin %in% sigregion_dnase, \"Significant\",\"Not significant\")) %>%\n",
    "#     separate(feature_coords, into = c(\"chr\",\"start\",\"end\"))\n",
    "# ) %>%\n",
    "# mutate(region_size = as.numeric(end) - as.numeric(start),\n",
    "#        signal_scaled = signal/region_size)\n",
    "    \n",
    "\n",
    "# plotdf$feature = factor(plotdf$feature, levels = c(\"H3K4me1\",\"H3K4me3\",\"H3K27ac\",\"ATAC\",\"DNase\",\"EP300\",\"POLR2A\",\"CTCF\",\"H3K9me3\",\"H3K27me3\"))\n",
    "# head(plotdf,n=1)"
   ]
  },
  {
   "cell_type": "code",
   "execution_count": 27,
   "metadata": {},
   "outputs": [],
   "source": [
    "tempdf1 <- \n",
    "rbind(\n",
    "    allregion_h3k4me1 %>%\n",
    "    mutate(result = ifelse(bin %in% sigregion_h3k4me1, \"Significant\",\"Not significant\")) %>%\n",
    "    separate(feature_coords, into = c(\"chr\",\"start\",\"end\")),\n",
    "    allregion_h3k4me3 %>%\n",
    "    mutate(result = ifelse(bin %in% sigregion_h3k4me1, \"Significant\",\"Not significant\")) %>%\n",
    "    separate(feature_coords, into = c(\"chr\",\"start\",\"end\")),\n",
    "    allregion_h3k9me3 %>%\n",
    "    mutate(result = ifelse(bin %in% sigregion_h3k9me3, \"Significant\",\"Not significant\")) %>%\n",
    "    separate(feature_coords, into = c(\"chr\",\"start\",\"end\")),\n",
    "    allregion_h3k27ac %>%\n",
    "    mutate(result = ifelse(bin %in% sigregion_h3k27ac, \"Significant\",\"Not significant\")) %>%\n",
    "    separate(feature_coords, into = c(\"chr\",\"start\",\"end\")),\n",
    "    allregion_h3k27me3 %>%\n",
    "    mutate(result = ifelse(bin %in% sigregion_h3k27me3, \"Significant\",\"Not significant\")) %>%\n",
    "    separate(feature_coords, into = c(\"chr\",\"start\",\"end\"))\n",
    "    ) %>%\n",
    "mutate(region_size = as.numeric(end) - as.numeric(start),\n",
    "       signal_scaled = signal/region_size)"
   ]
  },
  {
   "cell_type": "code",
   "execution_count": 28,
   "metadata": {},
   "outputs": [],
   "source": [
    "rm(allregion_h3k4me1, allregion_h3k4me3, allregion_h3k9me3, allregion_h3k27ac, allregion_h3k27me3)\n",
    "rm(sigregion_h3k4me1, sigregion_h3k4me3, sigregion_h3k9me3, sigregion_h3k27ac, sigregion_h3k27me3)"
   ]
  },
  {
   "cell_type": "code",
   "execution_count": 29,
   "metadata": {},
   "outputs": [],
   "source": [
    "tempdf2 <-\n",
    "rbind(\n",
    "    allregion_ep300 %>%\n",
    "    mutate(result = ifelse(bin %in% sigregion_ep300, \"Significant\",\"Not significant\")) %>%\n",
    "    separate(feature_coords, into = c(\"chr\",\"start\",\"end\")),\n",
    "    allregion_ctcf %>%\n",
    "    mutate(result = ifelse(bin %in% sigregion_ctcf, \"Significant\",\"Not significant\")) %>%\n",
    "    separate(feature_coords, into = c(\"chr\",\"start\",\"end\")),\n",
    "    allregion_polr2a %>%\n",
    "    mutate(result = ifelse(bin %in% sigregion_polr2a, \"Significant\",\"Not significant\")) %>%\n",
    "    separate(feature_coords, into = c(\"chr\",\"start\",\"end\")),\n",
    "    allregion_atac %>%\n",
    "    mutate(result = ifelse(bin %in% sigregion_atac, \"Significant\",\"Not significant\")) %>%\n",
    "    separate(feature_coords, into = c(\"chr\",\"start\",\"end\")),\n",
    "    allregion_dnase %>%\n",
    "    mutate(result = ifelse(bin %in% sigregion_dnase, \"Significant\",\"Not significant\")) %>%\n",
    "    separate(feature_coords, into = c(\"chr\",\"start\",\"end\"))\n",
    "    ) %>%\n",
    "mutate(region_size = as.numeric(end) - as.numeric(start),\n",
    "       signal_scaled = signal/region_size)"
   ]
  },
  {
   "cell_type": "code",
   "execution_count": 30,
   "metadata": {},
   "outputs": [],
   "source": [
    "rm(list=ls(pattern=\"allregion_\"))\n",
    "rm(list=ls(pattern=\"sigregion_\"))"
   ]
  },
  {
   "cell_type": "code",
   "execution_count": 31,
   "metadata": {},
   "outputs": [
    {
     "name": "stdout",
     "output_type": "stream",
     "text": [
      "List of 5\n",
      " $ sigregions:'data.frame':\t210 obs. of  1 variable:\n",
      "  ..$ bin: chr [1:210] \"chr3:127672600-127673300\" \"chr3:128052000-128052600\" \"chr3:128426200-128427000\" \"chr3:128532800-128533400\" ...\n",
      " $ %notin%   :function (...)  \n",
      " $ allregions:'data.frame':\t2733 obs. of  1 variable:\n",
      "  ..$ bin: chr [1:2733] \"chr3:127573700-127574600\" \"chr3:127574700-127575600\" \"chr3:127584300-127585200\" \"chr3:127590100-127591500\" ...\n",
      " $ tempdf1   :'data.frame':\t2995035 obs. of  9 variables:\n",
      "  ..$ feature      : chr [1:2995035] \"H3K4me1\" \"H3K4me1\" \"H3K4me1\" \"H3K4me1\" ...\n",
      "  ..$ bin          : chr [1:2995035] \"chr11:4091700-4092700\" \"chr11:4091700-4092700\" \"chr11:4091700-4092700\" \"chr11:4091700-4092700\" ...\n",
      "  ..$ chr          : chr [1:2995035] \"chr11\" \"chr11\" \"chr11\" \"chr11\" ...\n",
      "  ..$ start        : chr [1:2995035] \"4091695\" \"4091706\" \"4091707\" \"4091744\" ...\n",
      "  ..$ end          : chr [1:2995035] \"4091706\" \"4091707\" \"4091744\" \"4091746\" ...\n",
      "  ..$ signal       : num [1:2995035] 8.59 7.93 8.59 9.25 9.91 ...\n",
      "  ..$ result       : chr [1:2995035] \"Not significant\" \"Not significant\" \"Not significant\" \"Not significant\" ...\n",
      "  ..$ region_size  : num [1:2995035] 11 1 37 2 1 4 1 5 4 5 ...\n",
      "  ..$ signal_scaled: num [1:2995035] 0.781 7.931 0.232 4.627 9.914 ...\n",
      " $ tempdf2   :'data.frame':\t4375274 obs. of  9 variables:\n",
      "  ..$ feature      : chr [1:4375274] \"EP300\" \"EP300\" \"EP300\" \"EP300\" ...\n",
      "  ..$ bin          : chr [1:4375274] \"chr11:4091700-4092700\" \"chr11:4091700-4092700\" \"chr11:4091700-4092700\" \"chr11:4091700-4092700\" ...\n",
      "  ..$ chr          : chr [1:4375274] \"chr11\" \"chr11\" \"chr11\" \"chr11\" ...\n",
      "  ..$ start        : chr [1:4375274] \"4091663\" \"4091705\" \"4091709\" \"4091717\" ...\n",
      "  ..$ end          : chr [1:4375274] \"4091705\" \"4091709\" \"4091717\" \"4091722\" ...\n",
      "  ..$ signal       : num [1:4375274] 1.41 1.77 2.12 1.77 1.41 ...\n",
      "  ..$ result       : chr [1:4375274] \"Not significant\" \"Not significant\" \"Not significant\" \"Not significant\" ...\n",
      "  ..$ region_size  : num [1:4375274] 42 4 8 5 30 28 10 25 3 20 ...\n",
      "  ..$ signal_scaled: num [1:4375274] 0.0336 0.4413 0.2648 0.3531 0.0471 ...\n"
     ]
    }
   ],
   "source": [
    "str(as.list(.GlobalEnv))"
   ]
  },
  {
   "cell_type": "code",
   "execution_count": 32,
   "metadata": {},
   "outputs": [],
   "source": [
    "plotdf <- rbind(tempdf1, tempdf2)"
   ]
  },
  {
   "cell_type": "code",
   "execution_count": 33,
   "metadata": {},
   "outputs": [],
   "source": [
    "tempdf1 <- tempdf2 <- NULL"
   ]
  },
  {
   "cell_type": "code",
   "execution_count": 34,
   "metadata": {},
   "outputs": [],
   "source": [
    "plotdf$feature = factor(plotdf$feature, levels = c(\"H3K4me1\",\"H3K4me3\",\"H3K27ac\",\"ATAC\",\"DNase\",\"EP300\",\"POLR2A\",\"CTCF\",\"H3K9me3\",\"H3K27me3\"))"
   ]
  },
  {
   "cell_type": "code",
   "execution_count": 35,
   "metadata": {},
   "outputs": [
    {
     "data": {
      "text/html": [
       "<table class=\"dataframe\">\n",
       "<caption>A data.frame: 1 × 9</caption>\n",
       "<thead>\n",
       "\t<tr><th></th><th scope=col>feature</th><th scope=col>bin</th><th scope=col>chr</th><th scope=col>start</th><th scope=col>end</th><th scope=col>signal</th><th scope=col>result</th><th scope=col>region_size</th><th scope=col>signal_scaled</th></tr>\n",
       "\t<tr><th></th><th scope=col>&lt;fct&gt;</th><th scope=col>&lt;chr&gt;</th><th scope=col>&lt;chr&gt;</th><th scope=col>&lt;chr&gt;</th><th scope=col>&lt;chr&gt;</th><th scope=col>&lt;dbl&gt;</th><th scope=col>&lt;chr&gt;</th><th scope=col>&lt;dbl&gt;</th><th scope=col>&lt;dbl&gt;</th></tr>\n",
       "</thead>\n",
       "<tbody>\n",
       "\t<tr><th scope=row>1</th><td>H3K4me1</td><td>chr11:4091700-4092700</td><td>chr11</td><td>4091695</td><td>4091706</td><td>8.59226</td><td>Not significant</td><td>11</td><td>0.7811145</td></tr>\n",
       "</tbody>\n",
       "</table>\n"
      ],
      "text/latex": [
       "A data.frame: 1 × 9\n",
       "\\begin{tabular}{r|lllllllll}\n",
       "  & feature & bin & chr & start & end & signal & result & region\\_size & signal\\_scaled\\\\\n",
       "  & <fct> & <chr> & <chr> & <chr> & <chr> & <dbl> & <chr> & <dbl> & <dbl>\\\\\n",
       "\\hline\n",
       "\t1 & H3K4me1 & chr11:4091700-4092700 & chr11 & 4091695 & 4091706 & 8.59226 & Not significant & 11 & 0.7811145\\\\\n",
       "\\end{tabular}\n"
      ],
      "text/markdown": [
       "\n",
       "A data.frame: 1 × 9\n",
       "\n",
       "| <!--/--> | feature &lt;fct&gt; | bin &lt;chr&gt; | chr &lt;chr&gt; | start &lt;chr&gt; | end &lt;chr&gt; | signal &lt;dbl&gt; | result &lt;chr&gt; | region_size &lt;dbl&gt; | signal_scaled &lt;dbl&gt; |\n",
       "|---|---|---|---|---|---|---|---|---|---|\n",
       "| 1 | H3K4me1 | chr11:4091700-4092700 | chr11 | 4091695 | 4091706 | 8.59226 | Not significant | 11 | 0.7811145 |\n",
       "\n"
      ],
      "text/plain": [
       "  feature bin                   chr   start   end     signal  result         \n",
       "1 H3K4me1 chr11:4091700-4092700 chr11 4091695 4091706 8.59226 Not significant\n",
       "  region_size signal_scaled\n",
       "1 11          0.7811145    "
      ]
     },
     "metadata": {},
     "output_type": "display_data"
    }
   ],
   "source": [
    "head(plotdf,n=1)"
   ]
  },
  {
   "cell_type": "markdown",
   "metadata": {},
   "source": [
    "#### Plot all features together"
   ]
  },
  {
   "cell_type": "code",
   "execution_count": 37,
   "metadata": {},
   "outputs": [
    {
     "data": {
      "image/png": "[encoded data removed]",
      "text/plain": [
       "plot without title"
      ]
     },
     "metadata": {
      "image/png": {
       "height": 420,
       "width": 420
      }
     },
     "output_type": "display_data"
    }
   ],
   "source": [
    "plotdf %>%\n",
    "group_by(feature) %>%\n",
    "slice_sample(n=30000) %>%\n",
    "ungroup() %>%\n",
    "select(feature, signal_scaled, result) %>%\n",
    "ggplot(aes(y = feature, x = log10(signal_scaled+0.01), fill = result)) +\n",
    "geom_boxplot() +\n",
    "ylab(\"Feature\") +\n",
    "xlab(\"Log10(Scaled signal) (fold change over background)\") +\n",
    "ggtitle(\"Feature signal in perturbed genomic regions\") +\n",
    "theme_classic() +\n",
    "theme(plot.title = element_text(hjust = 0.5),\n",
    "      legend.position = \"bottom\"\n",
    "     )"
   ]
  },
  {
   "cell_type": "code",
   "execution_count": 38,
   "metadata": {},
   "outputs": [
    {
     "data": {
      "text/html": [
       "<strong>png:</strong> 2"
      ],
      "text/latex": [
       "\\textbf{png:} 2"
      ],
      "text/markdown": [
       "**png:** 2"
      ],
      "text/plain": [
       "png \n",
       "  2 "
      ]
     },
     "metadata": {},
     "output_type": "display_data"
    }
   ],
   "source": [
    "pdf(file=\"/data/gersbachlab/lrb53/encodeCrisprWG/finalversion/figure1/k562meta/outs/plot_pdfs/signalcomparison.log10transform.scalebyregionsize.k562.pdf\")\n",
    "\n",
    "plotdf %>%\n",
    "select(feature, signal_scaled, result) %>%\n",
    "ggplot(aes(y = feature, x = log10(signal_scaled+0.01), fill = result)) +\n",
    "geom_boxplot() +\n",
    "ylab(\"Feature\") +\n",
    "xlab(\"Log10(Scaled signal) (fold change over background)\") +\n",
    "ggtitle(\"Feature signal in perturbed genomic regions\") +\n",
    "theme_classic() +\n",
    "theme(plot.title = element_text(hjust = 0.5),\n",
    "      legend.position = \"bottom\"\n",
    "     )\n",
    "\n",
    "dev.off()"
   ]
  },
  {
   "cell_type": "markdown",
   "metadata": {},
   "source": [
    "#### T-test for difference in mean signal between significant and NS regions"
   ]
  },
  {
   "cell_type": "code",
   "execution_count": 39,
   "metadata": {},
   "outputs": [
    {
     "data": {
      "text/plain": [
       "\n",
       "\tWelch Two Sample t-test\n",
       "\n",
       "data:  signal_scaled by result\n",
       "t = -1.4276, df = 154.26, p-value = 0.1554\n",
       "alternative hypothesis: true difference in means between group Significant and group Not significant is not equal to 0\n",
       "95 percent confidence interval:\n",
       " -0.46639937  0.07509219\n",
       "sample estimates:\n",
       "    mean in group Significant mean in group Not significant \n",
       "                     1.414267                      1.609921 \n"
      ]
     },
     "metadata": {},
     "output_type": "display_data"
    }
   ],
   "source": [
    "testdf <- \n",
    "plotdf %>% \n",
    "filter(feature == \"H3K4me1\") %>%\n",
    "select(result, signal_scaled)\n",
    "\n",
    "# head(testdf)\n",
    "\n",
    "testdf$result <- factor(testdf$result, levels = c(\"Significant\",\"Not significant\"))\n",
    "\n",
    "t.test(signal_scaled ~ result, data = testdf, alternative = \"two.sided\")"
   ]
  },
  {
   "cell_type": "code",
   "execution_count": 40,
   "metadata": {},
   "outputs": [
    {
     "data": {
      "text/plain": [
       "\n",
       "\tWelch Two Sample t-test\n",
       "\n",
       "data:  signal_scaled by result\n",
       "t = -102.85, df = 172.04, p-value < 2.2e-16\n",
       "alternative hypothesis: true difference in means between group Significant and group Not significant is not equal to 0\n",
       "95 percent confidence interval:\n",
       " -4.003808 -3.853024\n",
       "sample estimates:\n",
       "    mean in group Significant mean in group Not significant \n",
       "                    0.3210874                     4.2495038 \n"
      ]
     },
     "metadata": {},
     "output_type": "display_data"
    }
   ],
   "source": [
    "testdf <- \n",
    "plotdf %>% \n",
    "filter(feature == \"H3K4me3\") %>%\n",
    "select(result, signal_scaled)\n",
    "\n",
    "# head(testdf)\n",
    "\n",
    "testdf$result <- factor(testdf$result, levels = c(\"Significant\",\"Not significant\"))\n",
    "\n",
    "t.test(signal_scaled ~ result, data = testdf, alternative = \"two.sided\")"
   ]
  },
  {
   "cell_type": "code",
   "execution_count": 41,
   "metadata": {},
   "outputs": [
    {
     "data": {
      "text/plain": [
       "\n",
       "\tWelch Two Sample t-test\n",
       "\n",
       "data:  signal_scaled by result\n",
       "t = 2.745, df = 146.04, p-value = 0.006811\n",
       "alternative hypothesis: true difference in means between group Significant and group Not significant is not equal to 0\n",
       "95 percent confidence interval:\n",
       " 0.03517561 0.21605908\n",
       "sample estimates:\n",
       "    mean in group Significant mean in group Not significant \n",
       "                    0.3737005                     0.2480831 \n"
      ]
     },
     "metadata": {},
     "output_type": "display_data"
    }
   ],
   "source": [
    "testdf <- \n",
    "plotdf %>% \n",
    "filter(feature == \"H3K9me3\") %>%\n",
    "select(result, signal_scaled)\n",
    "\n",
    "# head(testdf)\n",
    "\n",
    "testdf$result <- factor(testdf$result, levels = c(\"Significant\",\"Not significant\"))\n",
    "\n",
    "t.test(signal_scaled ~ result, data = testdf, alternative = \"two.sided\")"
   ]
  },
  {
   "cell_type": "code",
   "execution_count": 42,
   "metadata": {},
   "outputs": [
    {
     "data": {
      "text/plain": [
       "\n",
       "\tWelch Two Sample t-test\n",
       "\n",
       "data:  signal_scaled by result\n",
       "t = -55.438, df = 106.97, p-value < 2.2e-16\n",
       "alternative hypothesis: true difference in means between group Significant and group Not significant is not equal to 0\n",
       "95 percent confidence interval:\n",
       " -6.495573 -6.047069\n",
       "sample estimates:\n",
       "    mean in group Significant mean in group Not significant \n",
       "                    0.7878568                     7.0591778 \n"
      ]
     },
     "metadata": {},
     "output_type": "display_data"
    }
   ],
   "source": [
    "testdf <- \n",
    "plotdf %>% \n",
    "filter(feature == \"H3K27ac\") %>%\n",
    "select(result, signal_scaled)\n",
    "\n",
    "# head(testdf)\n",
    "\n",
    "testdf$result <- factor(testdf$result, levels = c(\"Significant\",\"Not significant\"))\n",
    "\n",
    "t.test(signal_scaled ~ result, data = testdf, alternative = \"two.sided\")"
   ]
  },
  {
   "cell_type": "code",
   "execution_count": 43,
   "metadata": {},
   "outputs": [
    {
     "data": {
      "text/plain": [
       "\n",
       "\tWelch Two Sample t-test\n",
       "\n",
       "data:  signal_scaled by result\n",
       "t = -40.629, df = 31.505, p-value < 2.2e-16\n",
       "alternative hypothesis: true difference in means between group Significant and group Not significant is not equal to 0\n",
       "95 percent confidence interval:\n",
       " -0.4552673 -0.4117718\n",
       "sample estimates:\n",
       "    mean in group Significant mean in group Not significant \n",
       "                   0.03661358                    0.47013312 \n"
      ]
     },
     "metadata": {},
     "output_type": "display_data"
    }
   ],
   "source": [
    "testdf <- \n",
    "plotdf %>% \n",
    "filter(feature == \"H3K27me3\") %>%\n",
    "select(result, signal_scaled)\n",
    "\n",
    "# head(testdf)\n",
    "\n",
    "testdf$result <- factor(testdf$result, levels = c(\"Significant\",\"Not significant\"))\n",
    "\n",
    "t.test(signal_scaled ~ result, data = testdf, alternative = \"two.sided\")"
   ]
  },
  {
   "cell_type": "code",
   "execution_count": 44,
   "metadata": {},
   "outputs": [
    {
     "data": {
      "text/plain": [
       "\n",
       "\tWelch Two Sample t-test\n",
       "\n",
       "data:  signal_scaled by result\n",
       "t = -7.9947, df = 352.4, p-value = 1.88e-14\n",
       "alternative hypothesis: true difference in means between group Significant and group Not significant is not equal to 0\n",
       "95 percent confidence interval:\n",
       " -0.5988739 -0.3623971\n",
       "sample estimates:\n",
       "    mean in group Significant mean in group Not significant \n",
       "                    0.9755962                     1.4562317 \n"
      ]
     },
     "metadata": {},
     "output_type": "display_data"
    }
   ],
   "source": [
    "testdf <- \n",
    "plotdf %>% \n",
    "filter(feature == \"ATAC\") %>%\n",
    "select(result, signal_scaled)\n",
    "\n",
    "# head(testdf)\n",
    "\n",
    "testdf$result <- factor(testdf$result, levels = c(\"Significant\",\"Not significant\"))\n",
    "\n",
    "t.test(signal_scaled ~ result, data = testdf, alternative = \"two.sided\")"
   ]
  },
  {
   "cell_type": "code",
   "execution_count": 45,
   "metadata": {},
   "outputs": [
    {
     "data": {
      "text/plain": [
       "\n",
       "\tWelch Two Sample t-test\n",
       "\n",
       "data:  signal_scaled by result\n",
       "t = 2.0682, df = 45.015, p-value = 0.04439\n",
       "alternative hypothesis: true difference in means between group Significant and group Not significant is not equal to 0\n",
       "95 percent confidence interval:\n",
       " 0.0001942763 0.0146541536\n",
       "sample estimates:\n",
       "    mean in group Significant mean in group Not significant \n",
       "                  0.015016800                   0.007592585 \n"
      ]
     },
     "metadata": {},
     "output_type": "display_data"
    }
   ],
   "source": [
    "testdf <- \n",
    "plotdf %>% \n",
    "filter(feature == \"DNase\") %>%\n",
    "select(result, signal_scaled)\n",
    "\n",
    "# head(testdf)\n",
    "\n",
    "testdf$result <- factor(testdf$result, levels = c(\"Significant\",\"Not significant\"))\n",
    "\n",
    "t.test(signal_scaled ~ result, data = testdf, alternative = \"two.sided\")"
   ]
  },
  {
   "cell_type": "code",
   "execution_count": 46,
   "metadata": {},
   "outputs": [
    {
     "data": {
      "text/plain": [
       "\n",
       "\tWelch Two Sample t-test\n",
       "\n",
       "data:  signal_scaled by result\n",
       "t = -5.3222, df = 188.41, p-value = 2.893e-07\n",
       "alternative hypothesis: true difference in means between group Significant and group Not significant is not equal to 0\n",
       "95 percent confidence interval:\n",
       " -0.6947982 -0.3190326\n",
       "sample estimates:\n",
       "    mean in group Significant mean in group Not significant \n",
       "                     1.119420                      1.626336 \n"
      ]
     },
     "metadata": {},
     "output_type": "display_data"
    }
   ],
   "source": [
    "testdf <- \n",
    "plotdf %>% \n",
    "filter(feature == \"EP300\") %>%\n",
    "select(result, signal_scaled)\n",
    "\n",
    "# head(testdf)\n",
    "\n",
    "testdf$result <- factor(testdf$result, levels = c(\"Significant\",\"Not significant\"))\n",
    "\n",
    "t.test(signal_scaled ~ result, data = testdf, alternative = \"two.sided\")"
   ]
  },
  {
   "cell_type": "code",
   "execution_count": 47,
   "metadata": {},
   "outputs": [
    {
     "data": {
      "text/plain": [
       "\n",
       "\tWelch Two Sample t-test\n",
       "\n",
       "data:  signal_scaled by result\n",
       "t = 15.619, df = 321.18, p-value < 2.2e-16\n",
       "alternative hypothesis: true difference in means between group Significant and group Not significant is not equal to 0\n",
       "95 percent confidence interval:\n",
       " 13.31516 17.15295\n",
       "sample estimates:\n",
       "    mean in group Significant mean in group Not significant \n",
       "                    18.973157                      3.739101 \n"
      ]
     },
     "metadata": {},
     "output_type": "display_data"
    }
   ],
   "source": [
    "testdf <- \n",
    "plotdf %>% \n",
    "filter(feature == \"CTCF\") %>%\n",
    "select(result, signal_scaled)\n",
    "\n",
    "# head(testdf)\n",
    "\n",
    "testdf$result <- factor(testdf$result, levels = c(\"Significant\",\"Not significant\"))\n",
    "\n",
    "t.test(signal_scaled ~ result, data = testdf, alternative = \"two.sided\")"
   ]
  },
  {
   "cell_type": "code",
   "execution_count": 48,
   "metadata": {},
   "outputs": [
    {
     "data": {
      "text/plain": [
       "\n",
       "\tWelch Two Sample t-test\n",
       "\n",
       "data:  signal_scaled by result\n",
       "t = 10.961, df = 661.63, p-value < 2.2e-16\n",
       "alternative hypothesis: true difference in means between group Significant and group Not significant is not equal to 0\n",
       "95 percent confidence interval:\n",
       " 0.8032315 1.1538322\n",
       "sample estimates:\n",
       "    mean in group Significant mean in group Not significant \n",
       "                     2.764813                      1.786281 \n"
      ]
     },
     "metadata": {},
     "output_type": "display_data"
    }
   ],
   "source": [
    "testdf <- \n",
    "plotdf %>% \n",
    "filter(feature == \"POLR2A\") %>%\n",
    "select(result, signal_scaled)\n",
    "\n",
    "# head(testdf)\n",
    "\n",
    "testdf$result <- factor(testdf$result, levels = c(\"Significant\",\"Not significant\"))\n",
    "\n",
    "t.test(signal_scaled ~ result, data = testdf, alternative = \"two.sided\")"
   ]
  },
  {
   "cell_type": "markdown",
   "metadata": {},
   "source": [
    "#### Wilcoxon test for difference in median signal between significant and NS regions"
   ]
  },
  {
   "cell_type": "markdown",
   "metadata": {},
   "source": [
    "The features seem to have many outliers in the `NS` group that are driving the mean signal. Use wilcoxon instead to compare the medians."
   ]
  },
  {
   "cell_type": "code",
   "execution_count": 49,
   "metadata": {},
   "outputs": [
    {
     "data": {
      "text/plain": [
       "\n",
       "\tWilcoxon rank sum test with continuity correction\n",
       "\n",
       "data:  signal_scaled by result\n",
       "W = 47219386, p-value = 0.004055\n",
       "alternative hypothesis: true location shift is not equal to 0\n"
      ]
     },
     "metadata": {},
     "output_type": "display_data"
    }
   ],
   "source": [
    "testdf <- \n",
    "plotdf %>% \n",
    "filter(feature == \"H3K4me1\") %>%\n",
    "select(result, signal_scaled)\n",
    "\n",
    "# head(testdf)\n",
    "\n",
    "testdf$result <- factor(testdf$result, levels = c(\"Significant\",\"Not significant\"))\n",
    "\n",
    "wilcox.test(signal_scaled ~ result, data = testdf, alternative = \"two.sided\")"
   ]
  },
  {
   "cell_type": "code",
   "execution_count": 50,
   "metadata": {},
   "outputs": [
    {
     "data": {
      "text/plain": [
       "\n",
       "\tWilcoxon rank sum test with continuity correction\n",
       "\n",
       "data:  signal_scaled by result\n",
       "W = 61209682, p-value = 0.146\n",
       "alternative hypothesis: true location shift is not equal to 0\n"
      ]
     },
     "metadata": {},
     "output_type": "display_data"
    }
   ],
   "source": [
    "testdf <- \n",
    "plotdf %>% \n",
    "filter(feature == \"H3K4me3\") %>%\n",
    "select(result, signal_scaled)\n",
    "\n",
    "# head(testdf)\n",
    "\n",
    "testdf$result <- factor(testdf$result, levels = c(\"Significant\",\"Not significant\"))\n",
    "\n",
    "wilcox.test(signal_scaled ~ result, data = testdf, alternative = \"two.sided\")"
   ]
  },
  {
   "cell_type": "code",
   "execution_count": 51,
   "metadata": {},
   "outputs": [
    {
     "data": {
      "text/plain": [
       "\n",
       "\tWilcoxon rank sum test with continuity correction\n",
       "\n",
       "data:  signal_scaled by result\n",
       "W = 56161877, p-value = 1.653e-05\n",
       "alternative hypothesis: true location shift is not equal to 0\n"
      ]
     },
     "metadata": {},
     "output_type": "display_data"
    }
   ],
   "source": [
    "testdf <- \n",
    "plotdf %>% \n",
    "filter(feature == \"H3K9me3\") %>%\n",
    "select(result, signal_scaled)\n",
    "\n",
    "# head(testdf)\n",
    "\n",
    "testdf$result <- factor(testdf$result, levels = c(\"Significant\",\"Not significant\"))\n",
    "\n",
    "wilcox.test(signal_scaled ~ result, data = testdf, alternative = \"two.sided\")"
   ]
  },
  {
   "cell_type": "code",
   "execution_count": 52,
   "metadata": {},
   "outputs": [
    {
     "data": {
      "text/plain": [
       "\n",
       "\tWilcoxon rank sum test with continuity correction\n",
       "\n",
       "data:  signal_scaled by result\n",
       "W = 20091084, p-value = 0.0001709\n",
       "alternative hypothesis: true location shift is not equal to 0\n"
      ]
     },
     "metadata": {},
     "output_type": "display_data"
    }
   ],
   "source": [
    "testdf <- \n",
    "plotdf %>% \n",
    "filter(feature == \"H3K27ac\") %>%\n",
    "select(result, signal_scaled)\n",
    "\n",
    "# head(testdf)\n",
    "\n",
    "testdf$result <- factor(testdf$result, levels = c(\"Significant\",\"Not significant\"))\n",
    "\n",
    "wilcox.test(signal_scaled ~ result, data = testdf, alternative = \"two.sided\")"
   ]
  },
  {
   "cell_type": "code",
   "execution_count": 53,
   "metadata": {},
   "outputs": [
    {
     "data": {
      "text/plain": [
       "\n",
       "\tWilcoxon rank sum test with continuity correction\n",
       "\n",
       "data:  signal_scaled by result\n",
       "W = 3100590, p-value = 2.914e-07\n",
       "alternative hypothesis: true location shift is not equal to 0\n"
      ]
     },
     "metadata": {},
     "output_type": "display_data"
    }
   ],
   "source": [
    "testdf <- \n",
    "plotdf %>% \n",
    "filter(feature == \"H3K27me3\") %>%\n",
    "select(result, signal_scaled)\n",
    "\n",
    "# head(testdf)\n",
    "\n",
    "testdf$result <- factor(testdf$result, levels = c(\"Significant\",\"Not significant\"))\n",
    "\n",
    "wilcox.test(signal_scaled ~ result, data = testdf, alternative = \"two.sided\")"
   ]
  },
  {
   "cell_type": "code",
   "execution_count": 54,
   "metadata": {},
   "outputs": [
    {
     "data": {
      "text/plain": [
       "\n",
       "\tWilcoxon rank sum test with continuity correction\n",
       "\n",
       "data:  signal_scaled by result\n",
       "W = 214109532, p-value = 0.000178\n",
       "alternative hypothesis: true location shift is not equal to 0\n"
      ]
     },
     "metadata": {},
     "output_type": "display_data"
    }
   ],
   "source": [
    "testdf <- \n",
    "plotdf %>% \n",
    "filter(feature == \"ATAC\") %>%\n",
    "select(result, signal_scaled)\n",
    "\n",
    "# head(testdf)\n",
    "\n",
    "testdf$result <- factor(testdf$result, levels = c(\"Significant\",\"Not significant\"))\n",
    "\n",
    "wilcox.test(signal_scaled ~ result, data = testdf, alternative = \"two.sided\")"
   ]
  },
  {
   "cell_type": "code",
   "execution_count": 55,
   "metadata": {},
   "outputs": [
    {
     "data": {
      "text/plain": [
       "\n",
       "\tWilcoxon rank sum test with continuity correction\n",
       "\n",
       "data:  signal_scaled by result\n",
       "W = 8917914, p-value = 0.03045\n",
       "alternative hypothesis: true location shift is not equal to 0\n"
      ]
     },
     "metadata": {},
     "output_type": "display_data"
    }
   ],
   "source": [
    "testdf <- \n",
    "plotdf %>% \n",
    "filter(feature == \"DNase\") %>%\n",
    "select(result, signal_scaled)\n",
    "\n",
    "# head(testdf)\n",
    "\n",
    "testdf$result <- factor(testdf$result, levels = c(\"Significant\",\"Not significant\"))\n",
    "\n",
    "wilcox.test(signal_scaled ~ result, data = testdf, alternative = \"two.sided\")"
   ]
  },
  {
   "cell_type": "code",
   "execution_count": 56,
   "metadata": {},
   "outputs": [
    {
     "data": {
      "text/plain": [
       "\n",
       "\tWilcoxon rank sum test with continuity correction\n",
       "\n",
       "data:  signal_scaled by result\n",
       "W = 79768832, p-value = 2.269e-14\n",
       "alternative hypothesis: true location shift is not equal to 0\n"
      ]
     },
     "metadata": {},
     "output_type": "display_data"
    }
   ],
   "source": [
    "testdf <- \n",
    "plotdf %>% \n",
    "filter(feature == \"EP300\") %>%\n",
    "select(result, signal_scaled)\n",
    "\n",
    "# head(testdf)\n",
    "\n",
    "testdf$result <- factor(testdf$result, levels = c(\"Significant\",\"Not significant\"))\n",
    "\n",
    "wilcox.test(signal_scaled ~ result, data = testdf, alternative = \"two.sided\")"
   ]
  },
  {
   "cell_type": "code",
   "execution_count": 57,
   "metadata": {},
   "outputs": [
    {
     "data": {
      "text/plain": [
       "\n",
       "\tWilcoxon rank sum test with continuity correction\n",
       "\n",
       "data:  signal_scaled by result\n",
       "W = 154405241, p-value < 2.2e-16\n",
       "alternative hypothesis: true location shift is not equal to 0\n"
      ]
     },
     "metadata": {},
     "output_type": "display_data"
    }
   ],
   "source": [
    "testdf <- \n",
    "plotdf %>% \n",
    "filter(feature == \"CTCF\") %>%\n",
    "select(result, signal_scaled)\n",
    "\n",
    "# head(testdf)\n",
    "\n",
    "testdf$result <- factor(testdf$result, levels = c(\"Significant\",\"Not significant\"))\n",
    "\n",
    "wilcox.test(signal_scaled ~ result, data = testdf, alternative = \"two.sided\")"
   ]
  },
  {
   "cell_type": "code",
   "execution_count": 58,
   "metadata": {},
   "outputs": [
    {
     "data": {
      "text/plain": [
       "\n",
       "\tWilcoxon rank sum test with continuity correction\n",
       "\n",
       "data:  signal_scaled by result\n",
       "W = 789324741, p-value < 2.2e-16\n",
       "alternative hypothesis: true location shift is not equal to 0\n"
      ]
     },
     "metadata": {},
     "output_type": "display_data"
    }
   ],
   "source": [
    "testdf <- \n",
    "plotdf %>% \n",
    "filter(feature == \"POLR2A\") %>%\n",
    "select(result, signal_scaled)\n",
    "\n",
    "# head(testdf)\n",
    "\n",
    "testdf$result <- factor(testdf$result, levels = c(\"Significant\",\"Not significant\"))\n",
    "\n",
    "wilcox.test(signal_scaled ~ result, data = testdf, alternative = \"two.sided\")"
   ]
  },
  {
   "cell_type": "code",
   "execution_count": 59,
   "metadata": {},
   "outputs": [
    {
     "name": "stderr",
     "output_type": "stream",
     "text": [
      "\u001b[1m\u001b[22m`summarise()` has grouped output by 'feature'. You can override using the\n",
      "`.groups` argument.\n"
     ]
    },
    {
     "data": {
      "text/html": [
       "<table class=\"dataframe\">\n",
       "<caption>A tibble: 20 × 4</caption>\n",
       "<thead>\n",
       "\t<tr><th scope=col>feature</th><th scope=col>result</th><th scope=col>n</th><th scope=col>median_scaled</th></tr>\n",
       "\t<tr><th scope=col>&lt;fct&gt;</th><th scope=col>&lt;chr&gt;</th><th scope=col>&lt;int&gt;</th><th scope=col>&lt;dbl&gt;</th></tr>\n",
       "</thead>\n",
       "<tbody>\n",
       "\t<tr><td>H3K4me1 </td><td>Not significant</td><td> 537623</td><td> 0.433741667</td></tr>\n",
       "\t<tr><td>H3K4me1 </td><td>Significant    </td><td>    155</td><td> 0.689490000</td></tr>\n",
       "\t<tr><td>H3K4me3 </td><td>Not significant</td><td> 882276</td><td> 0.160692000</td></tr>\n",
       "\t<tr><td>H3K4me3 </td><td>Significant    </td><td>    149</td><td> 0.150583333</td></tr>\n",
       "\t<tr><td>H3K27ac </td><td>Not significant</td><td> 513197</td><td> 0.637900000</td></tr>\n",
       "\t<tr><td>H3K27ac </td><td>Significant    </td><td>    100</td><td> 0.248933258</td></tr>\n",
       "\t<tr><td>ATAC    </td><td>Not significant</td><td>1090701</td><td> 0.375170000</td></tr>\n",
       "\t<tr><td>ATAC    </td><td>Significant    </td><td>    352</td><td> 0.551635000</td></tr>\n",
       "\t<tr><td>DNase   </td><td>Not significant</td><td> 327421</td><td> 0.002437800</td></tr>\n",
       "\t<tr><td>DNase   </td><td>Significant    </td><td>     46</td><td> 0.003885242</td></tr>\n",
       "\t<tr><td>EP300   </td><td>Not significant</td><td> 645162</td><td> 0.152955714</td></tr>\n",
       "\t<tr><td>EP300   </td><td>Significant    </td><td>    187</td><td> 0.557653333</td></tr>\n",
       "\t<tr><td>POLR2A  </td><td>Not significant</td><td>1709099</td><td> 0.421820000</td></tr>\n",
       "\t<tr><td>POLR2A  </td><td>Significant    </td><td>    661</td><td> 2.301745000</td></tr>\n",
       "\t<tr><td>CTCF    </td><td>Not significant</td><td> 601323</td><td> 0.131997500</td></tr>\n",
       "\t<tr><td>CTCF    </td><td>Significant    </td><td>    322</td><td>19.252375000</td></tr>\n",
       "\t<tr><td>H3K9me3 </td><td>Not significant</td><td> 634048</td><td> 0.104512500</td></tr>\n",
       "\t<tr><td>H3K9me3 </td><td>Significant    </td><td>    147</td><td> 0.179180000</td></tr>\n",
       "\t<tr><td>H3K27me3</td><td>Not significant</td><td> 427309</td><td> 0.085395556</td></tr>\n",
       "\t<tr><td>H3K27me3</td><td>Significant    </td><td>     31</td><td> 0.012928000</td></tr>\n",
       "</tbody>\n",
       "</table>\n"
      ],
      "text/latex": [
       "A tibble: 20 × 4\n",
       "\\begin{tabular}{llll}\n",
       " feature & result & n & median\\_scaled\\\\\n",
       " <fct> & <chr> & <int> & <dbl>\\\\\n",
       "\\hline\n",
       "\t H3K4me1  & Not significant &  537623 &  0.433741667\\\\\n",
       "\t H3K4me1  & Significant     &     155 &  0.689490000\\\\\n",
       "\t H3K4me3  & Not significant &  882276 &  0.160692000\\\\\n",
       "\t H3K4me3  & Significant     &     149 &  0.150583333\\\\\n",
       "\t H3K27ac  & Not significant &  513197 &  0.637900000\\\\\n",
       "\t H3K27ac  & Significant     &     100 &  0.248933258\\\\\n",
       "\t ATAC     & Not significant & 1090701 &  0.375170000\\\\\n",
       "\t ATAC     & Significant     &     352 &  0.551635000\\\\\n",
       "\t DNase    & Not significant &  327421 &  0.002437800\\\\\n",
       "\t DNase    & Significant     &      46 &  0.003885242\\\\\n",
       "\t EP300    & Not significant &  645162 &  0.152955714\\\\\n",
       "\t EP300    & Significant     &     187 &  0.557653333\\\\\n",
       "\t POLR2A   & Not significant & 1709099 &  0.421820000\\\\\n",
       "\t POLR2A   & Significant     &     661 &  2.301745000\\\\\n",
       "\t CTCF     & Not significant &  601323 &  0.131997500\\\\\n",
       "\t CTCF     & Significant     &     322 & 19.252375000\\\\\n",
       "\t H3K9me3  & Not significant &  634048 &  0.104512500\\\\\n",
       "\t H3K9me3  & Significant     &     147 &  0.179180000\\\\\n",
       "\t H3K27me3 & Not significant &  427309 &  0.085395556\\\\\n",
       "\t H3K27me3 & Significant     &      31 &  0.012928000\\\\\n",
       "\\end{tabular}\n"
      ],
      "text/markdown": [
       "\n",
       "A tibble: 20 × 4\n",
       "\n",
       "| feature &lt;fct&gt; | result &lt;chr&gt; | n &lt;int&gt; | median_scaled &lt;dbl&gt; |\n",
       "|---|---|---|---|\n",
       "| H3K4me1  | Not significant |  537623 |  0.433741667 |\n",
       "| H3K4me1  | Significant     |     155 |  0.689490000 |\n",
       "| H3K4me3  | Not significant |  882276 |  0.160692000 |\n",
       "| H3K4me3  | Significant     |     149 |  0.150583333 |\n",
       "| H3K27ac  | Not significant |  513197 |  0.637900000 |\n",
       "| H3K27ac  | Significant     |     100 |  0.248933258 |\n",
       "| ATAC     | Not significant | 1090701 |  0.375170000 |\n",
       "| ATAC     | Significant     |     352 |  0.551635000 |\n",
       "| DNase    | Not significant |  327421 |  0.002437800 |\n",
       "| DNase    | Significant     |      46 |  0.003885242 |\n",
       "| EP300    | Not significant |  645162 |  0.152955714 |\n",
       "| EP300    | Significant     |     187 |  0.557653333 |\n",
       "| POLR2A   | Not significant | 1709099 |  0.421820000 |\n",
       "| POLR2A   | Significant     |     661 |  2.301745000 |\n",
       "| CTCF     | Not significant |  601323 |  0.131997500 |\n",
       "| CTCF     | Significant     |     322 | 19.252375000 |\n",
       "| H3K9me3  | Not significant |  634048 |  0.104512500 |\n",
       "| H3K9me3  | Significant     |     147 |  0.179180000 |\n",
       "| H3K27me3 | Not significant |  427309 |  0.085395556 |\n",
       "| H3K27me3 | Significant     |      31 |  0.012928000 |\n",
       "\n"
      ],
      "text/plain": [
       "   feature  result          n       median_scaled\n",
       "1  H3K4me1  Not significant  537623  0.433741667 \n",
       "2  H3K4me1  Significant         155  0.689490000 \n",
       "3  H3K4me3  Not significant  882276  0.160692000 \n",
       "4  H3K4me3  Significant         149  0.150583333 \n",
       "5  H3K27ac  Not significant  513197  0.637900000 \n",
       "6  H3K27ac  Significant         100  0.248933258 \n",
       "7  ATAC     Not significant 1090701  0.375170000 \n",
       "8  ATAC     Significant         352  0.551635000 \n",
       "9  DNase    Not significant  327421  0.002437800 \n",
       "10 DNase    Significant          46  0.003885242 \n",
       "11 EP300    Not significant  645162  0.152955714 \n",
       "12 EP300    Significant         187  0.557653333 \n",
       "13 POLR2A   Not significant 1709099  0.421820000 \n",
       "14 POLR2A   Significant         661  2.301745000 \n",
       "15 CTCF     Not significant  601323  0.131997500 \n",
       "16 CTCF     Significant         322 19.252375000 \n",
       "17 H3K9me3  Not significant  634048  0.104512500 \n",
       "18 H3K9me3  Significant         147  0.179180000 \n",
       "19 H3K27me3 Not significant  427309  0.085395556 \n",
       "20 H3K27me3 Significant          31  0.012928000 "
      ]
     },
     "metadata": {},
     "output_type": "display_data"
    }
   ],
   "source": [
    "plotdf %>%\n",
    "group_by(feature, result) %>%\n",
    "summarise(n=n(),\n",
    "          median_scaled = median(signal_scaled)) %>%\n",
    "ungroup() %>%\n",
    "arrange(feature, result)"
   ]
  },
  {
   "cell_type": "code",
   "execution_count": 67,
   "metadata": {},
   "outputs": [
    {
     "name": "stderr",
     "output_type": "stream",
     "text": [
      "\u001b[1m\u001b[22m`summarise()` has grouped output by 'feature'. You can override using the\n",
      "`.groups` argument.\n"
     ]
    }
   ],
   "source": [
    "plotdf %>%\n",
    "group_by(feature, result) %>%\n",
    "summarise(n=n(),\n",
    "          median_scaled = median(signal_scaled),\n",
    "          mean_scaled = mean(signal_scaled),\n",
    "          sd_scaled = sd(signal_scaled)) %>%\n",
    "ungroup() %>%\n",
    "arrange(feature, result) %>%\n",
    "pivot_wider(names_from = \"result\", values_from = n:sd_scaled) %>%\n",
    "write.table(\"/data/gersbachlab/lrb53/encodeCrisprWG/finalversion/figure1/k562meta/outs/comparesignal/comparesignal.testresults.perturbedVsCre.txt\",\n",
    "            col.names=TRUE, row.names=FALSE, quote=FALSE, sep=\"\\t\")\n"
   ]
  }
 ],
 "metadata": {
  "kernelspec": {
   "display_name": "R 4.1",
   "language": "R",
   "name": "ir41"
  },
  "language_info": {
   "codemirror_mode": "r",
   "file_extension": ".r",
   "mimetype": "text/x-r-source",
   "name": "R",
   "pygments_lexer": "r",
   "version": "4.1.3"
  }
 },
 "nbformat": 4,
 "nbformat_minor": 2
}
