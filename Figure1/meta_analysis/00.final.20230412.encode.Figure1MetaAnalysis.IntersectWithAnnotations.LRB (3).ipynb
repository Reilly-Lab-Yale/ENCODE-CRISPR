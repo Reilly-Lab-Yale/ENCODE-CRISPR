{
 "cells": [
  {
   "cell_type": "code",
   "execution_count": 1,
   "metadata": {},
   "outputs": [],
   "source": [
    "import pandas as pd\n",
    "import matplotlib.pyplot as plt\n",
    "import seaborn as sns"
   ]
  },
  {
   "cell_type": "markdown",
   "metadata": {},
   "source": [
    "## Download or copy annotation files to new directory"
   ]
  },
  {
   "cell_type": "markdown",
   "metadata": {},
   "source": [
    "### Get the updated cCRE calls (`v4`)\n",
    "These were used by David and co for the sgRNA library design. Have ~2x as many cCREs as v3. Downloaded 2023/04/12."
   ]
  },
  {
   "cell_type": "code",
   "execution_count": 2,
   "metadata": {},
   "outputs": [],
   "source": [
    "# %%bash\n",
    "# cd /data/gersbachlab/lrb53/encodeCrisprWG/finalversion/annotations\n",
    "# cp /data/gersbachlab/lrb53/encodeCrisprWG/figure1meta/annotations/GRCh38-cCREs.bed encode.ccres.v3.hg38.bed"
   ]
  },
  {
   "cell_type": "code",
   "execution_count": 3,
   "metadata": {},
   "outputs": [],
   "source": [
    "# %%bash\n",
    "# cd /data/gersbachlab/lrb53/encodeCrisprWG/finalversion/annotations\n",
    "# wget -O encode.ccres.v4.hg38.bed.gz http://users.wenglab.org/moorej3/Registry-cCREs-WG/V4-Files/GRCh38-cCREs.V4.bed.gz --no-check-certificate"
   ]
  },
  {
   "cell_type": "code",
   "execution_count": 24,
   "metadata": {},
   "outputs": [
    {
     "name": "stdout",
     "output_type": "stream",
     "text": [
      "2348854 encode.ccres.v4.hg38.bed\n"
     ]
    }
   ],
   "source": [
    "# %%bash\n",
    "# cd /data/gersbachlab/lrb53/encodeCrisprWG/finalversion/annotations\n",
    "# gunzip encode.ccres.v4.hg38.bed.gz\n",
    "# wc -l encode.ccres.v4.hg38.bed\n",
    "# gzip encode.ccres.v4.hg38.bed"
   ]
  },
  {
   "cell_type": "code",
   "execution_count": null,
   "metadata": {},
   "outputs": [],
   "source": [
    "# %%bash\n",
    "# cd /data/gersbachlab/lrb53/encodeCrisprWG/finalversion/annotations\n",
    "# wget -O k562.ccres.v4.hg38.bed.gz http://users.wenglab.org/moorej3/Registry-cCREs-WG/V4-Files/ENCFF414OGC_ENCFF806YEZ_ENCFF849TDM_ENCFF736UDR.bed.gz  --no-check-certificate"
   ]
  },
  {
   "cell_type": "code",
   "execution_count": 25,
   "metadata": {},
   "outputs": [
    {
     "name": "stdout",
     "output_type": "stream",
     "text": [
      "2348854 k562.ccres.v4.hg38.bed\n"
     ]
    }
   ],
   "source": [
    "# %%bash\n",
    "# cd /data/gersbachlab/lrb53/encodeCrisprWG/finalversion/annotations\n",
    "# gunzip k562.ccres.v4.hg38.bed.gz\n",
    "# wc -l k562.ccres.v4.hg38.bed\n",
    "# gzip k562.ccres.v4.hg38.bed"
   ]
  },
  {
   "cell_type": "markdown",
   "metadata": {},
   "source": [
    "### Chromatin accessibility"
   ]
  },
  {
   "cell_type": "code",
   "execution_count": 5,
   "metadata": {},
   "outputs": [],
   "source": [
    "# %%bash\n",
    "# cd /data/gersbachlab/lrb53/encodeCrisprWG/finalversion/annotations\n",
    "# cp /data/gersbachlab/lrb53/encodeCrisprWG/figure1meta/annotations/wgEncodeRegDnaseClustered.full.bed.hg38.bed.gz ."
   ]
  },
  {
   "cell_type": "markdown",
   "metadata": {},
   "source": [
    "## Intersect with annotations"
   ]
  },
  {
   "cell_type": "markdown",
   "metadata": {},
   "source": [
    "### ENCODE cCREs (`v3` and `v4`), all biosamples, direction intersection"
   ]
  },
  {
   "cell_type": "markdown",
   "metadata": {},
   "source": [
    "#### v3, Perturbed"
   ]
  },
  {
   "cell_type": "code",
   "execution_count": 4,
   "metadata": {},
   "outputs": [
    {
     "name": "stdout",
     "output_type": "stream",
     "text": [
      "8709\n"
     ]
    }
   ],
   "source": [
    "%%bash\n",
    "module load bedtools2\n",
    "\n",
    "bedtools intersect \\\n",
    "-b /data/gersbachlab/lrb53/encodeCrisprWG/finalversion/figure1/allmeta/elementReference/combined/binnedgenome.int.elementReference.20230411.merge.bed \\\n",
    "-a /data/gersbachlab/lrb53/encodeCrisprWG/finalversion/annotations/encode.ccres.v3.hg38.bed \\\n",
    "-wa -u | wc -l "
   ]
  },
  {
   "cell_type": "markdown",
   "metadata": {},
   "source": [
    "#### v3, Significant"
   ]
  },
  {
   "cell_type": "code",
   "execution_count": 5,
   "metadata": {},
   "outputs": [
    {
     "name": "stdout",
     "output_type": "stream",
     "text": [
      "2058\n"
     ]
    }
   ],
   "source": [
    "%%bash\n",
    "module load bedtools2\n",
    "\n",
    "bedtools intersect \\\n",
    "-b /data/gersbachlab/lrb53/encodeCrisprWG/finalversion/figure1/allmeta/elementQuant/combined/binnedgenome.int.elementQuant.20230411.merge.bed \\\n",
    "-a /data/gersbachlab/lrb53/encodeCrisprWG/finalversion/annotations/encode.ccres.v3.hg38.bed \\\n",
    "-wa -u | wc -l"
   ]
  },
  {
   "cell_type": "markdown",
   "metadata": {},
   "source": [
    "#### v4, Perturbed"
   ]
  },
  {
   "cell_type": "code",
   "execution_count": 6,
   "metadata": {},
   "outputs": [
    {
     "name": "stdout",
     "output_type": "stream",
     "text": [
      "15817\n"
     ]
    }
   ],
   "source": [
    "%%bash\n",
    "module load bedtools2\n",
    "\n",
    "bedtools intersect \\\n",
    "-b /data/gersbachlab/lrb53/encodeCrisprWG/finalversion/figure1/allmeta/elementReference/combined/binnedgenome.int.elementReference.20230411.merge.bed \\\n",
    "-a /data/gersbachlab/lrb53/encodeCrisprWG/finalversion/annotations/encode.ccres.v4.hg38.bed.gz \\\n",
    "-wa -u | wc -l"
   ]
  },
  {
   "cell_type": "markdown",
   "metadata": {},
   "source": [
    "#### v4, Significant"
   ]
  },
  {
   "cell_type": "code",
   "execution_count": 7,
   "metadata": {},
   "outputs": [
    {
     "name": "stdout",
     "output_type": "stream",
     "text": [
      "2547\n"
     ]
    }
   ],
   "source": [
    "%%bash\n",
    "module load bedtools2\n",
    "\n",
    "bedtools intersect \\\n",
    "-b /data/gersbachlab/lrb53/encodeCrisprWG/finalversion/figure1/allmeta/elementQuant/combined/binnedgenome.int.elementQuant.20230411.merge.bed \\\n",
    "-a /data/gersbachlab/lrb53/encodeCrisprWG/finalversion/annotations/encode.ccres.v4.hg38.bed.gz \\\n",
    "-wa -u | wc -l"
   ]
  },
  {
   "cell_type": "markdown",
   "metadata": {},
   "source": [
    "#### For v4, get the number of cCREs per region perturbed or significant"
   ]
  },
  {
   "cell_type": "code",
   "execution_count": 8,
   "metadata": {},
   "outputs": [],
   "source": [
    "%%bash\n",
    "module load bedtools2\n",
    "\n",
    "bedtools intersect \\\n",
    "-a /data/gersbachlab/lrb53/encodeCrisprWG/finalversion/figure1/allmeta/elementReference/combined/binnedgenome.int.elementReference.20230411.merge.bed \\\n",
    "-b /data/gersbachlab/lrb53/encodeCrisprWG/finalversion/annotations/encode.ccres.v4.hg38.bed.gz \\\n",
    "-c > /data/gersbachlab/lrb53/encodeCrisprWG/finalversion/figure1/allmeta/outs/binnedgenome.int.elementReference.20230411.merge.int.cCREs.count.txt"
   ]
  },
  {
   "cell_type": "code",
   "execution_count": 9,
   "metadata": {},
   "outputs": [],
   "source": [
    "%%bash\n",
    "module load bedtools2\n",
    "\n",
    "bedtools intersect \\\n",
    "-a /data/gersbachlab/lrb53/encodeCrisprWG/finalversion/figure1/allmeta/elementQuant/combined/binnedgenome.int.elementQuant.20230411.merge.bed \\\n",
    "-b /data/gersbachlab/lrb53/encodeCrisprWG/finalversion/annotations/encode.ccres.v4.hg38.bed.gz \\\n",
    "-c > /data/gersbachlab/lrb53/encodeCrisprWG/finalversion/figure1/allmeta/outs/binnedgenome.int.elementQuant.20230411.merge.int.cCREs.count.txt"
   ]
  },
  {
   "cell_type": "markdown",
   "metadata": {},
   "source": [
    "#### Calculate percent of cCREs perturbed and percent of perturbed cCREs that overlapped a significant element"
   ]
  },
  {
   "cell_type": "code",
   "execution_count": 10,
   "metadata": {},
   "outputs": [
    {
     "data": {
      "text/plain": [
       "0.6733922159487137"
      ]
     },
     "execution_count": 10,
     "metadata": {},
     "output_type": "execute_result"
    }
   ],
   "source": [
    "15817/2348854*100"
   ]
  },
  {
   "cell_type": "code",
   "execution_count": 11,
   "metadata": {},
   "outputs": [
    {
     "data": {
      "text/plain": [
       "16.10292723019536"
      ]
     },
     "execution_count": 11,
     "metadata": {},
     "output_type": "execute_result"
    }
   ],
   "source": [
    "2547/15817*100"
   ]
  },
  {
   "cell_type": "markdown",
   "metadata": {},
   "source": [
    "#### Plot distribution of cCREs per perturbed and per significant element"
   ]
  },
  {
   "cell_type": "code",
   "execution_count": 12,
   "metadata": {},
   "outputs": [
    {
     "data": {
      "text/html": [
       "<div>\n",
       "<style scoped>\n",
       "    .dataframe tbody tr th:only-of-type {\n",
       "        vertical-align: middle;\n",
       "    }\n",
       "\n",
       "    .dataframe tbody tr th {\n",
       "        vertical-align: top;\n",
       "    }\n",
       "\n",
       "    .dataframe thead th {\n",
       "        text-align: right;\n",
       "    }\n",
       "</style>\n",
       "<table border=\"1\" class=\"dataframe\">\n",
       "  <thead>\n",
       "    <tr style=\"text-align: right;\">\n",
       "      <th></th>\n",
       "      <th>chr</th>\n",
       "      <th>start</th>\n",
       "      <th>end</th>\n",
       "      <th>cCRE_count</th>\n",
       "      <th>region_type</th>\n",
       "    </tr>\n",
       "  </thead>\n",
       "  <tbody>\n",
       "    <tr>\n",
       "      <td>0</td>\n",
       "      <td>chr2</td>\n",
       "      <td>46464400</td>\n",
       "      <td>46464900</td>\n",
       "      <td>1</td>\n",
       "      <td>perturbed</td>\n",
       "    </tr>\n",
       "    <tr>\n",
       "      <td>1</td>\n",
       "      <td>chr2</td>\n",
       "      <td>46499600</td>\n",
       "      <td>46500700</td>\n",
       "      <td>3</td>\n",
       "      <td>perturbed</td>\n",
       "    </tr>\n",
       "    <tr>\n",
       "      <td>2</td>\n",
       "      <td>chr2</td>\n",
       "      <td>46541500</td>\n",
       "      <td>46542900</td>\n",
       "      <td>4</td>\n",
       "      <td>perturbed</td>\n",
       "    </tr>\n",
       "    <tr>\n",
       "      <td>3</td>\n",
       "      <td>chr2</td>\n",
       "      <td>46543000</td>\n",
       "      <td>46544500</td>\n",
       "      <td>5</td>\n",
       "      <td>perturbed</td>\n",
       "    </tr>\n",
       "    <tr>\n",
       "      <td>4</td>\n",
       "      <td>chr2</td>\n",
       "      <td>46554900</td>\n",
       "      <td>46555600</td>\n",
       "      <td>1</td>\n",
       "      <td>perturbed</td>\n",
       "    </tr>\n",
       "  </tbody>\n",
       "</table>\n",
       "</div>"
      ],
      "text/plain": [
       "    chr     start       end  cCRE_count region_type\n",
       "0  chr2  46464400  46464900           1   perturbed\n",
       "1  chr2  46499600  46500700           3   perturbed\n",
       "2  chr2  46541500  46542900           4   perturbed\n",
       "3  chr2  46543000  46544500           5   perturbed\n",
       "4  chr2  46554900  46555600           1   perturbed"
      ]
     },
     "execution_count": 12,
     "metadata": {},
     "output_type": "execute_result"
    }
   ],
   "source": [
    "df1 = pd.read_csv('/data/gersbachlab/lrb53/encodeCrisprWG/finalversion/figure1/allmeta/outs/binnedgenome.int.elementReference.20230411.merge.int.cCREs.count.txt',\n",
    "                   sep='\\t', header = None)\n",
    "\n",
    "df1.columns = ['chr', 'start', 'end', 'cCRE_count']\n",
    "df1['region_type'] = \"perturbed\"\n",
    "df1.head()"
   ]
  },
  {
   "cell_type": "code",
   "execution_count": 13,
   "metadata": {},
   "outputs": [
    {
     "data": {
      "text/html": [
       "<div>\n",
       "<style scoped>\n",
       "    .dataframe tbody tr th:only-of-type {\n",
       "        vertical-align: middle;\n",
       "    }\n",
       "\n",
       "    .dataframe tbody tr th {\n",
       "        vertical-align: top;\n",
       "    }\n",
       "\n",
       "    .dataframe thead th {\n",
       "        text-align: right;\n",
       "    }\n",
       "</style>\n",
       "<table border=\"1\" class=\"dataframe\">\n",
       "  <thead>\n",
       "    <tr style=\"text-align: right;\">\n",
       "      <th></th>\n",
       "      <th>chr</th>\n",
       "      <th>start</th>\n",
       "      <th>end</th>\n",
       "      <th>cCRE_count</th>\n",
       "      <th>region_type</th>\n",
       "    </tr>\n",
       "  </thead>\n",
       "  <tbody>\n",
       "    <tr>\n",
       "      <td>0</td>\n",
       "      <td>chr1</td>\n",
       "      <td>1411500</td>\n",
       "      <td>1411800</td>\n",
       "      <td>2</td>\n",
       "      <td>significant</td>\n",
       "    </tr>\n",
       "    <tr>\n",
       "      <td>1</td>\n",
       "      <td>chr1</td>\n",
       "      <td>3675300</td>\n",
       "      <td>3676000</td>\n",
       "      <td>3</td>\n",
       "      <td>significant</td>\n",
       "    </tr>\n",
       "    <tr>\n",
       "      <td>2</td>\n",
       "      <td>chr1</td>\n",
       "      <td>6475300</td>\n",
       "      <td>6475700</td>\n",
       "      <td>2</td>\n",
       "      <td>significant</td>\n",
       "    </tr>\n",
       "    <tr>\n",
       "      <td>3</td>\n",
       "      <td>chr1</td>\n",
       "      <td>6859300</td>\n",
       "      <td>6861400</td>\n",
       "      <td>4</td>\n",
       "      <td>significant</td>\n",
       "    </tr>\n",
       "    <tr>\n",
       "      <td>4</td>\n",
       "      <td>chr1</td>\n",
       "      <td>8049700</td>\n",
       "      <td>8050700</td>\n",
       "      <td>1</td>\n",
       "      <td>significant</td>\n",
       "    </tr>\n",
       "  </tbody>\n",
       "</table>\n",
       "</div>"
      ],
      "text/plain": [
       "    chr    start      end  cCRE_count  region_type\n",
       "0  chr1  1411500  1411800           2  significant\n",
       "1  chr1  3675300  3676000           3  significant\n",
       "2  chr1  6475300  6475700           2  significant\n",
       "3  chr1  6859300  6861400           4  significant\n",
       "4  chr1  8049700  8050700           1  significant"
      ]
     },
     "execution_count": 13,
     "metadata": {},
     "output_type": "execute_result"
    }
   ],
   "source": [
    "df2 = pd.read_csv('/data/gersbachlab/lrb53/encodeCrisprWG/finalversion/figure1/allmeta/outs/binnedgenome.int.elementQuant.20230411.merge.int.cCREs.count.txt',\n",
    "                   sep='\\t', header = None)\n",
    "\n",
    "df2.columns = ['chr', 'start', 'end', 'cCRE_count']\n",
    "df2['region_type'] = \"significant\"\n",
    "df2.head()"
   ]
  },
  {
   "cell_type": "code",
   "execution_count": 14,
   "metadata": {},
   "outputs": [
    {
     "data": {
      "text/html": [
       "<div>\n",
       "<style scoped>\n",
       "    .dataframe tbody tr th:only-of-type {\n",
       "        vertical-align: middle;\n",
       "    }\n",
       "\n",
       "    .dataframe tbody tr th {\n",
       "        vertical-align: top;\n",
       "    }\n",
       "\n",
       "    .dataframe thead th {\n",
       "        text-align: right;\n",
       "    }\n",
       "</style>\n",
       "<table border=\"1\" class=\"dataframe\">\n",
       "  <thead>\n",
       "    <tr style=\"text-align: right;\">\n",
       "      <th></th>\n",
       "      <th>chr</th>\n",
       "      <th>start</th>\n",
       "      <th>end</th>\n",
       "      <th>cCRE_count</th>\n",
       "      <th>region_type</th>\n",
       "    </tr>\n",
       "  </thead>\n",
       "  <tbody>\n",
       "    <tr>\n",
       "      <td>0</td>\n",
       "      <td>chr2</td>\n",
       "      <td>46464400</td>\n",
       "      <td>46464900</td>\n",
       "      <td>1</td>\n",
       "      <td>perturbed</td>\n",
       "    </tr>\n",
       "    <tr>\n",
       "      <td>1</td>\n",
       "      <td>chr2</td>\n",
       "      <td>46499600</td>\n",
       "      <td>46500700</td>\n",
       "      <td>3</td>\n",
       "      <td>perturbed</td>\n",
       "    </tr>\n",
       "    <tr>\n",
       "      <td>2</td>\n",
       "      <td>chr2</td>\n",
       "      <td>46541500</td>\n",
       "      <td>46542900</td>\n",
       "      <td>4</td>\n",
       "      <td>perturbed</td>\n",
       "    </tr>\n",
       "    <tr>\n",
       "      <td>3</td>\n",
       "      <td>chr2</td>\n",
       "      <td>46543000</td>\n",
       "      <td>46544500</td>\n",
       "      <td>5</td>\n",
       "      <td>perturbed</td>\n",
       "    </tr>\n",
       "    <tr>\n",
       "      <td>4</td>\n",
       "      <td>chr2</td>\n",
       "      <td>46554900</td>\n",
       "      <td>46555600</td>\n",
       "      <td>1</td>\n",
       "      <td>perturbed</td>\n",
       "    </tr>\n",
       "  </tbody>\n",
       "</table>\n",
       "</div>"
      ],
      "text/plain": [
       "    chr     start       end  cCRE_count region_type\n",
       "0  chr2  46464400  46464900           1   perturbed\n",
       "1  chr2  46499600  46500700           3   perturbed\n",
       "2  chr2  46541500  46542900           4   perturbed\n",
       "3  chr2  46543000  46544500           5   perturbed\n",
       "4  chr2  46554900  46555600           1   perturbed"
      ]
     },
     "execution_count": 14,
     "metadata": {},
     "output_type": "execute_result"
    }
   ],
   "source": [
    "plotdf = pd.concat([df1, df2], sort = False)\n",
    "plotdf.head()"
   ]
  },
  {
   "cell_type": "code",
   "execution_count": 15,
   "metadata": {},
   "outputs": [
    {
     "data": {
      "text/html": [
       "<div>\n",
       "<style scoped>\n",
       "    .dataframe tbody tr th:only-of-type {\n",
       "        vertical-align: middle;\n",
       "    }\n",
       "\n",
       "    .dataframe tbody tr th {\n",
       "        vertical-align: top;\n",
       "    }\n",
       "\n",
       "    .dataframe thead tr th {\n",
       "        text-align: left;\n",
       "    }\n",
       "\n",
       "    .dataframe thead tr:last-of-type th {\n",
       "        text-align: right;\n",
       "    }\n",
       "</style>\n",
       "<table border=\"1\" class=\"dataframe\">\n",
       "  <thead>\n",
       "    <tr>\n",
       "      <th></th>\n",
       "      <th colspan=\"8\" halign=\"left\">cCRE_count</th>\n",
       "    </tr>\n",
       "    <tr>\n",
       "      <th></th>\n",
       "      <th>count</th>\n",
       "      <th>mean</th>\n",
       "      <th>std</th>\n",
       "      <th>min</th>\n",
       "      <th>25%</th>\n",
       "      <th>50%</th>\n",
       "      <th>75%</th>\n",
       "      <th>max</th>\n",
       "    </tr>\n",
       "    <tr>\n",
       "      <th>region_type</th>\n",
       "      <th></th>\n",
       "      <th></th>\n",
       "      <th></th>\n",
       "      <th></th>\n",
       "      <th></th>\n",
       "      <th></th>\n",
       "      <th></th>\n",
       "      <th></th>\n",
       "    </tr>\n",
       "  </thead>\n",
       "  <tbody>\n",
       "    <tr>\n",
       "      <td>perturbed</td>\n",
       "      <td>3062.0</td>\n",
       "      <td>5.181581</td>\n",
       "      <td>80.046566</td>\n",
       "      <td>0.0</td>\n",
       "      <td>1.0</td>\n",
       "      <td>2.0</td>\n",
       "      <td>4.0</td>\n",
       "      <td>4386.0</td>\n",
       "    </tr>\n",
       "    <tr>\n",
       "      <td>significant</td>\n",
       "      <td>865.0</td>\n",
       "      <td>2.949133</td>\n",
       "      <td>3.168450</td>\n",
       "      <td>0.0</td>\n",
       "      <td>1.0</td>\n",
       "      <td>2.0</td>\n",
       "      <td>3.0</td>\n",
       "      <td>32.0</td>\n",
       "    </tr>\n",
       "  </tbody>\n",
       "</table>\n",
       "</div>"
      ],
      "text/plain": [
       "            cCRE_count                                                 \n",
       "                 count      mean        std  min  25%  50%  75%     max\n",
       "region_type                                                            \n",
       "perturbed       3062.0  5.181581  80.046566  0.0  1.0  2.0  4.0  4386.0\n",
       "significant      865.0  2.949133   3.168450  0.0  1.0  2.0  3.0    32.0"
      ]
     },
     "execution_count": 15,
     "metadata": {},
     "output_type": "execute_result"
    }
   ],
   "source": [
    "plotdf[[\"cCRE_count\",\"region_type\"]].groupby('region_type').describe()"
   ]
  },
  {
   "attachments": {
    "image.png": {
     "image/png": "[encoded data removed]"
    }
   },
   "cell_type": "markdown",
   "metadata": {},
   "source": [
    "![image.png](attachment:image.png)\n",
    " \n",
    "Presumably these are tiling screens (and after merging adjacent regions), the majority of the locus is targeted."
   ]
  },
  {
   "cell_type": "code",
   "execution_count": 27,
   "metadata": {},
   "outputs": [
    {
     "data": {
      "text/plain": [
       "array([<matplotlib.axes._subplots.AxesSubplot object at 0x2aea670d0e48>,\n",
       "       <matplotlib.axes._subplots.AxesSubplot object at 0x2aea67109470>],\n",
       "      dtype=object)"
      ]
     },
     "execution_count": 27,
     "metadata": {},
     "output_type": "execute_result"
    },
    {
     "data": {
      "text/plain": [
       "<Figure size 720x360 with 0 Axes>"
      ]
     },
     "metadata": {},
     "output_type": "display_data"
    },
    {
     "data": {
      "image/png": "[encoded data removed]",
      "text/plain": [
       "<Figure size 432x288 with 2 Axes>"
      ]
     },
     "metadata": {
      "needs_background": "light"
     },
     "output_type": "display_data"
    }
   ],
   "source": [
    "fig = plt.figure(figsize = (10, 5))\n",
    " \n",
    "# creating the bar plot\n",
    "plotdf['cCRE_count'].hist(by=plotdf['region_type'], edgecolor='black') "
   ]
  },
  {
   "cell_type": "code",
   "execution_count": 28,
   "metadata": {},
   "outputs": [
    {
     "data": {
      "text/html": [
       "<div>\n",
       "<style scoped>\n",
       "    .dataframe tbody tr th:only-of-type {\n",
       "        vertical-align: middle;\n",
       "    }\n",
       "\n",
       "    .dataframe tbody tr th {\n",
       "        vertical-align: top;\n",
       "    }\n",
       "\n",
       "    .dataframe thead th {\n",
       "        text-align: right;\n",
       "    }\n",
       "</style>\n",
       "<table border=\"1\" class=\"dataframe\">\n",
       "  <thead>\n",
       "    <tr style=\"text-align: right;\">\n",
       "      <th></th>\n",
       "      <th>chr</th>\n",
       "      <th>start</th>\n",
       "      <th>end</th>\n",
       "      <th>cCRE_count</th>\n",
       "      <th>region_type</th>\n",
       "    </tr>\n",
       "  </thead>\n",
       "  <tbody>\n",
       "    <tr>\n",
       "      <td>0</td>\n",
       "      <td>chr2</td>\n",
       "      <td>46464400</td>\n",
       "      <td>46464900</td>\n",
       "      <td>1</td>\n",
       "      <td>perturbed</td>\n",
       "    </tr>\n",
       "    <tr>\n",
       "      <td>1</td>\n",
       "      <td>chr2</td>\n",
       "      <td>46499600</td>\n",
       "      <td>46500700</td>\n",
       "      <td>3</td>\n",
       "      <td>perturbed</td>\n",
       "    </tr>\n",
       "    <tr>\n",
       "      <td>2</td>\n",
       "      <td>chr2</td>\n",
       "      <td>46541500</td>\n",
       "      <td>46542900</td>\n",
       "      <td>4</td>\n",
       "      <td>perturbed</td>\n",
       "    </tr>\n",
       "    <tr>\n",
       "      <td>3</td>\n",
       "      <td>chr2</td>\n",
       "      <td>46543000</td>\n",
       "      <td>46544500</td>\n",
       "      <td>5</td>\n",
       "      <td>perturbed</td>\n",
       "    </tr>\n",
       "    <tr>\n",
       "      <td>4</td>\n",
       "      <td>chr2</td>\n",
       "      <td>46554900</td>\n",
       "      <td>46555600</td>\n",
       "      <td>1</td>\n",
       "      <td>perturbed</td>\n",
       "    </tr>\n",
       "  </tbody>\n",
       "</table>\n",
       "</div>"
      ],
      "text/plain": [
       "    chr     start       end  cCRE_count region_type\n",
       "0  chr2  46464400  46464900           1   perturbed\n",
       "1  chr2  46499600  46500700           3   perturbed\n",
       "2  chr2  46541500  46542900           4   perturbed\n",
       "3  chr2  46543000  46544500           5   perturbed\n",
       "4  chr2  46554900  46555600           1   perturbed"
      ]
     },
     "execution_count": 28,
     "metadata": {},
     "output_type": "execute_result"
    }
   ],
   "source": [
    "plotdf_sub = plotdf.loc[(plotdf[\"cCRE_count\"] < 500)]\n",
    "plotdf_sub.head()"
   ]
  },
  {
   "cell_type": "code",
   "execution_count": 29,
   "metadata": {},
   "outputs": [
    {
     "data": {
      "text/html": [
       "<div>\n",
       "<style scoped>\n",
       "    .dataframe tbody tr th:only-of-type {\n",
       "        vertical-align: middle;\n",
       "    }\n",
       "\n",
       "    .dataframe tbody tr th {\n",
       "        vertical-align: top;\n",
       "    }\n",
       "\n",
       "    .dataframe thead tr th {\n",
       "        text-align: left;\n",
       "    }\n",
       "\n",
       "    .dataframe thead tr:last-of-type th {\n",
       "        text-align: right;\n",
       "    }\n",
       "</style>\n",
       "<table border=\"1\" class=\"dataframe\">\n",
       "  <thead>\n",
       "    <tr>\n",
       "      <th></th>\n",
       "      <th colspan=\"8\" halign=\"left\">cCRE_count</th>\n",
       "    </tr>\n",
       "    <tr>\n",
       "      <th></th>\n",
       "      <th>count</th>\n",
       "      <th>mean</th>\n",
       "      <th>std</th>\n",
       "      <th>min</th>\n",
       "      <th>25%</th>\n",
       "      <th>50%</th>\n",
       "      <th>75%</th>\n",
       "      <th>max</th>\n",
       "    </tr>\n",
       "    <tr>\n",
       "      <th>region_type</th>\n",
       "      <th></th>\n",
       "      <th></th>\n",
       "      <th></th>\n",
       "      <th></th>\n",
       "      <th></th>\n",
       "      <th></th>\n",
       "      <th></th>\n",
       "      <th></th>\n",
       "    </tr>\n",
       "  </thead>\n",
       "  <tbody>\n",
       "    <tr>\n",
       "      <td>perturbed</td>\n",
       "      <td>3060.0</td>\n",
       "      <td>3.577451</td>\n",
       "      <td>6.647542</td>\n",
       "      <td>0.0</td>\n",
       "      <td>1.0</td>\n",
       "      <td>2.0</td>\n",
       "      <td>4.0</td>\n",
       "      <td>147.0</td>\n",
       "    </tr>\n",
       "    <tr>\n",
       "      <td>significant</td>\n",
       "      <td>865.0</td>\n",
       "      <td>2.949133</td>\n",
       "      <td>3.168450</td>\n",
       "      <td>0.0</td>\n",
       "      <td>1.0</td>\n",
       "      <td>2.0</td>\n",
       "      <td>3.0</td>\n",
       "      <td>32.0</td>\n",
       "    </tr>\n",
       "  </tbody>\n",
       "</table>\n",
       "</div>"
      ],
      "text/plain": [
       "            cCRE_count                                               \n",
       "                 count      mean       std  min  25%  50%  75%    max\n",
       "region_type                                                          \n",
       "perturbed       3060.0  3.577451  6.647542  0.0  1.0  2.0  4.0  147.0\n",
       "significant      865.0  2.949133  3.168450  0.0  1.0  2.0  3.0   32.0"
      ]
     },
     "execution_count": 29,
     "metadata": {},
     "output_type": "execute_result"
    }
   ],
   "source": [
    "plotdf_sub[[\"cCRE_count\",\"region_type\"]].groupby('region_type').describe()"
   ]
  },
  {
   "cell_type": "code",
   "execution_count": 30,
   "metadata": {},
   "outputs": [
    {
     "data": {
      "text/plain": [
       "array([<matplotlib.axes._subplots.AxesSubplot object at 0x2aea671cc0b8>,\n",
       "       <matplotlib.axes._subplots.AxesSubplot object at 0x2aea671f0cc0>],\n",
       "      dtype=object)"
      ]
     },
     "execution_count": 30,
     "metadata": {},
     "output_type": "execute_result"
    },
    {
     "data": {
      "text/plain": [
       "<Figure size 720x360 with 0 Axes>"
      ]
     },
     "metadata": {},
     "output_type": "display_data"
    },
    {
     "data": {
      "image/png": "[encoded data removed]",
      "text/plain": [
       "<Figure size 432x288 with 2 Axes>"
      ]
     },
     "metadata": {
      "needs_background": "light"
     },
     "output_type": "display_data"
    }
   ],
   "source": [
    "fig = plt.figure(figsize = (10, 5))\n",
    " \n",
    "# creating the bar plot\n",
    "plotdf_sub['cCRE_count'].hist(by=plotdf_sub['region_type'], edgecolor='black') "
   ]
  },
  {
   "cell_type": "code",
   "execution_count": 31,
   "metadata": {},
   "outputs": [
    {
     "data": {
      "text/html": [
       "<div>\n",
       "<style scoped>\n",
       "    .dataframe tbody tr th:only-of-type {\n",
       "        vertical-align: middle;\n",
       "    }\n",
       "\n",
       "    .dataframe tbody tr th {\n",
       "        vertical-align: top;\n",
       "    }\n",
       "\n",
       "    .dataframe thead th {\n",
       "        text-align: right;\n",
       "    }\n",
       "</style>\n",
       "<table border=\"1\" class=\"dataframe\">\n",
       "  <thead>\n",
       "    <tr style=\"text-align: right;\">\n",
       "      <th></th>\n",
       "      <th>chr</th>\n",
       "      <th>start</th>\n",
       "      <th>end</th>\n",
       "      <th>cCRE_count</th>\n",
       "      <th>region_type</th>\n",
       "    </tr>\n",
       "  </thead>\n",
       "  <tbody>\n",
       "    <tr>\n",
       "      <td>0</td>\n",
       "      <td>chr2</td>\n",
       "      <td>46464400</td>\n",
       "      <td>46464900</td>\n",
       "      <td>1</td>\n",
       "      <td>perturbed</td>\n",
       "    </tr>\n",
       "    <tr>\n",
       "      <td>1</td>\n",
       "      <td>chr2</td>\n",
       "      <td>46499600</td>\n",
       "      <td>46500700</td>\n",
       "      <td>3</td>\n",
       "      <td>perturbed</td>\n",
       "    </tr>\n",
       "    <tr>\n",
       "      <td>2</td>\n",
       "      <td>chr2</td>\n",
       "      <td>46541500</td>\n",
       "      <td>46542900</td>\n",
       "      <td>4</td>\n",
       "      <td>perturbed</td>\n",
       "    </tr>\n",
       "    <tr>\n",
       "      <td>3</td>\n",
       "      <td>chr2</td>\n",
       "      <td>46543000</td>\n",
       "      <td>46544500</td>\n",
       "      <td>5</td>\n",
       "      <td>perturbed</td>\n",
       "    </tr>\n",
       "    <tr>\n",
       "      <td>4</td>\n",
       "      <td>chr2</td>\n",
       "      <td>46554900</td>\n",
       "      <td>46555600</td>\n",
       "      <td>1</td>\n",
       "      <td>perturbed</td>\n",
       "    </tr>\n",
       "  </tbody>\n",
       "</table>\n",
       "</div>"
      ],
      "text/plain": [
       "    chr     start       end  cCRE_count region_type\n",
       "0  chr2  46464400  46464900           1   perturbed\n",
       "1  chr2  46499600  46500700           3   perturbed\n",
       "2  chr2  46541500  46542900           4   perturbed\n",
       "3  chr2  46543000  46544500           5   perturbed\n",
       "4  chr2  46554900  46555600           1   perturbed"
      ]
     },
     "execution_count": 31,
     "metadata": {},
     "output_type": "execute_result"
    }
   ],
   "source": [
    "plotdf_sub = plotdf.loc[(plotdf[\"cCRE_count\"] < 100)]\n",
    "plotdf_sub.head()"
   ]
  },
  {
   "cell_type": "code",
   "execution_count": 32,
   "metadata": {},
   "outputs": [
    {
     "data": {
      "text/html": [
       "<div>\n",
       "<style scoped>\n",
       "    .dataframe tbody tr th:only-of-type {\n",
       "        vertical-align: middle;\n",
       "    }\n",
       "\n",
       "    .dataframe tbody tr th {\n",
       "        vertical-align: top;\n",
       "    }\n",
       "\n",
       "    .dataframe thead tr th {\n",
       "        text-align: left;\n",
       "    }\n",
       "\n",
       "    .dataframe thead tr:last-of-type th {\n",
       "        text-align: right;\n",
       "    }\n",
       "</style>\n",
       "<table border=\"1\" class=\"dataframe\">\n",
       "  <thead>\n",
       "    <tr>\n",
       "      <th></th>\n",
       "      <th colspan=\"8\" halign=\"left\">cCRE_count</th>\n",
       "    </tr>\n",
       "    <tr>\n",
       "      <th></th>\n",
       "      <th>count</th>\n",
       "      <th>mean</th>\n",
       "      <th>std</th>\n",
       "      <th>min</th>\n",
       "      <th>25%</th>\n",
       "      <th>50%</th>\n",
       "      <th>75%</th>\n",
       "      <th>max</th>\n",
       "    </tr>\n",
       "    <tr>\n",
       "      <th>region_type</th>\n",
       "      <th></th>\n",
       "      <th></th>\n",
       "      <th></th>\n",
       "      <th></th>\n",
       "      <th></th>\n",
       "      <th></th>\n",
       "      <th></th>\n",
       "      <th></th>\n",
       "    </tr>\n",
       "  </thead>\n",
       "  <tbody>\n",
       "    <tr>\n",
       "      <td>perturbed</td>\n",
       "      <td>3057.0</td>\n",
       "      <td>3.464835</td>\n",
       "      <td>5.557601</td>\n",
       "      <td>0.0</td>\n",
       "      <td>1.0</td>\n",
       "      <td>2.0</td>\n",
       "      <td>4.0</td>\n",
       "      <td>82.0</td>\n",
       "    </tr>\n",
       "    <tr>\n",
       "      <td>significant</td>\n",
       "      <td>865.0</td>\n",
       "      <td>2.949133</td>\n",
       "      <td>3.168450</td>\n",
       "      <td>0.0</td>\n",
       "      <td>1.0</td>\n",
       "      <td>2.0</td>\n",
       "      <td>3.0</td>\n",
       "      <td>32.0</td>\n",
       "    </tr>\n",
       "  </tbody>\n",
       "</table>\n",
       "</div>"
      ],
      "text/plain": [
       "            cCRE_count                                              \n",
       "                 count      mean       std  min  25%  50%  75%   max\n",
       "region_type                                                         \n",
       "perturbed       3057.0  3.464835  5.557601  0.0  1.0  2.0  4.0  82.0\n",
       "significant      865.0  2.949133  3.168450  0.0  1.0  2.0  3.0  32.0"
      ]
     },
     "execution_count": 32,
     "metadata": {},
     "output_type": "execute_result"
    }
   ],
   "source": [
    "plotdf_sub[[\"cCRE_count\",\"region_type\"]].groupby('region_type').describe()"
   ]
  },
  {
   "cell_type": "code",
   "execution_count": 33,
   "metadata": {},
   "outputs": [
    {
     "data": {
      "text/plain": [
       "array([<matplotlib.axes._subplots.AxesSubplot object at 0x2aea672a9a20>,\n",
       "       <matplotlib.axes._subplots.AxesSubplot object at 0x2aea672b6908>],\n",
       "      dtype=object)"
      ]
     },
     "execution_count": 33,
     "metadata": {},
     "output_type": "execute_result"
    },
    {
     "data": {
      "text/plain": [
       "<Figure size 720x360 with 0 Axes>"
      ]
     },
     "metadata": {},
     "output_type": "display_data"
    },
    {
     "data": {
      "image/png": "[encoded data removed]",
      "text/plain": [
       "<Figure size 432x288 with 2 Axes>"
      ]
     },
     "metadata": {
      "needs_background": "light"
     },
     "output_type": "display_data"
    }
   ],
   "source": [
    "fig = plt.figure(figsize = (10, 5))\n",
    " \n",
    "# creating the bar plot\n",
    "plotdf_sub['cCRE_count'].hist(by=plotdf_sub['region_type'], edgecolor='black') "
   ]
  },
  {
   "cell_type": "markdown",
   "metadata": {},
   "source": [
    "### ENCODE cCREs (only `v4`), all biosamples, window +/- 100bp"
   ]
  },
  {
   "cell_type": "markdown",
   "metadata": {},
   "source": [
    "#### v4, Perturbed"
   ]
  },
  {
   "cell_type": "code",
   "execution_count": 34,
   "metadata": {},
   "outputs": [
    {
     "name": "stdout",
     "output_type": "stream",
     "text": [
      "16484\n"
     ]
    }
   ],
   "source": [
    "%%bash\n",
    "module load bedtools2\n",
    "\n",
    "bedtools window \\\n",
    "-b /data/gersbachlab/lrb53/encodeCrisprWG/finalversion/figure1/allmeta/elementReference/combined/binnedgenome.int.elementReference.20230411.merge.bed \\\n",
    "-a /data/gersbachlab/lrb53/encodeCrisprWG/finalversion/annotations/encode.ccres.v4.hg38.bed.gz \\\n",
    "-w 100 | wc -l"
   ]
  },
  {
   "cell_type": "markdown",
   "metadata": {},
   "source": [
    "#### v4, Significant"
   ]
  },
  {
   "cell_type": "code",
   "execution_count": 35,
   "metadata": {},
   "outputs": [
    {
     "name": "stdout",
     "output_type": "stream",
     "text": [
      "2842\n"
     ]
    }
   ],
   "source": [
    "%%bash\n",
    "module load bedtools2\n",
    "\n",
    "bedtools window \\\n",
    "-b /data/gersbachlab/lrb53/encodeCrisprWG/finalversion/figure1/allmeta/elementQuant/combined/binnedgenome.int.elementQuant.20230411.merge.bed \\\n",
    "-a /data/gersbachlab/lrb53/encodeCrisprWG/finalversion/annotations/encode.ccres.v4.hg38.bed.gz \\\n",
    "-w 100 | wc -l"
   ]
  },
  {
   "cell_type": "markdown",
   "metadata": {},
   "source": [
    "#### For v4, get the number of cCREs per region perturbed or significant"
   ]
  },
  {
   "cell_type": "code",
   "execution_count": 36,
   "metadata": {},
   "outputs": [],
   "source": [
    "%%bash\n",
    "module load bedtools2\n",
    "\n",
    "bedtools window \\\n",
    "-a /data/gersbachlab/lrb53/encodeCrisprWG/finalversion/figure1/allmeta/elementReference/combined/binnedgenome.int.elementReference.20230411.merge.bed \\\n",
    "-b /data/gersbachlab/lrb53/encodeCrisprWG/finalversion/annotations/encode.ccres.v4.hg38.bed.gz \\\n",
    "-c -w 100 > /data/gersbachlab/lrb53/encodeCrisprWG/finalversion/figure1/allmeta/outs/binnedgenome.int.elementReference.20230411.merge.window100.cCREs.count.txt"
   ]
  },
  {
   "cell_type": "code",
   "execution_count": 37,
   "metadata": {},
   "outputs": [],
   "source": [
    "%%bash\n",
    "module load bedtools2\n",
    "\n",
    "bedtools window \\\n",
    "-a /data/gersbachlab/lrb53/encodeCrisprWG/finalversion/figure1/allmeta/elementQuant/combined/binnedgenome.int.elementQuant.20230411.merge.bed \\\n",
    "-b /data/gersbachlab/lrb53/encodeCrisprWG/finalversion/annotations/encode.ccres.v4.hg38.bed.gz \\\n",
    "-c -w 100 > /data/gersbachlab/lrb53/encodeCrisprWG/finalversion/figure1/allmeta/outs/binnedgenome.int.elementQuant.20230411.merge.window100.cCREs.count.txt"
   ]
  },
  {
   "cell_type": "markdown",
   "metadata": {},
   "source": [
    "#### Calculate percent of cCREs perturbed and percent of perturbed cCREs that overlapped a significant element"
   ]
  },
  {
   "cell_type": "code",
   "execution_count": 38,
   "metadata": {},
   "outputs": [
    {
     "data": {
      "text/plain": [
       "0.7017890426565466"
      ]
     },
     "execution_count": 38,
     "metadata": {},
     "output_type": "execute_result"
    }
   ],
   "source": [
    "16484/2348854*100"
   ]
  },
  {
   "cell_type": "code",
   "execution_count": 40,
   "metadata": {},
   "outputs": [
    {
     "data": {
      "text/plain": [
       "17.240960931812666"
      ]
     },
     "execution_count": 40,
     "metadata": {},
     "output_type": "execute_result"
    }
   ],
   "source": [
    "2842/16484*100"
   ]
  },
  {
   "cell_type": "markdown",
   "metadata": {},
   "source": [
    "#### Plot distribution of cCREs per perturbed and per significant element"
   ]
  },
  {
   "cell_type": "code",
   "execution_count": 41,
   "metadata": {},
   "outputs": [
    {
     "data": {
      "text/html": [
       "<div>\n",
       "<style scoped>\n",
       "    .dataframe tbody tr th:only-of-type {\n",
       "        vertical-align: middle;\n",
       "    }\n",
       "\n",
       "    .dataframe tbody tr th {\n",
       "        vertical-align: top;\n",
       "    }\n",
       "\n",
       "    .dataframe thead th {\n",
       "        text-align: right;\n",
       "    }\n",
       "</style>\n",
       "<table border=\"1\" class=\"dataframe\">\n",
       "  <thead>\n",
       "    <tr style=\"text-align: right;\">\n",
       "      <th></th>\n",
       "      <th>chr</th>\n",
       "      <th>start</th>\n",
       "      <th>end</th>\n",
       "      <th>cCRE_count</th>\n",
       "      <th>region_type</th>\n",
       "    </tr>\n",
       "  </thead>\n",
       "  <tbody>\n",
       "    <tr>\n",
       "      <td>0</td>\n",
       "      <td>chr2</td>\n",
       "      <td>46464400</td>\n",
       "      <td>46464900</td>\n",
       "      <td>1</td>\n",
       "      <td>perturbed</td>\n",
       "    </tr>\n",
       "    <tr>\n",
       "      <td>1</td>\n",
       "      <td>chr2</td>\n",
       "      <td>46499600</td>\n",
       "      <td>46500700</td>\n",
       "      <td>3</td>\n",
       "      <td>perturbed</td>\n",
       "    </tr>\n",
       "    <tr>\n",
       "      <td>2</td>\n",
       "      <td>chr2</td>\n",
       "      <td>46541500</td>\n",
       "      <td>46542900</td>\n",
       "      <td>4</td>\n",
       "      <td>perturbed</td>\n",
       "    </tr>\n",
       "    <tr>\n",
       "      <td>3</td>\n",
       "      <td>chr2</td>\n",
       "      <td>46543000</td>\n",
       "      <td>46544500</td>\n",
       "      <td>5</td>\n",
       "      <td>perturbed</td>\n",
       "    </tr>\n",
       "    <tr>\n",
       "      <td>4</td>\n",
       "      <td>chr2</td>\n",
       "      <td>46554900</td>\n",
       "      <td>46555600</td>\n",
       "      <td>1</td>\n",
       "      <td>perturbed</td>\n",
       "    </tr>\n",
       "  </tbody>\n",
       "</table>\n",
       "</div>"
      ],
      "text/plain": [
       "    chr     start       end  cCRE_count region_type\n",
       "0  chr2  46464400  46464900           1   perturbed\n",
       "1  chr2  46499600  46500700           3   perturbed\n",
       "2  chr2  46541500  46542900           4   perturbed\n",
       "3  chr2  46543000  46544500           5   perturbed\n",
       "4  chr2  46554900  46555600           1   perturbed"
      ]
     },
     "execution_count": 41,
     "metadata": {},
     "output_type": "execute_result"
    }
   ],
   "source": [
    "df1 = pd.read_csv('/data/gersbachlab/lrb53/encodeCrisprWG/finalversion/figure1/allmeta/outs/binnedgenome.int.elementReference.20230411.merge.window100.cCREs.count.txt',\n",
    "                   sep='\\t', header = None)\n",
    "\n",
    "df1.columns = ['chr', 'start', 'end', 'cCRE_count']\n",
    "df1['region_type'] = \"perturbed\"\n",
    "df1.head()"
   ]
  },
  {
   "cell_type": "code",
   "execution_count": 42,
   "metadata": {},
   "outputs": [
    {
     "data": {
      "text/html": [
       "<div>\n",
       "<style scoped>\n",
       "    .dataframe tbody tr th:only-of-type {\n",
       "        vertical-align: middle;\n",
       "    }\n",
       "\n",
       "    .dataframe tbody tr th {\n",
       "        vertical-align: top;\n",
       "    }\n",
       "\n",
       "    .dataframe thead th {\n",
       "        text-align: right;\n",
       "    }\n",
       "</style>\n",
       "<table border=\"1\" class=\"dataframe\">\n",
       "  <thead>\n",
       "    <tr style=\"text-align: right;\">\n",
       "      <th></th>\n",
       "      <th>chr</th>\n",
       "      <th>start</th>\n",
       "      <th>end</th>\n",
       "      <th>cCRE_count</th>\n",
       "      <th>region_type</th>\n",
       "    </tr>\n",
       "  </thead>\n",
       "  <tbody>\n",
       "    <tr>\n",
       "      <td>0</td>\n",
       "      <td>chr1</td>\n",
       "      <td>1411500</td>\n",
       "      <td>1411800</td>\n",
       "      <td>2</td>\n",
       "      <td>significant</td>\n",
       "    </tr>\n",
       "    <tr>\n",
       "      <td>1</td>\n",
       "      <td>chr1</td>\n",
       "      <td>3675300</td>\n",
       "      <td>3676000</td>\n",
       "      <td>3</td>\n",
       "      <td>significant</td>\n",
       "    </tr>\n",
       "    <tr>\n",
       "      <td>2</td>\n",
       "      <td>chr1</td>\n",
       "      <td>6475300</td>\n",
       "      <td>6475700</td>\n",
       "      <td>2</td>\n",
       "      <td>significant</td>\n",
       "    </tr>\n",
       "    <tr>\n",
       "      <td>3</td>\n",
       "      <td>chr1</td>\n",
       "      <td>6859300</td>\n",
       "      <td>6861400</td>\n",
       "      <td>5</td>\n",
       "      <td>significant</td>\n",
       "    </tr>\n",
       "    <tr>\n",
       "      <td>4</td>\n",
       "      <td>chr1</td>\n",
       "      <td>8049700</td>\n",
       "      <td>8050700</td>\n",
       "      <td>1</td>\n",
       "      <td>significant</td>\n",
       "    </tr>\n",
       "  </tbody>\n",
       "</table>\n",
       "</div>"
      ],
      "text/plain": [
       "    chr    start      end  cCRE_count  region_type\n",
       "0  chr1  1411500  1411800           2  significant\n",
       "1  chr1  3675300  3676000           3  significant\n",
       "2  chr1  6475300  6475700           2  significant\n",
       "3  chr1  6859300  6861400           5  significant\n",
       "4  chr1  8049700  8050700           1  significant"
      ]
     },
     "execution_count": 42,
     "metadata": {},
     "output_type": "execute_result"
    }
   ],
   "source": [
    "df2 = pd.read_csv('/data/gersbachlab/lrb53/encodeCrisprWG/finalversion/figure1/allmeta/outs/binnedgenome.int.elementQuant.20230411.merge.window100.cCREs.count.txt',\n",
    "                   sep='\\t', header = None)\n",
    "\n",
    "df2.columns = ['chr', 'start', 'end', 'cCRE_count']\n",
    "df2['region_type'] = \"significant\"\n",
    "df2.head()"
   ]
  },
  {
   "cell_type": "code",
   "execution_count": 43,
   "metadata": {},
   "outputs": [
    {
     "data": {
      "text/html": [
       "<div>\n",
       "<style scoped>\n",
       "    .dataframe tbody tr th:only-of-type {\n",
       "        vertical-align: middle;\n",
       "    }\n",
       "\n",
       "    .dataframe tbody tr th {\n",
       "        vertical-align: top;\n",
       "    }\n",
       "\n",
       "    .dataframe thead th {\n",
       "        text-align: right;\n",
       "    }\n",
       "</style>\n",
       "<table border=\"1\" class=\"dataframe\">\n",
       "  <thead>\n",
       "    <tr style=\"text-align: right;\">\n",
       "      <th></th>\n",
       "      <th>chr</th>\n",
       "      <th>start</th>\n",
       "      <th>end</th>\n",
       "      <th>cCRE_count</th>\n",
       "      <th>region_type</th>\n",
       "    </tr>\n",
       "  </thead>\n",
       "  <tbody>\n",
       "    <tr>\n",
       "      <td>0</td>\n",
       "      <td>chr2</td>\n",
       "      <td>46464400</td>\n",
       "      <td>46464900</td>\n",
       "      <td>1</td>\n",
       "      <td>perturbed</td>\n",
       "    </tr>\n",
       "    <tr>\n",
       "      <td>1</td>\n",
       "      <td>chr2</td>\n",
       "      <td>46499600</td>\n",
       "      <td>46500700</td>\n",
       "      <td>3</td>\n",
       "      <td>perturbed</td>\n",
       "    </tr>\n",
       "    <tr>\n",
       "      <td>2</td>\n",
       "      <td>chr2</td>\n",
       "      <td>46541500</td>\n",
       "      <td>46542900</td>\n",
       "      <td>4</td>\n",
       "      <td>perturbed</td>\n",
       "    </tr>\n",
       "    <tr>\n",
       "      <td>3</td>\n",
       "      <td>chr2</td>\n",
       "      <td>46543000</td>\n",
       "      <td>46544500</td>\n",
       "      <td>5</td>\n",
       "      <td>perturbed</td>\n",
       "    </tr>\n",
       "    <tr>\n",
       "      <td>4</td>\n",
       "      <td>chr2</td>\n",
       "      <td>46554900</td>\n",
       "      <td>46555600</td>\n",
       "      <td>1</td>\n",
       "      <td>perturbed</td>\n",
       "    </tr>\n",
       "  </tbody>\n",
       "</table>\n",
       "</div>"
      ],
      "text/plain": [
       "    chr     start       end  cCRE_count region_type\n",
       "0  chr2  46464400  46464900           1   perturbed\n",
       "1  chr2  46499600  46500700           3   perturbed\n",
       "2  chr2  46541500  46542900           4   perturbed\n",
       "3  chr2  46543000  46544500           5   perturbed\n",
       "4  chr2  46554900  46555600           1   perturbed"
      ]
     },
     "execution_count": 43,
     "metadata": {},
     "output_type": "execute_result"
    }
   ],
   "source": [
    "plotdf = pd.concat([df1, df2], sort = False)\n",
    "plotdf.head()"
   ]
  },
  {
   "cell_type": "code",
   "execution_count": 44,
   "metadata": {},
   "outputs": [
    {
     "data": {
      "text/html": [
       "<div>\n",
       "<style scoped>\n",
       "    .dataframe tbody tr th:only-of-type {\n",
       "        vertical-align: middle;\n",
       "    }\n",
       "\n",
       "    .dataframe tbody tr th {\n",
       "        vertical-align: top;\n",
       "    }\n",
       "\n",
       "    .dataframe thead tr th {\n",
       "        text-align: left;\n",
       "    }\n",
       "\n",
       "    .dataframe thead tr:last-of-type th {\n",
       "        text-align: right;\n",
       "    }\n",
       "</style>\n",
       "<table border=\"1\" class=\"dataframe\">\n",
       "  <thead>\n",
       "    <tr>\n",
       "      <th></th>\n",
       "      <th colspan=\"8\" halign=\"left\">cCRE_count</th>\n",
       "    </tr>\n",
       "    <tr>\n",
       "      <th></th>\n",
       "      <th>count</th>\n",
       "      <th>mean</th>\n",
       "      <th>std</th>\n",
       "      <th>min</th>\n",
       "      <th>25%</th>\n",
       "      <th>50%</th>\n",
       "      <th>75%</th>\n",
       "      <th>max</th>\n",
       "    </tr>\n",
       "    <tr>\n",
       "      <th>region_type</th>\n",
       "      <th></th>\n",
       "      <th></th>\n",
       "      <th></th>\n",
       "      <th></th>\n",
       "      <th></th>\n",
       "      <th></th>\n",
       "      <th></th>\n",
       "      <th></th>\n",
       "    </tr>\n",
       "  </thead>\n",
       "  <tbody>\n",
       "    <tr>\n",
       "      <td>perturbed</td>\n",
       "      <td>3062.0</td>\n",
       "      <td>5.383410</td>\n",
       "      <td>80.043417</td>\n",
       "      <td>0.0</td>\n",
       "      <td>1.0</td>\n",
       "      <td>2.0</td>\n",
       "      <td>4.0</td>\n",
       "      <td>4386.0</td>\n",
       "    </tr>\n",
       "    <tr>\n",
       "      <td>significant</td>\n",
       "      <td>865.0</td>\n",
       "      <td>3.285549</td>\n",
       "      <td>3.209230</td>\n",
       "      <td>0.0</td>\n",
       "      <td>2.0</td>\n",
       "      <td>3.0</td>\n",
       "      <td>4.0</td>\n",
       "      <td>32.0</td>\n",
       "    </tr>\n",
       "  </tbody>\n",
       "</table>\n",
       "</div>"
      ],
      "text/plain": [
       "            cCRE_count                                                 \n",
       "                 count      mean        std  min  25%  50%  75%     max\n",
       "region_type                                                            \n",
       "perturbed       3062.0  5.383410  80.043417  0.0  1.0  2.0  4.0  4386.0\n",
       "significant      865.0  3.285549   3.209230  0.0  2.0  3.0  4.0    32.0"
      ]
     },
     "execution_count": 44,
     "metadata": {},
     "output_type": "execute_result"
    }
   ],
   "source": [
    "plotdf[[\"cCRE_count\",\"region_type\"]].groupby('region_type').describe()"
   ]
  },
  {
   "cell_type": "markdown",
   "metadata": {},
   "source": [
    "chr8:127184400-130337400 = 4386 <br>\n",
    "chr6:134923800-135476900 = 533 <br>\n",
    "Presumably these are tiling screens (and after merging adjacent regions), the majority of the locus is targeted."
   ]
  },
  {
   "cell_type": "code",
   "execution_count": 45,
   "metadata": {},
   "outputs": [
    {
     "data": {
      "text/plain": [
       "array([<matplotlib.axes._subplots.AxesSubplot object at 0x2aea67384550>,\n",
       "       <matplotlib.axes._subplots.AxesSubplot object at 0x2aea673af8d0>],\n",
       "      dtype=object)"
      ]
     },
     "execution_count": 45,
     "metadata": {},
     "output_type": "execute_result"
    },
    {
     "data": {
      "text/plain": [
       "<Figure size 720x360 with 0 Axes>"
      ]
     },
     "metadata": {},
     "output_type": "display_data"
    },
    {
     "data": {
      "image/png": "[encoded data removed]",
      "text/plain": [
       "<Figure size 432x288 with 2 Axes>"
      ]
     },
     "metadata": {
      "needs_background": "light"
     },
     "output_type": "display_data"
    }
   ],
   "source": [
    "fig = plt.figure(figsize = (10, 5))\n",
    " \n",
    "# creating the bar plot\n",
    "plotdf['cCRE_count'].hist(by=plotdf['region_type'], edgecolor='black') "
   ]
  },
  {
   "cell_type": "code",
   "execution_count": 49,
   "metadata": {},
   "outputs": [
    {
     "data": {
      "text/html": [
       "<div>\n",
       "<style scoped>\n",
       "    .dataframe tbody tr th:only-of-type {\n",
       "        vertical-align: middle;\n",
       "    }\n",
       "\n",
       "    .dataframe tbody tr th {\n",
       "        vertical-align: top;\n",
       "    }\n",
       "\n",
       "    .dataframe thead th {\n",
       "        text-align: right;\n",
       "    }\n",
       "</style>\n",
       "<table border=\"1\" class=\"dataframe\">\n",
       "  <thead>\n",
       "    <tr style=\"text-align: right;\">\n",
       "      <th></th>\n",
       "      <th>chr</th>\n",
       "      <th>start</th>\n",
       "      <th>end</th>\n",
       "      <th>cCRE_count</th>\n",
       "      <th>region_type</th>\n",
       "    </tr>\n",
       "  </thead>\n",
       "  <tbody>\n",
       "    <tr>\n",
       "      <td>0</td>\n",
       "      <td>chr2</td>\n",
       "      <td>46464400</td>\n",
       "      <td>46464900</td>\n",
       "      <td>1</td>\n",
       "      <td>perturbed</td>\n",
       "    </tr>\n",
       "    <tr>\n",
       "      <td>1</td>\n",
       "      <td>chr2</td>\n",
       "      <td>46499600</td>\n",
       "      <td>46500700</td>\n",
       "      <td>3</td>\n",
       "      <td>perturbed</td>\n",
       "    </tr>\n",
       "    <tr>\n",
       "      <td>2</td>\n",
       "      <td>chr2</td>\n",
       "      <td>46541500</td>\n",
       "      <td>46542900</td>\n",
       "      <td>4</td>\n",
       "      <td>perturbed</td>\n",
       "    </tr>\n",
       "    <tr>\n",
       "      <td>3</td>\n",
       "      <td>chr2</td>\n",
       "      <td>46543000</td>\n",
       "      <td>46544500</td>\n",
       "      <td>5</td>\n",
       "      <td>perturbed</td>\n",
       "    </tr>\n",
       "    <tr>\n",
       "      <td>4</td>\n",
       "      <td>chr2</td>\n",
       "      <td>46554900</td>\n",
       "      <td>46555600</td>\n",
       "      <td>1</td>\n",
       "      <td>perturbed</td>\n",
       "    </tr>\n",
       "  </tbody>\n",
       "</table>\n",
       "</div>"
      ],
      "text/plain": [
       "    chr     start       end  cCRE_count region_type\n",
       "0  chr2  46464400  46464900           1   perturbed\n",
       "1  chr2  46499600  46500700           3   perturbed\n",
       "2  chr2  46541500  46542900           4   perturbed\n",
       "3  chr2  46543000  46544500           5   perturbed\n",
       "4  chr2  46554900  46555600           1   perturbed"
      ]
     },
     "execution_count": 49,
     "metadata": {},
     "output_type": "execute_result"
    }
   ],
   "source": [
    "plotdf_sub = plotdf.loc[(plotdf[\"cCRE_count\"] < 100)]\n",
    "plotdf_sub.head()"
   ]
  },
  {
   "cell_type": "code",
   "execution_count": 50,
   "metadata": {},
   "outputs": [
    {
     "data": {
      "text/html": [
       "<div>\n",
       "<style scoped>\n",
       "    .dataframe tbody tr th:only-of-type {\n",
       "        vertical-align: middle;\n",
       "    }\n",
       "\n",
       "    .dataframe tbody tr th {\n",
       "        vertical-align: top;\n",
       "    }\n",
       "\n",
       "    .dataframe thead tr th {\n",
       "        text-align: left;\n",
       "    }\n",
       "\n",
       "    .dataframe thead tr:last-of-type th {\n",
       "        text-align: right;\n",
       "    }\n",
       "</style>\n",
       "<table border=\"1\" class=\"dataframe\">\n",
       "  <thead>\n",
       "    <tr>\n",
       "      <th></th>\n",
       "      <th colspan=\"8\" halign=\"left\">cCRE_count</th>\n",
       "    </tr>\n",
       "    <tr>\n",
       "      <th></th>\n",
       "      <th>count</th>\n",
       "      <th>mean</th>\n",
       "      <th>std</th>\n",
       "      <th>min</th>\n",
       "      <th>25%</th>\n",
       "      <th>50%</th>\n",
       "      <th>75%</th>\n",
       "      <th>max</th>\n",
       "    </tr>\n",
       "    <tr>\n",
       "      <th>region_type</th>\n",
       "      <th></th>\n",
       "      <th></th>\n",
       "      <th></th>\n",
       "      <th></th>\n",
       "      <th></th>\n",
       "      <th></th>\n",
       "      <th></th>\n",
       "      <th></th>\n",
       "    </tr>\n",
       "  </thead>\n",
       "  <tbody>\n",
       "    <tr>\n",
       "      <td>perturbed</td>\n",
       "      <td>3057.0</td>\n",
       "      <td>3.666994</td>\n",
       "      <td>5.574607</td>\n",
       "      <td>0.0</td>\n",
       "      <td>1.0</td>\n",
       "      <td>2.0</td>\n",
       "      <td>4.0</td>\n",
       "      <td>82.0</td>\n",
       "    </tr>\n",
       "    <tr>\n",
       "      <td>significant</td>\n",
       "      <td>865.0</td>\n",
       "      <td>3.285549</td>\n",
       "      <td>3.209230</td>\n",
       "      <td>0.0</td>\n",
       "      <td>2.0</td>\n",
       "      <td>3.0</td>\n",
       "      <td>4.0</td>\n",
       "      <td>32.0</td>\n",
       "    </tr>\n",
       "  </tbody>\n",
       "</table>\n",
       "</div>"
      ],
      "text/plain": [
       "            cCRE_count                                              \n",
       "                 count      mean       std  min  25%  50%  75%   max\n",
       "region_type                                                         \n",
       "perturbed       3057.0  3.666994  5.574607  0.0  1.0  2.0  4.0  82.0\n",
       "significant      865.0  3.285549  3.209230  0.0  2.0  3.0  4.0  32.0"
      ]
     },
     "execution_count": 50,
     "metadata": {},
     "output_type": "execute_result"
    }
   ],
   "source": [
    "plotdf_sub[[\"cCRE_count\",\"region_type\"]].groupby('region_type').describe()"
   ]
  },
  {
   "cell_type": "code",
   "execution_count": 51,
   "metadata": {},
   "outputs": [
    {
     "data": {
      "text/plain": [
       "array([<matplotlib.axes._subplots.AxesSubplot object at 0x2aea67508be0>,\n",
       "       <matplotlib.axes._subplots.AxesSubplot object at 0x2aea6757b940>],\n",
       "      dtype=object)"
      ]
     },
     "execution_count": 51,
     "metadata": {},
     "output_type": "execute_result"
    },
    {
     "data": {
      "text/plain": [
       "<Figure size 720x360 with 0 Axes>"
      ]
     },
     "metadata": {},
     "output_type": "display_data"
    },
    {
     "data": {
      "image/png": "[encoded data removed]",
      "text/plain": [
       "<Figure size 432x288 with 2 Axes>"
      ]
     },
     "metadata": {
      "needs_background": "light"
     },
     "output_type": "display_data"
    }
   ],
   "source": [
    "fig = plt.figure(figsize = (10, 5))\n",
    " \n",
    "# creating the bar plot\n",
    "plotdf_sub['cCRE_count'].hist(by=plotdf_sub['region_type'], edgecolor='black') "
   ]
  },
  {
   "cell_type": "markdown",
   "metadata": {},
   "source": [
    "### Intersect with union DHSs\n",
    "\n",
    "File downloaded 2022-04-30 from UCSC table browser. <br>\n",
    "Notebook to prepare bed file: `20220430.encode.Figure1MetaAnalysis.AnnotationFiles.LRB`"
   ]
  },
  {
   "cell_type": "code",
   "execution_count": 52,
   "metadata": {},
   "outputs": [],
   "source": [
    "# %%bash\n",
    "# cd /data/gersbachlab/lrb53/encodeCrisprWG/figure1meta/annotations\n",
    "# gunzip wgEncodeRegDnaseClustered.full.bed.hg38.bed.gz\n",
    "# wc -l wgEncodeRegDnaseClustered.full.bed.hg38.bed\n",
    "# gzip wgEncodeRegDnaseClustered.full.bed.hg38.bed"
   ]
  },
  {
   "cell_type": "code",
   "execution_count": 53,
   "metadata": {},
   "outputs": [
    {
     "name": "stdout",
     "output_type": "stream",
     "text": [
      "13713\n"
     ]
    }
   ],
   "source": [
    "%%bash\n",
    "module load bedtools2\n",
    "\n",
    "bedtools intersect \\\n",
    "-b /data/gersbachlab/lrb53/encodeCrisprWG/finalversion/figure1/allmeta/elementReference/combined/binnedgenome.int.elementReference.20230411.merge.bed \\\n",
    "-a /data/gersbachlab/lrb53/encodeCrisprWG/finalversion/annotations/wgEncodeRegDnaseClustered.full.bed.hg38.bed.gz \\\n",
    "-wa -u | wc -l"
   ]
  },
  {
   "cell_type": "code",
   "execution_count": 54,
   "metadata": {},
   "outputs": [
    {
     "name": "stdout",
     "output_type": "stream",
     "text": [
      "2072\n"
     ]
    }
   ],
   "source": [
    "%%bash\n",
    "module load bedtools2\n",
    "\n",
    "bedtools intersect \\\n",
    "-b /data/gersbachlab/lrb53/encodeCrisprWG/finalversion/figure1/allmeta/elementQuant/combined/binnedgenome.int.elementQuant.20230411.merge.bed \\\n",
    "-a /data/gersbachlab/lrb53/encodeCrisprWG/finalversion/annotations/wgEncodeRegDnaseClustered.full.bed.hg38.bed.gz \\\n",
    "-wa -u | wc -l"
   ]
  },
  {
   "cell_type": "code",
   "execution_count": 55,
   "metadata": {},
   "outputs": [
    {
     "data": {
      "text/plain": [
       "0.6488685611754869"
      ]
     },
     "execution_count": 55,
     "metadata": {},
     "output_type": "execute_result"
    }
   ],
   "source": [
    "13713/2113371*100"
   ]
  },
  {
   "cell_type": "code",
   "execution_count": 56,
   "metadata": {},
   "outputs": [
    {
     "data": {
      "text/plain": [
       "15.109749872383867"
      ]
     },
     "execution_count": 56,
     "metadata": {},
     "output_type": "execute_result"
    }
   ],
   "source": [
    "2072/13713*100"
   ]
  },
  {
   "cell_type": "code",
   "execution_count": null,
   "metadata": {},
   "outputs": [],
   "source": []
  },
  {
   "cell_type": "code",
   "execution_count": null,
   "metadata": {},
   "outputs": [],
   "source": []
  }
 ],
 "metadata": {
  "kernelspec": {
   "display_name": "Python 3",
   "language": "python",
   "name": "python3"
  },
  "language_info": {
   "codemirror_mode": {
    "name": "ipython",
    "version": 3
   },
   "file_extension": ".py",
   "mimetype": "text/x-python",
   "name": "python",
   "nbconvert_exporter": "python",
   "pygments_lexer": "ipython3",
   "version": "3.6.7"
  }
 },
 "nbformat": 4,
 "nbformat_minor": 2
}
